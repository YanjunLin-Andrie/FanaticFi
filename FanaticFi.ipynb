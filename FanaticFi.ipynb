{
 "cells": [
  {
   "cell_type": "code",
   "execution_count": 222,
   "id": "ebeda3f2-62bf-4113-91c7-f724be40f8cc",
   "metadata": {},
   "outputs": [],
   "source": [
    "# Import necessary libraries and dependencies\n",
    "import pandas as pd\n",
    "from pathlib import Path\n",
    "import hvplot.pandas\n",
    "import seaborn as sns\n",
    "import plotly.express as px"
   ]
  },
  {
   "cell_type": "code",
   "execution_count": 79,
   "id": "a352665c-8bc7-42fe-b776-6e73cfa2b977",
   "metadata": {},
   "outputs": [],
   "source": [
    "# # Using the read_csv function and Path module, create a DataFrame by importing the draft-data-20-years.csv file\n",
    "draft_df = pd.read_csv(Path('./draft-data-20-years.csv'),\n",
    "                       index_col = 'DraftYear', \n",
    "                       parse_dates=False, \n",
    "                       infer_datetime_format=True\n",
    ")"
   ]
  },
  {
   "cell_type": "code",
   "execution_count": 80,
   "id": "49fe472d-08ef-4d8c-95a7-74e6ae93471f",
   "metadata": {},
   "outputs": [
    {
     "data": {
      "text/html": [
       "<div>\n",
       "<style scoped>\n",
       "    .dataframe tbody tr th:only-of-type {\n",
       "        vertical-align: middle;\n",
       "    }\n",
       "\n",
       "    .dataframe tbody tr th {\n",
       "        vertical-align: top;\n",
       "    }\n",
       "\n",
       "    .dataframe thead th {\n",
       "        text-align: right;\n",
       "    }\n",
       "</style>\n",
       "<table border=\"1\" class=\"dataframe\">\n",
       "  <thead>\n",
       "    <tr style=\"text-align: right;\">\n",
       "      <th></th>\n",
       "      <th>Unnamed: 0</th>\n",
       "      <th>DraftYr</th>\n",
       "      <th>Rk</th>\n",
       "      <th>Pk</th>\n",
       "      <th>Tm</th>\n",
       "      <th>Player</th>\n",
       "      <th>College</th>\n",
       "      <th>Contract Worth</th>\n",
       "      <th>Yrs</th>\n",
       "      <th>G</th>\n",
       "      <th>...</th>\n",
       "      <th>FT%</th>\n",
       "      <th>WS</th>\n",
       "      <th>WS/48</th>\n",
       "      <th>BPM</th>\n",
       "      <th>VORP</th>\n",
       "      <th>MPG</th>\n",
       "      <th>PPG</th>\n",
       "      <th>RPG</th>\n",
       "      <th>APG</th>\n",
       "      <th>playerurl</th>\n",
       "    </tr>\n",
       "    <tr>\n",
       "      <th>DraftYear</th>\n",
       "      <th></th>\n",
       "      <th></th>\n",
       "      <th></th>\n",
       "      <th></th>\n",
       "      <th></th>\n",
       "      <th></th>\n",
       "      <th></th>\n",
       "      <th></th>\n",
       "      <th></th>\n",
       "      <th></th>\n",
       "      <th></th>\n",
       "      <th></th>\n",
       "      <th></th>\n",
       "      <th></th>\n",
       "      <th></th>\n",
       "      <th></th>\n",
       "      <th></th>\n",
       "      <th></th>\n",
       "      <th></th>\n",
       "      <th></th>\n",
       "      <th></th>\n",
       "    </tr>\n",
       "  </thead>\n",
       "  <tbody>\n",
       "    <tr>\n",
       "      <th>1990</th>\n",
       "      <td>1</td>\n",
       "      <td>1990</td>\n",
       "      <td>1</td>\n",
       "      <td>1</td>\n",
       "      <td>BRK</td>\n",
       "      <td>Derrick Coleman</td>\n",
       "      <td>Syracuse</td>\n",
       "      <td>NaN</td>\n",
       "      <td>15.0</td>\n",
       "      <td>781.0</td>\n",
       "      <td>...</td>\n",
       "      <td>0.769</td>\n",
       "      <td>64.3</td>\n",
       "      <td>0.119</td>\n",
       "      <td>1.4</td>\n",
       "      <td>22.3</td>\n",
       "      <td>33.2</td>\n",
       "      <td>16.5</td>\n",
       "      <td>9.3</td>\n",
       "      <td>2.5</td>\n",
       "      <td>https://www.sports-reference.com/cbb/players/d...</td>\n",
       "    </tr>\n",
       "    <tr>\n",
       "      <th>1990</th>\n",
       "      <td>2</td>\n",
       "      <td>1990</td>\n",
       "      <td>2</td>\n",
       "      <td>2</td>\n",
       "      <td>OKC</td>\n",
       "      <td>Gary Payton</td>\n",
       "      <td>Oregon State</td>\n",
       "      <td>NaN</td>\n",
       "      <td>17.0</td>\n",
       "      <td>1335.0</td>\n",
       "      <td>...</td>\n",
       "      <td>0.729</td>\n",
       "      <td>145.5</td>\n",
       "      <td>0.148</td>\n",
       "      <td>3.3</td>\n",
       "      <td>62.5</td>\n",
       "      <td>35.3</td>\n",
       "      <td>16.3</td>\n",
       "      <td>3.9</td>\n",
       "      <td>6.7</td>\n",
       "      <td>https://www.sports-reference.com/cbb/players/g...</td>\n",
       "    </tr>\n",
       "    <tr>\n",
       "      <th>1990</th>\n",
       "      <td>3</td>\n",
       "      <td>1990</td>\n",
       "      <td>3</td>\n",
       "      <td>3</td>\n",
       "      <td>DEN</td>\n",
       "      <td>Mahmoud Abdul-Rauf</td>\n",
       "      <td>LSU</td>\n",
       "      <td>NaN</td>\n",
       "      <td>9.0</td>\n",
       "      <td>586.0</td>\n",
       "      <td>...</td>\n",
       "      <td>0.905</td>\n",
       "      <td>25.2</td>\n",
       "      <td>0.077</td>\n",
       "      <td>-0.8</td>\n",
       "      <td>4.5</td>\n",
       "      <td>26.7</td>\n",
       "      <td>14.6</td>\n",
       "      <td>1.9</td>\n",
       "      <td>3.5</td>\n",
       "      <td>https://www.sports-reference.com/cbb/players/m...</td>\n",
       "    </tr>\n",
       "    <tr>\n",
       "      <th>1990</th>\n",
       "      <td>4</td>\n",
       "      <td>1990</td>\n",
       "      <td>4</td>\n",
       "      <td>4</td>\n",
       "      <td>ORL</td>\n",
       "      <td>Dennis Scott</td>\n",
       "      <td>Georgia Tech</td>\n",
       "      <td>NaN</td>\n",
       "      <td>10.0</td>\n",
       "      <td>629.0</td>\n",
       "      <td>...</td>\n",
       "      <td>0.793</td>\n",
       "      <td>33.4</td>\n",
       "      <td>0.089</td>\n",
       "      <td>0.2</td>\n",
       "      <td>9.9</td>\n",
       "      <td>28.6</td>\n",
       "      <td>12.9</td>\n",
       "      <td>2.8</td>\n",
       "      <td>2.1</td>\n",
       "      <td>https://www.sports-reference.com/cbb/players/d...</td>\n",
       "    </tr>\n",
       "    <tr>\n",
       "      <th>1990</th>\n",
       "      <td>5</td>\n",
       "      <td>1990</td>\n",
       "      <td>5</td>\n",
       "      <td>5</td>\n",
       "      <td>CHA</td>\n",
       "      <td>Kendall Gill</td>\n",
       "      <td>Illinois</td>\n",
       "      <td>NaN</td>\n",
       "      <td>15.0</td>\n",
       "      <td>966.0</td>\n",
       "      <td>...</td>\n",
       "      <td>0.754</td>\n",
       "      <td>47.8</td>\n",
       "      <td>0.078</td>\n",
       "      <td>0.1</td>\n",
       "      <td>15.8</td>\n",
       "      <td>30.5</td>\n",
       "      <td>13.4</td>\n",
       "      <td>4.1</td>\n",
       "      <td>3.0</td>\n",
       "      <td>https://www.sports-reference.com/cbb/players/k...</td>\n",
       "    </tr>\n",
       "  </tbody>\n",
       "</table>\n",
       "<p>5 rows × 26 columns</p>\n",
       "</div>"
      ],
      "text/plain": [
       "           Unnamed: 0  DraftYr  Rk  Pk   Tm              Player       College  \\\n",
       "DraftYear                                                                       \n",
       "1990                1     1990   1   1  BRK     Derrick Coleman      Syracuse   \n",
       "1990                2     1990   2   2  OKC         Gary Payton  Oregon State   \n",
       "1990                3     1990   3   3  DEN  Mahmoud Abdul-Rauf           LSU   \n",
       "1990                4     1990   4   4  ORL        Dennis Scott  Georgia Tech   \n",
       "1990                5     1990   5   5  CHA        Kendall Gill      Illinois   \n",
       "\n",
       "           Contract Worth   Yrs       G  ...    FT%     WS  WS/48  BPM  VORP  \\\n",
       "DraftYear                                ...                                   \n",
       "1990                  NaN  15.0   781.0  ...  0.769   64.3  0.119  1.4  22.3   \n",
       "1990                  NaN  17.0  1335.0  ...  0.729  145.5  0.148  3.3  62.5   \n",
       "1990                  NaN   9.0   586.0  ...  0.905   25.2  0.077 -0.8   4.5   \n",
       "1990                  NaN  10.0   629.0  ...  0.793   33.4  0.089  0.2   9.9   \n",
       "1990                  NaN  15.0   966.0  ...  0.754   47.8  0.078  0.1  15.8   \n",
       "\n",
       "            MPG   PPG  RPG  APG  \\\n",
       "DraftYear                         \n",
       "1990       33.2  16.5  9.3  2.5   \n",
       "1990       35.3  16.3  3.9  6.7   \n",
       "1990       26.7  14.6  1.9  3.5   \n",
       "1990       28.6  12.9  2.8  2.1   \n",
       "1990       30.5  13.4  4.1  3.0   \n",
       "\n",
       "                                                   playerurl  \n",
       "DraftYear                                                     \n",
       "1990       https://www.sports-reference.com/cbb/players/d...  \n",
       "1990       https://www.sports-reference.com/cbb/players/g...  \n",
       "1990       https://www.sports-reference.com/cbb/players/m...  \n",
       "1990       https://www.sports-reference.com/cbb/players/d...  \n",
       "1990       https://www.sports-reference.com/cbb/players/k...  \n",
       "\n",
       "[5 rows x 26 columns]"
      ]
     },
     "execution_count": 80,
     "metadata": {},
     "output_type": "execute_result"
    }
   ],
   "source": [
    "# Review the dataframe\n",
    "draft_df.head()"
   ]
  },
  {
   "cell_type": "code",
   "execution_count": 145,
   "id": "0cc0be4c-c561-4246-8535-f810215c2224",
   "metadata": {},
   "outputs": [],
   "source": [
    "# Selecting columns from the dataframe for analysis\n",
    "draft_df = draft_df[['Pk','Tm','Player','College','DraftYr','MPG','PPG', 'RPG', 'APG','FG%', '3P%','FT%', 'Contract Worth']]"
   ]
  },
  {
   "cell_type": "code",
   "execution_count": 146,
   "id": "7a16617d-0883-4757-90de-6434dd78db6a",
   "metadata": {},
   "outputs": [],
   "source": [
    "# Filter dataframe to get most recent 5 years data\n",
    "last_5_yrs_draft_df = draft_df.loc[draft_df['DraftYr'] >= 2017]"
   ]
  },
  {
   "cell_type": "code",
   "execution_count": 147,
   "id": "96ea12aa-e2ba-4898-81c0-5b6679780b0f",
   "metadata": {},
   "outputs": [],
   "source": [
    "# Limit data on 1st round picks\n",
    "last_5_yrs_1_rnd_draft_df = last_5_yrs_draft_df.loc[last_5_yrs_draft_df['Pk'] <=30]"
   ]
  },
  {
   "cell_type": "code",
   "execution_count": 148,
   "id": "408aea66-d97c-436f-9233-0e69875199bd",
   "metadata": {},
   "outputs": [],
   "source": [
    "# Creating a 'school' dataframe by selecting 'Pk' and 'College' columns\n",
    "school = last_5_yrs_1_rnd_draft_df[['Pk','College']]"
   ]
  },
  {
   "cell_type": "code",
   "execution_count": 149,
   "id": "472d8a76-e5ef-4976-94eb-419227fa1fe6",
   "metadata": {},
   "outputs": [
    {
     "data": {
      "text/html": [
       "<div>\n",
       "<style scoped>\n",
       "    .dataframe tbody tr th:only-of-type {\n",
       "        vertical-align: middle;\n",
       "    }\n",
       "\n",
       "    .dataframe tbody tr th {\n",
       "        vertical-align: top;\n",
       "    }\n",
       "\n",
       "    .dataframe thead th {\n",
       "        text-align: right;\n",
       "    }\n",
       "</style>\n",
       "<table border=\"1\" class=\"dataframe\">\n",
       "  <thead>\n",
       "    <tr style=\"text-align: right;\">\n",
       "      <th></th>\n",
       "      <th>Pk</th>\n",
       "      <th>College</th>\n",
       "    </tr>\n",
       "    <tr>\n",
       "      <th>DraftYear</th>\n",
       "      <th></th>\n",
       "      <th></th>\n",
       "    </tr>\n",
       "  </thead>\n",
       "  <tbody>\n",
       "    <tr>\n",
       "      <th>2017</th>\n",
       "      <td>1</td>\n",
       "      <td>Washington</td>\n",
       "    </tr>\n",
       "    <tr>\n",
       "      <th>2017</th>\n",
       "      <td>2</td>\n",
       "      <td>UCLA</td>\n",
       "    </tr>\n",
       "    <tr>\n",
       "      <th>2017</th>\n",
       "      <td>3</td>\n",
       "      <td>Duke</td>\n",
       "    </tr>\n",
       "    <tr>\n",
       "      <th>2017</th>\n",
       "      <td>4</td>\n",
       "      <td>Kansas</td>\n",
       "    </tr>\n",
       "    <tr>\n",
       "      <th>2017</th>\n",
       "      <td>5</td>\n",
       "      <td>Kentucky</td>\n",
       "    </tr>\n",
       "  </tbody>\n",
       "</table>\n",
       "</div>"
      ],
      "text/plain": [
       "           Pk     College\n",
       "DraftYear                \n",
       "2017        1  Washington\n",
       "2017        2        UCLA\n",
       "2017        3        Duke\n",
       "2017        4      Kansas\n",
       "2017        5    Kentucky"
      ]
     },
     "execution_count": 149,
     "metadata": {},
     "output_type": "execute_result"
    }
   ],
   "source": [
    "# Review school dataframe\n",
    "school.head()"
   ]
  },
  {
   "cell_type": "code",
   "execution_count": 150,
   "id": "1ed053ca-78cf-41d2-b205-26bf3e160ba6",
   "metadata": {},
   "outputs": [
    {
     "data": {
      "text/html": [
       "<div>\n",
       "<style scoped>\n",
       "    .dataframe tbody tr th:only-of-type {\n",
       "        vertical-align: middle;\n",
       "    }\n",
       "\n",
       "    .dataframe tbody tr th {\n",
       "        vertical-align: top;\n",
       "    }\n",
       "\n",
       "    .dataframe thead th {\n",
       "        text-align: right;\n",
       "    }\n",
       "</style>\n",
       "<table border=\"1\" class=\"dataframe\">\n",
       "  <thead>\n",
       "    <tr style=\"text-align: right;\">\n",
       "      <th></th>\n",
       "      <th>Picks</th>\n",
       "    </tr>\n",
       "    <tr>\n",
       "      <th>College</th>\n",
       "      <th></th>\n",
       "    </tr>\n",
       "  </thead>\n",
       "  <tbody>\n",
       "    <tr>\n",
       "      <th>Kentucky</th>\n",
       "      <td>11</td>\n",
       "    </tr>\n",
       "    <tr>\n",
       "      <th>Duke</th>\n",
       "      <td>10</td>\n",
       "    </tr>\n",
       "    <tr>\n",
       "      <th>UNC</th>\n",
       "      <td>7</td>\n",
       "    </tr>\n",
       "    <tr>\n",
       "      <th>Florida State</th>\n",
       "      <td>5</td>\n",
       "    </tr>\n",
       "    <tr>\n",
       "      <th>Villanova</th>\n",
       "      <td>5</td>\n",
       "    </tr>\n",
       "  </tbody>\n",
       "</table>\n",
       "</div>"
      ],
      "text/plain": [
       "               Picks\n",
       "College             \n",
       "Kentucky          11\n",
       "Duke              10\n",
       "UNC                7\n",
       "Florida State      5\n",
       "Villanova          5"
      ]
     },
     "execution_count": 150,
     "metadata": {},
     "output_type": "execute_result"
    }
   ],
   "source": [
    "# Create a school_rookie_count series by selecting the 'College' column and counting how many times each school has appeared in the school dataframe\n",
    "school_rookie_count = school[['College']].value_counts(sort=True, ascending=False)\n",
    "# Change the series to dataframe and name the values 'Picks'(how many picks came from each school during 2017-2021)\n",
    "school_rookie_count_df = school_rookie_count.to_frame(name='Picks')\n",
    "# Review the school_rookie_count_df dataframe\n",
    "school_rookie_count_df.head()"
   ]
  },
  {
   "cell_type": "code",
   "execution_count": 151,
   "id": "50af2507-aed0-47db-9d77-2fb6efbc6a34",
   "metadata": {},
   "outputs": [
    {
     "data": {},
     "metadata": {},
     "output_type": "display_data"
    },
    {
     "data": {
      "application/vnd.holoviews_exec.v0+json": "",
      "text/html": [
       "<div id='5884'>\n",
       "\n",
       "\n",
       "\n",
       "\n",
       "\n",
       "  <div class=\"bk-root\" id=\"c57e4058-9b33-4b95-b2c7-e368e7c966f8\" data-root-id=\"5884\"></div>\n",
       "</div>\n",
       "<script type=\"application/javascript\">(function(root) {\n",
       "  function embed_document(root) {\n",
       "    var docs_json = {\"285f1c73-9a63-47ed-b4a0-a6dbf134faf5\":{\"defs\":[{\"extends\":null,\"module\":null,\"name\":\"ReactiveHTML1\",\"overrides\":[],\"properties\":[]},{\"extends\":null,\"module\":null,\"name\":\"FlexBox1\",\"overrides\":[],\"properties\":[{\"default\":\"flex-start\",\"kind\":null,\"name\":\"align_content\"},{\"default\":\"flex-start\",\"kind\":null,\"name\":\"align_items\"},{\"default\":\"row\",\"kind\":null,\"name\":\"flex_direction\"},{\"default\":\"wrap\",\"kind\":null,\"name\":\"flex_wrap\"},{\"default\":\"flex-start\",\"kind\":null,\"name\":\"justify_content\"}]},{\"extends\":null,\"module\":null,\"name\":\"TemplateActions1\",\"overrides\":[],\"properties\":[{\"default\":0,\"kind\":null,\"name\":\"open_modal\"},{\"default\":0,\"kind\":null,\"name\":\"close_modal\"}]},{\"extends\":null,\"module\":null,\"name\":\"MaterialTemplateActions1\",\"overrides\":[],\"properties\":[{\"default\":0,\"kind\":null,\"name\":\"open_modal\"},{\"default\":0,\"kind\":null,\"name\":\"close_modal\"}]}],\"roots\":{\"references\":[{\"attributes\":{\"data\":{\"College\":[\"Kentucky\",\"Duke\",\"UNC\",\"Florida State\",\"Villanova\",\"Gonzaga\",\"Michigan\",\"Washington\",\"Texas\",\"Arizona\",\"Virginia\",\"USC\",\"UCLA\",\"Tennessee\",\"Oregon\",\"Alabama\",\"Memphis\",\"Michigan State\",\"Indiana\",\"Kansas\",\"Texas Tech\",\"Auburn\",\"Vanderbilt\",\"Maryland\",\"Cincinnati\",\"Boston College\",\"Texas A&M\",\"Boise State\",\"UConn\",\"Belmont\",\"Georgia\",\"Baylor\",\"Utah\",\"Syracuse\",\"VCU\",\"Arkansas\",\"Virginia Tech\",\"Wake Forest\",\"Arizona State\",\"TCU\",\"Purdue\",\"Stanford\",\"Miami (FL)\",\"Florida\",\"Houston\",\"Iowa State\",\"Dayton\",\"LSU\",\"Louisville\",\"Loyola (MD)\",\"Creighton\",\"San Diego State\",\"Missouri\",\"Murray State\",\"NC State\",\"Oklahoma\",\"Oklahoma State\",\"Colorado\",\"Georgia Tech\",\"Wichita State\"],\"Picks\":[11,10,7,5,5,5,4,4,4,4,3,3,3,3,3,3,2,2,2,2,2,2,2,2,1,1,1,1,1,1,1,1,1,1,1,1,1,1,1,1,1,1,1,1,1,1,1,1,1,1,1,1,1,1,1,1,1,1,1,1]},\"selected\":{\"id\":\"5919\"},\"selection_policy\":{\"id\":\"5941\"}},\"id\":\"5918\",\"type\":\"ColumnDataSource\"},{\"attributes\":{\"fill_alpha\":{\"value\":0.2},\"fill_color\":{\"value\":\"#30a2da\"},\"hatch_alpha\":{\"value\":0.2},\"hatch_color\":{\"value\":\"#30a2da\"},\"line_alpha\":{\"value\":0.2},\"top\":{\"field\":\"Picks\"},\"width\":{\"value\":0.8},\"x\":{\"field\":\"College\"}},\"id\":\"5924\",\"type\":\"VBar\"},{\"attributes\":{\"callback\":null,\"renderers\":[{\"id\":\"5925\"}],\"tags\":[\"hv_created\"],\"tooltips\":[[\"College\",\"@{College}\"],[\"Picks\",\"@{Picks}\"]]},\"id\":\"5888\",\"type\":\"HoverTool\"},{\"attributes\":{},\"id\":\"5902\",\"type\":\"BasicTicker\"},{\"attributes\":{\"bottom_units\":\"screen\",\"coordinates\":null,\"fill_alpha\":0.5,\"fill_color\":\"lightgrey\",\"group\":null,\"left_units\":\"screen\",\"level\":\"overlay\",\"line_alpha\":1.0,\"line_color\":\"black\",\"line_dash\":[4,4],\"line_width\":2,\"right_units\":\"screen\",\"syncable\":false,\"top_units\":\"screen\"},\"id\":\"5910\",\"type\":\"BoxAnnotation\"},{\"attributes\":{},\"id\":\"5932\",\"type\":\"BasicTickFormatter\"},{\"attributes\":{\"axis\":{\"id\":\"5898\"},\"coordinates\":null,\"grid_line_color\":null,\"group\":null,\"ticker\":null},\"id\":\"5900\",\"type\":\"Grid\"},{\"attributes\":{\"bottom\":{\"value\":0},\"fill_alpha\":{\"value\":1.0},\"fill_color\":{\"value\":\"#30a2da\"},\"hatch_alpha\":{\"value\":1.0},\"hatch_color\":{\"value\":\"#30a2da\"},\"hatch_scale\":{\"value\":12.0},\"hatch_weight\":{\"value\":1.0},\"line_alpha\":{\"value\":1.0},\"line_cap\":{\"value\":\"butt\"},\"line_color\":{\"value\":\"black\"},\"line_dash\":{\"value\":[]},\"line_dash_offset\":{\"value\":0},\"line_join\":{\"value\":\"bevel\"},\"line_width\":{\"value\":1},\"top\":{\"field\":\"Picks\"},\"width\":{\"value\":0.8},\"x\":{\"field\":\"College\"}},\"id\":\"5927\",\"type\":\"VBar\"},{\"attributes\":{\"fill_color\":{\"value\":\"#30a2da\"},\"hatch_color\":{\"value\":\"#30a2da\"},\"top\":{\"field\":\"Picks\"},\"width\":{\"value\":0.8},\"x\":{\"field\":\"College\"}},\"id\":\"5921\",\"type\":\"VBar\"},{\"attributes\":{\"fill_color\":{\"value\":\"orange\"},\"hatch_color\":{\"value\":\"orange\"},\"line_color\":{\"value\":\"orange\"},\"top\":{\"field\":\"Picks\"},\"width\":{\"value\":0.8},\"x\":{\"field\":\"College\"}},\"id\":\"5923\",\"type\":\"VBar\"},{\"attributes\":{\"factors\":[\"Kentucky\",\"Duke\",\"UNC\",\"Florida State\",\"Villanova\",\"Gonzaga\",\"Michigan\",\"Washington\",\"Texas\",\"Arizona\",\"Virginia\",\"USC\",\"UCLA\",\"Tennessee\",\"Oregon\",\"Alabama\",\"Memphis\",\"Michigan State\",\"Indiana\",\"Kansas\",\"Texas Tech\",\"Auburn\",\"Vanderbilt\",\"Maryland\",\"Cincinnati\",\"Boston College\",\"Texas A&M\",\"Boise State\",\"UConn\",\"Belmont\",\"Georgia\",\"Baylor\",\"Utah\",\"Syracuse\",\"VCU\",\"Arkansas\",\"Virginia Tech\",\"Wake Forest\",\"Arizona State\",\"TCU\",\"Purdue\",\"Stanford\",\"Miami (FL)\",\"Florida\",\"Houston\",\"Iowa State\",\"Dayton\",\"LSU\",\"Louisville\",\"Loyola (MD)\",\"Creighton\",\"San Diego State\",\"Missouri\",\"Murray State\",\"NC State\",\"Oklahoma\",\"Oklahoma State\",\"Colorado\",\"Georgia Tech\",\"Wichita State\"],\"tags\":[[[\"College\",\"College\",null]]]},\"id\":\"5886\",\"type\":\"FactorRange\"},{\"attributes\":{},\"id\":\"5896\",\"type\":\"LinearScale\"},{\"attributes\":{},\"id\":\"5907\",\"type\":\"WheelZoomTool\"},{\"attributes\":{\"overlay\":{\"id\":\"5910\"}},\"id\":\"5908\",\"type\":\"BoxZoomTool\"},{\"attributes\":{\"children\":[{\"id\":\"5885\"},{\"id\":\"5889\"},{\"id\":\"5954\"}],\"margin\":[0,0,0,0],\"name\":\"Row12082\",\"tags\":[\"embedded\"]},\"id\":\"5884\",\"type\":\"Row\"},{\"attributes\":{},\"id\":\"5899\",\"type\":\"CategoricalTicker\"},{\"attributes\":{\"axis_label\":\"College\",\"coordinates\":null,\"formatter\":{\"id\":\"5929\"},\"group\":null,\"major_label_orientation\":1.5707963267948966,\"major_label_policy\":{\"id\":\"5930\"},\"ticker\":{\"id\":\"5899\"}},\"id\":\"5898\",\"type\":\"CategoricalAxis\"},{\"attributes\":{\"axis\":{\"id\":\"5901\"},\"coordinates\":null,\"dimension\":1,\"grid_line_color\":null,\"group\":null,\"ticker\":null},\"id\":\"5904\",\"type\":\"Grid\"},{\"attributes\":{},\"id\":\"5933\",\"type\":\"AllLabels\"},{\"attributes\":{},\"id\":\"5919\",\"type\":\"Selection\"},{\"attributes\":{},\"id\":\"5930\",\"type\":\"AllLabels\"},{\"attributes\":{\"end\":12.0,\"reset_end\":12.0,\"reset_start\":0.0,\"tags\":[[[\"Picks\",\"Picks\",null]]]},\"id\":\"5887\",\"type\":\"Range1d\"},{\"attributes\":{\"axis_label\":\"Number of Picks\",\"coordinates\":null,\"formatter\":{\"id\":\"5932\"},\"group\":null,\"major_label_policy\":{\"id\":\"5933\"},\"ticker\":{\"id\":\"5902\"}},\"id\":\"5901\",\"type\":\"LinearAxis\"},{\"attributes\":{},\"id\":\"5905\",\"type\":\"SaveTool\"},{\"attributes\":{\"source\":{\"id\":\"5918\"}},\"id\":\"5926\",\"type\":\"CDSView\"},{\"attributes\":{},\"id\":\"5909\",\"type\":\"ResetTool\"},{\"attributes\":{\"coordinates\":null,\"data_source\":{\"id\":\"5918\"},\"glyph\":{\"id\":\"5921\"},\"group\":null,\"hover_glyph\":{\"id\":\"5923\"},\"muted_glyph\":{\"id\":\"5924\"},\"nonselection_glyph\":{\"id\":\"5922\"},\"selection_glyph\":{\"id\":\"5927\"},\"view\":{\"id\":\"5926\"}},\"id\":\"5925\",\"type\":\"GlyphRenderer\"},{\"attributes\":{\"coordinates\":null,\"group\":null,\"text\":\"Number Of NBA Picks From Each College 2017-2021\",\"text_color\":\"black\",\"text_font_size\":\"12pt\"},\"id\":\"5890\",\"type\":\"Title\"},{\"attributes\":{\"fill_alpha\":{\"value\":0.1},\"fill_color\":{\"value\":\"#30a2da\"},\"hatch_alpha\":{\"value\":0.1},\"hatch_color\":{\"value\":\"#30a2da\"},\"line_alpha\":{\"value\":0.1},\"top\":{\"field\":\"Picks\"},\"width\":{\"value\":0.8},\"x\":{\"field\":\"College\"}},\"id\":\"5922\",\"type\":\"VBar\"},{\"attributes\":{\"margin\":[5,5,5,5],\"name\":\"HSpacer12087\",\"sizing_mode\":\"stretch_width\"},\"id\":\"5954\",\"type\":\"Spacer\"},{\"attributes\":{\"below\":[{\"id\":\"5898\"}],\"center\":[{\"id\":\"5900\"},{\"id\":\"5904\"}],\"height\":300,\"left\":[{\"id\":\"5901\"}],\"margin\":[5,5,5,5],\"min_border_bottom\":10,\"min_border_left\":10,\"min_border_right\":10,\"min_border_top\":10,\"renderers\":[{\"id\":\"5925\"}],\"sizing_mode\":\"fixed\",\"title\":{\"id\":\"5890\"},\"toolbar\":{\"id\":\"5911\"},\"width\":700,\"x_range\":{\"id\":\"5886\"},\"x_scale\":{\"id\":\"5894\"},\"y_range\":{\"id\":\"5887\"},\"y_scale\":{\"id\":\"5896\"}},\"id\":\"5889\",\"subtype\":\"Figure\",\"type\":\"Plot\"},{\"attributes\":{},\"id\":\"5929\",\"type\":\"CategoricalTickFormatter\"},{\"attributes\":{\"margin\":[5,5,5,5],\"name\":\"HSpacer12086\",\"sizing_mode\":\"stretch_width\"},\"id\":\"5885\",\"type\":\"Spacer\"},{\"attributes\":{},\"id\":\"5906\",\"type\":\"PanTool\"},{\"attributes\":{},\"id\":\"5894\",\"type\":\"CategoricalScale\"},{\"attributes\":{},\"id\":\"5941\",\"type\":\"UnionRenderers\"},{\"attributes\":{\"tools\":[{\"id\":\"5888\"},{\"id\":\"5905\"},{\"id\":\"5906\"},{\"id\":\"5907\"},{\"id\":\"5908\"},{\"id\":\"5909\"}]},\"id\":\"5911\",\"type\":\"Toolbar\"}],\"root_ids\":[\"5884\"]},\"title\":\"Bokeh Application\",\"version\":\"2.4.2\"}};\n",
       "    var render_items = [{\"docid\":\"285f1c73-9a63-47ed-b4a0-a6dbf134faf5\",\"root_ids\":[\"5884\"],\"roots\":{\"5884\":\"c57e4058-9b33-4b95-b2c7-e368e7c966f8\"}}];\n",
       "    root.Bokeh.embed.embed_items_notebook(docs_json, render_items);\n",
       "  }\n",
       "  if (root.Bokeh !== undefined && root.Bokeh.Panel !== undefined) {\n",
       "    embed_document(root);\n",
       "  } else {\n",
       "    var attempts = 0;\n",
       "    var timer = setInterval(function(root) {\n",
       "      if (root.Bokeh !== undefined && root.Bokeh.Panel !== undefined) {\n",
       "        clearInterval(timer);\n",
       "        embed_document(root);\n",
       "      } else if (document.readyState == \"complete\") {\n",
       "        attempts++;\n",
       "        if (attempts > 200) {\n",
       "          clearInterval(timer);\n",
       "          console.log(\"Bokeh: ERROR: Unable to run BokehJS code because BokehJS library is missing\");\n",
       "        }\n",
       "      }\n",
       "    }, 25, root)\n",
       "  }\n",
       "})(window);</script>"
      ],
      "text/plain": [
       ":Bars   [College]   (Picks)"
      ]
     },
     "execution_count": 151,
     "metadata": {
      "application/vnd.holoviews_exec.v0+json": {
       "id": "5884"
      }
     },
     "output_type": "execute_result"
    }
   ],
   "source": [
    "# Use hvplot to create bar visualization of school_rookie_count_df dataframe\n",
    "school_rookie_count_df.hvplot.bar(\n",
    "        title = 'Number Of NBA Picks From Each College 2017-2021',\n",
    "        ylabel = 'Number of Picks',\n",
    "        rot = 90,\n",
    "        hover_color = 'orange'\n",
    ")"
   ]
  },
  {
   "cell_type": "code",
   "execution_count": 152,
   "id": "898678c7-852f-4c4e-9c70-fd9729345496",
   "metadata": {},
   "outputs": [
    {
     "data": {},
     "metadata": {},
     "output_type": "display_data"
    },
    {
     "data": {
      "application/vnd.holoviews_exec.v0+json": "",
      "text/html": [
       "<div id='6006'>\n",
       "\n",
       "\n",
       "\n",
       "\n",
       "\n",
       "  <div class=\"bk-root\" id=\"addf0e8f-14d5-4947-8376-69ba24b24438\" data-root-id=\"6006\"></div>\n",
       "</div>\n",
       "<script type=\"application/javascript\">(function(root) {\n",
       "  function embed_document(root) {\n",
       "    var docs_json = {\"fed84a01-2a55-48e7-b6d4-2b628a125228\":{\"defs\":[{\"extends\":null,\"module\":null,\"name\":\"ReactiveHTML1\",\"overrides\":[],\"properties\":[]},{\"extends\":null,\"module\":null,\"name\":\"FlexBox1\",\"overrides\":[],\"properties\":[{\"default\":\"flex-start\",\"kind\":null,\"name\":\"align_content\"},{\"default\":\"flex-start\",\"kind\":null,\"name\":\"align_items\"},{\"default\":\"row\",\"kind\":null,\"name\":\"flex_direction\"},{\"default\":\"wrap\",\"kind\":null,\"name\":\"flex_wrap\"},{\"default\":\"flex-start\",\"kind\":null,\"name\":\"justify_content\"}]},{\"extends\":null,\"module\":null,\"name\":\"TemplateActions1\",\"overrides\":[],\"properties\":[{\"default\":0,\"kind\":null,\"name\":\"open_modal\"},{\"default\":0,\"kind\":null,\"name\":\"close_modal\"}]},{\"extends\":null,\"module\":null,\"name\":\"MaterialTemplateActions1\",\"overrides\":[],\"properties\":[{\"default\":0,\"kind\":null,\"name\":\"open_modal\"},{\"default\":0,\"kind\":null,\"name\":\"close_modal\"}]}],\"roots\":{\"references\":[{\"attributes\":{\"tools\":[{\"id\":\"6010\"},{\"id\":\"6028\"},{\"id\":\"6029\"},{\"id\":\"6030\"},{\"id\":\"6031\"},{\"id\":\"6032\"}]},\"id\":\"6034\",\"type\":\"Toolbar\"},{\"attributes\":{\"margin\":[5,5,5,5],\"name\":\"HSpacer12189\",\"sizing_mode\":\"stretch_width\"},\"id\":\"6082\",\"type\":\"Spacer\"},{\"attributes\":{\"overlay\":{\"id\":\"6033\"}},\"id\":\"6031\",\"type\":\"BoxZoomTool\"},{\"attributes\":{},\"id\":\"6018\",\"type\":\"LinearScale\"},{\"attributes\":{\"axis_label\":\"Pick number\",\"coordinates\":null,\"formatter\":{\"id\":\"6054\"},\"group\":null,\"major_label_policy\":{\"id\":\"6055\"},\"ticker\":{\"id\":\"6025\"}},\"id\":\"6024\",\"type\":\"LinearAxis\"},{\"attributes\":{},\"id\":\"6051\",\"type\":\"BasicTickFormatter\"},{\"attributes\":{\"client_comm_id\":\"5111f06ce073440199e708f1fa0e3046\",\"comm_id\":\"a768fb74a0bb4ef99a1459723e75666b\",\"plot_id\":\"6006\"},\"id\":\"6118\",\"type\":\"panel.models.comm_manager.CommManager\"},{\"attributes\":{\"axis\":{\"id\":\"6020\"},\"coordinates\":null,\"grid_line_color\":null,\"group\":null,\"ticker\":null},\"id\":\"6023\",\"type\":\"Grid\"},{\"attributes\":{\"end\":30.7,\"reset_end\":30.7,\"reset_start\":-1.7000000000000002,\"start\":-1.7000000000000002,\"tags\":[[[\"Pk\",\"Pk\",null]]]},\"id\":\"6009\",\"type\":\"Range1d\"},{\"attributes\":{},\"id\":\"6032\",\"type\":\"ResetTool\"},{\"attributes\":{\"bottom_units\":\"screen\",\"coordinates\":null,\"fill_alpha\":0.5,\"fill_color\":\"lightgrey\",\"group\":null,\"left_units\":\"screen\",\"level\":\"overlay\",\"line_alpha\":1.0,\"line_color\":\"black\",\"line_dash\":[4,4],\"line_width\":2,\"right_units\":\"screen\",\"syncable\":false,\"top_units\":\"screen\"},\"id\":\"6033\",\"type\":\"BoxAnnotation\"},{\"attributes\":{\"children\":[{\"id\":\"6084\"},{\"id\":\"6085\"},{\"id\":\"6087\"}],\"margin\":[0,0,0,0],\"name\":\"Column12187\"},\"id\":\"6083\",\"type\":\"Column\"},{\"attributes\":{\"coordinates\":null,\"data_source\":{\"id\":\"6041\"},\"glyph\":{\"id\":\"6044\"},\"group\":null,\"hover_glyph\":null,\"muted_glyph\":{\"id\":\"6046\"},\"nonselection_glyph\":{\"id\":\"6045\"},\"selection_glyph\":{\"id\":\"6049\"},\"view\":{\"id\":\"6048\"}},\"id\":\"6047\",\"type\":\"GlyphRenderer\"},{\"attributes\":{\"source\":{\"id\":\"6041\"}},\"id\":\"6048\",\"type\":\"CDSView\"},{\"attributes\":{\"children\":[{\"id\":\"6007\"},{\"id\":\"6011\"},{\"id\":\"6082\"},{\"id\":\"6083\"}],\"margin\":[0,0,0,0],\"name\":\"Row12179\"},\"id\":\"6006\",\"type\":\"Row\"},{\"attributes\":{\"margin\":[5,5,5,5],\"name\":\"VSpacer12185\",\"sizing_mode\":\"stretch_height\"},\"id\":\"6084\",\"type\":\"Spacer\"},{\"attributes\":{},\"id\":\"6025\",\"type\":\"BasicTicker\"},{\"attributes\":{},\"id\":\"6069\",\"type\":\"UnionRenderers\"},{\"attributes\":{\"margin\":[5,5,5,5],\"name\":\"HSpacer12188\",\"sizing_mode\":\"stretch_width\"},\"id\":\"6007\",\"type\":\"Spacer\"},{\"attributes\":{\"fill_alpha\":{\"value\":0.1},\"fill_color\":{\"value\":\"#30a2da\"},\"hatch_alpha\":{\"value\":0.1},\"hatch_color\":{\"value\":\"#30a2da\"},\"line_alpha\":{\"value\":0.1},\"line_color\":{\"value\":\"#30a2da\"},\"size\":{\"value\":5.477225575051661},\"x\":{\"field\":\"DraftYear\"},\"y\":{\"field\":\"Pk\"}},\"id\":\"6045\",\"type\":\"Scatter\"},{\"attributes\":{\"callback\":null,\"renderers\":[{\"id\":\"6047\"}],\"tags\":[\"hv_created\"],\"tooltips\":[[\"DraftYear\",\"@{DraftYear}\"],[\"Pk\",\"@{Pk}\"]]},\"id\":\"6010\",\"type\":\"HoverTool\"},{\"attributes\":{\"children\":[{\"id\":\"6086\"}],\"css_classes\":[\"panel-widget-box\"],\"margin\":[5,5,5,5],\"name\":\"WidgetBox12180\"},\"id\":\"6085\",\"type\":\"Column\"},{\"attributes\":{\"margin\":[5,5,5,5],\"name\":\"VSpacer12186\",\"sizing_mode\":\"stretch_height\"},\"id\":\"6087\",\"type\":\"Spacer\"},{\"attributes\":{},\"id\":\"6054\",\"type\":\"BasicTickFormatter\"},{\"attributes\":{\"data\":{\"DraftYear\":[2017,2019,2020,2020],\"Pk\":[1,20,16,28]},\"selected\":{\"id\":\"6042\"},\"selection_policy\":{\"id\":\"6069\"}},\"id\":\"6041\",\"type\":\"ColumnDataSource\"},{\"attributes\":{},\"id\":\"6030\",\"type\":\"WheelZoomTool\"},{\"attributes\":{\"below\":[{\"id\":\"6020\"}],\"center\":[{\"id\":\"6023\"},{\"id\":\"6027\"}],\"height\":300,\"left\":[{\"id\":\"6024\"}],\"margin\":[5,5,5,5],\"min_border_bottom\":10,\"min_border_left\":10,\"min_border_right\":10,\"min_border_top\":10,\"renderers\":[{\"id\":\"6047\"}],\"sizing_mode\":\"fixed\",\"title\":{\"id\":\"6012\"},\"toolbar\":{\"id\":\"6034\"},\"width\":700,\"x_range\":{\"id\":\"6008\"},\"x_scale\":{\"id\":\"6016\"},\"y_range\":{\"id\":\"6009\"},\"y_scale\":{\"id\":\"6018\"}},\"id\":\"6011\",\"subtype\":\"Figure\",\"type\":\"Plot\"},{\"attributes\":{\"axis\":{\"id\":\"6024\"},\"coordinates\":null,\"dimension\":1,\"grid_line_color\":null,\"group\":null,\"ticker\":null},\"id\":\"6027\",\"type\":\"Grid\"},{\"attributes\":{},\"id\":\"6021\",\"type\":\"BasicTicker\"},{\"attributes\":{\"coordinates\":null,\"group\":null,\"text\":\"Drafted NBA Players Pick Number and Their Colleges 2017-2021\",\"text_color\":\"black\",\"text_font_size\":\"12pt\"},\"id\":\"6012\",\"type\":\"Title\"},{\"attributes\":{\"margin\":[20,20,20,20],\"min_width\":250,\"options\":[\"Washington\",\"UCLA\",\"Duke\",\"Kansas\",\"Kentucky\",\"Florida State\",\"Arizona\",\"nan\",\"NC State\",\"Gonzaga\",\"Louisville\",\"UNC\",\"Creighton\",\"Michigan\",\"Wake Forest\",\"Texas\",\"Indiana\",\"Syracuse\",\"Purdue\",\"Utah\",\"Colorado\",\"Villanova\",\"Michigan State\",\"Oklahoma\",\"Alabama\",\"Boston College\",\"Missouri\",\"Oregon\",\"Texas Tech\",\"Miami (FL)\",\"Maryland\",\"Georgia Tech\",\"Boise State\",\"Wichita State\",\"Texas A&M\",\"Cincinnati\",\"Murray State\",\"Virginia\",\"Vanderbilt\",\"Auburn\",\"Virginia Tech\",\"Tennessee\",\"Belmont\",\"USC\",\"Georgia\",\"Memphis\",\"Dayton\",\"Iowa State\",\"San Diego State\",\"TCU\",\"Oklahoma State\",\"Baylor\",\"Stanford\",\"UConn\",\"Arkansas\",\"Florida\",\"Arizona State\",\"Houston\",\"VCU\",\"LSU\",\"Loyola (MD)\"],\"title\":\"College\",\"value\":\"Washington\",\"width\":250},\"id\":\"6086\",\"type\":\"Select\"},{\"attributes\":{\"angle\":{\"value\":0.0},\"fill_alpha\":{\"value\":1.0},\"fill_color\":{\"value\":\"#30a2da\"},\"hatch_alpha\":{\"value\":1.0},\"hatch_color\":{\"value\":\"#30a2da\"},\"hatch_scale\":{\"value\":12.0},\"hatch_weight\":{\"value\":1.0},\"line_alpha\":{\"value\":1.0},\"line_cap\":{\"value\":\"butt\"},\"line_color\":{\"value\":\"#30a2da\"},\"line_dash\":{\"value\":[]},\"line_dash_offset\":{\"value\":0},\"line_join\":{\"value\":\"bevel\"},\"line_width\":{\"value\":1},\"marker\":{\"value\":\"circle\"},\"size\":{\"value\":5.477225575051661},\"x\":{\"field\":\"DraftYear\"},\"y\":{\"field\":\"Pk\"}},\"id\":\"6049\",\"type\":\"Scatter\"},{\"attributes\":{\"fill_color\":{\"value\":\"#30a2da\"},\"hatch_color\":{\"value\":\"#30a2da\"},\"line_color\":{\"value\":\"#30a2da\"},\"size\":{\"value\":5.477225575051661},\"x\":{\"field\":\"DraftYear\"},\"y\":{\"field\":\"Pk\"}},\"id\":\"6044\",\"type\":\"Scatter\"},{\"attributes\":{},\"id\":\"6028\",\"type\":\"SaveTool\"},{\"attributes\":{},\"id\":\"6055\",\"type\":\"AllLabels\"},{\"attributes\":{},\"id\":\"6042\",\"type\":\"Selection\"},{\"attributes\":{\"axis_label\":\"Draft Year\",\"coordinates\":null,\"formatter\":{\"id\":\"6051\"},\"group\":null,\"major_label_policy\":{\"id\":\"6052\"},\"ticker\":{\"id\":\"6021\"}},\"id\":\"6020\",\"type\":\"LinearAxis\"},{\"attributes\":{},\"id\":\"6029\",\"type\":\"PanTool\"},{\"attributes\":{\"fill_alpha\":{\"value\":0.2},\"fill_color\":{\"value\":\"#30a2da\"},\"hatch_alpha\":{\"value\":0.2},\"hatch_color\":{\"value\":\"#30a2da\"},\"line_alpha\":{\"value\":0.2},\"line_color\":{\"value\":\"#30a2da\"},\"size\":{\"value\":5.477225575051661},\"x\":{\"field\":\"DraftYear\"},\"y\":{\"field\":\"Pk\"}},\"id\":\"6046\",\"type\":\"Scatter\"},{\"attributes\":{},\"id\":\"6052\",\"type\":\"AllLabels\"},{\"attributes\":{\"end\":2020.1285714285714,\"reset_end\":2020.1285714285714,\"reset_start\":2016.8714285714286,\"start\":2016.8714285714286,\"tags\":[[[\"DraftYear\",\"DraftYear\",null]]]},\"id\":\"6008\",\"type\":\"Range1d\"},{\"attributes\":{},\"id\":\"6016\",\"type\":\"LinearScale\"}],\"root_ids\":[\"6006\",\"6118\"]},\"title\":\"Bokeh Application\",\"version\":\"2.4.2\"}};\n",
       "    var render_items = [{\"docid\":\"fed84a01-2a55-48e7-b6d4-2b628a125228\",\"root_ids\":[\"6006\"],\"roots\":{\"6006\":\"addf0e8f-14d5-4947-8376-69ba24b24438\"}}];\n",
       "    root.Bokeh.embed.embed_items_notebook(docs_json, render_items);\n",
       "  }\n",
       "  if (root.Bokeh !== undefined && root.Bokeh.Panel !== undefined) {\n",
       "    embed_document(root);\n",
       "  } else {\n",
       "    var attempts = 0;\n",
       "    var timer = setInterval(function(root) {\n",
       "      if (root.Bokeh !== undefined && root.Bokeh.Panel !== undefined) {\n",
       "        clearInterval(timer);\n",
       "        embed_document(root);\n",
       "      } else if (document.readyState == \"complete\") {\n",
       "        attempts++;\n",
       "        if (attempts > 200) {\n",
       "          clearInterval(timer);\n",
       "          console.log(\"Bokeh: ERROR: Unable to run BokehJS code because BokehJS library is missing\");\n",
       "        }\n",
       "      }\n",
       "    }, 25, root)\n",
       "  }\n",
       "})(window);</script>"
      ],
      "text/plain": [
       ":DynamicMap   [College]\n",
       "   :Scatter   [DraftYear]   (Pk)"
      ]
     },
     "execution_count": 152,
     "metadata": {
      "application/vnd.holoviews_exec.v0+json": {
       "id": "6006"
      }
     },
     "output_type": "execute_result"
    }
   ],
   "source": [
    "# Use hvplot to create scatter visualization of school dataframe, which shows the pick rank, number of picks from each college 2017-2021\n",
    "school.hvplot.scatter(\n",
    "    title='Drafted NBA Players Pick Number and Their Colleges 2017-2021',\n",
    "    x='DraftYear',\n",
    "    xlabel='Draft Year',\n",
    "    ylabel='Pick number',\n",
    "    groupby='College'\n",
    ")"
   ]
  },
  {
   "cell_type": "code",
   "execution_count": null,
   "id": "626f7f54-1fbc-46e0-97cb-e42f6e60ba2c",
   "metadata": {},
   "outputs": [],
   "source": []
  },
  {
   "cell_type": "code",
   "execution_count": 153,
   "id": "2e467fae-ec38-44bf-bf01-adc2df116d26",
   "metadata": {},
   "outputs": [
    {
     "data": {
      "text/html": [
       "<div>\n",
       "<style scoped>\n",
       "    .dataframe tbody tr th:only-of-type {\n",
       "        vertical-align: middle;\n",
       "    }\n",
       "\n",
       "    .dataframe tbody tr th {\n",
       "        vertical-align: top;\n",
       "    }\n",
       "\n",
       "    .dataframe thead th {\n",
       "        text-align: right;\n",
       "    }\n",
       "</style>\n",
       "<table border=\"1\" class=\"dataframe\">\n",
       "  <thead>\n",
       "    <tr style=\"text-align: right;\">\n",
       "      <th></th>\n",
       "      <th>Pk</th>\n",
       "      <th>Tm</th>\n",
       "      <th>Player</th>\n",
       "      <th>College</th>\n",
       "      <th>DraftYr</th>\n",
       "      <th>MPG</th>\n",
       "      <th>PPG</th>\n",
       "      <th>RPG</th>\n",
       "      <th>APG</th>\n",
       "      <th>FG%</th>\n",
       "      <th>3P%</th>\n",
       "      <th>FT%</th>\n",
       "      <th>Contract Worth</th>\n",
       "    </tr>\n",
       "    <tr>\n",
       "      <th>DraftYear</th>\n",
       "      <th></th>\n",
       "      <th></th>\n",
       "      <th></th>\n",
       "      <th></th>\n",
       "      <th></th>\n",
       "      <th></th>\n",
       "      <th></th>\n",
       "      <th></th>\n",
       "      <th></th>\n",
       "      <th></th>\n",
       "      <th></th>\n",
       "      <th></th>\n",
       "      <th></th>\n",
       "    </tr>\n",
       "  </thead>\n",
       "  <tbody>\n",
       "    <tr>\n",
       "      <th>2017</th>\n",
       "      <td>1</td>\n",
       "      <td>PHI</td>\n",
       "      <td>Markelle Fultz</td>\n",
       "      <td>Washington</td>\n",
       "      <td>2017</td>\n",
       "      <td>25.6</td>\n",
       "      <td>10.9</td>\n",
       "      <td>3.3</td>\n",
       "      <td>4.6</td>\n",
       "      <td>0.447</td>\n",
       "      <td>0.265</td>\n",
       "      <td>0.695</td>\n",
       "      <td>33727701.0</td>\n",
       "    </tr>\n",
       "    <tr>\n",
       "      <th>2017</th>\n",
       "      <td>2</td>\n",
       "      <td>LAL</td>\n",
       "      <td>Lonzo Ball</td>\n",
       "      <td>UCLA</td>\n",
       "      <td>2017</td>\n",
       "      <td>32.5</td>\n",
       "      <td>11.9</td>\n",
       "      <td>5.7</td>\n",
       "      <td>6.2</td>\n",
       "      <td>0.400</td>\n",
       "      <td>0.364</td>\n",
       "      <td>0.578</td>\n",
       "      <td>30184438.0</td>\n",
       "    </tr>\n",
       "    <tr>\n",
       "      <th>2017</th>\n",
       "      <td>3</td>\n",
       "      <td>BOS</td>\n",
       "      <td>Jayson Tatum</td>\n",
       "      <td>Duke</td>\n",
       "      <td>2017</td>\n",
       "      <td>33.3</td>\n",
       "      <td>20.4</td>\n",
       "      <td>6.6</td>\n",
       "      <td>2.9</td>\n",
       "      <td>0.453</td>\n",
       "      <td>0.380</td>\n",
       "      <td>0.842</td>\n",
       "      <td>27118800.0</td>\n",
       "    </tr>\n",
       "    <tr>\n",
       "      <th>2017</th>\n",
       "      <td>4</td>\n",
       "      <td>PHO</td>\n",
       "      <td>Josh Jackson</td>\n",
       "      <td>Kansas</td>\n",
       "      <td>2017</td>\n",
       "      <td>23.6</td>\n",
       "      <td>11.5</td>\n",
       "      <td>4.1</td>\n",
       "      <td>1.9</td>\n",
       "      <td>0.417</td>\n",
       "      <td>0.293</td>\n",
       "      <td>0.679</td>\n",
       "      <td>24118800.0</td>\n",
       "    </tr>\n",
       "    <tr>\n",
       "      <th>2017</th>\n",
       "      <td>5</td>\n",
       "      <td>SAC</td>\n",
       "      <td>De'Aaron Fox</td>\n",
       "      <td>Kentucky</td>\n",
       "      <td>2017</td>\n",
       "      <td>31.8</td>\n",
       "      <td>18.7</td>\n",
       "      <td>3.5</td>\n",
       "      <td>6.2</td>\n",
       "      <td>0.459</td>\n",
       "      <td>0.317</td>\n",
       "      <td>0.725</td>\n",
       "      <td>22157109.0</td>\n",
       "    </tr>\n",
       "    <tr>\n",
       "      <th>...</th>\n",
       "      <td>...</td>\n",
       "      <td>...</td>\n",
       "      <td>...</td>\n",
       "      <td>...</td>\n",
       "      <td>...</td>\n",
       "      <td>...</td>\n",
       "      <td>...</td>\n",
       "      <td>...</td>\n",
       "      <td>...</td>\n",
       "      <td>...</td>\n",
       "      <td>...</td>\n",
       "      <td>...</td>\n",
       "      <td>...</td>\n",
       "    </tr>\n",
       "    <tr>\n",
       "      <th>2021</th>\n",
       "      <td>26</td>\n",
       "      <td>DEN</td>\n",
       "      <td>Bones Hyland</td>\n",
       "      <td>VCU</td>\n",
       "      <td>2021</td>\n",
       "      <td>18.0</td>\n",
       "      <td>8.8</td>\n",
       "      <td>2.7</td>\n",
       "      <td>2.0</td>\n",
       "      <td>0.369</td>\n",
       "      <td>0.346</td>\n",
       "      <td>0.881</td>\n",
       "      <td>10763119.0</td>\n",
       "    </tr>\n",
       "    <tr>\n",
       "      <th>2021</th>\n",
       "      <td>27</td>\n",
       "      <td>BRK</td>\n",
       "      <td>Cam Thomas</td>\n",
       "      <td>LSU</td>\n",
       "      <td>2021</td>\n",
       "      <td>19.6</td>\n",
       "      <td>9.8</td>\n",
       "      <td>2.6</td>\n",
       "      <td>1.3</td>\n",
       "      <td>0.445</td>\n",
       "      <td>0.273</td>\n",
       "      <td>0.808</td>\n",
       "      <td>10455512.0</td>\n",
       "    </tr>\n",
       "    <tr>\n",
       "      <th>2021</th>\n",
       "      <td>28</td>\n",
       "      <td>PHI</td>\n",
       "      <td>Jaden Springer</td>\n",
       "      <td>Tennessee</td>\n",
       "      <td>2021</td>\n",
       "      <td>3.0</td>\n",
       "      <td>1.0</td>\n",
       "      <td>1.0</td>\n",
       "      <td>0.0</td>\n",
       "      <td>1.000</td>\n",
       "      <td>NaN</td>\n",
       "      <td>NaN</td>\n",
       "      <td>10393940.0</td>\n",
       "    </tr>\n",
       "    <tr>\n",
       "      <th>2021</th>\n",
       "      <td>29</td>\n",
       "      <td>PHO</td>\n",
       "      <td>Day'Ron Sharpe</td>\n",
       "      <td>UNC</td>\n",
       "      <td>2021</td>\n",
       "      <td>12.4</td>\n",
       "      <td>6.1</td>\n",
       "      <td>5.1</td>\n",
       "      <td>0.5</td>\n",
       "      <td>0.571</td>\n",
       "      <td>0.250</td>\n",
       "      <td>0.568</td>\n",
       "      <td>10317899.0</td>\n",
       "    </tr>\n",
       "    <tr>\n",
       "      <th>2021</th>\n",
       "      <td>30</td>\n",
       "      <td>UTA</td>\n",
       "      <td>Santi Aldama</td>\n",
       "      <td>Loyola (MD)</td>\n",
       "      <td>2021</td>\n",
       "      <td>10.3</td>\n",
       "      <td>3.3</td>\n",
       "      <td>2.4</td>\n",
       "      <td>0.5</td>\n",
       "      <td>0.381</td>\n",
       "      <td>0.103</td>\n",
       "      <td>0.600</td>\n",
       "      <td>10243491.0</td>\n",
       "    </tr>\n",
       "  </tbody>\n",
       "</table>\n",
       "<p>150 rows × 13 columns</p>\n",
       "</div>"
      ],
      "text/plain": [
       "           Pk   Tm          Player      College  DraftYr   MPG   PPG  RPG  \\\n",
       "DraftYear                                                                   \n",
       "2017        1  PHI  Markelle Fultz   Washington     2017  25.6  10.9  3.3   \n",
       "2017        2  LAL      Lonzo Ball         UCLA     2017  32.5  11.9  5.7   \n",
       "2017        3  BOS    Jayson Tatum         Duke     2017  33.3  20.4  6.6   \n",
       "2017        4  PHO    Josh Jackson       Kansas     2017  23.6  11.5  4.1   \n",
       "2017        5  SAC    De'Aaron Fox     Kentucky     2017  31.8  18.7  3.5   \n",
       "...        ..  ...             ...          ...      ...   ...   ...  ...   \n",
       "2021       26  DEN    Bones Hyland          VCU     2021  18.0   8.8  2.7   \n",
       "2021       27  BRK      Cam Thomas          LSU     2021  19.6   9.8  2.6   \n",
       "2021       28  PHI  Jaden Springer    Tennessee     2021   3.0   1.0  1.0   \n",
       "2021       29  PHO  Day'Ron Sharpe          UNC     2021  12.4   6.1  5.1   \n",
       "2021       30  UTA    Santi Aldama  Loyola (MD)     2021  10.3   3.3  2.4   \n",
       "\n",
       "           APG    FG%    3P%    FT%  Contract Worth  \n",
       "DraftYear                                            \n",
       "2017       4.6  0.447  0.265  0.695      33727701.0  \n",
       "2017       6.2  0.400  0.364  0.578      30184438.0  \n",
       "2017       2.9  0.453  0.380  0.842      27118800.0  \n",
       "2017       1.9  0.417  0.293  0.679      24118800.0  \n",
       "2017       6.2  0.459  0.317  0.725      22157109.0  \n",
       "...        ...    ...    ...    ...             ...  \n",
       "2021       2.0  0.369  0.346  0.881      10763119.0  \n",
       "2021       1.3  0.445  0.273  0.808      10455512.0  \n",
       "2021       0.0  1.000    NaN    NaN      10393940.0  \n",
       "2021       0.5  0.571  0.250  0.568      10317899.0  \n",
       "2021       0.5  0.381  0.103  0.600      10243491.0  \n",
       "\n",
       "[150 rows x 13 columns]"
      ]
     },
     "execution_count": 153,
     "metadata": {},
     "output_type": "execute_result"
    }
   ],
   "source": [
    "# Display selected data in the dataframe\n",
    "last_5_yrs_1_rnd_draft_df"
   ]
  },
  {
   "cell_type": "code",
   "execution_count": null,
   "id": "e018cda5-8c4c-40a4-8aca-de23edb226e8",
   "metadata": {},
   "outputs": [],
   "source": []
  },
  {
   "cell_type": "code",
   "execution_count": 219,
   "id": "a01b1edc-bc3b-49ca-89cf-a4310172cf18",
   "metadata": {},
   "outputs": [
    {
     "data": {
      "text/html": [
       "<div>\n",
       "<style scoped>\n",
       "    .dataframe tbody tr th:only-of-type {\n",
       "        vertical-align: middle;\n",
       "    }\n",
       "\n",
       "    .dataframe tbody tr th {\n",
       "        vertical-align: top;\n",
       "    }\n",
       "\n",
       "    .dataframe thead th {\n",
       "        text-align: right;\n",
       "    }\n",
       "</style>\n",
       "<table border=\"1\" class=\"dataframe\">\n",
       "  <thead>\n",
       "    <tr style=\"text-align: right;\">\n",
       "      <th></th>\n",
       "      <th>MPG</th>\n",
       "      <th>PPG</th>\n",
       "      <th>RPG</th>\n",
       "      <th>APG</th>\n",
       "      <th>FG%</th>\n",
       "      <th>3P%</th>\n",
       "      <th>FT%</th>\n",
       "      <th>Contract Worth</th>\n",
       "    </tr>\n",
       "  </thead>\n",
       "  <tbody>\n",
       "    <tr>\n",
       "      <th>MPG</th>\n",
       "      <td>1.000000</td>\n",
       "      <td>0.888233</td>\n",
       "      <td>0.639041</td>\n",
       "      <td>0.701885</td>\n",
       "      <td>-0.070778</td>\n",
       "      <td>0.208495</td>\n",
       "      <td>0.382971</td>\n",
       "      <td>0.530408</td>\n",
       "    </tr>\n",
       "    <tr>\n",
       "      <th>PPG</th>\n",
       "      <td>0.888233</td>\n",
       "      <td>1.000000</td>\n",
       "      <td>0.610588</td>\n",
       "      <td>0.736819</td>\n",
       "      <td>0.037639</td>\n",
       "      <td>0.230109</td>\n",
       "      <td>0.360729</td>\n",
       "      <td>0.564328</td>\n",
       "    </tr>\n",
       "    <tr>\n",
       "      <th>RPG</th>\n",
       "      <td>0.639041</td>\n",
       "      <td>0.610588</td>\n",
       "      <td>1.000000</td>\n",
       "      <td>0.310486</td>\n",
       "      <td>0.303311</td>\n",
       "      <td>-0.131163</td>\n",
       "      <td>0.011107</td>\n",
       "      <td>0.419323</td>\n",
       "    </tr>\n",
       "    <tr>\n",
       "      <th>APG</th>\n",
       "      <td>0.701885</td>\n",
       "      <td>0.736819</td>\n",
       "      <td>0.310486</td>\n",
       "      <td>1.000000</td>\n",
       "      <td>-0.148449</td>\n",
       "      <td>0.142334</td>\n",
       "      <td>0.279688</td>\n",
       "      <td>0.444316</td>\n",
       "    </tr>\n",
       "    <tr>\n",
       "      <th>FG%</th>\n",
       "      <td>-0.070778</td>\n",
       "      <td>0.037639</td>\n",
       "      <td>0.303311</td>\n",
       "      <td>-0.148449</td>\n",
       "      <td>1.000000</td>\n",
       "      <td>-0.142753</td>\n",
       "      <td>-0.326683</td>\n",
       "      <td>0.019353</td>\n",
       "    </tr>\n",
       "  </tbody>\n",
       "</table>\n",
       "</div>"
      ],
      "text/plain": [
       "          MPG       PPG       RPG       APG       FG%       3P%       FT%  \\\n",
       "MPG  1.000000  0.888233  0.639041  0.701885 -0.070778  0.208495  0.382971   \n",
       "PPG  0.888233  1.000000  0.610588  0.736819  0.037639  0.230109  0.360729   \n",
       "RPG  0.639041  0.610588  1.000000  0.310486  0.303311 -0.131163  0.011107   \n",
       "APG  0.701885  0.736819  0.310486  1.000000 -0.148449  0.142334  0.279688   \n",
       "FG% -0.070778  0.037639  0.303311 -0.148449  1.000000 -0.142753 -0.326683   \n",
       "\n",
       "     Contract Worth  \n",
       "MPG        0.530408  \n",
       "PPG        0.564328  \n",
       "RPG        0.419323  \n",
       "APG        0.444316  \n",
       "FG%        0.019353  "
      ]
     },
     "execution_count": 219,
     "metadata": {},
     "output_type": "execute_result"
    }
   ],
   "source": [
    "# Select evaluation parameters for correlation datafram and convert it to correlation dataframe\n",
    "corr_df = last_5_yrs_1_rnd_draft_df[['MPG','PPG', 'RPG', 'APG','FG%', '3P%','FT%', 'Contract Worth']].corr()\n",
    "# Review the correlation dataframe\n",
    "corr_df.head()"
   ]
  },
  {
   "cell_type": "code",
   "execution_count": 220,
   "id": "609e3bfa-6aaa-4a01-ab7c-7c69ae739f67",
   "metadata": {},
   "outputs": [
    {
     "data": {
      "text/plain": [
       "<AxesSubplot:>"
      ]
     },
     "execution_count": 220,
     "metadata": {},
     "output_type": "execute_result"
    },
    {
     "data": {
      "image/png": "[encoded data removed]",
      "text/plain": [
       "<Figure size 432x288 with 2 Axes>"
      ]
     },
     "metadata": {
      "needs_background": "light"
     },
     "output_type": "display_data"
    }
   ],
   "source": [
    "# Use Seaborn heatmap to visualize the correlations of each parameter with Contract Worth\n",
    "sns.heatmap(corr_df, vmin = -1, vmax=1, cmap='inferno')"
   ]
  },
  {
   "cell_type": "markdown",
   "id": "2a71149c-bae8-4bbd-ab90-460cd7d33a4d",
   "metadata": {},
   "source": [
    "### Discover that FG%, 3P%, and FT% are more correlated to players contract worth than other parameters. Also proves, in reality, the more points a player can score for a team the better."
   ]
  },
  {
   "cell_type": "code",
   "execution_count": null,
   "id": "4161108d-84b0-40ec-8098-8212db845332",
   "metadata": {},
   "outputs": [],
   "source": []
  },
  {
   "cell_type": "code",
   "execution_count": 154,
   "id": "661b90ec-e86c-41f9-bed9-3232a4b11dd0",
   "metadata": {},
   "outputs": [
    {
     "data": {
      "text/html": [
       "<div>\n",
       "<style scoped>\n",
       "    .dataframe tbody tr th:only-of-type {\n",
       "        vertical-align: middle;\n",
       "    }\n",
       "\n",
       "    .dataframe tbody tr th {\n",
       "        vertical-align: top;\n",
       "    }\n",
       "\n",
       "    .dataframe thead th {\n",
       "        text-align: right;\n",
       "    }\n",
       "</style>\n",
       "<table border=\"1\" class=\"dataframe\">\n",
       "  <thead>\n",
       "    <tr style=\"text-align: right;\">\n",
       "      <th></th>\n",
       "      <th>Pk</th>\n",
       "      <th>Tm</th>\n",
       "      <th>Player</th>\n",
       "      <th>College</th>\n",
       "      <th>DraftYr</th>\n",
       "      <th>MPG</th>\n",
       "      <th>PPG</th>\n",
       "      <th>RPG</th>\n",
       "      <th>APG</th>\n",
       "      <th>FG%</th>\n",
       "      <th>3P%</th>\n",
       "      <th>FT%</th>\n",
       "      <th>Contract Worth</th>\n",
       "    </tr>\n",
       "    <tr>\n",
       "      <th>DraftYear</th>\n",
       "      <th></th>\n",
       "      <th></th>\n",
       "      <th></th>\n",
       "      <th></th>\n",
       "      <th></th>\n",
       "      <th></th>\n",
       "      <th></th>\n",
       "      <th></th>\n",
       "      <th></th>\n",
       "      <th></th>\n",
       "      <th></th>\n",
       "      <th></th>\n",
       "      <th></th>\n",
       "    </tr>\n",
       "  </thead>\n",
       "  <tbody>\n",
       "    <tr>\n",
       "      <th>2017</th>\n",
       "      <td>1</td>\n",
       "      <td>PHI</td>\n",
       "      <td>Markelle Fultz</td>\n",
       "      <td>Washington</td>\n",
       "      <td>2017</td>\n",
       "      <td>25.6</td>\n",
       "      <td>10.9</td>\n",
       "      <td>3.3</td>\n",
       "      <td>4.6</td>\n",
       "      <td>0.447</td>\n",
       "      <td>0.265</td>\n",
       "      <td>0.695</td>\n",
       "      <td>33727701.0</td>\n",
       "    </tr>\n",
       "    <tr>\n",
       "      <th>2017</th>\n",
       "      <td>2</td>\n",
       "      <td>LAL</td>\n",
       "      <td>Lonzo Ball</td>\n",
       "      <td>UCLA</td>\n",
       "      <td>2017</td>\n",
       "      <td>32.5</td>\n",
       "      <td>11.9</td>\n",
       "      <td>5.7</td>\n",
       "      <td>6.2</td>\n",
       "      <td>0.400</td>\n",
       "      <td>0.364</td>\n",
       "      <td>0.578</td>\n",
       "      <td>30184438.0</td>\n",
       "    </tr>\n",
       "    <tr>\n",
       "      <th>2017</th>\n",
       "      <td>3</td>\n",
       "      <td>BOS</td>\n",
       "      <td>Jayson Tatum</td>\n",
       "      <td>Duke</td>\n",
       "      <td>2017</td>\n",
       "      <td>33.3</td>\n",
       "      <td>20.4</td>\n",
       "      <td>6.6</td>\n",
       "      <td>2.9</td>\n",
       "      <td>0.453</td>\n",
       "      <td>0.380</td>\n",
       "      <td>0.842</td>\n",
       "      <td>27118800.0</td>\n",
       "    </tr>\n",
       "    <tr>\n",
       "      <th>2017</th>\n",
       "      <td>4</td>\n",
       "      <td>PHO</td>\n",
       "      <td>Josh Jackson</td>\n",
       "      <td>Kansas</td>\n",
       "      <td>2017</td>\n",
       "      <td>23.6</td>\n",
       "      <td>11.5</td>\n",
       "      <td>4.1</td>\n",
       "      <td>1.9</td>\n",
       "      <td>0.417</td>\n",
       "      <td>0.293</td>\n",
       "      <td>0.679</td>\n",
       "      <td>24118800.0</td>\n",
       "    </tr>\n",
       "    <tr>\n",
       "      <th>2017</th>\n",
       "      <td>5</td>\n",
       "      <td>SAC</td>\n",
       "      <td>De'Aaron Fox</td>\n",
       "      <td>Kentucky</td>\n",
       "      <td>2017</td>\n",
       "      <td>31.8</td>\n",
       "      <td>18.7</td>\n",
       "      <td>3.5</td>\n",
       "      <td>6.2</td>\n",
       "      <td>0.459</td>\n",
       "      <td>0.317</td>\n",
       "      <td>0.725</td>\n",
       "      <td>22157109.0</td>\n",
       "    </tr>\n",
       "  </tbody>\n",
       "</table>\n",
       "</div>"
      ],
      "text/plain": [
       "           Pk   Tm          Player     College  DraftYr   MPG   PPG  RPG  APG  \\\n",
       "DraftYear                                                                       \n",
       "2017        1  PHI  Markelle Fultz  Washington     2017  25.6  10.9  3.3  4.6   \n",
       "2017        2  LAL      Lonzo Ball        UCLA     2017  32.5  11.9  5.7  6.2   \n",
       "2017        3  BOS    Jayson Tatum        Duke     2017  33.3  20.4  6.6  2.9   \n",
       "2017        4  PHO    Josh Jackson      Kansas     2017  23.6  11.5  4.1  1.9   \n",
       "2017        5  SAC    De'Aaron Fox    Kentucky     2017  31.8  18.7  3.5  6.2   \n",
       "\n",
       "             FG%    3P%    FT%  Contract Worth  \n",
       "DraftYear                                       \n",
       "2017       0.447  0.265  0.695      33727701.0  \n",
       "2017       0.400  0.364  0.578      30184438.0  \n",
       "2017       0.453  0.380  0.842      27118800.0  \n",
       "2017       0.417  0.293  0.679      24118800.0  \n",
       "2017       0.459  0.317  0.725      22157109.0  "
      ]
     },
     "execution_count": 154,
     "metadata": {},
     "output_type": "execute_result"
    }
   ],
   "source": [
    "# Filter the last_5_yrs_1_rnd_draft_df dataframe to get top 5 picks (Pick number 1-5) data of each year (2017-2021) and save as group_a_df\n",
    "group_a_df = last_5_yrs_1_rnd_draft_df.loc[last_5_yrs_1_rnd_draft_df['Pk'] <=5]\n",
    "# Review group A dataframe\n",
    "group_a_df.head()"
   ]
  },
  {
   "cell_type": "code",
   "execution_count": 155,
   "id": "76ddeee4-17fd-43f5-89f0-26a45920a3f5",
   "metadata": {},
   "outputs": [],
   "source": [
    "# Filter the last_5_yrs_1_rnd_draft_df dataframe to get middle 5 picks (Pick number 13-17) data of each year (2017-2021) and save as group_b_df\n",
    "group_b_df = last_5_yrs_1_rnd_draft_df.loc[(last_5_yrs_1_rnd_draft_df['Pk'] >=13) & (last_5_yrs_1_rnd_draft_df['Pk'] <=17)]"
   ]
  },
  {
   "cell_type": "code",
   "execution_count": 156,
   "id": "a7cc22ca-c613-45b0-bb32-448cf7b7be49",
   "metadata": {},
   "outputs": [],
   "source": [
    "# Filter the last_5_yrs_1_rnd_draft_df dataframe to get last 5 picks (Pick number 26-30) data of each year (2017-2021) and save as group_c_df\n",
    "group_c_df = last_5_yrs_1_rnd_draft_df.loc[last_5_yrs_1_rnd_draft_df['Pk'] >=26]"
   ]
  },
  {
   "cell_type": "code",
   "execution_count": null,
   "id": "f69de540-bb06-4010-b64a-f7c8b3aaf29e",
   "metadata": {},
   "outputs": [],
   "source": []
  },
  {
   "cell_type": "code",
   "execution_count": null,
   "id": "86a6b15a-83bf-4de6-ab05-ea93649ccb6d",
   "metadata": {},
   "outputs": [],
   "source": []
  },
  {
   "cell_type": "code",
   "execution_count": null,
   "id": "e4cc4deb-f1ac-4a7d-8fce-304cbf6f37cd",
   "metadata": {},
   "outputs": [],
   "source": []
  },
  {
   "cell_type": "code",
   "execution_count": 157,
   "id": "720caab3-dc10-4fd7-9243-48282c6d3282",
   "metadata": {},
   "outputs": [
    {
     "data": {
      "text/html": [
       "<div>\n",
       "<style scoped>\n",
       "    .dataframe tbody tr th:only-of-type {\n",
       "        vertical-align: middle;\n",
       "    }\n",
       "\n",
       "    .dataframe tbody tr th {\n",
       "        vertical-align: top;\n",
       "    }\n",
       "\n",
       "    .dataframe thead th {\n",
       "        text-align: right;\n",
       "    }\n",
       "</style>\n",
       "<table border=\"1\" class=\"dataframe\">\n",
       "  <thead>\n",
       "    <tr style=\"text-align: right;\">\n",
       "      <th></th>\n",
       "      <th>Group A MPG</th>\n",
       "    </tr>\n",
       "    <tr>\n",
       "      <th>DraftYear</th>\n",
       "      <th></th>\n",
       "    </tr>\n",
       "  </thead>\n",
       "  <tbody>\n",
       "    <tr>\n",
       "      <th>2017</th>\n",
       "      <td>25.6</td>\n",
       "    </tr>\n",
       "    <tr>\n",
       "      <th>2017</th>\n",
       "      <td>32.5</td>\n",
       "    </tr>\n",
       "    <tr>\n",
       "      <th>2017</th>\n",
       "      <td>33.3</td>\n",
       "    </tr>\n",
       "    <tr>\n",
       "      <th>2017</th>\n",
       "      <td>23.6</td>\n",
       "    </tr>\n",
       "    <tr>\n",
       "      <th>2017</th>\n",
       "      <td>31.8</td>\n",
       "    </tr>\n",
       "  </tbody>\n",
       "</table>\n",
       "</div>"
      ],
      "text/plain": [
       "           Group A MPG\n",
       "DraftYear             \n",
       "2017              25.6\n",
       "2017              32.5\n",
       "2017              33.3\n",
       "2017              23.6\n",
       "2017              31.8"
      ]
     },
     "execution_count": 157,
     "metadata": {},
     "output_type": "execute_result"
    }
   ],
   "source": [
    "# Select group A MPG data: rename the column and save it into a new dataframe\n",
    "group_a_mpg = pd.DataFrame(group_a_df[['MPG']])\n",
    "group_a_mpg.rename(columns = {'MPG': 'Group A MPG'}, inplace = True)\n",
    "# Review group A MPG dataframe\n",
    "group_a_mpg.head()"
   ]
  },
  {
   "cell_type": "code",
   "execution_count": 158,
   "id": "db33ee16-1bca-40f6-8fe8-f5a3c5a500e0",
   "metadata": {},
   "outputs": [],
   "source": [
    "# Select group B MPG data: rename the column and save it into a new dataframe\n",
    "group_b_mpg = pd.DataFrame(group_b_df[['MPG']])\n",
    "group_b_mpg.rename(columns = {'MPG': 'Group B MPG'}, inplace = True)\n",
    "\n",
    "# # Select group C MPG data: rename the column and save it into a new dataframe\n",
    "group_c_mpg = pd.DataFrame(group_c_df[['MPG']])\n",
    "group_c_mpg.rename(columns = {'MPG': 'Group C MPG'}, inplace = True)"
   ]
  },
  {
   "cell_type": "code",
   "execution_count": 159,
   "id": "f8072650-6dcc-49ca-a089-f90409abbbcc",
   "metadata": {},
   "outputs": [
    {
     "data": {
      "text/html": [
       "<div>\n",
       "<style scoped>\n",
       "    .dataframe tbody tr th:only-of-type {\n",
       "        vertical-align: middle;\n",
       "    }\n",
       "\n",
       "    .dataframe tbody tr th {\n",
       "        vertical-align: top;\n",
       "    }\n",
       "\n",
       "    .dataframe thead th {\n",
       "        text-align: right;\n",
       "    }\n",
       "</style>\n",
       "<table border=\"1\" class=\"dataframe\">\n",
       "  <thead>\n",
       "    <tr style=\"text-align: right;\">\n",
       "      <th></th>\n",
       "      <th>Group A MPG</th>\n",
       "      <th>Group B MPG</th>\n",
       "      <th>Group C MPG</th>\n",
       "    </tr>\n",
       "    <tr>\n",
       "      <th>DraftYear</th>\n",
       "      <th></th>\n",
       "      <th></th>\n",
       "      <th></th>\n",
       "    </tr>\n",
       "  </thead>\n",
       "  <tbody>\n",
       "    <tr>\n",
       "      <th>2017</th>\n",
       "      <td>25.6</td>\n",
       "      <td>33.7</td>\n",
       "      <td>8.7</td>\n",
       "    </tr>\n",
       "    <tr>\n",
       "      <th>2017</th>\n",
       "      <td>32.5</td>\n",
       "      <td>28.0</td>\n",
       "      <td>30.3</td>\n",
       "    </tr>\n",
       "    <tr>\n",
       "      <th>2017</th>\n",
       "      <td>33.3</td>\n",
       "      <td>18.7</td>\n",
       "      <td>12.2</td>\n",
       "    </tr>\n",
       "    <tr>\n",
       "      <th>2017</th>\n",
       "      <td>23.6</td>\n",
       "      <td>13.5</td>\n",
       "      <td>25.8</td>\n",
       "    </tr>\n",
       "    <tr>\n",
       "      <th>2017</th>\n",
       "      <td>31.8</td>\n",
       "      <td>12.4</td>\n",
       "      <td>27.1</td>\n",
       "    </tr>\n",
       "  </tbody>\n",
       "</table>\n",
       "</div>"
      ],
      "text/plain": [
       "           Group A MPG  Group B MPG  Group C MPG\n",
       "DraftYear                                       \n",
       "2017              25.6         33.7          8.7\n",
       "2017              32.5         28.0         30.3\n",
       "2017              33.3         18.7         12.2\n",
       "2017              23.6         13.5         25.8\n",
       "2017              31.8         12.4         27.1"
      ]
     },
     "execution_count": 159,
     "metadata": {},
     "output_type": "execute_result"
    }
   ],
   "source": [
    "# Concat 3 groups MPG dataframes and save it as all_goup_mpg_df\n",
    "all_groups_mpg = [group_a_mpg, group_b_mpg, group_c_mpg]\n",
    "all_group_mpg_df = pd.concat(all_groups_mpg, axis = 1)\n",
    "# Review the dataframe\n",
    "all_group_mpg_df.head()"
   ]
  },
  {
   "cell_type": "code",
   "execution_count": 160,
   "id": "1460719e-899f-4fdc-8007-9b6031ddfc11",
   "metadata": {},
   "outputs": [
    {
     "data": {
      "text/html": [
       "<div>\n",
       "<style scoped>\n",
       "    .dataframe tbody tr th:only-of-type {\n",
       "        vertical-align: middle;\n",
       "    }\n",
       "\n",
       "    .dataframe tbody tr th {\n",
       "        vertical-align: top;\n",
       "    }\n",
       "\n",
       "    .dataframe thead th {\n",
       "        text-align: right;\n",
       "    }\n",
       "</style>\n",
       "<table border=\"1\" class=\"dataframe\">\n",
       "  <thead>\n",
       "    <tr style=\"text-align: right;\">\n",
       "      <th></th>\n",
       "      <th>Group A MPG</th>\n",
       "      <th>Group B MPG</th>\n",
       "      <th>Group C MPG</th>\n",
       "    </tr>\n",
       "  </thead>\n",
       "  <tbody>\n",
       "    <tr>\n",
       "      <th>count</th>\n",
       "      <td>25.000000</td>\n",
       "      <td>25.000000</td>\n",
       "      <td>25.000000</td>\n",
       "    </tr>\n",
       "    <tr>\n",
       "      <th>mean</th>\n",
       "      <td>30.440000</td>\n",
       "      <td>19.876000</td>\n",
       "      <td>17.516000</td>\n",
       "    </tr>\n",
       "    <tr>\n",
       "      <th>std</th>\n",
       "      <td>3.564875</td>\n",
       "      <td>6.696969</td>\n",
       "      <td>7.851416</td>\n",
       "    </tr>\n",
       "    <tr>\n",
       "      <th>min</th>\n",
       "      <td>21.400000</td>\n",
       "      <td>9.500000</td>\n",
       "      <td>3.000000</td>\n",
       "    </tr>\n",
       "    <tr>\n",
       "      <th>25%</th>\n",
       "      <td>28.200000</td>\n",
       "      <td>14.200000</td>\n",
       "      <td>10.700000</td>\n",
       "    </tr>\n",
       "    <tr>\n",
       "      <th>50%</th>\n",
       "      <td>31.700000</td>\n",
       "      <td>19.200000</td>\n",
       "      <td>17.800000</td>\n",
       "    </tr>\n",
       "    <tr>\n",
       "      <th>75%</th>\n",
       "      <td>33.000000</td>\n",
       "      <td>24.500000</td>\n",
       "      <td>25.100000</td>\n",
       "    </tr>\n",
       "    <tr>\n",
       "      <th>max</th>\n",
       "      <td>35.400000</td>\n",
       "      <td>33.700000</td>\n",
       "      <td>30.300000</td>\n",
       "    </tr>\n",
       "  </tbody>\n",
       "</table>\n",
       "</div>"
      ],
      "text/plain": [
       "       Group A MPG  Group B MPG  Group C MPG\n",
       "count    25.000000    25.000000    25.000000\n",
       "mean     30.440000    19.876000    17.516000\n",
       "std       3.564875     6.696969     7.851416\n",
       "min      21.400000     9.500000     3.000000\n",
       "25%      28.200000    14.200000    10.700000\n",
       "50%      31.700000    19.200000    17.800000\n",
       "75%      33.000000    24.500000    25.100000\n",
       "max      35.400000    33.700000    30.300000"
      ]
     },
     "execution_count": 160,
     "metadata": {},
     "output_type": "execute_result"
    }
   ],
   "source": [
    "# Get a summary of all groups MPG data\n",
    "all_group_mpg_df.describe()"
   ]
  },
  {
   "cell_type": "code",
   "execution_count": 161,
   "id": "6ad7901a-f461-4216-bed5-dea30b373a8c",
   "metadata": {},
   "outputs": [
    {
     "data": {
      "text/plain": [
       "<AxesSubplot:>"
      ]
     },
     "execution_count": 161,
     "metadata": {},
     "output_type": "execute_result"
    },
    {
     "data": {
      "image/png": "[encoded data removed]",
      "text/plain": [
       "<Figure size 432x288 with 1 Axes>"
      ]
     },
     "metadata": {
      "needs_background": "light"
     },
     "output_type": "display_data"
    }
   ],
   "source": [
    "# Visualize all groups MPG data using box plot\n",
    "all_group_mpg_df.plot.box()"
   ]
  },
  {
   "cell_type": "code",
   "execution_count": null,
   "id": "3d3f8b39-8e0c-4fb2-8c5e-7c80f80e3db4",
   "metadata": {},
   "outputs": [],
   "source": []
  },
  {
   "cell_type": "code",
   "execution_count": 162,
   "id": "43aac3c7-b6c8-49cf-b8c5-3b6d141e4c2e",
   "metadata": {},
   "outputs": [],
   "source": [
    "# Select group A PPG data: rename the column and save it into a new dataframe\n",
    "group_a_ppg = pd.DataFrame(group_a_df[['PPG']])\n",
    "group_a_ppg.rename(columns = {'PPG': 'Group A PPG'}, inplace = True)\n",
    "# Select group B PPG data: rename the column and save it into a new dataframe\n",
    "group_b_ppg = pd.DataFrame(group_b_df[['PPG']])\n",
    "group_b_ppg.rename(columns = {'PPG': 'Group B PPG'}, inplace = True)\n",
    "# Select group C PPG data: rename the column and save it into a new dataframe\n",
    "group_c_ppg = pd.DataFrame(group_c_df[['PPG']])\n",
    "group_c_ppg.rename(columns = {'PPG': 'Group C PPG'}, inplace = True)"
   ]
  },
  {
   "cell_type": "code",
   "execution_count": 163,
   "id": "0622e15a-9376-46a9-83b8-5ac92f7f9f5c",
   "metadata": {},
   "outputs": [
    {
     "data": {
      "text/html": [
       "<div>\n",
       "<style scoped>\n",
       "    .dataframe tbody tr th:only-of-type {\n",
       "        vertical-align: middle;\n",
       "    }\n",
       "\n",
       "    .dataframe tbody tr th {\n",
       "        vertical-align: top;\n",
       "    }\n",
       "\n",
       "    .dataframe thead th {\n",
       "        text-align: right;\n",
       "    }\n",
       "</style>\n",
       "<table border=\"1\" class=\"dataframe\">\n",
       "  <thead>\n",
       "    <tr style=\"text-align: right;\">\n",
       "      <th></th>\n",
       "      <th>Group A PPG</th>\n",
       "      <th>Group B PPG</th>\n",
       "      <th>Group C PPG</th>\n",
       "    </tr>\n",
       "    <tr>\n",
       "      <th>DraftYear</th>\n",
       "      <th></th>\n",
       "      <th></th>\n",
       "      <th></th>\n",
       "    </tr>\n",
       "  </thead>\n",
       "  <tbody>\n",
       "    <tr>\n",
       "      <th>2017</th>\n",
       "      <td>10.9</td>\n",
       "      <td>23.7</td>\n",
       "      <td>2.3</td>\n",
       "    </tr>\n",
       "    <tr>\n",
       "      <th>2017</th>\n",
       "      <td>11.9</td>\n",
       "      <td>13.0</td>\n",
       "      <td>15.4</td>\n",
       "    </tr>\n",
       "    <tr>\n",
       "      <th>2017</th>\n",
       "      <td>20.4</td>\n",
       "      <td>6.5</td>\n",
       "      <td>4.8</td>\n",
       "    </tr>\n",
       "    <tr>\n",
       "      <th>2017</th>\n",
       "      <td>11.5</td>\n",
       "      <td>3.9</td>\n",
       "      <td>11.6</td>\n",
       "    </tr>\n",
       "    <tr>\n",
       "      <th>2017</th>\n",
       "      <td>18.7</td>\n",
       "      <td>4.4</td>\n",
       "      <td>9.5</td>\n",
       "    </tr>\n",
       "  </tbody>\n",
       "</table>\n",
       "</div>"
      ],
      "text/plain": [
       "           Group A PPG  Group B PPG  Group C PPG\n",
       "DraftYear                                       \n",
       "2017              10.9         23.7          2.3\n",
       "2017              11.9         13.0         15.4\n",
       "2017              20.4          6.5          4.8\n",
       "2017              11.5          3.9         11.6\n",
       "2017              18.7          4.4          9.5"
      ]
     },
     "execution_count": 163,
     "metadata": {},
     "output_type": "execute_result"
    }
   ],
   "source": [
    "# Concat 3 groups PPG dataframes and save it as all_goup_ppg_df\n",
    "all_groups_ppg = [group_a_ppg, group_b_ppg, group_c_ppg]\n",
    "all_group_ppg_df = pd.concat(all_groups_ppg, axis = 1)\n",
    "# Review the dataframe\n",
    "all_group_ppg_df.head()"
   ]
  },
  {
   "cell_type": "code",
   "execution_count": 164,
   "id": "503224cb-9a55-430b-9e36-76dd5fd0b6bb",
   "metadata": {},
   "outputs": [
    {
     "data": {
      "text/html": [
       "<div>\n",
       "<style scoped>\n",
       "    .dataframe tbody tr th:only-of-type {\n",
       "        vertical-align: middle;\n",
       "    }\n",
       "\n",
       "    .dataframe tbody tr th {\n",
       "        vertical-align: top;\n",
       "    }\n",
       "\n",
       "    .dataframe thead th {\n",
       "        text-align: right;\n",
       "    }\n",
       "</style>\n",
       "<table border=\"1\" class=\"dataframe\">\n",
       "  <thead>\n",
       "    <tr style=\"text-align: right;\">\n",
       "      <th></th>\n",
       "      <th>Group A PPG</th>\n",
       "      <th>Group B PPG</th>\n",
       "      <th>Group C PPG</th>\n",
       "    </tr>\n",
       "  </thead>\n",
       "  <tbody>\n",
       "    <tr>\n",
       "      <th>count</th>\n",
       "      <td>25.000000</td>\n",
       "      <td>25.00000</td>\n",
       "      <td>25.000000</td>\n",
       "    </tr>\n",
       "    <tr>\n",
       "      <th>mean</th>\n",
       "      <td>16.096000</td>\n",
       "      <td>8.35600</td>\n",
       "      <td>7.328000</td>\n",
       "    </tr>\n",
       "    <tr>\n",
       "      <th>std</th>\n",
       "      <td>4.796047</td>\n",
       "      <td>5.02652</td>\n",
       "      <td>4.087126</td>\n",
       "    </tr>\n",
       "    <tr>\n",
       "      <th>min</th>\n",
       "      <td>9.100000</td>\n",
       "      <td>3.20000</td>\n",
       "      <td>1.000000</td>\n",
       "    </tr>\n",
       "    <tr>\n",
       "      <th>25%</th>\n",
       "      <td>12.600000</td>\n",
       "      <td>4.40000</td>\n",
       "      <td>3.800000</td>\n",
       "    </tr>\n",
       "    <tr>\n",
       "      <th>50%</th>\n",
       "      <td>15.700000</td>\n",
       "      <td>6.80000</td>\n",
       "      <td>6.800000</td>\n",
       "    </tr>\n",
       "    <tr>\n",
       "      <th>75%</th>\n",
       "      <td>18.700000</td>\n",
       "      <td>9.80000</td>\n",
       "      <td>9.800000</td>\n",
       "    </tr>\n",
       "    <tr>\n",
       "      <th>max</th>\n",
       "      <td>26.000000</td>\n",
       "      <td>23.70000</td>\n",
       "      <td>15.400000</td>\n",
       "    </tr>\n",
       "  </tbody>\n",
       "</table>\n",
       "</div>"
      ],
      "text/plain": [
       "       Group A PPG  Group B PPG  Group C PPG\n",
       "count    25.000000     25.00000    25.000000\n",
       "mean     16.096000      8.35600     7.328000\n",
       "std       4.796047      5.02652     4.087126\n",
       "min       9.100000      3.20000     1.000000\n",
       "25%      12.600000      4.40000     3.800000\n",
       "50%      15.700000      6.80000     6.800000\n",
       "75%      18.700000      9.80000     9.800000\n",
       "max      26.000000     23.70000    15.400000"
      ]
     },
     "execution_count": 164,
     "metadata": {},
     "output_type": "execute_result"
    }
   ],
   "source": [
    "# Get a summary of all groups PPG data\n",
    "all_group_ppg_df.describe()"
   ]
  },
  {
   "cell_type": "code",
   "execution_count": 165,
   "id": "29c61b9e-25c2-4cf2-b05a-3eaf7299f87a",
   "metadata": {},
   "outputs": [
    {
     "data": {
      "text/plain": [
       "<AxesSubplot:>"
      ]
     },
     "execution_count": 165,
     "metadata": {},
     "output_type": "execute_result"
    },
    {
     "data": {
      "image/png": "[encoded data removed]",
      "text/plain": [
       "<Figure size 432x288 with 1 Axes>"
      ]
     },
     "metadata": {
      "needs_background": "light"
     },
     "output_type": "display_data"
    }
   ],
   "source": [
    "# Visualize all groups PPG data using box plot\n",
    "all_group_ppg_df.plot.box()"
   ]
  },
  {
   "cell_type": "code",
   "execution_count": null,
   "id": "9a0d88af-a05e-48ff-8144-c030b4ed2696",
   "metadata": {},
   "outputs": [],
   "source": []
  },
  {
   "cell_type": "code",
   "execution_count": 166,
   "id": "b6324d02-dc71-4fcc-b295-8cf9db22d8be",
   "metadata": {},
   "outputs": [],
   "source": [
    "# Select group A RPG data: rename the column and save it into a new dataframe\n",
    "group_a_rpg = pd.DataFrame(group_a_df[['RPG']])\n",
    "group_a_rpg.rename(columns = {'RPG': 'Group A RPG'}, inplace = True)\n",
    "# Select group B RPG data: rename the column and save it into a new dataframe\n",
    "group_b_rpg = pd.DataFrame(group_b_df[['RPG']])\n",
    "group_b_rpg.rename(columns = {'RPG': 'Group B RPG'}, inplace = True)\n",
    "# Select group C RPG data: rename the column and save it into a new dataframe\n",
    "group_c_rpg = pd.DataFrame(group_c_df[['RPG']])\n",
    "group_c_rpg.rename(columns = {'RPG': 'Group C RPG'}, inplace = True)"
   ]
  },
  {
   "cell_type": "code",
   "execution_count": 167,
   "id": "4e203ad9-d3c5-414d-a91b-4f6f8236b4c1",
   "metadata": {},
   "outputs": [
    {
     "data": {
      "text/html": [
       "<div>\n",
       "<style scoped>\n",
       "    .dataframe tbody tr th:only-of-type {\n",
       "        vertical-align: middle;\n",
       "    }\n",
       "\n",
       "    .dataframe tbody tr th {\n",
       "        vertical-align: top;\n",
       "    }\n",
       "\n",
       "    .dataframe thead th {\n",
       "        text-align: right;\n",
       "    }\n",
       "</style>\n",
       "<table border=\"1\" class=\"dataframe\">\n",
       "  <thead>\n",
       "    <tr style=\"text-align: right;\">\n",
       "      <th></th>\n",
       "      <th>Group A RPG</th>\n",
       "      <th>Group B RPG</th>\n",
       "      <th>Group C RPG</th>\n",
       "    </tr>\n",
       "    <tr>\n",
       "      <th>DraftYear</th>\n",
       "      <th></th>\n",
       "      <th></th>\n",
       "      <th></th>\n",
       "    </tr>\n",
       "  </thead>\n",
       "  <tbody>\n",
       "    <tr>\n",
       "      <th>2017</th>\n",
       "      <td>3.3</td>\n",
       "      <td>4.2</td>\n",
       "      <td>2.9</td>\n",
       "    </tr>\n",
       "    <tr>\n",
       "      <th>2017</th>\n",
       "      <td>5.7</td>\n",
       "      <td>8.2</td>\n",
       "      <td>6.2</td>\n",
       "    </tr>\n",
       "    <tr>\n",
       "      <th>2017</th>\n",
       "      <td>6.6</td>\n",
       "      <td>2.5</td>\n",
       "      <td>4.5</td>\n",
       "    </tr>\n",
       "    <tr>\n",
       "      <th>2017</th>\n",
       "      <td>4.1</td>\n",
       "      <td>2.7</td>\n",
       "      <td>3.3</td>\n",
       "    </tr>\n",
       "    <tr>\n",
       "      <th>2017</th>\n",
       "      <td>3.5</td>\n",
       "      <td>3.1</td>\n",
       "      <td>5.8</td>\n",
       "    </tr>\n",
       "  </tbody>\n",
       "</table>\n",
       "</div>"
      ],
      "text/plain": [
       "           Group A RPG  Group B RPG  Group C RPG\n",
       "DraftYear                                       \n",
       "2017               3.3          4.2          2.9\n",
       "2017               5.7          8.2          6.2\n",
       "2017               6.6          2.5          4.5\n",
       "2017               4.1          2.7          3.3\n",
       "2017               3.5          3.1          5.8"
      ]
     },
     "execution_count": 167,
     "metadata": {},
     "output_type": "execute_result"
    }
   ],
   "source": [
    "# Concat 3 groups RPG dataframes and save it as all_goup_rpg_df\n",
    "all_groups_rpg = [group_a_rpg, group_b_rpg, group_c_rpg]\n",
    "all_group_rpg_df = pd.concat(all_groups_rpg, axis = 1)\n",
    "# Review the dataframe\n",
    "all_group_rpg_df.head()"
   ]
  },
  {
   "cell_type": "code",
   "execution_count": 168,
   "id": "ffbd03f0-0410-49f6-a338-229f13e6b4b1",
   "metadata": {},
   "outputs": [
    {
     "data": {
      "text/html": [
       "<div>\n",
       "<style scoped>\n",
       "    .dataframe tbody tr th:only-of-type {\n",
       "        vertical-align: middle;\n",
       "    }\n",
       "\n",
       "    .dataframe tbody tr th {\n",
       "        vertical-align: top;\n",
       "    }\n",
       "\n",
       "    .dataframe thead th {\n",
       "        text-align: right;\n",
       "    }\n",
       "</style>\n",
       "<table border=\"1\" class=\"dataframe\">\n",
       "  <thead>\n",
       "    <tr style=\"text-align: right;\">\n",
       "      <th></th>\n",
       "      <th>Group A RPG</th>\n",
       "      <th>Group B RPG</th>\n",
       "      <th>Group C RPG</th>\n",
       "    </tr>\n",
       "  </thead>\n",
       "  <tbody>\n",
       "    <tr>\n",
       "      <th>count</th>\n",
       "      <td>25.000000</td>\n",
       "      <td>25.000000</td>\n",
       "      <td>25.000000</td>\n",
       "    </tr>\n",
       "    <tr>\n",
       "      <th>mean</th>\n",
       "      <td>5.388000</td>\n",
       "      <td>3.624000</td>\n",
       "      <td>3.264000</td>\n",
       "    </tr>\n",
       "    <tr>\n",
       "      <th>std</th>\n",
       "      <td>1.990042</td>\n",
       "      <td>1.833776</td>\n",
       "      <td>1.608799</td>\n",
       "    </tr>\n",
       "    <tr>\n",
       "      <th>min</th>\n",
       "      <td>2.500000</td>\n",
       "      <td>1.200000</td>\n",
       "      <td>1.000000</td>\n",
       "    </tr>\n",
       "    <tr>\n",
       "      <th>25%</th>\n",
       "      <td>3.900000</td>\n",
       "      <td>2.300000</td>\n",
       "      <td>2.000000</td>\n",
       "    </tr>\n",
       "    <tr>\n",
       "      <th>50%</th>\n",
       "      <td>5.100000</td>\n",
       "      <td>3.100000</td>\n",
       "      <td>2.700000</td>\n",
       "    </tr>\n",
       "    <tr>\n",
       "      <th>75%</th>\n",
       "      <td>6.600000</td>\n",
       "      <td>4.600000</td>\n",
       "      <td>4.300000</td>\n",
       "    </tr>\n",
       "    <tr>\n",
       "      <th>max</th>\n",
       "      <td>10.600000</td>\n",
       "      <td>8.200000</td>\n",
       "      <td>6.400000</td>\n",
       "    </tr>\n",
       "  </tbody>\n",
       "</table>\n",
       "</div>"
      ],
      "text/plain": [
       "       Group A RPG  Group B RPG  Group C RPG\n",
       "count    25.000000    25.000000    25.000000\n",
       "mean      5.388000     3.624000     3.264000\n",
       "std       1.990042     1.833776     1.608799\n",
       "min       2.500000     1.200000     1.000000\n",
       "25%       3.900000     2.300000     2.000000\n",
       "50%       5.100000     3.100000     2.700000\n",
       "75%       6.600000     4.600000     4.300000\n",
       "max      10.600000     8.200000     6.400000"
      ]
     },
     "execution_count": 168,
     "metadata": {},
     "output_type": "execute_result"
    }
   ],
   "source": [
    "# Get a summary of all groups RPG data\n",
    "all_group_rpg_df.describe()"
   ]
  },
  {
   "cell_type": "code",
   "execution_count": 169,
   "id": "18ab785a-1296-4da3-8c5a-15fb48564c64",
   "metadata": {},
   "outputs": [
    {
     "data": {
      "text/plain": [
       "<AxesSubplot:>"
      ]
     },
     "execution_count": 169,
     "metadata": {},
     "output_type": "execute_result"
    },
    {
     "data": {
      "image/png": "[encoded data removed]",
      "text/plain": [
       "<Figure size 432x288 with 1 Axes>"
      ]
     },
     "metadata": {
      "needs_background": "light"
     },
     "output_type": "display_data"
    }
   ],
   "source": [
    "# Visualize all groups RPG data using box plot\n",
    "all_group_rpg_df.plot.box()"
   ]
  },
  {
   "cell_type": "code",
   "execution_count": null,
   "id": "c6f8b31a-fc55-4f86-a043-0bb273686ce2",
   "metadata": {},
   "outputs": [],
   "source": []
  },
  {
   "cell_type": "code",
   "execution_count": 170,
   "id": "9fa0c3ba-b9de-468f-ba18-7ab19d6c09ae",
   "metadata": {},
   "outputs": [],
   "source": [
    "# Select group A APG data: rename the column and save it into a new dataframe\n",
    "group_a_apg = pd.DataFrame(group_a_df[['APG']])\n",
    "group_a_apg.rename(columns = {'APG': 'Group A APG'}, inplace = True)\n",
    "# Select group B APG data: rename the column and save it into a new dataframe\n",
    "group_b_apg = pd.DataFrame(group_b_df[['APG']])\n",
    "group_b_apg.rename(columns = {'APG': 'Group B APG'}, inplace = True)\n",
    "# Select group C APG data: rename the column and save it into a new dataframe\n",
    "group_c_apg = pd.DataFrame(group_c_df[['APG']])\n",
    "group_c_apg.rename(columns = {'APG': 'Group C APG'}, inplace = True)"
   ]
  },
  {
   "cell_type": "code",
   "execution_count": 171,
   "id": "63125410-335b-4e6f-aa64-699846eb1324",
   "metadata": {},
   "outputs": [
    {
     "data": {
      "text/html": [
       "<div>\n",
       "<style scoped>\n",
       "    .dataframe tbody tr th:only-of-type {\n",
       "        vertical-align: middle;\n",
       "    }\n",
       "\n",
       "    .dataframe tbody tr th {\n",
       "        vertical-align: top;\n",
       "    }\n",
       "\n",
       "    .dataframe thead th {\n",
       "        text-align: right;\n",
       "    }\n",
       "</style>\n",
       "<table border=\"1\" class=\"dataframe\">\n",
       "  <thead>\n",
       "    <tr style=\"text-align: right;\">\n",
       "      <th></th>\n",
       "      <th>Group A APG</th>\n",
       "      <th>Group B APG</th>\n",
       "      <th>Group C APG</th>\n",
       "    </tr>\n",
       "    <tr>\n",
       "      <th>DraftYear</th>\n",
       "      <th></th>\n",
       "      <th></th>\n",
       "      <th></th>\n",
       "    </tr>\n",
       "  </thead>\n",
       "  <tbody>\n",
       "    <tr>\n",
       "      <th>2017</th>\n",
       "      <td>4.6</td>\n",
       "      <td>4.4</td>\n",
       "      <td>0.7</td>\n",
       "    </tr>\n",
       "    <tr>\n",
       "      <th>2017</th>\n",
       "      <td>6.2</td>\n",
       "      <td>3.5</td>\n",
       "      <td>2.1</td>\n",
       "    </tr>\n",
       "    <tr>\n",
       "      <th>2017</th>\n",
       "      <td>2.9</td>\n",
       "      <td>1.1</td>\n",
       "      <td>0.5</td>\n",
       "    </tr>\n",
       "    <tr>\n",
       "      <th>2017</th>\n",
       "      <td>1.9</td>\n",
       "      <td>0.9</td>\n",
       "      <td>3.9</td>\n",
       "    </tr>\n",
       "    <tr>\n",
       "      <th>2017</th>\n",
       "      <td>6.2</td>\n",
       "      <td>0.7</td>\n",
       "      <td>2.0</td>\n",
       "    </tr>\n",
       "  </tbody>\n",
       "</table>\n",
       "</div>"
      ],
      "text/plain": [
       "           Group A APG  Group B APG  Group C APG\n",
       "DraftYear                                       \n",
       "2017               4.6          4.4          0.7\n",
       "2017               6.2          3.5          2.1\n",
       "2017               2.9          1.1          0.5\n",
       "2017               1.9          0.9          3.9\n",
       "2017               6.2          0.7          2.0"
      ]
     },
     "execution_count": 171,
     "metadata": {},
     "output_type": "execute_result"
    }
   ],
   "source": [
    "# Concat 3 groups APG dataframes and save it as all_goup_apg_df\n",
    "all_groups_apg = [group_a_apg, group_b_apg, group_c_apg]\n",
    "all_group_apg_df = pd.concat(all_groups_apg, axis = 1)\n",
    "# Review the dataframe\n",
    "all_group_apg_df.head()"
   ]
  },
  {
   "cell_type": "code",
   "execution_count": 172,
   "id": "92f7dd6e-21b6-4c62-860b-dc2517fb6f6c",
   "metadata": {},
   "outputs": [
    {
     "data": {
      "text/html": [
       "<div>\n",
       "<style scoped>\n",
       "    .dataframe tbody tr th:only-of-type {\n",
       "        vertical-align: middle;\n",
       "    }\n",
       "\n",
       "    .dataframe tbody tr th {\n",
       "        vertical-align: top;\n",
       "    }\n",
       "\n",
       "    .dataframe thead th {\n",
       "        text-align: right;\n",
       "    }\n",
       "</style>\n",
       "<table border=\"1\" class=\"dataframe\">\n",
       "  <thead>\n",
       "    <tr style=\"text-align: right;\">\n",
       "      <th></th>\n",
       "      <th>Group A APG</th>\n",
       "      <th>Group B APG</th>\n",
       "      <th>Group C APG</th>\n",
       "    </tr>\n",
       "  </thead>\n",
       "  <tbody>\n",
       "    <tr>\n",
       "      <th>count</th>\n",
       "      <td>25.00000</td>\n",
       "      <td>25.000000</td>\n",
       "      <td>25.000000</td>\n",
       "    </tr>\n",
       "    <tr>\n",
       "      <th>mean</th>\n",
       "      <td>3.79200</td>\n",
       "      <td>1.724000</td>\n",
       "      <td>1.464000</td>\n",
       "    </tr>\n",
       "    <tr>\n",
       "      <th>std</th>\n",
       "      <td>2.38431</td>\n",
       "      <td>1.246756</td>\n",
       "      <td>1.089296</td>\n",
       "    </tr>\n",
       "    <tr>\n",
       "      <th>min</th>\n",
       "      <td>0.70000</td>\n",
       "      <td>0.300000</td>\n",
       "      <td>0.000000</td>\n",
       "    </tr>\n",
       "    <tr>\n",
       "      <th>25%</th>\n",
       "      <td>1.90000</td>\n",
       "      <td>0.900000</td>\n",
       "      <td>0.700000</td>\n",
       "    </tr>\n",
       "    <tr>\n",
       "      <th>50%</th>\n",
       "      <td>3.20000</td>\n",
       "      <td>1.200000</td>\n",
       "      <td>1.300000</td>\n",
       "    </tr>\n",
       "    <tr>\n",
       "      <th>75%</th>\n",
       "      <td>5.80000</td>\n",
       "      <td>2.300000</td>\n",
       "      <td>2.000000</td>\n",
       "    </tr>\n",
       "    <tr>\n",
       "      <th>max</th>\n",
       "      <td>8.90000</td>\n",
       "      <td>5.000000</td>\n",
       "      <td>4.500000</td>\n",
       "    </tr>\n",
       "  </tbody>\n",
       "</table>\n",
       "</div>"
      ],
      "text/plain": [
       "       Group A APG  Group B APG  Group C APG\n",
       "count     25.00000    25.000000    25.000000\n",
       "mean       3.79200     1.724000     1.464000\n",
       "std        2.38431     1.246756     1.089296\n",
       "min        0.70000     0.300000     0.000000\n",
       "25%        1.90000     0.900000     0.700000\n",
       "50%        3.20000     1.200000     1.300000\n",
       "75%        5.80000     2.300000     2.000000\n",
       "max        8.90000     5.000000     4.500000"
      ]
     },
     "execution_count": 172,
     "metadata": {},
     "output_type": "execute_result"
    }
   ],
   "source": [
    "# Get a summary of all groups APG data\n",
    "all_group_apg_df.describe()"
   ]
  },
  {
   "cell_type": "code",
   "execution_count": 173,
   "id": "5425f6b0-6ed7-4166-8469-534aebcb6d04",
   "metadata": {},
   "outputs": [
    {
     "data": {
      "text/plain": [
       "<AxesSubplot:>"
      ]
     },
     "execution_count": 173,
     "metadata": {},
     "output_type": "execute_result"
    },
    {
     "data": {
      "image/png": "[encoded data removed]",
      "text/plain": [
       "<Figure size 432x288 with 1 Axes>"
      ]
     },
     "metadata": {
      "needs_background": "light"
     },
     "output_type": "display_data"
    }
   ],
   "source": [
    "# Visualize all groups APG data using box plot\n",
    "all_group_apg_df.plot.box()"
   ]
  },
  {
   "cell_type": "code",
   "execution_count": null,
   "id": "516a282e-1d6b-43e1-a33b-1b4ca6f4eba2",
   "metadata": {},
   "outputs": [],
   "source": []
  },
  {
   "cell_type": "code",
   "execution_count": 174,
   "id": "ce4c9c52-c0cd-4df4-8af3-f6eef803bfe4",
   "metadata": {},
   "outputs": [],
   "source": [
    "# Select group A contract worth data: rename the column and save it into a new dataframe\n",
    "group_a_contract = pd.DataFrame(group_a_df[['Contract Worth']])\n",
    "group_a_contract.rename(columns = {'Contract Worth': 'Group A Contract Worth'}, inplace = True)\n",
    "# Select group B contract worth data: rename the column and save it into a new dataframe\n",
    "group_b_contract = pd.DataFrame(group_b_df[['Contract Worth']])\n",
    "group_b_contract.rename(columns = {'Contract Worth': 'Group B Contract Worth'}, inplace = True)\n",
    "# Select group C contract worth data: rename the column and save it into a new dataframe\n",
    "group_c_contract = pd.DataFrame(group_c_df[['Contract Worth']])\n",
    "group_c_contract.rename(columns = {'Contract Worth': 'Group C Contract Worth'}, inplace = True)"
   ]
  },
  {
   "cell_type": "code",
   "execution_count": 175,
   "id": "7b15f598-ba7f-4da4-9c48-28f056325b8b",
   "metadata": {},
   "outputs": [
    {
     "data": {
      "text/html": [
       "<div>\n",
       "<style scoped>\n",
       "    .dataframe tbody tr th:only-of-type {\n",
       "        vertical-align: middle;\n",
       "    }\n",
       "\n",
       "    .dataframe tbody tr th {\n",
       "        vertical-align: top;\n",
       "    }\n",
       "\n",
       "    .dataframe thead th {\n",
       "        text-align: right;\n",
       "    }\n",
       "</style>\n",
       "<table border=\"1\" class=\"dataframe\">\n",
       "  <thead>\n",
       "    <tr style=\"text-align: right;\">\n",
       "      <th></th>\n",
       "      <th>Group A Contract Worth</th>\n",
       "      <th>Group B Contract Worth</th>\n",
       "      <th>Group C Contract Worth</th>\n",
       "    </tr>\n",
       "    <tr>\n",
       "      <th>DraftYear</th>\n",
       "      <th></th>\n",
       "      <th></th>\n",
       "      <th></th>\n",
       "    </tr>\n",
       "  </thead>\n",
       "  <tbody>\n",
       "    <tr>\n",
       "      <th>2017</th>\n",
       "      <td>33727701.0</td>\n",
       "      <td>13092144.0</td>\n",
       "      <td>7955043.0</td>\n",
       "    </tr>\n",
       "    <tr>\n",
       "      <th>2017</th>\n",
       "      <td>30184438.0</td>\n",
       "      <td>12587510.0</td>\n",
       "      <td>7727382.0</td>\n",
       "    </tr>\n",
       "    <tr>\n",
       "      <th>2017</th>\n",
       "      <td>27118800.0</td>\n",
       "      <td>12098915.0</td>\n",
       "      <td>7681457.0</td>\n",
       "    </tr>\n",
       "    <tr>\n",
       "      <th>2017</th>\n",
       "      <td>24118800.0</td>\n",
       "      <td>11497652.0</td>\n",
       "      <td>7625397.0</td>\n",
       "    </tr>\n",
       "    <tr>\n",
       "      <th>2017</th>\n",
       "      <td>22157109.0</td>\n",
       "      <td>10927154.0</td>\n",
       "      <td>7570779.0</td>\n",
       "    </tr>\n",
       "  </tbody>\n",
       "</table>\n",
       "</div>"
      ],
      "text/plain": [
       "           Group A Contract Worth  Group B Contract Worth  \\\n",
       "DraftYear                                                   \n",
       "2017                   33727701.0              13092144.0   \n",
       "2017                   30184438.0              12587510.0   \n",
       "2017                   27118800.0              12098915.0   \n",
       "2017                   24118800.0              11497652.0   \n",
       "2017                   22157109.0              10927154.0   \n",
       "\n",
       "           Group C Contract Worth  \n",
       "DraftYear                          \n",
       "2017                    7955043.0  \n",
       "2017                    7727382.0  \n",
       "2017                    7681457.0  \n",
       "2017                    7625397.0  \n",
       "2017                    7570779.0  "
      ]
     },
     "execution_count": 175,
     "metadata": {},
     "output_type": "execute_result"
    }
   ],
   "source": [
    "# Concat 3 groups contract worth dataframes and save it as all_goup_contract_df\n",
    "all_groups_contract = [group_a_contract, group_b_contract, group_c_contract]\n",
    "all_group_contract_df = pd.concat(all_groups_contract, axis = 1)\n",
    "# Review the dataframe\n",
    "all_group_contract_df.head()"
   ]
  },
  {
   "cell_type": "code",
   "execution_count": 176,
   "id": "f57abb30-d312-4422-a349-d8d3fc79d6a8",
   "metadata": {},
   "outputs": [
    {
     "data": {
      "text/html": [
       "<div>\n",
       "<style scoped>\n",
       "    .dataframe tbody tr th:only-of-type {\n",
       "        vertical-align: middle;\n",
       "    }\n",
       "\n",
       "    .dataframe tbody tr th {\n",
       "        vertical-align: top;\n",
       "    }\n",
       "\n",
       "    .dataframe thead th {\n",
       "        text-align: right;\n",
       "    }\n",
       "</style>\n",
       "<table border=\"1\" class=\"dataframe\">\n",
       "  <thead>\n",
       "    <tr style=\"text-align: right;\">\n",
       "      <th></th>\n",
       "      <th>Group A Contract Worth</th>\n",
       "      <th>Group B Contract Worth</th>\n",
       "      <th>Group C Contract Worth</th>\n",
       "    </tr>\n",
       "  </thead>\n",
       "  <tbody>\n",
       "    <tr>\n",
       "      <th>count</th>\n",
       "      <td>2.500000e+01</td>\n",
       "      <td>2.500000e+01</td>\n",
       "      <td>2.500000e+01</td>\n",
       "    </tr>\n",
       "    <tr>\n",
       "      <th>mean</th>\n",
       "      <td>3.398147e+07</td>\n",
       "      <td>1.487708e+07</td>\n",
       "      <td>9.457335e+06</td>\n",
       "    </tr>\n",
       "    <tr>\n",
       "      <th>std</th>\n",
       "      <td>6.343022e+06</td>\n",
       "      <td>1.853445e+06</td>\n",
       "      <td>1.065834e+06</td>\n",
       "    </tr>\n",
       "    <tr>\n",
       "      <th>min</th>\n",
       "      <td>2.215711e+07</td>\n",
       "      <td>1.092715e+07</td>\n",
       "      <td>7.570779e+06</td>\n",
       "    </tr>\n",
       "    <tr>\n",
       "      <th>25%</th>\n",
       "      <td>2.928044e+07</td>\n",
       "      <td>1.379106e+07</td>\n",
       "      <td>9.095405e+06</td>\n",
       "    </tr>\n",
       "    <tr>\n",
       "      <th>50%</th>\n",
       "      <td>3.306463e+07</td>\n",
       "      <td>1.509819e+07</td>\n",
       "      <td>1.001738e+07</td>\n",
       "    </tr>\n",
       "    <tr>\n",
       "      <th>75%</th>\n",
       "      <td>3.961984e+07</td>\n",
       "      <td>1.636453e+07</td>\n",
       "      <td>1.024349e+07</td>\n",
       "    </tr>\n",
       "    <tr>\n",
       "      <th>max</th>\n",
       "      <td>4.559882e+07</td>\n",
       "      <td>1.770436e+07</td>\n",
       "      <td>1.076312e+07</td>\n",
       "    </tr>\n",
       "  </tbody>\n",
       "</table>\n",
       "</div>"
      ],
      "text/plain": [
       "       Group A Contract Worth  Group B Contract Worth  Group C Contract Worth\n",
       "count            2.500000e+01            2.500000e+01            2.500000e+01\n",
       "mean             3.398147e+07            1.487708e+07            9.457335e+06\n",
       "std              6.343022e+06            1.853445e+06            1.065834e+06\n",
       "min              2.215711e+07            1.092715e+07            7.570779e+06\n",
       "25%              2.928044e+07            1.379106e+07            9.095405e+06\n",
       "50%              3.306463e+07            1.509819e+07            1.001738e+07\n",
       "75%              3.961984e+07            1.636453e+07            1.024349e+07\n",
       "max              4.559882e+07            1.770436e+07            1.076312e+07"
      ]
     },
     "execution_count": 176,
     "metadata": {},
     "output_type": "execute_result"
    }
   ],
   "source": [
    "# Get a summary of all groups contract worth data\n",
    "all_group_contract_df.describe()"
   ]
  },
  {
   "cell_type": "code",
   "execution_count": 177,
   "id": "d8d8243d-5664-4b33-9ce1-01071f8cf779",
   "metadata": {},
   "outputs": [
    {
     "data": {
      "text/plain": [
       "<AxesSubplot:>"
      ]
     },
     "execution_count": 177,
     "metadata": {},
     "output_type": "execute_result"
    },
    {
     "data": {
      "image/png": "[encoded data removed]",
      "text/plain": [
       "<Figure size 432x288 with 1 Axes>"
      ]
     },
     "metadata": {
      "needs_background": "light"
     },
     "output_type": "display_data"
    }
   ],
   "source": [
    "# Visualize all groups contract worth data using box plot\n",
    "all_group_contract_df.plot.box()"
   ]
  },
  {
   "cell_type": "code",
   "execution_count": null,
   "id": "2cee2d45-23ce-4b7d-abb6-480e37d9e7a7",
   "metadata": {},
   "outputs": [],
   "source": []
  },
  {
   "cell_type": "code",
   "execution_count": 178,
   "id": "cace5c06-7410-4813-811b-07ae17160b82",
   "metadata": {},
   "outputs": [
    {
     "data": {
      "text/html": [
       "<div>\n",
       "<style scoped>\n",
       "    .dataframe tbody tr th:only-of-type {\n",
       "        vertical-align: middle;\n",
       "    }\n",
       "\n",
       "    .dataframe tbody tr th {\n",
       "        vertical-align: top;\n",
       "    }\n",
       "\n",
       "    .dataframe thead th {\n",
       "        text-align: right;\n",
       "    }\n",
       "</style>\n",
       "<table border=\"1\" class=\"dataframe\">\n",
       "  <thead>\n",
       "    <tr style=\"text-align: right;\">\n",
       "      <th></th>\n",
       "      <th>Pk</th>\n",
       "      <th>DraftYr</th>\n",
       "      <th>MPG</th>\n",
       "      <th>PPG</th>\n",
       "      <th>RPG</th>\n",
       "      <th>APG</th>\n",
       "      <th>FG%</th>\n",
       "      <th>3P%</th>\n",
       "      <th>FT%</th>\n",
       "      <th>Contract Worth</th>\n",
       "    </tr>\n",
       "    <tr>\n",
       "      <th>DraftYear</th>\n",
       "      <th></th>\n",
       "      <th></th>\n",
       "      <th></th>\n",
       "      <th></th>\n",
       "      <th></th>\n",
       "      <th></th>\n",
       "      <th></th>\n",
       "      <th></th>\n",
       "      <th></th>\n",
       "      <th></th>\n",
       "    </tr>\n",
       "  </thead>\n",
       "  <tbody>\n",
       "    <tr>\n",
       "      <th>2017</th>\n",
       "      <td>3.0</td>\n",
       "      <td>2017.0</td>\n",
       "      <td>29.36</td>\n",
       "      <td>14.68</td>\n",
       "      <td>4.64</td>\n",
       "      <td>4.36</td>\n",
       "      <td>0.4352</td>\n",
       "      <td>0.3238</td>\n",
       "      <td>0.7038</td>\n",
       "      <td>27461369.6</td>\n",
       "    </tr>\n",
       "    <tr>\n",
       "      <th>2018</th>\n",
       "      <td>3.0</td>\n",
       "      <td>2018.0</td>\n",
       "      <td>29.96</td>\n",
       "      <td>19.24</td>\n",
       "      <td>7.10</td>\n",
       "      <td>4.10</td>\n",
       "      <td>0.4876</td>\n",
       "      <td>0.3062</td>\n",
       "      <td>0.7594</td>\n",
       "      <td>32958521.2</td>\n",
       "    </tr>\n",
       "    <tr>\n",
       "      <th>2019</th>\n",
       "      <td>3.0</td>\n",
       "      <td>2019.0</td>\n",
       "      <td>32.08</td>\n",
       "      <td>18.46</td>\n",
       "      <td>4.74</td>\n",
       "      <td>4.14</td>\n",
       "      <td>0.4752</td>\n",
       "      <td>0.3498</td>\n",
       "      <td>0.7554</td>\n",
       "      <td>36134441.6</td>\n",
       "    </tr>\n",
       "    <tr>\n",
       "      <th>2020</th>\n",
       "      <td>3.0</td>\n",
       "      <td>2020.0</td>\n",
       "      <td>28.82</td>\n",
       "      <td>13.66</td>\n",
       "      <td>4.90</td>\n",
       "      <td>2.80</td>\n",
       "      <td>0.4588</td>\n",
       "      <td>0.3426</td>\n",
       "      <td>0.7394</td>\n",
       "      <td>36134441.6</td>\n",
       "    </tr>\n",
       "    <tr>\n",
       "      <th>2021</th>\n",
       "      <td>3.0</td>\n",
       "      <td>2021.0</td>\n",
       "      <td>31.98</td>\n",
       "      <td>14.44</td>\n",
       "      <td>5.56</td>\n",
       "      <td>3.56</td>\n",
       "      <td>0.4242</td>\n",
       "      <td>0.2888</td>\n",
       "      <td>0.7710</td>\n",
       "      <td>37218566.2</td>\n",
       "    </tr>\n",
       "  </tbody>\n",
       "</table>\n",
       "</div>"
      ],
      "text/plain": [
       "            Pk  DraftYr    MPG    PPG   RPG   APG     FG%     3P%     FT%  \\\n",
       "DraftYear                                                                   \n",
       "2017       3.0   2017.0  29.36  14.68  4.64  4.36  0.4352  0.3238  0.7038   \n",
       "2018       3.0   2018.0  29.96  19.24  7.10  4.10  0.4876  0.3062  0.7594   \n",
       "2019       3.0   2019.0  32.08  18.46  4.74  4.14  0.4752  0.3498  0.7554   \n",
       "2020       3.0   2020.0  28.82  13.66  4.90  2.80  0.4588  0.3426  0.7394   \n",
       "2021       3.0   2021.0  31.98  14.44  5.56  3.56  0.4242  0.2888  0.7710   \n",
       "\n",
       "           Contract Worth  \n",
       "DraftYear                  \n",
       "2017           27461369.6  \n",
       "2018           32958521.2  \n",
       "2019           36134441.6  \n",
       "2020           36134441.6  \n",
       "2021           37218566.2  "
      ]
     },
     "execution_count": 178,
     "metadata": {},
     "output_type": "execute_result"
    }
   ],
   "source": [
    "# Calculate averages of each category for top 5 picks of each year and save to group_a_ave dataframe\n",
    "group_a_ave=group_a_df.groupby('DraftYear').mean().sort_values('DraftYear')\n",
    "# Review group_a_ave dataframe\n",
    "group_a_ave"
   ]
  },
  {
   "cell_type": "code",
   "execution_count": 227,
   "id": "7d32a880-a762-45e9-8fb7-2a3d3b5c9b3a",
   "metadata": {},
   "outputs": [],
   "source": [
    "mean = group_a_ave[['MPG','PPG', 'RPG', 'APG','FG%', '3P%','FT%']].mean()"
   ]
  },
  {
   "cell_type": "code",
   "execution_count": 241,
   "id": "3271480a-405b-49f7-aecb-2428300ed2b3",
   "metadata": {},
   "outputs": [],
   "source": [
    "mean_df = mean.to_frame(name='mean')"
   ]
  },
  {
   "cell_type": "code",
   "execution_count": null,
   "id": "bab9b46f-0105-4c87-ae9f-82d9cfc9b382",
   "metadata": {},
   "outputs": [],
   "source": []
  },
  {
   "cell_type": "code",
   "execution_count": null,
   "id": "8cb52824-fa5c-4256-9448-e847c4a68f72",
   "metadata": {},
   "outputs": [],
   "source": []
  },
  {
   "cell_type": "code",
   "execution_count": 245,
   "id": "35eef6b2-6c06-4959-89da-96fce354b410",
   "metadata": {},
   "outputs": [
    {
     "data": {
      "application/vnd.plotly.v1+json": {
       "config": {
        "plotlyServerURL": "https://plot.ly"
       },
       "data": [
        {
         "hovertemplate": "mean=%{theta}<extra></extra>",
         "legendgroup": "",
         "line": {
          "color": "#636efa",
          "dash": "solid"
         },
         "marker": {
          "symbol": "circle"
         },
         "mode": "lines",
         "name": "",
         "r": [
          30.439999999999998,
          16.096,
          5.388,
          3.7920000000000003,
          0.45620000000000005,
          0.32223999999999997,
          0.7458,
          30.439999999999998
         ],
         "showlegend": false,
         "subplot": "polar",
         "theta": [
          30.439999999999998,
          16.096,
          5.388,
          3.7920000000000003,
          0.45620000000000005,
          0.32223999999999997,
          0.7458,
          30.439999999999998
         ],
         "type": "scatterpolar"
        }
       ],
       "layout": {
        "legend": {
         "tracegroupgap": 0
        },
        "margin": {
         "t": 60
        },
        "polar": {
         "angularaxis": {
          "direction": "clockwise",
          "rotation": 90
         },
         "domain": {
          "x": [
           0,
           1
          ],
          "y": [
           0,
           1
          ]
         }
        },
        "template": {
         "data": {
          "bar": [
           {
            "error_x": {
             "color": "#2a3f5f"
            },
            "error_y": {
             "color": "#2a3f5f"
            },
            "marker": {
             "line": {
              "color": "#E5ECF6",
              "width": 0.5
             },
             "pattern": {
              "fillmode": "overlay",
              "size": 10,
              "solidity": 0.2
             }
            },
            "type": "bar"
           }
          ],
          "barpolar": [
           {
            "marker": {
             "line": {
              "color": "#E5ECF6",
              "width": 0.5
             },
             "pattern": {
              "fillmode": "overlay",
              "size": 10,
              "solidity": 0.2
             }
            },
            "type": "barpolar"
           }
          ],
          "carpet": [
           {
            "aaxis": {
             "endlinecolor": "#2a3f5f",
             "gridcolor": "white",
             "linecolor": "white",
             "minorgridcolor": "white",
             "startlinecolor": "#2a3f5f"
            },
            "baxis": {
             "endlinecolor": "#2a3f5f",
             "gridcolor": "white",
             "linecolor": "white",
             "minorgridcolor": "white",
             "startlinecolor": "#2a3f5f"
            },
            "type": "carpet"
           }
          ],
          "choropleth": [
           {
            "colorbar": {
             "outlinewidth": 0,
             "ticks": ""
            },
            "type": "choropleth"
           }
          ],
          "contour": [
           {
            "colorbar": {
             "outlinewidth": 0,
             "ticks": ""
            },
            "colorscale": [
             [
              0,
              "#0d0887"
             ],
             [
              0.1111111111111111,
              "#46039f"
             ],
             [
              0.2222222222222222,
              "#7201a8"
             ],
             [
              0.3333333333333333,
              "#9c179e"
             ],
             [
              0.4444444444444444,
              "#bd3786"
             ],
             [
              0.5555555555555556,
              "#d8576b"
             ],
             [
              0.6666666666666666,
              "#ed7953"
             ],
             [
              0.7777777777777778,
              "#fb9f3a"
             ],
             [
              0.8888888888888888,
              "#fdca26"
             ],
             [
              1,
              "#f0f921"
             ]
            ],
            "type": "contour"
           }
          ],
          "contourcarpet": [
           {
            "colorbar": {
             "outlinewidth": 0,
             "ticks": ""
            },
            "type": "contourcarpet"
           }
          ],
          "heatmap": [
           {
            "colorbar": {
             "outlinewidth": 0,
             "ticks": ""
            },
            "colorscale": [
             [
              0,
              "#0d0887"
             ],
             [
              0.1111111111111111,
              "#46039f"
             ],
             [
              0.2222222222222222,
              "#7201a8"
             ],
             [
              0.3333333333333333,
              "#9c179e"
             ],
             [
              0.4444444444444444,
              "#bd3786"
             ],
             [
              0.5555555555555556,
              "#d8576b"
             ],
             [
              0.6666666666666666,
              "#ed7953"
             ],
             [
              0.7777777777777778,
              "#fb9f3a"
             ],
             [
              0.8888888888888888,
              "#fdca26"
             ],
             [
              1,
              "#f0f921"
             ]
            ],
            "type": "heatmap"
           }
          ],
          "heatmapgl": [
           {
            "colorbar": {
             "outlinewidth": 0,
             "ticks": ""
            },
            "colorscale": [
             [
              0,
              "#0d0887"
             ],
             [
              0.1111111111111111,
              "#46039f"
             ],
             [
              0.2222222222222222,
              "#7201a8"
             ],
             [
              0.3333333333333333,
              "#9c179e"
             ],
             [
              0.4444444444444444,
              "#bd3786"
             ],
             [
              0.5555555555555556,
              "#d8576b"
             ],
             [
              0.6666666666666666,
              "#ed7953"
             ],
             [
              0.7777777777777778,
              "#fb9f3a"
             ],
             [
              0.8888888888888888,
              "#fdca26"
             ],
             [
              1,
              "#f0f921"
             ]
            ],
            "type": "heatmapgl"
           }
          ],
          "histogram": [
           {
            "marker": {
             "pattern": {
              "fillmode": "overlay",
              "size": 10,
              "solidity": 0.2
             }
            },
            "type": "histogram"
           }
          ],
          "histogram2d": [
           {
            "colorbar": {
             "outlinewidth": 0,
             "ticks": ""
            },
            "colorscale": [
             [
              0,
              "#0d0887"
             ],
             [
              0.1111111111111111,
              "#46039f"
             ],
             [
              0.2222222222222222,
              "#7201a8"
             ],
             [
              0.3333333333333333,
              "#9c179e"
             ],
             [
              0.4444444444444444,
              "#bd3786"
             ],
             [
              0.5555555555555556,
              "#d8576b"
             ],
             [
              0.6666666666666666,
              "#ed7953"
             ],
             [
              0.7777777777777778,
              "#fb9f3a"
             ],
             [
              0.8888888888888888,
              "#fdca26"
             ],
             [
              1,
              "#f0f921"
             ]
            ],
            "type": "histogram2d"
           }
          ],
          "histogram2dcontour": [
           {
            "colorbar": {
             "outlinewidth": 0,
             "ticks": ""
            },
            "colorscale": [
             [
              0,
              "#0d0887"
             ],
             [
              0.1111111111111111,
              "#46039f"
             ],
             [
              0.2222222222222222,
              "#7201a8"
             ],
             [
              0.3333333333333333,
              "#9c179e"
             ],
             [
              0.4444444444444444,
              "#bd3786"
             ],
             [
              0.5555555555555556,
              "#d8576b"
             ],
             [
              0.6666666666666666,
              "#ed7953"
             ],
             [
              0.7777777777777778,
              "#fb9f3a"
             ],
             [
              0.8888888888888888,
              "#fdca26"
             ],
             [
              1,
              "#f0f921"
             ]
            ],
            "type": "histogram2dcontour"
           }
          ],
          "mesh3d": [
           {
            "colorbar": {
             "outlinewidth": 0,
             "ticks": ""
            },
            "type": "mesh3d"
           }
          ],
          "parcoords": [
           {
            "line": {
             "colorbar": {
              "outlinewidth": 0,
              "ticks": ""
             }
            },
            "type": "parcoords"
           }
          ],
          "pie": [
           {
            "automargin": true,
            "type": "pie"
           }
          ],
          "scatter": [
           {
            "fillpattern": {
             "fillmode": "overlay",
             "size": 10,
             "solidity": 0.2
            },
            "type": "scatter"
           }
          ],
          "scatter3d": [
           {
            "line": {
             "colorbar": {
              "outlinewidth": 0,
              "ticks": ""
             }
            },
            "marker": {
             "colorbar": {
              "outlinewidth": 0,
              "ticks": ""
             }
            },
            "type": "scatter3d"
           }
          ],
          "scattercarpet": [
           {
            "marker": {
             "colorbar": {
              "outlinewidth": 0,
              "ticks": ""
             }
            },
            "type": "scattercarpet"
           }
          ],
          "scattergeo": [
           {
            "marker": {
             "colorbar": {
              "outlinewidth": 0,
              "ticks": ""
             }
            },
            "type": "scattergeo"
           }
          ],
          "scattergl": [
           {
            "marker": {
             "colorbar": {
              "outlinewidth": 0,
              "ticks": ""
             }
            },
            "type": "scattergl"
           }
          ],
          "scattermapbox": [
           {
            "marker": {
             "colorbar": {
              "outlinewidth": 0,
              "ticks": ""
             }
            },
            "type": "scattermapbox"
           }
          ],
          "scatterpolar": [
           {
            "marker": {
             "colorbar": {
              "outlinewidth": 0,
              "ticks": ""
             }
            },
            "type": "scatterpolar"
           }
          ],
          "scatterpolargl": [
           {
            "marker": {
             "colorbar": {
              "outlinewidth": 0,
              "ticks": ""
             }
            },
            "type": "scatterpolargl"
           }
          ],
          "scatterternary": [
           {
            "marker": {
             "colorbar": {
              "outlinewidth": 0,
              "ticks": ""
             }
            },
            "type": "scatterternary"
           }
          ],
          "surface": [
           {
            "colorbar": {
             "outlinewidth": 0,
             "ticks": ""
            },
            "colorscale": [
             [
              0,
              "#0d0887"
             ],
             [
              0.1111111111111111,
              "#46039f"
             ],
             [
              0.2222222222222222,
              "#7201a8"
             ],
             [
              0.3333333333333333,
              "#9c179e"
             ],
             [
              0.4444444444444444,
              "#bd3786"
             ],
             [
              0.5555555555555556,
              "#d8576b"
             ],
             [
              0.6666666666666666,
              "#ed7953"
             ],
             [
              0.7777777777777778,
              "#fb9f3a"
             ],
             [
              0.8888888888888888,
              "#fdca26"
             ],
             [
              1,
              "#f0f921"
             ]
            ],
            "type": "surface"
           }
          ],
          "table": [
           {
            "cells": {
             "fill": {
              "color": "#EBF0F8"
             },
             "line": {
              "color": "white"
             }
            },
            "header": {
             "fill": {
              "color": "#C8D4E3"
             },
             "line": {
              "color": "white"
             }
            },
            "type": "table"
           }
          ]
         },
         "layout": {
          "annotationdefaults": {
           "arrowcolor": "#2a3f5f",
           "arrowhead": 0,
           "arrowwidth": 1
          },
          "autotypenumbers": "strict",
          "coloraxis": {
           "colorbar": {
            "outlinewidth": 0,
            "ticks": ""
           }
          },
          "colorscale": {
           "diverging": [
            [
             0,
             "#8e0152"
            ],
            [
             0.1,
             "#c51b7d"
            ],
            [
             0.2,
             "#de77ae"
            ],
            [
             0.3,
             "#f1b6da"
            ],
            [
             0.4,
             "#fde0ef"
            ],
            [
             0.5,
             "#f7f7f7"
            ],
            [
             0.6,
             "#e6f5d0"
            ],
            [
             0.7,
             "#b8e186"
            ],
            [
             0.8,
             "#7fbc41"
            ],
            [
             0.9,
             "#4d9221"
            ],
            [
             1,
             "#276419"
            ]
           ],
           "sequential": [
            [
             0,
             "#0d0887"
            ],
            [
             0.1111111111111111,
             "#46039f"
            ],
            [
             0.2222222222222222,
             "#7201a8"
            ],
            [
             0.3333333333333333,
             "#9c179e"
            ],
            [
             0.4444444444444444,
             "#bd3786"
            ],
            [
             0.5555555555555556,
             "#d8576b"
            ],
            [
             0.6666666666666666,
             "#ed7953"
            ],
            [
             0.7777777777777778,
             "#fb9f3a"
            ],
            [
             0.8888888888888888,
             "#fdca26"
            ],
            [
             1,
             "#f0f921"
            ]
           ],
           "sequentialminus": [
            [
             0,
             "#0d0887"
            ],
            [
             0.1111111111111111,
             "#46039f"
            ],
            [
             0.2222222222222222,
             "#7201a8"
            ],
            [
             0.3333333333333333,
             "#9c179e"
            ],
            [
             0.4444444444444444,
             "#bd3786"
            ],
            [
             0.5555555555555556,
             "#d8576b"
            ],
            [
             0.6666666666666666,
             "#ed7953"
            ],
            [
             0.7777777777777778,
             "#fb9f3a"
            ],
            [
             0.8888888888888888,
             "#fdca26"
            ],
            [
             1,
             "#f0f921"
            ]
           ]
          },
          "colorway": [
           "#636efa",
           "#EF553B",
           "#00cc96",
           "#ab63fa",
           "#FFA15A",
           "#19d3f3",
           "#FF6692",
           "#B6E880",
           "#FF97FF",
           "#FECB52"
          ],
          "font": {
           "color": "#2a3f5f"
          },
          "geo": {
           "bgcolor": "white",
           "lakecolor": "white",
           "landcolor": "#E5ECF6",
           "showlakes": true,
           "showland": true,
           "subunitcolor": "white"
          },
          "hoverlabel": {
           "align": "left"
          },
          "hovermode": "closest",
          "mapbox": {
           "style": "light"
          },
          "paper_bgcolor": "white",
          "plot_bgcolor": "#E5ECF6",
          "polar": {
           "angularaxis": {
            "gridcolor": "white",
            "linecolor": "white",
            "ticks": ""
           },
           "bgcolor": "#E5ECF6",
           "radialaxis": {
            "gridcolor": "white",
            "linecolor": "white",
            "ticks": ""
           }
          },
          "scene": {
           "xaxis": {
            "backgroundcolor": "#E5ECF6",
            "gridcolor": "white",
            "gridwidth": 2,
            "linecolor": "white",
            "showbackground": true,
            "ticks": "",
            "zerolinecolor": "white"
           },
           "yaxis": {
            "backgroundcolor": "#E5ECF6",
            "gridcolor": "white",
            "gridwidth": 2,
            "linecolor": "white",
            "showbackground": true,
            "ticks": "",
            "zerolinecolor": "white"
           },
           "zaxis": {
            "backgroundcolor": "#E5ECF6",
            "gridcolor": "white",
            "gridwidth": 2,
            "linecolor": "white",
            "showbackground": true,
            "ticks": "",
            "zerolinecolor": "white"
           }
          },
          "shapedefaults": {
           "line": {
            "color": "#2a3f5f"
           }
          },
          "ternary": {
           "aaxis": {
            "gridcolor": "white",
            "linecolor": "white",
            "ticks": ""
           },
           "baxis": {
            "gridcolor": "white",
            "linecolor": "white",
            "ticks": ""
           },
           "bgcolor": "#E5ECF6",
           "caxis": {
            "gridcolor": "white",
            "linecolor": "white",
            "ticks": ""
           }
          },
          "title": {
           "x": 0.05
          },
          "xaxis": {
           "automargin": true,
           "gridcolor": "white",
           "linecolor": "white",
           "ticks": "",
           "title": {
            "standoff": 15
           },
           "zerolinecolor": "white",
           "zerolinewidth": 2
          },
          "yaxis": {
           "automargin": true,
           "gridcolor": "white",
           "linecolor": "white",
           "ticks": "",
           "title": {
            "standoff": 15
           },
           "zerolinecolor": "white",
           "zerolinewidth": 2
          }
         }
        }
       }
      },
      "text/html": [
       "<div>                            <div id=\"75159c8d-0836-4412-b150-8c9b29aa2a6a\" class=\"plotly-graph-div\" style=\"height:525px; width:100%;\"></div>            <script type=\"text/javascript\">                require([\"plotly\"], function(Plotly) {                    window.PLOTLYENV=window.PLOTLYENV || {};                                    if (document.getElementById(\"75159c8d-0836-4412-b150-8c9b29aa2a6a\")) {                    Plotly.newPlot(                        \"75159c8d-0836-4412-b150-8c9b29aa2a6a\",                        [{\"hovertemplate\":\"mean=%{theta}<extra></extra>\",\"legendgroup\":\"\",\"line\":{\"color\":\"#636efa\",\"dash\":\"solid\"},\"marker\":{\"symbol\":\"circle\"},\"mode\":\"lines\",\"name\":\"\",\"r\":[30.439999999999998,16.096,5.388,3.7920000000000003,0.45620000000000005,0.32223999999999997,0.7458,30.439999999999998],\"showlegend\":false,\"subplot\":\"polar\",\"theta\":[30.439999999999998,16.096,5.388,3.7920000000000003,0.45620000000000005,0.32223999999999997,0.7458,30.439999999999998],\"type\":\"scatterpolar\"}],                        {\"template\":{\"data\":{\"histogram2dcontour\":[{\"type\":\"histogram2dcontour\",\"colorbar\":{\"outlinewidth\":0,\"ticks\":\"\"},\"colorscale\":[[0.0,\"#0d0887\"],[0.1111111111111111,\"#46039f\"],[0.2222222222222222,\"#7201a8\"],[0.3333333333333333,\"#9c179e\"],[0.4444444444444444,\"#bd3786\"],[0.5555555555555556,\"#d8576b\"],[0.6666666666666666,\"#ed7953\"],[0.7777777777777778,\"#fb9f3a\"],[0.8888888888888888,\"#fdca26\"],[1.0,\"#f0f921\"]]}],\"choropleth\":[{\"type\":\"choropleth\",\"colorbar\":{\"outlinewidth\":0,\"ticks\":\"\"}}],\"histogram2d\":[{\"type\":\"histogram2d\",\"colorbar\":{\"outlinewidth\":0,\"ticks\":\"\"},\"colorscale\":[[0.0,\"#0d0887\"],[0.1111111111111111,\"#46039f\"],[0.2222222222222222,\"#7201a8\"],[0.3333333333333333,\"#9c179e\"],[0.4444444444444444,\"#bd3786\"],[0.5555555555555556,\"#d8576b\"],[0.6666666666666666,\"#ed7953\"],[0.7777777777777778,\"#fb9f3a\"],[0.8888888888888888,\"#fdca26\"],[1.0,\"#f0f921\"]]}],\"heatmap\":[{\"type\":\"heatmap\",\"colorbar\":{\"outlinewidth\":0,\"ticks\":\"\"},\"colorscale\":[[0.0,\"#0d0887\"],[0.1111111111111111,\"#46039f\"],[0.2222222222222222,\"#7201a8\"],[0.3333333333333333,\"#9c179e\"],[0.4444444444444444,\"#bd3786\"],[0.5555555555555556,\"#d8576b\"],[0.6666666666666666,\"#ed7953\"],[0.7777777777777778,\"#fb9f3a\"],[0.8888888888888888,\"#fdca26\"],[1.0,\"#f0f921\"]]}],\"heatmapgl\":[{\"type\":\"heatmapgl\",\"colorbar\":{\"outlinewidth\":0,\"ticks\":\"\"},\"colorscale\":[[0.0,\"#0d0887\"],[0.1111111111111111,\"#46039f\"],[0.2222222222222222,\"#7201a8\"],[0.3333333333333333,\"#9c179e\"],[0.4444444444444444,\"#bd3786\"],[0.5555555555555556,\"#d8576b\"],[0.6666666666666666,\"#ed7953\"],[0.7777777777777778,\"#fb9f3a\"],[0.8888888888888888,\"#fdca26\"],[1.0,\"#f0f921\"]]}],\"contourcarpet\":[{\"type\":\"contourcarpet\",\"colorbar\":{\"outlinewidth\":0,\"ticks\":\"\"}}],\"contour\":[{\"type\":\"contour\",\"colorbar\":{\"outlinewidth\":0,\"ticks\":\"\"},\"colorscale\":[[0.0,\"#0d0887\"],[0.1111111111111111,\"#46039f\"],[0.2222222222222222,\"#7201a8\"],[0.3333333333333333,\"#9c179e\"],[0.4444444444444444,\"#bd3786\"],[0.5555555555555556,\"#d8576b\"],[0.6666666666666666,\"#ed7953\"],[0.7777777777777778,\"#fb9f3a\"],[0.8888888888888888,\"#fdca26\"],[1.0,\"#f0f921\"]]}],\"surface\":[{\"type\":\"surface\",\"colorbar\":{\"outlinewidth\":0,\"ticks\":\"\"},\"colorscale\":[[0.0,\"#0d0887\"],[0.1111111111111111,\"#46039f\"],[0.2222222222222222,\"#7201a8\"],[0.3333333333333333,\"#9c179e\"],[0.4444444444444444,\"#bd3786\"],[0.5555555555555556,\"#d8576b\"],[0.6666666666666666,\"#ed7953\"],[0.7777777777777778,\"#fb9f3a\"],[0.8888888888888888,\"#fdca26\"],[1.0,\"#f0f921\"]]}],\"mesh3d\":[{\"type\":\"mesh3d\",\"colorbar\":{\"outlinewidth\":0,\"ticks\":\"\"}}],\"scatter\":[{\"fillpattern\":{\"fillmode\":\"overlay\",\"size\":10,\"solidity\":0.2},\"type\":\"scatter\"}],\"parcoords\":[{\"type\":\"parcoords\",\"line\":{\"colorbar\":{\"outlinewidth\":0,\"ticks\":\"\"}}}],\"scatterpolargl\":[{\"type\":\"scatterpolargl\",\"marker\":{\"colorbar\":{\"outlinewidth\":0,\"ticks\":\"\"}}}],\"bar\":[{\"error_x\":{\"color\":\"#2a3f5f\"},\"error_y\":{\"color\":\"#2a3f5f\"},\"marker\":{\"line\":{\"color\":\"#E5ECF6\",\"width\":0.5},\"pattern\":{\"fillmode\":\"overlay\",\"size\":10,\"solidity\":0.2}},\"type\":\"bar\"}],\"scattergeo\":[{\"type\":\"scattergeo\",\"marker\":{\"colorbar\":{\"outlinewidth\":0,\"ticks\":\"\"}}}],\"scatterpolar\":[{\"type\":\"scatterpolar\",\"marker\":{\"colorbar\":{\"outlinewidth\":0,\"ticks\":\"\"}}}],\"histogram\":[{\"marker\":{\"pattern\":{\"fillmode\":\"overlay\",\"size\":10,\"solidity\":0.2}},\"type\":\"histogram\"}],\"scattergl\":[{\"type\":\"scattergl\",\"marker\":{\"colorbar\":{\"outlinewidth\":0,\"ticks\":\"\"}}}],\"scatter3d\":[{\"type\":\"scatter3d\",\"line\":{\"colorbar\":{\"outlinewidth\":0,\"ticks\":\"\"}},\"marker\":{\"colorbar\":{\"outlinewidth\":0,\"ticks\":\"\"}}}],\"scattermapbox\":[{\"type\":\"scattermapbox\",\"marker\":{\"colorbar\":{\"outlinewidth\":0,\"ticks\":\"\"}}}],\"scatterternary\":[{\"type\":\"scatterternary\",\"marker\":{\"colorbar\":{\"outlinewidth\":0,\"ticks\":\"\"}}}],\"scattercarpet\":[{\"type\":\"scattercarpet\",\"marker\":{\"colorbar\":{\"outlinewidth\":0,\"ticks\":\"\"}}}],\"carpet\":[{\"aaxis\":{\"endlinecolor\":\"#2a3f5f\",\"gridcolor\":\"white\",\"linecolor\":\"white\",\"minorgridcolor\":\"white\",\"startlinecolor\":\"#2a3f5f\"},\"baxis\":{\"endlinecolor\":\"#2a3f5f\",\"gridcolor\":\"white\",\"linecolor\":\"white\",\"minorgridcolor\":\"white\",\"startlinecolor\":\"#2a3f5f\"},\"type\":\"carpet\"}],\"table\":[{\"cells\":{\"fill\":{\"color\":\"#EBF0F8\"},\"line\":{\"color\":\"white\"}},\"header\":{\"fill\":{\"color\":\"#C8D4E3\"},\"line\":{\"color\":\"white\"}},\"type\":\"table\"}],\"barpolar\":[{\"marker\":{\"line\":{\"color\":\"#E5ECF6\",\"width\":0.5},\"pattern\":{\"fillmode\":\"overlay\",\"size\":10,\"solidity\":0.2}},\"type\":\"barpolar\"}],\"pie\":[{\"automargin\":true,\"type\":\"pie\"}]},\"layout\":{\"autotypenumbers\":\"strict\",\"colorway\":[\"#636efa\",\"#EF553B\",\"#00cc96\",\"#ab63fa\",\"#FFA15A\",\"#19d3f3\",\"#FF6692\",\"#B6E880\",\"#FF97FF\",\"#FECB52\"],\"font\":{\"color\":\"#2a3f5f\"},\"hovermode\":\"closest\",\"hoverlabel\":{\"align\":\"left\"},\"paper_bgcolor\":\"white\",\"plot_bgcolor\":\"#E5ECF6\",\"polar\":{\"bgcolor\":\"#E5ECF6\",\"angularaxis\":{\"gridcolor\":\"white\",\"linecolor\":\"white\",\"ticks\":\"\"},\"radialaxis\":{\"gridcolor\":\"white\",\"linecolor\":\"white\",\"ticks\":\"\"}},\"ternary\":{\"bgcolor\":\"#E5ECF6\",\"aaxis\":{\"gridcolor\":\"white\",\"linecolor\":\"white\",\"ticks\":\"\"},\"baxis\":{\"gridcolor\":\"white\",\"linecolor\":\"white\",\"ticks\":\"\"},\"caxis\":{\"gridcolor\":\"white\",\"linecolor\":\"white\",\"ticks\":\"\"}},\"coloraxis\":{\"colorbar\":{\"outlinewidth\":0,\"ticks\":\"\"}},\"colorscale\":{\"sequential\":[[0.0,\"#0d0887\"],[0.1111111111111111,\"#46039f\"],[0.2222222222222222,\"#7201a8\"],[0.3333333333333333,\"#9c179e\"],[0.4444444444444444,\"#bd3786\"],[0.5555555555555556,\"#d8576b\"],[0.6666666666666666,\"#ed7953\"],[0.7777777777777778,\"#fb9f3a\"],[0.8888888888888888,\"#fdca26\"],[1.0,\"#f0f921\"]],\"sequentialminus\":[[0.0,\"#0d0887\"],[0.1111111111111111,\"#46039f\"],[0.2222222222222222,\"#7201a8\"],[0.3333333333333333,\"#9c179e\"],[0.4444444444444444,\"#bd3786\"],[0.5555555555555556,\"#d8576b\"],[0.6666666666666666,\"#ed7953\"],[0.7777777777777778,\"#fb9f3a\"],[0.8888888888888888,\"#fdca26\"],[1.0,\"#f0f921\"]],\"diverging\":[[0,\"#8e0152\"],[0.1,\"#c51b7d\"],[0.2,\"#de77ae\"],[0.3,\"#f1b6da\"],[0.4,\"#fde0ef\"],[0.5,\"#f7f7f7\"],[0.6,\"#e6f5d0\"],[0.7,\"#b8e186\"],[0.8,\"#7fbc41\"],[0.9,\"#4d9221\"],[1,\"#276419\"]]},\"xaxis\":{\"gridcolor\":\"white\",\"linecolor\":\"white\",\"ticks\":\"\",\"title\":{\"standoff\":15},\"zerolinecolor\":\"white\",\"automargin\":true,\"zerolinewidth\":2},\"yaxis\":{\"gridcolor\":\"white\",\"linecolor\":\"white\",\"ticks\":\"\",\"title\":{\"standoff\":15},\"zerolinecolor\":\"white\",\"automargin\":true,\"zerolinewidth\":2},\"scene\":{\"xaxis\":{\"backgroundcolor\":\"#E5ECF6\",\"gridcolor\":\"white\",\"linecolor\":\"white\",\"showbackground\":true,\"ticks\":\"\",\"zerolinecolor\":\"white\",\"gridwidth\":2},\"yaxis\":{\"backgroundcolor\":\"#E5ECF6\",\"gridcolor\":\"white\",\"linecolor\":\"white\",\"showbackground\":true,\"ticks\":\"\",\"zerolinecolor\":\"white\",\"gridwidth\":2},\"zaxis\":{\"backgroundcolor\":\"#E5ECF6\",\"gridcolor\":\"white\",\"linecolor\":\"white\",\"showbackground\":true,\"ticks\":\"\",\"zerolinecolor\":\"white\",\"gridwidth\":2}},\"shapedefaults\":{\"line\":{\"color\":\"#2a3f5f\"}},\"annotationdefaults\":{\"arrowcolor\":\"#2a3f5f\",\"arrowhead\":0,\"arrowwidth\":1},\"geo\":{\"bgcolor\":\"white\",\"landcolor\":\"#E5ECF6\",\"subunitcolor\":\"white\",\"showland\":true,\"showlakes\":true,\"lakecolor\":\"white\"},\"title\":{\"x\":0.05},\"mapbox\":{\"style\":\"light\"}}},\"polar\":{\"domain\":{\"x\":[0.0,1.0],\"y\":[0.0,1.0]},\"angularaxis\":{\"direction\":\"clockwise\",\"rotation\":90}},\"legend\":{\"tracegroupgap\":0},\"margin\":{\"t\":60}},                        {\"responsive\": true}                    ).then(function(){\n",
       "                            \n",
       "var gd = document.getElementById('75159c8d-0836-4412-b150-8c9b29aa2a6a');\n",
       "var x = new MutationObserver(function (mutations, observer) {{\n",
       "        var display = window.getComputedStyle(gd).display;\n",
       "        if (!display || display === 'none') {{\n",
       "            console.log([gd, 'removed!']);\n",
       "            Plotly.purge(gd);\n",
       "            observer.disconnect();\n",
       "        }}\n",
       "}});\n",
       "\n",
       "// Listen for the removal of the full notebook cells\n",
       "var notebookContainer = gd.closest('#notebook-container');\n",
       "if (notebookContainer) {{\n",
       "    x.observe(notebookContainer, {childList: true});\n",
       "}}\n",
       "\n",
       "// Listen for the clearing of the current output cell\n",
       "var outputEl = gd.closest('.output');\n",
       "if (outputEl) {{\n",
       "    x.observe(outputEl, {childList: true});\n",
       "}}\n",
       "\n",
       "                        })                };                });            </script>        </div>"
      ]
     },
     "metadata": {},
     "output_type": "display_data"
    }
   ],
   "source": [
    "df = pd.DataFrame(dict(\n",
    "    r=[1, 5, 2, 2, 3,4,5],\n",
    "    theta=['MPG','PPG', 'RPG', 'APG','FG%', '3P%','FT%']))\n",
    "fig = px.line_polar(mean_df, r='mean', theta='mean', line_close=True)\n",
    "fig.show()"
   ]
  },
  {
   "cell_type": "code",
   "execution_count": 179,
   "id": "6eb37393-a98b-469d-8f64-73c05dd58aa4",
   "metadata": {},
   "outputs": [],
   "source": [
    "# Calculate averages of each category for middle 5 picks of each year and save to group_b_ave dataframe\n",
    "group_b_ave=group_b_df.groupby('DraftYear').mean().sort_values('DraftYear')"
   ]
  },
  {
   "cell_type": "code",
   "execution_count": 180,
   "id": "80133ad6-a3ea-416a-8358-06701b73fe37",
   "metadata": {},
   "outputs": [],
   "source": [
    "# Calculate averages of each category for last 5 picks of each year and save to group_c_ave dataframe\n",
    "group_c_ave=group_c_df.groupby('DraftYear').mean().sort_values('DraftYear')"
   ]
  },
  {
   "cell_type": "code",
   "execution_count": null,
   "id": "8e211b03-cc3d-41bf-9ddb-6ea1a674697c",
   "metadata": {},
   "outputs": [],
   "source": []
  },
  {
   "cell_type": "code",
   "execution_count": null,
   "id": "b821ab3f-76d4-4601-b17f-10575dac2b04",
   "metadata": {},
   "outputs": [],
   "source": []
  },
  {
   "cell_type": "code",
   "execution_count": 181,
   "id": "cf1aaeb4-ef81-4ff7-9b11-be35cd40bbec",
   "metadata": {},
   "outputs": [],
   "source": [
    "# Use hvplot to visualize group A's minutes per game played 2017-2021\n",
    "group_a_mpg_plot = group_a_ave['MPG'].hvplot(\n",
    "    title='Average 1st Round Picks Minutes Per Game Played 2017-2021',\n",
    "    x='DraftYear',\n",
    "    y='MPG',\n",
    "    xlabel='Draft Year',\n",
    "    ylabel='Munites Per Game',\n",
    "    label='Group-A'\n",
    ")"
   ]
  },
  {
   "cell_type": "code",
   "execution_count": 182,
   "id": "cc6489f8-c817-46aa-9d05-fd6eb09e89c1",
   "metadata": {},
   "outputs": [],
   "source": [
    "# Use hvplot to visualize group B's minutes per game played 2017-2021\n",
    "group_b_mpg_plot = group_b_ave['MPG'].hvplot(\n",
    "    title='Average 1st Round Picks Minutes Per Game Played 2017-2021',\n",
    "    x='DraftYear',\n",
    "    y='MPG',\n",
    "    xlabel='Draft Year',\n",
    "    ylabel='Munites Per Game',\n",
    "    label='Group-B'\n",
    ")"
   ]
  },
  {
   "cell_type": "code",
   "execution_count": 183,
   "id": "5988ad24-16fd-45aa-8948-06917b69f249",
   "metadata": {},
   "outputs": [],
   "source": [
    "# Use hvplot to visualize group C's minutes per game played 2017-2021\n",
    "group_c_mpg_plot = group_c_ave['MPG'].hvplot(\n",
    "    title='Average 1st Round Picks Minutes Per Game Played 2017-2021',\n",
    "    x='DraftYear',\n",
    "    y='MPG',\n",
    "    xlabel='Draft Year',\n",
    "    ylabel='Munites Per Game',\n",
    "    label='Group-C'\n",
    ")"
   ]
  },
  {
   "cell_type": "code",
   "execution_count": 184,
   "id": "45643643-d019-4d5e-b046-210390d3866f",
   "metadata": {},
   "outputs": [
    {
     "data": {},
     "metadata": {},
     "output_type": "display_data"
    },
    {
     "data": {
      "application/vnd.holoviews_exec.v0+json": "",
      "text/html": [
       "<div id='6169'>\n",
       "\n",
       "\n",
       "\n",
       "\n",
       "\n",
       "  <div class=\"bk-root\" id=\"cb87afb5-b6c1-408f-87b8-418cd8d2f25d\" data-root-id=\"6169\"></div>\n",
       "</div>\n",
       "<script type=\"application/javascript\">(function(root) {\n",
       "  function embed_document(root) {\n",
       "    var docs_json = {\"0956dbce-c17f-4c22-9fa6-a178acdbb983\":{\"defs\":[{\"extends\":null,\"module\":null,\"name\":\"ReactiveHTML1\",\"overrides\":[],\"properties\":[]},{\"extends\":null,\"module\":null,\"name\":\"FlexBox1\",\"overrides\":[],\"properties\":[{\"default\":\"flex-start\",\"kind\":null,\"name\":\"align_content\"},{\"default\":\"flex-start\",\"kind\":null,\"name\":\"align_items\"},{\"default\":\"row\",\"kind\":null,\"name\":\"flex_direction\"},{\"default\":\"wrap\",\"kind\":null,\"name\":\"flex_wrap\"},{\"default\":\"flex-start\",\"kind\":null,\"name\":\"justify_content\"}]},{\"extends\":null,\"module\":null,\"name\":\"TemplateActions1\",\"overrides\":[],\"properties\":[{\"default\":0,\"kind\":null,\"name\":\"open_modal\"},{\"default\":0,\"kind\":null,\"name\":\"close_modal\"}]},{\"extends\":null,\"module\":null,\"name\":\"MaterialTemplateActions1\",\"overrides\":[],\"properties\":[{\"default\":0,\"kind\":null,\"name\":\"open_modal\"},{\"default\":0,\"kind\":null,\"name\":\"close_modal\"}]}],\"roots\":{\"references\":[{\"attributes\":{\"line_alpha\":0.2,\"line_color\":\"#e5ae38\",\"line_width\":2,\"x\":{\"field\":\"DraftYear\"},\"y\":{\"field\":\"MPG\"}},\"id\":\"6260\",\"type\":\"Line\"},{\"attributes\":{},\"id\":\"6213\",\"type\":\"Selection\"},{\"attributes\":{\"data\":{\"DraftYear\":[2017,2018,2019,2020,2021],\"MPG\":{\"__ndarray__\":\"wvUoXI9CNUBxPQrXo3AyQEjhehSuRzVAhetRuB6FNEDiehSuR+ExQA==\",\"dtype\":\"float64\",\"order\":\"little\",\"shape\":[5]}},\"selected\":{\"id\":\"6234\"},\"selection_policy\":{\"id\":\"6250\"}},\"id\":\"6233\",\"type\":\"ColumnDataSource\"},{\"attributes\":{\"line_alpha\":0.1,\"line_color\":\"#e5ae38\",\"line_width\":2,\"x\":{\"field\":\"DraftYear\"},\"y\":{\"field\":\"MPG\"}},\"id\":\"6259\",\"type\":\"Line\"},{\"attributes\":{\"click_policy\":\"mute\",\"coordinates\":null,\"group\":null,\"items\":[{\"id\":\"6231\"},{\"id\":\"6253\"},{\"id\":\"6277\"}]},\"id\":\"6230\",\"type\":\"Legend\"},{\"attributes\":{},\"id\":\"6227\",\"type\":\"UnionRenderers\"},{\"attributes\":{\"axis\":{\"id\":\"6189\"},\"coordinates\":null,\"dimension\":1,\"grid_line_color\":null,\"group\":null,\"ticker\":null},\"id\":\"6192\",\"type\":\"Grid\"},{\"attributes\":{\"source\":{\"id\":\"6233\"}},\"id\":\"6240\",\"type\":\"CDSView\"},{\"attributes\":{},\"id\":\"6208\",\"type\":\"AllLabels\"},{\"attributes\":{\"tools\":[{\"id\":\"6173\"},{\"id\":\"6193\"},{\"id\":\"6194\"},{\"id\":\"6195\"},{\"id\":\"6196\"},{\"id\":\"6197\"}]},\"id\":\"6199\",\"type\":\"Toolbar\"},{\"attributes\":{\"source\":{\"id\":\"6212\"}},\"id\":\"6219\",\"type\":\"CDSView\"},{\"attributes\":{\"line_color\":\"#e5ae38\",\"line_width\":2,\"x\":{\"field\":\"DraftYear\"},\"y\":{\"field\":\"MPG\"}},\"id\":\"6258\",\"type\":\"Line\"},{\"attributes\":{},\"id\":\"6250\",\"type\":\"UnionRenderers\"},{\"attributes\":{},\"id\":\"6193\",\"type\":\"SaveTool\"},{\"attributes\":{\"coordinates\":null,\"data_source\":{\"id\":\"6255\"},\"glyph\":{\"id\":\"6258\"},\"group\":null,\"hover_glyph\":null,\"muted_glyph\":{\"id\":\"6260\"},\"nonselection_glyph\":{\"id\":\"6259\"},\"selection_glyph\":{\"id\":\"6278\"},\"view\":{\"id\":\"6262\"}},\"id\":\"6261\",\"type\":\"GlyphRenderer\"},{\"attributes\":{\"line_alpha\":0.1,\"line_color\":\"#fc4f30\",\"line_width\":2,\"x\":{\"field\":\"DraftYear\"},\"y\":{\"field\":\"MPG\"}},\"id\":\"6237\",\"type\":\"Line\"},{\"attributes\":{},\"id\":\"6194\",\"type\":\"PanTool\"},{\"attributes\":{\"line_alpha\":0.2,\"line_color\":\"#30a2da\",\"line_width\":2,\"x\":{\"field\":\"DraftYear\"},\"y\":{\"field\":\"MPG\"}},\"id\":\"6217\",\"type\":\"Line\"},{\"attributes\":{\"callback\":null,\"renderers\":[{\"id\":\"6218\"},{\"id\":\"6239\"},{\"id\":\"6261\"}],\"tags\":[\"hv_created\"],\"tooltips\":[[\"DraftYear\",\"@{DraftYear}\"],[\"MPG\",\"@{MPG}\"]]},\"id\":\"6173\",\"type\":\"HoverTool\"},{\"attributes\":{},\"id\":\"6234\",\"type\":\"Selection\"},{\"attributes\":{\"axis_label\":\"Draft Year\",\"coordinates\":null,\"formatter\":{\"id\":\"6207\"},\"group\":null,\"major_label_policy\":{\"id\":\"6208\"},\"ticker\":{\"id\":\"6186\"}},\"id\":\"6185\",\"type\":\"LinearAxis\"},{\"attributes\":{\"line_color\":\"#30a2da\",\"line_width\":2,\"x\":{\"field\":\"DraftYear\"},\"y\":{\"field\":\"MPG\"}},\"id\":\"6215\",\"type\":\"Line\"},{\"attributes\":{\"line_color\":\"#fc4f30\",\"line_width\":2,\"x\":{\"field\":\"DraftYear\"},\"y\":{\"field\":\"MPG\"}},\"id\":\"6254\",\"type\":\"Line\"},{\"attributes\":{\"line_color\":\"#e5ae38\",\"line_width\":2,\"x\":{\"field\":\"DraftYear\"},\"y\":{\"field\":\"MPG\"}},\"id\":\"6278\",\"type\":\"Line\"},{\"attributes\":{\"axis\":{\"id\":\"6185\"},\"coordinates\":null,\"grid_line_color\":null,\"group\":null,\"ticker\":null},\"id\":\"6188\",\"type\":\"Grid\"},{\"attributes\":{},\"id\":\"6195\",\"type\":\"WheelZoomTool\"},{\"attributes\":{\"coordinates\":null,\"data_source\":{\"id\":\"6233\"},\"glyph\":{\"id\":\"6236\"},\"group\":null,\"hover_glyph\":null,\"muted_glyph\":{\"id\":\"6238\"},\"nonselection_glyph\":{\"id\":\"6237\"},\"selection_glyph\":{\"id\":\"6254\"},\"view\":{\"id\":\"6240\"}},\"id\":\"6239\",\"type\":\"GlyphRenderer\"},{\"attributes\":{\"overlay\":{\"id\":\"6198\"}},\"id\":\"6196\",\"type\":\"BoxZoomTool\"},{\"attributes\":{\"line_alpha\":0.2,\"line_color\":\"#fc4f30\",\"line_width\":2,\"x\":{\"field\":\"DraftYear\"},\"y\":{\"field\":\"MPG\"}},\"id\":\"6238\",\"type\":\"Line\"},{\"attributes\":{\"below\":[{\"id\":\"6185\"}],\"center\":[{\"id\":\"6188\"},{\"id\":\"6192\"},{\"id\":\"6230\"}],\"height\":300,\"left\":[{\"id\":\"6189\"}],\"margin\":[5,5,5,5],\"min_border_bottom\":10,\"min_border_left\":10,\"min_border_right\":10,\"min_border_top\":10,\"renderers\":[{\"id\":\"6218\"},{\"id\":\"6239\"},{\"id\":\"6261\"}],\"sizing_mode\":\"fixed\",\"title\":{\"id\":\"6177\"},\"toolbar\":{\"id\":\"6199\"},\"width\":700,\"x_range\":{\"id\":\"6171\"},\"x_scale\":{\"id\":\"6181\"},\"y_range\":{\"id\":\"6172\"},\"y_scale\":{\"id\":\"6183\"}},\"id\":\"6176\",\"subtype\":\"Figure\",\"type\":\"Plot\"},{\"attributes\":{},\"id\":\"6207\",\"type\":\"BasicTickFormatter\"},{\"attributes\":{\"margin\":[5,5,5,5],\"name\":\"HSpacer12640\",\"sizing_mode\":\"stretch_width\"},\"id\":\"6405\",\"type\":\"Spacer\"},{\"attributes\":{},\"id\":\"6183\",\"type\":\"LinearScale\"},{\"attributes\":{\"data\":{\"DraftYear\":[2017,2018,2019,2020,2021],\"MPG\":{\"__ndarray__\":\"XY/C9ShcPUD2KFyPwvU9QArXo3A9CkBAUrgehevRPEB7FK5H4fo/QA==\",\"dtype\":\"float64\",\"order\":\"little\",\"shape\":[5]}},\"selected\":{\"id\":\"6213\"},\"selection_policy\":{\"id\":\"6227\"}},\"id\":\"6212\",\"type\":\"ColumnDataSource\"},{\"attributes\":{\"line_color\":\"#fc4f30\",\"line_width\":2,\"x\":{\"field\":\"DraftYear\"},\"y\":{\"field\":\"MPG\"}},\"id\":\"6236\",\"type\":\"Line\"},{\"attributes\":{},\"id\":\"6197\",\"type\":\"ResetTool\"},{\"attributes\":{},\"id\":\"6186\",\"type\":\"BasicTicker\"},{\"attributes\":{},\"id\":\"6210\",\"type\":\"BasicTickFormatter\"},{\"attributes\":{\"label\":{\"value\":\"Group-B\"},\"renderers\":[{\"id\":\"6239\"}]},\"id\":\"6253\",\"type\":\"LegendItem\"},{\"attributes\":{\"bottom_units\":\"screen\",\"coordinates\":null,\"fill_alpha\":0.5,\"fill_color\":\"lightgrey\",\"group\":null,\"left_units\":\"screen\",\"level\":\"overlay\",\"line_alpha\":1.0,\"line_color\":\"black\",\"line_dash\":[4,4],\"line_width\":2,\"right_units\":\"screen\",\"syncable\":false,\"top_units\":\"screen\"},\"id\":\"6198\",\"type\":\"BoxAnnotation\"},{\"attributes\":{\"coordinates\":null,\"data_source\":{\"id\":\"6212\"},\"glyph\":{\"id\":\"6215\"},\"group\":null,\"hover_glyph\":null,\"muted_glyph\":{\"id\":\"6217\"},\"nonselection_glyph\":{\"id\":\"6216\"},\"selection_glyph\":{\"id\":\"6232\"},\"view\":{\"id\":\"6219\"}},\"id\":\"6218\",\"type\":\"GlyphRenderer\"},{\"attributes\":{\"children\":[{\"id\":\"6170\"},{\"id\":\"6176\"},{\"id\":\"6405\"}],\"margin\":[0,0,0,0],\"name\":\"Row12635\",\"tags\":[\"embedded\"]},\"id\":\"6169\",\"type\":\"Row\"},{\"attributes\":{\"line_alpha\":0.1,\"line_color\":\"#30a2da\",\"line_width\":2,\"x\":{\"field\":\"DraftYear\"},\"y\":{\"field\":\"MPG\"}},\"id\":\"6216\",\"type\":\"Line\"},{\"attributes\":{\"margin\":[5,5,5,5],\"name\":\"HSpacer12639\",\"sizing_mode\":\"stretch_width\"},\"id\":\"6170\",\"type\":\"Spacer\"},{\"attributes\":{\"data\":{\"DraftYear\":[2017,2018,2019,2020,2021],\"MPG\":{\"__ndarray__\":\"UrgehevRNEDNzMzMzEwwQD4K16NwvTNAj8L1KFwPMkBSuB6F61EpQA==\",\"dtype\":\"float64\",\"order\":\"little\",\"shape\":[5]}},\"selected\":{\"id\":\"6256\"},\"selection_policy\":{\"id\":\"6274\"}},\"id\":\"6255\",\"type\":\"ColumnDataSource\"},{\"attributes\":{\"end\":2021.0,\"reset_end\":2021.0,\"reset_start\":2017.0,\"start\":2017.0,\"tags\":[[[\"DraftYear\",\"DraftYear\",null]]]},\"id\":\"6171\",\"type\":\"Range1d\"},{\"attributes\":{\"coordinates\":null,\"group\":null,\"text\":\"Average 1st Round Picks Minutes Per Game Played 2017-2021\",\"text_color\":\"black\",\"text_font_size\":\"12pt\"},\"id\":\"6177\",\"type\":\"Title\"},{\"attributes\":{\"source\":{\"id\":\"6255\"}},\"id\":\"6262\",\"type\":\"CDSView\"},{\"attributes\":{\"label\":{\"value\":\"Group-A\"},\"renderers\":[{\"id\":\"6218\"}]},\"id\":\"6231\",\"type\":\"LegendItem\"},{\"attributes\":{\"end\":34.022,\"reset_end\":34.022,\"reset_start\":10.718,\"start\":10.718,\"tags\":[[[\"MPG\",\"MPG\",null]]]},\"id\":\"6172\",\"type\":\"Range1d\"},{\"attributes\":{\"line_color\":\"#30a2da\",\"line_width\":2,\"x\":{\"field\":\"DraftYear\"},\"y\":{\"field\":\"MPG\"}},\"id\":\"6232\",\"type\":\"Line\"},{\"attributes\":{},\"id\":\"6274\",\"type\":\"UnionRenderers\"},{\"attributes\":{},\"id\":\"6190\",\"type\":\"BasicTicker\"},{\"attributes\":{},\"id\":\"6211\",\"type\":\"AllLabels\"},{\"attributes\":{\"label\":{\"value\":\"Group-C\"},\"renderers\":[{\"id\":\"6261\"}]},\"id\":\"6277\",\"type\":\"LegendItem\"},{\"attributes\":{},\"id\":\"6256\",\"type\":\"Selection\"},{\"attributes\":{\"axis_label\":\"Munites Per Game\",\"coordinates\":null,\"formatter\":{\"id\":\"6210\"},\"group\":null,\"major_label_policy\":{\"id\":\"6211\"},\"ticker\":{\"id\":\"6190\"}},\"id\":\"6189\",\"type\":\"LinearAxis\"},{\"attributes\":{},\"id\":\"6181\",\"type\":\"LinearScale\"}],\"root_ids\":[\"6169\"]},\"title\":\"Bokeh Application\",\"version\":\"2.4.2\"}};\n",
       "    var render_items = [{\"docid\":\"0956dbce-c17f-4c22-9fa6-a178acdbb983\",\"root_ids\":[\"6169\"],\"roots\":{\"6169\":\"cb87afb5-b6c1-408f-87b8-418cd8d2f25d\"}}];\n",
       "    root.Bokeh.embed.embed_items_notebook(docs_json, render_items);\n",
       "  }\n",
       "  if (root.Bokeh !== undefined && root.Bokeh.Panel !== undefined) {\n",
       "    embed_document(root);\n",
       "  } else {\n",
       "    var attempts = 0;\n",
       "    var timer = setInterval(function(root) {\n",
       "      if (root.Bokeh !== undefined && root.Bokeh.Panel !== undefined) {\n",
       "        clearInterval(timer);\n",
       "        embed_document(root);\n",
       "      } else if (document.readyState == \"complete\") {\n",
       "        attempts++;\n",
       "        if (attempts > 200) {\n",
       "          clearInterval(timer);\n",
       "          console.log(\"Bokeh: ERROR: Unable to run BokehJS code because BokehJS library is missing\");\n",
       "        }\n",
       "      }\n",
       "    }, 25, root)\n",
       "  }\n",
       "})(window);</script>"
      ],
      "text/plain": [
       ":Overlay\n",
       "   .Curve.Group_hyphen_minus_A :Curve   [DraftYear]   (MPG)\n",
       "   .Curve.Group_hyphen_minus_B :Curve   [DraftYear]   (MPG)\n",
       "   .Curve.Group_hyphen_minus_C :Curve   [DraftYear]   (MPG)"
      ]
     },
     "execution_count": 184,
     "metadata": {
      "application/vnd.holoviews_exec.v0+json": {
       "id": "6169"
      }
     },
     "output_type": "execute_result"
    }
   ],
   "source": [
    "# Overlay all groups minutes per game played 2017-2021\n",
    "all_groups_mpg_plot = group_a_mpg_plot *group_b_mpg_plot * group_c_mpg_plot \n",
    "all_groups_mpg_plot"
   ]
  },
  {
   "cell_type": "code",
   "execution_count": null,
   "id": "47706f13-cc8e-4866-9110-400cfedaca3d",
   "metadata": {},
   "outputs": [],
   "source": []
  },
  {
   "cell_type": "code",
   "execution_count": 185,
   "id": "3ed8fedb-01c4-4289-b7a7-fd8f70404c12",
   "metadata": {},
   "outputs": [],
   "source": [
    "# Use hvplot to visualize group A's points per game 2017-2021\n",
    "group_a_ppg_plot = group_a_ave['PPG'].hvplot(\n",
    "    title='Average 1st Round Picks Points Per Game 2017-2021',\n",
    "    x='DraftYear',\n",
    "    y='PPG',\n",
    "    xlabel='Draft Year',\n",
    "    ylabel='Points Per Game',\n",
    "    label='Group-A'\n",
    ")"
   ]
  },
  {
   "cell_type": "code",
   "execution_count": 186,
   "id": "7ef51caa-04c7-45e1-888b-97da6a65fca5",
   "metadata": {},
   "outputs": [],
   "source": [
    "# Use hvplot to visualize group B's points per game 2017-2021\n",
    "group_b_ppg_plot = group_b_ave['PPG'].hvplot(\n",
    "    title='Average 1st Round Picks Points Per Game 2017-2021',\n",
    "    x='DraftYear',\n",
    "    y='PPG',\n",
    "    xlabel='Draft Year',\n",
    "    ylabel='Points Per Game',\n",
    "    label='Group-B'\n",
    ")"
   ]
  },
  {
   "cell_type": "code",
   "execution_count": 187,
   "id": "40f76e87-3858-406e-93ed-ffad6963f067",
   "metadata": {},
   "outputs": [],
   "source": [
    "# Use hvplot to visualize group C's points per game 2017-2021\n",
    "group_c_ppg_plot = group_c_ave['PPG'].hvplot(\n",
    "    title='Average 1st Round Picks Points Per Game 2017-2021',\n",
    "    x='DraftYear',\n",
    "    y='PPG',\n",
    "    xlabel='Draft Year',\n",
    "    ylabel='Points Per Game',\n",
    "    label='Group-C'\n",
    ")"
   ]
  },
  {
   "cell_type": "code",
   "execution_count": 188,
   "id": "729d7959-ad44-4991-8b5e-7cd446799dc0",
   "metadata": {},
   "outputs": [
    {
     "data": {},
     "metadata": {},
     "output_type": "display_data"
    },
    {
     "data": {
      "application/vnd.holoviews_exec.v0+json": "",
      "text/html": [
       "<div id='6477'>\n",
       "\n",
       "\n",
       "\n",
       "\n",
       "\n",
       "  <div class=\"bk-root\" id=\"94dae654-98bc-41fc-b124-a24dfc6d1e5e\" data-root-id=\"6477\"></div>\n",
       "</div>\n",
       "<script type=\"application/javascript\">(function(root) {\n",
       "  function embed_document(root) {\n",
       "    var docs_json = {\"4a347c46-6f7f-4bbc-ab84-7d97958eca61\":{\"defs\":[{\"extends\":null,\"module\":null,\"name\":\"ReactiveHTML1\",\"overrides\":[],\"properties\":[]},{\"extends\":null,\"module\":null,\"name\":\"FlexBox1\",\"overrides\":[],\"properties\":[{\"default\":\"flex-start\",\"kind\":null,\"name\":\"align_content\"},{\"default\":\"flex-start\",\"kind\":null,\"name\":\"align_items\"},{\"default\":\"row\",\"kind\":null,\"name\":\"flex_direction\"},{\"default\":\"wrap\",\"kind\":null,\"name\":\"flex_wrap\"},{\"default\":\"flex-start\",\"kind\":null,\"name\":\"justify_content\"}]},{\"extends\":null,\"module\":null,\"name\":\"TemplateActions1\",\"overrides\":[],\"properties\":[{\"default\":0,\"kind\":null,\"name\":\"open_modal\"},{\"default\":0,\"kind\":null,\"name\":\"close_modal\"}]},{\"extends\":null,\"module\":null,\"name\":\"MaterialTemplateActions1\",\"overrides\":[],\"properties\":[{\"default\":0,\"kind\":null,\"name\":\"open_modal\"},{\"default\":0,\"kind\":null,\"name\":\"close_modal\"}]}],\"roots\":{\"references\":[{\"attributes\":{},\"id\":\"6519\",\"type\":\"AllLabels\"},{\"attributes\":{\"line_color\":\"#30a2da\",\"line_width\":2,\"x\":{\"field\":\"DraftYear\"},\"y\":{\"field\":\"PPG\"}},\"id\":\"6540\",\"type\":\"Line\"},{\"attributes\":{\"line_alpha\":0.2,\"line_color\":\"#e5ae38\",\"line_width\":2,\"x\":{\"field\":\"DraftYear\"},\"y\":{\"field\":\"PPG\"}},\"id\":\"6568\",\"type\":\"Line\"},{\"attributes\":{\"source\":{\"id\":\"6541\"}},\"id\":\"6548\",\"type\":\"CDSView\"},{\"attributes\":{},\"id\":\"6501\",\"type\":\"SaveTool\"},{\"attributes\":{},\"id\":\"6518\",\"type\":\"BasicTickFormatter\"},{\"attributes\":{},\"id\":\"6502\",\"type\":\"PanTool\"},{\"attributes\":{\"below\":[{\"id\":\"6493\"}],\"center\":[{\"id\":\"6496\"},{\"id\":\"6500\"},{\"id\":\"6538\"}],\"height\":300,\"left\":[{\"id\":\"6497\"}],\"margin\":[5,5,5,5],\"min_border_bottom\":10,\"min_border_left\":10,\"min_border_right\":10,\"min_border_top\":10,\"renderers\":[{\"id\":\"6526\"},{\"id\":\"6547\"},{\"id\":\"6569\"}],\"sizing_mode\":\"fixed\",\"title\":{\"id\":\"6485\"},\"toolbar\":{\"id\":\"6507\"},\"width\":700,\"x_range\":{\"id\":\"6479\"},\"x_scale\":{\"id\":\"6489\"},\"y_range\":{\"id\":\"6480\"},\"y_scale\":{\"id\":\"6491\"}},\"id\":\"6484\",\"subtype\":\"Figure\",\"type\":\"Plot\"},{\"attributes\":{},\"id\":\"6503\",\"type\":\"WheelZoomTool\"},{\"attributes\":{\"tools\":[{\"id\":\"6481\"},{\"id\":\"6501\"},{\"id\":\"6502\"},{\"id\":\"6503\"},{\"id\":\"6504\"},{\"id\":\"6505\"}]},\"id\":\"6507\",\"type\":\"Toolbar\"},{\"attributes\":{},\"id\":\"6489\",\"type\":\"LinearScale\"},{\"attributes\":{\"line_alpha\":0.1,\"line_color\":\"#e5ae38\",\"line_width\":2,\"x\":{\"field\":\"DraftYear\"},\"y\":{\"field\":\"PPG\"}},\"id\":\"6567\",\"type\":\"Line\"},{\"attributes\":{\"overlay\":{\"id\":\"6506\"}},\"id\":\"6504\",\"type\":\"BoxZoomTool\"},{\"attributes\":{\"label\":{\"value\":\"Group-C\"},\"renderers\":[{\"id\":\"6569\"}]},\"id\":\"6585\",\"type\":\"LegendItem\"},{\"attributes\":{},\"id\":\"6558\",\"type\":\"UnionRenderers\"},{\"attributes\":{\"click_policy\":\"mute\",\"coordinates\":null,\"group\":null,\"items\":[{\"id\":\"6539\"},{\"id\":\"6561\"},{\"id\":\"6585\"}]},\"id\":\"6538\",\"type\":\"Legend\"},{\"attributes\":{\"data\":{\"DraftYear\":[2017,2018,2019,2020,2021],\"PPG\":{\"__ndarray__\":\"XY/C9ShcLUA+CtejcD0zQPYoXI/CdTJAUrgehetRK0DiehSuR+EsQA==\",\"dtype\":\"float64\",\"order\":\"little\",\"shape\":[5]}},\"selected\":{\"id\":\"6521\"},\"selection_policy\":{\"id\":\"6535\"}},\"id\":\"6520\",\"type\":\"ColumnDataSource\"},{\"attributes\":{\"source\":{\"id\":\"6563\"}},\"id\":\"6570\",\"type\":\"CDSView\"},{\"attributes\":{\"axis\":{\"id\":\"6497\"},\"coordinates\":null,\"dimension\":1,\"grid_line_color\":null,\"group\":null,\"ticker\":null},\"id\":\"6500\",\"type\":\"Grid\"},{\"attributes\":{\"line_alpha\":0.1,\"line_color\":\"#fc4f30\",\"line_width\":2,\"x\":{\"field\":\"DraftYear\"},\"y\":{\"field\":\"PPG\"}},\"id\":\"6545\",\"type\":\"Line\"},{\"attributes\":{\"source\":{\"id\":\"6520\"}},\"id\":\"6527\",\"type\":\"CDSView\"},{\"attributes\":{\"callback\":null,\"renderers\":[{\"id\":\"6526\"},{\"id\":\"6547\"},{\"id\":\"6569\"}],\"tags\":[\"hv_created\"],\"tooltips\":[[\"DraftYear\",\"@{DraftYear}\"],[\"PPG\",\"@{PPG}\"]]},\"id\":\"6481\",\"type\":\"HoverTool\"},{\"attributes\":{},\"id\":\"6505\",\"type\":\"ResetTool\"},{\"attributes\":{},\"id\":\"6542\",\"type\":\"Selection\"},{\"attributes\":{},\"id\":\"6491\",\"type\":\"LinearScale\"},{\"attributes\":{\"line_color\":\"#e5ae38\",\"line_width\":2,\"x\":{\"field\":\"DraftYear\"},\"y\":{\"field\":\"PPG\"}},\"id\":\"6566\",\"type\":\"Line\"},{\"attributes\":{\"coordinates\":null,\"data_source\":{\"id\":\"6563\"},\"glyph\":{\"id\":\"6566\"},\"group\":null,\"hover_glyph\":null,\"muted_glyph\":{\"id\":\"6568\"},\"nonselection_glyph\":{\"id\":\"6567\"},\"selection_glyph\":{\"id\":\"6586\"},\"view\":{\"id\":\"6570\"}},\"id\":\"6569\",\"type\":\"GlyphRenderer\"},{\"attributes\":{\"line_color\":\"#e5ae38\",\"line_width\":2,\"x\":{\"field\":\"DraftYear\"},\"y\":{\"field\":\"PPG\"}},\"id\":\"6586\",\"type\":\"Line\"},{\"attributes\":{\"bottom_units\":\"screen\",\"coordinates\":null,\"fill_alpha\":0.5,\"fill_color\":\"lightgrey\",\"group\":null,\"left_units\":\"screen\",\"level\":\"overlay\",\"line_alpha\":1.0,\"line_color\":\"black\",\"line_dash\":[4,4],\"line_width\":2,\"right_units\":\"screen\",\"syncable\":false,\"top_units\":\"screen\"},\"id\":\"6506\",\"type\":\"BoxAnnotation\"},{\"attributes\":{\"coordinates\":null,\"data_source\":{\"id\":\"6541\"},\"glyph\":{\"id\":\"6544\"},\"group\":null,\"hover_glyph\":null,\"muted_glyph\":{\"id\":\"6546\"},\"nonselection_glyph\":{\"id\":\"6545\"},\"selection_glyph\":{\"id\":\"6562\"},\"view\":{\"id\":\"6548\"}},\"id\":\"6547\",\"type\":\"GlyphRenderer\"},{\"attributes\":{\"line_color\":\"#30a2da\",\"line_width\":2,\"x\":{\"field\":\"DraftYear\"},\"y\":{\"field\":\"PPG\"}},\"id\":\"6523\",\"type\":\"Line\"},{\"attributes\":{},\"id\":\"6515\",\"type\":\"BasicTickFormatter\"},{\"attributes\":{\"line_alpha\":0.1,\"line_color\":\"#30a2da\",\"line_width\":2,\"x\":{\"field\":\"DraftYear\"},\"y\":{\"field\":\"PPG\"}},\"id\":\"6524\",\"type\":\"Line\"},{\"attributes\":{\"line_alpha\":0.2,\"line_color\":\"#fc4f30\",\"line_width\":2,\"x\":{\"field\":\"DraftYear\"},\"y\":{\"field\":\"PPG\"}},\"id\":\"6546\",\"type\":\"Line\"},{\"attributes\":{\"label\":{\"value\":\"Group-A\"},\"renderers\":[{\"id\":\"6526\"}]},\"id\":\"6539\",\"type\":\"LegendItem\"},{\"attributes\":{\"end\":20.584000000000003,\"reset_end\":20.584000000000003,\"reset_start\":4.4559999999999995,\"start\":4.4559999999999995,\"tags\":[[[\"PPG\",\"PPG\",null]]]},\"id\":\"6480\",\"type\":\"Range1d\"},{\"attributes\":{\"coordinates\":null,\"group\":null,\"text\":\"Average 1st Round Picks Points Per Game 2017-2021\",\"text_color\":\"black\",\"text_font_size\":\"12pt\"},\"id\":\"6485\",\"type\":\"Title\"},{\"attributes\":{\"axis_label\":\"Draft Year\",\"coordinates\":null,\"formatter\":{\"id\":\"6515\"},\"group\":null,\"major_label_policy\":{\"id\":\"6516\"},\"ticker\":{\"id\":\"6494\"}},\"id\":\"6493\",\"type\":\"LinearAxis\"},{\"attributes\":{\"data\":{\"DraftYear\":[2017,2018,2019,2020,2021],\"PPG\":{\"__ndarray__\":\"mpmZmZmZJEAqXI/C9SgeQDMzMzMzMyFASOF6FK5HIEDNzMzMzMwcQA==\",\"dtype\":\"float64\",\"order\":\"little\",\"shape\":[5]}},\"selected\":{\"id\":\"6542\"},\"selection_policy\":{\"id\":\"6558\"}},\"id\":\"6541\",\"type\":\"ColumnDataSource\"},{\"attributes\":{},\"id\":\"6494\",\"type\":\"BasicTicker\"},{\"attributes\":{\"margin\":[5,5,5,5],\"name\":\"HSpacer13327\",\"sizing_mode\":\"stretch_width\"},\"id\":\"6478\",\"type\":\"Spacer\"},{\"attributes\":{\"line_color\":\"#fc4f30\",\"line_width\":2,\"x\":{\"field\":\"DraftYear\"},\"y\":{\"field\":\"PPG\"}},\"id\":\"6544\",\"type\":\"Line\"},{\"attributes\":{\"axis\":{\"id\":\"6493\"},\"coordinates\":null,\"grid_line_color\":null,\"group\":null,\"ticker\":null},\"id\":\"6496\",\"type\":\"Grid\"},{\"attributes\":{\"margin\":[5,5,5,5],\"name\":\"HSpacer13328\",\"sizing_mode\":\"stretch_width\"},\"id\":\"6713\",\"type\":\"Spacer\"},{\"attributes\":{\"children\":[{\"id\":\"6478\"},{\"id\":\"6484\"},{\"id\":\"6713\"}],\"margin\":[0,0,0,0],\"name\":\"Row13323\",\"tags\":[\"embedded\"]},\"id\":\"6477\",\"type\":\"Row\"},{\"attributes\":{\"label\":{\"value\":\"Group-B\"},\"renderers\":[{\"id\":\"6547\"}]},\"id\":\"6561\",\"type\":\"LegendItem\"},{\"attributes\":{},\"id\":\"6498\",\"type\":\"BasicTicker\"},{\"attributes\":{\"axis_label\":\"Points Per Game\",\"coordinates\":null,\"formatter\":{\"id\":\"6518\"},\"group\":null,\"major_label_policy\":{\"id\":\"6519\"},\"ticker\":{\"id\":\"6498\"}},\"id\":\"6497\",\"type\":\"LinearAxis\"},{\"attributes\":{},\"id\":\"6521\",\"type\":\"Selection\"},{\"attributes\":{\"end\":2021.0,\"reset_end\":2021.0,\"reset_start\":2017.0,\"start\":2017.0,\"tags\":[[[\"DraftYear\",\"DraftYear\",null]]]},\"id\":\"6479\",\"type\":\"Range1d\"},{\"attributes\":{\"line_alpha\":0.2,\"line_color\":\"#30a2da\",\"line_width\":2,\"x\":{\"field\":\"DraftYear\"},\"y\":{\"field\":\"PPG\"}},\"id\":\"6525\",\"type\":\"Line\"},{\"attributes\":{\"line_color\":\"#fc4f30\",\"line_width\":2,\"x\":{\"field\":\"DraftYear\"},\"y\":{\"field\":\"PPG\"}},\"id\":\"6562\",\"type\":\"Line\"},{\"attributes\":{},\"id\":\"6516\",\"type\":\"AllLabels\"},{\"attributes\":{},\"id\":\"6582\",\"type\":\"UnionRenderers\"},{\"attributes\":{\"data\":{\"DraftYear\":[2017,2018,2019,2020,2021],\"PPG\":{\"__ndarray__\":\"cT0K16NwIUDXo3A9CtcXQAAAAAAAACJAo3A9CtejHEAzMzMzMzMXQA==\",\"dtype\":\"float64\",\"order\":\"little\",\"shape\":[5]}},\"selected\":{\"id\":\"6564\"},\"selection_policy\":{\"id\":\"6582\"}},\"id\":\"6563\",\"type\":\"ColumnDataSource\"},{\"attributes\":{},\"id\":\"6564\",\"type\":\"Selection\"},{\"attributes\":{},\"id\":\"6535\",\"type\":\"UnionRenderers\"},{\"attributes\":{\"coordinates\":null,\"data_source\":{\"id\":\"6520\"},\"glyph\":{\"id\":\"6523\"},\"group\":null,\"hover_glyph\":null,\"muted_glyph\":{\"id\":\"6525\"},\"nonselection_glyph\":{\"id\":\"6524\"},\"selection_glyph\":{\"id\":\"6540\"},\"view\":{\"id\":\"6527\"}},\"id\":\"6526\",\"type\":\"GlyphRenderer\"}],\"root_ids\":[\"6477\"]},\"title\":\"Bokeh Application\",\"version\":\"2.4.2\"}};\n",
       "    var render_items = [{\"docid\":\"4a347c46-6f7f-4bbc-ab84-7d97958eca61\",\"root_ids\":[\"6477\"],\"roots\":{\"6477\":\"94dae654-98bc-41fc-b124-a24dfc6d1e5e\"}}];\n",
       "    root.Bokeh.embed.embed_items_notebook(docs_json, render_items);\n",
       "  }\n",
       "  if (root.Bokeh !== undefined && root.Bokeh.Panel !== undefined) {\n",
       "    embed_document(root);\n",
       "  } else {\n",
       "    var attempts = 0;\n",
       "    var timer = setInterval(function(root) {\n",
       "      if (root.Bokeh !== undefined && root.Bokeh.Panel !== undefined) {\n",
       "        clearInterval(timer);\n",
       "        embed_document(root);\n",
       "      } else if (document.readyState == \"complete\") {\n",
       "        attempts++;\n",
       "        if (attempts > 200) {\n",
       "          clearInterval(timer);\n",
       "          console.log(\"Bokeh: ERROR: Unable to run BokehJS code because BokehJS library is missing\");\n",
       "        }\n",
       "      }\n",
       "    }, 25, root)\n",
       "  }\n",
       "})(window);</script>"
      ],
      "text/plain": [
       ":Overlay\n",
       "   .Curve.Group_hyphen_minus_A :Curve   [DraftYear]   (PPG)\n",
       "   .Curve.Group_hyphen_minus_B :Curve   [DraftYear]   (PPG)\n",
       "   .Curve.Group_hyphen_minus_C :Curve   [DraftYear]   (PPG)"
      ]
     },
     "execution_count": 188,
     "metadata": {
      "application/vnd.holoviews_exec.v0+json": {
       "id": "6477"
      }
     },
     "output_type": "execute_result"
    }
   ],
   "source": [
    "# Overlay all groups points per game 2017-2021\n",
    "all_group_ppg_plot = group_a_ppg_plot * group_b_ppg_plot * group_c_ppg_plot\n",
    "all_group_ppg_plot"
   ]
  },
  {
   "cell_type": "code",
   "execution_count": null,
   "id": "1126610d-3850-491e-ae7b-02ce4f9e32ac",
   "metadata": {},
   "outputs": [],
   "source": []
  },
  {
   "cell_type": "code",
   "execution_count": 189,
   "id": "c75eae7a-a928-4a3c-b7f3-a75c4ad183df",
   "metadata": {},
   "outputs": [],
   "source": [
    "# Use hvplot to visualize group A's rebounds per game 2017-2021\n",
    "group_a_rpg_plot = group_a_ave['RPG'].hvplot(\n",
    "    title='Average 1st Round Picks Rebounds Per Game 2017-2021',\n",
    "    x='DraftYear',\n",
    "    y='RPG',\n",
    "    xlabel='Draft Year',\n",
    "    ylabel='Rebounds Per Game',\n",
    "    label='Group-A'\n",
    ")"
   ]
  },
  {
   "cell_type": "code",
   "execution_count": 190,
   "id": "378112f1-1dc9-4a8b-8ff0-ebe9b04fa0eb",
   "metadata": {},
   "outputs": [],
   "source": [
    "# Use hvplot to visualize group B's rebounds per game 2017-2021\n",
    "group_b_rpg_plot = group_b_ave['RPG'].hvplot(\n",
    "    title='Average 1st Round Picks Rebounds Per Game 2017-2021',\n",
    "    x='DraftYear',\n",
    "    y='RPG',\n",
    "    xlabel='Draft Year',\n",
    "    ylabel='Rebounds Per Game',\n",
    "    label='Group-B'\n",
    ")"
   ]
  },
  {
   "cell_type": "code",
   "execution_count": 191,
   "id": "7a46ce70-cf37-49b2-873d-4cd3c5b4f77d",
   "metadata": {},
   "outputs": [],
   "source": [
    "# Use hvplot to visualize group C's rebounds per game 2017-2021\n",
    "group_c_rpg_plot = group_c_ave['RPG'].hvplot(\n",
    "    title='Average 1st Round Picks Rebounds Per Game 2017-2021',\n",
    "    x='DraftYear',\n",
    "    y='RPG',\n",
    "    xlabel='Draft Year',\n",
    "    ylabel='Rebounds Per Game',\n",
    "    label='Group-C'\n",
    ")"
   ]
  },
  {
   "cell_type": "code",
   "execution_count": 192,
   "id": "d5863a3c-999b-4eae-97b1-51f9c1b5c63b",
   "metadata": {},
   "outputs": [
    {
     "data": {},
     "metadata": {},
     "output_type": "display_data"
    },
    {
     "data": {
      "application/vnd.holoviews_exec.v0+json": "",
      "text/html": [
       "<div id='6785'>\n",
       "\n",
       "\n",
       "\n",
       "\n",
       "\n",
       "  <div class=\"bk-root\" id=\"f19b9260-c2b0-478f-a863-ce43b7f24ae4\" data-root-id=\"6785\"></div>\n",
       "</div>\n",
       "<script type=\"application/javascript\">(function(root) {\n",
       "  function embed_document(root) {\n",
       "    var docs_json = {\"629f0f4c-99df-4a3a-9cac-5d72484f4e5e\":{\"defs\":[{\"extends\":null,\"module\":null,\"name\":\"ReactiveHTML1\",\"overrides\":[],\"properties\":[]},{\"extends\":null,\"module\":null,\"name\":\"FlexBox1\",\"overrides\":[],\"properties\":[{\"default\":\"flex-start\",\"kind\":null,\"name\":\"align_content\"},{\"default\":\"flex-start\",\"kind\":null,\"name\":\"align_items\"},{\"default\":\"row\",\"kind\":null,\"name\":\"flex_direction\"},{\"default\":\"wrap\",\"kind\":null,\"name\":\"flex_wrap\"},{\"default\":\"flex-start\",\"kind\":null,\"name\":\"justify_content\"}]},{\"extends\":null,\"module\":null,\"name\":\"TemplateActions1\",\"overrides\":[],\"properties\":[{\"default\":0,\"kind\":null,\"name\":\"open_modal\"},{\"default\":0,\"kind\":null,\"name\":\"close_modal\"}]},{\"extends\":null,\"module\":null,\"name\":\"MaterialTemplateActions1\",\"overrides\":[],\"properties\":[{\"default\":0,\"kind\":null,\"name\":\"open_modal\"},{\"default\":0,\"kind\":null,\"name\":\"close_modal\"}]}],\"roots\":{\"references\":[{\"attributes\":{\"coordinates\":null,\"data_source\":{\"id\":\"6828\"},\"glyph\":{\"id\":\"6831\"},\"group\":null,\"hover_glyph\":null,\"muted_glyph\":{\"id\":\"6833\"},\"nonselection_glyph\":{\"id\":\"6832\"},\"selection_glyph\":{\"id\":\"6848\"},\"view\":{\"id\":\"6835\"}},\"id\":\"6834\",\"type\":\"GlyphRenderer\"},{\"attributes\":{\"line_color\":\"#30a2da\",\"line_width\":2,\"x\":{\"field\":\"DraftYear\"},\"y\":{\"field\":\"RPG\"}},\"id\":\"6848\",\"type\":\"Line\"},{\"attributes\":{},\"id\":\"6809\",\"type\":\"SaveTool\"},{\"attributes\":{},\"id\":\"6843\",\"type\":\"UnionRenderers\"},{\"attributes\":{},\"id\":\"6866\",\"type\":\"UnionRenderers\"},{\"attributes\":{},\"id\":\"6810\",\"type\":\"PanTool\"},{\"attributes\":{},\"id\":\"6826\",\"type\":\"BasicTickFormatter\"},{\"attributes\":{\"click_policy\":\"mute\",\"coordinates\":null,\"group\":null,\"items\":[{\"id\":\"6847\"},{\"id\":\"6869\"},{\"id\":\"6893\"}]},\"id\":\"6846\",\"type\":\"Legend\"},{\"attributes\":{\"below\":[{\"id\":\"6801\"}],\"center\":[{\"id\":\"6804\"},{\"id\":\"6808\"},{\"id\":\"6846\"}],\"height\":300,\"left\":[{\"id\":\"6805\"}],\"margin\":[5,5,5,5],\"min_border_bottom\":10,\"min_border_left\":10,\"min_border_right\":10,\"min_border_top\":10,\"renderers\":[{\"id\":\"6834\"},{\"id\":\"6855\"},{\"id\":\"6877\"}],\"sizing_mode\":\"fixed\",\"title\":{\"id\":\"6793\"},\"toolbar\":{\"id\":\"6815\"},\"width\":700,\"x_range\":{\"id\":\"6787\"},\"x_scale\":{\"id\":\"6797\"},\"y_range\":{\"id\":\"6788\"},\"y_scale\":{\"id\":\"6799\"}},\"id\":\"6792\",\"subtype\":\"Figure\",\"type\":\"Plot\"},{\"attributes\":{},\"id\":\"6811\",\"type\":\"WheelZoomTool\"},{\"attributes\":{\"tools\":[{\"id\":\"6789\"},{\"id\":\"6809\"},{\"id\":\"6810\"},{\"id\":\"6811\"},{\"id\":\"6812\"},{\"id\":\"6813\"}]},\"id\":\"6815\",\"type\":\"Toolbar\"},{\"attributes\":{\"source\":{\"id\":\"6871\"}},\"id\":\"6878\",\"type\":\"CDSView\"},{\"attributes\":{\"source\":{\"id\":\"6849\"}},\"id\":\"6856\",\"type\":\"CDSView\"},{\"attributes\":{\"overlay\":{\"id\":\"6814\"}},\"id\":\"6812\",\"type\":\"BoxZoomTool\"},{\"attributes\":{},\"id\":\"6872\",\"type\":\"Selection\"},{\"attributes\":{\"label\":{\"value\":\"Group-A\"},\"renderers\":[{\"id\":\"6834\"}]},\"id\":\"6847\",\"type\":\"LegendItem\"},{\"attributes\":{\"line_alpha\":0.2,\"line_color\":\"#30a2da\",\"line_width\":2,\"x\":{\"field\":\"DraftYear\"},\"y\":{\"field\":\"RPG\"}},\"id\":\"6833\",\"type\":\"Line\"},{\"attributes\":{\"margin\":[5,5,5,5],\"name\":\"HSpacer14016\",\"sizing_mode\":\"stretch_width\"},\"id\":\"7021\",\"type\":\"Spacer\"},{\"attributes\":{\"axis_label\":\"Draft Year\",\"coordinates\":null,\"formatter\":{\"id\":\"6823\"},\"group\":null,\"major_label_policy\":{\"id\":\"6824\"},\"ticker\":{\"id\":\"6802\"}},\"id\":\"6801\",\"type\":\"LinearAxis\"},{\"attributes\":{\"line_alpha\":0.2,\"line_color\":\"#e5ae38\",\"line_width\":2,\"x\":{\"field\":\"DraftYear\"},\"y\":{\"field\":\"RPG\"}},\"id\":\"6876\",\"type\":\"Line\"},{\"attributes\":{},\"id\":\"6799\",\"type\":\"LinearScale\"},{\"attributes\":{\"axis\":{\"id\":\"6805\"},\"coordinates\":null,\"dimension\":1,\"grid_line_color\":null,\"group\":null,\"ticker\":null},\"id\":\"6808\",\"type\":\"Grid\"},{\"attributes\":{},\"id\":\"6813\",\"type\":\"ResetTool\"},{\"attributes\":{\"callback\":null,\"renderers\":[{\"id\":\"6834\"},{\"id\":\"6855\"},{\"id\":\"6877\"}],\"tags\":[\"hv_created\"],\"tooltips\":[[\"DraftYear\",\"@{DraftYear}\"],[\"RPG\",\"@{RPG}\"]]},\"id\":\"6789\",\"type\":\"HoverTool\"},{\"attributes\":{},\"id\":\"6890\",\"type\":\"UnionRenderers\"},{\"attributes\":{\"line_alpha\":0.1,\"line_color\":\"#e5ae38\",\"line_width\":2,\"x\":{\"field\":\"DraftYear\"},\"y\":{\"field\":\"RPG\"}},\"id\":\"6875\",\"type\":\"Line\"},{\"attributes\":{\"bottom_units\":\"screen\",\"coordinates\":null,\"fill_alpha\":0.5,\"fill_color\":\"lightgrey\",\"group\":null,\"left_units\":\"screen\",\"level\":\"overlay\",\"line_alpha\":1.0,\"line_color\":\"black\",\"line_dash\":[4,4],\"line_width\":2,\"right_units\":\"screen\",\"syncable\":false,\"top_units\":\"screen\"},\"id\":\"6814\",\"type\":\"BoxAnnotation\"},{\"attributes\":{\"margin\":[5,5,5,5],\"name\":\"HSpacer14015\",\"sizing_mode\":\"stretch_width\"},\"id\":\"6786\",\"type\":\"Spacer\"},{\"attributes\":{\"line_color\":\"#fc4f30\",\"line_width\":2,\"x\":{\"field\":\"DraftYear\"},\"y\":{\"field\":\"RPG\"}},\"id\":\"6870\",\"type\":\"Line\"},{\"attributes\":{\"line_color\":\"#e5ae38\",\"line_width\":2,\"x\":{\"field\":\"DraftYear\"},\"y\":{\"field\":\"RPG\"}},\"id\":\"6874\",\"type\":\"Line\"},{\"attributes\":{},\"id\":\"6823\",\"type\":\"BasicTickFormatter\"},{\"attributes\":{\"label\":{\"value\":\"Group-C\"},\"renderers\":[{\"id\":\"6877\"}]},\"id\":\"6893\",\"type\":\"LegendItem\"},{\"attributes\":{\"children\":[{\"id\":\"6786\"},{\"id\":\"6792\"},{\"id\":\"7021\"}],\"margin\":[0,0,0,0],\"name\":\"Row14011\",\"tags\":[\"embedded\"]},\"id\":\"6785\",\"type\":\"Row\"},{\"attributes\":{\"data\":{\"DraftYear\":[2017,2018,2019,2020,2021],\"RPG\":{\"__ndarray__\":\"KVyPwvUoEkDNzMzMzMwIQM3MzMzMzAhAj8L1KFyPBkAVrkfhehQGQA==\",\"dtype\":\"float64\",\"order\":\"little\",\"shape\":[5]}},\"selected\":{\"id\":\"6872\"},\"selection_policy\":{\"id\":\"6890\"}},\"id\":\"6871\",\"type\":\"ColumnDataSource\"},{\"attributes\":{\"end\":7.534,\"reset_end\":7.534,\"reset_start\":2.326,\"start\":2.326,\"tags\":[[[\"RPG\",\"RPG\",null]]]},\"id\":\"6788\",\"type\":\"Range1d\"},{\"attributes\":{\"coordinates\":null,\"group\":null,\"text\":\"Average 1st Round Picks Rebounds Per Game 2017-2021\",\"text_color\":\"black\",\"text_font_size\":\"12pt\"},\"id\":\"6793\",\"type\":\"Title\"},{\"attributes\":{\"coordinates\":null,\"data_source\":{\"id\":\"6871\"},\"glyph\":{\"id\":\"6874\"},\"group\":null,\"hover_glyph\":null,\"muted_glyph\":{\"id\":\"6876\"},\"nonselection_glyph\":{\"id\":\"6875\"},\"selection_glyph\":{\"id\":\"6894\"},\"view\":{\"id\":\"6878\"}},\"id\":\"6877\",\"type\":\"GlyphRenderer\"},{\"attributes\":{\"line_alpha\":0.1,\"line_color\":\"#fc4f30\",\"line_width\":2,\"x\":{\"field\":\"DraftYear\"},\"y\":{\"field\":\"RPG\"}},\"id\":\"6853\",\"type\":\"Line\"},{\"attributes\":{},\"id\":\"6797\",\"type\":\"LinearScale\"},{\"attributes\":{},\"id\":\"6802\",\"type\":\"BasicTicker\"},{\"attributes\":{},\"id\":\"6850\",\"type\":\"Selection\"},{\"attributes\":{\"axis\":{\"id\":\"6801\"},\"coordinates\":null,\"grid_line_color\":null,\"group\":null,\"ticker\":null},\"id\":\"6804\",\"type\":\"Grid\"},{\"attributes\":{\"line_color\":\"#e5ae38\",\"line_width\":2,\"x\":{\"field\":\"DraftYear\"},\"y\":{\"field\":\"RPG\"}},\"id\":\"6894\",\"type\":\"Line\"},{\"attributes\":{\"coordinates\":null,\"data_source\":{\"id\":\"6849\"},\"glyph\":{\"id\":\"6852\"},\"group\":null,\"hover_glyph\":null,\"muted_glyph\":{\"id\":\"6854\"},\"nonselection_glyph\":{\"id\":\"6853\"},\"selection_glyph\":{\"id\":\"6870\"},\"view\":{\"id\":\"6856\"}},\"id\":\"6855\",\"type\":\"GlyphRenderer\"},{\"attributes\":{\"line_alpha\":0.2,\"line_color\":\"#fc4f30\",\"line_width\":2,\"x\":{\"field\":\"DraftYear\"},\"y\":{\"field\":\"RPG\"}},\"id\":\"6854\",\"type\":\"Line\"},{\"attributes\":{},\"id\":\"6806\",\"type\":\"BasicTicker\"},{\"attributes\":{\"axis_label\":\"Rebounds Per Game\",\"coordinates\":null,\"formatter\":{\"id\":\"6826\"},\"group\":null,\"major_label_policy\":{\"id\":\"6827\"},\"ticker\":{\"id\":\"6806\"}},\"id\":\"6805\",\"type\":\"LinearAxis\"},{\"attributes\":{\"end\":2021.0,\"reset_end\":2021.0,\"reset_start\":2017.0,\"start\":2017.0,\"tags\":[[[\"DraftYear\",\"DraftYear\",null]]]},\"id\":\"6787\",\"type\":\"Range1d\"},{\"attributes\":{\"data\":{\"DraftYear\":[2017,2018,2019,2020,2021],\"RPG\":{\"__ndarray__\":\"j8L1KFyPEkBmZmZmZmYcQPYoXI/C9RJAmpmZmZmZE0A+CtejcD0WQA==\",\"dtype\":\"float64\",\"order\":\"little\",\"shape\":[5]}},\"selected\":{\"id\":\"6829\"},\"selection_policy\":{\"id\":\"6843\"}},\"id\":\"6828\",\"type\":\"ColumnDataSource\"},{\"attributes\":{\"source\":{\"id\":\"6828\"}},\"id\":\"6835\",\"type\":\"CDSView\"},{\"attributes\":{\"data\":{\"DraftYear\":[2017,2018,2019,2020,2021],\"RPG\":{\"__ndarray__\":\"j8L1KFyPEEB7FK5H4XoMQD0K16NwPQpApHA9CtejEEDWo3A9CtcHQA==\",\"dtype\":\"float64\",\"order\":\"little\",\"shape\":[5]}},\"selected\":{\"id\":\"6850\"},\"selection_policy\":{\"id\":\"6866\"}},\"id\":\"6849\",\"type\":\"ColumnDataSource\"},{\"attributes\":{\"line_color\":\"#fc4f30\",\"line_width\":2,\"x\":{\"field\":\"DraftYear\"},\"y\":{\"field\":\"RPG\"}},\"id\":\"6852\",\"type\":\"Line\"},{\"attributes\":{\"line_color\":\"#30a2da\",\"line_width\":2,\"x\":{\"field\":\"DraftYear\"},\"y\":{\"field\":\"RPG\"}},\"id\":\"6831\",\"type\":\"Line\"},{\"attributes\":{},\"id\":\"6824\",\"type\":\"AllLabels\"},{\"attributes\":{\"label\":{\"value\":\"Group-B\"},\"renderers\":[{\"id\":\"6855\"}]},\"id\":\"6869\",\"type\":\"LegendItem\"},{\"attributes\":{},\"id\":\"6829\",\"type\":\"Selection\"},{\"attributes\":{\"line_alpha\":0.1,\"line_color\":\"#30a2da\",\"line_width\":2,\"x\":{\"field\":\"DraftYear\"},\"y\":{\"field\":\"RPG\"}},\"id\":\"6832\",\"type\":\"Line\"},{\"attributes\":{},\"id\":\"6827\",\"type\":\"AllLabels\"}],\"root_ids\":[\"6785\"]},\"title\":\"Bokeh Application\",\"version\":\"2.4.2\"}};\n",
       "    var render_items = [{\"docid\":\"629f0f4c-99df-4a3a-9cac-5d72484f4e5e\",\"root_ids\":[\"6785\"],\"roots\":{\"6785\":\"f19b9260-c2b0-478f-a863-ce43b7f24ae4\"}}];\n",
       "    root.Bokeh.embed.embed_items_notebook(docs_json, render_items);\n",
       "  }\n",
       "  if (root.Bokeh !== undefined && root.Bokeh.Panel !== undefined) {\n",
       "    embed_document(root);\n",
       "  } else {\n",
       "    var attempts = 0;\n",
       "    var timer = setInterval(function(root) {\n",
       "      if (root.Bokeh !== undefined && root.Bokeh.Panel !== undefined) {\n",
       "        clearInterval(timer);\n",
       "        embed_document(root);\n",
       "      } else if (document.readyState == \"complete\") {\n",
       "        attempts++;\n",
       "        if (attempts > 200) {\n",
       "          clearInterval(timer);\n",
       "          console.log(\"Bokeh: ERROR: Unable to run BokehJS code because BokehJS library is missing\");\n",
       "        }\n",
       "      }\n",
       "    }, 25, root)\n",
       "  }\n",
       "})(window);</script>"
      ],
      "text/plain": [
       ":Overlay\n",
       "   .Curve.Group_hyphen_minus_A :Curve   [DraftYear]   (RPG)\n",
       "   .Curve.Group_hyphen_minus_B :Curve   [DraftYear]   (RPG)\n",
       "   .Curve.Group_hyphen_minus_C :Curve   [DraftYear]   (RPG)"
      ]
     },
     "execution_count": 192,
     "metadata": {
      "application/vnd.holoviews_exec.v0+json": {
       "id": "6785"
      }
     },
     "output_type": "execute_result"
    }
   ],
   "source": [
    "# Overlay all groups rebounds per game 2017-2021\n",
    "group_a_rpg_plot * group_b_rpg_plot * group_c_rpg_plot"
   ]
  },
  {
   "cell_type": "code",
   "execution_count": null,
   "id": "20b99e7e-b683-447f-98d3-32791d61dc6c",
   "metadata": {},
   "outputs": [],
   "source": []
  },
  {
   "cell_type": "code",
   "execution_count": 193,
   "id": "d7c9282d-30b2-4346-99b0-1300c1efa2dd",
   "metadata": {},
   "outputs": [],
   "source": [
    "# Use hvplot to visualize group A's assists per game 2017-2021\n",
    "group_a_apg_plot = group_a_ave['APG'].hvplot(\n",
    "    title='Average 1st Round Picks Assists Per Game 2017-2021',\n",
    "    x='DraftYear',\n",
    "    y='APG',\n",
    "    xlabel='Draft Year',\n",
    "    ylabel='Assists Per Game',\n",
    "    label='Group-A'\n",
    ")"
   ]
  },
  {
   "cell_type": "code",
   "execution_count": 194,
   "id": "48e66f05-01f2-4d0a-9644-10cf34b7f668",
   "metadata": {},
   "outputs": [],
   "source": [
    "# Use hvplot to visualize group B's assists per game 2017-2021\n",
    "group_b_apg_plot = group_b_ave['APG'].hvplot(\n",
    "    title='Average 1st Round Picks Assists Per Game 2017-2021',\n",
    "    x='DraftYear',\n",
    "    y='APG',\n",
    "    xlabel='Draft Year',\n",
    "    ylabel='Assists Per Game',\n",
    "    label='Group-B'\n",
    ")"
   ]
  },
  {
   "cell_type": "code",
   "execution_count": 195,
   "id": "ac702d2e-20c4-4a46-bb32-4f8a9817098f",
   "metadata": {},
   "outputs": [],
   "source": [
    "# Use hvplot to visualize group C's assists per game 2017-2021\n",
    "group_c_apg_plot = group_c_ave['APG'].hvplot(\n",
    "    title='Average 1st Round Picks Assists Per Game 2017-2021',\n",
    "    x='DraftYear',\n",
    "    y='APG',\n",
    "    xlabel='Draft Year',\n",
    "    ylabel='Assists Per Game',\n",
    "    label='Group-C'\n",
    ")"
   ]
  },
  {
   "cell_type": "code",
   "execution_count": 196,
   "id": "133f7f55-a53b-46b9-bd96-5239114a43cf",
   "metadata": {},
   "outputs": [
    {
     "data": {},
     "metadata": {},
     "output_type": "display_data"
    },
    {
     "data": {
      "application/vnd.holoviews_exec.v0+json": "",
      "text/html": [
       "<div id='7093'>\n",
       "\n",
       "\n",
       "\n",
       "\n",
       "\n",
       "  <div class=\"bk-root\" id=\"c91261f6-6d13-409b-9e0d-6c62861a147c\" data-root-id=\"7093\"></div>\n",
       "</div>\n",
       "<script type=\"application/javascript\">(function(root) {\n",
       "  function embed_document(root) {\n",
       "    var docs_json = {\"d254765e-e192-4de6-8fb2-f854cd5abbf6\":{\"defs\":[{\"extends\":null,\"module\":null,\"name\":\"ReactiveHTML1\",\"overrides\":[],\"properties\":[]},{\"extends\":null,\"module\":null,\"name\":\"FlexBox1\",\"overrides\":[],\"properties\":[{\"default\":\"flex-start\",\"kind\":null,\"name\":\"align_content\"},{\"default\":\"flex-start\",\"kind\":null,\"name\":\"align_items\"},{\"default\":\"row\",\"kind\":null,\"name\":\"flex_direction\"},{\"default\":\"wrap\",\"kind\":null,\"name\":\"flex_wrap\"},{\"default\":\"flex-start\",\"kind\":null,\"name\":\"justify_content\"}]},{\"extends\":null,\"module\":null,\"name\":\"TemplateActions1\",\"overrides\":[],\"properties\":[{\"default\":0,\"kind\":null,\"name\":\"open_modal\"},{\"default\":0,\"kind\":null,\"name\":\"close_modal\"}]},{\"extends\":null,\"module\":null,\"name\":\"MaterialTemplateActions1\",\"overrides\":[],\"properties\":[{\"default\":0,\"kind\":null,\"name\":\"open_modal\"},{\"default\":0,\"kind\":null,\"name\":\"close_modal\"}]}],\"roots\":{\"references\":[{\"attributes\":{\"coordinates\":null,\"data_source\":{\"id\":\"7157\"},\"glyph\":{\"id\":\"7160\"},\"group\":null,\"hover_glyph\":null,\"muted_glyph\":{\"id\":\"7162\"},\"nonselection_glyph\":{\"id\":\"7161\"},\"selection_glyph\":{\"id\":\"7178\"},\"view\":{\"id\":\"7164\"}},\"id\":\"7163\",\"type\":\"GlyphRenderer\"},{\"attributes\":{\"line_alpha\":0.2,\"line_color\":\"#30a2da\",\"line_width\":2,\"x\":{\"field\":\"DraftYear\"},\"y\":{\"field\":\"APG\"}},\"id\":\"7141\",\"type\":\"Line\"},{\"attributes\":{\"label\":{\"value\":\"Group-B\"},\"renderers\":[{\"id\":\"7163\"}]},\"id\":\"7177\",\"type\":\"LegendItem\"},{\"attributes\":{\"line_color\":\"#30a2da\",\"line_width\":2,\"x\":{\"field\":\"DraftYear\"},\"y\":{\"field\":\"APG\"}},\"id\":\"7156\",\"type\":\"Line\"},{\"attributes\":{},\"id\":\"7198\",\"type\":\"UnionRenderers\"},{\"attributes\":{\"coordinates\":null,\"data_source\":{\"id\":\"7136\"},\"glyph\":{\"id\":\"7139\"},\"group\":null,\"hover_glyph\":null,\"muted_glyph\":{\"id\":\"7141\"},\"nonselection_glyph\":{\"id\":\"7140\"},\"selection_glyph\":{\"id\":\"7156\"},\"view\":{\"id\":\"7143\"}},\"id\":\"7142\",\"type\":\"GlyphRenderer\"},{\"attributes\":{},\"id\":\"7117\",\"type\":\"SaveTool\"},{\"attributes\":{\"line_alpha\":0.1,\"line_color\":\"#e5ae38\",\"line_width\":2,\"x\":{\"field\":\"DraftYear\"},\"y\":{\"field\":\"APG\"}},\"id\":\"7183\",\"type\":\"Line\"},{\"attributes\":{},\"id\":\"7151\",\"type\":\"UnionRenderers\"},{\"attributes\":{\"source\":{\"id\":\"7136\"}},\"id\":\"7143\",\"type\":\"CDSView\"},{\"attributes\":{},\"id\":\"7118\",\"type\":\"PanTool\"},{\"attributes\":{},\"id\":\"7180\",\"type\":\"Selection\"},{\"attributes\":{\"click_policy\":\"mute\",\"coordinates\":null,\"group\":null,\"items\":[{\"id\":\"7155\"},{\"id\":\"7177\"},{\"id\":\"7201\"}]},\"id\":\"7154\",\"type\":\"Legend\"},{\"attributes\":{},\"id\":\"7134\",\"type\":\"BasicTickFormatter\"},{\"attributes\":{},\"id\":\"7119\",\"type\":\"WheelZoomTool\"},{\"attributes\":{\"children\":[{\"id\":\"7094\"},{\"id\":\"7100\"},{\"id\":\"7329\"}],\"margin\":[0,0,0,0],\"name\":\"Row14699\",\"tags\":[\"embedded\"]},\"id\":\"7093\",\"type\":\"Row\"},{\"attributes\":{\"coordinates\":null,\"data_source\":{\"id\":\"7179\"},\"glyph\":{\"id\":\"7182\"},\"group\":null,\"hover_glyph\":null,\"muted_glyph\":{\"id\":\"7184\"},\"nonselection_glyph\":{\"id\":\"7183\"},\"selection_glyph\":{\"id\":\"7202\"},\"view\":{\"id\":\"7186\"}},\"id\":\"7185\",\"type\":\"GlyphRenderer\"},{\"attributes\":{\"tools\":[{\"id\":\"7097\"},{\"id\":\"7117\"},{\"id\":\"7118\"},{\"id\":\"7119\"},{\"id\":\"7120\"},{\"id\":\"7121\"}]},\"id\":\"7123\",\"type\":\"Toolbar\"},{\"attributes\":{\"line_alpha\":0.2,\"line_color\":\"#e5ae38\",\"line_width\":2,\"x\":{\"field\":\"DraftYear\"},\"y\":{\"field\":\"APG\"}},\"id\":\"7184\",\"type\":\"Line\"},{\"attributes\":{\"overlay\":{\"id\":\"7122\"}},\"id\":\"7120\",\"type\":\"BoxZoomTool\"},{\"attributes\":{},\"id\":\"7132\",\"type\":\"AllLabels\"},{\"attributes\":{\"margin\":[5,5,5,5],\"name\":\"HSpacer14704\",\"sizing_mode\":\"stretch_width\"},\"id\":\"7329\",\"type\":\"Spacer\"},{\"attributes\":{\"label\":{\"value\":\"Group-A\"},\"renderers\":[{\"id\":\"7142\"}]},\"id\":\"7155\",\"type\":\"LegendItem\"},{\"attributes\":{\"line_color\":\"#30a2da\",\"line_width\":2,\"x\":{\"field\":\"DraftYear\"},\"y\":{\"field\":\"APG\"}},\"id\":\"7139\",\"type\":\"Line\"},{\"attributes\":{\"below\":[{\"id\":\"7109\"}],\"center\":[{\"id\":\"7112\"},{\"id\":\"7116\"},{\"id\":\"7154\"}],\"height\":300,\"left\":[{\"id\":\"7113\"}],\"margin\":[5,5,5,5],\"min_border_bottom\":10,\"min_border_left\":10,\"min_border_right\":10,\"min_border_top\":10,\"renderers\":[{\"id\":\"7142\"},{\"id\":\"7163\"},{\"id\":\"7185\"}],\"sizing_mode\":\"fixed\",\"title\":{\"id\":\"7101\"},\"toolbar\":{\"id\":\"7123\"},\"width\":700,\"x_range\":{\"id\":\"7095\"},\"x_scale\":{\"id\":\"7105\"},\"y_range\":{\"id\":\"7096\"},\"y_scale\":{\"id\":\"7107\"}},\"id\":\"7100\",\"subtype\":\"Figure\",\"type\":\"Plot\"},{\"attributes\":{\"line_color\":\"#e5ae38\",\"line_width\":2,\"x\":{\"field\":\"DraftYear\"},\"y\":{\"field\":\"APG\"}},\"id\":\"7182\",\"type\":\"Line\"},{\"attributes\":{},\"id\":\"7105\",\"type\":\"LinearScale\"},{\"attributes\":{},\"id\":\"7121\",\"type\":\"ResetTool\"},{\"attributes\":{\"label\":{\"value\":\"Group-C\"},\"renderers\":[{\"id\":\"7185\"}]},\"id\":\"7201\",\"type\":\"LegendItem\"},{\"attributes\":{\"bottom_units\":\"screen\",\"coordinates\":null,\"fill_alpha\":0.5,\"fill_color\":\"lightgrey\",\"group\":null,\"left_units\":\"screen\",\"level\":\"overlay\",\"line_alpha\":1.0,\"line_color\":\"black\",\"line_dash\":[4,4],\"line_width\":2,\"right_units\":\"screen\",\"syncable\":false,\"top_units\":\"screen\"},\"id\":\"7122\",\"type\":\"BoxAnnotation\"},{\"attributes\":{\"margin\":[5,5,5,5],\"name\":\"HSpacer14703\",\"sizing_mode\":\"stretch_width\"},\"id\":\"7094\",\"type\":\"Spacer\"},{\"attributes\":{},\"id\":\"7137\",\"type\":\"Selection\"},{\"attributes\":{\"line_alpha\":0.1,\"line_color\":\"#30a2da\",\"line_width\":2,\"x\":{\"field\":\"DraftYear\"},\"y\":{\"field\":\"APG\"}},\"id\":\"7140\",\"type\":\"Line\"},{\"attributes\":{\"axis_label\":\"Assists Per Game\",\"coordinates\":null,\"formatter\":{\"id\":\"7134\"},\"group\":null,\"major_label_policy\":{\"id\":\"7135\"},\"ticker\":{\"id\":\"7114\"}},\"id\":\"7113\",\"type\":\"LinearAxis\"},{\"attributes\":{\"line_color\":\"#e5ae38\",\"line_width\":2,\"x\":{\"field\":\"DraftYear\"},\"y\":{\"field\":\"APG\"}},\"id\":\"7202\",\"type\":\"Line\"},{\"attributes\":{},\"id\":\"7174\",\"type\":\"UnionRenderers\"},{\"attributes\":{\"line_alpha\":0.2,\"line_color\":\"#fc4f30\",\"line_width\":2,\"x\":{\"field\":\"DraftYear\"},\"y\":{\"field\":\"APG\"}},\"id\":\"7162\",\"type\":\"Line\"},{\"attributes\":{},\"id\":\"7114\",\"type\":\"BasicTicker\"},{\"attributes\":{},\"id\":\"7107\",\"type\":\"LinearScale\"},{\"attributes\":{\"data\":{\"APG\":{\"__ndarray__\":\"9ihcj8L1AEBcj8L1KFz3PzMzMzMzM/s/ehSuR+F6AEB7FK5H4Xr0Pw==\",\"dtype\":\"float64\",\"order\":\"little\",\"shape\":[5]},\"DraftYear\":[2017,2018,2019,2020,2021]},\"selected\":{\"id\":\"7158\"},\"selection_policy\":{\"id\":\"7174\"}},\"id\":\"7157\",\"type\":\"ColumnDataSource\"},{\"attributes\":{\"source\":{\"id\":\"7157\"}},\"id\":\"7164\",\"type\":\"CDSView\"},{\"attributes\":{\"end\":4.710000000000001,\"reset_end\":4.710000000000001,\"reset_start\":0.5099999999999999,\"start\":0.5099999999999999,\"tags\":[[[\"APG\",\"APG\",null]]]},\"id\":\"7096\",\"type\":\"Range1d\"},{\"attributes\":{\"data\":{\"APG\":{\"__ndarray__\":\"cD0K16Nw/T+PwvUoXI/yPylcj8L1KABACtejcD0K9z+F61G4HoXrPw==\",\"dtype\":\"float64\",\"order\":\"little\",\"shape\":[5]},\"DraftYear\":[2017,2018,2019,2020,2021]},\"selected\":{\"id\":\"7180\"},\"selection_policy\":{\"id\":\"7198\"}},\"id\":\"7179\",\"type\":\"ColumnDataSource\"},{\"attributes\":{\"data\":{\"APG\":{\"__ndarray__\":\"cT0K16NwEUBmZmZmZmYQQI/C9ShcjxBAZmZmZmZmBkB7FK5H4XoMQA==\",\"dtype\":\"float64\",\"order\":\"little\",\"shape\":[5]},\"DraftYear\":[2017,2018,2019,2020,2021]},\"selected\":{\"id\":\"7137\"},\"selection_policy\":{\"id\":\"7151\"}},\"id\":\"7136\",\"type\":\"ColumnDataSource\"},{\"attributes\":{\"line_color\":\"#fc4f30\",\"line_width\":2,\"x\":{\"field\":\"DraftYear\"},\"y\":{\"field\":\"APG\"}},\"id\":\"7178\",\"type\":\"Line\"},{\"attributes\":{\"callback\":null,\"renderers\":[{\"id\":\"7142\"},{\"id\":\"7163\"},{\"id\":\"7185\"}],\"tags\":[\"hv_created\"],\"tooltips\":[[\"DraftYear\",\"@{DraftYear}\"],[\"APG\",\"@{APG}\"]]},\"id\":\"7097\",\"type\":\"HoverTool\"},{\"attributes\":{},\"id\":\"7135\",\"type\":\"AllLabels\"},{\"attributes\":{\"coordinates\":null,\"group\":null,\"text\":\"Average 1st Round Picks Assists Per Game 2017-2021\",\"text_color\":\"black\",\"text_font_size\":\"12pt\"},\"id\":\"7101\",\"type\":\"Title\"},{\"attributes\":{\"axis\":{\"id\":\"7113\"},\"coordinates\":null,\"dimension\":1,\"grid_line_color\":null,\"group\":null,\"ticker\":null},\"id\":\"7116\",\"type\":\"Grid\"},{\"attributes\":{\"line_alpha\":0.1,\"line_color\":\"#fc4f30\",\"line_width\":2,\"x\":{\"field\":\"DraftYear\"},\"y\":{\"field\":\"APG\"}},\"id\":\"7161\",\"type\":\"Line\"},{\"attributes\":{\"axis_label\":\"Draft Year\",\"coordinates\":null,\"formatter\":{\"id\":\"7131\"},\"group\":null,\"major_label_policy\":{\"id\":\"7132\"},\"ticker\":{\"id\":\"7110\"}},\"id\":\"7109\",\"type\":\"LinearAxis\"},{\"attributes\":{\"line_color\":\"#fc4f30\",\"line_width\":2,\"x\":{\"field\":\"DraftYear\"},\"y\":{\"field\":\"APG\"}},\"id\":\"7160\",\"type\":\"Line\"},{\"attributes\":{\"source\":{\"id\":\"7179\"}},\"id\":\"7186\",\"type\":\"CDSView\"},{\"attributes\":{},\"id\":\"7110\",\"type\":\"BasicTicker\"},{\"attributes\":{\"end\":2021.0,\"reset_end\":2021.0,\"reset_start\":2017.0,\"start\":2017.0,\"tags\":[[[\"DraftYear\",\"DraftYear\",null]]]},\"id\":\"7095\",\"type\":\"Range1d\"},{\"attributes\":{},\"id\":\"7158\",\"type\":\"Selection\"},{\"attributes\":{\"axis\":{\"id\":\"7109\"},\"coordinates\":null,\"grid_line_color\":null,\"group\":null,\"ticker\":null},\"id\":\"7112\",\"type\":\"Grid\"},{\"attributes\":{},\"id\":\"7131\",\"type\":\"BasicTickFormatter\"}],\"root_ids\":[\"7093\"]},\"title\":\"Bokeh Application\",\"version\":\"2.4.2\"}};\n",
       "    var render_items = [{\"docid\":\"d254765e-e192-4de6-8fb2-f854cd5abbf6\",\"root_ids\":[\"7093\"],\"roots\":{\"7093\":\"c91261f6-6d13-409b-9e0d-6c62861a147c\"}}];\n",
       "    root.Bokeh.embed.embed_items_notebook(docs_json, render_items);\n",
       "  }\n",
       "  if (root.Bokeh !== undefined && root.Bokeh.Panel !== undefined) {\n",
       "    embed_document(root);\n",
       "  } else {\n",
       "    var attempts = 0;\n",
       "    var timer = setInterval(function(root) {\n",
       "      if (root.Bokeh !== undefined && root.Bokeh.Panel !== undefined) {\n",
       "        clearInterval(timer);\n",
       "        embed_document(root);\n",
       "      } else if (document.readyState == \"complete\") {\n",
       "        attempts++;\n",
       "        if (attempts > 200) {\n",
       "          clearInterval(timer);\n",
       "          console.log(\"Bokeh: ERROR: Unable to run BokehJS code because BokehJS library is missing\");\n",
       "        }\n",
       "      }\n",
       "    }, 25, root)\n",
       "  }\n",
       "})(window);</script>"
      ],
      "text/plain": [
       ":Overlay\n",
       "   .Curve.Group_hyphen_minus_A :Curve   [DraftYear]   (APG)\n",
       "   .Curve.Group_hyphen_minus_B :Curve   [DraftYear]   (APG)\n",
       "   .Curve.Group_hyphen_minus_C :Curve   [DraftYear]   (APG)"
      ]
     },
     "execution_count": 196,
     "metadata": {
      "application/vnd.holoviews_exec.v0+json": {
       "id": "7093"
      }
     },
     "output_type": "execute_result"
    }
   ],
   "source": [
    "# Overlay all groups assists per game 2017-2021\n",
    "group_a_apg_plot * group_b_apg_plot * group_c_apg_plot"
   ]
  },
  {
   "cell_type": "code",
   "execution_count": null,
   "id": "f6c26c5f-0c8b-4e1c-ae65-bfbc82f6117c",
   "metadata": {},
   "outputs": [],
   "source": []
  },
  {
   "cell_type": "code",
   "execution_count": 197,
   "id": "c1ce7016-9a8c-4e4f-aa9d-acc6465df406",
   "metadata": {},
   "outputs": [],
   "source": [
    "# Use hvplot to visualize group A's field goal percentage 2017-2021\n",
    "group_a_fg_plot = group_a_ave['FG%'].hvplot(\n",
    "    title='Average 1st Round Picks Field Goal Percentage 2017-2021',\n",
    "    x='DraftYear',\n",
    "    y='FG%',\n",
    "    xlabel='Draft Year',\n",
    "    ylabel='Field Goal Percentage',\n",
    "    label='Group-A'\n",
    ")"
   ]
  },
  {
   "cell_type": "code",
   "execution_count": 198,
   "id": "39dce3f1-2200-4f65-929e-8a1f37a6793b",
   "metadata": {},
   "outputs": [],
   "source": [
    "# Use hvplot to visualize group B's field goal percentage 2017-2021\n",
    "group_b_fg_plot = group_b_ave['FG%'].hvplot(\n",
    "    title='Average 1st Round Picks Field Goal Percentage 2017-2021',\n",
    "    x='DraftYear',\n",
    "    y='FG%',\n",
    "    xlabel='Draft Year',\n",
    "    ylabel='Field Goal Percentage',\n",
    "    label='Group-B'\n",
    ")"
   ]
  },
  {
   "cell_type": "code",
   "execution_count": 199,
   "id": "bab49765-0d2f-4fd3-860e-0cfe403b791c",
   "metadata": {},
   "outputs": [],
   "source": [
    "# Use hvplot to visualize group C's field goal percentage 2017-2021\n",
    "group_c_fg_plot = group_c_ave['FG%'].hvplot(\n",
    "    title='Average 1st Round Picks Field Goal Percentage 2017-2021',\n",
    "    x='DraftYear',\n",
    "    y='FG%',\n",
    "    xlabel='Draft Year',\n",
    "    ylabel='Field Goal Percentage',\n",
    "    label='Group-C'\n",
    ")"
   ]
  },
  {
   "cell_type": "code",
   "execution_count": 200,
   "id": "95b7ef07-e55f-4ca8-9bf3-62e67d60cafb",
   "metadata": {},
   "outputs": [
    {
     "data": {},
     "metadata": {},
     "output_type": "display_data"
    },
    {
     "data": {
      "application/vnd.holoviews_exec.v0+json": "",
      "text/html": [
       "<div id='7401'>\n",
       "\n",
       "\n",
       "\n",
       "\n",
       "\n",
       "  <div class=\"bk-root\" id=\"3eab52bf-81f4-4666-a988-33507e350e8d\" data-root-id=\"7401\"></div>\n",
       "</div>\n",
       "<script type=\"application/javascript\">(function(root) {\n",
       "  function embed_document(root) {\n",
       "    var docs_json = {\"dd62bb66-93f4-4ed4-84cf-5746ddc6d0b8\":{\"defs\":[{\"extends\":null,\"module\":null,\"name\":\"ReactiveHTML1\",\"overrides\":[],\"properties\":[]},{\"extends\":null,\"module\":null,\"name\":\"FlexBox1\",\"overrides\":[],\"properties\":[{\"default\":\"flex-start\",\"kind\":null,\"name\":\"align_content\"},{\"default\":\"flex-start\",\"kind\":null,\"name\":\"align_items\"},{\"default\":\"row\",\"kind\":null,\"name\":\"flex_direction\"},{\"default\":\"wrap\",\"kind\":null,\"name\":\"flex_wrap\"},{\"default\":\"flex-start\",\"kind\":null,\"name\":\"justify_content\"}]},{\"extends\":null,\"module\":null,\"name\":\"TemplateActions1\",\"overrides\":[],\"properties\":[{\"default\":0,\"kind\":null,\"name\":\"open_modal\"},{\"default\":0,\"kind\":null,\"name\":\"close_modal\"}]},{\"extends\":null,\"module\":null,\"name\":\"MaterialTemplateActions1\",\"overrides\":[],\"properties\":[{\"default\":0,\"kind\":null,\"name\":\"open_modal\"},{\"default\":0,\"kind\":null,\"name\":\"close_modal\"}]}],\"roots\":{\"references\":[{\"attributes\":{},\"id\":\"7422\",\"type\":\"BasicTicker\"},{\"attributes\":{\"label\":{\"value\":\"Group-B\"},\"renderers\":[{\"id\":\"7471\"}]},\"id\":\"7485\",\"type\":\"LegendItem\"},{\"attributes\":{\"axis_label\":\"Field Goal Percentage\",\"coordinates\":null,\"formatter\":{\"id\":\"7442\"},\"group\":null,\"major_label_policy\":{\"id\":\"7443\"},\"ticker\":{\"id\":\"7422\"}},\"id\":\"7421\",\"type\":\"LinearAxis\"},{\"attributes\":{\"line_color\":\"#fc4f30\",\"line_width\":2,\"x\":{\"field\":\"DraftYear\"},\"y\":{\"field\":\"FG%\"}},\"id\":\"7486\",\"type\":\"Line\"},{\"attributes\":{},\"id\":\"7442\",\"type\":\"BasicTickFormatter\"},{\"attributes\":{},\"id\":\"7459\",\"type\":\"UnionRenderers\"},{\"attributes\":{\"line_alpha\":0.2,\"line_color\":\"#fc4f30\",\"line_width\":2,\"x\":{\"field\":\"DraftYear\"},\"y\":{\"field\":\"FG%\"}},\"id\":\"7470\",\"type\":\"Line\"},{\"attributes\":{},\"id\":\"7506\",\"type\":\"UnionRenderers\"},{\"attributes\":{\"line_alpha\":0.1,\"line_color\":\"#30a2da\",\"line_width\":2,\"x\":{\"field\":\"DraftYear\"},\"y\":{\"field\":\"FG%\"}},\"id\":\"7448\",\"type\":\"Line\"},{\"attributes\":{},\"id\":\"7482\",\"type\":\"UnionRenderers\"},{\"attributes\":{\"line_color\":\"#30a2da\",\"line_width\":2,\"x\":{\"field\":\"DraftYear\"},\"y\":{\"field\":\"FG%\"}},\"id\":\"7464\",\"type\":\"Line\"},{\"attributes\":{},\"id\":\"7443\",\"type\":\"AllLabels\"},{\"attributes\":{},\"id\":\"7440\",\"type\":\"AllLabels\"},{\"attributes\":{\"source\":{\"id\":\"7444\"}},\"id\":\"7451\",\"type\":\"CDSView\"},{\"attributes\":{\"coordinates\":null,\"data_source\":{\"id\":\"7444\"},\"glyph\":{\"id\":\"7447\"},\"group\":null,\"hover_glyph\":null,\"muted_glyph\":{\"id\":\"7449\"},\"nonselection_glyph\":{\"id\":\"7448\"},\"selection_glyph\":{\"id\":\"7464\"},\"view\":{\"id\":\"7451\"}},\"id\":\"7450\",\"type\":\"GlyphRenderer\"},{\"attributes\":{\"data\":{\"DraftYear\":[2017,2018,2019,2020,2021],\"FG%\":{\"__ndarray__\":\"Ak2EDU+v3D8T0ETY8PTaP5qZmZmZmdk/wOyePCzU2j+S7Xw/NV7aPw==\",\"dtype\":\"float64\",\"order\":\"little\",\"shape\":[5]},\"FG_percent\":{\"__ndarray__\":\"Ak2EDU+v3D8T0ETY8PTaP5qZmZmZmdk/wOyePCzU2j+S7Xw/NV7aPw==\",\"dtype\":\"float64\",\"order\":\"little\",\"shape\":[5]}},\"selected\":{\"id\":\"7466\"},\"selection_policy\":{\"id\":\"7482\"}},\"id\":\"7465\",\"type\":\"ColumnDataSource\"},{\"attributes\":{\"source\":{\"id\":\"7465\"}},\"id\":\"7472\",\"type\":\"CDSView\"},{\"attributes\":{},\"id\":\"7439\",\"type\":\"BasicTickFormatter\"},{\"attributes\":{\"margin\":[5,5,5,5],\"name\":\"HSpacer15392\",\"sizing_mode\":\"stretch_width\"},\"id\":\"7637\",\"type\":\"Spacer\"},{\"attributes\":{\"tools\":[{\"id\":\"7405\"},{\"id\":\"7425\"},{\"id\":\"7426\"},{\"id\":\"7427\"},{\"id\":\"7428\"},{\"id\":\"7429\"}]},\"id\":\"7431\",\"type\":\"Toolbar\"},{\"attributes\":{\"line_alpha\":0.2,\"line_color\":\"#30a2da\",\"line_width\":2,\"x\":{\"field\":\"DraftYear\"},\"y\":{\"field\":\"FG%\"}},\"id\":\"7449\",\"type\":\"Line\"},{\"attributes\":{\"margin\":[5,5,5,5],\"name\":\"HSpacer15391\",\"sizing_mode\":\"stretch_width\"},\"id\":\"7402\",\"type\":\"Spacer\"},{\"attributes\":{\"line_alpha\":0.1,\"line_color\":\"#e5ae38\",\"line_width\":2,\"x\":{\"field\":\"DraftYear\"},\"y\":{\"field\":\"FG%\"}},\"id\":\"7491\",\"type\":\"Line\"},{\"attributes\":{},\"id\":\"7425\",\"type\":\"SaveTool\"},{\"attributes\":{\"click_policy\":\"mute\",\"coordinates\":null,\"group\":null,\"items\":[{\"id\":\"7463\"},{\"id\":\"7485\"},{\"id\":\"7509\"}]},\"id\":\"7462\",\"type\":\"Legend\"},{\"attributes\":{},\"id\":\"7426\",\"type\":\"PanTool\"},{\"attributes\":{\"below\":[{\"id\":\"7417\"}],\"center\":[{\"id\":\"7420\"},{\"id\":\"7424\"},{\"id\":\"7462\"}],\"height\":300,\"left\":[{\"id\":\"7421\"}],\"margin\":[5,5,5,5],\"min_border_bottom\":10,\"min_border_left\":10,\"min_border_right\":10,\"min_border_top\":10,\"renderers\":[{\"id\":\"7450\"},{\"id\":\"7471\"},{\"id\":\"7493\"}],\"sizing_mode\":\"fixed\",\"title\":{\"id\":\"7409\"},\"toolbar\":{\"id\":\"7431\"},\"width\":700,\"x_range\":{\"id\":\"7403\"},\"x_scale\":{\"id\":\"7413\"},\"y_range\":{\"id\":\"7404\"},\"y_scale\":{\"id\":\"7415\"}},\"id\":\"7408\",\"subtype\":\"Figure\",\"type\":\"Plot\"},{\"attributes\":{\"coordinates\":null,\"data_source\":{\"id\":\"7487\"},\"glyph\":{\"id\":\"7490\"},\"group\":null,\"hover_glyph\":null,\"muted_glyph\":{\"id\":\"7492\"},\"nonselection_glyph\":{\"id\":\"7491\"},\"selection_glyph\":{\"id\":\"7510\"},\"view\":{\"id\":\"7494\"}},\"id\":\"7493\",\"type\":\"GlyphRenderer\"},{\"attributes\":{},\"id\":\"7427\",\"type\":\"WheelZoomTool\"},{\"attributes\":{},\"id\":\"7413\",\"type\":\"LinearScale\"},{\"attributes\":{\"line_alpha\":0.2,\"line_color\":\"#e5ae38\",\"line_width\":2,\"x\":{\"field\":\"DraftYear\"},\"y\":{\"field\":\"FG%\"}},\"id\":\"7492\",\"type\":\"Line\"},{\"attributes\":{\"overlay\":{\"id\":\"7430\"}},\"id\":\"7428\",\"type\":\"BoxZoomTool\"},{\"attributes\":{\"label\":{\"value\":\"Group-A\"},\"renderers\":[{\"id\":\"7450\"}]},\"id\":\"7463\",\"type\":\"LegendItem\"},{\"attributes\":{},\"id\":\"7445\",\"type\":\"Selection\"},{\"attributes\":{\"data\":{\"DraftYear\":[2017,2018,2019,2020,2021],\"FG%\":{\"__ndarray__\":\"YAfOGVHa2z/45GGh1jTfP+7Jw0Ktad4/PujZrPpc3T8Spb3BFybbPw==\",\"dtype\":\"float64\",\"order\":\"little\",\"shape\":[5]},\"FG_percent\":{\"__ndarray__\":\"YAfOGVHa2z/45GGh1jTfP+7Jw0Ktad4/PujZrPpc3T8Spb3BFybbPw==\",\"dtype\":\"float64\",\"order\":\"little\",\"shape\":[5]}},\"selected\":{\"id\":\"7445\"},\"selection_policy\":{\"id\":\"7459\"}},\"id\":\"7444\",\"type\":\"ColumnDataSource\"},{\"attributes\":{\"axis\":{\"id\":\"7421\"},\"coordinates\":null,\"dimension\":1,\"grid_line_color\":null,\"group\":null,\"ticker\":null},\"id\":\"7424\",\"type\":\"Grid\"},{\"attributes\":{\"source\":{\"id\":\"7487\"}},\"id\":\"7494\",\"type\":\"CDSView\"},{\"attributes\":{\"line_color\":\"#e5ae38\",\"line_width\":2,\"x\":{\"field\":\"DraftYear\"},\"y\":{\"field\":\"FG%\"}},\"id\":\"7490\",\"type\":\"Line\"},{\"attributes\":{\"label\":{\"value\":\"Group-C\"},\"renderers\":[{\"id\":\"7493\"}]},\"id\":\"7509\",\"type\":\"LegendItem\"},{\"attributes\":{\"coordinates\":null,\"data_source\":{\"id\":\"7465\"},\"glyph\":{\"id\":\"7468\"},\"group\":null,\"hover_glyph\":null,\"muted_glyph\":{\"id\":\"7470\"},\"nonselection_glyph\":{\"id\":\"7469\"},\"selection_glyph\":{\"id\":\"7486\"},\"view\":{\"id\":\"7472\"}},\"id\":\"7471\",\"type\":\"GlyphRenderer\"},{\"attributes\":{\"line_alpha\":0.1,\"line_color\":\"#fc4f30\",\"line_width\":2,\"x\":{\"field\":\"DraftYear\"},\"y\":{\"field\":\"FG%\"}},\"id\":\"7469\",\"type\":\"Line\"},{\"attributes\":{},\"id\":\"7429\",\"type\":\"ResetTool\"},{\"attributes\":{},\"id\":\"7415\",\"type\":\"LinearScale\"},{\"attributes\":{\"end\":2021.0,\"reset_end\":2021.0,\"reset_start\":2017.0,\"start\":2017.0,\"tags\":[[[\"DraftYear\",\"DraftYear\",null]]]},\"id\":\"7403\",\"type\":\"Range1d\"},{\"attributes\":{\"bottom_units\":\"screen\",\"coordinates\":null,\"fill_alpha\":0.5,\"fill_color\":\"lightgrey\",\"group\":null,\"left_units\":\"screen\",\"level\":\"overlay\",\"line_alpha\":1.0,\"line_color\":\"black\",\"line_dash\":[4,4],\"line_width\":2,\"right_units\":\"screen\",\"syncable\":false,\"top_units\":\"screen\"},\"id\":\"7430\",\"type\":\"BoxAnnotation\"},{\"attributes\":{},\"id\":\"7488\",\"type\":\"Selection\"},{\"attributes\":{\"line_color\":\"#30a2da\",\"line_width\":2,\"x\":{\"field\":\"DraftYear\"},\"y\":{\"field\":\"FG%\"}},\"id\":\"7447\",\"type\":\"Line\"},{\"attributes\":{\"line_color\":\"#e5ae38\",\"line_width\":2,\"x\":{\"field\":\"DraftYear\"},\"y\":{\"field\":\"FG%\"}},\"id\":\"7510\",\"type\":\"Line\"},{\"attributes\":{\"coordinates\":null,\"group\":null,\"text\":\"Average 1st Round Picks Field Goal Percentage 2017-2021\",\"text_color\":\"black\",\"text_font_size\":\"12pt\"},\"id\":\"7409\",\"type\":\"Title\"},{\"attributes\":{\"axis_label\":\"Draft Year\",\"coordinates\":null,\"formatter\":{\"id\":\"7439\"},\"group\":null,\"major_label_policy\":{\"id\":\"7440\"},\"ticker\":{\"id\":\"7418\"}},\"id\":\"7417\",\"type\":\"LinearAxis\"},{\"attributes\":{},\"id\":\"7466\",\"type\":\"Selection\"},{\"attributes\":{\"line_color\":\"#fc4f30\",\"line_width\":2,\"x\":{\"field\":\"DraftYear\"},\"y\":{\"field\":\"FG%\"}},\"id\":\"7468\",\"type\":\"Line\"},{\"attributes\":{\"callback\":null,\"renderers\":[{\"id\":\"7450\"},{\"id\":\"7471\"},{\"id\":\"7493\"}],\"tags\":[\"hv_created\"],\"tooltips\":[[\"DraftYear\",\"@{DraftYear}\"],[\"FG%\",\"@{FG_percent}\"]]},\"id\":\"7405\",\"type\":\"HoverTool\"},{\"attributes\":{},\"id\":\"7418\",\"type\":\"BasicTicker\"},{\"attributes\":{\"end\":0.56852,\"reset_end\":0.56852,\"reset_start\":0.38468,\"start\":0.38468,\"tags\":[[[\"FG%\",\"FG%\",null]]]},\"id\":\"7404\",\"type\":\"Range1d\"},{\"attributes\":{\"data\":{\"DraftYear\":[2017,2018,2019,2020,2021],\"FG%\":{\"__ndarray__\":\"pixDHOvi3j+62or9ZffcP1XBqKROQNs/lpAPejar3j/dtYR80LPhPw==\",\"dtype\":\"float64\",\"order\":\"little\",\"shape\":[5]},\"FG_percent\":{\"__ndarray__\":\"pixDHOvi3j+62or9ZffcP1XBqKROQNs/lpAPejar3j/dtYR80LPhPw==\",\"dtype\":\"float64\",\"order\":\"little\",\"shape\":[5]}},\"selected\":{\"id\":\"7488\"},\"selection_policy\":{\"id\":\"7506\"}},\"id\":\"7487\",\"type\":\"ColumnDataSource\"},{\"attributes\":{\"axis\":{\"id\":\"7417\"},\"coordinates\":null,\"grid_line_color\":null,\"group\":null,\"ticker\":null},\"id\":\"7420\",\"type\":\"Grid\"},{\"attributes\":{\"children\":[{\"id\":\"7402\"},{\"id\":\"7408\"},{\"id\":\"7637\"}],\"margin\":[0,0,0,0],\"name\":\"Row15387\",\"tags\":[\"embedded\"]},\"id\":\"7401\",\"type\":\"Row\"}],\"root_ids\":[\"7401\"]},\"title\":\"Bokeh Application\",\"version\":\"2.4.2\"}};\n",
       "    var render_items = [{\"docid\":\"dd62bb66-93f4-4ed4-84cf-5746ddc6d0b8\",\"root_ids\":[\"7401\"],\"roots\":{\"7401\":\"3eab52bf-81f4-4666-a988-33507e350e8d\"}}];\n",
       "    root.Bokeh.embed.embed_items_notebook(docs_json, render_items);\n",
       "  }\n",
       "  if (root.Bokeh !== undefined && root.Bokeh.Panel !== undefined) {\n",
       "    embed_document(root);\n",
       "  } else {\n",
       "    var attempts = 0;\n",
       "    var timer = setInterval(function(root) {\n",
       "      if (root.Bokeh !== undefined && root.Bokeh.Panel !== undefined) {\n",
       "        clearInterval(timer);\n",
       "        embed_document(root);\n",
       "      } else if (document.readyState == \"complete\") {\n",
       "        attempts++;\n",
       "        if (attempts > 200) {\n",
       "          clearInterval(timer);\n",
       "          console.log(\"Bokeh: ERROR: Unable to run BokehJS code because BokehJS library is missing\");\n",
       "        }\n",
       "      }\n",
       "    }, 25, root)\n",
       "  }\n",
       "})(window);</script>"
      ],
      "text/plain": [
       ":Overlay\n",
       "   .Curve.Group_hyphen_minus_A :Curve   [DraftYear]   (FG%)\n",
       "   .Curve.Group_hyphen_minus_B :Curve   [DraftYear]   (FG%)\n",
       "   .Curve.Group_hyphen_minus_C :Curve   [DraftYear]   (FG%)"
      ]
     },
     "execution_count": 200,
     "metadata": {
      "application/vnd.holoviews_exec.v0+json": {
       "id": "7401"
      }
     },
     "output_type": "execute_result"
    }
   ],
   "source": [
    "# Overlay all groups field goal percentage 2017-2021\n",
    "group_a_fg_plot*group_b_fg_plot*group_c_fg_plot"
   ]
  },
  {
   "cell_type": "code",
   "execution_count": null,
   "id": "eb4c2ceb-6054-4c80-b2a2-faaa422211a1",
   "metadata": {},
   "outputs": [],
   "source": []
  },
  {
   "cell_type": "code",
   "execution_count": 201,
   "id": "61b37fbc-132a-453e-b1d2-59c2209f9118",
   "metadata": {},
   "outputs": [],
   "source": [
    "# Use hvplot to visualize group A's 3-pointer percentage 2017-2021\n",
    "group_a_3p_plot = group_a_ave['3P%'].hvplot(\n",
    "    title='Average 1st Round Picks 3-Pointer Percentage 2017-2021',\n",
    "    x='DraftYear',\n",
    "    y='3P%',\n",
    "    xlabel='Draft Year',\n",
    "    ylabel='3_Pointer Percentage',\n",
    "    label='Group-A'\n",
    ")"
   ]
  },
  {
   "cell_type": "code",
   "execution_count": 202,
   "id": "2b30f3bd-1a11-417a-8fae-2465d55c4b87",
   "metadata": {},
   "outputs": [],
   "source": [
    "# Use hvplot to visualize group B's 3-pointer percentage 2017-2021\n",
    "group_b_3p_plot = group_b_ave['3P%'].hvplot(\n",
    "    title='Average 1st Round Picks 3-Pointer Percentage 2017-2021',\n",
    "    x='DraftYear',\n",
    "    y='3P%',\n",
    "    xlabel='Draft Year',\n",
    "    ylabel='3_Pointer Percentage',\n",
    "    label='Group-B'\n",
    ")"
   ]
  },
  {
   "cell_type": "code",
   "execution_count": 203,
   "id": "e0765a9b-b0b7-403a-9350-81995c61baa6",
   "metadata": {},
   "outputs": [],
   "source": [
    "# Use hvplot to visualize group C's 3-pointer percentage 2017-2021\n",
    "group_c_3p_plot = group_c_ave['3P%'].hvplot(\n",
    "    title='Average 1st Round Picks 3-Pointer Percentage 2017-2021',\n",
    "    x='DraftYear',\n",
    "    y='3P%',\n",
    "    xlabel='Draft Year',\n",
    "    ylabel='3_Pointer Percentage',\n",
    "    label='Group-C'\n",
    ")"
   ]
  },
  {
   "cell_type": "code",
   "execution_count": 204,
   "id": "31907517-c42f-4cec-bdf8-e36d5773f323",
   "metadata": {},
   "outputs": [
    {
     "data": {},
     "metadata": {},
     "output_type": "display_data"
    },
    {
     "data": {
      "application/vnd.holoviews_exec.v0+json": "",
      "text/html": [
       "<div id='7709'>\n",
       "\n",
       "\n",
       "\n",
       "\n",
       "\n",
       "  <div class=\"bk-root\" id=\"0eee6a07-653a-430f-b514-9dbd6be996ac\" data-root-id=\"7709\"></div>\n",
       "</div>\n",
       "<script type=\"application/javascript\">(function(root) {\n",
       "  function embed_document(root) {\n",
       "    var docs_json = {\"9f772716-5c04-48ae-a19e-7735d060f309\":{\"defs\":[{\"extends\":null,\"module\":null,\"name\":\"ReactiveHTML1\",\"overrides\":[],\"properties\":[]},{\"extends\":null,\"module\":null,\"name\":\"FlexBox1\",\"overrides\":[],\"properties\":[{\"default\":\"flex-start\",\"kind\":null,\"name\":\"align_content\"},{\"default\":\"flex-start\",\"kind\":null,\"name\":\"align_items\"},{\"default\":\"row\",\"kind\":null,\"name\":\"flex_direction\"},{\"default\":\"wrap\",\"kind\":null,\"name\":\"flex_wrap\"},{\"default\":\"flex-start\",\"kind\":null,\"name\":\"justify_content\"}]},{\"extends\":null,\"module\":null,\"name\":\"TemplateActions1\",\"overrides\":[],\"properties\":[{\"default\":0,\"kind\":null,\"name\":\"open_modal\"},{\"default\":0,\"kind\":null,\"name\":\"close_modal\"}]},{\"extends\":null,\"module\":null,\"name\":\"MaterialTemplateActions1\",\"overrides\":[],\"properties\":[{\"default\":0,\"kind\":null,\"name\":\"open_modal\"},{\"default\":0,\"kind\":null,\"name\":\"close_modal\"}]}],\"roots\":{\"references\":[{\"attributes\":{\"line_alpha\":0.2,\"line_color\":\"#fc4f30\",\"line_width\":2,\"x\":{\"field\":\"DraftYear\"},\"y\":{\"field\":\"3P%\"}},\"id\":\"7778\",\"type\":\"Line\"},{\"attributes\":{\"axis\":{\"id\":\"7725\"},\"coordinates\":null,\"grid_line_color\":null,\"group\":null,\"ticker\":null},\"id\":\"7728\",\"type\":\"Grid\"},{\"attributes\":{\"click_policy\":\"mute\",\"coordinates\":null,\"group\":null,\"items\":[{\"id\":\"7771\"},{\"id\":\"7793\"},{\"id\":\"7817\"}]},\"id\":\"7770\",\"type\":\"Legend\"},{\"attributes\":{},\"id\":\"7730\",\"type\":\"BasicTicker\"},{\"attributes\":{},\"id\":\"7748\",\"type\":\"AllLabels\"},{\"attributes\":{\"axis_label\":\"3_Pointer Percentage\",\"coordinates\":null,\"formatter\":{\"id\":\"7750\"},\"group\":null,\"major_label_policy\":{\"id\":\"7751\"},\"ticker\":{\"id\":\"7730\"}},\"id\":\"7729\",\"type\":\"LinearAxis\"},{\"attributes\":{\"line_color\":\"#fc4f30\",\"line_width\":2,\"x\":{\"field\":\"DraftYear\"},\"y\":{\"field\":\"3P%\"}},\"id\":\"7776\",\"type\":\"Line\"},{\"attributes\":{},\"id\":\"7726\",\"type\":\"BasicTicker\"},{\"attributes\":{\"label\":{\"value\":\"Group-B\"},\"renderers\":[{\"id\":\"7779\"}]},\"id\":\"7793\",\"type\":\"LegendItem\"},{\"attributes\":{\"line_alpha\":0.2,\"line_color\":\"#30a2da\",\"line_width\":2,\"x\":{\"field\":\"DraftYear\"},\"y\":{\"field\":\"3P%\"}},\"id\":\"7757\",\"type\":\"Line\"},{\"attributes\":{},\"id\":\"7750\",\"type\":\"BasicTickFormatter\"},{\"attributes\":{\"margin\":[5,5,5,5],\"name\":\"HSpacer16083\",\"sizing_mode\":\"stretch_width\"},\"id\":\"7945\",\"type\":\"Spacer\"},{\"attributes\":{},\"id\":\"7767\",\"type\":\"UnionRenderers\"},{\"attributes\":{\"line_color\":\"#30a2da\",\"line_width\":2,\"x\":{\"field\":\"DraftYear\"},\"y\":{\"field\":\"3P%\"}},\"id\":\"7772\",\"type\":\"Line\"},{\"attributes\":{\"line_alpha\":0.1,\"line_color\":\"#30a2da\",\"line_width\":2,\"x\":{\"field\":\"DraftYear\"},\"y\":{\"field\":\"3P%\"}},\"id\":\"7756\",\"type\":\"Line\"},{\"attributes\":{\"source\":{\"id\":\"7752\"}},\"id\":\"7759\",\"type\":\"CDSView\"},{\"attributes\":{},\"id\":\"7790\",\"type\":\"UnionRenderers\"},{\"attributes\":{\"coordinates\":null,\"data_source\":{\"id\":\"7752\"},\"glyph\":{\"id\":\"7755\"},\"group\":null,\"hover_glyph\":null,\"muted_glyph\":{\"id\":\"7757\"},\"nonselection_glyph\":{\"id\":\"7756\"},\"selection_glyph\":{\"id\":\"7772\"},\"view\":{\"id\":\"7759\"}},\"id\":\"7758\",\"type\":\"GlyphRenderer\"},{\"attributes\":{\"tools\":[{\"id\":\"7713\"},{\"id\":\"7733\"},{\"id\":\"7734\"},{\"id\":\"7735\"},{\"id\":\"7736\"},{\"id\":\"7737\"}]},\"id\":\"7739\",\"type\":\"Toolbar\"},{\"attributes\":{\"line_color\":\"#e5ae38\",\"line_width\":2,\"x\":{\"field\":\"DraftYear\"},\"y\":{\"field\":\"3P%\"}},\"id\":\"7818\",\"type\":\"Line\"},{\"attributes\":{},\"id\":\"7733\",\"type\":\"SaveTool\"},{\"attributes\":{\"source\":{\"id\":\"7795\"}},\"id\":\"7802\",\"type\":\"CDSView\"},{\"attributes\":{},\"id\":\"7734\",\"type\":\"PanTool\"},{\"attributes\":{\"below\":[{\"id\":\"7725\"}],\"center\":[{\"id\":\"7728\"},{\"id\":\"7732\"},{\"id\":\"7770\"}],\"height\":300,\"left\":[{\"id\":\"7729\"}],\"margin\":[5,5,5,5],\"min_border_bottom\":10,\"min_border_left\":10,\"min_border_right\":10,\"min_border_top\":10,\"renderers\":[{\"id\":\"7758\"},{\"id\":\"7779\"},{\"id\":\"7801\"}],\"sizing_mode\":\"fixed\",\"title\":{\"id\":\"7717\"},\"toolbar\":{\"id\":\"7739\"},\"width\":700,\"x_range\":{\"id\":\"7711\"},\"x_scale\":{\"id\":\"7721\"},\"y_range\":{\"id\":\"7712\"},\"y_scale\":{\"id\":\"7723\"}},\"id\":\"7716\",\"subtype\":\"Figure\",\"type\":\"Plot\"},{\"attributes\":{},\"id\":\"7735\",\"type\":\"WheelZoomTool\"},{\"attributes\":{\"label\":{\"value\":\"Group-A\"},\"renderers\":[{\"id\":\"7758\"}]},\"id\":\"7771\",\"type\":\"LegendItem\"},{\"attributes\":{},\"id\":\"7796\",\"type\":\"Selection\"},{\"attributes\":{},\"id\":\"7721\",\"type\":\"LinearScale\"},{\"attributes\":{\"line_color\":\"#30a2da\",\"line_width\":2,\"x\":{\"field\":\"DraftYear\"},\"y\":{\"field\":\"3P%\"}},\"id\":\"7755\",\"type\":\"Line\"},{\"attributes\":{},\"id\":\"7774\",\"type\":\"Selection\"},{\"attributes\":{\"line_alpha\":0.2,\"line_color\":\"#e5ae38\",\"line_width\":2,\"x\":{\"field\":\"DraftYear\"},\"y\":{\"field\":\"3P%\"}},\"id\":\"7800\",\"type\":\"Line\"},{\"attributes\":{\"callback\":null,\"renderers\":[{\"id\":\"7758\"},{\"id\":\"7779\"},{\"id\":\"7801\"}],\"tags\":[\"hv_created\"],\"tooltips\":[[\"DraftYear\",\"@{DraftYear}\"],[\"3P%\",\"@{A_3P_percent}\"]]},\"id\":\"7713\",\"type\":\"HoverTool\"},{\"attributes\":{\"overlay\":{\"id\":\"7738\"}},\"id\":\"7736\",\"type\":\"BoxZoomTool\"},{\"attributes\":{\"source\":{\"id\":\"7773\"}},\"id\":\"7780\",\"type\":\"CDSView\"},{\"attributes\":{\"data\":{\"3P%\":{\"__ndarray__\":\"DeAtkKD40T/ByqFFtvPVP57Nqs/VVtQ/q8/VVuwv0z8lBoGVQ4vUPw==\",\"dtype\":\"float64\",\"order\":\"little\",\"shape\":[5]},\"A_3P_percent\":{\"__ndarray__\":\"DeAtkKD40T/ByqFFtvPVP57Nqs/VVtQ/q8/VVuwv0z8lBoGVQ4vUPw==\",\"dtype\":\"float64\",\"order\":\"little\",\"shape\":[5]},\"DraftYear\":[2017,2018,2019,2020,2021]},\"selected\":{\"id\":\"7774\"},\"selection_policy\":{\"id\":\"7790\"}},\"id\":\"7773\",\"type\":\"ColumnDataSource\"},{\"attributes\":{\"axis\":{\"id\":\"7729\"},\"coordinates\":null,\"dimension\":1,\"grid_line_color\":null,\"group\":null,\"ticker\":null},\"id\":\"7732\",\"type\":\"Grid\"},{\"attributes\":{\"line_alpha\":0.1,\"line_color\":\"#e5ae38\",\"line_width\":2,\"x\":{\"field\":\"DraftYear\"},\"y\":{\"field\":\"3P%\"}},\"id\":\"7799\",\"type\":\"Line\"},{\"attributes\":{\"line_color\":\"#fc4f30\",\"line_width\":2,\"x\":{\"field\":\"DraftYear\"},\"y\":{\"field\":\"3P%\"}},\"id\":\"7794\",\"type\":\"Line\"},{\"attributes\":{\"line_color\":\"#e5ae38\",\"line_width\":2,\"x\":{\"field\":\"DraftYear\"},\"y\":{\"field\":\"3P%\"}},\"id\":\"7798\",\"type\":\"Line\"},{\"attributes\":{},\"id\":\"7737\",\"type\":\"ResetTool\"},{\"attributes\":{},\"id\":\"7723\",\"type\":\"LinearScale\"},{\"attributes\":{\"data\":{\"3P%\":{\"__ndarray__\":\"mnecoiO51D+3QILix5jTP94CCYofY9Y/sAPnjCjt1T9dbcX+snvSPw==\",\"dtype\":\"float64\",\"order\":\"little\",\"shape\":[5]},\"A_3P_percent\":{\"__ndarray__\":\"mnecoiO51D+3QILix5jTP94CCYofY9Y/sAPnjCjt1T9dbcX+snvSPw==\",\"dtype\":\"float64\",\"order\":\"little\",\"shape\":[5]},\"DraftYear\":[2017,2018,2019,2020,2021]},\"selected\":{\"id\":\"7753\"},\"selection_policy\":{\"id\":\"7767\"}},\"id\":\"7752\",\"type\":\"ColumnDataSource\"},{\"attributes\":{\"label\":{\"value\":\"Group-C\"},\"renderers\":[{\"id\":\"7801\"}]},\"id\":\"7817\",\"type\":\"LegendItem\"},{\"attributes\":{\"children\":[{\"id\":\"7710\"},{\"id\":\"7716\"},{\"id\":\"7945\"}],\"margin\":[0,0,0,0],\"name\":\"Row16078\",\"tags\":[\"embedded\"]},\"id\":\"7709\",\"type\":\"Row\"},{\"attributes\":{\"end\":0.37775,\"reset_end\":0.37775,\"reset_start\":0.23074999999999998,\"start\":0.23074999999999998,\"tags\":[[[\"3P%\",\"3P%\",null]]]},\"id\":\"7712\",\"type\":\"Range1d\"},{\"attributes\":{\"data\":{\"3P%\":{\"__ndarray__\":\"ofgx5q4l1D+TqYJRSZ3QP5vmHafoSNY/MQisHFpk1z+0yHa+nxrPPw==\",\"dtype\":\"float64\",\"order\":\"little\",\"shape\":[5]},\"A_3P_percent\":{\"__ndarray__\":\"ofgx5q4l1D+TqYJRSZ3QP5vmHafoSNY/MQisHFpk1z+0yHa+nxrPPw==\",\"dtype\":\"float64\",\"order\":\"little\",\"shape\":[5]},\"DraftYear\":[2017,2018,2019,2020,2021]},\"selected\":{\"id\":\"7796\"},\"selection_policy\":{\"id\":\"7814\"}},\"id\":\"7795\",\"type\":\"ColumnDataSource\"},{\"attributes\":{\"bottom_units\":\"screen\",\"coordinates\":null,\"fill_alpha\":0.5,\"fill_color\":\"lightgrey\",\"group\":null,\"left_units\":\"screen\",\"level\":\"overlay\",\"line_alpha\":1.0,\"line_color\":\"black\",\"line_dash\":[4,4],\"line_width\":2,\"right_units\":\"screen\",\"syncable\":false,\"top_units\":\"screen\"},\"id\":\"7738\",\"type\":\"BoxAnnotation\"},{\"attributes\":{\"coordinates\":null,\"data_source\":{\"id\":\"7795\"},\"glyph\":{\"id\":\"7798\"},\"group\":null,\"hover_glyph\":null,\"muted_glyph\":{\"id\":\"7800\"},\"nonselection_glyph\":{\"id\":\"7799\"},\"selection_glyph\":{\"id\":\"7818\"},\"view\":{\"id\":\"7802\"}},\"id\":\"7801\",\"type\":\"GlyphRenderer\"},{\"attributes\":{\"line_alpha\":0.1,\"line_color\":\"#fc4f30\",\"line_width\":2,\"x\":{\"field\":\"DraftYear\"},\"y\":{\"field\":\"3P%\"}},\"id\":\"7777\",\"type\":\"Line\"},{\"attributes\":{},\"id\":\"7747\",\"type\":\"BasicTickFormatter\"},{\"attributes\":{},\"id\":\"7753\",\"type\":\"Selection\"},{\"attributes\":{\"margin\":[5,5,5,5],\"name\":\"HSpacer16082\",\"sizing_mode\":\"stretch_width\"},\"id\":\"7710\",\"type\":\"Spacer\"},{\"attributes\":{},\"id\":\"7814\",\"type\":\"UnionRenderers\"},{\"attributes\":{\"end\":2021.0,\"reset_end\":2021.0,\"reset_start\":2017.0,\"start\":2017.0,\"tags\":[[[\"DraftYear\",\"DraftYear\",null]]]},\"id\":\"7711\",\"type\":\"Range1d\"},{\"attributes\":{\"coordinates\":null,\"group\":null,\"text\":\"Average 1st Round Picks 3-Pointer Percentage 2017-2021\",\"text_color\":\"black\",\"text_font_size\":\"12pt\"},\"id\":\"7717\",\"type\":\"Title\"},{\"attributes\":{},\"id\":\"7751\",\"type\":\"AllLabels\"},{\"attributes\":{\"axis_label\":\"Draft Year\",\"coordinates\":null,\"formatter\":{\"id\":\"7747\"},\"group\":null,\"major_label_policy\":{\"id\":\"7748\"},\"ticker\":{\"id\":\"7726\"}},\"id\":\"7725\",\"type\":\"LinearAxis\"},{\"attributes\":{\"coordinates\":null,\"data_source\":{\"id\":\"7773\"},\"glyph\":{\"id\":\"7776\"},\"group\":null,\"hover_glyph\":null,\"muted_glyph\":{\"id\":\"7778\"},\"nonselection_glyph\":{\"id\":\"7777\"},\"selection_glyph\":{\"id\":\"7794\"},\"view\":{\"id\":\"7780\"}},\"id\":\"7779\",\"type\":\"GlyphRenderer\"}],\"root_ids\":[\"7709\"]},\"title\":\"Bokeh Application\",\"version\":\"2.4.2\"}};\n",
       "    var render_items = [{\"docid\":\"9f772716-5c04-48ae-a19e-7735d060f309\",\"root_ids\":[\"7709\"],\"roots\":{\"7709\":\"0eee6a07-653a-430f-b514-9dbd6be996ac\"}}];\n",
       "    root.Bokeh.embed.embed_items_notebook(docs_json, render_items);\n",
       "  }\n",
       "  if (root.Bokeh !== undefined && root.Bokeh.Panel !== undefined) {\n",
       "    embed_document(root);\n",
       "  } else {\n",
       "    var attempts = 0;\n",
       "    var timer = setInterval(function(root) {\n",
       "      if (root.Bokeh !== undefined && root.Bokeh.Panel !== undefined) {\n",
       "        clearInterval(timer);\n",
       "        embed_document(root);\n",
       "      } else if (document.readyState == \"complete\") {\n",
       "        attempts++;\n",
       "        if (attempts > 200) {\n",
       "          clearInterval(timer);\n",
       "          console.log(\"Bokeh: ERROR: Unable to run BokehJS code because BokehJS library is missing\");\n",
       "        }\n",
       "      }\n",
       "    }, 25, root)\n",
       "  }\n",
       "})(window);</script>"
      ],
      "text/plain": [
       ":Overlay\n",
       "   .Curve.Group_hyphen_minus_A :Curve   [DraftYear]   (3P%)\n",
       "   .Curve.Group_hyphen_minus_B :Curve   [DraftYear]   (3P%)\n",
       "   .Curve.Group_hyphen_minus_C :Curve   [DraftYear]   (3P%)"
      ]
     },
     "execution_count": 204,
     "metadata": {
      "application/vnd.holoviews_exec.v0+json": {
       "id": "7709"
      }
     },
     "output_type": "execute_result"
    }
   ],
   "source": [
    "# Overlay all groups 3-pinter percentage 2017-2021\n",
    "group_a_3p_plot*group_b_3p_plot*group_c_3p_plot"
   ]
  },
  {
   "cell_type": "code",
   "execution_count": null,
   "id": "0168f46e-2798-49c3-95f7-17e321c5c5e1",
   "metadata": {},
   "outputs": [],
   "source": []
  },
  {
   "cell_type": "code",
   "execution_count": 205,
   "id": "85891422-1926-4e75-8be2-0e8526b47840",
   "metadata": {},
   "outputs": [],
   "source": [
    "# Use hvplot to visualize group A's free throws percentage 2017-2021\n",
    "group_a_ft_plot = group_a_ave['FT%'].hvplot(\n",
    "    title='Average 1st Round Picks Free Throws Percentage 2017-2021',\n",
    "    x='DraftYear',\n",
    "    y='FT%',\n",
    "    xlabel='Draft Year',\n",
    "    ylabel='Free Throws Percentage',\n",
    "    label='Group-A'\n",
    ")"
   ]
  },
  {
   "cell_type": "code",
   "execution_count": 206,
   "id": "30c4812c-39c2-4956-856f-c8327ead2f19",
   "metadata": {},
   "outputs": [],
   "source": [
    "# Use hvplot to visualize group B's free throws percentage 2017-2021\n",
    "group_b_ft_plot = group_b_ave['FT%'].hvplot(\n",
    "    title='Average 1st Round Picks Free Throws Percentage 2017-2021',\n",
    "    x='DraftYear',\n",
    "    y='FT%',\n",
    "    xlabel='Draft Year',\n",
    "    ylabel='Free Throws Percentage',\n",
    "    label='Group-B'\n",
    ")"
   ]
  },
  {
   "cell_type": "code",
   "execution_count": 207,
   "id": "ac7724b4-0fc6-4b7b-8a86-101c0c63579e",
   "metadata": {},
   "outputs": [],
   "source": [
    "# Use hvplot to visualize group C's free throws percentage 2017-2021\n",
    "group_c_ft_plot = group_c_ave['FT%'].hvplot(\n",
    "    title='Average 1st Round Picks Free Throws Percentage 2017-2021',\n",
    "    x='DraftYear',\n",
    "    y='FT%',\n",
    "    xlabel='Draft Year',\n",
    "    ylabel='Free Throws Percentage',\n",
    "    label='Group-C'\n",
    ")"
   ]
  },
  {
   "cell_type": "code",
   "execution_count": 208,
   "id": "e8528558-2573-49a8-a286-a00e8f1d3bd2",
   "metadata": {},
   "outputs": [
    {
     "data": {},
     "metadata": {},
     "output_type": "display_data"
    },
    {
     "data": {
      "application/vnd.holoviews_exec.v0+json": "",
      "text/html": [
       "<div id='8017'>\n",
       "\n",
       "\n",
       "\n",
       "\n",
       "\n",
       "  <div class=\"bk-root\" id=\"9ef0f1b0-6d7f-459a-9ebd-e15cb87180c8\" data-root-id=\"8017\"></div>\n",
       "</div>\n",
       "<script type=\"application/javascript\">(function(root) {\n",
       "  function embed_document(root) {\n",
       "    var docs_json = {\"b1deb512-027c-4bc2-b3a5-cb96aae63248\":{\"defs\":[{\"extends\":null,\"module\":null,\"name\":\"ReactiveHTML1\",\"overrides\":[],\"properties\":[]},{\"extends\":null,\"module\":null,\"name\":\"FlexBox1\",\"overrides\":[],\"properties\":[{\"default\":\"flex-start\",\"kind\":null,\"name\":\"align_content\"},{\"default\":\"flex-start\",\"kind\":null,\"name\":\"align_items\"},{\"default\":\"row\",\"kind\":null,\"name\":\"flex_direction\"},{\"default\":\"wrap\",\"kind\":null,\"name\":\"flex_wrap\"},{\"default\":\"flex-start\",\"kind\":null,\"name\":\"justify_content\"}]},{\"extends\":null,\"module\":null,\"name\":\"TemplateActions1\",\"overrides\":[],\"properties\":[{\"default\":0,\"kind\":null,\"name\":\"open_modal\"},{\"default\":0,\"kind\":null,\"name\":\"close_modal\"}]},{\"extends\":null,\"module\":null,\"name\":\"MaterialTemplateActions1\",\"overrides\":[],\"properties\":[{\"default\":0,\"kind\":null,\"name\":\"open_modal\"},{\"default\":0,\"kind\":null,\"name\":\"close_modal\"}]}],\"roots\":{\"references\":[{\"attributes\":{\"axis\":{\"id\":\"8037\"},\"coordinates\":null,\"dimension\":1,\"grid_line_color\":null,\"group\":null,\"ticker\":null},\"id\":\"8040\",\"type\":\"Grid\"},{\"attributes\":{\"tools\":[{\"id\":\"8021\"},{\"id\":\"8041\"},{\"id\":\"8042\"},{\"id\":\"8043\"},{\"id\":\"8044\"},{\"id\":\"8045\"}]},\"id\":\"8047\",\"type\":\"Toolbar\"},{\"attributes\":{},\"id\":\"8082\",\"type\":\"Selection\"},{\"attributes\":{},\"id\":\"8061\",\"type\":\"Selection\"},{\"attributes\":{},\"id\":\"8122\",\"type\":\"UnionRenderers\"},{\"attributes\":{},\"id\":\"8031\",\"type\":\"LinearScale\"},{\"attributes\":{},\"id\":\"8045\",\"type\":\"ResetTool\"},{\"attributes\":{\"source\":{\"id\":\"8103\"}},\"id\":\"8110\",\"type\":\"CDSView\"},{\"attributes\":{},\"id\":\"8055\",\"type\":\"BasicTickFormatter\"},{\"attributes\":{\"source\":{\"id\":\"8081\"}},\"id\":\"8088\",\"type\":\"CDSView\"},{\"attributes\":{\"label\":{\"value\":\"Group-C\"},\"renderers\":[{\"id\":\"8109\"}]},\"id\":\"8125\",\"type\":\"LegendItem\"},{\"attributes\":{\"below\":[{\"id\":\"8033\"}],\"center\":[{\"id\":\"8036\"},{\"id\":\"8040\"},{\"id\":\"8078\"}],\"height\":300,\"left\":[{\"id\":\"8037\"}],\"margin\":[5,5,5,5],\"min_border_bottom\":10,\"min_border_left\":10,\"min_border_right\":10,\"min_border_top\":10,\"renderers\":[{\"id\":\"8066\"},{\"id\":\"8087\"},{\"id\":\"8109\"}],\"sizing_mode\":\"fixed\",\"title\":{\"id\":\"8025\"},\"toolbar\":{\"id\":\"8047\"},\"width\":700,\"x_range\":{\"id\":\"8019\"},\"x_scale\":{\"id\":\"8029\"},\"y_range\":{\"id\":\"8020\"},\"y_scale\":{\"id\":\"8031\"}},\"id\":\"8024\",\"subtype\":\"Figure\",\"type\":\"Plot\"},{\"attributes\":{\"line_alpha\":0.1,\"line_color\":\"#fc4f30\",\"line_width\":2,\"x\":{\"field\":\"DraftYear\"},\"y\":{\"field\":\"FT%\"}},\"id\":\"8085\",\"type\":\"Line\"},{\"attributes\":{\"bottom_units\":\"screen\",\"coordinates\":null,\"fill_alpha\":0.5,\"fill_color\":\"lightgrey\",\"group\":null,\"left_units\":\"screen\",\"level\":\"overlay\",\"line_alpha\":1.0,\"line_color\":\"black\",\"line_dash\":[4,4],\"line_width\":2,\"right_units\":\"screen\",\"syncable\":false,\"top_units\":\"screen\"},\"id\":\"8046\",\"type\":\"BoxAnnotation\"},{\"attributes\":{\"coordinates\":null,\"group\":null,\"text\":\"Average 1st Round Picks Free Throws Percentage 2017-2021\",\"text_color\":\"black\",\"text_font_size\":\"12pt\"},\"id\":\"8025\",\"type\":\"Title\"},{\"attributes\":{\"margin\":[5,5,5,5],\"name\":\"HSpacer16774\",\"sizing_mode\":\"stretch_width\"},\"id\":\"8253\",\"type\":\"Spacer\"},{\"attributes\":{\"axis_label\":\"Draft Year\",\"coordinates\":null,\"formatter\":{\"id\":\"8055\"},\"group\":null,\"major_label_policy\":{\"id\":\"8056\"},\"ticker\":{\"id\":\"8034\"}},\"id\":\"8033\",\"type\":\"LinearAxis\"},{\"attributes\":{\"line_alpha\":0.1,\"line_color\":\"#30a2da\",\"line_width\":2,\"x\":{\"field\":\"DraftYear\"},\"y\":{\"field\":\"FT%\"}},\"id\":\"8064\",\"type\":\"Line\"},{\"attributes\":{\"line_color\":\"#e5ae38\",\"line_width\":2,\"x\":{\"field\":\"DraftYear\"},\"y\":{\"field\":\"FT%\"}},\"id\":\"8126\",\"type\":\"Line\"},{\"attributes\":{\"end\":2021.0,\"reset_end\":2021.0,\"reset_start\":2017.0,\"start\":2017.0,\"tags\":[[[\"DraftYear\",\"DraftYear\",null]]]},\"id\":\"8019\",\"type\":\"Range1d\"},{\"attributes\":{\"line_color\":\"#fc4f30\",\"line_width\":2,\"x\":{\"field\":\"DraftYear\"},\"y\":{\"field\":\"FT%\"}},\"id\":\"8102\",\"type\":\"Line\"},{\"attributes\":{},\"id\":\"8034\",\"type\":\"BasicTicker\"},{\"attributes\":{},\"id\":\"8104\",\"type\":\"Selection\"},{\"attributes\":{\"axis\":{\"id\":\"8033\"},\"coordinates\":null,\"grid_line_color\":null,\"group\":null,\"ticker\":null},\"id\":\"8036\",\"type\":\"Grid\"},{\"attributes\":{\"line_alpha\":0.2,\"line_color\":\"#e5ae38\",\"line_width\":2,\"x\":{\"field\":\"DraftYear\"},\"y\":{\"field\":\"FT%\"}},\"id\":\"8108\",\"type\":\"Line\"},{\"attributes\":{},\"id\":\"8056\",\"type\":\"AllLabels\"},{\"attributes\":{\"coordinates\":null,\"data_source\":{\"id\":\"8081\"},\"glyph\":{\"id\":\"8084\"},\"group\":null,\"hover_glyph\":null,\"muted_glyph\":{\"id\":\"8086\"},\"nonselection_glyph\":{\"id\":\"8085\"},\"selection_glyph\":{\"id\":\"8102\"},\"view\":{\"id\":\"8088\"}},\"id\":\"8087\",\"type\":\"GlyphRenderer\"},{\"attributes\":{},\"id\":\"8038\",\"type\":\"BasicTicker\"},{\"attributes\":{\"axis_label\":\"Free Throws Percentage\",\"coordinates\":null,\"formatter\":{\"id\":\"8058\"},\"group\":null,\"major_label_policy\":{\"id\":\"8059\"},\"ticker\":{\"id\":\"8038\"}},\"id\":\"8037\",\"type\":\"LinearAxis\"},{\"attributes\":{\"data\":{\"DraftYear\":[2017,2018,2019,2020,2021],\"FT%\":{\"__ndarray__\":\"eqUsQxzr5j+EDU+vlGXoPw6+MJkqGOk/0ETY8PRK6T9CYOXQItvmPw==\",\"dtype\":\"float64\",\"order\":\"little\",\"shape\":[5]},\"FT_percent\":{\"__ndarray__\":\"eqUsQxzr5j+EDU+vlGXoPw6+MJkqGOk/0ETY8PRK6T9CYOXQItvmPw==\",\"dtype\":\"float64\",\"order\":\"little\",\"shape\":[5]}},\"selected\":{\"id\":\"8104\"},\"selection_policy\":{\"id\":\"8122\"}},\"id\":\"8103\",\"type\":\"ColumnDataSource\"},{\"attributes\":{},\"id\":\"8098\",\"type\":\"UnionRenderers\"},{\"attributes\":{\"line_alpha\":0.2,\"line_color\":\"#fc4f30\",\"line_width\":2,\"x\":{\"field\":\"DraftYear\"},\"y\":{\"field\":\"FT%\"}},\"id\":\"8086\",\"type\":\"Line\"},{\"attributes\":{\"line_color\":\"#fc4f30\",\"line_width\":2,\"x\":{\"field\":\"DraftYear\"},\"y\":{\"field\":\"FT%\"}},\"id\":\"8084\",\"type\":\"Line\"},{\"attributes\":{\"label\":{\"value\":\"Group-A\"},\"renderers\":[{\"id\":\"8066\"}]},\"id\":\"8079\",\"type\":\"LegendItem\"},{\"attributes\":{\"line_color\":\"#30a2da\",\"line_width\":2,\"x\":{\"field\":\"DraftYear\"},\"y\":{\"field\":\"FT%\"}},\"id\":\"8063\",\"type\":\"Line\"},{\"attributes\":{\"end\":0.8217199999999999,\"reset_end\":0.8217199999999999,\"reset_start\":0.69308,\"start\":0.69308,\"tags\":[[[\"FT%\",\"FT%\",null]]]},\"id\":\"8020\",\"type\":\"Range1d\"},{\"attributes\":{\"coordinates\":null,\"data_source\":{\"id\":\"8060\"},\"glyph\":{\"id\":\"8063\"},\"group\":null,\"hover_glyph\":null,\"muted_glyph\":{\"id\":\"8065\"},\"nonselection_glyph\":{\"id\":\"8064\"},\"selection_glyph\":{\"id\":\"8080\"},\"view\":{\"id\":\"8067\"}},\"id\":\"8066\",\"type\":\"GlyphRenderer\"},{\"attributes\":{\"data\":{\"DraftYear\":[2017,2018,2019,2020,2021],\"FT%\":{\"__ndarray__\":\"Qs9m1edq5z+NuWsJ+aDnP7YV+8vuyec/b/CFyVTB6D/AyqFFtvPpPw==\",\"dtype\":\"float64\",\"order\":\"little\",\"shape\":[5]},\"FT_percent\":{\"__ndarray__\":\"Qs9m1edq5z+NuWsJ+aDnP7YV+8vuyec/b/CFyVTB6D/AyqFFtvPpPw==\",\"dtype\":\"float64\",\"order\":\"little\",\"shape\":[5]}},\"selected\":{\"id\":\"8082\"},\"selection_policy\":{\"id\":\"8098\"}},\"id\":\"8081\",\"type\":\"ColumnDataSource\"},{\"attributes\":{\"line_color\":\"#30a2da\",\"line_width\":2,\"x\":{\"field\":\"DraftYear\"},\"y\":{\"field\":\"FT%\"}},\"id\":\"8080\",\"type\":\"Line\"},{\"attributes\":{\"line_alpha\":0.1,\"line_color\":\"#e5ae38\",\"line_width\":2,\"x\":{\"field\":\"DraftYear\"},\"y\":{\"field\":\"FT%\"}},\"id\":\"8107\",\"type\":\"Line\"},{\"attributes\":{},\"id\":\"8059\",\"type\":\"AllLabels\"},{\"attributes\":{\"click_policy\":\"mute\",\"coordinates\":null,\"group\":null,\"items\":[{\"id\":\"8079\"},{\"id\":\"8101\"},{\"id\":\"8125\"}]},\"id\":\"8078\",\"type\":\"Legend\"},{\"attributes\":{\"children\":[{\"id\":\"8018\"},{\"id\":\"8024\"},{\"id\":\"8253\"}],\"margin\":[0,0,0,0],\"name\":\"Row16769\",\"tags\":[\"embedded\"]},\"id\":\"8017\",\"type\":\"Row\"},{\"attributes\":{\"callback\":null,\"renderers\":[{\"id\":\"8066\"},{\"id\":\"8087\"},{\"id\":\"8109\"}],\"tags\":[\"hv_created\"],\"tooltips\":[[\"DraftYear\",\"@{DraftYear}\"],[\"FT%\",\"@{FT_percent}\"]]},\"id\":\"8021\",\"type\":\"HoverTool\"},{\"attributes\":{\"line_alpha\":0.2,\"line_color\":\"#30a2da\",\"line_width\":2,\"x\":{\"field\":\"DraftYear\"},\"y\":{\"field\":\"FT%\"}},\"id\":\"8065\",\"type\":\"Line\"},{\"attributes\":{\"line_color\":\"#e5ae38\",\"line_width\":2,\"x\":{\"field\":\"DraftYear\"},\"y\":{\"field\":\"FT%\"}},\"id\":\"8106\",\"type\":\"Line\"},{\"attributes\":{},\"id\":\"8041\",\"type\":\"SaveTool\"},{\"attributes\":{\"label\":{\"value\":\"Group-B\"},\"renderers\":[{\"id\":\"8087\"}]},\"id\":\"8101\",\"type\":\"LegendItem\"},{\"attributes\":{},\"id\":\"8075\",\"type\":\"UnionRenderers\"},{\"attributes\":{\"source\":{\"id\":\"8060\"}},\"id\":\"8067\",\"type\":\"CDSView\"},{\"attributes\":{},\"id\":\"8042\",\"type\":\"PanTool\"},{\"attributes\":{},\"id\":\"8058\",\"type\":\"BasicTickFormatter\"},{\"attributes\":{},\"id\":\"8043\",\"type\":\"WheelZoomTool\"},{\"attributes\":{\"margin\":[5,5,5,5],\"name\":\"HSpacer16773\",\"sizing_mode\":\"stretch_width\"},\"id\":\"8018\",\"type\":\"Spacer\"},{\"attributes\":{},\"id\":\"8029\",\"type\":\"LinearScale\"},{\"attributes\":{\"overlay\":{\"id\":\"8046\"}},\"id\":\"8044\",\"type\":\"BoxZoomTool\"},{\"attributes\":{\"coordinates\":null,\"data_source\":{\"id\":\"8103\"},\"glyph\":{\"id\":\"8106\"},\"group\":null,\"hover_glyph\":null,\"muted_glyph\":{\"id\":\"8108\"},\"nonselection_glyph\":{\"id\":\"8107\"},\"selection_glyph\":{\"id\":\"8126\"},\"view\":{\"id\":\"8110\"}},\"id\":\"8109\",\"type\":\"GlyphRenderer\"},{\"attributes\":{\"data\":{\"DraftYear\":[2017,2018,2019,2020,2021],\"FT%\":{\"__ndarray__\":\"9pfdk4eF5j8Go5I6AU3oP7K/7J48LOg/YjJVMCqp5z956SYxCKzoPw==\",\"dtype\":\"float64\",\"order\":\"little\",\"shape\":[5]},\"FT_percent\":{\"__ndarray__\":\"9pfdk4eF5j8Go5I6AU3oP7K/7J48LOg/YjJVMCqp5z956SYxCKzoPw==\",\"dtype\":\"float64\",\"order\":\"little\",\"shape\":[5]}},\"selected\":{\"id\":\"8061\"},\"selection_policy\":{\"id\":\"8075\"}},\"id\":\"8060\",\"type\":\"ColumnDataSource\"}],\"root_ids\":[\"8017\"]},\"title\":\"Bokeh Application\",\"version\":\"2.4.2\"}};\n",
       "    var render_items = [{\"docid\":\"b1deb512-027c-4bc2-b3a5-cb96aae63248\",\"root_ids\":[\"8017\"],\"roots\":{\"8017\":\"9ef0f1b0-6d7f-459a-9ebd-e15cb87180c8\"}}];\n",
       "    root.Bokeh.embed.embed_items_notebook(docs_json, render_items);\n",
       "  }\n",
       "  if (root.Bokeh !== undefined && root.Bokeh.Panel !== undefined) {\n",
       "    embed_document(root);\n",
       "  } else {\n",
       "    var attempts = 0;\n",
       "    var timer = setInterval(function(root) {\n",
       "      if (root.Bokeh !== undefined && root.Bokeh.Panel !== undefined) {\n",
       "        clearInterval(timer);\n",
       "        embed_document(root);\n",
       "      } else if (document.readyState == \"complete\") {\n",
       "        attempts++;\n",
       "        if (attempts > 200) {\n",
       "          clearInterval(timer);\n",
       "          console.log(\"Bokeh: ERROR: Unable to run BokehJS code because BokehJS library is missing\");\n",
       "        }\n",
       "      }\n",
       "    }, 25, root)\n",
       "  }\n",
       "})(window);</script>"
      ],
      "text/plain": [
       ":Overlay\n",
       "   .Curve.Group_hyphen_minus_A :Curve   [DraftYear]   (FT%)\n",
       "   .Curve.Group_hyphen_minus_B :Curve   [DraftYear]   (FT%)\n",
       "   .Curve.Group_hyphen_minus_C :Curve   [DraftYear]   (FT%)"
      ]
     },
     "execution_count": 208,
     "metadata": {
      "application/vnd.holoviews_exec.v0+json": {
       "id": "8017"
      }
     },
     "output_type": "execute_result"
    }
   ],
   "source": [
    "# Overlay all groups free throws percentage 2017-2021\n",
    "group_a_ft_plot*group_b_ft_plot*group_c_ft_plot"
   ]
  },
  {
   "cell_type": "markdown",
   "id": "ac5ee4ba-64d4-43dc-8872-a0858c8983fd",
   "metadata": {},
   "source": [
    "### When looking at MPG, PPG, RPG, and APG graphs, Group A has the best numbers followed by Group B and C, which implies an easy trend to follow; while when it comes to FG%, 3P%, and FT%, Group B and C seems have better numbers, which is hard to discover any trend."
   ]
  },
  {
   "cell_type": "markdown",
   "id": "d9c2bfb3-9de5-4170-b191-9727c08626f9",
   "metadata": {},
   "source": [
    "### Kentucky, Duke, and UNC have highest number of athletes got drafted. However, picks came from these schools are ranking lower each year in the draft"
   ]
  },
  {
   "cell_type": "code",
   "execution_count": null,
   "id": "69be85bd-6624-46b4-a0b2-ed5abc570146",
   "metadata": {},
   "outputs": [],
   "source": []
  },
  {
   "cell_type": "code",
   "execution_count": null,
   "id": "65e78662-78c6-4d4e-b80b-bffac0058f09",
   "metadata": {},
   "outputs": [],
   "source": []
  },
  {
   "cell_type": "code",
   "execution_count": null,
   "id": "2dfa9a8f-1801-49e2-84ce-a6a5948dd5aa",
   "metadata": {},
   "outputs": [],
   "source": []
  },
  {
   "cell_type": "code",
   "execution_count": null,
   "id": "7c524c8b-d1cc-4501-abf6-e99e92f0a5d5",
   "metadata": {},
   "outputs": [],
   "source": []
  },
  {
   "cell_type": "code",
   "execution_count": null,
   "id": "8403f175-eca6-49e0-90dc-27911ad9e301",
   "metadata": {},
   "outputs": [],
   "source": []
  },
  {
   "cell_type": "code",
   "execution_count": null,
   "id": "542f90f6-d8ac-4499-804a-369ca1b091f1",
   "metadata": {},
   "outputs": [],
   "source": []
  }
 ],
 "metadata": {
  "kernelspec": {
   "display_name": "dev",
   "language": "python",
   "name": "dev"
  },
  "language_info": {
   "codemirror_mode": {
    "name": "ipython",
    "version": 3
   },
   "file_extension": ".py",
   "mimetype": "text/x-python",
   "name": "python",
   "nbconvert_exporter": "python",
   "pygments_lexer": "ipython3",
   "version": "3.7.11"
  }
 },
 "nbformat": 4,
 "nbformat_minor": 5
}
