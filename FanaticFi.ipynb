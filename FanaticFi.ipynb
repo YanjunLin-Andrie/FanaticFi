{
 "cells": [
  {
   "cell_type": "code",
   "execution_count": 96,
   "id": "ebeda3f2-62bf-4113-91c7-f724be40f8cc",
   "metadata": {},
   "outputs": [],
   "source": [
    "# Import necessary libraries and dependencies\n",
    "import pandas as pd\n",
    "from pathlib import Path\n",
    "import hvplot.pandas\n",
    "import seaborn as sns\n",
    "import plotly.express as px\n",
    "import plotly.graph_objects as go"
   ]
  },
  {
   "cell_type": "code",
   "execution_count": 9,
   "id": "a352665c-8bc7-42fe-b776-6e73cfa2b977",
   "metadata": {},
   "outputs": [],
   "source": [
    "# # Using the read_csv function and Path module, create a DataFrame by importing the draft-data-20-years.csv file\n",
    "draft_df = pd.read_csv(Path('./draft-data-20-years.csv'),\n",
    "                       index_col = 'DraftYear', \n",
    "                       parse_dates=False, \n",
    "                       infer_datetime_format=True\n",
    ")"
   ]
  },
  {
   "cell_type": "code",
   "execution_count": 10,
   "id": "49fe472d-08ef-4d8c-95a7-74e6ae93471f",
   "metadata": {},
   "outputs": [
    {
     "data": {
      "text/html": [
       "<div>\n",
       "<style scoped>\n",
       "    .dataframe tbody tr th:only-of-type {\n",
       "        vertical-align: middle;\n",
       "    }\n",
       "\n",
       "    .dataframe tbody tr th {\n",
       "        vertical-align: top;\n",
       "    }\n",
       "\n",
       "    .dataframe thead th {\n",
       "        text-align: right;\n",
       "    }\n",
       "</style>\n",
       "<table border=\"1\" class=\"dataframe\">\n",
       "  <thead>\n",
       "    <tr style=\"text-align: right;\">\n",
       "      <th></th>\n",
       "      <th>Unnamed: 0</th>\n",
       "      <th>DraftYr</th>\n",
       "      <th>Rk</th>\n",
       "      <th>Pk</th>\n",
       "      <th>Tm</th>\n",
       "      <th>Pos</th>\n",
       "      <th>Player</th>\n",
       "      <th>College</th>\n",
       "      <th>Contract Worth</th>\n",
       "      <th>Yrs</th>\n",
       "      <th>...</th>\n",
       "      <th>FT%</th>\n",
       "      <th>WS</th>\n",
       "      <th>WS/48</th>\n",
       "      <th>BPM</th>\n",
       "      <th>VORP</th>\n",
       "      <th>MPG</th>\n",
       "      <th>PPG</th>\n",
       "      <th>RPG</th>\n",
       "      <th>APG</th>\n",
       "      <th>playerurl</th>\n",
       "    </tr>\n",
       "    <tr>\n",
       "      <th>DraftYear</th>\n",
       "      <th></th>\n",
       "      <th></th>\n",
       "      <th></th>\n",
       "      <th></th>\n",
       "      <th></th>\n",
       "      <th></th>\n",
       "      <th></th>\n",
       "      <th></th>\n",
       "      <th></th>\n",
       "      <th></th>\n",
       "      <th></th>\n",
       "      <th></th>\n",
       "      <th></th>\n",
       "      <th></th>\n",
       "      <th></th>\n",
       "      <th></th>\n",
       "      <th></th>\n",
       "      <th></th>\n",
       "      <th></th>\n",
       "      <th></th>\n",
       "      <th></th>\n",
       "    </tr>\n",
       "  </thead>\n",
       "  <tbody>\n",
       "    <tr>\n",
       "      <th>1990</th>\n",
       "      <td>1</td>\n",
       "      <td>1990</td>\n",
       "      <td>1</td>\n",
       "      <td>1</td>\n",
       "      <td>BRK</td>\n",
       "      <td>NaN</td>\n",
       "      <td>Derrick Coleman</td>\n",
       "      <td>Syracuse</td>\n",
       "      <td>NaN</td>\n",
       "      <td>15.0</td>\n",
       "      <td>...</td>\n",
       "      <td>0.769</td>\n",
       "      <td>64.3</td>\n",
       "      <td>0.119</td>\n",
       "      <td>1.4</td>\n",
       "      <td>22.3</td>\n",
       "      <td>33.2</td>\n",
       "      <td>16.5</td>\n",
       "      <td>9.3</td>\n",
       "      <td>2.5</td>\n",
       "      <td>https://www.sports-reference.com/cbb/players/d...</td>\n",
       "    </tr>\n",
       "    <tr>\n",
       "      <th>1990</th>\n",
       "      <td>2</td>\n",
       "      <td>1990</td>\n",
       "      <td>2</td>\n",
       "      <td>2</td>\n",
       "      <td>OKC</td>\n",
       "      <td>NaN</td>\n",
       "      <td>Gary Payton</td>\n",
       "      <td>Oregon State</td>\n",
       "      <td>NaN</td>\n",
       "      <td>17.0</td>\n",
       "      <td>...</td>\n",
       "      <td>0.729</td>\n",
       "      <td>145.5</td>\n",
       "      <td>0.148</td>\n",
       "      <td>3.3</td>\n",
       "      <td>62.5</td>\n",
       "      <td>35.3</td>\n",
       "      <td>16.3</td>\n",
       "      <td>3.9</td>\n",
       "      <td>6.7</td>\n",
       "      <td>https://www.sports-reference.com/cbb/players/g...</td>\n",
       "    </tr>\n",
       "    <tr>\n",
       "      <th>1990</th>\n",
       "      <td>3</td>\n",
       "      <td>1990</td>\n",
       "      <td>3</td>\n",
       "      <td>3</td>\n",
       "      <td>DEN</td>\n",
       "      <td>NaN</td>\n",
       "      <td>Mahmoud Abdul-Rauf</td>\n",
       "      <td>LSU</td>\n",
       "      <td>NaN</td>\n",
       "      <td>9.0</td>\n",
       "      <td>...</td>\n",
       "      <td>0.905</td>\n",
       "      <td>25.2</td>\n",
       "      <td>0.077</td>\n",
       "      <td>-0.8</td>\n",
       "      <td>4.5</td>\n",
       "      <td>26.7</td>\n",
       "      <td>14.6</td>\n",
       "      <td>1.9</td>\n",
       "      <td>3.5</td>\n",
       "      <td>https://www.sports-reference.com/cbb/players/m...</td>\n",
       "    </tr>\n",
       "    <tr>\n",
       "      <th>1990</th>\n",
       "      <td>4</td>\n",
       "      <td>1990</td>\n",
       "      <td>4</td>\n",
       "      <td>4</td>\n",
       "      <td>ORL</td>\n",
       "      <td>NaN</td>\n",
       "      <td>Dennis Scott</td>\n",
       "      <td>Georgia Tech</td>\n",
       "      <td>NaN</td>\n",
       "      <td>10.0</td>\n",
       "      <td>...</td>\n",
       "      <td>0.793</td>\n",
       "      <td>33.4</td>\n",
       "      <td>0.089</td>\n",
       "      <td>0.2</td>\n",
       "      <td>9.9</td>\n",
       "      <td>28.6</td>\n",
       "      <td>12.9</td>\n",
       "      <td>2.8</td>\n",
       "      <td>2.1</td>\n",
       "      <td>https://www.sports-reference.com/cbb/players/d...</td>\n",
       "    </tr>\n",
       "    <tr>\n",
       "      <th>1990</th>\n",
       "      <td>5</td>\n",
       "      <td>1990</td>\n",
       "      <td>5</td>\n",
       "      <td>5</td>\n",
       "      <td>CHA</td>\n",
       "      <td>NaN</td>\n",
       "      <td>Kendall Gill</td>\n",
       "      <td>Illinois</td>\n",
       "      <td>NaN</td>\n",
       "      <td>15.0</td>\n",
       "      <td>...</td>\n",
       "      <td>0.754</td>\n",
       "      <td>47.8</td>\n",
       "      <td>0.078</td>\n",
       "      <td>0.1</td>\n",
       "      <td>15.8</td>\n",
       "      <td>30.5</td>\n",
       "      <td>13.4</td>\n",
       "      <td>4.1</td>\n",
       "      <td>3.0</td>\n",
       "      <td>https://www.sports-reference.com/cbb/players/k...</td>\n",
       "    </tr>\n",
       "  </tbody>\n",
       "</table>\n",
       "<p>5 rows × 27 columns</p>\n",
       "</div>"
      ],
      "text/plain": [
       "           Unnamed: 0  DraftYr  Rk  Pk   Tm  Pos              Player  \\\n",
       "DraftYear                                                              \n",
       "1990                1     1990   1   1  BRK  NaN     Derrick Coleman   \n",
       "1990                2     1990   2   2  OKC  NaN         Gary Payton   \n",
       "1990                3     1990   3   3  DEN  NaN  Mahmoud Abdul-Rauf   \n",
       "1990                4     1990   4   4  ORL  NaN        Dennis Scott   \n",
       "1990                5     1990   5   5  CHA  NaN        Kendall Gill   \n",
       "\n",
       "                College  Contract Worth   Yrs  ...    FT%     WS  WS/48  BPM  \\\n",
       "DraftYear                                      ...                             \n",
       "1990           Syracuse             NaN  15.0  ...  0.769   64.3  0.119  1.4   \n",
       "1990       Oregon State             NaN  17.0  ...  0.729  145.5  0.148  3.3   \n",
       "1990                LSU             NaN   9.0  ...  0.905   25.2  0.077 -0.8   \n",
       "1990       Georgia Tech             NaN  10.0  ...  0.793   33.4  0.089  0.2   \n",
       "1990           Illinois             NaN  15.0  ...  0.754   47.8  0.078  0.1   \n",
       "\n",
       "           VORP   MPG   PPG  RPG  APG  \\\n",
       "DraftYear                               \n",
       "1990       22.3  33.2  16.5  9.3  2.5   \n",
       "1990       62.5  35.3  16.3  3.9  6.7   \n",
       "1990        4.5  26.7  14.6  1.9  3.5   \n",
       "1990        9.9  28.6  12.9  2.8  2.1   \n",
       "1990       15.8  30.5  13.4  4.1  3.0   \n",
       "\n",
       "                                                   playerurl  \n",
       "DraftYear                                                     \n",
       "1990       https://www.sports-reference.com/cbb/players/d...  \n",
       "1990       https://www.sports-reference.com/cbb/players/g...  \n",
       "1990       https://www.sports-reference.com/cbb/players/m...  \n",
       "1990       https://www.sports-reference.com/cbb/players/d...  \n",
       "1990       https://www.sports-reference.com/cbb/players/k...  \n",
       "\n",
       "[5 rows x 27 columns]"
      ]
     },
     "execution_count": 10,
     "metadata": {},
     "output_type": "execute_result"
    }
   ],
   "source": [
    "# Review the dataframe\n",
    "draft_df.head()"
   ]
  },
  {
   "cell_type": "code",
   "execution_count": 11,
   "id": "0cc0be4c-c561-4246-8535-f810215c2224",
   "metadata": {},
   "outputs": [],
   "source": [
    "# Selecting columns from the dataframe for analysis\n",
    "draft_df = draft_df[['Pk','Tm','Player','College','DraftYr','MPG','PPG', 'RPG', 'APG','FG%', '3P%','FT%', 'Contract Worth']]"
   ]
  },
  {
   "cell_type": "code",
   "execution_count": 12,
   "id": "7a16617d-0883-4757-90de-6434dd78db6a",
   "metadata": {},
   "outputs": [],
   "source": [
    "# Filter dataframe to get most recent 5 years data\n",
    "last_5_yrs_draft_df = draft_df.loc[draft_df['DraftYr'] >= 2017]"
   ]
  },
  {
   "cell_type": "code",
   "execution_count": 13,
   "id": "96ea12aa-e2ba-4898-81c0-5b6679780b0f",
   "metadata": {},
   "outputs": [],
   "source": [
    "# Limit data on 1st round picks\n",
    "last_5_yrs_1_rnd_draft_df = last_5_yrs_draft_df.loc[last_5_yrs_draft_df['Pk'] <=30]"
   ]
  },
  {
   "cell_type": "code",
   "execution_count": 14,
   "id": "408aea66-d97c-436f-9233-0e69875199bd",
   "metadata": {},
   "outputs": [],
   "source": [
    "# Creating a 'school' dataframe by selecting 'Pk' and 'College' columns\n",
    "school = last_5_yrs_1_rnd_draft_df[['Pk','College']]"
   ]
  },
  {
   "cell_type": "code",
   "execution_count": 15,
   "id": "472d8a76-e5ef-4976-94eb-419227fa1fe6",
   "metadata": {},
   "outputs": [
    {
     "data": {
      "text/html": [
       "<div>\n",
       "<style scoped>\n",
       "    .dataframe tbody tr th:only-of-type {\n",
       "        vertical-align: middle;\n",
       "    }\n",
       "\n",
       "    .dataframe tbody tr th {\n",
       "        vertical-align: top;\n",
       "    }\n",
       "\n",
       "    .dataframe thead th {\n",
       "        text-align: right;\n",
       "    }\n",
       "</style>\n",
       "<table border=\"1\" class=\"dataframe\">\n",
       "  <thead>\n",
       "    <tr style=\"text-align: right;\">\n",
       "      <th></th>\n",
       "      <th>Pk</th>\n",
       "      <th>College</th>\n",
       "    </tr>\n",
       "    <tr>\n",
       "      <th>DraftYear</th>\n",
       "      <th></th>\n",
       "      <th></th>\n",
       "    </tr>\n",
       "  </thead>\n",
       "  <tbody>\n",
       "    <tr>\n",
       "      <th>2017</th>\n",
       "      <td>1</td>\n",
       "      <td>Washington</td>\n",
       "    </tr>\n",
       "    <tr>\n",
       "      <th>2017</th>\n",
       "      <td>2</td>\n",
       "      <td>UCLA</td>\n",
       "    </tr>\n",
       "    <tr>\n",
       "      <th>2017</th>\n",
       "      <td>3</td>\n",
       "      <td>Duke</td>\n",
       "    </tr>\n",
       "    <tr>\n",
       "      <th>2017</th>\n",
       "      <td>4</td>\n",
       "      <td>Kansas</td>\n",
       "    </tr>\n",
       "    <tr>\n",
       "      <th>2017</th>\n",
       "      <td>5</td>\n",
       "      <td>Kentucky</td>\n",
       "    </tr>\n",
       "  </tbody>\n",
       "</table>\n",
       "</div>"
      ],
      "text/plain": [
       "           Pk     College\n",
       "DraftYear                \n",
       "2017        1  Washington\n",
       "2017        2        UCLA\n",
       "2017        3        Duke\n",
       "2017        4      Kansas\n",
       "2017        5    Kentucky"
      ]
     },
     "execution_count": 15,
     "metadata": {},
     "output_type": "execute_result"
    }
   ],
   "source": [
    "# Review school dataframe\n",
    "school.head()"
   ]
  },
  {
   "cell_type": "code",
   "execution_count": 16,
   "id": "1ed053ca-78cf-41d2-b205-26bf3e160ba6",
   "metadata": {},
   "outputs": [
    {
     "data": {
      "text/html": [
       "<div>\n",
       "<style scoped>\n",
       "    .dataframe tbody tr th:only-of-type {\n",
       "        vertical-align: middle;\n",
       "    }\n",
       "\n",
       "    .dataframe tbody tr th {\n",
       "        vertical-align: top;\n",
       "    }\n",
       "\n",
       "    .dataframe thead th {\n",
       "        text-align: right;\n",
       "    }\n",
       "</style>\n",
       "<table border=\"1\" class=\"dataframe\">\n",
       "  <thead>\n",
       "    <tr style=\"text-align: right;\">\n",
       "      <th></th>\n",
       "      <th>Picks</th>\n",
       "    </tr>\n",
       "    <tr>\n",
       "      <th>College</th>\n",
       "      <th></th>\n",
       "    </tr>\n",
       "  </thead>\n",
       "  <tbody>\n",
       "    <tr>\n",
       "      <th>Kentucky</th>\n",
       "      <td>11</td>\n",
       "    </tr>\n",
       "    <tr>\n",
       "      <th>Duke</th>\n",
       "      <td>10</td>\n",
       "    </tr>\n",
       "    <tr>\n",
       "      <th>UNC</th>\n",
       "      <td>7</td>\n",
       "    </tr>\n",
       "    <tr>\n",
       "      <th>Florida State</th>\n",
       "      <td>5</td>\n",
       "    </tr>\n",
       "    <tr>\n",
       "      <th>Villanova</th>\n",
       "      <td>5</td>\n",
       "    </tr>\n",
       "  </tbody>\n",
       "</table>\n",
       "</div>"
      ],
      "text/plain": [
       "               Picks\n",
       "College             \n",
       "Kentucky          11\n",
       "Duke              10\n",
       "UNC                7\n",
       "Florida State      5\n",
       "Villanova          5"
      ]
     },
     "execution_count": 16,
     "metadata": {},
     "output_type": "execute_result"
    }
   ],
   "source": [
    "# Create a school_rookie_count series by selecting the 'College' column and counting how many times each school has appeared in the school dataframe\n",
    "school_rookie_count = school[['College']].value_counts(sort=True, ascending=False)\n",
    "# Change the series to dataframe and name the values 'Picks'(how many picks came from each school during 2017-2021)\n",
    "school_rookie_count_df = school_rookie_count.to_frame(name='Picks')\n",
    "# Review the school_rookie_count_df dataframe\n",
    "school_rookie_count_df.head()"
   ]
  },
  {
   "cell_type": "code",
   "execution_count": 17,
   "id": "50af2507-aed0-47db-9d77-2fb6efbc6a34",
   "metadata": {},
   "outputs": [
    {
     "data": {},
     "metadata": {},
     "output_type": "display_data"
    },
    {
     "data": {
      "application/vnd.holoviews_exec.v0+json": "",
      "text/html": [
       "<div id='1002'>\n",
       "\n",
       "\n",
       "\n",
       "\n",
       "\n",
       "  <div class=\"bk-root\" id=\"e2f76430-3117-42dc-a76f-c4f12526ae8e\" data-root-id=\"1002\"></div>\n",
       "</div>\n",
       "<script type=\"application/javascript\">(function(root) {\n",
       "  function embed_document(root) {\n",
       "    var docs_json = {\"6c865a70-5554-4e4f-91f2-5099f3fc303b\":{\"defs\":[{\"extends\":null,\"module\":null,\"name\":\"ReactiveHTML1\",\"overrides\":[],\"properties\":[]},{\"extends\":null,\"module\":null,\"name\":\"FlexBox1\",\"overrides\":[],\"properties\":[{\"default\":\"flex-start\",\"kind\":null,\"name\":\"align_content\"},{\"default\":\"flex-start\",\"kind\":null,\"name\":\"align_items\"},{\"default\":\"row\",\"kind\":null,\"name\":\"flex_direction\"},{\"default\":\"wrap\",\"kind\":null,\"name\":\"flex_wrap\"},{\"default\":\"flex-start\",\"kind\":null,\"name\":\"justify_content\"}]},{\"extends\":null,\"module\":null,\"name\":\"TemplateActions1\",\"overrides\":[],\"properties\":[{\"default\":0,\"kind\":null,\"name\":\"open_modal\"},{\"default\":0,\"kind\":null,\"name\":\"close_modal\"}]},{\"extends\":null,\"module\":null,\"name\":\"MaterialTemplateActions1\",\"overrides\":[],\"properties\":[{\"default\":0,\"kind\":null,\"name\":\"open_modal\"},{\"default\":0,\"kind\":null,\"name\":\"close_modal\"}]}],\"roots\":{\"references\":[{\"attributes\":{},\"id\":\"1059\",\"type\":\"UnionRenderers\"},{\"attributes\":{\"children\":[{\"id\":\"1003\"},{\"id\":\"1007\"},{\"id\":\"1072\"}],\"margin\":[0,0,0,0],\"name\":\"Row01626\",\"tags\":[\"embedded\"]},\"id\":\"1002\",\"type\":\"Row\"},{\"attributes\":{\"margin\":[5,5,5,5],\"name\":\"HSpacer01630\",\"sizing_mode\":\"stretch_width\"},\"id\":\"1003\",\"type\":\"Spacer\"},{\"attributes\":{\"margin\":[5,5,5,5],\"name\":\"HSpacer01631\",\"sizing_mode\":\"stretch_width\"},\"id\":\"1072\",\"type\":\"Spacer\"},{\"attributes\":{},\"id\":\"1017\",\"type\":\"CategoricalTicker\"},{\"attributes\":{\"fill_alpha\":{\"value\":0.2},\"fill_color\":{\"value\":\"#30a2da\"},\"hatch_alpha\":{\"value\":0.2},\"hatch_color\":{\"value\":\"#30a2da\"},\"line_alpha\":{\"value\":0.2},\"top\":{\"field\":\"Picks\"},\"width\":{\"value\":0.8},\"x\":{\"field\":\"College\"}},\"id\":\"1042\",\"type\":\"VBar\"},{\"attributes\":{\"axis\":{\"id\":\"1016\"},\"coordinates\":null,\"grid_line_color\":null,\"group\":null,\"ticker\":null},\"id\":\"1018\",\"type\":\"Grid\"},{\"attributes\":{},\"id\":\"1048\",\"type\":\"AllLabels\"},{\"attributes\":{},\"id\":\"1020\",\"type\":\"BasicTicker\"},{\"attributes\":{\"factors\":[\"Kentucky\",\"Duke\",\"UNC\",\"Florida State\",\"Villanova\",\"Gonzaga\",\"Michigan\",\"Washington\",\"Texas\",\"Arizona\",\"Virginia\",\"USC\",\"UCLA\",\"Tennessee\",\"Oregon\",\"Alabama\",\"Memphis\",\"Michigan State\",\"Indiana\",\"Kansas\",\"Texas Tech\",\"Auburn\",\"Vanderbilt\",\"Maryland\",\"Cincinnati\",\"Boston College\",\"Texas A&M\",\"Boise State\",\"UConn\",\"Belmont\",\"Georgia\",\"Baylor\",\"Utah\",\"Syracuse\",\"VCU\",\"Arkansas\",\"Virginia Tech\",\"Wake Forest\",\"Arizona State\",\"TCU\",\"Purdue\",\"Stanford\",\"Miami (FL)\",\"Florida\",\"Houston\",\"Iowa State\",\"Dayton\",\"LSU\",\"Louisville\",\"Loyola (MD)\",\"Creighton\",\"San Diego State\",\"Missouri\",\"Murray State\",\"NC State\",\"Oklahoma\",\"Oklahoma State\",\"Colorado\",\"Georgia Tech\",\"Wichita State\"],\"tags\":[[[\"College\",\"College\",null]]]},\"id\":\"1004\",\"type\":\"FactorRange\"},{\"attributes\":{\"source\":{\"id\":\"1036\"}},\"id\":\"1044\",\"type\":\"CDSView\"},{\"attributes\":{\"fill_color\":{\"value\":\"#30a2da\"},\"hatch_color\":{\"value\":\"#30a2da\"},\"top\":{\"field\":\"Picks\"},\"width\":{\"value\":0.8},\"x\":{\"field\":\"College\"}},\"id\":\"1039\",\"type\":\"VBar\"},{\"attributes\":{\"axis\":{\"id\":\"1019\"},\"coordinates\":null,\"dimension\":1,\"grid_line_color\":null,\"group\":null,\"ticker\":null},\"id\":\"1022\",\"type\":\"Grid\"},{\"attributes\":{},\"id\":\"1025\",\"type\":\"WheelZoomTool\"},{\"attributes\":{\"bottom_units\":\"screen\",\"coordinates\":null,\"fill_alpha\":0.5,\"fill_color\":\"lightgrey\",\"group\":null,\"left_units\":\"screen\",\"level\":\"overlay\",\"line_alpha\":1.0,\"line_color\":\"black\",\"line_dash\":[4,4],\"line_width\":2,\"right_units\":\"screen\",\"syncable\":false,\"top_units\":\"screen\"},\"id\":\"1028\",\"type\":\"BoxAnnotation\"},{\"attributes\":{},\"id\":\"1050\",\"type\":\"BasicTickFormatter\"},{\"attributes\":{\"bottom\":{\"value\":0},\"fill_alpha\":{\"value\":1.0},\"fill_color\":{\"value\":\"#30a2da\"},\"hatch_alpha\":{\"value\":1.0},\"hatch_color\":{\"value\":\"#30a2da\"},\"hatch_scale\":{\"value\":12.0},\"hatch_weight\":{\"value\":1.0},\"line_alpha\":{\"value\":1.0},\"line_cap\":{\"value\":\"butt\"},\"line_color\":{\"value\":\"black\"},\"line_dash\":{\"value\":[]},\"line_dash_offset\":{\"value\":0},\"line_join\":{\"value\":\"bevel\"},\"line_width\":{\"value\":1},\"top\":{\"field\":\"Picks\"},\"width\":{\"value\":0.8},\"x\":{\"field\":\"College\"}},\"id\":\"1045\",\"type\":\"VBar\"},{\"attributes\":{\"callback\":null,\"renderers\":[{\"id\":\"1043\"}],\"tags\":[\"hv_created\"],\"tooltips\":[[\"College\",\"@{College}\"],[\"Picks\",\"@{Picks}\"]]},\"id\":\"1006\",\"type\":\"HoverTool\"},{\"attributes\":{},\"id\":\"1037\",\"type\":\"Selection\"},{\"attributes\":{\"fill_color\":{\"value\":\"orange\"},\"hatch_color\":{\"value\":\"orange\"},\"line_color\":{\"value\":\"orange\"},\"top\":{\"field\":\"Picks\"},\"width\":{\"value\":0.8},\"x\":{\"field\":\"College\"}},\"id\":\"1041\",\"type\":\"VBar\"},{\"attributes\":{},\"id\":\"1047\",\"type\":\"CategoricalTickFormatter\"},{\"attributes\":{},\"id\":\"1023\",\"type\":\"SaveTool\"},{\"attributes\":{\"coordinates\":null,\"group\":null,\"text\":\"Number Of NBA Picks From Each College 2017-2021\",\"text_color\":\"black\",\"text_font_size\":\"12pt\"},\"id\":\"1008\",\"type\":\"Title\"},{\"attributes\":{},\"id\":\"1024\",\"type\":\"PanTool\"},{\"attributes\":{\"end\":12.0,\"reset_end\":12.0,\"reset_start\":0.0,\"tags\":[[[\"Picks\",\"Picks\",null]]]},\"id\":\"1005\",\"type\":\"Range1d\"},{\"attributes\":{\"axis_label\":\"Number of Picks\",\"coordinates\":null,\"formatter\":{\"id\":\"1050\"},\"group\":null,\"major_label_policy\":{\"id\":\"1051\"},\"ticker\":{\"id\":\"1020\"}},\"id\":\"1019\",\"type\":\"LinearAxis\"},{\"attributes\":{\"tools\":[{\"id\":\"1006\"},{\"id\":\"1023\"},{\"id\":\"1024\"},{\"id\":\"1025\"},{\"id\":\"1026\"},{\"id\":\"1027\"}]},\"id\":\"1029\",\"type\":\"Toolbar\"},{\"attributes\":{\"below\":[{\"id\":\"1016\"}],\"center\":[{\"id\":\"1018\"},{\"id\":\"1022\"}],\"height\":300,\"left\":[{\"id\":\"1019\"}],\"margin\":[5,5,5,5],\"min_border_bottom\":10,\"min_border_left\":10,\"min_border_right\":10,\"min_border_top\":10,\"renderers\":[{\"id\":\"1043\"}],\"sizing_mode\":\"fixed\",\"title\":{\"id\":\"1008\"},\"toolbar\":{\"id\":\"1029\"},\"width\":700,\"x_range\":{\"id\":\"1004\"},\"x_scale\":{\"id\":\"1012\"},\"y_range\":{\"id\":\"1005\"},\"y_scale\":{\"id\":\"1014\"}},\"id\":\"1007\",\"subtype\":\"Figure\",\"type\":\"Plot\"},{\"attributes\":{},\"id\":\"1051\",\"type\":\"AllLabels\"},{\"attributes\":{\"overlay\":{\"id\":\"1028\"}},\"id\":\"1026\",\"type\":\"BoxZoomTool\"},{\"attributes\":{\"coordinates\":null,\"data_source\":{\"id\":\"1036\"},\"glyph\":{\"id\":\"1039\"},\"group\":null,\"hover_glyph\":{\"id\":\"1041\"},\"muted_glyph\":{\"id\":\"1042\"},\"nonselection_glyph\":{\"id\":\"1040\"},\"selection_glyph\":{\"id\":\"1045\"},\"view\":{\"id\":\"1044\"}},\"id\":\"1043\",\"type\":\"GlyphRenderer\"},{\"attributes\":{\"axis_label\":\"College\",\"coordinates\":null,\"formatter\":{\"id\":\"1047\"},\"group\":null,\"major_label_orientation\":1.5707963267948966,\"major_label_policy\":{\"id\":\"1048\"},\"ticker\":{\"id\":\"1017\"}},\"id\":\"1016\",\"type\":\"CategoricalAxis\"},{\"attributes\":{},\"id\":\"1014\",\"type\":\"LinearScale\"},{\"attributes\":{\"data\":{\"College\":[\"Kentucky\",\"Duke\",\"UNC\",\"Florida State\",\"Villanova\",\"Gonzaga\",\"Michigan\",\"Washington\",\"Texas\",\"Arizona\",\"Virginia\",\"USC\",\"UCLA\",\"Tennessee\",\"Oregon\",\"Alabama\",\"Memphis\",\"Michigan State\",\"Indiana\",\"Kansas\",\"Texas Tech\",\"Auburn\",\"Vanderbilt\",\"Maryland\",\"Cincinnati\",\"Boston College\",\"Texas A&M\",\"Boise State\",\"UConn\",\"Belmont\",\"Georgia\",\"Baylor\",\"Utah\",\"Syracuse\",\"VCU\",\"Arkansas\",\"Virginia Tech\",\"Wake Forest\",\"Arizona State\",\"TCU\",\"Purdue\",\"Stanford\",\"Miami (FL)\",\"Florida\",\"Houston\",\"Iowa State\",\"Dayton\",\"LSU\",\"Louisville\",\"Loyola (MD)\",\"Creighton\",\"San Diego State\",\"Missouri\",\"Murray State\",\"NC State\",\"Oklahoma\",\"Oklahoma State\",\"Colorado\",\"Georgia Tech\",\"Wichita State\"],\"Picks\":[11,10,7,5,5,5,4,4,4,4,3,3,3,3,3,3,2,2,2,2,2,2,2,2,1,1,1,1,1,1,1,1,1,1,1,1,1,1,1,1,1,1,1,1,1,1,1,1,1,1,1,1,1,1,1,1,1,1,1,1]},\"selected\":{\"id\":\"1037\"},\"selection_policy\":{\"id\":\"1059\"}},\"id\":\"1036\",\"type\":\"ColumnDataSource\"},{\"attributes\":{\"fill_alpha\":{\"value\":0.1},\"fill_color\":{\"value\":\"#30a2da\"},\"hatch_alpha\":{\"value\":0.1},\"hatch_color\":{\"value\":\"#30a2da\"},\"line_alpha\":{\"value\":0.1},\"top\":{\"field\":\"Picks\"},\"width\":{\"value\":0.8},\"x\":{\"field\":\"College\"}},\"id\":\"1040\",\"type\":\"VBar\"},{\"attributes\":{},\"id\":\"1027\",\"type\":\"ResetTool\"},{\"attributes\":{},\"id\":\"1012\",\"type\":\"CategoricalScale\"}],\"root_ids\":[\"1002\"]},\"title\":\"Bokeh Application\",\"version\":\"2.4.2\"}};\n",
       "    var render_items = [{\"docid\":\"6c865a70-5554-4e4f-91f2-5099f3fc303b\",\"root_ids\":[\"1002\"],\"roots\":{\"1002\":\"e2f76430-3117-42dc-a76f-c4f12526ae8e\"}}];\n",
       "    root.Bokeh.embed.embed_items_notebook(docs_json, render_items);\n",
       "  }\n",
       "  if (root.Bokeh !== undefined && root.Bokeh.Panel !== undefined) {\n",
       "    embed_document(root);\n",
       "  } else {\n",
       "    var attempts = 0;\n",
       "    var timer = setInterval(function(root) {\n",
       "      if (root.Bokeh !== undefined && root.Bokeh.Panel !== undefined) {\n",
       "        clearInterval(timer);\n",
       "        embed_document(root);\n",
       "      } else if (document.readyState == \"complete\") {\n",
       "        attempts++;\n",
       "        if (attempts > 200) {\n",
       "          clearInterval(timer);\n",
       "          console.log(\"Bokeh: ERROR: Unable to run BokehJS code because BokehJS library is missing\");\n",
       "        }\n",
       "      }\n",
       "    }, 25, root)\n",
       "  }\n",
       "})(window);</script>"
      ],
      "text/plain": [
       ":Bars   [College]   (Picks)"
      ]
     },
     "execution_count": 17,
     "metadata": {
      "application/vnd.holoviews_exec.v0+json": {
       "id": "1002"
      }
     },
     "output_type": "execute_result"
    }
   ],
   "source": [
    "# Use hvplot to create bar visualization of school_rookie_count_df dataframe\n",
    "school_rookie_count_df.hvplot.bar(\n",
    "        title = 'Number Of NBA Picks From Each College 2017-2021',\n",
    "        ylabel = 'Number of Picks',\n",
    "        rot = 90,\n",
    "        hover_color = 'orange'\n",
    ")"
   ]
  },
  {
   "cell_type": "code",
   "execution_count": 18,
   "id": "898678c7-852f-4c4e-9c70-fd9729345496",
   "metadata": {},
   "outputs": [
    {
     "data": {},
     "metadata": {},
     "output_type": "display_data"
    },
    {
     "data": {
      "application/vnd.holoviews_exec.v0+json": "",
      "text/html": [
       "<div id='1124'>\n",
       "\n",
       "\n",
       "\n",
       "\n",
       "\n",
       "  <div class=\"bk-root\" id=\"c0b66a3f-1e30-4e7b-addc-0af7df3f2db6\" data-root-id=\"1124\"></div>\n",
       "</div>\n",
       "<script type=\"application/javascript\">(function(root) {\n",
       "  function embed_document(root) {\n",
       "    var docs_json = {\"0666e964-5316-45e7-8ee8-33b1cd10a32c\":{\"defs\":[{\"extends\":null,\"module\":null,\"name\":\"ReactiveHTML1\",\"overrides\":[],\"properties\":[]},{\"extends\":null,\"module\":null,\"name\":\"FlexBox1\",\"overrides\":[],\"properties\":[{\"default\":\"flex-start\",\"kind\":null,\"name\":\"align_content\"},{\"default\":\"flex-start\",\"kind\":null,\"name\":\"align_items\"},{\"default\":\"row\",\"kind\":null,\"name\":\"flex_direction\"},{\"default\":\"wrap\",\"kind\":null,\"name\":\"flex_wrap\"},{\"default\":\"flex-start\",\"kind\":null,\"name\":\"justify_content\"}]},{\"extends\":null,\"module\":null,\"name\":\"TemplateActions1\",\"overrides\":[],\"properties\":[{\"default\":0,\"kind\":null,\"name\":\"open_modal\"},{\"default\":0,\"kind\":null,\"name\":\"close_modal\"}]},{\"extends\":null,\"module\":null,\"name\":\"MaterialTemplateActions1\",\"overrides\":[],\"properties\":[{\"default\":0,\"kind\":null,\"name\":\"open_modal\"},{\"default\":0,\"kind\":null,\"name\":\"close_modal\"}]}],\"roots\":{\"references\":[{\"attributes\":{},\"id\":\"1173\",\"type\":\"AllLabels\"},{\"attributes\":{},\"id\":\"1134\",\"type\":\"LinearScale\"},{\"attributes\":{\"client_comm_id\":\"12b24b88785c43e5b498a0ad2790a146\",\"comm_id\":\"e3c625b837274848a44a41786f940811\",\"plot_id\":\"1124\"},\"id\":\"1236\",\"type\":\"panel.models.comm_manager.CommManager\"},{\"attributes\":{\"margin\":[5,5,5,5],\"name\":\"HSpacer01732\",\"sizing_mode\":\"stretch_width\"},\"id\":\"1125\",\"type\":\"Spacer\"},{\"attributes\":{\"tools\":[{\"id\":\"1128\"},{\"id\":\"1146\"},{\"id\":\"1147\"},{\"id\":\"1148\"},{\"id\":\"1149\"},{\"id\":\"1150\"}]},\"id\":\"1152\",\"type\":\"Toolbar\"},{\"attributes\":{\"fill_color\":{\"value\":\"#30a2da\"},\"hatch_color\":{\"value\":\"#30a2da\"},\"line_color\":{\"value\":\"#30a2da\"},\"size\":{\"value\":5.477225575051661},\"x\":{\"field\":\"DraftYear\"},\"y\":{\"field\":\"Pk\"}},\"id\":\"1162\",\"type\":\"Scatter\"},{\"attributes\":{\"overlay\":{\"id\":\"1151\"}},\"id\":\"1149\",\"type\":\"BoxZoomTool\"},{\"attributes\":{},\"id\":\"1172\",\"type\":\"BasicTickFormatter\"},{\"attributes\":{\"data\":{\"DraftYear\":[2017,2019,2020,2020],\"Pk\":[1,20,16,28]},\"selected\":{\"id\":\"1160\"},\"selection_policy\":{\"id\":\"1187\"}},\"id\":\"1159\",\"type\":\"ColumnDataSource\"},{\"attributes\":{},\"id\":\"1139\",\"type\":\"BasicTicker\"},{\"attributes\":{\"end\":2020.1285714285714,\"reset_end\":2020.1285714285714,\"reset_start\":2016.8714285714286,\"start\":2016.8714285714286,\"tags\":[[[\"DraftYear\",\"DraftYear\",null]]]},\"id\":\"1126\",\"type\":\"Range1d\"},{\"attributes\":{\"end\":30.7,\"reset_end\":30.7,\"reset_start\":-1.7000000000000002,\"start\":-1.7000000000000002,\"tags\":[[[\"Pk\",\"Pk\",null]]]},\"id\":\"1127\",\"type\":\"Range1d\"},{\"attributes\":{},\"id\":\"1150\",\"type\":\"ResetTool\"},{\"attributes\":{},\"id\":\"1187\",\"type\":\"UnionRenderers\"},{\"attributes\":{},\"id\":\"1143\",\"type\":\"BasicTicker\"},{\"attributes\":{\"axis_label\":\"Draft Year\",\"coordinates\":null,\"formatter\":{\"id\":\"1169\"},\"group\":null,\"major_label_policy\":{\"id\":\"1170\"},\"ticker\":{\"id\":\"1139\"}},\"id\":\"1138\",\"type\":\"LinearAxis\"},{\"attributes\":{\"bottom_units\":\"screen\",\"coordinates\":null,\"fill_alpha\":0.5,\"fill_color\":\"lightgrey\",\"group\":null,\"left_units\":\"screen\",\"level\":\"overlay\",\"line_alpha\":1.0,\"line_color\":\"black\",\"line_dash\":[4,4],\"line_width\":2,\"right_units\":\"screen\",\"syncable\":false,\"top_units\":\"screen\"},\"id\":\"1151\",\"type\":\"BoxAnnotation\"},{\"attributes\":{\"coordinates\":null,\"data_source\":{\"id\":\"1159\"},\"glyph\":{\"id\":\"1162\"},\"group\":null,\"hover_glyph\":null,\"muted_glyph\":{\"id\":\"1164\"},\"nonselection_glyph\":{\"id\":\"1163\"},\"selection_glyph\":{\"id\":\"1167\"},\"view\":{\"id\":\"1166\"}},\"id\":\"1165\",\"type\":\"GlyphRenderer\"},{\"attributes\":{\"callback\":null,\"renderers\":[{\"id\":\"1165\"}],\"tags\":[\"hv_created\"],\"tooltips\":[[\"DraftYear\",\"@{DraftYear}\"],[\"Pk\",\"@{Pk}\"]]},\"id\":\"1128\",\"type\":\"HoverTool\"},{\"attributes\":{},\"id\":\"1169\",\"type\":\"BasicTickFormatter\"},{\"attributes\":{\"axis\":{\"id\":\"1138\"},\"coordinates\":null,\"grid_line_color\":null,\"group\":null,\"ticker\":null},\"id\":\"1141\",\"type\":\"Grid\"},{\"attributes\":{\"margin\":[5,5,5,5],\"name\":\"VSpacer01729\",\"sizing_mode\":\"stretch_height\"},\"id\":\"1202\",\"type\":\"Spacer\"},{\"attributes\":{\"margin\":[5,5,5,5],\"name\":\"VSpacer01730\",\"sizing_mode\":\"stretch_height\"},\"id\":\"1205\",\"type\":\"Spacer\"},{\"attributes\":{},\"id\":\"1170\",\"type\":\"AllLabels\"},{\"attributes\":{\"axis\":{\"id\":\"1142\"},\"coordinates\":null,\"dimension\":1,\"grid_line_color\":null,\"group\":null,\"ticker\":null},\"id\":\"1145\",\"type\":\"Grid\"},{\"attributes\":{\"axis_label\":\"Pick number\",\"coordinates\":null,\"formatter\":{\"id\":\"1172\"},\"group\":null,\"major_label_policy\":{\"id\":\"1173\"},\"ticker\":{\"id\":\"1143\"}},\"id\":\"1142\",\"type\":\"LinearAxis\"},{\"attributes\":{\"below\":[{\"id\":\"1138\"}],\"center\":[{\"id\":\"1141\"},{\"id\":\"1145\"}],\"height\":300,\"left\":[{\"id\":\"1142\"}],\"margin\":[5,5,5,5],\"min_border_bottom\":10,\"min_border_left\":10,\"min_border_right\":10,\"min_border_top\":10,\"renderers\":[{\"id\":\"1165\"}],\"sizing_mode\":\"fixed\",\"title\":{\"id\":\"1130\"},\"toolbar\":{\"id\":\"1152\"},\"width\":700,\"x_range\":{\"id\":\"1126\"},\"x_scale\":{\"id\":\"1134\"},\"y_range\":{\"id\":\"1127\"},\"y_scale\":{\"id\":\"1136\"}},\"id\":\"1129\",\"subtype\":\"Figure\",\"type\":\"Plot\"},{\"attributes\":{\"fill_alpha\":{\"value\":0.2},\"fill_color\":{\"value\":\"#30a2da\"},\"hatch_alpha\":{\"value\":0.2},\"hatch_color\":{\"value\":\"#30a2da\"},\"line_alpha\":{\"value\":0.2},\"line_color\":{\"value\":\"#30a2da\"},\"size\":{\"value\":5.477225575051661},\"x\":{\"field\":\"DraftYear\"},\"y\":{\"field\":\"Pk\"}},\"id\":\"1164\",\"type\":\"Scatter\"},{\"attributes\":{\"fill_alpha\":{\"value\":0.1},\"fill_color\":{\"value\":\"#30a2da\"},\"hatch_alpha\":{\"value\":0.1},\"hatch_color\":{\"value\":\"#30a2da\"},\"line_alpha\":{\"value\":0.1},\"line_color\":{\"value\":\"#30a2da\"},\"size\":{\"value\":5.477225575051661},\"x\":{\"field\":\"DraftYear\"},\"y\":{\"field\":\"Pk\"}},\"id\":\"1163\",\"type\":\"Scatter\"},{\"attributes\":{\"margin\":[20,20,20,20],\"min_width\":250,\"options\":[\"Washington\",\"UCLA\",\"Duke\",\"Kansas\",\"Kentucky\",\"Florida State\",\"Arizona\",\"nan\",\"NC State\",\"Gonzaga\",\"Louisville\",\"UNC\",\"Creighton\",\"Michigan\",\"Wake Forest\",\"Texas\",\"Indiana\",\"Syracuse\",\"Purdue\",\"Utah\",\"Colorado\",\"Villanova\",\"Michigan State\",\"Oklahoma\",\"Alabama\",\"Boston College\",\"Missouri\",\"Oregon\",\"Texas Tech\",\"Miami (FL)\",\"Maryland\",\"Georgia Tech\",\"Boise State\",\"Wichita State\",\"Texas A&M\",\"Cincinnati\",\"Murray State\",\"Virginia\",\"Vanderbilt\",\"Auburn\",\"Virginia Tech\",\"Tennessee\",\"Belmont\",\"USC\",\"Georgia\",\"Memphis\",\"Dayton\",\"Iowa State\",\"San Diego State\",\"TCU\",\"Oklahoma State\",\"Baylor\",\"Stanford\",\"UConn\",\"Arkansas\",\"Florida\",\"Arizona State\",\"Houston\",\"VCU\",\"LSU\",\"Loyola (MD)\"],\"title\":\"College\",\"value\":\"Washington\",\"width\":250},\"id\":\"1204\",\"type\":\"Select\"},{\"attributes\":{\"children\":[{\"id\":\"1204\"}],\"css_classes\":[\"panel-widget-box\"],\"margin\":[5,5,5,5],\"name\":\"WidgetBox01724\"},\"id\":\"1203\",\"type\":\"Column\"},{\"attributes\":{\"source\":{\"id\":\"1159\"}},\"id\":\"1166\",\"type\":\"CDSView\"},{\"attributes\":{},\"id\":\"1148\",\"type\":\"WheelZoomTool\"},{\"attributes\":{\"children\":[{\"id\":\"1202\"},{\"id\":\"1203\"},{\"id\":\"1205\"}],\"margin\":[0,0,0,0],\"name\":\"Column01731\"},\"id\":\"1201\",\"type\":\"Column\"},{\"attributes\":{\"margin\":[5,5,5,5],\"name\":\"HSpacer01733\",\"sizing_mode\":\"stretch_width\"},\"id\":\"1200\",\"type\":\"Spacer\"},{\"attributes\":{\"coordinates\":null,\"group\":null,\"text\":\"Drafted NBA Players Pick Number and Their Colleges 2017-2021\",\"text_color\":\"black\",\"text_font_size\":\"12pt\"},\"id\":\"1130\",\"type\":\"Title\"},{\"attributes\":{},\"id\":\"1146\",\"type\":\"SaveTool\"},{\"attributes\":{\"children\":[{\"id\":\"1125\"},{\"id\":\"1129\"},{\"id\":\"1200\"},{\"id\":\"1201\"}],\"margin\":[0,0,0,0],\"name\":\"Row01723\"},\"id\":\"1124\",\"type\":\"Row\"},{\"attributes\":{},\"id\":\"1136\",\"type\":\"LinearScale\"},{\"attributes\":{\"angle\":{\"value\":0.0},\"fill_alpha\":{\"value\":1.0},\"fill_color\":{\"value\":\"#30a2da\"},\"hatch_alpha\":{\"value\":1.0},\"hatch_color\":{\"value\":\"#30a2da\"},\"hatch_scale\":{\"value\":12.0},\"hatch_weight\":{\"value\":1.0},\"line_alpha\":{\"value\":1.0},\"line_cap\":{\"value\":\"butt\"},\"line_color\":{\"value\":\"#30a2da\"},\"line_dash\":{\"value\":[]},\"line_dash_offset\":{\"value\":0},\"line_join\":{\"value\":\"bevel\"},\"line_width\":{\"value\":1},\"marker\":{\"value\":\"circle\"},\"size\":{\"value\":5.477225575051661},\"x\":{\"field\":\"DraftYear\"},\"y\":{\"field\":\"Pk\"}},\"id\":\"1167\",\"type\":\"Scatter\"},{\"attributes\":{},\"id\":\"1147\",\"type\":\"PanTool\"},{\"attributes\":{},\"id\":\"1160\",\"type\":\"Selection\"}],\"root_ids\":[\"1124\",\"1236\"]},\"title\":\"Bokeh Application\",\"version\":\"2.4.2\"}};\n",
       "    var render_items = [{\"docid\":\"0666e964-5316-45e7-8ee8-33b1cd10a32c\",\"root_ids\":[\"1124\"],\"roots\":{\"1124\":\"c0b66a3f-1e30-4e7b-addc-0af7df3f2db6\"}}];\n",
       "    root.Bokeh.embed.embed_items_notebook(docs_json, render_items);\n",
       "  }\n",
       "  if (root.Bokeh !== undefined && root.Bokeh.Panel !== undefined) {\n",
       "    embed_document(root);\n",
       "  } else {\n",
       "    var attempts = 0;\n",
       "    var timer = setInterval(function(root) {\n",
       "      if (root.Bokeh !== undefined && root.Bokeh.Panel !== undefined) {\n",
       "        clearInterval(timer);\n",
       "        embed_document(root);\n",
       "      } else if (document.readyState == \"complete\") {\n",
       "        attempts++;\n",
       "        if (attempts > 200) {\n",
       "          clearInterval(timer);\n",
       "          console.log(\"Bokeh: ERROR: Unable to run BokehJS code because BokehJS library is missing\");\n",
       "        }\n",
       "      }\n",
       "    }, 25, root)\n",
       "  }\n",
       "})(window);</script>"
      ],
      "text/plain": [
       ":DynamicMap   [College]\n",
       "   :Scatter   [DraftYear]   (Pk)"
      ]
     },
     "execution_count": 18,
     "metadata": {
      "application/vnd.holoviews_exec.v0+json": {
       "id": "1124"
      }
     },
     "output_type": "execute_result"
    }
   ],
   "source": [
    "# Use hvplot to create scatter visualization of school dataframe, which shows the pick rank, number of picks from each college 2017-2021\n",
    "school.hvplot.scatter(\n",
    "    title='Drafted NBA Players Pick Number and Their Colleges 2017-2021',\n",
    "    x='DraftYear',\n",
    "    xlabel='Draft Year',\n",
    "    ylabel='Pick number',\n",
    "    groupby='College'\n",
    ")"
   ]
  },
  {
   "cell_type": "code",
   "execution_count": null,
   "id": "626f7f54-1fbc-46e0-97cb-e42f6e60ba2c",
   "metadata": {},
   "outputs": [],
   "source": []
  },
  {
   "cell_type": "code",
   "execution_count": 19,
   "id": "2e467fae-ec38-44bf-bf01-adc2df116d26",
   "metadata": {},
   "outputs": [
    {
     "data": {
      "text/html": [
       "<div>\n",
       "<style scoped>\n",
       "    .dataframe tbody tr th:only-of-type {\n",
       "        vertical-align: middle;\n",
       "    }\n",
       "\n",
       "    .dataframe tbody tr th {\n",
       "        vertical-align: top;\n",
       "    }\n",
       "\n",
       "    .dataframe thead th {\n",
       "        text-align: right;\n",
       "    }\n",
       "</style>\n",
       "<table border=\"1\" class=\"dataframe\">\n",
       "  <thead>\n",
       "    <tr style=\"text-align: right;\">\n",
       "      <th></th>\n",
       "      <th>Pk</th>\n",
       "      <th>Tm</th>\n",
       "      <th>Player</th>\n",
       "      <th>College</th>\n",
       "      <th>DraftYr</th>\n",
       "      <th>MPG</th>\n",
       "      <th>PPG</th>\n",
       "      <th>RPG</th>\n",
       "      <th>APG</th>\n",
       "      <th>FG%</th>\n",
       "      <th>3P%</th>\n",
       "      <th>FT%</th>\n",
       "      <th>Contract Worth</th>\n",
       "    </tr>\n",
       "    <tr>\n",
       "      <th>DraftYear</th>\n",
       "      <th></th>\n",
       "      <th></th>\n",
       "      <th></th>\n",
       "      <th></th>\n",
       "      <th></th>\n",
       "      <th></th>\n",
       "      <th></th>\n",
       "      <th></th>\n",
       "      <th></th>\n",
       "      <th></th>\n",
       "      <th></th>\n",
       "      <th></th>\n",
       "      <th></th>\n",
       "    </tr>\n",
       "  </thead>\n",
       "  <tbody>\n",
       "    <tr>\n",
       "      <th>2017</th>\n",
       "      <td>1</td>\n",
       "      <td>PHI</td>\n",
       "      <td>Markelle Fultz</td>\n",
       "      <td>Washington</td>\n",
       "      <td>2017</td>\n",
       "      <td>25.6</td>\n",
       "      <td>10.9</td>\n",
       "      <td>3.3</td>\n",
       "      <td>4.6</td>\n",
       "      <td>0.447</td>\n",
       "      <td>0.265</td>\n",
       "      <td>0.695</td>\n",
       "      <td>33727701.0</td>\n",
       "    </tr>\n",
       "    <tr>\n",
       "      <th>2017</th>\n",
       "      <td>2</td>\n",
       "      <td>LAL</td>\n",
       "      <td>Lonzo Ball</td>\n",
       "      <td>UCLA</td>\n",
       "      <td>2017</td>\n",
       "      <td>32.5</td>\n",
       "      <td>11.9</td>\n",
       "      <td>5.7</td>\n",
       "      <td>6.2</td>\n",
       "      <td>0.400</td>\n",
       "      <td>0.364</td>\n",
       "      <td>0.578</td>\n",
       "      <td>30184438.0</td>\n",
       "    </tr>\n",
       "    <tr>\n",
       "      <th>2017</th>\n",
       "      <td>3</td>\n",
       "      <td>BOS</td>\n",
       "      <td>Jayson Tatum</td>\n",
       "      <td>Duke</td>\n",
       "      <td>2017</td>\n",
       "      <td>33.3</td>\n",
       "      <td>20.4</td>\n",
       "      <td>6.6</td>\n",
       "      <td>2.9</td>\n",
       "      <td>0.453</td>\n",
       "      <td>0.380</td>\n",
       "      <td>0.842</td>\n",
       "      <td>27118800.0</td>\n",
       "    </tr>\n",
       "    <tr>\n",
       "      <th>2017</th>\n",
       "      <td>4</td>\n",
       "      <td>PHO</td>\n",
       "      <td>Josh Jackson</td>\n",
       "      <td>Kansas</td>\n",
       "      <td>2017</td>\n",
       "      <td>23.6</td>\n",
       "      <td>11.5</td>\n",
       "      <td>4.1</td>\n",
       "      <td>1.9</td>\n",
       "      <td>0.417</td>\n",
       "      <td>0.293</td>\n",
       "      <td>0.679</td>\n",
       "      <td>24118800.0</td>\n",
       "    </tr>\n",
       "    <tr>\n",
       "      <th>2017</th>\n",
       "      <td>5</td>\n",
       "      <td>SAC</td>\n",
       "      <td>De'Aaron Fox</td>\n",
       "      <td>Kentucky</td>\n",
       "      <td>2017</td>\n",
       "      <td>31.8</td>\n",
       "      <td>18.7</td>\n",
       "      <td>3.5</td>\n",
       "      <td>6.2</td>\n",
       "      <td>0.459</td>\n",
       "      <td>0.317</td>\n",
       "      <td>0.725</td>\n",
       "      <td>22157109.0</td>\n",
       "    </tr>\n",
       "    <tr>\n",
       "      <th>...</th>\n",
       "      <td>...</td>\n",
       "      <td>...</td>\n",
       "      <td>...</td>\n",
       "      <td>...</td>\n",
       "      <td>...</td>\n",
       "      <td>...</td>\n",
       "      <td>...</td>\n",
       "      <td>...</td>\n",
       "      <td>...</td>\n",
       "      <td>...</td>\n",
       "      <td>...</td>\n",
       "      <td>...</td>\n",
       "      <td>...</td>\n",
       "    </tr>\n",
       "    <tr>\n",
       "      <th>2021</th>\n",
       "      <td>26</td>\n",
       "      <td>DEN</td>\n",
       "      <td>Bones Hyland</td>\n",
       "      <td>VCU</td>\n",
       "      <td>2021</td>\n",
       "      <td>18.0</td>\n",
       "      <td>8.8</td>\n",
       "      <td>2.7</td>\n",
       "      <td>2.0</td>\n",
       "      <td>0.369</td>\n",
       "      <td>0.346</td>\n",
       "      <td>0.881</td>\n",
       "      <td>10763119.0</td>\n",
       "    </tr>\n",
       "    <tr>\n",
       "      <th>2021</th>\n",
       "      <td>27</td>\n",
       "      <td>BRK</td>\n",
       "      <td>Cam Thomas</td>\n",
       "      <td>LSU</td>\n",
       "      <td>2021</td>\n",
       "      <td>19.6</td>\n",
       "      <td>9.8</td>\n",
       "      <td>2.6</td>\n",
       "      <td>1.3</td>\n",
       "      <td>0.445</td>\n",
       "      <td>0.273</td>\n",
       "      <td>0.808</td>\n",
       "      <td>10455512.0</td>\n",
       "    </tr>\n",
       "    <tr>\n",
       "      <th>2021</th>\n",
       "      <td>28</td>\n",
       "      <td>PHI</td>\n",
       "      <td>Jaden Springer</td>\n",
       "      <td>Tennessee</td>\n",
       "      <td>2021</td>\n",
       "      <td>3.0</td>\n",
       "      <td>1.0</td>\n",
       "      <td>1.0</td>\n",
       "      <td>0.0</td>\n",
       "      <td>1.000</td>\n",
       "      <td>NaN</td>\n",
       "      <td>NaN</td>\n",
       "      <td>10393940.0</td>\n",
       "    </tr>\n",
       "    <tr>\n",
       "      <th>2021</th>\n",
       "      <td>29</td>\n",
       "      <td>PHO</td>\n",
       "      <td>Day'Ron Sharpe</td>\n",
       "      <td>UNC</td>\n",
       "      <td>2021</td>\n",
       "      <td>12.4</td>\n",
       "      <td>6.1</td>\n",
       "      <td>5.1</td>\n",
       "      <td>0.5</td>\n",
       "      <td>0.571</td>\n",
       "      <td>0.250</td>\n",
       "      <td>0.568</td>\n",
       "      <td>10317899.0</td>\n",
       "    </tr>\n",
       "    <tr>\n",
       "      <th>2021</th>\n",
       "      <td>30</td>\n",
       "      <td>UTA</td>\n",
       "      <td>Santi Aldama</td>\n",
       "      <td>Loyola (MD)</td>\n",
       "      <td>2021</td>\n",
       "      <td>10.3</td>\n",
       "      <td>3.3</td>\n",
       "      <td>2.4</td>\n",
       "      <td>0.5</td>\n",
       "      <td>0.381</td>\n",
       "      <td>0.103</td>\n",
       "      <td>0.600</td>\n",
       "      <td>10243491.0</td>\n",
       "    </tr>\n",
       "  </tbody>\n",
       "</table>\n",
       "<p>150 rows × 13 columns</p>\n",
       "</div>"
      ],
      "text/plain": [
       "           Pk   Tm          Player      College  DraftYr   MPG   PPG  RPG  \\\n",
       "DraftYear                                                                   \n",
       "2017        1  PHI  Markelle Fultz   Washington     2017  25.6  10.9  3.3   \n",
       "2017        2  LAL      Lonzo Ball         UCLA     2017  32.5  11.9  5.7   \n",
       "2017        3  BOS    Jayson Tatum         Duke     2017  33.3  20.4  6.6   \n",
       "2017        4  PHO    Josh Jackson       Kansas     2017  23.6  11.5  4.1   \n",
       "2017        5  SAC    De'Aaron Fox     Kentucky     2017  31.8  18.7  3.5   \n",
       "...        ..  ...             ...          ...      ...   ...   ...  ...   \n",
       "2021       26  DEN    Bones Hyland          VCU     2021  18.0   8.8  2.7   \n",
       "2021       27  BRK      Cam Thomas          LSU     2021  19.6   9.8  2.6   \n",
       "2021       28  PHI  Jaden Springer    Tennessee     2021   3.0   1.0  1.0   \n",
       "2021       29  PHO  Day'Ron Sharpe          UNC     2021  12.4   6.1  5.1   \n",
       "2021       30  UTA    Santi Aldama  Loyola (MD)     2021  10.3   3.3  2.4   \n",
       "\n",
       "           APG    FG%    3P%    FT%  Contract Worth  \n",
       "DraftYear                                            \n",
       "2017       4.6  0.447  0.265  0.695      33727701.0  \n",
       "2017       6.2  0.400  0.364  0.578      30184438.0  \n",
       "2017       2.9  0.453  0.380  0.842      27118800.0  \n",
       "2017       1.9  0.417  0.293  0.679      24118800.0  \n",
       "2017       6.2  0.459  0.317  0.725      22157109.0  \n",
       "...        ...    ...    ...    ...             ...  \n",
       "2021       2.0  0.369  0.346  0.881      10763119.0  \n",
       "2021       1.3  0.445  0.273  0.808      10455512.0  \n",
       "2021       0.0  1.000    NaN    NaN      10393940.0  \n",
       "2021       0.5  0.571  0.250  0.568      10317899.0  \n",
       "2021       0.5  0.381  0.103  0.600      10243491.0  \n",
       "\n",
       "[150 rows x 13 columns]"
      ]
     },
     "execution_count": 19,
     "metadata": {},
     "output_type": "execute_result"
    }
   ],
   "source": [
    "# Display selected data in the dataframe\n",
    "last_5_yrs_1_rnd_draft_df"
   ]
  },
  {
   "cell_type": "code",
   "execution_count": null,
   "id": "e018cda5-8c4c-40a4-8aca-de23edb226e8",
   "metadata": {},
   "outputs": [],
   "source": []
  },
  {
   "cell_type": "code",
   "execution_count": 20,
   "id": "a01b1edc-bc3b-49ca-89cf-a4310172cf18",
   "metadata": {},
   "outputs": [
    {
     "data": {
      "text/html": [
       "<div>\n",
       "<style scoped>\n",
       "    .dataframe tbody tr th:only-of-type {\n",
       "        vertical-align: middle;\n",
       "    }\n",
       "\n",
       "    .dataframe tbody tr th {\n",
       "        vertical-align: top;\n",
       "    }\n",
       "\n",
       "    .dataframe thead th {\n",
       "        text-align: right;\n",
       "    }\n",
       "</style>\n",
       "<table border=\"1\" class=\"dataframe\">\n",
       "  <thead>\n",
       "    <tr style=\"text-align: right;\">\n",
       "      <th></th>\n",
       "      <th>MPG</th>\n",
       "      <th>PPG</th>\n",
       "      <th>RPG</th>\n",
       "      <th>APG</th>\n",
       "      <th>FG%</th>\n",
       "      <th>3P%</th>\n",
       "      <th>FT%</th>\n",
       "      <th>Contract Worth</th>\n",
       "    </tr>\n",
       "  </thead>\n",
       "  <tbody>\n",
       "    <tr>\n",
       "      <th>MPG</th>\n",
       "      <td>1.000000</td>\n",
       "      <td>0.888233</td>\n",
       "      <td>0.639041</td>\n",
       "      <td>0.701885</td>\n",
       "      <td>-0.070778</td>\n",
       "      <td>0.208495</td>\n",
       "      <td>0.382971</td>\n",
       "      <td>0.530408</td>\n",
       "    </tr>\n",
       "    <tr>\n",
       "      <th>PPG</th>\n",
       "      <td>0.888233</td>\n",
       "      <td>1.000000</td>\n",
       "      <td>0.610588</td>\n",
       "      <td>0.736819</td>\n",
       "      <td>0.037639</td>\n",
       "      <td>0.230109</td>\n",
       "      <td>0.360729</td>\n",
       "      <td>0.564328</td>\n",
       "    </tr>\n",
       "    <tr>\n",
       "      <th>RPG</th>\n",
       "      <td>0.639041</td>\n",
       "      <td>0.610588</td>\n",
       "      <td>1.000000</td>\n",
       "      <td>0.310486</td>\n",
       "      <td>0.303311</td>\n",
       "      <td>-0.131163</td>\n",
       "      <td>0.011107</td>\n",
       "      <td>0.419323</td>\n",
       "    </tr>\n",
       "    <tr>\n",
       "      <th>APG</th>\n",
       "      <td>0.701885</td>\n",
       "      <td>0.736819</td>\n",
       "      <td>0.310486</td>\n",
       "      <td>1.000000</td>\n",
       "      <td>-0.148449</td>\n",
       "      <td>0.142334</td>\n",
       "      <td>0.279688</td>\n",
       "      <td>0.444316</td>\n",
       "    </tr>\n",
       "    <tr>\n",
       "      <th>FG%</th>\n",
       "      <td>-0.070778</td>\n",
       "      <td>0.037639</td>\n",
       "      <td>0.303311</td>\n",
       "      <td>-0.148449</td>\n",
       "      <td>1.000000</td>\n",
       "      <td>-0.142753</td>\n",
       "      <td>-0.326683</td>\n",
       "      <td>0.019353</td>\n",
       "    </tr>\n",
       "  </tbody>\n",
       "</table>\n",
       "</div>"
      ],
      "text/plain": [
       "          MPG       PPG       RPG       APG       FG%       3P%       FT%  \\\n",
       "MPG  1.000000  0.888233  0.639041  0.701885 -0.070778  0.208495  0.382971   \n",
       "PPG  0.888233  1.000000  0.610588  0.736819  0.037639  0.230109  0.360729   \n",
       "RPG  0.639041  0.610588  1.000000  0.310486  0.303311 -0.131163  0.011107   \n",
       "APG  0.701885  0.736819  0.310486  1.000000 -0.148449  0.142334  0.279688   \n",
       "FG% -0.070778  0.037639  0.303311 -0.148449  1.000000 -0.142753 -0.326683   \n",
       "\n",
       "     Contract Worth  \n",
       "MPG        0.530408  \n",
       "PPG        0.564328  \n",
       "RPG        0.419323  \n",
       "APG        0.444316  \n",
       "FG%        0.019353  "
      ]
     },
     "execution_count": 20,
     "metadata": {},
     "output_type": "execute_result"
    }
   ],
   "source": [
    "# Select evaluation parameters for correlation datafram and convert it to correlation dataframe\n",
    "corr_df = last_5_yrs_1_rnd_draft_df[['MPG','PPG', 'RPG', 'APG','FG%', '3P%','FT%', 'Contract Worth']].corr()\n",
    "# Review the correlation dataframe\n",
    "corr_df.head()"
   ]
  },
  {
   "cell_type": "code",
   "execution_count": 21,
   "id": "609e3bfa-6aaa-4a01-ab7c-7c69ae739f67",
   "metadata": {},
   "outputs": [
    {
     "data": {
      "text/plain": [
       "<AxesSubplot:>"
      ]
     },
     "execution_count": 21,
     "metadata": {},
     "output_type": "execute_result"
    },
    {
     "data": {
      "image/png": "[encoded data removed]",
      "text/plain": [
       "<Figure size 432x288 with 2 Axes>"
      ]
     },
     "metadata": {
      "needs_background": "light"
     },
     "output_type": "display_data"
    }
   ],
   "source": [
    "# Use Seaborn heatmap to visualize the correlations of each parameter with Contract Worth\n",
    "sns.heatmap(corr_df, vmin = -1, vmax=1, cmap='inferno')"
   ]
  },
  {
   "cell_type": "markdown",
   "id": "2a71149c-bae8-4bbd-ab90-460cd7d33a4d",
   "metadata": {},
   "source": [
    "### Discover that FG%, 3P%, and FT% are more correlated to players contract worth than other parameters. Also proves, in reality, the more points a player can score for a team the better."
   ]
  },
  {
   "cell_type": "code",
   "execution_count": null,
   "id": "4161108d-84b0-40ec-8098-8212db845332",
   "metadata": {},
   "outputs": [],
   "source": []
  },
  {
   "cell_type": "code",
   "execution_count": 22,
   "id": "661b90ec-e86c-41f9-bed9-3232a4b11dd0",
   "metadata": {},
   "outputs": [
    {
     "data": {
      "text/html": [
       "<div>\n",
       "<style scoped>\n",
       "    .dataframe tbody tr th:only-of-type {\n",
       "        vertical-align: middle;\n",
       "    }\n",
       "\n",
       "    .dataframe tbody tr th {\n",
       "        vertical-align: top;\n",
       "    }\n",
       "\n",
       "    .dataframe thead th {\n",
       "        text-align: right;\n",
       "    }\n",
       "</style>\n",
       "<table border=\"1\" class=\"dataframe\">\n",
       "  <thead>\n",
       "    <tr style=\"text-align: right;\">\n",
       "      <th></th>\n",
       "      <th>Pk</th>\n",
       "      <th>Tm</th>\n",
       "      <th>Player</th>\n",
       "      <th>College</th>\n",
       "      <th>DraftYr</th>\n",
       "      <th>MPG</th>\n",
       "      <th>PPG</th>\n",
       "      <th>RPG</th>\n",
       "      <th>APG</th>\n",
       "      <th>FG%</th>\n",
       "      <th>3P%</th>\n",
       "      <th>FT%</th>\n",
       "      <th>Contract Worth</th>\n",
       "    </tr>\n",
       "    <tr>\n",
       "      <th>DraftYear</th>\n",
       "      <th></th>\n",
       "      <th></th>\n",
       "      <th></th>\n",
       "      <th></th>\n",
       "      <th></th>\n",
       "      <th></th>\n",
       "      <th></th>\n",
       "      <th></th>\n",
       "      <th></th>\n",
       "      <th></th>\n",
       "      <th></th>\n",
       "      <th></th>\n",
       "      <th></th>\n",
       "    </tr>\n",
       "  </thead>\n",
       "  <tbody>\n",
       "    <tr>\n",
       "      <th>2017</th>\n",
       "      <td>1</td>\n",
       "      <td>PHI</td>\n",
       "      <td>Markelle Fultz</td>\n",
       "      <td>Washington</td>\n",
       "      <td>2017</td>\n",
       "      <td>25.6</td>\n",
       "      <td>10.9</td>\n",
       "      <td>3.3</td>\n",
       "      <td>4.6</td>\n",
       "      <td>0.447</td>\n",
       "      <td>0.265</td>\n",
       "      <td>0.695</td>\n",
       "      <td>33727701.0</td>\n",
       "    </tr>\n",
       "    <tr>\n",
       "      <th>2017</th>\n",
       "      <td>2</td>\n",
       "      <td>LAL</td>\n",
       "      <td>Lonzo Ball</td>\n",
       "      <td>UCLA</td>\n",
       "      <td>2017</td>\n",
       "      <td>32.5</td>\n",
       "      <td>11.9</td>\n",
       "      <td>5.7</td>\n",
       "      <td>6.2</td>\n",
       "      <td>0.400</td>\n",
       "      <td>0.364</td>\n",
       "      <td>0.578</td>\n",
       "      <td>30184438.0</td>\n",
       "    </tr>\n",
       "    <tr>\n",
       "      <th>2017</th>\n",
       "      <td>3</td>\n",
       "      <td>BOS</td>\n",
       "      <td>Jayson Tatum</td>\n",
       "      <td>Duke</td>\n",
       "      <td>2017</td>\n",
       "      <td>33.3</td>\n",
       "      <td>20.4</td>\n",
       "      <td>6.6</td>\n",
       "      <td>2.9</td>\n",
       "      <td>0.453</td>\n",
       "      <td>0.380</td>\n",
       "      <td>0.842</td>\n",
       "      <td>27118800.0</td>\n",
       "    </tr>\n",
       "    <tr>\n",
       "      <th>2017</th>\n",
       "      <td>4</td>\n",
       "      <td>PHO</td>\n",
       "      <td>Josh Jackson</td>\n",
       "      <td>Kansas</td>\n",
       "      <td>2017</td>\n",
       "      <td>23.6</td>\n",
       "      <td>11.5</td>\n",
       "      <td>4.1</td>\n",
       "      <td>1.9</td>\n",
       "      <td>0.417</td>\n",
       "      <td>0.293</td>\n",
       "      <td>0.679</td>\n",
       "      <td>24118800.0</td>\n",
       "    </tr>\n",
       "    <tr>\n",
       "      <th>2017</th>\n",
       "      <td>5</td>\n",
       "      <td>SAC</td>\n",
       "      <td>De'Aaron Fox</td>\n",
       "      <td>Kentucky</td>\n",
       "      <td>2017</td>\n",
       "      <td>31.8</td>\n",
       "      <td>18.7</td>\n",
       "      <td>3.5</td>\n",
       "      <td>6.2</td>\n",
       "      <td>0.459</td>\n",
       "      <td>0.317</td>\n",
       "      <td>0.725</td>\n",
       "      <td>22157109.0</td>\n",
       "    </tr>\n",
       "  </tbody>\n",
       "</table>\n",
       "</div>"
      ],
      "text/plain": [
       "           Pk   Tm          Player     College  DraftYr   MPG   PPG  RPG  APG  \\\n",
       "DraftYear                                                                       \n",
       "2017        1  PHI  Markelle Fultz  Washington     2017  25.6  10.9  3.3  4.6   \n",
       "2017        2  LAL      Lonzo Ball        UCLA     2017  32.5  11.9  5.7  6.2   \n",
       "2017        3  BOS    Jayson Tatum        Duke     2017  33.3  20.4  6.6  2.9   \n",
       "2017        4  PHO    Josh Jackson      Kansas     2017  23.6  11.5  4.1  1.9   \n",
       "2017        5  SAC    De'Aaron Fox    Kentucky     2017  31.8  18.7  3.5  6.2   \n",
       "\n",
       "             FG%    3P%    FT%  Contract Worth  \n",
       "DraftYear                                       \n",
       "2017       0.447  0.265  0.695      33727701.0  \n",
       "2017       0.400  0.364  0.578      30184438.0  \n",
       "2017       0.453  0.380  0.842      27118800.0  \n",
       "2017       0.417  0.293  0.679      24118800.0  \n",
       "2017       0.459  0.317  0.725      22157109.0  "
      ]
     },
     "execution_count": 22,
     "metadata": {},
     "output_type": "execute_result"
    }
   ],
   "source": [
    "# Filter the last_5_yrs_1_rnd_draft_df dataframe to get top 5 picks (Pick number 1-5) data of each year (2017-2021) and save as group_a_df\n",
    "group_a_df = last_5_yrs_1_rnd_draft_df.loc[last_5_yrs_1_rnd_draft_df['Pk'] <=5]\n",
    "# Review group A dataframe\n",
    "group_a_df.head()"
   ]
  },
  {
   "cell_type": "code",
   "execution_count": 23,
   "id": "76ddeee4-17fd-43f5-89f0-26a45920a3f5",
   "metadata": {},
   "outputs": [],
   "source": [
    "# Filter the last_5_yrs_1_rnd_draft_df dataframe to get middle 5 picks (Pick number 13-17) data of each year (2017-2021) and save as group_b_df\n",
    "group_b_df = last_5_yrs_1_rnd_draft_df.loc[(last_5_yrs_1_rnd_draft_df['Pk'] >=13) & (last_5_yrs_1_rnd_draft_df['Pk'] <=17)]"
   ]
  },
  {
   "cell_type": "code",
   "execution_count": 24,
   "id": "a7cc22ca-c613-45b0-bb32-448cf7b7be49",
   "metadata": {},
   "outputs": [],
   "source": [
    "# Filter the last_5_yrs_1_rnd_draft_df dataframe to get last 5 picks (Pick number 26-30) data of each year (2017-2021) and save as group_c_df\n",
    "group_c_df = last_5_yrs_1_rnd_draft_df.loc[last_5_yrs_1_rnd_draft_df['Pk'] >=26]"
   ]
  },
  {
   "cell_type": "code",
   "execution_count": null,
   "id": "f69de540-bb06-4010-b64a-f7c8b3aaf29e",
   "metadata": {},
   "outputs": [],
   "source": []
  },
  {
   "cell_type": "code",
   "execution_count": null,
   "id": "86a6b15a-83bf-4de6-ab05-ea93649ccb6d",
   "metadata": {},
   "outputs": [],
   "source": []
  },
  {
   "cell_type": "code",
   "execution_count": null,
   "id": "e4cc4deb-f1ac-4a7d-8fce-304cbf6f37cd",
   "metadata": {},
   "outputs": [],
   "source": []
  },
  {
   "cell_type": "code",
   "execution_count": 25,
   "id": "720caab3-dc10-4fd7-9243-48282c6d3282",
   "metadata": {},
   "outputs": [
    {
     "data": {
      "text/html": [
       "<div>\n",
       "<style scoped>\n",
       "    .dataframe tbody tr th:only-of-type {\n",
       "        vertical-align: middle;\n",
       "    }\n",
       "\n",
       "    .dataframe tbody tr th {\n",
       "        vertical-align: top;\n",
       "    }\n",
       "\n",
       "    .dataframe thead th {\n",
       "        text-align: right;\n",
       "    }\n",
       "</style>\n",
       "<table border=\"1\" class=\"dataframe\">\n",
       "  <thead>\n",
       "    <tr style=\"text-align: right;\">\n",
       "      <th></th>\n",
       "      <th>Group A MPG</th>\n",
       "    </tr>\n",
       "    <tr>\n",
       "      <th>DraftYear</th>\n",
       "      <th></th>\n",
       "    </tr>\n",
       "  </thead>\n",
       "  <tbody>\n",
       "    <tr>\n",
       "      <th>2017</th>\n",
       "      <td>25.6</td>\n",
       "    </tr>\n",
       "    <tr>\n",
       "      <th>2017</th>\n",
       "      <td>32.5</td>\n",
       "    </tr>\n",
       "    <tr>\n",
       "      <th>2017</th>\n",
       "      <td>33.3</td>\n",
       "    </tr>\n",
       "    <tr>\n",
       "      <th>2017</th>\n",
       "      <td>23.6</td>\n",
       "    </tr>\n",
       "    <tr>\n",
       "      <th>2017</th>\n",
       "      <td>31.8</td>\n",
       "    </tr>\n",
       "  </tbody>\n",
       "</table>\n",
       "</div>"
      ],
      "text/plain": [
       "           Group A MPG\n",
       "DraftYear             \n",
       "2017              25.6\n",
       "2017              32.5\n",
       "2017              33.3\n",
       "2017              23.6\n",
       "2017              31.8"
      ]
     },
     "execution_count": 25,
     "metadata": {},
     "output_type": "execute_result"
    }
   ],
   "source": [
    "# Select group A MPG data: rename the column and save it into a new dataframe\n",
    "group_a_mpg = pd.DataFrame(group_a_df[['MPG']])\n",
    "group_a_mpg.rename(columns = {'MPG': 'Group A MPG'}, inplace = True)\n",
    "# Review group A MPG dataframe\n",
    "group_a_mpg.head()"
   ]
  },
  {
   "cell_type": "code",
   "execution_count": 26,
   "id": "db33ee16-1bca-40f6-8fe8-f5a3c5a500e0",
   "metadata": {},
   "outputs": [],
   "source": [
    "# Select group B MPG data: rename the column and save it into a new dataframe\n",
    "group_b_mpg = pd.DataFrame(group_b_df[['MPG']])\n",
    "group_b_mpg.rename(columns = {'MPG': 'Group B MPG'}, inplace = True)\n",
    "\n",
    "# # Select group C MPG data: rename the column and save it into a new dataframe\n",
    "group_c_mpg = pd.DataFrame(group_c_df[['MPG']])\n",
    "group_c_mpg.rename(columns = {'MPG': 'Group C MPG'}, inplace = True)"
   ]
  },
  {
   "cell_type": "code",
   "execution_count": 27,
   "id": "f8072650-6dcc-49ca-a089-f90409abbbcc",
   "metadata": {},
   "outputs": [
    {
     "data": {
      "text/html": [
       "<div>\n",
       "<style scoped>\n",
       "    .dataframe tbody tr th:only-of-type {\n",
       "        vertical-align: middle;\n",
       "    }\n",
       "\n",
       "    .dataframe tbody tr th {\n",
       "        vertical-align: top;\n",
       "    }\n",
       "\n",
       "    .dataframe thead th {\n",
       "        text-align: right;\n",
       "    }\n",
       "</style>\n",
       "<table border=\"1\" class=\"dataframe\">\n",
       "  <thead>\n",
       "    <tr style=\"text-align: right;\">\n",
       "      <th></th>\n",
       "      <th>Group A MPG</th>\n",
       "      <th>Group B MPG</th>\n",
       "      <th>Group C MPG</th>\n",
       "    </tr>\n",
       "    <tr>\n",
       "      <th>DraftYear</th>\n",
       "      <th></th>\n",
       "      <th></th>\n",
       "      <th></th>\n",
       "    </tr>\n",
       "  </thead>\n",
       "  <tbody>\n",
       "    <tr>\n",
       "      <th>2017</th>\n",
       "      <td>25.6</td>\n",
       "      <td>33.7</td>\n",
       "      <td>8.7</td>\n",
       "    </tr>\n",
       "    <tr>\n",
       "      <th>2017</th>\n",
       "      <td>32.5</td>\n",
       "      <td>28.0</td>\n",
       "      <td>30.3</td>\n",
       "    </tr>\n",
       "    <tr>\n",
       "      <th>2017</th>\n",
       "      <td>33.3</td>\n",
       "      <td>18.7</td>\n",
       "      <td>12.2</td>\n",
       "    </tr>\n",
       "    <tr>\n",
       "      <th>2017</th>\n",
       "      <td>23.6</td>\n",
       "      <td>13.5</td>\n",
       "      <td>25.8</td>\n",
       "    </tr>\n",
       "    <tr>\n",
       "      <th>2017</th>\n",
       "      <td>31.8</td>\n",
       "      <td>12.4</td>\n",
       "      <td>27.1</td>\n",
       "    </tr>\n",
       "  </tbody>\n",
       "</table>\n",
       "</div>"
      ],
      "text/plain": [
       "           Group A MPG  Group B MPG  Group C MPG\n",
       "DraftYear                                       \n",
       "2017              25.6         33.7          8.7\n",
       "2017              32.5         28.0         30.3\n",
       "2017              33.3         18.7         12.2\n",
       "2017              23.6         13.5         25.8\n",
       "2017              31.8         12.4         27.1"
      ]
     },
     "execution_count": 27,
     "metadata": {},
     "output_type": "execute_result"
    }
   ],
   "source": [
    "# Concat 3 groups MPG dataframes and save it as all_goup_mpg_df\n",
    "all_groups_mpg = [group_a_mpg, group_b_mpg, group_c_mpg]\n",
    "all_group_mpg_df = pd.concat(all_groups_mpg, axis = 1)\n",
    "# Review the dataframe\n",
    "all_group_mpg_df.head()"
   ]
  },
  {
   "cell_type": "code",
   "execution_count": 28,
   "id": "1460719e-899f-4fdc-8007-9b6031ddfc11",
   "metadata": {},
   "outputs": [
    {
     "data": {
      "text/html": [
       "<div>\n",
       "<style scoped>\n",
       "    .dataframe tbody tr th:only-of-type {\n",
       "        vertical-align: middle;\n",
       "    }\n",
       "\n",
       "    .dataframe tbody tr th {\n",
       "        vertical-align: top;\n",
       "    }\n",
       "\n",
       "    .dataframe thead th {\n",
       "        text-align: right;\n",
       "    }\n",
       "</style>\n",
       "<table border=\"1\" class=\"dataframe\">\n",
       "  <thead>\n",
       "    <tr style=\"text-align: right;\">\n",
       "      <th></th>\n",
       "      <th>Group A MPG</th>\n",
       "      <th>Group B MPG</th>\n",
       "      <th>Group C MPG</th>\n",
       "    </tr>\n",
       "  </thead>\n",
       "  <tbody>\n",
       "    <tr>\n",
       "      <th>count</th>\n",
       "      <td>25.000000</td>\n",
       "      <td>25.000000</td>\n",
       "      <td>25.000000</td>\n",
       "    </tr>\n",
       "    <tr>\n",
       "      <th>mean</th>\n",
       "      <td>30.440000</td>\n",
       "      <td>19.876000</td>\n",
       "      <td>17.516000</td>\n",
       "    </tr>\n",
       "    <tr>\n",
       "      <th>std</th>\n",
       "      <td>3.564875</td>\n",
       "      <td>6.696969</td>\n",
       "      <td>7.851416</td>\n",
       "    </tr>\n",
       "    <tr>\n",
       "      <th>min</th>\n",
       "      <td>21.400000</td>\n",
       "      <td>9.500000</td>\n",
       "      <td>3.000000</td>\n",
       "    </tr>\n",
       "    <tr>\n",
       "      <th>25%</th>\n",
       "      <td>28.200000</td>\n",
       "      <td>14.200000</td>\n",
       "      <td>10.700000</td>\n",
       "    </tr>\n",
       "    <tr>\n",
       "      <th>50%</th>\n",
       "      <td>31.700000</td>\n",
       "      <td>19.200000</td>\n",
       "      <td>17.800000</td>\n",
       "    </tr>\n",
       "    <tr>\n",
       "      <th>75%</th>\n",
       "      <td>33.000000</td>\n",
       "      <td>24.500000</td>\n",
       "      <td>25.100000</td>\n",
       "    </tr>\n",
       "    <tr>\n",
       "      <th>max</th>\n",
       "      <td>35.400000</td>\n",
       "      <td>33.700000</td>\n",
       "      <td>30.300000</td>\n",
       "    </tr>\n",
       "  </tbody>\n",
       "</table>\n",
       "</div>"
      ],
      "text/plain": [
       "       Group A MPG  Group B MPG  Group C MPG\n",
       "count    25.000000    25.000000    25.000000\n",
       "mean     30.440000    19.876000    17.516000\n",
       "std       3.564875     6.696969     7.851416\n",
       "min      21.400000     9.500000     3.000000\n",
       "25%      28.200000    14.200000    10.700000\n",
       "50%      31.700000    19.200000    17.800000\n",
       "75%      33.000000    24.500000    25.100000\n",
       "max      35.400000    33.700000    30.300000"
      ]
     },
     "execution_count": 28,
     "metadata": {},
     "output_type": "execute_result"
    }
   ],
   "source": [
    "# Get a summary of all groups MPG data\n",
    "all_group_mpg_df.describe()"
   ]
  },
  {
   "cell_type": "code",
   "execution_count": 29,
   "id": "6ad7901a-f461-4216-bed5-dea30b373a8c",
   "metadata": {},
   "outputs": [
    {
     "data": {
      "text/plain": [
       "<AxesSubplot:>"
      ]
     },
     "execution_count": 29,
     "metadata": {},
     "output_type": "execute_result"
    },
    {
     "data": {
      "image/png": "[encoded data removed]",
      "text/plain": [
       "<Figure size 432x288 with 1 Axes>"
      ]
     },
     "metadata": {
      "needs_background": "light"
     },
     "output_type": "display_data"
    }
   ],
   "source": [
    "# Visualize all groups MPG data using box plot\n",
    "all_group_mpg_df.plot.box()"
   ]
  },
  {
   "cell_type": "code",
   "execution_count": null,
   "id": "3d3f8b39-8e0c-4fb2-8c5e-7c80f80e3db4",
   "metadata": {},
   "outputs": [],
   "source": []
  },
  {
   "cell_type": "code",
   "execution_count": 30,
   "id": "43aac3c7-b6c8-49cf-b8c5-3b6d141e4c2e",
   "metadata": {},
   "outputs": [],
   "source": [
    "# Select group A PPG data: rename the column and save it into a new dataframe\n",
    "group_a_ppg = pd.DataFrame(group_a_df[['PPG']])\n",
    "group_a_ppg.rename(columns = {'PPG': 'Group A PPG'}, inplace = True)\n",
    "# Select group B PPG data: rename the column and save it into a new dataframe\n",
    "group_b_ppg = pd.DataFrame(group_b_df[['PPG']])\n",
    "group_b_ppg.rename(columns = {'PPG': 'Group B PPG'}, inplace = True)\n",
    "# Select group C PPG data: rename the column and save it into a new dataframe\n",
    "group_c_ppg = pd.DataFrame(group_c_df[['PPG']])\n",
    "group_c_ppg.rename(columns = {'PPG': 'Group C PPG'}, inplace = True)"
   ]
  },
  {
   "cell_type": "code",
   "execution_count": 31,
   "id": "0622e15a-9376-46a9-83b8-5ac92f7f9f5c",
   "metadata": {},
   "outputs": [
    {
     "data": {
      "text/html": [
       "<div>\n",
       "<style scoped>\n",
       "    .dataframe tbody tr th:only-of-type {\n",
       "        vertical-align: middle;\n",
       "    }\n",
       "\n",
       "    .dataframe tbody tr th {\n",
       "        vertical-align: top;\n",
       "    }\n",
       "\n",
       "    .dataframe thead th {\n",
       "        text-align: right;\n",
       "    }\n",
       "</style>\n",
       "<table border=\"1\" class=\"dataframe\">\n",
       "  <thead>\n",
       "    <tr style=\"text-align: right;\">\n",
       "      <th></th>\n",
       "      <th>Group A PPG</th>\n",
       "      <th>Group B PPG</th>\n",
       "      <th>Group C PPG</th>\n",
       "    </tr>\n",
       "    <tr>\n",
       "      <th>DraftYear</th>\n",
       "      <th></th>\n",
       "      <th></th>\n",
       "      <th></th>\n",
       "    </tr>\n",
       "  </thead>\n",
       "  <tbody>\n",
       "    <tr>\n",
       "      <th>2017</th>\n",
       "      <td>10.9</td>\n",
       "      <td>23.7</td>\n",
       "      <td>2.3</td>\n",
       "    </tr>\n",
       "    <tr>\n",
       "      <th>2017</th>\n",
       "      <td>11.9</td>\n",
       "      <td>13.0</td>\n",
       "      <td>15.4</td>\n",
       "    </tr>\n",
       "    <tr>\n",
       "      <th>2017</th>\n",
       "      <td>20.4</td>\n",
       "      <td>6.5</td>\n",
       "      <td>4.8</td>\n",
       "    </tr>\n",
       "    <tr>\n",
       "      <th>2017</th>\n",
       "      <td>11.5</td>\n",
       "      <td>3.9</td>\n",
       "      <td>11.6</td>\n",
       "    </tr>\n",
       "    <tr>\n",
       "      <th>2017</th>\n",
       "      <td>18.7</td>\n",
       "      <td>4.4</td>\n",
       "      <td>9.5</td>\n",
       "    </tr>\n",
       "  </tbody>\n",
       "</table>\n",
       "</div>"
      ],
      "text/plain": [
       "           Group A PPG  Group B PPG  Group C PPG\n",
       "DraftYear                                       \n",
       "2017              10.9         23.7          2.3\n",
       "2017              11.9         13.0         15.4\n",
       "2017              20.4          6.5          4.8\n",
       "2017              11.5          3.9         11.6\n",
       "2017              18.7          4.4          9.5"
      ]
     },
     "execution_count": 31,
     "metadata": {},
     "output_type": "execute_result"
    }
   ],
   "source": [
    "# Concat 3 groups PPG dataframes and save it as all_goup_ppg_df\n",
    "all_groups_ppg = [group_a_ppg, group_b_ppg, group_c_ppg]\n",
    "all_group_ppg_df = pd.concat(all_groups_ppg, axis = 1)\n",
    "# Review the dataframe\n",
    "all_group_ppg_df.head()"
   ]
  },
  {
   "cell_type": "code",
   "execution_count": 32,
   "id": "503224cb-9a55-430b-9e36-76dd5fd0b6bb",
   "metadata": {},
   "outputs": [
    {
     "data": {
      "text/html": [
       "<div>\n",
       "<style scoped>\n",
       "    .dataframe tbody tr th:only-of-type {\n",
       "        vertical-align: middle;\n",
       "    }\n",
       "\n",
       "    .dataframe tbody tr th {\n",
       "        vertical-align: top;\n",
       "    }\n",
       "\n",
       "    .dataframe thead th {\n",
       "        text-align: right;\n",
       "    }\n",
       "</style>\n",
       "<table border=\"1\" class=\"dataframe\">\n",
       "  <thead>\n",
       "    <tr style=\"text-align: right;\">\n",
       "      <th></th>\n",
       "      <th>Group A PPG</th>\n",
       "      <th>Group B PPG</th>\n",
       "      <th>Group C PPG</th>\n",
       "    </tr>\n",
       "  </thead>\n",
       "  <tbody>\n",
       "    <tr>\n",
       "      <th>count</th>\n",
       "      <td>25.000000</td>\n",
       "      <td>25.00000</td>\n",
       "      <td>25.000000</td>\n",
       "    </tr>\n",
       "    <tr>\n",
       "      <th>mean</th>\n",
       "      <td>16.096000</td>\n",
       "      <td>8.35600</td>\n",
       "      <td>7.328000</td>\n",
       "    </tr>\n",
       "    <tr>\n",
       "      <th>std</th>\n",
       "      <td>4.796047</td>\n",
       "      <td>5.02652</td>\n",
       "      <td>4.087126</td>\n",
       "    </tr>\n",
       "    <tr>\n",
       "      <th>min</th>\n",
       "      <td>9.100000</td>\n",
       "      <td>3.20000</td>\n",
       "      <td>1.000000</td>\n",
       "    </tr>\n",
       "    <tr>\n",
       "      <th>25%</th>\n",
       "      <td>12.600000</td>\n",
       "      <td>4.40000</td>\n",
       "      <td>3.800000</td>\n",
       "    </tr>\n",
       "    <tr>\n",
       "      <th>50%</th>\n",
       "      <td>15.700000</td>\n",
       "      <td>6.80000</td>\n",
       "      <td>6.800000</td>\n",
       "    </tr>\n",
       "    <tr>\n",
       "      <th>75%</th>\n",
       "      <td>18.700000</td>\n",
       "      <td>9.80000</td>\n",
       "      <td>9.800000</td>\n",
       "    </tr>\n",
       "    <tr>\n",
       "      <th>max</th>\n",
       "      <td>26.000000</td>\n",
       "      <td>23.70000</td>\n",
       "      <td>15.400000</td>\n",
       "    </tr>\n",
       "  </tbody>\n",
       "</table>\n",
       "</div>"
      ],
      "text/plain": [
       "       Group A PPG  Group B PPG  Group C PPG\n",
       "count    25.000000     25.00000    25.000000\n",
       "mean     16.096000      8.35600     7.328000\n",
       "std       4.796047      5.02652     4.087126\n",
       "min       9.100000      3.20000     1.000000\n",
       "25%      12.600000      4.40000     3.800000\n",
       "50%      15.700000      6.80000     6.800000\n",
       "75%      18.700000      9.80000     9.800000\n",
       "max      26.000000     23.70000    15.400000"
      ]
     },
     "execution_count": 32,
     "metadata": {},
     "output_type": "execute_result"
    }
   ],
   "source": [
    "# Get a summary of all groups PPG data\n",
    "all_group_ppg_df.describe()"
   ]
  },
  {
   "cell_type": "code",
   "execution_count": 33,
   "id": "29c61b9e-25c2-4cf2-b05a-3eaf7299f87a",
   "metadata": {},
   "outputs": [
    {
     "data": {
      "text/plain": [
       "<AxesSubplot:>"
      ]
     },
     "execution_count": 33,
     "metadata": {},
     "output_type": "execute_result"
    },
    {
     "data": {
      "image/png": "[encoded data removed]",
      "text/plain": [
       "<Figure size 432x288 with 1 Axes>"
      ]
     },
     "metadata": {
      "needs_background": "light"
     },
     "output_type": "display_data"
    }
   ],
   "source": [
    "# Visualize all groups PPG data using box plot\n",
    "all_group_ppg_df.plot.box()"
   ]
  },
  {
   "cell_type": "code",
   "execution_count": null,
   "id": "9a0d88af-a05e-48ff-8144-c030b4ed2696",
   "metadata": {},
   "outputs": [],
   "source": []
  },
  {
   "cell_type": "code",
   "execution_count": 34,
   "id": "b6324d02-dc71-4fcc-b295-8cf9db22d8be",
   "metadata": {},
   "outputs": [],
   "source": [
    "# Select group A RPG data: rename the column and save it into a new dataframe\n",
    "group_a_rpg = pd.DataFrame(group_a_df[['RPG']])\n",
    "group_a_rpg.rename(columns = {'RPG': 'Group A RPG'}, inplace = True)\n",
    "# Select group B RPG data: rename the column and save it into a new dataframe\n",
    "group_b_rpg = pd.DataFrame(group_b_df[['RPG']])\n",
    "group_b_rpg.rename(columns = {'RPG': 'Group B RPG'}, inplace = True)\n",
    "# Select group C RPG data: rename the column and save it into a new dataframe\n",
    "group_c_rpg = pd.DataFrame(group_c_df[['RPG']])\n",
    "group_c_rpg.rename(columns = {'RPG': 'Group C RPG'}, inplace = True)"
   ]
  },
  {
   "cell_type": "code",
   "execution_count": 35,
   "id": "4e203ad9-d3c5-414d-a91b-4f6f8236b4c1",
   "metadata": {},
   "outputs": [
    {
     "data": {
      "text/html": [
       "<div>\n",
       "<style scoped>\n",
       "    .dataframe tbody tr th:only-of-type {\n",
       "        vertical-align: middle;\n",
       "    }\n",
       "\n",
       "    .dataframe tbody tr th {\n",
       "        vertical-align: top;\n",
       "    }\n",
       "\n",
       "    .dataframe thead th {\n",
       "        text-align: right;\n",
       "    }\n",
       "</style>\n",
       "<table border=\"1\" class=\"dataframe\">\n",
       "  <thead>\n",
       "    <tr style=\"text-align: right;\">\n",
       "      <th></th>\n",
       "      <th>Group A RPG</th>\n",
       "      <th>Group B RPG</th>\n",
       "      <th>Group C RPG</th>\n",
       "    </tr>\n",
       "    <tr>\n",
       "      <th>DraftYear</th>\n",
       "      <th></th>\n",
       "      <th></th>\n",
       "      <th></th>\n",
       "    </tr>\n",
       "  </thead>\n",
       "  <tbody>\n",
       "    <tr>\n",
       "      <th>2017</th>\n",
       "      <td>3.3</td>\n",
       "      <td>4.2</td>\n",
       "      <td>2.9</td>\n",
       "    </tr>\n",
       "    <tr>\n",
       "      <th>2017</th>\n",
       "      <td>5.7</td>\n",
       "      <td>8.2</td>\n",
       "      <td>6.2</td>\n",
       "    </tr>\n",
       "    <tr>\n",
       "      <th>2017</th>\n",
       "      <td>6.6</td>\n",
       "      <td>2.5</td>\n",
       "      <td>4.5</td>\n",
       "    </tr>\n",
       "    <tr>\n",
       "      <th>2017</th>\n",
       "      <td>4.1</td>\n",
       "      <td>2.7</td>\n",
       "      <td>3.3</td>\n",
       "    </tr>\n",
       "    <tr>\n",
       "      <th>2017</th>\n",
       "      <td>3.5</td>\n",
       "      <td>3.1</td>\n",
       "      <td>5.8</td>\n",
       "    </tr>\n",
       "  </tbody>\n",
       "</table>\n",
       "</div>"
      ],
      "text/plain": [
       "           Group A RPG  Group B RPG  Group C RPG\n",
       "DraftYear                                       \n",
       "2017               3.3          4.2          2.9\n",
       "2017               5.7          8.2          6.2\n",
       "2017               6.6          2.5          4.5\n",
       "2017               4.1          2.7          3.3\n",
       "2017               3.5          3.1          5.8"
      ]
     },
     "execution_count": 35,
     "metadata": {},
     "output_type": "execute_result"
    }
   ],
   "source": [
    "# Concat 3 groups RPG dataframes and save it as all_goup_rpg_df\n",
    "all_groups_rpg = [group_a_rpg, group_b_rpg, group_c_rpg]\n",
    "all_group_rpg_df = pd.concat(all_groups_rpg, axis = 1)\n",
    "# Review the dataframe\n",
    "all_group_rpg_df.head()"
   ]
  },
  {
   "cell_type": "code",
   "execution_count": 36,
   "id": "ffbd03f0-0410-49f6-a338-229f13e6b4b1",
   "metadata": {},
   "outputs": [
    {
     "data": {
      "text/html": [
       "<div>\n",
       "<style scoped>\n",
       "    .dataframe tbody tr th:only-of-type {\n",
       "        vertical-align: middle;\n",
       "    }\n",
       "\n",
       "    .dataframe tbody tr th {\n",
       "        vertical-align: top;\n",
       "    }\n",
       "\n",
       "    .dataframe thead th {\n",
       "        text-align: right;\n",
       "    }\n",
       "</style>\n",
       "<table border=\"1\" class=\"dataframe\">\n",
       "  <thead>\n",
       "    <tr style=\"text-align: right;\">\n",
       "      <th></th>\n",
       "      <th>Group A RPG</th>\n",
       "      <th>Group B RPG</th>\n",
       "      <th>Group C RPG</th>\n",
       "    </tr>\n",
       "  </thead>\n",
       "  <tbody>\n",
       "    <tr>\n",
       "      <th>count</th>\n",
       "      <td>25.000000</td>\n",
       "      <td>25.000000</td>\n",
       "      <td>25.000000</td>\n",
       "    </tr>\n",
       "    <tr>\n",
       "      <th>mean</th>\n",
       "      <td>5.388000</td>\n",
       "      <td>3.624000</td>\n",
       "      <td>3.264000</td>\n",
       "    </tr>\n",
       "    <tr>\n",
       "      <th>std</th>\n",
       "      <td>1.990042</td>\n",
       "      <td>1.833776</td>\n",
       "      <td>1.608799</td>\n",
       "    </tr>\n",
       "    <tr>\n",
       "      <th>min</th>\n",
       "      <td>2.500000</td>\n",
       "      <td>1.200000</td>\n",
       "      <td>1.000000</td>\n",
       "    </tr>\n",
       "    <tr>\n",
       "      <th>25%</th>\n",
       "      <td>3.900000</td>\n",
       "      <td>2.300000</td>\n",
       "      <td>2.000000</td>\n",
       "    </tr>\n",
       "    <tr>\n",
       "      <th>50%</th>\n",
       "      <td>5.100000</td>\n",
       "      <td>3.100000</td>\n",
       "      <td>2.700000</td>\n",
       "    </tr>\n",
       "    <tr>\n",
       "      <th>75%</th>\n",
       "      <td>6.600000</td>\n",
       "      <td>4.600000</td>\n",
       "      <td>4.300000</td>\n",
       "    </tr>\n",
       "    <tr>\n",
       "      <th>max</th>\n",
       "      <td>10.600000</td>\n",
       "      <td>8.200000</td>\n",
       "      <td>6.400000</td>\n",
       "    </tr>\n",
       "  </tbody>\n",
       "</table>\n",
       "</div>"
      ],
      "text/plain": [
       "       Group A RPG  Group B RPG  Group C RPG\n",
       "count    25.000000    25.000000    25.000000\n",
       "mean      5.388000     3.624000     3.264000\n",
       "std       1.990042     1.833776     1.608799\n",
       "min       2.500000     1.200000     1.000000\n",
       "25%       3.900000     2.300000     2.000000\n",
       "50%       5.100000     3.100000     2.700000\n",
       "75%       6.600000     4.600000     4.300000\n",
       "max      10.600000     8.200000     6.400000"
      ]
     },
     "execution_count": 36,
     "metadata": {},
     "output_type": "execute_result"
    }
   ],
   "source": [
    "# Get a summary of all groups RPG data\n",
    "all_group_rpg_df.describe()"
   ]
  },
  {
   "cell_type": "code",
   "execution_count": 37,
   "id": "18ab785a-1296-4da3-8c5a-15fb48564c64",
   "metadata": {},
   "outputs": [
    {
     "data": {
      "text/plain": [
       "<AxesSubplot:>"
      ]
     },
     "execution_count": 37,
     "metadata": {},
     "output_type": "execute_result"
    },
    {
     "data": {
      "image/png": "[encoded data removed]",
      "text/plain": [
       "<Figure size 432x288 with 1 Axes>"
      ]
     },
     "metadata": {
      "needs_background": "light"
     },
     "output_type": "display_data"
    }
   ],
   "source": [
    "# Visualize all groups RPG data using box plot\n",
    "all_group_rpg_df.plot.box()"
   ]
  },
  {
   "cell_type": "code",
   "execution_count": null,
   "id": "c6f8b31a-fc55-4f86-a043-0bb273686ce2",
   "metadata": {},
   "outputs": [],
   "source": []
  },
  {
   "cell_type": "code",
   "execution_count": 38,
   "id": "9fa0c3ba-b9de-468f-ba18-7ab19d6c09ae",
   "metadata": {},
   "outputs": [],
   "source": [
    "# Select group A APG data: rename the column and save it into a new dataframe\n",
    "group_a_apg = pd.DataFrame(group_a_df[['APG']])\n",
    "group_a_apg.rename(columns = {'APG': 'Group A APG'}, inplace = True)\n",
    "# Select group B APG data: rename the column and save it into a new dataframe\n",
    "group_b_apg = pd.DataFrame(group_b_df[['APG']])\n",
    "group_b_apg.rename(columns = {'APG': 'Group B APG'}, inplace = True)\n",
    "# Select group C APG data: rename the column and save it into a new dataframe\n",
    "group_c_apg = pd.DataFrame(group_c_df[['APG']])\n",
    "group_c_apg.rename(columns = {'APG': 'Group C APG'}, inplace = True)"
   ]
  },
  {
   "cell_type": "code",
   "execution_count": 39,
   "id": "63125410-335b-4e6f-aa64-699846eb1324",
   "metadata": {},
   "outputs": [
    {
     "data": {
      "text/html": [
       "<div>\n",
       "<style scoped>\n",
       "    .dataframe tbody tr th:only-of-type {\n",
       "        vertical-align: middle;\n",
       "    }\n",
       "\n",
       "    .dataframe tbody tr th {\n",
       "        vertical-align: top;\n",
       "    }\n",
       "\n",
       "    .dataframe thead th {\n",
       "        text-align: right;\n",
       "    }\n",
       "</style>\n",
       "<table border=\"1\" class=\"dataframe\">\n",
       "  <thead>\n",
       "    <tr style=\"text-align: right;\">\n",
       "      <th></th>\n",
       "      <th>Group A APG</th>\n",
       "      <th>Group B APG</th>\n",
       "      <th>Group C APG</th>\n",
       "    </tr>\n",
       "    <tr>\n",
       "      <th>DraftYear</th>\n",
       "      <th></th>\n",
       "      <th></th>\n",
       "      <th></th>\n",
       "    </tr>\n",
       "  </thead>\n",
       "  <tbody>\n",
       "    <tr>\n",
       "      <th>2017</th>\n",
       "      <td>4.6</td>\n",
       "      <td>4.4</td>\n",
       "      <td>0.7</td>\n",
       "    </tr>\n",
       "    <tr>\n",
       "      <th>2017</th>\n",
       "      <td>6.2</td>\n",
       "      <td>3.5</td>\n",
       "      <td>2.1</td>\n",
       "    </tr>\n",
       "    <tr>\n",
       "      <th>2017</th>\n",
       "      <td>2.9</td>\n",
       "      <td>1.1</td>\n",
       "      <td>0.5</td>\n",
       "    </tr>\n",
       "    <tr>\n",
       "      <th>2017</th>\n",
       "      <td>1.9</td>\n",
       "      <td>0.9</td>\n",
       "      <td>3.9</td>\n",
       "    </tr>\n",
       "    <tr>\n",
       "      <th>2017</th>\n",
       "      <td>6.2</td>\n",
       "      <td>0.7</td>\n",
       "      <td>2.0</td>\n",
       "    </tr>\n",
       "  </tbody>\n",
       "</table>\n",
       "</div>"
      ],
      "text/plain": [
       "           Group A APG  Group B APG  Group C APG\n",
       "DraftYear                                       \n",
       "2017               4.6          4.4          0.7\n",
       "2017               6.2          3.5          2.1\n",
       "2017               2.9          1.1          0.5\n",
       "2017               1.9          0.9          3.9\n",
       "2017               6.2          0.7          2.0"
      ]
     },
     "execution_count": 39,
     "metadata": {},
     "output_type": "execute_result"
    }
   ],
   "source": [
    "# Concat 3 groups APG dataframes and save it as all_goup_apg_df\n",
    "all_groups_apg = [group_a_apg, group_b_apg, group_c_apg]\n",
    "all_group_apg_df = pd.concat(all_groups_apg, axis = 1)\n",
    "# Review the dataframe\n",
    "all_group_apg_df.head()"
   ]
  },
  {
   "cell_type": "code",
   "execution_count": 40,
   "id": "92f7dd6e-21b6-4c62-860b-dc2517fb6f6c",
   "metadata": {},
   "outputs": [
    {
     "data": {
      "text/html": [
       "<div>\n",
       "<style scoped>\n",
       "    .dataframe tbody tr th:only-of-type {\n",
       "        vertical-align: middle;\n",
       "    }\n",
       "\n",
       "    .dataframe tbody tr th {\n",
       "        vertical-align: top;\n",
       "    }\n",
       "\n",
       "    .dataframe thead th {\n",
       "        text-align: right;\n",
       "    }\n",
       "</style>\n",
       "<table border=\"1\" class=\"dataframe\">\n",
       "  <thead>\n",
       "    <tr style=\"text-align: right;\">\n",
       "      <th></th>\n",
       "      <th>Group A APG</th>\n",
       "      <th>Group B APG</th>\n",
       "      <th>Group C APG</th>\n",
       "    </tr>\n",
       "  </thead>\n",
       "  <tbody>\n",
       "    <tr>\n",
       "      <th>count</th>\n",
       "      <td>25.00000</td>\n",
       "      <td>25.000000</td>\n",
       "      <td>25.000000</td>\n",
       "    </tr>\n",
       "    <tr>\n",
       "      <th>mean</th>\n",
       "      <td>3.79200</td>\n",
       "      <td>1.724000</td>\n",
       "      <td>1.464000</td>\n",
       "    </tr>\n",
       "    <tr>\n",
       "      <th>std</th>\n",
       "      <td>2.38431</td>\n",
       "      <td>1.246756</td>\n",
       "      <td>1.089296</td>\n",
       "    </tr>\n",
       "    <tr>\n",
       "      <th>min</th>\n",
       "      <td>0.70000</td>\n",
       "      <td>0.300000</td>\n",
       "      <td>0.000000</td>\n",
       "    </tr>\n",
       "    <tr>\n",
       "      <th>25%</th>\n",
       "      <td>1.90000</td>\n",
       "      <td>0.900000</td>\n",
       "      <td>0.700000</td>\n",
       "    </tr>\n",
       "    <tr>\n",
       "      <th>50%</th>\n",
       "      <td>3.20000</td>\n",
       "      <td>1.200000</td>\n",
       "      <td>1.300000</td>\n",
       "    </tr>\n",
       "    <tr>\n",
       "      <th>75%</th>\n",
       "      <td>5.80000</td>\n",
       "      <td>2.300000</td>\n",
       "      <td>2.000000</td>\n",
       "    </tr>\n",
       "    <tr>\n",
       "      <th>max</th>\n",
       "      <td>8.90000</td>\n",
       "      <td>5.000000</td>\n",
       "      <td>4.500000</td>\n",
       "    </tr>\n",
       "  </tbody>\n",
       "</table>\n",
       "</div>"
      ],
      "text/plain": [
       "       Group A APG  Group B APG  Group C APG\n",
       "count     25.00000    25.000000    25.000000\n",
       "mean       3.79200     1.724000     1.464000\n",
       "std        2.38431     1.246756     1.089296\n",
       "min        0.70000     0.300000     0.000000\n",
       "25%        1.90000     0.900000     0.700000\n",
       "50%        3.20000     1.200000     1.300000\n",
       "75%        5.80000     2.300000     2.000000\n",
       "max        8.90000     5.000000     4.500000"
      ]
     },
     "execution_count": 40,
     "metadata": {},
     "output_type": "execute_result"
    }
   ],
   "source": [
    "# Get a summary of all groups APG data\n",
    "all_group_apg_df.describe()"
   ]
  },
  {
   "cell_type": "code",
   "execution_count": 41,
   "id": "5425f6b0-6ed7-4166-8469-534aebcb6d04",
   "metadata": {},
   "outputs": [
    {
     "data": {
      "text/plain": [
       "<AxesSubplot:>"
      ]
     },
     "execution_count": 41,
     "metadata": {},
     "output_type": "execute_result"
    },
    {
     "data": {
      "image/png": "[encoded data removed]",
      "text/plain": [
       "<Figure size 432x288 with 1 Axes>"
      ]
     },
     "metadata": {
      "needs_background": "light"
     },
     "output_type": "display_data"
    }
   ],
   "source": [
    "# Visualize all groups APG data using box plot\n",
    "all_group_apg_df.plot.box()"
   ]
  },
  {
   "cell_type": "code",
   "execution_count": null,
   "id": "516a282e-1d6b-43e1-a33b-1b4ca6f4eba2",
   "metadata": {},
   "outputs": [],
   "source": []
  },
  {
   "cell_type": "code",
   "execution_count": 42,
   "id": "ce4c9c52-c0cd-4df4-8af3-f6eef803bfe4",
   "metadata": {},
   "outputs": [],
   "source": [
    "# Select group A contract worth data: rename the column and save it into a new dataframe\n",
    "group_a_contract = pd.DataFrame(group_a_df[['Contract Worth']])\n",
    "group_a_contract.rename(columns = {'Contract Worth': 'Group A Contract Worth'}, inplace = True)\n",
    "# Select group B contract worth data: rename the column and save it into a new dataframe\n",
    "group_b_contract = pd.DataFrame(group_b_df[['Contract Worth']])\n",
    "group_b_contract.rename(columns = {'Contract Worth': 'Group B Contract Worth'}, inplace = True)\n",
    "# Select group C contract worth data: rename the column and save it into a new dataframe\n",
    "group_c_contract = pd.DataFrame(group_c_df[['Contract Worth']])\n",
    "group_c_contract.rename(columns = {'Contract Worth': 'Group C Contract Worth'}, inplace = True)"
   ]
  },
  {
   "cell_type": "code",
   "execution_count": 43,
   "id": "7b15f598-ba7f-4da4-9c48-28f056325b8b",
   "metadata": {},
   "outputs": [
    {
     "data": {
      "text/html": [
       "<div>\n",
       "<style scoped>\n",
       "    .dataframe tbody tr th:only-of-type {\n",
       "        vertical-align: middle;\n",
       "    }\n",
       "\n",
       "    .dataframe tbody tr th {\n",
       "        vertical-align: top;\n",
       "    }\n",
       "\n",
       "    .dataframe thead th {\n",
       "        text-align: right;\n",
       "    }\n",
       "</style>\n",
       "<table border=\"1\" class=\"dataframe\">\n",
       "  <thead>\n",
       "    <tr style=\"text-align: right;\">\n",
       "      <th></th>\n",
       "      <th>Group A Contract Worth</th>\n",
       "      <th>Group B Contract Worth</th>\n",
       "      <th>Group C Contract Worth</th>\n",
       "    </tr>\n",
       "    <tr>\n",
       "      <th>DraftYear</th>\n",
       "      <th></th>\n",
       "      <th></th>\n",
       "      <th></th>\n",
       "    </tr>\n",
       "  </thead>\n",
       "  <tbody>\n",
       "    <tr>\n",
       "      <th>2017</th>\n",
       "      <td>33727701.0</td>\n",
       "      <td>13092144.0</td>\n",
       "      <td>7955043.0</td>\n",
       "    </tr>\n",
       "    <tr>\n",
       "      <th>2017</th>\n",
       "      <td>30184438.0</td>\n",
       "      <td>12587510.0</td>\n",
       "      <td>7727382.0</td>\n",
       "    </tr>\n",
       "    <tr>\n",
       "      <th>2017</th>\n",
       "      <td>27118800.0</td>\n",
       "      <td>12098915.0</td>\n",
       "      <td>7681457.0</td>\n",
       "    </tr>\n",
       "    <tr>\n",
       "      <th>2017</th>\n",
       "      <td>24118800.0</td>\n",
       "      <td>11497652.0</td>\n",
       "      <td>7625397.0</td>\n",
       "    </tr>\n",
       "    <tr>\n",
       "      <th>2017</th>\n",
       "      <td>22157109.0</td>\n",
       "      <td>10927154.0</td>\n",
       "      <td>7570779.0</td>\n",
       "    </tr>\n",
       "  </tbody>\n",
       "</table>\n",
       "</div>"
      ],
      "text/plain": [
       "           Group A Contract Worth  Group B Contract Worth  \\\n",
       "DraftYear                                                   \n",
       "2017                   33727701.0              13092144.0   \n",
       "2017                   30184438.0              12587510.0   \n",
       "2017                   27118800.0              12098915.0   \n",
       "2017                   24118800.0              11497652.0   \n",
       "2017                   22157109.0              10927154.0   \n",
       "\n",
       "           Group C Contract Worth  \n",
       "DraftYear                          \n",
       "2017                    7955043.0  \n",
       "2017                    7727382.0  \n",
       "2017                    7681457.0  \n",
       "2017                    7625397.0  \n",
       "2017                    7570779.0  "
      ]
     },
     "execution_count": 43,
     "metadata": {},
     "output_type": "execute_result"
    }
   ],
   "source": [
    "# Concat 3 groups contract worth dataframes and save it as all_goup_contract_df\n",
    "all_groups_contract = [group_a_contract, group_b_contract, group_c_contract]\n",
    "all_group_contract_df = pd.concat(all_groups_contract, axis = 1)\n",
    "# Review the dataframe\n",
    "all_group_contract_df.head()"
   ]
  },
  {
   "cell_type": "code",
   "execution_count": 44,
   "id": "f57abb30-d312-4422-a349-d8d3fc79d6a8",
   "metadata": {},
   "outputs": [
    {
     "data": {
      "text/html": [
       "<div>\n",
       "<style scoped>\n",
       "    .dataframe tbody tr th:only-of-type {\n",
       "        vertical-align: middle;\n",
       "    }\n",
       "\n",
       "    .dataframe tbody tr th {\n",
       "        vertical-align: top;\n",
       "    }\n",
       "\n",
       "    .dataframe thead th {\n",
       "        text-align: right;\n",
       "    }\n",
       "</style>\n",
       "<table border=\"1\" class=\"dataframe\">\n",
       "  <thead>\n",
       "    <tr style=\"text-align: right;\">\n",
       "      <th></th>\n",
       "      <th>Group A Contract Worth</th>\n",
       "      <th>Group B Contract Worth</th>\n",
       "      <th>Group C Contract Worth</th>\n",
       "    </tr>\n",
       "  </thead>\n",
       "  <tbody>\n",
       "    <tr>\n",
       "      <th>count</th>\n",
       "      <td>2.500000e+01</td>\n",
       "      <td>2.500000e+01</td>\n",
       "      <td>2.500000e+01</td>\n",
       "    </tr>\n",
       "    <tr>\n",
       "      <th>mean</th>\n",
       "      <td>3.398147e+07</td>\n",
       "      <td>1.487708e+07</td>\n",
       "      <td>9.457335e+06</td>\n",
       "    </tr>\n",
       "    <tr>\n",
       "      <th>std</th>\n",
       "      <td>6.343022e+06</td>\n",
       "      <td>1.853445e+06</td>\n",
       "      <td>1.065834e+06</td>\n",
       "    </tr>\n",
       "    <tr>\n",
       "      <th>min</th>\n",
       "      <td>2.215711e+07</td>\n",
       "      <td>1.092715e+07</td>\n",
       "      <td>7.570779e+06</td>\n",
       "    </tr>\n",
       "    <tr>\n",
       "      <th>25%</th>\n",
       "      <td>2.928044e+07</td>\n",
       "      <td>1.379106e+07</td>\n",
       "      <td>9.095405e+06</td>\n",
       "    </tr>\n",
       "    <tr>\n",
       "      <th>50%</th>\n",
       "      <td>3.306463e+07</td>\n",
       "      <td>1.509819e+07</td>\n",
       "      <td>1.001738e+07</td>\n",
       "    </tr>\n",
       "    <tr>\n",
       "      <th>75%</th>\n",
       "      <td>3.961984e+07</td>\n",
       "      <td>1.636453e+07</td>\n",
       "      <td>1.024349e+07</td>\n",
       "    </tr>\n",
       "    <tr>\n",
       "      <th>max</th>\n",
       "      <td>4.559882e+07</td>\n",
       "      <td>1.770436e+07</td>\n",
       "      <td>1.076312e+07</td>\n",
       "    </tr>\n",
       "  </tbody>\n",
       "</table>\n",
       "</div>"
      ],
      "text/plain": [
       "       Group A Contract Worth  Group B Contract Worth  Group C Contract Worth\n",
       "count            2.500000e+01            2.500000e+01            2.500000e+01\n",
       "mean             3.398147e+07            1.487708e+07            9.457335e+06\n",
       "std              6.343022e+06            1.853445e+06            1.065834e+06\n",
       "min              2.215711e+07            1.092715e+07            7.570779e+06\n",
       "25%              2.928044e+07            1.379106e+07            9.095405e+06\n",
       "50%              3.306463e+07            1.509819e+07            1.001738e+07\n",
       "75%              3.961984e+07            1.636453e+07            1.024349e+07\n",
       "max              4.559882e+07            1.770436e+07            1.076312e+07"
      ]
     },
     "execution_count": 44,
     "metadata": {},
     "output_type": "execute_result"
    }
   ],
   "source": [
    "# Get a summary of all groups contract worth data\n",
    "all_group_contract_df.describe()"
   ]
  },
  {
   "cell_type": "code",
   "execution_count": 45,
   "id": "d8d8243d-5664-4b33-9ce1-01071f8cf779",
   "metadata": {},
   "outputs": [
    {
     "data": {
      "text/plain": [
       "<AxesSubplot:>"
      ]
     },
     "execution_count": 45,
     "metadata": {},
     "output_type": "execute_result"
    },
    {
     "data": {
      "image/png": "[encoded data removed]",
      "text/plain": [
       "<Figure size 432x288 with 1 Axes>"
      ]
     },
     "metadata": {
      "needs_background": "light"
     },
     "output_type": "display_data"
    }
   ],
   "source": [
    "# Visualize all groups contract worth data using box plot\n",
    "all_group_contract_df.plot.box()"
   ]
  },
  {
   "cell_type": "code",
   "execution_count": null,
   "id": "2cee2d45-23ce-4b7d-abb6-480e37d9e7a7",
   "metadata": {},
   "outputs": [],
   "source": []
  },
  {
   "cell_type": "code",
   "execution_count": 46,
   "id": "cace5c06-7410-4813-811b-07ae17160b82",
   "metadata": {},
   "outputs": [
    {
     "data": {
      "text/html": [
       "<div>\n",
       "<style scoped>\n",
       "    .dataframe tbody tr th:only-of-type {\n",
       "        vertical-align: middle;\n",
       "    }\n",
       "\n",
       "    .dataframe tbody tr th {\n",
       "        vertical-align: top;\n",
       "    }\n",
       "\n",
       "    .dataframe thead th {\n",
       "        text-align: right;\n",
       "    }\n",
       "</style>\n",
       "<table border=\"1\" class=\"dataframe\">\n",
       "  <thead>\n",
       "    <tr style=\"text-align: right;\">\n",
       "      <th></th>\n",
       "      <th>Pk</th>\n",
       "      <th>DraftYr</th>\n",
       "      <th>MPG</th>\n",
       "      <th>PPG</th>\n",
       "      <th>RPG</th>\n",
       "      <th>APG</th>\n",
       "      <th>FG%</th>\n",
       "      <th>3P%</th>\n",
       "      <th>FT%</th>\n",
       "      <th>Contract Worth</th>\n",
       "    </tr>\n",
       "    <tr>\n",
       "      <th>DraftYear</th>\n",
       "      <th></th>\n",
       "      <th></th>\n",
       "      <th></th>\n",
       "      <th></th>\n",
       "      <th></th>\n",
       "      <th></th>\n",
       "      <th></th>\n",
       "      <th></th>\n",
       "      <th></th>\n",
       "      <th></th>\n",
       "    </tr>\n",
       "  </thead>\n",
       "  <tbody>\n",
       "    <tr>\n",
       "      <th>2017</th>\n",
       "      <td>3.0</td>\n",
       "      <td>2017.0</td>\n",
       "      <td>29.36</td>\n",
       "      <td>14.68</td>\n",
       "      <td>4.64</td>\n",
       "      <td>4.36</td>\n",
       "      <td>0.4352</td>\n",
       "      <td>0.3238</td>\n",
       "      <td>0.7038</td>\n",
       "      <td>27461369.6</td>\n",
       "    </tr>\n",
       "    <tr>\n",
       "      <th>2018</th>\n",
       "      <td>3.0</td>\n",
       "      <td>2018.0</td>\n",
       "      <td>29.96</td>\n",
       "      <td>19.24</td>\n",
       "      <td>7.10</td>\n",
       "      <td>4.10</td>\n",
       "      <td>0.4876</td>\n",
       "      <td>0.3062</td>\n",
       "      <td>0.7594</td>\n",
       "      <td>32958521.2</td>\n",
       "    </tr>\n",
       "    <tr>\n",
       "      <th>2019</th>\n",
       "      <td>3.0</td>\n",
       "      <td>2019.0</td>\n",
       "      <td>32.08</td>\n",
       "      <td>18.46</td>\n",
       "      <td>4.74</td>\n",
       "      <td>4.14</td>\n",
       "      <td>0.4752</td>\n",
       "      <td>0.3498</td>\n",
       "      <td>0.7554</td>\n",
       "      <td>36134441.6</td>\n",
       "    </tr>\n",
       "    <tr>\n",
       "      <th>2020</th>\n",
       "      <td>3.0</td>\n",
       "      <td>2020.0</td>\n",
       "      <td>28.82</td>\n",
       "      <td>13.66</td>\n",
       "      <td>4.90</td>\n",
       "      <td>2.80</td>\n",
       "      <td>0.4588</td>\n",
       "      <td>0.3426</td>\n",
       "      <td>0.7394</td>\n",
       "      <td>36134441.6</td>\n",
       "    </tr>\n",
       "    <tr>\n",
       "      <th>2021</th>\n",
       "      <td>3.0</td>\n",
       "      <td>2021.0</td>\n",
       "      <td>31.98</td>\n",
       "      <td>14.44</td>\n",
       "      <td>5.56</td>\n",
       "      <td>3.56</td>\n",
       "      <td>0.4242</td>\n",
       "      <td>0.2888</td>\n",
       "      <td>0.7710</td>\n",
       "      <td>37218566.2</td>\n",
       "    </tr>\n",
       "  </tbody>\n",
       "</table>\n",
       "</div>"
      ],
      "text/plain": [
       "            Pk  DraftYr    MPG    PPG   RPG   APG     FG%     3P%     FT%  \\\n",
       "DraftYear                                                                   \n",
       "2017       3.0   2017.0  29.36  14.68  4.64  4.36  0.4352  0.3238  0.7038   \n",
       "2018       3.0   2018.0  29.96  19.24  7.10  4.10  0.4876  0.3062  0.7594   \n",
       "2019       3.0   2019.0  32.08  18.46  4.74  4.14  0.4752  0.3498  0.7554   \n",
       "2020       3.0   2020.0  28.82  13.66  4.90  2.80  0.4588  0.3426  0.7394   \n",
       "2021       3.0   2021.0  31.98  14.44  5.56  3.56  0.4242  0.2888  0.7710   \n",
       "\n",
       "           Contract Worth  \n",
       "DraftYear                  \n",
       "2017           27461369.6  \n",
       "2018           32958521.2  \n",
       "2019           36134441.6  \n",
       "2020           36134441.6  \n",
       "2021           37218566.2  "
      ]
     },
     "execution_count": 46,
     "metadata": {},
     "output_type": "execute_result"
    }
   ],
   "source": [
    "# Calculate averages of each category for top 5 picks of each year and save to group_a_ave dataframe\n",
    "group_a_ave=group_a_df.groupby('DraftYear').mean().sort_values('DraftYear')\n",
    "# Review group_a_ave dataframe\n",
    "group_a_ave"
   ]
  },
  {
   "cell_type": "code",
   "execution_count": 105,
   "id": "7d32a880-a762-45e9-8fb7-2a3d3b5c9b3a",
   "metadata": {},
   "outputs": [],
   "source": [
    "group_a_mean = group_a_ave[['MPG','PPG', 'RPG', 'APG','FG%', '3P%','FT%']].mean()"
   ]
  },
  {
   "cell_type": "code",
   "execution_count": 106,
   "id": "3271480a-405b-49f7-aecb-2428300ed2b3",
   "metadata": {},
   "outputs": [
    {
     "data": {
      "text/html": [
       "<div>\n",
       "<style scoped>\n",
       "    .dataframe tbody tr th:only-of-type {\n",
       "        vertical-align: middle;\n",
       "    }\n",
       "\n",
       "    .dataframe tbody tr th {\n",
       "        vertical-align: top;\n",
       "    }\n",
       "\n",
       "    .dataframe thead th {\n",
       "        text-align: right;\n",
       "    }\n",
       "</style>\n",
       "<table border=\"1\" class=\"dataframe\">\n",
       "  <thead>\n",
       "    <tr style=\"text-align: right;\">\n",
       "      <th></th>\n",
       "      <th>mean</th>\n",
       "    </tr>\n",
       "  </thead>\n",
       "  <tbody>\n",
       "    <tr>\n",
       "      <th>MPG</th>\n",
       "      <td>30.44000</td>\n",
       "    </tr>\n",
       "    <tr>\n",
       "      <th>PPG</th>\n",
       "      <td>16.09600</td>\n",
       "    </tr>\n",
       "    <tr>\n",
       "      <th>RPG</th>\n",
       "      <td>5.38800</td>\n",
       "    </tr>\n",
       "    <tr>\n",
       "      <th>APG</th>\n",
       "      <td>3.79200</td>\n",
       "    </tr>\n",
       "    <tr>\n",
       "      <th>FG%</th>\n",
       "      <td>0.45620</td>\n",
       "    </tr>\n",
       "    <tr>\n",
       "      <th>3P%</th>\n",
       "      <td>0.32224</td>\n",
       "    </tr>\n",
       "    <tr>\n",
       "      <th>FT%</th>\n",
       "      <td>0.74580</td>\n",
       "    </tr>\n",
       "  </tbody>\n",
       "</table>\n",
       "</div>"
      ],
      "text/plain": [
       "         mean\n",
       "MPG  30.44000\n",
       "PPG  16.09600\n",
       "RPG   5.38800\n",
       "APG   3.79200\n",
       "FG%   0.45620\n",
       "3P%   0.32224\n",
       "FT%   0.74580"
      ]
     },
     "execution_count": 106,
     "metadata": {},
     "output_type": "execute_result"
    }
   ],
   "source": [
    "group_a_mean_df = group_a_mean.to_frame(name='mean')\n",
    "group_a_mean_df"
   ]
  },
  {
   "cell_type": "code",
   "execution_count": 87,
   "id": "6eb37393-a98b-469d-8f64-73c05dd58aa4",
   "metadata": {},
   "outputs": [],
   "source": [
    "# Calculate averages of each category for middle 5 picks of each year and save to group_b_ave dataframe\n",
    "group_b_ave=group_b_df.groupby('DraftYear').mean().sort_values('DraftYear')"
   ]
  },
  {
   "cell_type": "code",
   "execution_count": 94,
   "id": "96dfda10-7a4b-4080-8709-a85fb9c19896",
   "metadata": {},
   "outputs": [
    {
     "data": {
      "text/html": [
       "<div>\n",
       "<style scoped>\n",
       "    .dataframe tbody tr th:only-of-type {\n",
       "        vertical-align: middle;\n",
       "    }\n",
       "\n",
       "    .dataframe tbody tr th {\n",
       "        vertical-align: top;\n",
       "    }\n",
       "\n",
       "    .dataframe thead th {\n",
       "        text-align: right;\n",
       "    }\n",
       "</style>\n",
       "<table border=\"1\" class=\"dataframe\">\n",
       "  <thead>\n",
       "    <tr style=\"text-align: right;\">\n",
       "      <th></th>\n",
       "      <th>mean</th>\n",
       "    </tr>\n",
       "  </thead>\n",
       "  <tbody>\n",
       "    <tr>\n",
       "      <th>MPG</th>\n",
       "      <td>19.87600</td>\n",
       "    </tr>\n",
       "    <tr>\n",
       "      <th>PPG</th>\n",
       "      <td>8.35600</td>\n",
       "    </tr>\n",
       "    <tr>\n",
       "      <th>RPG</th>\n",
       "      <td>3.62400</td>\n",
       "    </tr>\n",
       "    <tr>\n",
       "      <th>APG</th>\n",
       "      <td>1.72400</td>\n",
       "    </tr>\n",
       "    <tr>\n",
       "      <th>FG%</th>\n",
       "      <td>0.42012</td>\n",
       "    </tr>\n",
       "    <tr>\n",
       "      <th>3P%</th>\n",
       "      <td>0.31248</td>\n",
       "    </tr>\n",
       "    <tr>\n",
       "      <th>FT%</th>\n",
       "      <td>0.75964</td>\n",
       "    </tr>\n",
       "  </tbody>\n",
       "</table>\n",
       "</div>"
      ],
      "text/plain": [
       "         mean\n",
       "MPG  19.87600\n",
       "PPG   8.35600\n",
       "RPG   3.62400\n",
       "APG   1.72400\n",
       "FG%   0.42012\n",
       "3P%   0.31248\n",
       "FT%   0.75964"
      ]
     },
     "execution_count": 94,
     "metadata": {},
     "output_type": "execute_result"
    }
   ],
   "source": [
    "group_b_mean = group_b_ave[['MPG','PPG', 'RPG', 'APG','FG%', '3P%','FT%']].mean()\n",
    "group_b_mean_df = group_b_mean.to_frame(name='mean')\n",
    "group_b_mean_df"
   ]
  },
  {
   "cell_type": "code",
   "execution_count": 92,
   "id": "80133ad6-a3ea-416a-8358-06701b73fe37",
   "metadata": {},
   "outputs": [],
   "source": [
    "# Calculate averages of each category for last 5 picks of each year and save to group_c_ave dataframe\n",
    "group_c_ave=group_c_df.groupby('DraftYear').mean().sort_values('DraftYear')"
   ]
  },
  {
   "cell_type": "code",
   "execution_count": 95,
   "id": "8e211b03-cc3d-41bf-9ddb-6ea1a674697c",
   "metadata": {},
   "outputs": [
    {
     "data": {
      "text/html": [
       "<div>\n",
       "<style scoped>\n",
       "    .dataframe tbody tr th:only-of-type {\n",
       "        vertical-align: middle;\n",
       "    }\n",
       "\n",
       "    .dataframe tbody tr th {\n",
       "        vertical-align: top;\n",
       "    }\n",
       "\n",
       "    .dataframe thead th {\n",
       "        text-align: right;\n",
       "    }\n",
       "</style>\n",
       "<table border=\"1\" class=\"dataframe\">\n",
       "  <thead>\n",
       "    <tr style=\"text-align: right;\">\n",
       "      <th></th>\n",
       "      <th>mean</th>\n",
       "    </tr>\n",
       "  </thead>\n",
       "  <tbody>\n",
       "    <tr>\n",
       "      <th>MPG</th>\n",
       "      <td>17.51600</td>\n",
       "    </tr>\n",
       "    <tr>\n",
       "      <th>PPG</th>\n",
       "      <td>7.32800</td>\n",
       "    </tr>\n",
       "    <tr>\n",
       "      <th>RPG</th>\n",
       "      <td>3.26400</td>\n",
       "    </tr>\n",
       "    <tr>\n",
       "      <th>APG</th>\n",
       "      <td>1.46400</td>\n",
       "    </tr>\n",
       "    <tr>\n",
       "      <th>FG%</th>\n",
       "      <td>0.47868</td>\n",
       "    </tr>\n",
       "    <tr>\n",
       "      <th>3P%</th>\n",
       "      <td>0.30622</td>\n",
       "    </tr>\n",
       "    <tr>\n",
       "      <th>FT%</th>\n",
       "      <td>0.75349</td>\n",
       "    </tr>\n",
       "  </tbody>\n",
       "</table>\n",
       "</div>"
      ],
      "text/plain": [
       "         mean\n",
       "MPG  17.51600\n",
       "PPG   7.32800\n",
       "RPG   3.26400\n",
       "APG   1.46400\n",
       "FG%   0.47868\n",
       "3P%   0.30622\n",
       "FT%   0.75349"
      ]
     },
     "execution_count": 95,
     "metadata": {},
     "output_type": "execute_result"
    }
   ],
   "source": [
    "group_c_mean = group_c_ave[['MPG','PPG', 'RPG', 'APG','FG%', '3P%','FT%']].mean()\n",
    "group_c_mean_df = group_c_mean.to_frame(name='mean')\n",
    "group_c_mean_df"
   ]
  },
  {
   "cell_type": "code",
   "execution_count": null,
   "id": "b821ab3f-76d4-4601-b17f-10575dac2b04",
   "metadata": {},
   "outputs": [],
   "source": []
  },
  {
   "cell_type": "code",
   "execution_count": 113,
   "id": "d637ce39-fff5-4536-acf4-4c547a17e259",
   "metadata": {},
   "outputs": [
    {
     "data": {
      "application/vnd.plotly.v1+json": {
       "config": {
        "plotlyServerURL": "https://plot.ly"
       },
       "data": [
        {
         "fill": "toself",
         "name": "Group A",
         "r": [
          30.44,
          16.1,
          5.39,
          3.8,
          0.46,
          0.32,
          0.75
         ],
         "theta": [
          "MPG",
          "PPG",
          "RPG",
          "APG",
          "FG%",
          "3P%",
          "FT%"
         ],
         "type": "scatterpolar"
        },
        {
         "fill": "toself",
         "name": "Group B",
         "r": [
          19.88,
          8.36,
          3.62,
          1.72,
          0.42,
          0.31,
          0.76
         ],
         "theta": [
          "MPG",
          "PPG",
          "RPG",
          "APG",
          "FG%",
          "3P%",
          "FT%"
         ],
         "type": "scatterpolar"
        },
        {
         "fill": "toself",
         "name": "Group C",
         "r": [
          17.52,
          7.33,
          3.26,
          1.46,
          0.48,
          0.3,
          0.75
         ],
         "theta": [
          "MPG",
          "PPG",
          "RPG",
          "APG",
          "FG%",
          "3P%",
          "FT%"
         ],
         "type": "scatterpolar"
        }
       ],
       "layout": {
        "height": 500,
        "polar": {
         "angularaxis": {
          "type": "category"
         },
         "radialaxis": {
          "autorange": false,
          "range": [
           0,
           35
          ],
          "type": "linear",
          "visible": true
         }
        },
        "showlegend": true,
        "template": {
         "data": {
          "bar": [
           {
            "error_x": {
             "color": "#2a3f5f"
            },
            "error_y": {
             "color": "#2a3f5f"
            },
            "marker": {
             "line": {
              "color": "#E5ECF6",
              "width": 0.5
             },
             "pattern": {
              "fillmode": "overlay",
              "size": 10,
              "solidity": 0.2
             }
            },
            "type": "bar"
           }
          ],
          "barpolar": [
           {
            "marker": {
             "line": {
              "color": "#E5ECF6",
              "width": 0.5
             },
             "pattern": {
              "fillmode": "overlay",
              "size": 10,
              "solidity": 0.2
             }
            },
            "type": "barpolar"
           }
          ],
          "carpet": [
           {
            "aaxis": {
             "endlinecolor": "#2a3f5f",
             "gridcolor": "white",
             "linecolor": "white",
             "minorgridcolor": "white",
             "startlinecolor": "#2a3f5f"
            },
            "baxis": {
             "endlinecolor": "#2a3f5f",
             "gridcolor": "white",
             "linecolor": "white",
             "minorgridcolor": "white",
             "startlinecolor": "#2a3f5f"
            },
            "type": "carpet"
           }
          ],
          "choropleth": [
           {
            "colorbar": {
             "outlinewidth": 0,
             "ticks": ""
            },
            "type": "choropleth"
           }
          ],
          "contour": [
           {
            "colorbar": {
             "outlinewidth": 0,
             "ticks": ""
            },
            "colorscale": [
             [
              0,
              "#0d0887"
             ],
             [
              0.1111111111111111,
              "#46039f"
             ],
             [
              0.2222222222222222,
              "#7201a8"
             ],
             [
              0.3333333333333333,
              "#9c179e"
             ],
             [
              0.4444444444444444,
              "#bd3786"
             ],
             [
              0.5555555555555556,
              "#d8576b"
             ],
             [
              0.6666666666666666,
              "#ed7953"
             ],
             [
              0.7777777777777778,
              "#fb9f3a"
             ],
             [
              0.8888888888888888,
              "#fdca26"
             ],
             [
              1,
              "#f0f921"
             ]
            ],
            "type": "contour"
           }
          ],
          "contourcarpet": [
           {
            "colorbar": {
             "outlinewidth": 0,
             "ticks": ""
            },
            "type": "contourcarpet"
           }
          ],
          "heatmap": [
           {
            "colorbar": {
             "outlinewidth": 0,
             "ticks": ""
            },
            "colorscale": [
             [
              0,
              "#0d0887"
             ],
             [
              0.1111111111111111,
              "#46039f"
             ],
             [
              0.2222222222222222,
              "#7201a8"
             ],
             [
              0.3333333333333333,
              "#9c179e"
             ],
             [
              0.4444444444444444,
              "#bd3786"
             ],
             [
              0.5555555555555556,
              "#d8576b"
             ],
             [
              0.6666666666666666,
              "#ed7953"
             ],
             [
              0.7777777777777778,
              "#fb9f3a"
             ],
             [
              0.8888888888888888,
              "#fdca26"
             ],
             [
              1,
              "#f0f921"
             ]
            ],
            "type": "heatmap"
           }
          ],
          "heatmapgl": [
           {
            "colorbar": {
             "outlinewidth": 0,
             "ticks": ""
            },
            "colorscale": [
             [
              0,
              "#0d0887"
             ],
             [
              0.1111111111111111,
              "#46039f"
             ],
             [
              0.2222222222222222,
              "#7201a8"
             ],
             [
              0.3333333333333333,
              "#9c179e"
             ],
             [
              0.4444444444444444,
              "#bd3786"
             ],
             [
              0.5555555555555556,
              "#d8576b"
             ],
             [
              0.6666666666666666,
              "#ed7953"
             ],
             [
              0.7777777777777778,
              "#fb9f3a"
             ],
             [
              0.8888888888888888,
              "#fdca26"
             ],
             [
              1,
              "#f0f921"
             ]
            ],
            "type": "heatmapgl"
           }
          ],
          "histogram": [
           {
            "marker": {
             "pattern": {
              "fillmode": "overlay",
              "size": 10,
              "solidity": 0.2
             }
            },
            "type": "histogram"
           }
          ],
          "histogram2d": [
           {
            "colorbar": {
             "outlinewidth": 0,
             "ticks": ""
            },
            "colorscale": [
             [
              0,
              "#0d0887"
             ],
             [
              0.1111111111111111,
              "#46039f"
             ],
             [
              0.2222222222222222,
              "#7201a8"
             ],
             [
              0.3333333333333333,
              "#9c179e"
             ],
             [
              0.4444444444444444,
              "#bd3786"
             ],
             [
              0.5555555555555556,
              "#d8576b"
             ],
             [
              0.6666666666666666,
              "#ed7953"
             ],
             [
              0.7777777777777778,
              "#fb9f3a"
             ],
             [
              0.8888888888888888,
              "#fdca26"
             ],
             [
              1,
              "#f0f921"
             ]
            ],
            "type": "histogram2d"
           }
          ],
          "histogram2dcontour": [
           {
            "colorbar": {
             "outlinewidth": 0,
             "ticks": ""
            },
            "colorscale": [
             [
              0,
              "#0d0887"
             ],
             [
              0.1111111111111111,
              "#46039f"
             ],
             [
              0.2222222222222222,
              "#7201a8"
             ],
             [
              0.3333333333333333,
              "#9c179e"
             ],
             [
              0.4444444444444444,
              "#bd3786"
             ],
             [
              0.5555555555555556,
              "#d8576b"
             ],
             [
              0.6666666666666666,
              "#ed7953"
             ],
             [
              0.7777777777777778,
              "#fb9f3a"
             ],
             [
              0.8888888888888888,
              "#fdca26"
             ],
             [
              1,
              "#f0f921"
             ]
            ],
            "type": "histogram2dcontour"
           }
          ],
          "mesh3d": [
           {
            "colorbar": {
             "outlinewidth": 0,
             "ticks": ""
            },
            "type": "mesh3d"
           }
          ],
          "parcoords": [
           {
            "line": {
             "colorbar": {
              "outlinewidth": 0,
              "ticks": ""
             }
            },
            "type": "parcoords"
           }
          ],
          "pie": [
           {
            "automargin": true,
            "type": "pie"
           }
          ],
          "scatter": [
           {
            "fillpattern": {
             "fillmode": "overlay",
             "size": 10,
             "solidity": 0.2
            },
            "type": "scatter"
           }
          ],
          "scatter3d": [
           {
            "line": {
             "colorbar": {
              "outlinewidth": 0,
              "ticks": ""
             }
            },
            "marker": {
             "colorbar": {
              "outlinewidth": 0,
              "ticks": ""
             }
            },
            "type": "scatter3d"
           }
          ],
          "scattercarpet": [
           {
            "marker": {
             "colorbar": {
              "outlinewidth": 0,
              "ticks": ""
             }
            },
            "type": "scattercarpet"
           }
          ],
          "scattergeo": [
           {
            "marker": {
             "colorbar": {
              "outlinewidth": 0,
              "ticks": ""
             }
            },
            "type": "scattergeo"
           }
          ],
          "scattergl": [
           {
            "marker": {
             "colorbar": {
              "outlinewidth": 0,
              "ticks": ""
             }
            },
            "type": "scattergl"
           }
          ],
          "scattermapbox": [
           {
            "marker": {
             "colorbar": {
              "outlinewidth": 0,
              "ticks": ""
             }
            },
            "type": "scattermapbox"
           }
          ],
          "scatterpolar": [
           {
            "marker": {
             "colorbar": {
              "outlinewidth": 0,
              "ticks": ""
             }
            },
            "type": "scatterpolar"
           }
          ],
          "scatterpolargl": [
           {
            "marker": {
             "colorbar": {
              "outlinewidth": 0,
              "ticks": ""
             }
            },
            "type": "scatterpolargl"
           }
          ],
          "scatterternary": [
           {
            "marker": {
             "colorbar": {
              "outlinewidth": 0,
              "ticks": ""
             }
            },
            "type": "scatterternary"
           }
          ],
          "surface": [
           {
            "colorbar": {
             "outlinewidth": 0,
             "ticks": ""
            },
            "colorscale": [
             [
              0,
              "#0d0887"
             ],
             [
              0.1111111111111111,
              "#46039f"
             ],
             [
              0.2222222222222222,
              "#7201a8"
             ],
             [
              0.3333333333333333,
              "#9c179e"
             ],
             [
              0.4444444444444444,
              "#bd3786"
             ],
             [
              0.5555555555555556,
              "#d8576b"
             ],
             [
              0.6666666666666666,
              "#ed7953"
             ],
             [
              0.7777777777777778,
              "#fb9f3a"
             ],
             [
              0.8888888888888888,
              "#fdca26"
             ],
             [
              1,
              "#f0f921"
             ]
            ],
            "type": "surface"
           }
          ],
          "table": [
           {
            "cells": {
             "fill": {
              "color": "#EBF0F8"
             },
             "line": {
              "color": "white"
             }
            },
            "header": {
             "fill": {
              "color": "#C8D4E3"
             },
             "line": {
              "color": "white"
             }
            },
            "type": "table"
           }
          ]
         },
         "layout": {
          "annotationdefaults": {
           "arrowcolor": "#2a3f5f",
           "arrowhead": 0,
           "arrowwidth": 1
          },
          "autotypenumbers": "strict",
          "coloraxis": {
           "colorbar": {
            "outlinewidth": 0,
            "ticks": ""
           }
          },
          "colorscale": {
           "diverging": [
            [
             0,
             "#8e0152"
            ],
            [
             0.1,
             "#c51b7d"
            ],
            [
             0.2,
             "#de77ae"
            ],
            [
             0.3,
             "#f1b6da"
            ],
            [
             0.4,
             "#fde0ef"
            ],
            [
             0.5,
             "#f7f7f7"
            ],
            [
             0.6,
             "#e6f5d0"
            ],
            [
             0.7,
             "#b8e186"
            ],
            [
             0.8,
             "#7fbc41"
            ],
            [
             0.9,
             "#4d9221"
            ],
            [
             1,
             "#276419"
            ]
           ],
           "sequential": [
            [
             0,
             "#0d0887"
            ],
            [
             0.1111111111111111,
             "#46039f"
            ],
            [
             0.2222222222222222,
             "#7201a8"
            ],
            [
             0.3333333333333333,
             "#9c179e"
            ],
            [
             0.4444444444444444,
             "#bd3786"
            ],
            [
             0.5555555555555556,
             "#d8576b"
            ],
            [
             0.6666666666666666,
             "#ed7953"
            ],
            [
             0.7777777777777778,
             "#fb9f3a"
            ],
            [
             0.8888888888888888,
             "#fdca26"
            ],
            [
             1,
             "#f0f921"
            ]
           ],
           "sequentialminus": [
            [
             0,
             "#0d0887"
            ],
            [
             0.1111111111111111,
             "#46039f"
            ],
            [
             0.2222222222222222,
             "#7201a8"
            ],
            [
             0.3333333333333333,
             "#9c179e"
            ],
            [
             0.4444444444444444,
             "#bd3786"
            ],
            [
             0.5555555555555556,
             "#d8576b"
            ],
            [
             0.6666666666666666,
             "#ed7953"
            ],
            [
             0.7777777777777778,
             "#fb9f3a"
            ],
            [
             0.8888888888888888,
             "#fdca26"
            ],
            [
             1,
             "#f0f921"
            ]
           ]
          },
          "colorway": [
           "#636efa",
           "#EF553B",
           "#00cc96",
           "#ab63fa",
           "#FFA15A",
           "#19d3f3",
           "#FF6692",
           "#B6E880",
           "#FF97FF",
           "#FECB52"
          ],
          "font": {
           "color": "#2a3f5f"
          },
          "geo": {
           "bgcolor": "white",
           "lakecolor": "white",
           "landcolor": "#E5ECF6",
           "showlakes": true,
           "showland": true,
           "subunitcolor": "white"
          },
          "hoverlabel": {
           "align": "left"
          },
          "hovermode": "closest",
          "mapbox": {
           "style": "light"
          },
          "paper_bgcolor": "white",
          "plot_bgcolor": "#E5ECF6",
          "polar": {
           "angularaxis": {
            "gridcolor": "white",
            "linecolor": "white",
            "ticks": ""
           },
           "bgcolor": "#E5ECF6",
           "radialaxis": {
            "gridcolor": "white",
            "linecolor": "white",
            "ticks": ""
           }
          },
          "scene": {
           "xaxis": {
            "backgroundcolor": "#E5ECF6",
            "gridcolor": "white",
            "gridwidth": 2,
            "linecolor": "white",
            "showbackground": true,
            "ticks": "",
            "zerolinecolor": "white"
           },
           "yaxis": {
            "backgroundcolor": "#E5ECF6",
            "gridcolor": "white",
            "gridwidth": 2,
            "linecolor": "white",
            "showbackground": true,
            "ticks": "",
            "zerolinecolor": "white"
           },
           "zaxis": {
            "backgroundcolor": "#E5ECF6",
            "gridcolor": "white",
            "gridwidth": 2,
            "linecolor": "white",
            "showbackground": true,
            "ticks": "",
            "zerolinecolor": "white"
           }
          },
          "shapedefaults": {
           "line": {
            "color": "#2a3f5f"
           }
          },
          "ternary": {
           "aaxis": {
            "gridcolor": "white",
            "linecolor": "white",
            "ticks": ""
           },
           "baxis": {
            "gridcolor": "white",
            "linecolor": "white",
            "ticks": ""
           },
           "bgcolor": "#E5ECF6",
           "caxis": {
            "gridcolor": "white",
            "linecolor": "white",
            "ticks": ""
           }
          },
          "title": {
           "x": 0.05
          },
          "xaxis": {
           "automargin": true,
           "gridcolor": "white",
           "linecolor": "white",
           "ticks": "",
           "title": {
            "standoff": 15
           },
           "zerolinecolor": "white",
           "zerolinewidth": 2
          },
          "yaxis": {
           "automargin": true,
           "gridcolor": "white",
           "linecolor": "white",
           "ticks": "",
           "title": {
            "standoff": 15
           },
           "zerolinecolor": "white",
           "zerolinewidth": 2
          }
         }
        },
        "width": 500
       }
      },
      "image/png": "[encoded data removed]",
      "text/html": [
       "<div>                            <div id=\"9166b165-76a7-4e75-b8fb-a9cd321f0088\" class=\"plotly-graph-div\" style=\"height:500px; width:500px;\"></div>            <script type=\"text/javascript\">                require([\"plotly\"], function(Plotly) {                    window.PLOTLYENV=window.PLOTLYENV || {};                                    if (document.getElementById(\"9166b165-76a7-4e75-b8fb-a9cd321f0088\")) {                    Plotly.newPlot(                        \"9166b165-76a7-4e75-b8fb-a9cd321f0088\",                        [{\"fill\":\"toself\",\"name\":\"Group A\",\"r\":[30.44,16.1,5.39,3.8,0.46,0.32,0.75],\"theta\":[\"MPG\",\"PPG\",\"RPG\",\"APG\",\"FG%\",\"3P%\",\"FT%\"],\"type\":\"scatterpolar\"},{\"fill\":\"toself\",\"name\":\"Group B\",\"r\":[19.88,8.36,3.62,1.72,0.42,0.31,0.76],\"theta\":[\"MPG\",\"PPG\",\"RPG\",\"APG\",\"FG%\",\"3P%\",\"FT%\"],\"type\":\"scatterpolar\"},{\"fill\":\"toself\",\"name\":\"Group C\",\"r\":[17.52,7.33,3.26,1.46,0.48,0.3,0.75],\"theta\":[\"MPG\",\"PPG\",\"RPG\",\"APG\",\"FG%\",\"3P%\",\"FT%\"],\"type\":\"scatterpolar\"}],                        {\"template\":{\"data\":{\"histogram2dcontour\":[{\"type\":\"histogram2dcontour\",\"colorbar\":{\"outlinewidth\":0,\"ticks\":\"\"},\"colorscale\":[[0.0,\"#0d0887\"],[0.1111111111111111,\"#46039f\"],[0.2222222222222222,\"#7201a8\"],[0.3333333333333333,\"#9c179e\"],[0.4444444444444444,\"#bd3786\"],[0.5555555555555556,\"#d8576b\"],[0.6666666666666666,\"#ed7953\"],[0.7777777777777778,\"#fb9f3a\"],[0.8888888888888888,\"#fdca26\"],[1.0,\"#f0f921\"]]}],\"choropleth\":[{\"type\":\"choropleth\",\"colorbar\":{\"outlinewidth\":0,\"ticks\":\"\"}}],\"histogram2d\":[{\"type\":\"histogram2d\",\"colorbar\":{\"outlinewidth\":0,\"ticks\":\"\"},\"colorscale\":[[0.0,\"#0d0887\"],[0.1111111111111111,\"#46039f\"],[0.2222222222222222,\"#7201a8\"],[0.3333333333333333,\"#9c179e\"],[0.4444444444444444,\"#bd3786\"],[0.5555555555555556,\"#d8576b\"],[0.6666666666666666,\"#ed7953\"],[0.7777777777777778,\"#fb9f3a\"],[0.8888888888888888,\"#fdca26\"],[1.0,\"#f0f921\"]]}],\"heatmap\":[{\"type\":\"heatmap\",\"colorbar\":{\"outlinewidth\":0,\"ticks\":\"\"},\"colorscale\":[[0.0,\"#0d0887\"],[0.1111111111111111,\"#46039f\"],[0.2222222222222222,\"#7201a8\"],[0.3333333333333333,\"#9c179e\"],[0.4444444444444444,\"#bd3786\"],[0.5555555555555556,\"#d8576b\"],[0.6666666666666666,\"#ed7953\"],[0.7777777777777778,\"#fb9f3a\"],[0.8888888888888888,\"#fdca26\"],[1.0,\"#f0f921\"]]}],\"heatmapgl\":[{\"type\":\"heatmapgl\",\"colorbar\":{\"outlinewidth\":0,\"ticks\":\"\"},\"colorscale\":[[0.0,\"#0d0887\"],[0.1111111111111111,\"#46039f\"],[0.2222222222222222,\"#7201a8\"],[0.3333333333333333,\"#9c179e\"],[0.4444444444444444,\"#bd3786\"],[0.5555555555555556,\"#d8576b\"],[0.6666666666666666,\"#ed7953\"],[0.7777777777777778,\"#fb9f3a\"],[0.8888888888888888,\"#fdca26\"],[1.0,\"#f0f921\"]]}],\"contourcarpet\":[{\"type\":\"contourcarpet\",\"colorbar\":{\"outlinewidth\":0,\"ticks\":\"\"}}],\"contour\":[{\"type\":\"contour\",\"colorbar\":{\"outlinewidth\":0,\"ticks\":\"\"},\"colorscale\":[[0.0,\"#0d0887\"],[0.1111111111111111,\"#46039f\"],[0.2222222222222222,\"#7201a8\"],[0.3333333333333333,\"#9c179e\"],[0.4444444444444444,\"#bd3786\"],[0.5555555555555556,\"#d8576b\"],[0.6666666666666666,\"#ed7953\"],[0.7777777777777778,\"#fb9f3a\"],[0.8888888888888888,\"#fdca26\"],[1.0,\"#f0f921\"]]}],\"surface\":[{\"type\":\"surface\",\"colorbar\":{\"outlinewidth\":0,\"ticks\":\"\"},\"colorscale\":[[0.0,\"#0d0887\"],[0.1111111111111111,\"#46039f\"],[0.2222222222222222,\"#7201a8\"],[0.3333333333333333,\"#9c179e\"],[0.4444444444444444,\"#bd3786\"],[0.5555555555555556,\"#d8576b\"],[0.6666666666666666,\"#ed7953\"],[0.7777777777777778,\"#fb9f3a\"],[0.8888888888888888,\"#fdca26\"],[1.0,\"#f0f921\"]]}],\"mesh3d\":[{\"type\":\"mesh3d\",\"colorbar\":{\"outlinewidth\":0,\"ticks\":\"\"}}],\"scatter\":[{\"fillpattern\":{\"fillmode\":\"overlay\",\"size\":10,\"solidity\":0.2},\"type\":\"scatter\"}],\"parcoords\":[{\"type\":\"parcoords\",\"line\":{\"colorbar\":{\"outlinewidth\":0,\"ticks\":\"\"}}}],\"scatterpolargl\":[{\"type\":\"scatterpolargl\",\"marker\":{\"colorbar\":{\"outlinewidth\":0,\"ticks\":\"\"}}}],\"bar\":[{\"error_x\":{\"color\":\"#2a3f5f\"},\"error_y\":{\"color\":\"#2a3f5f\"},\"marker\":{\"line\":{\"color\":\"#E5ECF6\",\"width\":0.5},\"pattern\":{\"fillmode\":\"overlay\",\"size\":10,\"solidity\":0.2}},\"type\":\"bar\"}],\"scattergeo\":[{\"type\":\"scattergeo\",\"marker\":{\"colorbar\":{\"outlinewidth\":0,\"ticks\":\"\"}}}],\"scatterpolar\":[{\"type\":\"scatterpolar\",\"marker\":{\"colorbar\":{\"outlinewidth\":0,\"ticks\":\"\"}}}],\"histogram\":[{\"marker\":{\"pattern\":{\"fillmode\":\"overlay\",\"size\":10,\"solidity\":0.2}},\"type\":\"histogram\"}],\"scattergl\":[{\"type\":\"scattergl\",\"marker\":{\"colorbar\":{\"outlinewidth\":0,\"ticks\":\"\"}}}],\"scatter3d\":[{\"type\":\"scatter3d\",\"line\":{\"colorbar\":{\"outlinewidth\":0,\"ticks\":\"\"}},\"marker\":{\"colorbar\":{\"outlinewidth\":0,\"ticks\":\"\"}}}],\"scattermapbox\":[{\"type\":\"scattermapbox\",\"marker\":{\"colorbar\":{\"outlinewidth\":0,\"ticks\":\"\"}}}],\"scatterternary\":[{\"type\":\"scatterternary\",\"marker\":{\"colorbar\":{\"outlinewidth\":0,\"ticks\":\"\"}}}],\"scattercarpet\":[{\"type\":\"scattercarpet\",\"marker\":{\"colorbar\":{\"outlinewidth\":0,\"ticks\":\"\"}}}],\"carpet\":[{\"aaxis\":{\"endlinecolor\":\"#2a3f5f\",\"gridcolor\":\"white\",\"linecolor\":\"white\",\"minorgridcolor\":\"white\",\"startlinecolor\":\"#2a3f5f\"},\"baxis\":{\"endlinecolor\":\"#2a3f5f\",\"gridcolor\":\"white\",\"linecolor\":\"white\",\"minorgridcolor\":\"white\",\"startlinecolor\":\"#2a3f5f\"},\"type\":\"carpet\"}],\"table\":[{\"cells\":{\"fill\":{\"color\":\"#EBF0F8\"},\"line\":{\"color\":\"white\"}},\"header\":{\"fill\":{\"color\":\"#C8D4E3\"},\"line\":{\"color\":\"white\"}},\"type\":\"table\"}],\"barpolar\":[{\"marker\":{\"line\":{\"color\":\"#E5ECF6\",\"width\":0.5},\"pattern\":{\"fillmode\":\"overlay\",\"size\":10,\"solidity\":0.2}},\"type\":\"barpolar\"}],\"pie\":[{\"automargin\":true,\"type\":\"pie\"}]},\"layout\":{\"autotypenumbers\":\"strict\",\"colorway\":[\"#636efa\",\"#EF553B\",\"#00cc96\",\"#ab63fa\",\"#FFA15A\",\"#19d3f3\",\"#FF6692\",\"#B6E880\",\"#FF97FF\",\"#FECB52\"],\"font\":{\"color\":\"#2a3f5f\"},\"hovermode\":\"closest\",\"hoverlabel\":{\"align\":\"left\"},\"paper_bgcolor\":\"white\",\"plot_bgcolor\":\"#E5ECF6\",\"polar\":{\"bgcolor\":\"#E5ECF6\",\"angularaxis\":{\"gridcolor\":\"white\",\"linecolor\":\"white\",\"ticks\":\"\"},\"radialaxis\":{\"gridcolor\":\"white\",\"linecolor\":\"white\",\"ticks\":\"\"}},\"ternary\":{\"bgcolor\":\"#E5ECF6\",\"aaxis\":{\"gridcolor\":\"white\",\"linecolor\":\"white\",\"ticks\":\"\"},\"baxis\":{\"gridcolor\":\"white\",\"linecolor\":\"white\",\"ticks\":\"\"},\"caxis\":{\"gridcolor\":\"white\",\"linecolor\":\"white\",\"ticks\":\"\"}},\"coloraxis\":{\"colorbar\":{\"outlinewidth\":0,\"ticks\":\"\"}},\"colorscale\":{\"sequential\":[[0.0,\"#0d0887\"],[0.1111111111111111,\"#46039f\"],[0.2222222222222222,\"#7201a8\"],[0.3333333333333333,\"#9c179e\"],[0.4444444444444444,\"#bd3786\"],[0.5555555555555556,\"#d8576b\"],[0.6666666666666666,\"#ed7953\"],[0.7777777777777778,\"#fb9f3a\"],[0.8888888888888888,\"#fdca26\"],[1.0,\"#f0f921\"]],\"sequentialminus\":[[0.0,\"#0d0887\"],[0.1111111111111111,\"#46039f\"],[0.2222222222222222,\"#7201a8\"],[0.3333333333333333,\"#9c179e\"],[0.4444444444444444,\"#bd3786\"],[0.5555555555555556,\"#d8576b\"],[0.6666666666666666,\"#ed7953\"],[0.7777777777777778,\"#fb9f3a\"],[0.8888888888888888,\"#fdca26\"],[1.0,\"#f0f921\"]],\"diverging\":[[0,\"#8e0152\"],[0.1,\"#c51b7d\"],[0.2,\"#de77ae\"],[0.3,\"#f1b6da\"],[0.4,\"#fde0ef\"],[0.5,\"#f7f7f7\"],[0.6,\"#e6f5d0\"],[0.7,\"#b8e186\"],[0.8,\"#7fbc41\"],[0.9,\"#4d9221\"],[1,\"#276419\"]]},\"xaxis\":{\"gridcolor\":\"white\",\"linecolor\":\"white\",\"ticks\":\"\",\"title\":{\"standoff\":15},\"zerolinecolor\":\"white\",\"automargin\":true,\"zerolinewidth\":2},\"yaxis\":{\"gridcolor\":\"white\",\"linecolor\":\"white\",\"ticks\":\"\",\"title\":{\"standoff\":15},\"zerolinecolor\":\"white\",\"automargin\":true,\"zerolinewidth\":2},\"scene\":{\"xaxis\":{\"backgroundcolor\":\"#E5ECF6\",\"gridcolor\":\"white\",\"linecolor\":\"white\",\"showbackground\":true,\"ticks\":\"\",\"zerolinecolor\":\"white\",\"gridwidth\":2},\"yaxis\":{\"backgroundcolor\":\"#E5ECF6\",\"gridcolor\":\"white\",\"linecolor\":\"white\",\"showbackground\":true,\"ticks\":\"\",\"zerolinecolor\":\"white\",\"gridwidth\":2},\"zaxis\":{\"backgroundcolor\":\"#E5ECF6\",\"gridcolor\":\"white\",\"linecolor\":\"white\",\"showbackground\":true,\"ticks\":\"\",\"zerolinecolor\":\"white\",\"gridwidth\":2}},\"shapedefaults\":{\"line\":{\"color\":\"#2a3f5f\"}},\"annotationdefaults\":{\"arrowcolor\":\"#2a3f5f\",\"arrowhead\":0,\"arrowwidth\":1},\"geo\":{\"bgcolor\":\"white\",\"landcolor\":\"#E5ECF6\",\"subunitcolor\":\"white\",\"showland\":true,\"showlakes\":true,\"lakecolor\":\"white\"},\"title\":{\"x\":0.05},\"mapbox\":{\"style\":\"light\"}}},\"polar\":{\"radialaxis\":{\"visible\":true,\"range\":[0,35]}},\"showlegend\":true,\"width\":500,\"height\":500},                        {\"responsive\": true}                    ).then(function(){\n",
       "                            \n",
       "var gd = document.getElementById('9166b165-76a7-4e75-b8fb-a9cd321f0088');\n",
       "var x = new MutationObserver(function (mutations, observer) {{\n",
       "        var display = window.getComputedStyle(gd).display;\n",
       "        if (!display || display === 'none') {{\n",
       "            console.log([gd, 'removed!']);\n",
       "            Plotly.purge(gd);\n",
       "            observer.disconnect();\n",
       "        }}\n",
       "}});\n",
       "\n",
       "// Listen for the removal of the full notebook cells\n",
       "var notebookContainer = gd.closest('#notebook-container');\n",
       "if (notebookContainer) {{\n",
       "    x.observe(notebookContainer, {childList: true});\n",
       "}}\n",
       "\n",
       "// Listen for the clearing of the current output cell\n",
       "var outputEl = gd.closest('.output');\n",
       "if (outputEl) {{\n",
       "    x.observe(outputEl, {childList: true});\n",
       "}}\n",
       "\n",
       "                        })                };                });            </script>        </div>"
      ]
     },
     "metadata": {},
     "output_type": "display_data"
    }
   ],
   "source": [
    "categories = ['MPG','PPG', 'RPG', 'APG','FG%', '3P%','FT%']\n",
    "fig = go.Figure()\n",
    "fig.add_trace(go.Scatterpolar(\n",
    "    r = [30.44, 16.10, 5.39, 3.80,0.46,0.32,0.75],\n",
    "    theta = categories,\n",
    "    fill='toself',\n",
    "    name= 'Group A'\n",
    "))\n",
    "\n",
    "fig.add_trace(go.Scatterpolar(\n",
    "    r = [19.88,8.36,3.62,1.72,0.42,0.31,0.76],\n",
    "    theta = categories,\n",
    "    fill='toself',\n",
    "    name= 'Group B'\n",
    "))\n",
    "\n",
    "fig.add_trace(go.Scatterpolar(\n",
    "    r = [17.52,7.33,3.26,1.46,0.48,0.30,0.75],\n",
    "    theta = categories,\n",
    "    fill='toself',\n",
    "    name= 'Group C'\n",
    "))\n",
    "\n",
    "fig.update_layout(\n",
    "    polar=dict(\n",
    "        radialaxis=dict(\n",
    "          visible=True,\n",
    "          range=[0,35]\n",
    "        )),\n",
    "    showlegend=True,\n",
    "    width = 500,\n",
    "    height = 500\n",
    ")\n",
    "    \n",
    "fig.show()"
   ]
  },
  {
   "cell_type": "code",
   "execution_count": null,
   "id": "c569f02f-a365-455c-a383-2fd8aab04f0c",
   "metadata": {},
   "outputs": [],
   "source": []
  },
  {
   "cell_type": "code",
   "execution_count": 111,
   "id": "46f711cb-8a26-42ba-992a-238084ad4594",
   "metadata": {},
   "outputs": [
    {
     "data": {
      "application/vnd.plotly.v1+json": {
       "config": {
        "plotlyServerURL": "https://plot.ly"
       },
       "data": [
        {
         "fill": "toself",
         "name": "Group A",
         "r": [
          30.44,
          16.1,
          5.39,
          3.8
         ],
         "theta": [
          "MPG",
          "PPG",
          "RPG",
          "APG"
         ],
         "type": "scatterpolar"
        },
        {
         "fill": "toself",
         "name": "Group B",
         "r": [
          19.88,
          8.36,
          3.62,
          1.72
         ],
         "theta": [
          "MPG",
          "PPG",
          "RPG",
          "APG"
         ],
         "type": "scatterpolar"
        },
        {
         "fill": "toself",
         "name": "Group C",
         "r": [
          17.52,
          7.33,
          3.26,
          1.46
         ],
         "theta": [
          "MPG",
          "PPG",
          "RPG",
          "APG"
         ],
         "type": "scatterpolar"
        }
       ],
       "layout": {
        "height": 500,
        "polar": {
         "angularaxis": {
          "type": "category"
         },
         "radialaxis": {
          "autorange": false,
          "range": [
           0,
           35
          ],
          "type": "linear",
          "visible": true
         }
        },
        "showlegend": true,
        "template": {
         "data": {
          "bar": [
           {
            "error_x": {
             "color": "#2a3f5f"
            },
            "error_y": {
             "color": "#2a3f5f"
            },
            "marker": {
             "line": {
              "color": "#E5ECF6",
              "width": 0.5
             },
             "pattern": {
              "fillmode": "overlay",
              "size": 10,
              "solidity": 0.2
             }
            },
            "type": "bar"
           }
          ],
          "barpolar": [
           {
            "marker": {
             "line": {
              "color": "#E5ECF6",
              "width": 0.5
             },
             "pattern": {
              "fillmode": "overlay",
              "size": 10,
              "solidity": 0.2
             }
            },
            "type": "barpolar"
           }
          ],
          "carpet": [
           {
            "aaxis": {
             "endlinecolor": "#2a3f5f",
             "gridcolor": "white",
             "linecolor": "white",
             "minorgridcolor": "white",
             "startlinecolor": "#2a3f5f"
            },
            "baxis": {
             "endlinecolor": "#2a3f5f",
             "gridcolor": "white",
             "linecolor": "white",
             "minorgridcolor": "white",
             "startlinecolor": "#2a3f5f"
            },
            "type": "carpet"
           }
          ],
          "choropleth": [
           {
            "colorbar": {
             "outlinewidth": 0,
             "ticks": ""
            },
            "type": "choropleth"
           }
          ],
          "contour": [
           {
            "colorbar": {
             "outlinewidth": 0,
             "ticks": ""
            },
            "colorscale": [
             [
              0,
              "#0d0887"
             ],
             [
              0.1111111111111111,
              "#46039f"
             ],
             [
              0.2222222222222222,
              "#7201a8"
             ],
             [
              0.3333333333333333,
              "#9c179e"
             ],
             [
              0.4444444444444444,
              "#bd3786"
             ],
             [
              0.5555555555555556,
              "#d8576b"
             ],
             [
              0.6666666666666666,
              "#ed7953"
             ],
             [
              0.7777777777777778,
              "#fb9f3a"
             ],
             [
              0.8888888888888888,
              "#fdca26"
             ],
             [
              1,
              "#f0f921"
             ]
            ],
            "type": "contour"
           }
          ],
          "contourcarpet": [
           {
            "colorbar": {
             "outlinewidth": 0,
             "ticks": ""
            },
            "type": "contourcarpet"
           }
          ],
          "heatmap": [
           {
            "colorbar": {
             "outlinewidth": 0,
             "ticks": ""
            },
            "colorscale": [
             [
              0,
              "#0d0887"
             ],
             [
              0.1111111111111111,
              "#46039f"
             ],
             [
              0.2222222222222222,
              "#7201a8"
             ],
             [
              0.3333333333333333,
              "#9c179e"
             ],
             [
              0.4444444444444444,
              "#bd3786"
             ],
             [
              0.5555555555555556,
              "#d8576b"
             ],
             [
              0.6666666666666666,
              "#ed7953"
             ],
             [
              0.7777777777777778,
              "#fb9f3a"
             ],
             [
              0.8888888888888888,
              "#fdca26"
             ],
             [
              1,
              "#f0f921"
             ]
            ],
            "type": "heatmap"
           }
          ],
          "heatmapgl": [
           {
            "colorbar": {
             "outlinewidth": 0,
             "ticks": ""
            },
            "colorscale": [
             [
              0,
              "#0d0887"
             ],
             [
              0.1111111111111111,
              "#46039f"
             ],
             [
              0.2222222222222222,
              "#7201a8"
             ],
             [
              0.3333333333333333,
              "#9c179e"
             ],
             [
              0.4444444444444444,
              "#bd3786"
             ],
             [
              0.5555555555555556,
              "#d8576b"
             ],
             [
              0.6666666666666666,
              "#ed7953"
             ],
             [
              0.7777777777777778,
              "#fb9f3a"
             ],
             [
              0.8888888888888888,
              "#fdca26"
             ],
             [
              1,
              "#f0f921"
             ]
            ],
            "type": "heatmapgl"
           }
          ],
          "histogram": [
           {
            "marker": {
             "pattern": {
              "fillmode": "overlay",
              "size": 10,
              "solidity": 0.2
             }
            },
            "type": "histogram"
           }
          ],
          "histogram2d": [
           {
            "colorbar": {
             "outlinewidth": 0,
             "ticks": ""
            },
            "colorscale": [
             [
              0,
              "#0d0887"
             ],
             [
              0.1111111111111111,
              "#46039f"
             ],
             [
              0.2222222222222222,
              "#7201a8"
             ],
             [
              0.3333333333333333,
              "#9c179e"
             ],
             [
              0.4444444444444444,
              "#bd3786"
             ],
             [
              0.5555555555555556,
              "#d8576b"
             ],
             [
              0.6666666666666666,
              "#ed7953"
             ],
             [
              0.7777777777777778,
              "#fb9f3a"
             ],
             [
              0.8888888888888888,
              "#fdca26"
             ],
             [
              1,
              "#f0f921"
             ]
            ],
            "type": "histogram2d"
           }
          ],
          "histogram2dcontour": [
           {
            "colorbar": {
             "outlinewidth": 0,
             "ticks": ""
            },
            "colorscale": [
             [
              0,
              "#0d0887"
             ],
             [
              0.1111111111111111,
              "#46039f"
             ],
             [
              0.2222222222222222,
              "#7201a8"
             ],
             [
              0.3333333333333333,
              "#9c179e"
             ],
             [
              0.4444444444444444,
              "#bd3786"
             ],
             [
              0.5555555555555556,
              "#d8576b"
             ],
             [
              0.6666666666666666,
              "#ed7953"
             ],
             [
              0.7777777777777778,
              "#fb9f3a"
             ],
             [
              0.8888888888888888,
              "#fdca26"
             ],
             [
              1,
              "#f0f921"
             ]
            ],
            "type": "histogram2dcontour"
           }
          ],
          "mesh3d": [
           {
            "colorbar": {
             "outlinewidth": 0,
             "ticks": ""
            },
            "type": "mesh3d"
           }
          ],
          "parcoords": [
           {
            "line": {
             "colorbar": {
              "outlinewidth": 0,
              "ticks": ""
             }
            },
            "type": "parcoords"
           }
          ],
          "pie": [
           {
            "automargin": true,
            "type": "pie"
           }
          ],
          "scatter": [
           {
            "fillpattern": {
             "fillmode": "overlay",
             "size": 10,
             "solidity": 0.2
            },
            "type": "scatter"
           }
          ],
          "scatter3d": [
           {
            "line": {
             "colorbar": {
              "outlinewidth": 0,
              "ticks": ""
             }
            },
            "marker": {
             "colorbar": {
              "outlinewidth": 0,
              "ticks": ""
             }
            },
            "type": "scatter3d"
           }
          ],
          "scattercarpet": [
           {
            "marker": {
             "colorbar": {
              "outlinewidth": 0,
              "ticks": ""
             }
            },
            "type": "scattercarpet"
           }
          ],
          "scattergeo": [
           {
            "marker": {
             "colorbar": {
              "outlinewidth": 0,
              "ticks": ""
             }
            },
            "type": "scattergeo"
           }
          ],
          "scattergl": [
           {
            "marker": {
             "colorbar": {
              "outlinewidth": 0,
              "ticks": ""
             }
            },
            "type": "scattergl"
           }
          ],
          "scattermapbox": [
           {
            "marker": {
             "colorbar": {
              "outlinewidth": 0,
              "ticks": ""
             }
            },
            "type": "scattermapbox"
           }
          ],
          "scatterpolar": [
           {
            "marker": {
             "colorbar": {
              "outlinewidth": 0,
              "ticks": ""
             }
            },
            "type": "scatterpolar"
           }
          ],
          "scatterpolargl": [
           {
            "marker": {
             "colorbar": {
              "outlinewidth": 0,
              "ticks": ""
             }
            },
            "type": "scatterpolargl"
           }
          ],
          "scatterternary": [
           {
            "marker": {
             "colorbar": {
              "outlinewidth": 0,
              "ticks": ""
             }
            },
            "type": "scatterternary"
           }
          ],
          "surface": [
           {
            "colorbar": {
             "outlinewidth": 0,
             "ticks": ""
            },
            "colorscale": [
             [
              0,
              "#0d0887"
             ],
             [
              0.1111111111111111,
              "#46039f"
             ],
             [
              0.2222222222222222,
              "#7201a8"
             ],
             [
              0.3333333333333333,
              "#9c179e"
             ],
             [
              0.4444444444444444,
              "#bd3786"
             ],
             [
              0.5555555555555556,
              "#d8576b"
             ],
             [
              0.6666666666666666,
              "#ed7953"
             ],
             [
              0.7777777777777778,
              "#fb9f3a"
             ],
             [
              0.8888888888888888,
              "#fdca26"
             ],
             [
              1,
              "#f0f921"
             ]
            ],
            "type": "surface"
           }
          ],
          "table": [
           {
            "cells": {
             "fill": {
              "color": "#EBF0F8"
             },
             "line": {
              "color": "white"
             }
            },
            "header": {
             "fill": {
              "color": "#C8D4E3"
             },
             "line": {
              "color": "white"
             }
            },
            "type": "table"
           }
          ]
         },
         "layout": {
          "annotationdefaults": {
           "arrowcolor": "#2a3f5f",
           "arrowhead": 0,
           "arrowwidth": 1
          },
          "autotypenumbers": "strict",
          "coloraxis": {
           "colorbar": {
            "outlinewidth": 0,
            "ticks": ""
           }
          },
          "colorscale": {
           "diverging": [
            [
             0,
             "#8e0152"
            ],
            [
             0.1,
             "#c51b7d"
            ],
            [
             0.2,
             "#de77ae"
            ],
            [
             0.3,
             "#f1b6da"
            ],
            [
             0.4,
             "#fde0ef"
            ],
            [
             0.5,
             "#f7f7f7"
            ],
            [
             0.6,
             "#e6f5d0"
            ],
            [
             0.7,
             "#b8e186"
            ],
            [
             0.8,
             "#7fbc41"
            ],
            [
             0.9,
             "#4d9221"
            ],
            [
             1,
             "#276419"
            ]
           ],
           "sequential": [
            [
             0,
             "#0d0887"
            ],
            [
             0.1111111111111111,
             "#46039f"
            ],
            [
             0.2222222222222222,
             "#7201a8"
            ],
            [
             0.3333333333333333,
             "#9c179e"
            ],
            [
             0.4444444444444444,
             "#bd3786"
            ],
            [
             0.5555555555555556,
             "#d8576b"
            ],
            [
             0.6666666666666666,
             "#ed7953"
            ],
            [
             0.7777777777777778,
             "#fb9f3a"
            ],
            [
             0.8888888888888888,
             "#fdca26"
            ],
            [
             1,
             "#f0f921"
            ]
           ],
           "sequentialminus": [
            [
             0,
             "#0d0887"
            ],
            [
             0.1111111111111111,
             "#46039f"
            ],
            [
             0.2222222222222222,
             "#7201a8"
            ],
            [
             0.3333333333333333,
             "#9c179e"
            ],
            [
             0.4444444444444444,
             "#bd3786"
            ],
            [
             0.5555555555555556,
             "#d8576b"
            ],
            [
             0.6666666666666666,
             "#ed7953"
            ],
            [
             0.7777777777777778,
             "#fb9f3a"
            ],
            [
             0.8888888888888888,
             "#fdca26"
            ],
            [
             1,
             "#f0f921"
            ]
           ]
          },
          "colorway": [
           "#636efa",
           "#EF553B",
           "#00cc96",
           "#ab63fa",
           "#FFA15A",
           "#19d3f3",
           "#FF6692",
           "#B6E880",
           "#FF97FF",
           "#FECB52"
          ],
          "font": {
           "color": "#2a3f5f"
          },
          "geo": {
           "bgcolor": "white",
           "lakecolor": "white",
           "landcolor": "#E5ECF6",
           "showlakes": true,
           "showland": true,
           "subunitcolor": "white"
          },
          "hoverlabel": {
           "align": "left"
          },
          "hovermode": "closest",
          "mapbox": {
           "style": "light"
          },
          "paper_bgcolor": "white",
          "plot_bgcolor": "#E5ECF6",
          "polar": {
           "angularaxis": {
            "gridcolor": "white",
            "linecolor": "white",
            "ticks": ""
           },
           "bgcolor": "#E5ECF6",
           "radialaxis": {
            "gridcolor": "white",
            "linecolor": "white",
            "ticks": ""
           }
          },
          "scene": {
           "xaxis": {
            "backgroundcolor": "#E5ECF6",
            "gridcolor": "white",
            "gridwidth": 2,
            "linecolor": "white",
            "showbackground": true,
            "ticks": "",
            "zerolinecolor": "white"
           },
           "yaxis": {
            "backgroundcolor": "#E5ECF6",
            "gridcolor": "white",
            "gridwidth": 2,
            "linecolor": "white",
            "showbackground": true,
            "ticks": "",
            "zerolinecolor": "white"
           },
           "zaxis": {
            "backgroundcolor": "#E5ECF6",
            "gridcolor": "white",
            "gridwidth": 2,
            "linecolor": "white",
            "showbackground": true,
            "ticks": "",
            "zerolinecolor": "white"
           }
          },
          "shapedefaults": {
           "line": {
            "color": "#2a3f5f"
           }
          },
          "ternary": {
           "aaxis": {
            "gridcolor": "white",
            "linecolor": "white",
            "ticks": ""
           },
           "baxis": {
            "gridcolor": "white",
            "linecolor": "white",
            "ticks": ""
           },
           "bgcolor": "#E5ECF6",
           "caxis": {
            "gridcolor": "white",
            "linecolor": "white",
            "ticks": ""
           }
          },
          "title": {
           "x": 0.05
          },
          "xaxis": {
           "automargin": true,
           "gridcolor": "white",
           "linecolor": "white",
           "ticks": "",
           "title": {
            "standoff": 15
           },
           "zerolinecolor": "white",
           "zerolinewidth": 2
          },
          "yaxis": {
           "automargin": true,
           "gridcolor": "white",
           "linecolor": "white",
           "ticks": "",
           "title": {
            "standoff": 15
           },
           "zerolinecolor": "white",
           "zerolinewidth": 2
          }
         }
        },
        "width": 500
       }
      },
      "image/png": "[encoded data removed]",
      "text/html": [
       "<div>                            <div id=\"dcf886ae-4b2b-481c-a799-648a18065eb5\" class=\"plotly-graph-div\" style=\"height:500px; width:500px;\"></div>            <script type=\"text/javascript\">                require([\"plotly\"], function(Plotly) {                    window.PLOTLYENV=window.PLOTLYENV || {};                                    if (document.getElementById(\"dcf886ae-4b2b-481c-a799-648a18065eb5\")) {                    Plotly.newPlot(                        \"dcf886ae-4b2b-481c-a799-648a18065eb5\",                        [{\"fill\":\"toself\",\"name\":\"Group A\",\"r\":[30.44,16.1,5.39,3.8],\"theta\":[\"MPG\",\"PPG\",\"RPG\",\"APG\"],\"type\":\"scatterpolar\"},{\"fill\":\"toself\",\"name\":\"Group B\",\"r\":[19.88,8.36,3.62,1.72],\"theta\":[\"MPG\",\"PPG\",\"RPG\",\"APG\"],\"type\":\"scatterpolar\"},{\"fill\":\"toself\",\"name\":\"Group C\",\"r\":[17.52,7.33,3.26,1.46],\"theta\":[\"MPG\",\"PPG\",\"RPG\",\"APG\"],\"type\":\"scatterpolar\"}],                        {\"template\":{\"data\":{\"histogram2dcontour\":[{\"type\":\"histogram2dcontour\",\"colorbar\":{\"outlinewidth\":0,\"ticks\":\"\"},\"colorscale\":[[0.0,\"#0d0887\"],[0.1111111111111111,\"#46039f\"],[0.2222222222222222,\"#7201a8\"],[0.3333333333333333,\"#9c179e\"],[0.4444444444444444,\"#bd3786\"],[0.5555555555555556,\"#d8576b\"],[0.6666666666666666,\"#ed7953\"],[0.7777777777777778,\"#fb9f3a\"],[0.8888888888888888,\"#fdca26\"],[1.0,\"#f0f921\"]]}],\"choropleth\":[{\"type\":\"choropleth\",\"colorbar\":{\"outlinewidth\":0,\"ticks\":\"\"}}],\"histogram2d\":[{\"type\":\"histogram2d\",\"colorbar\":{\"outlinewidth\":0,\"ticks\":\"\"},\"colorscale\":[[0.0,\"#0d0887\"],[0.1111111111111111,\"#46039f\"],[0.2222222222222222,\"#7201a8\"],[0.3333333333333333,\"#9c179e\"],[0.4444444444444444,\"#bd3786\"],[0.5555555555555556,\"#d8576b\"],[0.6666666666666666,\"#ed7953\"],[0.7777777777777778,\"#fb9f3a\"],[0.8888888888888888,\"#fdca26\"],[1.0,\"#f0f921\"]]}],\"heatmap\":[{\"type\":\"heatmap\",\"colorbar\":{\"outlinewidth\":0,\"ticks\":\"\"},\"colorscale\":[[0.0,\"#0d0887\"],[0.1111111111111111,\"#46039f\"],[0.2222222222222222,\"#7201a8\"],[0.3333333333333333,\"#9c179e\"],[0.4444444444444444,\"#bd3786\"],[0.5555555555555556,\"#d8576b\"],[0.6666666666666666,\"#ed7953\"],[0.7777777777777778,\"#fb9f3a\"],[0.8888888888888888,\"#fdca26\"],[1.0,\"#f0f921\"]]}],\"heatmapgl\":[{\"type\":\"heatmapgl\",\"colorbar\":{\"outlinewidth\":0,\"ticks\":\"\"},\"colorscale\":[[0.0,\"#0d0887\"],[0.1111111111111111,\"#46039f\"],[0.2222222222222222,\"#7201a8\"],[0.3333333333333333,\"#9c179e\"],[0.4444444444444444,\"#bd3786\"],[0.5555555555555556,\"#d8576b\"],[0.6666666666666666,\"#ed7953\"],[0.7777777777777778,\"#fb9f3a\"],[0.8888888888888888,\"#fdca26\"],[1.0,\"#f0f921\"]]}],\"contourcarpet\":[{\"type\":\"contourcarpet\",\"colorbar\":{\"outlinewidth\":0,\"ticks\":\"\"}}],\"contour\":[{\"type\":\"contour\",\"colorbar\":{\"outlinewidth\":0,\"ticks\":\"\"},\"colorscale\":[[0.0,\"#0d0887\"],[0.1111111111111111,\"#46039f\"],[0.2222222222222222,\"#7201a8\"],[0.3333333333333333,\"#9c179e\"],[0.4444444444444444,\"#bd3786\"],[0.5555555555555556,\"#d8576b\"],[0.6666666666666666,\"#ed7953\"],[0.7777777777777778,\"#fb9f3a\"],[0.8888888888888888,\"#fdca26\"],[1.0,\"#f0f921\"]]}],\"surface\":[{\"type\":\"surface\",\"colorbar\":{\"outlinewidth\":0,\"ticks\":\"\"},\"colorscale\":[[0.0,\"#0d0887\"],[0.1111111111111111,\"#46039f\"],[0.2222222222222222,\"#7201a8\"],[0.3333333333333333,\"#9c179e\"],[0.4444444444444444,\"#bd3786\"],[0.5555555555555556,\"#d8576b\"],[0.6666666666666666,\"#ed7953\"],[0.7777777777777778,\"#fb9f3a\"],[0.8888888888888888,\"#fdca26\"],[1.0,\"#f0f921\"]]}],\"mesh3d\":[{\"type\":\"mesh3d\",\"colorbar\":{\"outlinewidth\":0,\"ticks\":\"\"}}],\"scatter\":[{\"fillpattern\":{\"fillmode\":\"overlay\",\"size\":10,\"solidity\":0.2},\"type\":\"scatter\"}],\"parcoords\":[{\"type\":\"parcoords\",\"line\":{\"colorbar\":{\"outlinewidth\":0,\"ticks\":\"\"}}}],\"scatterpolargl\":[{\"type\":\"scatterpolargl\",\"marker\":{\"colorbar\":{\"outlinewidth\":0,\"ticks\":\"\"}}}],\"bar\":[{\"error_x\":{\"color\":\"#2a3f5f\"},\"error_y\":{\"color\":\"#2a3f5f\"},\"marker\":{\"line\":{\"color\":\"#E5ECF6\",\"width\":0.5},\"pattern\":{\"fillmode\":\"overlay\",\"size\":10,\"solidity\":0.2}},\"type\":\"bar\"}],\"scattergeo\":[{\"type\":\"scattergeo\",\"marker\":{\"colorbar\":{\"outlinewidth\":0,\"ticks\":\"\"}}}],\"scatterpolar\":[{\"type\":\"scatterpolar\",\"marker\":{\"colorbar\":{\"outlinewidth\":0,\"ticks\":\"\"}}}],\"histogram\":[{\"marker\":{\"pattern\":{\"fillmode\":\"overlay\",\"size\":10,\"solidity\":0.2}},\"type\":\"histogram\"}],\"scattergl\":[{\"type\":\"scattergl\",\"marker\":{\"colorbar\":{\"outlinewidth\":0,\"ticks\":\"\"}}}],\"scatter3d\":[{\"type\":\"scatter3d\",\"line\":{\"colorbar\":{\"outlinewidth\":0,\"ticks\":\"\"}},\"marker\":{\"colorbar\":{\"outlinewidth\":0,\"ticks\":\"\"}}}],\"scattermapbox\":[{\"type\":\"scattermapbox\",\"marker\":{\"colorbar\":{\"outlinewidth\":0,\"ticks\":\"\"}}}],\"scatterternary\":[{\"type\":\"scatterternary\",\"marker\":{\"colorbar\":{\"outlinewidth\":0,\"ticks\":\"\"}}}],\"scattercarpet\":[{\"type\":\"scattercarpet\",\"marker\":{\"colorbar\":{\"outlinewidth\":0,\"ticks\":\"\"}}}],\"carpet\":[{\"aaxis\":{\"endlinecolor\":\"#2a3f5f\",\"gridcolor\":\"white\",\"linecolor\":\"white\",\"minorgridcolor\":\"white\",\"startlinecolor\":\"#2a3f5f\"},\"baxis\":{\"endlinecolor\":\"#2a3f5f\",\"gridcolor\":\"white\",\"linecolor\":\"white\",\"minorgridcolor\":\"white\",\"startlinecolor\":\"#2a3f5f\"},\"type\":\"carpet\"}],\"table\":[{\"cells\":{\"fill\":{\"color\":\"#EBF0F8\"},\"line\":{\"color\":\"white\"}},\"header\":{\"fill\":{\"color\":\"#C8D4E3\"},\"line\":{\"color\":\"white\"}},\"type\":\"table\"}],\"barpolar\":[{\"marker\":{\"line\":{\"color\":\"#E5ECF6\",\"width\":0.5},\"pattern\":{\"fillmode\":\"overlay\",\"size\":10,\"solidity\":0.2}},\"type\":\"barpolar\"}],\"pie\":[{\"automargin\":true,\"type\":\"pie\"}]},\"layout\":{\"autotypenumbers\":\"strict\",\"colorway\":[\"#636efa\",\"#EF553B\",\"#00cc96\",\"#ab63fa\",\"#FFA15A\",\"#19d3f3\",\"#FF6692\",\"#B6E880\",\"#FF97FF\",\"#FECB52\"],\"font\":{\"color\":\"#2a3f5f\"},\"hovermode\":\"closest\",\"hoverlabel\":{\"align\":\"left\"},\"paper_bgcolor\":\"white\",\"plot_bgcolor\":\"#E5ECF6\",\"polar\":{\"bgcolor\":\"#E5ECF6\",\"angularaxis\":{\"gridcolor\":\"white\",\"linecolor\":\"white\",\"ticks\":\"\"},\"radialaxis\":{\"gridcolor\":\"white\",\"linecolor\":\"white\",\"ticks\":\"\"}},\"ternary\":{\"bgcolor\":\"#E5ECF6\",\"aaxis\":{\"gridcolor\":\"white\",\"linecolor\":\"white\",\"ticks\":\"\"},\"baxis\":{\"gridcolor\":\"white\",\"linecolor\":\"white\",\"ticks\":\"\"},\"caxis\":{\"gridcolor\":\"white\",\"linecolor\":\"white\",\"ticks\":\"\"}},\"coloraxis\":{\"colorbar\":{\"outlinewidth\":0,\"ticks\":\"\"}},\"colorscale\":{\"sequential\":[[0.0,\"#0d0887\"],[0.1111111111111111,\"#46039f\"],[0.2222222222222222,\"#7201a8\"],[0.3333333333333333,\"#9c179e\"],[0.4444444444444444,\"#bd3786\"],[0.5555555555555556,\"#d8576b\"],[0.6666666666666666,\"#ed7953\"],[0.7777777777777778,\"#fb9f3a\"],[0.8888888888888888,\"#fdca26\"],[1.0,\"#f0f921\"]],\"sequentialminus\":[[0.0,\"#0d0887\"],[0.1111111111111111,\"#46039f\"],[0.2222222222222222,\"#7201a8\"],[0.3333333333333333,\"#9c179e\"],[0.4444444444444444,\"#bd3786\"],[0.5555555555555556,\"#d8576b\"],[0.6666666666666666,\"#ed7953\"],[0.7777777777777778,\"#fb9f3a\"],[0.8888888888888888,\"#fdca26\"],[1.0,\"#f0f921\"]],\"diverging\":[[0,\"#8e0152\"],[0.1,\"#c51b7d\"],[0.2,\"#de77ae\"],[0.3,\"#f1b6da\"],[0.4,\"#fde0ef\"],[0.5,\"#f7f7f7\"],[0.6,\"#e6f5d0\"],[0.7,\"#b8e186\"],[0.8,\"#7fbc41\"],[0.9,\"#4d9221\"],[1,\"#276419\"]]},\"xaxis\":{\"gridcolor\":\"white\",\"linecolor\":\"white\",\"ticks\":\"\",\"title\":{\"standoff\":15},\"zerolinecolor\":\"white\",\"automargin\":true,\"zerolinewidth\":2},\"yaxis\":{\"gridcolor\":\"white\",\"linecolor\":\"white\",\"ticks\":\"\",\"title\":{\"standoff\":15},\"zerolinecolor\":\"white\",\"automargin\":true,\"zerolinewidth\":2},\"scene\":{\"xaxis\":{\"backgroundcolor\":\"#E5ECF6\",\"gridcolor\":\"white\",\"linecolor\":\"white\",\"showbackground\":true,\"ticks\":\"\",\"zerolinecolor\":\"white\",\"gridwidth\":2},\"yaxis\":{\"backgroundcolor\":\"#E5ECF6\",\"gridcolor\":\"white\",\"linecolor\":\"white\",\"showbackground\":true,\"ticks\":\"\",\"zerolinecolor\":\"white\",\"gridwidth\":2},\"zaxis\":{\"backgroundcolor\":\"#E5ECF6\",\"gridcolor\":\"white\",\"linecolor\":\"white\",\"showbackground\":true,\"ticks\":\"\",\"zerolinecolor\":\"white\",\"gridwidth\":2}},\"shapedefaults\":{\"line\":{\"color\":\"#2a3f5f\"}},\"annotationdefaults\":{\"arrowcolor\":\"#2a3f5f\",\"arrowhead\":0,\"arrowwidth\":1},\"geo\":{\"bgcolor\":\"white\",\"landcolor\":\"#E5ECF6\",\"subunitcolor\":\"white\",\"showland\":true,\"showlakes\":true,\"lakecolor\":\"white\"},\"title\":{\"x\":0.05},\"mapbox\":{\"style\":\"light\"}}},\"polar\":{\"radialaxis\":{\"visible\":true,\"range\":[0,35]}},\"showlegend\":true,\"width\":500,\"height\":500},                        {\"responsive\": true}                    ).then(function(){\n",
       "                            \n",
       "var gd = document.getElementById('dcf886ae-4b2b-481c-a799-648a18065eb5');\n",
       "var x = new MutationObserver(function (mutations, observer) {{\n",
       "        var display = window.getComputedStyle(gd).display;\n",
       "        if (!display || display === 'none') {{\n",
       "            console.log([gd, 'removed!']);\n",
       "            Plotly.purge(gd);\n",
       "            observer.disconnect();\n",
       "        }}\n",
       "}});\n",
       "\n",
       "// Listen for the removal of the full notebook cells\n",
       "var notebookContainer = gd.closest('#notebook-container');\n",
       "if (notebookContainer) {{\n",
       "    x.observe(notebookContainer, {childList: true});\n",
       "}}\n",
       "\n",
       "// Listen for the clearing of the current output cell\n",
       "var outputEl = gd.closest('.output');\n",
       "if (outputEl) {{\n",
       "    x.observe(outputEl, {childList: true});\n",
       "}}\n",
       "\n",
       "                        })                };                });            </script>        </div>"
      ]
     },
     "metadata": {},
     "output_type": "display_data"
    }
   ],
   "source": [
    "pg_categories = ['MPG','PPG', 'RPG', 'APG']\n",
    "pg_fig = go.Figure()\n",
    "pg_fig.add_trace(go.Scatterpolar(\n",
    "    r = [30.44, 16.10, 5.39, 3.80],\n",
    "    theta = pg_categories,\n",
    "    fill='toself',\n",
    "    name= 'Group A'\n",
    "))\n",
    "\n",
    "pg_fig.add_trace(go.Scatterpolar(\n",
    "    r = [19.88,8.36,3.62,1.72],\n",
    "    theta = pg_categories,\n",
    "    fill='toself',\n",
    "    name= 'Group B'\n",
    "))\n",
    "\n",
    "pg_fig.add_trace(go.Scatterpolar(\n",
    "    r = [17.52,7.33,3.26,1.46],\n",
    "    theta = pg_categories,\n",
    "    fill='toself',\n",
    "    name= 'Group C'\n",
    "))\n",
    "\n",
    "pg_fig.update_layout(\n",
    "    polar=dict(\n",
    "        radialaxis=dict(\n",
    "          visible=True,\n",
    "          range=[0,35]\n",
    "        )),\n",
    "    showlegend=True,\n",
    "    width = 500,\n",
    "    height = 500\n",
    ")\n",
    "    \n",
    "pg_fig.show()"
   ]
  },
  {
   "cell_type": "code",
   "execution_count": null,
   "id": "a0e46f07-db28-4773-b213-e6743509d1fe",
   "metadata": {},
   "outputs": [],
   "source": []
  },
  {
   "cell_type": "code",
   "execution_count": 112,
   "id": "496d652f-7836-4bd9-adea-6d8a8d161a3d",
   "metadata": {},
   "outputs": [
    {
     "data": {
      "application/vnd.plotly.v1+json": {
       "config": {
        "plotlyServerURL": "https://plot.ly"
       },
       "data": [
        {
         "fill": "toself",
         "name": "Group A",
         "r": [
          0.46,
          0.32,
          0.75
         ],
         "theta": [
          "FG%",
          "3P%",
          "FT%"
         ],
         "type": "scatterpolar"
        },
        {
         "fill": "toself",
         "name": "Group B",
         "r": [
          0.42,
          0.31,
          0.76
         ],
         "theta": [
          "FG%",
          "3P%",
          "FT%"
         ],
         "type": "scatterpolar"
        },
        {
         "fill": "toself",
         "name": "Group C",
         "r": [
          0.48,
          0.3,
          0.75
         ],
         "theta": [
          "FG%",
          "3P%",
          "FT%"
         ],
         "type": "scatterpolar"
        }
       ],
       "layout": {
        "height": 500,
        "polar": {
         "angularaxis": {
          "type": "category"
         },
         "radialaxis": {
          "autorange": false,
          "range": [
           0,
           1
          ],
          "type": "linear",
          "visible": true
         }
        },
        "showlegend": true,
        "template": {
         "data": {
          "bar": [
           {
            "error_x": {
             "color": "#2a3f5f"
            },
            "error_y": {
             "color": "#2a3f5f"
            },
            "marker": {
             "line": {
              "color": "#E5ECF6",
              "width": 0.5
             },
             "pattern": {
              "fillmode": "overlay",
              "size": 10,
              "solidity": 0.2
             }
            },
            "type": "bar"
           }
          ],
          "barpolar": [
           {
            "marker": {
             "line": {
              "color": "#E5ECF6",
              "width": 0.5
             },
             "pattern": {
              "fillmode": "overlay",
              "size": 10,
              "solidity": 0.2
             }
            },
            "type": "barpolar"
           }
          ],
          "carpet": [
           {
            "aaxis": {
             "endlinecolor": "#2a3f5f",
             "gridcolor": "white",
             "linecolor": "white",
             "minorgridcolor": "white",
             "startlinecolor": "#2a3f5f"
            },
            "baxis": {
             "endlinecolor": "#2a3f5f",
             "gridcolor": "white",
             "linecolor": "white",
             "minorgridcolor": "white",
             "startlinecolor": "#2a3f5f"
            },
            "type": "carpet"
           }
          ],
          "choropleth": [
           {
            "colorbar": {
             "outlinewidth": 0,
             "ticks": ""
            },
            "type": "choropleth"
           }
          ],
          "contour": [
           {
            "colorbar": {
             "outlinewidth": 0,
             "ticks": ""
            },
            "colorscale": [
             [
              0,
              "#0d0887"
             ],
             [
              0.1111111111111111,
              "#46039f"
             ],
             [
              0.2222222222222222,
              "#7201a8"
             ],
             [
              0.3333333333333333,
              "#9c179e"
             ],
             [
              0.4444444444444444,
              "#bd3786"
             ],
             [
              0.5555555555555556,
              "#d8576b"
             ],
             [
              0.6666666666666666,
              "#ed7953"
             ],
             [
              0.7777777777777778,
              "#fb9f3a"
             ],
             [
              0.8888888888888888,
              "#fdca26"
             ],
             [
              1,
              "#f0f921"
             ]
            ],
            "type": "contour"
           }
          ],
          "contourcarpet": [
           {
            "colorbar": {
             "outlinewidth": 0,
             "ticks": ""
            },
            "type": "contourcarpet"
           }
          ],
          "heatmap": [
           {
            "colorbar": {
             "outlinewidth": 0,
             "ticks": ""
            },
            "colorscale": [
             [
              0,
              "#0d0887"
             ],
             [
              0.1111111111111111,
              "#46039f"
             ],
             [
              0.2222222222222222,
              "#7201a8"
             ],
             [
              0.3333333333333333,
              "#9c179e"
             ],
             [
              0.4444444444444444,
              "#bd3786"
             ],
             [
              0.5555555555555556,
              "#d8576b"
             ],
             [
              0.6666666666666666,
              "#ed7953"
             ],
             [
              0.7777777777777778,
              "#fb9f3a"
             ],
             [
              0.8888888888888888,
              "#fdca26"
             ],
             [
              1,
              "#f0f921"
             ]
            ],
            "type": "heatmap"
           }
          ],
          "heatmapgl": [
           {
            "colorbar": {
             "outlinewidth": 0,
             "ticks": ""
            },
            "colorscale": [
             [
              0,
              "#0d0887"
             ],
             [
              0.1111111111111111,
              "#46039f"
             ],
             [
              0.2222222222222222,
              "#7201a8"
             ],
             [
              0.3333333333333333,
              "#9c179e"
             ],
             [
              0.4444444444444444,
              "#bd3786"
             ],
             [
              0.5555555555555556,
              "#d8576b"
             ],
             [
              0.6666666666666666,
              "#ed7953"
             ],
             [
              0.7777777777777778,
              "#fb9f3a"
             ],
             [
              0.8888888888888888,
              "#fdca26"
             ],
             [
              1,
              "#f0f921"
             ]
            ],
            "type": "heatmapgl"
           }
          ],
          "histogram": [
           {
            "marker": {
             "pattern": {
              "fillmode": "overlay",
              "size": 10,
              "solidity": 0.2
             }
            },
            "type": "histogram"
           }
          ],
          "histogram2d": [
           {
            "colorbar": {
             "outlinewidth": 0,
             "ticks": ""
            },
            "colorscale": [
             [
              0,
              "#0d0887"
             ],
             [
              0.1111111111111111,
              "#46039f"
             ],
             [
              0.2222222222222222,
              "#7201a8"
             ],
             [
              0.3333333333333333,
              "#9c179e"
             ],
             [
              0.4444444444444444,
              "#bd3786"
             ],
             [
              0.5555555555555556,
              "#d8576b"
             ],
             [
              0.6666666666666666,
              "#ed7953"
             ],
             [
              0.7777777777777778,
              "#fb9f3a"
             ],
             [
              0.8888888888888888,
              "#fdca26"
             ],
             [
              1,
              "#f0f921"
             ]
            ],
            "type": "histogram2d"
           }
          ],
          "histogram2dcontour": [
           {
            "colorbar": {
             "outlinewidth": 0,
             "ticks": ""
            },
            "colorscale": [
             [
              0,
              "#0d0887"
             ],
             [
              0.1111111111111111,
              "#46039f"
             ],
             [
              0.2222222222222222,
              "#7201a8"
             ],
             [
              0.3333333333333333,
              "#9c179e"
             ],
             [
              0.4444444444444444,
              "#bd3786"
             ],
             [
              0.5555555555555556,
              "#d8576b"
             ],
             [
              0.6666666666666666,
              "#ed7953"
             ],
             [
              0.7777777777777778,
              "#fb9f3a"
             ],
             [
              0.8888888888888888,
              "#fdca26"
             ],
             [
              1,
              "#f0f921"
             ]
            ],
            "type": "histogram2dcontour"
           }
          ],
          "mesh3d": [
           {
            "colorbar": {
             "outlinewidth": 0,
             "ticks": ""
            },
            "type": "mesh3d"
           }
          ],
          "parcoords": [
           {
            "line": {
             "colorbar": {
              "outlinewidth": 0,
              "ticks": ""
             }
            },
            "type": "parcoords"
           }
          ],
          "pie": [
           {
            "automargin": true,
            "type": "pie"
           }
          ],
          "scatter": [
           {
            "fillpattern": {
             "fillmode": "overlay",
             "size": 10,
             "solidity": 0.2
            },
            "type": "scatter"
           }
          ],
          "scatter3d": [
           {
            "line": {
             "colorbar": {
              "outlinewidth": 0,
              "ticks": ""
             }
            },
            "marker": {
             "colorbar": {
              "outlinewidth": 0,
              "ticks": ""
             }
            },
            "type": "scatter3d"
           }
          ],
          "scattercarpet": [
           {
            "marker": {
             "colorbar": {
              "outlinewidth": 0,
              "ticks": ""
             }
            },
            "type": "scattercarpet"
           }
          ],
          "scattergeo": [
           {
            "marker": {
             "colorbar": {
              "outlinewidth": 0,
              "ticks": ""
             }
            },
            "type": "scattergeo"
           }
          ],
          "scattergl": [
           {
            "marker": {
             "colorbar": {
              "outlinewidth": 0,
              "ticks": ""
             }
            },
            "type": "scattergl"
           }
          ],
          "scattermapbox": [
           {
            "marker": {
             "colorbar": {
              "outlinewidth": 0,
              "ticks": ""
             }
            },
            "type": "scattermapbox"
           }
          ],
          "scatterpolar": [
           {
            "marker": {
             "colorbar": {
              "outlinewidth": 0,
              "ticks": ""
             }
            },
            "type": "scatterpolar"
           }
          ],
          "scatterpolargl": [
           {
            "marker": {
             "colorbar": {
              "outlinewidth": 0,
              "ticks": ""
             }
            },
            "type": "scatterpolargl"
           }
          ],
          "scatterternary": [
           {
            "marker": {
             "colorbar": {
              "outlinewidth": 0,
              "ticks": ""
             }
            },
            "type": "scatterternary"
           }
          ],
          "surface": [
           {
            "colorbar": {
             "outlinewidth": 0,
             "ticks": ""
            },
            "colorscale": [
             [
              0,
              "#0d0887"
             ],
             [
              0.1111111111111111,
              "#46039f"
             ],
             [
              0.2222222222222222,
              "#7201a8"
             ],
             [
              0.3333333333333333,
              "#9c179e"
             ],
             [
              0.4444444444444444,
              "#bd3786"
             ],
             [
              0.5555555555555556,
              "#d8576b"
             ],
             [
              0.6666666666666666,
              "#ed7953"
             ],
             [
              0.7777777777777778,
              "#fb9f3a"
             ],
             [
              0.8888888888888888,
              "#fdca26"
             ],
             [
              1,
              "#f0f921"
             ]
            ],
            "type": "surface"
           }
          ],
          "table": [
           {
            "cells": {
             "fill": {
              "color": "#EBF0F8"
             },
             "line": {
              "color": "white"
             }
            },
            "header": {
             "fill": {
              "color": "#C8D4E3"
             },
             "line": {
              "color": "white"
             }
            },
            "type": "table"
           }
          ]
         },
         "layout": {
          "annotationdefaults": {
           "arrowcolor": "#2a3f5f",
           "arrowhead": 0,
           "arrowwidth": 1
          },
          "autotypenumbers": "strict",
          "coloraxis": {
           "colorbar": {
            "outlinewidth": 0,
            "ticks": ""
           }
          },
          "colorscale": {
           "diverging": [
            [
             0,
             "#8e0152"
            ],
            [
             0.1,
             "#c51b7d"
            ],
            [
             0.2,
             "#de77ae"
            ],
            [
             0.3,
             "#f1b6da"
            ],
            [
             0.4,
             "#fde0ef"
            ],
            [
             0.5,
             "#f7f7f7"
            ],
            [
             0.6,
             "#e6f5d0"
            ],
            [
             0.7,
             "#b8e186"
            ],
            [
             0.8,
             "#7fbc41"
            ],
            [
             0.9,
             "#4d9221"
            ],
            [
             1,
             "#276419"
            ]
           ],
           "sequential": [
            [
             0,
             "#0d0887"
            ],
            [
             0.1111111111111111,
             "#46039f"
            ],
            [
             0.2222222222222222,
             "#7201a8"
            ],
            [
             0.3333333333333333,
             "#9c179e"
            ],
            [
             0.4444444444444444,
             "#bd3786"
            ],
            [
             0.5555555555555556,
             "#d8576b"
            ],
            [
             0.6666666666666666,
             "#ed7953"
            ],
            [
             0.7777777777777778,
             "#fb9f3a"
            ],
            [
             0.8888888888888888,
             "#fdca26"
            ],
            [
             1,
             "#f0f921"
            ]
           ],
           "sequentialminus": [
            [
             0,
             "#0d0887"
            ],
            [
             0.1111111111111111,
             "#46039f"
            ],
            [
             0.2222222222222222,
             "#7201a8"
            ],
            [
             0.3333333333333333,
             "#9c179e"
            ],
            [
             0.4444444444444444,
             "#bd3786"
            ],
            [
             0.5555555555555556,
             "#d8576b"
            ],
            [
             0.6666666666666666,
             "#ed7953"
            ],
            [
             0.7777777777777778,
             "#fb9f3a"
            ],
            [
             0.8888888888888888,
             "#fdca26"
            ],
            [
             1,
             "#f0f921"
            ]
           ]
          },
          "colorway": [
           "#636efa",
           "#EF553B",
           "#00cc96",
           "#ab63fa",
           "#FFA15A",
           "#19d3f3",
           "#FF6692",
           "#B6E880",
           "#FF97FF",
           "#FECB52"
          ],
          "font": {
           "color": "#2a3f5f"
          },
          "geo": {
           "bgcolor": "white",
           "lakecolor": "white",
           "landcolor": "#E5ECF6",
           "showlakes": true,
           "showland": true,
           "subunitcolor": "white"
          },
          "hoverlabel": {
           "align": "left"
          },
          "hovermode": "closest",
          "mapbox": {
           "style": "light"
          },
          "paper_bgcolor": "white",
          "plot_bgcolor": "#E5ECF6",
          "polar": {
           "angularaxis": {
            "gridcolor": "white",
            "linecolor": "white",
            "ticks": ""
           },
           "bgcolor": "#E5ECF6",
           "radialaxis": {
            "gridcolor": "white",
            "linecolor": "white",
            "ticks": ""
           }
          },
          "scene": {
           "xaxis": {
            "backgroundcolor": "#E5ECF6",
            "gridcolor": "white",
            "gridwidth": 2,
            "linecolor": "white",
            "showbackground": true,
            "ticks": "",
            "zerolinecolor": "white"
           },
           "yaxis": {
            "backgroundcolor": "#E5ECF6",
            "gridcolor": "white",
            "gridwidth": 2,
            "linecolor": "white",
            "showbackground": true,
            "ticks": "",
            "zerolinecolor": "white"
           },
           "zaxis": {
            "backgroundcolor": "#E5ECF6",
            "gridcolor": "white",
            "gridwidth": 2,
            "linecolor": "white",
            "showbackground": true,
            "ticks": "",
            "zerolinecolor": "white"
           }
          },
          "shapedefaults": {
           "line": {
            "color": "#2a3f5f"
           }
          },
          "ternary": {
           "aaxis": {
            "gridcolor": "white",
            "linecolor": "white",
            "ticks": ""
           },
           "baxis": {
            "gridcolor": "white",
            "linecolor": "white",
            "ticks": ""
           },
           "bgcolor": "#E5ECF6",
           "caxis": {
            "gridcolor": "white",
            "linecolor": "white",
            "ticks": ""
           }
          },
          "title": {
           "x": 0.05
          },
          "xaxis": {
           "automargin": true,
           "gridcolor": "white",
           "linecolor": "white",
           "ticks": "",
           "title": {
            "standoff": 15
           },
           "zerolinecolor": "white",
           "zerolinewidth": 2
          },
          "yaxis": {
           "automargin": true,
           "gridcolor": "white",
           "linecolor": "white",
           "ticks": "",
           "title": {
            "standoff": 15
           },
           "zerolinecolor": "white",
           "zerolinewidth": 2
          }
         }
        },
        "width": 500
       }
      },
      "image/png": "[encoded data removed]",
      "text/html": [
       "<div>                            <div id=\"ac10dada-ba3f-4099-a595-fbe0b55d40f9\" class=\"plotly-graph-div\" style=\"height:500px; width:500px;\"></div>            <script type=\"text/javascript\">                require([\"plotly\"], function(Plotly) {                    window.PLOTLYENV=window.PLOTLYENV || {};                                    if (document.getElementById(\"ac10dada-ba3f-4099-a595-fbe0b55d40f9\")) {                    Plotly.newPlot(                        \"ac10dada-ba3f-4099-a595-fbe0b55d40f9\",                        [{\"fill\":\"toself\",\"name\":\"Group A\",\"r\":[0.46,0.32,0.75],\"theta\":[\"FG%\",\"3P%\",\"FT%\"],\"type\":\"scatterpolar\"},{\"fill\":\"toself\",\"name\":\"Group B\",\"r\":[0.42,0.31,0.76],\"theta\":[\"FG%\",\"3P%\",\"FT%\"],\"type\":\"scatterpolar\"},{\"fill\":\"toself\",\"name\":\"Group C\",\"r\":[0.48,0.3,0.75],\"theta\":[\"FG%\",\"3P%\",\"FT%\"],\"type\":\"scatterpolar\"}],                        {\"template\":{\"data\":{\"histogram2dcontour\":[{\"type\":\"histogram2dcontour\",\"colorbar\":{\"outlinewidth\":0,\"ticks\":\"\"},\"colorscale\":[[0.0,\"#0d0887\"],[0.1111111111111111,\"#46039f\"],[0.2222222222222222,\"#7201a8\"],[0.3333333333333333,\"#9c179e\"],[0.4444444444444444,\"#bd3786\"],[0.5555555555555556,\"#d8576b\"],[0.6666666666666666,\"#ed7953\"],[0.7777777777777778,\"#fb9f3a\"],[0.8888888888888888,\"#fdca26\"],[1.0,\"#f0f921\"]]}],\"choropleth\":[{\"type\":\"choropleth\",\"colorbar\":{\"outlinewidth\":0,\"ticks\":\"\"}}],\"histogram2d\":[{\"type\":\"histogram2d\",\"colorbar\":{\"outlinewidth\":0,\"ticks\":\"\"},\"colorscale\":[[0.0,\"#0d0887\"],[0.1111111111111111,\"#46039f\"],[0.2222222222222222,\"#7201a8\"],[0.3333333333333333,\"#9c179e\"],[0.4444444444444444,\"#bd3786\"],[0.5555555555555556,\"#d8576b\"],[0.6666666666666666,\"#ed7953\"],[0.7777777777777778,\"#fb9f3a\"],[0.8888888888888888,\"#fdca26\"],[1.0,\"#f0f921\"]]}],\"heatmap\":[{\"type\":\"heatmap\",\"colorbar\":{\"outlinewidth\":0,\"ticks\":\"\"},\"colorscale\":[[0.0,\"#0d0887\"],[0.1111111111111111,\"#46039f\"],[0.2222222222222222,\"#7201a8\"],[0.3333333333333333,\"#9c179e\"],[0.4444444444444444,\"#bd3786\"],[0.5555555555555556,\"#d8576b\"],[0.6666666666666666,\"#ed7953\"],[0.7777777777777778,\"#fb9f3a\"],[0.8888888888888888,\"#fdca26\"],[1.0,\"#f0f921\"]]}],\"heatmapgl\":[{\"type\":\"heatmapgl\",\"colorbar\":{\"outlinewidth\":0,\"ticks\":\"\"},\"colorscale\":[[0.0,\"#0d0887\"],[0.1111111111111111,\"#46039f\"],[0.2222222222222222,\"#7201a8\"],[0.3333333333333333,\"#9c179e\"],[0.4444444444444444,\"#bd3786\"],[0.5555555555555556,\"#d8576b\"],[0.6666666666666666,\"#ed7953\"],[0.7777777777777778,\"#fb9f3a\"],[0.8888888888888888,\"#fdca26\"],[1.0,\"#f0f921\"]]}],\"contourcarpet\":[{\"type\":\"contourcarpet\",\"colorbar\":{\"outlinewidth\":0,\"ticks\":\"\"}}],\"contour\":[{\"type\":\"contour\",\"colorbar\":{\"outlinewidth\":0,\"ticks\":\"\"},\"colorscale\":[[0.0,\"#0d0887\"],[0.1111111111111111,\"#46039f\"],[0.2222222222222222,\"#7201a8\"],[0.3333333333333333,\"#9c179e\"],[0.4444444444444444,\"#bd3786\"],[0.5555555555555556,\"#d8576b\"],[0.6666666666666666,\"#ed7953\"],[0.7777777777777778,\"#fb9f3a\"],[0.8888888888888888,\"#fdca26\"],[1.0,\"#f0f921\"]]}],\"surface\":[{\"type\":\"surface\",\"colorbar\":{\"outlinewidth\":0,\"ticks\":\"\"},\"colorscale\":[[0.0,\"#0d0887\"],[0.1111111111111111,\"#46039f\"],[0.2222222222222222,\"#7201a8\"],[0.3333333333333333,\"#9c179e\"],[0.4444444444444444,\"#bd3786\"],[0.5555555555555556,\"#d8576b\"],[0.6666666666666666,\"#ed7953\"],[0.7777777777777778,\"#fb9f3a\"],[0.8888888888888888,\"#fdca26\"],[1.0,\"#f0f921\"]]}],\"mesh3d\":[{\"type\":\"mesh3d\",\"colorbar\":{\"outlinewidth\":0,\"ticks\":\"\"}}],\"scatter\":[{\"fillpattern\":{\"fillmode\":\"overlay\",\"size\":10,\"solidity\":0.2},\"type\":\"scatter\"}],\"parcoords\":[{\"type\":\"parcoords\",\"line\":{\"colorbar\":{\"outlinewidth\":0,\"ticks\":\"\"}}}],\"scatterpolargl\":[{\"type\":\"scatterpolargl\",\"marker\":{\"colorbar\":{\"outlinewidth\":0,\"ticks\":\"\"}}}],\"bar\":[{\"error_x\":{\"color\":\"#2a3f5f\"},\"error_y\":{\"color\":\"#2a3f5f\"},\"marker\":{\"line\":{\"color\":\"#E5ECF6\",\"width\":0.5},\"pattern\":{\"fillmode\":\"overlay\",\"size\":10,\"solidity\":0.2}},\"type\":\"bar\"}],\"scattergeo\":[{\"type\":\"scattergeo\",\"marker\":{\"colorbar\":{\"outlinewidth\":0,\"ticks\":\"\"}}}],\"scatterpolar\":[{\"type\":\"scatterpolar\",\"marker\":{\"colorbar\":{\"outlinewidth\":0,\"ticks\":\"\"}}}],\"histogram\":[{\"marker\":{\"pattern\":{\"fillmode\":\"overlay\",\"size\":10,\"solidity\":0.2}},\"type\":\"histogram\"}],\"scattergl\":[{\"type\":\"scattergl\",\"marker\":{\"colorbar\":{\"outlinewidth\":0,\"ticks\":\"\"}}}],\"scatter3d\":[{\"type\":\"scatter3d\",\"line\":{\"colorbar\":{\"outlinewidth\":0,\"ticks\":\"\"}},\"marker\":{\"colorbar\":{\"outlinewidth\":0,\"ticks\":\"\"}}}],\"scattermapbox\":[{\"type\":\"scattermapbox\",\"marker\":{\"colorbar\":{\"outlinewidth\":0,\"ticks\":\"\"}}}],\"scatterternary\":[{\"type\":\"scatterternary\",\"marker\":{\"colorbar\":{\"outlinewidth\":0,\"ticks\":\"\"}}}],\"scattercarpet\":[{\"type\":\"scattercarpet\",\"marker\":{\"colorbar\":{\"outlinewidth\":0,\"ticks\":\"\"}}}],\"carpet\":[{\"aaxis\":{\"endlinecolor\":\"#2a3f5f\",\"gridcolor\":\"white\",\"linecolor\":\"white\",\"minorgridcolor\":\"white\",\"startlinecolor\":\"#2a3f5f\"},\"baxis\":{\"endlinecolor\":\"#2a3f5f\",\"gridcolor\":\"white\",\"linecolor\":\"white\",\"minorgridcolor\":\"white\",\"startlinecolor\":\"#2a3f5f\"},\"type\":\"carpet\"}],\"table\":[{\"cells\":{\"fill\":{\"color\":\"#EBF0F8\"},\"line\":{\"color\":\"white\"}},\"header\":{\"fill\":{\"color\":\"#C8D4E3\"},\"line\":{\"color\":\"white\"}},\"type\":\"table\"}],\"barpolar\":[{\"marker\":{\"line\":{\"color\":\"#E5ECF6\",\"width\":0.5},\"pattern\":{\"fillmode\":\"overlay\",\"size\":10,\"solidity\":0.2}},\"type\":\"barpolar\"}],\"pie\":[{\"automargin\":true,\"type\":\"pie\"}]},\"layout\":{\"autotypenumbers\":\"strict\",\"colorway\":[\"#636efa\",\"#EF553B\",\"#00cc96\",\"#ab63fa\",\"#FFA15A\",\"#19d3f3\",\"#FF6692\",\"#B6E880\",\"#FF97FF\",\"#FECB52\"],\"font\":{\"color\":\"#2a3f5f\"},\"hovermode\":\"closest\",\"hoverlabel\":{\"align\":\"left\"},\"paper_bgcolor\":\"white\",\"plot_bgcolor\":\"#E5ECF6\",\"polar\":{\"bgcolor\":\"#E5ECF6\",\"angularaxis\":{\"gridcolor\":\"white\",\"linecolor\":\"white\",\"ticks\":\"\"},\"radialaxis\":{\"gridcolor\":\"white\",\"linecolor\":\"white\",\"ticks\":\"\"}},\"ternary\":{\"bgcolor\":\"#E5ECF6\",\"aaxis\":{\"gridcolor\":\"white\",\"linecolor\":\"white\",\"ticks\":\"\"},\"baxis\":{\"gridcolor\":\"white\",\"linecolor\":\"white\",\"ticks\":\"\"},\"caxis\":{\"gridcolor\":\"white\",\"linecolor\":\"white\",\"ticks\":\"\"}},\"coloraxis\":{\"colorbar\":{\"outlinewidth\":0,\"ticks\":\"\"}},\"colorscale\":{\"sequential\":[[0.0,\"#0d0887\"],[0.1111111111111111,\"#46039f\"],[0.2222222222222222,\"#7201a8\"],[0.3333333333333333,\"#9c179e\"],[0.4444444444444444,\"#bd3786\"],[0.5555555555555556,\"#d8576b\"],[0.6666666666666666,\"#ed7953\"],[0.7777777777777778,\"#fb9f3a\"],[0.8888888888888888,\"#fdca26\"],[1.0,\"#f0f921\"]],\"sequentialminus\":[[0.0,\"#0d0887\"],[0.1111111111111111,\"#46039f\"],[0.2222222222222222,\"#7201a8\"],[0.3333333333333333,\"#9c179e\"],[0.4444444444444444,\"#bd3786\"],[0.5555555555555556,\"#d8576b\"],[0.6666666666666666,\"#ed7953\"],[0.7777777777777778,\"#fb9f3a\"],[0.8888888888888888,\"#fdca26\"],[1.0,\"#f0f921\"]],\"diverging\":[[0,\"#8e0152\"],[0.1,\"#c51b7d\"],[0.2,\"#de77ae\"],[0.3,\"#f1b6da\"],[0.4,\"#fde0ef\"],[0.5,\"#f7f7f7\"],[0.6,\"#e6f5d0\"],[0.7,\"#b8e186\"],[0.8,\"#7fbc41\"],[0.9,\"#4d9221\"],[1,\"#276419\"]]},\"xaxis\":{\"gridcolor\":\"white\",\"linecolor\":\"white\",\"ticks\":\"\",\"title\":{\"standoff\":15},\"zerolinecolor\":\"white\",\"automargin\":true,\"zerolinewidth\":2},\"yaxis\":{\"gridcolor\":\"white\",\"linecolor\":\"white\",\"ticks\":\"\",\"title\":{\"standoff\":15},\"zerolinecolor\":\"white\",\"automargin\":true,\"zerolinewidth\":2},\"scene\":{\"xaxis\":{\"backgroundcolor\":\"#E5ECF6\",\"gridcolor\":\"white\",\"linecolor\":\"white\",\"showbackground\":true,\"ticks\":\"\",\"zerolinecolor\":\"white\",\"gridwidth\":2},\"yaxis\":{\"backgroundcolor\":\"#E5ECF6\",\"gridcolor\":\"white\",\"linecolor\":\"white\",\"showbackground\":true,\"ticks\":\"\",\"zerolinecolor\":\"white\",\"gridwidth\":2},\"zaxis\":{\"backgroundcolor\":\"#E5ECF6\",\"gridcolor\":\"white\",\"linecolor\":\"white\",\"showbackground\":true,\"ticks\":\"\",\"zerolinecolor\":\"white\",\"gridwidth\":2}},\"shapedefaults\":{\"line\":{\"color\":\"#2a3f5f\"}},\"annotationdefaults\":{\"arrowcolor\":\"#2a3f5f\",\"arrowhead\":0,\"arrowwidth\":1},\"geo\":{\"bgcolor\":\"white\",\"landcolor\":\"#E5ECF6\",\"subunitcolor\":\"white\",\"showland\":true,\"showlakes\":true,\"lakecolor\":\"white\"},\"title\":{\"x\":0.05},\"mapbox\":{\"style\":\"light\"}}},\"polar\":{\"radialaxis\":{\"visible\":true,\"range\":[0,1]}},\"showlegend\":true,\"width\":500,\"height\":500},                        {\"responsive\": true}                    ).then(function(){\n",
       "                            \n",
       "var gd = document.getElementById('ac10dada-ba3f-4099-a595-fbe0b55d40f9');\n",
       "var x = new MutationObserver(function (mutations, observer) {{\n",
       "        var display = window.getComputedStyle(gd).display;\n",
       "        if (!display || display === 'none') {{\n",
       "            console.log([gd, 'removed!']);\n",
       "            Plotly.purge(gd);\n",
       "            observer.disconnect();\n",
       "        }}\n",
       "}});\n",
       "\n",
       "// Listen for the removal of the full notebook cells\n",
       "var notebookContainer = gd.closest('#notebook-container');\n",
       "if (notebookContainer) {{\n",
       "    x.observe(notebookContainer, {childList: true});\n",
       "}}\n",
       "\n",
       "// Listen for the clearing of the current output cell\n",
       "var outputEl = gd.closest('.output');\n",
       "if (outputEl) {{\n",
       "    x.observe(outputEl, {childList: true});\n",
       "}}\n",
       "\n",
       "                        })                };                });            </script>        </div>"
      ]
     },
     "metadata": {},
     "output_type": "display_data"
    }
   ],
   "source": [
    "shooting_categories = ['FG%', '3P%','FT%']\n",
    "shooting_fig = go.Figure()\n",
    "shooting_fig.add_trace(go.Scatterpolar(\n",
    "    r = [0.46,0.32,0.75],\n",
    "    theta = shooting_categories,\n",
    "    fill='toself',\n",
    "    name= 'Group A'\n",
    "))\n",
    "\n",
    "shooting_fig.add_trace(go.Scatterpolar(\n",
    "    r = [0.42,0.31,0.76],\n",
    "    theta = shooting_categories,\n",
    "    fill='toself',\n",
    "    name= 'Group B'\n",
    "))\n",
    "\n",
    "shooting_fig.add_trace(go.Scatterpolar(\n",
    "    r = [0.48,0.30,0.75],\n",
    "    theta = shooting_categories,\n",
    "    fill='toself',\n",
    "    name= 'Group C'\n",
    "))\n",
    "\n",
    "shooting_fig.update_layout(\n",
    "    polar=dict(\n",
    "        radialaxis=dict(\n",
    "          visible=True,\n",
    "          range=[0,1]\n",
    "        )),\n",
    "    showlegend=True,\n",
    "    width = 500,\n",
    "    height = 500\n",
    ")\n",
    "    \n",
    "shooting_fig.show()"
   ]
  },
  {
   "cell_type": "code",
   "execution_count": null,
   "id": "75e633a2-2dfd-4dc4-b87c-19ef63876dde",
   "metadata": {},
   "outputs": [],
   "source": []
  },
  {
   "cell_type": "code",
   "execution_count": null,
   "id": "d2b73fde-d0fc-4f91-964b-a54f23743d49",
   "metadata": {},
   "outputs": [],
   "source": []
  },
  {
   "cell_type": "code",
   "execution_count": 53,
   "id": "cf1aaeb4-ef81-4ff7-9b11-be35cd40bbec",
   "metadata": {},
   "outputs": [],
   "source": [
    "# Use hvplot to visualize group A's minutes per game played 2017-2021\n",
    "group_a_mpg_plot = group_a_ave['MPG'].hvplot(\n",
    "    title='Average 1st Round Picks Minutes Per Game Played 2017-2021',\n",
    "    x='DraftYear',\n",
    "    y='MPG',\n",
    "    xlabel='Draft Year',\n",
    "    ylabel='Munites Per Game',\n",
    "    label='Group-A'\n",
    ")"
   ]
  },
  {
   "cell_type": "code",
   "execution_count": 54,
   "id": "cc6489f8-c817-46aa-9d05-fd6eb09e89c1",
   "metadata": {},
   "outputs": [],
   "source": [
    "# Use hvplot to visualize group B's minutes per game played 2017-2021\n",
    "group_b_mpg_plot = group_b_ave['MPG'].hvplot(\n",
    "    title='Average 1st Round Picks Minutes Per Game Played 2017-2021',\n",
    "    x='DraftYear',\n",
    "    y='MPG',\n",
    "    xlabel='Draft Year',\n",
    "    ylabel='Munites Per Game',\n",
    "    label='Group-B'\n",
    ")"
   ]
  },
  {
   "cell_type": "code",
   "execution_count": 55,
   "id": "5988ad24-16fd-45aa-8948-06917b69f249",
   "metadata": {},
   "outputs": [],
   "source": [
    "# Use hvplot to visualize group C's minutes per game played 2017-2021\n",
    "group_c_mpg_plot = group_c_ave['MPG'].hvplot(\n",
    "    title='Average 1st Round Picks Minutes Per Game Played 2017-2021',\n",
    "    x='DraftYear',\n",
    "    y='MPG',\n",
    "    xlabel='Draft Year',\n",
    "    ylabel='Munites Per Game',\n",
    "    label='Group-C'\n",
    ")"
   ]
  },
  {
   "cell_type": "code",
   "execution_count": 56,
   "id": "45643643-d019-4d5e-b046-210390d3866f",
   "metadata": {},
   "outputs": [
    {
     "data": {},
     "metadata": {},
     "output_type": "display_data"
    },
    {
     "data": {
      "application/vnd.holoviews_exec.v0+json": "",
      "text/html": [
       "<div id='1287'>\n",
       "\n",
       "\n",
       "\n",
       "\n",
       "\n",
       "  <div class=\"bk-root\" id=\"c884bde9-4820-4261-9054-054761a2686c\" data-root-id=\"1287\"></div>\n",
       "</div>\n",
       "<script type=\"application/javascript\">(function(root) {\n",
       "  function embed_document(root) {\n",
       "    var docs_json = {\"6fb86909-3e28-4c17-9f6c-38157ac5ed9c\":{\"defs\":[{\"extends\":null,\"module\":null,\"name\":\"ReactiveHTML1\",\"overrides\":[],\"properties\":[]},{\"extends\":null,\"module\":null,\"name\":\"FlexBox1\",\"overrides\":[],\"properties\":[{\"default\":\"flex-start\",\"kind\":null,\"name\":\"align_content\"},{\"default\":\"flex-start\",\"kind\":null,\"name\":\"align_items\"},{\"default\":\"row\",\"kind\":null,\"name\":\"flex_direction\"},{\"default\":\"wrap\",\"kind\":null,\"name\":\"flex_wrap\"},{\"default\":\"flex-start\",\"kind\":null,\"name\":\"justify_content\"}]},{\"extends\":null,\"module\":null,\"name\":\"TemplateActions1\",\"overrides\":[],\"properties\":[{\"default\":0,\"kind\":null,\"name\":\"open_modal\"},{\"default\":0,\"kind\":null,\"name\":\"close_modal\"}]},{\"extends\":null,\"module\":null,\"name\":\"MaterialTemplateActions1\",\"overrides\":[],\"properties\":[{\"default\":0,\"kind\":null,\"name\":\"open_modal\"},{\"default\":0,\"kind\":null,\"name\":\"close_modal\"}]}],\"roots\":{\"references\":[{\"attributes\":{\"margin\":[5,5,5,5],\"name\":\"HSpacer02184\",\"sizing_mode\":\"stretch_width\"},\"id\":\"1523\",\"type\":\"Spacer\"},{\"attributes\":{},\"id\":\"1392\",\"type\":\"UnionRenderers\"},{\"attributes\":{\"source\":{\"id\":\"1330\"}},\"id\":\"1337\",\"type\":\"CDSView\"},{\"attributes\":{\"line_alpha\":0.2,\"line_color\":\"#30a2da\",\"line_width\":2,\"x\":{\"field\":\"DraftYear\"},\"y\":{\"field\":\"MPG\"}},\"id\":\"1335\",\"type\":\"Line\"},{\"attributes\":{\"axis_label\":\"Munites Per Game\",\"coordinates\":null,\"formatter\":{\"id\":\"1328\"},\"group\":null,\"major_label_policy\":{\"id\":\"1329\"},\"ticker\":{\"id\":\"1308\"}},\"id\":\"1307\",\"type\":\"LinearAxis\"},{\"attributes\":{},\"id\":\"1308\",\"type\":\"BasicTicker\"},{\"attributes\":{},\"id\":\"1329\",\"type\":\"AllLabels\"},{\"attributes\":{\"label\":{\"value\":\"Group-A\"},\"renderers\":[{\"id\":\"1336\"}]},\"id\":\"1349\",\"type\":\"LegendItem\"},{\"attributes\":{\"source\":{\"id\":\"1373\"}},\"id\":\"1380\",\"type\":\"CDSView\"},{\"attributes\":{},\"id\":\"1345\",\"type\":\"UnionRenderers\"},{\"attributes\":{\"children\":[{\"id\":\"1288\"},{\"id\":\"1294\"},{\"id\":\"1523\"}],\"margin\":[0,0,0,0],\"name\":\"Row02179\",\"tags\":[\"embedded\"]},\"id\":\"1287\",\"type\":\"Row\"},{\"attributes\":{\"line_color\":\"#30a2da\",\"line_width\":2,\"x\":{\"field\":\"DraftYear\"},\"y\":{\"field\":\"MPG\"}},\"id\":\"1333\",\"type\":\"Line\"},{\"attributes\":{\"line_color\":\"#30a2da\",\"line_width\":2,\"x\":{\"field\":\"DraftYear\"},\"y\":{\"field\":\"MPG\"}},\"id\":\"1350\",\"type\":\"Line\"},{\"attributes\":{},\"id\":\"1311\",\"type\":\"SaveTool\"},{\"attributes\":{},\"id\":\"1299\",\"type\":\"LinearScale\"},{\"attributes\":{\"end\":2021.0,\"reset_end\":2021.0,\"reset_start\":2017.0,\"start\":2017.0,\"tags\":[[[\"DraftYear\",\"DraftYear\",null]]]},\"id\":\"1289\",\"type\":\"Range1d\"},{\"attributes\":{\"click_policy\":\"mute\",\"coordinates\":null,\"group\":null,\"items\":[{\"id\":\"1349\"},{\"id\":\"1371\"},{\"id\":\"1395\"}]},\"id\":\"1348\",\"type\":\"Legend\"},{\"attributes\":{},\"id\":\"1312\",\"type\":\"PanTool\"},{\"attributes\":{\"coordinates\":null,\"data_source\":{\"id\":\"1373\"},\"glyph\":{\"id\":\"1376\"},\"group\":null,\"hover_glyph\":null,\"muted_glyph\":{\"id\":\"1378\"},\"nonselection_glyph\":{\"id\":\"1377\"},\"selection_glyph\":{\"id\":\"1396\"},\"view\":{\"id\":\"1380\"}},\"id\":\"1379\",\"type\":\"GlyphRenderer\"},{\"attributes\":{\"below\":[{\"id\":\"1303\"}],\"center\":[{\"id\":\"1306\"},{\"id\":\"1310\"},{\"id\":\"1348\"}],\"height\":300,\"left\":[{\"id\":\"1307\"}],\"margin\":[5,5,5,5],\"min_border_bottom\":10,\"min_border_left\":10,\"min_border_right\":10,\"min_border_top\":10,\"renderers\":[{\"id\":\"1336\"},{\"id\":\"1357\"},{\"id\":\"1379\"}],\"sizing_mode\":\"fixed\",\"title\":{\"id\":\"1295\"},\"toolbar\":{\"id\":\"1317\"},\"width\":700,\"x_range\":{\"id\":\"1289\"},\"x_scale\":{\"id\":\"1299\"},\"y_range\":{\"id\":\"1290\"},\"y_scale\":{\"id\":\"1301\"}},\"id\":\"1294\",\"subtype\":\"Figure\",\"type\":\"Plot\"},{\"attributes\":{\"source\":{\"id\":\"1351\"}},\"id\":\"1358\",\"type\":\"CDSView\"},{\"attributes\":{},\"id\":\"1313\",\"type\":\"WheelZoomTool\"},{\"attributes\":{\"tools\":[{\"id\":\"1291\"},{\"id\":\"1311\"},{\"id\":\"1312\"},{\"id\":\"1313\"},{\"id\":\"1314\"},{\"id\":\"1315\"}]},\"id\":\"1317\",\"type\":\"Toolbar\"},{\"attributes\":{\"data\":{\"DraftYear\":[2017,2018,2019,2020,2021],\"MPG\":{\"__ndarray__\":\"UrgehevRNEDNzMzMzEwwQD4K16NwvTNAj8L1KFwPMkBSuB6F61EpQA==\",\"dtype\":\"float64\",\"order\":\"little\",\"shape\":[5]}},\"selected\":{\"id\":\"1374\"},\"selection_policy\":{\"id\":\"1392\"}},\"id\":\"1373\",\"type\":\"ColumnDataSource\"},{\"attributes\":{\"callback\":null,\"renderers\":[{\"id\":\"1336\"},{\"id\":\"1357\"},{\"id\":\"1379\"}],\"tags\":[\"hv_created\"],\"tooltips\":[[\"DraftYear\",\"@{DraftYear}\"],[\"MPG\",\"@{MPG}\"]]},\"id\":\"1291\",\"type\":\"HoverTool\"},{\"attributes\":{},\"id\":\"1374\",\"type\":\"Selection\"},{\"attributes\":{\"line_alpha\":0.2,\"line_color\":\"#e5ae38\",\"line_width\":2,\"x\":{\"field\":\"DraftYear\"},\"y\":{\"field\":\"MPG\"}},\"id\":\"1378\",\"type\":\"Line\"},{\"attributes\":{\"overlay\":{\"id\":\"1316\"}},\"id\":\"1314\",\"type\":\"BoxZoomTool\"},{\"attributes\":{},\"id\":\"1325\",\"type\":\"BasicTickFormatter\"},{\"attributes\":{\"line_alpha\":0.1,\"line_color\":\"#e5ae38\",\"line_width\":2,\"x\":{\"field\":\"DraftYear\"},\"y\":{\"field\":\"MPG\"}},\"id\":\"1377\",\"type\":\"Line\"},{\"attributes\":{},\"id\":\"1326\",\"type\":\"AllLabels\"},{\"attributes\":{\"label\":{\"value\":\"Group-C\"},\"renderers\":[{\"id\":\"1379\"}]},\"id\":\"1395\",\"type\":\"LegendItem\"},{\"attributes\":{\"line_alpha\":0.1,\"line_color\":\"#30a2da\",\"line_width\":2,\"x\":{\"field\":\"DraftYear\"},\"y\":{\"field\":\"MPG\"}},\"id\":\"1334\",\"type\":\"Line\"},{\"attributes\":{\"line_color\":\"#e5ae38\",\"line_width\":2,\"x\":{\"field\":\"DraftYear\"},\"y\":{\"field\":\"MPG\"}},\"id\":\"1376\",\"type\":\"Line\"},{\"attributes\":{\"coordinates\":null,\"data_source\":{\"id\":\"1351\"},\"glyph\":{\"id\":\"1354\"},\"group\":null,\"hover_glyph\":null,\"muted_glyph\":{\"id\":\"1356\"},\"nonselection_glyph\":{\"id\":\"1355\"},\"selection_glyph\":{\"id\":\"1372\"},\"view\":{\"id\":\"1358\"}},\"id\":\"1357\",\"type\":\"GlyphRenderer\"},{\"attributes\":{},\"id\":\"1315\",\"type\":\"ResetTool\"},{\"attributes\":{},\"id\":\"1301\",\"type\":\"LinearScale\"},{\"attributes\":{},\"id\":\"1352\",\"type\":\"Selection\"},{\"attributes\":{\"line_alpha\":0.2,\"line_color\":\"#fc4f30\",\"line_width\":2,\"x\":{\"field\":\"DraftYear\"},\"y\":{\"field\":\"MPG\"}},\"id\":\"1356\",\"type\":\"Line\"},{\"attributes\":{},\"id\":\"1331\",\"type\":\"Selection\"},{\"attributes\":{\"axis\":{\"id\":\"1307\"},\"coordinates\":null,\"dimension\":1,\"grid_line_color\":null,\"group\":null,\"ticker\":null},\"id\":\"1310\",\"type\":\"Grid\"},{\"attributes\":{\"line_alpha\":0.1,\"line_color\":\"#fc4f30\",\"line_width\":2,\"x\":{\"field\":\"DraftYear\"},\"y\":{\"field\":\"MPG\"}},\"id\":\"1355\",\"type\":\"Line\"},{\"attributes\":{\"bottom_units\":\"screen\",\"coordinates\":null,\"fill_alpha\":0.5,\"fill_color\":\"lightgrey\",\"group\":null,\"left_units\":\"screen\",\"level\":\"overlay\",\"line_alpha\":1.0,\"line_color\":\"black\",\"line_dash\":[4,4],\"line_width\":2,\"right_units\":\"screen\",\"syncable\":false,\"top_units\":\"screen\"},\"id\":\"1316\",\"type\":\"BoxAnnotation\"},{\"attributes\":{\"coordinates\":null,\"data_source\":{\"id\":\"1330\"},\"glyph\":{\"id\":\"1333\"},\"group\":null,\"hover_glyph\":null,\"muted_glyph\":{\"id\":\"1335\"},\"nonselection_glyph\":{\"id\":\"1334\"},\"selection_glyph\":{\"id\":\"1350\"},\"view\":{\"id\":\"1337\"}},\"id\":\"1336\",\"type\":\"GlyphRenderer\"},{\"attributes\":{\"margin\":[5,5,5,5],\"name\":\"HSpacer02183\",\"sizing_mode\":\"stretch_width\"},\"id\":\"1288\",\"type\":\"Spacer\"},{\"attributes\":{\"coordinates\":null,\"group\":null,\"text\":\"Average 1st Round Picks Minutes Per Game Played 2017-2021\",\"text_color\":\"black\",\"text_font_size\":\"12pt\"},\"id\":\"1295\",\"type\":\"Title\"},{\"attributes\":{\"line_color\":\"#fc4f30\",\"line_width\":2,\"x\":{\"field\":\"DraftYear\"},\"y\":{\"field\":\"MPG\"}},\"id\":\"1354\",\"type\":\"Line\"},{\"attributes\":{\"axis_label\":\"Draft Year\",\"coordinates\":null,\"formatter\":{\"id\":\"1325\"},\"group\":null,\"major_label_policy\":{\"id\":\"1326\"},\"ticker\":{\"id\":\"1304\"}},\"id\":\"1303\",\"type\":\"LinearAxis\"},{\"attributes\":{},\"id\":\"1328\",\"type\":\"BasicTickFormatter\"},{\"attributes\":{\"label\":{\"value\":\"Group-B\"},\"renderers\":[{\"id\":\"1357\"}]},\"id\":\"1371\",\"type\":\"LegendItem\"},{\"attributes\":{\"data\":{\"DraftYear\":[2017,2018,2019,2020,2021],\"MPG\":{\"__ndarray__\":\"wvUoXI9CNUBxPQrXo3AyQEjhehSuRzVAhetRuB6FNEDiehSuR+ExQA==\",\"dtype\":\"float64\",\"order\":\"little\",\"shape\":[5]}},\"selected\":{\"id\":\"1352\"},\"selection_policy\":{\"id\":\"1368\"}},\"id\":\"1351\",\"type\":\"ColumnDataSource\"},{\"attributes\":{},\"id\":\"1304\",\"type\":\"BasicTicker\"},{\"attributes\":{},\"id\":\"1368\",\"type\":\"UnionRenderers\"},{\"attributes\":{\"end\":34.022,\"reset_end\":34.022,\"reset_start\":10.718,\"start\":10.718,\"tags\":[[[\"MPG\",\"MPG\",null]]]},\"id\":\"1290\",\"type\":\"Range1d\"},{\"attributes\":{\"axis\":{\"id\":\"1303\"},\"coordinates\":null,\"grid_line_color\":null,\"group\":null,\"ticker\":null},\"id\":\"1306\",\"type\":\"Grid\"},{\"attributes\":{\"line_color\":\"#e5ae38\",\"line_width\":2,\"x\":{\"field\":\"DraftYear\"},\"y\":{\"field\":\"MPG\"}},\"id\":\"1396\",\"type\":\"Line\"},{\"attributes\":{\"line_color\":\"#fc4f30\",\"line_width\":2,\"x\":{\"field\":\"DraftYear\"},\"y\":{\"field\":\"MPG\"}},\"id\":\"1372\",\"type\":\"Line\"},{\"attributes\":{\"data\":{\"DraftYear\":[2017,2018,2019,2020,2021],\"MPG\":{\"__ndarray__\":\"XY/C9ShcPUD2KFyPwvU9QArXo3A9CkBAUrgehevRPEB7FK5H4fo/QA==\",\"dtype\":\"float64\",\"order\":\"little\",\"shape\":[5]}},\"selected\":{\"id\":\"1331\"},\"selection_policy\":{\"id\":\"1345\"}},\"id\":\"1330\",\"type\":\"ColumnDataSource\"}],\"root_ids\":[\"1287\"]},\"title\":\"Bokeh Application\",\"version\":\"2.4.2\"}};\n",
       "    var render_items = [{\"docid\":\"6fb86909-3e28-4c17-9f6c-38157ac5ed9c\",\"root_ids\":[\"1287\"],\"roots\":{\"1287\":\"c884bde9-4820-4261-9054-054761a2686c\"}}];\n",
       "    root.Bokeh.embed.embed_items_notebook(docs_json, render_items);\n",
       "  }\n",
       "  if (root.Bokeh !== undefined && root.Bokeh.Panel !== undefined) {\n",
       "    embed_document(root);\n",
       "  } else {\n",
       "    var attempts = 0;\n",
       "    var timer = setInterval(function(root) {\n",
       "      if (root.Bokeh !== undefined && root.Bokeh.Panel !== undefined) {\n",
       "        clearInterval(timer);\n",
       "        embed_document(root);\n",
       "      } else if (document.readyState == \"complete\") {\n",
       "        attempts++;\n",
       "        if (attempts > 200) {\n",
       "          clearInterval(timer);\n",
       "          console.log(\"Bokeh: ERROR: Unable to run BokehJS code because BokehJS library is missing\");\n",
       "        }\n",
       "      }\n",
       "    }, 25, root)\n",
       "  }\n",
       "})(window);</script>"
      ],
      "text/plain": [
       ":Overlay\n",
       "   .Curve.Group_hyphen_minus_A :Curve   [DraftYear]   (MPG)\n",
       "   .Curve.Group_hyphen_minus_B :Curve   [DraftYear]   (MPG)\n",
       "   .Curve.Group_hyphen_minus_C :Curve   [DraftYear]   (MPG)"
      ]
     },
     "execution_count": 56,
     "metadata": {
      "application/vnd.holoviews_exec.v0+json": {
       "id": "1287"
      }
     },
     "output_type": "execute_result"
    }
   ],
   "source": [
    "# Overlay all groups minutes per game played 2017-2021\n",
    "all_groups_mpg_plot = group_a_mpg_plot *group_b_mpg_plot * group_c_mpg_plot \n",
    "all_groups_mpg_plot"
   ]
  },
  {
   "cell_type": "code",
   "execution_count": null,
   "id": "47706f13-cc8e-4866-9110-400cfedaca3d",
   "metadata": {},
   "outputs": [],
   "source": []
  },
  {
   "cell_type": "code",
   "execution_count": 57,
   "id": "3ed8fedb-01c4-4289-b7a7-fd8f70404c12",
   "metadata": {},
   "outputs": [],
   "source": [
    "# Use hvplot to visualize group A's points per game 2017-2021\n",
    "group_a_ppg_plot = group_a_ave['PPG'].hvplot(\n",
    "    title='Average 1st Round Picks Points Per Game 2017-2021',\n",
    "    x='DraftYear',\n",
    "    y='PPG',\n",
    "    xlabel='Draft Year',\n",
    "    ylabel='Points Per Game',\n",
    "    label='Group-A'\n",
    ")"
   ]
  },
  {
   "cell_type": "code",
   "execution_count": 58,
   "id": "7ef51caa-04c7-45e1-888b-97da6a65fca5",
   "metadata": {},
   "outputs": [],
   "source": [
    "# Use hvplot to visualize group B's points per game 2017-2021\n",
    "group_b_ppg_plot = group_b_ave['PPG'].hvplot(\n",
    "    title='Average 1st Round Picks Points Per Game 2017-2021',\n",
    "    x='DraftYear',\n",
    "    y='PPG',\n",
    "    xlabel='Draft Year',\n",
    "    ylabel='Points Per Game',\n",
    "    label='Group-B'\n",
    ")"
   ]
  },
  {
   "cell_type": "code",
   "execution_count": 59,
   "id": "40f76e87-3858-406e-93ed-ffad6963f067",
   "metadata": {},
   "outputs": [],
   "source": [
    "# Use hvplot to visualize group C's points per game 2017-2021\n",
    "group_c_ppg_plot = group_c_ave['PPG'].hvplot(\n",
    "    title='Average 1st Round Picks Points Per Game 2017-2021',\n",
    "    x='DraftYear',\n",
    "    y='PPG',\n",
    "    xlabel='Draft Year',\n",
    "    ylabel='Points Per Game',\n",
    "    label='Group-C'\n",
    ")"
   ]
  },
  {
   "cell_type": "code",
   "execution_count": 60,
   "id": "729d7959-ad44-4991-8b5e-7cd446799dc0",
   "metadata": {},
   "outputs": [
    {
     "data": {},
     "metadata": {},
     "output_type": "display_data"
    },
    {
     "data": {
      "application/vnd.holoviews_exec.v0+json": "",
      "text/html": [
       "<div id='1595'>\n",
       "\n",
       "\n",
       "\n",
       "\n",
       "\n",
       "  <div class=\"bk-root\" id=\"e7d2c395-60b2-4925-a332-12bf6a8cb2f5\" data-root-id=\"1595\"></div>\n",
       "</div>\n",
       "<script type=\"application/javascript\">(function(root) {\n",
       "  function embed_document(root) {\n",
       "    var docs_json = {\"19922b52-8c09-42e3-8a20-22ca5b7a694f\":{\"defs\":[{\"extends\":null,\"module\":null,\"name\":\"ReactiveHTML1\",\"overrides\":[],\"properties\":[]},{\"extends\":null,\"module\":null,\"name\":\"FlexBox1\",\"overrides\":[],\"properties\":[{\"default\":\"flex-start\",\"kind\":null,\"name\":\"align_content\"},{\"default\":\"flex-start\",\"kind\":null,\"name\":\"align_items\"},{\"default\":\"row\",\"kind\":null,\"name\":\"flex_direction\"},{\"default\":\"wrap\",\"kind\":null,\"name\":\"flex_wrap\"},{\"default\":\"flex-start\",\"kind\":null,\"name\":\"justify_content\"}]},{\"extends\":null,\"module\":null,\"name\":\"TemplateActions1\",\"overrides\":[],\"properties\":[{\"default\":0,\"kind\":null,\"name\":\"open_modal\"},{\"default\":0,\"kind\":null,\"name\":\"close_modal\"}]},{\"extends\":null,\"module\":null,\"name\":\"MaterialTemplateActions1\",\"overrides\":[],\"properties\":[{\"default\":0,\"kind\":null,\"name\":\"open_modal\"},{\"default\":0,\"kind\":null,\"name\":\"close_modal\"}]}],\"roots\":{\"references\":[{\"attributes\":{\"line_color\":\"#fc4f30\",\"line_width\":2,\"x\":{\"field\":\"DraftYear\"},\"y\":{\"field\":\"PPG\"}},\"id\":\"1680\",\"type\":\"Line\"},{\"attributes\":{\"axis\":{\"id\":\"1615\"},\"coordinates\":null,\"dimension\":1,\"grid_line_color\":null,\"group\":null,\"ticker\":null},\"id\":\"1618\",\"type\":\"Grid\"},{\"attributes\":{},\"id\":\"1653\",\"type\":\"UnionRenderers\"},{\"attributes\":{\"line_alpha\":0.1,\"line_color\":\"#30a2da\",\"line_width\":2,\"x\":{\"field\":\"DraftYear\"},\"y\":{\"field\":\"PPG\"}},\"id\":\"1642\",\"type\":\"Line\"},{\"attributes\":{\"data\":{\"DraftYear\":[2017,2018,2019,2020,2021],\"PPG\":{\"__ndarray__\":\"mpmZmZmZJEAqXI/C9SgeQDMzMzMzMyFASOF6FK5HIEDNzMzMzMwcQA==\",\"dtype\":\"float64\",\"order\":\"little\",\"shape\":[5]}},\"selected\":{\"id\":\"1660\"},\"selection_policy\":{\"id\":\"1676\"}},\"id\":\"1659\",\"type\":\"ColumnDataSource\"},{\"attributes\":{},\"id\":\"1636\",\"type\":\"BasicTickFormatter\"},{\"attributes\":{},\"id\":\"1639\",\"type\":\"Selection\"},{\"attributes\":{\"source\":{\"id\":\"1638\"}},\"id\":\"1645\",\"type\":\"CDSView\"},{\"attributes\":{\"source\":{\"id\":\"1681\"}},\"id\":\"1688\",\"type\":\"CDSView\"},{\"attributes\":{\"callback\":null,\"renderers\":[{\"id\":\"1644\"},{\"id\":\"1665\"},{\"id\":\"1687\"}],\"tags\":[\"hv_created\"],\"tooltips\":[[\"DraftYear\",\"@{DraftYear}\"],[\"PPG\",\"@{PPG}\"]]},\"id\":\"1599\",\"type\":\"HoverTool\"},{\"attributes\":{\"margin\":[5,5,5,5],\"name\":\"HSpacer02872\",\"sizing_mode\":\"stretch_width\"},\"id\":\"1831\",\"type\":\"Spacer\"},{\"attributes\":{\"coordinates\":null,\"data_source\":{\"id\":\"1638\"},\"glyph\":{\"id\":\"1641\"},\"group\":null,\"hover_glyph\":null,\"muted_glyph\":{\"id\":\"1643\"},\"nonselection_glyph\":{\"id\":\"1642\"},\"selection_glyph\":{\"id\":\"1658\"},\"view\":{\"id\":\"1645\"}},\"id\":\"1644\",\"type\":\"GlyphRenderer\"},{\"attributes\":{},\"id\":\"1637\",\"type\":\"AllLabels\"},{\"attributes\":{\"line_alpha\":0.2,\"line_color\":\"#30a2da\",\"line_width\":2,\"x\":{\"field\":\"DraftYear\"},\"y\":{\"field\":\"PPG\"}},\"id\":\"1643\",\"type\":\"Line\"},{\"attributes\":{},\"id\":\"1619\",\"type\":\"SaveTool\"},{\"attributes\":{},\"id\":\"1620\",\"type\":\"PanTool\"},{\"attributes\":{},\"id\":\"1676\",\"type\":\"UnionRenderers\"},{\"attributes\":{\"axis\":{\"id\":\"1611\"},\"coordinates\":null,\"grid_line_color\":null,\"group\":null,\"ticker\":null},\"id\":\"1614\",\"type\":\"Grid\"},{\"attributes\":{},\"id\":\"1634\",\"type\":\"AllLabels\"},{\"attributes\":{\"below\":[{\"id\":\"1611\"}],\"center\":[{\"id\":\"1614\"},{\"id\":\"1618\"},{\"id\":\"1656\"}],\"height\":300,\"left\":[{\"id\":\"1615\"}],\"margin\":[5,5,5,5],\"min_border_bottom\":10,\"min_border_left\":10,\"min_border_right\":10,\"min_border_top\":10,\"renderers\":[{\"id\":\"1644\"},{\"id\":\"1665\"},{\"id\":\"1687\"}],\"sizing_mode\":\"fixed\",\"title\":{\"id\":\"1603\"},\"toolbar\":{\"id\":\"1625\"},\"width\":700,\"x_range\":{\"id\":\"1597\"},\"x_scale\":{\"id\":\"1607\"},\"y_range\":{\"id\":\"1598\"},\"y_scale\":{\"id\":\"1609\"}},\"id\":\"1602\",\"subtype\":\"Figure\",\"type\":\"Plot\"},{\"attributes\":{\"coordinates\":null,\"data_source\":{\"id\":\"1681\"},\"glyph\":{\"id\":\"1684\"},\"group\":null,\"hover_glyph\":null,\"muted_glyph\":{\"id\":\"1686\"},\"nonselection_glyph\":{\"id\":\"1685\"},\"selection_glyph\":{\"id\":\"1704\"},\"view\":{\"id\":\"1688\"}},\"id\":\"1687\",\"type\":\"GlyphRenderer\"},{\"attributes\":{},\"id\":\"1621\",\"type\":\"WheelZoomTool\"},{\"attributes\":{\"tools\":[{\"id\":\"1599\"},{\"id\":\"1619\"},{\"id\":\"1620\"},{\"id\":\"1621\"},{\"id\":\"1622\"},{\"id\":\"1623\"}]},\"id\":\"1625\",\"type\":\"Toolbar\"},{\"attributes\":{},\"id\":\"1607\",\"type\":\"LinearScale\"},{\"attributes\":{\"source\":{\"id\":\"1659\"}},\"id\":\"1666\",\"type\":\"CDSView\"},{\"attributes\":{\"overlay\":{\"id\":\"1624\"}},\"id\":\"1622\",\"type\":\"BoxZoomTool\"},{\"attributes\":{},\"id\":\"1682\",\"type\":\"Selection\"},{\"attributes\":{\"line_alpha\":0.2,\"line_color\":\"#e5ae38\",\"line_width\":2,\"x\":{\"field\":\"DraftYear\"},\"y\":{\"field\":\"PPG\"}},\"id\":\"1686\",\"type\":\"Line\"},{\"attributes\":{\"line_color\":\"#30a2da\",\"line_width\":2,\"x\":{\"field\":\"DraftYear\"},\"y\":{\"field\":\"PPG\"}},\"id\":\"1641\",\"type\":\"Line\"},{\"attributes\":{\"line_alpha\":0.1,\"line_color\":\"#e5ae38\",\"line_width\":2,\"x\":{\"field\":\"DraftYear\"},\"y\":{\"field\":\"PPG\"}},\"id\":\"1685\",\"type\":\"Line\"},{\"attributes\":{},\"id\":\"1616\",\"type\":\"BasicTicker\"},{\"attributes\":{},\"id\":\"1633\",\"type\":\"BasicTickFormatter\"},{\"attributes\":{\"line_color\":\"#e5ae38\",\"line_width\":2,\"x\":{\"field\":\"DraftYear\"},\"y\":{\"field\":\"PPG\"}},\"id\":\"1684\",\"type\":\"Line\"},{\"attributes\":{},\"id\":\"1623\",\"type\":\"ResetTool\"},{\"attributes\":{\"label\":{\"value\":\"Group-C\"},\"renderers\":[{\"id\":\"1687\"}]},\"id\":\"1703\",\"type\":\"LegendItem\"},{\"attributes\":{},\"id\":\"1700\",\"type\":\"UnionRenderers\"},{\"attributes\":{\"coordinates\":null,\"data_source\":{\"id\":\"1659\"},\"glyph\":{\"id\":\"1662\"},\"group\":null,\"hover_glyph\":null,\"muted_glyph\":{\"id\":\"1664\"},\"nonselection_glyph\":{\"id\":\"1663\"},\"selection_glyph\":{\"id\":\"1680\"},\"view\":{\"id\":\"1666\"}},\"id\":\"1665\",\"type\":\"GlyphRenderer\"},{\"attributes\":{\"data\":{\"DraftYear\":[2017,2018,2019,2020,2021],\"PPG\":{\"__ndarray__\":\"cT0K16NwIUDXo3A9CtcXQAAAAAAAACJAo3A9CtejHEAzMzMzMzMXQA==\",\"dtype\":\"float64\",\"order\":\"little\",\"shape\":[5]}},\"selected\":{\"id\":\"1682\"},\"selection_policy\":{\"id\":\"1700\"}},\"id\":\"1681\",\"type\":\"ColumnDataSource\"},{\"attributes\":{},\"id\":\"1609\",\"type\":\"LinearScale\"},{\"attributes\":{},\"id\":\"1660\",\"type\":\"Selection\"},{\"attributes\":{\"bottom_units\":\"screen\",\"coordinates\":null,\"fill_alpha\":0.5,\"fill_color\":\"lightgrey\",\"group\":null,\"left_units\":\"screen\",\"level\":\"overlay\",\"line_alpha\":1.0,\"line_color\":\"black\",\"line_dash\":[4,4],\"line_width\":2,\"right_units\":\"screen\",\"syncable\":false,\"top_units\":\"screen\"},\"id\":\"1624\",\"type\":\"BoxAnnotation\"},{\"attributes\":{\"line_alpha\":0.2,\"line_color\":\"#fc4f30\",\"line_width\":2,\"x\":{\"field\":\"DraftYear\"},\"y\":{\"field\":\"PPG\"}},\"id\":\"1664\",\"type\":\"Line\"},{\"attributes\":{\"margin\":[5,5,5,5],\"name\":\"HSpacer02871\",\"sizing_mode\":\"stretch_width\"},\"id\":\"1596\",\"type\":\"Spacer\"},{\"attributes\":{\"end\":20.584000000000003,\"reset_end\":20.584000000000003,\"reset_start\":4.4559999999999995,\"start\":4.4559999999999995,\"tags\":[[[\"PPG\",\"PPG\",null]]]},\"id\":\"1598\",\"type\":\"Range1d\"},{\"attributes\":{\"line_alpha\":0.1,\"line_color\":\"#fc4f30\",\"line_width\":2,\"x\":{\"field\":\"DraftYear\"},\"y\":{\"field\":\"PPG\"}},\"id\":\"1663\",\"type\":\"Line\"},{\"attributes\":{\"line_color\":\"#e5ae38\",\"line_width\":2,\"x\":{\"field\":\"DraftYear\"},\"y\":{\"field\":\"PPG\"}},\"id\":\"1704\",\"type\":\"Line\"},{\"attributes\":{\"end\":2021.0,\"reset_end\":2021.0,\"reset_start\":2017.0,\"start\":2017.0,\"tags\":[[[\"DraftYear\",\"DraftYear\",null]]]},\"id\":\"1597\",\"type\":\"Range1d\"},{\"attributes\":{\"coordinates\":null,\"group\":null,\"text\":\"Average 1st Round Picks Points Per Game 2017-2021\",\"text_color\":\"black\",\"text_font_size\":\"12pt\"},\"id\":\"1603\",\"type\":\"Title\"},{\"attributes\":{\"axis_label\":\"Draft Year\",\"coordinates\":null,\"formatter\":{\"id\":\"1633\"},\"group\":null,\"major_label_policy\":{\"id\":\"1634\"},\"ticker\":{\"id\":\"1612\"}},\"id\":\"1611\",\"type\":\"LinearAxis\"},{\"attributes\":{\"line_color\":\"#30a2da\",\"line_width\":2,\"x\":{\"field\":\"DraftYear\"},\"y\":{\"field\":\"PPG\"}},\"id\":\"1658\",\"type\":\"Line\"},{\"attributes\":{\"line_color\":\"#fc4f30\",\"line_width\":2,\"x\":{\"field\":\"DraftYear\"},\"y\":{\"field\":\"PPG\"}},\"id\":\"1662\",\"type\":\"Line\"},{\"attributes\":{},\"id\":\"1612\",\"type\":\"BasicTicker\"},{\"attributes\":{\"label\":{\"value\":\"Group-A\"},\"renderers\":[{\"id\":\"1644\"}]},\"id\":\"1657\",\"type\":\"LegendItem\"},{\"attributes\":{\"label\":{\"value\":\"Group-B\"},\"renderers\":[{\"id\":\"1665\"}]},\"id\":\"1679\",\"type\":\"LegendItem\"},{\"attributes\":{\"click_policy\":\"mute\",\"coordinates\":null,\"group\":null,\"items\":[{\"id\":\"1657\"},{\"id\":\"1679\"},{\"id\":\"1703\"}]},\"id\":\"1656\",\"type\":\"Legend\"},{\"attributes\":{\"data\":{\"DraftYear\":[2017,2018,2019,2020,2021],\"PPG\":{\"__ndarray__\":\"XY/C9ShcLUA+CtejcD0zQPYoXI/CdTJAUrgehetRK0DiehSuR+EsQA==\",\"dtype\":\"float64\",\"order\":\"little\",\"shape\":[5]}},\"selected\":{\"id\":\"1639\"},\"selection_policy\":{\"id\":\"1653\"}},\"id\":\"1638\",\"type\":\"ColumnDataSource\"},{\"attributes\":{\"axis_label\":\"Points Per Game\",\"coordinates\":null,\"formatter\":{\"id\":\"1636\"},\"group\":null,\"major_label_policy\":{\"id\":\"1637\"},\"ticker\":{\"id\":\"1616\"}},\"id\":\"1615\",\"type\":\"LinearAxis\"},{\"attributes\":{\"children\":[{\"id\":\"1596\"},{\"id\":\"1602\"},{\"id\":\"1831\"}],\"margin\":[0,0,0,0],\"name\":\"Row02867\",\"tags\":[\"embedded\"]},\"id\":\"1595\",\"type\":\"Row\"}],\"root_ids\":[\"1595\"]},\"title\":\"Bokeh Application\",\"version\":\"2.4.2\"}};\n",
       "    var render_items = [{\"docid\":\"19922b52-8c09-42e3-8a20-22ca5b7a694f\",\"root_ids\":[\"1595\"],\"roots\":{\"1595\":\"e7d2c395-60b2-4925-a332-12bf6a8cb2f5\"}}];\n",
       "    root.Bokeh.embed.embed_items_notebook(docs_json, render_items);\n",
       "  }\n",
       "  if (root.Bokeh !== undefined && root.Bokeh.Panel !== undefined) {\n",
       "    embed_document(root);\n",
       "  } else {\n",
       "    var attempts = 0;\n",
       "    var timer = setInterval(function(root) {\n",
       "      if (root.Bokeh !== undefined && root.Bokeh.Panel !== undefined) {\n",
       "        clearInterval(timer);\n",
       "        embed_document(root);\n",
       "      } else if (document.readyState == \"complete\") {\n",
       "        attempts++;\n",
       "        if (attempts > 200) {\n",
       "          clearInterval(timer);\n",
       "          console.log(\"Bokeh: ERROR: Unable to run BokehJS code because BokehJS library is missing\");\n",
       "        }\n",
       "      }\n",
       "    }, 25, root)\n",
       "  }\n",
       "})(window);</script>"
      ],
      "text/plain": [
       ":Overlay\n",
       "   .Curve.Group_hyphen_minus_A :Curve   [DraftYear]   (PPG)\n",
       "   .Curve.Group_hyphen_minus_B :Curve   [DraftYear]   (PPG)\n",
       "   .Curve.Group_hyphen_minus_C :Curve   [DraftYear]   (PPG)"
      ]
     },
     "execution_count": 60,
     "metadata": {
      "application/vnd.holoviews_exec.v0+json": {
       "id": "1595"
      }
     },
     "output_type": "execute_result"
    }
   ],
   "source": [
    "# Overlay all groups points per game 2017-2021\n",
    "all_group_ppg_plot = group_a_ppg_plot * group_b_ppg_plot * group_c_ppg_plot\n",
    "all_group_ppg_plot"
   ]
  },
  {
   "cell_type": "code",
   "execution_count": null,
   "id": "1126610d-3850-491e-ae7b-02ce4f9e32ac",
   "metadata": {},
   "outputs": [],
   "source": []
  },
  {
   "cell_type": "code",
   "execution_count": 61,
   "id": "c75eae7a-a928-4a3c-b7f3-a75c4ad183df",
   "metadata": {},
   "outputs": [],
   "source": [
    "# Use hvplot to visualize group A's rebounds per game 2017-2021\n",
    "group_a_rpg_plot = group_a_ave['RPG'].hvplot(\n",
    "    title='Average 1st Round Picks Rebounds Per Game 2017-2021',\n",
    "    x='DraftYear',\n",
    "    y='RPG',\n",
    "    xlabel='Draft Year',\n",
    "    ylabel='Rebounds Per Game',\n",
    "    label='Group-A'\n",
    ")"
   ]
  },
  {
   "cell_type": "code",
   "execution_count": 62,
   "id": "378112f1-1dc9-4a8b-8ff0-ebe9b04fa0eb",
   "metadata": {},
   "outputs": [],
   "source": [
    "# Use hvplot to visualize group B's rebounds per game 2017-2021\n",
    "group_b_rpg_plot = group_b_ave['RPG'].hvplot(\n",
    "    title='Average 1st Round Picks Rebounds Per Game 2017-2021',\n",
    "    x='DraftYear',\n",
    "    y='RPG',\n",
    "    xlabel='Draft Year',\n",
    "    ylabel='Rebounds Per Game',\n",
    "    label='Group-B'\n",
    ")"
   ]
  },
  {
   "cell_type": "code",
   "execution_count": 63,
   "id": "7a46ce70-cf37-49b2-873d-4cd3c5b4f77d",
   "metadata": {},
   "outputs": [],
   "source": [
    "# Use hvplot to visualize group C's rebounds per game 2017-2021\n",
    "group_c_rpg_plot = group_c_ave['RPG'].hvplot(\n",
    "    title='Average 1st Round Picks Rebounds Per Game 2017-2021',\n",
    "    x='DraftYear',\n",
    "    y='RPG',\n",
    "    xlabel='Draft Year',\n",
    "    ylabel='Rebounds Per Game',\n",
    "    label='Group-C'\n",
    ")"
   ]
  },
  {
   "cell_type": "code",
   "execution_count": 64,
   "id": "d5863a3c-999b-4eae-97b1-51f9c1b5c63b",
   "metadata": {},
   "outputs": [
    {
     "data": {},
     "metadata": {},
     "output_type": "display_data"
    },
    {
     "data": {
      "application/vnd.holoviews_exec.v0+json": "",
      "text/html": [
       "<div id='1903'>\n",
       "\n",
       "\n",
       "\n",
       "\n",
       "\n",
       "  <div class=\"bk-root\" id=\"f91f8e7e-92c6-40aa-afe8-87fd4f75a1b7\" data-root-id=\"1903\"></div>\n",
       "</div>\n",
       "<script type=\"application/javascript\">(function(root) {\n",
       "  function embed_document(root) {\n",
       "    var docs_json = {\"761c24ac-1437-4687-b12b-2fd2353899fb\":{\"defs\":[{\"extends\":null,\"module\":null,\"name\":\"ReactiveHTML1\",\"overrides\":[],\"properties\":[]},{\"extends\":null,\"module\":null,\"name\":\"FlexBox1\",\"overrides\":[],\"properties\":[{\"default\":\"flex-start\",\"kind\":null,\"name\":\"align_content\"},{\"default\":\"flex-start\",\"kind\":null,\"name\":\"align_items\"},{\"default\":\"row\",\"kind\":null,\"name\":\"flex_direction\"},{\"default\":\"wrap\",\"kind\":null,\"name\":\"flex_wrap\"},{\"default\":\"flex-start\",\"kind\":null,\"name\":\"justify_content\"}]},{\"extends\":null,\"module\":null,\"name\":\"TemplateActions1\",\"overrides\":[],\"properties\":[{\"default\":0,\"kind\":null,\"name\":\"open_modal\"},{\"default\":0,\"kind\":null,\"name\":\"close_modal\"}]},{\"extends\":null,\"module\":null,\"name\":\"MaterialTemplateActions1\",\"overrides\":[],\"properties\":[{\"default\":0,\"kind\":null,\"name\":\"open_modal\"},{\"default\":0,\"kind\":null,\"name\":\"close_modal\"}]}],\"roots\":{\"references\":[{\"attributes\":{},\"id\":\"1947\",\"type\":\"Selection\"},{\"attributes\":{\"axis_label\":\"Draft Year\",\"coordinates\":null,\"formatter\":{\"id\":\"1941\"},\"group\":null,\"major_label_policy\":{\"id\":\"1942\"},\"ticker\":{\"id\":\"1920\"}},\"id\":\"1919\",\"type\":\"LinearAxis\"},{\"attributes\":{\"bottom_units\":\"screen\",\"coordinates\":null,\"fill_alpha\":0.5,\"fill_color\":\"lightgrey\",\"group\":null,\"left_units\":\"screen\",\"level\":\"overlay\",\"line_alpha\":1.0,\"line_color\":\"black\",\"line_dash\":[4,4],\"line_width\":2,\"right_units\":\"screen\",\"syncable\":false,\"top_units\":\"screen\"},\"id\":\"1932\",\"type\":\"BoxAnnotation\"},{\"attributes\":{\"coordinates\":null,\"data_source\":{\"id\":\"1946\"},\"glyph\":{\"id\":\"1949\"},\"group\":null,\"hover_glyph\":null,\"muted_glyph\":{\"id\":\"1951\"},\"nonselection_glyph\":{\"id\":\"1950\"},\"selection_glyph\":{\"id\":\"1966\"},\"view\":{\"id\":\"1953\"}},\"id\":\"1952\",\"type\":\"GlyphRenderer\"},{\"attributes\":{\"coordinates\":null,\"data_source\":{\"id\":\"1967\"},\"glyph\":{\"id\":\"1970\"},\"group\":null,\"hover_glyph\":null,\"muted_glyph\":{\"id\":\"1972\"},\"nonselection_glyph\":{\"id\":\"1971\"},\"selection_glyph\":{\"id\":\"1988\"},\"view\":{\"id\":\"1974\"}},\"id\":\"1973\",\"type\":\"GlyphRenderer\"},{\"attributes\":{\"axis_label\":\"Rebounds Per Game\",\"coordinates\":null,\"formatter\":{\"id\":\"1944\"},\"group\":null,\"major_label_policy\":{\"id\":\"1945\"},\"ticker\":{\"id\":\"1924\"}},\"id\":\"1923\",\"type\":\"LinearAxis\"},{\"attributes\":{\"source\":{\"id\":\"1946\"}},\"id\":\"1953\",\"type\":\"CDSView\"},{\"attributes\":{\"line_alpha\":0.2,\"line_color\":\"#fc4f30\",\"line_width\":2,\"x\":{\"field\":\"DraftYear\"},\"y\":{\"field\":\"RPG\"}},\"id\":\"1972\",\"type\":\"Line\"},{\"attributes\":{\"line_color\":\"#e5ae38\",\"line_width\":2,\"x\":{\"field\":\"DraftYear\"},\"y\":{\"field\":\"RPG\"}},\"id\":\"2012\",\"type\":\"Line\"},{\"attributes\":{},\"id\":\"1968\",\"type\":\"Selection\"},{\"attributes\":{},\"id\":\"1944\",\"type\":\"BasicTickFormatter\"},{\"attributes\":{\"line_color\":\"#fc4f30\",\"line_width\":2,\"x\":{\"field\":\"DraftYear\"},\"y\":{\"field\":\"RPG\"}},\"id\":\"1988\",\"type\":\"Line\"},{\"attributes\":{},\"id\":\"1920\",\"type\":\"BasicTicker\"},{\"attributes\":{},\"id\":\"1984\",\"type\":\"UnionRenderers\"},{\"attributes\":{\"end\":7.534,\"reset_end\":7.534,\"reset_start\":2.326,\"start\":2.326,\"tags\":[[[\"RPG\",\"RPG\",null]]]},\"id\":\"1906\",\"type\":\"Range1d\"},{\"attributes\":{\"data\":{\"DraftYear\":[2017,2018,2019,2020,2021],\"RPG\":{\"__ndarray__\":\"j8L1KFyPEEB7FK5H4XoMQD0K16NwPQpApHA9CtejEEDWo3A9CtcHQA==\",\"dtype\":\"float64\",\"order\":\"little\",\"shape\":[5]}},\"selected\":{\"id\":\"1968\"},\"selection_policy\":{\"id\":\"1984\"}},\"id\":\"1967\",\"type\":\"ColumnDataSource\"},{\"attributes\":{\"source\":{\"id\":\"1967\"}},\"id\":\"1974\",\"type\":\"CDSView\"},{\"attributes\":{\"children\":[{\"id\":\"1904\"},{\"id\":\"1910\"},{\"id\":\"2139\"}],\"margin\":[0,0,0,0],\"name\":\"Row03555\",\"tags\":[\"embedded\"]},\"id\":\"1903\",\"type\":\"Row\"},{\"attributes\":{\"axis\":{\"id\":\"1919\"},\"coordinates\":null,\"grid_line_color\":null,\"group\":null,\"ticker\":null},\"id\":\"1922\",\"type\":\"Grid\"},{\"attributes\":{},\"id\":\"1924\",\"type\":\"BasicTicker\"},{\"attributes\":{},\"id\":\"2008\",\"type\":\"UnionRenderers\"},{\"attributes\":{\"margin\":[5,5,5,5],\"name\":\"HSpacer03560\",\"sizing_mode\":\"stretch_width\"},\"id\":\"2139\",\"type\":\"Spacer\"},{\"attributes\":{\"line_color\":\"#e5ae38\",\"line_width\":2,\"x\":{\"field\":\"DraftYear\"},\"y\":{\"field\":\"RPG\"}},\"id\":\"1992\",\"type\":\"Line\"},{\"attributes\":{\"margin\":[5,5,5,5],\"name\":\"HSpacer03559\",\"sizing_mode\":\"stretch_width\"},\"id\":\"1904\",\"type\":\"Spacer\"},{\"attributes\":{\"axis\":{\"id\":\"1923\"},\"coordinates\":null,\"dimension\":1,\"grid_line_color\":null,\"group\":null,\"ticker\":null},\"id\":\"1926\",\"type\":\"Grid\"},{\"attributes\":{\"data\":{\"DraftYear\":[2017,2018,2019,2020,2021],\"RPG\":{\"__ndarray__\":\"j8L1KFyPEkBmZmZmZmYcQPYoXI/C9RJAmpmZmZmZE0A+CtejcD0WQA==\",\"dtype\":\"float64\",\"order\":\"little\",\"shape\":[5]}},\"selected\":{\"id\":\"1947\"},\"selection_policy\":{\"id\":\"1961\"}},\"id\":\"1946\",\"type\":\"ColumnDataSource\"},{\"attributes\":{\"line_alpha\":0.2,\"line_color\":\"#30a2da\",\"line_width\":2,\"x\":{\"field\":\"DraftYear\"},\"y\":{\"field\":\"RPG\"}},\"id\":\"1951\",\"type\":\"Line\"},{\"attributes\":{},\"id\":\"1945\",\"type\":\"AllLabels\"},{\"attributes\":{\"line_color\":\"#30a2da\",\"line_width\":2,\"x\":{\"field\":\"DraftYear\"},\"y\":{\"field\":\"RPG\"}},\"id\":\"1966\",\"type\":\"Line\"},{\"attributes\":{\"label\":{\"value\":\"Group-C\"},\"renderers\":[{\"id\":\"1995\"}]},\"id\":\"2011\",\"type\":\"LegendItem\"},{\"attributes\":{\"line_color\":\"#30a2da\",\"line_width\":2,\"x\":{\"field\":\"DraftYear\"},\"y\":{\"field\":\"RPG\"}},\"id\":\"1949\",\"type\":\"Line\"},{\"attributes\":{\"line_color\":\"#fc4f30\",\"line_width\":2,\"x\":{\"field\":\"DraftYear\"},\"y\":{\"field\":\"RPG\"}},\"id\":\"1970\",\"type\":\"Line\"},{\"attributes\":{\"source\":{\"id\":\"1989\"}},\"id\":\"1996\",\"type\":\"CDSView\"},{\"attributes\":{\"click_policy\":\"mute\",\"coordinates\":null,\"group\":null,\"items\":[{\"id\":\"1965\"},{\"id\":\"1987\"},{\"id\":\"2011\"}]},\"id\":\"1964\",\"type\":\"Legend\"},{\"attributes\":{},\"id\":\"1927\",\"type\":\"SaveTool\"},{\"attributes\":{},\"id\":\"1917\",\"type\":\"LinearScale\"},{\"attributes\":{},\"id\":\"1961\",\"type\":\"UnionRenderers\"},{\"attributes\":{\"end\":2021.0,\"reset_end\":2021.0,\"reset_start\":2017.0,\"start\":2017.0,\"tags\":[[[\"DraftYear\",\"DraftYear\",null]]]},\"id\":\"1905\",\"type\":\"Range1d\"},{\"attributes\":{},\"id\":\"1928\",\"type\":\"PanTool\"},{\"attributes\":{\"below\":[{\"id\":\"1919\"}],\"center\":[{\"id\":\"1922\"},{\"id\":\"1926\"},{\"id\":\"1964\"}],\"height\":300,\"left\":[{\"id\":\"1923\"}],\"margin\":[5,5,5,5],\"min_border_bottom\":10,\"min_border_left\":10,\"min_border_right\":10,\"min_border_top\":10,\"renderers\":[{\"id\":\"1952\"},{\"id\":\"1973\"},{\"id\":\"1995\"}],\"sizing_mode\":\"fixed\",\"title\":{\"id\":\"1911\"},\"toolbar\":{\"id\":\"1933\"},\"width\":700,\"x_range\":{\"id\":\"1905\"},\"x_scale\":{\"id\":\"1915\"},\"y_range\":{\"id\":\"1906\"},\"y_scale\":{\"id\":\"1917\"}},\"id\":\"1910\",\"subtype\":\"Figure\",\"type\":\"Plot\"},{\"attributes\":{\"coordinates\":null,\"data_source\":{\"id\":\"1989\"},\"glyph\":{\"id\":\"1992\"},\"group\":null,\"hover_glyph\":null,\"muted_glyph\":{\"id\":\"1994\"},\"nonselection_glyph\":{\"id\":\"1993\"},\"selection_glyph\":{\"id\":\"2012\"},\"view\":{\"id\":\"1996\"}},\"id\":\"1995\",\"type\":\"GlyphRenderer\"},{\"attributes\":{},\"id\":\"1929\",\"type\":\"WheelZoomTool\"},{\"attributes\":{\"tools\":[{\"id\":\"1907\"},{\"id\":\"1927\"},{\"id\":\"1928\"},{\"id\":\"1929\"},{\"id\":\"1930\"},{\"id\":\"1931\"}]},\"id\":\"1933\",\"type\":\"Toolbar\"},{\"attributes\":{\"callback\":null,\"renderers\":[{\"id\":\"1952\"},{\"id\":\"1973\"},{\"id\":\"1995\"}],\"tags\":[\"hv_created\"],\"tooltips\":[[\"DraftYear\",\"@{DraftYear}\"],[\"RPG\",\"@{RPG}\"]]},\"id\":\"1907\",\"type\":\"HoverTool\"},{\"attributes\":{\"label\":{\"value\":\"Group-B\"},\"renderers\":[{\"id\":\"1973\"}]},\"id\":\"1987\",\"type\":\"LegendItem\"},{\"attributes\":{\"overlay\":{\"id\":\"1932\"}},\"id\":\"1930\",\"type\":\"BoxZoomTool\"},{\"attributes\":{},\"id\":\"1941\",\"type\":\"BasicTickFormatter\"},{\"attributes\":{\"label\":{\"value\":\"Group-A\"},\"renderers\":[{\"id\":\"1952\"}]},\"id\":\"1965\",\"type\":\"LegendItem\"},{\"attributes\":{},\"id\":\"1990\",\"type\":\"Selection\"},{\"attributes\":{},\"id\":\"1915\",\"type\":\"LinearScale\"},{\"attributes\":{\"line_alpha\":0.1,\"line_color\":\"#fc4f30\",\"line_width\":2,\"x\":{\"field\":\"DraftYear\"},\"y\":{\"field\":\"RPG\"}},\"id\":\"1971\",\"type\":\"Line\"},{\"attributes\":{\"line_alpha\":0.2,\"line_color\":\"#e5ae38\",\"line_width\":2,\"x\":{\"field\":\"DraftYear\"},\"y\":{\"field\":\"RPG\"}},\"id\":\"1994\",\"type\":\"Line\"},{\"attributes\":{\"line_alpha\":0.1,\"line_color\":\"#30a2da\",\"line_width\":2,\"x\":{\"field\":\"DraftYear\"},\"y\":{\"field\":\"RPG\"}},\"id\":\"1950\",\"type\":\"Line\"},{\"attributes\":{\"line_alpha\":0.1,\"line_color\":\"#e5ae38\",\"line_width\":2,\"x\":{\"field\":\"DraftYear\"},\"y\":{\"field\":\"RPG\"}},\"id\":\"1993\",\"type\":\"Line\"},{\"attributes\":{},\"id\":\"1942\",\"type\":\"AllLabels\"},{\"attributes\":{\"coordinates\":null,\"group\":null,\"text\":\"Average 1st Round Picks Rebounds Per Game 2017-2021\",\"text_color\":\"black\",\"text_font_size\":\"12pt\"},\"id\":\"1911\",\"type\":\"Title\"},{\"attributes\":{\"data\":{\"DraftYear\":[2017,2018,2019,2020,2021],\"RPG\":{\"__ndarray__\":\"KVyPwvUoEkDNzMzMzMwIQM3MzMzMzAhAj8L1KFyPBkAVrkfhehQGQA==\",\"dtype\":\"float64\",\"order\":\"little\",\"shape\":[5]}},\"selected\":{\"id\":\"1990\"},\"selection_policy\":{\"id\":\"2008\"}},\"id\":\"1989\",\"type\":\"ColumnDataSource\"},{\"attributes\":{},\"id\":\"1931\",\"type\":\"ResetTool\"}],\"root_ids\":[\"1903\"]},\"title\":\"Bokeh Application\",\"version\":\"2.4.2\"}};\n",
       "    var render_items = [{\"docid\":\"761c24ac-1437-4687-b12b-2fd2353899fb\",\"root_ids\":[\"1903\"],\"roots\":{\"1903\":\"f91f8e7e-92c6-40aa-afe8-87fd4f75a1b7\"}}];\n",
       "    root.Bokeh.embed.embed_items_notebook(docs_json, render_items);\n",
       "  }\n",
       "  if (root.Bokeh !== undefined && root.Bokeh.Panel !== undefined) {\n",
       "    embed_document(root);\n",
       "  } else {\n",
       "    var attempts = 0;\n",
       "    var timer = setInterval(function(root) {\n",
       "      if (root.Bokeh !== undefined && root.Bokeh.Panel !== undefined) {\n",
       "        clearInterval(timer);\n",
       "        embed_document(root);\n",
       "      } else if (document.readyState == \"complete\") {\n",
       "        attempts++;\n",
       "        if (attempts > 200) {\n",
       "          clearInterval(timer);\n",
       "          console.log(\"Bokeh: ERROR: Unable to run BokehJS code because BokehJS library is missing\");\n",
       "        }\n",
       "      }\n",
       "    }, 25, root)\n",
       "  }\n",
       "})(window);</script>"
      ],
      "text/plain": [
       ":Overlay\n",
       "   .Curve.Group_hyphen_minus_A :Curve   [DraftYear]   (RPG)\n",
       "   .Curve.Group_hyphen_minus_B :Curve   [DraftYear]   (RPG)\n",
       "   .Curve.Group_hyphen_minus_C :Curve   [DraftYear]   (RPG)"
      ]
     },
     "execution_count": 64,
     "metadata": {
      "application/vnd.holoviews_exec.v0+json": {
       "id": "1903"
      }
     },
     "output_type": "execute_result"
    }
   ],
   "source": [
    "# Overlay all groups rebounds per game 2017-2021\n",
    "group_a_rpg_plot * group_b_rpg_plot * group_c_rpg_plot"
   ]
  },
  {
   "cell_type": "code",
   "execution_count": null,
   "id": "20b99e7e-b683-447f-98d3-32791d61dc6c",
   "metadata": {},
   "outputs": [],
   "source": []
  },
  {
   "cell_type": "code",
   "execution_count": 65,
   "id": "d7c9282d-30b2-4346-99b0-1300c1efa2dd",
   "metadata": {},
   "outputs": [],
   "source": [
    "# Use hvplot to visualize group A's assists per game 2017-2021\n",
    "group_a_apg_plot = group_a_ave['APG'].hvplot(\n",
    "    title='Average 1st Round Picks Assists Per Game 2017-2021',\n",
    "    x='DraftYear',\n",
    "    y='APG',\n",
    "    xlabel='Draft Year',\n",
    "    ylabel='Assists Per Game',\n",
    "    label='Group-A'\n",
    ")"
   ]
  },
  {
   "cell_type": "code",
   "execution_count": 66,
   "id": "48e66f05-01f2-4d0a-9644-10cf34b7f668",
   "metadata": {},
   "outputs": [],
   "source": [
    "# Use hvplot to visualize group B's assists per game 2017-2021\n",
    "group_b_apg_plot = group_b_ave['APG'].hvplot(\n",
    "    title='Average 1st Round Picks Assists Per Game 2017-2021',\n",
    "    x='DraftYear',\n",
    "    y='APG',\n",
    "    xlabel='Draft Year',\n",
    "    ylabel='Assists Per Game',\n",
    "    label='Group-B'\n",
    ")"
   ]
  },
  {
   "cell_type": "code",
   "execution_count": 67,
   "id": "ac702d2e-20c4-4a46-bb32-4f8a9817098f",
   "metadata": {},
   "outputs": [],
   "source": [
    "# Use hvplot to visualize group C's assists per game 2017-2021\n",
    "group_c_apg_plot = group_c_ave['APG'].hvplot(\n",
    "    title='Average 1st Round Picks Assists Per Game 2017-2021',\n",
    "    x='DraftYear',\n",
    "    y='APG',\n",
    "    xlabel='Draft Year',\n",
    "    ylabel='Assists Per Game',\n",
    "    label='Group-C'\n",
    ")"
   ]
  },
  {
   "cell_type": "code",
   "execution_count": 68,
   "id": "133f7f55-a53b-46b9-bd96-5239114a43cf",
   "metadata": {},
   "outputs": [
    {
     "data": {},
     "metadata": {},
     "output_type": "display_data"
    },
    {
     "data": {
      "application/vnd.holoviews_exec.v0+json": "",
      "text/html": [
       "<div id='2211'>\n",
       "\n",
       "\n",
       "\n",
       "\n",
       "\n",
       "  <div class=\"bk-root\" id=\"a821595d-f3a1-4fe3-8e87-195c3e883c42\" data-root-id=\"2211\"></div>\n",
       "</div>\n",
       "<script type=\"application/javascript\">(function(root) {\n",
       "  function embed_document(root) {\n",
       "    var docs_json = {\"1c9b63fc-0d2a-430f-9f0b-d67a3343b43a\":{\"defs\":[{\"extends\":null,\"module\":null,\"name\":\"ReactiveHTML1\",\"overrides\":[],\"properties\":[]},{\"extends\":null,\"module\":null,\"name\":\"FlexBox1\",\"overrides\":[],\"properties\":[{\"default\":\"flex-start\",\"kind\":null,\"name\":\"align_content\"},{\"default\":\"flex-start\",\"kind\":null,\"name\":\"align_items\"},{\"default\":\"row\",\"kind\":null,\"name\":\"flex_direction\"},{\"default\":\"wrap\",\"kind\":null,\"name\":\"flex_wrap\"},{\"default\":\"flex-start\",\"kind\":null,\"name\":\"justify_content\"}]},{\"extends\":null,\"module\":null,\"name\":\"TemplateActions1\",\"overrides\":[],\"properties\":[{\"default\":0,\"kind\":null,\"name\":\"open_modal\"},{\"default\":0,\"kind\":null,\"name\":\"close_modal\"}]},{\"extends\":null,\"module\":null,\"name\":\"MaterialTemplateActions1\",\"overrides\":[],\"properties\":[{\"default\":0,\"kind\":null,\"name\":\"open_modal\"},{\"default\":0,\"kind\":null,\"name\":\"close_modal\"}]}],\"roots\":{\"references\":[{\"attributes\":{},\"id\":\"2223\",\"type\":\"LinearScale\"},{\"attributes\":{},\"id\":\"2269\",\"type\":\"UnionRenderers\"},{\"attributes\":{},\"id\":\"2236\",\"type\":\"PanTool\"},{\"attributes\":{\"line_alpha\":0.1,\"line_color\":\"#e5ae38\",\"line_width\":2,\"x\":{\"field\":\"DraftYear\"},\"y\":{\"field\":\"APG\"}},\"id\":\"2301\",\"type\":\"Line\"},{\"attributes\":{\"below\":[{\"id\":\"2227\"}],\"center\":[{\"id\":\"2230\"},{\"id\":\"2234\"},{\"id\":\"2272\"}],\"height\":300,\"left\":[{\"id\":\"2231\"}],\"margin\":[5,5,5,5],\"min_border_bottom\":10,\"min_border_left\":10,\"min_border_right\":10,\"min_border_top\":10,\"renderers\":[{\"id\":\"2260\"},{\"id\":\"2281\"},{\"id\":\"2303\"}],\"sizing_mode\":\"fixed\",\"title\":{\"id\":\"2219\"},\"toolbar\":{\"id\":\"2241\"},\"width\":700,\"x_range\":{\"id\":\"2213\"},\"x_scale\":{\"id\":\"2223\"},\"y_range\":{\"id\":\"2214\"},\"y_scale\":{\"id\":\"2225\"}},\"id\":\"2218\",\"subtype\":\"Figure\",\"type\":\"Plot\"},{\"attributes\":{\"line_color\":\"#e5ae38\",\"line_width\":2,\"x\":{\"field\":\"DraftYear\"},\"y\":{\"field\":\"APG\"}},\"id\":\"2320\",\"type\":\"Line\"},{\"attributes\":{},\"id\":\"2237\",\"type\":\"WheelZoomTool\"},{\"attributes\":{\"line_alpha\":0.2,\"line_color\":\"#e5ae38\",\"line_width\":2,\"x\":{\"field\":\"DraftYear\"},\"y\":{\"field\":\"APG\"}},\"id\":\"2302\",\"type\":\"Line\"},{\"attributes\":{\"callback\":null,\"renderers\":[{\"id\":\"2260\"},{\"id\":\"2281\"},{\"id\":\"2303\"}],\"tags\":[\"hv_created\"],\"tooltips\":[[\"DraftYear\",\"@{DraftYear}\"],[\"APG\",\"@{APG}\"]]},\"id\":\"2215\",\"type\":\"HoverTool\"},{\"attributes\":{\"overlay\":{\"id\":\"2240\"}},\"id\":\"2238\",\"type\":\"BoxZoomTool\"},{\"attributes\":{\"label\":{\"value\":\"Group-A\"},\"renderers\":[{\"id\":\"2260\"}]},\"id\":\"2273\",\"type\":\"LegendItem\"},{\"attributes\":{\"source\":{\"id\":\"2254\"}},\"id\":\"2261\",\"type\":\"CDSView\"},{\"attributes\":{\"coordinates\":null,\"data_source\":{\"id\":\"2297\"},\"glyph\":{\"id\":\"2300\"},\"group\":null,\"hover_glyph\":null,\"muted_glyph\":{\"id\":\"2302\"},\"nonselection_glyph\":{\"id\":\"2301\"},\"selection_glyph\":{\"id\":\"2320\"},\"view\":{\"id\":\"2304\"}},\"id\":\"2303\",\"type\":\"GlyphRenderer\"},{\"attributes\":{\"data\":{\"APG\":{\"__ndarray__\":\"cD0K16Nw/T+PwvUoXI/yPylcj8L1KABACtejcD0K9z+F61G4HoXrPw==\",\"dtype\":\"float64\",\"order\":\"little\",\"shape\":[5]},\"DraftYear\":[2017,2018,2019,2020,2021]},\"selected\":{\"id\":\"2298\"},\"selection_policy\":{\"id\":\"2316\"}},\"id\":\"2297\",\"type\":\"ColumnDataSource\"},{\"attributes\":{\"coordinates\":null,\"data_source\":{\"id\":\"2275\"},\"glyph\":{\"id\":\"2278\"},\"group\":null,\"hover_glyph\":null,\"muted_glyph\":{\"id\":\"2280\"},\"nonselection_glyph\":{\"id\":\"2279\"},\"selection_glyph\":{\"id\":\"2296\"},\"view\":{\"id\":\"2282\"}},\"id\":\"2281\",\"type\":\"GlyphRenderer\"},{\"attributes\":{},\"id\":\"2239\",\"type\":\"ResetTool\"},{\"attributes\":{},\"id\":\"2249\",\"type\":\"BasicTickFormatter\"},{\"attributes\":{},\"id\":\"2316\",\"type\":\"UnionRenderers\"},{\"attributes\":{},\"id\":\"2225\",\"type\":\"LinearScale\"},{\"attributes\":{\"source\":{\"id\":\"2297\"}},\"id\":\"2304\",\"type\":\"CDSView\"},{\"attributes\":{},\"id\":\"2235\",\"type\":\"SaveTool\"},{\"attributes\":{\"children\":[{\"id\":\"2212\"},{\"id\":\"2218\"},{\"id\":\"2447\"}],\"margin\":[0,0,0,0],\"name\":\"Row04243\",\"tags\":[\"embedded\"]},\"id\":\"2211\",\"type\":\"Row\"},{\"attributes\":{\"click_policy\":\"mute\",\"coordinates\":null,\"group\":null,\"items\":[{\"id\":\"2273\"},{\"id\":\"2295\"},{\"id\":\"2319\"}]},\"id\":\"2272\",\"type\":\"Legend\"},{\"attributes\":{},\"id\":\"2276\",\"type\":\"Selection\"},{\"attributes\":{\"line_color\":\"#30a2da\",\"line_width\":2,\"x\":{\"field\":\"DraftYear\"},\"y\":{\"field\":\"APG\"}},\"id\":\"2257\",\"type\":\"Line\"},{\"attributes\":{\"line_alpha\":0.2,\"line_color\":\"#fc4f30\",\"line_width\":2,\"x\":{\"field\":\"DraftYear\"},\"y\":{\"field\":\"APG\"}},\"id\":\"2280\",\"type\":\"Line\"},{\"attributes\":{\"margin\":[5,5,5,5],\"name\":\"HSpacer04247\",\"sizing_mode\":\"stretch_width\"},\"id\":\"2212\",\"type\":\"Spacer\"},{\"attributes\":{\"line_alpha\":0.1,\"line_color\":\"#fc4f30\",\"line_width\":2,\"x\":{\"field\":\"DraftYear\"},\"y\":{\"field\":\"APG\"}},\"id\":\"2279\",\"type\":\"Line\"},{\"attributes\":{\"bottom_units\":\"screen\",\"coordinates\":null,\"fill_alpha\":0.5,\"fill_color\":\"lightgrey\",\"group\":null,\"left_units\":\"screen\",\"level\":\"overlay\",\"line_alpha\":1.0,\"line_color\":\"black\",\"line_dash\":[4,4],\"line_width\":2,\"right_units\":\"screen\",\"syncable\":false,\"top_units\":\"screen\"},\"id\":\"2240\",\"type\":\"BoxAnnotation\"},{\"attributes\":{\"coordinates\":null,\"group\":null,\"text\":\"Average 1st Round Picks Assists Per Game 2017-2021\",\"text_color\":\"black\",\"text_font_size\":\"12pt\"},\"id\":\"2219\",\"type\":\"Title\"},{\"attributes\":{\"axis_label\":\"Draft Year\",\"coordinates\":null,\"formatter\":{\"id\":\"2249\"},\"group\":null,\"major_label_policy\":{\"id\":\"2250\"},\"ticker\":{\"id\":\"2228\"}},\"id\":\"2227\",\"type\":\"LinearAxis\"},{\"attributes\":{\"line_color\":\"#fc4f30\",\"line_width\":2,\"x\":{\"field\":\"DraftYear\"},\"y\":{\"field\":\"APG\"}},\"id\":\"2278\",\"type\":\"Line\"},{\"attributes\":{},\"id\":\"2252\",\"type\":\"BasicTickFormatter\"},{\"attributes\":{\"line_color\":\"#30a2da\",\"line_width\":2,\"x\":{\"field\":\"DraftYear\"},\"y\":{\"field\":\"APG\"}},\"id\":\"2274\",\"type\":\"Line\"},{\"attributes\":{},\"id\":\"2228\",\"type\":\"BasicTicker\"},{\"attributes\":{\"label\":{\"value\":\"Group-B\"},\"renderers\":[{\"id\":\"2281\"}]},\"id\":\"2295\",\"type\":\"LegendItem\"},{\"attributes\":{},\"id\":\"2250\",\"type\":\"AllLabels\"},{\"attributes\":{\"end\":4.710000000000001,\"reset_end\":4.710000000000001,\"reset_start\":0.5099999999999999,\"start\":0.5099999999999999,\"tags\":[[[\"APG\",\"APG\",null]]]},\"id\":\"2214\",\"type\":\"Range1d\"},{\"attributes\":{\"axis\":{\"id\":\"2227\"},\"coordinates\":null,\"grid_line_color\":null,\"group\":null,\"ticker\":null},\"id\":\"2230\",\"type\":\"Grid\"},{\"attributes\":{},\"id\":\"2232\",\"type\":\"BasicTicker\"},{\"attributes\":{\"data\":{\"APG\":{\"__ndarray__\":\"cT0K16NwEUBmZmZmZmYQQI/C9ShcjxBAZmZmZmZmBkB7FK5H4XoMQA==\",\"dtype\":\"float64\",\"order\":\"little\",\"shape\":[5]},\"DraftYear\":[2017,2018,2019,2020,2021]},\"selected\":{\"id\":\"2255\"},\"selection_policy\":{\"id\":\"2269\"}},\"id\":\"2254\",\"type\":\"ColumnDataSource\"},{\"attributes\":{\"line_color\":\"#fc4f30\",\"line_width\":2,\"x\":{\"field\":\"DraftYear\"},\"y\":{\"field\":\"APG\"}},\"id\":\"2296\",\"type\":\"Line\"},{\"attributes\":{\"axis\":{\"id\":\"2231\"},\"coordinates\":null,\"dimension\":1,\"grid_line_color\":null,\"group\":null,\"ticker\":null},\"id\":\"2234\",\"type\":\"Grid\"},{\"attributes\":{\"label\":{\"value\":\"Group-C\"},\"renderers\":[{\"id\":\"2303\"}]},\"id\":\"2319\",\"type\":\"LegendItem\"},{\"attributes\":{\"axis_label\":\"Assists Per Game\",\"coordinates\":null,\"formatter\":{\"id\":\"2252\"},\"group\":null,\"major_label_policy\":{\"id\":\"2253\"},\"ticker\":{\"id\":\"2232\"}},\"id\":\"2231\",\"type\":\"LinearAxis\"},{\"attributes\":{\"source\":{\"id\":\"2275\"}},\"id\":\"2282\",\"type\":\"CDSView\"},{\"attributes\":{},\"id\":\"2298\",\"type\":\"Selection\"},{\"attributes\":{\"margin\":[5,5,5,5],\"name\":\"HSpacer04248\",\"sizing_mode\":\"stretch_width\"},\"id\":\"2447\",\"type\":\"Spacer\"},{\"attributes\":{},\"id\":\"2253\",\"type\":\"AllLabels\"},{\"attributes\":{},\"id\":\"2292\",\"type\":\"UnionRenderers\"},{\"attributes\":{\"end\":2021.0,\"reset_end\":2021.0,\"reset_start\":2017.0,\"start\":2017.0,\"tags\":[[[\"DraftYear\",\"DraftYear\",null]]]},\"id\":\"2213\",\"type\":\"Range1d\"},{\"attributes\":{\"line_alpha\":0.2,\"line_color\":\"#30a2da\",\"line_width\":2,\"x\":{\"field\":\"DraftYear\"},\"y\":{\"field\":\"APG\"}},\"id\":\"2259\",\"type\":\"Line\"},{\"attributes\":{\"line_color\":\"#e5ae38\",\"line_width\":2,\"x\":{\"field\":\"DraftYear\"},\"y\":{\"field\":\"APG\"}},\"id\":\"2300\",\"type\":\"Line\"},{\"attributes\":{},\"id\":\"2255\",\"type\":\"Selection\"},{\"attributes\":{\"tools\":[{\"id\":\"2215\"},{\"id\":\"2235\"},{\"id\":\"2236\"},{\"id\":\"2237\"},{\"id\":\"2238\"},{\"id\":\"2239\"}]},\"id\":\"2241\",\"type\":\"Toolbar\"},{\"attributes\":{\"data\":{\"APG\":{\"__ndarray__\":\"9ihcj8L1AEBcj8L1KFz3PzMzMzMzM/s/ehSuR+F6AEB7FK5H4Xr0Pw==\",\"dtype\":\"float64\",\"order\":\"little\",\"shape\":[5]},\"DraftYear\":[2017,2018,2019,2020,2021]},\"selected\":{\"id\":\"2276\"},\"selection_policy\":{\"id\":\"2292\"}},\"id\":\"2275\",\"type\":\"ColumnDataSource\"},{\"attributes\":{\"coordinates\":null,\"data_source\":{\"id\":\"2254\"},\"glyph\":{\"id\":\"2257\"},\"group\":null,\"hover_glyph\":null,\"muted_glyph\":{\"id\":\"2259\"},\"nonselection_glyph\":{\"id\":\"2258\"},\"selection_glyph\":{\"id\":\"2274\"},\"view\":{\"id\":\"2261\"}},\"id\":\"2260\",\"type\":\"GlyphRenderer\"},{\"attributes\":{\"line_alpha\":0.1,\"line_color\":\"#30a2da\",\"line_width\":2,\"x\":{\"field\":\"DraftYear\"},\"y\":{\"field\":\"APG\"}},\"id\":\"2258\",\"type\":\"Line\"}],\"root_ids\":[\"2211\"]},\"title\":\"Bokeh Application\",\"version\":\"2.4.2\"}};\n",
       "    var render_items = [{\"docid\":\"1c9b63fc-0d2a-430f-9f0b-d67a3343b43a\",\"root_ids\":[\"2211\"],\"roots\":{\"2211\":\"a821595d-f3a1-4fe3-8e87-195c3e883c42\"}}];\n",
       "    root.Bokeh.embed.embed_items_notebook(docs_json, render_items);\n",
       "  }\n",
       "  if (root.Bokeh !== undefined && root.Bokeh.Panel !== undefined) {\n",
       "    embed_document(root);\n",
       "  } else {\n",
       "    var attempts = 0;\n",
       "    var timer = setInterval(function(root) {\n",
       "      if (root.Bokeh !== undefined && root.Bokeh.Panel !== undefined) {\n",
       "        clearInterval(timer);\n",
       "        embed_document(root);\n",
       "      } else if (document.readyState == \"complete\") {\n",
       "        attempts++;\n",
       "        if (attempts > 200) {\n",
       "          clearInterval(timer);\n",
       "          console.log(\"Bokeh: ERROR: Unable to run BokehJS code because BokehJS library is missing\");\n",
       "        }\n",
       "      }\n",
       "    }, 25, root)\n",
       "  }\n",
       "})(window);</script>"
      ],
      "text/plain": [
       ":Overlay\n",
       "   .Curve.Group_hyphen_minus_A :Curve   [DraftYear]   (APG)\n",
       "   .Curve.Group_hyphen_minus_B :Curve   [DraftYear]   (APG)\n",
       "   .Curve.Group_hyphen_minus_C :Curve   [DraftYear]   (APG)"
      ]
     },
     "execution_count": 68,
     "metadata": {
      "application/vnd.holoviews_exec.v0+json": {
       "id": "2211"
      }
     },
     "output_type": "execute_result"
    }
   ],
   "source": [
    "# Overlay all groups assists per game 2017-2021\n",
    "group_a_apg_plot * group_b_apg_plot * group_c_apg_plot"
   ]
  },
  {
   "cell_type": "code",
   "execution_count": null,
   "id": "f6c26c5f-0c8b-4e1c-ae65-bfbc82f6117c",
   "metadata": {},
   "outputs": [],
   "source": []
  },
  {
   "cell_type": "code",
   "execution_count": 69,
   "id": "c1ce7016-9a8c-4e4f-aa9d-acc6465df406",
   "metadata": {},
   "outputs": [],
   "source": [
    "# Use hvplot to visualize group A's field goal percentage 2017-2021\n",
    "group_a_fg_plot = group_a_ave['FG%'].hvplot(\n",
    "    title='Average 1st Round Picks Field Goal Percentage 2017-2021',\n",
    "    x='DraftYear',\n",
    "    y='FG%',\n",
    "    xlabel='Draft Year',\n",
    "    ylabel='Field Goal Percentage',\n",
    "    label='Group-A'\n",
    ")"
   ]
  },
  {
   "cell_type": "code",
   "execution_count": 70,
   "id": "39dce3f1-2200-4f65-929e-8a1f37a6793b",
   "metadata": {},
   "outputs": [],
   "source": [
    "# Use hvplot to visualize group B's field goal percentage 2017-2021\n",
    "group_b_fg_plot = group_b_ave['FG%'].hvplot(\n",
    "    title='Average 1st Round Picks Field Goal Percentage 2017-2021',\n",
    "    x='DraftYear',\n",
    "    y='FG%',\n",
    "    xlabel='Draft Year',\n",
    "    ylabel='Field Goal Percentage',\n",
    "    label='Group-B'\n",
    ")"
   ]
  },
  {
   "cell_type": "code",
   "execution_count": 71,
   "id": "bab49765-0d2f-4fd3-860e-0cfe403b791c",
   "metadata": {},
   "outputs": [],
   "source": [
    "# Use hvplot to visualize group C's field goal percentage 2017-2021\n",
    "group_c_fg_plot = group_c_ave['FG%'].hvplot(\n",
    "    title='Average 1st Round Picks Field Goal Percentage 2017-2021',\n",
    "    x='DraftYear',\n",
    "    y='FG%',\n",
    "    xlabel='Draft Year',\n",
    "    ylabel='Field Goal Percentage',\n",
    "    label='Group-C'\n",
    ")"
   ]
  },
  {
   "cell_type": "code",
   "execution_count": 72,
   "id": "95b7ef07-e55f-4ca8-9bf3-62e67d60cafb",
   "metadata": {},
   "outputs": [
    {
     "data": {},
     "metadata": {},
     "output_type": "display_data"
    },
    {
     "data": {
      "application/vnd.holoviews_exec.v0+json": "",
      "text/html": [
       "<div id='2519'>\n",
       "\n",
       "\n",
       "\n",
       "\n",
       "\n",
       "  <div class=\"bk-root\" id=\"7bfc9565-2639-45dd-97b6-7a4742b386ac\" data-root-id=\"2519\"></div>\n",
       "</div>\n",
       "<script type=\"application/javascript\">(function(root) {\n",
       "  function embed_document(root) {\n",
       "    var docs_json = {\"498b8b77-7410-4072-a09e-6afdf2f06542\":{\"defs\":[{\"extends\":null,\"module\":null,\"name\":\"ReactiveHTML1\",\"overrides\":[],\"properties\":[]},{\"extends\":null,\"module\":null,\"name\":\"FlexBox1\",\"overrides\":[],\"properties\":[{\"default\":\"flex-start\",\"kind\":null,\"name\":\"align_content\"},{\"default\":\"flex-start\",\"kind\":null,\"name\":\"align_items\"},{\"default\":\"row\",\"kind\":null,\"name\":\"flex_direction\"},{\"default\":\"wrap\",\"kind\":null,\"name\":\"flex_wrap\"},{\"default\":\"flex-start\",\"kind\":null,\"name\":\"justify_content\"}]},{\"extends\":null,\"module\":null,\"name\":\"TemplateActions1\",\"overrides\":[],\"properties\":[{\"default\":0,\"kind\":null,\"name\":\"open_modal\"},{\"default\":0,\"kind\":null,\"name\":\"close_modal\"}]},{\"extends\":null,\"module\":null,\"name\":\"MaterialTemplateActions1\",\"overrides\":[],\"properties\":[{\"default\":0,\"kind\":null,\"name\":\"open_modal\"},{\"default\":0,\"kind\":null,\"name\":\"close_modal\"}]}],\"roots\":{\"references\":[{\"attributes\":{},\"id\":\"2600\",\"type\":\"UnionRenderers\"},{\"attributes\":{},\"id\":\"2560\",\"type\":\"BasicTickFormatter\"},{\"attributes\":{\"line_alpha\":0.1,\"line_color\":\"#fc4f30\",\"line_width\":2,\"x\":{\"field\":\"DraftYear\"},\"y\":{\"field\":\"FG%\"}},\"id\":\"2587\",\"type\":\"Line\"},{\"attributes\":{},\"id\":\"2557\",\"type\":\"BasicTickFormatter\"},{\"attributes\":{\"axis_label\":\"Draft Year\",\"coordinates\":null,\"formatter\":{\"id\":\"2557\"},\"group\":null,\"major_label_policy\":{\"id\":\"2558\"},\"ticker\":{\"id\":\"2536\"}},\"id\":\"2535\",\"type\":\"LinearAxis\"},{\"attributes\":{\"source\":{\"id\":\"2562\"}},\"id\":\"2569\",\"type\":\"CDSView\"},{\"attributes\":{\"label\":{\"value\":\"Group-B\"},\"renderers\":[{\"id\":\"2589\"}]},\"id\":\"2603\",\"type\":\"LegendItem\"},{\"attributes\":{},\"id\":\"2531\",\"type\":\"LinearScale\"},{\"attributes\":{},\"id\":\"2624\",\"type\":\"UnionRenderers\"},{\"attributes\":{},\"id\":\"2536\",\"type\":\"BasicTicker\"},{\"attributes\":{\"coordinates\":null,\"group\":null,\"text\":\"Average 1st Round Picks Field Goal Percentage 2017-2021\",\"text_color\":\"black\",\"text_font_size\":\"12pt\"},\"id\":\"2527\",\"type\":\"Title\"},{\"attributes\":{\"line_color\":\"#fc4f30\",\"line_width\":2,\"x\":{\"field\":\"DraftYear\"},\"y\":{\"field\":\"FG%\"}},\"id\":\"2604\",\"type\":\"Line\"},{\"attributes\":{},\"id\":\"2577\",\"type\":\"UnionRenderers\"},{\"attributes\":{\"axis\":{\"id\":\"2535\"},\"coordinates\":null,\"grid_line_color\":null,\"group\":null,\"ticker\":null},\"id\":\"2538\",\"type\":\"Grid\"},{\"attributes\":{\"data\":{\"DraftYear\":[2017,2018,2019,2020,2021],\"FG%\":{\"__ndarray__\":\"YAfOGVHa2z/45GGh1jTfP+7Jw0Ktad4/PujZrPpc3T8Spb3BFybbPw==\",\"dtype\":\"float64\",\"order\":\"little\",\"shape\":[5]},\"FG_percent\":{\"__ndarray__\":\"YAfOGVHa2z/45GGh1jTfP+7Jw0Ktad4/PujZrPpc3T8Spb3BFybbPw==\",\"dtype\":\"float64\",\"order\":\"little\",\"shape\":[5]}},\"selected\":{\"id\":\"2563\"},\"selection_policy\":{\"id\":\"2577\"}},\"id\":\"2562\",\"type\":\"ColumnDataSource\"},{\"attributes\":{\"callback\":null,\"renderers\":[{\"id\":\"2568\"},{\"id\":\"2589\"},{\"id\":\"2611\"}],\"tags\":[\"hv_created\"],\"tooltips\":[[\"DraftYear\",\"@{DraftYear}\"],[\"FG%\",\"@{FG_percent}\"]]},\"id\":\"2523\",\"type\":\"HoverTool\"},{\"attributes\":{},\"id\":\"2547\",\"type\":\"ResetTool\"},{\"attributes\":{\"data\":{\"DraftYear\":[2017,2018,2019,2020,2021],\"FG%\":{\"__ndarray__\":\"Ak2EDU+v3D8T0ETY8PTaP5qZmZmZmdk/wOyePCzU2j+S7Xw/NV7aPw==\",\"dtype\":\"float64\",\"order\":\"little\",\"shape\":[5]},\"FG_percent\":{\"__ndarray__\":\"Ak2EDU+v3D8T0ETY8PTaP5qZmZmZmdk/wOyePCzU2j+S7Xw/NV7aPw==\",\"dtype\":\"float64\",\"order\":\"little\",\"shape\":[5]}},\"selected\":{\"id\":\"2584\"},\"selection_policy\":{\"id\":\"2600\"}},\"id\":\"2583\",\"type\":\"ColumnDataSource\"},{\"attributes\":{\"line_color\":\"#e5ae38\",\"line_width\":2,\"x\":{\"field\":\"DraftYear\"},\"y\":{\"field\":\"FG%\"}},\"id\":\"2628\",\"type\":\"Line\"},{\"attributes\":{\"label\":{\"value\":\"Group-A\"},\"renderers\":[{\"id\":\"2568\"}]},\"id\":\"2581\",\"type\":\"LegendItem\"},{\"attributes\":{\"axis_label\":\"Field Goal Percentage\",\"coordinates\":null,\"formatter\":{\"id\":\"2560\"},\"group\":null,\"major_label_policy\":{\"id\":\"2561\"},\"ticker\":{\"id\":\"2540\"}},\"id\":\"2539\",\"type\":\"LinearAxis\"},{\"attributes\":{\"source\":{\"id\":\"2605\"}},\"id\":\"2612\",\"type\":\"CDSView\"},{\"attributes\":{\"axis\":{\"id\":\"2539\"},\"coordinates\":null,\"dimension\":1,\"grid_line_color\":null,\"group\":null,\"ticker\":null},\"id\":\"2542\",\"type\":\"Grid\"},{\"attributes\":{\"line_alpha\":0.2,\"line_color\":\"#30a2da\",\"line_width\":2,\"x\":{\"field\":\"DraftYear\"},\"y\":{\"field\":\"FG%\"}},\"id\":\"2567\",\"type\":\"Line\"},{\"attributes\":{\"margin\":[5,5,5,5],\"name\":\"HSpacer04936\",\"sizing_mode\":\"stretch_width\"},\"id\":\"2755\",\"type\":\"Spacer\"},{\"attributes\":{\"source\":{\"id\":\"2583\"}},\"id\":\"2590\",\"type\":\"CDSView\"},{\"attributes\":{\"children\":[{\"id\":\"2520\"},{\"id\":\"2526\"},{\"id\":\"2755\"}],\"margin\":[0,0,0,0],\"name\":\"Row04931\",\"tags\":[\"embedded\"]},\"id\":\"2519\",\"type\":\"Row\"},{\"attributes\":{\"below\":[{\"id\":\"2535\"}],\"center\":[{\"id\":\"2538\"},{\"id\":\"2542\"},{\"id\":\"2580\"}],\"height\":300,\"left\":[{\"id\":\"2539\"}],\"margin\":[5,5,5,5],\"min_border_bottom\":10,\"min_border_left\":10,\"min_border_right\":10,\"min_border_top\":10,\"renderers\":[{\"id\":\"2568\"},{\"id\":\"2589\"},{\"id\":\"2611\"}],\"sizing_mode\":\"fixed\",\"title\":{\"id\":\"2527\"},\"toolbar\":{\"id\":\"2549\"},\"width\":700,\"x_range\":{\"id\":\"2521\"},\"x_scale\":{\"id\":\"2531\"},\"y_range\":{\"id\":\"2522\"},\"y_scale\":{\"id\":\"2533\"}},\"id\":\"2526\",\"subtype\":\"Figure\",\"type\":\"Plot\"},{\"attributes\":{\"end\":2021.0,\"reset_end\":2021.0,\"reset_start\":2017.0,\"start\":2017.0,\"tags\":[[[\"DraftYear\",\"DraftYear\",null]]]},\"id\":\"2521\",\"type\":\"Range1d\"},{\"attributes\":{\"line_color\":\"#30a2da\",\"line_width\":2,\"x\":{\"field\":\"DraftYear\"},\"y\":{\"field\":\"FG%\"}},\"id\":\"2565\",\"type\":\"Line\"},{\"attributes\":{},\"id\":\"2606\",\"type\":\"Selection\"},{\"attributes\":{\"coordinates\":null,\"data_source\":{\"id\":\"2562\"},\"glyph\":{\"id\":\"2565\"},\"group\":null,\"hover_glyph\":null,\"muted_glyph\":{\"id\":\"2567\"},\"nonselection_glyph\":{\"id\":\"2566\"},\"selection_glyph\":{\"id\":\"2582\"},\"view\":{\"id\":\"2569\"}},\"id\":\"2568\",\"type\":\"GlyphRenderer\"},{\"attributes\":{\"click_policy\":\"mute\",\"coordinates\":null,\"group\":null,\"items\":[{\"id\":\"2581\"},{\"id\":\"2603\"},{\"id\":\"2627\"}]},\"id\":\"2580\",\"type\":\"Legend\"},{\"attributes\":{\"tools\":[{\"id\":\"2523\"},{\"id\":\"2543\"},{\"id\":\"2544\"},{\"id\":\"2545\"},{\"id\":\"2546\"},{\"id\":\"2547\"}]},\"id\":\"2549\",\"type\":\"Toolbar\"},{\"attributes\":{},\"id\":\"2540\",\"type\":\"BasicTicker\"},{\"attributes\":{\"coordinates\":null,\"data_source\":{\"id\":\"2605\"},\"glyph\":{\"id\":\"2608\"},\"group\":null,\"hover_glyph\":null,\"muted_glyph\":{\"id\":\"2610\"},\"nonselection_glyph\":{\"id\":\"2609\"},\"selection_glyph\":{\"id\":\"2628\"},\"view\":{\"id\":\"2612\"}},\"id\":\"2611\",\"type\":\"GlyphRenderer\"},{\"attributes\":{\"margin\":[5,5,5,5],\"name\":\"HSpacer04935\",\"sizing_mode\":\"stretch_width\"},\"id\":\"2520\",\"type\":\"Spacer\"},{\"attributes\":{\"end\":0.56852,\"reset_end\":0.56852,\"reset_start\":0.38468,\"start\":0.38468,\"tags\":[[[\"FG%\",\"FG%\",null]]]},\"id\":\"2522\",\"type\":\"Range1d\"},{\"attributes\":{\"line_color\":\"#30a2da\",\"line_width\":2,\"x\":{\"field\":\"DraftYear\"},\"y\":{\"field\":\"FG%\"}},\"id\":\"2582\",\"type\":\"Line\"},{\"attributes\":{},\"id\":\"2543\",\"type\":\"SaveTool\"},{\"attributes\":{},\"id\":\"2563\",\"type\":\"Selection\"},{\"attributes\":{\"line_alpha\":0.2,\"line_color\":\"#e5ae38\",\"line_width\":2,\"x\":{\"field\":\"DraftYear\"},\"y\":{\"field\":\"FG%\"}},\"id\":\"2610\",\"type\":\"Line\"},{\"attributes\":{},\"id\":\"2544\",\"type\":\"PanTool\"},{\"attributes\":{\"line_alpha\":0.1,\"line_color\":\"#e5ae38\",\"line_width\":2,\"x\":{\"field\":\"DraftYear\"},\"y\":{\"field\":\"FG%\"}},\"id\":\"2609\",\"type\":\"Line\"},{\"attributes\":{},\"id\":\"2545\",\"type\":\"WheelZoomTool\"},{\"attributes\":{},\"id\":\"2558\",\"type\":\"AllLabels\"},{\"attributes\":{\"line_color\":\"#e5ae38\",\"line_width\":2,\"x\":{\"field\":\"DraftYear\"},\"y\":{\"field\":\"FG%\"}},\"id\":\"2608\",\"type\":\"Line\"},{\"attributes\":{},\"id\":\"2561\",\"type\":\"AllLabels\"},{\"attributes\":{\"bottom_units\":\"screen\",\"coordinates\":null,\"fill_alpha\":0.5,\"fill_color\":\"lightgrey\",\"group\":null,\"left_units\":\"screen\",\"level\":\"overlay\",\"line_alpha\":1.0,\"line_color\":\"black\",\"line_dash\":[4,4],\"line_width\":2,\"right_units\":\"screen\",\"syncable\":false,\"top_units\":\"screen\"},\"id\":\"2548\",\"type\":\"BoxAnnotation\"},{\"attributes\":{\"coordinates\":null,\"data_source\":{\"id\":\"2583\"},\"glyph\":{\"id\":\"2586\"},\"group\":null,\"hover_glyph\":null,\"muted_glyph\":{\"id\":\"2588\"},\"nonselection_glyph\":{\"id\":\"2587\"},\"selection_glyph\":{\"id\":\"2604\"},\"view\":{\"id\":\"2590\"}},\"id\":\"2589\",\"type\":\"GlyphRenderer\"},{\"attributes\":{\"overlay\":{\"id\":\"2548\"}},\"id\":\"2546\",\"type\":\"BoxZoomTool\"},{\"attributes\":{\"label\":{\"value\":\"Group-C\"},\"renderers\":[{\"id\":\"2611\"}]},\"id\":\"2627\",\"type\":\"LegendItem\"},{\"attributes\":{\"line_alpha\":0.2,\"line_color\":\"#fc4f30\",\"line_width\":2,\"x\":{\"field\":\"DraftYear\"},\"y\":{\"field\":\"FG%\"}},\"id\":\"2588\",\"type\":\"Line\"},{\"attributes\":{\"data\":{\"DraftYear\":[2017,2018,2019,2020,2021],\"FG%\":{\"__ndarray__\":\"pixDHOvi3j+62or9ZffcP1XBqKROQNs/lpAPejar3j/dtYR80LPhPw==\",\"dtype\":\"float64\",\"order\":\"little\",\"shape\":[5]},\"FG_percent\":{\"__ndarray__\":\"pixDHOvi3j+62or9ZffcP1XBqKROQNs/lpAPejar3j/dtYR80LPhPw==\",\"dtype\":\"float64\",\"order\":\"little\",\"shape\":[5]}},\"selected\":{\"id\":\"2606\"},\"selection_policy\":{\"id\":\"2624\"}},\"id\":\"2605\",\"type\":\"ColumnDataSource\"},{\"attributes\":{\"line_alpha\":0.1,\"line_color\":\"#30a2da\",\"line_width\":2,\"x\":{\"field\":\"DraftYear\"},\"y\":{\"field\":\"FG%\"}},\"id\":\"2566\",\"type\":\"Line\"},{\"attributes\":{},\"id\":\"2584\",\"type\":\"Selection\"},{\"attributes\":{},\"id\":\"2533\",\"type\":\"LinearScale\"},{\"attributes\":{\"line_color\":\"#fc4f30\",\"line_width\":2,\"x\":{\"field\":\"DraftYear\"},\"y\":{\"field\":\"FG%\"}},\"id\":\"2586\",\"type\":\"Line\"}],\"root_ids\":[\"2519\"]},\"title\":\"Bokeh Application\",\"version\":\"2.4.2\"}};\n",
       "    var render_items = [{\"docid\":\"498b8b77-7410-4072-a09e-6afdf2f06542\",\"root_ids\":[\"2519\"],\"roots\":{\"2519\":\"7bfc9565-2639-45dd-97b6-7a4742b386ac\"}}];\n",
       "    root.Bokeh.embed.embed_items_notebook(docs_json, render_items);\n",
       "  }\n",
       "  if (root.Bokeh !== undefined && root.Bokeh.Panel !== undefined) {\n",
       "    embed_document(root);\n",
       "  } else {\n",
       "    var attempts = 0;\n",
       "    var timer = setInterval(function(root) {\n",
       "      if (root.Bokeh !== undefined && root.Bokeh.Panel !== undefined) {\n",
       "        clearInterval(timer);\n",
       "        embed_document(root);\n",
       "      } else if (document.readyState == \"complete\") {\n",
       "        attempts++;\n",
       "        if (attempts > 200) {\n",
       "          clearInterval(timer);\n",
       "          console.log(\"Bokeh: ERROR: Unable to run BokehJS code because BokehJS library is missing\");\n",
       "        }\n",
       "      }\n",
       "    }, 25, root)\n",
       "  }\n",
       "})(window);</script>"
      ],
      "text/plain": [
       ":Overlay\n",
       "   .Curve.Group_hyphen_minus_A :Curve   [DraftYear]   (FG%)\n",
       "   .Curve.Group_hyphen_minus_B :Curve   [DraftYear]   (FG%)\n",
       "   .Curve.Group_hyphen_minus_C :Curve   [DraftYear]   (FG%)"
      ]
     },
     "execution_count": 72,
     "metadata": {
      "application/vnd.holoviews_exec.v0+json": {
       "id": "2519"
      }
     },
     "output_type": "execute_result"
    }
   ],
   "source": [
    "# Overlay all groups field goal percentage 2017-2021\n",
    "group_a_fg_plot*group_b_fg_plot*group_c_fg_plot"
   ]
  },
  {
   "cell_type": "code",
   "execution_count": null,
   "id": "eb4c2ceb-6054-4c80-b2a2-faaa422211a1",
   "metadata": {},
   "outputs": [],
   "source": []
  },
  {
   "cell_type": "code",
   "execution_count": 73,
   "id": "61b37fbc-132a-453e-b1d2-59c2209f9118",
   "metadata": {},
   "outputs": [],
   "source": [
    "# Use hvplot to visualize group A's 3-pointer percentage 2017-2021\n",
    "group_a_3p_plot = group_a_ave['3P%'].hvplot(\n",
    "    title='Average 1st Round Picks 3-Pointer Percentage 2017-2021',\n",
    "    x='DraftYear',\n",
    "    y='3P%',\n",
    "    xlabel='Draft Year',\n",
    "    ylabel='3_Pointer Percentage',\n",
    "    label='Group-A'\n",
    ")"
   ]
  },
  {
   "cell_type": "code",
   "execution_count": 74,
   "id": "2b30f3bd-1a11-417a-8fae-2465d55c4b87",
   "metadata": {},
   "outputs": [],
   "source": [
    "# Use hvplot to visualize group B's 3-pointer percentage 2017-2021\n",
    "group_b_3p_plot = group_b_ave['3P%'].hvplot(\n",
    "    title='Average 1st Round Picks 3-Pointer Percentage 2017-2021',\n",
    "    x='DraftYear',\n",
    "    y='3P%',\n",
    "    xlabel='Draft Year',\n",
    "    ylabel='3_Pointer Percentage',\n",
    "    label='Group-B'\n",
    ")"
   ]
  },
  {
   "cell_type": "code",
   "execution_count": 75,
   "id": "e0765a9b-b0b7-403a-9350-81995c61baa6",
   "metadata": {},
   "outputs": [],
   "source": [
    "# Use hvplot to visualize group C's 3-pointer percentage 2017-2021\n",
    "group_c_3p_plot = group_c_ave['3P%'].hvplot(\n",
    "    title='Average 1st Round Picks 3-Pointer Percentage 2017-2021',\n",
    "    x='DraftYear',\n",
    "    y='3P%',\n",
    "    xlabel='Draft Year',\n",
    "    ylabel='3_Pointer Percentage',\n",
    "    label='Group-C'\n",
    ")"
   ]
  },
  {
   "cell_type": "code",
   "execution_count": 76,
   "id": "31907517-c42f-4cec-bdf8-e36d5773f323",
   "metadata": {},
   "outputs": [
    {
     "data": {},
     "metadata": {},
     "output_type": "display_data"
    },
    {
     "data": {
      "application/vnd.holoviews_exec.v0+json": "",
      "text/html": [
       "<div id='2827'>\n",
       "\n",
       "\n",
       "\n",
       "\n",
       "\n",
       "  <div class=\"bk-root\" id=\"9035e7d8-d49d-4043-b94b-102dd2e01747\" data-root-id=\"2827\"></div>\n",
       "</div>\n",
       "<script type=\"application/javascript\">(function(root) {\n",
       "  function embed_document(root) {\n",
       "    var docs_json = {\"ae39fc8f-30f7-4f29-9074-f62158235592\":{\"defs\":[{\"extends\":null,\"module\":null,\"name\":\"ReactiveHTML1\",\"overrides\":[],\"properties\":[]},{\"extends\":null,\"module\":null,\"name\":\"FlexBox1\",\"overrides\":[],\"properties\":[{\"default\":\"flex-start\",\"kind\":null,\"name\":\"align_content\"},{\"default\":\"flex-start\",\"kind\":null,\"name\":\"align_items\"},{\"default\":\"row\",\"kind\":null,\"name\":\"flex_direction\"},{\"default\":\"wrap\",\"kind\":null,\"name\":\"flex_wrap\"},{\"default\":\"flex-start\",\"kind\":null,\"name\":\"justify_content\"}]},{\"extends\":null,\"module\":null,\"name\":\"TemplateActions1\",\"overrides\":[],\"properties\":[{\"default\":0,\"kind\":null,\"name\":\"open_modal\"},{\"default\":0,\"kind\":null,\"name\":\"close_modal\"}]},{\"extends\":null,\"module\":null,\"name\":\"MaterialTemplateActions1\",\"overrides\":[],\"properties\":[{\"default\":0,\"kind\":null,\"name\":\"open_modal\"},{\"default\":0,\"kind\":null,\"name\":\"close_modal\"}]}],\"roots\":{\"references\":[{\"attributes\":{},\"id\":\"2914\",\"type\":\"Selection\"},{\"attributes\":{\"line_alpha\":0.2,\"line_color\":\"#30a2da\",\"line_width\":2,\"x\":{\"field\":\"DraftYear\"},\"y\":{\"field\":\"3P%\"}},\"id\":\"2875\",\"type\":\"Line\"},{\"attributes\":{\"margin\":[5,5,5,5],\"name\":\"HSpacer05627\",\"sizing_mode\":\"stretch_width\"},\"id\":\"3063\",\"type\":\"Spacer\"},{\"attributes\":{\"callback\":null,\"renderers\":[{\"id\":\"2876\"},{\"id\":\"2897\"},{\"id\":\"2919\"}],\"tags\":[\"hv_created\"],\"tooltips\":[[\"DraftYear\",\"@{DraftYear}\"],[\"3P%\",\"@{A_3P_percent}\"]]},\"id\":\"2831\",\"type\":\"HoverTool\"},{\"attributes\":{\"coordinates\":null,\"data_source\":{\"id\":\"2913\"},\"glyph\":{\"id\":\"2916\"},\"group\":null,\"hover_glyph\":null,\"muted_glyph\":{\"id\":\"2918\"},\"nonselection_glyph\":{\"id\":\"2917\"},\"selection_glyph\":{\"id\":\"2936\"},\"view\":{\"id\":\"2920\"}},\"id\":\"2919\",\"type\":\"GlyphRenderer\"},{\"attributes\":{\"axis_label\":\"3_Pointer Percentage\",\"coordinates\":null,\"formatter\":{\"id\":\"2868\"},\"group\":null,\"major_label_policy\":{\"id\":\"2869\"},\"ticker\":{\"id\":\"2848\"}},\"id\":\"2847\",\"type\":\"LinearAxis\"},{\"attributes\":{},\"id\":\"2869\",\"type\":\"AllLabels\"},{\"attributes\":{\"source\":{\"id\":\"2891\"}},\"id\":\"2898\",\"type\":\"CDSView\"},{\"attributes\":{},\"id\":\"2851\",\"type\":\"SaveTool\"},{\"attributes\":{\"axis\":{\"id\":\"2847\"},\"coordinates\":null,\"dimension\":1,\"grid_line_color\":null,\"group\":null,\"ticker\":null},\"id\":\"2850\",\"type\":\"Grid\"},{\"attributes\":{\"line_alpha\":0.2,\"line_color\":\"#e5ae38\",\"line_width\":2,\"x\":{\"field\":\"DraftYear\"},\"y\":{\"field\":\"3P%\"}},\"id\":\"2918\",\"type\":\"Line\"},{\"attributes\":{},\"id\":\"2932\",\"type\":\"UnionRenderers\"},{\"attributes\":{\"line_alpha\":0.1,\"line_color\":\"#e5ae38\",\"line_width\":2,\"x\":{\"field\":\"DraftYear\"},\"y\":{\"field\":\"3P%\"}},\"id\":\"2917\",\"type\":\"Line\"},{\"attributes\":{},\"id\":\"2852\",\"type\":\"PanTool\"},{\"attributes\":{},\"id\":\"2868\",\"type\":\"BasicTickFormatter\"},{\"attributes\":{},\"id\":\"2908\",\"type\":\"UnionRenderers\"},{\"attributes\":{},\"id\":\"2892\",\"type\":\"Selection\"},{\"attributes\":{\"below\":[{\"id\":\"2843\"}],\"center\":[{\"id\":\"2846\"},{\"id\":\"2850\"},{\"id\":\"2888\"}],\"height\":300,\"left\":[{\"id\":\"2847\"}],\"margin\":[5,5,5,5],\"min_border_bottom\":10,\"min_border_left\":10,\"min_border_right\":10,\"min_border_top\":10,\"renderers\":[{\"id\":\"2876\"},{\"id\":\"2897\"},{\"id\":\"2919\"}],\"sizing_mode\":\"fixed\",\"title\":{\"id\":\"2835\"},\"toolbar\":{\"id\":\"2857\"},\"width\":700,\"x_range\":{\"id\":\"2829\"},\"x_scale\":{\"id\":\"2839\"},\"y_range\":{\"id\":\"2830\"},\"y_scale\":{\"id\":\"2841\"}},\"id\":\"2834\",\"subtype\":\"Figure\",\"type\":\"Plot\"},{\"attributes\":{\"line_color\":\"#30a2da\",\"line_width\":2,\"x\":{\"field\":\"DraftYear\"},\"y\":{\"field\":\"3P%\"}},\"id\":\"2873\",\"type\":\"Line\"},{\"attributes\":{\"line_color\":\"#e5ae38\",\"line_width\":2,\"x\":{\"field\":\"DraftYear\"},\"y\":{\"field\":\"3P%\"}},\"id\":\"2916\",\"type\":\"Line\"},{\"attributes\":{},\"id\":\"2853\",\"type\":\"WheelZoomTool\"},{\"attributes\":{\"tools\":[{\"id\":\"2831\"},{\"id\":\"2851\"},{\"id\":\"2852\"},{\"id\":\"2853\"},{\"id\":\"2854\"},{\"id\":\"2855\"}]},\"id\":\"2857\",\"type\":\"Toolbar\"},{\"attributes\":{\"label\":{\"value\":\"Group-C\"},\"renderers\":[{\"id\":\"2919\"}]},\"id\":\"2935\",\"type\":\"LegendItem\"},{\"attributes\":{},\"id\":\"2839\",\"type\":\"LinearScale\"},{\"attributes\":{\"coordinates\":null,\"data_source\":{\"id\":\"2891\"},\"glyph\":{\"id\":\"2894\"},\"group\":null,\"hover_glyph\":null,\"muted_glyph\":{\"id\":\"2896\"},\"nonselection_glyph\":{\"id\":\"2895\"},\"selection_glyph\":{\"id\":\"2912\"},\"view\":{\"id\":\"2898\"}},\"id\":\"2897\",\"type\":\"GlyphRenderer\"},{\"attributes\":{\"data\":{\"3P%\":{\"__ndarray__\":\"ofgx5q4l1D+TqYJRSZ3QP5vmHafoSNY/MQisHFpk1z+0yHa+nxrPPw==\",\"dtype\":\"float64\",\"order\":\"little\",\"shape\":[5]},\"A_3P_percent\":{\"__ndarray__\":\"ofgx5q4l1D+TqYJRSZ3QP5vmHafoSNY/MQisHFpk1z+0yHa+nxrPPw==\",\"dtype\":\"float64\",\"order\":\"little\",\"shape\":[5]},\"DraftYear\":[2017,2018,2019,2020,2021]},\"selected\":{\"id\":\"2914\"},\"selection_policy\":{\"id\":\"2932\"}},\"id\":\"2913\",\"type\":\"ColumnDataSource\"},{\"attributes\":{\"overlay\":{\"id\":\"2856\"}},\"id\":\"2854\",\"type\":\"BoxZoomTool\"},{\"attributes\":{\"source\":{\"id\":\"2870\"}},\"id\":\"2877\",\"type\":\"CDSView\"},{\"attributes\":{\"data\":{\"3P%\":{\"__ndarray__\":\"DeAtkKD40T/ByqFFtvPVP57Nqs/VVtQ/q8/VVuwv0z8lBoGVQ4vUPw==\",\"dtype\":\"float64\",\"order\":\"little\",\"shape\":[5]},\"A_3P_percent\":{\"__ndarray__\":\"DeAtkKD40T/ByqFFtvPVP57Nqs/VVtQ/q8/VVuwv0z8lBoGVQ4vUPw==\",\"dtype\":\"float64\",\"order\":\"little\",\"shape\":[5]},\"DraftYear\":[2017,2018,2019,2020,2021]},\"selected\":{\"id\":\"2892\"},\"selection_policy\":{\"id\":\"2908\"}},\"id\":\"2891\",\"type\":\"ColumnDataSource\"},{\"attributes\":{\"line_alpha\":0.2,\"line_color\":\"#fc4f30\",\"line_width\":2,\"x\":{\"field\":\"DraftYear\"},\"y\":{\"field\":\"3P%\"}},\"id\":\"2896\",\"type\":\"Line\"},{\"attributes\":{},\"id\":\"2871\",\"type\":\"Selection\"},{\"attributes\":{\"end\":2021.0,\"reset_end\":2021.0,\"reset_start\":2017.0,\"start\":2017.0,\"tags\":[[[\"DraftYear\",\"DraftYear\",null]]]},\"id\":\"2829\",\"type\":\"Range1d\"},{\"attributes\":{\"line_alpha\":0.1,\"line_color\":\"#fc4f30\",\"line_width\":2,\"x\":{\"field\":\"DraftYear\"},\"y\":{\"field\":\"3P%\"}},\"id\":\"2895\",\"type\":\"Line\"},{\"attributes\":{\"line_color\":\"#e5ae38\",\"line_width\":2,\"x\":{\"field\":\"DraftYear\"},\"y\":{\"field\":\"3P%\"}},\"id\":\"2936\",\"type\":\"Line\"},{\"attributes\":{},\"id\":\"2855\",\"type\":\"ResetTool\"},{\"attributes\":{\"line_color\":\"#fc4f30\",\"line_width\":2,\"x\":{\"field\":\"DraftYear\"},\"y\":{\"field\":\"3P%\"}},\"id\":\"2894\",\"type\":\"Line\"},{\"attributes\":{},\"id\":\"2841\",\"type\":\"LinearScale\"},{\"attributes\":{\"label\":{\"value\":\"Group-B\"},\"renderers\":[{\"id\":\"2897\"}]},\"id\":\"2911\",\"type\":\"LegendItem\"},{\"attributes\":{},\"id\":\"2865\",\"type\":\"BasicTickFormatter\"},{\"attributes\":{\"bottom_units\":\"screen\",\"coordinates\":null,\"fill_alpha\":0.5,\"fill_color\":\"lightgrey\",\"group\":null,\"left_units\":\"screen\",\"level\":\"overlay\",\"line_alpha\":1.0,\"line_color\":\"black\",\"line_dash\":[4,4],\"line_width\":2,\"right_units\":\"screen\",\"syncable\":false,\"top_units\":\"screen\"},\"id\":\"2856\",\"type\":\"BoxAnnotation\"},{\"attributes\":{\"coordinates\":null,\"group\":null,\"text\":\"Average 1st Round Picks 3-Pointer Percentage 2017-2021\",\"text_color\":\"black\",\"text_font_size\":\"12pt\"},\"id\":\"2835\",\"type\":\"Title\"},{\"attributes\":{\"label\":{\"value\":\"Group-A\"},\"renderers\":[{\"id\":\"2876\"}]},\"id\":\"2889\",\"type\":\"LegendItem\"},{\"attributes\":{},\"id\":\"2885\",\"type\":\"UnionRenderers\"},{\"attributes\":{\"axis_label\":\"Draft Year\",\"coordinates\":null,\"formatter\":{\"id\":\"2865\"},\"group\":null,\"major_label_policy\":{\"id\":\"2866\"},\"ticker\":{\"id\":\"2844\"}},\"id\":\"2843\",\"type\":\"LinearAxis\"},{\"attributes\":{\"line_color\":\"#fc4f30\",\"line_width\":2,\"x\":{\"field\":\"DraftYear\"},\"y\":{\"field\":\"3P%\"}},\"id\":\"2912\",\"type\":\"Line\"},{\"attributes\":{\"margin\":[5,5,5,5],\"name\":\"HSpacer05626\",\"sizing_mode\":\"stretch_width\"},\"id\":\"2828\",\"type\":\"Spacer\"},{\"attributes\":{\"line_color\":\"#30a2da\",\"line_width\":2,\"x\":{\"field\":\"DraftYear\"},\"y\":{\"field\":\"3P%\"}},\"id\":\"2890\",\"type\":\"Line\"},{\"attributes\":{},\"id\":\"2844\",\"type\":\"BasicTicker\"},{\"attributes\":{\"children\":[{\"id\":\"2828\"},{\"id\":\"2834\"},{\"id\":\"3063\"}],\"margin\":[0,0,0,0],\"name\":\"Row05622\",\"tags\":[\"embedded\"]},\"id\":\"2827\",\"type\":\"Row\"},{\"attributes\":{\"end\":0.37775,\"reset_end\":0.37775,\"reset_start\":0.23074999999999998,\"start\":0.23074999999999998,\"tags\":[[[\"3P%\",\"3P%\",null]]]},\"id\":\"2830\",\"type\":\"Range1d\"},{\"attributes\":{\"coordinates\":null,\"data_source\":{\"id\":\"2870\"},\"glyph\":{\"id\":\"2873\"},\"group\":null,\"hover_glyph\":null,\"muted_glyph\":{\"id\":\"2875\"},\"nonselection_glyph\":{\"id\":\"2874\"},\"selection_glyph\":{\"id\":\"2890\"},\"view\":{\"id\":\"2877\"}},\"id\":\"2876\",\"type\":\"GlyphRenderer\"},{\"attributes\":{\"axis\":{\"id\":\"2843\"},\"coordinates\":null,\"grid_line_color\":null,\"group\":null,\"ticker\":null},\"id\":\"2846\",\"type\":\"Grid\"},{\"attributes\":{},\"id\":\"2866\",\"type\":\"AllLabels\"},{\"attributes\":{},\"id\":\"2848\",\"type\":\"BasicTicker\"},{\"attributes\":{\"line_alpha\":0.1,\"line_color\":\"#30a2da\",\"line_width\":2,\"x\":{\"field\":\"DraftYear\"},\"y\":{\"field\":\"3P%\"}},\"id\":\"2874\",\"type\":\"Line\"},{\"attributes\":{\"source\":{\"id\":\"2913\"}},\"id\":\"2920\",\"type\":\"CDSView\"},{\"attributes\":{\"click_policy\":\"mute\",\"coordinates\":null,\"group\":null,\"items\":[{\"id\":\"2889\"},{\"id\":\"2911\"},{\"id\":\"2935\"}]},\"id\":\"2888\",\"type\":\"Legend\"},{\"attributes\":{\"data\":{\"3P%\":{\"__ndarray__\":\"mnecoiO51D+3QILix5jTP94CCYofY9Y/sAPnjCjt1T9dbcX+snvSPw==\",\"dtype\":\"float64\",\"order\":\"little\",\"shape\":[5]},\"A_3P_percent\":{\"__ndarray__\":\"mnecoiO51D+3QILix5jTP94CCYofY9Y/sAPnjCjt1T9dbcX+snvSPw==\",\"dtype\":\"float64\",\"order\":\"little\",\"shape\":[5]},\"DraftYear\":[2017,2018,2019,2020,2021]},\"selected\":{\"id\":\"2871\"},\"selection_policy\":{\"id\":\"2885\"}},\"id\":\"2870\",\"type\":\"ColumnDataSource\"}],\"root_ids\":[\"2827\"]},\"title\":\"Bokeh Application\",\"version\":\"2.4.2\"}};\n",
       "    var render_items = [{\"docid\":\"ae39fc8f-30f7-4f29-9074-f62158235592\",\"root_ids\":[\"2827\"],\"roots\":{\"2827\":\"9035e7d8-d49d-4043-b94b-102dd2e01747\"}}];\n",
       "    root.Bokeh.embed.embed_items_notebook(docs_json, render_items);\n",
       "  }\n",
       "  if (root.Bokeh !== undefined && root.Bokeh.Panel !== undefined) {\n",
       "    embed_document(root);\n",
       "  } else {\n",
       "    var attempts = 0;\n",
       "    var timer = setInterval(function(root) {\n",
       "      if (root.Bokeh !== undefined && root.Bokeh.Panel !== undefined) {\n",
       "        clearInterval(timer);\n",
       "        embed_document(root);\n",
       "      } else if (document.readyState == \"complete\") {\n",
       "        attempts++;\n",
       "        if (attempts > 200) {\n",
       "          clearInterval(timer);\n",
       "          console.log(\"Bokeh: ERROR: Unable to run BokehJS code because BokehJS library is missing\");\n",
       "        }\n",
       "      }\n",
       "    }, 25, root)\n",
       "  }\n",
       "})(window);</script>"
      ],
      "text/plain": [
       ":Overlay\n",
       "   .Curve.Group_hyphen_minus_A :Curve   [DraftYear]   (3P%)\n",
       "   .Curve.Group_hyphen_minus_B :Curve   [DraftYear]   (3P%)\n",
       "   .Curve.Group_hyphen_minus_C :Curve   [DraftYear]   (3P%)"
      ]
     },
     "execution_count": 76,
     "metadata": {
      "application/vnd.holoviews_exec.v0+json": {
       "id": "2827"
      }
     },
     "output_type": "execute_result"
    }
   ],
   "source": [
    "# Overlay all groups 3-pinter percentage 2017-2021\n",
    "group_a_3p_plot*group_b_3p_plot*group_c_3p_plot"
   ]
  },
  {
   "cell_type": "code",
   "execution_count": null,
   "id": "0168f46e-2798-49c3-95f7-17e321c5c5e1",
   "metadata": {},
   "outputs": [],
   "source": []
  },
  {
   "cell_type": "code",
   "execution_count": 77,
   "id": "85891422-1926-4e75-8be2-0e8526b47840",
   "metadata": {},
   "outputs": [],
   "source": [
    "# Use hvplot to visualize group A's free throws percentage 2017-2021\n",
    "group_a_ft_plot = group_a_ave['FT%'].hvplot(\n",
    "    title='Average 1st Round Picks Free Throws Percentage 2017-2021',\n",
    "    x='DraftYear',\n",
    "    y='FT%',\n",
    "    xlabel='Draft Year',\n",
    "    ylabel='Free Throws Percentage',\n",
    "    label='Group-A'\n",
    ")"
   ]
  },
  {
   "cell_type": "code",
   "execution_count": 78,
   "id": "30c4812c-39c2-4956-856f-c8327ead2f19",
   "metadata": {},
   "outputs": [],
   "source": [
    "# Use hvplot to visualize group B's free throws percentage 2017-2021\n",
    "group_b_ft_plot = group_b_ave['FT%'].hvplot(\n",
    "    title='Average 1st Round Picks Free Throws Percentage 2017-2021',\n",
    "    x='DraftYear',\n",
    "    y='FT%',\n",
    "    xlabel='Draft Year',\n",
    "    ylabel='Free Throws Percentage',\n",
    "    label='Group-B'\n",
    ")"
   ]
  },
  {
   "cell_type": "code",
   "execution_count": 79,
   "id": "ac7724b4-0fc6-4b7b-8a86-101c0c63579e",
   "metadata": {},
   "outputs": [],
   "source": [
    "# Use hvplot to visualize group C's free throws percentage 2017-2021\n",
    "group_c_ft_plot = group_c_ave['FT%'].hvplot(\n",
    "    title='Average 1st Round Picks Free Throws Percentage 2017-2021',\n",
    "    x='DraftYear',\n",
    "    y='FT%',\n",
    "    xlabel='Draft Year',\n",
    "    ylabel='Free Throws Percentage',\n",
    "    label='Group-C'\n",
    ")"
   ]
  },
  {
   "cell_type": "code",
   "execution_count": 80,
   "id": "e8528558-2573-49a8-a286-a00e8f1d3bd2",
   "metadata": {},
   "outputs": [
    {
     "data": {},
     "metadata": {},
     "output_type": "display_data"
    },
    {
     "data": {
      "application/vnd.holoviews_exec.v0+json": "",
      "text/html": [
       "<div id='3135'>\n",
       "\n",
       "\n",
       "\n",
       "\n",
       "\n",
       "  <div class=\"bk-root\" id=\"4543c934-09f1-4a00-90c5-b3ba7693e011\" data-root-id=\"3135\"></div>\n",
       "</div>\n",
       "<script type=\"application/javascript\">(function(root) {\n",
       "  function embed_document(root) {\n",
       "    var docs_json = {\"4eec896c-9cd9-432d-aeff-7adcdc4d6719\":{\"defs\":[{\"extends\":null,\"module\":null,\"name\":\"ReactiveHTML1\",\"overrides\":[],\"properties\":[]},{\"extends\":null,\"module\":null,\"name\":\"FlexBox1\",\"overrides\":[],\"properties\":[{\"default\":\"flex-start\",\"kind\":null,\"name\":\"align_content\"},{\"default\":\"flex-start\",\"kind\":null,\"name\":\"align_items\"},{\"default\":\"row\",\"kind\":null,\"name\":\"flex_direction\"},{\"default\":\"wrap\",\"kind\":null,\"name\":\"flex_wrap\"},{\"default\":\"flex-start\",\"kind\":null,\"name\":\"justify_content\"}]},{\"extends\":null,\"module\":null,\"name\":\"TemplateActions1\",\"overrides\":[],\"properties\":[{\"default\":0,\"kind\":null,\"name\":\"open_modal\"},{\"default\":0,\"kind\":null,\"name\":\"close_modal\"}]},{\"extends\":null,\"module\":null,\"name\":\"MaterialTemplateActions1\",\"overrides\":[],\"properties\":[{\"default\":0,\"kind\":null,\"name\":\"open_modal\"},{\"default\":0,\"kind\":null,\"name\":\"close_modal\"}]}],\"roots\":{\"references\":[{\"attributes\":{},\"id\":\"3193\",\"type\":\"UnionRenderers\"},{\"attributes\":{},\"id\":\"3240\",\"type\":\"UnionRenderers\"},{\"attributes\":{\"margin\":[5,5,5,5],\"name\":\"HSpacer06318\",\"sizing_mode\":\"stretch_width\"},\"id\":\"3371\",\"type\":\"Spacer\"},{\"attributes\":{\"source\":{\"id\":\"3178\"}},\"id\":\"3185\",\"type\":\"CDSView\"},{\"attributes\":{\"line_color\":\"#fc4f30\",\"line_width\":2,\"x\":{\"field\":\"DraftYear\"},\"y\":{\"field\":\"FT%\"}},\"id\":\"3220\",\"type\":\"Line\"},{\"attributes\":{\"callback\":null,\"renderers\":[{\"id\":\"3184\"},{\"id\":\"3205\"},{\"id\":\"3227\"}],\"tags\":[\"hv_created\"],\"tooltips\":[[\"DraftYear\",\"@{DraftYear}\"],[\"FT%\",\"@{FT_percent}\"]]},\"id\":\"3139\",\"type\":\"HoverTool\"},{\"attributes\":{},\"id\":\"3156\",\"type\":\"BasicTicker\"},{\"attributes\":{},\"id\":\"3216\",\"type\":\"UnionRenderers\"},{\"attributes\":{\"end\":0.8217199999999999,\"reset_end\":0.8217199999999999,\"reset_start\":0.69308,\"start\":0.69308,\"tags\":[[[\"FT%\",\"FT%\",null]]]},\"id\":\"3138\",\"type\":\"Range1d\"},{\"attributes\":{\"label\":{\"value\":\"Group-B\"},\"renderers\":[{\"id\":\"3205\"}]},\"id\":\"3219\",\"type\":\"LegendItem\"},{\"attributes\":{\"axis\":{\"id\":\"3155\"},\"coordinates\":null,\"dimension\":1,\"grid_line_color\":null,\"group\":null,\"ticker\":null},\"id\":\"3158\",\"type\":\"Grid\"},{\"attributes\":{\"line_alpha\":0.2,\"line_color\":\"#30a2da\",\"line_width\":2,\"x\":{\"field\":\"DraftYear\"},\"y\":{\"field\":\"FT%\"}},\"id\":\"3183\",\"type\":\"Line\"},{\"attributes\":{},\"id\":\"3177\",\"type\":\"AllLabels\"},{\"attributes\":{\"children\":[{\"id\":\"3136\"},{\"id\":\"3142\"},{\"id\":\"3371\"}],\"margin\":[0,0,0,0],\"name\":\"Row06313\",\"tags\":[\"embedded\"]},\"id\":\"3135\",\"type\":\"Row\"},{\"attributes\":{\"end\":2021.0,\"reset_end\":2021.0,\"reset_start\":2017.0,\"start\":2017.0,\"tags\":[[[\"DraftYear\",\"DraftYear\",null]]]},\"id\":\"3137\",\"type\":\"Range1d\"},{\"attributes\":{\"line_color\":\"#30a2da\",\"line_width\":2,\"x\":{\"field\":\"DraftYear\"},\"y\":{\"field\":\"FT%\"}},\"id\":\"3198\",\"type\":\"Line\"},{\"attributes\":{\"data\":{\"DraftYear\":[2017,2018,2019,2020,2021],\"FT%\":{\"__ndarray__\":\"9pfdk4eF5j8Go5I6AU3oP7K/7J48LOg/YjJVMCqp5z956SYxCKzoPw==\",\"dtype\":\"float64\",\"order\":\"little\",\"shape\":[5]},\"FT_percent\":{\"__ndarray__\":\"9pfdk4eF5j8Go5I6AU3oP7K/7J48LOg/YjJVMCqp5z956SYxCKzoPw==\",\"dtype\":\"float64\",\"order\":\"little\",\"shape\":[5]}},\"selected\":{\"id\":\"3179\"},\"selection_policy\":{\"id\":\"3193\"}},\"id\":\"3178\",\"type\":\"ColumnDataSource\"},{\"attributes\":{\"line_color\":\"#30a2da\",\"line_width\":2,\"x\":{\"field\":\"DraftYear\"},\"y\":{\"field\":\"FT%\"}},\"id\":\"3181\",\"type\":\"Line\"},{\"attributes\":{\"source\":{\"id\":\"3221\"}},\"id\":\"3228\",\"type\":\"CDSView\"},{\"attributes\":{\"margin\":[5,5,5,5],\"name\":\"HSpacer06317\",\"sizing_mode\":\"stretch_width\"},\"id\":\"3136\",\"type\":\"Spacer\"},{\"attributes\":{\"click_policy\":\"mute\",\"coordinates\":null,\"group\":null,\"items\":[{\"id\":\"3197\"},{\"id\":\"3219\"},{\"id\":\"3243\"}]},\"id\":\"3196\",\"type\":\"Legend\"},{\"attributes\":{},\"id\":\"3159\",\"type\":\"SaveTool\"},{\"attributes\":{},\"id\":\"3222\",\"type\":\"Selection\"},{\"attributes\":{},\"id\":\"3174\",\"type\":\"AllLabels\"},{\"attributes\":{},\"id\":\"3160\",\"type\":\"PanTool\"},{\"attributes\":{\"coordinates\":null,\"data_source\":{\"id\":\"3221\"},\"glyph\":{\"id\":\"3224\"},\"group\":null,\"hover_glyph\":null,\"muted_glyph\":{\"id\":\"3226\"},\"nonselection_glyph\":{\"id\":\"3225\"},\"selection_glyph\":{\"id\":\"3244\"},\"view\":{\"id\":\"3228\"}},\"id\":\"3227\",\"type\":\"GlyphRenderer\"},{\"attributes\":{},\"id\":\"3173\",\"type\":\"BasicTickFormatter\"},{\"attributes\":{},\"id\":\"3161\",\"type\":\"WheelZoomTool\"},{\"attributes\":{\"label\":{\"value\":\"Group-A\"},\"renderers\":[{\"id\":\"3184\"}]},\"id\":\"3197\",\"type\":\"LegendItem\"},{\"attributes\":{},\"id\":\"3147\",\"type\":\"LinearScale\"},{\"attributes\":{\"tools\":[{\"id\":\"3139\"},{\"id\":\"3159\"},{\"id\":\"3160\"},{\"id\":\"3161\"},{\"id\":\"3162\"},{\"id\":\"3163\"}]},\"id\":\"3165\",\"type\":\"Toolbar\"},{\"attributes\":{\"line_alpha\":0.1,\"line_color\":\"#fc4f30\",\"line_width\":2,\"x\":{\"field\":\"DraftYear\"},\"y\":{\"field\":\"FT%\"}},\"id\":\"3203\",\"type\":\"Line\"},{\"attributes\":{\"axis_label\":\"Free Throws Percentage\",\"coordinates\":null,\"formatter\":{\"id\":\"3176\"},\"group\":null,\"major_label_policy\":{\"id\":\"3177\"},\"ticker\":{\"id\":\"3156\"}},\"id\":\"3155\",\"type\":\"LinearAxis\"},{\"attributes\":{\"line_color\":\"#fc4f30\",\"line_width\":2,\"x\":{\"field\":\"DraftYear\"},\"y\":{\"field\":\"FT%\"}},\"id\":\"3202\",\"type\":\"Line\"},{\"attributes\":{\"line_alpha\":0.2,\"line_color\":\"#e5ae38\",\"line_width\":2,\"x\":{\"field\":\"DraftYear\"},\"y\":{\"field\":\"FT%\"}},\"id\":\"3226\",\"type\":\"Line\"},{\"attributes\":{\"overlay\":{\"id\":\"3164\"}},\"id\":\"3162\",\"type\":\"BoxZoomTool\"},{\"attributes\":{\"line_alpha\":0.1,\"line_color\":\"#e5ae38\",\"line_width\":2,\"x\":{\"field\":\"DraftYear\"},\"y\":{\"field\":\"FT%\"}},\"id\":\"3225\",\"type\":\"Line\"},{\"attributes\":{},\"id\":\"3176\",\"type\":\"BasicTickFormatter\"},{\"attributes\":{},\"id\":\"3200\",\"type\":\"Selection\"},{\"attributes\":{\"line_alpha\":0.1,\"line_color\":\"#30a2da\",\"line_width\":2,\"x\":{\"field\":\"DraftYear\"},\"y\":{\"field\":\"FT%\"}},\"id\":\"3182\",\"type\":\"Line\"},{\"attributes\":{\"line_color\":\"#e5ae38\",\"line_width\":2,\"x\":{\"field\":\"DraftYear\"},\"y\":{\"field\":\"FT%\"}},\"id\":\"3224\",\"type\":\"Line\"},{\"attributes\":{},\"id\":\"3152\",\"type\":\"BasicTicker\"},{\"attributes\":{\"label\":{\"value\":\"Group-C\"},\"renderers\":[{\"id\":\"3227\"}]},\"id\":\"3243\",\"type\":\"LegendItem\"},{\"attributes\":{\"data\":{\"DraftYear\":[2017,2018,2019,2020,2021],\"FT%\":{\"__ndarray__\":\"Qs9m1edq5z+NuWsJ+aDnP7YV+8vuyec/b/CFyVTB6D/AyqFFtvPpPw==\",\"dtype\":\"float64\",\"order\":\"little\",\"shape\":[5]},\"FT_percent\":{\"__ndarray__\":\"Qs9m1edq5z+NuWsJ+aDnP7YV+8vuyec/b/CFyVTB6D/AyqFFtvPpPw==\",\"dtype\":\"float64\",\"order\":\"little\",\"shape\":[5]}},\"selected\":{\"id\":\"3200\"},\"selection_policy\":{\"id\":\"3216\"}},\"id\":\"3199\",\"type\":\"ColumnDataSource\"},{\"attributes\":{\"line_alpha\":0.2,\"line_color\":\"#fc4f30\",\"line_width\":2,\"x\":{\"field\":\"DraftYear\"},\"y\":{\"field\":\"FT%\"}},\"id\":\"3204\",\"type\":\"Line\"},{\"attributes\":{},\"id\":\"3163\",\"type\":\"ResetTool\"},{\"attributes\":{},\"id\":\"3149\",\"type\":\"LinearScale\"},{\"attributes\":{},\"id\":\"3179\",\"type\":\"Selection\"},{\"attributes\":{\"coordinates\":null,\"data_source\":{\"id\":\"3199\"},\"glyph\":{\"id\":\"3202\"},\"group\":null,\"hover_glyph\":null,\"muted_glyph\":{\"id\":\"3204\"},\"nonselection_glyph\":{\"id\":\"3203\"},\"selection_glyph\":{\"id\":\"3220\"},\"view\":{\"id\":\"3206\"}},\"id\":\"3205\",\"type\":\"GlyphRenderer\"},{\"attributes\":{\"axis\":{\"id\":\"3151\"},\"coordinates\":null,\"grid_line_color\":null,\"group\":null,\"ticker\":null},\"id\":\"3154\",\"type\":\"Grid\"},{\"attributes\":{\"source\":{\"id\":\"3199\"}},\"id\":\"3206\",\"type\":\"CDSView\"},{\"attributes\":{\"bottom_units\":\"screen\",\"coordinates\":null,\"fill_alpha\":0.5,\"fill_color\":\"lightgrey\",\"group\":null,\"left_units\":\"screen\",\"level\":\"overlay\",\"line_alpha\":1.0,\"line_color\":\"black\",\"line_dash\":[4,4],\"line_width\":2,\"right_units\":\"screen\",\"syncable\":false,\"top_units\":\"screen\"},\"id\":\"3164\",\"type\":\"BoxAnnotation\"},{\"attributes\":{\"below\":[{\"id\":\"3151\"}],\"center\":[{\"id\":\"3154\"},{\"id\":\"3158\"},{\"id\":\"3196\"}],\"height\":300,\"left\":[{\"id\":\"3155\"}],\"margin\":[5,5,5,5],\"min_border_bottom\":10,\"min_border_left\":10,\"min_border_right\":10,\"min_border_top\":10,\"renderers\":[{\"id\":\"3184\"},{\"id\":\"3205\"},{\"id\":\"3227\"}],\"sizing_mode\":\"fixed\",\"title\":{\"id\":\"3143\"},\"toolbar\":{\"id\":\"3165\"},\"width\":700,\"x_range\":{\"id\":\"3137\"},\"x_scale\":{\"id\":\"3147\"},\"y_range\":{\"id\":\"3138\"},\"y_scale\":{\"id\":\"3149\"}},\"id\":\"3142\",\"subtype\":\"Figure\",\"type\":\"Plot\"},{\"attributes\":{\"coordinates\":null,\"data_source\":{\"id\":\"3178\"},\"glyph\":{\"id\":\"3181\"},\"group\":null,\"hover_glyph\":null,\"muted_glyph\":{\"id\":\"3183\"},\"nonselection_glyph\":{\"id\":\"3182\"},\"selection_glyph\":{\"id\":\"3198\"},\"view\":{\"id\":\"3185\"}},\"id\":\"3184\",\"type\":\"GlyphRenderer\"},{\"attributes\":{\"data\":{\"DraftYear\":[2017,2018,2019,2020,2021],\"FT%\":{\"__ndarray__\":\"eqUsQxzr5j+EDU+vlGXoPw6+MJkqGOk/0ETY8PRK6T9CYOXQItvmPw==\",\"dtype\":\"float64\",\"order\":\"little\",\"shape\":[5]},\"FT_percent\":{\"__ndarray__\":\"eqUsQxzr5j+EDU+vlGXoPw6+MJkqGOk/0ETY8PRK6T9CYOXQItvmPw==\",\"dtype\":\"float64\",\"order\":\"little\",\"shape\":[5]}},\"selected\":{\"id\":\"3222\"},\"selection_policy\":{\"id\":\"3240\"}},\"id\":\"3221\",\"type\":\"ColumnDataSource\"},{\"attributes\":{\"line_color\":\"#e5ae38\",\"line_width\":2,\"x\":{\"field\":\"DraftYear\"},\"y\":{\"field\":\"FT%\"}},\"id\":\"3244\",\"type\":\"Line\"},{\"attributes\":{\"coordinates\":null,\"group\":null,\"text\":\"Average 1st Round Picks Free Throws Percentage 2017-2021\",\"text_color\":\"black\",\"text_font_size\":\"12pt\"},\"id\":\"3143\",\"type\":\"Title\"},{\"attributes\":{\"axis_label\":\"Draft Year\",\"coordinates\":null,\"formatter\":{\"id\":\"3173\"},\"group\":null,\"major_label_policy\":{\"id\":\"3174\"},\"ticker\":{\"id\":\"3152\"}},\"id\":\"3151\",\"type\":\"LinearAxis\"}],\"root_ids\":[\"3135\"]},\"title\":\"Bokeh Application\",\"version\":\"2.4.2\"}};\n",
       "    var render_items = [{\"docid\":\"4eec896c-9cd9-432d-aeff-7adcdc4d6719\",\"root_ids\":[\"3135\"],\"roots\":{\"3135\":\"4543c934-09f1-4a00-90c5-b3ba7693e011\"}}];\n",
       "    root.Bokeh.embed.embed_items_notebook(docs_json, render_items);\n",
       "  }\n",
       "  if (root.Bokeh !== undefined && root.Bokeh.Panel !== undefined) {\n",
       "    embed_document(root);\n",
       "  } else {\n",
       "    var attempts = 0;\n",
       "    var timer = setInterval(function(root) {\n",
       "      if (root.Bokeh !== undefined && root.Bokeh.Panel !== undefined) {\n",
       "        clearInterval(timer);\n",
       "        embed_document(root);\n",
       "      } else if (document.readyState == \"complete\") {\n",
       "        attempts++;\n",
       "        if (attempts > 200) {\n",
       "          clearInterval(timer);\n",
       "          console.log(\"Bokeh: ERROR: Unable to run BokehJS code because BokehJS library is missing\");\n",
       "        }\n",
       "      }\n",
       "    }, 25, root)\n",
       "  }\n",
       "})(window);</script>"
      ],
      "text/plain": [
       ":Overlay\n",
       "   .Curve.Group_hyphen_minus_A :Curve   [DraftYear]   (FT%)\n",
       "   .Curve.Group_hyphen_minus_B :Curve   [DraftYear]   (FT%)\n",
       "   .Curve.Group_hyphen_minus_C :Curve   [DraftYear]   (FT%)"
      ]
     },
     "execution_count": 80,
     "metadata": {
      "application/vnd.holoviews_exec.v0+json": {
       "id": "3135"
      }
     },
     "output_type": "execute_result"
    }
   ],
   "source": [
    "# Overlay all groups free throws percentage 2017-2021\n",
    "group_a_ft_plot*group_b_ft_plot*group_c_ft_plot"
   ]
  },
  {
   "cell_type": "markdown",
   "id": "ac5ee4ba-64d4-43dc-8872-a0858c8983fd",
   "metadata": {},
   "source": [
    "### When looking at MPG, PPG, RPG, and APG graphs, Group A has the best numbers followed by Group B and C, which implies an easy trend to follow; while when it comes to FG%, 3P%, and FT%, Group B and C seems have better numbers, which is hard to discover any trend."
   ]
  },
  {
   "cell_type": "markdown",
   "id": "d9c2bfb3-9de5-4170-b191-9727c08626f9",
   "metadata": {},
   "source": [
    "### Kentucky, Duke, and UNC have highest number of athletes got drafted. However, picks came from these schools are ranking lower each year in the draft"
   ]
  },
  {
   "cell_type": "code",
   "execution_count": null,
   "id": "69be85bd-6624-46b4-a0b2-ed5abc570146",
   "metadata": {},
   "outputs": [],
   "source": []
  },
  {
   "cell_type": "code",
   "execution_count": null,
   "id": "65e78662-78c6-4d4e-b80b-bffac0058f09",
   "metadata": {},
   "outputs": [],
   "source": []
  },
  {
   "cell_type": "code",
   "execution_count": null,
   "id": "2dfa9a8f-1801-49e2-84ce-a6a5948dd5aa",
   "metadata": {},
   "outputs": [],
   "source": []
  },
  {
   "cell_type": "code",
   "execution_count": null,
   "id": "7c524c8b-d1cc-4501-abf6-e99e92f0a5d5",
   "metadata": {},
   "outputs": [],
   "source": []
  },
  {
   "cell_type": "code",
   "execution_count": null,
   "id": "8403f175-eca6-49e0-90dc-27911ad9e301",
   "metadata": {},
   "outputs": [],
   "source": []
  },
  {
   "cell_type": "code",
   "execution_count": null,
   "id": "542f90f6-d8ac-4499-804a-369ca1b091f1",
   "metadata": {},
   "outputs": [],
   "source": []
  }
 ],
 "metadata": {
  "kernelspec": {
   "display_name": "dev",
   "language": "python",
   "name": "dev"
  },
  "language_info": {
   "codemirror_mode": {
    "name": "ipython",
    "version": 3
   },
   "file_extension": ".py",
   "mimetype": "text/x-python",
   "name": "python",
   "nbconvert_exporter": "python",
   "pygments_lexer": "ipython3",
   "version": "3.7.11"
  }
 },
 "nbformat": 4,
 "nbformat_minor": 5
}
