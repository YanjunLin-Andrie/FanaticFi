{
 "cells": [
  {
   "cell_type": "code",
   "execution_count": 77,
   "id": "ebeda3f2-62bf-4113-91c7-f724be40f8cc",
   "metadata": {},
   "outputs": [],
   "source": [
    "# Import necessary libraries and dependencies\n",
    "import pandas as pd\n",
    "from pathlib import Path\n",
    "import hvplot.pandas\n",
    "import seaborn as sns\n",
    "import plotly.express as px\n",
    "import plotly.graph_objects as go\n",
    "from Calculation.Calculator import Calculator\n",
    "from re import search\n",
    "from Rcalc.cal import GETPLAYER,AVGSTAT,ADDPOINTS,CURRENTSTAT"
   ]
  },
  {
   "cell_type": "code",
   "execution_count": 78,
   "id": "a352665c-8bc7-42fe-b776-6e73cfa2b977",
   "metadata": {},
   "outputs": [
    {
     "data": {
      "text/html": [
       "<div>\n",
       "<style scoped>\n",
       "    .dataframe tbody tr th:only-of-type {\n",
       "        vertical-align: middle;\n",
       "    }\n",
       "\n",
       "    .dataframe tbody tr th {\n",
       "        vertical-align: top;\n",
       "    }\n",
       "\n",
       "    .dataframe thead th {\n",
       "        text-align: right;\n",
       "    }\n",
       "</style>\n",
       "<table border=\"1\" class=\"dataframe\">\n",
       "  <thead>\n",
       "    <tr style=\"text-align: right;\">\n",
       "      <th></th>\n",
       "      <th>Unnamed: 0</th>\n",
       "      <th>DraftYr</th>\n",
       "      <th>Rk</th>\n",
       "      <th>Pk</th>\n",
       "      <th>Tm</th>\n",
       "      <th>Pos</th>\n",
       "      <th>Player</th>\n",
       "      <th>College</th>\n",
       "      <th>Contract Worth</th>\n",
       "      <th>Yrs</th>\n",
       "      <th>...</th>\n",
       "      <th>FT%</th>\n",
       "      <th>WS</th>\n",
       "      <th>WS/48</th>\n",
       "      <th>BPM</th>\n",
       "      <th>VORP</th>\n",
       "      <th>MPG</th>\n",
       "      <th>PPG</th>\n",
       "      <th>RPG</th>\n",
       "      <th>APG</th>\n",
       "      <th>playerurl</th>\n",
       "    </tr>\n",
       "    <tr>\n",
       "      <th>DraftYear</th>\n",
       "      <th></th>\n",
       "      <th></th>\n",
       "      <th></th>\n",
       "      <th></th>\n",
       "      <th></th>\n",
       "      <th></th>\n",
       "      <th></th>\n",
       "      <th></th>\n",
       "      <th></th>\n",
       "      <th></th>\n",
       "      <th></th>\n",
       "      <th></th>\n",
       "      <th></th>\n",
       "      <th></th>\n",
       "      <th></th>\n",
       "      <th></th>\n",
       "      <th></th>\n",
       "      <th></th>\n",
       "      <th></th>\n",
       "      <th></th>\n",
       "      <th></th>\n",
       "    </tr>\n",
       "  </thead>\n",
       "  <tbody>\n",
       "    <tr>\n",
       "      <th>2017</th>\n",
       "      <td>1569</td>\n",
       "      <td>2017</td>\n",
       "      <td>1</td>\n",
       "      <td>1</td>\n",
       "      <td>PHI</td>\n",
       "      <td>G</td>\n",
       "      <td>Markelle Fultz</td>\n",
       "      <td>Washington</td>\n",
       "      <td>33727701.0</td>\n",
       "      <td>4.0</td>\n",
       "      <td>...</td>\n",
       "      <td>0.695</td>\n",
       "      <td>3.1</td>\n",
       "      <td>0.052</td>\n",
       "      <td>-2.2</td>\n",
       "      <td>-0.2</td>\n",
       "      <td>25.6</td>\n",
       "      <td>10.9</td>\n",
       "      <td>3.3</td>\n",
       "      <td>4.6</td>\n",
       "      <td>https://www.sports-reference.com/cbb/players/m...</td>\n",
       "    </tr>\n",
       "    <tr>\n",
       "      <th>2017</th>\n",
       "      <td>1570</td>\n",
       "      <td>2017</td>\n",
       "      <td>2</td>\n",
       "      <td>2</td>\n",
       "      <td>LAL</td>\n",
       "      <td>G</td>\n",
       "      <td>Lonzo Ball</td>\n",
       "      <td>UCLA</td>\n",
       "      <td>30184438.0</td>\n",
       "      <td>5.0</td>\n",
       "      <td>...</td>\n",
       "      <td>0.578</td>\n",
       "      <td>11.7</td>\n",
       "      <td>0.068</td>\n",
       "      <td>1.1</td>\n",
       "      <td>6.3</td>\n",
       "      <td>32.5</td>\n",
       "      <td>11.9</td>\n",
       "      <td>5.7</td>\n",
       "      <td>6.2</td>\n",
       "      <td>https://www.sports-reference.com/cbb/players/l...</td>\n",
       "    </tr>\n",
       "    <tr>\n",
       "      <th>2017</th>\n",
       "      <td>1571</td>\n",
       "      <td>2017</td>\n",
       "      <td>3</td>\n",
       "      <td>3</td>\n",
       "      <td>BOS</td>\n",
       "      <td>F</td>\n",
       "      <td>Jayson Tatum</td>\n",
       "      <td>Duke</td>\n",
       "      <td>27118800.0</td>\n",
       "      <td>5.0</td>\n",
       "      <td>...</td>\n",
       "      <td>0.842</td>\n",
       "      <td>31.5</td>\n",
       "      <td>0.132</td>\n",
       "      <td>2.4</td>\n",
       "      <td>12.9</td>\n",
       "      <td>33.3</td>\n",
       "      <td>20.4</td>\n",
       "      <td>6.6</td>\n",
       "      <td>2.9</td>\n",
       "      <td>https://www.sports-reference.com/cbb/players/j...</td>\n",
       "    </tr>\n",
       "    <tr>\n",
       "      <th>2017</th>\n",
       "      <td>1572</td>\n",
       "      <td>2017</td>\n",
       "      <td>4</td>\n",
       "      <td>4</td>\n",
       "      <td>PHO</td>\n",
       "      <td>F</td>\n",
       "      <td>Josh Jackson</td>\n",
       "      <td>Kansas</td>\n",
       "      <td>24118800.0</td>\n",
       "      <td>5.0</td>\n",
       "      <td>...</td>\n",
       "      <td>0.679</td>\n",
       "      <td>-1.6</td>\n",
       "      <td>-0.012</td>\n",
       "      <td>-3.8</td>\n",
       "      <td>-2.9</td>\n",
       "      <td>23.6</td>\n",
       "      <td>11.5</td>\n",
       "      <td>4.1</td>\n",
       "      <td>1.9</td>\n",
       "      <td>https://www.sports-reference.com/cbb/players/j...</td>\n",
       "    </tr>\n",
       "    <tr>\n",
       "      <th>2017</th>\n",
       "      <td>1573</td>\n",
       "      <td>2017</td>\n",
       "      <td>5</td>\n",
       "      <td>5</td>\n",
       "      <td>SAC</td>\n",
       "      <td>G</td>\n",
       "      <td>De'Aaron Fox</td>\n",
       "      <td>Kentucky</td>\n",
       "      <td>22157109.0</td>\n",
       "      <td>5.0</td>\n",
       "      <td>...</td>\n",
       "      <td>0.725</td>\n",
       "      <td>15.0</td>\n",
       "      <td>0.073</td>\n",
       "      <td>0.0</td>\n",
       "      <td>4.9</td>\n",
       "      <td>31.8</td>\n",
       "      <td>18.7</td>\n",
       "      <td>3.5</td>\n",
       "      <td>6.2</td>\n",
       "      <td>https://www.sports-reference.com/cbb/players/d...</td>\n",
       "    </tr>\n",
       "    <tr>\n",
       "      <th>...</th>\n",
       "      <td>...</td>\n",
       "      <td>...</td>\n",
       "      <td>...</td>\n",
       "      <td>...</td>\n",
       "      <td>...</td>\n",
       "      <td>...</td>\n",
       "      <td>...</td>\n",
       "      <td>...</td>\n",
       "      <td>...</td>\n",
       "      <td>...</td>\n",
       "      <td>...</td>\n",
       "      <td>...</td>\n",
       "      <td>...</td>\n",
       "      <td>...</td>\n",
       "      <td>...</td>\n",
       "      <td>...</td>\n",
       "      <td>...</td>\n",
       "      <td>...</td>\n",
       "      <td>...</td>\n",
       "      <td>...</td>\n",
       "      <td>...</td>\n",
       "    </tr>\n",
       "    <tr>\n",
       "      <th>2021</th>\n",
       "      <td>1833</td>\n",
       "      <td>2021</td>\n",
       "      <td>25</td>\n",
       "      <td>25</td>\n",
       "      <td>LAC</td>\n",
       "      <td>SG</td>\n",
       "      <td>Quentin Grimes</td>\n",
       "      <td>Houston</td>\n",
       "      <td>11128162.0</td>\n",
       "      <td>1.0</td>\n",
       "      <td>...</td>\n",
       "      <td>0.647</td>\n",
       "      <td>1.3</td>\n",
       "      <td>0.091</td>\n",
       "      <td>-0.1</td>\n",
       "      <td>0.4</td>\n",
       "      <td>17.8</td>\n",
       "      <td>6.5</td>\n",
       "      <td>2.0</td>\n",
       "      <td>1.0</td>\n",
       "      <td>https://www.sports-reference.com/cbb/players/q...</td>\n",
       "    </tr>\n",
       "    <tr>\n",
       "      <th>2021</th>\n",
       "      <td>1834</td>\n",
       "      <td>2021</td>\n",
       "      <td>26</td>\n",
       "      <td>26</td>\n",
       "      <td>DEN</td>\n",
       "      <td>PG</td>\n",
       "      <td>Bones Hyland</td>\n",
       "      <td>VCU</td>\n",
       "      <td>10763119.0</td>\n",
       "      <td>1.0</td>\n",
       "      <td>...</td>\n",
       "      <td>0.881</td>\n",
       "      <td>0.5</td>\n",
       "      <td>0.027</td>\n",
       "      <td>-3.0</td>\n",
       "      <td>-0.2</td>\n",
       "      <td>18.0</td>\n",
       "      <td>8.8</td>\n",
       "      <td>2.7</td>\n",
       "      <td>2.0</td>\n",
       "      <td>https://www.sports-reference.com/cbb/players/b...</td>\n",
       "    </tr>\n",
       "    <tr>\n",
       "      <th>2021</th>\n",
       "      <td>1835</td>\n",
       "      <td>2021</td>\n",
       "      <td>27</td>\n",
       "      <td>27</td>\n",
       "      <td>BRK</td>\n",
       "      <td>SG</td>\n",
       "      <td>Cam Thomas</td>\n",
       "      <td>LSU</td>\n",
       "      <td>10455512.0</td>\n",
       "      <td>1.0</td>\n",
       "      <td>...</td>\n",
       "      <td>0.808</td>\n",
       "      <td>0.9</td>\n",
       "      <td>0.046</td>\n",
       "      <td>-2.7</td>\n",
       "      <td>-0.2</td>\n",
       "      <td>19.6</td>\n",
       "      <td>9.8</td>\n",
       "      <td>2.6</td>\n",
       "      <td>1.3</td>\n",
       "      <td>https://www.sports-reference.com/cbb/players/c...</td>\n",
       "    </tr>\n",
       "    <tr>\n",
       "      <th>2021</th>\n",
       "      <td>1837</td>\n",
       "      <td>2021</td>\n",
       "      <td>29</td>\n",
       "      <td>29</td>\n",
       "      <td>PHO</td>\n",
       "      <td>C</td>\n",
       "      <td>Day'Ron Sharpe</td>\n",
       "      <td>UNC</td>\n",
       "      <td>10317899.0</td>\n",
       "      <td>1.0</td>\n",
       "      <td>...</td>\n",
       "      <td>0.568</td>\n",
       "      <td>1.1</td>\n",
       "      <td>0.146</td>\n",
       "      <td>-3.6</td>\n",
       "      <td>-0.1</td>\n",
       "      <td>12.4</td>\n",
       "      <td>6.1</td>\n",
       "      <td>5.1</td>\n",
       "      <td>0.5</td>\n",
       "      <td>https://www.sports-reference.com/cbb/players/d...</td>\n",
       "    </tr>\n",
       "    <tr>\n",
       "      <th>2021</th>\n",
       "      <td>1838</td>\n",
       "      <td>2021</td>\n",
       "      <td>30</td>\n",
       "      <td>30</td>\n",
       "      <td>UTA</td>\n",
       "      <td>F/C</td>\n",
       "      <td>Santi Aldama</td>\n",
       "      <td>Loyola (MD)</td>\n",
       "      <td>10243491.0</td>\n",
       "      <td>1.0</td>\n",
       "      <td>...</td>\n",
       "      <td>0.600</td>\n",
       "      <td>0.1</td>\n",
       "      <td>0.025</td>\n",
       "      <td>-6.6</td>\n",
       "      <td>-0.3</td>\n",
       "      <td>10.3</td>\n",
       "      <td>3.3</td>\n",
       "      <td>2.4</td>\n",
       "      <td>0.5</td>\n",
       "      <td>https://www.sports-reference.com/cbb/players/s...</td>\n",
       "    </tr>\n",
       "  </tbody>\n",
       "</table>\n",
       "<p>127 rows × 27 columns</p>\n",
       "</div>"
      ],
      "text/plain": [
       "           Unnamed: 0  DraftYr  Rk  Pk   Tm  Pos          Player      College  \\\n",
       "DraftYear                                                                       \n",
       "2017             1569     2017   1   1  PHI    G  Markelle Fultz   Washington   \n",
       "2017             1570     2017   2   2  LAL    G      Lonzo Ball         UCLA   \n",
       "2017             1571     2017   3   3  BOS    F    Jayson Tatum         Duke   \n",
       "2017             1572     2017   4   4  PHO    F    Josh Jackson       Kansas   \n",
       "2017             1573     2017   5   5  SAC    G    De'Aaron Fox     Kentucky   \n",
       "...               ...      ...  ..  ..  ...  ...             ...          ...   \n",
       "2021             1833     2021  25  25  LAC   SG  Quentin Grimes      Houston   \n",
       "2021             1834     2021  26  26  DEN   PG    Bones Hyland          VCU   \n",
       "2021             1835     2021  27  27  BRK   SG      Cam Thomas          LSU   \n",
       "2021             1837     2021  29  29  PHO    C  Day'Ron Sharpe          UNC   \n",
       "2021             1838     2021  30  30  UTA  F/C    Santi Aldama  Loyola (MD)   \n",
       "\n",
       "           Contract Worth  Yrs  ...    FT%    WS  WS/48  BPM  VORP   MPG  \\\n",
       "DraftYear                       ...                                        \n",
       "2017           33727701.0  4.0  ...  0.695   3.1  0.052 -2.2  -0.2  25.6   \n",
       "2017           30184438.0  5.0  ...  0.578  11.7  0.068  1.1   6.3  32.5   \n",
       "2017           27118800.0  5.0  ...  0.842  31.5  0.132  2.4  12.9  33.3   \n",
       "2017           24118800.0  5.0  ...  0.679  -1.6 -0.012 -3.8  -2.9  23.6   \n",
       "2017           22157109.0  5.0  ...  0.725  15.0  0.073  0.0   4.9  31.8   \n",
       "...                   ...  ...  ...    ...   ...    ...  ...   ...   ...   \n",
       "2021           11128162.0  1.0  ...  0.647   1.3  0.091 -0.1   0.4  17.8   \n",
       "2021           10763119.0  1.0  ...  0.881   0.5  0.027 -3.0  -0.2  18.0   \n",
       "2021           10455512.0  1.0  ...  0.808   0.9  0.046 -2.7  -0.2  19.6   \n",
       "2021           10317899.0  1.0  ...  0.568   1.1  0.146 -3.6  -0.1  12.4   \n",
       "2021           10243491.0  1.0  ...  0.600   0.1  0.025 -6.6  -0.3  10.3   \n",
       "\n",
       "            PPG  RPG  APG                                          playerurl  \n",
       "DraftYear                                                                     \n",
       "2017       10.9  3.3  4.6  https://www.sports-reference.com/cbb/players/m...  \n",
       "2017       11.9  5.7  6.2  https://www.sports-reference.com/cbb/players/l...  \n",
       "2017       20.4  6.6  2.9  https://www.sports-reference.com/cbb/players/j...  \n",
       "2017       11.5  4.1  1.9  https://www.sports-reference.com/cbb/players/j...  \n",
       "2017       18.7  3.5  6.2  https://www.sports-reference.com/cbb/players/d...  \n",
       "...         ...  ...  ...                                                ...  \n",
       "2021        6.5  2.0  1.0  https://www.sports-reference.com/cbb/players/q...  \n",
       "2021        8.8  2.7  2.0  https://www.sports-reference.com/cbb/players/b...  \n",
       "2021        9.8  2.6  1.3  https://www.sports-reference.com/cbb/players/c...  \n",
       "2021        6.1  5.1  0.5  https://www.sports-reference.com/cbb/players/d...  \n",
       "2021        3.3  2.4  0.5  https://www.sports-reference.com/cbb/players/s...  \n",
       "\n",
       "[127 rows x 27 columns]"
      ]
     },
     "metadata": {},
     "output_type": "display_data"
    },
    {
     "data": {
      "text/html": [
       "<div>\n",
       "<style scoped>\n",
       "    .dataframe tbody tr th:only-of-type {\n",
       "        vertical-align: middle;\n",
       "    }\n",
       "\n",
       "    .dataframe tbody tr th {\n",
       "        vertical-align: top;\n",
       "    }\n",
       "\n",
       "    .dataframe thead th {\n",
       "        text-align: right;\n",
       "    }\n",
       "</style>\n",
       "<table border=\"1\" class=\"dataframe\">\n",
       "  <thead>\n",
       "    <tr style=\"text-align: right;\">\n",
       "      <th></th>\n",
       "      <th>Contract Worth</th>\n",
       "      <th>Player</th>\n",
       "    </tr>\n",
       "  </thead>\n",
       "  <tbody>\n",
       "    <tr>\n",
       "      <th>1568</th>\n",
       "      <td>33727701.0</td>\n",
       "      <td>Markelle Fultz</td>\n",
       "    </tr>\n",
       "    <tr>\n",
       "      <th>1569</th>\n",
       "      <td>30184438.0</td>\n",
       "      <td>Lonzo Ball</td>\n",
       "    </tr>\n",
       "    <tr>\n",
       "      <th>1570</th>\n",
       "      <td>27118800.0</td>\n",
       "      <td>Jayson Tatum</td>\n",
       "    </tr>\n",
       "    <tr>\n",
       "      <th>1571</th>\n",
       "      <td>24118800.0</td>\n",
       "      <td>Josh Jackson</td>\n",
       "    </tr>\n",
       "    <tr>\n",
       "      <th>1572</th>\n",
       "      <td>22157109.0</td>\n",
       "      <td>De'Aaron Fox</td>\n",
       "    </tr>\n",
       "    <tr>\n",
       "      <th>...</th>\n",
       "      <td>...</td>\n",
       "      <td>...</td>\n",
       "    </tr>\n",
       "    <tr>\n",
       "      <th>1833</th>\n",
       "      <td>10763119.0</td>\n",
       "      <td>Bones Hyland</td>\n",
       "    </tr>\n",
       "    <tr>\n",
       "      <th>1834</th>\n",
       "      <td>10455512.0</td>\n",
       "      <td>Cam Thomas</td>\n",
       "    </tr>\n",
       "    <tr>\n",
       "      <th>1835</th>\n",
       "      <td>10393940.0</td>\n",
       "      <td>Jaden Springer</td>\n",
       "    </tr>\n",
       "    <tr>\n",
       "      <th>1836</th>\n",
       "      <td>10317899.0</td>\n",
       "      <td>Day'Ron Sharpe</td>\n",
       "    </tr>\n",
       "    <tr>\n",
       "      <th>1837</th>\n",
       "      <td>10243491.0</td>\n",
       "      <td>Santi Aldama</td>\n",
       "    </tr>\n",
       "  </tbody>\n",
       "</table>\n",
       "<p>150 rows × 2 columns</p>\n",
       "</div>"
      ],
      "text/plain": [
       "      Contract Worth          Player\n",
       "1568      33727701.0  Markelle Fultz\n",
       "1569      30184438.0      Lonzo Ball\n",
       "1570      27118800.0    Jayson Tatum\n",
       "1571      24118800.0    Josh Jackson\n",
       "1572      22157109.0    De'Aaron Fox\n",
       "...              ...             ...\n",
       "1833      10763119.0    Bones Hyland\n",
       "1834      10455512.0      Cam Thomas\n",
       "1835      10393940.0  Jaden Springer\n",
       "1836      10317899.0  Day'Ron Sharpe\n",
       "1837      10243491.0    Santi Aldama\n",
       "\n",
       "[150 rows x 2 columns]"
      ]
     },
     "execution_count": 78,
     "metadata": {},
     "output_type": "execute_result"
    }
   ],
   "source": [
    "# # Using the read_csv function and Path module, create a DataFrame by importing the draft-data-20-years.csv file\n",
    "draft_df = pd.read_csv(Path('./Resources/2017-2021_Historical_Players_Data.csv'),\n",
    "                       skiprows=0,\n",
    "                       header=0,\n",
    "                       index_col = 'DraftYear', \n",
    "                       parse_dates=False, \n",
    "                       infer_datetime_format=True\n",
    ")\n",
    "\n",
    "# review dataframe\n",
    "draft_df=draft_df.dropna()\n",
    "display(draft_df)\n",
    "\n",
    "\n",
    "# #-------------------------------------------------------------------------------- \n",
    "\n",
    "#Imported old csv to merge into new csv \n",
    "\n",
    "\n",
    "CW = pd.read_csv(Path('./Resources/draft-data-20-years-pos-contract.csv'),\n",
    "                     \n",
    "               \n",
    "                       parse_dates=False, \n",
    "                       infer_datetime_format=True)\n",
    "\n",
    "#-------------------------------------------------------------------------------- \n",
    "#Filtering through draft year for last 5 years\n",
    "\n",
    "CW_Df = CW.loc[CW['DraftYear'] >= 2017]\n",
    "\n",
    "#Filtering through Rank for only 1 round pick\n",
    "\n",
    "CW_Df = CW_Df.loc[CW_Df['Rk']< 31]\n",
    "\n",
    "#-------------------------------------------------------------------------------- \n",
    "\n",
    "\n",
    "# Dataframe of the specific row we wanted \n",
    "\n",
    "_CW_ = CW_Df[['Contract Worth','Player']]\n",
    "\n",
    "#review dataframe  \n",
    "    \n",
    "_CW_\n",
    "   "
   ]
  },
  {
   "cell_type": "code",
   "execution_count": 79,
   "id": "7f8f1760-a0fc-4aa2-a508-50fdce60e470",
   "metadata": {},
   "outputs": [],
   "source": [
    "# Selecting columns from the dataframe for analysis\n",
    "\n",
    "draft_df = draft_df[['Pk','Tm','Player','College','MPG','PPG', 'RPG', 'APG','FG%', '3P%','FT%','Pos','Rk','Contract Worth']]\n",
    "draft_df\n",
    "# Filter dataframe to get most recent 5 years data\n",
    "last_5_yrs_draft_df = draft_df\n",
    "last_5_yrs_draft_df =last_5_yrs_draft_df.sort_index()\n",
    "\n",
    "# Limit data on 1st round picks last 5 years\n",
    "last_5_yrs_1_rnd_draft_df = last_5_yrs_draft_df.loc[last_5_yrs_draft_df['Pk'] <=30]\n",
    "\n",
    "# point guards\n",
    "PG_STATS_df = last_5_yrs_1_rnd_draft_df[['FG%','FT%','3P%','Pos','APG', 'PPG','Player','Rk','Contract Worth','RPG']]\n",
    "\n",
    "# shooting guards\n",
    "SG_STATS_df = last_5_yrs_1_rnd_draft_df[['FG%','FT%','3P%','Pos','APG', 'PPG','Player','Rk','Contract Worth','RPG']]\n",
    "\n",
    "# small forwards\n",
    "SF_STATS_df = last_5_yrs_1_rnd_draft_df[['FG%','FT%','3P%','Pos','APG', 'PPG','Player','Rk','Contract Worth','RPG']]\n",
    "\n",
    "# power forwards\n",
    "PF_STATS_df = last_5_yrs_1_rnd_draft_df[['FG%','FT%','3P%','Pos','APG', 'PPG','Player','Rk','Contract Worth','RPG']]\n",
    "\n",
    "# center/forward\n",
    "C_STATS_df = last_5_yrs_1_rnd_draft_df[['FG%','FT%','3P%','Pos','APG', 'PPG','Player','Rk','Contract Worth','RPG']]\n",
    "\n"
   ]
  },
  {
   "cell_type": "markdown",
   "id": "b9151a93-566d-45d1-bf2f-c0208bc22ac1",
   "metadata": {},
   "source": [
    "\n",
    "## Create dataframes for each position and find contract ranges for the 2022 players\n",
    "\n"
   ]
  },
  {
   "cell_type": "code",
   "execution_count": 80,
   "id": "ad175d5e-2c9d-497d-acd0-4f1a96d56d36",
   "metadata": {},
   "outputs": [
    {
     "data": {
      "text/html": [
       "<div>\n",
       "<style scoped>\n",
       "    .dataframe tbody tr th:only-of-type {\n",
       "        vertical-align: middle;\n",
       "    }\n",
       "\n",
       "    .dataframe tbody tr th {\n",
       "        vertical-align: top;\n",
       "    }\n",
       "\n",
       "    .dataframe thead th {\n",
       "        text-align: right;\n",
       "    }\n",
       "</style>\n",
       "<table border=\"1\" class=\"dataframe\">\n",
       "  <thead>\n",
       "    <tr style=\"text-align: right;\">\n",
       "      <th></th>\n",
       "      <th>FG%</th>\n",
       "      <th>FT%</th>\n",
       "      <th>3P%</th>\n",
       "      <th>Pos</th>\n",
       "      <th>APG</th>\n",
       "      <th>PPG</th>\n",
       "      <th>Player</th>\n",
       "      <th>Rk</th>\n",
       "      <th>Contract Worth</th>\n",
       "      <th>RPG</th>\n",
       "    </tr>\n",
       "    <tr>\n",
       "      <th>DraftYear</th>\n",
       "      <th></th>\n",
       "      <th></th>\n",
       "      <th></th>\n",
       "      <th></th>\n",
       "      <th></th>\n",
       "      <th></th>\n",
       "      <th></th>\n",
       "      <th></th>\n",
       "      <th></th>\n",
       "      <th></th>\n",
       "    </tr>\n",
       "  </thead>\n",
       "  <tbody>\n",
       "    <tr>\n",
       "      <th>2018</th>\n",
       "      <td>0.437</td>\n",
       "      <td>0.868</td>\n",
       "      <td>0.352</td>\n",
       "      <td>PG</td>\n",
       "      <td>8.9</td>\n",
       "      <td>24.9</td>\n",
       "      <td>Trae Young</td>\n",
       "      <td>5</td>\n",
       "      <td>26527711.0</td>\n",
       "      <td>3.9</td>\n",
       "    </tr>\n",
       "    <tr>\n",
       "      <th>2018</th>\n",
       "      <td>0.458</td>\n",
       "      <td>0.827</td>\n",
       "      <td>0.378</td>\n",
       "      <td>PG</td>\n",
       "      <td>3.3</td>\n",
       "      <td>20.0</td>\n",
       "      <td>Collin Sexton</td>\n",
       "      <td>8</td>\n",
       "      <td>20175111.0</td>\n",
       "      <td>3.0</td>\n",
       "    </tr>\n",
       "    <tr>\n",
       "      <th>2019</th>\n",
       "      <td>0.473</td>\n",
       "      <td>0.752</td>\n",
       "      <td>0.321</td>\n",
       "      <td>PG</td>\n",
       "      <td>7.2</td>\n",
       "      <td>20.6</td>\n",
       "      <td>Ja Morant</td>\n",
       "      <td>2</td>\n",
       "      <td>39619840.0</td>\n",
       "      <td>4.4</td>\n",
       "    </tr>\n",
       "    <tr>\n",
       "      <th>2019</th>\n",
       "      <td>0.444</td>\n",
       "      <td>0.877</td>\n",
       "      <td>0.375</td>\n",
       "      <td>PG</td>\n",
       "      <td>5.8</td>\n",
       "      <td>16.4</td>\n",
       "      <td>Darius Garland</td>\n",
       "      <td>5</td>\n",
       "      <td>29083315.0</td>\n",
       "      <td>2.5</td>\n",
       "    </tr>\n",
       "    <tr>\n",
       "      <th>2019</th>\n",
       "      <td>0.415</td>\n",
       "      <td>0.847</td>\n",
       "      <td>0.366</td>\n",
       "      <td>PG</td>\n",
       "      <td>3.5</td>\n",
       "      <td>14.1</td>\n",
       "      <td>Coby White</td>\n",
       "      <td>7</td>\n",
       "      <td>24131515.0</td>\n",
       "      <td>3.7</td>\n",
       "    </tr>\n",
       "    <tr>\n",
       "      <th>2021</th>\n",
       "      <td>0.394</td>\n",
       "      <td>0.856</td>\n",
       "      <td>0.327</td>\n",
       "      <td>PG</td>\n",
       "      <td>5.2</td>\n",
       "      <td>15.7</td>\n",
       "      <td>Cade Cunningham</td>\n",
       "      <td>1</td>\n",
       "      <td>45598818.0</td>\n",
       "      <td>5.5</td>\n",
       "    </tr>\n",
       "    <tr>\n",
       "      <th>2021</th>\n",
       "      <td>0.367</td>\n",
       "      <td>0.776</td>\n",
       "      <td>0.228</td>\n",
       "      <td>PG</td>\n",
       "      <td>4.4</td>\n",
       "      <td>12.6</td>\n",
       "      <td>Jalen Suggs</td>\n",
       "      <td>5</td>\n",
       "      <td>29956217.0</td>\n",
       "      <td>3.7</td>\n",
       "    </tr>\n",
       "  </tbody>\n",
       "</table>\n",
       "</div>"
      ],
      "text/plain": [
       "             FG%    FT%    3P% Pos  APG   PPG           Player  Rk  \\\n",
       "DraftYear                                                            \n",
       "2018       0.437  0.868  0.352  PG  8.9  24.9       Trae Young   5   \n",
       "2018       0.458  0.827  0.378  PG  3.3  20.0    Collin Sexton   8   \n",
       "2019       0.473  0.752  0.321  PG  7.2  20.6        Ja Morant   2   \n",
       "2019       0.444  0.877  0.375  PG  5.8  16.4   Darius Garland   5   \n",
       "2019       0.415  0.847  0.366  PG  3.5  14.1       Coby White   7   \n",
       "2021       0.394  0.856  0.327  PG  5.2  15.7  Cade Cunningham   1   \n",
       "2021       0.367  0.776  0.228  PG  4.4  12.6      Jalen Suggs   5   \n",
       "\n",
       "           Contract Worth  RPG  \n",
       "DraftYear                       \n",
       "2018           26527711.0  3.9  \n",
       "2018           20175111.0  3.0  \n",
       "2019           39619840.0  4.4  \n",
       "2019           29083315.0  2.5  \n",
       "2019           24131515.0  3.7  \n",
       "2021           45598818.0  5.5  \n",
       "2021           29956217.0  3.7  "
      ]
     },
     "metadata": {},
     "output_type": "display_data"
    }
   ],
   "source": [
    "# create dataframes for Point Guards and visualize data\n",
    "\n",
    "PG_STATS_df = last_5_yrs_1_rnd_draft_df[['FG%','FT%','3P%','Pos','APG', 'PPG','Player','Rk','Contract Worth','RPG']]\n",
    "\n",
    "searchfor = ['PG']\n",
    "\n",
    "PG_heavy_df = PG_STATS_df.loc[PG_STATS_df['Pos'].str.contains('|'.join(searchfor))]\n",
    "\n",
    "\n",
    "\n",
    "# ------------------------------------------------------------------------------------------------------------------- \n",
    "\n",
    "PG_25_df = PG_heavy_df.loc[PG_heavy_df['Rk'] <=8]\n",
    "\n",
    "#Filtering out data \n",
    "PG_50 = PG_heavy_df.loc[PG_heavy_df['Rk'] >8]\n",
    "\n",
    "PG_50_df = PG_50 .loc[PG_50 ['Rk'] <16]\n",
    "\n",
    "PG_75_df = PG_50 .loc[PG_50 ['Rk'] >16]\n",
    "# ------------------------------------------------------------------------------------------------------------------- \n",
    "\n",
    "# All STATS that are going to be used \n",
    "\n",
    "\n",
    "# PPG,APG,FT heaviest \n",
    "SG_STATS_df = last_5_yrs_1_rnd_draft_df[['FG%','FT%','3P%','Pos','APG', 'PPG','Player','Rk','Contract Worth','RPG']]\n",
    "\n",
    "\n",
    "# PPG,RPG%,ASP%,\n",
    "SF_STATS_df = last_5_yrs_1_rnd_draft_df[['FG%','FT%','3P%','Pos','APG', 'PPG','Player','Rk','Contract Worth','RPG']]\n",
    "\n",
    "\n",
    "# PPG,RPG%,ASP%,\n",
    "PF_STATS_df = last_5_yrs_1_rnd_draft_df[['FG%','FT%','3P%','Pos','APG', 'PPG','Player','Rk','Contract Worth','RPG']]\n",
    "\n",
    "\n",
    "#PPG,RPG%,ASP%,\n",
    "C_STATS_df = last_5_yrs_1_rnd_draft_df[['FG%','FT%','3P%','Pos','APG', 'PPG','Player','Rk','Contract Worth','RPG']]\n",
    "\n",
    "# ------------------------------------------------------------------------------------------------------------------- \n",
    "\n",
    "# Visualize\n",
    "\n",
    "_PG_ = PG_25_df[['Rk','Player','Contract Worth']],PG_50_df[['Rk','Player','Contract Worth']],PG_75_df[['Rk','Player','Contract Worth']].copy()\n",
    "\n",
    "display(PG_25_df)\n"
   ]
  },
  {
   "cell_type": "code",
   "execution_count": 81,
   "id": "39b97756-7923-40ad-81f3-ae298722b719",
   "metadata": {},
   "outputs": [
    {
     "data": {
      "text/plain": [
       "26422143.0"
      ]
     },
     "metadata": {},
     "output_type": "display_data"
    },
    {
     "data": {
      "text/plain": [
       "44271137.0"
      ]
     },
     "metadata": {},
     "output_type": "display_data"
    },
    {
     "data": {
      "text/plain": [
       "35429851.666666664"
      ]
     },
     "metadata": {},
     "output_type": "display_data"
    }
   ],
   "source": [
    "# create dataframes for Shooting Guards and visualize data\n",
    "\n",
    "SG_STATS_df = last_5_yrs_1_rnd_draft_df[['FG%','FT%','3P%','Pos','APG', 'PPG','Player','Rk','Contract Worth','RPG']]\n",
    "\n",
    "searchfor = ['SG']\n",
    "\n",
    "SG_heavy_df = SG_STATS_df.loc[SG_STATS_df['Pos'].str.contains('|'.join(searchfor))]\n",
    "\n",
    "\n",
    "# ------------------------------------------------------------------------------------------------------------------- \n",
    "# Filtering out data \n",
    "\n",
    "SG_25_df = SG_heavy_df.loc[SG_heavy_df['Rk'] <=8]\n",
    "\n",
    "SG_50 = SG_heavy_df.loc[SG_heavy_df['Rk'] >8]\n",
    "\n",
    "SG_50_df = SG_50 .loc[SG_50 ['Rk'] <16]\n",
    "\n",
    "SG_75_df = SG_50 .loc[SG_50 ['Rk'] >16]\n",
    "# ------------------------------------------------------------------------------------------------------------------- \n",
    "\n",
    "\n",
    "_SG_= SG_25_df[['Rk','Player']],SG_50_df[['Rk','Player']],SG_75_df[['Rk','Player']].copy()\n",
    " \n",
    "# find contract values for top 25%\n",
    "RANGE_SG_25 = SG_25_df[['Player','Contract Worth']]\n",
    "\n",
    "# ------------------------------------------------------------------------------------------------------------------- \n",
    "\n",
    "# find the contract value range\n",
    "\n",
    "RANGE_SG25_SS = RANGE_SG_25.describe()\n",
    "\n",
    "SG_Range_min = RANGE_SG25_SS['Contract Worth'][3]\n",
    "\n",
    "SG_Range_max = RANGE_SG25_SS['Contract Worth'][7]\n",
    "\n",
    "SG_Range_avg = RANGE_SG25_SS['Contract Worth'][1]\n",
    "\n",
    "display(SG_Range_min)\n",
    "\n",
    "display(SG_Range_max)\n",
    "\n",
    "display(SG_Range_avg)\n"
   ]
  },
  {
   "cell_type": "code",
   "execution_count": 82,
   "id": "bb289f8a-ff0f-4cd4-9007-9b6e62ba5df8",
   "metadata": {},
   "outputs": [
    {
     "data": {
      "text/plain": [
       "(           Rk            Player\n",
       " DraftYear                      \n",
       " 2019        4   De'Andre Hunter\n",
       " 2020        4  Patrick Williams\n",
       " 2020        5       Isaac Okoro\n",
       " 2021        4    Scottie Barnes\n",
       " 2021        8      Franz Wagner,\n",
       "            Rk           Player\n",
       " DraftYear                     \n",
       " 2019       10      Cam Reddish\n",
       " 2019       11  Cameron Johnson\n",
       " 2020       14    Aaron Nesmith\n",
       " 2021       10  Ziaire Williams\n",
       " 2021       15    Corey Kispert,\n",
       "            Rk            Player\n",
       " DraftYear                      \n",
       " 2019       20  Matisse Thybulle\n",
       " 2019       25     Nassir Little\n",
       " 2019       26     Dylan Windler\n",
       " 2019       29    Keldon Johnson\n",
       " 2020       19        Saddiq Bey\n",
       " 2020       28   Jaden McDaniels\n",
       " 2021       17   Trey Murphy III\n",
       " 2021       20     Jalen Johnson)"
      ]
     },
     "metadata": {},
     "output_type": "display_data"
    },
    {
     "data": {
      "text/plain": [
       "22781932.0"
      ]
     },
     "metadata": {},
     "output_type": "display_data"
    },
    {
     "data": {
      "text/plain": [
       "33064628.0"
      ]
     },
     "metadata": {},
     "output_type": "display_data"
    },
    {
     "data": {
      "text/plain": [
       "29826631.4"
      ]
     },
     "metadata": {},
     "output_type": "display_data"
    }
   ],
   "source": [
    "# create dataframes for Small Forwards and visualize data\n",
    "\n",
    "searchfor = ['SF']\n",
    "\n",
    "SF_STATS_df = last_5_yrs_1_rnd_draft_df[['FG%','FT%','3P%','Pos','APG', 'PPG','Player','Rk','Contract Worth','RPG']]\n",
    "\n",
    "SF_heavy_df = SF_STATS_df.loc[SF_STATS_df['Pos'].str.contains('|'.join(searchfor))]\n",
    "\n",
    "\n",
    "# ---------------------------------------------------------------------------------------------\n",
    "\n",
    "# create dataframes for each of the three categories of player (abv avg, avg, blw avg)\n",
    "\n",
    "SF_25_df = SF_heavy_df.loc[SF_heavy_df['Rk'] <=8]\n",
    "\n",
    "SF_50 = SF_heavy_df.loc[SF_heavy_df['Rk'] >8]\n",
    "\n",
    "SF_50_df = SF_50 .loc[SF_50 ['Rk'] <16]\n",
    "\n",
    "SF_75_df = SF_50 .loc[SF_50 ['Rk'] >16]\n",
    "\n",
    "# ---------------------------------------------------------------------------------------------\n",
    "\n",
    "# Visualize the Small forwards in the three categories of player (abv avg, avg, blw avg)\n",
    "\n",
    "_SF_= SF_25_df[['Rk','Player']],SF_50_df[['Rk','Player']],SF_75_df[['Rk','Player']].copy()\n",
    " \n",
    "\n",
    "display(_SF_[0:3])\n",
    "\n",
    "\n",
    "# ------------------------------------------------------------------------------------------------------------------- \n",
    "\n",
    "# find the contract range for small forwards\n",
    "\n",
    "RANGE_SF_25 = SF_25_df[['Player','Contract Worth']]\n",
    "\n",
    "RANGE_SF25_SS = RANGE_SF_25.describe()\n",
    "\n",
    "\n",
    "SF_Range_min = RANGE_SF25_SS['Contract Worth'][3]\n",
    "\n",
    "SF_Range_max = RANGE_SF25_SS['Contract Worth'][7]\n",
    "\n",
    "SF_Range_avg = RANGE_SF25_SS['Contract Worth'][1]\n",
    "\n",
    "# review the range\n",
    "display(SF_Range_min)\n",
    "\n",
    "display(SF_Range_max)\n",
    "\n",
    "display(SF_Range_avg)\n"
   ]
  },
  {
   "cell_type": "code",
   "execution_count": 83,
   "id": "9b3a645f-c03a-4e7c-85ed-79f667a985de",
   "metadata": {},
   "outputs": [
    {
     "data": {
      "text/plain": [
       "22118492.0"
      ]
     },
     "metadata": {},
     "output_type": "display_data"
    },
    {
     "data": {
      "text/plain": [
       "44271137.0"
      ]
     },
     "metadata": {},
     "output_type": "display_data"
    },
    {
     "data": {
      "text/plain": [
       "30937257.333333332"
      ]
     },
     "metadata": {},
     "output_type": "display_data"
    }
   ],
   "source": [
    "# create dataframes and visuals for power forwards\n",
    "\n",
    "searchfor = ['PF']\n",
    "\n",
    "PF_STATS_df = last_5_yrs_1_rnd_draft_df[['FG%','FT%','3P%','Pos','APG', 'PPG','Player','Rk','Contract Worth','RPG']]\n",
    "\n",
    "PF_heavy_df = PF_STATS_df.loc[PF_STATS_df['Pos'].str.contains('|'.join(searchfor))]\n",
    "\n",
    "# ---------------------------------------------------------------------------------------------\n",
    "\n",
    "# create dataframes for the above average (top 25%), average, and below average\n",
    "\n",
    "PF_25_df = PF_heavy_df.loc[PF_heavy_df['Rk'] <=8]\n",
    "\n",
    "PF_50 = PF_heavy_df.loc[PF_heavy_df['Rk'] >8]\n",
    "\n",
    "PF_50_df = PF_50 .loc[PF_50 ['Rk'] <16]\n",
    "\n",
    "PF_75_df = PF_50 .loc[PF_50 ['Rk'] >16]\n",
    "\n",
    "# ---------------------------------------------------------------------------------------------\n",
    "\n",
    "# Visual \n",
    "\n",
    "_PF_= PF_25_df[['Rk','Player']],PF_50_df[['Rk','Player']],PF_75_df[['Rk','Player']].copy()\n",
    " \n",
    "\n",
    "_PF_[0:3]\n",
    "\n",
    "\n",
    "# ------------------------------------------------------------------------------------------------------------------- \n",
    "\n",
    "# finding contract value range for the top 25% of power forwards historically\n",
    "\n",
    "RANGE_PF_25 = PF_25_df[['Player','Contract Worth']]\n",
    "\n",
    "RANGE_PF25_SS = RANGE_PF_25.describe()\n",
    "\n",
    "\n",
    "PF_Range_min = RANGE_PF25_SS['Contract Worth'][3]\n",
    "\n",
    "PF_Range_max = RANGE_PF25_SS['Contract Worth'][7]\n",
    "\n",
    "PF_Range_avg = RANGE_PF25_SS['Contract Worth'][1]\n",
    "\n",
    "# review power forward contract range\n",
    "\n",
    "display(PF_Range_min)\n",
    "\n",
    "display(PF_Range_max)\n",
    "\n",
    "display(PF_Range_avg)\n"
   ]
  },
  {
   "cell_type": "code",
   "execution_count": 84,
   "id": "ae0178cc-b586-497b-a902-2ce9aa07480a",
   "metadata": {},
   "outputs": [
    {
     "data": {
      "text/plain": [
       "22011467.0"
      ]
     },
     "metadata": {},
     "output_type": "display_data"
    },
    {
     "data": {
      "text/plain": [
       "40379230.0"
      ]
     },
     "metadata": {},
     "output_type": "display_data"
    },
    {
     "data": {
      "text/html": [
       "<div>\n",
       "<style scoped>\n",
       "    .dataframe tbody tr th:only-of-type {\n",
       "        vertical-align: middle;\n",
       "    }\n",
       "\n",
       "    .dataframe tbody tr th {\n",
       "        vertical-align: top;\n",
       "    }\n",
       "\n",
       "    .dataframe thead th {\n",
       "        text-align: right;\n",
       "    }\n",
       "</style>\n",
       "<table border=\"1\" class=\"dataframe\">\n",
       "  <thead>\n",
       "    <tr style=\"text-align: right;\">\n",
       "      <th></th>\n",
       "      <th>FG%</th>\n",
       "      <th>FT%</th>\n",
       "      <th>3P%</th>\n",
       "      <th>Pos</th>\n",
       "      <th>APG</th>\n",
       "      <th>PPG</th>\n",
       "      <th>Player</th>\n",
       "      <th>Rk</th>\n",
       "      <th>Contract Worth</th>\n",
       "      <th>RPG</th>\n",
       "    </tr>\n",
       "    <tr>\n",
       "      <th>DraftYear</th>\n",
       "      <th></th>\n",
       "      <th></th>\n",
       "      <th></th>\n",
       "      <th></th>\n",
       "      <th></th>\n",
       "      <th></th>\n",
       "      <th></th>\n",
       "      <th></th>\n",
       "      <th></th>\n",
       "      <th></th>\n",
       "    </tr>\n",
       "  </thead>\n",
       "  <tbody>\n",
       "    <tr>\n",
       "      <th>2018</th>\n",
       "      <td>0.595</td>\n",
       "      <td>0.751</td>\n",
       "      <td>0.196</td>\n",
       "      <td>C</td>\n",
       "      <td>1.6</td>\n",
       "      <td>16.1</td>\n",
       "      <td>Deandre Ayton</td>\n",
       "      <td>1</td>\n",
       "      <td>40379230.0</td>\n",
       "      <td>10.6</td>\n",
       "    </tr>\n",
       "    <tr>\n",
       "      <th>2018</th>\n",
       "      <td>0.493</td>\n",
       "      <td>0.665</td>\n",
       "      <td>0.298</td>\n",
       "      <td>F/C</td>\n",
       "      <td>0.9</td>\n",
       "      <td>13.4</td>\n",
       "      <td>Marvin Bagley III</td>\n",
       "      <td>2</td>\n",
       "      <td>36137474.0</td>\n",
       "      <td>7.4</td>\n",
       "    </tr>\n",
       "    <tr>\n",
       "      <th>2018</th>\n",
       "      <td>0.457</td>\n",
       "      <td>0.779</td>\n",
       "      <td>0.353</td>\n",
       "      <td>F/C</td>\n",
       "      <td>1.2</td>\n",
       "      <td>15.8</td>\n",
       "      <td>Jaren Jackson Jr.</td>\n",
       "      <td>4</td>\n",
       "      <td>29280440.0</td>\n",
       "      <td>5.1</td>\n",
       "    </tr>\n",
       "    <tr>\n",
       "      <th>2018</th>\n",
       "      <td>0.470</td>\n",
       "      <td>0.680</td>\n",
       "      <td>0.333</td>\n",
       "      <td>C</td>\n",
       "      <td>0.9</td>\n",
       "      <td>7.3</td>\n",
       "      <td>Mo Bamba</td>\n",
       "      <td>6</td>\n",
       "      <td>24100422.0</td>\n",
       "      <td>5.8</td>\n",
       "    </tr>\n",
       "    <tr>\n",
       "      <th>2018</th>\n",
       "      <td>0.507</td>\n",
       "      <td>0.738</td>\n",
       "      <td>0.291</td>\n",
       "      <td>C</td>\n",
       "      <td>1.9</td>\n",
       "      <td>11.8</td>\n",
       "      <td>Wendell Carter Jr.</td>\n",
       "      <td>7</td>\n",
       "      <td>22011467.0</td>\n",
       "      <td>8.7</td>\n",
       "    </tr>\n",
       "    <tr>\n",
       "      <th>2019</th>\n",
       "      <td>0.647</td>\n",
       "      <td>0.716</td>\n",
       "      <td>0.318</td>\n",
       "      <td>C</td>\n",
       "      <td>0.7</td>\n",
       "      <td>7.8</td>\n",
       "      <td>Jaxson Hayes</td>\n",
       "      <td>8</td>\n",
       "      <td>22118492.0</td>\n",
       "      <td>4.1</td>\n",
       "    </tr>\n",
       "    <tr>\n",
       "      <th>2020</th>\n",
       "      <td>0.519</td>\n",
       "      <td>0.628</td>\n",
       "      <td>0.316</td>\n",
       "      <td>C</td>\n",
       "      <td>0.7</td>\n",
       "      <td>11.5</td>\n",
       "      <td>James Wiseman</td>\n",
       "      <td>2</td>\n",
       "      <td>39619840.0</td>\n",
       "      <td>5.8</td>\n",
       "    </tr>\n",
       "    <tr>\n",
       "      <th>2021</th>\n",
       "      <td>0.503</td>\n",
       "      <td>0.672</td>\n",
       "      <td>0.265</td>\n",
       "      <td>F/C</td>\n",
       "      <td>2.6</td>\n",
       "      <td>14.9</td>\n",
       "      <td>Evan Mobley</td>\n",
       "      <td>3</td>\n",
       "      <td>36664449.0</td>\n",
       "      <td>8.1</td>\n",
       "    </tr>\n",
       "  </tbody>\n",
       "</table>\n",
       "</div>"
      ],
      "text/plain": [
       "             FG%    FT%    3P%  Pos  APG   PPG              Player  Rk  \\\n",
       "DraftYear                                                                \n",
       "2018       0.595  0.751  0.196    C  1.6  16.1       Deandre Ayton   1   \n",
       "2018       0.493  0.665  0.298  F/C  0.9  13.4   Marvin Bagley III   2   \n",
       "2018       0.457  0.779  0.353  F/C  1.2  15.8   Jaren Jackson Jr.   4   \n",
       "2018       0.470  0.680  0.333    C  0.9   7.3            Mo Bamba   6   \n",
       "2018       0.507  0.738  0.291    C  1.9  11.8  Wendell Carter Jr.   7   \n",
       "2019       0.647  0.716  0.318    C  0.7   7.8        Jaxson Hayes   8   \n",
       "2020       0.519  0.628  0.316    C  0.7  11.5       James Wiseman   2   \n",
       "2021       0.503  0.672  0.265  F/C  2.6  14.9         Evan Mobley   3   \n",
       "\n",
       "           Contract Worth   RPG  \n",
       "DraftYear                        \n",
       "2018           40379230.0  10.6  \n",
       "2018           36137474.0   7.4  \n",
       "2018           29280440.0   5.1  \n",
       "2018           24100422.0   5.8  \n",
       "2018           22011467.0   8.7  \n",
       "2019           22118492.0   4.1  \n",
       "2020           39619840.0   5.8  \n",
       "2021           36664449.0   8.1  "
      ]
     },
     "metadata": {},
     "output_type": "display_data"
    },
    {
     "data": {
      "text/html": [
       "<div>\n",
       "<style scoped>\n",
       "    .dataframe tbody tr th:only-of-type {\n",
       "        vertical-align: middle;\n",
       "    }\n",
       "\n",
       "    .dataframe tbody tr th {\n",
       "        vertical-align: top;\n",
       "    }\n",
       "\n",
       "    .dataframe thead th {\n",
       "        text-align: right;\n",
       "    }\n",
       "</style>\n",
       "<table border=\"1\" class=\"dataframe\">\n",
       "  <thead>\n",
       "    <tr style=\"text-align: right;\">\n",
       "      <th></th>\n",
       "      <th>FG%</th>\n",
       "      <th>FT%</th>\n",
       "      <th>3P%</th>\n",
       "      <th>Pos</th>\n",
       "      <th>APG</th>\n",
       "      <th>PPG</th>\n",
       "      <th>Player</th>\n",
       "      <th>Rk</th>\n",
       "      <th>Contract Worth</th>\n",
       "      <th>RPG</th>\n",
       "    </tr>\n",
       "    <tr>\n",
       "      <th>DraftYear</th>\n",
       "      <th></th>\n",
       "      <th></th>\n",
       "      <th></th>\n",
       "      <th></th>\n",
       "      <th></th>\n",
       "      <th></th>\n",
       "      <th></th>\n",
       "      <th></th>\n",
       "      <th></th>\n",
       "      <th></th>\n",
       "    </tr>\n",
       "  </thead>\n",
       "  <tbody>\n",
       "    <tr>\n",
       "      <th>2017</th>\n",
       "      <td>0.444</td>\n",
       "      <td>0.717</td>\n",
       "      <td>0.327</td>\n",
       "      <td>F/C</td>\n",
       "      <td>0.9</td>\n",
       "      <td>5.7</td>\n",
       "      <td>Zach Collins</td>\n",
       "      <td>10</td>\n",
       "      <td>14724873.0</td>\n",
       "      <td>4.0</td>\n",
       "    </tr>\n",
       "    <tr>\n",
       "      <th>2017</th>\n",
       "      <td>0.553</td>\n",
       "      <td>0.740</td>\n",
       "      <td>0.146</td>\n",
       "      <td>C</td>\n",
       "      <td>3.5</td>\n",
       "      <td>13.0</td>\n",
       "      <td>Bam Adebayo</td>\n",
       "      <td>14</td>\n",
       "      <td>12587510.0</td>\n",
       "      <td>8.2</td>\n",
       "    </tr>\n",
       "    <tr>\n",
       "      <th>2017</th>\n",
       "      <td>0.404</td>\n",
       "      <td>0.667</td>\n",
       "      <td>0.250</td>\n",
       "      <td>C</td>\n",
       "      <td>0.9</td>\n",
       "      <td>3.9</td>\n",
       "      <td>Justin Patton</td>\n",
       "      <td>16</td>\n",
       "      <td>11497652.0</td>\n",
       "      <td>2.7</td>\n",
       "    </tr>\n",
       "    <tr>\n",
       "      <th>2017</th>\n",
       "      <td>0.417</td>\n",
       "      <td>0.618</td>\n",
       "      <td>0.327</td>\n",
       "      <td>F/C</td>\n",
       "      <td>0.7</td>\n",
       "      <td>4.4</td>\n",
       "      <td>D.J. Wilson</td>\n",
       "      <td>17</td>\n",
       "      <td>10927154.0</td>\n",
       "      <td>3.1</td>\n",
       "    </tr>\n",
       "    <tr>\n",
       "      <th>2017</th>\n",
       "      <td>0.492</td>\n",
       "      <td>0.585</td>\n",
       "      <td>0.341</td>\n",
       "      <td>F/C</td>\n",
       "      <td>0.3</td>\n",
       "      <td>3.3</td>\n",
       "      <td>T.J. Leaf</td>\n",
       "      <td>18</td>\n",
       "      <td>10386007.0</td>\n",
       "      <td>1.9</td>\n",
       "    </tr>\n",
       "    <tr>\n",
       "      <th>2017</th>\n",
       "      <td>0.511</td>\n",
       "      <td>0.671</td>\n",
       "      <td>0.258</td>\n",
       "      <td>F/C</td>\n",
       "      <td>1.2</td>\n",
       "      <td>5.9</td>\n",
       "      <td>Harry Giles</td>\n",
       "      <td>20</td>\n",
       "      <td>9529198.0</td>\n",
       "      <td>3.8</td>\n",
       "    </tr>\n",
       "    <tr>\n",
       "      <th>2017</th>\n",
       "      <td>0.623</td>\n",
       "      <td>0.698</td>\n",
       "      <td>0.189</td>\n",
       "      <td>C</td>\n",
       "      <td>1.4</td>\n",
       "      <td>11.5</td>\n",
       "      <td>Jarrett Allen</td>\n",
       "      <td>22</td>\n",
       "      <td>8986792.0</td>\n",
       "      <td>8.7</td>\n",
       "    </tr>\n",
       "    <tr>\n",
       "      <th>2017</th>\n",
       "      <td>0.635</td>\n",
       "      <td>0.675</td>\n",
       "      <td>0.429</td>\n",
       "      <td>C</td>\n",
       "      <td>0.5</td>\n",
       "      <td>4.8</td>\n",
       "      <td>Tony Bradley</td>\n",
       "      <td>28</td>\n",
       "      <td>7681457.0</td>\n",
       "      <td>4.5</td>\n",
       "    </tr>\n",
       "    <tr>\n",
       "      <th>2018</th>\n",
       "      <td>0.595</td>\n",
       "      <td>0.751</td>\n",
       "      <td>0.196</td>\n",
       "      <td>C</td>\n",
       "      <td>1.6</td>\n",
       "      <td>16.1</td>\n",
       "      <td>Deandre Ayton</td>\n",
       "      <td>1</td>\n",
       "      <td>40379230.0</td>\n",
       "      <td>10.6</td>\n",
       "    </tr>\n",
       "    <tr>\n",
       "      <th>2018</th>\n",
       "      <td>0.493</td>\n",
       "      <td>0.665</td>\n",
       "      <td>0.298</td>\n",
       "      <td>F/C</td>\n",
       "      <td>0.9</td>\n",
       "      <td>13.4</td>\n",
       "      <td>Marvin Bagley III</td>\n",
       "      <td>2</td>\n",
       "      <td>36137474.0</td>\n",
       "      <td>7.4</td>\n",
       "    </tr>\n",
       "    <tr>\n",
       "      <th>2018</th>\n",
       "      <td>0.457</td>\n",
       "      <td>0.779</td>\n",
       "      <td>0.353</td>\n",
       "      <td>F/C</td>\n",
       "      <td>1.2</td>\n",
       "      <td>15.8</td>\n",
       "      <td>Jaren Jackson Jr.</td>\n",
       "      <td>4</td>\n",
       "      <td>29280440.0</td>\n",
       "      <td>5.1</td>\n",
       "    </tr>\n",
       "    <tr>\n",
       "      <th>2018</th>\n",
       "      <td>0.470</td>\n",
       "      <td>0.680</td>\n",
       "      <td>0.333</td>\n",
       "      <td>C</td>\n",
       "      <td>0.9</td>\n",
       "      <td>7.3</td>\n",
       "      <td>Mo Bamba</td>\n",
       "      <td>6</td>\n",
       "      <td>24100422.0</td>\n",
       "      <td>5.8</td>\n",
       "    </tr>\n",
       "    <tr>\n",
       "      <th>2018</th>\n",
       "      <td>0.507</td>\n",
       "      <td>0.738</td>\n",
       "      <td>0.291</td>\n",
       "      <td>C</td>\n",
       "      <td>1.9</td>\n",
       "      <td>11.8</td>\n",
       "      <td>Wendell Carter Jr.</td>\n",
       "      <td>7</td>\n",
       "      <td>22011467.0</td>\n",
       "      <td>8.7</td>\n",
       "    </tr>\n",
       "    <tr>\n",
       "      <th>2018</th>\n",
       "      <td>0.486</td>\n",
       "      <td>0.812</td>\n",
       "      <td>0.320</td>\n",
       "      <td>C</td>\n",
       "      <td>1.0</td>\n",
       "      <td>7.0</td>\n",
       "      <td>Moritz Wagner</td>\n",
       "      <td>25</td>\n",
       "      <td>9881138.0</td>\n",
       "      <td>3.1</td>\n",
       "    </tr>\n",
       "    <tr>\n",
       "      <th>2018</th>\n",
       "      <td>0.725</td>\n",
       "      <td>0.650</td>\n",
       "      <td>0.000</td>\n",
       "      <td>C</td>\n",
       "      <td>1.4</td>\n",
       "      <td>7.0</td>\n",
       "      <td>Robert Williams</td>\n",
       "      <td>27</td>\n",
       "      <td>9283856.0</td>\n",
       "      <td>6.4</td>\n",
       "    </tr>\n",
       "    <tr>\n",
       "      <th>2019</th>\n",
       "      <td>0.647</td>\n",
       "      <td>0.716</td>\n",
       "      <td>0.318</td>\n",
       "      <td>C</td>\n",
       "      <td>0.7</td>\n",
       "      <td>7.8</td>\n",
       "      <td>Jaxson Hayes</td>\n",
       "      <td>8</td>\n",
       "      <td>22118492.0</td>\n",
       "      <td>4.1</td>\n",
       "    </tr>\n",
       "    <tr>\n",
       "      <th>2019</th>\n",
       "      <td>0.388</td>\n",
       "      <td>0.840</td>\n",
       "      <td>0.314</td>\n",
       "      <td>C</td>\n",
       "      <td>0.4</td>\n",
       "      <td>2.7</td>\n",
       "      <td>Mfiondu Kabengele</td>\n",
       "      <td>27</td>\n",
       "      <td>10151244.0</td>\n",
       "      <td>1.4</td>\n",
       "    </tr>\n",
       "    <tr>\n",
       "      <th>2020</th>\n",
       "      <td>0.519</td>\n",
       "      <td>0.628</td>\n",
       "      <td>0.316</td>\n",
       "      <td>C</td>\n",
       "      <td>0.7</td>\n",
       "      <td>11.5</td>\n",
       "      <td>James Wiseman</td>\n",
       "      <td>2</td>\n",
       "      <td>39619840.0</td>\n",
       "      <td>5.8</td>\n",
       "    </tr>\n",
       "    <tr>\n",
       "      <th>2020</th>\n",
       "      <td>0.475</td>\n",
       "      <td>0.754</td>\n",
       "      <td>0.275</td>\n",
       "      <td>F/C</td>\n",
       "      <td>0.2</td>\n",
       "      <td>4.6</td>\n",
       "      <td>Jalen Smith</td>\n",
       "      <td>10</td>\n",
       "      <td>19328334.0</td>\n",
       "      <td>3.4</td>\n",
       "    </tr>\n",
       "    <tr>\n",
       "      <th>2020</th>\n",
       "      <td>0.539</td>\n",
       "      <td>0.683</td>\n",
       "      <td>0.276</td>\n",
       "      <td>F/C</td>\n",
       "      <td>1.0</td>\n",
       "      <td>8.1</td>\n",
       "      <td>Isaiah Stewart</td>\n",
       "      <td>16</td>\n",
       "      <td>15098193.0</td>\n",
       "      <td>7.4</td>\n",
       "    </tr>\n",
       "    <tr>\n",
       "      <th>2020</th>\n",
       "      <td>0.518</td>\n",
       "      <td>0.649</td>\n",
       "      <td>0.452</td>\n",
       "      <td>F/C</td>\n",
       "      <td>0.3</td>\n",
       "      <td>5.0</td>\n",
       "      <td>Zeke Nnaji</td>\n",
       "      <td>22</td>\n",
       "      <td>11802681.0</td>\n",
       "      <td>2.6</td>\n",
       "    </tr>\n",
       "    <tr>\n",
       "      <th>2021</th>\n",
       "      <td>0.503</td>\n",
       "      <td>0.672</td>\n",
       "      <td>0.265</td>\n",
       "      <td>F/C</td>\n",
       "      <td>2.6</td>\n",
       "      <td>14.9</td>\n",
       "      <td>Evan Mobley</td>\n",
       "      <td>3</td>\n",
       "      <td>36664449.0</td>\n",
       "      <td>8.1</td>\n",
       "    </tr>\n",
       "    <tr>\n",
       "      <th>2021</th>\n",
       "      <td>0.636</td>\n",
       "      <td>0.250</td>\n",
       "      <td>0.500</td>\n",
       "      <td>C</td>\n",
       "      <td>0.2</td>\n",
       "      <td>0.9</td>\n",
       "      <td>Kai Jones</td>\n",
       "      <td>19</td>\n",
       "      <td>13421030.0</td>\n",
       "      <td>0.5</td>\n",
       "    </tr>\n",
       "    <tr>\n",
       "      <th>2021</th>\n",
       "      <td>0.542</td>\n",
       "      <td>0.667</td>\n",
       "      <td>0.429</td>\n",
       "      <td>F/C</td>\n",
       "      <td>0.4</td>\n",
       "      <td>5.8</td>\n",
       "      <td>Isaiah Jackson</td>\n",
       "      <td>22</td>\n",
       "      <td>12156541.0</td>\n",
       "      <td>2.8</td>\n",
       "    </tr>\n",
       "    <tr>\n",
       "      <th>2021</th>\n",
       "      <td>0.571</td>\n",
       "      <td>0.568</td>\n",
       "      <td>0.250</td>\n",
       "      <td>C</td>\n",
       "      <td>0.5</td>\n",
       "      <td>6.1</td>\n",
       "      <td>Day'Ron Sharpe</td>\n",
       "      <td>29</td>\n",
       "      <td>10317899.0</td>\n",
       "      <td>5.1</td>\n",
       "    </tr>\n",
       "    <tr>\n",
       "      <th>2021</th>\n",
       "      <td>0.381</td>\n",
       "      <td>0.600</td>\n",
       "      <td>0.103</td>\n",
       "      <td>F/C</td>\n",
       "      <td>0.5</td>\n",
       "      <td>3.3</td>\n",
       "      <td>Santi Aldama</td>\n",
       "      <td>30</td>\n",
       "      <td>10243491.0</td>\n",
       "      <td>2.4</td>\n",
       "    </tr>\n",
       "  </tbody>\n",
       "</table>\n",
       "</div>"
      ],
      "text/plain": [
       "             FG%    FT%    3P%  Pos  APG   PPG              Player  Rk  \\\n",
       "DraftYear                                                                \n",
       "2017       0.444  0.717  0.327  F/C  0.9   5.7        Zach Collins  10   \n",
       "2017       0.553  0.740  0.146    C  3.5  13.0         Bam Adebayo  14   \n",
       "2017       0.404  0.667  0.250    C  0.9   3.9       Justin Patton  16   \n",
       "2017       0.417  0.618  0.327  F/C  0.7   4.4         D.J. Wilson  17   \n",
       "2017       0.492  0.585  0.341  F/C  0.3   3.3           T.J. Leaf  18   \n",
       "2017       0.511  0.671  0.258  F/C  1.2   5.9         Harry Giles  20   \n",
       "2017       0.623  0.698  0.189    C  1.4  11.5       Jarrett Allen  22   \n",
       "2017       0.635  0.675  0.429    C  0.5   4.8        Tony Bradley  28   \n",
       "2018       0.595  0.751  0.196    C  1.6  16.1       Deandre Ayton   1   \n",
       "2018       0.493  0.665  0.298  F/C  0.9  13.4   Marvin Bagley III   2   \n",
       "2018       0.457  0.779  0.353  F/C  1.2  15.8   Jaren Jackson Jr.   4   \n",
       "2018       0.470  0.680  0.333    C  0.9   7.3            Mo Bamba   6   \n",
       "2018       0.507  0.738  0.291    C  1.9  11.8  Wendell Carter Jr.   7   \n",
       "2018       0.486  0.812  0.320    C  1.0   7.0       Moritz Wagner  25   \n",
       "2018       0.725  0.650  0.000    C  1.4   7.0     Robert Williams  27   \n",
       "2019       0.647  0.716  0.318    C  0.7   7.8        Jaxson Hayes   8   \n",
       "2019       0.388  0.840  0.314    C  0.4   2.7   Mfiondu Kabengele  27   \n",
       "2020       0.519  0.628  0.316    C  0.7  11.5       James Wiseman   2   \n",
       "2020       0.475  0.754  0.275  F/C  0.2   4.6         Jalen Smith  10   \n",
       "2020       0.539  0.683  0.276  F/C  1.0   8.1      Isaiah Stewart  16   \n",
       "2020       0.518  0.649  0.452  F/C  0.3   5.0          Zeke Nnaji  22   \n",
       "2021       0.503  0.672  0.265  F/C  2.6  14.9         Evan Mobley   3   \n",
       "2021       0.636  0.250  0.500    C  0.2   0.9           Kai Jones  19   \n",
       "2021       0.542  0.667  0.429  F/C  0.4   5.8      Isaiah Jackson  22   \n",
       "2021       0.571  0.568  0.250    C  0.5   6.1      Day'Ron Sharpe  29   \n",
       "2021       0.381  0.600  0.103  F/C  0.5   3.3        Santi Aldama  30   \n",
       "\n",
       "           Contract Worth   RPG  \n",
       "DraftYear                        \n",
       "2017           14724873.0   4.0  \n",
       "2017           12587510.0   8.2  \n",
       "2017           11497652.0   2.7  \n",
       "2017           10927154.0   3.1  \n",
       "2017           10386007.0   1.9  \n",
       "2017            9529198.0   3.8  \n",
       "2017            8986792.0   8.7  \n",
       "2017            7681457.0   4.5  \n",
       "2018           40379230.0  10.6  \n",
       "2018           36137474.0   7.4  \n",
       "2018           29280440.0   5.1  \n",
       "2018           24100422.0   5.8  \n",
       "2018           22011467.0   8.7  \n",
       "2018            9881138.0   3.1  \n",
       "2018            9283856.0   6.4  \n",
       "2019           22118492.0   4.1  \n",
       "2019           10151244.0   1.4  \n",
       "2020           39619840.0   5.8  \n",
       "2020           19328334.0   3.4  \n",
       "2020           15098193.0   7.4  \n",
       "2020           11802681.0   2.6  \n",
       "2021           36664449.0   8.1  \n",
       "2021           13421030.0   0.5  \n",
       "2021           12156541.0   2.8  \n",
       "2021           10317899.0   5.1  \n",
       "2021           10243491.0   2.4  "
      ]
     },
     "metadata": {},
     "output_type": "display_data"
    },
    {
     "data": {
      "text/html": [
       "<div>\n",
       "<style scoped>\n",
       "    .dataframe tbody tr th:only-of-type {\n",
       "        vertical-align: middle;\n",
       "    }\n",
       "\n",
       "    .dataframe tbody tr th {\n",
       "        vertical-align: top;\n",
       "    }\n",
       "\n",
       "    .dataframe thead th {\n",
       "        text-align: right;\n",
       "    }\n",
       "</style>\n",
       "<table border=\"1\" class=\"dataframe\">\n",
       "  <thead>\n",
       "    <tr style=\"text-align: right;\">\n",
       "      <th></th>\n",
       "      <th>FG%</th>\n",
       "      <th>FT%</th>\n",
       "      <th>3P%</th>\n",
       "      <th>Pos</th>\n",
       "      <th>APG</th>\n",
       "      <th>PPG</th>\n",
       "      <th>Player</th>\n",
       "      <th>Rk</th>\n",
       "      <th>Contract Worth</th>\n",
       "      <th>RPG</th>\n",
       "    </tr>\n",
       "    <tr>\n",
       "      <th>DraftYear</th>\n",
       "      <th></th>\n",
       "      <th></th>\n",
       "      <th></th>\n",
       "      <th></th>\n",
       "      <th></th>\n",
       "      <th></th>\n",
       "      <th></th>\n",
       "      <th></th>\n",
       "      <th></th>\n",
       "      <th></th>\n",
       "    </tr>\n",
       "  </thead>\n",
       "  <tbody>\n",
       "    <tr>\n",
       "      <th>2017</th>\n",
       "      <td>0.447</td>\n",
       "      <td>0.695</td>\n",
       "      <td>0.265</td>\n",
       "      <td>G</td>\n",
       "      <td>4.6</td>\n",
       "      <td>10.9</td>\n",
       "      <td>Markelle Fultz</td>\n",
       "      <td>1</td>\n",
       "      <td>33727701.0</td>\n",
       "      <td>3.3</td>\n",
       "    </tr>\n",
       "    <tr>\n",
       "      <th>2017</th>\n",
       "      <td>0.400</td>\n",
       "      <td>0.578</td>\n",
       "      <td>0.364</td>\n",
       "      <td>G</td>\n",
       "      <td>6.2</td>\n",
       "      <td>11.9</td>\n",
       "      <td>Lonzo Ball</td>\n",
       "      <td>2</td>\n",
       "      <td>30184438.0</td>\n",
       "      <td>5.7</td>\n",
       "    </tr>\n",
       "    <tr>\n",
       "      <th>2017</th>\n",
       "      <td>0.453</td>\n",
       "      <td>0.842</td>\n",
       "      <td>0.380</td>\n",
       "      <td>F</td>\n",
       "      <td>2.9</td>\n",
       "      <td>20.4</td>\n",
       "      <td>Jayson Tatum</td>\n",
       "      <td>3</td>\n",
       "      <td>27118800.0</td>\n",
       "      <td>6.6</td>\n",
       "    </tr>\n",
       "    <tr>\n",
       "      <th>2017</th>\n",
       "      <td>0.417</td>\n",
       "      <td>0.679</td>\n",
       "      <td>0.293</td>\n",
       "      <td>F</td>\n",
       "      <td>1.9</td>\n",
       "      <td>11.5</td>\n",
       "      <td>Josh Jackson</td>\n",
       "      <td>4</td>\n",
       "      <td>24118800.0</td>\n",
       "      <td>4.1</td>\n",
       "    </tr>\n",
       "    <tr>\n",
       "      <th>2017</th>\n",
       "      <td>0.459</td>\n",
       "      <td>0.725</td>\n",
       "      <td>0.317</td>\n",
       "      <td>G</td>\n",
       "      <td>6.2</td>\n",
       "      <td>18.7</td>\n",
       "      <td>De'Aaron Fox</td>\n",
       "      <td>5</td>\n",
       "      <td>22157109.0</td>\n",
       "      <td>3.5</td>\n",
       "    </tr>\n",
       "    <tr>\n",
       "      <th>...</th>\n",
       "      <td>...</td>\n",
       "      <td>...</td>\n",
       "      <td>...</td>\n",
       "      <td>...</td>\n",
       "      <td>...</td>\n",
       "      <td>...</td>\n",
       "      <td>...</td>\n",
       "      <td>...</td>\n",
       "      <td>...</td>\n",
       "      <td>...</td>\n",
       "    </tr>\n",
       "    <tr>\n",
       "      <th>2021</th>\n",
       "      <td>0.421</td>\n",
       "      <td>0.647</td>\n",
       "      <td>0.398</td>\n",
       "      <td>SG</td>\n",
       "      <td>1.0</td>\n",
       "      <td>6.5</td>\n",
       "      <td>Quentin Grimes</td>\n",
       "      <td>25</td>\n",
       "      <td>11128162.0</td>\n",
       "      <td>2.0</td>\n",
       "    </tr>\n",
       "    <tr>\n",
       "      <th>2021</th>\n",
       "      <td>0.369</td>\n",
       "      <td>0.881</td>\n",
       "      <td>0.346</td>\n",
       "      <td>PG</td>\n",
       "      <td>2.0</td>\n",
       "      <td>8.8</td>\n",
       "      <td>Bones Hyland</td>\n",
       "      <td>26</td>\n",
       "      <td>10763119.0</td>\n",
       "      <td>2.7</td>\n",
       "    </tr>\n",
       "    <tr>\n",
       "      <th>2021</th>\n",
       "      <td>0.445</td>\n",
       "      <td>0.808</td>\n",
       "      <td>0.273</td>\n",
       "      <td>SG</td>\n",
       "      <td>1.3</td>\n",
       "      <td>9.8</td>\n",
       "      <td>Cam Thomas</td>\n",
       "      <td>27</td>\n",
       "      <td>10455512.0</td>\n",
       "      <td>2.6</td>\n",
       "    </tr>\n",
       "    <tr>\n",
       "      <th>2021</th>\n",
       "      <td>0.571</td>\n",
       "      <td>0.568</td>\n",
       "      <td>0.250</td>\n",
       "      <td>C</td>\n",
       "      <td>0.5</td>\n",
       "      <td>6.1</td>\n",
       "      <td>Day'Ron Sharpe</td>\n",
       "      <td>29</td>\n",
       "      <td>10317899.0</td>\n",
       "      <td>5.1</td>\n",
       "    </tr>\n",
       "    <tr>\n",
       "      <th>2021</th>\n",
       "      <td>0.381</td>\n",
       "      <td>0.600</td>\n",
       "      <td>0.103</td>\n",
       "      <td>F/C</td>\n",
       "      <td>0.5</td>\n",
       "      <td>3.3</td>\n",
       "      <td>Santi Aldama</td>\n",
       "      <td>30</td>\n",
       "      <td>10243491.0</td>\n",
       "      <td>2.4</td>\n",
       "    </tr>\n",
       "  </tbody>\n",
       "</table>\n",
       "<p>127 rows × 10 columns</p>\n",
       "</div>"
      ],
      "text/plain": [
       "             FG%    FT%    3P%  Pos  APG   PPG          Player  Rk  \\\n",
       "DraftYear                                                            \n",
       "2017       0.447  0.695  0.265    G  4.6  10.9  Markelle Fultz   1   \n",
       "2017       0.400  0.578  0.364    G  6.2  11.9      Lonzo Ball   2   \n",
       "2017       0.453  0.842  0.380    F  2.9  20.4    Jayson Tatum   3   \n",
       "2017       0.417  0.679  0.293    F  1.9  11.5    Josh Jackson   4   \n",
       "2017       0.459  0.725  0.317    G  6.2  18.7    De'Aaron Fox   5   \n",
       "...          ...    ...    ...  ...  ...   ...             ...  ..   \n",
       "2021       0.421  0.647  0.398   SG  1.0   6.5  Quentin Grimes  25   \n",
       "2021       0.369  0.881  0.346   PG  2.0   8.8    Bones Hyland  26   \n",
       "2021       0.445  0.808  0.273   SG  1.3   9.8      Cam Thomas  27   \n",
       "2021       0.571  0.568  0.250    C  0.5   6.1  Day'Ron Sharpe  29   \n",
       "2021       0.381  0.600  0.103  F/C  0.5   3.3    Santi Aldama  30   \n",
       "\n",
       "           Contract Worth  RPG  \n",
       "DraftYear                       \n",
       "2017           33727701.0  3.3  \n",
       "2017           30184438.0  5.7  \n",
       "2017           27118800.0  6.6  \n",
       "2017           24118800.0  4.1  \n",
       "2017           22157109.0  3.5  \n",
       "...                   ...  ...  \n",
       "2021           11128162.0  2.0  \n",
       "2021           10763119.0  2.7  \n",
       "2021           10455512.0  2.6  \n",
       "2021           10317899.0  5.1  \n",
       "2021           10243491.0  2.4  \n",
       "\n",
       "[127 rows x 10 columns]"
      ]
     },
     "metadata": {},
     "output_type": "display_data"
    }
   ],
   "source": [
    "# create dataframes and visuals for centers\n",
    "\n",
    "searchfor = ['C']\n",
    "\n",
    "C_STATS_df = last_5_yrs_1_rnd_draft_df[['FG%','FT%','3P%','Pos','APG', 'PPG','Player','Rk','Contract Worth','RPG']]\n",
    "\n",
    "C_heavy_df= C_STATS_df.loc[C_STATS_df['Pos'].str.contains('|'.join(searchfor))]\n",
    "\n",
    "\n",
    "# ---------------------------------------------------------------------------------------------\n",
    "\n",
    "# find top 25%\n",
    "C_25_df = C_heavy_df.loc[C_heavy_df['Rk'] <=8]\n",
    "\n",
    "C_50 = C_heavy_df.loc[C_heavy_df['Rk'] >8]\n",
    "\n",
    "C_50_df = C_50 .loc[C_50 ['Rk'] <16]\n",
    "\n",
    "C_75_df = C_50 .loc[C_50 ['Rk'] >16]\n",
    "\n",
    "# --------------------------------------------------------------------------------------------\n",
    "\n",
    "# top 75% dataframe\n",
    "_C_= C_25_df[['Rk','Player']],C_50_df[['Rk','Player']],C_75_df[['Rk','Player']].copy()\n",
    " \n",
    "\n",
    "_C_[0:3]\n",
    "\n",
    "\n",
    "# ------------------------------------------------------------------------------------------------------------------- \n",
    "\n",
    "# finding contract value range for the top 25% of point guards historically\n",
    "\n",
    "RANGE_C_25 = C_25_df[['Player','Contract Worth']]\n",
    "\n",
    "RANGE_C25_SS = RANGE_C_25.describe()\n",
    "\n",
    "\n",
    "C_Range_min = RANGE_C25_SS['Contract Worth'][3]\n",
    "\n",
    "C_Range_max = RANGE_C25_SS['Contract Worth'][7]\n",
    "\n",
    "C_Range_avg = RANGE_C25_SS['Contract Worth'][1]\n",
    "\n",
    "# review range and dataframes\n",
    "display(C_Range_min)\n",
    "display(C_Range_max)\n",
    "display(C_25_df)\n",
    "display (C_heavy_df)\n",
    "display (C_STATS_df)\n"
   ]
  },
  {
   "cell_type": "code",
   "execution_count": null,
   "id": "d0a07855-5227-47d4-817c-1d535604e5c5",
   "metadata": {},
   "outputs": [],
   "source": []
  },
  {
   "cell_type": "code",
   "execution_count": 85,
   "id": "29a49eaa-4e1d-4e41-a314-437263d8208a",
   "metadata": {},
   "outputs": [
    {
     "data": {
      "text/html": [
       "<div>\n",
       "<style scoped>\n",
       "    .dataframe tbody tr th:only-of-type {\n",
       "        vertical-align: middle;\n",
       "    }\n",
       "\n",
       "    .dataframe tbody tr th {\n",
       "        vertical-align: top;\n",
       "    }\n",
       "\n",
       "    .dataframe thead th {\n",
       "        text-align: right;\n",
       "    }\n",
       "</style>\n",
       "<table border=\"1\" class=\"dataframe\">\n",
       "  <thead>\n",
       "    <tr style=\"text-align: right;\">\n",
       "      <th></th>\n",
       "      <th>DraftYr</th>\n",
       "      <th>Player</th>\n",
       "      <th>Contract Worth</th>\n",
       "      <th>Pos</th>\n",
       "      <th>FT%</th>\n",
       "      <th>FG%</th>\n",
       "      <th>APG</th>\n",
       "      <th>PPG</th>\n",
       "      <th>3P%</th>\n",
       "      <th>RPG</th>\n",
       "      <th>Total</th>\n",
       "      <th>min</th>\n",
       "      <th>max</th>\n",
       "      <th>mean</th>\n",
       "    </tr>\n",
       "  </thead>\n",
       "  <tbody>\n",
       "    <tr>\n",
       "      <th>0</th>\n",
       "      <td>2017</td>\n",
       "      <td>OG Anunoby</td>\n",
       "      <td>8726306.0</td>\n",
       "      <td>SF</td>\n",
       "      <td>3.0</td>\n",
       "      <td>3.0</td>\n",
       "      <td>3.0</td>\n",
       "      <td>3.0</td>\n",
       "      <td>3.0</td>\n",
       "      <td>3.0</td>\n",
       "      <td>18.0</td>\n",
       "      <td>8726306.0</td>\n",
       "      <td>33064628.0</td>\n",
       "      <td>18893687.0</td>\n",
       "    </tr>\n",
       "    <tr>\n",
       "      <th>1</th>\n",
       "      <td>2019</td>\n",
       "      <td>Keldon Johnson</td>\n",
       "      <td>10017385.0</td>\n",
       "      <td>SF</td>\n",
       "      <td>3.0</td>\n",
       "      <td>3.0</td>\n",
       "      <td>3.0</td>\n",
       "      <td>3.0</td>\n",
       "      <td>3.0</td>\n",
       "      <td>3.0</td>\n",
       "      <td>18.0</td>\n",
       "      <td>8726306.0</td>\n",
       "      <td>33064628.0</td>\n",
       "      <td>18893687.0</td>\n",
       "    </tr>\n",
       "    <tr>\n",
       "      <th>2</th>\n",
       "      <td>2021</td>\n",
       "      <td>Corey Kispert</td>\n",
       "      <td>16364527.0</td>\n",
       "      <td>SF</td>\n",
       "      <td>3.0</td>\n",
       "      <td>3.0</td>\n",
       "      <td>3.0</td>\n",
       "      <td>3.0</td>\n",
       "      <td>3.0</td>\n",
       "      <td>3.0</td>\n",
       "      <td>18.0</td>\n",
       "      <td>8726306.0</td>\n",
       "      <td>33064628.0</td>\n",
       "      <td>18893687.0</td>\n",
       "    </tr>\n",
       "    <tr>\n",
       "      <th>3</th>\n",
       "      <td>2021</td>\n",
       "      <td>Scottie Barnes</td>\n",
       "      <td>33064628.0</td>\n",
       "      <td>SF</td>\n",
       "      <td>3.0</td>\n",
       "      <td>3.0</td>\n",
       "      <td>3.0</td>\n",
       "      <td>3.0</td>\n",
       "      <td>3.0</td>\n",
       "      <td>3.0</td>\n",
       "      <td>18.0</td>\n",
       "      <td>8726306.0</td>\n",
       "      <td>33064628.0</td>\n",
       "      <td>18893687.0</td>\n",
       "    </tr>\n",
       "    <tr>\n",
       "      <th>4</th>\n",
       "      <td>2021</td>\n",
       "      <td>Franz Wagner</td>\n",
       "      <td>22781932.0</td>\n",
       "      <td>SF</td>\n",
       "      <td>3.0</td>\n",
       "      <td>3.0</td>\n",
       "      <td>3.0</td>\n",
       "      <td>3.0</td>\n",
       "      <td>3.0</td>\n",
       "      <td>3.0</td>\n",
       "      <td>18.0</td>\n",
       "      <td>8726306.0</td>\n",
       "      <td>33064628.0</td>\n",
       "      <td>18893687.0</td>\n",
       "    </tr>\n",
       "    <tr>\n",
       "      <th>...</th>\n",
       "      <td>...</td>\n",
       "      <td>...</td>\n",
       "      <td>...</td>\n",
       "      <td>...</td>\n",
       "      <td>...</td>\n",
       "      <td>...</td>\n",
       "      <td>...</td>\n",
       "      <td>...</td>\n",
       "      <td>...</td>\n",
       "      <td>...</td>\n",
       "      <td>...</td>\n",
       "      <td>...</td>\n",
       "      <td>...</td>\n",
       "      <td>...</td>\n",
       "    </tr>\n",
       "    <tr>\n",
       "      <th>37</th>\n",
       "      <td>2021</td>\n",
       "      <td>Moses Moody</td>\n",
       "      <td>17023989.0</td>\n",
       "      <td>SG</td>\n",
       "      <td>3.0</td>\n",
       "      <td>3.0</td>\n",
       "      <td>1.0</td>\n",
       "      <td>1.0</td>\n",
       "      <td>3.0</td>\n",
       "      <td>1.0</td>\n",
       "      <td>12.0</td>\n",
       "      <td>9228703.0</td>\n",
       "      <td>26422143.0</td>\n",
       "      <td>14768041.0</td>\n",
       "    </tr>\n",
       "    <tr>\n",
       "      <th>38</th>\n",
       "      <td>2021</td>\n",
       "      <td>Keon Johnson</td>\n",
       "      <td>12888585.0</td>\n",
       "      <td>SG</td>\n",
       "      <td>3.0</td>\n",
       "      <td>1.0</td>\n",
       "      <td>3.0</td>\n",
       "      <td>1.0</td>\n",
       "      <td>3.0</td>\n",
       "      <td>1.0</td>\n",
       "      <td>12.0</td>\n",
       "      <td>9228703.0</td>\n",
       "      <td>26422143.0</td>\n",
       "      <td>14768041.0</td>\n",
       "    </tr>\n",
       "    <tr>\n",
       "      <th>39</th>\n",
       "      <td>2017</td>\n",
       "      <td>Terrance Ferguson</td>\n",
       "      <td>9253718.0</td>\n",
       "      <td>SG</td>\n",
       "      <td>3.0</td>\n",
       "      <td>3.0</td>\n",
       "      <td>1.0</td>\n",
       "      <td>1.0</td>\n",
       "      <td>3.0</td>\n",
       "      <td>1.0</td>\n",
       "      <td>12.0</td>\n",
       "      <td>9228703.0</td>\n",
       "      <td>26422143.0</td>\n",
       "      <td>14768041.0</td>\n",
       "    </tr>\n",
       "    <tr>\n",
       "      <th>40</th>\n",
       "      <td>2018</td>\n",
       "      <td>Jacob Evans</td>\n",
       "      <td>9228703.0</td>\n",
       "      <td>SG</td>\n",
       "      <td>3.0</td>\n",
       "      <td>1.0</td>\n",
       "      <td>3.0</td>\n",
       "      <td>1.0</td>\n",
       "      <td>3.0</td>\n",
       "      <td>1.0</td>\n",
       "      <td>12.0</td>\n",
       "      <td>9228703.0</td>\n",
       "      <td>26422143.0</td>\n",
       "      <td>14768041.0</td>\n",
       "    </tr>\n",
       "    <tr>\n",
       "      <th>41</th>\n",
       "      <td>2021</td>\n",
       "      <td>Jaden Springer</td>\n",
       "      <td>10393940.0</td>\n",
       "      <td>SG</td>\n",
       "      <td>0.0</td>\n",
       "      <td>3.0</td>\n",
       "      <td>0.0</td>\n",
       "      <td>1.0</td>\n",
       "      <td>0.0</td>\n",
       "      <td>1.0</td>\n",
       "      <td>5.0</td>\n",
       "      <td>9228703.0</td>\n",
       "      <td>26422143.0</td>\n",
       "      <td>14768041.0</td>\n",
       "    </tr>\n",
       "  </tbody>\n",
       "</table>\n",
       "<p>164 rows × 14 columns</p>\n",
       "</div>"
      ],
      "text/plain": [
       "    DraftYr             Player  Contract Worth Pos  FT%  FG%  APG  PPG  3P%  \\\n",
       "0      2017         OG Anunoby       8726306.0  SF  3.0  3.0  3.0  3.0  3.0   \n",
       "1      2019     Keldon Johnson      10017385.0  SF  3.0  3.0  3.0  3.0  3.0   \n",
       "2      2021      Corey Kispert      16364527.0  SF  3.0  3.0  3.0  3.0  3.0   \n",
       "3      2021     Scottie Barnes      33064628.0  SF  3.0  3.0  3.0  3.0  3.0   \n",
       "4      2021       Franz Wagner      22781932.0  SF  3.0  3.0  3.0  3.0  3.0   \n",
       "..      ...                ...             ...  ..  ...  ...  ...  ...  ...   \n",
       "37     2021        Moses Moody      17023989.0  SG  3.0  3.0  1.0  1.0  3.0   \n",
       "38     2021       Keon Johnson      12888585.0  SG  3.0  1.0  3.0  1.0  3.0   \n",
       "39     2017  Terrance Ferguson       9253718.0  SG  3.0  3.0  1.0  1.0  3.0   \n",
       "40     2018        Jacob Evans       9228703.0  SG  3.0  1.0  3.0  1.0  3.0   \n",
       "41     2021     Jaden Springer      10393940.0  SG  0.0  3.0  0.0  1.0  0.0   \n",
       "\n",
       "    RPG  Total        min         max        mean  \n",
       "0   3.0   18.0  8726306.0  33064628.0  18893687.0  \n",
       "1   3.0   18.0  8726306.0  33064628.0  18893687.0  \n",
       "2   3.0   18.0  8726306.0  33064628.0  18893687.0  \n",
       "3   3.0   18.0  8726306.0  33064628.0  18893687.0  \n",
       "4   3.0   18.0  8726306.0  33064628.0  18893687.0  \n",
       "..  ...    ...        ...         ...         ...  \n",
       "37  1.0   12.0  9228703.0  26422143.0  14768041.0  \n",
       "38  1.0   12.0  9228703.0  26422143.0  14768041.0  \n",
       "39  1.0   12.0  9228703.0  26422143.0  14768041.0  \n",
       "40  1.0   12.0  9228703.0  26422143.0  14768041.0  \n",
       "41  1.0    5.0  9228703.0  26422143.0  14768041.0  \n",
       "\n",
       "[164 rows x 14 columns]"
      ]
     },
     "execution_count": 85,
     "metadata": {},
     "output_type": "execute_result"
    }
   ],
   "source": [
    "## Create historical position dataframes from csvs\n",
    "\n",
    "# read in past dataframes with contract ranges, concat and write function to append min, max, mean cols to 2022 players dataframe\n",
    "Past_C_full_stats = pd.read_csv(Path('./Past_Position_with_contracts_csvs/Past_C_full_stats.csv'))\n",
    "Past_SF_full_stats=pd.read_csv(Path('./Past_Position_with_contracts_csvs/Past_SF_full_stats.csv'))\n",
    "Past_PF_full_stats=pd.read_csv(Path('./Past_Position_with_contracts_csvs/Past_PF_full_stats.csv'))\n",
    "Past_SG_full_stats=pd.read_csv(Path('./Past_Position_with_contracts_csvs/Past_SG_full_stats.csv'))\n",
    "Past_PG_full_stats=pd.read_csv(Path('./Past_Position_with_contracts_csvs/Past_PG_full_stats.csv'))\n",
    "\n",
    "Past_full_stats_plus_contractrange= pd.concat([Past_C_full_stats, Past_PF_full_stats, Past_PG_full_stats, Past_SF_full_stats, Past_SG_full_stats], axis=0)\n",
    "# p.get().to_csv(\"Past_all_positions_full_stats.csv\")\n",
    "Past_full_stats_plus_contractrange"
   ]
  },
  {
   "cell_type": "code",
   "execution_count": 86,
   "id": "49fe472d-08ef-4d8c-95a7-74e6ae93471f",
   "metadata": {},
   "outputs": [],
   "source": [
    "\n",
    "# create class\n",
    "class R:\n",
    "    def __init__(self, data):\n",
    "        # Add the data to class attributes, make all NaN values 0\n",
    "        self.data = data.fillna(0)\n",
    "        self.new_data = self.create_df()\n",
    "        self.total_list = []\n",
    "        self.PG = self.create_df()\n",
    "        self.SG = self.create_df()\n",
    "        self.SF = self.create_df()\n",
    "        self.PGL = self.create_df()\n",
    "        # self.table = self.table()\n",
    "        # self.total  = self.get_total()\n",
    "        \n",
    "        \n",
    "#-------------------------------------------------------------------------------- \n",
    "        \n",
    "    #create a create df function\n",
    "        \n",
    "    def create_df(self):\n",
    "        # Create an empty dataframe\n",
    "        new_df = pd.DataFrame()\n",
    "\n",
    "        # Make columns and add the Player and Contract Worth information\n",
    "        new_df[\"Player\"] = self.data.loc[:, \"Player\"]\n",
    "        new_df[\"Contract Worth\"] = self.data.loc[:, \"Contract Worth\"]\n",
    "        new_df[\"Pos\"] = self.data.loc[:, \"Pos\"]\n",
    "\n",
    "        # Return the new dataframe\n",
    "        return new_df\n",
    "    \n",
    "\n",
    "#-------------------------------------------------------------------------------- \n",
    "    # define a new function to calculate the points metric we came up with from performance stats of previous draft picks\n",
    "        \n",
    "    def get_points(self, section):\n",
    "\n",
    "        # Get the 25 percentile\n",
    "        q1 = self.data[section].quantile(0.25)\n",
    "\n",
    "        # Get the 75 percentile\n",
    "        q2 = self.data[section].quantile(0.75)\n",
    "\n",
    "        # Compare all players on the column chosen\n",
    "        for row in self.data.loc[:, [\"Player\", section]].iterrows():\n",
    "\n",
    "            # If the stat does not exist\n",
    "            if row[1][section] == 0:\n",
    "                # Replace value with point of 0\n",
    "                self.data.loc[self.data[\"Player\"] == row[1][\"Player\"], section] = 0\n",
    "\n",
    "            # If in the higher percentile\n",
    "            elif row[1][section] > q1:\n",
    "                # Replace value with point of 3\n",
    "                self.data.loc[self.data[\"Player\"] == row[1][\"Player\"], section] = 3\n",
    "\n",
    "            # If in the average percentile\n",
    "            elif q1 <= row[1][section] <= q2:\n",
    "                # Replace value with point of 2\n",
    "                self.data.loc[self.data[\"Player\"] == row[1][\"Player\"], section] = 2\n",
    "\n",
    "            # If in the lower percentile\n",
    "            elif row[1][section] < q2:\n",
    "                # Replace value with point of 2\n",
    "                self.data.loc[self.data[\"Player\"] == row[1][\"Player\"], section] = 1\n",
    "\n",
    "        # Add the section into the new_data\n",
    "        self.new_data[section] = self.data[section]\n",
    "\n",
    "        # Add the section name to the total_list\n",
    "        \n",
    "        self.total_list.append(section)\n",
    "        \n",
    "        return  self.new_data\n",
    "    \n",
    "\n",
    "\n",
    "#-------------------------------------------------------------------------------- \n",
    "    # create a function that identifies which category each player's stats fall into (above avg, avg, and blw avg)\n",
    "    \n",
    "    def AVGSTAT(self,section):\n",
    "        MIN = 'min'\n",
    "        \n",
    "        \n",
    "        # for point guards\n",
    "        \n",
    "        for row in self.data.loc[:, [\"Player\", section,'Pos']].iterrows():\n",
    "            if row[1]['Pos'] == 'PG'or 'SG':\n",
    "                # define q1 variable with the top 25% of PGs\n",
    "                q1 = PG_25_df[section].describe()\n",
    "        \n",
    "                q1R =q1[MIN]\n",
    "                \n",
    "                # define below average \n",
    "                q2 = PG_75_df[section].describe()\n",
    "        \n",
    "                q2R = q2[MIN]\n",
    "            \n",
    "                 \n",
    "                \n",
    "                # If the stat does not exist\n",
    "                if row[1][section] == 0:\n",
    "                    # Replace value with point of 0\n",
    "                    self.data.loc[self.data[\"Player\"] == row[1][\"Player\"], section] = 0\n",
    "                    x = 0\n",
    "                    \n",
    "                # if stat exists and is above the min of the top 25% (they are above avg), then they get 3 points from our calculator\n",
    "                elif row[1][section] > q1R:\n",
    "                    # Replace value with point of 3\n",
    "                    self.data.loc[self.data[\"Player\"] == row[1][\"Player\"], section] = 3\n",
    "                    x = 3\n",
    "\n",
    "                 # If in the average percentile\n",
    "                elif q1R <= row[1][section] <= q2R:\n",
    "                    # Replace value with point of 2\n",
    "                    self.data.loc[self.data[\"Player\"] == row[1][\"Player\"], section] = 2\n",
    "                    x = 2\n",
    "\n",
    "                # If in the lower percentile\n",
    "                elif row[1][section] < q2R:\n",
    "                    # Replace value with point of 2\n",
    "                    self.data.loc[self.data[\"Player\"] == row[1][\"Player\"], section] = 1\n",
    "                    x = 1\n",
    "                    \n",
    "            if row[1]['Pos'] == 'C' or 'F/C':\n",
    "                \n",
    "                q1 = C_25_df[section].describe()\n",
    "        \n",
    "                q1R =q1[MIN]\n",
    "        \n",
    "                q2 = C_75_df[section].describe()\n",
    "        \n",
    "                q2R = q2[MIN]\n",
    "            \n",
    "                 \n",
    "                \n",
    "                \n",
    "                # If the stat does not exist\n",
    "                if row[1][section] == 0:\n",
    "                    # Replace value with point of 0\n",
    "                    self.data.loc[self.data[\"Player\"] == row[1][\"Player\"], section] = 0\n",
    "                    x = 0\n",
    "\n",
    "                elif row[1][section] > q1R:\n",
    "                    # Replace value with point of 3\n",
    "                    self.data.loc[self.data[\"Player\"] == row[1][\"Player\"], section] = 3\n",
    "                    x = 3\n",
    "\n",
    "                 # If in the average percentile\n",
    "                elif q1R <= row[1][section] <= q2R:\n",
    "                    # Replace value with point of 2\n",
    "                    self.data.loc[self.data[\"Player\"] == row[1][\"Player\"], section] = 2\n",
    "                    x = 2\n",
    "\n",
    "                # If in the lower percentile\n",
    "                elif row[1][section] < q2R:\n",
    "                    # Replace value with point of 2\n",
    "                    self.data.loc[self.data[\"Player\"] == row[1][\"Player\"], section] = 1\n",
    "                    x = 1\n",
    "            \n",
    "            if row[1]['Pos'] == 'SF':\n",
    "                q1 = SF_25_df[section].describe()\n",
    "        \n",
    "                q1R =q1[MIN]\n",
    "        \n",
    "                q2 = SF_75_df[section].describe()\n",
    "        \n",
    "                q2R = q2[MIN]\n",
    "            \n",
    "                 \n",
    "                \n",
    "                \n",
    "                # If the stat does not exist\n",
    "                if row[1][section] == 0:\n",
    "                    # Replace value with point of 0\n",
    "                    self.data.loc[self.data[\"Player\"] == row[1][\"Player\"], section] = 0\n",
    "                    x = 0\n",
    "\n",
    "                elif row[1][section] > q1R:\n",
    "                    # Replace value with point of 3\n",
    "                    self.data.loc[self.data[\"Player\"] == row[1][\"Player\"], section] = 3\n",
    "                    x = 3\n",
    "\n",
    "                 # If in the average percentile\n",
    "                elif q1R <= row[1][section] <= q2R:\n",
    "                    # Replace value with point of 2\n",
    "                    self.data.loc[self.data[\"Player\"] == row[1][\"Player\"], section] = 2\n",
    "                    x = 2\n",
    "\n",
    "                # If in the lower percentile\n",
    "                elif row[1][section] < q2R:\n",
    "                    # Replace value with point of 2\n",
    "                    self.data.loc[self.data[\"Player\"] == row[1][\"Player\"], section] = 1\n",
    "                    x = 1\n",
    "            else:\n",
    "                self.data.loc[self.data[\"Player\"] == row[1][\"Player\"], section] \n",
    "                 \n",
    "                \n",
    "                    \n",
    "                \n",
    "                \n",
    "                \n",
    "                    \n",
    "\n",
    "\n",
    "               \n",
    "        self.new_data[section] = self.data[section]\n",
    "\n",
    "        # Add the section name to the total_list\n",
    "        \n",
    "        self.total_list.append(section)\n",
    "        \n",
    "        return   self.new_data\n",
    "    \n",
    "\n",
    "#-------------------------------------------------------------------------------- \n",
    "    \n",
    "    #  create a function that calculates total points given the payers performance stats input\n",
    "    def get_total(self,):\n",
    "        # Add columns together and create Total column\n",
    "        self.new_data[\"Total\"] = self.new_data[self.total_list].sum(axis = 1)\n",
    "        \n",
    "        return self.new_data.sort_values(by=\"Total\",\n",
    "            ascending=False)\n",
    "\n",
    "    \n",
    "#-------------------------------------------------------------------------------- \n",
    "        \n",
    "    # Get the min, mean, max contract values rom historical players data\n",
    "    def get_groups(self):\n",
    "        # Get the total amount of points\n",
    "        self.get_total()\n",
    "        \n",
    "       \n",
    "\n",
    "        # # Get the 25th and 75th percentile of the Total points\n",
    "        # total_q1 = self.new_data[\"Total\"].quantile(0.25)\n",
    "        # total_q2 = self.new_data[\"Total\"].quantile(0.75)\n",
    "\n",
    "        # High dataframe where Players are above average\n",
    "  \n",
    "        \n",
    "# ## calculating PG contract range (unhash when needed))      \n",
    "\n",
    "#         searchfor = ['PG']\n",
    "#         self.PG = self.new_data.loc[self.new_data['Pos'].str.contains('|'.join(searchfor))].sort_values(by=\"Total\",\n",
    "#             ascending=False)\n",
    "#         self.PG = self.PG.loc[self.PG['Total'] >=18].describe().round()\n",
    "#         min_val=self.PG['Contract Worth'][3]\n",
    "#         max_val=self.PG['Contract Worth'][7]\n",
    "#         mean_val=self.PG['Contract Worth'][1]\n",
    "#         self.PG = pd.DataFrame(data= {'min':[min_val], 'max':[max_val], 'mean':[mean_val]}, index=None)\n",
    "    \n",
    "        \n",
    "#         self.PGL = self.new_data.loc[self.new_data['Pos'].str.contains('|'.join(searchfor))].sort_values(by=\"Total\",\n",
    "#             ascending=False)\n",
    "#         self.PGL = self.PGL.loc[self.PGL['Total'] <18].describe().round()\n",
    "#         min_val=self.PGL['Contract Worth'][3]\n",
    "#         max_val=self.PGL['Contract Worth'][7]\n",
    "#         mean_val=self.PGL['Contract Worth'][1]\n",
    "#         self.PGL = pd.DataFrame(data= {'min':[min_val], 'max':[max_val], 'mean':[mean_val]}, index=None)\n",
    "    \n",
    "        \n",
    "\n",
    "#--------------------------------------------------------------------------------        \n",
    "# calculating SG contract range (unhash when needed)         \n",
    "        \n",
    "        searchfor = ['SG']\n",
    "        self.SG = self.new_data.loc[self.new_data['Pos'].str.contains('|'.join(searchfor))].sort_values(by=\"Total\",\n",
    "            ascending=False)\n",
    "        self.SG = self.SG.loc[self.SG['Total'] >=18].describe().round()\n",
    "        min_val=self.SG['Contract Worth'][3]\n",
    "        max_val=self.SG['Contract Worth'][7]\n",
    "        mean_val=self.SG['Contract Worth'][1]\n",
    "        self.SG = pd.DataFrame(data= {'min':[min_val], 'max':[max_val], 'mean':[mean_val]}, index=None)\n",
    "    \n",
    "        \n",
    "        self.SGL = self.new_data.loc[self.new_data['Pos'].str.contains('|'.join(searchfor))].sort_values(by=\"Total\",\n",
    "            ascending=False)\n",
    "        self.SGL = self.SGL.loc[self.SGL['Total'] <18].describe().round()\n",
    "        min_val=self.SGL['Contract Worth'][3]\n",
    "        max_val=self.SGL['Contract Worth'][7]\n",
    "        mean_val=self.SGL['Contract Worth'][1]\n",
    "        self.SGL = pd.DataFrame(data= {'min':[min_val], 'max':[max_val], 'mean':[mean_val]}, index=None)\n",
    "       \n",
    "    \n",
    "#--------------------------------------------------------------------------------     \n",
    "\n",
    "## calculating SF contract range (unhash when needed))   \n",
    "        \n",
    "#         searchfor = ['SF']\n",
    "#         self.SF = self.new_data.loc[self.new_data['Pos'].str.contains('|'.join(searchfor))].sort_values(by=\"Total\",\n",
    "#             ascending=False)\n",
    "#         self.SF = self.SF.loc[self.SF['Total'] >=18].describe().round()\n",
    "#         min_val=self.SF['Contract Worth'][3]\n",
    "#         max_val=self.SF['Contract Worth'][7]\n",
    "#         mean_val=self.SF['Contract Worth'][1]\n",
    "#         self.SF = pd.DataFrame(data= {'min':[min_val], 'max':[max_val], 'mean':[mean_val]}, index=None)\n",
    "        \n",
    "#         self.SFL = self.new_data.loc[self.new_data['Pos'].str.contains('|'.join(searchfor))].sort_values(by=\"Total\",\n",
    "#             ascending=False)\n",
    "#         self.SFL = self.SFL.loc[self.SFL['Total'] <18].describe().round()\n",
    "#         min_val=self.SFL['Contract Worth'][3]\n",
    "# #       max_val=self.SFL['Contract Worth'][7]\n",
    "# #       mean_val=self.SFL['Contract Worth'][1]\n",
    "#         self.SFL = pd.DataFrame(data= {'min':[min_val], 'max':[max_val], 'mean':[mean_val]}, index=None)\n",
    "\n",
    "#-------------------------------------------------------------------------------- \n",
    "        # Get only Players that have Contract Worth\n",
    "#         self.SF[\"Contract Worth\"] = self.SF[\"Contract Worth\"].loc[self.SF[\"Contract Worth\"] > 0]\n",
    "#         self.SF = self.SF.dropna()\n",
    "\n",
    "#-------------------------------------------------------------------------------- \n",
    "\n",
    "## calculating PF contract range (unhash when needed))   \n",
    "\n",
    "#         searchfor = ['PF']\n",
    "#         self.PF = self.new_data.loc[self.new_data['Pos'].str.contains('|'.join(searchfor))].sort_values(by=\"Total\",\n",
    "#             ascending=False)\n",
    "#         self.PF = self.PF.loc[self.PF['Total'] >=18].describe().round()\n",
    "#         min_val=self.PF['Contract Worth'][3]\n",
    "#         max_val=self.PF['Contract Worth'][7]\n",
    "#         mean_val=self.PF['Contract Worth'][1]\n",
    "#         self.PF = pd.DataFrame(data= {'min':[min_val], 'max':[max_val], 'mean':[mean_val]}, index=None)\n",
    "        \n",
    "#         self.PFL = self.new_data.loc[self.new_data['Pos'].str.contains('|'.join(searchfor))].sort_values(by=\"Total\",\n",
    "#             ascending=False)\n",
    "#         self.PFL = self.PFL.loc[self.PFL['Total'] <18].describe().round()\n",
    "#         min_val=self.PFL['Contract Worth'][3]\n",
    "#         max_val=self.PFL['Contract Worth'][7]\n",
    "#         mean_val=self.PFL['Contract Worth'][1]\n",
    "#         self.PFL = pd.DataFrame(data= {'min':[min_val], 'max':[max_val], 'mean':[mean_val]}, index=None)\n",
    "     \n",
    "\n",
    "#-------------------------------------------------------------------------------- \n",
    "## calculating C or C/F contract range (unhash when needed)      \n",
    "\n",
    "#         searchfor = ['C']\n",
    "#         self.CF = self.new_data.loc[self.new_data['Pos'].str.contains('|'.join(searchfor))].sort_values(by=\"Total\",\n",
    "#             ascending=False)\n",
    "#         self.CF = self.CF.loc[self.CF['Total'] >= 18].describe().round()\n",
    "#         min_val=self.CF['Contract Worth'][3]\n",
    "#         max_val=self.CF['Contract Worth'][7]\n",
    "#         mean_val=self.CF['Contract Worth'][1]\n",
    "#         self.CF = pd.DataFrame(data= {'min':[min_val], 'max':[max_val], 'mean':[mean_val]}, index=None)\n",
    "        \n",
    "#         self.CFL = self.new_data.loc[self.new_data['Pos'].str.contains('|'.join(searchfor))].sort_values(by=\"Total\",\n",
    "#             ascending=False)\n",
    "#         self.CFL = self.CFL.loc[self.CFL['Total'] < 18].describe().round()\n",
    "#         min_val=self.CFL['Contract Worth'][3]\n",
    "#         max_val=self.CFL['Contract Worth'][7]\n",
    "#         mean_val=self.CFL['Contract Worth'][1]\n",
    "#         self.CFL = pd.DataFrame(data= {'min':[min_val], 'max':[max_val], 'mean':[mean_val]}, index=None)         \n",
    "\n",
    "\n",
    "#-------------------------------------------------------------------------------- \n",
    "# this copy of the code adds min, max. mean contract values to historical players dataframes.  \n",
    "\n",
    "#     def get(self):\n",
    "#         self.get_groups()\n",
    "#         # # Get the investment offer\n",
    "#         # investment = inv\n",
    "\n",
    "        \n",
    "#         # Create ROI Column\n",
    "        \n",
    "#         # self.PG[\"min\"] = self.PG[\"min\"]\n",
    "\n",
    "#         # For each row in our original data\n",
    "#         self.new_data['min'] = \"\"\n",
    "#         self.new_data['max'] = \"\"\n",
    "#         self.new_data['mean'] = \"\"\n",
    "        \n",
    "#         for row in self.new_data.loc[:, [\"Player\",\"Total\",'Pos']].iterrows():\n",
    "#             if row[1]['Total']== 18 and row[1]['Pos']:\n",
    "#                 self.new_data.loc[self.new_data[\"Player\"]== row[1]['Player'],'min'] = self.PG[\"min\"][0]\n",
    "                \n",
    "#                 self.new_data.loc[self.new_data[\"Player\"]== row[1]['Player'],'max'] = self.PG[\"max\"][0]\n",
    "                \n",
    "#                 self.new_data.loc[self.new_data[\"Player\"]== row[1]['Player'],'mean'] = self.PG[\"mean\"][0]\n",
    "                \n",
    "                \n",
    "                \n",
    "#             else:\n",
    "#                 self.new_data.loc[self.new_data[\"Player\"]== row[1]['Player'],'min'] =self.PGL[\"min\"][0] \n",
    "                \n",
    "#                 self.new_data.loc[self.new_data[\"Player\"]== row[1]['Player'],'max'] = self.PGL[\"max\"][0]\n",
    "                \n",
    "#                 self.new_data.loc[self.new_data[\"Player\"]== row[1]['Player'],'mean'] = self.PGL[\"mean\"][0]\n",
    "             \n",
    "        \n",
    "#         return self.new_data.sort_values(by=\"Total\",\n",
    "#             ascending=False)\n",
    "            \n",
    "\n",
    "#--------------------------------------------------------------------------------            \n",
    "# this code appends min, max, and mean contract values from histrical player analysis to 2022 player position dataframes. Use this but make sure the correct position's get_groups() function is unhashed above. Both the get() and get_groups() mustalign on position to output the projected min, max, mean contract values for the 2022 draftees \n",
    "    def get(self):\n",
    "        self.get_groups()\n",
    "        # # Get the investment offer\n",
    "        # investment = inv\n",
    "\n",
    "        \n",
    "        # Create ROI Column\n",
    "        \n",
    "        # self.PG[\"min\"] = self.PG[\"min\"]\n",
    "\n",
    "        # For each row in our original data\n",
    "        self.new_data['min'] = \"\"\n",
    "        self.new_data['max'] = \"\"\n",
    "        self.new_data['mean'] = \"\"\n",
    "        \n",
    "        # for row in self.new_data.loc[:, [\"Total\",'Pos']].iterrows():\n",
    "        #     if row[1]['Total']== 18 and row[1]['Pos']:\n",
    "        self.new_data.loc[self.new_data[\"Total\"] == 18, 'min'] = p.SG['min'][0]\n",
    "        self.new_data.loc[self.new_data[\"Total\"] == 18, 'max'] = p.SG['max'][0]\n",
    "        self.new_data.loc[self.new_data[\"Total\"] == 18, 'mean'] = p.SG['mean'][0]\n",
    "        \n",
    "        self.new_data.loc[self.new_data[\"Total\"] < 18, 'min'] = p.SGL['min'][0]\n",
    "        self.new_data.loc[self.new_data[\"Total\"] < 18, 'max'] = p.SGL['max'][0]\n",
    "        self.new_data.loc[self.new_data[\"Total\"] < 18, 'mean'] = p.SGL['mean'][0]\n",
    "       \n",
    "    \n",
    "### old get() function that appends min, max. mean values to historical players dataframes\n",
    "        # def get(self):\n",
    "        # self.get_groups()s\n",
    "        # # Get the investment offer\n",
    "        # investment = inv\n",
    "\n",
    "        \n",
    "        # Create ROI Column\n",
    "        \n",
    "        # self.PG[\"min\"] = self.PG[\"min\"]\n",
    "\n",
    "        # For each row in our original data\n",
    "#         self.new_data['min'] = \"\"\n",
    "#         self.new_data['max'] = \"\"\n",
    "#         self.new_data['mean'] = \"\"\n",
    "        \n",
    "        # for row in self.new_data.loc[:, [\"Total\",'Pos']].iterrows():\n",
    "        #     if row[1]['Total']== 18 and row[1]['Pos']:      \n",
    "#                 self.new_data.loc[self.new_data[\"Player\"]== row[1]['Player'],'min'] = self.PF[\"min\"][0]\n",
    "                \n",
    "#                 self.new_data.loc[self.new_data[\"Player\"]== row[1]['Player'],'max'] = self.PF[\"max\"][0]\n",
    "                \n",
    "#                 self.new_data.loc[self.new_data[\"Player\"]== row[1]['Player'],'mean'] = self.PF[\"mean\"][0]\n",
    "                \n",
    "                \n",
    "                \n",
    "#             else:\n",
    "#                 self.new_data.loc[self.new_data[\"Player\"]== row[1]['Player'],'min'] =self.PFL[\"min\"][0] \n",
    "                \n",
    "#                 self.new_data.loc[self.new_data[\"Player\"]== row[1]['Player'],'max'] = self.PFL[\"max\"][0]\n",
    "                \n",
    "#                 self.new_data.loc[self.new_data[\"Player\"]== row[1]['Player'],'mean'] = self.PFL[\"mean\"][0]\n",
    "             \n",
    "        \n",
    "        return self.new_data.sort_values(by=\"Total\",\n",
    "            ascending=False)\n",
    "        \n",
    "\n",
    "#--------------------------------------------------------------------------------         \n",
    "        # ROI brainstorm\n",
    "        # Get the current contract price\n",
    "            # current_value = (row[1][\"Contract Worth\"] * (10 ** (-6)))\n",
    "            # # Calculate ROI\n",
    "            # roi = ((current_value - investment) / investment)\n",
    "            # # Calculate return on investment\n",
    "            # self.data.loc[self.data[\"Player\"] == row[1][\"Player\"], \"ROI\"] = (roi*inv)*(10**3)\n",
    "\n",
    "        # # Add new column to the new data frame\n",
    "        # self.new_data[\"min\"] = self.PG[\"min\"]\n",
    "                    \n",
    "            \n",
    "\n",
    "\n"
   ]
  },
  {
   "cell_type": "code",
   "execution_count": 87,
   "id": "fdf86815-bdb7-4f33-a9da-f7742e239f19",
   "metadata": {},
   "outputs": [
    {
     "data": {
      "text/html": [
       "<div>\n",
       "<style scoped>\n",
       "    .dataframe tbody tr th:only-of-type {\n",
       "        vertical-align: middle;\n",
       "    }\n",
       "\n",
       "    .dataframe tbody tr th {\n",
       "        vertical-align: top;\n",
       "    }\n",
       "\n",
       "    .dataframe thead th {\n",
       "        text-align: right;\n",
       "    }\n",
       "</style>\n",
       "<table border=\"1\" class=\"dataframe\">\n",
       "  <thead>\n",
       "    <tr style=\"text-align: right;\">\n",
       "      <th></th>\n",
       "      <th>min</th>\n",
       "      <th>max</th>\n",
       "      <th>mean</th>\n",
       "    </tr>\n",
       "  </thead>\n",
       "  <tbody>\n",
       "    <tr>\n",
       "      <th>0</th>\n",
       "      <td>8009193.0</td>\n",
       "      <td>44271137.0</td>\n",
       "      <td>17674695.0</td>\n",
       "    </tr>\n",
       "  </tbody>\n",
       "</table>\n",
       "</div>"
      ],
      "text/plain": [
       "         min         max        mean\n",
       "0  8009193.0  44271137.0  17674695.0"
      ]
     },
     "metadata": {},
     "output_type": "display_data"
    },
    {
     "data": {
      "text/html": [
       "<div>\n",
       "<style scoped>\n",
       "    .dataframe tbody tr th:only-of-type {\n",
       "        vertical-align: middle;\n",
       "    }\n",
       "\n",
       "    .dataframe tbody tr th {\n",
       "        vertical-align: top;\n",
       "    }\n",
       "\n",
       "    .dataframe thead th {\n",
       "        text-align: right;\n",
       "    }\n",
       "</style>\n",
       "<table border=\"1\" class=\"dataframe\">\n",
       "  <thead>\n",
       "    <tr style=\"text-align: right;\">\n",
       "      <th></th>\n",
       "      <th>min</th>\n",
       "      <th>max</th>\n",
       "      <th>mean</th>\n",
       "    </tr>\n",
       "  </thead>\n",
       "  <tbody>\n",
       "    <tr>\n",
       "      <th>0</th>\n",
       "      <td>10090879.0</td>\n",
       "      <td>19151216.0</td>\n",
       "      <td>13960435.0</td>\n",
       "    </tr>\n",
       "  </tbody>\n",
       "</table>\n",
       "</div>"
      ],
      "text/plain": [
       "          min         max        mean\n",
       "0  10090879.0  19151216.0  13960435.0"
      ]
     },
     "metadata": {},
     "output_type": "display_data"
    },
    {
     "data": {
      "text/html": [
       "<div>\n",
       "<style scoped>\n",
       "    .dataframe tbody tr th:only-of-type {\n",
       "        vertical-align: middle;\n",
       "    }\n",
       "\n",
       "    .dataframe tbody tr th {\n",
       "        vertical-align: top;\n",
       "    }\n",
       "\n",
       "    .dataframe thead th {\n",
       "        text-align: right;\n",
       "    }\n",
       "</style>\n",
       "<table border=\"1\" class=\"dataframe\">\n",
       "  <thead>\n",
       "    <tr style=\"text-align: right;\">\n",
       "      <th></th>\n",
       "      <th>Player</th>\n",
       "      <th>Contract Worth</th>\n",
       "      <th>Pos</th>\n",
       "      <th>FT%</th>\n",
       "      <th>FG%</th>\n",
       "      <th>APG</th>\n",
       "      <th>PPG</th>\n",
       "      <th>3P%</th>\n",
       "      <th>RPG</th>\n",
       "      <th>Total</th>\n",
       "      <th>min</th>\n",
       "      <th>max</th>\n",
       "      <th>mean</th>\n",
       "    </tr>\n",
       "    <tr>\n",
       "      <th>DraftYear</th>\n",
       "      <th></th>\n",
       "      <th></th>\n",
       "      <th></th>\n",
       "      <th></th>\n",
       "      <th></th>\n",
       "      <th></th>\n",
       "      <th></th>\n",
       "      <th></th>\n",
       "      <th></th>\n",
       "      <th></th>\n",
       "      <th></th>\n",
       "      <th></th>\n",
       "      <th></th>\n",
       "    </tr>\n",
       "  </thead>\n",
       "  <tbody>\n",
       "    <tr>\n",
       "      <th>2018</th>\n",
       "      <td>Josh Okogie</td>\n",
       "      <td>11430344.0</td>\n",
       "      <td>SG</td>\n",
       "      <td>3.0</td>\n",
       "      <td>3.0</td>\n",
       "      <td>3.0</td>\n",
       "      <td>6.6</td>\n",
       "      <td>3.0</td>\n",
       "      <td>3.0</td>\n",
       "      <td>21.6</td>\n",
       "      <td></td>\n",
       "      <td></td>\n",
       "      <td></td>\n",
       "    </tr>\n",
       "    <tr>\n",
       "      <th>2021</th>\n",
       "      <td>Quentin Grimes</td>\n",
       "      <td>11128162.0</td>\n",
       "      <td>SG</td>\n",
       "      <td>3.0</td>\n",
       "      <td>3.0</td>\n",
       "      <td>3.0</td>\n",
       "      <td>6.5</td>\n",
       "      <td>3.0</td>\n",
       "      <td>2.0</td>\n",
       "      <td>20.5</td>\n",
       "      <td></td>\n",
       "      <td></td>\n",
       "      <td></td>\n",
       "    </tr>\n",
       "    <tr>\n",
       "      <th>2020</th>\n",
       "      <td>Payton Pritchard</td>\n",
       "      <td>10449718.0</td>\n",
       "      <td>SG</td>\n",
       "      <td>3.0</td>\n",
       "      <td>3.0</td>\n",
       "      <td>3.0</td>\n",
       "      <td>6.4</td>\n",
       "      <td>3.0</td>\n",
       "      <td>2.0</td>\n",
       "      <td>20.4</td>\n",
       "      <td></td>\n",
       "      <td></td>\n",
       "      <td></td>\n",
       "    </tr>\n",
       "    <tr>\n",
       "      <th>2019</th>\n",
       "      <td>Jarrett Culver</td>\n",
       "      <td>26422143.0</td>\n",
       "      <td>SG</td>\n",
       "      <td>1.0</td>\n",
       "      <td>3.0</td>\n",
       "      <td>3.0</td>\n",
       "      <td>7.0</td>\n",
       "      <td>3.0</td>\n",
       "      <td>3.0</td>\n",
       "      <td>20.0</td>\n",
       "      <td></td>\n",
       "      <td></td>\n",
       "      <td></td>\n",
       "    </tr>\n",
       "    <tr>\n",
       "      <th>2020</th>\n",
       "      <td>Devin Vassell</td>\n",
       "      <td>18593499.0</td>\n",
       "      <td>SG</td>\n",
       "      <td>3.0</td>\n",
       "      <td>3.0</td>\n",
       "      <td>3.0</td>\n",
       "      <td>3.0</td>\n",
       "      <td>3.0</td>\n",
       "      <td>3.0</td>\n",
       "      <td>18.0</td>\n",
       "      <td>8009193.0</td>\n",
       "      <td>44271137.0</td>\n",
       "      <td>17674695.0</td>\n",
       "    </tr>\n",
       "    <tr>\n",
       "      <th>2019</th>\n",
       "      <td>Kevin Porter Jr.</td>\n",
       "      <td>8009193.0</td>\n",
       "      <td>SG</td>\n",
       "      <td>3.0</td>\n",
       "      <td>3.0</td>\n",
       "      <td>3.0</td>\n",
       "      <td>3.0</td>\n",
       "      <td>3.0</td>\n",
       "      <td>3.0</td>\n",
       "      <td>18.0</td>\n",
       "      <td>8009193.0</td>\n",
       "      <td>44271137.0</td>\n",
       "      <td>17674695.0</td>\n",
       "    </tr>\n",
       "    <tr>\n",
       "      <th>2021</th>\n",
       "      <td>Chris Duarte</td>\n",
       "      <td>17704356.0</td>\n",
       "      <td>SG</td>\n",
       "      <td>3.0</td>\n",
       "      <td>3.0</td>\n",
       "      <td>3.0</td>\n",
       "      <td>3.0</td>\n",
       "      <td>3.0</td>\n",
       "      <td>3.0</td>\n",
       "      <td>18.0</td>\n",
       "      <td>8009193.0</td>\n",
       "      <td>44271137.0</td>\n",
       "      <td>17674695.0</td>\n",
       "    </tr>\n",
       "    <tr>\n",
       "      <th>2020</th>\n",
       "      <td>Desmond Bane</td>\n",
       "      <td>9944923.0</td>\n",
       "      <td>SG</td>\n",
       "      <td>3.0</td>\n",
       "      <td>3.0</td>\n",
       "      <td>3.0</td>\n",
       "      <td>3.0</td>\n",
       "      <td>3.0</td>\n",
       "      <td>3.0</td>\n",
       "      <td>18.0</td>\n",
       "      <td>8009193.0</td>\n",
       "      <td>44271137.0</td>\n",
       "      <td>17674695.0</td>\n",
       "    </tr>\n",
       "    <tr>\n",
       "      <th>2018</th>\n",
       "      <td>Kevin Huerter</td>\n",
       "      <td>11902517.0</td>\n",
       "      <td>SG</td>\n",
       "      <td>3.0</td>\n",
       "      <td>3.0</td>\n",
       "      <td>3.0</td>\n",
       "      <td>3.0</td>\n",
       "      <td>3.0</td>\n",
       "      <td>3.0</td>\n",
       "      <td>18.0</td>\n",
       "      <td>8009193.0</td>\n",
       "      <td>44271137.0</td>\n",
       "      <td>17674695.0</td>\n",
       "    </tr>\n",
       "    <tr>\n",
       "      <th>2020</th>\n",
       "      <td>Anthony Edwards</td>\n",
       "      <td>44271137.0</td>\n",
       "      <td>SG</td>\n",
       "      <td>3.0</td>\n",
       "      <td>3.0</td>\n",
       "      <td>3.0</td>\n",
       "      <td>3.0</td>\n",
       "      <td>3.0</td>\n",
       "      <td>3.0</td>\n",
       "      <td>18.0</td>\n",
       "      <td>8009193.0</td>\n",
       "      <td>44271137.0</td>\n",
       "      <td>17674695.0</td>\n",
       "    </tr>\n",
       "    <tr>\n",
       "      <th>2021</th>\n",
       "      <td>Cam Thomas</td>\n",
       "      <td>10455512.0</td>\n",
       "      <td>SG</td>\n",
       "      <td>3.0</td>\n",
       "      <td>3.0</td>\n",
       "      <td>3.0</td>\n",
       "      <td>3.0</td>\n",
       "      <td>3.0</td>\n",
       "      <td>3.0</td>\n",
       "      <td>18.0</td>\n",
       "      <td>8009193.0</td>\n",
       "      <td>44271137.0</td>\n",
       "      <td>17674695.0</td>\n",
       "    </tr>\n",
       "    <tr>\n",
       "      <th>2019</th>\n",
       "      <td>Nickeil Alexander-Walker</td>\n",
       "      <td>14349113.0</td>\n",
       "      <td>SG</td>\n",
       "      <td>3.0</td>\n",
       "      <td>3.0</td>\n",
       "      <td>3.0</td>\n",
       "      <td>3.0</td>\n",
       "      <td>3.0</td>\n",
       "      <td>3.0</td>\n",
       "      <td>18.0</td>\n",
       "      <td>8009193.0</td>\n",
       "      <td>44271137.0</td>\n",
       "      <td>17674695.0</td>\n",
       "    </tr>\n",
       "    <tr>\n",
       "      <th>2019</th>\n",
       "      <td>Tyler Herro</td>\n",
       "      <td>17188836.0</td>\n",
       "      <td>SG</td>\n",
       "      <td>3.0</td>\n",
       "      <td>3.0</td>\n",
       "      <td>3.0</td>\n",
       "      <td>3.0</td>\n",
       "      <td>3.0</td>\n",
       "      <td>3.0</td>\n",
       "      <td>18.0</td>\n",
       "      <td>8009193.0</td>\n",
       "      <td>44271137.0</td>\n",
       "      <td>17674695.0</td>\n",
       "    </tr>\n",
       "    <tr>\n",
       "      <th>2019</th>\n",
       "      <td>RJ Barrett</td>\n",
       "      <td>35596275.0</td>\n",
       "      <td>SG</td>\n",
       "      <td>3.0</td>\n",
       "      <td>3.0</td>\n",
       "      <td>3.0</td>\n",
       "      <td>3.0</td>\n",
       "      <td>3.0</td>\n",
       "      <td>3.0</td>\n",
       "      <td>18.0</td>\n",
       "      <td>8009193.0</td>\n",
       "      <td>44271137.0</td>\n",
       "      <td>17674695.0</td>\n",
       "    </tr>\n",
       "    <tr>\n",
       "      <th>2018</th>\n",
       "      <td>Grayson Allen</td>\n",
       "      <td>11103735.0</td>\n",
       "      <td>SG</td>\n",
       "      <td>3.0</td>\n",
       "      <td>3.0</td>\n",
       "      <td>3.0</td>\n",
       "      <td>3.0</td>\n",
       "      <td>3.0</td>\n",
       "      <td>2.5</td>\n",
       "      <td>17.5</td>\n",
       "      <td>10090879.0</td>\n",
       "      <td>19151216.0</td>\n",
       "      <td>13960435.0</td>\n",
       "    </tr>\n",
       "    <tr>\n",
       "      <th>2019</th>\n",
       "      <td>Jordan Poole</td>\n",
       "      <td>10090879.0</td>\n",
       "      <td>SG</td>\n",
       "      <td>3.0</td>\n",
       "      <td>3.0</td>\n",
       "      <td>3.0</td>\n",
       "      <td>3.0</td>\n",
       "      <td>3.0</td>\n",
       "      <td>2.3</td>\n",
       "      <td>17.3</td>\n",
       "      <td>10090879.0</td>\n",
       "      <td>19151216.0</td>\n",
       "      <td>13960435.0</td>\n",
       "    </tr>\n",
       "    <tr>\n",
       "      <th>2018</th>\n",
       "      <td>Lonnie Walker IV</td>\n",
       "      <td>12457536.0</td>\n",
       "      <td>SG</td>\n",
       "      <td>3.0</td>\n",
       "      <td>3.0</td>\n",
       "      <td>3.0</td>\n",
       "      <td>3.0</td>\n",
       "      <td>3.0</td>\n",
       "      <td>2.3</td>\n",
       "      <td>17.3</td>\n",
       "      <td>10090879.0</td>\n",
       "      <td>19151216.0</td>\n",
       "      <td>13960435.0</td>\n",
       "    </tr>\n",
       "    <tr>\n",
       "      <th>2020</th>\n",
       "      <td>Immanuel Quickley</td>\n",
       "      <td>10803948.0</td>\n",
       "      <td>SG</td>\n",
       "      <td>3.0</td>\n",
       "      <td>3.0</td>\n",
       "      <td>3.0</td>\n",
       "      <td>3.0</td>\n",
       "      <td>3.0</td>\n",
       "      <td>2.2</td>\n",
       "      <td>17.2</td>\n",
       "      <td>10090879.0</td>\n",
       "      <td>19151216.0</td>\n",
       "      <td>13960435.0</td>\n",
       "    </tr>\n",
       "    <tr>\n",
       "      <th>2021</th>\n",
       "      <td>Josh Christopher</td>\n",
       "      <td>11463215.0</td>\n",
       "      <td>SG</td>\n",
       "      <td>3.0</td>\n",
       "      <td>3.0</td>\n",
       "      <td>3.0</td>\n",
       "      <td>3.0</td>\n",
       "      <td>3.0</td>\n",
       "      <td>2.1</td>\n",
       "      <td>17.1</td>\n",
       "      <td>10090879.0</td>\n",
       "      <td>19151216.0</td>\n",
       "      <td>13960435.0</td>\n",
       "    </tr>\n",
       "    <tr>\n",
       "      <th>2020</th>\n",
       "      <td>Josh Green</td>\n",
       "      <td>13638019.0</td>\n",
       "      <td>SG</td>\n",
       "      <td>3.0</td>\n",
       "      <td>3.0</td>\n",
       "      <td>3.0</td>\n",
       "      <td>1.0</td>\n",
       "      <td>3.0</td>\n",
       "      <td>2.1</td>\n",
       "      <td>15.1</td>\n",
       "      <td>10090879.0</td>\n",
       "      <td>19151216.0</td>\n",
       "      <td>13960435.0</td>\n",
       "    </tr>\n",
       "    <tr>\n",
       "      <th>2019</th>\n",
       "      <td>Romeo Langford</td>\n",
       "      <td>16528217.0</td>\n",
       "      <td>SG</td>\n",
       "      <td>3.0</td>\n",
       "      <td>3.0</td>\n",
       "      <td>1.0</td>\n",
       "      <td>1.0</td>\n",
       "      <td>3.0</td>\n",
       "      <td>1.9</td>\n",
       "      <td>12.9</td>\n",
       "      <td>10090879.0</td>\n",
       "      <td>19151216.0</td>\n",
       "      <td>13960435.0</td>\n",
       "    </tr>\n",
       "    <tr>\n",
       "      <th>2021</th>\n",
       "      <td>James Bouknight</td>\n",
       "      <td>19151216.0</td>\n",
       "      <td>SG</td>\n",
       "      <td>3.0</td>\n",
       "      <td>1.0</td>\n",
       "      <td>3.0</td>\n",
       "      <td>1.0</td>\n",
       "      <td>3.0</td>\n",
       "      <td>1.7</td>\n",
       "      <td>12.7</td>\n",
       "      <td>10090879.0</td>\n",
       "      <td>19151216.0</td>\n",
       "      <td>13960435.0</td>\n",
       "    </tr>\n",
       "    <tr>\n",
       "      <th>2021</th>\n",
       "      <td>Joshua Primo</td>\n",
       "      <td>18415445.0</td>\n",
       "      <td>SG</td>\n",
       "      <td>3.0</td>\n",
       "      <td>1.0</td>\n",
       "      <td>3.0</td>\n",
       "      <td>1.0</td>\n",
       "      <td>3.0</td>\n",
       "      <td>1.7</td>\n",
       "      <td>12.7</td>\n",
       "      <td>10090879.0</td>\n",
       "      <td>19151216.0</td>\n",
       "      <td>13960435.0</td>\n",
       "    </tr>\n",
       "    <tr>\n",
       "      <th>2021</th>\n",
       "      <td>Keon Johnson</td>\n",
       "      <td>12888585.0</td>\n",
       "      <td>SG</td>\n",
       "      <td>3.0</td>\n",
       "      <td>1.0</td>\n",
       "      <td>3.0</td>\n",
       "      <td>1.0</td>\n",
       "      <td>3.0</td>\n",
       "      <td>1.0</td>\n",
       "      <td>12.0</td>\n",
       "      <td>10090879.0</td>\n",
       "      <td>19151216.0</td>\n",
       "      <td>13960435.0</td>\n",
       "    </tr>\n",
       "    <tr>\n",
       "      <th>2021</th>\n",
       "      <td>Moses Moody</td>\n",
       "      <td>17023989.0</td>\n",
       "      <td>SG</td>\n",
       "      <td>3.0</td>\n",
       "      <td>1.0</td>\n",
       "      <td>1.0</td>\n",
       "      <td>1.0</td>\n",
       "      <td>3.0</td>\n",
       "      <td>1.0</td>\n",
       "      <td>10.0</td>\n",
       "      <td>10090879.0</td>\n",
       "      <td>19151216.0</td>\n",
       "      <td>13960435.0</td>\n",
       "    </tr>\n",
       "  </tbody>\n",
       "</table>\n",
       "</div>"
      ],
      "text/plain": [
       "                             Player  Contract Worth Pos  FT%  FG%  APG  PPG  \\\n",
       "DraftYear                                                                     \n",
       "2018                    Josh Okogie      11430344.0  SG  3.0  3.0  3.0  6.6   \n",
       "2021                 Quentin Grimes      11128162.0  SG  3.0  3.0  3.0  6.5   \n",
       "2020               Payton Pritchard      10449718.0  SG  3.0  3.0  3.0  6.4   \n",
       "2019                 Jarrett Culver      26422143.0  SG  1.0  3.0  3.0  7.0   \n",
       "2020                  Devin Vassell      18593499.0  SG  3.0  3.0  3.0  3.0   \n",
       "2019               Kevin Porter Jr.       8009193.0  SG  3.0  3.0  3.0  3.0   \n",
       "2021                   Chris Duarte      17704356.0  SG  3.0  3.0  3.0  3.0   \n",
       "2020                   Desmond Bane       9944923.0  SG  3.0  3.0  3.0  3.0   \n",
       "2018                  Kevin Huerter      11902517.0  SG  3.0  3.0  3.0  3.0   \n",
       "2020                Anthony Edwards      44271137.0  SG  3.0  3.0  3.0  3.0   \n",
       "2021                     Cam Thomas      10455512.0  SG  3.0  3.0  3.0  3.0   \n",
       "2019       Nickeil Alexander-Walker      14349113.0  SG  3.0  3.0  3.0  3.0   \n",
       "2019                    Tyler Herro      17188836.0  SG  3.0  3.0  3.0  3.0   \n",
       "2019                     RJ Barrett      35596275.0  SG  3.0  3.0  3.0  3.0   \n",
       "2018                  Grayson Allen      11103735.0  SG  3.0  3.0  3.0  3.0   \n",
       "2019                   Jordan Poole      10090879.0  SG  3.0  3.0  3.0  3.0   \n",
       "2018               Lonnie Walker IV      12457536.0  SG  3.0  3.0  3.0  3.0   \n",
       "2020              Immanuel Quickley      10803948.0  SG  3.0  3.0  3.0  3.0   \n",
       "2021               Josh Christopher      11463215.0  SG  3.0  3.0  3.0  3.0   \n",
       "2020                     Josh Green      13638019.0  SG  3.0  3.0  3.0  1.0   \n",
       "2019                 Romeo Langford      16528217.0  SG  3.0  3.0  1.0  1.0   \n",
       "2021                James Bouknight      19151216.0  SG  3.0  1.0  3.0  1.0   \n",
       "2021                   Joshua Primo      18415445.0  SG  3.0  1.0  3.0  1.0   \n",
       "2021                   Keon Johnson      12888585.0  SG  3.0  1.0  3.0  1.0   \n",
       "2021                    Moses Moody      17023989.0  SG  3.0  1.0  1.0  1.0   \n",
       "\n",
       "           3P%  RPG  Total         min         max        mean  \n",
       "DraftYear                                                       \n",
       "2018       3.0  3.0   21.6                                      \n",
       "2021       3.0  2.0   20.5                                      \n",
       "2020       3.0  2.0   20.4                                      \n",
       "2019       3.0  3.0   20.0                                      \n",
       "2020       3.0  3.0   18.0   8009193.0  44271137.0  17674695.0  \n",
       "2019       3.0  3.0   18.0   8009193.0  44271137.0  17674695.0  \n",
       "2021       3.0  3.0   18.0   8009193.0  44271137.0  17674695.0  \n",
       "2020       3.0  3.0   18.0   8009193.0  44271137.0  17674695.0  \n",
       "2018       3.0  3.0   18.0   8009193.0  44271137.0  17674695.0  \n",
       "2020       3.0  3.0   18.0   8009193.0  44271137.0  17674695.0  \n",
       "2021       3.0  3.0   18.0   8009193.0  44271137.0  17674695.0  \n",
       "2019       3.0  3.0   18.0   8009193.0  44271137.0  17674695.0  \n",
       "2019       3.0  3.0   18.0   8009193.0  44271137.0  17674695.0  \n",
       "2019       3.0  3.0   18.0   8009193.0  44271137.0  17674695.0  \n",
       "2018       3.0  2.5   17.5  10090879.0  19151216.0  13960435.0  \n",
       "2019       3.0  2.3   17.3  10090879.0  19151216.0  13960435.0  \n",
       "2018       3.0  2.3   17.3  10090879.0  19151216.0  13960435.0  \n",
       "2020       3.0  2.2   17.2  10090879.0  19151216.0  13960435.0  \n",
       "2021       3.0  2.1   17.1  10090879.0  19151216.0  13960435.0  \n",
       "2020       3.0  2.1   15.1  10090879.0  19151216.0  13960435.0  \n",
       "2019       3.0  1.9   12.9  10090879.0  19151216.0  13960435.0  \n",
       "2021       3.0  1.7   12.7  10090879.0  19151216.0  13960435.0  \n",
       "2021       3.0  1.7   12.7  10090879.0  19151216.0  13960435.0  \n",
       "2021       3.0  1.0   12.0  10090879.0  19151216.0  13960435.0  \n",
       "2021       3.0  1.0   10.0  10090879.0  19151216.0  13960435.0  "
      ]
     },
     "metadata": {},
     "output_type": "display_data"
    }
   ],
   "source": [
    "\n",
    "\n",
    "\n",
    "\n",
    "# find contract values for historical players and total point as well as min, max, mean contract values to dataframes\n",
    "p = R(SG_heavy_df)  \n",
    "stats = ['FT%','FG%','APG','PPG','3P%']\n",
    "\n",
    "for x in stats:\n",
    "   \n",
    "    p.AVGSTAT(x)\n",
    "\n",
    "\n",
    "p.AVGSTAT('RPG')\n",
    "p.get_total()\n",
    "\n",
    "p.get_groups()\n",
    "\n",
    "# show min, max. mean for those in the [position with total points = 18 or those less than 18\n",
    "display(p.SG)\n",
    "display(p.SGL)\n",
    "\n",
    "display(p.get())\n",
    "\n",
    "# p.get().to_csv(\"Past_PF_full_stats.csv\")\n",
    "\n"
   ]
  },
  {
   "cell_type": "code",
   "execution_count": 88,
   "id": "8832e9d7-c641-43cf-84eb-9229d2268403",
   "metadata": {},
   "outputs": [
    {
     "data": {
      "text/html": [
       "<div>\n",
       "<style scoped>\n",
       "    .dataframe tbody tr th:only-of-type {\n",
       "        vertical-align: middle;\n",
       "    }\n",
       "\n",
       "    .dataframe tbody tr th {\n",
       "        vertical-align: top;\n",
       "    }\n",
       "\n",
       "    .dataframe thead th {\n",
       "        text-align: right;\n",
       "    }\n",
       "</style>\n",
       "<table border=\"1\" class=\"dataframe\">\n",
       "  <thead>\n",
       "    <tr style=\"text-align: right;\">\n",
       "      <th></th>\n",
       "      <th>min</th>\n",
       "      <th>max</th>\n",
       "      <th>mean</th>\n",
       "    </tr>\n",
       "  </thead>\n",
       "  <tbody>\n",
       "    <tr>\n",
       "      <th>0</th>\n",
       "      <td>0.0</td>\n",
       "      <td>0.0</td>\n",
       "      <td>0.0</td>\n",
       "    </tr>\n",
       "  </tbody>\n",
       "</table>\n",
       "</div>"
      ],
      "text/plain": [
       "   min  max  mean\n",
       "0  0.0  0.0   0.0"
      ]
     },
     "metadata": {},
     "output_type": "display_data"
    },
    {
     "data": {
      "text/html": [
       "<div>\n",
       "<style scoped>\n",
       "    .dataframe tbody tr th:only-of-type {\n",
       "        vertical-align: middle;\n",
       "    }\n",
       "\n",
       "    .dataframe tbody tr th {\n",
       "        vertical-align: top;\n",
       "    }\n",
       "\n",
       "    .dataframe thead th {\n",
       "        text-align: right;\n",
       "    }\n",
       "</style>\n",
       "<table border=\"1\" class=\"dataframe\">\n",
       "  <thead>\n",
       "    <tr style=\"text-align: right;\">\n",
       "      <th></th>\n",
       "      <th>Player</th>\n",
       "      <th>Contract Worth</th>\n",
       "      <th>Pos</th>\n",
       "      <th>FT%</th>\n",
       "      <th>FG%</th>\n",
       "      <th>APG</th>\n",
       "      <th>PPG</th>\n",
       "      <th>3P%</th>\n",
       "      <th>RPG</th>\n",
       "      <th>Total</th>\n",
       "      <th>min</th>\n",
       "      <th>max</th>\n",
       "      <th>mean</th>\n",
       "    </tr>\n",
       "    <tr>\n",
       "      <th>Rk</th>\n",
       "      <th></th>\n",
       "      <th></th>\n",
       "      <th></th>\n",
       "      <th></th>\n",
       "      <th></th>\n",
       "      <th></th>\n",
       "      <th></th>\n",
       "      <th></th>\n",
       "      <th></th>\n",
       "      <th></th>\n",
       "      <th></th>\n",
       "      <th></th>\n",
       "      <th></th>\n",
       "    </tr>\n",
       "  </thead>\n",
       "  <tbody>\n",
       "    <tr>\n",
       "      <th>4</th>\n",
       "      <td>Jaden Ivey</td>\n",
       "      <td>0.0</td>\n",
       "      <td>SG</td>\n",
       "      <td>3.0</td>\n",
       "      <td>3.0</td>\n",
       "      <td>3.0</td>\n",
       "      <td>3.0</td>\n",
       "      <td>3.0</td>\n",
       "      <td>3.0</td>\n",
       "      <td>18.0</td>\n",
       "      <td>8009193.0</td>\n",
       "      <td>44271137.0</td>\n",
       "      <td>17674695.0</td>\n",
       "    </tr>\n",
       "    <tr>\n",
       "      <th>7</th>\n",
       "      <td>Johnny Davis</td>\n",
       "      <td>0.0</td>\n",
       "      <td>SG</td>\n",
       "      <td>3.0</td>\n",
       "      <td>3.0</td>\n",
       "      <td>3.0</td>\n",
       "      <td>3.0</td>\n",
       "      <td>3.0</td>\n",
       "      <td>3.0</td>\n",
       "      <td>18.0</td>\n",
       "      <td>8009193.0</td>\n",
       "      <td>44271137.0</td>\n",
       "      <td>17674695.0</td>\n",
       "    </tr>\n",
       "    <tr>\n",
       "      <th>10</th>\n",
       "      <td>Bennedict Mathurin</td>\n",
       "      <td>0.0</td>\n",
       "      <td>SG</td>\n",
       "      <td>3.0</td>\n",
       "      <td>3.0</td>\n",
       "      <td>3.0</td>\n",
       "      <td>3.0</td>\n",
       "      <td>3.0</td>\n",
       "      <td>3.0</td>\n",
       "      <td>18.0</td>\n",
       "      <td>8009193.0</td>\n",
       "      <td>44271137.0</td>\n",
       "      <td>17674695.0</td>\n",
       "    </tr>\n",
       "    <tr>\n",
       "      <th>11</th>\n",
       "      <td>Dyson Daniels</td>\n",
       "      <td>0.0</td>\n",
       "      <td>SG</td>\n",
       "      <td>3.0</td>\n",
       "      <td>3.0</td>\n",
       "      <td>3.0</td>\n",
       "      <td>3.0</td>\n",
       "      <td>3.0</td>\n",
       "      <td>3.0</td>\n",
       "      <td>18.0</td>\n",
       "      <td>8009193.0</td>\n",
       "      <td>44271137.0</td>\n",
       "      <td>17674695.0</td>\n",
       "    </tr>\n",
       "    <tr>\n",
       "      <th>14</th>\n",
       "      <td>Ochai Agbaji</td>\n",
       "      <td>0.0</td>\n",
       "      <td>SG</td>\n",
       "      <td>3.0</td>\n",
       "      <td>3.0</td>\n",
       "      <td>3.0</td>\n",
       "      <td>3.0</td>\n",
       "      <td>3.0</td>\n",
       "      <td>3.0</td>\n",
       "      <td>18.0</td>\n",
       "      <td>8009193.0</td>\n",
       "      <td>44271137.0</td>\n",
       "      <td>17674695.0</td>\n",
       "    </tr>\n",
       "    <tr>\n",
       "      <th>18</th>\n",
       "      <td>Malaki Branham</td>\n",
       "      <td>0.0</td>\n",
       "      <td>SG</td>\n",
       "      <td>3.0</td>\n",
       "      <td>3.0</td>\n",
       "      <td>3.0</td>\n",
       "      <td>3.0</td>\n",
       "      <td>3.0</td>\n",
       "      <td>3.0</td>\n",
       "      <td>18.0</td>\n",
       "      <td>8009193.0</td>\n",
       "      <td>44271137.0</td>\n",
       "      <td>17674695.0</td>\n",
       "    </tr>\n",
       "    <tr>\n",
       "      <th>22</th>\n",
       "      <td>Blake Wesley</td>\n",
       "      <td>0.0</td>\n",
       "      <td>SG</td>\n",
       "      <td>3.0</td>\n",
       "      <td>3.0</td>\n",
       "      <td>3.0</td>\n",
       "      <td>3.0</td>\n",
       "      <td>3.0</td>\n",
       "      <td>3.0</td>\n",
       "      <td>18.0</td>\n",
       "      <td>8009193.0</td>\n",
       "      <td>44271137.0</td>\n",
       "      <td>17674695.0</td>\n",
       "    </tr>\n",
       "    <tr>\n",
       "      <th>23</th>\n",
       "      <td>Nikola Jovic</td>\n",
       "      <td>0.0</td>\n",
       "      <td>SG</td>\n",
       "      <td>3.0</td>\n",
       "      <td>3.0</td>\n",
       "      <td>3.0</td>\n",
       "      <td>3.0</td>\n",
       "      <td>3.0</td>\n",
       "      <td>3.0</td>\n",
       "      <td>18.0</td>\n",
       "      <td>8009193.0</td>\n",
       "      <td>44271137.0</td>\n",
       "      <td>17674695.0</td>\n",
       "    </tr>\n",
       "    <tr>\n",
       "      <th>26</th>\n",
       "      <td>Wendell Moore Jr</td>\n",
       "      <td>0.0</td>\n",
       "      <td>SG</td>\n",
       "      <td>3.0</td>\n",
       "      <td>3.0</td>\n",
       "      <td>3.0</td>\n",
       "      <td>3.0</td>\n",
       "      <td>3.0</td>\n",
       "      <td>3.0</td>\n",
       "      <td>18.0</td>\n",
       "      <td>8009193.0</td>\n",
       "      <td>44271137.0</td>\n",
       "      <td>17674695.0</td>\n",
       "    </tr>\n",
       "    <tr>\n",
       "      <th>6</th>\n",
       "      <td>Shaedon Sharpe</td>\n",
       "      <td>0.0</td>\n",
       "      <td>SG</td>\n",
       "      <td>3.0</td>\n",
       "      <td>3.0</td>\n",
       "      <td>3.0</td>\n",
       "      <td>3.0</td>\n",
       "      <td>1.0</td>\n",
       "      <td>3.0</td>\n",
       "      <td>16.0</td>\n",
       "      <td>10090879.0</td>\n",
       "      <td>19151216.0</td>\n",
       "      <td>13960435.0</td>\n",
       "    </tr>\n",
       "    <tr>\n",
       "      <th>21</th>\n",
       "      <td>Jaden Hardy</td>\n",
       "      <td>0.0</td>\n",
       "      <td>SG</td>\n",
       "      <td>3.0</td>\n",
       "      <td>1.0</td>\n",
       "      <td>3.0</td>\n",
       "      <td>3.0</td>\n",
       "      <td>3.0</td>\n",
       "      <td>3.0</td>\n",
       "      <td>16.0</td>\n",
       "      <td>10090879.0</td>\n",
       "      <td>19151216.0</td>\n",
       "      <td>13960435.0</td>\n",
       "    </tr>\n",
       "  </tbody>\n",
       "</table>\n",
       "</div>"
      ],
      "text/plain": [
       "                Player  Contract Worth Pos  FT%  FG%  APG  PPG  3P%  RPG  \\\n",
       "Rk                                                                         \n",
       "4           Jaden Ivey             0.0  SG  3.0  3.0  3.0  3.0  3.0  3.0   \n",
       "7         Johnny Davis             0.0  SG  3.0  3.0  3.0  3.0  3.0  3.0   \n",
       "10  Bennedict Mathurin             0.0  SG  3.0  3.0  3.0  3.0  3.0  3.0   \n",
       "11       Dyson Daniels             0.0  SG  3.0  3.0  3.0  3.0  3.0  3.0   \n",
       "14        Ochai Agbaji             0.0  SG  3.0  3.0  3.0  3.0  3.0  3.0   \n",
       "18      Malaki Branham             0.0  SG  3.0  3.0  3.0  3.0  3.0  3.0   \n",
       "22        Blake Wesley             0.0  SG  3.0  3.0  3.0  3.0  3.0  3.0   \n",
       "23        Nikola Jovic             0.0  SG  3.0  3.0  3.0  3.0  3.0  3.0   \n",
       "26    Wendell Moore Jr             0.0  SG  3.0  3.0  3.0  3.0  3.0  3.0   \n",
       "6       Shaedon Sharpe             0.0  SG  3.0  3.0  3.0  3.0  1.0  3.0   \n",
       "21         Jaden Hardy             0.0  SG  3.0  1.0  3.0  3.0  3.0  3.0   \n",
       "\n",
       "    Total         min         max        mean  \n",
       "Rk                                             \n",
       "4    18.0   8009193.0  44271137.0  17674695.0  \n",
       "7    18.0   8009193.0  44271137.0  17674695.0  \n",
       "10   18.0   8009193.0  44271137.0  17674695.0  \n",
       "11   18.0   8009193.0  44271137.0  17674695.0  \n",
       "14   18.0   8009193.0  44271137.0  17674695.0  \n",
       "18   18.0   8009193.0  44271137.0  17674695.0  \n",
       "22   18.0   8009193.0  44271137.0  17674695.0  \n",
       "23   18.0   8009193.0  44271137.0  17674695.0  \n",
       "26   18.0   8009193.0  44271137.0  17674695.0  \n",
       "6    16.0  10090879.0  19151216.0  13960435.0  \n",
       "21   16.0  10090879.0  19151216.0  13960435.0  "
      ]
     },
     "metadata": {},
     "output_type": "display_data"
    },
    {
     "data": {
      "text/html": [
       "<div>\n",
       "<style scoped>\n",
       "    .dataframe tbody tr th:only-of-type {\n",
       "        vertical-align: middle;\n",
       "    }\n",
       "\n",
       "    .dataframe tbody tr th {\n",
       "        vertical-align: top;\n",
       "    }\n",
       "\n",
       "    .dataframe thead th {\n",
       "        text-align: right;\n",
       "    }\n",
       "</style>\n",
       "<table border=\"1\" class=\"dataframe\">\n",
       "  <thead>\n",
       "    <tr style=\"text-align: right;\">\n",
       "      <th></th>\n",
       "      <th>Player</th>\n",
       "      <th>Contract Worth</th>\n",
       "      <th>Pos</th>\n",
       "      <th>FT%</th>\n",
       "      <th>FG%</th>\n",
       "      <th>APG</th>\n",
       "      <th>PPG</th>\n",
       "      <th>3P%</th>\n",
       "      <th>RPG</th>\n",
       "      <th>Total</th>\n",
       "      <th>min</th>\n",
       "      <th>max</th>\n",
       "      <th>mean</th>\n",
       "    </tr>\n",
       "    <tr>\n",
       "      <th>Rk</th>\n",
       "      <th></th>\n",
       "      <th></th>\n",
       "      <th></th>\n",
       "      <th></th>\n",
       "      <th></th>\n",
       "      <th></th>\n",
       "      <th></th>\n",
       "      <th></th>\n",
       "      <th></th>\n",
       "      <th></th>\n",
       "      <th></th>\n",
       "      <th></th>\n",
       "      <th></th>\n",
       "    </tr>\n",
       "  </thead>\n",
       "  <tbody>\n",
       "    <tr>\n",
       "      <th>4</th>\n",
       "      <td>Jaden Ivey</td>\n",
       "      <td>0.0</td>\n",
       "      <td>SG</td>\n",
       "      <td>3.0</td>\n",
       "      <td>3.0</td>\n",
       "      <td>3.0</td>\n",
       "      <td>3.0</td>\n",
       "      <td>3.0</td>\n",
       "      <td>3.0</td>\n",
       "      <td>18.0</td>\n",
       "      <td>8009193.0</td>\n",
       "      <td>44271137.0</td>\n",
       "      <td>17674695.0</td>\n",
       "    </tr>\n",
       "    <tr>\n",
       "      <th>7</th>\n",
       "      <td>Johnny Davis</td>\n",
       "      <td>0.0</td>\n",
       "      <td>SG</td>\n",
       "      <td>3.0</td>\n",
       "      <td>3.0</td>\n",
       "      <td>3.0</td>\n",
       "      <td>3.0</td>\n",
       "      <td>3.0</td>\n",
       "      <td>3.0</td>\n",
       "      <td>18.0</td>\n",
       "      <td>8009193.0</td>\n",
       "      <td>44271137.0</td>\n",
       "      <td>17674695.0</td>\n",
       "    </tr>\n",
       "    <tr>\n",
       "      <th>10</th>\n",
       "      <td>Bennedict Mathurin</td>\n",
       "      <td>0.0</td>\n",
       "      <td>SG</td>\n",
       "      <td>3.0</td>\n",
       "      <td>3.0</td>\n",
       "      <td>3.0</td>\n",
       "      <td>3.0</td>\n",
       "      <td>3.0</td>\n",
       "      <td>3.0</td>\n",
       "      <td>18.0</td>\n",
       "      <td>8009193.0</td>\n",
       "      <td>44271137.0</td>\n",
       "      <td>17674695.0</td>\n",
       "    </tr>\n",
       "    <tr>\n",
       "      <th>11</th>\n",
       "      <td>Dyson Daniels</td>\n",
       "      <td>0.0</td>\n",
       "      <td>SG</td>\n",
       "      <td>3.0</td>\n",
       "      <td>3.0</td>\n",
       "      <td>3.0</td>\n",
       "      <td>3.0</td>\n",
       "      <td>3.0</td>\n",
       "      <td>3.0</td>\n",
       "      <td>18.0</td>\n",
       "      <td>8009193.0</td>\n",
       "      <td>44271137.0</td>\n",
       "      <td>17674695.0</td>\n",
       "    </tr>\n",
       "    <tr>\n",
       "      <th>14</th>\n",
       "      <td>Ochai Agbaji</td>\n",
       "      <td>0.0</td>\n",
       "      <td>SG</td>\n",
       "      <td>3.0</td>\n",
       "      <td>3.0</td>\n",
       "      <td>3.0</td>\n",
       "      <td>3.0</td>\n",
       "      <td>3.0</td>\n",
       "      <td>3.0</td>\n",
       "      <td>18.0</td>\n",
       "      <td>8009193.0</td>\n",
       "      <td>44271137.0</td>\n",
       "      <td>17674695.0</td>\n",
       "    </tr>\n",
       "    <tr>\n",
       "      <th>18</th>\n",
       "      <td>Malaki Branham</td>\n",
       "      <td>0.0</td>\n",
       "      <td>SG</td>\n",
       "      <td>3.0</td>\n",
       "      <td>3.0</td>\n",
       "      <td>3.0</td>\n",
       "      <td>3.0</td>\n",
       "      <td>3.0</td>\n",
       "      <td>3.0</td>\n",
       "      <td>18.0</td>\n",
       "      <td>8009193.0</td>\n",
       "      <td>44271137.0</td>\n",
       "      <td>17674695.0</td>\n",
       "    </tr>\n",
       "    <tr>\n",
       "      <th>22</th>\n",
       "      <td>Blake Wesley</td>\n",
       "      <td>0.0</td>\n",
       "      <td>SG</td>\n",
       "      <td>3.0</td>\n",
       "      <td>3.0</td>\n",
       "      <td>3.0</td>\n",
       "      <td>3.0</td>\n",
       "      <td>3.0</td>\n",
       "      <td>3.0</td>\n",
       "      <td>18.0</td>\n",
       "      <td>8009193.0</td>\n",
       "      <td>44271137.0</td>\n",
       "      <td>17674695.0</td>\n",
       "    </tr>\n",
       "    <tr>\n",
       "      <th>23</th>\n",
       "      <td>Nikola Jovic</td>\n",
       "      <td>0.0</td>\n",
       "      <td>SG</td>\n",
       "      <td>3.0</td>\n",
       "      <td>3.0</td>\n",
       "      <td>3.0</td>\n",
       "      <td>3.0</td>\n",
       "      <td>3.0</td>\n",
       "      <td>3.0</td>\n",
       "      <td>18.0</td>\n",
       "      <td>8009193.0</td>\n",
       "      <td>44271137.0</td>\n",
       "      <td>17674695.0</td>\n",
       "    </tr>\n",
       "    <tr>\n",
       "      <th>26</th>\n",
       "      <td>Wendell Moore Jr</td>\n",
       "      <td>0.0</td>\n",
       "      <td>SG</td>\n",
       "      <td>3.0</td>\n",
       "      <td>3.0</td>\n",
       "      <td>3.0</td>\n",
       "      <td>3.0</td>\n",
       "      <td>3.0</td>\n",
       "      <td>3.0</td>\n",
       "      <td>18.0</td>\n",
       "      <td>8009193.0</td>\n",
       "      <td>44271137.0</td>\n",
       "      <td>17674695.0</td>\n",
       "    </tr>\n",
       "    <tr>\n",
       "      <th>6</th>\n",
       "      <td>Shaedon Sharpe</td>\n",
       "      <td>0.0</td>\n",
       "      <td>SG</td>\n",
       "      <td>3.0</td>\n",
       "      <td>3.0</td>\n",
       "      <td>3.0</td>\n",
       "      <td>3.0</td>\n",
       "      <td>1.0</td>\n",
       "      <td>3.0</td>\n",
       "      <td>16.0</td>\n",
       "      <td>10090879.0</td>\n",
       "      <td>19151216.0</td>\n",
       "      <td>13960435.0</td>\n",
       "    </tr>\n",
       "    <tr>\n",
       "      <th>21</th>\n",
       "      <td>Jaden Hardy</td>\n",
       "      <td>0.0</td>\n",
       "      <td>SG</td>\n",
       "      <td>3.0</td>\n",
       "      <td>1.0</td>\n",
       "      <td>3.0</td>\n",
       "      <td>3.0</td>\n",
       "      <td>3.0</td>\n",
       "      <td>3.0</td>\n",
       "      <td>16.0</td>\n",
       "      <td>10090879.0</td>\n",
       "      <td>19151216.0</td>\n",
       "      <td>13960435.0</td>\n",
       "    </tr>\n",
       "  </tbody>\n",
       "</table>\n",
       "</div>"
      ],
      "text/plain": [
       "                Player  Contract Worth Pos  FT%  FG%  APG  PPG  3P%  RPG  \\\n",
       "Rk                                                                         \n",
       "4           Jaden Ivey             0.0  SG  3.0  3.0  3.0  3.0  3.0  3.0   \n",
       "7         Johnny Davis             0.0  SG  3.0  3.0  3.0  3.0  3.0  3.0   \n",
       "10  Bennedict Mathurin             0.0  SG  3.0  3.0  3.0  3.0  3.0  3.0   \n",
       "11       Dyson Daniels             0.0  SG  3.0  3.0  3.0  3.0  3.0  3.0   \n",
       "14        Ochai Agbaji             0.0  SG  3.0  3.0  3.0  3.0  3.0  3.0   \n",
       "18      Malaki Branham             0.0  SG  3.0  3.0  3.0  3.0  3.0  3.0   \n",
       "22        Blake Wesley             0.0  SG  3.0  3.0  3.0  3.0  3.0  3.0   \n",
       "23        Nikola Jovic             0.0  SG  3.0  3.0  3.0  3.0  3.0  3.0   \n",
       "26    Wendell Moore Jr             0.0  SG  3.0  3.0  3.0  3.0  3.0  3.0   \n",
       "6       Shaedon Sharpe             0.0  SG  3.0  3.0  3.0  3.0  1.0  3.0   \n",
       "21         Jaden Hardy             0.0  SG  3.0  1.0  3.0  3.0  3.0  3.0   \n",
       "\n",
       "    Total         min         max        mean  \n",
       "Rk                                             \n",
       "4    18.0   8009193.0  44271137.0  17674695.0  \n",
       "7    18.0   8009193.0  44271137.0  17674695.0  \n",
       "10   18.0   8009193.0  44271137.0  17674695.0  \n",
       "11   18.0   8009193.0  44271137.0  17674695.0  \n",
       "14   18.0   8009193.0  44271137.0  17674695.0  \n",
       "18   18.0   8009193.0  44271137.0  17674695.0  \n",
       "22   18.0   8009193.0  44271137.0  17674695.0  \n",
       "23   18.0   8009193.0  44271137.0  17674695.0  \n",
       "26   18.0   8009193.0  44271137.0  17674695.0  \n",
       "6    16.0  10090879.0  19151216.0  13960435.0  \n",
       "21   16.0  10090879.0  19151216.0  13960435.0  "
      ]
     },
     "execution_count": 88,
     "metadata": {},
     "output_type": "execute_result"
    }
   ],
   "source": [
    "_2022 = pd.read_csv(Path('./Resources/2022_top_30.csv'),\n",
    "                       \n",
    "                       index_col = 'Rk', \n",
    "                       parse_dates=False, \n",
    "                       infer_datetime_format=True)\n",
    "\n",
    "# Create dataframes for each position of 2022 players\n",
    "_2022_PG = _2022.loc[_2022['Pos']=='PG']\n",
    "_2022_SG = _2022.loc[_2022['Pos']=='SG']\n",
    "_2022_PF = _2022.loc[_2022['Pos']=='PF']\n",
    "_2022_SF = _2022.loc[_2022['Pos']=='SF']\n",
    "_2022_C = _2022.loc[_2022['Pos']=='C']\n",
    "\n",
    "\n",
    "## The goal: populate each 2022 player position dataframe (created above) with the min, max, mean contract values that correspond with their point values from the Past_all_poistions_full_stas.csv\n",
    "\n",
    "# Add total points and contract value range\n",
    "_22 = R(_2022_SG)\n",
    "\n",
    "stats = ['FT%','FG%','APG','PPG','3P%']\n",
    "\n",
    "for x in stats:\n",
    "    _22.AVGSTAT(x)\n",
    "\n",
    "\n",
    "_22.AVGSTAT('RPG')\n",
    "\n",
    "_22.get_total()\n",
    "\n",
    "_22.get_groups()\n",
    "\n",
    "display(_22.SG)\n",
    "\n",
    "display(_22.get())\n",
    "\n",
    "\n",
    "# unhash this as needed. we already created csv so don't need this anymore\n",
    "# _22.get().to_csv(\"2022_SG_full_stats.csv\")\n",
    "\n",
    "SG_2022_full_stats=pd.DataFrame(_22.get())\n",
    "\n",
    "# 2022 Shooting Guard stats with total points and contract range!\n",
    "SG_2022_full_stats"
   ]
  },
  {
   "cell_type": "code",
   "execution_count": 89,
   "id": "c499087c-ab92-491e-97e8-350d2d96351a",
   "metadata": {},
   "outputs": [
    {
     "data": {
      "text/html": [
       "<div>\n",
       "<style scoped>\n",
       "    .dataframe tbody tr th:only-of-type {\n",
       "        vertical-align: middle;\n",
       "    }\n",
       "\n",
       "    .dataframe tbody tr th {\n",
       "        vertical-align: top;\n",
       "    }\n",
       "\n",
       "    .dataframe thead th {\n",
       "        text-align: right;\n",
       "    }\n",
       "</style>\n",
       "<table border=\"1\" class=\"dataframe\">\n",
       "  <thead>\n",
       "    <tr style=\"text-align: right;\">\n",
       "      <th></th>\n",
       "      <th>Rk</th>\n",
       "      <th>Player</th>\n",
       "      <th>Contract Worth</th>\n",
       "      <th>Pos</th>\n",
       "      <th>FT%</th>\n",
       "      <th>FG%</th>\n",
       "      <th>APG</th>\n",
       "      <th>PPG</th>\n",
       "      <th>3P%</th>\n",
       "      <th>RPG</th>\n",
       "      <th>Total</th>\n",
       "      <th>min</th>\n",
       "      <th>max</th>\n",
       "      <th>mean</th>\n",
       "    </tr>\n",
       "  </thead>\n",
       "  <tbody>\n",
       "    <tr>\n",
       "      <th>0</th>\n",
       "      <td>2.0</td>\n",
       "      <td>Chet Holmgren</td>\n",
       "      <td>0.0</td>\n",
       "      <td>C</td>\n",
       "      <td>3.0</td>\n",
       "      <td>3.0</td>\n",
       "      <td>3.0</td>\n",
       "      <td>3.0</td>\n",
       "      <td>3.0</td>\n",
       "      <td>3.0</td>\n",
       "      <td>18.0</td>\n",
       "      <td>14724873.0</td>\n",
       "      <td>36664449.0</td>\n",
       "      <td>21358467.0</td>\n",
       "    </tr>\n",
       "    <tr>\n",
       "      <th>1</th>\n",
       "      <td>9.0</td>\n",
       "      <td>Jalen Duren</td>\n",
       "      <td>0.0</td>\n",
       "      <td>C</td>\n",
       "      <td>3.0</td>\n",
       "      <td>3.0</td>\n",
       "      <td>3.0</td>\n",
       "      <td>3.0</td>\n",
       "      <td>0.0</td>\n",
       "      <td>3.0</td>\n",
       "      <td>15.0</td>\n",
       "      <td>8224593.0</td>\n",
       "      <td>40379230.0</td>\n",
       "      <td>15865155.0</td>\n",
       "    </tr>\n",
       "    <tr>\n",
       "      <th>2</th>\n",
       "      <td>16.0</td>\n",
       "      <td>Mark Williams</td>\n",
       "      <td>0.0</td>\n",
       "      <td>C</td>\n",
       "      <td>3.0</td>\n",
       "      <td>3.0</td>\n",
       "      <td>3.0</td>\n",
       "      <td>3.0</td>\n",
       "      <td>0.0</td>\n",
       "      <td>3.0</td>\n",
       "      <td>15.0</td>\n",
       "      <td>8224593.0</td>\n",
       "      <td>40379230.0</td>\n",
       "      <td>15865155.0</td>\n",
       "    </tr>\n",
       "    <tr>\n",
       "      <th>0</th>\n",
       "      <td>1.0</td>\n",
       "      <td>Jabari Smith</td>\n",
       "      <td>0.0</td>\n",
       "      <td>PF</td>\n",
       "      <td>3.0</td>\n",
       "      <td>3.0</td>\n",
       "      <td>3.0</td>\n",
       "      <td>3.0</td>\n",
       "      <td>3.0</td>\n",
       "      <td>3.0</td>\n",
       "      <td>18.0</td>\n",
       "      <td>7727382.0</td>\n",
       "      <td>44271137.0</td>\n",
       "      <td>18438475.0</td>\n",
       "    </tr>\n",
       "    <tr>\n",
       "      <th>1</th>\n",
       "      <td>3.0</td>\n",
       "      <td>Paolo Banchero</td>\n",
       "      <td>0.0</td>\n",
       "      <td>PF</td>\n",
       "      <td>3.0</td>\n",
       "      <td>3.0</td>\n",
       "      <td>3.0</td>\n",
       "      <td>3.0</td>\n",
       "      <td>3.0</td>\n",
       "      <td>3.0</td>\n",
       "      <td>18.0</td>\n",
       "      <td>7727382.0</td>\n",
       "      <td>44271137.0</td>\n",
       "      <td>18438475.0</td>\n",
       "    </tr>\n",
       "    <tr>\n",
       "      <th>2</th>\n",
       "      <td>12.0</td>\n",
       "      <td>Tari Eason</td>\n",
       "      <td>0.0</td>\n",
       "      <td>PF</td>\n",
       "      <td>3.0</td>\n",
       "      <td>3.0</td>\n",
       "      <td>3.0</td>\n",
       "      <td>3.0</td>\n",
       "      <td>3.0</td>\n",
       "      <td>3.0</td>\n",
       "      <td>18.0</td>\n",
       "      <td>7727382.0</td>\n",
       "      <td>44271137.0</td>\n",
       "      <td>18438475.0</td>\n",
       "    </tr>\n",
       "    <tr>\n",
       "      <th>3</th>\n",
       "      <td>24.0</td>\n",
       "      <td>E.J. Liddell</td>\n",
       "      <td>0.0</td>\n",
       "      <td>PF</td>\n",
       "      <td>3.0</td>\n",
       "      <td>3.0</td>\n",
       "      <td>3.0</td>\n",
       "      <td>3.0</td>\n",
       "      <td>3.0</td>\n",
       "      <td>3.0</td>\n",
       "      <td>18.0</td>\n",
       "      <td>7727382.0</td>\n",
       "      <td>44271137.0</td>\n",
       "      <td>18438475.0</td>\n",
       "    </tr>\n",
       "    <tr>\n",
       "      <th>4</th>\n",
       "      <td>27.0</td>\n",
       "      <td>Walker Kessler</td>\n",
       "      <td>0.0</td>\n",
       "      <td>PF</td>\n",
       "      <td>1.0</td>\n",
       "      <td>3.0</td>\n",
       "      <td>1.0</td>\n",
       "      <td>3.0</td>\n",
       "      <td>3.0</td>\n",
       "      <td>3.0</td>\n",
       "      <td>14.0</td>\n",
       "      <td>7681457.0</td>\n",
       "      <td>26422143.0</td>\n",
       "      <td>12760536.0</td>\n",
       "    </tr>\n",
       "    <tr>\n",
       "      <th>0</th>\n",
       "      <td>13.0</td>\n",
       "      <td>TyTy Washington</td>\n",
       "      <td>0.0</td>\n",
       "      <td>PG</td>\n",
       "      <td>3.0</td>\n",
       "      <td>3.0</td>\n",
       "      <td>3.0</td>\n",
       "      <td>3.0</td>\n",
       "      <td>3.0</td>\n",
       "      <td>3.0</td>\n",
       "      <td>18.0</td>\n",
       "      <td>7625397.0</td>\n",
       "      <td>45598818.0</td>\n",
       "      <td>23480321.0</td>\n",
       "    </tr>\n",
       "    <tr>\n",
       "      <th>1</th>\n",
       "      <td>17.0</td>\n",
       "      <td>Kennedy Chandler</td>\n",
       "      <td>0.0</td>\n",
       "      <td>PG</td>\n",
       "      <td>3.0</td>\n",
       "      <td>3.0</td>\n",
       "      <td>3.0</td>\n",
       "      <td>3.0</td>\n",
       "      <td>3.0</td>\n",
       "      <td>3.0</td>\n",
       "      <td>18.0</td>\n",
       "      <td>7625397.0</td>\n",
       "      <td>45598818.0</td>\n",
       "      <td>23480321.0</td>\n",
       "    </tr>\n",
       "    <tr>\n",
       "      <th>2</th>\n",
       "      <td>28.0</td>\n",
       "      <td>Jean Montero</td>\n",
       "      <td>0.0</td>\n",
       "      <td>PG</td>\n",
       "      <td>3.0</td>\n",
       "      <td>1.0</td>\n",
       "      <td>1.0</td>\n",
       "      <td>1.0</td>\n",
       "      <td>0.0</td>\n",
       "      <td>1.0</td>\n",
       "      <td>7.0</td>\n",
       "      <td>10017385.0</td>\n",
       "      <td>30184438.0</td>\n",
       "      <td>17616418.0</td>\n",
       "    </tr>\n",
       "    <tr>\n",
       "      <th>0</th>\n",
       "      <td>5.0</td>\n",
       "      <td>Keegan Murray</td>\n",
       "      <td>0.0</td>\n",
       "      <td>SF</td>\n",
       "      <td>3.0</td>\n",
       "      <td>3.0</td>\n",
       "      <td>3.0</td>\n",
       "      <td>3.0</td>\n",
       "      <td>3.0</td>\n",
       "      <td>3.0</td>\n",
       "      <td>18.0</td>\n",
       "      <td>8726306.0</td>\n",
       "      <td>33064628.0</td>\n",
       "      <td>18893687.0</td>\n",
       "    </tr>\n",
       "    <tr>\n",
       "      <th>1</th>\n",
       "      <td>8.0</td>\n",
       "      <td>A.J. Griffin</td>\n",
       "      <td>0.0</td>\n",
       "      <td>SF</td>\n",
       "      <td>3.0</td>\n",
       "      <td>3.0</td>\n",
       "      <td>3.0</td>\n",
       "      <td>3.0</td>\n",
       "      <td>3.0</td>\n",
       "      <td>3.0</td>\n",
       "      <td>18.0</td>\n",
       "      <td>8726306.0</td>\n",
       "      <td>33064628.0</td>\n",
       "      <td>18893687.0</td>\n",
       "    </tr>\n",
       "    <tr>\n",
       "      <th>2</th>\n",
       "      <td>19.0</td>\n",
       "      <td>Ousmane Dieng</td>\n",
       "      <td>0.0</td>\n",
       "      <td>SF</td>\n",
       "      <td>3.0</td>\n",
       "      <td>3.0</td>\n",
       "      <td>3.0</td>\n",
       "      <td>3.0</td>\n",
       "      <td>3.0</td>\n",
       "      <td>3.0</td>\n",
       "      <td>18.0</td>\n",
       "      <td>8726306.0</td>\n",
       "      <td>33064628.0</td>\n",
       "      <td>18893687.0</td>\n",
       "    </tr>\n",
       "    <tr>\n",
       "      <th>3</th>\n",
       "      <td>20.0</td>\n",
       "      <td>Kendall Brown</td>\n",
       "      <td>0.0</td>\n",
       "      <td>SF</td>\n",
       "      <td>3.0</td>\n",
       "      <td>3.0</td>\n",
       "      <td>3.0</td>\n",
       "      <td>3.0</td>\n",
       "      <td>3.0</td>\n",
       "      <td>3.0</td>\n",
       "      <td>18.0</td>\n",
       "      <td>8726306.0</td>\n",
       "      <td>33064628.0</td>\n",
       "      <td>18893687.0</td>\n",
       "    </tr>\n",
       "    <tr>\n",
       "      <th>4</th>\n",
       "      <td>25.0</td>\n",
       "      <td>Marjon Beauchamp</td>\n",
       "      <td>0.0</td>\n",
       "      <td>SF</td>\n",
       "      <td>3.0</td>\n",
       "      <td>3.0</td>\n",
       "      <td>3.0</td>\n",
       "      <td>3.0</td>\n",
       "      <td>3.0</td>\n",
       "      <td>3.0</td>\n",
       "      <td>18.0</td>\n",
       "      <td>8726306.0</td>\n",
       "      <td>33064628.0</td>\n",
       "      <td>18893687.0</td>\n",
       "    </tr>\n",
       "    <tr>\n",
       "      <th>5</th>\n",
       "      <td>30.0</td>\n",
       "      <td>Christian Braun</td>\n",
       "      <td>0.0</td>\n",
       "      <td>SF</td>\n",
       "      <td>3.0</td>\n",
       "      <td>3.0</td>\n",
       "      <td>3.0</td>\n",
       "      <td>3.0</td>\n",
       "      <td>3.0</td>\n",
       "      <td>3.0</td>\n",
       "      <td>18.0</td>\n",
       "      <td>8726306.0</td>\n",
       "      <td>33064628.0</td>\n",
       "      <td>18893687.0</td>\n",
       "    </tr>\n",
       "    <tr>\n",
       "      <th>6</th>\n",
       "      <td>15.0</td>\n",
       "      <td>Jeremy Sochan</td>\n",
       "      <td>0.0</td>\n",
       "      <td>SF</td>\n",
       "      <td>1.0</td>\n",
       "      <td>3.0</td>\n",
       "      <td>3.0</td>\n",
       "      <td>3.0</td>\n",
       "      <td>3.0</td>\n",
       "      <td>3.0</td>\n",
       "      <td>16.0</td>\n",
       "      <td>9161694.0</td>\n",
       "      <td>24855194.0</td>\n",
       "      <td>14465590.0</td>\n",
       "    </tr>\n",
       "    <tr>\n",
       "      <th>7</th>\n",
       "      <td>29.0</td>\n",
       "      <td>Patrick Baldwin Jr</td>\n",
       "      <td>0.0</td>\n",
       "      <td>SF</td>\n",
       "      <td>3.0</td>\n",
       "      <td>1.0</td>\n",
       "      <td>3.0</td>\n",
       "      <td>3.0</td>\n",
       "      <td>3.0</td>\n",
       "      <td>3.0</td>\n",
       "      <td>16.0</td>\n",
       "      <td>9161694.0</td>\n",
       "      <td>24855194.0</td>\n",
       "      <td>14465590.0</td>\n",
       "    </tr>\n",
       "    <tr>\n",
       "      <th>4</th>\n",
       "      <td>NaN</td>\n",
       "      <td>Jaden Ivey</td>\n",
       "      <td>0.0</td>\n",
       "      <td>SG</td>\n",
       "      <td>3.0</td>\n",
       "      <td>3.0</td>\n",
       "      <td>3.0</td>\n",
       "      <td>3.0</td>\n",
       "      <td>3.0</td>\n",
       "      <td>3.0</td>\n",
       "      <td>18.0</td>\n",
       "      <td>8009193.0</td>\n",
       "      <td>44271137.0</td>\n",
       "      <td>17674695.0</td>\n",
       "    </tr>\n",
       "    <tr>\n",
       "      <th>7</th>\n",
       "      <td>NaN</td>\n",
       "      <td>Johnny Davis</td>\n",
       "      <td>0.0</td>\n",
       "      <td>SG</td>\n",
       "      <td>3.0</td>\n",
       "      <td>3.0</td>\n",
       "      <td>3.0</td>\n",
       "      <td>3.0</td>\n",
       "      <td>3.0</td>\n",
       "      <td>3.0</td>\n",
       "      <td>18.0</td>\n",
       "      <td>8009193.0</td>\n",
       "      <td>44271137.0</td>\n",
       "      <td>17674695.0</td>\n",
       "    </tr>\n",
       "    <tr>\n",
       "      <th>10</th>\n",
       "      <td>NaN</td>\n",
       "      <td>Bennedict Mathurin</td>\n",
       "      <td>0.0</td>\n",
       "      <td>SG</td>\n",
       "      <td>3.0</td>\n",
       "      <td>3.0</td>\n",
       "      <td>3.0</td>\n",
       "      <td>3.0</td>\n",
       "      <td>3.0</td>\n",
       "      <td>3.0</td>\n",
       "      <td>18.0</td>\n",
       "      <td>8009193.0</td>\n",
       "      <td>44271137.0</td>\n",
       "      <td>17674695.0</td>\n",
       "    </tr>\n",
       "    <tr>\n",
       "      <th>11</th>\n",
       "      <td>NaN</td>\n",
       "      <td>Dyson Daniels</td>\n",
       "      <td>0.0</td>\n",
       "      <td>SG</td>\n",
       "      <td>3.0</td>\n",
       "      <td>3.0</td>\n",
       "      <td>3.0</td>\n",
       "      <td>3.0</td>\n",
       "      <td>3.0</td>\n",
       "      <td>3.0</td>\n",
       "      <td>18.0</td>\n",
       "      <td>8009193.0</td>\n",
       "      <td>44271137.0</td>\n",
       "      <td>17674695.0</td>\n",
       "    </tr>\n",
       "    <tr>\n",
       "      <th>14</th>\n",
       "      <td>NaN</td>\n",
       "      <td>Ochai Agbaji</td>\n",
       "      <td>0.0</td>\n",
       "      <td>SG</td>\n",
       "      <td>3.0</td>\n",
       "      <td>3.0</td>\n",
       "      <td>3.0</td>\n",
       "      <td>3.0</td>\n",
       "      <td>3.0</td>\n",
       "      <td>3.0</td>\n",
       "      <td>18.0</td>\n",
       "      <td>8009193.0</td>\n",
       "      <td>44271137.0</td>\n",
       "      <td>17674695.0</td>\n",
       "    </tr>\n",
       "    <tr>\n",
       "      <th>18</th>\n",
       "      <td>NaN</td>\n",
       "      <td>Malaki Branham</td>\n",
       "      <td>0.0</td>\n",
       "      <td>SG</td>\n",
       "      <td>3.0</td>\n",
       "      <td>3.0</td>\n",
       "      <td>3.0</td>\n",
       "      <td>3.0</td>\n",
       "      <td>3.0</td>\n",
       "      <td>3.0</td>\n",
       "      <td>18.0</td>\n",
       "      <td>8009193.0</td>\n",
       "      <td>44271137.0</td>\n",
       "      <td>17674695.0</td>\n",
       "    </tr>\n",
       "    <tr>\n",
       "      <th>22</th>\n",
       "      <td>NaN</td>\n",
       "      <td>Blake Wesley</td>\n",
       "      <td>0.0</td>\n",
       "      <td>SG</td>\n",
       "      <td>3.0</td>\n",
       "      <td>3.0</td>\n",
       "      <td>3.0</td>\n",
       "      <td>3.0</td>\n",
       "      <td>3.0</td>\n",
       "      <td>3.0</td>\n",
       "      <td>18.0</td>\n",
       "      <td>8009193.0</td>\n",
       "      <td>44271137.0</td>\n",
       "      <td>17674695.0</td>\n",
       "    </tr>\n",
       "    <tr>\n",
       "      <th>23</th>\n",
       "      <td>NaN</td>\n",
       "      <td>Nikola Jovic</td>\n",
       "      <td>0.0</td>\n",
       "      <td>SG</td>\n",
       "      <td>3.0</td>\n",
       "      <td>3.0</td>\n",
       "      <td>3.0</td>\n",
       "      <td>3.0</td>\n",
       "      <td>3.0</td>\n",
       "      <td>3.0</td>\n",
       "      <td>18.0</td>\n",
       "      <td>8009193.0</td>\n",
       "      <td>44271137.0</td>\n",
       "      <td>17674695.0</td>\n",
       "    </tr>\n",
       "    <tr>\n",
       "      <th>26</th>\n",
       "      <td>NaN</td>\n",
       "      <td>Wendell Moore Jr</td>\n",
       "      <td>0.0</td>\n",
       "      <td>SG</td>\n",
       "      <td>3.0</td>\n",
       "      <td>3.0</td>\n",
       "      <td>3.0</td>\n",
       "      <td>3.0</td>\n",
       "      <td>3.0</td>\n",
       "      <td>3.0</td>\n",
       "      <td>18.0</td>\n",
       "      <td>8009193.0</td>\n",
       "      <td>44271137.0</td>\n",
       "      <td>17674695.0</td>\n",
       "    </tr>\n",
       "    <tr>\n",
       "      <th>6</th>\n",
       "      <td>NaN</td>\n",
       "      <td>Shaedon Sharpe</td>\n",
       "      <td>0.0</td>\n",
       "      <td>SG</td>\n",
       "      <td>3.0</td>\n",
       "      <td>3.0</td>\n",
       "      <td>3.0</td>\n",
       "      <td>3.0</td>\n",
       "      <td>1.0</td>\n",
       "      <td>3.0</td>\n",
       "      <td>16.0</td>\n",
       "      <td>10090879.0</td>\n",
       "      <td>19151216.0</td>\n",
       "      <td>13960435.0</td>\n",
       "    </tr>\n",
       "    <tr>\n",
       "      <th>21</th>\n",
       "      <td>NaN</td>\n",
       "      <td>Jaden Hardy</td>\n",
       "      <td>0.0</td>\n",
       "      <td>SG</td>\n",
       "      <td>3.0</td>\n",
       "      <td>1.0</td>\n",
       "      <td>3.0</td>\n",
       "      <td>3.0</td>\n",
       "      <td>3.0</td>\n",
       "      <td>3.0</td>\n",
       "      <td>16.0</td>\n",
       "      <td>10090879.0</td>\n",
       "      <td>19151216.0</td>\n",
       "      <td>13960435.0</td>\n",
       "    </tr>\n",
       "  </tbody>\n",
       "</table>\n",
       "</div>"
      ],
      "text/plain": [
       "      Rk              Player  Contract Worth Pos  FT%  FG%  APG  PPG  3P%  \\\n",
       "0    2.0       Chet Holmgren             0.0   C  3.0  3.0  3.0  3.0  3.0   \n",
       "1    9.0         Jalen Duren             0.0   C  3.0  3.0  3.0  3.0  0.0   \n",
       "2   16.0       Mark Williams             0.0   C  3.0  3.0  3.0  3.0  0.0   \n",
       "0    1.0        Jabari Smith             0.0  PF  3.0  3.0  3.0  3.0  3.0   \n",
       "1    3.0      Paolo Banchero             0.0  PF  3.0  3.0  3.0  3.0  3.0   \n",
       "2   12.0          Tari Eason             0.0  PF  3.0  3.0  3.0  3.0  3.0   \n",
       "3   24.0        E.J. Liddell             0.0  PF  3.0  3.0  3.0  3.0  3.0   \n",
       "4   27.0      Walker Kessler             0.0  PF  1.0  3.0  1.0  3.0  3.0   \n",
       "0   13.0     TyTy Washington             0.0  PG  3.0  3.0  3.0  3.0  3.0   \n",
       "1   17.0    Kennedy Chandler             0.0  PG  3.0  3.0  3.0  3.0  3.0   \n",
       "2   28.0        Jean Montero             0.0  PG  3.0  1.0  1.0  1.0  0.0   \n",
       "0    5.0       Keegan Murray             0.0  SF  3.0  3.0  3.0  3.0  3.0   \n",
       "1    8.0        A.J. Griffin             0.0  SF  3.0  3.0  3.0  3.0  3.0   \n",
       "2   19.0       Ousmane Dieng             0.0  SF  3.0  3.0  3.0  3.0  3.0   \n",
       "3   20.0       Kendall Brown             0.0  SF  3.0  3.0  3.0  3.0  3.0   \n",
       "4   25.0    Marjon Beauchamp             0.0  SF  3.0  3.0  3.0  3.0  3.0   \n",
       "5   30.0     Christian Braun             0.0  SF  3.0  3.0  3.0  3.0  3.0   \n",
       "6   15.0       Jeremy Sochan             0.0  SF  1.0  3.0  3.0  3.0  3.0   \n",
       "7   29.0  Patrick Baldwin Jr             0.0  SF  3.0  1.0  3.0  3.0  3.0   \n",
       "4    NaN          Jaden Ivey             0.0  SG  3.0  3.0  3.0  3.0  3.0   \n",
       "7    NaN        Johnny Davis             0.0  SG  3.0  3.0  3.0  3.0  3.0   \n",
       "10   NaN  Bennedict Mathurin             0.0  SG  3.0  3.0  3.0  3.0  3.0   \n",
       "11   NaN       Dyson Daniels             0.0  SG  3.0  3.0  3.0  3.0  3.0   \n",
       "14   NaN        Ochai Agbaji             0.0  SG  3.0  3.0  3.0  3.0  3.0   \n",
       "18   NaN      Malaki Branham             0.0  SG  3.0  3.0  3.0  3.0  3.0   \n",
       "22   NaN        Blake Wesley             0.0  SG  3.0  3.0  3.0  3.0  3.0   \n",
       "23   NaN        Nikola Jovic             0.0  SG  3.0  3.0  3.0  3.0  3.0   \n",
       "26   NaN    Wendell Moore Jr             0.0  SG  3.0  3.0  3.0  3.0  3.0   \n",
       "6    NaN      Shaedon Sharpe             0.0  SG  3.0  3.0  3.0  3.0  1.0   \n",
       "21   NaN         Jaden Hardy             0.0  SG  3.0  1.0  3.0  3.0  3.0   \n",
       "\n",
       "    RPG  Total         min         max        mean  \n",
       "0   3.0   18.0  14724873.0  36664449.0  21358467.0  \n",
       "1   3.0   15.0   8224593.0  40379230.0  15865155.0  \n",
       "2   3.0   15.0   8224593.0  40379230.0  15865155.0  \n",
       "0   3.0   18.0   7727382.0  44271137.0  18438475.0  \n",
       "1   3.0   18.0   7727382.0  44271137.0  18438475.0  \n",
       "2   3.0   18.0   7727382.0  44271137.0  18438475.0  \n",
       "3   3.0   18.0   7727382.0  44271137.0  18438475.0  \n",
       "4   3.0   14.0   7681457.0  26422143.0  12760536.0  \n",
       "0   3.0   18.0   7625397.0  45598818.0  23480321.0  \n",
       "1   3.0   18.0   7625397.0  45598818.0  23480321.0  \n",
       "2   1.0    7.0  10017385.0  30184438.0  17616418.0  \n",
       "0   3.0   18.0   8726306.0  33064628.0  18893687.0  \n",
       "1   3.0   18.0   8726306.0  33064628.0  18893687.0  \n",
       "2   3.0   18.0   8726306.0  33064628.0  18893687.0  \n",
       "3   3.0   18.0   8726306.0  33064628.0  18893687.0  \n",
       "4   3.0   18.0   8726306.0  33064628.0  18893687.0  \n",
       "5   3.0   18.0   8726306.0  33064628.0  18893687.0  \n",
       "6   3.0   16.0   9161694.0  24855194.0  14465590.0  \n",
       "7   3.0   16.0   9161694.0  24855194.0  14465590.0  \n",
       "4   3.0   18.0   8009193.0  44271137.0  17674695.0  \n",
       "7   3.0   18.0   8009193.0  44271137.0  17674695.0  \n",
       "10  3.0   18.0   8009193.0  44271137.0  17674695.0  \n",
       "11  3.0   18.0   8009193.0  44271137.0  17674695.0  \n",
       "14  3.0   18.0   8009193.0  44271137.0  17674695.0  \n",
       "18  3.0   18.0   8009193.0  44271137.0  17674695.0  \n",
       "22  3.0   18.0   8009193.0  44271137.0  17674695.0  \n",
       "23  3.0   18.0   8009193.0  44271137.0  17674695.0  \n",
       "26  3.0   18.0   8009193.0  44271137.0  17674695.0  \n",
       "6   3.0   16.0  10090879.0  19151216.0  13960435.0  \n",
       "21  3.0   16.0  10090879.0  19151216.0  13960435.0  "
      ]
     },
     "execution_count": 89,
     "metadata": {},
     "output_type": "execute_result"
    }
   ],
   "source": [
    "# create 2022 position dataframes from csvs\n",
    "\n",
    "SG_2022_full_stats \n",
    "PG_2022_full_stats = pd.read_csv(Path('./2022_pos_csvs_w_contracts/2022_PG_full_stats.csv'))\n",
    "C_2022_full_stats=pd.read_csv(Path('2022_pos_csvs_w_contracts/2022_C_full_stats.csv'))\n",
    "PF_2022_full_stats=pd.read_csv(Path('2022_pos_csvs_w_contracts/2022_PF_full_stats.csv'))\n",
    "SF_2022_full_stats=pd.read_csv(Path('2022_pos_csvs_w_contracts/2022_SF_full_stats.csv'))\n",
    "\n",
    "# put all 2022 player position dataframes with contract values into a single dataframe that the CLI can pull from \n",
    "\n",
    "_22_all_stats = pd.concat([C_2022_full_stats, PF_2022_full_stats, PG_2022_full_stats, SF_2022_full_stats, SG_2022_full_stats], axis=0)\n",
    "\n",
    "# review dataframe\n",
    "_22_all_stats\n",
    "\n",
    "# create csv from dataframe\n",
    "\n",
    "# _22_all_stats.to_csv('./Resources/_22_all_stats.csv')"
   ]
  },
  {
   "cell_type": "markdown",
   "id": "7553d179-3514-4ca1-8dc4-3cc984514f70",
   "metadata": {},
   "source": [
    "## Profile "
   ]
  },
  {
   "cell_type": "code",
   "execution_count": 90,
   "id": "c709850e-a1a3-4ee2-9534-9a59ffc7c322",
   "metadata": {},
   "outputs": [],
   "source": [
    "# create Profile \n",
    "# def Profile(StatsDf,Name):\n",
    "#     stats = ['FT%','FG%', 'Player','3P%','APG','PPG','Pos']\n",
    "    \n",
    "#     P = GETPLAYER(StatsDf,Name) \n",
    "   \n",
    "    \n",
    "#     for x in stats:\n",
    "#         Status = x\n",
    "   \n",
    "   \n",
    "#         # iterate through each stat to find where each player is in terms of the average for their position in terms of stats\n",
    "#         # for Point Guards\n",
    "#         if x == Status:\n",
    "#             if Status == 'Pos':\n",
    "#                 Position = P[Status]\n",
    "#                 if Position == 'PG':\n",
    "#                     pos = Position\n",
    "#                     stats = ['FT%','FG%','3P%','APG','PPG']\n",
    "#                     for x in stats:\n",
    "#                          Status = x\n",
    "                         \n",
    "#                          if x == Status:\n",
    "#                             if Status == '3P%':\n",
    "                                \n",
    "#                                     _3above = AVGSTAT(PG_25_df,Status)\n",
    "                                    \n",
    "#                                     _3avg = AVGSTAT(PG_50_df,Status)\n",
    "                                    \n",
    "#                                     _3below = AVGSTAT(PG_75_df,Status)\n",
    "                    \n",
    "#                                     _3PSTAT =CURRENTSTAT( P ,Status)\n",
    "#                                     _3P_points = ADDPOINTS( _3PSTAT,_3above , _3avg, _3below)  \n",
    "                            \n",
    "                            \n",
    "                                    \n",
    "                        \n",
    "#                          if x == Status:\n",
    "#                             if Status == 'FG%':\n",
    "                                \n",
    "#                                     FGabove = AVGSTAT(PG_25_df,Status)\n",
    "                                    \n",
    "#                                     FGavg = AVGSTAT(PG_50_df,Status)\n",
    "                                    \n",
    "#                                     FGbelow = AVGSTAT(PG_75_df,Status)\n",
    "                                    \n",
    "            \n",
    "#                                     FGSTAT =CURRENTSTAT( P ,Status)\n",
    "#                                     FG_points = ADDPOINTS( FGSTAT,  FGabove, FGavg, FGbelow)\n",
    "                            \n",
    "#                          if x == Status:           \n",
    "#                             if Status == 'FT%':\n",
    "#                                     FTGabove = AVGSTAT(PG_25_df,Status)\n",
    "                                    \n",
    "#                                     FTGavg = AVGSTAT(PG_50_df,Status)\n",
    "                                    \n",
    "#                                     FTGbelow = AVGSTAT(PG_75_df,Status)\n",
    "                                    \n",
    "                                    \n",
    "                                    \n",
    "#                                     FGSTAT =CURRENTSTAT( P ,Status) \n",
    "#                                     FG_points = ADDPOINTS( FGSTAT , FTGabove,FTGavg,FTGbelow )\n",
    "         \n",
    "#                          if x == Status:\n",
    "#                             if Status == 'APG':\n",
    "                                    \n",
    "#                                     APGabove = AVGSTAT(PG_25_df,Status)\n",
    "                                    \n",
    "#                                     APGavg = AVGSTAT(PG_50_df,Status)\n",
    "                                    \n",
    "#                                     APGbelow = AVGSTAT(PG_75_df,Status)\n",
    "                            \n",
    "#                                     APGSTAT = CURRENTSTAT( P ,Status)       \n",
    "#                                     APG_points = ADDPOINTS( APGSTAT,APGabove,APGavg,APGbelow)\n",
    "        \n",
    "         \n",
    "#                          if x == Status:\n",
    "#                              if Status == 'PPG':\n",
    "                                    \n",
    "#                                     PPGabove = AVGSTAT(PG_25_df,Status)\n",
    "                                    \n",
    "#                                     PPGavg = AVGSTAT(PG_50_df,Status)\n",
    "                                    \n",
    "#                                     PPGbelow = AVGSTAT(PG_75_df,Status)\n",
    "                                \n",
    "                                \n",
    "                                \n",
    "#                                     PPGSTAT =CURRENTSTAT( P ,Status) \n",
    "#                                     PPG_points = ADDPOINTS( PPGSTAT,PPGabove, PPGavg,PPGbelow)\n",
    "\n",
    "#                                     total = _3P_points +PPG_points +FG_points+APG_points  \n",
    "                                    \n",
    "#                                     contract = P['Contract Worth']\n",
    "                                    \n",
    "                                    \n",
    "#                                     print(f'Player has {total} points with a contract of {contract} pos:{pos}')  \n",
    "                                    \n",
    "#                 # for Shooting Guards\n",
    "                \n",
    "#                 elif Position == 'SG':\n",
    "#                     pos = Position\n",
    "#                     stats = ['FT%','FG%','3P%','APG','PPG']\n",
    "#                     for x in stats:\n",
    "#                          Status = x\n",
    "                         \n",
    "#                          if x == Status:\n",
    "#                             if Status == '3P%':\n",
    "                                \n",
    "#                                     _3above = AVGSTAT(SG_25_df,Status)\n",
    "                                    \n",
    "#                                     _3avg = AVGSTAT(SG_50_df,Status)\n",
    "                                    \n",
    "#                                     _3below = AVGSTAT(SG_75_df,Status)\n",
    "                    \n",
    "#                                     _3PSTAT =CURRENTSTAT( P ,Status)\n",
    "#                                     _3P_points = ADDPOINTS( _3PSTAT,_3above , _3avg, _3below)  \n",
    "                            \n",
    "                            \n",
    "                                    \n",
    "                        \n",
    "#                          if x == Status:\n",
    "#                             if Status == 'FG%':\n",
    "                                \n",
    "#                                     FGabove = AVGSTAT(SG_25_df,Status)\n",
    "                                    \n",
    "#                                     FGavg = AVGSTAT(SG_50_df,Status)\n",
    "                                    \n",
    "#                                     FGbelow = AVGSTAT(SG_75_df,Status)\n",
    "                                    \n",
    "            \n",
    "#                                     FGSTAT =CURRENTSTAT( P ,Status)\n",
    "#                                     FG_points = ADDPOINTS( FGSTAT,  FGabove, FGavg, FGbelow)\n",
    "                            \n",
    "#                          if x == Status:           \n",
    "#                             if Status == 'FT%':\n",
    "#                                     FTGabove = AVGSTAT(SG_25_df,Status)\n",
    "                                    \n",
    "#                                     FTGavg = AVGSTAT(SG_50_df,Status)\n",
    "                                    \n",
    "#                                     FTGbelow = AVGSTAT(SG_75_df,Status)\n",
    "                                    \n",
    "                                    \n",
    "                                    \n",
    "#                                     FGSTAT =CURRENTSTAT( P ,Status) \n",
    "#                                     FG_points = ADDPOINTS( FGSTAT , FTGabove,FTGavg,FTGbelow )\n",
    "         \n",
    "#                          if x == Status:\n",
    "#                             if Status == 'APG':\n",
    "                                    \n",
    "#                                     APGabove = AVGSTAT(SG_25_df,Status)\n",
    "                                    \n",
    "#                                     APGavg = AVGSTAT(SG_50_df,Status)\n",
    "                                    \n",
    "#                                     APGbelow = AVGSTAT(SG_75_df,Status)\n",
    "                            \n",
    "#                                     APGSTAT = CURRENTSTAT( P ,Status)       \n",
    "#                                     APG_points = ADDPOINTS( APGSTAT,APGabove,APGavg,APGbelow)\n",
    "        \n",
    "         \n",
    "#                          if x == Status:\n",
    "#                              if Status == 'PPG':\n",
    "                                    \n",
    "#                                     PPGabove = AVGSTAT(SG_25_df,Status)\n",
    "                                    \n",
    "#                                     PPGavg = AVGSTAT(SG_50_df,Status)\n",
    "                                    \n",
    "#                                     PPGbelow = AVGSTAT(SG_75_df,Status)\n",
    "                                \n",
    "                                \n",
    "                                \n",
    "#                                     PPGSTAT =CURRENTSTAT( P ,Status) \n",
    "#                                     PPG_points = ADDPOINTS( PPGSTAT,PPGabove, PPGavg,PPGbelow)\n",
    "\n",
    "#                                     total = _3P_points +PPG_points +FG_points+APG_points  \n",
    "                                    \n",
    "#                                     contract = P['Contract Worth']\n",
    "                                    \n",
    "                                    \n",
    "#                                     print(f'Player has {total} points with a contract of {contract} pos:{pos}')  \n",
    "                \n",
    "                \n",
    "                \n",
    "#                 #for Small Forwards\n",
    "                \n",
    "#                 elif Position == 'SF':\n",
    "#                     pos = Position\n",
    "#                     stats = ['FT%','FG%','3P%','APG','PPG']\n",
    "#                     for x in stats:\n",
    "#                          Status = x\n",
    "                         \n",
    "#                          if x == Status:\n",
    "#                             if Status == '3P%':\n",
    "                                \n",
    "#                                     _3above = AVGSTAT(SF_25_df,Status)\n",
    "                                    \n",
    "#                                     _3avg = AVGSTAT(SF_50_df,Status)\n",
    "                                    \n",
    "#                                     _3below = AVGSTAT(SF_75_df,Status)\n",
    "                    \n",
    "#                                     _3PSTAT =CURRENTSTAT( P ,Status)\n",
    "#                                     _3P_points = ADDPOINTS( _3PSTAT,_3above , _3avg, _3below)  \n",
    "                            \n",
    "                            \n",
    "                                    \n",
    "                        \n",
    "#                          if x == Status:\n",
    "#                             if Status == 'FG%':\n",
    "                                \n",
    "#                                     FGabove = AVGSTAT(SF_25_df,Status)\n",
    "                                    \n",
    "#                                     FGavg = AVGSTAT(SF_50_df,Status)\n",
    "                                    \n",
    "#                                     FGbelow = AVGSTAT(SF_75_df,Status)\n",
    "                                    \n",
    "            \n",
    "#                                     FGSTAT =CURRENTSTAT( P ,Status)\n",
    "#                                     FG_points = ADDPOINTS( FGSTAT,  FGabove, FGavg, FGbelow)\n",
    "                            \n",
    "#                          if x == Status:           \n",
    "#                             if Status == 'FT%':\n",
    "#                                     FTGabove = AVGSTAT(SF_25_df,Status)\n",
    "                                    \n",
    "#                                     FTGavg = AVGSTAT(SF_50_df,Status)\n",
    "                                    \n",
    "#                                     FTGbelow = AVGSTAT(SF_75_df,Status)\n",
    "                                    \n",
    "                                    \n",
    "                                    \n",
    "#                                     FGSTAT =CURRENTSTAT( P ,Status) \n",
    "#                                     FG_points = ADDPOINTS( FGSTAT , FTGabove,FTGavg,FTGbelow )\n",
    "         \n",
    "#                          if x == Status:\n",
    "#                             if Status == 'APG':\n",
    "                                    \n",
    "#                                     APGabove = AVGSTAT(SF_25_df,Status)\n",
    "                                    \n",
    "#                                     APGavg = AVGSTAT(SF_50_df,Status)\n",
    "                                    \n",
    "#                                     APGbelow = AVGSTAT(SF_75_df,Status)\n",
    "                            \n",
    "#                                     APGSTAT = CURRENTSTAT( P ,Status)       \n",
    "#                                     APG_points = ADDPOINTS( APGSTAT,APGabove,APGavg,APGbelow)\n",
    "        \n",
    "         \n",
    "#                          if x == Status:\n",
    "#                              if Status == 'PPG':\n",
    "                                    \n",
    "#                                     PPGabove = AVGSTAT(SF_25_df,Status)\n",
    "                                    \n",
    "#                                     PPGavg = AVGSTAT(SF_50_df,Status)\n",
    "                                    \n",
    "#                                     PPGbelow = AVGSTAT(SF_75_df,Status)\n",
    "                                \n",
    "                                \n",
    "                                \n",
    "#                                     PPGSTAT =CURRENTSTAT( P ,Status) \n",
    "#                                     PPG_points = ADDPOINTS( PPGSTAT,PPGabove, PPGavg,PPGbelow)\n",
    "\n",
    "#                                     total = _3P_points +PPG_points +FG_points+APG_points  \n",
    "                                    \n",
    "#                                     contract = P['Contract Worth']\n",
    "                                    \n",
    "                                    \n",
    "#                                     print(f'Player has {total} points with a contract of {contract} pos:{pos}')  \n",
    "                \n",
    "#                 # for Power Forwards\n",
    "                \n",
    "#                 elif Position == 'PF':\n",
    "#                     pos = Position\n",
    "#                     stats = ['FT%','FG%','3P%','APG','PPG']\n",
    "#                     for x in stats:\n",
    "#                          Status = x\n",
    "                         \n",
    "#                          if x == Status:\n",
    "#                             if Status == '3P%':\n",
    "                                \n",
    "#                                     _3above = AVGSTAT(PF_25_df,Status)\n",
    "                                    \n",
    "#                                     _3avg = AVGSTAT(PF_50_df,Status)\n",
    "                                    \n",
    "#                                     _3below = AVGSTAT(PF_75_df,Status)\n",
    "                    \n",
    "#                                     _3PSTAT =CURRENTSTAT( P ,Status)\n",
    "#                                     _3P_points = ADDPOINTS( _3PSTAT,_3above , _3avg, _3below)  \n",
    "                            \n",
    "                            \n",
    "                                    \n",
    "                        \n",
    "#                          if x == Status:\n",
    "#                             if Status == 'FG%':\n",
    "                                \n",
    "#                                     FGabove = AVGSTAT(PF_25_df,Status)\n",
    "                                    \n",
    "#                                     FGavg = AVGSTAT(PF_50_df,Status)\n",
    "                                    \n",
    "#                                     FGbelow = AVGSTAT(PF_75_df,Status)\n",
    "                                    \n",
    "            \n",
    "#                                     FGSTAT =CURRENTSTAT( P ,Status)\n",
    "#                                     FG_points = ADDPOINTS( FGSTAT,  FGabove, FGavg, FGbelow)\n",
    "                            \n",
    "#                          if x == Status:           \n",
    "#                             if Status == 'FT%':\n",
    "#                                     FTGabove = AVGSTAT(PF_25_df,Status)\n",
    "                                    \n",
    "#                                     FTGavg = AVGSTAT(PF_50_df,Status)\n",
    "                                    \n",
    "#                                     FTGbelow = AVGSTAT(SG_75_df,Status)\n",
    "                                    \n",
    "                                    \n",
    "                                    \n",
    "#                                     FGSTAT =CURRENTSTAT( P ,Status) \n",
    "#                                     FG_points = ADDPOINTS( FGSTAT , FTGabove,FTGavg,FTGbelow )\n",
    "         \n",
    "#                          if x == Status:\n",
    "#                             if Status == 'APG':\n",
    "                                    \n",
    "#                                     APGabove = AVGSTAT(PF_25_df,Status)\n",
    "                                    \n",
    "#                                     APGavg = AVGSTAT(PF_50_df,Status)\n",
    "                                    \n",
    "#                                     APGbelow = AVGSTAT(PF_75_df,Status)\n",
    "                            \n",
    "#                                     APGSTAT = CURRENTSTAT( P ,Status)       \n",
    "#                                     APG_points = ADDPOINTS( APGSTAT,APGabove,APGavg,APGbelow)\n",
    "        \n",
    "         \n",
    "#                          if x == Status:\n",
    "#                              if Status == 'PPG':\n",
    "                                    \n",
    "#                                     PPGabove = AVGSTAT(PF_25_df,Status)\n",
    "                                    \n",
    "#                                     PPGavg = AVGSTAT(PF_50_df,Status)\n",
    "                                    \n",
    "#                                     PPGbelow = AVGSTAT(PF_75_df,Status)\n",
    "                                \n",
    "                                \n",
    "                                \n",
    "#                                     PPGSTAT =CURRENTSTAT( P ,Status) \n",
    "#                                     PPG_points = ADDPOINTS( PPGSTAT,PPGabove, PPGavg,PPGbelow)\n",
    "\n",
    "#                                     total = _3P_points +PPG_points +FG_points+APG_points  \n",
    "                                    \n",
    "#                                     contract = P['Contract Worth']\n",
    "                                    \n",
    "                                    \n",
    "#                                     print(f'Player has {total} points with a contract of {contract} pos:{pos}')  \n",
    "                 \n",
    "#                 #for centers\n",
    "                \n",
    "#                 elif Position == 'C':\n",
    "                \n",
    "#                     pos = Position\n",
    "#                     stats = ['FT%','FG%','3P%','APG','PPG']\n",
    "#                     for x in stats:\n",
    "#                          Status = x\n",
    "                         \n",
    "#                          if x == Status:\n",
    "#                             if Status == '3P%':\n",
    "                                \n",
    "#                                     _3above = AVGSTAT(C_25_df,Status)\n",
    "                                    \n",
    "#                                     _3avg = AVGSTAT(C_50_df,Status)\n",
    "                                    \n",
    "#                                     _3below = AVGSTAT(C_75_df,Status)\n",
    "                    \n",
    "#                                     _3PSTAT =CURRENTSTAT( P ,Status)\n",
    "#                                     _3P_points = ADDPOINTS( _3PSTAT,_3above , _3avg, _3below)  \n",
    "                            \n",
    "                            \n",
    "                                    \n",
    "                        \n",
    "#                          if x == Status:\n",
    "#                             if Status == 'FG%':\n",
    "                                \n",
    "#                                     FGabove = AVGSTAT(C_25_df,Status)\n",
    "                                    \n",
    "#                                     FGavg = AVGSTAT(C_50_df,Status)\n",
    "                                    \n",
    "#                                     FGbelow = AVGSTAT(C_75_df,Status)\n",
    "                                    \n",
    "            \n",
    "#                                     FGSTAT =CURRENTSTAT( P ,Status)\n",
    "#                                     FG_points = ADDPOINTS( FGSTAT,  FGabove, FGavg, FGbelow)\n",
    "                            \n",
    "#                          if x == Status:           \n",
    "#                             if Status == 'FT%':\n",
    "#                                     FTGabove = AVGSTAT(C_25_df,Status)\n",
    "                                    \n",
    "#                                     FTGavg = AVGSTAT(C_50_df,Status)\n",
    "                                    \n",
    "#                                     FTGbelow = AVGSTAT(C_75_df,Status)\n",
    "                                    \n",
    "                                    \n",
    "                                    \n",
    "#                                     FGSTAT =CURRENTSTAT( P ,Status) \n",
    "#                                     FG_points = ADDPOINTS( FGSTAT , FTGabove,FTGavg,FTGbelow )\n",
    "         \n",
    "#                          if x == Status:\n",
    "#                             if Status == 'APG':\n",
    "                                    \n",
    "#                                     APGabove = AVGSTAT(C_25_df,Status)\n",
    "                                    \n",
    "#                                     APGavg = AVGSTAT(C_50_df,Status)\n",
    "                                    \n",
    "#                                     APGbelow = AVGSTAT(C_75_df,Status)\n",
    "                            \n",
    "#                                     APGSTAT = CURRENTSTAT( P ,Status)       \n",
    "#                                     APG_points = ADDPOINTS( APGSTAT,APGabove,APGavg,APGbelow)\n",
    "        \n",
    "         \n",
    "#                          if x == Status:\n",
    "#                              if Status == 'PPG':\n",
    "                                    \n",
    "#                                     PPGabove = AVGSTAT(C_25_df,Status)\n",
    "                                    \n",
    "#                                     PPGavg = AVGSTAT(C_50_df,Status)\n",
    "                                    \n",
    "#                                     PPGbelow = AVGSTAT(C_75_df,Status)\n",
    "                                \n",
    "                                \n",
    "                                \n",
    "#                                     PPGSTAT =CURRENTSTAT( P ,Status) \n",
    "#                                     PPG_points = ADDPOINTS( PPGSTAT,PPGabove, PPGavg,PPGbelow)\n",
    "\n",
    "#                                     total = _3P_points +PPG_points +FG_points+APG_points  \n",
    "                                    \n",
    "#                                     contract = P['Contract Worth']\n",
    "                                    \n",
    "                                    \n",
    "#                                     print(f'Player has {total} points with a contract of {contract} pos:{pos}')  \n",
    "                \n",
    "                    \n",
    "#                 else :\n",
    "#                     Print(\"No Player error\")\n",
    "        "
   ]
  },
  {
   "cell_type": "code",
   "execution_count": 91,
   "id": "0cc0be4c-c561-4246-8535-f810215c2224",
   "metadata": {},
   "outputs": [],
   "source": [
    "# Selecting columns from the dataframe for analysis\n",
    "draft_df = draft_df[['Pk','Tm','Player','College','MPG','PPG', 'RPG', 'APG','FG%', '3P%','FT%','Pos','Rk','Contract Worth']]"
   ]
  },
  {
   "cell_type": "code",
   "execution_count": 92,
   "id": "7a16617d-0883-4757-90de-6434dd78db6a",
   "metadata": {},
   "outputs": [
    {
     "data": {
      "text/html": [
       "<div>\n",
       "<style scoped>\n",
       "    .dataframe tbody tr th:only-of-type {\n",
       "        vertical-align: middle;\n",
       "    }\n",
       "\n",
       "    .dataframe tbody tr th {\n",
       "        vertical-align: top;\n",
       "    }\n",
       "\n",
       "    .dataframe thead th {\n",
       "        text-align: right;\n",
       "    }\n",
       "</style>\n",
       "<table border=\"1\" class=\"dataframe\">\n",
       "  <thead>\n",
       "    <tr style=\"text-align: right;\">\n",
       "      <th></th>\n",
       "      <th>Pk</th>\n",
       "      <th>Tm</th>\n",
       "      <th>Player</th>\n",
       "      <th>College</th>\n",
       "      <th>MPG</th>\n",
       "      <th>PPG</th>\n",
       "      <th>RPG</th>\n",
       "      <th>APG</th>\n",
       "      <th>FG%</th>\n",
       "      <th>3P%</th>\n",
       "      <th>FT%</th>\n",
       "      <th>Pos</th>\n",
       "      <th>Rk</th>\n",
       "      <th>Contract Worth</th>\n",
       "    </tr>\n",
       "    <tr>\n",
       "      <th>DraftYear</th>\n",
       "      <th></th>\n",
       "      <th></th>\n",
       "      <th></th>\n",
       "      <th></th>\n",
       "      <th></th>\n",
       "      <th></th>\n",
       "      <th></th>\n",
       "      <th></th>\n",
       "      <th></th>\n",
       "      <th></th>\n",
       "      <th></th>\n",
       "      <th></th>\n",
       "      <th></th>\n",
       "      <th></th>\n",
       "    </tr>\n",
       "  </thead>\n",
       "  <tbody>\n",
       "    <tr>\n",
       "      <th>2017</th>\n",
       "      <td>1</td>\n",
       "      <td>PHI</td>\n",
       "      <td>Markelle Fultz</td>\n",
       "      <td>Washington</td>\n",
       "      <td>25.6</td>\n",
       "      <td>10.9</td>\n",
       "      <td>3.3</td>\n",
       "      <td>4.6</td>\n",
       "      <td>0.447</td>\n",
       "      <td>0.265</td>\n",
       "      <td>0.695</td>\n",
       "      <td>G</td>\n",
       "      <td>1</td>\n",
       "      <td>33727701.0</td>\n",
       "    </tr>\n",
       "    <tr>\n",
       "      <th>2017</th>\n",
       "      <td>2</td>\n",
       "      <td>LAL</td>\n",
       "      <td>Lonzo Ball</td>\n",
       "      <td>UCLA</td>\n",
       "      <td>32.5</td>\n",
       "      <td>11.9</td>\n",
       "      <td>5.7</td>\n",
       "      <td>6.2</td>\n",
       "      <td>0.400</td>\n",
       "      <td>0.364</td>\n",
       "      <td>0.578</td>\n",
       "      <td>G</td>\n",
       "      <td>2</td>\n",
       "      <td>30184438.0</td>\n",
       "    </tr>\n",
       "    <tr>\n",
       "      <th>2017</th>\n",
       "      <td>3</td>\n",
       "      <td>BOS</td>\n",
       "      <td>Jayson Tatum</td>\n",
       "      <td>Duke</td>\n",
       "      <td>33.3</td>\n",
       "      <td>20.4</td>\n",
       "      <td>6.6</td>\n",
       "      <td>2.9</td>\n",
       "      <td>0.453</td>\n",
       "      <td>0.380</td>\n",
       "      <td>0.842</td>\n",
       "      <td>F</td>\n",
       "      <td>3</td>\n",
       "      <td>27118800.0</td>\n",
       "    </tr>\n",
       "    <tr>\n",
       "      <th>2017</th>\n",
       "      <td>4</td>\n",
       "      <td>PHO</td>\n",
       "      <td>Josh Jackson</td>\n",
       "      <td>Kansas</td>\n",
       "      <td>23.6</td>\n",
       "      <td>11.5</td>\n",
       "      <td>4.1</td>\n",
       "      <td>1.9</td>\n",
       "      <td>0.417</td>\n",
       "      <td>0.293</td>\n",
       "      <td>0.679</td>\n",
       "      <td>F</td>\n",
       "      <td>4</td>\n",
       "      <td>24118800.0</td>\n",
       "    </tr>\n",
       "    <tr>\n",
       "      <th>2017</th>\n",
       "      <td>5</td>\n",
       "      <td>SAC</td>\n",
       "      <td>De'Aaron Fox</td>\n",
       "      <td>Kentucky</td>\n",
       "      <td>31.8</td>\n",
       "      <td>18.7</td>\n",
       "      <td>3.5</td>\n",
       "      <td>6.2</td>\n",
       "      <td>0.459</td>\n",
       "      <td>0.317</td>\n",
       "      <td>0.725</td>\n",
       "      <td>G</td>\n",
       "      <td>5</td>\n",
       "      <td>22157109.0</td>\n",
       "    </tr>\n",
       "    <tr>\n",
       "      <th>...</th>\n",
       "      <td>...</td>\n",
       "      <td>...</td>\n",
       "      <td>...</td>\n",
       "      <td>...</td>\n",
       "      <td>...</td>\n",
       "      <td>...</td>\n",
       "      <td>...</td>\n",
       "      <td>...</td>\n",
       "      <td>...</td>\n",
       "      <td>...</td>\n",
       "      <td>...</td>\n",
       "      <td>...</td>\n",
       "      <td>...</td>\n",
       "      <td>...</td>\n",
       "    </tr>\n",
       "    <tr>\n",
       "      <th>2021</th>\n",
       "      <td>25</td>\n",
       "      <td>LAC</td>\n",
       "      <td>Quentin Grimes</td>\n",
       "      <td>Houston</td>\n",
       "      <td>17.8</td>\n",
       "      <td>6.5</td>\n",
       "      <td>2.0</td>\n",
       "      <td>1.0</td>\n",
       "      <td>0.421</td>\n",
       "      <td>0.398</td>\n",
       "      <td>0.647</td>\n",
       "      <td>SG</td>\n",
       "      <td>25</td>\n",
       "      <td>11128162.0</td>\n",
       "    </tr>\n",
       "    <tr>\n",
       "      <th>2021</th>\n",
       "      <td>26</td>\n",
       "      <td>DEN</td>\n",
       "      <td>Bones Hyland</td>\n",
       "      <td>VCU</td>\n",
       "      <td>18.0</td>\n",
       "      <td>8.8</td>\n",
       "      <td>2.7</td>\n",
       "      <td>2.0</td>\n",
       "      <td>0.369</td>\n",
       "      <td>0.346</td>\n",
       "      <td>0.881</td>\n",
       "      <td>PG</td>\n",
       "      <td>26</td>\n",
       "      <td>10763119.0</td>\n",
       "    </tr>\n",
       "    <tr>\n",
       "      <th>2021</th>\n",
       "      <td>27</td>\n",
       "      <td>BRK</td>\n",
       "      <td>Cam Thomas</td>\n",
       "      <td>LSU</td>\n",
       "      <td>19.6</td>\n",
       "      <td>9.8</td>\n",
       "      <td>2.6</td>\n",
       "      <td>1.3</td>\n",
       "      <td>0.445</td>\n",
       "      <td>0.273</td>\n",
       "      <td>0.808</td>\n",
       "      <td>SG</td>\n",
       "      <td>27</td>\n",
       "      <td>10455512.0</td>\n",
       "    </tr>\n",
       "    <tr>\n",
       "      <th>2021</th>\n",
       "      <td>29</td>\n",
       "      <td>PHO</td>\n",
       "      <td>Day'Ron Sharpe</td>\n",
       "      <td>UNC</td>\n",
       "      <td>12.4</td>\n",
       "      <td>6.1</td>\n",
       "      <td>5.1</td>\n",
       "      <td>0.5</td>\n",
       "      <td>0.571</td>\n",
       "      <td>0.250</td>\n",
       "      <td>0.568</td>\n",
       "      <td>C</td>\n",
       "      <td>29</td>\n",
       "      <td>10317899.0</td>\n",
       "    </tr>\n",
       "    <tr>\n",
       "      <th>2021</th>\n",
       "      <td>30</td>\n",
       "      <td>UTA</td>\n",
       "      <td>Santi Aldama</td>\n",
       "      <td>Loyola (MD)</td>\n",
       "      <td>10.3</td>\n",
       "      <td>3.3</td>\n",
       "      <td>2.4</td>\n",
       "      <td>0.5</td>\n",
       "      <td>0.381</td>\n",
       "      <td>0.103</td>\n",
       "      <td>0.600</td>\n",
       "      <td>F/C</td>\n",
       "      <td>30</td>\n",
       "      <td>10243491.0</td>\n",
       "    </tr>\n",
       "  </tbody>\n",
       "</table>\n",
       "<p>127 rows × 14 columns</p>\n",
       "</div>"
      ],
      "text/plain": [
       "           Pk   Tm          Player      College   MPG   PPG  RPG  APG    FG%  \\\n",
       "DraftYear                                                                      \n",
       "2017        1  PHI  Markelle Fultz   Washington  25.6  10.9  3.3  4.6  0.447   \n",
       "2017        2  LAL      Lonzo Ball         UCLA  32.5  11.9  5.7  6.2  0.400   \n",
       "2017        3  BOS    Jayson Tatum         Duke  33.3  20.4  6.6  2.9  0.453   \n",
       "2017        4  PHO    Josh Jackson       Kansas  23.6  11.5  4.1  1.9  0.417   \n",
       "2017        5  SAC    De'Aaron Fox     Kentucky  31.8  18.7  3.5  6.2  0.459   \n",
       "...        ..  ...             ...          ...   ...   ...  ...  ...    ...   \n",
       "2021       25  LAC  Quentin Grimes      Houston  17.8   6.5  2.0  1.0  0.421   \n",
       "2021       26  DEN    Bones Hyland          VCU  18.0   8.8  2.7  2.0  0.369   \n",
       "2021       27  BRK      Cam Thomas          LSU  19.6   9.8  2.6  1.3  0.445   \n",
       "2021       29  PHO  Day'Ron Sharpe          UNC  12.4   6.1  5.1  0.5  0.571   \n",
       "2021       30  UTA    Santi Aldama  Loyola (MD)  10.3   3.3  2.4  0.5  0.381   \n",
       "\n",
       "             3P%    FT%  Pos  Rk  Contract Worth  \n",
       "DraftYear                                         \n",
       "2017       0.265  0.695    G   1      33727701.0  \n",
       "2017       0.364  0.578    G   2      30184438.0  \n",
       "2017       0.380  0.842    F   3      27118800.0  \n",
       "2017       0.293  0.679    F   4      24118800.0  \n",
       "2017       0.317  0.725    G   5      22157109.0  \n",
       "...          ...    ...  ...  ..             ...  \n",
       "2021       0.398  0.647   SG  25      11128162.0  \n",
       "2021       0.346  0.881   PG  26      10763119.0  \n",
       "2021       0.273  0.808   SG  27      10455512.0  \n",
       "2021       0.250  0.568    C  29      10317899.0  \n",
       "2021       0.103  0.600  F/C  30      10243491.0  \n",
       "\n",
       "[127 rows x 14 columns]"
      ]
     },
     "metadata": {},
     "output_type": "display_data"
    }
   ],
   "source": [
    "# Filter dataframe to get most recent 5 years data\n",
    "last_5_yrs_draft_df = draft_df\n",
    "\n",
    "last_5_yrs_draft_df =last_5_yrs_draft_df.sort_index()\n",
    "\n",
    "\n",
    "display(last_5_yrs_draft_df)\n",
    "\n",
    "# last_5_yrs_draft_df"
   ]
  },
  {
   "cell_type": "code",
   "execution_count": null,
   "id": "59fc47dd-f992-41ae-b851-54aa0b92f822",
   "metadata": {},
   "outputs": [],
   "source": []
  },
  {
   "cell_type": "code",
   "execution_count": null,
   "id": "fd055518-a962-44e5-aac6-77e67ffba831",
   "metadata": {},
   "outputs": [],
   "source": []
  },
  {
   "cell_type": "code",
   "execution_count": null,
   "id": "81829a04-8542-4c07-8d1e-eca140f3e236",
   "metadata": {},
   "outputs": [],
   "source": [
    "\n"
   ]
  },
  {
   "cell_type": "code",
   "execution_count": 93,
   "id": "b1ae6da1-adc3-4c78-874a-4a83be5e61e0",
   "metadata": {},
   "outputs": [
    {
     "data": {
      "text/html": [
       "<div>\n",
       "<style scoped>\n",
       "    .dataframe tbody tr th:only-of-type {\n",
       "        vertical-align: middle;\n",
       "    }\n",
       "\n",
       "    .dataframe tbody tr th {\n",
       "        vertical-align: top;\n",
       "    }\n",
       "\n",
       "    .dataframe thead th {\n",
       "        text-align: right;\n",
       "    }\n",
       "</style>\n",
       "<table border=\"1\" class=\"dataframe\">\n",
       "  <thead>\n",
       "    <tr style=\"text-align: right;\">\n",
       "      <th></th>\n",
       "      <th>Pk</th>\n",
       "      <th>Tm</th>\n",
       "      <th>Player</th>\n",
       "      <th>College</th>\n",
       "      <th>MPG</th>\n",
       "      <th>PPG</th>\n",
       "      <th>RPG</th>\n",
       "      <th>APG</th>\n",
       "      <th>FG%</th>\n",
       "      <th>3P%</th>\n",
       "      <th>FT%</th>\n",
       "      <th>Pos</th>\n",
       "      <th>Rk</th>\n",
       "      <th>Contract Worth</th>\n",
       "    </tr>\n",
       "    <tr>\n",
       "      <th>DraftYear</th>\n",
       "      <th></th>\n",
       "      <th></th>\n",
       "      <th></th>\n",
       "      <th></th>\n",
       "      <th></th>\n",
       "      <th></th>\n",
       "      <th></th>\n",
       "      <th></th>\n",
       "      <th></th>\n",
       "      <th></th>\n",
       "      <th></th>\n",
       "      <th></th>\n",
       "      <th></th>\n",
       "      <th></th>\n",
       "    </tr>\n",
       "  </thead>\n",
       "  <tbody>\n",
       "    <tr>\n",
       "      <th>2017</th>\n",
       "      <td>1</td>\n",
       "      <td>PHI</td>\n",
       "      <td>Markelle Fultz</td>\n",
       "      <td>Washington</td>\n",
       "      <td>25.6</td>\n",
       "      <td>10.9</td>\n",
       "      <td>3.3</td>\n",
       "      <td>4.6</td>\n",
       "      <td>0.447</td>\n",
       "      <td>0.265</td>\n",
       "      <td>0.695</td>\n",
       "      <td>G</td>\n",
       "      <td>1</td>\n",
       "      <td>33727701.0</td>\n",
       "    </tr>\n",
       "    <tr>\n",
       "      <th>2017</th>\n",
       "      <td>2</td>\n",
       "      <td>LAL</td>\n",
       "      <td>Lonzo Ball</td>\n",
       "      <td>UCLA</td>\n",
       "      <td>32.5</td>\n",
       "      <td>11.9</td>\n",
       "      <td>5.7</td>\n",
       "      <td>6.2</td>\n",
       "      <td>0.400</td>\n",
       "      <td>0.364</td>\n",
       "      <td>0.578</td>\n",
       "      <td>G</td>\n",
       "      <td>2</td>\n",
       "      <td>30184438.0</td>\n",
       "    </tr>\n",
       "    <tr>\n",
       "      <th>2017</th>\n",
       "      <td>3</td>\n",
       "      <td>BOS</td>\n",
       "      <td>Jayson Tatum</td>\n",
       "      <td>Duke</td>\n",
       "      <td>33.3</td>\n",
       "      <td>20.4</td>\n",
       "      <td>6.6</td>\n",
       "      <td>2.9</td>\n",
       "      <td>0.453</td>\n",
       "      <td>0.380</td>\n",
       "      <td>0.842</td>\n",
       "      <td>F</td>\n",
       "      <td>3</td>\n",
       "      <td>27118800.0</td>\n",
       "    </tr>\n",
       "    <tr>\n",
       "      <th>2017</th>\n",
       "      <td>4</td>\n",
       "      <td>PHO</td>\n",
       "      <td>Josh Jackson</td>\n",
       "      <td>Kansas</td>\n",
       "      <td>23.6</td>\n",
       "      <td>11.5</td>\n",
       "      <td>4.1</td>\n",
       "      <td>1.9</td>\n",
       "      <td>0.417</td>\n",
       "      <td>0.293</td>\n",
       "      <td>0.679</td>\n",
       "      <td>F</td>\n",
       "      <td>4</td>\n",
       "      <td>24118800.0</td>\n",
       "    </tr>\n",
       "    <tr>\n",
       "      <th>2017</th>\n",
       "      <td>5</td>\n",
       "      <td>SAC</td>\n",
       "      <td>De'Aaron Fox</td>\n",
       "      <td>Kentucky</td>\n",
       "      <td>31.8</td>\n",
       "      <td>18.7</td>\n",
       "      <td>3.5</td>\n",
       "      <td>6.2</td>\n",
       "      <td>0.459</td>\n",
       "      <td>0.317</td>\n",
       "      <td>0.725</td>\n",
       "      <td>G</td>\n",
       "      <td>5</td>\n",
       "      <td>22157109.0</td>\n",
       "    </tr>\n",
       "    <tr>\n",
       "      <th>...</th>\n",
       "      <td>...</td>\n",
       "      <td>...</td>\n",
       "      <td>...</td>\n",
       "      <td>...</td>\n",
       "      <td>...</td>\n",
       "      <td>...</td>\n",
       "      <td>...</td>\n",
       "      <td>...</td>\n",
       "      <td>...</td>\n",
       "      <td>...</td>\n",
       "      <td>...</td>\n",
       "      <td>...</td>\n",
       "      <td>...</td>\n",
       "      <td>...</td>\n",
       "    </tr>\n",
       "    <tr>\n",
       "      <th>2021</th>\n",
       "      <td>25</td>\n",
       "      <td>LAC</td>\n",
       "      <td>Quentin Grimes</td>\n",
       "      <td>Houston</td>\n",
       "      <td>17.8</td>\n",
       "      <td>6.5</td>\n",
       "      <td>2.0</td>\n",
       "      <td>1.0</td>\n",
       "      <td>0.421</td>\n",
       "      <td>0.398</td>\n",
       "      <td>0.647</td>\n",
       "      <td>SG</td>\n",
       "      <td>25</td>\n",
       "      <td>11128162.0</td>\n",
       "    </tr>\n",
       "    <tr>\n",
       "      <th>2021</th>\n",
       "      <td>26</td>\n",
       "      <td>DEN</td>\n",
       "      <td>Bones Hyland</td>\n",
       "      <td>VCU</td>\n",
       "      <td>18.0</td>\n",
       "      <td>8.8</td>\n",
       "      <td>2.7</td>\n",
       "      <td>2.0</td>\n",
       "      <td>0.369</td>\n",
       "      <td>0.346</td>\n",
       "      <td>0.881</td>\n",
       "      <td>PG</td>\n",
       "      <td>26</td>\n",
       "      <td>10763119.0</td>\n",
       "    </tr>\n",
       "    <tr>\n",
       "      <th>2021</th>\n",
       "      <td>27</td>\n",
       "      <td>BRK</td>\n",
       "      <td>Cam Thomas</td>\n",
       "      <td>LSU</td>\n",
       "      <td>19.6</td>\n",
       "      <td>9.8</td>\n",
       "      <td>2.6</td>\n",
       "      <td>1.3</td>\n",
       "      <td>0.445</td>\n",
       "      <td>0.273</td>\n",
       "      <td>0.808</td>\n",
       "      <td>SG</td>\n",
       "      <td>27</td>\n",
       "      <td>10455512.0</td>\n",
       "    </tr>\n",
       "    <tr>\n",
       "      <th>2021</th>\n",
       "      <td>29</td>\n",
       "      <td>PHO</td>\n",
       "      <td>Day'Ron Sharpe</td>\n",
       "      <td>UNC</td>\n",
       "      <td>12.4</td>\n",
       "      <td>6.1</td>\n",
       "      <td>5.1</td>\n",
       "      <td>0.5</td>\n",
       "      <td>0.571</td>\n",
       "      <td>0.250</td>\n",
       "      <td>0.568</td>\n",
       "      <td>C</td>\n",
       "      <td>29</td>\n",
       "      <td>10317899.0</td>\n",
       "    </tr>\n",
       "    <tr>\n",
       "      <th>2021</th>\n",
       "      <td>30</td>\n",
       "      <td>UTA</td>\n",
       "      <td>Santi Aldama</td>\n",
       "      <td>Loyola (MD)</td>\n",
       "      <td>10.3</td>\n",
       "      <td>3.3</td>\n",
       "      <td>2.4</td>\n",
       "      <td>0.5</td>\n",
       "      <td>0.381</td>\n",
       "      <td>0.103</td>\n",
       "      <td>0.600</td>\n",
       "      <td>F/C</td>\n",
       "      <td>30</td>\n",
       "      <td>10243491.0</td>\n",
       "    </tr>\n",
       "  </tbody>\n",
       "</table>\n",
       "<p>127 rows × 14 columns</p>\n",
       "</div>"
      ],
      "text/plain": [
       "           Pk   Tm          Player      College   MPG   PPG  RPG  APG    FG%  \\\n",
       "DraftYear                                                                      \n",
       "2017        1  PHI  Markelle Fultz   Washington  25.6  10.9  3.3  4.6  0.447   \n",
       "2017        2  LAL      Lonzo Ball         UCLA  32.5  11.9  5.7  6.2  0.400   \n",
       "2017        3  BOS    Jayson Tatum         Duke  33.3  20.4  6.6  2.9  0.453   \n",
       "2017        4  PHO    Josh Jackson       Kansas  23.6  11.5  4.1  1.9  0.417   \n",
       "2017        5  SAC    De'Aaron Fox     Kentucky  31.8  18.7  3.5  6.2  0.459   \n",
       "...        ..  ...             ...          ...   ...   ...  ...  ...    ...   \n",
       "2021       25  LAC  Quentin Grimes      Houston  17.8   6.5  2.0  1.0  0.421   \n",
       "2021       26  DEN    Bones Hyland          VCU  18.0   8.8  2.7  2.0  0.369   \n",
       "2021       27  BRK      Cam Thomas          LSU  19.6   9.8  2.6  1.3  0.445   \n",
       "2021       29  PHO  Day'Ron Sharpe          UNC  12.4   6.1  5.1  0.5  0.571   \n",
       "2021       30  UTA    Santi Aldama  Loyola (MD)  10.3   3.3  2.4  0.5  0.381   \n",
       "\n",
       "             3P%    FT%  Pos  Rk  Contract Worth  \n",
       "DraftYear                                         \n",
       "2017       0.265  0.695    G   1      33727701.0  \n",
       "2017       0.364  0.578    G   2      30184438.0  \n",
       "2017       0.380  0.842    F   3      27118800.0  \n",
       "2017       0.293  0.679    F   4      24118800.0  \n",
       "2017       0.317  0.725    G   5      22157109.0  \n",
       "...          ...    ...  ...  ..             ...  \n",
       "2021       0.398  0.647   SG  25      11128162.0  \n",
       "2021       0.346  0.881   PG  26      10763119.0  \n",
       "2021       0.273  0.808   SG  27      10455512.0  \n",
       "2021       0.250  0.568    C  29      10317899.0  \n",
       "2021       0.103  0.600  F/C  30      10243491.0  \n",
       "\n",
       "[127 rows x 14 columns]"
      ]
     },
     "execution_count": 93,
     "metadata": {},
     "output_type": "execute_result"
    }
   ],
   "source": [
    "draft_df\n"
   ]
  },
  {
   "cell_type": "code",
   "execution_count": 94,
   "id": "39434be6-5c74-43fe-b827-74eb514ceb78",
   "metadata": {},
   "outputs": [],
   "source": [
    "# Creating a 'school' dataframe by selecting 'Pk' and 'College' columns\n",
    "\n",
    "school = last_5_yrs_1_rnd_draft_df[['Pk','College']]"
   ]
  },
  {
   "cell_type": "code",
   "execution_count": 95,
   "id": "30f25c37-541c-43c7-8366-e25b38cb7df1",
   "metadata": {},
   "outputs": [],
   "source": [
    "# Selecting columns from the dataframe for analysis\n",
    "# # Using the read_csv function and Path module, create a DataFrame by importing the draft-data-20-years.csv file\n",
    "draft_df = pd.read_csv(Path('./Resources/draft-data-20-years-pos-contract.csv'),\n",
    "                       index_col = 'DraftYear', \n",
    "                       parse_dates=False, \n",
    "                       infer_datetime_format=True\n",
    ")\n"
   ]
  },
  {
   "cell_type": "code",
   "execution_count": 96,
   "id": "2e5867fb-658f-468f-8dd4-ea4a281fd129",
   "metadata": {},
   "outputs": [],
   "source": [
    "# Selecting columns from the dataframe for analysis\n",
    "draft_df = draft_df[['Pk','Tm','Player','College','DraftYr','MPG','PPG', 'RPG', 'APG','FG%', '3P%','FT%', 'Contract Worth', 'Pos','Rk']]\n",
    "\n",
    "# Filter dataframe to get most recent 5 years data\n",
    "last_5_yrs_draft_df = draft_df.loc[draft_df['DraftYr'] >= 2017]\n",
    "\n",
    "# Limit data on 1st round picks\n",
    "last_5_yrs_1_rnd_draft_df = last_5_yrs_draft_df.loc[last_5_yrs_draft_df['Pk'] <=30]"
   ]
  },
  {
   "cell_type": "markdown",
   "id": "7112ca8b-dfdd-49a2-a439-0e470aff5fea",
   "metadata": {},
   "source": [
    "\n",
    "### \n",
    "### Find rookie counts from each school and rank schools from the highest count\n",
    "###\n"
   ]
  },
  {
   "cell_type": "code",
   "execution_count": 97,
   "id": "5d8b6a51-aefd-4971-92da-474020dc59c3",
   "metadata": {},
   "outputs": [],
   "source": [
    "# Creating a 'school' dataframe by selecting 'Pk' and 'College' columns\n",
    "school = last_5_yrs_1_rnd_draft_df[['Pk','College']]"
   ]
  },
  {
   "cell_type": "code",
   "execution_count": 98,
   "id": "472d8a76-e5ef-4976-94eb-419227fa1fe6",
   "metadata": {},
   "outputs": [
    {
     "data": {
      "text/html": [
       "<div>\n",
       "<style scoped>\n",
       "    .dataframe tbody tr th:only-of-type {\n",
       "        vertical-align: middle;\n",
       "    }\n",
       "\n",
       "    .dataframe tbody tr th {\n",
       "        vertical-align: top;\n",
       "    }\n",
       "\n",
       "    .dataframe thead th {\n",
       "        text-align: right;\n",
       "    }\n",
       "</style>\n",
       "<table border=\"1\" class=\"dataframe\">\n",
       "  <thead>\n",
       "    <tr style=\"text-align: right;\">\n",
       "      <th></th>\n",
       "      <th>Pk</th>\n",
       "      <th>College</th>\n",
       "    </tr>\n",
       "    <tr>\n",
       "      <th>DraftYear</th>\n",
       "      <th></th>\n",
       "      <th></th>\n",
       "    </tr>\n",
       "  </thead>\n",
       "  <tbody>\n",
       "    <tr>\n",
       "      <th>2017</th>\n",
       "      <td>1</td>\n",
       "      <td>Washington</td>\n",
       "    </tr>\n",
       "    <tr>\n",
       "      <th>2017</th>\n",
       "      <td>2</td>\n",
       "      <td>UCLA</td>\n",
       "    </tr>\n",
       "    <tr>\n",
       "      <th>2017</th>\n",
       "      <td>3</td>\n",
       "      <td>Duke</td>\n",
       "    </tr>\n",
       "    <tr>\n",
       "      <th>2017</th>\n",
       "      <td>4</td>\n",
       "      <td>Kansas</td>\n",
       "    </tr>\n",
       "    <tr>\n",
       "      <th>2017</th>\n",
       "      <td>5</td>\n",
       "      <td>Kentucky</td>\n",
       "    </tr>\n",
       "  </tbody>\n",
       "</table>\n",
       "</div>"
      ],
      "text/plain": [
       "           Pk     College\n",
       "DraftYear                \n",
       "2017        1  Washington\n",
       "2017        2        UCLA\n",
       "2017        3        Duke\n",
       "2017        4      Kansas\n",
       "2017        5    Kentucky"
      ]
     },
     "execution_count": 98,
     "metadata": {},
     "output_type": "execute_result"
    }
   ],
   "source": [
    "# Review school dataframe\n",
    "school.head()"
   ]
  },
  {
   "cell_type": "code",
   "execution_count": 99,
   "id": "1ed053ca-78cf-41d2-b205-26bf3e160ba6",
   "metadata": {},
   "outputs": [
    {
     "data": {
      "text/html": [
       "<div>\n",
       "<style scoped>\n",
       "    .dataframe tbody tr th:only-of-type {\n",
       "        vertical-align: middle;\n",
       "    }\n",
       "\n",
       "    .dataframe tbody tr th {\n",
       "        vertical-align: top;\n",
       "    }\n",
       "\n",
       "    .dataframe thead th {\n",
       "        text-align: right;\n",
       "    }\n",
       "</style>\n",
       "<table border=\"1\" class=\"dataframe\">\n",
       "  <thead>\n",
       "    <tr style=\"text-align: right;\">\n",
       "      <th></th>\n",
       "      <th>Picks</th>\n",
       "    </tr>\n",
       "    <tr>\n",
       "      <th>College</th>\n",
       "      <th></th>\n",
       "    </tr>\n",
       "  </thead>\n",
       "  <tbody>\n",
       "    <tr>\n",
       "      <th>Kentucky</th>\n",
       "      <td>11</td>\n",
       "    </tr>\n",
       "    <tr>\n",
       "      <th>Duke</th>\n",
       "      <td>10</td>\n",
       "    </tr>\n",
       "    <tr>\n",
       "      <th>UNC</th>\n",
       "      <td>7</td>\n",
       "    </tr>\n",
       "    <tr>\n",
       "      <th>Florida State</th>\n",
       "      <td>5</td>\n",
       "    </tr>\n",
       "    <tr>\n",
       "      <th>Villanova</th>\n",
       "      <td>5</td>\n",
       "    </tr>\n",
       "  </tbody>\n",
       "</table>\n",
       "</div>"
      ],
      "text/plain": [
       "               Picks\n",
       "College             \n",
       "Kentucky          11\n",
       "Duke              10\n",
       "UNC                7\n",
       "Florida State      5\n",
       "Villanova          5"
      ]
     },
     "execution_count": 99,
     "metadata": {},
     "output_type": "execute_result"
    }
   ],
   "source": [
    "# Create a school_rookie_count series by selecting the 'College' column and counting how many times each school has appeared in the school dataframe\n",
    "school_rookie_count = school[['College']].value_counts(sort=True, ascending=False)\n",
    "# Change the series to dataframe and name the values 'Picks'(how many picks came from each school during 2017-2021)\n",
    "school_rookie_count_df = school_rookie_count.to_frame(name='Picks')\n",
    "# Review the school_rookie_count_df dataframe\n",
    "school_rookie_count_df.head()"
   ]
  },
  {
   "cell_type": "code",
   "execution_count": 100,
   "id": "50af2507-aed0-47db-9d77-2fb6efbc6a34",
   "metadata": {},
   "outputs": [
    {
     "data": {},
     "metadata": {},
     "output_type": "display_data"
    },
    {
     "data": {
      "application/vnd.holoviews_exec.v0+json": "",
      "text/html": [
       "<div id='1287'>\n",
       "\n",
       "\n",
       "\n",
       "\n",
       "\n",
       "  <div class=\"bk-root\" id=\"0bd7eb63-f34d-4735-8383-46a229f84d3e\" data-root-id=\"1287\"></div>\n",
       "</div>\n",
       "<script type=\"application/javascript\">(function(root) {\n",
       "  function embed_document(root) {\n",
       "    var docs_json = {\"843c44d0-8610-4c6f-b682-bec90439f92f\":{\"defs\":[{\"extends\":null,\"module\":null,\"name\":\"ReactiveHTML1\",\"overrides\":[],\"properties\":[]},{\"extends\":null,\"module\":null,\"name\":\"FlexBox1\",\"overrides\":[],\"properties\":[{\"default\":\"flex-start\",\"kind\":null,\"name\":\"align_content\"},{\"default\":\"flex-start\",\"kind\":null,\"name\":\"align_items\"},{\"default\":\"row\",\"kind\":null,\"name\":\"flex_direction\"},{\"default\":\"wrap\",\"kind\":null,\"name\":\"flex_wrap\"},{\"default\":\"flex-start\",\"kind\":null,\"name\":\"justify_content\"}]},{\"extends\":null,\"module\":null,\"name\":\"TemplateActions1\",\"overrides\":[],\"properties\":[{\"default\":0,\"kind\":null,\"name\":\"open_modal\"},{\"default\":0,\"kind\":null,\"name\":\"close_modal\"}]},{\"extends\":null,\"module\":null,\"name\":\"MaterialTemplateActions1\",\"overrides\":[],\"properties\":[{\"default\":0,\"kind\":null,\"name\":\"open_modal\"},{\"default\":0,\"kind\":null,\"name\":\"close_modal\"}]}],\"roots\":{\"references\":[{\"attributes\":{\"bottom\":{\"value\":0},\"fill_alpha\":{\"value\":1.0},\"fill_color\":{\"value\":\"#30a2da\"},\"hatch_alpha\":{\"value\":1.0},\"hatch_color\":{\"value\":\"#30a2da\"},\"hatch_scale\":{\"value\":12.0},\"hatch_weight\":{\"value\":1.0},\"line_alpha\":{\"value\":1.0},\"line_cap\":{\"value\":\"butt\"},\"line_color\":{\"value\":\"black\"},\"line_dash\":{\"value\":[]},\"line_dash_offset\":{\"value\":0},\"line_join\":{\"value\":\"bevel\"},\"line_width\":{\"value\":1},\"top\":{\"field\":\"Picks\"},\"width\":{\"value\":0.8},\"x\":{\"field\":\"College\"}},\"id\":\"1330\",\"type\":\"VBar\"},{\"attributes\":{\"fill_alpha\":{\"value\":0.2},\"fill_color\":{\"value\":\"#30a2da\"},\"hatch_alpha\":{\"value\":0.2},\"hatch_color\":{\"value\":\"#30a2da\"},\"line_alpha\":{\"value\":0.2},\"top\":{\"field\":\"Picks\"},\"width\":{\"value\":0.8},\"x\":{\"field\":\"College\"}},\"id\":\"1327\",\"type\":\"VBar\"},{\"attributes\":{\"margin\":[5,5,5,5],\"name\":\"HSpacer02034\",\"sizing_mode\":\"stretch_width\"},\"id\":\"1357\",\"type\":\"Spacer\"},{\"attributes\":{\"coordinates\":null,\"group\":null,\"text\":\"Number Of NBA Picks From Each College 2017-2021\",\"text_color\":\"black\",\"text_font_size\":\"12pt\"},\"id\":\"1293\",\"type\":\"Title\"},{\"attributes\":{\"source\":{\"id\":\"1321\"}},\"id\":\"1329\",\"type\":\"CDSView\"},{\"attributes\":{},\"id\":\"1305\",\"type\":\"BasicTicker\"},{\"attributes\":{},\"id\":\"1344\",\"type\":\"UnionRenderers\"},{\"attributes\":{\"below\":[{\"id\":\"1301\"}],\"center\":[{\"id\":\"1303\"},{\"id\":\"1307\"}],\"height\":300,\"left\":[{\"id\":\"1304\"}],\"margin\":[5,5,5,5],\"min_border_bottom\":10,\"min_border_left\":10,\"min_border_right\":10,\"min_border_top\":10,\"renderers\":[{\"id\":\"1328\"}],\"sizing_mode\":\"fixed\",\"title\":{\"id\":\"1293\"},\"toolbar\":{\"id\":\"1314\"},\"width\":700,\"x_range\":{\"id\":\"1289\"},\"x_scale\":{\"id\":\"1297\"},\"y_range\":{\"id\":\"1290\"},\"y_scale\":{\"id\":\"1299\"}},\"id\":\"1292\",\"subtype\":\"Figure\",\"type\":\"Plot\"},{\"attributes\":{},\"id\":\"1297\",\"type\":\"CategoricalScale\"},{\"attributes\":{\"tools\":[{\"id\":\"1291\"},{\"id\":\"1308\"},{\"id\":\"1309\"},{\"id\":\"1310\"},{\"id\":\"1311\"},{\"id\":\"1312\"}]},\"id\":\"1314\",\"type\":\"Toolbar\"},{\"attributes\":{},\"id\":\"1333\",\"type\":\"AllLabels\"},{\"attributes\":{},\"id\":\"1299\",\"type\":\"LinearScale\"},{\"attributes\":{\"data\":{\"College\":[\"Kentucky\",\"Duke\",\"UNC\",\"Florida State\",\"Villanova\",\"Gonzaga\",\"Michigan\",\"Washington\",\"Texas\",\"Arizona\",\"Virginia\",\"USC\",\"UCLA\",\"Tennessee\",\"Oregon\",\"Alabama\",\"Memphis\",\"Michigan State\",\"Indiana\",\"Kansas\",\"Texas Tech\",\"Auburn\",\"Vanderbilt\",\"Maryland\",\"Cincinnati\",\"Boston College\",\"Texas A&M\",\"Boise State\",\"UConn\",\"Belmont\",\"Georgia\",\"Baylor\",\"Utah\",\"Syracuse\",\"VCU\",\"Arkansas\",\"Virginia Tech\",\"Wake Forest\",\"Arizona State\",\"TCU\",\"Purdue\",\"Stanford\",\"Miami (FL)\",\"Florida\",\"Houston\",\"Iowa State\",\"Dayton\",\"LSU\",\"Louisville\",\"Loyola (MD)\",\"Creighton\",\"San Diego State\",\"Missouri\",\"Murray State\",\"NC State\",\"Oklahoma\",\"Oklahoma State\",\"Colorado\",\"Georgia Tech\",\"Wichita State\"],\"Picks\":[11,10,7,5,5,5,4,4,4,4,3,3,3,3,3,3,2,2,2,2,2,2,2,2,1,1,1,1,1,1,1,1,1,1,1,1,1,1,1,1,1,1,1,1,1,1,1,1,1,1,1,1,1,1,1,1,1,1,1,1]},\"selected\":{\"id\":\"1322\"},\"selection_policy\":{\"id\":\"1344\"}},\"id\":\"1321\",\"type\":\"ColumnDataSource\"},{\"attributes\":{\"factors\":[\"Kentucky\",\"Duke\",\"UNC\",\"Florida State\",\"Villanova\",\"Gonzaga\",\"Michigan\",\"Washington\",\"Texas\",\"Arizona\",\"Virginia\",\"USC\",\"UCLA\",\"Tennessee\",\"Oregon\",\"Alabama\",\"Memphis\",\"Michigan State\",\"Indiana\",\"Kansas\",\"Texas Tech\",\"Auburn\",\"Vanderbilt\",\"Maryland\",\"Cincinnati\",\"Boston College\",\"Texas A&M\",\"Boise State\",\"UConn\",\"Belmont\",\"Georgia\",\"Baylor\",\"Utah\",\"Syracuse\",\"VCU\",\"Arkansas\",\"Virginia Tech\",\"Wake Forest\",\"Arizona State\",\"TCU\",\"Purdue\",\"Stanford\",\"Miami (FL)\",\"Florida\",\"Houston\",\"Iowa State\",\"Dayton\",\"LSU\",\"Louisville\",\"Loyola (MD)\",\"Creighton\",\"San Diego State\",\"Missouri\",\"Murray State\",\"NC State\",\"Oklahoma\",\"Oklahoma State\",\"Colorado\",\"Georgia Tech\",\"Wichita State\"],\"tags\":[[[\"College\",\"College\",null]]]},\"id\":\"1289\",\"type\":\"FactorRange\"},{\"attributes\":{},\"id\":\"1310\",\"type\":\"WheelZoomTool\"},{\"attributes\":{\"callback\":null,\"renderers\":[{\"id\":\"1328\"}],\"tags\":[\"hv_created\"],\"tooltips\":[[\"College\",\"@{College}\"],[\"Picks\",\"@{Picks}\"]]},\"id\":\"1291\",\"type\":\"HoverTool\"},{\"attributes\":{},\"id\":\"1322\",\"type\":\"Selection\"},{\"attributes\":{},\"id\":\"1332\",\"type\":\"CategoricalTickFormatter\"},{\"attributes\":{\"bottom_units\":\"screen\",\"coordinates\":null,\"fill_alpha\":0.5,\"fill_color\":\"lightgrey\",\"group\":null,\"left_units\":\"screen\",\"level\":\"overlay\",\"line_alpha\":1.0,\"line_color\":\"black\",\"line_dash\":[4,4],\"line_width\":2,\"right_units\":\"screen\",\"syncable\":false,\"top_units\":\"screen\"},\"id\":\"1313\",\"type\":\"BoxAnnotation\"},{\"attributes\":{},\"id\":\"1308\",\"type\":\"SaveTool\"},{\"attributes\":{\"axis\":{\"id\":\"1304\"},\"coordinates\":null,\"dimension\":1,\"grid_line_color\":null,\"group\":null,\"ticker\":null},\"id\":\"1307\",\"type\":\"Grid\"},{\"attributes\":{\"margin\":[5,5,5,5],\"name\":\"HSpacer02033\",\"sizing_mode\":\"stretch_width\"},\"id\":\"1288\",\"type\":\"Spacer\"},{\"attributes\":{\"fill_color\":{\"value\":\"#30a2da\"},\"hatch_color\":{\"value\":\"#30a2da\"},\"top\":{\"field\":\"Picks\"},\"width\":{\"value\":0.8},\"x\":{\"field\":\"College\"}},\"id\":\"1324\",\"type\":\"VBar\"},{\"attributes\":{\"coordinates\":null,\"data_source\":{\"id\":\"1321\"},\"glyph\":{\"id\":\"1324\"},\"group\":null,\"hover_glyph\":{\"id\":\"1326\"},\"muted_glyph\":{\"id\":\"1327\"},\"nonselection_glyph\":{\"id\":\"1325\"},\"selection_glyph\":{\"id\":\"1330\"},\"view\":{\"id\":\"1329\"}},\"id\":\"1328\",\"type\":\"GlyphRenderer\"},{\"attributes\":{\"axis_label\":\"Number of Picks\",\"coordinates\":null,\"formatter\":{\"id\":\"1335\"},\"group\":null,\"major_label_policy\":{\"id\":\"1336\"},\"ticker\":{\"id\":\"1305\"}},\"id\":\"1304\",\"type\":\"LinearAxis\"},{\"attributes\":{},\"id\":\"1335\",\"type\":\"BasicTickFormatter\"},{\"attributes\":{},\"id\":\"1312\",\"type\":\"ResetTool\"},{\"attributes\":{},\"id\":\"1309\",\"type\":\"PanTool\"},{\"attributes\":{\"axis\":{\"id\":\"1301\"},\"coordinates\":null,\"grid_line_color\":null,\"group\":null,\"ticker\":null},\"id\":\"1303\",\"type\":\"Grid\"},{\"attributes\":{},\"id\":\"1336\",\"type\":\"AllLabels\"},{\"attributes\":{\"children\":[{\"id\":\"1288\"},{\"id\":\"1292\"},{\"id\":\"1357\"}],\"margin\":[0,0,0,0],\"name\":\"Row02029\",\"tags\":[\"embedded\"]},\"id\":\"1287\",\"type\":\"Row\"},{\"attributes\":{\"overlay\":{\"id\":\"1313\"}},\"id\":\"1311\",\"type\":\"BoxZoomTool\"},{\"attributes\":{\"fill_color\":{\"value\":\"orange\"},\"hatch_color\":{\"value\":\"orange\"},\"line_color\":{\"value\":\"orange\"},\"top\":{\"field\":\"Picks\"},\"width\":{\"value\":0.8},\"x\":{\"field\":\"College\"}},\"id\":\"1326\",\"type\":\"VBar\"},{\"attributes\":{\"end\":12.0,\"reset_end\":12.0,\"reset_start\":0.0,\"tags\":[[[\"Picks\",\"Picks\",null]]]},\"id\":\"1290\",\"type\":\"Range1d\"},{\"attributes\":{\"fill_alpha\":{\"value\":0.1},\"fill_color\":{\"value\":\"#30a2da\"},\"hatch_alpha\":{\"value\":0.1},\"hatch_color\":{\"value\":\"#30a2da\"},\"line_alpha\":{\"value\":0.1},\"top\":{\"field\":\"Picks\"},\"width\":{\"value\":0.8},\"x\":{\"field\":\"College\"}},\"id\":\"1325\",\"type\":\"VBar\"},{\"attributes\":{},\"id\":\"1302\",\"type\":\"CategoricalTicker\"},{\"attributes\":{\"axis_label\":\"College\",\"coordinates\":null,\"formatter\":{\"id\":\"1332\"},\"group\":null,\"major_label_orientation\":1.5707963267948966,\"major_label_policy\":{\"id\":\"1333\"},\"ticker\":{\"id\":\"1302\"}},\"id\":\"1301\",\"type\":\"CategoricalAxis\"}],\"root_ids\":[\"1287\"]},\"title\":\"Bokeh Application\",\"version\":\"2.4.2\"}};\n",
       "    var render_items = [{\"docid\":\"843c44d0-8610-4c6f-b682-bec90439f92f\",\"root_ids\":[\"1287\"],\"roots\":{\"1287\":\"0bd7eb63-f34d-4735-8383-46a229f84d3e\"}}];\n",
       "    root.Bokeh.embed.embed_items_notebook(docs_json, render_items);\n",
       "  }\n",
       "  if (root.Bokeh !== undefined && root.Bokeh.Panel !== undefined) {\n",
       "    embed_document(root);\n",
       "  } else {\n",
       "    var attempts = 0;\n",
       "    var timer = setInterval(function(root) {\n",
       "      if (root.Bokeh !== undefined && root.Bokeh.Panel !== undefined) {\n",
       "        clearInterval(timer);\n",
       "        embed_document(root);\n",
       "      } else if (document.readyState == \"complete\") {\n",
       "        attempts++;\n",
       "        if (attempts > 200) {\n",
       "          clearInterval(timer);\n",
       "          console.log(\"Bokeh: ERROR: Unable to run BokehJS code because BokehJS library is missing\");\n",
       "        }\n",
       "      }\n",
       "    }, 25, root)\n",
       "  }\n",
       "})(window);</script>"
      ],
      "text/plain": [
       ":Bars   [College]   (Picks)"
      ]
     },
     "execution_count": 100,
     "metadata": {
      "application/vnd.holoviews_exec.v0+json": {
       "id": "1287"
      }
     },
     "output_type": "execute_result"
    }
   ],
   "source": [
    "# Use hvplot to create bar visualization of school_rookie_count_df dataframe\n",
    "school_rookie_count_df.hvplot.bar(\n",
    "        title = 'Number Of NBA Picks From Each College 2017-2021',\n",
    "        ylabel = 'Number of Picks',\n",
    "        rot = 90,\n",
    "        hover_color = 'orange'\n",
    ")"
   ]
  },
  {
   "cell_type": "markdown",
   "id": "4154b795-5af8-4d31-bf03-9bedb4342e2c",
   "metadata": {},
   "source": [
    "###\n",
    "### Choose schools to see how many players were picked from each school and their pick rank from 2017 - 2021\n",
    "###"
   ]
  },
  {
   "cell_type": "code",
   "execution_count": 101,
   "id": "898678c7-852f-4c4e-9c70-fd9729345496",
   "metadata": {},
   "outputs": [
    {
     "data": {},
     "metadata": {},
     "output_type": "display_data"
    },
    {
     "data": {
      "application/vnd.holoviews_exec.v0+json": "",
      "text/html": [
       "<div id='1409'>\n",
       "\n",
       "\n",
       "\n",
       "\n",
       "\n",
       "  <div class=\"bk-root\" id=\"6b2e5762-f4ea-407a-b00d-ab9a9d4ccc4c\" data-root-id=\"1409\"></div>\n",
       "</div>\n",
       "<script type=\"application/javascript\">(function(root) {\n",
       "  function embed_document(root) {\n",
       "    var docs_json = {\"1e56c544-fd8f-47a7-9f7c-7cac6d7b5dbc\":{\"defs\":[{\"extends\":null,\"module\":null,\"name\":\"ReactiveHTML1\",\"overrides\":[],\"properties\":[]},{\"extends\":null,\"module\":null,\"name\":\"FlexBox1\",\"overrides\":[],\"properties\":[{\"default\":\"flex-start\",\"kind\":null,\"name\":\"align_content\"},{\"default\":\"flex-start\",\"kind\":null,\"name\":\"align_items\"},{\"default\":\"row\",\"kind\":null,\"name\":\"flex_direction\"},{\"default\":\"wrap\",\"kind\":null,\"name\":\"flex_wrap\"},{\"default\":\"flex-start\",\"kind\":null,\"name\":\"justify_content\"}]},{\"extends\":null,\"module\":null,\"name\":\"TemplateActions1\",\"overrides\":[],\"properties\":[{\"default\":0,\"kind\":null,\"name\":\"open_modal\"},{\"default\":0,\"kind\":null,\"name\":\"close_modal\"}]},{\"extends\":null,\"module\":null,\"name\":\"MaterialTemplateActions1\",\"overrides\":[],\"properties\":[{\"default\":0,\"kind\":null,\"name\":\"open_modal\"},{\"default\":0,\"kind\":null,\"name\":\"close_modal\"}]}],\"roots\":{\"references\":[{\"attributes\":{},\"id\":\"1458\",\"type\":\"AllLabels\"},{\"attributes\":{\"margin\":[20,20,20,20],\"min_width\":250,\"options\":[\"Washington\",\"UCLA\",\"Duke\",\"Kansas\",\"Kentucky\",\"Florida State\",\"Arizona\",\"nan\",\"NC State\",\"Gonzaga\",\"Louisville\",\"UNC\",\"Creighton\",\"Michigan\",\"Wake Forest\",\"Texas\",\"Indiana\",\"Syracuse\",\"Purdue\",\"Utah\",\"Colorado\",\"Villanova\",\"Michigan State\",\"Oklahoma\",\"Alabama\",\"Boston College\",\"Missouri\",\"Oregon\",\"Texas Tech\",\"Miami (FL)\",\"Maryland\",\"Georgia Tech\",\"Boise State\",\"Wichita State\",\"Texas A&M\",\"Cincinnati\",\"Murray State\",\"Virginia\",\"Vanderbilt\",\"Auburn\",\"Virginia Tech\",\"Tennessee\",\"Belmont\",\"USC\",\"Georgia\",\"Memphis\",\"Dayton\",\"Iowa State\",\"San Diego State\",\"TCU\",\"Oklahoma State\",\"Baylor\",\"Stanford\",\"UConn\",\"Arkansas\",\"Florida\",\"Arizona State\",\"Houston\",\"VCU\",\"LSU\",\"Loyola (MD)\"],\"title\":\"College\",\"value\":\"Washington\",\"width\":250},\"id\":\"1489\",\"type\":\"Select\"},{\"attributes\":{\"children\":[{\"id\":\"1489\"}],\"css_classes\":[\"panel-widget-box\"],\"margin\":[5,5,5,5],\"name\":\"WidgetBox02127\"},\"id\":\"1488\",\"type\":\"Column\"},{\"attributes\":{},\"id\":\"1454\",\"type\":\"BasicTickFormatter\"},{\"attributes\":{},\"id\":\"1445\",\"type\":\"Selection\"},{\"attributes\":{\"fill_alpha\":{\"value\":0.1},\"fill_color\":{\"value\":\"#30a2da\"},\"hatch_alpha\":{\"value\":0.1},\"hatch_color\":{\"value\":\"#30a2da\"},\"line_alpha\":{\"value\":0.1},\"line_color\":{\"value\":\"#30a2da\"},\"size\":{\"value\":5.477225575051661},\"x\":{\"field\":\"DraftYear\"},\"y\":{\"field\":\"Pk\"}},\"id\":\"1448\",\"type\":\"Scatter\"},{\"attributes\":{},\"id\":\"1431\",\"type\":\"SaveTool\"},{\"attributes\":{\"margin\":[5,5,5,5],\"name\":\"VSpacer02132\",\"sizing_mode\":\"stretch_height\"},\"id\":\"1487\",\"type\":\"Spacer\"},{\"attributes\":{\"data\":{\"DraftYear\":[2017,2019,2020,2020],\"Pk\":[1,20,16,28]},\"selected\":{\"id\":\"1445\"},\"selection_policy\":{\"id\":\"1472\"}},\"id\":\"1444\",\"type\":\"ColumnDataSource\"},{\"attributes\":{},\"id\":\"1457\",\"type\":\"BasicTickFormatter\"},{\"attributes\":{},\"id\":\"1419\",\"type\":\"LinearScale\"},{\"attributes\":{\"children\":[{\"id\":\"1410\"},{\"id\":\"1414\"},{\"id\":\"1485\"},{\"id\":\"1486\"}],\"margin\":[0,0,0,0],\"name\":\"Row02126\"},\"id\":\"1409\",\"type\":\"Row\"},{\"attributes\":{\"callback\":null,\"renderers\":[{\"id\":\"1450\"}],\"tags\":[\"hv_created\"],\"tooltips\":[[\"DraftYear\",\"@{DraftYear}\"],[\"Pk\",\"@{Pk}\"]]},\"id\":\"1413\",\"type\":\"HoverTool\"},{\"attributes\":{},\"id\":\"1432\",\"type\":\"PanTool\"},{\"attributes\":{},\"id\":\"1433\",\"type\":\"WheelZoomTool\"},{\"attributes\":{},\"id\":\"1421\",\"type\":\"LinearScale\"},{\"attributes\":{\"below\":[{\"id\":\"1423\"}],\"center\":[{\"id\":\"1426\"},{\"id\":\"1430\"}],\"height\":300,\"left\":[{\"id\":\"1427\"}],\"margin\":[5,5,5,5],\"min_border_bottom\":10,\"min_border_left\":10,\"min_border_right\":10,\"min_border_top\":10,\"renderers\":[{\"id\":\"1450\"}],\"sizing_mode\":\"fixed\",\"title\":{\"id\":\"1415\"},\"toolbar\":{\"id\":\"1437\"},\"width\":700,\"x_range\":{\"id\":\"1411\"},\"x_scale\":{\"id\":\"1419\"},\"y_range\":{\"id\":\"1412\"},\"y_scale\":{\"id\":\"1421\"}},\"id\":\"1414\",\"subtype\":\"Figure\",\"type\":\"Plot\"},{\"attributes\":{\"end\":30.7,\"reset_end\":30.7,\"reset_start\":-1.7000000000000002,\"start\":-1.7000000000000002,\"tags\":[[[\"Pk\",\"Pk\",null]]]},\"id\":\"1412\",\"type\":\"Range1d\"},{\"attributes\":{\"overlay\":{\"id\":\"1436\"}},\"id\":\"1434\",\"type\":\"BoxZoomTool\"},{\"attributes\":{\"coordinates\":null,\"group\":null,\"text\":\"Drafted NBA Players Pick Number and Their Colleges 2017-2021\",\"text_color\":\"black\",\"text_font_size\":\"12pt\"},\"id\":\"1415\",\"type\":\"Title\"},{\"attributes\":{\"margin\":[5,5,5,5],\"name\":\"VSpacer02133\",\"sizing_mode\":\"stretch_height\"},\"id\":\"1490\",\"type\":\"Spacer\"},{\"attributes\":{\"source\":{\"id\":\"1444\"}},\"id\":\"1451\",\"type\":\"CDSView\"},{\"attributes\":{\"margin\":[5,5,5,5],\"name\":\"HSpacer02136\",\"sizing_mode\":\"stretch_width\"},\"id\":\"1485\",\"type\":\"Spacer\"},{\"attributes\":{\"tools\":[{\"id\":\"1413\"},{\"id\":\"1431\"},{\"id\":\"1432\"},{\"id\":\"1433\"},{\"id\":\"1434\"},{\"id\":\"1435\"}]},\"id\":\"1437\",\"type\":\"Toolbar\"},{\"attributes\":{},\"id\":\"1435\",\"type\":\"ResetTool\"},{\"attributes\":{\"client_comm_id\":\"25ffb4cfb72a457caa0686920f3a6c1b\",\"comm_id\":\"4ede31e7f7af4fbd876108186a12f69f\",\"plot_id\":\"1409\"},\"id\":\"1521\",\"type\":\"panel.models.comm_manager.CommManager\"},{\"attributes\":{\"axis\":{\"id\":\"1427\"},\"coordinates\":null,\"dimension\":1,\"grid_line_color\":null,\"group\":null,\"ticker\":null},\"id\":\"1430\",\"type\":\"Grid\"},{\"attributes\":{\"bottom_units\":\"screen\",\"coordinates\":null,\"fill_alpha\":0.5,\"fill_color\":\"lightgrey\",\"group\":null,\"left_units\":\"screen\",\"level\":\"overlay\",\"line_alpha\":1.0,\"line_color\":\"black\",\"line_dash\":[4,4],\"line_width\":2,\"right_units\":\"screen\",\"syncable\":false,\"top_units\":\"screen\"},\"id\":\"1436\",\"type\":\"BoxAnnotation\"},{\"attributes\":{},\"id\":\"1424\",\"type\":\"BasicTicker\"},{\"attributes\":{},\"id\":\"1472\",\"type\":\"UnionRenderers\"},{\"attributes\":{\"angle\":{\"value\":0.0},\"fill_alpha\":{\"value\":1.0},\"fill_color\":{\"value\":\"#30a2da\"},\"hatch_alpha\":{\"value\":1.0},\"hatch_color\":{\"value\":\"#30a2da\"},\"hatch_scale\":{\"value\":12.0},\"hatch_weight\":{\"value\":1.0},\"line_alpha\":{\"value\":1.0},\"line_cap\":{\"value\":\"butt\"},\"line_color\":{\"value\":\"#30a2da\"},\"line_dash\":{\"value\":[]},\"line_dash_offset\":{\"value\":0},\"line_join\":{\"value\":\"bevel\"},\"line_width\":{\"value\":1},\"marker\":{\"value\":\"circle\"},\"size\":{\"value\":5.477225575051661},\"x\":{\"field\":\"DraftYear\"},\"y\":{\"field\":\"Pk\"}},\"id\":\"1452\",\"type\":\"Scatter\"},{\"attributes\":{\"axis_label\":\"Draft Year\",\"coordinates\":null,\"formatter\":{\"id\":\"1454\"},\"group\":null,\"major_label_policy\":{\"id\":\"1455\"},\"ticker\":{\"id\":\"1424\"}},\"id\":\"1423\",\"type\":\"LinearAxis\"},{\"attributes\":{\"fill_color\":{\"value\":\"#30a2da\"},\"hatch_color\":{\"value\":\"#30a2da\"},\"line_color\":{\"value\":\"#30a2da\"},\"size\":{\"value\":5.477225575051661},\"x\":{\"field\":\"DraftYear\"},\"y\":{\"field\":\"Pk\"}},\"id\":\"1447\",\"type\":\"Scatter\"},{\"attributes\":{\"axis\":{\"id\":\"1423\"},\"coordinates\":null,\"grid_line_color\":null,\"group\":null,\"ticker\":null},\"id\":\"1426\",\"type\":\"Grid\"},{\"attributes\":{},\"id\":\"1428\",\"type\":\"BasicTicker\"},{\"attributes\":{\"axis_label\":\"Pick number\",\"coordinates\":null,\"formatter\":{\"id\":\"1457\"},\"group\":null,\"major_label_policy\":{\"id\":\"1458\"},\"ticker\":{\"id\":\"1428\"}},\"id\":\"1427\",\"type\":\"LinearAxis\"},{\"attributes\":{\"children\":[{\"id\":\"1487\"},{\"id\":\"1488\"},{\"id\":\"1490\"}],\"margin\":[0,0,0,0],\"name\":\"Column02134\"},\"id\":\"1486\",\"type\":\"Column\"},{\"attributes\":{\"margin\":[5,5,5,5],\"name\":\"HSpacer02135\",\"sizing_mode\":\"stretch_width\"},\"id\":\"1410\",\"type\":\"Spacer\"},{\"attributes\":{\"end\":2020.1285714285714,\"reset_end\":2020.1285714285714,\"reset_start\":2016.8714285714286,\"start\":2016.8714285714286,\"tags\":[[[\"DraftYear\",\"DraftYear\",null]]]},\"id\":\"1411\",\"type\":\"Range1d\"},{\"attributes\":{\"fill_alpha\":{\"value\":0.2},\"fill_color\":{\"value\":\"#30a2da\"},\"hatch_alpha\":{\"value\":0.2},\"hatch_color\":{\"value\":\"#30a2da\"},\"line_alpha\":{\"value\":0.2},\"line_color\":{\"value\":\"#30a2da\"},\"size\":{\"value\":5.477225575051661},\"x\":{\"field\":\"DraftYear\"},\"y\":{\"field\":\"Pk\"}},\"id\":\"1449\",\"type\":\"Scatter\"},{\"attributes\":{},\"id\":\"1455\",\"type\":\"AllLabels\"},{\"attributes\":{\"coordinates\":null,\"data_source\":{\"id\":\"1444\"},\"glyph\":{\"id\":\"1447\"},\"group\":null,\"hover_glyph\":null,\"muted_glyph\":{\"id\":\"1449\"},\"nonselection_glyph\":{\"id\":\"1448\"},\"selection_glyph\":{\"id\":\"1452\"},\"view\":{\"id\":\"1451\"}},\"id\":\"1450\",\"type\":\"GlyphRenderer\"}],\"root_ids\":[\"1409\",\"1521\"]},\"title\":\"Bokeh Application\",\"version\":\"2.4.2\"}};\n",
       "    var render_items = [{\"docid\":\"1e56c544-fd8f-47a7-9f7c-7cac6d7b5dbc\",\"root_ids\":[\"1409\"],\"roots\":{\"1409\":\"6b2e5762-f4ea-407a-b00d-ab9a9d4ccc4c\"}}];\n",
       "    root.Bokeh.embed.embed_items_notebook(docs_json, render_items);\n",
       "  }\n",
       "  if (root.Bokeh !== undefined && root.Bokeh.Panel !== undefined) {\n",
       "    embed_document(root);\n",
       "  } else {\n",
       "    var attempts = 0;\n",
       "    var timer = setInterval(function(root) {\n",
       "      if (root.Bokeh !== undefined && root.Bokeh.Panel !== undefined) {\n",
       "        clearInterval(timer);\n",
       "        embed_document(root);\n",
       "      } else if (document.readyState == \"complete\") {\n",
       "        attempts++;\n",
       "        if (attempts > 200) {\n",
       "          clearInterval(timer);\n",
       "          console.log(\"Bokeh: ERROR: Unable to run BokehJS code because BokehJS library is missing\");\n",
       "        }\n",
       "      }\n",
       "    }, 25, root)\n",
       "  }\n",
       "})(window);</script>"
      ],
      "text/plain": [
       ":DynamicMap   [College]\n",
       "   :Scatter   [DraftYear]   (Pk)"
      ]
     },
     "execution_count": 101,
     "metadata": {
      "application/vnd.holoviews_exec.v0+json": {
       "id": "1409"
      }
     },
     "output_type": "execute_result"
    }
   ],
   "source": [
    "# Use hvplot to create scatter visualization of school dataframe, which shows the pick rank, number of picks from each college 2017-2021\n",
    "school.hvplot.scatter(\n",
    "    title='Drafted NBA Players Pick Number and Their Colleges 2017-2021',\n",
    "    x='DraftYear',\n",
    "    xlabel='Draft Year',\n",
    "    ylabel='Pick number',\n",
    "    groupby='College'\n",
    ")"
   ]
  },
  {
   "cell_type": "markdown",
   "id": "2edb9559-f155-43b4-a1bd-a4eabcdb8027",
   "metadata": {},
   "source": [
    "### Kentucky, Duke, and UNC have highest number of athletes got drafted. However, picks came from these schools are ranking lower each year in the draft"
   ]
  },
  {
   "cell_type": "code",
   "execution_count": 102,
   "id": "2e467fae-ec38-44bf-bf01-adc2df116d26",
   "metadata": {},
   "outputs": [
    {
     "data": {
      "text/html": [
       "<div>\n",
       "<style scoped>\n",
       "    .dataframe tbody tr th:only-of-type {\n",
       "        vertical-align: middle;\n",
       "    }\n",
       "\n",
       "    .dataframe tbody tr th {\n",
       "        vertical-align: top;\n",
       "    }\n",
       "\n",
       "    .dataframe thead th {\n",
       "        text-align: right;\n",
       "    }\n",
       "</style>\n",
       "<table border=\"1\" class=\"dataframe\">\n",
       "  <thead>\n",
       "    <tr style=\"text-align: right;\">\n",
       "      <th></th>\n",
       "      <th>Pk</th>\n",
       "      <th>Tm</th>\n",
       "      <th>Player</th>\n",
       "      <th>College</th>\n",
       "      <th>DraftYr</th>\n",
       "      <th>MPG</th>\n",
       "      <th>PPG</th>\n",
       "      <th>RPG</th>\n",
       "      <th>APG</th>\n",
       "      <th>FG%</th>\n",
       "      <th>3P%</th>\n",
       "      <th>FT%</th>\n",
       "      <th>Contract Worth</th>\n",
       "      <th>Pos</th>\n",
       "      <th>Rk</th>\n",
       "    </tr>\n",
       "    <tr>\n",
       "      <th>DraftYear</th>\n",
       "      <th></th>\n",
       "      <th></th>\n",
       "      <th></th>\n",
       "      <th></th>\n",
       "      <th></th>\n",
       "      <th></th>\n",
       "      <th></th>\n",
       "      <th></th>\n",
       "      <th></th>\n",
       "      <th></th>\n",
       "      <th></th>\n",
       "      <th></th>\n",
       "      <th></th>\n",
       "      <th></th>\n",
       "      <th></th>\n",
       "    </tr>\n",
       "  </thead>\n",
       "  <tbody>\n",
       "    <tr>\n",
       "      <th>2017</th>\n",
       "      <td>1</td>\n",
       "      <td>PHI</td>\n",
       "      <td>Markelle Fultz</td>\n",
       "      <td>Washington</td>\n",
       "      <td>2017</td>\n",
       "      <td>25.6</td>\n",
       "      <td>10.9</td>\n",
       "      <td>3.3</td>\n",
       "      <td>4.6</td>\n",
       "      <td>0.447</td>\n",
       "      <td>0.265</td>\n",
       "      <td>0.695</td>\n",
       "      <td>33727701.0</td>\n",
       "      <td>SG</td>\n",
       "      <td>1</td>\n",
       "    </tr>\n",
       "    <tr>\n",
       "      <th>2017</th>\n",
       "      <td>2</td>\n",
       "      <td>LAL</td>\n",
       "      <td>Lonzo Ball</td>\n",
       "      <td>UCLA</td>\n",
       "      <td>2017</td>\n",
       "      <td>32.5</td>\n",
       "      <td>11.9</td>\n",
       "      <td>5.7</td>\n",
       "      <td>6.2</td>\n",
       "      <td>0.400</td>\n",
       "      <td>0.364</td>\n",
       "      <td>0.578</td>\n",
       "      <td>30184438.0</td>\n",
       "      <td>PG</td>\n",
       "      <td>2</td>\n",
       "    </tr>\n",
       "    <tr>\n",
       "      <th>2017</th>\n",
       "      <td>3</td>\n",
       "      <td>BOS</td>\n",
       "      <td>Jayson Tatum</td>\n",
       "      <td>Duke</td>\n",
       "      <td>2017</td>\n",
       "      <td>33.3</td>\n",
       "      <td>20.4</td>\n",
       "      <td>6.6</td>\n",
       "      <td>2.9</td>\n",
       "      <td>0.453</td>\n",
       "      <td>0.380</td>\n",
       "      <td>0.842</td>\n",
       "      <td>27118800.0</td>\n",
       "      <td>SF</td>\n",
       "      <td>3</td>\n",
       "    </tr>\n",
       "    <tr>\n",
       "      <th>2017</th>\n",
       "      <td>4</td>\n",
       "      <td>PHO</td>\n",
       "      <td>Josh Jackson</td>\n",
       "      <td>Kansas</td>\n",
       "      <td>2017</td>\n",
       "      <td>23.6</td>\n",
       "      <td>11.5</td>\n",
       "      <td>4.1</td>\n",
       "      <td>1.9</td>\n",
       "      <td>0.417</td>\n",
       "      <td>0.293</td>\n",
       "      <td>0.679</td>\n",
       "      <td>24118800.0</td>\n",
       "      <td>SF</td>\n",
       "      <td>4</td>\n",
       "    </tr>\n",
       "    <tr>\n",
       "      <th>2017</th>\n",
       "      <td>5</td>\n",
       "      <td>SAC</td>\n",
       "      <td>De'Aaron Fox</td>\n",
       "      <td>Kentucky</td>\n",
       "      <td>2017</td>\n",
       "      <td>31.8</td>\n",
       "      <td>18.7</td>\n",
       "      <td>3.5</td>\n",
       "      <td>6.2</td>\n",
       "      <td>0.459</td>\n",
       "      <td>0.317</td>\n",
       "      <td>0.725</td>\n",
       "      <td>22157109.0</td>\n",
       "      <td>PG</td>\n",
       "      <td>5</td>\n",
       "    </tr>\n",
       "    <tr>\n",
       "      <th>...</th>\n",
       "      <td>...</td>\n",
       "      <td>...</td>\n",
       "      <td>...</td>\n",
       "      <td>...</td>\n",
       "      <td>...</td>\n",
       "      <td>...</td>\n",
       "      <td>...</td>\n",
       "      <td>...</td>\n",
       "      <td>...</td>\n",
       "      <td>...</td>\n",
       "      <td>...</td>\n",
       "      <td>...</td>\n",
       "      <td>...</td>\n",
       "      <td>...</td>\n",
       "      <td>...</td>\n",
       "    </tr>\n",
       "    <tr>\n",
       "      <th>2021</th>\n",
       "      <td>26</td>\n",
       "      <td>DEN</td>\n",
       "      <td>Bones Hyland</td>\n",
       "      <td>VCU</td>\n",
       "      <td>2021</td>\n",
       "      <td>18.0</td>\n",
       "      <td>8.8</td>\n",
       "      <td>2.7</td>\n",
       "      <td>2.0</td>\n",
       "      <td>0.369</td>\n",
       "      <td>0.346</td>\n",
       "      <td>0.881</td>\n",
       "      <td>10763119.0</td>\n",
       "      <td>PG</td>\n",
       "      <td>26</td>\n",
       "    </tr>\n",
       "    <tr>\n",
       "      <th>2021</th>\n",
       "      <td>27</td>\n",
       "      <td>BRK</td>\n",
       "      <td>Cam Thomas</td>\n",
       "      <td>LSU</td>\n",
       "      <td>2021</td>\n",
       "      <td>19.6</td>\n",
       "      <td>9.8</td>\n",
       "      <td>2.6</td>\n",
       "      <td>1.3</td>\n",
       "      <td>0.445</td>\n",
       "      <td>0.273</td>\n",
       "      <td>0.808</td>\n",
       "      <td>10455512.0</td>\n",
       "      <td>SG</td>\n",
       "      <td>27</td>\n",
       "    </tr>\n",
       "    <tr>\n",
       "      <th>2021</th>\n",
       "      <td>28</td>\n",
       "      <td>PHI</td>\n",
       "      <td>Jaden Springer</td>\n",
       "      <td>Tennessee</td>\n",
       "      <td>2021</td>\n",
       "      <td>3.0</td>\n",
       "      <td>1.0</td>\n",
       "      <td>1.0</td>\n",
       "      <td>0.0</td>\n",
       "      <td>1.000</td>\n",
       "      <td>NaN</td>\n",
       "      <td>NaN</td>\n",
       "      <td>10393940.0</td>\n",
       "      <td>SG</td>\n",
       "      <td>28</td>\n",
       "    </tr>\n",
       "    <tr>\n",
       "      <th>2021</th>\n",
       "      <td>29</td>\n",
       "      <td>PHO</td>\n",
       "      <td>Day'Ron Sharpe</td>\n",
       "      <td>UNC</td>\n",
       "      <td>2021</td>\n",
       "      <td>12.4</td>\n",
       "      <td>6.1</td>\n",
       "      <td>5.1</td>\n",
       "      <td>0.5</td>\n",
       "      <td>0.571</td>\n",
       "      <td>0.250</td>\n",
       "      <td>0.568</td>\n",
       "      <td>10317899.0</td>\n",
       "      <td>C</td>\n",
       "      <td>29</td>\n",
       "    </tr>\n",
       "    <tr>\n",
       "      <th>2021</th>\n",
       "      <td>30</td>\n",
       "      <td>UTA</td>\n",
       "      <td>Santi Aldama</td>\n",
       "      <td>Loyola (MD)</td>\n",
       "      <td>2021</td>\n",
       "      <td>10.3</td>\n",
       "      <td>3.3</td>\n",
       "      <td>2.4</td>\n",
       "      <td>0.5</td>\n",
       "      <td>0.381</td>\n",
       "      <td>0.103</td>\n",
       "      <td>0.600</td>\n",
       "      <td>10243491.0</td>\n",
       "      <td>F/C</td>\n",
       "      <td>30</td>\n",
       "    </tr>\n",
       "  </tbody>\n",
       "</table>\n",
       "<p>150 rows × 15 columns</p>\n",
       "</div>"
      ],
      "text/plain": [
       "           Pk   Tm          Player      College  DraftYr   MPG   PPG  RPG  \\\n",
       "DraftYear                                                                   \n",
       "2017        1  PHI  Markelle Fultz   Washington     2017  25.6  10.9  3.3   \n",
       "2017        2  LAL      Lonzo Ball         UCLA     2017  32.5  11.9  5.7   \n",
       "2017        3  BOS    Jayson Tatum         Duke     2017  33.3  20.4  6.6   \n",
       "2017        4  PHO    Josh Jackson       Kansas     2017  23.6  11.5  4.1   \n",
       "2017        5  SAC    De'Aaron Fox     Kentucky     2017  31.8  18.7  3.5   \n",
       "...        ..  ...             ...          ...      ...   ...   ...  ...   \n",
       "2021       26  DEN    Bones Hyland          VCU     2021  18.0   8.8  2.7   \n",
       "2021       27  BRK      Cam Thomas          LSU     2021  19.6   9.8  2.6   \n",
       "2021       28  PHI  Jaden Springer    Tennessee     2021   3.0   1.0  1.0   \n",
       "2021       29  PHO  Day'Ron Sharpe          UNC     2021  12.4   6.1  5.1   \n",
       "2021       30  UTA    Santi Aldama  Loyola (MD)     2021  10.3   3.3  2.4   \n",
       "\n",
       "           APG    FG%    3P%    FT%  Contract Worth  Pos  Rk  \n",
       "DraftYear                                                     \n",
       "2017       4.6  0.447  0.265  0.695      33727701.0   SG   1  \n",
       "2017       6.2  0.400  0.364  0.578      30184438.0   PG   2  \n",
       "2017       2.9  0.453  0.380  0.842      27118800.0   SF   3  \n",
       "2017       1.9  0.417  0.293  0.679      24118800.0   SF   4  \n",
       "2017       6.2  0.459  0.317  0.725      22157109.0   PG   5  \n",
       "...        ...    ...    ...    ...             ...  ...  ..  \n",
       "2021       2.0  0.369  0.346  0.881      10763119.0   PG  26  \n",
       "2021       1.3  0.445  0.273  0.808      10455512.0   SG  27  \n",
       "2021       0.0  1.000    NaN    NaN      10393940.0   SG  28  \n",
       "2021       0.5  0.571  0.250  0.568      10317899.0    C  29  \n",
       "2021       0.5  0.381  0.103  0.600      10243491.0  F/C  30  \n",
       "\n",
       "[150 rows x 15 columns]"
      ]
     },
     "execution_count": 102,
     "metadata": {},
     "output_type": "execute_result"
    }
   ],
   "source": [
    "# Display selected data in the dataframe\n",
    "last_5_yrs_1_rnd_draft_df"
   ]
  },
  {
   "cell_type": "markdown",
   "id": "e4e3d6af-b964-4582-ab03-d546c85d031c",
   "metadata": {},
   "source": [
    "###\n",
    "### Find correlations of each analysis aspects to contract values using a heat map\n",
    "###"
   ]
  },
  {
   "cell_type": "code",
   "execution_count": 103,
   "id": "a01b1edc-bc3b-49ca-89cf-a4310172cf18",
   "metadata": {},
   "outputs": [
    {
     "data": {
      "text/html": [
       "<div>\n",
       "<style scoped>\n",
       "    .dataframe tbody tr th:only-of-type {\n",
       "        vertical-align: middle;\n",
       "    }\n",
       "\n",
       "    .dataframe tbody tr th {\n",
       "        vertical-align: top;\n",
       "    }\n",
       "\n",
       "    .dataframe thead th {\n",
       "        text-align: right;\n",
       "    }\n",
       "</style>\n",
       "<table border=\"1\" class=\"dataframe\">\n",
       "  <thead>\n",
       "    <tr style=\"text-align: right;\">\n",
       "      <th></th>\n",
       "      <th>MPG</th>\n",
       "      <th>PPG</th>\n",
       "      <th>RPG</th>\n",
       "      <th>APG</th>\n",
       "      <th>FG%</th>\n",
       "      <th>3P%</th>\n",
       "      <th>FT%</th>\n",
       "      <th>Contract Worth</th>\n",
       "    </tr>\n",
       "  </thead>\n",
       "  <tbody>\n",
       "    <tr>\n",
       "      <th>MPG</th>\n",
       "      <td>1.000000</td>\n",
       "      <td>0.888233</td>\n",
       "      <td>0.639041</td>\n",
       "      <td>0.701885</td>\n",
       "      <td>-0.070778</td>\n",
       "      <td>0.208495</td>\n",
       "      <td>0.382971</td>\n",
       "      <td>0.530408</td>\n",
       "    </tr>\n",
       "    <tr>\n",
       "      <th>PPG</th>\n",
       "      <td>0.888233</td>\n",
       "      <td>1.000000</td>\n",
       "      <td>0.610588</td>\n",
       "      <td>0.736819</td>\n",
       "      <td>0.037639</td>\n",
       "      <td>0.230109</td>\n",
       "      <td>0.360729</td>\n",
       "      <td>0.564328</td>\n",
       "    </tr>\n",
       "    <tr>\n",
       "      <th>RPG</th>\n",
       "      <td>0.639041</td>\n",
       "      <td>0.610588</td>\n",
       "      <td>1.000000</td>\n",
       "      <td>0.310486</td>\n",
       "      <td>0.303311</td>\n",
       "      <td>-0.131163</td>\n",
       "      <td>0.011107</td>\n",
       "      <td>0.419323</td>\n",
       "    </tr>\n",
       "    <tr>\n",
       "      <th>APG</th>\n",
       "      <td>0.701885</td>\n",
       "      <td>0.736819</td>\n",
       "      <td>0.310486</td>\n",
       "      <td>1.000000</td>\n",
       "      <td>-0.148449</td>\n",
       "      <td>0.142334</td>\n",
       "      <td>0.279688</td>\n",
       "      <td>0.444316</td>\n",
       "    </tr>\n",
       "    <tr>\n",
       "      <th>FG%</th>\n",
       "      <td>-0.070778</td>\n",
       "      <td>0.037639</td>\n",
       "      <td>0.303311</td>\n",
       "      <td>-0.148449</td>\n",
       "      <td>1.000000</td>\n",
       "      <td>-0.142753</td>\n",
       "      <td>-0.326683</td>\n",
       "      <td>0.019353</td>\n",
       "    </tr>\n",
       "  </tbody>\n",
       "</table>\n",
       "</div>"
      ],
      "text/plain": [
       "          MPG       PPG       RPG       APG       FG%       3P%       FT%  \\\n",
       "MPG  1.000000  0.888233  0.639041  0.701885 -0.070778  0.208495  0.382971   \n",
       "PPG  0.888233  1.000000  0.610588  0.736819  0.037639  0.230109  0.360729   \n",
       "RPG  0.639041  0.610588  1.000000  0.310486  0.303311 -0.131163  0.011107   \n",
       "APG  0.701885  0.736819  0.310486  1.000000 -0.148449  0.142334  0.279688   \n",
       "FG% -0.070778  0.037639  0.303311 -0.148449  1.000000 -0.142753 -0.326683   \n",
       "\n",
       "     Contract Worth  \n",
       "MPG        0.530408  \n",
       "PPG        0.564328  \n",
       "RPG        0.419323  \n",
       "APG        0.444316  \n",
       "FG%        0.019353  "
      ]
     },
     "execution_count": 103,
     "metadata": {},
     "output_type": "execute_result"
    }
   ],
   "source": [
    "# Select evaluation parameters for correlation datafram and convert it to correlation dataframe\n",
    "corr_df = last_5_yrs_1_rnd_draft_df[['MPG','PPG', 'RPG', 'APG','FG%', '3P%','FT%', 'Contract Worth']].corr()\n",
    "# Review the correlation dataframe\n",
    "corr_df.head()"
   ]
  },
  {
   "cell_type": "code",
   "execution_count": 104,
   "id": "609e3bfa-6aaa-4a01-ab7c-7c69ae739f67",
   "metadata": {},
   "outputs": [
    {
     "data": {
      "text/plain": [
       "<AxesSubplot:>"
      ]
     },
     "execution_count": 104,
     "metadata": {},
     "output_type": "execute_result"
    },
    {
     "data": {
      "image/png": "[encoded data removed]",
      "text/plain": [
       "<Figure size 432x288 with 2 Axes>"
      ]
     },
     "metadata": {
      "needs_background": "light"
     },
     "output_type": "display_data"
    }
   ],
   "source": [
    "# Use Seaborn heatmap to visualize the correlations of each parameter with Contract Worth\n",
    "sns.heatmap(corr_df, vmin = -1, vmax=1, cmap='inferno')"
   ]
  },
  {
   "cell_type": "markdown",
   "id": "2a71149c-bae8-4bbd-ab90-460cd7d33a4d",
   "metadata": {},
   "source": [
    "### Discover that FG%, 3P%, and FT% are more correlated to players contract worth than other parameters. Also proves, in reality, the more points a player can score for a team the better."
   ]
  },
  {
   "cell_type": "markdown",
   "id": "bff0c38d-0e8b-48e8-bbbf-dc0b0ff83212",
   "metadata": {},
   "source": [
    "###\n",
    "\n",
    "### Filtering the dataframe even furthur down to 3 groups top 5 picks, mid 5 picks, and last 5 picks of the first round\n",
    "###"
   ]
  },
  {
   "cell_type": "code",
   "execution_count": 105,
   "id": "661b90ec-e86c-41f9-bed9-3232a4b11dd0",
   "metadata": {},
   "outputs": [
    {
     "data": {
      "text/html": [
       "<div>\n",
       "<style scoped>\n",
       "    .dataframe tbody tr th:only-of-type {\n",
       "        vertical-align: middle;\n",
       "    }\n",
       "\n",
       "    .dataframe tbody tr th {\n",
       "        vertical-align: top;\n",
       "    }\n",
       "\n",
       "    .dataframe thead th {\n",
       "        text-align: right;\n",
       "    }\n",
       "</style>\n",
       "<table border=\"1\" class=\"dataframe\">\n",
       "  <thead>\n",
       "    <tr style=\"text-align: right;\">\n",
       "      <th></th>\n",
       "      <th>Pk</th>\n",
       "      <th>Tm</th>\n",
       "      <th>Player</th>\n",
       "      <th>College</th>\n",
       "      <th>DraftYr</th>\n",
       "      <th>MPG</th>\n",
       "      <th>PPG</th>\n",
       "      <th>RPG</th>\n",
       "      <th>APG</th>\n",
       "      <th>FG%</th>\n",
       "      <th>3P%</th>\n",
       "      <th>FT%</th>\n",
       "      <th>Contract Worth</th>\n",
       "      <th>Pos</th>\n",
       "      <th>Rk</th>\n",
       "    </tr>\n",
       "    <tr>\n",
       "      <th>DraftYear</th>\n",
       "      <th></th>\n",
       "      <th></th>\n",
       "      <th></th>\n",
       "      <th></th>\n",
       "      <th></th>\n",
       "      <th></th>\n",
       "      <th></th>\n",
       "      <th></th>\n",
       "      <th></th>\n",
       "      <th></th>\n",
       "      <th></th>\n",
       "      <th></th>\n",
       "      <th></th>\n",
       "      <th></th>\n",
       "      <th></th>\n",
       "    </tr>\n",
       "  </thead>\n",
       "  <tbody>\n",
       "    <tr>\n",
       "      <th>2017</th>\n",
       "      <td>1</td>\n",
       "      <td>PHI</td>\n",
       "      <td>Markelle Fultz</td>\n",
       "      <td>Washington</td>\n",
       "      <td>2017</td>\n",
       "      <td>25.6</td>\n",
       "      <td>10.9</td>\n",
       "      <td>3.3</td>\n",
       "      <td>4.6</td>\n",
       "      <td>0.447</td>\n",
       "      <td>0.265</td>\n",
       "      <td>0.695</td>\n",
       "      <td>33727701.0</td>\n",
       "      <td>SG</td>\n",
       "      <td>1</td>\n",
       "    </tr>\n",
       "    <tr>\n",
       "      <th>2017</th>\n",
       "      <td>2</td>\n",
       "      <td>LAL</td>\n",
       "      <td>Lonzo Ball</td>\n",
       "      <td>UCLA</td>\n",
       "      <td>2017</td>\n",
       "      <td>32.5</td>\n",
       "      <td>11.9</td>\n",
       "      <td>5.7</td>\n",
       "      <td>6.2</td>\n",
       "      <td>0.400</td>\n",
       "      <td>0.364</td>\n",
       "      <td>0.578</td>\n",
       "      <td>30184438.0</td>\n",
       "      <td>PG</td>\n",
       "      <td>2</td>\n",
       "    </tr>\n",
       "    <tr>\n",
       "      <th>2017</th>\n",
       "      <td>3</td>\n",
       "      <td>BOS</td>\n",
       "      <td>Jayson Tatum</td>\n",
       "      <td>Duke</td>\n",
       "      <td>2017</td>\n",
       "      <td>33.3</td>\n",
       "      <td>20.4</td>\n",
       "      <td>6.6</td>\n",
       "      <td>2.9</td>\n",
       "      <td>0.453</td>\n",
       "      <td>0.380</td>\n",
       "      <td>0.842</td>\n",
       "      <td>27118800.0</td>\n",
       "      <td>SF</td>\n",
       "      <td>3</td>\n",
       "    </tr>\n",
       "    <tr>\n",
       "      <th>2017</th>\n",
       "      <td>4</td>\n",
       "      <td>PHO</td>\n",
       "      <td>Josh Jackson</td>\n",
       "      <td>Kansas</td>\n",
       "      <td>2017</td>\n",
       "      <td>23.6</td>\n",
       "      <td>11.5</td>\n",
       "      <td>4.1</td>\n",
       "      <td>1.9</td>\n",
       "      <td>0.417</td>\n",
       "      <td>0.293</td>\n",
       "      <td>0.679</td>\n",
       "      <td>24118800.0</td>\n",
       "      <td>SF</td>\n",
       "      <td>4</td>\n",
       "    </tr>\n",
       "    <tr>\n",
       "      <th>2017</th>\n",
       "      <td>5</td>\n",
       "      <td>SAC</td>\n",
       "      <td>De'Aaron Fox</td>\n",
       "      <td>Kentucky</td>\n",
       "      <td>2017</td>\n",
       "      <td>31.8</td>\n",
       "      <td>18.7</td>\n",
       "      <td>3.5</td>\n",
       "      <td>6.2</td>\n",
       "      <td>0.459</td>\n",
       "      <td>0.317</td>\n",
       "      <td>0.725</td>\n",
       "      <td>22157109.0</td>\n",
       "      <td>PG</td>\n",
       "      <td>5</td>\n",
       "    </tr>\n",
       "  </tbody>\n",
       "</table>\n",
       "</div>"
      ],
      "text/plain": [
       "           Pk   Tm          Player     College  DraftYr   MPG   PPG  RPG  APG  \\\n",
       "DraftYear                                                                       \n",
       "2017        1  PHI  Markelle Fultz  Washington     2017  25.6  10.9  3.3  4.6   \n",
       "2017        2  LAL      Lonzo Ball        UCLA     2017  32.5  11.9  5.7  6.2   \n",
       "2017        3  BOS    Jayson Tatum        Duke     2017  33.3  20.4  6.6  2.9   \n",
       "2017        4  PHO    Josh Jackson      Kansas     2017  23.6  11.5  4.1  1.9   \n",
       "2017        5  SAC    De'Aaron Fox    Kentucky     2017  31.8  18.7  3.5  6.2   \n",
       "\n",
       "             FG%    3P%    FT%  Contract Worth Pos  Rk  \n",
       "DraftYear                                               \n",
       "2017       0.447  0.265  0.695      33727701.0  SG   1  \n",
       "2017       0.400  0.364  0.578      30184438.0  PG   2  \n",
       "2017       0.453  0.380  0.842      27118800.0  SF   3  \n",
       "2017       0.417  0.293  0.679      24118800.0  SF   4  \n",
       "2017       0.459  0.317  0.725      22157109.0  PG   5  "
      ]
     },
     "execution_count": 105,
     "metadata": {},
     "output_type": "execute_result"
    }
   ],
   "source": [
    "# Filter the last_5_yrs_1_rnd_draft_df dataframe to get top 5 picks (Pick number 1-5) data of each year (2017-2021) and save as group_a_df\n",
    "group_a_df = last_5_yrs_1_rnd_draft_df.loc[last_5_yrs_1_rnd_draft_df['Pk'] <=5]\n",
    "# Review group A dataframe\n",
    "group_a_df.head()"
   ]
  },
  {
   "cell_type": "code",
   "execution_count": 106,
   "id": "76ddeee4-17fd-43f5-89f0-26a45920a3f5",
   "metadata": {},
   "outputs": [],
   "source": [
    "# Filter the last_5_yrs_1_rnd_draft_df dataframe to get middle 5 picks (Pick number 13-17) data of each year (2017-2021) and save as group_b_df\n",
    "group_b_df = last_5_yrs_1_rnd_draft_df.loc[(last_5_yrs_1_rnd_draft_df['Pk'] >=13) & (last_5_yrs_1_rnd_draft_df['Pk'] <=17)]"
   ]
  },
  {
   "cell_type": "code",
   "execution_count": 107,
   "id": "a7cc22ca-c613-45b0-bb32-448cf7b7be49",
   "metadata": {},
   "outputs": [],
   "source": [
    "# Filter the last_5_yrs_1_rnd_draft_df dataframe to get last 5 picks (Pick number 26-30) data of each year (2017-2021) and save as group_c_df\n",
    "group_c_df = last_5_yrs_1_rnd_draft_df.loc[last_5_yrs_1_rnd_draft_df['Pk'] >=26]"
   ]
  },
  {
   "cell_type": "markdown",
   "id": "a8d219e9-1e4a-4dd5-92e3-600c3e1e55ee",
   "metadata": {},
   "source": [
    "###\n",
    "### Deepdive into each aspects and visualize analysis using box plot\n",
    "###"
   ]
  },
  {
   "cell_type": "code",
   "execution_count": 108,
   "id": "720caab3-dc10-4fd7-9243-48282c6d3282",
   "metadata": {},
   "outputs": [
    {
     "data": {
      "text/html": [
       "<div>\n",
       "<style scoped>\n",
       "    .dataframe tbody tr th:only-of-type {\n",
       "        vertical-align: middle;\n",
       "    }\n",
       "\n",
       "    .dataframe tbody tr th {\n",
       "        vertical-align: top;\n",
       "    }\n",
       "\n",
       "    .dataframe thead th {\n",
       "        text-align: right;\n",
       "    }\n",
       "</style>\n",
       "<table border=\"1\" class=\"dataframe\">\n",
       "  <thead>\n",
       "    <tr style=\"text-align: right;\">\n",
       "      <th></th>\n",
       "      <th>Group A MPG</th>\n",
       "    </tr>\n",
       "    <tr>\n",
       "      <th>DraftYear</th>\n",
       "      <th></th>\n",
       "    </tr>\n",
       "  </thead>\n",
       "  <tbody>\n",
       "    <tr>\n",
       "      <th>2017</th>\n",
       "      <td>25.6</td>\n",
       "    </tr>\n",
       "    <tr>\n",
       "      <th>2017</th>\n",
       "      <td>32.5</td>\n",
       "    </tr>\n",
       "    <tr>\n",
       "      <th>2017</th>\n",
       "      <td>33.3</td>\n",
       "    </tr>\n",
       "    <tr>\n",
       "      <th>2017</th>\n",
       "      <td>23.6</td>\n",
       "    </tr>\n",
       "    <tr>\n",
       "      <th>2017</th>\n",
       "      <td>31.8</td>\n",
       "    </tr>\n",
       "  </tbody>\n",
       "</table>\n",
       "</div>"
      ],
      "text/plain": [
       "           Group A MPG\n",
       "DraftYear             \n",
       "2017              25.6\n",
       "2017              32.5\n",
       "2017              33.3\n",
       "2017              23.6\n",
       "2017              31.8"
      ]
     },
     "execution_count": 108,
     "metadata": {},
     "output_type": "execute_result"
    }
   ],
   "source": [
    "# Select group A MPG data: rename the column and save it into a new dataframe\n",
    "group_a_mpg = pd.DataFrame(group_a_df[['MPG']])\n",
    "group_a_mpg.rename(columns = {'MPG': 'Group A MPG'}, inplace = True)\n",
    "# Review group A MPG dataframe\n",
    "group_a_mpg.head()"
   ]
  },
  {
   "cell_type": "code",
   "execution_count": 109,
   "id": "db33ee16-1bca-40f6-8fe8-f5a3c5a500e0",
   "metadata": {},
   "outputs": [],
   "source": [
    "# Select group B MPG data: rename the column and save it into a new dataframe\n",
    "group_b_mpg = pd.DataFrame(group_b_df[['MPG']])\n",
    "group_b_mpg.rename(columns = {'MPG': 'Group B MPG'}, inplace = True)\n",
    "\n",
    "# # Select group C MPG data: rename the column and save it into a new dataframe\n",
    "group_c_mpg = pd.DataFrame(group_c_df[['MPG']])\n",
    "group_c_mpg.rename(columns = {'MPG': 'Group C MPG'}, inplace = True)"
   ]
  },
  {
   "cell_type": "code",
   "execution_count": 110,
   "id": "f8072650-6dcc-49ca-a089-f90409abbbcc",
   "metadata": {},
   "outputs": [
    {
     "data": {
      "text/html": [
       "<div>\n",
       "<style scoped>\n",
       "    .dataframe tbody tr th:only-of-type {\n",
       "        vertical-align: middle;\n",
       "    }\n",
       "\n",
       "    .dataframe tbody tr th {\n",
       "        vertical-align: top;\n",
       "    }\n",
       "\n",
       "    .dataframe thead th {\n",
       "        text-align: right;\n",
       "    }\n",
       "</style>\n",
       "<table border=\"1\" class=\"dataframe\">\n",
       "  <thead>\n",
       "    <tr style=\"text-align: right;\">\n",
       "      <th></th>\n",
       "      <th>Group A MPG</th>\n",
       "      <th>Group B MPG</th>\n",
       "      <th>Group C MPG</th>\n",
       "    </tr>\n",
       "    <tr>\n",
       "      <th>DraftYear</th>\n",
       "      <th></th>\n",
       "      <th></th>\n",
       "      <th></th>\n",
       "    </tr>\n",
       "  </thead>\n",
       "  <tbody>\n",
       "    <tr>\n",
       "      <th>2017</th>\n",
       "      <td>25.6</td>\n",
       "      <td>33.7</td>\n",
       "      <td>8.7</td>\n",
       "    </tr>\n",
       "    <tr>\n",
       "      <th>2017</th>\n",
       "      <td>32.5</td>\n",
       "      <td>28.0</td>\n",
       "      <td>30.3</td>\n",
       "    </tr>\n",
       "    <tr>\n",
       "      <th>2017</th>\n",
       "      <td>33.3</td>\n",
       "      <td>18.7</td>\n",
       "      <td>12.2</td>\n",
       "    </tr>\n",
       "    <tr>\n",
       "      <th>2017</th>\n",
       "      <td>23.6</td>\n",
       "      <td>13.5</td>\n",
       "      <td>25.8</td>\n",
       "    </tr>\n",
       "    <tr>\n",
       "      <th>2017</th>\n",
       "      <td>31.8</td>\n",
       "      <td>12.4</td>\n",
       "      <td>27.1</td>\n",
       "    </tr>\n",
       "  </tbody>\n",
       "</table>\n",
       "</div>"
      ],
      "text/plain": [
       "           Group A MPG  Group B MPG  Group C MPG\n",
       "DraftYear                                       \n",
       "2017              25.6         33.7          8.7\n",
       "2017              32.5         28.0         30.3\n",
       "2017              33.3         18.7         12.2\n",
       "2017              23.6         13.5         25.8\n",
       "2017              31.8         12.4         27.1"
      ]
     },
     "execution_count": 110,
     "metadata": {},
     "output_type": "execute_result"
    }
   ],
   "source": [
    "# Concat 3 groups MPG dataframes and save it as all_goup_mpg_df\n",
    "all_groups_mpg = [group_a_mpg, group_b_mpg, group_c_mpg]\n",
    "all_group_mpg_df = pd.concat(all_groups_mpg, axis = 1)\n",
    "# Review the dataframe\n",
    "all_group_mpg_df.head()"
   ]
  },
  {
   "cell_type": "code",
   "execution_count": 111,
   "id": "1460719e-899f-4fdc-8007-9b6031ddfc11",
   "metadata": {},
   "outputs": [
    {
     "data": {
      "text/html": [
       "<div>\n",
       "<style scoped>\n",
       "    .dataframe tbody tr th:only-of-type {\n",
       "        vertical-align: middle;\n",
       "    }\n",
       "\n",
       "    .dataframe tbody tr th {\n",
       "        vertical-align: top;\n",
       "    }\n",
       "\n",
       "    .dataframe thead th {\n",
       "        text-align: right;\n",
       "    }\n",
       "</style>\n",
       "<table border=\"1\" class=\"dataframe\">\n",
       "  <thead>\n",
       "    <tr style=\"text-align: right;\">\n",
       "      <th></th>\n",
       "      <th>Group A MPG</th>\n",
       "      <th>Group B MPG</th>\n",
       "      <th>Group C MPG</th>\n",
       "    </tr>\n",
       "  </thead>\n",
       "  <tbody>\n",
       "    <tr>\n",
       "      <th>count</th>\n",
       "      <td>25.000000</td>\n",
       "      <td>25.000000</td>\n",
       "      <td>25.000000</td>\n",
       "    </tr>\n",
       "    <tr>\n",
       "      <th>mean</th>\n",
       "      <td>30.440000</td>\n",
       "      <td>19.876000</td>\n",
       "      <td>17.516000</td>\n",
       "    </tr>\n",
       "    <tr>\n",
       "      <th>std</th>\n",
       "      <td>3.564875</td>\n",
       "      <td>6.696969</td>\n",
       "      <td>7.851416</td>\n",
       "    </tr>\n",
       "    <tr>\n",
       "      <th>min</th>\n",
       "      <td>21.400000</td>\n",
       "      <td>9.500000</td>\n",
       "      <td>3.000000</td>\n",
       "    </tr>\n",
       "    <tr>\n",
       "      <th>25%</th>\n",
       "      <td>28.200000</td>\n",
       "      <td>14.200000</td>\n",
       "      <td>10.700000</td>\n",
       "    </tr>\n",
       "    <tr>\n",
       "      <th>50%</th>\n",
       "      <td>31.700000</td>\n",
       "      <td>19.200000</td>\n",
       "      <td>17.800000</td>\n",
       "    </tr>\n",
       "    <tr>\n",
       "      <th>75%</th>\n",
       "      <td>33.000000</td>\n",
       "      <td>24.500000</td>\n",
       "      <td>25.100000</td>\n",
       "    </tr>\n",
       "    <tr>\n",
       "      <th>max</th>\n",
       "      <td>35.400000</td>\n",
       "      <td>33.700000</td>\n",
       "      <td>30.300000</td>\n",
       "    </tr>\n",
       "  </tbody>\n",
       "</table>\n",
       "</div>"
      ],
      "text/plain": [
       "       Group A MPG  Group B MPG  Group C MPG\n",
       "count    25.000000    25.000000    25.000000\n",
       "mean     30.440000    19.876000    17.516000\n",
       "std       3.564875     6.696969     7.851416\n",
       "min      21.400000     9.500000     3.000000\n",
       "25%      28.200000    14.200000    10.700000\n",
       "50%      31.700000    19.200000    17.800000\n",
       "75%      33.000000    24.500000    25.100000\n",
       "max      35.400000    33.700000    30.300000"
      ]
     },
     "execution_count": 111,
     "metadata": {},
     "output_type": "execute_result"
    }
   ],
   "source": [
    "# Get a summary of all groups MPG data\n",
    "all_group_mpg_df.describe()"
   ]
  },
  {
   "cell_type": "code",
   "execution_count": 112,
   "id": "6ad7901a-f461-4216-bed5-dea30b373a8c",
   "metadata": {},
   "outputs": [
    {
     "data": {
      "text/plain": [
       "<AxesSubplot:>"
      ]
     },
     "execution_count": 112,
     "metadata": {},
     "output_type": "execute_result"
    },
    {
     "data": {
      "image/png": "[encoded data removed]",
      "text/plain": [
       "<Figure size 432x288 with 1 Axes>"
      ]
     },
     "metadata": {
      "needs_background": "light"
     },
     "output_type": "display_data"
    }
   ],
   "source": [
    "# Visualize all groups MPG data using box plot\n",
    "all_group_mpg_df.plot.box()"
   ]
  },
  {
   "cell_type": "code",
   "execution_count": null,
   "id": "3d3f8b39-8e0c-4fb2-8c5e-7c80f80e3db4",
   "metadata": {},
   "outputs": [],
   "source": []
  },
  {
   "cell_type": "code",
   "execution_count": 113,
   "id": "43aac3c7-b6c8-49cf-b8c5-3b6d141e4c2e",
   "metadata": {},
   "outputs": [],
   "source": [
    "# Select group A PPG data: rename the column and save it into a new dataframe\n",
    "group_a_ppg = pd.DataFrame(group_a_df[['PPG']])\n",
    "group_a_ppg.rename(columns = {'PPG': 'Group A PPG'}, inplace = True)\n",
    "# Select group B PPG data: rename the column and save it into a new dataframe\n",
    "group_b_ppg = pd.DataFrame(group_b_df[['PPG']])\n",
    "group_b_ppg.rename(columns = {'PPG': 'Group B PPG'}, inplace = True)\n",
    "# Select group C PPG data: rename the column and save it into a new dataframe\n",
    "group_c_ppg = pd.DataFrame(group_c_df[['PPG']])\n",
    "group_c_ppg.rename(columns = {'PPG': 'Group C PPG'}, inplace = True)"
   ]
  },
  {
   "cell_type": "code",
   "execution_count": 114,
   "id": "0622e15a-9376-46a9-83b8-5ac92f7f9f5c",
   "metadata": {},
   "outputs": [
    {
     "data": {
      "text/html": [
       "<div>\n",
       "<style scoped>\n",
       "    .dataframe tbody tr th:only-of-type {\n",
       "        vertical-align: middle;\n",
       "    }\n",
       "\n",
       "    .dataframe tbody tr th {\n",
       "        vertical-align: top;\n",
       "    }\n",
       "\n",
       "    .dataframe thead th {\n",
       "        text-align: right;\n",
       "    }\n",
       "</style>\n",
       "<table border=\"1\" class=\"dataframe\">\n",
       "  <thead>\n",
       "    <tr style=\"text-align: right;\">\n",
       "      <th></th>\n",
       "      <th>Group A PPG</th>\n",
       "      <th>Group B PPG</th>\n",
       "      <th>Group C PPG</th>\n",
       "    </tr>\n",
       "    <tr>\n",
       "      <th>DraftYear</th>\n",
       "      <th></th>\n",
       "      <th></th>\n",
       "      <th></th>\n",
       "    </tr>\n",
       "  </thead>\n",
       "  <tbody>\n",
       "    <tr>\n",
       "      <th>2017</th>\n",
       "      <td>10.9</td>\n",
       "      <td>23.7</td>\n",
       "      <td>2.3</td>\n",
       "    </tr>\n",
       "    <tr>\n",
       "      <th>2017</th>\n",
       "      <td>11.9</td>\n",
       "      <td>13.0</td>\n",
       "      <td>15.4</td>\n",
       "    </tr>\n",
       "    <tr>\n",
       "      <th>2017</th>\n",
       "      <td>20.4</td>\n",
       "      <td>6.5</td>\n",
       "      <td>4.8</td>\n",
       "    </tr>\n",
       "    <tr>\n",
       "      <th>2017</th>\n",
       "      <td>11.5</td>\n",
       "      <td>3.9</td>\n",
       "      <td>11.6</td>\n",
       "    </tr>\n",
       "    <tr>\n",
       "      <th>2017</th>\n",
       "      <td>18.7</td>\n",
       "      <td>4.4</td>\n",
       "      <td>9.5</td>\n",
       "    </tr>\n",
       "  </tbody>\n",
       "</table>\n",
       "</div>"
      ],
      "text/plain": [
       "           Group A PPG  Group B PPG  Group C PPG\n",
       "DraftYear                                       \n",
       "2017              10.9         23.7          2.3\n",
       "2017              11.9         13.0         15.4\n",
       "2017              20.4          6.5          4.8\n",
       "2017              11.5          3.9         11.6\n",
       "2017              18.7          4.4          9.5"
      ]
     },
     "execution_count": 114,
     "metadata": {},
     "output_type": "execute_result"
    }
   ],
   "source": [
    "# Concat 3 groups PPG dataframes and save it as all_goup_ppg_df\n",
    "all_groups_ppg = [group_a_ppg, group_b_ppg, group_c_ppg]\n",
    "all_group_ppg_df = pd.concat(all_groups_ppg, axis = 1)\n",
    "# Review the dataframe\n",
    "all_group_ppg_df.head()"
   ]
  },
  {
   "cell_type": "code",
   "execution_count": 115,
   "id": "503224cb-9a55-430b-9e36-76dd5fd0b6bb",
   "metadata": {},
   "outputs": [
    {
     "data": {
      "text/html": [
       "<div>\n",
       "<style scoped>\n",
       "    .dataframe tbody tr th:only-of-type {\n",
       "        vertical-align: middle;\n",
       "    }\n",
       "\n",
       "    .dataframe tbody tr th {\n",
       "        vertical-align: top;\n",
       "    }\n",
       "\n",
       "    .dataframe thead th {\n",
       "        text-align: right;\n",
       "    }\n",
       "</style>\n",
       "<table border=\"1\" class=\"dataframe\">\n",
       "  <thead>\n",
       "    <tr style=\"text-align: right;\">\n",
       "      <th></th>\n",
       "      <th>Group A PPG</th>\n",
       "      <th>Group B PPG</th>\n",
       "      <th>Group C PPG</th>\n",
       "    </tr>\n",
       "  </thead>\n",
       "  <tbody>\n",
       "    <tr>\n",
       "      <th>count</th>\n",
       "      <td>25.000000</td>\n",
       "      <td>25.00000</td>\n",
       "      <td>25.000000</td>\n",
       "    </tr>\n",
       "    <tr>\n",
       "      <th>mean</th>\n",
       "      <td>16.096000</td>\n",
       "      <td>8.35600</td>\n",
       "      <td>7.328000</td>\n",
       "    </tr>\n",
       "    <tr>\n",
       "      <th>std</th>\n",
       "      <td>4.796047</td>\n",
       "      <td>5.02652</td>\n",
       "      <td>4.087126</td>\n",
       "    </tr>\n",
       "    <tr>\n",
       "      <th>min</th>\n",
       "      <td>9.100000</td>\n",
       "      <td>3.20000</td>\n",
       "      <td>1.000000</td>\n",
       "    </tr>\n",
       "    <tr>\n",
       "      <th>25%</th>\n",
       "      <td>12.600000</td>\n",
       "      <td>4.40000</td>\n",
       "      <td>3.800000</td>\n",
       "    </tr>\n",
       "    <tr>\n",
       "      <th>50%</th>\n",
       "      <td>15.700000</td>\n",
       "      <td>6.80000</td>\n",
       "      <td>6.800000</td>\n",
       "    </tr>\n",
       "    <tr>\n",
       "      <th>75%</th>\n",
       "      <td>18.700000</td>\n",
       "      <td>9.80000</td>\n",
       "      <td>9.800000</td>\n",
       "    </tr>\n",
       "    <tr>\n",
       "      <th>max</th>\n",
       "      <td>26.000000</td>\n",
       "      <td>23.70000</td>\n",
       "      <td>15.400000</td>\n",
       "    </tr>\n",
       "  </tbody>\n",
       "</table>\n",
       "</div>"
      ],
      "text/plain": [
       "       Group A PPG  Group B PPG  Group C PPG\n",
       "count    25.000000     25.00000    25.000000\n",
       "mean     16.096000      8.35600     7.328000\n",
       "std       4.796047      5.02652     4.087126\n",
       "min       9.100000      3.20000     1.000000\n",
       "25%      12.600000      4.40000     3.800000\n",
       "50%      15.700000      6.80000     6.800000\n",
       "75%      18.700000      9.80000     9.800000\n",
       "max      26.000000     23.70000    15.400000"
      ]
     },
     "execution_count": 115,
     "metadata": {},
     "output_type": "execute_result"
    }
   ],
   "source": [
    "# Get a summary of all groups PPG data\n",
    "all_group_ppg_df.describe()"
   ]
  },
  {
   "cell_type": "code",
   "execution_count": 116,
   "id": "29c61b9e-25c2-4cf2-b05a-3eaf7299f87a",
   "metadata": {},
   "outputs": [
    {
     "data": {
      "text/plain": [
       "<AxesSubplot:>"
      ]
     },
     "execution_count": 116,
     "metadata": {},
     "output_type": "execute_result"
    },
    {
     "data": {
      "image/png": "[encoded data removed]",
      "text/plain": [
       "<Figure size 432x288 with 1 Axes>"
      ]
     },
     "metadata": {
      "needs_background": "light"
     },
     "output_type": "display_data"
    }
   ],
   "source": [
    "# Visualize all groups PPG data using box plot\n",
    "all_group_ppg_df.plot.box()"
   ]
  },
  {
   "cell_type": "code",
   "execution_count": null,
   "id": "9a0d88af-a05e-48ff-8144-c030b4ed2696",
   "metadata": {},
   "outputs": [],
   "source": []
  },
  {
   "cell_type": "code",
   "execution_count": 117,
   "id": "b6324d02-dc71-4fcc-b295-8cf9db22d8be",
   "metadata": {},
   "outputs": [],
   "source": [
    "# Select group A RPG data: rename the column and save it into a new dataframe\n",
    "group_a_rpg = pd.DataFrame(group_a_df[['RPG']])\n",
    "group_a_rpg.rename(columns = {'RPG': 'Group A RPG'}, inplace = True)\n",
    "# Select group B RPG data: rename the column and save it into a new dataframe\n",
    "group_b_rpg = pd.DataFrame(group_b_df[['RPG']])\n",
    "group_b_rpg.rename(columns = {'RPG': 'Group B RPG'}, inplace = True)\n",
    "# Select group C RPG data: rename the column and save it into a new dataframe\n",
    "group_c_rpg = pd.DataFrame(group_c_df[['RPG']])\n",
    "group_c_rpg.rename(columns = {'RPG': 'Group C RPG'}, inplace = True)"
   ]
  },
  {
   "cell_type": "code",
   "execution_count": 118,
   "id": "4e203ad9-d3c5-414d-a91b-4f6f8236b4c1",
   "metadata": {},
   "outputs": [
    {
     "data": {
      "text/html": [
       "<div>\n",
       "<style scoped>\n",
       "    .dataframe tbody tr th:only-of-type {\n",
       "        vertical-align: middle;\n",
       "    }\n",
       "\n",
       "    .dataframe tbody tr th {\n",
       "        vertical-align: top;\n",
       "    }\n",
       "\n",
       "    .dataframe thead th {\n",
       "        text-align: right;\n",
       "    }\n",
       "</style>\n",
       "<table border=\"1\" class=\"dataframe\">\n",
       "  <thead>\n",
       "    <tr style=\"text-align: right;\">\n",
       "      <th></th>\n",
       "      <th>Group A RPG</th>\n",
       "      <th>Group B RPG</th>\n",
       "      <th>Group C RPG</th>\n",
       "    </tr>\n",
       "    <tr>\n",
       "      <th>DraftYear</th>\n",
       "      <th></th>\n",
       "      <th></th>\n",
       "      <th></th>\n",
       "    </tr>\n",
       "  </thead>\n",
       "  <tbody>\n",
       "    <tr>\n",
       "      <th>2017</th>\n",
       "      <td>3.3</td>\n",
       "      <td>4.2</td>\n",
       "      <td>2.9</td>\n",
       "    </tr>\n",
       "    <tr>\n",
       "      <th>2017</th>\n",
       "      <td>5.7</td>\n",
       "      <td>8.2</td>\n",
       "      <td>6.2</td>\n",
       "    </tr>\n",
       "    <tr>\n",
       "      <th>2017</th>\n",
       "      <td>6.6</td>\n",
       "      <td>2.5</td>\n",
       "      <td>4.5</td>\n",
       "    </tr>\n",
       "    <tr>\n",
       "      <th>2017</th>\n",
       "      <td>4.1</td>\n",
       "      <td>2.7</td>\n",
       "      <td>3.3</td>\n",
       "    </tr>\n",
       "    <tr>\n",
       "      <th>2017</th>\n",
       "      <td>3.5</td>\n",
       "      <td>3.1</td>\n",
       "      <td>5.8</td>\n",
       "    </tr>\n",
       "  </tbody>\n",
       "</table>\n",
       "</div>"
      ],
      "text/plain": [
       "           Group A RPG  Group B RPG  Group C RPG\n",
       "DraftYear                                       \n",
       "2017               3.3          4.2          2.9\n",
       "2017               5.7          8.2          6.2\n",
       "2017               6.6          2.5          4.5\n",
       "2017               4.1          2.7          3.3\n",
       "2017               3.5          3.1          5.8"
      ]
     },
     "execution_count": 118,
     "metadata": {},
     "output_type": "execute_result"
    }
   ],
   "source": [
    "# Concat 3 groups RPG dataframes and save it as all_goup_rpg_df\n",
    "all_groups_rpg = [group_a_rpg, group_b_rpg, group_c_rpg]\n",
    "all_group_rpg_df = pd.concat(all_groups_rpg, axis = 1)\n",
    "# Review the dataframe\n",
    "all_group_rpg_df.head()"
   ]
  },
  {
   "cell_type": "code",
   "execution_count": 119,
   "id": "ffbd03f0-0410-49f6-a338-229f13e6b4b1",
   "metadata": {},
   "outputs": [
    {
     "data": {
      "text/html": [
       "<div>\n",
       "<style scoped>\n",
       "    .dataframe tbody tr th:only-of-type {\n",
       "        vertical-align: middle;\n",
       "    }\n",
       "\n",
       "    .dataframe tbody tr th {\n",
       "        vertical-align: top;\n",
       "    }\n",
       "\n",
       "    .dataframe thead th {\n",
       "        text-align: right;\n",
       "    }\n",
       "</style>\n",
       "<table border=\"1\" class=\"dataframe\">\n",
       "  <thead>\n",
       "    <tr style=\"text-align: right;\">\n",
       "      <th></th>\n",
       "      <th>Group A RPG</th>\n",
       "      <th>Group B RPG</th>\n",
       "      <th>Group C RPG</th>\n",
       "    </tr>\n",
       "  </thead>\n",
       "  <tbody>\n",
       "    <tr>\n",
       "      <th>count</th>\n",
       "      <td>25.000000</td>\n",
       "      <td>25.000000</td>\n",
       "      <td>25.000000</td>\n",
       "    </tr>\n",
       "    <tr>\n",
       "      <th>mean</th>\n",
       "      <td>5.388000</td>\n",
       "      <td>3.624000</td>\n",
       "      <td>3.264000</td>\n",
       "    </tr>\n",
       "    <tr>\n",
       "      <th>std</th>\n",
       "      <td>1.990042</td>\n",
       "      <td>1.833776</td>\n",
       "      <td>1.608799</td>\n",
       "    </tr>\n",
       "    <tr>\n",
       "      <th>min</th>\n",
       "      <td>2.500000</td>\n",
       "      <td>1.200000</td>\n",
       "      <td>1.000000</td>\n",
       "    </tr>\n",
       "    <tr>\n",
       "      <th>25%</th>\n",
       "      <td>3.900000</td>\n",
       "      <td>2.300000</td>\n",
       "      <td>2.000000</td>\n",
       "    </tr>\n",
       "    <tr>\n",
       "      <th>50%</th>\n",
       "      <td>5.100000</td>\n",
       "      <td>3.100000</td>\n",
       "      <td>2.700000</td>\n",
       "    </tr>\n",
       "    <tr>\n",
       "      <th>75%</th>\n",
       "      <td>6.600000</td>\n",
       "      <td>4.600000</td>\n",
       "      <td>4.300000</td>\n",
       "    </tr>\n",
       "    <tr>\n",
       "      <th>max</th>\n",
       "      <td>10.600000</td>\n",
       "      <td>8.200000</td>\n",
       "      <td>6.400000</td>\n",
       "    </tr>\n",
       "  </tbody>\n",
       "</table>\n",
       "</div>"
      ],
      "text/plain": [
       "       Group A RPG  Group B RPG  Group C RPG\n",
       "count    25.000000    25.000000    25.000000\n",
       "mean      5.388000     3.624000     3.264000\n",
       "std       1.990042     1.833776     1.608799\n",
       "min       2.500000     1.200000     1.000000\n",
       "25%       3.900000     2.300000     2.000000\n",
       "50%       5.100000     3.100000     2.700000\n",
       "75%       6.600000     4.600000     4.300000\n",
       "max      10.600000     8.200000     6.400000"
      ]
     },
     "execution_count": 119,
     "metadata": {},
     "output_type": "execute_result"
    }
   ],
   "source": [
    "# Get a summary of all groups RPG data\n",
    "all_group_rpg_df.describe()"
   ]
  },
  {
   "cell_type": "code",
   "execution_count": 120,
   "id": "18ab785a-1296-4da3-8c5a-15fb48564c64",
   "metadata": {},
   "outputs": [
    {
     "data": {
      "text/plain": [
       "<AxesSubplot:>"
      ]
     },
     "execution_count": 120,
     "metadata": {},
     "output_type": "execute_result"
    },
    {
     "data": {
      "image/png": "[encoded data removed]",
      "text/plain": [
       "<Figure size 432x288 with 1 Axes>"
      ]
     },
     "metadata": {
      "needs_background": "light"
     },
     "output_type": "display_data"
    }
   ],
   "source": [
    "# Visualize all groups RPG data using box plot\n",
    "all_group_rpg_df.plot.box()"
   ]
  },
  {
   "cell_type": "code",
   "execution_count": null,
   "id": "c6f8b31a-fc55-4f86-a043-0bb273686ce2",
   "metadata": {},
   "outputs": [],
   "source": []
  },
  {
   "cell_type": "code",
   "execution_count": 121,
   "id": "9fa0c3ba-b9de-468f-ba18-7ab19d6c09ae",
   "metadata": {},
   "outputs": [],
   "source": [
    "# Select group A APG data: rename the column and save it into a new dataframe\n",
    "group_a_apg = pd.DataFrame(group_a_df[['APG']])\n",
    "group_a_apg.rename(columns = {'APG': 'Group A APG'}, inplace = True)\n",
    "# Select group B APG data: rename the column and save it into a new dataframe\n",
    "group_b_apg = pd.DataFrame(group_b_df[['APG']])\n",
    "group_b_apg.rename(columns = {'APG': 'Group B APG'}, inplace = True)\n",
    "# Select group C APG data: rename the column and save it into a new dataframe\n",
    "group_c_apg = pd.DataFrame(group_c_df[['APG']])\n",
    "group_c_apg.rename(columns = {'APG': 'Group C APG'}, inplace = True)"
   ]
  },
  {
   "cell_type": "code",
   "execution_count": 122,
   "id": "63125410-335b-4e6f-aa64-699846eb1324",
   "metadata": {},
   "outputs": [
    {
     "data": {
      "text/html": [
       "<div>\n",
       "<style scoped>\n",
       "    .dataframe tbody tr th:only-of-type {\n",
       "        vertical-align: middle;\n",
       "    }\n",
       "\n",
       "    .dataframe tbody tr th {\n",
       "        vertical-align: top;\n",
       "    }\n",
       "\n",
       "    .dataframe thead th {\n",
       "        text-align: right;\n",
       "    }\n",
       "</style>\n",
       "<table border=\"1\" class=\"dataframe\">\n",
       "  <thead>\n",
       "    <tr style=\"text-align: right;\">\n",
       "      <th></th>\n",
       "      <th>Group A APG</th>\n",
       "      <th>Group B APG</th>\n",
       "      <th>Group C APG</th>\n",
       "    </tr>\n",
       "    <tr>\n",
       "      <th>DraftYear</th>\n",
       "      <th></th>\n",
       "      <th></th>\n",
       "      <th></th>\n",
       "    </tr>\n",
       "  </thead>\n",
       "  <tbody>\n",
       "    <tr>\n",
       "      <th>2017</th>\n",
       "      <td>4.6</td>\n",
       "      <td>4.4</td>\n",
       "      <td>0.7</td>\n",
       "    </tr>\n",
       "    <tr>\n",
       "      <th>2017</th>\n",
       "      <td>6.2</td>\n",
       "      <td>3.5</td>\n",
       "      <td>2.1</td>\n",
       "    </tr>\n",
       "    <tr>\n",
       "      <th>2017</th>\n",
       "      <td>2.9</td>\n",
       "      <td>1.1</td>\n",
       "      <td>0.5</td>\n",
       "    </tr>\n",
       "    <tr>\n",
       "      <th>2017</th>\n",
       "      <td>1.9</td>\n",
       "      <td>0.9</td>\n",
       "      <td>3.9</td>\n",
       "    </tr>\n",
       "    <tr>\n",
       "      <th>2017</th>\n",
       "      <td>6.2</td>\n",
       "      <td>0.7</td>\n",
       "      <td>2.0</td>\n",
       "    </tr>\n",
       "  </tbody>\n",
       "</table>\n",
       "</div>"
      ],
      "text/plain": [
       "           Group A APG  Group B APG  Group C APG\n",
       "DraftYear                                       \n",
       "2017               4.6          4.4          0.7\n",
       "2017               6.2          3.5          2.1\n",
       "2017               2.9          1.1          0.5\n",
       "2017               1.9          0.9          3.9\n",
       "2017               6.2          0.7          2.0"
      ]
     },
     "execution_count": 122,
     "metadata": {},
     "output_type": "execute_result"
    }
   ],
   "source": [
    "# Concat 3 groups APG dataframes and save it as all_goup_apg_df\n",
    "all_groups_apg = [group_a_apg, group_b_apg, group_c_apg]\n",
    "all_group_apg_df = pd.concat(all_groups_apg, axis = 1)\n",
    "# Review the dataframe\n",
    "all_group_apg_df.head()"
   ]
  },
  {
   "cell_type": "code",
   "execution_count": 123,
   "id": "92f7dd6e-21b6-4c62-860b-dc2517fb6f6c",
   "metadata": {},
   "outputs": [
    {
     "data": {
      "text/html": [
       "<div>\n",
       "<style scoped>\n",
       "    .dataframe tbody tr th:only-of-type {\n",
       "        vertical-align: middle;\n",
       "    }\n",
       "\n",
       "    .dataframe tbody tr th {\n",
       "        vertical-align: top;\n",
       "    }\n",
       "\n",
       "    .dataframe thead th {\n",
       "        text-align: right;\n",
       "    }\n",
       "</style>\n",
       "<table border=\"1\" class=\"dataframe\">\n",
       "  <thead>\n",
       "    <tr style=\"text-align: right;\">\n",
       "      <th></th>\n",
       "      <th>Group A APG</th>\n",
       "      <th>Group B APG</th>\n",
       "      <th>Group C APG</th>\n",
       "    </tr>\n",
       "  </thead>\n",
       "  <tbody>\n",
       "    <tr>\n",
       "      <th>count</th>\n",
       "      <td>25.00000</td>\n",
       "      <td>25.000000</td>\n",
       "      <td>25.000000</td>\n",
       "    </tr>\n",
       "    <tr>\n",
       "      <th>mean</th>\n",
       "      <td>3.79200</td>\n",
       "      <td>1.724000</td>\n",
       "      <td>1.464000</td>\n",
       "    </tr>\n",
       "    <tr>\n",
       "      <th>std</th>\n",
       "      <td>2.38431</td>\n",
       "      <td>1.246756</td>\n",
       "      <td>1.089296</td>\n",
       "    </tr>\n",
       "    <tr>\n",
       "      <th>min</th>\n",
       "      <td>0.70000</td>\n",
       "      <td>0.300000</td>\n",
       "      <td>0.000000</td>\n",
       "    </tr>\n",
       "    <tr>\n",
       "      <th>25%</th>\n",
       "      <td>1.90000</td>\n",
       "      <td>0.900000</td>\n",
       "      <td>0.700000</td>\n",
       "    </tr>\n",
       "    <tr>\n",
       "      <th>50%</th>\n",
       "      <td>3.20000</td>\n",
       "      <td>1.200000</td>\n",
       "      <td>1.300000</td>\n",
       "    </tr>\n",
       "    <tr>\n",
       "      <th>75%</th>\n",
       "      <td>5.80000</td>\n",
       "      <td>2.300000</td>\n",
       "      <td>2.000000</td>\n",
       "    </tr>\n",
       "    <tr>\n",
       "      <th>max</th>\n",
       "      <td>8.90000</td>\n",
       "      <td>5.000000</td>\n",
       "      <td>4.500000</td>\n",
       "    </tr>\n",
       "  </tbody>\n",
       "</table>\n",
       "</div>"
      ],
      "text/plain": [
       "       Group A APG  Group B APG  Group C APG\n",
       "count     25.00000    25.000000    25.000000\n",
       "mean       3.79200     1.724000     1.464000\n",
       "std        2.38431     1.246756     1.089296\n",
       "min        0.70000     0.300000     0.000000\n",
       "25%        1.90000     0.900000     0.700000\n",
       "50%        3.20000     1.200000     1.300000\n",
       "75%        5.80000     2.300000     2.000000\n",
       "max        8.90000     5.000000     4.500000"
      ]
     },
     "execution_count": 123,
     "metadata": {},
     "output_type": "execute_result"
    }
   ],
   "source": [
    "# Get a summary of all groups APG data\n",
    "all_group_apg_df.describe()"
   ]
  },
  {
   "cell_type": "code",
   "execution_count": 124,
   "id": "5425f6b0-6ed7-4166-8469-534aebcb6d04",
   "metadata": {},
   "outputs": [
    {
     "data": {
      "text/plain": [
       "<AxesSubplot:>"
      ]
     },
     "execution_count": 124,
     "metadata": {},
     "output_type": "execute_result"
    },
    {
     "data": {
      "image/png": "[encoded data removed]",
      "text/plain": [
       "<Figure size 432x288 with 1 Axes>"
      ]
     },
     "metadata": {
      "needs_background": "light"
     },
     "output_type": "display_data"
    }
   ],
   "source": [
    "# Visualize all groups APG data using box plot\n",
    "all_group_apg_df.plot.box()"
   ]
  },
  {
   "cell_type": "code",
   "execution_count": 125,
   "id": "516a282e-1d6b-43e1-a33b-1b4ca6f4eba2",
   "metadata": {},
   "outputs": [],
   "source": [
    "# Select group A FG% data: rename the column and save it into a new dataframe\n",
    "group_a_fg = pd.DataFrame(group_a_df[['FG%']])\n",
    "group_a_fg.rename(columns = {'FG%': 'Group A FG%'}, inplace = True)\n",
    "# Select group B FG% data: rename the column and save it into a new dataframe\n",
    "group_b_fg = pd.DataFrame(group_b_df[['FG%']])\n",
    "group_b_fg.rename(columns = {'FG%': 'Group B FG%'}, inplace = True)\n",
    "# Select group C FG% data: rename the column and save it into a new dataframe\n",
    "group_c_fg = pd.DataFrame(group_c_df[['FG%']])\n",
    "group_c_fg.rename(columns = {'FG%': 'Group C FG%'}, inplace = True)"
   ]
  },
  {
   "cell_type": "code",
   "execution_count": 126,
   "id": "26f098ce-3576-402c-b182-01f3785049c4",
   "metadata": {},
   "outputs": [
    {
     "data": {
      "text/html": [
       "<div>\n",
       "<style scoped>\n",
       "    .dataframe tbody tr th:only-of-type {\n",
       "        vertical-align: middle;\n",
       "    }\n",
       "\n",
       "    .dataframe tbody tr th {\n",
       "        vertical-align: top;\n",
       "    }\n",
       "\n",
       "    .dataframe thead th {\n",
       "        text-align: right;\n",
       "    }\n",
       "</style>\n",
       "<table border=\"1\" class=\"dataframe\">\n",
       "  <thead>\n",
       "    <tr style=\"text-align: right;\">\n",
       "      <th></th>\n",
       "      <th>Group A FG%</th>\n",
       "      <th>Group B FG%</th>\n",
       "      <th>Group C FG%</th>\n",
       "    </tr>\n",
       "    <tr>\n",
       "      <th>DraftYear</th>\n",
       "      <th></th>\n",
       "      <th></th>\n",
       "      <th></th>\n",
       "    </tr>\n",
       "  </thead>\n",
       "  <tbody>\n",
       "    <tr>\n",
       "      <th>2017</th>\n",
       "      <td>0.447</td>\n",
       "      <td>0.441</td>\n",
       "      <td>0.438</td>\n",
       "    </tr>\n",
       "    <tr>\n",
       "      <th>2017</th>\n",
       "      <td>0.400</td>\n",
       "      <td>0.553</td>\n",
       "      <td>0.448</td>\n",
       "    </tr>\n",
       "    <tr>\n",
       "      <th>2017</th>\n",
       "      <td>0.453</td>\n",
       "      <td>0.426</td>\n",
       "      <td>0.635</td>\n",
       "    </tr>\n",
       "    <tr>\n",
       "      <th>2017</th>\n",
       "      <td>0.417</td>\n",
       "      <td>0.404</td>\n",
       "      <td>0.444</td>\n",
       "    </tr>\n",
       "    <tr>\n",
       "      <th>2017</th>\n",
       "      <td>0.459</td>\n",
       "      <td>0.417</td>\n",
       "      <td>0.448</td>\n",
       "    </tr>\n",
       "  </tbody>\n",
       "</table>\n",
       "</div>"
      ],
      "text/plain": [
       "           Group A FG%  Group B FG%  Group C FG%\n",
       "DraftYear                                       \n",
       "2017             0.447        0.441        0.438\n",
       "2017             0.400        0.553        0.448\n",
       "2017             0.453        0.426        0.635\n",
       "2017             0.417        0.404        0.444\n",
       "2017             0.459        0.417        0.448"
      ]
     },
     "execution_count": 126,
     "metadata": {},
     "output_type": "execute_result"
    }
   ],
   "source": [
    "# Concat 3 groups FG% dataframes and save it as all_goup_apg_df\n",
    "all_groups_fg = [group_a_fg, group_b_fg, group_c_fg]\n",
    "all_group_fg_df = pd.concat(all_groups_fg, axis = 1)\n",
    "# Review the dataframe\n",
    "all_group_fg_df.head()"
   ]
  },
  {
   "cell_type": "code",
   "execution_count": 127,
   "id": "44bf8c01-91f4-49b0-82ff-3039bce080cc",
   "metadata": {},
   "outputs": [
    {
     "data": {
      "text/html": [
       "<div>\n",
       "<style scoped>\n",
       "    .dataframe tbody tr th:only-of-type {\n",
       "        vertical-align: middle;\n",
       "    }\n",
       "\n",
       "    .dataframe tbody tr th {\n",
       "        vertical-align: top;\n",
       "    }\n",
       "\n",
       "    .dataframe thead th {\n",
       "        text-align: right;\n",
       "    }\n",
       "</style>\n",
       "<table border=\"1\" class=\"dataframe\">\n",
       "  <thead>\n",
       "    <tr style=\"text-align: right;\">\n",
       "      <th></th>\n",
       "      <th>Group A FG%</th>\n",
       "      <th>Group B FG%</th>\n",
       "      <th>Group C FG%</th>\n",
       "    </tr>\n",
       "  </thead>\n",
       "  <tbody>\n",
       "    <tr>\n",
       "      <th>count</th>\n",
       "      <td>25.000000</td>\n",
       "      <td>25.000000</td>\n",
       "      <td>25.000000</td>\n",
       "    </tr>\n",
       "    <tr>\n",
       "      <th>mean</th>\n",
       "      <td>0.456200</td>\n",
       "      <td>0.420120</td>\n",
       "      <td>0.478680</td>\n",
       "    </tr>\n",
       "    <tr>\n",
       "      <th>std</th>\n",
       "      <td>0.056193</td>\n",
       "      <td>0.053432</td>\n",
       "      <td>0.146669</td>\n",
       "    </tr>\n",
       "    <tr>\n",
       "      <th>min</th>\n",
       "      <td>0.367000</td>\n",
       "      <td>0.338000</td>\n",
       "      <td>0.337000</td>\n",
       "    </tr>\n",
       "    <tr>\n",
       "      <th>25%</th>\n",
       "      <td>0.425000</td>\n",
       "      <td>0.388000</td>\n",
       "      <td>0.404000</td>\n",
       "    </tr>\n",
       "    <tr>\n",
       "      <th>50%</th>\n",
       "      <td>0.447000</td>\n",
       "      <td>0.411000</td>\n",
       "      <td>0.438000</td>\n",
       "    </tr>\n",
       "    <tr>\n",
       "      <th>75%</th>\n",
       "      <td>0.473000</td>\n",
       "      <td>0.431000</td>\n",
       "      <td>0.464000</td>\n",
       "    </tr>\n",
       "    <tr>\n",
       "      <th>max</th>\n",
       "      <td>0.604000</td>\n",
       "      <td>0.553000</td>\n",
       "      <td>1.000000</td>\n",
       "    </tr>\n",
       "  </tbody>\n",
       "</table>\n",
       "</div>"
      ],
      "text/plain": [
       "       Group A FG%  Group B FG%  Group C FG%\n",
       "count    25.000000    25.000000    25.000000\n",
       "mean      0.456200     0.420120     0.478680\n",
       "std       0.056193     0.053432     0.146669\n",
       "min       0.367000     0.338000     0.337000\n",
       "25%       0.425000     0.388000     0.404000\n",
       "50%       0.447000     0.411000     0.438000\n",
       "75%       0.473000     0.431000     0.464000\n",
       "max       0.604000     0.553000     1.000000"
      ]
     },
     "execution_count": 127,
     "metadata": {},
     "output_type": "execute_result"
    }
   ],
   "source": [
    "# Get a summary of all groups FG% data\n",
    "all_group_fg_df.describe()"
   ]
  },
  {
   "cell_type": "code",
   "execution_count": 128,
   "id": "13e613b9-5711-4ebe-b488-54ecc3b5f0ae",
   "metadata": {},
   "outputs": [
    {
     "data": {
      "text/plain": [
       "<AxesSubplot:>"
      ]
     },
     "execution_count": 128,
     "metadata": {},
     "output_type": "execute_result"
    },
    {
     "data": {
      "image/png": "[encoded data removed]",
      "text/plain": [
       "<Figure size 432x288 with 1 Axes>"
      ]
     },
     "metadata": {
      "needs_background": "light"
     },
     "output_type": "display_data"
    }
   ],
   "source": [
    "# Visualize all groups FG% data using box plot\n",
    "all_group_fg_df.plot.box()"
   ]
  },
  {
   "cell_type": "code",
   "execution_count": 129,
   "id": "0e94c164-51a6-4ead-8a32-f74a987b9599",
   "metadata": {},
   "outputs": [],
   "source": [
    "# Select group A 3P% data: rename the column and save it into a new dataframe\n",
    "group_a_3p = pd.DataFrame(group_a_df[['3P%']])\n",
    "group_a_3p.rename(columns = {'3P%': 'Group A 3P%'}, inplace = True)\n",
    "# Select group B 3P% data: rename the column and save it into a new dataframe\n",
    "group_b_3p = pd.DataFrame(group_b_df[['3P%']])\n",
    "group_b_3p.rename(columns = {'3P%': 'Group B 3P%'}, inplace = True)\n",
    "# Select group C 3P% data: rename the column and save it into a new dataframe\n",
    "group_c_3p = pd.DataFrame(group_c_df[['3P%']])\n",
    "group_c_3p.rename(columns = {'3P%': 'Group C 3P%'}, inplace = True)"
   ]
  },
  {
   "cell_type": "code",
   "execution_count": 130,
   "id": "da0a9710-efd1-458a-b2eb-d61c19993876",
   "metadata": {},
   "outputs": [
    {
     "data": {
      "text/html": [
       "<div>\n",
       "<style scoped>\n",
       "    .dataframe tbody tr th:only-of-type {\n",
       "        vertical-align: middle;\n",
       "    }\n",
       "\n",
       "    .dataframe tbody tr th {\n",
       "        vertical-align: top;\n",
       "    }\n",
       "\n",
       "    .dataframe thead th {\n",
       "        text-align: right;\n",
       "    }\n",
       "</style>\n",
       "<table border=\"1\" class=\"dataframe\">\n",
       "  <thead>\n",
       "    <tr style=\"text-align: right;\">\n",
       "      <th></th>\n",
       "      <th>Group A 3P%</th>\n",
       "      <th>Group B 3P%</th>\n",
       "      <th>Group C 3P%</th>\n",
       "    </tr>\n",
       "    <tr>\n",
       "      <th>DraftYear</th>\n",
       "      <th></th>\n",
       "      <th></th>\n",
       "      <th></th>\n",
       "    </tr>\n",
       "  </thead>\n",
       "  <tbody>\n",
       "    <tr>\n",
       "      <th>2017</th>\n",
       "      <td>0.265</td>\n",
       "      <td>0.360</td>\n",
       "      <td>0.118</td>\n",
       "    </tr>\n",
       "    <tr>\n",
       "      <th>2017</th>\n",
       "      <td>0.364</td>\n",
       "      <td>0.146</td>\n",
       "      <td>0.338</td>\n",
       "    </tr>\n",
       "    <tr>\n",
       "      <th>2017</th>\n",
       "      <td>0.380</td>\n",
       "      <td>0.321</td>\n",
       "      <td>0.429</td>\n",
       "    </tr>\n",
       "    <tr>\n",
       "      <th>2017</th>\n",
       "      <td>0.293</td>\n",
       "      <td>0.250</td>\n",
       "      <td>0.341</td>\n",
       "    </tr>\n",
       "    <tr>\n",
       "      <th>2017</th>\n",
       "      <td>0.317</td>\n",
       "      <td>0.327</td>\n",
       "      <td>0.348</td>\n",
       "    </tr>\n",
       "  </tbody>\n",
       "</table>\n",
       "</div>"
      ],
      "text/plain": [
       "           Group A 3P%  Group B 3P%  Group C 3P%\n",
       "DraftYear                                       \n",
       "2017             0.265        0.360        0.118\n",
       "2017             0.364        0.146        0.338\n",
       "2017             0.380        0.321        0.429\n",
       "2017             0.293        0.250        0.341\n",
       "2017             0.317        0.327        0.348"
      ]
     },
     "execution_count": 130,
     "metadata": {},
     "output_type": "execute_result"
    }
   ],
   "source": [
    "# Concat 3 groups 3P% dataframes and save it as all_goup_apg_df\n",
    "all_groups_3p = [group_a_3p, group_b_3p, group_c_3p]\n",
    "all_group_3p_df = pd.concat(all_groups_3p, axis = 1)\n",
    "# Review the dataframe\n",
    "all_group_3p_df.head()"
   ]
  },
  {
   "cell_type": "code",
   "execution_count": 131,
   "id": "59e9a451-a26f-46dd-997f-6f63adbdae91",
   "metadata": {},
   "outputs": [
    {
     "data": {
      "text/html": [
       "<div>\n",
       "<style scoped>\n",
       "    .dataframe tbody tr th:only-of-type {\n",
       "        vertical-align: middle;\n",
       "    }\n",
       "\n",
       "    .dataframe tbody tr th {\n",
       "        vertical-align: top;\n",
       "    }\n",
       "\n",
       "    .dataframe thead th {\n",
       "        text-align: right;\n",
       "    }\n",
       "</style>\n",
       "<table border=\"1\" class=\"dataframe\">\n",
       "  <thead>\n",
       "    <tr style=\"text-align: right;\">\n",
       "      <th></th>\n",
       "      <th>Group A 3P%</th>\n",
       "      <th>Group B 3P%</th>\n",
       "      <th>Group C 3P%</th>\n",
       "    </tr>\n",
       "  </thead>\n",
       "  <tbody>\n",
       "    <tr>\n",
       "      <th>count</th>\n",
       "      <td>25.00000</td>\n",
       "      <td>25.000000</td>\n",
       "      <td>23.000000</td>\n",
       "    </tr>\n",
       "    <tr>\n",
       "      <th>mean</th>\n",
       "      <td>0.32224</td>\n",
       "      <td>0.312480</td>\n",
       "      <td>0.306391</td>\n",
       "    </tr>\n",
       "    <tr>\n",
       "      <th>std</th>\n",
       "      <td>0.04732</td>\n",
       "      <td>0.050867</td>\n",
       "      <td>0.106056</td>\n",
       "    </tr>\n",
       "    <tr>\n",
       "      <th>min</th>\n",
       "      <td>0.19600</td>\n",
       "      <td>0.146000</td>\n",
       "      <td>0.000000</td>\n",
       "    </tr>\n",
       "    <tr>\n",
       "      <th>25%</th>\n",
       "      <td>0.29900</td>\n",
       "      <td>0.298000</td>\n",
       "      <td>0.293500</td>\n",
       "    </tr>\n",
       "    <tr>\n",
       "      <th>50%</th>\n",
       "      <td>0.32700</td>\n",
       "      <td>0.321000</td>\n",
       "      <td>0.338000</td>\n",
       "    </tr>\n",
       "    <tr>\n",
       "      <th>75%</th>\n",
       "      <td>0.35600</td>\n",
       "      <td>0.336000</td>\n",
       "      <td>0.362500</td>\n",
       "    </tr>\n",
       "    <tr>\n",
       "      <th>max</th>\n",
       "      <td>0.39600</td>\n",
       "      <td>0.419000</td>\n",
       "      <td>0.429000</td>\n",
       "    </tr>\n",
       "  </tbody>\n",
       "</table>\n",
       "</div>"
      ],
      "text/plain": [
       "       Group A 3P%  Group B 3P%  Group C 3P%\n",
       "count     25.00000    25.000000    23.000000\n",
       "mean       0.32224     0.312480     0.306391\n",
       "std        0.04732     0.050867     0.106056\n",
       "min        0.19600     0.146000     0.000000\n",
       "25%        0.29900     0.298000     0.293500\n",
       "50%        0.32700     0.321000     0.338000\n",
       "75%        0.35600     0.336000     0.362500\n",
       "max        0.39600     0.419000     0.429000"
      ]
     },
     "execution_count": 131,
     "metadata": {},
     "output_type": "execute_result"
    }
   ],
   "source": [
    "# Get a summary of all groups 3P% data\n",
    "all_group_3p_df.describe()"
   ]
  },
  {
   "cell_type": "code",
   "execution_count": 132,
   "id": "e62a6cdb-4d72-4539-b6a3-9ed81fd04814",
   "metadata": {},
   "outputs": [
    {
     "data": {
      "text/plain": [
       "<AxesSubplot:>"
      ]
     },
     "execution_count": 132,
     "metadata": {},
     "output_type": "execute_result"
    },
    {
     "data": {
      "image/png": "[encoded data removed]",
      "text/plain": [
       "<Figure size 432x288 with 1 Axes>"
      ]
     },
     "metadata": {
      "needs_background": "light"
     },
     "output_type": "display_data"
    }
   ],
   "source": [
    "# Visualize all groups 3P% data using box plot\n",
    "all_group_3p_df.plot.box()"
   ]
  },
  {
   "cell_type": "code",
   "execution_count": 133,
   "id": "c36c7441-2c6b-46a9-9ec5-3dd88e57cc33",
   "metadata": {},
   "outputs": [],
   "source": [
    "# Select group A FT% data: rename the column and save it into a new dataframe\n",
    "group_a_ft = pd.DataFrame(group_a_df[['FT%']])\n",
    "group_a_ft.rename(columns = {'FT%': 'Group A FT%'}, inplace = True)\n",
    "# Select group B 3P% data: rename the column and save it into a new dataframe\n",
    "group_b_ft = pd.DataFrame(group_b_df[['FT%']])\n",
    "group_b_ft.rename(columns = {'FT%': 'Group B FT%'}, inplace = True)\n",
    "# Select group C 3P% data: rename the column and save it into a new dataframe\n",
    "group_c_ft = pd.DataFrame(group_c_df[['FT%']])\n",
    "group_c_ft.rename(columns = {'FT%': 'Group C FT%'}, inplace = True)"
   ]
  },
  {
   "cell_type": "code",
   "execution_count": 134,
   "id": "6e54dbcd-106f-4bd7-9996-12f7374be1c5",
   "metadata": {},
   "outputs": [
    {
     "data": {
      "text/html": [
       "<div>\n",
       "<style scoped>\n",
       "    .dataframe tbody tr th:only-of-type {\n",
       "        vertical-align: middle;\n",
       "    }\n",
       "\n",
       "    .dataframe tbody tr th {\n",
       "        vertical-align: top;\n",
       "    }\n",
       "\n",
       "    .dataframe thead th {\n",
       "        text-align: right;\n",
       "    }\n",
       "</style>\n",
       "<table border=\"1\" class=\"dataframe\">\n",
       "  <thead>\n",
       "    <tr style=\"text-align: right;\">\n",
       "      <th></th>\n",
       "      <th>Group A FT%</th>\n",
       "      <th>Group B FT%</th>\n",
       "      <th>Group C FT%</th>\n",
       "    </tr>\n",
       "    <tr>\n",
       "      <th>DraftYear</th>\n",
       "      <th></th>\n",
       "      <th></th>\n",
       "      <th></th>\n",
       "    </tr>\n",
       "  </thead>\n",
       "  <tbody>\n",
       "    <tr>\n",
       "      <th>2017</th>\n",
       "      <td>0.695</td>\n",
       "      <td>0.835</td>\n",
       "      <td>0.614</td>\n",
       "    </tr>\n",
       "    <tr>\n",
       "      <th>2017</th>\n",
       "      <td>0.578</td>\n",
       "      <td>0.740</td>\n",
       "      <td>0.722</td>\n",
       "    </tr>\n",
       "    <tr>\n",
       "      <th>2017</th>\n",
       "      <td>0.842</td>\n",
       "      <td>0.799</td>\n",
       "      <td>0.675</td>\n",
       "    </tr>\n",
       "    <tr>\n",
       "      <th>2017</th>\n",
       "      <td>0.679</td>\n",
       "      <td>0.667</td>\n",
       "      <td>0.834</td>\n",
       "    </tr>\n",
       "    <tr>\n",
       "      <th>2017</th>\n",
       "      <td>0.725</td>\n",
       "      <td>0.618</td>\n",
       "      <td>0.736</td>\n",
       "    </tr>\n",
       "  </tbody>\n",
       "</table>\n",
       "</div>"
      ],
      "text/plain": [
       "           Group A FT%  Group B FT%  Group C FT%\n",
       "DraftYear                                       \n",
       "2017             0.695        0.835        0.614\n",
       "2017             0.578        0.740        0.722\n",
       "2017             0.842        0.799        0.675\n",
       "2017             0.679        0.667        0.834\n",
       "2017             0.725        0.618        0.736"
      ]
     },
     "execution_count": 134,
     "metadata": {},
     "output_type": "execute_result"
    }
   ],
   "source": [
    "# Concat 3 groups FT% dataframes and save it as all_goup_apg_df\n",
    "all_groups_ft = [group_a_ft, group_b_ft, group_c_ft]\n",
    "all_group_ft_df = pd.concat(all_groups_ft, axis = 1)\n",
    "# Review the dataframe\n",
    "all_group_ft_df.head()"
   ]
  },
  {
   "cell_type": "code",
   "execution_count": 135,
   "id": "60b61ba9-4337-49c4-bc57-1767c3f9d835",
   "metadata": {},
   "outputs": [
    {
     "data": {
      "text/html": [
       "<div>\n",
       "<style scoped>\n",
       "    .dataframe tbody tr th:only-of-type {\n",
       "        vertical-align: middle;\n",
       "    }\n",
       "\n",
       "    .dataframe tbody tr th {\n",
       "        vertical-align: top;\n",
       "    }\n",
       "\n",
       "    .dataframe thead th {\n",
       "        text-align: right;\n",
       "    }\n",
       "</style>\n",
       "<table border=\"1\" class=\"dataframe\">\n",
       "  <thead>\n",
       "    <tr style=\"text-align: right;\">\n",
       "      <th></th>\n",
       "      <th>Group A FT%</th>\n",
       "      <th>Group B FT%</th>\n",
       "      <th>Group C FT%</th>\n",
       "    </tr>\n",
       "  </thead>\n",
       "  <tbody>\n",
       "    <tr>\n",
       "      <th>count</th>\n",
       "      <td>25.000000</td>\n",
       "      <td>25.000000</td>\n",
       "      <td>24.000000</td>\n",
       "    </tr>\n",
       "    <tr>\n",
       "      <th>mean</th>\n",
       "      <td>0.745800</td>\n",
       "      <td>0.759640</td>\n",
       "      <td>0.755125</td>\n",
       "    </tr>\n",
       "    <tr>\n",
       "      <th>std</th>\n",
       "      <td>0.075366</td>\n",
       "      <td>0.074829</td>\n",
       "      <td>0.096918</td>\n",
       "    </tr>\n",
       "    <tr>\n",
       "      <th>min</th>\n",
       "      <td>0.578000</td>\n",
       "      <td>0.618000</td>\n",
       "      <td>0.568000</td>\n",
       "    </tr>\n",
       "    <tr>\n",
       "      <th>25%</th>\n",
       "      <td>0.687000</td>\n",
       "      <td>0.693000</td>\n",
       "      <td>0.678750</td>\n",
       "    </tr>\n",
       "    <tr>\n",
       "      <th>50%</th>\n",
       "      <td>0.746000</td>\n",
       "      <td>0.755000</td>\n",
       "      <td>0.757500</td>\n",
       "    </tr>\n",
       "    <tr>\n",
       "      <th>75%</th>\n",
       "      <td>0.779000</td>\n",
       "      <td>0.824000</td>\n",
       "      <td>0.834750</td>\n",
       "    </tr>\n",
       "    <tr>\n",
       "      <th>max</th>\n",
       "      <td>0.877000</td>\n",
       "      <td>0.884000</td>\n",
       "      <td>0.915000</td>\n",
       "    </tr>\n",
       "  </tbody>\n",
       "</table>\n",
       "</div>"
      ],
      "text/plain": [
       "       Group A FT%  Group B FT%  Group C FT%\n",
       "count    25.000000    25.000000    24.000000\n",
       "mean      0.745800     0.759640     0.755125\n",
       "std       0.075366     0.074829     0.096918\n",
       "min       0.578000     0.618000     0.568000\n",
       "25%       0.687000     0.693000     0.678750\n",
       "50%       0.746000     0.755000     0.757500\n",
       "75%       0.779000     0.824000     0.834750\n",
       "max       0.877000     0.884000     0.915000"
      ]
     },
     "execution_count": 135,
     "metadata": {},
     "output_type": "execute_result"
    }
   ],
   "source": [
    "# Get a summary of all groups FT% data\n",
    "all_group_ft_df.describe()"
   ]
  },
  {
   "cell_type": "code",
   "execution_count": 136,
   "id": "d4933ec2-650b-4be0-a20f-ee3bbff8467c",
   "metadata": {},
   "outputs": [
    {
     "data": {
      "text/plain": [
       "<AxesSubplot:>"
      ]
     },
     "execution_count": 136,
     "metadata": {},
     "output_type": "execute_result"
    },
    {
     "data": {
      "image/png": "[encoded data removed]",
      "text/plain": [
       "<Figure size 432x288 with 1 Axes>"
      ]
     },
     "metadata": {
      "needs_background": "light"
     },
     "output_type": "display_data"
    }
   ],
   "source": [
    "# Visualize all groups FT% data using box plot\n",
    "all_group_ft_df.plot.box()"
   ]
  },
  {
   "cell_type": "code",
   "execution_count": null,
   "id": "fd64fe67-115b-41ea-971b-15e98fcf0f70",
   "metadata": {},
   "outputs": [],
   "source": []
  },
  {
   "cell_type": "code",
   "execution_count": 137,
   "id": "ce4c9c52-c0cd-4df4-8af3-f6eef803bfe4",
   "metadata": {},
   "outputs": [],
   "source": [
    "# Select group A contract worth data: rename the column and save it into a new dataframe\n",
    "group_a_contract = pd.DataFrame(group_a_df[['Contract Worth']])\n",
    "group_a_contract.rename(columns = {'Contract Worth': 'Group A Contract Worth'}, inplace = True)\n",
    "# Select group B contract worth data: rename the column and save it into a new dataframe\n",
    "group_b_contract = pd.DataFrame(group_b_df[['Contract Worth']])\n",
    "group_b_contract.rename(columns = {'Contract Worth': 'Group B Contract Worth'}, inplace = True)\n",
    "# Select group C contract worth data: rename the column and save it into a new dataframe\n",
    "group_c_contract = pd.DataFrame(group_c_df[['Contract Worth']])\n",
    "group_c_contract.rename(columns = {'Contract Worth': 'Group C Contract Worth'}, inplace = True)"
   ]
  },
  {
   "cell_type": "code",
   "execution_count": 138,
   "id": "7b15f598-ba7f-4da4-9c48-28f056325b8b",
   "metadata": {},
   "outputs": [
    {
     "data": {
      "text/html": [
       "<div>\n",
       "<style scoped>\n",
       "    .dataframe tbody tr th:only-of-type {\n",
       "        vertical-align: middle;\n",
       "    }\n",
       "\n",
       "    .dataframe tbody tr th {\n",
       "        vertical-align: top;\n",
       "    }\n",
       "\n",
       "    .dataframe thead th {\n",
       "        text-align: right;\n",
       "    }\n",
       "</style>\n",
       "<table border=\"1\" class=\"dataframe\">\n",
       "  <thead>\n",
       "    <tr style=\"text-align: right;\">\n",
       "      <th></th>\n",
       "      <th>Group A Contract Worth</th>\n",
       "      <th>Group B Contract Worth</th>\n",
       "      <th>Group C Contract Worth</th>\n",
       "    </tr>\n",
       "    <tr>\n",
       "      <th>DraftYear</th>\n",
       "      <th></th>\n",
       "      <th></th>\n",
       "      <th></th>\n",
       "    </tr>\n",
       "  </thead>\n",
       "  <tbody>\n",
       "    <tr>\n",
       "      <th>2017</th>\n",
       "      <td>33727701.0</td>\n",
       "      <td>13092144.0</td>\n",
       "      <td>7955043.0</td>\n",
       "    </tr>\n",
       "    <tr>\n",
       "      <th>2017</th>\n",
       "      <td>30184438.0</td>\n",
       "      <td>12587510.0</td>\n",
       "      <td>7727382.0</td>\n",
       "    </tr>\n",
       "    <tr>\n",
       "      <th>2017</th>\n",
       "      <td>27118800.0</td>\n",
       "      <td>12098915.0</td>\n",
       "      <td>7681457.0</td>\n",
       "    </tr>\n",
       "    <tr>\n",
       "      <th>2017</th>\n",
       "      <td>24118800.0</td>\n",
       "      <td>11497652.0</td>\n",
       "      <td>7625397.0</td>\n",
       "    </tr>\n",
       "    <tr>\n",
       "      <th>2017</th>\n",
       "      <td>22157109.0</td>\n",
       "      <td>10927154.0</td>\n",
       "      <td>7570779.0</td>\n",
       "    </tr>\n",
       "  </tbody>\n",
       "</table>\n",
       "</div>"
      ],
      "text/plain": [
       "           Group A Contract Worth  Group B Contract Worth  \\\n",
       "DraftYear                                                   \n",
       "2017                   33727701.0              13092144.0   \n",
       "2017                   30184438.0              12587510.0   \n",
       "2017                   27118800.0              12098915.0   \n",
       "2017                   24118800.0              11497652.0   \n",
       "2017                   22157109.0              10927154.0   \n",
       "\n",
       "           Group C Contract Worth  \n",
       "DraftYear                          \n",
       "2017                    7955043.0  \n",
       "2017                    7727382.0  \n",
       "2017                    7681457.0  \n",
       "2017                    7625397.0  \n",
       "2017                    7570779.0  "
      ]
     },
     "execution_count": 138,
     "metadata": {},
     "output_type": "execute_result"
    }
   ],
   "source": [
    "# Concat 3 groups contract worth dataframes and save it as all_goup_contract_df\n",
    "all_groups_contract = [group_a_contract, group_b_contract, group_c_contract]\n",
    "all_group_contract_df = pd.concat(all_groups_contract, axis = 1)\n",
    "# Review the dataframe\n",
    "all_group_contract_df.head()"
   ]
  },
  {
   "cell_type": "code",
   "execution_count": 139,
   "id": "f57abb30-d312-4422-a349-d8d3fc79d6a8",
   "metadata": {},
   "outputs": [
    {
     "data": {
      "text/html": [
       "<div>\n",
       "<style scoped>\n",
       "    .dataframe tbody tr th:only-of-type {\n",
       "        vertical-align: middle;\n",
       "    }\n",
       "\n",
       "    .dataframe tbody tr th {\n",
       "        vertical-align: top;\n",
       "    }\n",
       "\n",
       "    .dataframe thead th {\n",
       "        text-align: right;\n",
       "    }\n",
       "</style>\n",
       "<table border=\"1\" class=\"dataframe\">\n",
       "  <thead>\n",
       "    <tr style=\"text-align: right;\">\n",
       "      <th></th>\n",
       "      <th>Group A Contract Worth</th>\n",
       "      <th>Group B Contract Worth</th>\n",
       "      <th>Group C Contract Worth</th>\n",
       "    </tr>\n",
       "  </thead>\n",
       "  <tbody>\n",
       "    <tr>\n",
       "      <th>count</th>\n",
       "      <td>2.500000e+01</td>\n",
       "      <td>2.500000e+01</td>\n",
       "      <td>2.500000e+01</td>\n",
       "    </tr>\n",
       "    <tr>\n",
       "      <th>mean</th>\n",
       "      <td>3.398147e+07</td>\n",
       "      <td>1.487708e+07</td>\n",
       "      <td>9.457335e+06</td>\n",
       "    </tr>\n",
       "    <tr>\n",
       "      <th>std</th>\n",
       "      <td>6.343022e+06</td>\n",
       "      <td>1.853445e+06</td>\n",
       "      <td>1.065834e+06</td>\n",
       "    </tr>\n",
       "    <tr>\n",
       "      <th>min</th>\n",
       "      <td>2.215711e+07</td>\n",
       "      <td>1.092715e+07</td>\n",
       "      <td>7.570779e+06</td>\n",
       "    </tr>\n",
       "    <tr>\n",
       "      <th>25%</th>\n",
       "      <td>2.928044e+07</td>\n",
       "      <td>1.379106e+07</td>\n",
       "      <td>9.095405e+06</td>\n",
       "    </tr>\n",
       "    <tr>\n",
       "      <th>50%</th>\n",
       "      <td>3.306463e+07</td>\n",
       "      <td>1.509819e+07</td>\n",
       "      <td>1.001738e+07</td>\n",
       "    </tr>\n",
       "    <tr>\n",
       "      <th>75%</th>\n",
       "      <td>3.961984e+07</td>\n",
       "      <td>1.636453e+07</td>\n",
       "      <td>1.024349e+07</td>\n",
       "    </tr>\n",
       "    <tr>\n",
       "      <th>max</th>\n",
       "      <td>4.559882e+07</td>\n",
       "      <td>1.770436e+07</td>\n",
       "      <td>1.076312e+07</td>\n",
       "    </tr>\n",
       "  </tbody>\n",
       "</table>\n",
       "</div>"
      ],
      "text/plain": [
       "       Group A Contract Worth  Group B Contract Worth  Group C Contract Worth\n",
       "count            2.500000e+01            2.500000e+01            2.500000e+01\n",
       "mean             3.398147e+07            1.487708e+07            9.457335e+06\n",
       "std              6.343022e+06            1.853445e+06            1.065834e+06\n",
       "min              2.215711e+07            1.092715e+07            7.570779e+06\n",
       "25%              2.928044e+07            1.379106e+07            9.095405e+06\n",
       "50%              3.306463e+07            1.509819e+07            1.001738e+07\n",
       "75%              3.961984e+07            1.636453e+07            1.024349e+07\n",
       "max              4.559882e+07            1.770436e+07            1.076312e+07"
      ]
     },
     "execution_count": 139,
     "metadata": {},
     "output_type": "execute_result"
    }
   ],
   "source": [
    "# Get a summary of all groups contract worth data\n",
    "all_group_contract_df.describe()"
   ]
  },
  {
   "cell_type": "code",
   "execution_count": 140,
   "id": "d8d8243d-5664-4b33-9ce1-01071f8cf779",
   "metadata": {},
   "outputs": [
    {
     "data": {
      "text/plain": [
       "<AxesSubplot:>"
      ]
     },
     "execution_count": 140,
     "metadata": {},
     "output_type": "execute_result"
    },
    {
     "data": {
      "image/png": "[encoded data removed]",
      "text/plain": [
       "<Figure size 432x288 with 1 Axes>"
      ]
     },
     "metadata": {
      "needs_background": "light"
     },
     "output_type": "display_data"
    }
   ],
   "source": [
    "# Visualize all groups contract worth data using box plot\n",
    "all_group_contract_df.plot.box()"
   ]
  },
  {
   "cell_type": "markdown",
   "id": "47c56409-6206-4977-9102-9b100cf287da",
   "metadata": {},
   "source": [
    "###\n",
    "### Visualizing which aspects are viewed more important by NBA teams using radar plots\n",
    "###"
   ]
  },
  {
   "cell_type": "code",
   "execution_count": 141,
   "id": "1d79ee7d-438c-46d4-807b-adff2ca1ed9c",
   "metadata": {},
   "outputs": [
    {
     "data": {
      "text/html": [
       "<div>\n",
       "<style scoped>\n",
       "    .dataframe tbody tr th:only-of-type {\n",
       "        vertical-align: middle;\n",
       "    }\n",
       "\n",
       "    .dataframe tbody tr th {\n",
       "        vertical-align: top;\n",
       "    }\n",
       "\n",
       "    .dataframe thead th {\n",
       "        text-align: right;\n",
       "    }\n",
       "</style>\n",
       "<table border=\"1\" class=\"dataframe\">\n",
       "  <thead>\n",
       "    <tr style=\"text-align: right;\">\n",
       "      <th></th>\n",
       "      <th>mean</th>\n",
       "    </tr>\n",
       "  </thead>\n",
       "  <tbody>\n",
       "    <tr>\n",
       "      <th>MPG</th>\n",
       "      <td>30.44000</td>\n",
       "    </tr>\n",
       "    <tr>\n",
       "      <th>PPG</th>\n",
       "      <td>16.09600</td>\n",
       "    </tr>\n",
       "    <tr>\n",
       "      <th>RPG</th>\n",
       "      <td>5.38800</td>\n",
       "    </tr>\n",
       "    <tr>\n",
       "      <th>APG</th>\n",
       "      <td>3.79200</td>\n",
       "    </tr>\n",
       "    <tr>\n",
       "      <th>FG%</th>\n",
       "      <td>0.45620</td>\n",
       "    </tr>\n",
       "    <tr>\n",
       "      <th>3P%</th>\n",
       "      <td>0.32224</td>\n",
       "    </tr>\n",
       "    <tr>\n",
       "      <th>FT%</th>\n",
       "      <td>0.74580</td>\n",
       "    </tr>\n",
       "  </tbody>\n",
       "</table>\n",
       "</div>"
      ],
      "text/plain": [
       "         mean\n",
       "MPG  30.44000\n",
       "PPG  16.09600\n",
       "RPG   5.38800\n",
       "APG   3.79200\n",
       "FG%   0.45620\n",
       "3P%   0.32224\n",
       "FT%   0.74580"
      ]
     },
     "execution_count": 141,
     "metadata": {},
     "output_type": "execute_result"
    }
   ],
   "source": [
    "# Calculate group A mean value of all aspects\n",
    "group_a_mean = group_a_df[['MPG','PPG', 'RPG', 'APG','FG%', '3P%','FT%']].mean()\n",
    "# Save group A mean values into a new dataframe and name the column 'mean'\n",
    "group_a_mean_df = group_a_mean.to_frame(name='mean')\n",
    "# Display the dataframe\n",
    "group_a_mean_df"
   ]
  },
  {
   "cell_type": "code",
   "execution_count": 142,
   "id": "8cca9763-3267-452a-8398-d1d2f4c2fb46",
   "metadata": {},
   "outputs": [
    {
     "data": {
      "text/html": [
       "<div>\n",
       "<style scoped>\n",
       "    .dataframe tbody tr th:only-of-type {\n",
       "        vertical-align: middle;\n",
       "    }\n",
       "\n",
       "    .dataframe tbody tr th {\n",
       "        vertical-align: top;\n",
       "    }\n",
       "\n",
       "    .dataframe thead th {\n",
       "        text-align: right;\n",
       "    }\n",
       "</style>\n",
       "<table border=\"1\" class=\"dataframe\">\n",
       "  <thead>\n",
       "    <tr style=\"text-align: right;\">\n",
       "      <th></th>\n",
       "      <th>mean</th>\n",
       "    </tr>\n",
       "  </thead>\n",
       "  <tbody>\n",
       "    <tr>\n",
       "      <th>MPG</th>\n",
       "      <td>19.87600</td>\n",
       "    </tr>\n",
       "    <tr>\n",
       "      <th>PPG</th>\n",
       "      <td>8.35600</td>\n",
       "    </tr>\n",
       "    <tr>\n",
       "      <th>RPG</th>\n",
       "      <td>3.62400</td>\n",
       "    </tr>\n",
       "    <tr>\n",
       "      <th>APG</th>\n",
       "      <td>1.72400</td>\n",
       "    </tr>\n",
       "    <tr>\n",
       "      <th>FG%</th>\n",
       "      <td>0.42012</td>\n",
       "    </tr>\n",
       "    <tr>\n",
       "      <th>3P%</th>\n",
       "      <td>0.31248</td>\n",
       "    </tr>\n",
       "    <tr>\n",
       "      <th>FT%</th>\n",
       "      <td>0.75964</td>\n",
       "    </tr>\n",
       "  </tbody>\n",
       "</table>\n",
       "</div>"
      ],
      "text/plain": [
       "         mean\n",
       "MPG  19.87600\n",
       "PPG   8.35600\n",
       "RPG   3.62400\n",
       "APG   1.72400\n",
       "FG%   0.42012\n",
       "3P%   0.31248\n",
       "FT%   0.75964"
      ]
     },
     "execution_count": 142,
     "metadata": {},
     "output_type": "execute_result"
    }
   ],
   "source": [
    "# Calculate group B mean value of all aspects\n",
    "group_b_mean = group_b_df[['MPG','PPG', 'RPG', 'APG','FG%', '3P%','FT%']].mean()\n",
    "# Save group B mean values into a new dataframe and name the column 'mean'\n",
    "group_b_mean_df = group_b_mean.to_frame(name='mean')\n",
    "# Display the dataframe\n",
    "group_b_mean_df"
   ]
  },
  {
   "cell_type": "code",
   "execution_count": 143,
   "id": "42187939-01c3-4ab0-ad20-66ac42159041",
   "metadata": {},
   "outputs": [
    {
     "data": {
      "text/html": [
       "<div>\n",
       "<style scoped>\n",
       "    .dataframe tbody tr th:only-of-type {\n",
       "        vertical-align: middle;\n",
       "    }\n",
       "\n",
       "    .dataframe tbody tr th {\n",
       "        vertical-align: top;\n",
       "    }\n",
       "\n",
       "    .dataframe thead th {\n",
       "        text-align: right;\n",
       "    }\n",
       "</style>\n",
       "<table border=\"1\" class=\"dataframe\">\n",
       "  <thead>\n",
       "    <tr style=\"text-align: right;\">\n",
       "      <th></th>\n",
       "      <th>mean</th>\n",
       "    </tr>\n",
       "  </thead>\n",
       "  <tbody>\n",
       "    <tr>\n",
       "      <th>MPG</th>\n",
       "      <td>17.516000</td>\n",
       "    </tr>\n",
       "    <tr>\n",
       "      <th>PPG</th>\n",
       "      <td>7.328000</td>\n",
       "    </tr>\n",
       "    <tr>\n",
       "      <th>RPG</th>\n",
       "      <td>3.264000</td>\n",
       "    </tr>\n",
       "    <tr>\n",
       "      <th>APG</th>\n",
       "      <td>1.464000</td>\n",
       "    </tr>\n",
       "    <tr>\n",
       "      <th>FG%</th>\n",
       "      <td>0.478680</td>\n",
       "    </tr>\n",
       "    <tr>\n",
       "      <th>3P%</th>\n",
       "      <td>0.306391</td>\n",
       "    </tr>\n",
       "    <tr>\n",
       "      <th>FT%</th>\n",
       "      <td>0.755125</td>\n",
       "    </tr>\n",
       "  </tbody>\n",
       "</table>\n",
       "</div>"
      ],
      "text/plain": [
       "          mean\n",
       "MPG  17.516000\n",
       "PPG   7.328000\n",
       "RPG   3.264000\n",
       "APG   1.464000\n",
       "FG%   0.478680\n",
       "3P%   0.306391\n",
       "FT%   0.755125"
      ]
     },
     "execution_count": 143,
     "metadata": {},
     "output_type": "execute_result"
    }
   ],
   "source": [
    "# Calculate group C mean value of all aspects\n",
    "group_c_mean = group_c_df[['MPG','PPG', 'RPG', 'APG','FG%', '3P%','FT%']].mean()\n",
    "# Save group C mean values into a new dataframe and name the column 'mean'\n",
    "group_c_mean_df = group_c_mean.to_frame(name='mean')\n",
    "# Display the dataframe\n",
    "group_c_mean_df"
   ]
  },
  {
   "cell_type": "code",
   "execution_count": null,
   "id": "2c8c97f5-6ccf-48b2-9fbc-578d47cb4c61",
   "metadata": {},
   "outputs": [],
   "source": []
  },
  {
   "cell_type": "code",
   "execution_count": 144,
   "id": "3668f9f4-7df3-4828-9d58-5e0c616c22c1",
   "metadata": {},
   "outputs": [
    {
     "data": {
      "application/vnd.plotly.v1+json": {
       "config": {
        "plotlyServerURL": "https://plot.ly"
       },
       "data": [
        {
         "fill": "toself",
         "name": "Group A",
         "r": [
          30.44,
          16.1,
          5.39,
          3.8,
          0.46,
          0.32,
          0.75
         ],
         "theta": [
          "MPG",
          "PPG",
          "RPG",
          "APG",
          "FG%",
          "3P%",
          "FT%"
         ],
         "type": "scatterpolar"
        },
        {
         "fill": "toself",
         "name": "Group B",
         "r": [
          19.88,
          8.36,
          3.62,
          1.72,
          0.42,
          0.31,
          0.76
         ],
         "theta": [
          "MPG",
          "PPG",
          "RPG",
          "APG",
          "FG%",
          "3P%",
          "FT%"
         ],
         "type": "scatterpolar"
        },
        {
         "fill": "toself",
         "name": "Group C",
         "r": [
          17.52,
          7.33,
          3.26,
          1.46,
          0.48,
          0.3,
          0.75
         ],
         "theta": [
          "MPG",
          "PPG",
          "RPG",
          "APG",
          "FG%",
          "3P%",
          "FT%"
         ],
         "type": "scatterpolar"
        }
       ],
       "layout": {
        "height": 500,
        "polar": {
         "angularaxis": {
          "type": "category"
         },
         "radialaxis": {
          "autorange": false,
          "range": [
           0,
           35
          ],
          "type": "linear",
          "visible": true
         }
        },
        "showlegend": true,
        "template": {
         "data": {
          "bar": [
           {
            "error_x": {
             "color": "#2a3f5f"
            },
            "error_y": {
             "color": "#2a3f5f"
            },
            "marker": {
             "line": {
              "color": "#E5ECF6",
              "width": 0.5
             },
             "pattern": {
              "fillmode": "overlay",
              "size": 10,
              "solidity": 0.2
             }
            },
            "type": "bar"
           }
          ],
          "barpolar": [
           {
            "marker": {
             "line": {
              "color": "#E5ECF6",
              "width": 0.5
             },
             "pattern": {
              "fillmode": "overlay",
              "size": 10,
              "solidity": 0.2
             }
            },
            "type": "barpolar"
           }
          ],
          "carpet": [
           {
            "aaxis": {
             "endlinecolor": "#2a3f5f",
             "gridcolor": "white",
             "linecolor": "white",
             "minorgridcolor": "white",
             "startlinecolor": "#2a3f5f"
            },
            "baxis": {
             "endlinecolor": "#2a3f5f",
             "gridcolor": "white",
             "linecolor": "white",
             "minorgridcolor": "white",
             "startlinecolor": "#2a3f5f"
            },
            "type": "carpet"
           }
          ],
          "choropleth": [
           {
            "colorbar": {
             "outlinewidth": 0,
             "ticks": ""
            },
            "type": "choropleth"
           }
          ],
          "contour": [
           {
            "colorbar": {
             "outlinewidth": 0,
             "ticks": ""
            },
            "colorscale": [
             [
              0,
              "#0d0887"
             ],
             [
              0.1111111111111111,
              "#46039f"
             ],
             [
              0.2222222222222222,
              "#7201a8"
             ],
             [
              0.3333333333333333,
              "#9c179e"
             ],
             [
              0.4444444444444444,
              "#bd3786"
             ],
             [
              0.5555555555555556,
              "#d8576b"
             ],
             [
              0.6666666666666666,
              "#ed7953"
             ],
             [
              0.7777777777777778,
              "#fb9f3a"
             ],
             [
              0.8888888888888888,
              "#fdca26"
             ],
             [
              1,
              "#f0f921"
             ]
            ],
            "type": "contour"
           }
          ],
          "contourcarpet": [
           {
            "colorbar": {
             "outlinewidth": 0,
             "ticks": ""
            },
            "type": "contourcarpet"
           }
          ],
          "heatmap": [
           {
            "colorbar": {
             "outlinewidth": 0,
             "ticks": ""
            },
            "colorscale": [
             [
              0,
              "#0d0887"
             ],
             [
              0.1111111111111111,
              "#46039f"
             ],
             [
              0.2222222222222222,
              "#7201a8"
             ],
             [
              0.3333333333333333,
              "#9c179e"
             ],
             [
              0.4444444444444444,
              "#bd3786"
             ],
             [
              0.5555555555555556,
              "#d8576b"
             ],
             [
              0.6666666666666666,
              "#ed7953"
             ],
             [
              0.7777777777777778,
              "#fb9f3a"
             ],
             [
              0.8888888888888888,
              "#fdca26"
             ],
             [
              1,
              "#f0f921"
             ]
            ],
            "type": "heatmap"
           }
          ],
          "heatmapgl": [
           {
            "colorbar": {
             "outlinewidth": 0,
             "ticks": ""
            },
            "colorscale": [
             [
              0,
              "#0d0887"
             ],
             [
              0.1111111111111111,
              "#46039f"
             ],
             [
              0.2222222222222222,
              "#7201a8"
             ],
             [
              0.3333333333333333,
              "#9c179e"
             ],
             [
              0.4444444444444444,
              "#bd3786"
             ],
             [
              0.5555555555555556,
              "#d8576b"
             ],
             [
              0.6666666666666666,
              "#ed7953"
             ],
             [
              0.7777777777777778,
              "#fb9f3a"
             ],
             [
              0.8888888888888888,
              "#fdca26"
             ],
             [
              1,
              "#f0f921"
             ]
            ],
            "type": "heatmapgl"
           }
          ],
          "histogram": [
           {
            "marker": {
             "pattern": {
              "fillmode": "overlay",
              "size": 10,
              "solidity": 0.2
             }
            },
            "type": "histogram"
           }
          ],
          "histogram2d": [
           {
            "colorbar": {
             "outlinewidth": 0,
             "ticks": ""
            },
            "colorscale": [
             [
              0,
              "#0d0887"
             ],
             [
              0.1111111111111111,
              "#46039f"
             ],
             [
              0.2222222222222222,
              "#7201a8"
             ],
             [
              0.3333333333333333,
              "#9c179e"
             ],
             [
              0.4444444444444444,
              "#bd3786"
             ],
             [
              0.5555555555555556,
              "#d8576b"
             ],
             [
              0.6666666666666666,
              "#ed7953"
             ],
             [
              0.7777777777777778,
              "#fb9f3a"
             ],
             [
              0.8888888888888888,
              "#fdca26"
             ],
             [
              1,
              "#f0f921"
             ]
            ],
            "type": "histogram2d"
           }
          ],
          "histogram2dcontour": [
           {
            "colorbar": {
             "outlinewidth": 0,
             "ticks": ""
            },
            "colorscale": [
             [
              0,
              "#0d0887"
             ],
             [
              0.1111111111111111,
              "#46039f"
             ],
             [
              0.2222222222222222,
              "#7201a8"
             ],
             [
              0.3333333333333333,
              "#9c179e"
             ],
             [
              0.4444444444444444,
              "#bd3786"
             ],
             [
              0.5555555555555556,
              "#d8576b"
             ],
             [
              0.6666666666666666,
              "#ed7953"
             ],
             [
              0.7777777777777778,
              "#fb9f3a"
             ],
             [
              0.8888888888888888,
              "#fdca26"
             ],
             [
              1,
              "#f0f921"
             ]
            ],
            "type": "histogram2dcontour"
           }
          ],
          "mesh3d": [
           {
            "colorbar": {
             "outlinewidth": 0,
             "ticks": ""
            },
            "type": "mesh3d"
           }
          ],
          "parcoords": [
           {
            "line": {
             "colorbar": {
              "outlinewidth": 0,
              "ticks": ""
             }
            },
            "type": "parcoords"
           }
          ],
          "pie": [
           {
            "automargin": true,
            "type": "pie"
           }
          ],
          "scatter": [
           {
            "fillpattern": {
             "fillmode": "overlay",
             "size": 10,
             "solidity": 0.2
            },
            "type": "scatter"
           }
          ],
          "scatter3d": [
           {
            "line": {
             "colorbar": {
              "outlinewidth": 0,
              "ticks": ""
             }
            },
            "marker": {
             "colorbar": {
              "outlinewidth": 0,
              "ticks": ""
             }
            },
            "type": "scatter3d"
           }
          ],
          "scattercarpet": [
           {
            "marker": {
             "colorbar": {
              "outlinewidth": 0,
              "ticks": ""
             }
            },
            "type": "scattercarpet"
           }
          ],
          "scattergeo": [
           {
            "marker": {
             "colorbar": {
              "outlinewidth": 0,
              "ticks": ""
             }
            },
            "type": "scattergeo"
           }
          ],
          "scattergl": [
           {
            "marker": {
             "colorbar": {
              "outlinewidth": 0,
              "ticks": ""
             }
            },
            "type": "scattergl"
           }
          ],
          "scattermapbox": [
           {
            "marker": {
             "colorbar": {
              "outlinewidth": 0,
              "ticks": ""
             }
            },
            "type": "scattermapbox"
           }
          ],
          "scatterpolar": [
           {
            "marker": {
             "colorbar": {
              "outlinewidth": 0,
              "ticks": ""
             }
            },
            "type": "scatterpolar"
           }
          ],
          "scatterpolargl": [
           {
            "marker": {
             "colorbar": {
              "outlinewidth": 0,
              "ticks": ""
             }
            },
            "type": "scatterpolargl"
           }
          ],
          "scatterternary": [
           {
            "marker": {
             "colorbar": {
              "outlinewidth": 0,
              "ticks": ""
             }
            },
            "type": "scatterternary"
           }
          ],
          "surface": [
           {
            "colorbar": {
             "outlinewidth": 0,
             "ticks": ""
            },
            "colorscale": [
             [
              0,
              "#0d0887"
             ],
             [
              0.1111111111111111,
              "#46039f"
             ],
             [
              0.2222222222222222,
              "#7201a8"
             ],
             [
              0.3333333333333333,
              "#9c179e"
             ],
             [
              0.4444444444444444,
              "#bd3786"
             ],
             [
              0.5555555555555556,
              "#d8576b"
             ],
             [
              0.6666666666666666,
              "#ed7953"
             ],
             [
              0.7777777777777778,
              "#fb9f3a"
             ],
             [
              0.8888888888888888,
              "#fdca26"
             ],
             [
              1,
              "#f0f921"
             ]
            ],
            "type": "surface"
           }
          ],
          "table": [
           {
            "cells": {
             "fill": {
              "color": "#EBF0F8"
             },
             "line": {
              "color": "white"
             }
            },
            "header": {
             "fill": {
              "color": "#C8D4E3"
             },
             "line": {
              "color": "white"
             }
            },
            "type": "table"
           }
          ]
         },
         "layout": {
          "annotationdefaults": {
           "arrowcolor": "#2a3f5f",
           "arrowhead": 0,
           "arrowwidth": 1
          },
          "autotypenumbers": "strict",
          "coloraxis": {
           "colorbar": {
            "outlinewidth": 0,
            "ticks": ""
           }
          },
          "colorscale": {
           "diverging": [
            [
             0,
             "#8e0152"
            ],
            [
             0.1,
             "#c51b7d"
            ],
            [
             0.2,
             "#de77ae"
            ],
            [
             0.3,
             "#f1b6da"
            ],
            [
             0.4,
             "#fde0ef"
            ],
            [
             0.5,
             "#f7f7f7"
            ],
            [
             0.6,
             "#e6f5d0"
            ],
            [
             0.7,
             "#b8e186"
            ],
            [
             0.8,
             "#7fbc41"
            ],
            [
             0.9,
             "#4d9221"
            ],
            [
             1,
             "#276419"
            ]
           ],
           "sequential": [
            [
             0,
             "#0d0887"
            ],
            [
             0.1111111111111111,
             "#46039f"
            ],
            [
             0.2222222222222222,
             "#7201a8"
            ],
            [
             0.3333333333333333,
             "#9c179e"
            ],
            [
             0.4444444444444444,
             "#bd3786"
            ],
            [
             0.5555555555555556,
             "#d8576b"
            ],
            [
             0.6666666666666666,
             "#ed7953"
            ],
            [
             0.7777777777777778,
             "#fb9f3a"
            ],
            [
             0.8888888888888888,
             "#fdca26"
            ],
            [
             1,
             "#f0f921"
            ]
           ],
           "sequentialminus": [
            [
             0,
             "#0d0887"
            ],
            [
             0.1111111111111111,
             "#46039f"
            ],
            [
             0.2222222222222222,
             "#7201a8"
            ],
            [
             0.3333333333333333,
             "#9c179e"
            ],
            [
             0.4444444444444444,
             "#bd3786"
            ],
            [
             0.5555555555555556,
             "#d8576b"
            ],
            [
             0.6666666666666666,
             "#ed7953"
            ],
            [
             0.7777777777777778,
             "#fb9f3a"
            ],
            [
             0.8888888888888888,
             "#fdca26"
            ],
            [
             1,
             "#f0f921"
            ]
           ]
          },
          "colorway": [
           "#636efa",
           "#EF553B",
           "#00cc96",
           "#ab63fa",
           "#FFA15A",
           "#19d3f3",
           "#FF6692",
           "#B6E880",
           "#FF97FF",
           "#FECB52"
          ],
          "font": {
           "color": "#2a3f5f"
          },
          "geo": {
           "bgcolor": "white",
           "lakecolor": "white",
           "landcolor": "#E5ECF6",
           "showlakes": true,
           "showland": true,
           "subunitcolor": "white"
          },
          "hoverlabel": {
           "align": "left"
          },
          "hovermode": "closest",
          "mapbox": {
           "style": "light"
          },
          "paper_bgcolor": "white",
          "plot_bgcolor": "#E5ECF6",
          "polar": {
           "angularaxis": {
            "gridcolor": "white",
            "linecolor": "white",
            "ticks": ""
           },
           "bgcolor": "#E5ECF6",
           "radialaxis": {
            "gridcolor": "white",
            "linecolor": "white",
            "ticks": ""
           }
          },
          "scene": {
           "xaxis": {
            "backgroundcolor": "#E5ECF6",
            "gridcolor": "white",
            "gridwidth": 2,
            "linecolor": "white",
            "showbackground": true,
            "ticks": "",
            "zerolinecolor": "white"
           },
           "yaxis": {
            "backgroundcolor": "#E5ECF6",
            "gridcolor": "white",
            "gridwidth": 2,
            "linecolor": "white",
            "showbackground": true,
            "ticks": "",
            "zerolinecolor": "white"
           },
           "zaxis": {
            "backgroundcolor": "#E5ECF6",
            "gridcolor": "white",
            "gridwidth": 2,
            "linecolor": "white",
            "showbackground": true,
            "ticks": "",
            "zerolinecolor": "white"
           }
          },
          "shapedefaults": {
           "line": {
            "color": "#2a3f5f"
           }
          },
          "ternary": {
           "aaxis": {
            "gridcolor": "white",
            "linecolor": "white",
            "ticks": ""
           },
           "baxis": {
            "gridcolor": "white",
            "linecolor": "white",
            "ticks": ""
           },
           "bgcolor": "#E5ECF6",
           "caxis": {
            "gridcolor": "white",
            "linecolor": "white",
            "ticks": ""
           }
          },
          "title": {
           "x": 0.05
          },
          "xaxis": {
           "automargin": true,
           "gridcolor": "white",
           "linecolor": "white",
           "ticks": "",
           "title": {
            "standoff": 15
           },
           "zerolinecolor": "white",
           "zerolinewidth": 2
          },
          "yaxis": {
           "automargin": true,
           "gridcolor": "white",
           "linecolor": "white",
           "ticks": "",
           "title": {
            "standoff": 15
           },
           "zerolinecolor": "white",
           "zerolinewidth": 2
          }
         }
        },
        "width": 500
       }
      },
      "image/png": "[encoded data removed]",
      "text/html": [
       "<div>                            <div id=\"ca6a790b-2cc9-49d9-a9c7-b97108d6f2ca\" class=\"plotly-graph-div\" style=\"height:500px; width:500px;\"></div>            <script type=\"text/javascript\">                require([\"plotly\"], function(Plotly) {                    window.PLOTLYENV=window.PLOTLYENV || {};                                    if (document.getElementById(\"ca6a790b-2cc9-49d9-a9c7-b97108d6f2ca\")) {                    Plotly.newPlot(                        \"ca6a790b-2cc9-49d9-a9c7-b97108d6f2ca\",                        [{\"fill\":\"toself\",\"name\":\"Group A\",\"r\":[30.44,16.1,5.39,3.8,0.46,0.32,0.75],\"theta\":[\"MPG\",\"PPG\",\"RPG\",\"APG\",\"FG%\",\"3P%\",\"FT%\"],\"type\":\"scatterpolar\"},{\"fill\":\"toself\",\"name\":\"Group B\",\"r\":[19.88,8.36,3.62,1.72,0.42,0.31,0.76],\"theta\":[\"MPG\",\"PPG\",\"RPG\",\"APG\",\"FG%\",\"3P%\",\"FT%\"],\"type\":\"scatterpolar\"},{\"fill\":\"toself\",\"name\":\"Group C\",\"r\":[17.52,7.33,3.26,1.46,0.48,0.3,0.75],\"theta\":[\"MPG\",\"PPG\",\"RPG\",\"APG\",\"FG%\",\"3P%\",\"FT%\"],\"type\":\"scatterpolar\"}],                        {\"template\":{\"data\":{\"histogram2dcontour\":[{\"type\":\"histogram2dcontour\",\"colorbar\":{\"outlinewidth\":0,\"ticks\":\"\"},\"colorscale\":[[0.0,\"#0d0887\"],[0.1111111111111111,\"#46039f\"],[0.2222222222222222,\"#7201a8\"],[0.3333333333333333,\"#9c179e\"],[0.4444444444444444,\"#bd3786\"],[0.5555555555555556,\"#d8576b\"],[0.6666666666666666,\"#ed7953\"],[0.7777777777777778,\"#fb9f3a\"],[0.8888888888888888,\"#fdca26\"],[1.0,\"#f0f921\"]]}],\"choropleth\":[{\"type\":\"choropleth\",\"colorbar\":{\"outlinewidth\":0,\"ticks\":\"\"}}],\"histogram2d\":[{\"type\":\"histogram2d\",\"colorbar\":{\"outlinewidth\":0,\"ticks\":\"\"},\"colorscale\":[[0.0,\"#0d0887\"],[0.1111111111111111,\"#46039f\"],[0.2222222222222222,\"#7201a8\"],[0.3333333333333333,\"#9c179e\"],[0.4444444444444444,\"#bd3786\"],[0.5555555555555556,\"#d8576b\"],[0.6666666666666666,\"#ed7953\"],[0.7777777777777778,\"#fb9f3a\"],[0.8888888888888888,\"#fdca26\"],[1.0,\"#f0f921\"]]}],\"heatmap\":[{\"type\":\"heatmap\",\"colorbar\":{\"outlinewidth\":0,\"ticks\":\"\"},\"colorscale\":[[0.0,\"#0d0887\"],[0.1111111111111111,\"#46039f\"],[0.2222222222222222,\"#7201a8\"],[0.3333333333333333,\"#9c179e\"],[0.4444444444444444,\"#bd3786\"],[0.5555555555555556,\"#d8576b\"],[0.6666666666666666,\"#ed7953\"],[0.7777777777777778,\"#fb9f3a\"],[0.8888888888888888,\"#fdca26\"],[1.0,\"#f0f921\"]]}],\"heatmapgl\":[{\"type\":\"heatmapgl\",\"colorbar\":{\"outlinewidth\":0,\"ticks\":\"\"},\"colorscale\":[[0.0,\"#0d0887\"],[0.1111111111111111,\"#46039f\"],[0.2222222222222222,\"#7201a8\"],[0.3333333333333333,\"#9c179e\"],[0.4444444444444444,\"#bd3786\"],[0.5555555555555556,\"#d8576b\"],[0.6666666666666666,\"#ed7953\"],[0.7777777777777778,\"#fb9f3a\"],[0.8888888888888888,\"#fdca26\"],[1.0,\"#f0f921\"]]}],\"contourcarpet\":[{\"type\":\"contourcarpet\",\"colorbar\":{\"outlinewidth\":0,\"ticks\":\"\"}}],\"contour\":[{\"type\":\"contour\",\"colorbar\":{\"outlinewidth\":0,\"ticks\":\"\"},\"colorscale\":[[0.0,\"#0d0887\"],[0.1111111111111111,\"#46039f\"],[0.2222222222222222,\"#7201a8\"],[0.3333333333333333,\"#9c179e\"],[0.4444444444444444,\"#bd3786\"],[0.5555555555555556,\"#d8576b\"],[0.6666666666666666,\"#ed7953\"],[0.7777777777777778,\"#fb9f3a\"],[0.8888888888888888,\"#fdca26\"],[1.0,\"#f0f921\"]]}],\"surface\":[{\"type\":\"surface\",\"colorbar\":{\"outlinewidth\":0,\"ticks\":\"\"},\"colorscale\":[[0.0,\"#0d0887\"],[0.1111111111111111,\"#46039f\"],[0.2222222222222222,\"#7201a8\"],[0.3333333333333333,\"#9c179e\"],[0.4444444444444444,\"#bd3786\"],[0.5555555555555556,\"#d8576b\"],[0.6666666666666666,\"#ed7953\"],[0.7777777777777778,\"#fb9f3a\"],[0.8888888888888888,\"#fdca26\"],[1.0,\"#f0f921\"]]}],\"mesh3d\":[{\"type\":\"mesh3d\",\"colorbar\":{\"outlinewidth\":0,\"ticks\":\"\"}}],\"scatter\":[{\"fillpattern\":{\"fillmode\":\"overlay\",\"size\":10,\"solidity\":0.2},\"type\":\"scatter\"}],\"parcoords\":[{\"type\":\"parcoords\",\"line\":{\"colorbar\":{\"outlinewidth\":0,\"ticks\":\"\"}}}],\"scatterpolargl\":[{\"type\":\"scatterpolargl\",\"marker\":{\"colorbar\":{\"outlinewidth\":0,\"ticks\":\"\"}}}],\"bar\":[{\"error_x\":{\"color\":\"#2a3f5f\"},\"error_y\":{\"color\":\"#2a3f5f\"},\"marker\":{\"line\":{\"color\":\"#E5ECF6\",\"width\":0.5},\"pattern\":{\"fillmode\":\"overlay\",\"size\":10,\"solidity\":0.2}},\"type\":\"bar\"}],\"scattergeo\":[{\"type\":\"scattergeo\",\"marker\":{\"colorbar\":{\"outlinewidth\":0,\"ticks\":\"\"}}}],\"scatterpolar\":[{\"type\":\"scatterpolar\",\"marker\":{\"colorbar\":{\"outlinewidth\":0,\"ticks\":\"\"}}}],\"histogram\":[{\"marker\":{\"pattern\":{\"fillmode\":\"overlay\",\"size\":10,\"solidity\":0.2}},\"type\":\"histogram\"}],\"scattergl\":[{\"type\":\"scattergl\",\"marker\":{\"colorbar\":{\"outlinewidth\":0,\"ticks\":\"\"}}}],\"scatter3d\":[{\"type\":\"scatter3d\",\"line\":{\"colorbar\":{\"outlinewidth\":0,\"ticks\":\"\"}},\"marker\":{\"colorbar\":{\"outlinewidth\":0,\"ticks\":\"\"}}}],\"scattermapbox\":[{\"type\":\"scattermapbox\",\"marker\":{\"colorbar\":{\"outlinewidth\":0,\"ticks\":\"\"}}}],\"scatterternary\":[{\"type\":\"scatterternary\",\"marker\":{\"colorbar\":{\"outlinewidth\":0,\"ticks\":\"\"}}}],\"scattercarpet\":[{\"type\":\"scattercarpet\",\"marker\":{\"colorbar\":{\"outlinewidth\":0,\"ticks\":\"\"}}}],\"carpet\":[{\"aaxis\":{\"endlinecolor\":\"#2a3f5f\",\"gridcolor\":\"white\",\"linecolor\":\"white\",\"minorgridcolor\":\"white\",\"startlinecolor\":\"#2a3f5f\"},\"baxis\":{\"endlinecolor\":\"#2a3f5f\",\"gridcolor\":\"white\",\"linecolor\":\"white\",\"minorgridcolor\":\"white\",\"startlinecolor\":\"#2a3f5f\"},\"type\":\"carpet\"}],\"table\":[{\"cells\":{\"fill\":{\"color\":\"#EBF0F8\"},\"line\":{\"color\":\"white\"}},\"header\":{\"fill\":{\"color\":\"#C8D4E3\"},\"line\":{\"color\":\"white\"}},\"type\":\"table\"}],\"barpolar\":[{\"marker\":{\"line\":{\"color\":\"#E5ECF6\",\"width\":0.5},\"pattern\":{\"fillmode\":\"overlay\",\"size\":10,\"solidity\":0.2}},\"type\":\"barpolar\"}],\"pie\":[{\"automargin\":true,\"type\":\"pie\"}]},\"layout\":{\"autotypenumbers\":\"strict\",\"colorway\":[\"#636efa\",\"#EF553B\",\"#00cc96\",\"#ab63fa\",\"#FFA15A\",\"#19d3f3\",\"#FF6692\",\"#B6E880\",\"#FF97FF\",\"#FECB52\"],\"font\":{\"color\":\"#2a3f5f\"},\"hovermode\":\"closest\",\"hoverlabel\":{\"align\":\"left\"},\"paper_bgcolor\":\"white\",\"plot_bgcolor\":\"#E5ECF6\",\"polar\":{\"bgcolor\":\"#E5ECF6\",\"angularaxis\":{\"gridcolor\":\"white\",\"linecolor\":\"white\",\"ticks\":\"\"},\"radialaxis\":{\"gridcolor\":\"white\",\"linecolor\":\"white\",\"ticks\":\"\"}},\"ternary\":{\"bgcolor\":\"#E5ECF6\",\"aaxis\":{\"gridcolor\":\"white\",\"linecolor\":\"white\",\"ticks\":\"\"},\"baxis\":{\"gridcolor\":\"white\",\"linecolor\":\"white\",\"ticks\":\"\"},\"caxis\":{\"gridcolor\":\"white\",\"linecolor\":\"white\",\"ticks\":\"\"}},\"coloraxis\":{\"colorbar\":{\"outlinewidth\":0,\"ticks\":\"\"}},\"colorscale\":{\"sequential\":[[0.0,\"#0d0887\"],[0.1111111111111111,\"#46039f\"],[0.2222222222222222,\"#7201a8\"],[0.3333333333333333,\"#9c179e\"],[0.4444444444444444,\"#bd3786\"],[0.5555555555555556,\"#d8576b\"],[0.6666666666666666,\"#ed7953\"],[0.7777777777777778,\"#fb9f3a\"],[0.8888888888888888,\"#fdca26\"],[1.0,\"#f0f921\"]],\"sequentialminus\":[[0.0,\"#0d0887\"],[0.1111111111111111,\"#46039f\"],[0.2222222222222222,\"#7201a8\"],[0.3333333333333333,\"#9c179e\"],[0.4444444444444444,\"#bd3786\"],[0.5555555555555556,\"#d8576b\"],[0.6666666666666666,\"#ed7953\"],[0.7777777777777778,\"#fb9f3a\"],[0.8888888888888888,\"#fdca26\"],[1.0,\"#f0f921\"]],\"diverging\":[[0,\"#8e0152\"],[0.1,\"#c51b7d\"],[0.2,\"#de77ae\"],[0.3,\"#f1b6da\"],[0.4,\"#fde0ef\"],[0.5,\"#f7f7f7\"],[0.6,\"#e6f5d0\"],[0.7,\"#b8e186\"],[0.8,\"#7fbc41\"],[0.9,\"#4d9221\"],[1,\"#276419\"]]},\"xaxis\":{\"gridcolor\":\"white\",\"linecolor\":\"white\",\"ticks\":\"\",\"title\":{\"standoff\":15},\"zerolinecolor\":\"white\",\"automargin\":true,\"zerolinewidth\":2},\"yaxis\":{\"gridcolor\":\"white\",\"linecolor\":\"white\",\"ticks\":\"\",\"title\":{\"standoff\":15},\"zerolinecolor\":\"white\",\"automargin\":true,\"zerolinewidth\":2},\"scene\":{\"xaxis\":{\"backgroundcolor\":\"#E5ECF6\",\"gridcolor\":\"white\",\"linecolor\":\"white\",\"showbackground\":true,\"ticks\":\"\",\"zerolinecolor\":\"white\",\"gridwidth\":2},\"yaxis\":{\"backgroundcolor\":\"#E5ECF6\",\"gridcolor\":\"white\",\"linecolor\":\"white\",\"showbackground\":true,\"ticks\":\"\",\"zerolinecolor\":\"white\",\"gridwidth\":2},\"zaxis\":{\"backgroundcolor\":\"#E5ECF6\",\"gridcolor\":\"white\",\"linecolor\":\"white\",\"showbackground\":true,\"ticks\":\"\",\"zerolinecolor\":\"white\",\"gridwidth\":2}},\"shapedefaults\":{\"line\":{\"color\":\"#2a3f5f\"}},\"annotationdefaults\":{\"arrowcolor\":\"#2a3f5f\",\"arrowhead\":0,\"arrowwidth\":1},\"geo\":{\"bgcolor\":\"white\",\"landcolor\":\"#E5ECF6\",\"subunitcolor\":\"white\",\"showland\":true,\"showlakes\":true,\"lakecolor\":\"white\"},\"title\":{\"x\":0.05},\"mapbox\":{\"style\":\"light\"}}},\"polar\":{\"radialaxis\":{\"visible\":true,\"range\":[0,35]}},\"showlegend\":true,\"width\":500,\"height\":500},                        {\"responsive\": true}                    ).then(function(){\n",
       "                            \n",
       "var gd = document.getElementById('ca6a790b-2cc9-49d9-a9c7-b97108d6f2ca');\n",
       "var x = new MutationObserver(function (mutations, observer) {{\n",
       "        var display = window.getComputedStyle(gd).display;\n",
       "        if (!display || display === 'none') {{\n",
       "            console.log([gd, 'removed!']);\n",
       "            Plotly.purge(gd);\n",
       "            observer.disconnect();\n",
       "        }}\n",
       "}});\n",
       "\n",
       "// Listen for the removal of the full notebook cells\n",
       "var notebookContainer = gd.closest('#notebook-container');\n",
       "if (notebookContainer) {{\n",
       "    x.observe(notebookContainer, {childList: true});\n",
       "}}\n",
       "\n",
       "// Listen for the clearing of the current output cell\n",
       "var outputEl = gd.closest('.output');\n",
       "if (outputEl) {{\n",
       "    x.observe(outputEl, {childList: true});\n",
       "}}\n",
       "\n",
       "                        })                };                });            </script>        </div>"
      ]
     },
     "metadata": {},
     "output_type": "display_data"
    }
   ],
   "source": [
    "# Radar visualization of all stats to compare group A,B, and C.\n",
    "categories = ['MPG','PPG', 'RPG', 'APG','FG%', '3P%','FT%']\n",
    "fig = go.Figure()\n",
    "fig.add_trace(go.Scatterpolar(\n",
    "    r = [30.44, 16.10, 5.39, 3.80,0.46,0.32,0.75],\n",
    "    theta = categories,\n",
    "    fill='toself',\n",
    "    name= 'Group A'\n",
    "))\n",
    "\n",
    "fig.add_trace(go.Scatterpolar(\n",
    "    r = [19.88,8.36,3.62,1.72,0.42,0.31,0.76],\n",
    "    theta = categories,\n",
    "    fill='toself',\n",
    "    name= 'Group B'\n",
    "))\n",
    "\n",
    "fig.add_trace(go.Scatterpolar(\n",
    "    r = [17.52,7.33,3.26,1.46,0.48,0.30,0.75],\n",
    "    theta = categories,\n",
    "    fill='toself',\n",
    "    name= 'Group C'\n",
    "))\n",
    "\n",
    "fig.update_layout(\n",
    "    polar=dict(\n",
    "        radialaxis=dict(\n",
    "          visible=True,\n",
    "          range=[0,35]\n",
    "        )),\n",
    "    showlegend=True,\n",
    "    width = 500,\n",
    "    height = 500\n",
    ")\n",
    "    \n",
    "fig.show()"
   ]
  },
  {
   "cell_type": "code",
   "execution_count": null,
   "id": "fa6a2b77-03d0-442e-8829-86b2fd9f043f",
   "metadata": {},
   "outputs": [],
   "source": []
  },
  {
   "cell_type": "code",
   "execution_count": 145,
   "id": "056a8936-7751-4bb5-9913-77aa8843b6fd",
   "metadata": {},
   "outputs": [
    {
     "data": {
      "application/vnd.plotly.v1+json": {
       "config": {
        "plotlyServerURL": "https://plot.ly"
       },
       "data": [
        {
         "fill": "toself",
         "name": "Group A",
         "r": [
          30.44,
          16.1,
          5.39,
          3.8
         ],
         "theta": [
          "MPG",
          "PPG",
          "RPG",
          "APG"
         ],
         "type": "scatterpolar"
        },
        {
         "fill": "toself",
         "name": "Group B",
         "r": [
          19.88,
          8.36,
          3.62,
          1.72
         ],
         "theta": [
          "MPG",
          "PPG",
          "RPG",
          "APG"
         ],
         "type": "scatterpolar"
        },
        {
         "fill": "toself",
         "name": "Group C",
         "r": [
          17.52,
          7.33,
          3.26,
          1.46
         ],
         "theta": [
          "MPG",
          "PPG",
          "RPG",
          "APG"
         ],
         "type": "scatterpolar"
        }
       ],
       "layout": {
        "height": 500,
        "polar": {
         "angularaxis": {
          "type": "category"
         },
         "radialaxis": {
          "autorange": false,
          "range": [
           0,
           35
          ],
          "type": "linear",
          "visible": true
         }
        },
        "showlegend": true,
        "template": {
         "data": {
          "bar": [
           {
            "error_x": {
             "color": "#2a3f5f"
            },
            "error_y": {
             "color": "#2a3f5f"
            },
            "marker": {
             "line": {
              "color": "#E5ECF6",
              "width": 0.5
             },
             "pattern": {
              "fillmode": "overlay",
              "size": 10,
              "solidity": 0.2
             }
            },
            "type": "bar"
           }
          ],
          "barpolar": [
           {
            "marker": {
             "line": {
              "color": "#E5ECF6",
              "width": 0.5
             },
             "pattern": {
              "fillmode": "overlay",
              "size": 10,
              "solidity": 0.2
             }
            },
            "type": "barpolar"
           }
          ],
          "carpet": [
           {
            "aaxis": {
             "endlinecolor": "#2a3f5f",
             "gridcolor": "white",
             "linecolor": "white",
             "minorgridcolor": "white",
             "startlinecolor": "#2a3f5f"
            },
            "baxis": {
             "endlinecolor": "#2a3f5f",
             "gridcolor": "white",
             "linecolor": "white",
             "minorgridcolor": "white",
             "startlinecolor": "#2a3f5f"
            },
            "type": "carpet"
           }
          ],
          "choropleth": [
           {
            "colorbar": {
             "outlinewidth": 0,
             "ticks": ""
            },
            "type": "choropleth"
           }
          ],
          "contour": [
           {
            "colorbar": {
             "outlinewidth": 0,
             "ticks": ""
            },
            "colorscale": [
             [
              0,
              "#0d0887"
             ],
             [
              0.1111111111111111,
              "#46039f"
             ],
             [
              0.2222222222222222,
              "#7201a8"
             ],
             [
              0.3333333333333333,
              "#9c179e"
             ],
             [
              0.4444444444444444,
              "#bd3786"
             ],
             [
              0.5555555555555556,
              "#d8576b"
             ],
             [
              0.6666666666666666,
              "#ed7953"
             ],
             [
              0.7777777777777778,
              "#fb9f3a"
             ],
             [
              0.8888888888888888,
              "#fdca26"
             ],
             [
              1,
              "#f0f921"
             ]
            ],
            "type": "contour"
           }
          ],
          "contourcarpet": [
           {
            "colorbar": {
             "outlinewidth": 0,
             "ticks": ""
            },
            "type": "contourcarpet"
           }
          ],
          "heatmap": [
           {
            "colorbar": {
             "outlinewidth": 0,
             "ticks": ""
            },
            "colorscale": [
             [
              0,
              "#0d0887"
             ],
             [
              0.1111111111111111,
              "#46039f"
             ],
             [
              0.2222222222222222,
              "#7201a8"
             ],
             [
              0.3333333333333333,
              "#9c179e"
             ],
             [
              0.4444444444444444,
              "#bd3786"
             ],
             [
              0.5555555555555556,
              "#d8576b"
             ],
             [
              0.6666666666666666,
              "#ed7953"
             ],
             [
              0.7777777777777778,
              "#fb9f3a"
             ],
             [
              0.8888888888888888,
              "#fdca26"
             ],
             [
              1,
              "#f0f921"
             ]
            ],
            "type": "heatmap"
           }
          ],
          "heatmapgl": [
           {
            "colorbar": {
             "outlinewidth": 0,
             "ticks": ""
            },
            "colorscale": [
             [
              0,
              "#0d0887"
             ],
             [
              0.1111111111111111,
              "#46039f"
             ],
             [
              0.2222222222222222,
              "#7201a8"
             ],
             [
              0.3333333333333333,
              "#9c179e"
             ],
             [
              0.4444444444444444,
              "#bd3786"
             ],
             [
              0.5555555555555556,
              "#d8576b"
             ],
             [
              0.6666666666666666,
              "#ed7953"
             ],
             [
              0.7777777777777778,
              "#fb9f3a"
             ],
             [
              0.8888888888888888,
              "#fdca26"
             ],
             [
              1,
              "#f0f921"
             ]
            ],
            "type": "heatmapgl"
           }
          ],
          "histogram": [
           {
            "marker": {
             "pattern": {
              "fillmode": "overlay",
              "size": 10,
              "solidity": 0.2
             }
            },
            "type": "histogram"
           }
          ],
          "histogram2d": [
           {
            "colorbar": {
             "outlinewidth": 0,
             "ticks": ""
            },
            "colorscale": [
             [
              0,
              "#0d0887"
             ],
             [
              0.1111111111111111,
              "#46039f"
             ],
             [
              0.2222222222222222,
              "#7201a8"
             ],
             [
              0.3333333333333333,
              "#9c179e"
             ],
             [
              0.4444444444444444,
              "#bd3786"
             ],
             [
              0.5555555555555556,
              "#d8576b"
             ],
             [
              0.6666666666666666,
              "#ed7953"
             ],
             [
              0.7777777777777778,
              "#fb9f3a"
             ],
             [
              0.8888888888888888,
              "#fdca26"
             ],
             [
              1,
              "#f0f921"
             ]
            ],
            "type": "histogram2d"
           }
          ],
          "histogram2dcontour": [
           {
            "colorbar": {
             "outlinewidth": 0,
             "ticks": ""
            },
            "colorscale": [
             [
              0,
              "#0d0887"
             ],
             [
              0.1111111111111111,
              "#46039f"
             ],
             [
              0.2222222222222222,
              "#7201a8"
             ],
             [
              0.3333333333333333,
              "#9c179e"
             ],
             [
              0.4444444444444444,
              "#bd3786"
             ],
             [
              0.5555555555555556,
              "#d8576b"
             ],
             [
              0.6666666666666666,
              "#ed7953"
             ],
             [
              0.7777777777777778,
              "#fb9f3a"
             ],
             [
              0.8888888888888888,
              "#fdca26"
             ],
             [
              1,
              "#f0f921"
             ]
            ],
            "type": "histogram2dcontour"
           }
          ],
          "mesh3d": [
           {
            "colorbar": {
             "outlinewidth": 0,
             "ticks": ""
            },
            "type": "mesh3d"
           }
          ],
          "parcoords": [
           {
            "line": {
             "colorbar": {
              "outlinewidth": 0,
              "ticks": ""
             }
            },
            "type": "parcoords"
           }
          ],
          "pie": [
           {
            "automargin": true,
            "type": "pie"
           }
          ],
          "scatter": [
           {
            "fillpattern": {
             "fillmode": "overlay",
             "size": 10,
             "solidity": 0.2
            },
            "type": "scatter"
           }
          ],
          "scatter3d": [
           {
            "line": {
             "colorbar": {
              "outlinewidth": 0,
              "ticks": ""
             }
            },
            "marker": {
             "colorbar": {
              "outlinewidth": 0,
              "ticks": ""
             }
            },
            "type": "scatter3d"
           }
          ],
          "scattercarpet": [
           {
            "marker": {
             "colorbar": {
              "outlinewidth": 0,
              "ticks": ""
             }
            },
            "type": "scattercarpet"
           }
          ],
          "scattergeo": [
           {
            "marker": {
             "colorbar": {
              "outlinewidth": 0,
              "ticks": ""
             }
            },
            "type": "scattergeo"
           }
          ],
          "scattergl": [
           {
            "marker": {
             "colorbar": {
              "outlinewidth": 0,
              "ticks": ""
             }
            },
            "type": "scattergl"
           }
          ],
          "scattermapbox": [
           {
            "marker": {
             "colorbar": {
              "outlinewidth": 0,
              "ticks": ""
             }
            },
            "type": "scattermapbox"
           }
          ],
          "scatterpolar": [
           {
            "marker": {
             "colorbar": {
              "outlinewidth": 0,
              "ticks": ""
             }
            },
            "type": "scatterpolar"
           }
          ],
          "scatterpolargl": [
           {
            "marker": {
             "colorbar": {
              "outlinewidth": 0,
              "ticks": ""
             }
            },
            "type": "scatterpolargl"
           }
          ],
          "scatterternary": [
           {
            "marker": {
             "colorbar": {
              "outlinewidth": 0,
              "ticks": ""
             }
            },
            "type": "scatterternary"
           }
          ],
          "surface": [
           {
            "colorbar": {
             "outlinewidth": 0,
             "ticks": ""
            },
            "colorscale": [
             [
              0,
              "#0d0887"
             ],
             [
              0.1111111111111111,
              "#46039f"
             ],
             [
              0.2222222222222222,
              "#7201a8"
             ],
             [
              0.3333333333333333,
              "#9c179e"
             ],
             [
              0.4444444444444444,
              "#bd3786"
             ],
             [
              0.5555555555555556,
              "#d8576b"
             ],
             [
              0.6666666666666666,
              "#ed7953"
             ],
             [
              0.7777777777777778,
              "#fb9f3a"
             ],
             [
              0.8888888888888888,
              "#fdca26"
             ],
             [
              1,
              "#f0f921"
             ]
            ],
            "type": "surface"
           }
          ],
          "table": [
           {
            "cells": {
             "fill": {
              "color": "#EBF0F8"
             },
             "line": {
              "color": "white"
             }
            },
            "header": {
             "fill": {
              "color": "#C8D4E3"
             },
             "line": {
              "color": "white"
             }
            },
            "type": "table"
           }
          ]
         },
         "layout": {
          "annotationdefaults": {
           "arrowcolor": "#2a3f5f",
           "arrowhead": 0,
           "arrowwidth": 1
          },
          "autotypenumbers": "strict",
          "coloraxis": {
           "colorbar": {
            "outlinewidth": 0,
            "ticks": ""
           }
          },
          "colorscale": {
           "diverging": [
            [
             0,
             "#8e0152"
            ],
            [
             0.1,
             "#c51b7d"
            ],
            [
             0.2,
             "#de77ae"
            ],
            [
             0.3,
             "#f1b6da"
            ],
            [
             0.4,
             "#fde0ef"
            ],
            [
             0.5,
             "#f7f7f7"
            ],
            [
             0.6,
             "#e6f5d0"
            ],
            [
             0.7,
             "#b8e186"
            ],
            [
             0.8,
             "#7fbc41"
            ],
            [
             0.9,
             "#4d9221"
            ],
            [
             1,
             "#276419"
            ]
           ],
           "sequential": [
            [
             0,
             "#0d0887"
            ],
            [
             0.1111111111111111,
             "#46039f"
            ],
            [
             0.2222222222222222,
             "#7201a8"
            ],
            [
             0.3333333333333333,
             "#9c179e"
            ],
            [
             0.4444444444444444,
             "#bd3786"
            ],
            [
             0.5555555555555556,
             "#d8576b"
            ],
            [
             0.6666666666666666,
             "#ed7953"
            ],
            [
             0.7777777777777778,
             "#fb9f3a"
            ],
            [
             0.8888888888888888,
             "#fdca26"
            ],
            [
             1,
             "#f0f921"
            ]
           ],
           "sequentialminus": [
            [
             0,
             "#0d0887"
            ],
            [
             0.1111111111111111,
             "#46039f"
            ],
            [
             0.2222222222222222,
             "#7201a8"
            ],
            [
             0.3333333333333333,
             "#9c179e"
            ],
            [
             0.4444444444444444,
             "#bd3786"
            ],
            [
             0.5555555555555556,
             "#d8576b"
            ],
            [
             0.6666666666666666,
             "#ed7953"
            ],
            [
             0.7777777777777778,
             "#fb9f3a"
            ],
            [
             0.8888888888888888,
             "#fdca26"
            ],
            [
             1,
             "#f0f921"
            ]
           ]
          },
          "colorway": [
           "#636efa",
           "#EF553B",
           "#00cc96",
           "#ab63fa",
           "#FFA15A",
           "#19d3f3",
           "#FF6692",
           "#B6E880",
           "#FF97FF",
           "#FECB52"
          ],
          "font": {
           "color": "#2a3f5f"
          },
          "geo": {
           "bgcolor": "white",
           "lakecolor": "white",
           "landcolor": "#E5ECF6",
           "showlakes": true,
           "showland": true,
           "subunitcolor": "white"
          },
          "hoverlabel": {
           "align": "left"
          },
          "hovermode": "closest",
          "mapbox": {
           "style": "light"
          },
          "paper_bgcolor": "white",
          "plot_bgcolor": "#E5ECF6",
          "polar": {
           "angularaxis": {
            "gridcolor": "white",
            "linecolor": "white",
            "ticks": ""
           },
           "bgcolor": "#E5ECF6",
           "radialaxis": {
            "gridcolor": "white",
            "linecolor": "white",
            "ticks": ""
           }
          },
          "scene": {
           "xaxis": {
            "backgroundcolor": "#E5ECF6",
            "gridcolor": "white",
            "gridwidth": 2,
            "linecolor": "white",
            "showbackground": true,
            "ticks": "",
            "zerolinecolor": "white"
           },
           "yaxis": {
            "backgroundcolor": "#E5ECF6",
            "gridcolor": "white",
            "gridwidth": 2,
            "linecolor": "white",
            "showbackground": true,
            "ticks": "",
            "zerolinecolor": "white"
           },
           "zaxis": {
            "backgroundcolor": "#E5ECF6",
            "gridcolor": "white",
            "gridwidth": 2,
            "linecolor": "white",
            "showbackground": true,
            "ticks": "",
            "zerolinecolor": "white"
           }
          },
          "shapedefaults": {
           "line": {
            "color": "#2a3f5f"
           }
          },
          "ternary": {
           "aaxis": {
            "gridcolor": "white",
            "linecolor": "white",
            "ticks": ""
           },
           "baxis": {
            "gridcolor": "white",
            "linecolor": "white",
            "ticks": ""
           },
           "bgcolor": "#E5ECF6",
           "caxis": {
            "gridcolor": "white",
            "linecolor": "white",
            "ticks": ""
           }
          },
          "title": {
           "x": 0.05
          },
          "xaxis": {
           "automargin": true,
           "gridcolor": "white",
           "linecolor": "white",
           "ticks": "",
           "title": {
            "standoff": 15
           },
           "zerolinecolor": "white",
           "zerolinewidth": 2
          },
          "yaxis": {
           "automargin": true,
           "gridcolor": "white",
           "linecolor": "white",
           "ticks": "",
           "title": {
            "standoff": 15
           },
           "zerolinecolor": "white",
           "zerolinewidth": 2
          }
         }
        },
        "width": 500
       }
      },
      "image/png": "[encoded data removed]",
      "text/html": [
       "<div>                            <div id=\"5a4ae031-ee1e-4b19-a882-1568a8bbb512\" class=\"plotly-graph-div\" style=\"height:500px; width:500px;\"></div>            <script type=\"text/javascript\">                require([\"plotly\"], function(Plotly) {                    window.PLOTLYENV=window.PLOTLYENV || {};                                    if (document.getElementById(\"5a4ae031-ee1e-4b19-a882-1568a8bbb512\")) {                    Plotly.newPlot(                        \"5a4ae031-ee1e-4b19-a882-1568a8bbb512\",                        [{\"fill\":\"toself\",\"name\":\"Group A\",\"r\":[30.44,16.1,5.39,3.8],\"theta\":[\"MPG\",\"PPG\",\"RPG\",\"APG\"],\"type\":\"scatterpolar\"},{\"fill\":\"toself\",\"name\":\"Group B\",\"r\":[19.88,8.36,3.62,1.72],\"theta\":[\"MPG\",\"PPG\",\"RPG\",\"APG\"],\"type\":\"scatterpolar\"},{\"fill\":\"toself\",\"name\":\"Group C\",\"r\":[17.52,7.33,3.26,1.46],\"theta\":[\"MPG\",\"PPG\",\"RPG\",\"APG\"],\"type\":\"scatterpolar\"}],                        {\"template\":{\"data\":{\"histogram2dcontour\":[{\"type\":\"histogram2dcontour\",\"colorbar\":{\"outlinewidth\":0,\"ticks\":\"\"},\"colorscale\":[[0.0,\"#0d0887\"],[0.1111111111111111,\"#46039f\"],[0.2222222222222222,\"#7201a8\"],[0.3333333333333333,\"#9c179e\"],[0.4444444444444444,\"#bd3786\"],[0.5555555555555556,\"#d8576b\"],[0.6666666666666666,\"#ed7953\"],[0.7777777777777778,\"#fb9f3a\"],[0.8888888888888888,\"#fdca26\"],[1.0,\"#f0f921\"]]}],\"choropleth\":[{\"type\":\"choropleth\",\"colorbar\":{\"outlinewidth\":0,\"ticks\":\"\"}}],\"histogram2d\":[{\"type\":\"histogram2d\",\"colorbar\":{\"outlinewidth\":0,\"ticks\":\"\"},\"colorscale\":[[0.0,\"#0d0887\"],[0.1111111111111111,\"#46039f\"],[0.2222222222222222,\"#7201a8\"],[0.3333333333333333,\"#9c179e\"],[0.4444444444444444,\"#bd3786\"],[0.5555555555555556,\"#d8576b\"],[0.6666666666666666,\"#ed7953\"],[0.7777777777777778,\"#fb9f3a\"],[0.8888888888888888,\"#fdca26\"],[1.0,\"#f0f921\"]]}],\"heatmap\":[{\"type\":\"heatmap\",\"colorbar\":{\"outlinewidth\":0,\"ticks\":\"\"},\"colorscale\":[[0.0,\"#0d0887\"],[0.1111111111111111,\"#46039f\"],[0.2222222222222222,\"#7201a8\"],[0.3333333333333333,\"#9c179e\"],[0.4444444444444444,\"#bd3786\"],[0.5555555555555556,\"#d8576b\"],[0.6666666666666666,\"#ed7953\"],[0.7777777777777778,\"#fb9f3a\"],[0.8888888888888888,\"#fdca26\"],[1.0,\"#f0f921\"]]}],\"heatmapgl\":[{\"type\":\"heatmapgl\",\"colorbar\":{\"outlinewidth\":0,\"ticks\":\"\"},\"colorscale\":[[0.0,\"#0d0887\"],[0.1111111111111111,\"#46039f\"],[0.2222222222222222,\"#7201a8\"],[0.3333333333333333,\"#9c179e\"],[0.4444444444444444,\"#bd3786\"],[0.5555555555555556,\"#d8576b\"],[0.6666666666666666,\"#ed7953\"],[0.7777777777777778,\"#fb9f3a\"],[0.8888888888888888,\"#fdca26\"],[1.0,\"#f0f921\"]]}],\"contourcarpet\":[{\"type\":\"contourcarpet\",\"colorbar\":{\"outlinewidth\":0,\"ticks\":\"\"}}],\"contour\":[{\"type\":\"contour\",\"colorbar\":{\"outlinewidth\":0,\"ticks\":\"\"},\"colorscale\":[[0.0,\"#0d0887\"],[0.1111111111111111,\"#46039f\"],[0.2222222222222222,\"#7201a8\"],[0.3333333333333333,\"#9c179e\"],[0.4444444444444444,\"#bd3786\"],[0.5555555555555556,\"#d8576b\"],[0.6666666666666666,\"#ed7953\"],[0.7777777777777778,\"#fb9f3a\"],[0.8888888888888888,\"#fdca26\"],[1.0,\"#f0f921\"]]}],\"surface\":[{\"type\":\"surface\",\"colorbar\":{\"outlinewidth\":0,\"ticks\":\"\"},\"colorscale\":[[0.0,\"#0d0887\"],[0.1111111111111111,\"#46039f\"],[0.2222222222222222,\"#7201a8\"],[0.3333333333333333,\"#9c179e\"],[0.4444444444444444,\"#bd3786\"],[0.5555555555555556,\"#d8576b\"],[0.6666666666666666,\"#ed7953\"],[0.7777777777777778,\"#fb9f3a\"],[0.8888888888888888,\"#fdca26\"],[1.0,\"#f0f921\"]]}],\"mesh3d\":[{\"type\":\"mesh3d\",\"colorbar\":{\"outlinewidth\":0,\"ticks\":\"\"}}],\"scatter\":[{\"fillpattern\":{\"fillmode\":\"overlay\",\"size\":10,\"solidity\":0.2},\"type\":\"scatter\"}],\"parcoords\":[{\"type\":\"parcoords\",\"line\":{\"colorbar\":{\"outlinewidth\":0,\"ticks\":\"\"}}}],\"scatterpolargl\":[{\"type\":\"scatterpolargl\",\"marker\":{\"colorbar\":{\"outlinewidth\":0,\"ticks\":\"\"}}}],\"bar\":[{\"error_x\":{\"color\":\"#2a3f5f\"},\"error_y\":{\"color\":\"#2a3f5f\"},\"marker\":{\"line\":{\"color\":\"#E5ECF6\",\"width\":0.5},\"pattern\":{\"fillmode\":\"overlay\",\"size\":10,\"solidity\":0.2}},\"type\":\"bar\"}],\"scattergeo\":[{\"type\":\"scattergeo\",\"marker\":{\"colorbar\":{\"outlinewidth\":0,\"ticks\":\"\"}}}],\"scatterpolar\":[{\"type\":\"scatterpolar\",\"marker\":{\"colorbar\":{\"outlinewidth\":0,\"ticks\":\"\"}}}],\"histogram\":[{\"marker\":{\"pattern\":{\"fillmode\":\"overlay\",\"size\":10,\"solidity\":0.2}},\"type\":\"histogram\"}],\"scattergl\":[{\"type\":\"scattergl\",\"marker\":{\"colorbar\":{\"outlinewidth\":0,\"ticks\":\"\"}}}],\"scatter3d\":[{\"type\":\"scatter3d\",\"line\":{\"colorbar\":{\"outlinewidth\":0,\"ticks\":\"\"}},\"marker\":{\"colorbar\":{\"outlinewidth\":0,\"ticks\":\"\"}}}],\"scattermapbox\":[{\"type\":\"scattermapbox\",\"marker\":{\"colorbar\":{\"outlinewidth\":0,\"ticks\":\"\"}}}],\"scatterternary\":[{\"type\":\"scatterternary\",\"marker\":{\"colorbar\":{\"outlinewidth\":0,\"ticks\":\"\"}}}],\"scattercarpet\":[{\"type\":\"scattercarpet\",\"marker\":{\"colorbar\":{\"outlinewidth\":0,\"ticks\":\"\"}}}],\"carpet\":[{\"aaxis\":{\"endlinecolor\":\"#2a3f5f\",\"gridcolor\":\"white\",\"linecolor\":\"white\",\"minorgridcolor\":\"white\",\"startlinecolor\":\"#2a3f5f\"},\"baxis\":{\"endlinecolor\":\"#2a3f5f\",\"gridcolor\":\"white\",\"linecolor\":\"white\",\"minorgridcolor\":\"white\",\"startlinecolor\":\"#2a3f5f\"},\"type\":\"carpet\"}],\"table\":[{\"cells\":{\"fill\":{\"color\":\"#EBF0F8\"},\"line\":{\"color\":\"white\"}},\"header\":{\"fill\":{\"color\":\"#C8D4E3\"},\"line\":{\"color\":\"white\"}},\"type\":\"table\"}],\"barpolar\":[{\"marker\":{\"line\":{\"color\":\"#E5ECF6\",\"width\":0.5},\"pattern\":{\"fillmode\":\"overlay\",\"size\":10,\"solidity\":0.2}},\"type\":\"barpolar\"}],\"pie\":[{\"automargin\":true,\"type\":\"pie\"}]},\"layout\":{\"autotypenumbers\":\"strict\",\"colorway\":[\"#636efa\",\"#EF553B\",\"#00cc96\",\"#ab63fa\",\"#FFA15A\",\"#19d3f3\",\"#FF6692\",\"#B6E880\",\"#FF97FF\",\"#FECB52\"],\"font\":{\"color\":\"#2a3f5f\"},\"hovermode\":\"closest\",\"hoverlabel\":{\"align\":\"left\"},\"paper_bgcolor\":\"white\",\"plot_bgcolor\":\"#E5ECF6\",\"polar\":{\"bgcolor\":\"#E5ECF6\",\"angularaxis\":{\"gridcolor\":\"white\",\"linecolor\":\"white\",\"ticks\":\"\"},\"radialaxis\":{\"gridcolor\":\"white\",\"linecolor\":\"white\",\"ticks\":\"\"}},\"ternary\":{\"bgcolor\":\"#E5ECF6\",\"aaxis\":{\"gridcolor\":\"white\",\"linecolor\":\"white\",\"ticks\":\"\"},\"baxis\":{\"gridcolor\":\"white\",\"linecolor\":\"white\",\"ticks\":\"\"},\"caxis\":{\"gridcolor\":\"white\",\"linecolor\":\"white\",\"ticks\":\"\"}},\"coloraxis\":{\"colorbar\":{\"outlinewidth\":0,\"ticks\":\"\"}},\"colorscale\":{\"sequential\":[[0.0,\"#0d0887\"],[0.1111111111111111,\"#46039f\"],[0.2222222222222222,\"#7201a8\"],[0.3333333333333333,\"#9c179e\"],[0.4444444444444444,\"#bd3786\"],[0.5555555555555556,\"#d8576b\"],[0.6666666666666666,\"#ed7953\"],[0.7777777777777778,\"#fb9f3a\"],[0.8888888888888888,\"#fdca26\"],[1.0,\"#f0f921\"]],\"sequentialminus\":[[0.0,\"#0d0887\"],[0.1111111111111111,\"#46039f\"],[0.2222222222222222,\"#7201a8\"],[0.3333333333333333,\"#9c179e\"],[0.4444444444444444,\"#bd3786\"],[0.5555555555555556,\"#d8576b\"],[0.6666666666666666,\"#ed7953\"],[0.7777777777777778,\"#fb9f3a\"],[0.8888888888888888,\"#fdca26\"],[1.0,\"#f0f921\"]],\"diverging\":[[0,\"#8e0152\"],[0.1,\"#c51b7d\"],[0.2,\"#de77ae\"],[0.3,\"#f1b6da\"],[0.4,\"#fde0ef\"],[0.5,\"#f7f7f7\"],[0.6,\"#e6f5d0\"],[0.7,\"#b8e186\"],[0.8,\"#7fbc41\"],[0.9,\"#4d9221\"],[1,\"#276419\"]]},\"xaxis\":{\"gridcolor\":\"white\",\"linecolor\":\"white\",\"ticks\":\"\",\"title\":{\"standoff\":15},\"zerolinecolor\":\"white\",\"automargin\":true,\"zerolinewidth\":2},\"yaxis\":{\"gridcolor\":\"white\",\"linecolor\":\"white\",\"ticks\":\"\",\"title\":{\"standoff\":15},\"zerolinecolor\":\"white\",\"automargin\":true,\"zerolinewidth\":2},\"scene\":{\"xaxis\":{\"backgroundcolor\":\"#E5ECF6\",\"gridcolor\":\"white\",\"linecolor\":\"white\",\"showbackground\":true,\"ticks\":\"\",\"zerolinecolor\":\"white\",\"gridwidth\":2},\"yaxis\":{\"backgroundcolor\":\"#E5ECF6\",\"gridcolor\":\"white\",\"linecolor\":\"white\",\"showbackground\":true,\"ticks\":\"\",\"zerolinecolor\":\"white\",\"gridwidth\":2},\"zaxis\":{\"backgroundcolor\":\"#E5ECF6\",\"gridcolor\":\"white\",\"linecolor\":\"white\",\"showbackground\":true,\"ticks\":\"\",\"zerolinecolor\":\"white\",\"gridwidth\":2}},\"shapedefaults\":{\"line\":{\"color\":\"#2a3f5f\"}},\"annotationdefaults\":{\"arrowcolor\":\"#2a3f5f\",\"arrowhead\":0,\"arrowwidth\":1},\"geo\":{\"bgcolor\":\"white\",\"landcolor\":\"#E5ECF6\",\"subunitcolor\":\"white\",\"showland\":true,\"showlakes\":true,\"lakecolor\":\"white\"},\"title\":{\"x\":0.05},\"mapbox\":{\"style\":\"light\"}}},\"polar\":{\"radialaxis\":{\"visible\":true,\"range\":[0,35]}},\"showlegend\":true,\"width\":500,\"height\":500},                        {\"responsive\": true}                    ).then(function(){\n",
       "                            \n",
       "var gd = document.getElementById('5a4ae031-ee1e-4b19-a882-1568a8bbb512');\n",
       "var x = new MutationObserver(function (mutations, observer) {{\n",
       "        var display = window.getComputedStyle(gd).display;\n",
       "        if (!display || display === 'none') {{\n",
       "            console.log([gd, 'removed!']);\n",
       "            Plotly.purge(gd);\n",
       "            observer.disconnect();\n",
       "        }}\n",
       "}});\n",
       "\n",
       "// Listen for the removal of the full notebook cells\n",
       "var notebookContainer = gd.closest('#notebook-container');\n",
       "if (notebookContainer) {{\n",
       "    x.observe(notebookContainer, {childList: true});\n",
       "}}\n",
       "\n",
       "// Listen for the clearing of the current output cell\n",
       "var outputEl = gd.closest('.output');\n",
       "if (outputEl) {{\n",
       "    x.observe(outputEl, {childList: true});\n",
       "}}\n",
       "\n",
       "                        })                };                });            </script>        </div>"
      ]
     },
     "metadata": {},
     "output_type": "display_data"
    }
   ],
   "source": [
    "# Radar visualization of MPG,PPG,RPG, and APG stats to compare group A,B, and C.\n",
    "pg_categories = ['MPG','PPG', 'RPG', 'APG']\n",
    "pg_fig = go.Figure()\n",
    "pg_fig.add_trace(go.Scatterpolar(\n",
    "    r = [30.44, 16.10, 5.39, 3.80],\n",
    "    theta = pg_categories,\n",
    "    fill='toself',\n",
    "    name= 'Group A'\n",
    "))\n",
    "\n",
    "pg_fig.add_trace(go.Scatterpolar(\n",
    "    r = [19.88,8.36,3.62,1.72],\n",
    "    theta = pg_categories,\n",
    "    fill='toself',\n",
    "    name= 'Group B'\n",
    "))\n",
    "\n",
    "pg_fig.add_trace(go.Scatterpolar(\n",
    "    r = [17.52,7.33,3.26,1.46],\n",
    "    theta = pg_categories,\n",
    "    fill='toself',\n",
    "    name= 'Group C'\n",
    "))\n",
    "\n",
    "pg_fig.update_layout(\n",
    "    polar=dict(\n",
    "        radialaxis=dict(\n",
    "          visible=True,\n",
    "          range=[0,35]\n",
    "        )),\n",
    "    showlegend=True,\n",
    "    width = 500,\n",
    "    height = 500\n",
    ")\n",
    "    \n",
    "pg_fig.show()"
   ]
  },
  {
   "cell_type": "code",
   "execution_count": null,
   "id": "b2e79319-645a-4e88-9b64-5d038a6061a7",
   "metadata": {},
   "outputs": [],
   "source": []
  },
  {
   "cell_type": "code",
   "execution_count": 146,
   "id": "95fd3eb1-eccd-4318-8000-d73f9ee54778",
   "metadata": {},
   "outputs": [
    {
     "data": {
      "application/vnd.plotly.v1+json": {
       "config": {
        "plotlyServerURL": "https://plot.ly"
       },
       "data": [
        {
         "fill": "toself",
         "name": "Group A",
         "r": [
          0.46,
          0.32,
          0.75
         ],
         "theta": [
          "FG%",
          "3P%",
          "FT%"
         ],
         "type": "scatterpolar"
        },
        {
         "fill": "toself",
         "name": "Group B",
         "r": [
          0.42,
          0.31,
          0.76
         ],
         "theta": [
          "FG%",
          "3P%",
          "FT%"
         ],
         "type": "scatterpolar"
        },
        {
         "fill": "toself",
         "name": "Group C",
         "r": [
          0.48,
          0.3,
          0.75
         ],
         "theta": [
          "FG%",
          "3P%",
          "FT%"
         ],
         "type": "scatterpolar"
        }
       ],
       "layout": {
        "height": 500,
        "polar": {
         "angularaxis": {
          "type": "category"
         },
         "radialaxis": {
          "autorange": false,
          "range": [
           0,
           1
          ],
          "type": "linear",
          "visible": true
         }
        },
        "showlegend": true,
        "template": {
         "data": {
          "bar": [
           {
            "error_x": {
             "color": "#2a3f5f"
            },
            "error_y": {
             "color": "#2a3f5f"
            },
            "marker": {
             "line": {
              "color": "#E5ECF6",
              "width": 0.5
             },
             "pattern": {
              "fillmode": "overlay",
              "size": 10,
              "solidity": 0.2
             }
            },
            "type": "bar"
           }
          ],
          "barpolar": [
           {
            "marker": {
             "line": {
              "color": "#E5ECF6",
              "width": 0.5
             },
             "pattern": {
              "fillmode": "overlay",
              "size": 10,
              "solidity": 0.2
             }
            },
            "type": "barpolar"
           }
          ],
          "carpet": [
           {
            "aaxis": {
             "endlinecolor": "#2a3f5f",
             "gridcolor": "white",
             "linecolor": "white",
             "minorgridcolor": "white",
             "startlinecolor": "#2a3f5f"
            },
            "baxis": {
             "endlinecolor": "#2a3f5f",
             "gridcolor": "white",
             "linecolor": "white",
             "minorgridcolor": "white",
             "startlinecolor": "#2a3f5f"
            },
            "type": "carpet"
           }
          ],
          "choropleth": [
           {
            "colorbar": {
             "outlinewidth": 0,
             "ticks": ""
            },
            "type": "choropleth"
           }
          ],
          "contour": [
           {
            "colorbar": {
             "outlinewidth": 0,
             "ticks": ""
            },
            "colorscale": [
             [
              0,
              "#0d0887"
             ],
             [
              0.1111111111111111,
              "#46039f"
             ],
             [
              0.2222222222222222,
              "#7201a8"
             ],
             [
              0.3333333333333333,
              "#9c179e"
             ],
             [
              0.4444444444444444,
              "#bd3786"
             ],
             [
              0.5555555555555556,
              "#d8576b"
             ],
             [
              0.6666666666666666,
              "#ed7953"
             ],
             [
              0.7777777777777778,
              "#fb9f3a"
             ],
             [
              0.8888888888888888,
              "#fdca26"
             ],
             [
              1,
              "#f0f921"
             ]
            ],
            "type": "contour"
           }
          ],
          "contourcarpet": [
           {
            "colorbar": {
             "outlinewidth": 0,
             "ticks": ""
            },
            "type": "contourcarpet"
           }
          ],
          "heatmap": [
           {
            "colorbar": {
             "outlinewidth": 0,
             "ticks": ""
            },
            "colorscale": [
             [
              0,
              "#0d0887"
             ],
             [
              0.1111111111111111,
              "#46039f"
             ],
             [
              0.2222222222222222,
              "#7201a8"
             ],
             [
              0.3333333333333333,
              "#9c179e"
             ],
             [
              0.4444444444444444,
              "#bd3786"
             ],
             [
              0.5555555555555556,
              "#d8576b"
             ],
             [
              0.6666666666666666,
              "#ed7953"
             ],
             [
              0.7777777777777778,
              "#fb9f3a"
             ],
             [
              0.8888888888888888,
              "#fdca26"
             ],
             [
              1,
              "#f0f921"
             ]
            ],
            "type": "heatmap"
           }
          ],
          "heatmapgl": [
           {
            "colorbar": {
             "outlinewidth": 0,
             "ticks": ""
            },
            "colorscale": [
             [
              0,
              "#0d0887"
             ],
             [
              0.1111111111111111,
              "#46039f"
             ],
             [
              0.2222222222222222,
              "#7201a8"
             ],
             [
              0.3333333333333333,
              "#9c179e"
             ],
             [
              0.4444444444444444,
              "#bd3786"
             ],
             [
              0.5555555555555556,
              "#d8576b"
             ],
             [
              0.6666666666666666,
              "#ed7953"
             ],
             [
              0.7777777777777778,
              "#fb9f3a"
             ],
             [
              0.8888888888888888,
              "#fdca26"
             ],
             [
              1,
              "#f0f921"
             ]
            ],
            "type": "heatmapgl"
           }
          ],
          "histogram": [
           {
            "marker": {
             "pattern": {
              "fillmode": "overlay",
              "size": 10,
              "solidity": 0.2
             }
            },
            "type": "histogram"
           }
          ],
          "histogram2d": [
           {
            "colorbar": {
             "outlinewidth": 0,
             "ticks": ""
            },
            "colorscale": [
             [
              0,
              "#0d0887"
             ],
             [
              0.1111111111111111,
              "#46039f"
             ],
             [
              0.2222222222222222,
              "#7201a8"
             ],
             [
              0.3333333333333333,
              "#9c179e"
             ],
             [
              0.4444444444444444,
              "#bd3786"
             ],
             [
              0.5555555555555556,
              "#d8576b"
             ],
             [
              0.6666666666666666,
              "#ed7953"
             ],
             [
              0.7777777777777778,
              "#fb9f3a"
             ],
             [
              0.8888888888888888,
              "#fdca26"
             ],
             [
              1,
              "#f0f921"
             ]
            ],
            "type": "histogram2d"
           }
          ],
          "histogram2dcontour": [
           {
            "colorbar": {
             "outlinewidth": 0,
             "ticks": ""
            },
            "colorscale": [
             [
              0,
              "#0d0887"
             ],
             [
              0.1111111111111111,
              "#46039f"
             ],
             [
              0.2222222222222222,
              "#7201a8"
             ],
             [
              0.3333333333333333,
              "#9c179e"
             ],
             [
              0.4444444444444444,
              "#bd3786"
             ],
             [
              0.5555555555555556,
              "#d8576b"
             ],
             [
              0.6666666666666666,
              "#ed7953"
             ],
             [
              0.7777777777777778,
              "#fb9f3a"
             ],
             [
              0.8888888888888888,
              "#fdca26"
             ],
             [
              1,
              "#f0f921"
             ]
            ],
            "type": "histogram2dcontour"
           }
          ],
          "mesh3d": [
           {
            "colorbar": {
             "outlinewidth": 0,
             "ticks": ""
            },
            "type": "mesh3d"
           }
          ],
          "parcoords": [
           {
            "line": {
             "colorbar": {
              "outlinewidth": 0,
              "ticks": ""
             }
            },
            "type": "parcoords"
           }
          ],
          "pie": [
           {
            "automargin": true,
            "type": "pie"
           }
          ],
          "scatter": [
           {
            "fillpattern": {
             "fillmode": "overlay",
             "size": 10,
             "solidity": 0.2
            },
            "type": "scatter"
           }
          ],
          "scatter3d": [
           {
            "line": {
             "colorbar": {
              "outlinewidth": 0,
              "ticks": ""
             }
            },
            "marker": {
             "colorbar": {
              "outlinewidth": 0,
              "ticks": ""
             }
            },
            "type": "scatter3d"
           }
          ],
          "scattercarpet": [
           {
            "marker": {
             "colorbar": {
              "outlinewidth": 0,
              "ticks": ""
             }
            },
            "type": "scattercarpet"
           }
          ],
          "scattergeo": [
           {
            "marker": {
             "colorbar": {
              "outlinewidth": 0,
              "ticks": ""
             }
            },
            "type": "scattergeo"
           }
          ],
          "scattergl": [
           {
            "marker": {
             "colorbar": {
              "outlinewidth": 0,
              "ticks": ""
             }
            },
            "type": "scattergl"
           }
          ],
          "scattermapbox": [
           {
            "marker": {
             "colorbar": {
              "outlinewidth": 0,
              "ticks": ""
             }
            },
            "type": "scattermapbox"
           }
          ],
          "scatterpolar": [
           {
            "marker": {
             "colorbar": {
              "outlinewidth": 0,
              "ticks": ""
             }
            },
            "type": "scatterpolar"
           }
          ],
          "scatterpolargl": [
           {
            "marker": {
             "colorbar": {
              "outlinewidth": 0,
              "ticks": ""
             }
            },
            "type": "scatterpolargl"
           }
          ],
          "scatterternary": [
           {
            "marker": {
             "colorbar": {
              "outlinewidth": 0,
              "ticks": ""
             }
            },
            "type": "scatterternary"
           }
          ],
          "surface": [
           {
            "colorbar": {
             "outlinewidth": 0,
             "ticks": ""
            },
            "colorscale": [
             [
              0,
              "#0d0887"
             ],
             [
              0.1111111111111111,
              "#46039f"
             ],
             [
              0.2222222222222222,
              "#7201a8"
             ],
             [
              0.3333333333333333,
              "#9c179e"
             ],
             [
              0.4444444444444444,
              "#bd3786"
             ],
             [
              0.5555555555555556,
              "#d8576b"
             ],
             [
              0.6666666666666666,
              "#ed7953"
             ],
             [
              0.7777777777777778,
              "#fb9f3a"
             ],
             [
              0.8888888888888888,
              "#fdca26"
             ],
             [
              1,
              "#f0f921"
             ]
            ],
            "type": "surface"
           }
          ],
          "table": [
           {
            "cells": {
             "fill": {
              "color": "#EBF0F8"
             },
             "line": {
              "color": "white"
             }
            },
            "header": {
             "fill": {
              "color": "#C8D4E3"
             },
             "line": {
              "color": "white"
             }
            },
            "type": "table"
           }
          ]
         },
         "layout": {
          "annotationdefaults": {
           "arrowcolor": "#2a3f5f",
           "arrowhead": 0,
           "arrowwidth": 1
          },
          "autotypenumbers": "strict",
          "coloraxis": {
           "colorbar": {
            "outlinewidth": 0,
            "ticks": ""
           }
          },
          "colorscale": {
           "diverging": [
            [
             0,
             "#8e0152"
            ],
            [
             0.1,
             "#c51b7d"
            ],
            [
             0.2,
             "#de77ae"
            ],
            [
             0.3,
             "#f1b6da"
            ],
            [
             0.4,
             "#fde0ef"
            ],
            [
             0.5,
             "#f7f7f7"
            ],
            [
             0.6,
             "#e6f5d0"
            ],
            [
             0.7,
             "#b8e186"
            ],
            [
             0.8,
             "#7fbc41"
            ],
            [
             0.9,
             "#4d9221"
            ],
            [
             1,
             "#276419"
            ]
           ],
           "sequential": [
            [
             0,
             "#0d0887"
            ],
            [
             0.1111111111111111,
             "#46039f"
            ],
            [
             0.2222222222222222,
             "#7201a8"
            ],
            [
             0.3333333333333333,
             "#9c179e"
            ],
            [
             0.4444444444444444,
             "#bd3786"
            ],
            [
             0.5555555555555556,
             "#d8576b"
            ],
            [
             0.6666666666666666,
             "#ed7953"
            ],
            [
             0.7777777777777778,
             "#fb9f3a"
            ],
            [
             0.8888888888888888,
             "#fdca26"
            ],
            [
             1,
             "#f0f921"
            ]
           ],
           "sequentialminus": [
            [
             0,
             "#0d0887"
            ],
            [
             0.1111111111111111,
             "#46039f"
            ],
            [
             0.2222222222222222,
             "#7201a8"
            ],
            [
             0.3333333333333333,
             "#9c179e"
            ],
            [
             0.4444444444444444,
             "#bd3786"
            ],
            [
             0.5555555555555556,
             "#d8576b"
            ],
            [
             0.6666666666666666,
             "#ed7953"
            ],
            [
             0.7777777777777778,
             "#fb9f3a"
            ],
            [
             0.8888888888888888,
             "#fdca26"
            ],
            [
             1,
             "#f0f921"
            ]
           ]
          },
          "colorway": [
           "#636efa",
           "#EF553B",
           "#00cc96",
           "#ab63fa",
           "#FFA15A",
           "#19d3f3",
           "#FF6692",
           "#B6E880",
           "#FF97FF",
           "#FECB52"
          ],
          "font": {
           "color": "#2a3f5f"
          },
          "geo": {
           "bgcolor": "white",
           "lakecolor": "white",
           "landcolor": "#E5ECF6",
           "showlakes": true,
           "showland": true,
           "subunitcolor": "white"
          },
          "hoverlabel": {
           "align": "left"
          },
          "hovermode": "closest",
          "mapbox": {
           "style": "light"
          },
          "paper_bgcolor": "white",
          "plot_bgcolor": "#E5ECF6",
          "polar": {
           "angularaxis": {
            "gridcolor": "white",
            "linecolor": "white",
            "ticks": ""
           },
           "bgcolor": "#E5ECF6",
           "radialaxis": {
            "gridcolor": "white",
            "linecolor": "white",
            "ticks": ""
           }
          },
          "scene": {
           "xaxis": {
            "backgroundcolor": "#E5ECF6",
            "gridcolor": "white",
            "gridwidth": 2,
            "linecolor": "white",
            "showbackground": true,
            "ticks": "",
            "zerolinecolor": "white"
           },
           "yaxis": {
            "backgroundcolor": "#E5ECF6",
            "gridcolor": "white",
            "gridwidth": 2,
            "linecolor": "white",
            "showbackground": true,
            "ticks": "",
            "zerolinecolor": "white"
           },
           "zaxis": {
            "backgroundcolor": "#E5ECF6",
            "gridcolor": "white",
            "gridwidth": 2,
            "linecolor": "white",
            "showbackground": true,
            "ticks": "",
            "zerolinecolor": "white"
           }
          },
          "shapedefaults": {
           "line": {
            "color": "#2a3f5f"
           }
          },
          "ternary": {
           "aaxis": {
            "gridcolor": "white",
            "linecolor": "white",
            "ticks": ""
           },
           "baxis": {
            "gridcolor": "white",
            "linecolor": "white",
            "ticks": ""
           },
           "bgcolor": "#E5ECF6",
           "caxis": {
            "gridcolor": "white",
            "linecolor": "white",
            "ticks": ""
           }
          },
          "title": {
           "x": 0.05
          },
          "xaxis": {
           "automargin": true,
           "gridcolor": "white",
           "linecolor": "white",
           "ticks": "",
           "title": {
            "standoff": 15
           },
           "zerolinecolor": "white",
           "zerolinewidth": 2
          },
          "yaxis": {
           "automargin": true,
           "gridcolor": "white",
           "linecolor": "white",
           "ticks": "",
           "title": {
            "standoff": 15
           },
           "zerolinecolor": "white",
           "zerolinewidth": 2
          }
         }
        },
        "width": 500
       }
      },
      "image/png": "[encoded data removed]",
      "text/html": [
       "<div>                            <div id=\"67c23b15-e51d-40dd-ba57-6665406c47d7\" class=\"plotly-graph-div\" style=\"height:500px; width:500px;\"></div>            <script type=\"text/javascript\">                require([\"plotly\"], function(Plotly) {                    window.PLOTLYENV=window.PLOTLYENV || {};                                    if (document.getElementById(\"67c23b15-e51d-40dd-ba57-6665406c47d7\")) {                    Plotly.newPlot(                        \"67c23b15-e51d-40dd-ba57-6665406c47d7\",                        [{\"fill\":\"toself\",\"name\":\"Group A\",\"r\":[0.46,0.32,0.75],\"theta\":[\"FG%\",\"3P%\",\"FT%\"],\"type\":\"scatterpolar\"},{\"fill\":\"toself\",\"name\":\"Group B\",\"r\":[0.42,0.31,0.76],\"theta\":[\"FG%\",\"3P%\",\"FT%\"],\"type\":\"scatterpolar\"},{\"fill\":\"toself\",\"name\":\"Group C\",\"r\":[0.48,0.3,0.75],\"theta\":[\"FG%\",\"3P%\",\"FT%\"],\"type\":\"scatterpolar\"}],                        {\"template\":{\"data\":{\"histogram2dcontour\":[{\"type\":\"histogram2dcontour\",\"colorbar\":{\"outlinewidth\":0,\"ticks\":\"\"},\"colorscale\":[[0.0,\"#0d0887\"],[0.1111111111111111,\"#46039f\"],[0.2222222222222222,\"#7201a8\"],[0.3333333333333333,\"#9c179e\"],[0.4444444444444444,\"#bd3786\"],[0.5555555555555556,\"#d8576b\"],[0.6666666666666666,\"#ed7953\"],[0.7777777777777778,\"#fb9f3a\"],[0.8888888888888888,\"#fdca26\"],[1.0,\"#f0f921\"]]}],\"choropleth\":[{\"type\":\"choropleth\",\"colorbar\":{\"outlinewidth\":0,\"ticks\":\"\"}}],\"histogram2d\":[{\"type\":\"histogram2d\",\"colorbar\":{\"outlinewidth\":0,\"ticks\":\"\"},\"colorscale\":[[0.0,\"#0d0887\"],[0.1111111111111111,\"#46039f\"],[0.2222222222222222,\"#7201a8\"],[0.3333333333333333,\"#9c179e\"],[0.4444444444444444,\"#bd3786\"],[0.5555555555555556,\"#d8576b\"],[0.6666666666666666,\"#ed7953\"],[0.7777777777777778,\"#fb9f3a\"],[0.8888888888888888,\"#fdca26\"],[1.0,\"#f0f921\"]]}],\"heatmap\":[{\"type\":\"heatmap\",\"colorbar\":{\"outlinewidth\":0,\"ticks\":\"\"},\"colorscale\":[[0.0,\"#0d0887\"],[0.1111111111111111,\"#46039f\"],[0.2222222222222222,\"#7201a8\"],[0.3333333333333333,\"#9c179e\"],[0.4444444444444444,\"#bd3786\"],[0.5555555555555556,\"#d8576b\"],[0.6666666666666666,\"#ed7953\"],[0.7777777777777778,\"#fb9f3a\"],[0.8888888888888888,\"#fdca26\"],[1.0,\"#f0f921\"]]}],\"heatmapgl\":[{\"type\":\"heatmapgl\",\"colorbar\":{\"outlinewidth\":0,\"ticks\":\"\"},\"colorscale\":[[0.0,\"#0d0887\"],[0.1111111111111111,\"#46039f\"],[0.2222222222222222,\"#7201a8\"],[0.3333333333333333,\"#9c179e\"],[0.4444444444444444,\"#bd3786\"],[0.5555555555555556,\"#d8576b\"],[0.6666666666666666,\"#ed7953\"],[0.7777777777777778,\"#fb9f3a\"],[0.8888888888888888,\"#fdca26\"],[1.0,\"#f0f921\"]]}],\"contourcarpet\":[{\"type\":\"contourcarpet\",\"colorbar\":{\"outlinewidth\":0,\"ticks\":\"\"}}],\"contour\":[{\"type\":\"contour\",\"colorbar\":{\"outlinewidth\":0,\"ticks\":\"\"},\"colorscale\":[[0.0,\"#0d0887\"],[0.1111111111111111,\"#46039f\"],[0.2222222222222222,\"#7201a8\"],[0.3333333333333333,\"#9c179e\"],[0.4444444444444444,\"#bd3786\"],[0.5555555555555556,\"#d8576b\"],[0.6666666666666666,\"#ed7953\"],[0.7777777777777778,\"#fb9f3a\"],[0.8888888888888888,\"#fdca26\"],[1.0,\"#f0f921\"]]}],\"surface\":[{\"type\":\"surface\",\"colorbar\":{\"outlinewidth\":0,\"ticks\":\"\"},\"colorscale\":[[0.0,\"#0d0887\"],[0.1111111111111111,\"#46039f\"],[0.2222222222222222,\"#7201a8\"],[0.3333333333333333,\"#9c179e\"],[0.4444444444444444,\"#bd3786\"],[0.5555555555555556,\"#d8576b\"],[0.6666666666666666,\"#ed7953\"],[0.7777777777777778,\"#fb9f3a\"],[0.8888888888888888,\"#fdca26\"],[1.0,\"#f0f921\"]]}],\"mesh3d\":[{\"type\":\"mesh3d\",\"colorbar\":{\"outlinewidth\":0,\"ticks\":\"\"}}],\"scatter\":[{\"fillpattern\":{\"fillmode\":\"overlay\",\"size\":10,\"solidity\":0.2},\"type\":\"scatter\"}],\"parcoords\":[{\"type\":\"parcoords\",\"line\":{\"colorbar\":{\"outlinewidth\":0,\"ticks\":\"\"}}}],\"scatterpolargl\":[{\"type\":\"scatterpolargl\",\"marker\":{\"colorbar\":{\"outlinewidth\":0,\"ticks\":\"\"}}}],\"bar\":[{\"error_x\":{\"color\":\"#2a3f5f\"},\"error_y\":{\"color\":\"#2a3f5f\"},\"marker\":{\"line\":{\"color\":\"#E5ECF6\",\"width\":0.5},\"pattern\":{\"fillmode\":\"overlay\",\"size\":10,\"solidity\":0.2}},\"type\":\"bar\"}],\"scattergeo\":[{\"type\":\"scattergeo\",\"marker\":{\"colorbar\":{\"outlinewidth\":0,\"ticks\":\"\"}}}],\"scatterpolar\":[{\"type\":\"scatterpolar\",\"marker\":{\"colorbar\":{\"outlinewidth\":0,\"ticks\":\"\"}}}],\"histogram\":[{\"marker\":{\"pattern\":{\"fillmode\":\"overlay\",\"size\":10,\"solidity\":0.2}},\"type\":\"histogram\"}],\"scattergl\":[{\"type\":\"scattergl\",\"marker\":{\"colorbar\":{\"outlinewidth\":0,\"ticks\":\"\"}}}],\"scatter3d\":[{\"type\":\"scatter3d\",\"line\":{\"colorbar\":{\"outlinewidth\":0,\"ticks\":\"\"}},\"marker\":{\"colorbar\":{\"outlinewidth\":0,\"ticks\":\"\"}}}],\"scattermapbox\":[{\"type\":\"scattermapbox\",\"marker\":{\"colorbar\":{\"outlinewidth\":0,\"ticks\":\"\"}}}],\"scatterternary\":[{\"type\":\"scatterternary\",\"marker\":{\"colorbar\":{\"outlinewidth\":0,\"ticks\":\"\"}}}],\"scattercarpet\":[{\"type\":\"scattercarpet\",\"marker\":{\"colorbar\":{\"outlinewidth\":0,\"ticks\":\"\"}}}],\"carpet\":[{\"aaxis\":{\"endlinecolor\":\"#2a3f5f\",\"gridcolor\":\"white\",\"linecolor\":\"white\",\"minorgridcolor\":\"white\",\"startlinecolor\":\"#2a3f5f\"},\"baxis\":{\"endlinecolor\":\"#2a3f5f\",\"gridcolor\":\"white\",\"linecolor\":\"white\",\"minorgridcolor\":\"white\",\"startlinecolor\":\"#2a3f5f\"},\"type\":\"carpet\"}],\"table\":[{\"cells\":{\"fill\":{\"color\":\"#EBF0F8\"},\"line\":{\"color\":\"white\"}},\"header\":{\"fill\":{\"color\":\"#C8D4E3\"},\"line\":{\"color\":\"white\"}},\"type\":\"table\"}],\"barpolar\":[{\"marker\":{\"line\":{\"color\":\"#E5ECF6\",\"width\":0.5},\"pattern\":{\"fillmode\":\"overlay\",\"size\":10,\"solidity\":0.2}},\"type\":\"barpolar\"}],\"pie\":[{\"automargin\":true,\"type\":\"pie\"}]},\"layout\":{\"autotypenumbers\":\"strict\",\"colorway\":[\"#636efa\",\"#EF553B\",\"#00cc96\",\"#ab63fa\",\"#FFA15A\",\"#19d3f3\",\"#FF6692\",\"#B6E880\",\"#FF97FF\",\"#FECB52\"],\"font\":{\"color\":\"#2a3f5f\"},\"hovermode\":\"closest\",\"hoverlabel\":{\"align\":\"left\"},\"paper_bgcolor\":\"white\",\"plot_bgcolor\":\"#E5ECF6\",\"polar\":{\"bgcolor\":\"#E5ECF6\",\"angularaxis\":{\"gridcolor\":\"white\",\"linecolor\":\"white\",\"ticks\":\"\"},\"radialaxis\":{\"gridcolor\":\"white\",\"linecolor\":\"white\",\"ticks\":\"\"}},\"ternary\":{\"bgcolor\":\"#E5ECF6\",\"aaxis\":{\"gridcolor\":\"white\",\"linecolor\":\"white\",\"ticks\":\"\"},\"baxis\":{\"gridcolor\":\"white\",\"linecolor\":\"white\",\"ticks\":\"\"},\"caxis\":{\"gridcolor\":\"white\",\"linecolor\":\"white\",\"ticks\":\"\"}},\"coloraxis\":{\"colorbar\":{\"outlinewidth\":0,\"ticks\":\"\"}},\"colorscale\":{\"sequential\":[[0.0,\"#0d0887\"],[0.1111111111111111,\"#46039f\"],[0.2222222222222222,\"#7201a8\"],[0.3333333333333333,\"#9c179e\"],[0.4444444444444444,\"#bd3786\"],[0.5555555555555556,\"#d8576b\"],[0.6666666666666666,\"#ed7953\"],[0.7777777777777778,\"#fb9f3a\"],[0.8888888888888888,\"#fdca26\"],[1.0,\"#f0f921\"]],\"sequentialminus\":[[0.0,\"#0d0887\"],[0.1111111111111111,\"#46039f\"],[0.2222222222222222,\"#7201a8\"],[0.3333333333333333,\"#9c179e\"],[0.4444444444444444,\"#bd3786\"],[0.5555555555555556,\"#d8576b\"],[0.6666666666666666,\"#ed7953\"],[0.7777777777777778,\"#fb9f3a\"],[0.8888888888888888,\"#fdca26\"],[1.0,\"#f0f921\"]],\"diverging\":[[0,\"#8e0152\"],[0.1,\"#c51b7d\"],[0.2,\"#de77ae\"],[0.3,\"#f1b6da\"],[0.4,\"#fde0ef\"],[0.5,\"#f7f7f7\"],[0.6,\"#e6f5d0\"],[0.7,\"#b8e186\"],[0.8,\"#7fbc41\"],[0.9,\"#4d9221\"],[1,\"#276419\"]]},\"xaxis\":{\"gridcolor\":\"white\",\"linecolor\":\"white\",\"ticks\":\"\",\"title\":{\"standoff\":15},\"zerolinecolor\":\"white\",\"automargin\":true,\"zerolinewidth\":2},\"yaxis\":{\"gridcolor\":\"white\",\"linecolor\":\"white\",\"ticks\":\"\",\"title\":{\"standoff\":15},\"zerolinecolor\":\"white\",\"automargin\":true,\"zerolinewidth\":2},\"scene\":{\"xaxis\":{\"backgroundcolor\":\"#E5ECF6\",\"gridcolor\":\"white\",\"linecolor\":\"white\",\"showbackground\":true,\"ticks\":\"\",\"zerolinecolor\":\"white\",\"gridwidth\":2},\"yaxis\":{\"backgroundcolor\":\"#E5ECF6\",\"gridcolor\":\"white\",\"linecolor\":\"white\",\"showbackground\":true,\"ticks\":\"\",\"zerolinecolor\":\"white\",\"gridwidth\":2},\"zaxis\":{\"backgroundcolor\":\"#E5ECF6\",\"gridcolor\":\"white\",\"linecolor\":\"white\",\"showbackground\":true,\"ticks\":\"\",\"zerolinecolor\":\"white\",\"gridwidth\":2}},\"shapedefaults\":{\"line\":{\"color\":\"#2a3f5f\"}},\"annotationdefaults\":{\"arrowcolor\":\"#2a3f5f\",\"arrowhead\":0,\"arrowwidth\":1},\"geo\":{\"bgcolor\":\"white\",\"landcolor\":\"#E5ECF6\",\"subunitcolor\":\"white\",\"showland\":true,\"showlakes\":true,\"lakecolor\":\"white\"},\"title\":{\"x\":0.05},\"mapbox\":{\"style\":\"light\"}}},\"polar\":{\"radialaxis\":{\"visible\":true,\"range\":[0,1]}},\"showlegend\":true,\"width\":500,\"height\":500},                        {\"responsive\": true}                    ).then(function(){\n",
       "                            \n",
       "var gd = document.getElementById('67c23b15-e51d-40dd-ba57-6665406c47d7');\n",
       "var x = new MutationObserver(function (mutations, observer) {{\n",
       "        var display = window.getComputedStyle(gd).display;\n",
       "        if (!display || display === 'none') {{\n",
       "            console.log([gd, 'removed!']);\n",
       "            Plotly.purge(gd);\n",
       "            observer.disconnect();\n",
       "        }}\n",
       "}});\n",
       "\n",
       "// Listen for the removal of the full notebook cells\n",
       "var notebookContainer = gd.closest('#notebook-container');\n",
       "if (notebookContainer) {{\n",
       "    x.observe(notebookContainer, {childList: true});\n",
       "}}\n",
       "\n",
       "// Listen for the clearing of the current output cell\n",
       "var outputEl = gd.closest('.output');\n",
       "if (outputEl) {{\n",
       "    x.observe(outputEl, {childList: true});\n",
       "}}\n",
       "\n",
       "                        })                };                });            </script>        </div>"
      ]
     },
     "metadata": {},
     "output_type": "display_data"
    }
   ],
   "source": [
    "# Radar visualization of FG%, 3P% and FT% stats to compare group A,B, and C.\n",
    "shooting_categories = ['FG%', '3P%','FT%']\n",
    "shooting_fig = go.Figure()\n",
    "shooting_fig.add_trace(go.Scatterpolar(\n",
    "    r = [0.46,0.32,0.75],\n",
    "    theta = shooting_categories,\n",
    "    fill='toself',\n",
    "    name= 'Group A'\n",
    "))\n",
    "\n",
    "shooting_fig.add_trace(go.Scatterpolar(\n",
    "    r = [0.42,0.31,0.76],\n",
    "    theta = shooting_categories,\n",
    "    fill='toself',\n",
    "    name= 'Group B'\n",
    "))\n",
    "\n",
    "shooting_fig.add_trace(go.Scatterpolar(\n",
    "    r = [0.48,0.30,0.75],\n",
    "    theta = shooting_categories,\n",
    "    fill='toself',\n",
    "    name= 'Group C'\n",
    "))\n",
    "\n",
    "shooting_fig.update_layout(\n",
    "    polar=dict(\n",
    "        radialaxis=dict(\n",
    "          visible=True,\n",
    "          range=[0,1]\n",
    "        )),\n",
    "    showlegend=True,\n",
    "    width = 500,\n",
    "    height = 500\n",
    ")\n",
    "    \n",
    "shooting_fig.show()"
   ]
  },
  {
   "cell_type": "code",
   "execution_count": null,
   "id": "3791b0f9-bf09-46c7-9f7d-f9dd586671ba",
   "metadata": {},
   "outputs": [],
   "source": []
  },
  {
   "cell_type": "code",
   "execution_count": null,
   "id": "024872bc-0cb3-43a4-a1dd-634029b55338",
   "metadata": {},
   "outputs": [],
   "source": []
  },
  {
   "cell_type": "code",
   "execution_count": null,
   "id": "a8194b21-3260-4606-87be-4f7d04d354a3",
   "metadata": {},
   "outputs": [],
   "source": []
  },
  {
   "cell_type": "code",
   "execution_count": null,
   "id": "7a6d4db8-5b88-4549-8d81-1a4a098a5d60",
   "metadata": {},
   "outputs": [],
   "source": []
  },
  {
   "cell_type": "code",
   "execution_count": null,
   "id": "10af312a-ebe9-4059-852b-94ba39077ead",
   "metadata": {},
   "outputs": [],
   "source": []
  },
  {
   "cell_type": "code",
   "execution_count": null,
   "id": "b79aaea2-4f5e-4084-b561-0189fa98a4b5",
   "metadata": {},
   "outputs": [],
   "source": [
    "\n"
   ]
  }
 ],
 "metadata": {
  "kernelspec": {
   "display_name": "Python 3 (ipykernel)",
   "language": "python",
   "name": "python3"
  },
  "language_info": {
   "codemirror_mode": {
    "name": "ipython",
    "version": 3
   },
   "file_extension": ".py",
   "mimetype": "text/x-python",
   "name": "python",
   "nbconvert_exporter": "python",
   "pygments_lexer": "ipython3",
   "version": "3.7.11"
  }
 },
 "nbformat": 4,
 "nbformat_minor": 5
}
