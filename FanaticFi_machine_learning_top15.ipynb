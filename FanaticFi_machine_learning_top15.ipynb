{
  "cells": [
    {
      "cell_type": "markdown",
      "metadata": {
        "id": "view-in-github",
        "colab_type": "text"
      },
      "source": [
        "<a href=\"https://colab.research.google.com/github/YanjunLin-Andrie/FanaticFi/blob/main/FanaticFi_machine_learning_top15.ipynb\" target=\"_parent\"><img src=\"https://colab.research.google.com/assets/colab-badge.svg\" alt=\"Open In Colab\"/></a>"
      ]
    },
    {
      "cell_type": "code",
      "execution_count": 5,
      "id": "88acc28f-848d-4881-b818-3e1afc45797a",
      "metadata": {
        "tags": [],
        "id": "88acc28f-848d-4881-b818-3e1afc45797a"
      },
      "outputs": [],
      "source": [
        "# Imports\n",
        "import pandas as pd\n",
        "from pathlib import Path\n",
        "import tensorflow as tf\n",
        "from sklearn import svm\n",
        "import matplotlib.pyplot as plt\n",
        "from tensorflow.keras.layers import Dense\n",
        "from tensorflow.keras.models import Sequential\n",
        "from sklearn.preprocessing import StandardScaler\n",
        "from sklearn.metrics import classification_report\n",
        "from sklearn.model_selection import train_test_split"
      ]
    },
    {
      "cell_type": "code",
      "source": [
        "# Upload cc_default.csv to Colab\n",
        "from google.colab import files\n",
        "\n",
        "csv_file = files.upload()\n",
        "\n",
        "# Load data\n",
        "df = pd.read_csv(Path('2017-2021_Historical_Players_Data.csv'))\n",
        "df.head()"
      ],
      "metadata": {
        "colab": {
          "resources": {
            "http://localhost:8080/nbextensions/google.colab/files.js": {
              "data": "Ly8gQ29weXJpZ2h0IDIwMTcgR29vZ2xlIExMQwovLwovLyBMaWNlbnNlZCB1bmRlciB0aGUgQXBhY2hlIExpY2Vuc2UsIFZlcnNpb24gMi4wICh0aGUgIkxpY2Vuc2UiKTsKLy8geW91IG1heSBub3QgdXNlIHRoaXMgZmlsZSBleGNlcHQgaW4gY29tcGxpYW5jZSB3aXRoIHRoZSBMaWNlbnNlLgovLyBZb3UgbWF5IG9idGFpbiBhIGNvcHkgb2YgdGhlIExpY2Vuc2UgYXQKLy8KLy8gICAgICBodHRwOi8vd3d3LmFwYWNoZS5vcmcvbGljZW5zZXMvTElDRU5TRS0yLjAKLy8KLy8gVW5sZXNzIHJlcXVpcmVkIGJ5IGFwcGxpY2FibGUgbGF3IG9yIGFncmVlZCB0byBpbiB3cml0aW5nLCBzb2Z0d2FyZQovLyBkaXN0cmlidXRlZCB1bmRlciB0aGUgTGljZW5zZSBpcyBkaXN0cmlidXRlZCBvbiBhbiAiQVMgSVMiIEJBU0lTLAovLyBXSVRIT1VUIFdBUlJBTlRJRVMgT1IgQ09ORElUSU9OUyBPRiBBTlkgS0lORCwgZWl0aGVyIGV4cHJlc3Mgb3IgaW1wbGllZC4KLy8gU2VlIHRoZSBMaWNlbnNlIGZvciB0aGUgc3BlY2lmaWMgbGFuZ3VhZ2UgZ292ZXJuaW5nIHBlcm1pc3Npb25zIGFuZAovLyBsaW1pdGF0aW9ucyB1bmRlciB0aGUgTGljZW5zZS4KCi8qKgogKiBAZmlsZW92ZXJ2aWV3IEhlbHBlcnMgZm9yIGdvb2dsZS5jb2xhYiBQeXRob24gbW9kdWxlLgogKi8KKGZ1bmN0aW9uKHNjb3BlKSB7CmZ1bmN0aW9uIHNwYW4odGV4dCwgc3R5bGVBdHRyaWJ1dGVzID0ge30pIHsKICBjb25zdCBlbGVtZW50ID0gZG9jdW1lbnQuY3JlYXRlRWxlbWVudCgnc3BhbicpOwogIGVsZW1lbnQudGV4dENvbnRlbnQgPSB0ZXh0OwogIGZvciAoY29uc3Qga2V5IG9mIE9iamVjdC5rZXlzKHN0eWxlQXR0cmlidXRlcykpIHsKICAgIGVsZW1lbnQuc3R5bGVba2V5XSA9IHN0eWxlQXR0cmlidXRlc1trZXldOwogIH0KICByZXR1cm4gZWxlbWVudDsKfQoKLy8gTWF4IG51bWJlciBvZiBieXRlcyB3aGljaCB3aWxsIGJlIHVwbG9hZGVkIGF0IGEgdGltZS4KY29uc3QgTUFYX1BBWUxPQURfU0laRSA9IDEwMCAqIDEwMjQ7CgpmdW5jdGlvbiBfdXBsb2FkRmlsZXMoaW5wdXRJZCwgb3V0cHV0SWQpIHsKICBjb25zdCBzdGVwcyA9IHVwbG9hZEZpbGVzU3RlcChpbnB1dElkLCBvdXRwdXRJZCk7CiAgY29uc3Qgb3V0cHV0RWxlbWVudCA9IGRvY3VtZW50LmdldEVsZW1lbnRCeUlkKG91dHB1dElkKTsKICAvLyBDYWNoZSBzdGVwcyBvbiB0aGUgb3V0cHV0RWxlbWVudCB0byBtYWtlIGl0IGF2YWlsYWJsZSBmb3IgdGhlIG5leHQgY2FsbAogIC8vIHRvIHVwbG9hZEZpbGVzQ29udGludWUgZnJvbSBQeXRob24uCiAgb3V0cHV0RWxlbWVudC5zdGVwcyA9IHN0ZXBzOwoKICByZXR1cm4gX3VwbG9hZEZpbGVzQ29udGludWUob3V0cHV0SWQpOwp9CgovLyBUaGlzIGlzIHJvdWdobHkgYW4gYXN5bmMgZ2VuZXJhdG9yIChub3Qgc3VwcG9ydGVkIGluIHRoZSBicm93c2VyIHlldCksCi8vIHdoZXJlIHRoZXJlIGFyZSBtdWx0aXBsZSBhc3luY2hyb25vdXMgc3RlcHMgYW5kIHRoZSBQeXRob24gc2lkZSBpcyBnb2luZwovLyB0byBwb2xsIGZvciBjb21wbGV0aW9uIG9mIGVhY2ggc3RlcC4KLy8gVGhpcyB1c2VzIGEgUHJvbWlzZSB0byBibG9jayB0aGUgcHl0aG9uIHNpZGUgb24gY29tcGxldGlvbiBvZiBlYWNoIHN0ZXAsCi8vIHRoZW4gcGFzc2VzIHRoZSByZXN1bHQgb2YgdGhlIHByZXZpb3VzIHN0ZXAgYXMgdGhlIGlucHV0IHRvIHRoZSBuZXh0IHN0ZXAuCmZ1bmN0aW9uIF91cGxvYWRGaWxlc0NvbnRpbnVlKG91dHB1dElkKSB7CiAgY29uc3Qgb3V0cHV0RWxlbWVudCA9IGRvY3VtZW50LmdldEVsZW1lbnRCeUlkKG91dHB1dElkKTsKICBjb25zdCBzdGVwcyA9IG91dHB1dEVsZW1lbnQuc3RlcHM7CgogIGNvbnN0IG5leHQgPSBzdGVwcy5uZXh0KG91dHB1dEVsZW1lbnQubGFzdFByb21pc2VWYWx1ZSk7CiAgcmV0dXJuIFByb21pc2UucmVzb2x2ZShuZXh0LnZhbHVlLnByb21pc2UpLnRoZW4oKHZhbHVlKSA9PiB7CiAgICAvLyBDYWNoZSB0aGUgbGFzdCBwcm9taXNlIHZhbHVlIHRvIG1ha2UgaXQgYXZhaWxhYmxlIHRvIHRoZSBuZXh0CiAgICAvLyBzdGVwIG9mIHRoZSBnZW5lcmF0b3IuCiAgICBvdXRwdXRFbGVtZW50Lmxhc3RQcm9taXNlVmFsdWUgPSB2YWx1ZTsKICAgIHJldHVybiBuZXh0LnZhbHVlLnJlc3BvbnNlOwogIH0pOwp9CgovKioKICogR2VuZXJhdG9yIGZ1bmN0aW9uIHdoaWNoIGlzIGNhbGxlZCBiZXR3ZWVuIGVhY2ggYXN5bmMgc3RlcCBvZiB0aGUgdXBsb2FkCiAqIHByb2Nlc3MuCiAqIEBwYXJhbSB7c3RyaW5nfSBpbnB1dElkIEVsZW1lbnQgSUQgb2YgdGhlIGlucHV0IGZpbGUgcGlja2VyIGVsZW1lbnQuCiAqIEBwYXJhbSB7c3RyaW5nfSBvdXRwdXRJZCBFbGVtZW50IElEIG9mIHRoZSBvdXRwdXQgZGlzcGxheS4KICogQHJldHVybiB7IUl0ZXJhYmxlPCFPYmplY3Q+fSBJdGVyYWJsZSBvZiBuZXh0IHN0ZXBzLgogKi8KZnVuY3Rpb24qIHVwbG9hZEZpbGVzU3RlcChpbnB1dElkLCBvdXRwdXRJZCkgewogIGNvbnN0IGlucHV0RWxlbWVudCA9IGRvY3VtZW50LmdldEVsZW1lbnRCeUlkKGlucHV0SWQpOwogIGlucHV0RWxlbWVudC5kaXNhYmxlZCA9IGZhbHNlOwoKICBjb25zdCBvdXRwdXRFbGVtZW50ID0gZG9jdW1lbnQuZ2V0RWxlbWVudEJ5SWQob3V0cHV0SWQpOwogIG91dHB1dEVsZW1lbnQuaW5uZXJIVE1MID0gJyc7CgogIGNvbnN0IHBpY2tlZFByb21pc2UgPSBuZXcgUHJvbWlzZSgocmVzb2x2ZSkgPT4gewogICAgaW5wdXRFbGVtZW50LmFkZEV2ZW50TGlzdGVuZXIoJ2NoYW5nZScsIChlKSA9PiB7CiAgICAgIHJlc29sdmUoZS50YXJnZXQuZmlsZXMpOwogICAgfSk7CiAgfSk7CgogIGNvbnN0IGNhbmNlbCA9IGRvY3VtZW50LmNyZWF0ZUVsZW1lbnQoJ2J1dHRvbicpOwogIGlucHV0RWxlbWVudC5wYXJlbnRFbGVtZW50LmFwcGVuZENoaWxkKGNhbmNlbCk7CiAgY2FuY2VsLnRleHRDb250ZW50ID0gJ0NhbmNlbCB1cGxvYWQnOwogIGNvbnN0IGNhbmNlbFByb21pc2UgPSBuZXcgUHJvbWlzZSgocmVzb2x2ZSkgPT4gewogICAgY2FuY2VsLm9uY2xpY2sgPSAoKSA9PiB7CiAgICAgIHJlc29sdmUobnVsbCk7CiAgICB9OwogIH0pOwoKICAvLyBXYWl0IGZvciB0aGUgdXNlciB0byBwaWNrIHRoZSBmaWxlcy4KICBjb25zdCBmaWxlcyA9IHlpZWxkIHsKICAgIHByb21pc2U6IFByb21pc2UucmFjZShbcGlja2VkUHJvbWlzZSwgY2FuY2VsUHJvbWlzZV0pLAogICAgcmVzcG9uc2U6IHsKICAgICAgYWN0aW9uOiAnc3RhcnRpbmcnLAogICAgfQogIH07CgogIGNhbmNlbC5yZW1vdmUoKTsKCiAgLy8gRGlzYWJsZSB0aGUgaW5wdXQgZWxlbWVudCBzaW5jZSBmdXJ0aGVyIHBpY2tzIGFyZSBub3QgYWxsb3dlZC4KICBpbnB1dEVsZW1lbnQuZGlzYWJsZWQgPSB0cnVlOwoKICBpZiAoIWZpbGVzKSB7CiAgICByZXR1cm4gewogICAgICByZXNwb25zZTogewogICAgICAgIGFjdGlvbjogJ2NvbXBsZXRlJywKICAgICAgfQogICAgfTsKICB9CgogIGZvciAoY29uc3QgZmlsZSBvZiBmaWxlcykgewogICAgY29uc3QgbGkgPSBkb2N1bWVudC5jcmVhdGVFbGVtZW50KCdsaScpOwogICAgbGkuYXBwZW5kKHNwYW4oZmlsZS5uYW1lLCB7Zm9udFdlaWdodDogJ2JvbGQnfSkpOwogICAgbGkuYXBwZW5kKHNwYW4oCiAgICAgICAgYCgke2ZpbGUudHlwZSB8fCAnbi9hJ30pIC0gJHtmaWxlLnNpemV9IGJ5dGVzLCBgICsKICAgICAgICBgbGFzdCBtb2RpZmllZDogJHsKICAgICAgICAgICAgZmlsZS5sYXN0TW9kaWZpZWREYXRlID8gZmlsZS5sYXN0TW9kaWZpZWREYXRlLnRvTG9jYWxlRGF0ZVN0cmluZygpIDoKICAgICAgICAgICAgICAgICAgICAgICAgICAgICAgICAgICAgJ24vYSd9IC0gYCkpOwogICAgY29uc3QgcGVyY2VudCA9IHNwYW4oJzAlIGRvbmUnKTsKICAgIGxpLmFwcGVuZENoaWxkKHBlcmNlbnQpOwoKICAgIG91dHB1dEVsZW1lbnQuYXBwZW5kQ2hpbGQobGkpOwoKICAgIGNvbnN0IGZpbGVEYXRhUHJvbWlzZSA9IG5ldyBQcm9taXNlKChyZXNvbHZlKSA9PiB7CiAgICAgIGNvbnN0IHJlYWRlciA9IG5ldyBGaWxlUmVhZGVyKCk7CiAgICAgIHJlYWRlci5vbmxvYWQgPSAoZSkgPT4gewogICAgICAgIHJlc29sdmUoZS50YXJnZXQucmVzdWx0KTsKICAgICAgfTsKICAgICAgcmVhZGVyLnJlYWRBc0FycmF5QnVmZmVyKGZpbGUpOwogICAgfSk7CiAgICAvLyBXYWl0IGZvciB0aGUgZGF0YSB0byBiZSByZWFkeS4KICAgIGxldCBmaWxlRGF0YSA9IHlpZWxkIHsKICAgICAgcHJvbWlzZTogZmlsZURhdGFQcm9taXNlLAogICAgICByZXNwb25zZTogewogICAgICAgIGFjdGlvbjogJ2NvbnRpbnVlJywKICAgICAgfQogICAgfTsKCiAgICAvLyBVc2UgYSBjaHVua2VkIHNlbmRpbmcgdG8gYXZvaWQgbWVzc2FnZSBzaXplIGxpbWl0cy4gU2VlIGIvNjIxMTU2NjAuCiAgICBsZXQgcG9zaXRpb24gPSAwOwogICAgZG8gewogICAgICBjb25zdCBsZW5ndGggPSBNYXRoLm1pbihmaWxlRGF0YS5ieXRlTGVuZ3RoIC0gcG9zaXRpb24sIE1BWF9QQVlMT0FEX1NJWkUpOwogICAgICBjb25zdCBjaHVuayA9IG5ldyBVaW50OEFycmF5KGZpbGVEYXRhLCBwb3NpdGlvbiwgbGVuZ3RoKTsKICAgICAgcG9zaXRpb24gKz0gbGVuZ3RoOwoKICAgICAgY29uc3QgYmFzZTY0ID0gYnRvYShTdHJpbmcuZnJvbUNoYXJDb2RlLmFwcGx5KG51bGwsIGNodW5rKSk7CiAgICAgIHlpZWxkIHsKICAgICAgICByZXNwb25zZTogewogICAgICAgICAgYWN0aW9uOiAnYXBwZW5kJywKICAgICAgICAgIGZpbGU6IGZpbGUubmFtZSwKICAgICAgICAgIGRhdGE6IGJhc2U2NCwKICAgICAgICB9LAogICAgICB9OwoKICAgICAgbGV0IHBlcmNlbnREb25lID0gZmlsZURhdGEuYnl0ZUxlbmd0aCA9PT0gMCA/CiAgICAgICAgICAxMDAgOgogICAgICAgICAgTWF0aC5yb3VuZCgocG9zaXRpb24gLyBmaWxlRGF0YS5ieXRlTGVuZ3RoKSAqIDEwMCk7CiAgICAgIHBlcmNlbnQudGV4dENvbnRlbnQgPSBgJHtwZXJjZW50RG9uZX0lIGRvbmVgOwoKICAgIH0gd2hpbGUgKHBvc2l0aW9uIDwgZmlsZURhdGEuYnl0ZUxlbmd0aCk7CiAgfQoKICAvLyBBbGwgZG9uZS4KICB5aWVsZCB7CiAgICByZXNwb25zZTogewogICAgICBhY3Rpb246ICdjb21wbGV0ZScsCiAgICB9CiAgfTsKfQoKc2NvcGUuZ29vZ2xlID0gc2NvcGUuZ29vZ2xlIHx8IHt9OwpzY29wZS5nb29nbGUuY29sYWIgPSBzY29wZS5nb29nbGUuY29sYWIgfHwge307CnNjb3BlLmdvb2dsZS5jb2xhYi5fZmlsZXMgPSB7CiAgX3VwbG9hZEZpbGVzLAogIF91cGxvYWRGaWxlc0NvbnRpbnVlLAp9Owp9KShzZWxmKTsK",
              "ok": true,
              "headers": [
                [
                  "content-type",
                  "application/javascript"
                ]
              ],
              "status": 200,
              "status_text": ""
            }
          },
          "base_uri": "https://localhost:8080/",
          "height": 478
        },
        "id": "AVcgSIC_Aw77",
        "outputId": "ba5706d6-5b93-40cb-ce27-63964b344cb7"
      },
      "id": "AVcgSIC_Aw77",
      "execution_count": 6,
      "outputs": [
        {
          "output_type": "display_data",
          "data": {
            "text/plain": [
              "<IPython.core.display.HTML object>"
            ],
            "text/html": [
              "\n",
              "     <input type=\"file\" id=\"files-360d497c-7d6b-44a1-b07a-d63d670c7f84\" name=\"files[]\" multiple disabled\n",
              "        style=\"border:none\" />\n",
              "     <output id=\"result-360d497c-7d6b-44a1-b07a-d63d670c7f84\">\n",
              "      Upload widget is only available when the cell has been executed in the\n",
              "      current browser session. Please rerun this cell to enable.\n",
              "      </output>\n",
              "      <script src=\"/nbextensions/google.colab/files.js\"></script> "
            ]
          },
          "metadata": {}
        },
        {
          "output_type": "stream",
          "name": "stdout",
          "text": [
            "Saving 2017-2021_Historical_Players_Data.csv to 2017-2021_Historical_Players_Data (2).csv\n"
          ]
        },
        {
          "output_type": "execute_result",
          "data": {
            "text/plain": [
              "   DraftYr  Rk  Pk   Tm  Pos              Player       College  \\\n",
              "0     1990   1   1  BRK  NaN     Derrick Coleman      Syracuse   \n",
              "1     1990   2   2  OKC  NaN         Gary Payton  Oregon State   \n",
              "2     1990   3   3  DEN  NaN  Mahmoud Abdul-Rauf           LSU   \n",
              "3     1990   4   4  ORL  NaN        Dennis Scott  Georgia Tech   \n",
              "4     1990   5   5  CHA  NaN        Kendall Gill      Illinois   \n",
              "\n",
              "   Contract Worth   Yrs       G  ...     WS  WS/48   BPM  VORP   MPG   PPG  \\\n",
              "0             nan 15.00  781.00  ...  64.30   0.12  1.40 22.30 33.20 16.50   \n",
              "1             nan 17.00 1335.00  ... 145.50   0.15  3.30 62.50 35.30 16.30   \n",
              "2             nan  9.00  586.00  ...  25.20   0.08 -0.80  4.50 26.70 14.60   \n",
              "3             nan 10.00  629.00  ...  33.40   0.09  0.20  9.90 28.60 12.90   \n",
              "4             nan 15.00  966.00  ...  47.80   0.08  0.10 15.80 30.50 13.40   \n",
              "\n",
              "   RPG  APG                                          playerurl  DraftYear  \n",
              "0 9.30 2.50  https://www.sports-reference.com/cbb/players/d...       1990  \n",
              "1 3.90 6.70  https://www.sports-reference.com/cbb/players/g...       1990  \n",
              "2 1.90 3.50  https://www.sports-reference.com/cbb/players/m...       1990  \n",
              "3 2.80 2.10  https://www.sports-reference.com/cbb/players/d...       1990  \n",
              "4 4.10 3.00  https://www.sports-reference.com/cbb/players/k...       1990  \n",
              "\n",
              "[5 rows x 27 columns]"
            ],
            "text/html": [
              "\n",
              "  <div id=\"df-2c032939-0bc8-4bdf-9e5e-f7d515db1cb3\">\n",
              "    <div class=\"colab-df-container\">\n",
              "      <div>\n",
              "<style scoped>\n",
              "    .dataframe tbody tr th:only-of-type {\n",
              "        vertical-align: middle;\n",
              "    }\n",
              "\n",
              "    .dataframe tbody tr th {\n",
              "        vertical-align: top;\n",
              "    }\n",
              "\n",
              "    .dataframe thead th {\n",
              "        text-align: right;\n",
              "    }\n",
              "</style>\n",
              "<table border=\"1\" class=\"dataframe\">\n",
              "  <thead>\n",
              "    <tr style=\"text-align: right;\">\n",
              "      <th></th>\n",
              "      <th>DraftYr</th>\n",
              "      <th>Rk</th>\n",
              "      <th>Pk</th>\n",
              "      <th>Tm</th>\n",
              "      <th>Pos</th>\n",
              "      <th>Player</th>\n",
              "      <th>College</th>\n",
              "      <th>Contract Worth</th>\n",
              "      <th>Yrs</th>\n",
              "      <th>G</th>\n",
              "      <th>...</th>\n",
              "      <th>WS</th>\n",
              "      <th>WS/48</th>\n",
              "      <th>BPM</th>\n",
              "      <th>VORP</th>\n",
              "      <th>MPG</th>\n",
              "      <th>PPG</th>\n",
              "      <th>RPG</th>\n",
              "      <th>APG</th>\n",
              "      <th>playerurl</th>\n",
              "      <th>DraftYear</th>\n",
              "    </tr>\n",
              "  </thead>\n",
              "  <tbody>\n",
              "    <tr>\n",
              "      <th>0</th>\n",
              "      <td>1990</td>\n",
              "      <td>1</td>\n",
              "      <td>1</td>\n",
              "      <td>BRK</td>\n",
              "      <td>NaN</td>\n",
              "      <td>Derrick Coleman</td>\n",
              "      <td>Syracuse</td>\n",
              "      <td>nan</td>\n",
              "      <td>15.00</td>\n",
              "      <td>781.00</td>\n",
              "      <td>...</td>\n",
              "      <td>64.30</td>\n",
              "      <td>0.12</td>\n",
              "      <td>1.40</td>\n",
              "      <td>22.30</td>\n",
              "      <td>33.20</td>\n",
              "      <td>16.50</td>\n",
              "      <td>9.30</td>\n",
              "      <td>2.50</td>\n",
              "      <td>https://www.sports-reference.com/cbb/players/d...</td>\n",
              "      <td>1990</td>\n",
              "    </tr>\n",
              "    <tr>\n",
              "      <th>1</th>\n",
              "      <td>1990</td>\n",
              "      <td>2</td>\n",
              "      <td>2</td>\n",
              "      <td>OKC</td>\n",
              "      <td>NaN</td>\n",
              "      <td>Gary Payton</td>\n",
              "      <td>Oregon State</td>\n",
              "      <td>nan</td>\n",
              "      <td>17.00</td>\n",
              "      <td>1335.00</td>\n",
              "      <td>...</td>\n",
              "      <td>145.50</td>\n",
              "      <td>0.15</td>\n",
              "      <td>3.30</td>\n",
              "      <td>62.50</td>\n",
              "      <td>35.30</td>\n",
              "      <td>16.30</td>\n",
              "      <td>3.90</td>\n",
              "      <td>6.70</td>\n",
              "      <td>https://www.sports-reference.com/cbb/players/g...</td>\n",
              "      <td>1990</td>\n",
              "    </tr>\n",
              "    <tr>\n",
              "      <th>2</th>\n",
              "      <td>1990</td>\n",
              "      <td>3</td>\n",
              "      <td>3</td>\n",
              "      <td>DEN</td>\n",
              "      <td>NaN</td>\n",
              "      <td>Mahmoud Abdul-Rauf</td>\n",
              "      <td>LSU</td>\n",
              "      <td>nan</td>\n",
              "      <td>9.00</td>\n",
              "      <td>586.00</td>\n",
              "      <td>...</td>\n",
              "      <td>25.20</td>\n",
              "      <td>0.08</td>\n",
              "      <td>-0.80</td>\n",
              "      <td>4.50</td>\n",
              "      <td>26.70</td>\n",
              "      <td>14.60</td>\n",
              "      <td>1.90</td>\n",
              "      <td>3.50</td>\n",
              "      <td>https://www.sports-reference.com/cbb/players/m...</td>\n",
              "      <td>1990</td>\n",
              "    </tr>\n",
              "    <tr>\n",
              "      <th>3</th>\n",
              "      <td>1990</td>\n",
              "      <td>4</td>\n",
              "      <td>4</td>\n",
              "      <td>ORL</td>\n",
              "      <td>NaN</td>\n",
              "      <td>Dennis Scott</td>\n",
              "      <td>Georgia Tech</td>\n",
              "      <td>nan</td>\n",
              "      <td>10.00</td>\n",
              "      <td>629.00</td>\n",
              "      <td>...</td>\n",
              "      <td>33.40</td>\n",
              "      <td>0.09</td>\n",
              "      <td>0.20</td>\n",
              "      <td>9.90</td>\n",
              "      <td>28.60</td>\n",
              "      <td>12.90</td>\n",
              "      <td>2.80</td>\n",
              "      <td>2.10</td>\n",
              "      <td>https://www.sports-reference.com/cbb/players/d...</td>\n",
              "      <td>1990</td>\n",
              "    </tr>\n",
              "    <tr>\n",
              "      <th>4</th>\n",
              "      <td>1990</td>\n",
              "      <td>5</td>\n",
              "      <td>5</td>\n",
              "      <td>CHA</td>\n",
              "      <td>NaN</td>\n",
              "      <td>Kendall Gill</td>\n",
              "      <td>Illinois</td>\n",
              "      <td>nan</td>\n",
              "      <td>15.00</td>\n",
              "      <td>966.00</td>\n",
              "      <td>...</td>\n",
              "      <td>47.80</td>\n",
              "      <td>0.08</td>\n",
              "      <td>0.10</td>\n",
              "      <td>15.80</td>\n",
              "      <td>30.50</td>\n",
              "      <td>13.40</td>\n",
              "      <td>4.10</td>\n",
              "      <td>3.00</td>\n",
              "      <td>https://www.sports-reference.com/cbb/players/k...</td>\n",
              "      <td>1990</td>\n",
              "    </tr>\n",
              "  </tbody>\n",
              "</table>\n",
              "<p>5 rows × 27 columns</p>\n",
              "</div>\n",
              "      <button class=\"colab-df-convert\" onclick=\"convertToInteractive('df-2c032939-0bc8-4bdf-9e5e-f7d515db1cb3')\"\n",
              "              title=\"Convert this dataframe to an interactive table.\"\n",
              "              style=\"display:none;\">\n",
              "        \n",
              "  <svg xmlns=\"http://www.w3.org/2000/svg\" height=\"24px\"viewBox=\"0 0 24 24\"\n",
              "       width=\"24px\">\n",
              "    <path d=\"M0 0h24v24H0V0z\" fill=\"none\"/>\n",
              "    <path d=\"M18.56 5.44l.94 2.06.94-2.06 2.06-.94-2.06-.94-.94-2.06-.94 2.06-2.06.94zm-11 1L8.5 8.5l.94-2.06 2.06-.94-2.06-.94L8.5 2.5l-.94 2.06-2.06.94zm10 10l.94 2.06.94-2.06 2.06-.94-2.06-.94-.94-2.06-.94 2.06-2.06.94z\"/><path d=\"M17.41 7.96l-1.37-1.37c-.4-.4-.92-.59-1.43-.59-.52 0-1.04.2-1.43.59L10.3 9.45l-7.72 7.72c-.78.78-.78 2.05 0 2.83L4 21.41c.39.39.9.59 1.41.59.51 0 1.02-.2 1.41-.59l7.78-7.78 2.81-2.81c.8-.78.8-2.07 0-2.86zM5.41 20L4 18.59l7.72-7.72 1.47 1.35L5.41 20z\"/>\n",
              "  </svg>\n",
              "      </button>\n",
              "      \n",
              "  <style>\n",
              "    .colab-df-container {\n",
              "      display:flex;\n",
              "      flex-wrap:wrap;\n",
              "      gap: 12px;\n",
              "    }\n",
              "\n",
              "    .colab-df-convert {\n",
              "      background-color: #E8F0FE;\n",
              "      border: none;\n",
              "      border-radius: 50%;\n",
              "      cursor: pointer;\n",
              "      display: none;\n",
              "      fill: #1967D2;\n",
              "      height: 32px;\n",
              "      padding: 0 0 0 0;\n",
              "      width: 32px;\n",
              "    }\n",
              "\n",
              "    .colab-df-convert:hover {\n",
              "      background-color: #E2EBFA;\n",
              "      box-shadow: 0px 1px 2px rgba(60, 64, 67, 0.3), 0px 1px 3px 1px rgba(60, 64, 67, 0.15);\n",
              "      fill: #174EA6;\n",
              "    }\n",
              "\n",
              "    [theme=dark] .colab-df-convert {\n",
              "      background-color: #3B4455;\n",
              "      fill: #D2E3FC;\n",
              "    }\n",
              "\n",
              "    [theme=dark] .colab-df-convert:hover {\n",
              "      background-color: #434B5C;\n",
              "      box-shadow: 0px 1px 3px 1px rgba(0, 0, 0, 0.15);\n",
              "      filter: drop-shadow(0px 1px 2px rgba(0, 0, 0, 0.3));\n",
              "      fill: #FFFFFF;\n",
              "    }\n",
              "  </style>\n",
              "\n",
              "      <script>\n",
              "        const buttonEl =\n",
              "          document.querySelector('#df-2c032939-0bc8-4bdf-9e5e-f7d515db1cb3 button.colab-df-convert');\n",
              "        buttonEl.style.display =\n",
              "          google.colab.kernel.accessAllowed ? 'block' : 'none';\n",
              "\n",
              "        async function convertToInteractive(key) {\n",
              "          const element = document.querySelector('#df-2c032939-0bc8-4bdf-9e5e-f7d515db1cb3');\n",
              "          const dataTable =\n",
              "            await google.colab.kernel.invokeFunction('convertToInteractive',\n",
              "                                                     [key], {});\n",
              "          if (!dataTable) return;\n",
              "\n",
              "          const docLinkHtml = 'Like what you see? Visit the ' +\n",
              "            '<a target=\"_blank\" href=https://colab.research.google.com/notebooks/data_table.ipynb>data table notebook</a>'\n",
              "            + ' to learn more about interactive tables.';\n",
              "          element.innerHTML = '';\n",
              "          dataTable['output_type'] = 'display_data';\n",
              "          await google.colab.output.renderOutput(dataTable, element);\n",
              "          const docLink = document.createElement('div');\n",
              "          docLink.innerHTML = docLinkHtml;\n",
              "          element.appendChild(docLink);\n",
              "        }\n",
              "      </script>\n",
              "    </div>\n",
              "  </div>\n",
              "  "
            ]
          },
          "metadata": {},
          "execution_count": 6
        }
      ]
    },
    {
      "cell_type": "code",
      "execution_count": 7,
      "id": "095c33a2-0be4-44a3-b6b5-2d5daf25365e",
      "metadata": {
        "colab": {
          "base_uri": "https://localhost:8080/",
          "height": 424
        },
        "id": "095c33a2-0be4-44a3-b6b5-2d5daf25365e",
        "outputId": "6310cbdc-ade9-43a6-adb1-260273f0904e"
      },
      "outputs": [
        {
          "output_type": "execute_result",
          "data": {
            "text/plain": [
              "      Rk       G    TOTMP   TOTPTS  TOTTRB  TOTAST  FG%  3P%  FT%     WS  \\\n",
              "0      1  781.00 25903.00 12884.00 7232.00 1985.00 0.45 0.29 0.77  64.30   \n",
              "1      2 1335.00 47117.00 21813.00 5269.00 8966.00 0.47 0.32 0.73 145.50   \n",
              "2      3  586.00 15628.00  8553.00 1087.00 2079.00 0.44 0.35 0.91  25.20   \n",
              "3      4  629.00 17983.00  8094.00 1774.00 1296.00 0.42 0.40 0.79  33.40   \n",
              "4      5  966.00 29481.00 12914.00 4002.00 2945.00 0.43 0.30 0.75  47.80   \n",
              "...   ..     ...      ...      ...     ...     ...  ...  ...  ...    ...   \n",
              "1863  56    2.00     7.00     1.00    0.00    1.00 0.00 0.00 0.50   0.00   \n",
              "1864  57    0.00     0.00     0.00    0.00    0.00 0.00 0.00 0.00   0.00   \n",
              "1865  58   18.00   117.00    19.00   27.00    1.00 0.73 0.00 0.75   0.40   \n",
              "1866  59    0.00     0.00     0.00    0.00    0.00 0.00 0.00 0.00   0.00   \n",
              "1867  60    9.00    48.00    16.00    8.00    0.00 0.46 0.50 0.44   0.00   \n",
              "\n",
              "      WS/48   BPM  VORP   MPG   PPG  RPG  APG  \n",
              "0      0.12  1.40 22.30 33.20 16.50 9.30 2.50  \n",
              "1      0.15  3.30 62.50 35.30 16.30 3.90 6.70  \n",
              "2      0.08 -0.80  4.50 26.70 14.60 1.90 3.50  \n",
              "3      0.09  0.20  9.90 28.60 12.90 2.80 2.10  \n",
              "4      0.08  0.10 15.80 30.50 13.40 4.10 3.00  \n",
              "...     ...   ...   ...   ...   ...  ...  ...  \n",
              "1863   0.16  6.10  0.00  3.50  0.50 0.00 0.50  \n",
              "1864   0.00  0.00  0.00  0.00  0.00 0.00 0.00  \n",
              "1865   0.14 -0.60  0.00  6.50  1.10 1.50 0.10  \n",
              "1866   0.00  0.00  0.00  0.00  0.00 0.00 0.00  \n",
              "1867  -0.01 -8.00 -0.10  5.30  1.80 0.90 0.00  \n",
              "\n",
              "[1868 rows x 17 columns]"
            ],
            "text/html": [
              "\n",
              "  <div id=\"df-0b08f970-5db7-4fa2-8e6b-6726a9ae72c9\">\n",
              "    <div class=\"colab-df-container\">\n",
              "      <div>\n",
              "<style scoped>\n",
              "    .dataframe tbody tr th:only-of-type {\n",
              "        vertical-align: middle;\n",
              "    }\n",
              "\n",
              "    .dataframe tbody tr th {\n",
              "        vertical-align: top;\n",
              "    }\n",
              "\n",
              "    .dataframe thead th {\n",
              "        text-align: right;\n",
              "    }\n",
              "</style>\n",
              "<table border=\"1\" class=\"dataframe\">\n",
              "  <thead>\n",
              "    <tr style=\"text-align: right;\">\n",
              "      <th></th>\n",
              "      <th>Rk</th>\n",
              "      <th>G</th>\n",
              "      <th>TOTMP</th>\n",
              "      <th>TOTPTS</th>\n",
              "      <th>TOTTRB</th>\n",
              "      <th>TOTAST</th>\n",
              "      <th>FG%</th>\n",
              "      <th>3P%</th>\n",
              "      <th>FT%</th>\n",
              "      <th>WS</th>\n",
              "      <th>WS/48</th>\n",
              "      <th>BPM</th>\n",
              "      <th>VORP</th>\n",
              "      <th>MPG</th>\n",
              "      <th>PPG</th>\n",
              "      <th>RPG</th>\n",
              "      <th>APG</th>\n",
              "    </tr>\n",
              "  </thead>\n",
              "  <tbody>\n",
              "    <tr>\n",
              "      <th>0</th>\n",
              "      <td>1</td>\n",
              "      <td>781.00</td>\n",
              "      <td>25903.00</td>\n",
              "      <td>12884.00</td>\n",
              "      <td>7232.00</td>\n",
              "      <td>1985.00</td>\n",
              "      <td>0.45</td>\n",
              "      <td>0.29</td>\n",
              "      <td>0.77</td>\n",
              "      <td>64.30</td>\n",
              "      <td>0.12</td>\n",
              "      <td>1.40</td>\n",
              "      <td>22.30</td>\n",
              "      <td>33.20</td>\n",
              "      <td>16.50</td>\n",
              "      <td>9.30</td>\n",
              "      <td>2.50</td>\n",
              "    </tr>\n",
              "    <tr>\n",
              "      <th>1</th>\n",
              "      <td>2</td>\n",
              "      <td>1335.00</td>\n",
              "      <td>47117.00</td>\n",
              "      <td>21813.00</td>\n",
              "      <td>5269.00</td>\n",
              "      <td>8966.00</td>\n",
              "      <td>0.47</td>\n",
              "      <td>0.32</td>\n",
              "      <td>0.73</td>\n",
              "      <td>145.50</td>\n",
              "      <td>0.15</td>\n",
              "      <td>3.30</td>\n",
              "      <td>62.50</td>\n",
              "      <td>35.30</td>\n",
              "      <td>16.30</td>\n",
              "      <td>3.90</td>\n",
              "      <td>6.70</td>\n",
              "    </tr>\n",
              "    <tr>\n",
              "      <th>2</th>\n",
              "      <td>3</td>\n",
              "      <td>586.00</td>\n",
              "      <td>15628.00</td>\n",
              "      <td>8553.00</td>\n",
              "      <td>1087.00</td>\n",
              "      <td>2079.00</td>\n",
              "      <td>0.44</td>\n",
              "      <td>0.35</td>\n",
              "      <td>0.91</td>\n",
              "      <td>25.20</td>\n",
              "      <td>0.08</td>\n",
              "      <td>-0.80</td>\n",
              "      <td>4.50</td>\n",
              "      <td>26.70</td>\n",
              "      <td>14.60</td>\n",
              "      <td>1.90</td>\n",
              "      <td>3.50</td>\n",
              "    </tr>\n",
              "    <tr>\n",
              "      <th>3</th>\n",
              "      <td>4</td>\n",
              "      <td>629.00</td>\n",
              "      <td>17983.00</td>\n",
              "      <td>8094.00</td>\n",
              "      <td>1774.00</td>\n",
              "      <td>1296.00</td>\n",
              "      <td>0.42</td>\n",
              "      <td>0.40</td>\n",
              "      <td>0.79</td>\n",
              "      <td>33.40</td>\n",
              "      <td>0.09</td>\n",
              "      <td>0.20</td>\n",
              "      <td>9.90</td>\n",
              "      <td>28.60</td>\n",
              "      <td>12.90</td>\n",
              "      <td>2.80</td>\n",
              "      <td>2.10</td>\n",
              "    </tr>\n",
              "    <tr>\n",
              "      <th>4</th>\n",
              "      <td>5</td>\n",
              "      <td>966.00</td>\n",
              "      <td>29481.00</td>\n",
              "      <td>12914.00</td>\n",
              "      <td>4002.00</td>\n",
              "      <td>2945.00</td>\n",
              "      <td>0.43</td>\n",
              "      <td>0.30</td>\n",
              "      <td>0.75</td>\n",
              "      <td>47.80</td>\n",
              "      <td>0.08</td>\n",
              "      <td>0.10</td>\n",
              "      <td>15.80</td>\n",
              "      <td>30.50</td>\n",
              "      <td>13.40</td>\n",
              "      <td>4.10</td>\n",
              "      <td>3.00</td>\n",
              "    </tr>\n",
              "    <tr>\n",
              "      <th>...</th>\n",
              "      <td>...</td>\n",
              "      <td>...</td>\n",
              "      <td>...</td>\n",
              "      <td>...</td>\n",
              "      <td>...</td>\n",
              "      <td>...</td>\n",
              "      <td>...</td>\n",
              "      <td>...</td>\n",
              "      <td>...</td>\n",
              "      <td>...</td>\n",
              "      <td>...</td>\n",
              "      <td>...</td>\n",
              "      <td>...</td>\n",
              "      <td>...</td>\n",
              "      <td>...</td>\n",
              "      <td>...</td>\n",
              "      <td>...</td>\n",
              "    </tr>\n",
              "    <tr>\n",
              "      <th>1863</th>\n",
              "      <td>56</td>\n",
              "      <td>2.00</td>\n",
              "      <td>7.00</td>\n",
              "      <td>1.00</td>\n",
              "      <td>0.00</td>\n",
              "      <td>1.00</td>\n",
              "      <td>0.00</td>\n",
              "      <td>0.00</td>\n",
              "      <td>0.50</td>\n",
              "      <td>0.00</td>\n",
              "      <td>0.16</td>\n",
              "      <td>6.10</td>\n",
              "      <td>0.00</td>\n",
              "      <td>3.50</td>\n",
              "      <td>0.50</td>\n",
              "      <td>0.00</td>\n",
              "      <td>0.50</td>\n",
              "    </tr>\n",
              "    <tr>\n",
              "      <th>1864</th>\n",
              "      <td>57</td>\n",
              "      <td>0.00</td>\n",
              "      <td>0.00</td>\n",
              "      <td>0.00</td>\n",
              "      <td>0.00</td>\n",
              "      <td>0.00</td>\n",
              "      <td>0.00</td>\n",
              "      <td>0.00</td>\n",
              "      <td>0.00</td>\n",
              "      <td>0.00</td>\n",
              "      <td>0.00</td>\n",
              "      <td>0.00</td>\n",
              "      <td>0.00</td>\n",
              "      <td>0.00</td>\n",
              "      <td>0.00</td>\n",
              "      <td>0.00</td>\n",
              "      <td>0.00</td>\n",
              "    </tr>\n",
              "    <tr>\n",
              "      <th>1865</th>\n",
              "      <td>58</td>\n",
              "      <td>18.00</td>\n",
              "      <td>117.00</td>\n",
              "      <td>19.00</td>\n",
              "      <td>27.00</td>\n",
              "      <td>1.00</td>\n",
              "      <td>0.73</td>\n",
              "      <td>0.00</td>\n",
              "      <td>0.75</td>\n",
              "      <td>0.40</td>\n",
              "      <td>0.14</td>\n",
              "      <td>-0.60</td>\n",
              "      <td>0.00</td>\n",
              "      <td>6.50</td>\n",
              "      <td>1.10</td>\n",
              "      <td>1.50</td>\n",
              "      <td>0.10</td>\n",
              "    </tr>\n",
              "    <tr>\n",
              "      <th>1866</th>\n",
              "      <td>59</td>\n",
              "      <td>0.00</td>\n",
              "      <td>0.00</td>\n",
              "      <td>0.00</td>\n",
              "      <td>0.00</td>\n",
              "      <td>0.00</td>\n",
              "      <td>0.00</td>\n",
              "      <td>0.00</td>\n",
              "      <td>0.00</td>\n",
              "      <td>0.00</td>\n",
              "      <td>0.00</td>\n",
              "      <td>0.00</td>\n",
              "      <td>0.00</td>\n",
              "      <td>0.00</td>\n",
              "      <td>0.00</td>\n",
              "      <td>0.00</td>\n",
              "      <td>0.00</td>\n",
              "    </tr>\n",
              "    <tr>\n",
              "      <th>1867</th>\n",
              "      <td>60</td>\n",
              "      <td>9.00</td>\n",
              "      <td>48.00</td>\n",
              "      <td>16.00</td>\n",
              "      <td>8.00</td>\n",
              "      <td>0.00</td>\n",
              "      <td>0.46</td>\n",
              "      <td>0.50</td>\n",
              "      <td>0.44</td>\n",
              "      <td>0.00</td>\n",
              "      <td>-0.01</td>\n",
              "      <td>-8.00</td>\n",
              "      <td>-0.10</td>\n",
              "      <td>5.30</td>\n",
              "      <td>1.80</td>\n",
              "      <td>0.90</td>\n",
              "      <td>0.00</td>\n",
              "    </tr>\n",
              "  </tbody>\n",
              "</table>\n",
              "<p>1868 rows × 17 columns</p>\n",
              "</div>\n",
              "      <button class=\"colab-df-convert\" onclick=\"convertToInteractive('df-0b08f970-5db7-4fa2-8e6b-6726a9ae72c9')\"\n",
              "              title=\"Convert this dataframe to an interactive table.\"\n",
              "              style=\"display:none;\">\n",
              "        \n",
              "  <svg xmlns=\"http://www.w3.org/2000/svg\" height=\"24px\"viewBox=\"0 0 24 24\"\n",
              "       width=\"24px\">\n",
              "    <path d=\"M0 0h24v24H0V0z\" fill=\"none\"/>\n",
              "    <path d=\"M18.56 5.44l.94 2.06.94-2.06 2.06-.94-2.06-.94-.94-2.06-.94 2.06-2.06.94zm-11 1L8.5 8.5l.94-2.06 2.06-.94-2.06-.94L8.5 2.5l-.94 2.06-2.06.94zm10 10l.94 2.06.94-2.06 2.06-.94-2.06-.94-.94-2.06-.94 2.06-2.06.94z\"/><path d=\"M17.41 7.96l-1.37-1.37c-.4-.4-.92-.59-1.43-.59-.52 0-1.04.2-1.43.59L10.3 9.45l-7.72 7.72c-.78.78-.78 2.05 0 2.83L4 21.41c.39.39.9.59 1.41.59.51 0 1.02-.2 1.41-.59l7.78-7.78 2.81-2.81c.8-.78.8-2.07 0-2.86zM5.41 20L4 18.59l7.72-7.72 1.47 1.35L5.41 20z\"/>\n",
              "  </svg>\n",
              "      </button>\n",
              "      \n",
              "  <style>\n",
              "    .colab-df-container {\n",
              "      display:flex;\n",
              "      flex-wrap:wrap;\n",
              "      gap: 12px;\n",
              "    }\n",
              "\n",
              "    .colab-df-convert {\n",
              "      background-color: #E8F0FE;\n",
              "      border: none;\n",
              "      border-radius: 50%;\n",
              "      cursor: pointer;\n",
              "      display: none;\n",
              "      fill: #1967D2;\n",
              "      height: 32px;\n",
              "      padding: 0 0 0 0;\n",
              "      width: 32px;\n",
              "    }\n",
              "\n",
              "    .colab-df-convert:hover {\n",
              "      background-color: #E2EBFA;\n",
              "      box-shadow: 0px 1px 2px rgba(60, 64, 67, 0.3), 0px 1px 3px 1px rgba(60, 64, 67, 0.15);\n",
              "      fill: #174EA6;\n",
              "    }\n",
              "\n",
              "    [theme=dark] .colab-df-convert {\n",
              "      background-color: #3B4455;\n",
              "      fill: #D2E3FC;\n",
              "    }\n",
              "\n",
              "    [theme=dark] .colab-df-convert:hover {\n",
              "      background-color: #434B5C;\n",
              "      box-shadow: 0px 1px 3px 1px rgba(0, 0, 0, 0.15);\n",
              "      filter: drop-shadow(0px 1px 2px rgba(0, 0, 0, 0.3));\n",
              "      fill: #FFFFFF;\n",
              "    }\n",
              "  </style>\n",
              "\n",
              "      <script>\n",
              "        const buttonEl =\n",
              "          document.querySelector('#df-0b08f970-5db7-4fa2-8e6b-6726a9ae72c9 button.colab-df-convert');\n",
              "        buttonEl.style.display =\n",
              "          google.colab.kernel.accessAllowed ? 'block' : 'none';\n",
              "\n",
              "        async function convertToInteractive(key) {\n",
              "          const element = document.querySelector('#df-0b08f970-5db7-4fa2-8e6b-6726a9ae72c9');\n",
              "          const dataTable =\n",
              "            await google.colab.kernel.invokeFunction('convertToInteractive',\n",
              "                                                     [key], {});\n",
              "          if (!dataTable) return;\n",
              "\n",
              "          const docLinkHtml = 'Like what you see? Visit the ' +\n",
              "            '<a target=\"_blank\" href=https://colab.research.google.com/notebooks/data_table.ipynb>data table notebook</a>'\n",
              "            + ' to learn more about interactive tables.';\n",
              "          element.innerHTML = '';\n",
              "          dataTable['output_type'] = 'display_data';\n",
              "          await google.colab.output.renderOutput(dataTable, element);\n",
              "          const docLink = document.createElement('div');\n",
              "          docLink.innerHTML = docLinkHtml;\n",
              "          element.appendChild(docLink);\n",
              "        }\n",
              "      </script>\n",
              "    </div>\n",
              "  </div>\n",
              "  "
            ]
          },
          "metadata": {},
          "execution_count": 7
        }
      ],
      "source": [
        "# Drop irrelevant columns\n",
        "\n",
        "df = df.drop(columns = ['DraftYr','Pk','Tm','Player','College','Contract Worth','Yrs','playerurl','DraftYear','Pos']).fillna(0)\n",
        "df"
      ]
    },
    {
      "cell_type": "code",
      "execution_count": 8,
      "id": "0657910b-08bd-4709-9d8d-4d99871f9779",
      "metadata": {
        "colab": {
          "base_uri": "https://localhost:8080/",
          "height": 656
        },
        "id": "0657910b-08bd-4709-9d8d-4d99871f9779",
        "outputId": "1230738c-1923-4cd7-d059-f46ef2b2cca8"
      },
      "outputs": [
        {
          "output_type": "execute_result",
          "data": {
            "text/plain": [
              "array([[<matplotlib.axes._subplots.AxesSubplot object at 0x7f02dc804d10>,\n",
              "        <matplotlib.axes._subplots.AxesSubplot object at 0x7f02dc75d490>,\n",
              "        <matplotlib.axes._subplots.AxesSubplot object at 0x7f02dc717a90>,\n",
              "        <matplotlib.axes._subplots.AxesSubplot object at 0x7f02dc6d70d0>],\n",
              "       [<matplotlib.axes._subplots.AxesSubplot object at 0x7f02dc68d6d0>,\n",
              "        <matplotlib.axes._subplots.AxesSubplot object at 0x7f02dc6c1cd0>,\n",
              "        <matplotlib.axes._subplots.AxesSubplot object at 0x7f02dc685390>,\n",
              "        <matplotlib.axes._subplots.AxesSubplot object at 0x7f02dc6398d0>],\n",
              "       [<matplotlib.axes._subplots.AxesSubplot object at 0x7f02dc639910>,\n",
              "        <matplotlib.axes._subplots.AxesSubplot object at 0x7f02dc5fd050>,\n",
              "        <matplotlib.axes._subplots.AxesSubplot object at 0x7f02dc56bb50>,\n",
              "        <matplotlib.axes._subplots.AxesSubplot object at 0x7f02dc52c190>],\n",
              "       [<matplotlib.axes._subplots.AxesSubplot object at 0x7f02dc4e1790>,\n",
              "        <matplotlib.axes._subplots.AxesSubplot object at 0x7f02dc496d90>,\n",
              "        <matplotlib.axes._subplots.AxesSubplot object at 0x7f02dc45a3d0>,\n",
              "        <matplotlib.axes._subplots.AxesSubplot object at 0x7f02dc40e9d0>],\n",
              "       [<matplotlib.axes._subplots.AxesSubplot object at 0x7f02dc43db10>,\n",
              "        <matplotlib.axes._subplots.AxesSubplot object at 0x7f02dc408610>,\n",
              "        <matplotlib.axes._subplots.AxesSubplot object at 0x7f02dc3bec10>,\n",
              "        <matplotlib.axes._subplots.AxesSubplot object at 0x7f02dc37f250>]],\n",
              "      dtype=object)"
            ]
          },
          "metadata": {},
          "execution_count": 8
        },
        {
          "output_type": "display_data",
          "data": {
            "text/plain": [
              "<Figure size 432x288 with 20 Axes>"
            ],
            "image/png": "[encoded data removed]"
          },
          "metadata": {
            "needs_background": "light"
          }
        }
      ],
      "source": [
        "# Check data distribution of all aspects\n",
        "df.hist()"
      ]
    },
    {
      "cell_type": "code",
      "execution_count": 9,
      "id": "698f8f37-4223-4770-baf0-a4e6b9b782d9",
      "metadata": {
        "colab": {
          "base_uri": "https://localhost:8080/",
          "height": 206
        },
        "id": "698f8f37-4223-4770-baf0-a4e6b9b782d9",
        "outputId": "c7bc9f40-4328-475b-e43d-1b5f4da0eafd"
      },
      "outputs": [
        {
          "output_type": "execute_result",
          "data": {
            "text/plain": [
              "   Rk       G    TOTMP   TOTPTS  TOTTRB  TOTAST  FG%  3P%  FT%     WS  WS/48  \\\n",
              "0   1  781.00 25903.00 12884.00 7232.00 1985.00 0.45 0.29 0.77  64.30   0.12   \n",
              "1   2 1335.00 47117.00 21813.00 5269.00 8966.00 0.47 0.32 0.73 145.50   0.15   \n",
              "2   3  586.00 15628.00  8553.00 1087.00 2079.00 0.44 0.35 0.91  25.20   0.08   \n",
              "3   4  629.00 17983.00  8094.00 1774.00 1296.00 0.42 0.40 0.79  33.40   0.09   \n",
              "4   5  966.00 29481.00 12914.00 4002.00 2945.00 0.43 0.30 0.75  47.80   0.08   \n",
              "\n",
              "    BPM  VORP   MPG   PPG  RPG  APG  Group  \n",
              "0  1.40 22.30 33.20 16.50 9.30 2.50      0  \n",
              "1  3.30 62.50 35.30 16.30 3.90 6.70      0  \n",
              "2 -0.80  4.50 26.70 14.60 1.90 3.50      0  \n",
              "3  0.20  9.90 28.60 12.90 2.80 2.10      0  \n",
              "4  0.10 15.80 30.50 13.40 4.10 3.00      0  "
            ],
            "text/html": [
              "\n",
              "  <div id=\"df-c9e85d15-fb43-4424-b979-c9b2200882a6\">\n",
              "    <div class=\"colab-df-container\">\n",
              "      <div>\n",
              "<style scoped>\n",
              "    .dataframe tbody tr th:only-of-type {\n",
              "        vertical-align: middle;\n",
              "    }\n",
              "\n",
              "    .dataframe tbody tr th {\n",
              "        vertical-align: top;\n",
              "    }\n",
              "\n",
              "    .dataframe thead th {\n",
              "        text-align: right;\n",
              "    }\n",
              "</style>\n",
              "<table border=\"1\" class=\"dataframe\">\n",
              "  <thead>\n",
              "    <tr style=\"text-align: right;\">\n",
              "      <th></th>\n",
              "      <th>Rk</th>\n",
              "      <th>G</th>\n",
              "      <th>TOTMP</th>\n",
              "      <th>TOTPTS</th>\n",
              "      <th>TOTTRB</th>\n",
              "      <th>TOTAST</th>\n",
              "      <th>FG%</th>\n",
              "      <th>3P%</th>\n",
              "      <th>FT%</th>\n",
              "      <th>WS</th>\n",
              "      <th>WS/48</th>\n",
              "      <th>BPM</th>\n",
              "      <th>VORP</th>\n",
              "      <th>MPG</th>\n",
              "      <th>PPG</th>\n",
              "      <th>RPG</th>\n",
              "      <th>APG</th>\n",
              "      <th>Group</th>\n",
              "    </tr>\n",
              "  </thead>\n",
              "  <tbody>\n",
              "    <tr>\n",
              "      <th>0</th>\n",
              "      <td>1</td>\n",
              "      <td>781.00</td>\n",
              "      <td>25903.00</td>\n",
              "      <td>12884.00</td>\n",
              "      <td>7232.00</td>\n",
              "      <td>1985.00</td>\n",
              "      <td>0.45</td>\n",
              "      <td>0.29</td>\n",
              "      <td>0.77</td>\n",
              "      <td>64.30</td>\n",
              "      <td>0.12</td>\n",
              "      <td>1.40</td>\n",
              "      <td>22.30</td>\n",
              "      <td>33.20</td>\n",
              "      <td>16.50</td>\n",
              "      <td>9.30</td>\n",
              "      <td>2.50</td>\n",
              "      <td>0</td>\n",
              "    </tr>\n",
              "    <tr>\n",
              "      <th>1</th>\n",
              "      <td>2</td>\n",
              "      <td>1335.00</td>\n",
              "      <td>47117.00</td>\n",
              "      <td>21813.00</td>\n",
              "      <td>5269.00</td>\n",
              "      <td>8966.00</td>\n",
              "      <td>0.47</td>\n",
              "      <td>0.32</td>\n",
              "      <td>0.73</td>\n",
              "      <td>145.50</td>\n",
              "      <td>0.15</td>\n",
              "      <td>3.30</td>\n",
              "      <td>62.50</td>\n",
              "      <td>35.30</td>\n",
              "      <td>16.30</td>\n",
              "      <td>3.90</td>\n",
              "      <td>6.70</td>\n",
              "      <td>0</td>\n",
              "    </tr>\n",
              "    <tr>\n",
              "      <th>2</th>\n",
              "      <td>3</td>\n",
              "      <td>586.00</td>\n",
              "      <td>15628.00</td>\n",
              "      <td>8553.00</td>\n",
              "      <td>1087.00</td>\n",
              "      <td>2079.00</td>\n",
              "      <td>0.44</td>\n",
              "      <td>0.35</td>\n",
              "      <td>0.91</td>\n",
              "      <td>25.20</td>\n",
              "      <td>0.08</td>\n",
              "      <td>-0.80</td>\n",
              "      <td>4.50</td>\n",
              "      <td>26.70</td>\n",
              "      <td>14.60</td>\n",
              "      <td>1.90</td>\n",
              "      <td>3.50</td>\n",
              "      <td>0</td>\n",
              "    </tr>\n",
              "    <tr>\n",
              "      <th>3</th>\n",
              "      <td>4</td>\n",
              "      <td>629.00</td>\n",
              "      <td>17983.00</td>\n",
              "      <td>8094.00</td>\n",
              "      <td>1774.00</td>\n",
              "      <td>1296.00</td>\n",
              "      <td>0.42</td>\n",
              "      <td>0.40</td>\n",
              "      <td>0.79</td>\n",
              "      <td>33.40</td>\n",
              "      <td>0.09</td>\n",
              "      <td>0.20</td>\n",
              "      <td>9.90</td>\n",
              "      <td>28.60</td>\n",
              "      <td>12.90</td>\n",
              "      <td>2.80</td>\n",
              "      <td>2.10</td>\n",
              "      <td>0</td>\n",
              "    </tr>\n",
              "    <tr>\n",
              "      <th>4</th>\n",
              "      <td>5</td>\n",
              "      <td>966.00</td>\n",
              "      <td>29481.00</td>\n",
              "      <td>12914.00</td>\n",
              "      <td>4002.00</td>\n",
              "      <td>2945.00</td>\n",
              "      <td>0.43</td>\n",
              "      <td>0.30</td>\n",
              "      <td>0.75</td>\n",
              "      <td>47.80</td>\n",
              "      <td>0.08</td>\n",
              "      <td>0.10</td>\n",
              "      <td>15.80</td>\n",
              "      <td>30.50</td>\n",
              "      <td>13.40</td>\n",
              "      <td>4.10</td>\n",
              "      <td>3.00</td>\n",
              "      <td>0</td>\n",
              "    </tr>\n",
              "  </tbody>\n",
              "</table>\n",
              "</div>\n",
              "      <button class=\"colab-df-convert\" onclick=\"convertToInteractive('df-c9e85d15-fb43-4424-b979-c9b2200882a6')\"\n",
              "              title=\"Convert this dataframe to an interactive table.\"\n",
              "              style=\"display:none;\">\n",
              "        \n",
              "  <svg xmlns=\"http://www.w3.org/2000/svg\" height=\"24px\"viewBox=\"0 0 24 24\"\n",
              "       width=\"24px\">\n",
              "    <path d=\"M0 0h24v24H0V0z\" fill=\"none\"/>\n",
              "    <path d=\"M18.56 5.44l.94 2.06.94-2.06 2.06-.94-2.06-.94-.94-2.06-.94 2.06-2.06.94zm-11 1L8.5 8.5l.94-2.06 2.06-.94-2.06-.94L8.5 2.5l-.94 2.06-2.06.94zm10 10l.94 2.06.94-2.06 2.06-.94-2.06-.94-.94-2.06-.94 2.06-2.06.94z\"/><path d=\"M17.41 7.96l-1.37-1.37c-.4-.4-.92-.59-1.43-.59-.52 0-1.04.2-1.43.59L10.3 9.45l-7.72 7.72c-.78.78-.78 2.05 0 2.83L4 21.41c.39.39.9.59 1.41.59.51 0 1.02-.2 1.41-.59l7.78-7.78 2.81-2.81c.8-.78.8-2.07 0-2.86zM5.41 20L4 18.59l7.72-7.72 1.47 1.35L5.41 20z\"/>\n",
              "  </svg>\n",
              "      </button>\n",
              "      \n",
              "  <style>\n",
              "    .colab-df-container {\n",
              "      display:flex;\n",
              "      flex-wrap:wrap;\n",
              "      gap: 12px;\n",
              "    }\n",
              "\n",
              "    .colab-df-convert {\n",
              "      background-color: #E8F0FE;\n",
              "      border: none;\n",
              "      border-radius: 50%;\n",
              "      cursor: pointer;\n",
              "      display: none;\n",
              "      fill: #1967D2;\n",
              "      height: 32px;\n",
              "      padding: 0 0 0 0;\n",
              "      width: 32px;\n",
              "    }\n",
              "\n",
              "    .colab-df-convert:hover {\n",
              "      background-color: #E2EBFA;\n",
              "      box-shadow: 0px 1px 2px rgba(60, 64, 67, 0.3), 0px 1px 3px 1px rgba(60, 64, 67, 0.15);\n",
              "      fill: #174EA6;\n",
              "    }\n",
              "\n",
              "    [theme=dark] .colab-df-convert {\n",
              "      background-color: #3B4455;\n",
              "      fill: #D2E3FC;\n",
              "    }\n",
              "\n",
              "    [theme=dark] .colab-df-convert:hover {\n",
              "      background-color: #434B5C;\n",
              "      box-shadow: 0px 1px 3px 1px rgba(0, 0, 0, 0.15);\n",
              "      filter: drop-shadow(0px 1px 2px rgba(0, 0, 0, 0.3));\n",
              "      fill: #FFFFFF;\n",
              "    }\n",
              "  </style>\n",
              "\n",
              "      <script>\n",
              "        const buttonEl =\n",
              "          document.querySelector('#df-c9e85d15-fb43-4424-b979-c9b2200882a6 button.colab-df-convert');\n",
              "        buttonEl.style.display =\n",
              "          google.colab.kernel.accessAllowed ? 'block' : 'none';\n",
              "\n",
              "        async function convertToInteractive(key) {\n",
              "          const element = document.querySelector('#df-c9e85d15-fb43-4424-b979-c9b2200882a6');\n",
              "          const dataTable =\n",
              "            await google.colab.kernel.invokeFunction('convertToInteractive',\n",
              "                                                     [key], {});\n",
              "          if (!dataTable) return;\n",
              "\n",
              "          const docLinkHtml = 'Like what you see? Visit the ' +\n",
              "            '<a target=\"_blank\" href=https://colab.research.google.com/notebooks/data_table.ipynb>data table notebook</a>'\n",
              "            + ' to learn more about interactive tables.';\n",
              "          element.innerHTML = '';\n",
              "          dataTable['output_type'] = 'display_data';\n",
              "          await google.colab.output.renderOutput(dataTable, element);\n",
              "          const docLink = document.createElement('div');\n",
              "          docLink.innerHTML = docLinkHtml;\n",
              "          element.appendChild(docLink);\n",
              "        }\n",
              "      </script>\n",
              "    </div>\n",
              "  </div>\n",
              "  "
            ]
          },
          "metadata": {},
          "execution_count": 9
        }
      ],
      "source": [
        "# Create a column to hold Group data\n",
        "df.loc[:,'Group'] = 0\n",
        "df.head()"
      ]
    },
    {
      "cell_type": "markdown",
      "id": "5f7b85bc-b2ff-4939-9e9e-a5cbd168c1d1",
      "metadata": {
        "id": "5f7b85bc-b2ff-4939-9e9e-a5cbd168c1d1"
      },
      "source": [
        "---\n",
        "## Find top 15\n",
        "### Binary Classification"
      ]
    },
    {
      "cell_type": "code",
      "execution_count": 10,
      "id": "518b1441-c425-4483-98b6-2c8dd9bdcf69",
      "metadata": {
        "tags": [],
        "colab": {
          "base_uri": "https://localhost:8080/",
          "height": 424
        },
        "id": "518b1441-c425-4483-98b6-2c8dd9bdcf69",
        "outputId": "ead5fb8f-4077-446c-ab1d-277ab5e91bb7"
      },
      "outputs": [
        {
          "output_type": "execute_result",
          "data": {
            "text/plain": [
              "      Rk       G    TOTMP   TOTPTS  TOTTRB  TOTAST  FG%  3P%  FT%     WS  \\\n",
              "0      1  781.00 25903.00 12884.00 7232.00 1985.00 0.45 0.29 0.77  64.30   \n",
              "1      2 1335.00 47117.00 21813.00 5269.00 8966.00 0.47 0.32 0.73 145.50   \n",
              "2      3  586.00 15628.00  8553.00 1087.00 2079.00 0.44 0.35 0.91  25.20   \n",
              "3      4  629.00 17983.00  8094.00 1774.00 1296.00 0.42 0.40 0.79  33.40   \n",
              "4      5  966.00 29481.00 12914.00 4002.00 2945.00 0.43 0.30 0.75  47.80   \n",
              "...   ..     ...      ...      ...     ...     ...  ...  ...  ...    ...   \n",
              "1863  56    2.00     7.00     1.00    0.00    1.00 0.00 0.00 0.50   0.00   \n",
              "1864  57    0.00     0.00     0.00    0.00    0.00 0.00 0.00 0.00   0.00   \n",
              "1865  58   18.00   117.00    19.00   27.00    1.00 0.73 0.00 0.75   0.40   \n",
              "1866  59    0.00     0.00     0.00    0.00    0.00 0.00 0.00 0.00   0.00   \n",
              "1867  60    9.00    48.00    16.00    8.00    0.00 0.46 0.50 0.44   0.00   \n",
              "\n",
              "      WS/48   BPM  VORP   MPG   PPG  RPG  APG  Group  \n",
              "0      0.12  1.40 22.30 33.20 16.50 9.30 2.50      1  \n",
              "1      0.15  3.30 62.50 35.30 16.30 3.90 6.70      1  \n",
              "2      0.08 -0.80  4.50 26.70 14.60 1.90 3.50      1  \n",
              "3      0.09  0.20  9.90 28.60 12.90 2.80 2.10      1  \n",
              "4      0.08  0.10 15.80 30.50 13.40 4.10 3.00      1  \n",
              "...     ...   ...   ...   ...   ...  ...  ...    ...  \n",
              "1863   0.16  6.10  0.00  3.50  0.50 0.00 0.50      0  \n",
              "1864   0.00  0.00  0.00  0.00  0.00 0.00 0.00      0  \n",
              "1865   0.14 -0.60  0.00  6.50  1.10 1.50 0.10      0  \n",
              "1866   0.00  0.00  0.00  0.00  0.00 0.00 0.00      0  \n",
              "1867  -0.01 -8.00 -0.10  5.30  1.80 0.90 0.00      0  \n",
              "\n",
              "[1868 rows x 18 columns]"
            ],
            "text/html": [
              "\n",
              "  <div id=\"df-06fd5afa-503d-4635-a369-b01d347c3f23\">\n",
              "    <div class=\"colab-df-container\">\n",
              "      <div>\n",
              "<style scoped>\n",
              "    .dataframe tbody tr th:only-of-type {\n",
              "        vertical-align: middle;\n",
              "    }\n",
              "\n",
              "    .dataframe tbody tr th {\n",
              "        vertical-align: top;\n",
              "    }\n",
              "\n",
              "    .dataframe thead th {\n",
              "        text-align: right;\n",
              "    }\n",
              "</style>\n",
              "<table border=\"1\" class=\"dataframe\">\n",
              "  <thead>\n",
              "    <tr style=\"text-align: right;\">\n",
              "      <th></th>\n",
              "      <th>Rk</th>\n",
              "      <th>G</th>\n",
              "      <th>TOTMP</th>\n",
              "      <th>TOTPTS</th>\n",
              "      <th>TOTTRB</th>\n",
              "      <th>TOTAST</th>\n",
              "      <th>FG%</th>\n",
              "      <th>3P%</th>\n",
              "      <th>FT%</th>\n",
              "      <th>WS</th>\n",
              "      <th>WS/48</th>\n",
              "      <th>BPM</th>\n",
              "      <th>VORP</th>\n",
              "      <th>MPG</th>\n",
              "      <th>PPG</th>\n",
              "      <th>RPG</th>\n",
              "      <th>APG</th>\n",
              "      <th>Group</th>\n",
              "    </tr>\n",
              "  </thead>\n",
              "  <tbody>\n",
              "    <tr>\n",
              "      <th>0</th>\n",
              "      <td>1</td>\n",
              "      <td>781.00</td>\n",
              "      <td>25903.00</td>\n",
              "      <td>12884.00</td>\n",
              "      <td>7232.00</td>\n",
              "      <td>1985.00</td>\n",
              "      <td>0.45</td>\n",
              "      <td>0.29</td>\n",
              "      <td>0.77</td>\n",
              "      <td>64.30</td>\n",
              "      <td>0.12</td>\n",
              "      <td>1.40</td>\n",
              "      <td>22.30</td>\n",
              "      <td>33.20</td>\n",
              "      <td>16.50</td>\n",
              "      <td>9.30</td>\n",
              "      <td>2.50</td>\n",
              "      <td>1</td>\n",
              "    </tr>\n",
              "    <tr>\n",
              "      <th>1</th>\n",
              "      <td>2</td>\n",
              "      <td>1335.00</td>\n",
              "      <td>47117.00</td>\n",
              "      <td>21813.00</td>\n",
              "      <td>5269.00</td>\n",
              "      <td>8966.00</td>\n",
              "      <td>0.47</td>\n",
              "      <td>0.32</td>\n",
              "      <td>0.73</td>\n",
              "      <td>145.50</td>\n",
              "      <td>0.15</td>\n",
              "      <td>3.30</td>\n",
              "      <td>62.50</td>\n",
              "      <td>35.30</td>\n",
              "      <td>16.30</td>\n",
              "      <td>3.90</td>\n",
              "      <td>6.70</td>\n",
              "      <td>1</td>\n",
              "    </tr>\n",
              "    <tr>\n",
              "      <th>2</th>\n",
              "      <td>3</td>\n",
              "      <td>586.00</td>\n",
              "      <td>15628.00</td>\n",
              "      <td>8553.00</td>\n",
              "      <td>1087.00</td>\n",
              "      <td>2079.00</td>\n",
              "      <td>0.44</td>\n",
              "      <td>0.35</td>\n",
              "      <td>0.91</td>\n",
              "      <td>25.20</td>\n",
              "      <td>0.08</td>\n",
              "      <td>-0.80</td>\n",
              "      <td>4.50</td>\n",
              "      <td>26.70</td>\n",
              "      <td>14.60</td>\n",
              "      <td>1.90</td>\n",
              "      <td>3.50</td>\n",
              "      <td>1</td>\n",
              "    </tr>\n",
              "    <tr>\n",
              "      <th>3</th>\n",
              "      <td>4</td>\n",
              "      <td>629.00</td>\n",
              "      <td>17983.00</td>\n",
              "      <td>8094.00</td>\n",
              "      <td>1774.00</td>\n",
              "      <td>1296.00</td>\n",
              "      <td>0.42</td>\n",
              "      <td>0.40</td>\n",
              "      <td>0.79</td>\n",
              "      <td>33.40</td>\n",
              "      <td>0.09</td>\n",
              "      <td>0.20</td>\n",
              "      <td>9.90</td>\n",
              "      <td>28.60</td>\n",
              "      <td>12.90</td>\n",
              "      <td>2.80</td>\n",
              "      <td>2.10</td>\n",
              "      <td>1</td>\n",
              "    </tr>\n",
              "    <tr>\n",
              "      <th>4</th>\n",
              "      <td>5</td>\n",
              "      <td>966.00</td>\n",
              "      <td>29481.00</td>\n",
              "      <td>12914.00</td>\n",
              "      <td>4002.00</td>\n",
              "      <td>2945.00</td>\n",
              "      <td>0.43</td>\n",
              "      <td>0.30</td>\n",
              "      <td>0.75</td>\n",
              "      <td>47.80</td>\n",
              "      <td>0.08</td>\n",
              "      <td>0.10</td>\n",
              "      <td>15.80</td>\n",
              "      <td>30.50</td>\n",
              "      <td>13.40</td>\n",
              "      <td>4.10</td>\n",
              "      <td>3.00</td>\n",
              "      <td>1</td>\n",
              "    </tr>\n",
              "    <tr>\n",
              "      <th>...</th>\n",
              "      <td>...</td>\n",
              "      <td>...</td>\n",
              "      <td>...</td>\n",
              "      <td>...</td>\n",
              "      <td>...</td>\n",
              "      <td>...</td>\n",
              "      <td>...</td>\n",
              "      <td>...</td>\n",
              "      <td>...</td>\n",
              "      <td>...</td>\n",
              "      <td>...</td>\n",
              "      <td>...</td>\n",
              "      <td>...</td>\n",
              "      <td>...</td>\n",
              "      <td>...</td>\n",
              "      <td>...</td>\n",
              "      <td>...</td>\n",
              "      <td>...</td>\n",
              "    </tr>\n",
              "    <tr>\n",
              "      <th>1863</th>\n",
              "      <td>56</td>\n",
              "      <td>2.00</td>\n",
              "      <td>7.00</td>\n",
              "      <td>1.00</td>\n",
              "      <td>0.00</td>\n",
              "      <td>1.00</td>\n",
              "      <td>0.00</td>\n",
              "      <td>0.00</td>\n",
              "      <td>0.50</td>\n",
              "      <td>0.00</td>\n",
              "      <td>0.16</td>\n",
              "      <td>6.10</td>\n",
              "      <td>0.00</td>\n",
              "      <td>3.50</td>\n",
              "      <td>0.50</td>\n",
              "      <td>0.00</td>\n",
              "      <td>0.50</td>\n",
              "      <td>0</td>\n",
              "    </tr>\n",
              "    <tr>\n",
              "      <th>1864</th>\n",
              "      <td>57</td>\n",
              "      <td>0.00</td>\n",
              "      <td>0.00</td>\n",
              "      <td>0.00</td>\n",
              "      <td>0.00</td>\n",
              "      <td>0.00</td>\n",
              "      <td>0.00</td>\n",
              "      <td>0.00</td>\n",
              "      <td>0.00</td>\n",
              "      <td>0.00</td>\n",
              "      <td>0.00</td>\n",
              "      <td>0.00</td>\n",
              "      <td>0.00</td>\n",
              "      <td>0.00</td>\n",
              "      <td>0.00</td>\n",
              "      <td>0.00</td>\n",
              "      <td>0.00</td>\n",
              "      <td>0</td>\n",
              "    </tr>\n",
              "    <tr>\n",
              "      <th>1865</th>\n",
              "      <td>58</td>\n",
              "      <td>18.00</td>\n",
              "      <td>117.00</td>\n",
              "      <td>19.00</td>\n",
              "      <td>27.00</td>\n",
              "      <td>1.00</td>\n",
              "      <td>0.73</td>\n",
              "      <td>0.00</td>\n",
              "      <td>0.75</td>\n",
              "      <td>0.40</td>\n",
              "      <td>0.14</td>\n",
              "      <td>-0.60</td>\n",
              "      <td>0.00</td>\n",
              "      <td>6.50</td>\n",
              "      <td>1.10</td>\n",
              "      <td>1.50</td>\n",
              "      <td>0.10</td>\n",
              "      <td>0</td>\n",
              "    </tr>\n",
              "    <tr>\n",
              "      <th>1866</th>\n",
              "      <td>59</td>\n",
              "      <td>0.00</td>\n",
              "      <td>0.00</td>\n",
              "      <td>0.00</td>\n",
              "      <td>0.00</td>\n",
              "      <td>0.00</td>\n",
              "      <td>0.00</td>\n",
              "      <td>0.00</td>\n",
              "      <td>0.00</td>\n",
              "      <td>0.00</td>\n",
              "      <td>0.00</td>\n",
              "      <td>0.00</td>\n",
              "      <td>0.00</td>\n",
              "      <td>0.00</td>\n",
              "      <td>0.00</td>\n",
              "      <td>0.00</td>\n",
              "      <td>0.00</td>\n",
              "      <td>0</td>\n",
              "    </tr>\n",
              "    <tr>\n",
              "      <th>1867</th>\n",
              "      <td>60</td>\n",
              "      <td>9.00</td>\n",
              "      <td>48.00</td>\n",
              "      <td>16.00</td>\n",
              "      <td>8.00</td>\n",
              "      <td>0.00</td>\n",
              "      <td>0.46</td>\n",
              "      <td>0.50</td>\n",
              "      <td>0.44</td>\n",
              "      <td>0.00</td>\n",
              "      <td>-0.01</td>\n",
              "      <td>-8.00</td>\n",
              "      <td>-0.10</td>\n",
              "      <td>5.30</td>\n",
              "      <td>1.80</td>\n",
              "      <td>0.90</td>\n",
              "      <td>0.00</td>\n",
              "      <td>0</td>\n",
              "    </tr>\n",
              "  </tbody>\n",
              "</table>\n",
              "<p>1868 rows × 18 columns</p>\n",
              "</div>\n",
              "      <button class=\"colab-df-convert\" onclick=\"convertToInteractive('df-06fd5afa-503d-4635-a369-b01d347c3f23')\"\n",
              "              title=\"Convert this dataframe to an interactive table.\"\n",
              "              style=\"display:none;\">\n",
              "        \n",
              "  <svg xmlns=\"http://www.w3.org/2000/svg\" height=\"24px\"viewBox=\"0 0 24 24\"\n",
              "       width=\"24px\">\n",
              "    <path d=\"M0 0h24v24H0V0z\" fill=\"none\"/>\n",
              "    <path d=\"M18.56 5.44l.94 2.06.94-2.06 2.06-.94-2.06-.94-.94-2.06-.94 2.06-2.06.94zm-11 1L8.5 8.5l.94-2.06 2.06-.94-2.06-.94L8.5 2.5l-.94 2.06-2.06.94zm10 10l.94 2.06.94-2.06 2.06-.94-2.06-.94-.94-2.06-.94 2.06-2.06.94z\"/><path d=\"M17.41 7.96l-1.37-1.37c-.4-.4-.92-.59-1.43-.59-.52 0-1.04.2-1.43.59L10.3 9.45l-7.72 7.72c-.78.78-.78 2.05 0 2.83L4 21.41c.39.39.9.59 1.41.59.51 0 1.02-.2 1.41-.59l7.78-7.78 2.81-2.81c.8-.78.8-2.07 0-2.86zM5.41 20L4 18.59l7.72-7.72 1.47 1.35L5.41 20z\"/>\n",
              "  </svg>\n",
              "      </button>\n",
              "      \n",
              "  <style>\n",
              "    .colab-df-container {\n",
              "      display:flex;\n",
              "      flex-wrap:wrap;\n",
              "      gap: 12px;\n",
              "    }\n",
              "\n",
              "    .colab-df-convert {\n",
              "      background-color: #E8F0FE;\n",
              "      border: none;\n",
              "      border-radius: 50%;\n",
              "      cursor: pointer;\n",
              "      display: none;\n",
              "      fill: #1967D2;\n",
              "      height: 32px;\n",
              "      padding: 0 0 0 0;\n",
              "      width: 32px;\n",
              "    }\n",
              "\n",
              "    .colab-df-convert:hover {\n",
              "      background-color: #E2EBFA;\n",
              "      box-shadow: 0px 1px 2px rgba(60, 64, 67, 0.3), 0px 1px 3px 1px rgba(60, 64, 67, 0.15);\n",
              "      fill: #174EA6;\n",
              "    }\n",
              "\n",
              "    [theme=dark] .colab-df-convert {\n",
              "      background-color: #3B4455;\n",
              "      fill: #D2E3FC;\n",
              "    }\n",
              "\n",
              "    [theme=dark] .colab-df-convert:hover {\n",
              "      background-color: #434B5C;\n",
              "      box-shadow: 0px 1px 3px 1px rgba(0, 0, 0, 0.15);\n",
              "      filter: drop-shadow(0px 1px 2px rgba(0, 0, 0, 0.3));\n",
              "      fill: #FFFFFF;\n",
              "    }\n",
              "  </style>\n",
              "\n",
              "      <script>\n",
              "        const buttonEl =\n",
              "          document.querySelector('#df-06fd5afa-503d-4635-a369-b01d347c3f23 button.colab-df-convert');\n",
              "        buttonEl.style.display =\n",
              "          google.colab.kernel.accessAllowed ? 'block' : 'none';\n",
              "\n",
              "        async function convertToInteractive(key) {\n",
              "          const element = document.querySelector('#df-06fd5afa-503d-4635-a369-b01d347c3f23');\n",
              "          const dataTable =\n",
              "            await google.colab.kernel.invokeFunction('convertToInteractive',\n",
              "                                                     [key], {});\n",
              "          if (!dataTable) return;\n",
              "\n",
              "          const docLinkHtml = 'Like what you see? Visit the ' +\n",
              "            '<a target=\"_blank\" href=https://colab.research.google.com/notebooks/data_table.ipynb>data table notebook</a>'\n",
              "            + ' to learn more about interactive tables.';\n",
              "          element.innerHTML = '';\n",
              "          dataTable['output_type'] = 'display_data';\n",
              "          await google.colab.output.renderOutput(dataTable, element);\n",
              "          const docLink = document.createElement('div');\n",
              "          docLink.innerHTML = docLinkHtml;\n",
              "          element.appendChild(docLink);\n",
              "        }\n",
              "      </script>\n",
              "    </div>\n",
              "  </div>\n",
              "  "
            ]
          },
          "metadata": {},
          "execution_count": 10
        }
      ],
      "source": [
        "# Create groups based on ranks\n",
        "for index, row in df.iterrows():\n",
        "    if row['Rk'] <= 15:\n",
        "        df.at[index,'Group'] = 1\n",
        "    else:\n",
        "        df.at[index,'Group'] = 0\n",
        "    \n",
        "df"
      ]
    },
    {
      "cell_type": "code",
      "execution_count": 11,
      "id": "290bdb37-91f8-4004-b652-c9a51b99794d",
      "metadata": {
        "id": "290bdb37-91f8-4004-b652-c9a51b99794d"
      },
      "outputs": [],
      "source": [
        "# Set Feature and Target\n",
        "X = df.drop(columns=['Rk','Group'])\n",
        "y = df['Group']"
      ]
    },
    {
      "cell_type": "code",
      "execution_count": 12,
      "id": "32d8f00e-86c9-45a5-81c5-16c7f16d41cd",
      "metadata": {
        "colab": {
          "base_uri": "https://localhost:8080/"
        },
        "id": "32d8f00e-86c9-45a5-81c5-16c7f16d41cd",
        "outputId": "0d35d4cc-237d-4c6b-aa88-ac53b2575f66"
      },
      "outputs": [
        {
          "output_type": "execute_result",
          "data": {
            "text/plain": [
              "0    1388\n",
              "1     480\n",
              "Name: Group, dtype: int64"
            ]
          },
          "metadata": {},
          "execution_count": 12
        }
      ],
      "source": [
        "y.value_counts()"
      ]
    },
    {
      "cell_type": "code",
      "execution_count": 13,
      "id": "1dfa9601-e2a8-4a42-8e76-7f9db33aaae6",
      "metadata": {
        "id": "1dfa9601-e2a8-4a42-8e76-7f9db33aaae6"
      },
      "outputs": [],
      "source": [
        "# Split dataset into train, test datasets\n",
        "X_train, X_test, y_train, y_test = train_test_split(X,y,random_state = 1)"
      ]
    },
    {
      "cell_type": "code",
      "execution_count": 14,
      "id": "fceb7a30-3bbb-45ce-8848-18fa75800428",
      "metadata": {
        "id": "fceb7a30-3bbb-45ce-8848-18fa75800428"
      },
      "outputs": [],
      "source": [
        "# Initiate the scaler\n",
        "X_scaler = StandardScaler()\n",
        "\n",
        "# Fit the scaler to the features dataset\n",
        "X_scaler = X_scaler.fit(X)"
      ]
    },
    {
      "cell_type": "code",
      "execution_count": 15,
      "id": "11cf9937-03d2-403c-ac43-ee64335a4193",
      "metadata": {
        "id": "11cf9937-03d2-403c-ac43-ee64335a4193"
      },
      "outputs": [],
      "source": [
        "# Scale train, test datasets\n",
        "X_train_scaled = X_scaler.transform(X_train)\n",
        "X_test_scaled = X_scaler.transform(X_test)"
      ]
    },
    {
      "cell_type": "markdown",
      "id": "7ac5e6e0-7e69-472c-99e1-0c72efe4bdae",
      "metadata": {
        "id": "7ac5e6e0-7e69-472c-99e1-0c72efe4bdae"
      },
      "source": [
        "---\n",
        "## Use the SVC classifier model"
      ]
    },
    {
      "cell_type": "code",
      "execution_count": 16,
      "id": "74dae2d5-f930-4def-9173-8829c2343955",
      "metadata": {
        "colab": {
          "base_uri": "https://localhost:8080/"
        },
        "id": "74dae2d5-f930-4def-9173-8829c2343955",
        "outputId": "297f7695-4e64-4347-f452-a638a38a86b9"
      },
      "outputs": [
        {
          "output_type": "execute_result",
          "data": {
            "text/plain": [
              "array([0, 0, 0, 0, 1, 0, 0, 0, 0, 0, 0, 0, 0, 1, 0, 0, 0, 0, 1, 0, 0, 0,\n",
              "       0, 0, 0, 0, 0, 1, 0, 0, 1, 0, 0, 0, 0, 0, 0, 1, 0, 1, 0, 0, 1, 0,\n",
              "       0, 0, 1, 0, 0, 0, 0, 0, 0, 0, 0, 0, 1, 0, 0, 0, 0, 1, 0, 0, 1, 1,\n",
              "       0, 0, 0, 0, 0, 0, 1, 0, 0, 0, 1, 0, 0, 0, 1, 0, 0, 0, 0, 0, 1, 0,\n",
              "       0, 0, 0, 0, 0, 0, 0, 0, 0, 0, 0, 0, 0, 0, 0, 0, 0, 1, 0, 0, 0, 0,\n",
              "       0, 0, 1, 0, 0, 0, 0, 0, 0, 1, 0, 0, 0, 0, 0, 1, 0, 1, 0, 1, 0, 0,\n",
              "       0, 0, 0, 0, 0, 0, 1, 1, 0, 0, 0, 0, 0, 1, 0, 0, 0, 0, 0, 0, 0, 1,\n",
              "       0, 0, 0, 1, 0, 0, 0, 0, 0, 0, 0, 0, 0, 0, 1, 0, 0, 1, 0, 0, 0, 0,\n",
              "       0, 0, 0, 0, 0, 0, 0, 0, 0, 0, 0, 0, 0, 0, 0, 0, 0, 0, 0, 0, 0, 1,\n",
              "       0, 1, 0, 0, 0, 0, 0, 0, 0, 1, 0, 0, 0, 0, 0, 0, 0, 0, 0, 0, 0, 1,\n",
              "       0, 1, 0, 0, 0, 0, 0, 1, 0, 0, 0, 0, 0, 1, 0, 1, 0, 0, 0, 1, 0, 1,\n",
              "       0, 0, 0, 0, 0, 0, 0, 0, 0, 1, 0, 0, 0, 0, 0, 0, 1, 0, 0, 0, 0, 1,\n",
              "       0, 0, 0, 0, 0, 0, 0, 0, 1, 0, 1, 0, 1, 0, 0, 0, 0, 0, 0, 0, 0, 0,\n",
              "       0, 0, 0, 0, 0, 0, 1, 0, 0, 0, 0, 0, 0, 1, 0, 1, 0, 0, 0, 0, 1, 0,\n",
              "       1, 0, 0, 0, 0, 0, 0, 0, 1, 0, 0, 1, 0, 0, 0, 0, 0, 0, 0, 0, 0, 0,\n",
              "       0, 0, 1, 0, 0, 0, 0, 0, 0, 0, 0, 0, 0, 0, 0, 1, 1, 0, 0, 0, 0, 0,\n",
              "       0, 0, 0, 0, 0, 1, 1, 0, 0, 0, 1, 0, 0, 0, 0, 0, 0, 0, 0, 1, 0, 0,\n",
              "       1, 0, 0, 0, 0, 1, 0, 0, 0, 0, 0, 0, 1, 0, 0, 0, 0, 0, 0, 0, 0, 1,\n",
              "       0, 0, 1, 0, 0, 0, 0, 0, 0, 1, 0, 0, 0, 0, 1, 1, 0, 0, 0, 0, 0, 0,\n",
              "       0, 0, 0, 0, 0, 0, 0, 0, 0, 1, 0, 0, 0, 0, 0, 0, 1, 0, 0, 0, 0, 0,\n",
              "       0, 0, 0, 0, 0, 0, 0, 0, 0, 0, 0, 0, 0, 0, 0, 0, 0, 0, 0, 0, 0, 0,\n",
              "       0, 0, 0, 0, 0])"
            ]
          },
          "metadata": {},
          "execution_count": 16
        }
      ],
      "source": [
        "# From SVM, instantiate SVC classifier model instance\n",
        "svm_model = svm.SVC()\n",
        " \n",
        "# Fit the model to the data using the training data\n",
        "svm_model = svm_model.fit(X_train_scaled, y_train)\n",
        " \n",
        "# Use the testing data to make the model predictions\n",
        "svm_pred = svm_model.predict(X_test_scaled)\n",
        "\n",
        "# Review the model's predicted values\n",
        "svm_pred"
      ]
    },
    {
      "cell_type": "code",
      "execution_count": 17,
      "id": "62305acf-eb66-4814-8c2f-c05b77e4a39b",
      "metadata": {
        "colab": {
          "base_uri": "https://localhost:8080/"
        },
        "id": "62305acf-eb66-4814-8c2f-c05b77e4a39b",
        "outputId": "4dad50c5-d23a-479b-bca4-0c1bfba77f0b"
      },
      "outputs": [
        {
          "output_type": "stream",
          "name": "stdout",
          "text": [
            "              precision    recall  f1-score   support\n",
            "\n",
            "           0       0.84      0.93      0.88       357\n",
            "           1       0.64      0.41      0.50       110\n",
            "\n",
            "    accuracy                           0.81       467\n",
            "   macro avg       0.74      0.67      0.69       467\n",
            "weighted avg       0.79      0.81      0.79       467\n",
            "\n"
          ]
        }
      ],
      "source": [
        "# Use a classification report to evaluate the model using the predictions and testing data\n",
        "svm_testing_report = classification_report(y_test, svm_pred)\n",
        "\n",
        "# Print the classification report\n",
        "print(svm_testing_report)"
      ]
    },
    {
      "cell_type": "markdown",
      "id": "66fa601b-44b8-402c-af74-c9ca5bb0beb1",
      "metadata": {
        "id": "66fa601b-44b8-402c-af74-c9ca5bb0beb1"
      },
      "source": [
        "### Over sampling"
      ]
    },
    {
      "cell_type": "code",
      "execution_count": 18,
      "id": "7a2f6364-353a-4bfb-b6d5-0c0ef679dd88",
      "metadata": {
        "id": "7a2f6364-353a-4bfb-b6d5-0c0ef679dd88"
      },
      "outputs": [],
      "source": [
        "# Import RandomOverSampler\n",
        "from imblearn.over_sampling import RandomOverSampler"
      ]
    },
    {
      "cell_type": "code",
      "execution_count": 19,
      "id": "1701b5ee-f106-472f-baa0-4e8fe7ea0b16",
      "metadata": {
        "id": "1701b5ee-f106-472f-baa0-4e8fe7ea0b16"
      },
      "outputs": [],
      "source": [
        "# Resample features and target\n",
        "random_oversampler = RandomOverSampler(random_state = 1)\n",
        "X_resampled, y_resampled = random_oversampler.fit_resample(X_train, y_train)\n"
      ]
    },
    {
      "cell_type": "code",
      "execution_count": 20,
      "id": "24f18887-4cca-4ac4-9ac8-869643b5da4c",
      "metadata": {
        "colab": {
          "base_uri": "https://localhost:8080/"
        },
        "id": "24f18887-4cca-4ac4-9ac8-869643b5da4c",
        "outputId": "83c30e54-cbbc-4de0-f4a9-21555ea64dc4"
      },
      "outputs": [
        {
          "output_type": "execute_result",
          "data": {
            "text/plain": [
              "1    1031\n",
              "0    1031\n",
              "Name: Group, dtype: int64"
            ]
          },
          "metadata": {},
          "execution_count": 20
        }
      ],
      "source": [
        "# Check resampled size\n",
        "y_resampled.value_counts()"
      ]
    },
    {
      "cell_type": "code",
      "execution_count": 21,
      "id": "75f93abd-1ee5-493d-93f0-5826c1ef7927",
      "metadata": {
        "colab": {
          "base_uri": "https://localhost:8080/"
        },
        "id": "75f93abd-1ee5-493d-93f0-5826c1ef7927",
        "outputId": "9b886deb-b86a-4a95-c94a-9e0f014fbb6d"
      },
      "outputs": [
        {
          "output_type": "stream",
          "name": "stdout",
          "text": [
            "              precision    recall  f1-score   support\n",
            "\n",
            "           0       0.76      1.00      0.87       357\n",
            "           1       0.00      0.00      0.00       110\n",
            "\n",
            "    accuracy                           0.76       467\n",
            "   macro avg       0.38      0.50      0.43       467\n",
            "weighted avg       0.58      0.76      0.66       467\n",
            "\n"
          ]
        }
      ],
      "source": [
        "# From SVM, instantiate SVC classifier model instance\n",
        "svm_resampled_model = svm.SVC()\n",
        " \n",
        "# Fit the model to the data using the training data\n",
        "svm_resampled_model = svm_resampled_model.fit(X_resampled, y_resampled)\n",
        " \n",
        "# Use the testing data to make the model predictions\n",
        "svm_resampled_pred = svm_resampled_model.predict(X_test_scaled)\n",
        "\n",
        "# Use a classification report to evaluate the model using the predictions and testing data\n",
        "svm_resampled_testing_report = classification_report(y_test, svm_resampled_pred)\n",
        "\n",
        "# Print the classification report\n",
        "print(svm_resampled_testing_report)"
      ]
    },
    {
      "cell_type": "markdown",
      "id": "19d7d476-a38b-4cb3-835b-2aedfd66a8ac",
      "metadata": {
        "id": "19d7d476-a38b-4cb3-835b-2aedfd66a8ac"
      },
      "source": [
        "---\n",
        "## Use Ddceision Tree"
      ]
    },
    {
      "cell_type": "code",
      "execution_count": 22,
      "id": "5e42b48b-4046-470c-8db3-4a7635c5b0b2",
      "metadata": {
        "colab": {
          "base_uri": "https://localhost:8080/"
        },
        "id": "5e42b48b-4046-470c-8db3-4a7635c5b0b2",
        "outputId": "7275841c-7e53-4824-c593-d88224caa601"
      },
      "outputs": [
        {
          "output_type": "stream",
          "name": "stdout",
          "text": [
            "              precision    recall  f1-score   support\n",
            "\n",
            "           0       0.82      0.84      0.83       357\n",
            "           1       0.44      0.40      0.42       110\n",
            "\n",
            "    accuracy                           0.74       467\n",
            "   macro avg       0.63      0.62      0.62       467\n",
            "weighted avg       0.73      0.74      0.73       467\n",
            "\n"
          ]
        }
      ],
      "source": [
        "# Import decision tree classifier from SKLearn\n",
        "from sklearn import tree\n",
        "\n",
        "# Initiate the model instance\n",
        "dtc = tree.DecisionTreeClassifier()\n",
        "\n",
        "# Fit the model using the training data\n",
        "dtc_model = dtc.fit(X_train_scaled, y_train)\n",
        "\n",
        "# Use the testing dataset to generate the predictions for the new model\n",
        "dtc_pred = dtc_model.predict(X_test_scaled)\n",
        "\n",
        "# Use a classification report to evaluate the model using the predictions and testing data\n",
        "dtc_testing_report = classification_report(y_test, dtc_pred)\n",
        "\n",
        "# Print the classification report\n",
        "print(dtc_testing_report)"
      ]
    },
    {
      "cell_type": "markdown",
      "id": "30def59d-50d5-4b2f-b42c-6c5fa83150b5",
      "metadata": {
        "id": "30def59d-50d5-4b2f-b42c-6c5fa83150b5"
      },
      "source": [
        "---\n",
        "## Use Logistic Regression"
      ]
    },
    {
      "cell_type": "code",
      "execution_count": 23,
      "id": "26442ccc-f665-467b-aa37-3d60155408bc",
      "metadata": {
        "colab": {
          "base_uri": "https://localhost:8080/"
        },
        "id": "26442ccc-f665-467b-aa37-3d60155408bc",
        "outputId": "fef7f10e-2b82-492a-b11a-0ba043390abe"
      },
      "outputs": [
        {
          "output_type": "stream",
          "name": "stdout",
          "text": [
            "              precision    recall  f1-score   support\n",
            "\n",
            "           0       0.82      0.84      0.83       357\n",
            "           1       0.44      0.40      0.42       110\n",
            "\n",
            "    accuracy                           0.74       467\n",
            "   macro avg       0.63      0.62      0.62       467\n",
            "weighted avg       0.73      0.74      0.73       467\n",
            "\n"
          ]
        }
      ],
      "source": [
        "# Import LogisticRegression from sklearn\n",
        "from sklearn.linear_model import LogisticRegression\n",
        "\n",
        "# Create an instance of the LogisticRegression model\n",
        "lr = LogisticRegression()\n",
        "\n",
        "# Fit the model using the training data\n",
        "lr_model = lr.fit(X_train_scaled, y_train)\n",
        "\n",
        "# Use the testing dataset to generate the predictions for the new model\n",
        "lr_pred = lr_model.predict(X_test_scaled)\n",
        "\n",
        "# Use a classification report to evaluate the model using the predictions and testing data\n",
        "lr_testing_report = classification_report(y_test, dtc_pred)\n",
        "\n",
        "# Print the classification report\n",
        "print(lr_testing_report)"
      ]
    },
    {
      "cell_type": "markdown",
      "id": "d783c501-bd67-45ab-9901-97d5ea280255",
      "metadata": {
        "id": "d783c501-bd67-45ab-9901-97d5ea280255"
      },
      "source": [
        "---\n",
        "## Use AdaBoost"
      ]
    },
    {
      "cell_type": "code",
      "execution_count": 24,
      "id": "03b8efe7-bbb4-4bec-aae4-8467afb68e3a",
      "metadata": {
        "colab": {
          "base_uri": "https://localhost:8080/"
        },
        "id": "03b8efe7-bbb4-4bec-aae4-8467afb68e3a",
        "outputId": "9730ad82-030f-46d0-bffb-a9c38c7f181e"
      },
      "outputs": [
        {
          "output_type": "stream",
          "name": "stdout",
          "text": [
            "              precision    recall  f1-score   support\n",
            "\n",
            "           0       0.84      0.91      0.87       357\n",
            "           1       0.60      0.45      0.51       110\n",
            "\n",
            "    accuracy                           0.80       467\n",
            "   macro avg       0.72      0.68      0.69       467\n",
            "weighted avg       0.78      0.80      0.79       467\n",
            "\n"
          ]
        }
      ],
      "source": [
        "# Import AdaBoost classifier from SKLearn\n",
        "from sklearn.ensemble import AdaBoostClassifier\n",
        "\n",
        "# Initiate the model instance\n",
        "abc = AdaBoostClassifier()\n",
        "\n",
        "# Fit the model using the training data\n",
        "abc_model = abc.fit(X_train_scaled, y_train)\n",
        "\n",
        "# Use the testing dataset to generate the predictions for the new model\n",
        "abc_pred = abc_model.predict(X_test_scaled)\n",
        "\n",
        "# Use a classification report to evaluate the model using the predictions and testing data\n",
        "abc_testing_report = classification_report(y_test, abc_pred)\n",
        "\n",
        "# Print the classification report\n",
        "print(abc_testing_report)"
      ]
    },
    {
      "cell_type": "markdown",
      "id": "1e7fdf67-00f7-401d-963c-e63ff3cd1aa7",
      "metadata": {
        "id": "1e7fdf67-00f7-401d-963c-e63ff3cd1aa7"
      },
      "source": [
        "---\n",
        "## Use Deep Neural Network"
      ]
    },
    {
      "cell_type": "markdown",
      "id": "472ad365-4423-40bb-b831-485b7aa1e094",
      "metadata": {
        "id": "472ad365-4423-40bb-b831-485b7aa1e094"
      },
      "source": [
        "### Use train test split method"
      ]
    },
    {
      "cell_type": "code",
      "execution_count": 25,
      "id": "d6fd94d9-3346-4e86-9c1d-d6fc4123bea7",
      "metadata": {
        "id": "d6fd94d9-3346-4e86-9c1d-d6fc4123bea7"
      },
      "outputs": [],
      "source": [
        "# Define number of nodes on each layer\n",
        "input_features = 16\n",
        "layer1 = 40\n",
        "layer2 = 30\n",
        "layer3 = 10\n",
        "\n",
        "# Initiate the model\n",
        "nn = Sequential()"
      ]
    },
    {
      "cell_type": "code",
      "execution_count": 39,
      "id": "32054a9c-7ce8-43d2-a158-737091d230e9",
      "metadata": {
        "id": "32054a9c-7ce8-43d2-a158-737091d230e9"
      },
      "outputs": [],
      "source": [
        "# Add all layers to the model\n",
        "nn.add(Dense(\n",
        "    units = layer1, \n",
        "    input_dim = input_features, \n",
        "    activation = 'relu'\n",
        "))\n",
        "\n",
        "nn.add(Dense(\n",
        "    units = layer2, \n",
        "    activation = 'relu'\n",
        "))\n",
        "\n",
        "nn.add(Dense(\n",
        "    units = layer3, \n",
        "    activation = 'relu'\n",
        "))\n",
        "\n",
        "# Add output layer\n",
        "nn.add(Dense(units=1, activation = 'sigmoid'))"
      ]
    },
    {
      "cell_type": "code",
      "execution_count": 40,
      "id": "c5730bb3-d26e-41a2-b7ec-51f00e761098",
      "metadata": {
        "id": "c5730bb3-d26e-41a2-b7ec-51f00e761098"
      },
      "outputs": [],
      "source": [
        "# Compile the model\n",
        "nn.compile(loss=\"mean_squared_error\", optimizer=\"adam\", metrics=[\"accuracy\"])"
      ]
    },
    {
      "cell_type": "code",
      "execution_count": 41,
      "id": "0e58ad14-878a-47b6-a798-5741d20be446",
      "metadata": {
        "tags": [],
        "colab": {
          "base_uri": "https://localhost:8080/"
        },
        "id": "0e58ad14-878a-47b6-a798-5741d20be446",
        "outputId": "8b941064-a0e3-4a84-a96a-abd492afa6ef"
      },
      "outputs": [
        {
          "output_type": "stream",
          "name": "stdout",
          "text": [
            "Epoch 1/100\n",
            "44/44 [==============================] - 2s 5ms/step - loss: 0.2286 - accuracy: 0.7295\n",
            "Epoch 2/100\n",
            "44/44 [==============================] - 0s 5ms/step - loss: 0.1628 - accuracy: 0.8308\n",
            "Epoch 3/100\n",
            "44/44 [==============================] - 0s 4ms/step - loss: 0.1197 - accuracy: 0.8515\n",
            "Epoch 4/100\n",
            "44/44 [==============================] - 0s 3ms/step - loss: 0.1033 - accuracy: 0.8622\n",
            "Epoch 5/100\n",
            "44/44 [==============================] - 0s 3ms/step - loss: 0.0859 - accuracy: 0.8944\n",
            "Epoch 6/100\n",
            "44/44 [==============================] - 0s 3ms/step - loss: 0.0761 - accuracy: 0.8979\n",
            "Epoch 7/100\n",
            "44/44 [==============================] - 0s 4ms/step - loss: 0.0710 - accuracy: 0.9051\n",
            "Epoch 8/100\n",
            "44/44 [==============================] - 0s 3ms/step - loss: 0.0720 - accuracy: 0.9072\n",
            "Epoch 9/100\n",
            "44/44 [==============================] - 0s 3ms/step - loss: 0.0632 - accuracy: 0.9193\n",
            "Epoch 10/100\n",
            "44/44 [==============================] - 0s 4ms/step - loss: 0.0592 - accuracy: 0.9186\n",
            "Epoch 11/100\n",
            "44/44 [==============================] - 0s 3ms/step - loss: 0.0574 - accuracy: 0.9300\n",
            "Epoch 12/100\n",
            "44/44 [==============================] - 0s 3ms/step - loss: 0.0657 - accuracy: 0.9143\n",
            "Epoch 13/100\n",
            "44/44 [==============================] - 0s 3ms/step - loss: 0.0520 - accuracy: 0.9379\n",
            "Epoch 14/100\n",
            "44/44 [==============================] - 0s 3ms/step - loss: 0.0530 - accuracy: 0.9265\n",
            "Epoch 15/100\n",
            "44/44 [==============================] - 0s 3ms/step - loss: 0.0563 - accuracy: 0.9293\n",
            "Epoch 16/100\n",
            "44/44 [==============================] - 0s 4ms/step - loss: 0.0494 - accuracy: 0.9365\n",
            "Epoch 17/100\n",
            "44/44 [==============================] - 0s 3ms/step - loss: 0.0491 - accuracy: 0.9429\n",
            "Epoch 18/100\n",
            "44/44 [==============================] - 0s 4ms/step - loss: 0.0478 - accuracy: 0.9429\n",
            "Epoch 19/100\n",
            "44/44 [==============================] - 0s 4ms/step - loss: 0.0458 - accuracy: 0.9472\n",
            "Epoch 20/100\n",
            "44/44 [==============================] - 0s 5ms/step - loss: 0.0477 - accuracy: 0.9400\n",
            "Epoch 21/100\n",
            "44/44 [==============================] - 0s 4ms/step - loss: 0.0444 - accuracy: 0.9458\n",
            "Epoch 22/100\n",
            "44/44 [==============================] - 0s 5ms/step - loss: 0.0501 - accuracy: 0.9336\n",
            "Epoch 23/100\n",
            "44/44 [==============================] - 0s 3ms/step - loss: 0.0415 - accuracy: 0.9507\n",
            "Epoch 24/100\n",
            "44/44 [==============================] - 0s 2ms/step - loss: 0.0450 - accuracy: 0.9465\n",
            "Epoch 25/100\n",
            "44/44 [==============================] - 0s 2ms/step - loss: 0.0477 - accuracy: 0.9386\n",
            "Epoch 26/100\n",
            "44/44 [==============================] - 0s 2ms/step - loss: 0.0448 - accuracy: 0.9450\n",
            "Epoch 27/100\n",
            "44/44 [==============================] - 0s 2ms/step - loss: 0.0397 - accuracy: 0.9522\n",
            "Epoch 28/100\n",
            "44/44 [==============================] - 0s 2ms/step - loss: 0.0392 - accuracy: 0.9557\n",
            "Epoch 29/100\n",
            "44/44 [==============================] - 0s 2ms/step - loss: 0.0403 - accuracy: 0.9536\n",
            "Epoch 30/100\n",
            "44/44 [==============================] - 0s 2ms/step - loss: 0.0353 - accuracy: 0.9572\n",
            "Epoch 31/100\n",
            "44/44 [==============================] - 0s 2ms/step - loss: 0.0368 - accuracy: 0.9572\n",
            "Epoch 32/100\n",
            "44/44 [==============================] - 0s 2ms/step - loss: 0.0455 - accuracy: 0.9415\n",
            "Epoch 33/100\n",
            "44/44 [==============================] - 0s 2ms/step - loss: 0.0477 - accuracy: 0.9436\n",
            "Epoch 34/100\n",
            "44/44 [==============================] - 0s 2ms/step - loss: 0.0385 - accuracy: 0.9507\n",
            "Epoch 35/100\n",
            "44/44 [==============================] - 0s 2ms/step - loss: 0.0343 - accuracy: 0.9593\n",
            "Epoch 36/100\n",
            "44/44 [==============================] - 0s 2ms/step - loss: 0.0365 - accuracy: 0.9593\n",
            "Epoch 37/100\n",
            "44/44 [==============================] - 0s 2ms/step - loss: 0.0386 - accuracy: 0.9536\n",
            "Epoch 38/100\n",
            "44/44 [==============================] - 0s 2ms/step - loss: 0.0441 - accuracy: 0.9493\n",
            "Epoch 39/100\n",
            "44/44 [==============================] - 0s 2ms/step - loss: 0.0414 - accuracy: 0.9486\n",
            "Epoch 40/100\n",
            "44/44 [==============================] - 0s 2ms/step - loss: 0.0329 - accuracy: 0.9593\n",
            "Epoch 41/100\n",
            "44/44 [==============================] - 0s 2ms/step - loss: 0.0355 - accuracy: 0.9529\n",
            "Epoch 42/100\n",
            "44/44 [==============================] - 0s 2ms/step - loss: 0.0393 - accuracy: 0.9557\n",
            "Epoch 43/100\n",
            "44/44 [==============================] - 0s 2ms/step - loss: 0.0442 - accuracy: 0.9507\n",
            "Epoch 44/100\n",
            "44/44 [==============================] - 0s 2ms/step - loss: 0.0356 - accuracy: 0.9572\n",
            "Epoch 45/100\n",
            "44/44 [==============================] - 0s 2ms/step - loss: 0.0424 - accuracy: 0.9465\n",
            "Epoch 46/100\n",
            "44/44 [==============================] - 0s 2ms/step - loss: 0.0369 - accuracy: 0.9522\n",
            "Epoch 47/100\n",
            "44/44 [==============================] - 0s 2ms/step - loss: 0.0418 - accuracy: 0.9500\n",
            "Epoch 48/100\n",
            "44/44 [==============================] - 0s 2ms/step - loss: 0.0385 - accuracy: 0.9550\n",
            "Epoch 49/100\n",
            "44/44 [==============================] - 0s 2ms/step - loss: 0.0364 - accuracy: 0.9557\n",
            "Epoch 50/100\n",
            "44/44 [==============================] - 0s 2ms/step - loss: 0.0390 - accuracy: 0.9536\n",
            "Epoch 51/100\n",
            "44/44 [==============================] - 0s 2ms/step - loss: 0.0340 - accuracy: 0.9607\n",
            "Epoch 52/100\n",
            "44/44 [==============================] - 0s 2ms/step - loss: 0.0370 - accuracy: 0.9557\n",
            "Epoch 53/100\n",
            "44/44 [==============================] - 0s 2ms/step - loss: 0.0364 - accuracy: 0.9536\n",
            "Epoch 54/100\n",
            "44/44 [==============================] - 0s 2ms/step - loss: 0.0280 - accuracy: 0.9686\n",
            "Epoch 55/100\n",
            "44/44 [==============================] - 0s 2ms/step - loss: 0.0349 - accuracy: 0.9586\n",
            "Epoch 56/100\n",
            "44/44 [==============================] - 0s 2ms/step - loss: 0.0360 - accuracy: 0.9565\n",
            "Epoch 57/100\n",
            "44/44 [==============================] - 0s 2ms/step - loss: 0.0289 - accuracy: 0.9679\n",
            "Epoch 58/100\n",
            "44/44 [==============================] - 0s 2ms/step - loss: 0.0274 - accuracy: 0.9700\n",
            "Epoch 59/100\n",
            "44/44 [==============================] - 0s 2ms/step - loss: 0.0274 - accuracy: 0.9665\n",
            "Epoch 60/100\n",
            "44/44 [==============================] - 0s 2ms/step - loss: 0.0287 - accuracy: 0.9665\n",
            "Epoch 61/100\n",
            "44/44 [==============================] - 0s 2ms/step - loss: 0.0244 - accuracy: 0.9743\n",
            "Epoch 62/100\n",
            "44/44 [==============================] - 0s 2ms/step - loss: 0.0311 - accuracy: 0.9622\n",
            "Epoch 63/100\n",
            "44/44 [==============================] - 0s 2ms/step - loss: 0.0370 - accuracy: 0.9557\n",
            "Epoch 64/100\n",
            "44/44 [==============================] - 0s 2ms/step - loss: 0.0262 - accuracy: 0.9700\n",
            "Epoch 65/100\n",
            "44/44 [==============================] - 0s 2ms/step - loss: 0.0318 - accuracy: 0.9629\n",
            "Epoch 66/100\n",
            "44/44 [==============================] - 0s 2ms/step - loss: 0.0307 - accuracy: 0.9615\n",
            "Epoch 67/100\n",
            "44/44 [==============================] - 0s 2ms/step - loss: 0.0367 - accuracy: 0.9557\n",
            "Epoch 68/100\n",
            "44/44 [==============================] - 0s 2ms/step - loss: 0.0337 - accuracy: 0.9607\n",
            "Epoch 69/100\n",
            "44/44 [==============================] - 0s 2ms/step - loss: 0.0368 - accuracy: 0.9586\n",
            "Epoch 70/100\n",
            "44/44 [==============================] - 0s 2ms/step - loss: 0.0338 - accuracy: 0.9636\n",
            "Epoch 71/100\n",
            "44/44 [==============================] - 0s 2ms/step - loss: 0.0283 - accuracy: 0.9650\n",
            "Epoch 72/100\n",
            "44/44 [==============================] - 0s 2ms/step - loss: 0.0354 - accuracy: 0.9536\n",
            "Epoch 73/100\n",
            "44/44 [==============================] - 0s 2ms/step - loss: 0.0294 - accuracy: 0.9679\n",
            "Epoch 74/100\n",
            "44/44 [==============================] - 0s 2ms/step - loss: 0.0252 - accuracy: 0.9743\n",
            "Epoch 75/100\n",
            "44/44 [==============================] - 0s 2ms/step - loss: 0.0274 - accuracy: 0.9693\n",
            "Epoch 76/100\n",
            "44/44 [==============================] - 0s 2ms/step - loss: 0.0320 - accuracy: 0.9643\n",
            "Epoch 77/100\n",
            "44/44 [==============================] - 0s 3ms/step - loss: 0.0341 - accuracy: 0.9622\n",
            "Epoch 78/100\n",
            "44/44 [==============================] - 0s 2ms/step - loss: 0.0344 - accuracy: 0.9600\n",
            "Epoch 79/100\n",
            "44/44 [==============================] - 0s 2ms/step - loss: 0.0323 - accuracy: 0.9607\n",
            "Epoch 80/100\n",
            "44/44 [==============================] - 0s 2ms/step - loss: 0.0246 - accuracy: 0.9714\n",
            "Epoch 81/100\n",
            "44/44 [==============================] - 0s 2ms/step - loss: 0.0272 - accuracy: 0.9686\n",
            "Epoch 82/100\n",
            "44/44 [==============================] - 0s 2ms/step - loss: 0.0253 - accuracy: 0.9736\n",
            "Epoch 83/100\n",
            "44/44 [==============================] - 0s 2ms/step - loss: 0.0343 - accuracy: 0.9543\n",
            "Epoch 84/100\n",
            "44/44 [==============================] - 0s 2ms/step - loss: 0.0294 - accuracy: 0.9622\n",
            "Epoch 85/100\n",
            "44/44 [==============================] - 0s 2ms/step - loss: 0.0403 - accuracy: 0.9486\n",
            "Epoch 86/100\n",
            "44/44 [==============================] - 0s 2ms/step - loss: 0.0304 - accuracy: 0.9650\n",
            "Epoch 87/100\n",
            "44/44 [==============================] - 0s 2ms/step - loss: 0.0257 - accuracy: 0.9736\n",
            "Epoch 88/100\n",
            "44/44 [==============================] - 0s 2ms/step - loss: 0.0275 - accuracy: 0.9693\n",
            "Epoch 89/100\n",
            "44/44 [==============================] - 0s 2ms/step - loss: 0.0255 - accuracy: 0.9707\n",
            "Epoch 90/100\n",
            "44/44 [==============================] - 0s 2ms/step - loss: 0.0335 - accuracy: 0.9593\n",
            "Epoch 91/100\n",
            "44/44 [==============================] - 0s 2ms/step - loss: 0.0350 - accuracy: 0.9586\n",
            "Epoch 92/100\n",
            "44/44 [==============================] - 0s 2ms/step - loss: 0.0390 - accuracy: 0.9550\n",
            "Epoch 93/100\n",
            "44/44 [==============================] - 0s 2ms/step - loss: 0.0459 - accuracy: 0.9450\n",
            "Epoch 94/100\n",
            "44/44 [==============================] - 0s 2ms/step - loss: 0.0270 - accuracy: 0.9700\n",
            "Epoch 95/100\n",
            "44/44 [==============================] - 0s 2ms/step - loss: 0.0244 - accuracy: 0.9693\n",
            "Epoch 96/100\n",
            "44/44 [==============================] - 0s 2ms/step - loss: 0.0348 - accuracy: 0.9607\n",
            "Epoch 97/100\n",
            "44/44 [==============================] - 0s 2ms/step - loss: 0.0288 - accuracy: 0.9650\n",
            "Epoch 98/100\n",
            "44/44 [==============================] - 0s 2ms/step - loss: 0.0251 - accuracy: 0.9693\n",
            "Epoch 99/100\n",
            "44/44 [==============================] - 0s 2ms/step - loss: 0.0291 - accuracy: 0.9672\n",
            "Epoch 100/100\n",
            "44/44 [==============================] - 0s 2ms/step - loss: 0.0332 - accuracy: 0.9622\n"
          ]
        }
      ],
      "source": [
        "# Fit the model\n",
        "deep_net_model = nn.fit(X_train_scaled, y_train, epochs=100)"
      ]
    },
    {
      "cell_type": "code",
      "execution_count": 42,
      "id": "59f91c8e-be1b-40cf-80f8-8045d90d11f7",
      "metadata": {
        "colab": {
          "base_uri": "https://localhost:8080/"
        },
        "id": "59f91c8e-be1b-40cf-80f8-8045d90d11f7",
        "outputId": "e44c7132-90c6-4670-a72a-ccc664cfbede"
      },
      "outputs": [
        {
          "output_type": "stream",
          "name": "stdout",
          "text": [
            "44/44 - 0s - loss: 0.0205 - accuracy: 0.9750 - 183ms/epoch - 4ms/step\n"
          ]
        }
      ],
      "source": [
        "# Print loss and accuracy score of training set\n",
        "loss, accuracy = nn.evaluate(X_train_scaled, y_train, verbose=2)"
      ]
    },
    {
      "cell_type": "code",
      "execution_count": 43,
      "id": "dcd64a11-3551-4aab-8de8-ce9bb532fdb8",
      "metadata": {
        "colab": {
          "base_uri": "https://localhost:8080/"
        },
        "id": "dcd64a11-3551-4aab-8de8-ce9bb532fdb8",
        "outputId": "6e98888d-c37f-4589-d03b-414b35704f68"
      },
      "outputs": [
        {
          "output_type": "stream",
          "name": "stdout",
          "text": [
            "15/15 - 0s - loss: 0.2053 - accuracy: 0.7752 - 32ms/epoch - 2ms/step\n"
          ]
        }
      ],
      "source": [
        "# Print loss and accuracy score of testing set\n",
        "val_loss, val_accuracy = nn.evaluate(X_test_scaled, y_test, verbose=2)"
      ]
    },
    {
      "cell_type": "code",
      "source": [
        "X_test_scaled"
      ],
      "metadata": {
        "colab": {
          "base_uri": "https://localhost:8080/"
        },
        "id": "2EtRVEdT-XW2",
        "outputId": "6d81dbb2-b528-4f09-ba1c-9cea4812c6ae"
      },
      "id": "2EtRVEdT-XW2",
      "execution_count": 44,
      "outputs": [
        {
          "output_type": "execute_result",
          "data": {
            "text/plain": [
              "array([[-0.34184622, -0.3250309 , -0.29412499, ...,  0.52259442,\n",
              "        -0.25369002, -0.0878169 ],\n",
              "       [-0.40389138, -0.55669932, -0.52832678, ..., -0.50891217,\n",
              "        -0.79256196,  0.38964415],\n",
              "       [-0.85371876, -0.7309762 , -0.64206956, ..., -0.47070823,\n",
              "        -0.61293798, -0.63348668],\n",
              "       ...,\n",
              "       [ 0.94559076,  0.67753415,  0.71309436, ...,  0.80912403,\n",
              "         0.28518191,  0.45785287],\n",
              "       [-0.73893522, -0.60736365, -0.57230732, ...,  0.12145297,\n",
              "        -0.02916005,  0.59427032],\n",
              "       [ 1.33647525,  0.81922609,  0.56967014, ...,  0.29337074,\n",
              "         0.3749939 ,  0.5260616 ]])"
            ]
          },
          "metadata": {},
          "execution_count": 44
        }
      ]
    },
    {
      "cell_type": "code",
      "source": [
        "y_test"
      ],
      "metadata": {
        "colab": {
          "base_uri": "https://localhost:8080/"
        },
        "id": "HVaPEKsVEy9e",
        "outputId": "864cd5b5-bf47-4102-f155-7a534723fbe1"
      },
      "id": "HVaPEKsVEy9e",
      "execution_count": 45,
      "outputs": [
        {
          "output_type": "execute_result",
          "data": {
            "text/plain": [
              "571     1\n",
              "572     1\n",
              "1802    0\n",
              "1398    1\n",
              "1451    1\n",
              "       ..\n",
              "1177    0\n",
              "1385    0\n",
              "1219    1\n",
              "705     0\n",
              "1103    0\n",
              "Name: Group, Length: 467, dtype: int64"
            ]
          },
          "metadata": {},
          "execution_count": 45
        }
      ]
    },
    {
      "cell_type": "code",
      "source": [
        "deep_net_pred = nn.predict(X_test_scaled)\n",
        "deep_net_pred[:10]"
      ],
      "metadata": {
        "colab": {
          "base_uri": "https://localhost:8080/"
        },
        "id": "xOEqBDpm-aM8",
        "outputId": "d0d12d87-b264-4965-9d69-0941f498adad"
      },
      "id": "xOEqBDpm-aM8",
      "execution_count": 46,
      "outputs": [
        {
          "output_type": "execute_result",
          "data": {
            "text/plain": [
              "array([[0.51367813],\n",
              "       [0.02129993],\n",
              "       [0.01561019],\n",
              "       [0.0062792 ],\n",
              "       [0.9993764 ],\n",
              "       [0.01673198],\n",
              "       [0.03822434],\n",
              "       [0.05565932],\n",
              "       [0.02129588],\n",
              "       [0.01944655]], dtype=float32)"
            ]
          },
          "metadata": {},
          "execution_count": 46
        }
      ]
    },
    {
      "cell_type": "code",
      "source": [
        "deep_net_pred = np.where(deep_net_pred > .5, 1, 0)\n"
      ],
      "metadata": {
        "id": "f5yaMwy5HBW6"
      },
      "id": "f5yaMwy5HBW6",
      "execution_count": 51,
      "outputs": []
    },
    {
      "cell_type": "code",
      "source": [
        "# deep_net_pred = nn.predict(X_test_scaled)\n",
        "from itertools import chain\n",
        "pred = list(chain(*deep_net_pred))\n",
        "import numpy as np\n",
        "array = np.asarray(pred)\n",
        "array[:10]"
      ],
      "metadata": {
        "colab": {
          "base_uri": "https://localhost:8080/"
        },
        "id": "BPUWBpOjrD7m",
        "outputId": "13cd9769-0c21-4c59-c129-c434fa886797"
      },
      "id": "BPUWBpOjrD7m",
      "execution_count": 52,
      "outputs": [
        {
          "output_type": "execute_result",
          "data": {
            "text/plain": [
              "array([1, 0, 0, 0, 1, 0, 0, 0, 0, 0])"
            ]
          },
          "metadata": {},
          "execution_count": 52
        }
      ]
    },
    {
      "cell_type": "code",
      "source": [
        "deep_net_classification_report = classification_report(y_test, array)\n",
        "\n",
        "# Print the classification report\n",
        "print(deep_net_classification_report)"
      ],
      "metadata": {
        "colab": {
          "base_uri": "https://localhost:8080/"
        },
        "id": "GCMFFMyAjEch",
        "outputId": "269f41f8-bcf7-459a-a9b2-30492b793245"
      },
      "id": "GCMFFMyAjEch",
      "execution_count": 53,
      "outputs": [
        {
          "output_type": "stream",
          "name": "stdout",
          "text": [
            "              precision    recall  f1-score   support\n",
            "\n",
            "           0       0.85      0.85      0.85       357\n",
            "           1       0.52      0.52      0.52       110\n",
            "\n",
            "    accuracy                           0.78       467\n",
            "   macro avg       0.69      0.69      0.69       467\n",
            "weighted avg       0.77      0.78      0.77       467\n",
            "\n"
          ]
        }
      ]
    },
    {
      "cell_type": "code",
      "execution_count": 30,
      "id": "3c4a42d7-3724-44a6-87d2-b027e94acb94",
      "metadata": {
        "id": "3c4a42d7-3724-44a6-87d2-b027e94acb94",
        "colab": {
          "base_uri": "https://localhost:8080/",
          "height": 283
        },
        "outputId": "b18e995f-f03c-4297-95cc-1ab9a5c53ea2"
      },
      "outputs": [
        {
          "output_type": "execute_result",
          "data": {
            "text/plain": [
              "<matplotlib.axes._subplots.AxesSubplot at 0x7f442306ffd0>"
            ]
          },
          "metadata": {},
          "execution_count": 30
        },
        {
          "output_type": "display_data",
          "data": {
            "text/plain": [
              "<Figure size 432x288 with 1 Axes>"
            ],
            "image/png": "[encoded data removed]"
          },
          "metadata": {
            "needs_background": "light"
          }
        }
      ],
      "source": [
        "# Plot the loss rate\n",
        "loss_df = pd.DataFrame(deep_net_model.history['loss'])\n",
        "loss_df.plot()"
      ]
    },
    {
      "cell_type": "code",
      "execution_count": 31,
      "id": "76ff9ba1-63fa-4cc4-9f60-8226f72bb761",
      "metadata": {
        "id": "76ff9ba1-63fa-4cc4-9f60-8226f72bb761",
        "colab": {
          "base_uri": "https://localhost:8080/",
          "height": 283
        },
        "outputId": "2f7674a4-5ed6-4860-8ae5-a881d8742a5c"
      },
      "outputs": [
        {
          "output_type": "execute_result",
          "data": {
            "text/plain": [
              "<matplotlib.axes._subplots.AxesSubplot at 0x7f442117da10>"
            ]
          },
          "metadata": {},
          "execution_count": 31
        },
        {
          "output_type": "display_data",
          "data": {
            "text/plain": [
              "<Figure size 432x288 with 1 Axes>"
            ],
            "image/png": "[encoded data removed]"
          },
          "metadata": {
            "needs_background": "light"
          }
        }
      ],
      "source": [
        "# Plot the accuracy score\n",
        "accuracy_df = pd.DataFrame(deep_net_model.history['accuracy'])\n",
        "accuracy_df.plot()"
      ]
    },
    {
      "cell_type": "markdown",
      "id": "e80e54ca-0872-4132-864d-707292ca63b4",
      "metadata": {
        "id": "e80e54ca-0872-4132-864d-707292ca63b4"
      },
      "source": [
        "---\n",
        "## Using validation split method\n"
      ]
    },
    {
      "cell_type": "code",
      "execution_count": null,
      "id": "008dc2bf-2274-462a-8ae8-beac69953753",
      "metadata": {
        "id": "008dc2bf-2274-462a-8ae8-beac69953753"
      },
      "outputs": [],
      "source": [
        "# Initiate the scaler\n",
        "X_scaler = StandardScaler()\n",
        "\n",
        "# Fit the scaler to the features dataset\n",
        "X_scaler = X_scaler.fit(X)\n",
        "X_scaled = X_scaler.transform(X)"
      ]
    },
    {
      "cell_type": "code",
      "execution_count": null,
      "id": "9c4cef61-c9c4-4470-82dd-3c96daecb3e8",
      "metadata": {
        "tags": [],
        "id": "9c4cef61-c9c4-4470-82dd-3c96daecb3e8"
      },
      "outputs": [],
      "source": [
        "# Initiate the model\n",
        "nn = Sequential()\n",
        "# Compile the model\n",
        "nn.compile(loss=\"mean_squared_error\", optimizer=\"adam\", metrics=[\"accuracy\"])\n",
        "# Fit the model\n",
        "history = nn.fit(X, y, validation_split=0.33, epochs=150, batch_size=30, verbose=0)\n",
        "# list all data in history\n",
        "print(history.history.keys())\n",
        "[loss, accuracy] = nn.evaluate(X, y)\n",
        "print(\"Train Data : Loss = {}, accuracy = {}\".format(loss, accuracy))\n",
        "[val_loss, val_accuracy] = nn.evaluate(X, y)\n",
        "print(\"Test Data : Loss = {}, accuracy = {}\".format(val_loss, val_accuracy))\n",
        "# summarize history for accuracy\n",
        "plt.plot(history.history['accuracy'])\n",
        "plt.plot(history.history['val_accuracy'])\n",
        "plt.title('model accuracy')\n",
        "plt.ylabel('accuracy')\n",
        "plt.xlabel('epoch')\n",
        "plt.legend(['train', 'test'], loc='upper left')\n",
        "plt.show()\n",
        "# summarize history for loss\n",
        "plt.plot(history.history['loss'])\n",
        "plt.plot(history.history['val_loss'])\n",
        "plt.title('model loss')\n",
        "plt.ylabel('loss')\n",
        "plt.xlabel('epoch')\n",
        "plt.legend(['train', 'test'], loc='upper left')\n",
        "plt.show()"
      ]
    },
    {
      "cell_type": "markdown",
      "metadata": {
        "id": "kGuq4xwJF3t6"
      },
      "source": [
        "---\n",
        "## Using LazyPredict\n"
      ],
      "id": "kGuq4xwJF3t6"
    },
    {
      "cell_type": "code",
      "source": [
        "# Install LazyPRedict\n",
        "!pip install lazypredict"
      ],
      "metadata": {
        "id": "JPHj8XLyF8La"
      },
      "id": "JPHj8XLyF8La",
      "execution_count": null,
      "outputs": []
    },
    {
      "cell_type": "markdown",
      "source": [
        "# After installation, restart Runtime and proceed to the next cell"
      ],
      "metadata": {
        "id": "POADaCC2B1Y_"
      },
      "id": "POADaCC2B1Y_"
    },
    {
      "cell_type": "code",
      "source": [
        "import lazypredict\n",
        "from lazypredict.Supervised import LazyClassifier"
      ],
      "metadata": {
        "id": "C6aLq2BEGCm3",
        "colab": {
          "base_uri": "https://localhost:8080/"
        },
        "outputId": "350f6e17-0c47-484a-9868-17e658a1b8da"
      },
      "id": "C6aLq2BEGCm3",
      "execution_count": 1,
      "outputs": [
        {
          "output_type": "stream",
          "name": "stderr",
          "text": [
            "/usr/local/lib/python3.7/dist-packages/sklearn/utils/deprecation.py:143: FutureWarning: The sklearn.utils.testing module is  deprecated in version 0.22 and will be removed in version 0.24. The corresponding classes / functions should instead be imported from sklearn.utils. Anything that cannot be imported from sklearn.utils is now part of the private API.\n",
            "  warnings.warn(message, FutureWarning)\n"
          ]
        }
      ]
    },
    {
      "cell_type": "code",
      "source": [
        "import pandas as pd\n",
        "from pathlib import Path\n",
        "from sklearn.preprocessing import StandardScaler\n",
        "from sklearn.model_selection import train_test_split\n",
        "\n",
        "# Upload cc_default.csv to Colab\n",
        "from google.colab import files\n",
        "csv_file = files.upload()\n",
        "# Load data\n",
        "df = pd.read_csv(Path('2017-2021_Historical_Players_Data.csv'))\n",
        "# Drop irrelevant columns\n",
        "df = df.drop(columns = ['DraftYr','Pk','Tm','Player','College','Contract Worth','Yrs','playerurl','DraftYear','Pos']).fillna(0)\n",
        "# Create a column to hold Group data\n",
        "df.loc[:,'Group'] = 0\n",
        "# Create groups based on ranks\n",
        "for index, row in df.iterrows():\n",
        "    if row['Rk'] <= 15:\n",
        "        df.at[index,'Group'] = 1\n",
        "    else:\n",
        "        df.at[index,'Group'] = 0\n",
        "\n",
        "\n",
        "# Set Feature and Target\n",
        "X = df.drop(columns=['Rk','Group'])\n",
        "y = df['Group']\n",
        "# Re-split the train, test dataset\n",
        "X_train, X_test, y_train, y_test = train_test_split(X, y,test_size=.5,random_state =123)\n",
        "# Initiate the scaler\n",
        "X_scaler = StandardScaler()\n",
        "# Fit the scaler to the features dataset\n",
        "X_scaler = X_scaler.fit(X)\n",
        "# Scale train, test datasets\n",
        "X_train_scaled = X_scaler.transform(X_train)\n",
        "X_test_scaled = X_scaler.transform(X_test)\n",
        "\n",
        "\n",
        "# Train the new datasets\n",
        "lc = LazyClassifier(verbose=0,ignore_warnings=True, custom_metric=None)\n",
        "lc_predictions = lc.fit(X_train_scaled, X_test_scaled, y_train, y_test)\n",
        "\n",
        "# Print the model\n",
        "print(lc_predictions)"
      ],
      "metadata": {
        "id": "ysahCx3eGG20",
        "colab": {
          "resources": {
            "http://localhost:8080/nbextensions/google.colab/files.js": {
              "data": "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",
              "ok": true,
              "headers": [
                [
                  "content-type",
                  "application/javascript"
                ]
              ],
              "status": 200,
              "status_text": ""
            }
          },
          "base_uri": "https://localhost:8080/",
          "height": 1000
        },
        "outputId": "b880245c-27e1-4665-b4e9-49ec7b3f6d56"
      },
      "id": "ysahCx3eGG20",
      "execution_count": 2,
      "outputs": [
        {
          "output_type": "display_data",
          "data": {
            "text/plain": [
              "<IPython.core.display.HTML object>"
            ],
            "text/html": [
              "\n",
              "     <input type=\"file\" id=\"files-daf8d8c2-80ca-4d1c-b612-0859b6fc686c\" name=\"files[]\" multiple disabled\n",
              "        style=\"border:none\" />\n",
              "     <output id=\"result-daf8d8c2-80ca-4d1c-b612-0859b6fc686c\">\n",
              "      Upload widget is only available when the cell has been executed in the\n",
              "      current browser session. Please rerun this cell to enable.\n",
              "      </output>\n",
              "      <script src=\"/nbextensions/google.colab/files.js\"></script> "
            ]
          },
          "metadata": {}
        },
        {
          "output_type": "stream",
          "name": "stdout",
          "text": [
            "Saving 2017-2021_Historical_Players_Data.csv to 2017-2021_Historical_Players_Data (1).csv\n"
          ]
        },
        {
          "output_type": "stream",
          "name": "stderr",
          "text": [
            "100%|██████████| 29/29 [00:10<00:00,  2.74it/s]"
          ]
        },
        {
          "output_type": "stream",
          "name": "stdout",
          "text": [
            "(                               Accuracy  Balanced Accuracy  ROC AUC  F1 Score  \\\n",
            "Model                                                                           \n",
            "PassiveAggressiveClassifier        0.78               0.75     0.75      0.79   \n",
            "LinearDiscriminantAnalysis         0.82               0.74     0.74      0.82   \n",
            "QuadraticDiscriminantAnalysis      0.79               0.74     0.74      0.79   \n",
            "LogisticRegression                 0.82               0.73     0.73      0.81   \n",
            "LinearSVC                          0.82               0.73     0.73      0.81   \n",
            "RidgeClassifierCV                  0.82               0.73     0.73      0.81   \n",
            "GaussianNB                         0.78               0.73     0.73      0.79   \n",
            "RidgeClassifier                    0.82               0.73     0.73      0.81   \n",
            "LGBMClassifier                     0.81               0.72     0.72      0.80   \n",
            "NearestCentroid                    0.76               0.72     0.72      0.77   \n",
            "CalibratedClassifierCV             0.82               0.72     0.72      0.81   \n",
            "XGBClassifier                      0.80               0.71     0.71      0.80   \n",
            "RandomForestClassifier             0.81               0.71     0.71      0.80   \n",
            "Perceptron                         0.75               0.71     0.71      0.76   \n",
            "ExtraTreesClassifier               0.80               0.70     0.70      0.79   \n",
            "BernoulliNB                        0.74               0.70     0.70      0.75   \n",
            "SGDClassifier                      0.79               0.70     0.70      0.78   \n",
            "SVC                                0.81               0.70     0.70      0.80   \n",
            "BaggingClassifier                  0.80               0.69     0.69      0.79   \n",
            "DecisionTreeClassifier             0.76               0.69     0.69      0.76   \n",
            "AdaBoostClassifier                 0.80               0.69     0.69      0.79   \n",
            "KNeighborsClassifier               0.78               0.68     0.68      0.77   \n",
            "NuSVC                              0.80               0.67     0.67      0.78   \n",
            "ExtraTreeClassifier                0.73               0.66     0.66      0.73   \n",
            "LabelSpreading                     0.74               0.66     0.66      0.74   \n",
            "LabelPropagation                   0.74               0.66     0.66      0.74   \n",
            "DummyClassifier                    0.62               0.50     0.50      0.62   \n",
            "\n",
            "                               Time Taken  \n",
            "Model                                      \n",
            "PassiveAggressiveClassifier          0.04  \n",
            "LinearDiscriminantAnalysis           0.09  \n",
            "QuadraticDiscriminantAnalysis        0.09  \n",
            "LogisticRegression                   0.18  \n",
            "LinearSVC                            0.30  \n",
            "RidgeClassifierCV                    0.10  \n",
            "GaussianNB                           0.03  \n",
            "RidgeClassifier                      0.06  \n",
            "LGBMClassifier                       1.88  \n",
            "NearestCentroid                      0.09  \n",
            "CalibratedClassifierCV               0.79  \n",
            "XGBClassifier                        2.51  \n",
            "RandomForestClassifier               0.96  \n",
            "Perceptron                           0.07  \n",
            "ExtraTreesClassifier                 0.74  \n",
            "BernoulliNB                          0.03  \n",
            "SGDClassifier                        0.13  \n",
            "SVC                                  0.29  \n",
            "BaggingClassifier                    0.36  \n",
            "DecisionTreeClassifier               0.08  \n",
            "AdaBoostClassifier                   0.52  \n",
            "KNeighborsClassifier                 0.21  \n",
            "NuSVC                                0.12  \n",
            "ExtraTreeClassifier                  0.09  \n",
            "LabelSpreading                       0.38  \n",
            "LabelPropagation                     0.20  \n",
            "DummyClassifier                      0.07  ,                                Accuracy  Balanced Accuracy  ROC AUC  F1 Score  \\\n",
            "Model                                                                           \n",
            "PassiveAggressiveClassifier        0.78               0.75     0.75      0.79   \n",
            "LinearDiscriminantAnalysis         0.82               0.74     0.74      0.82   \n",
            "QuadraticDiscriminantAnalysis      0.79               0.74     0.74      0.79   \n",
            "LogisticRegression                 0.82               0.73     0.73      0.81   \n",
            "LinearSVC                          0.82               0.73     0.73      0.81   \n",
            "RidgeClassifierCV                  0.82               0.73     0.73      0.81   \n",
            "GaussianNB                         0.78               0.73     0.73      0.79   \n",
            "RidgeClassifier                    0.82               0.73     0.73      0.81   \n",
            "LGBMClassifier                     0.81               0.72     0.72      0.80   \n",
            "NearestCentroid                    0.76               0.72     0.72      0.77   \n",
            "CalibratedClassifierCV             0.82               0.72     0.72      0.81   \n",
            "XGBClassifier                      0.80               0.71     0.71      0.80   \n",
            "RandomForestClassifier             0.81               0.71     0.71      0.80   \n",
            "Perceptron                         0.75               0.71     0.71      0.76   \n",
            "ExtraTreesClassifier               0.80               0.70     0.70      0.79   \n",
            "BernoulliNB                        0.74               0.70     0.70      0.75   \n",
            "SGDClassifier                      0.79               0.70     0.70      0.78   \n",
            "SVC                                0.81               0.70     0.70      0.80   \n",
            "BaggingClassifier                  0.80               0.69     0.69      0.79   \n",
            "DecisionTreeClassifier             0.76               0.69     0.69      0.76   \n",
            "AdaBoostClassifier                 0.80               0.69     0.69      0.79   \n",
            "KNeighborsClassifier               0.78               0.68     0.68      0.77   \n",
            "NuSVC                              0.80               0.67     0.67      0.78   \n",
            "ExtraTreeClassifier                0.73               0.66     0.66      0.73   \n",
            "LabelSpreading                     0.74               0.66     0.66      0.74   \n",
            "LabelPropagation                   0.74               0.66     0.66      0.74   \n",
            "DummyClassifier                    0.62               0.50     0.50      0.62   \n",
            "\n",
            "                               Time Taken  \n",
            "Model                                      \n",
            "PassiveAggressiveClassifier          0.04  \n",
            "LinearDiscriminantAnalysis           0.09  \n",
            "QuadraticDiscriminantAnalysis        0.09  \n",
            "LogisticRegression                   0.18  \n",
            "LinearSVC                            0.30  \n",
            "RidgeClassifierCV                    0.10  \n",
            "GaussianNB                           0.03  \n",
            "RidgeClassifier                      0.06  \n",
            "LGBMClassifier                       1.88  \n",
            "NearestCentroid                      0.09  \n",
            "CalibratedClassifierCV               0.79  \n",
            "XGBClassifier                        2.51  \n",
            "RandomForestClassifier               0.96  \n",
            "Perceptron                           0.07  \n",
            "ExtraTreesClassifier                 0.74  \n",
            "BernoulliNB                          0.03  \n",
            "SGDClassifier                        0.13  \n",
            "SVC                                  0.29  \n",
            "BaggingClassifier                    0.36  \n",
            "DecisionTreeClassifier               0.08  \n",
            "AdaBoostClassifier                   0.52  \n",
            "KNeighborsClassifier                 0.21  \n",
            "NuSVC                                0.12  \n",
            "ExtraTreeClassifier                  0.09  \n",
            "LabelSpreading                       0.38  \n",
            "LabelPropagation                     0.20  \n",
            "DummyClassifier                      0.07  )\n"
          ]
        },
        {
          "output_type": "stream",
          "name": "stderr",
          "text": [
            "\n"
          ]
        }
      ]
    },
    {
      "cell_type": "code",
      "source": [
        ""
      ],
      "metadata": {
        "id": "dBIYJEc1dXpN"
      },
      "id": "dBIYJEc1dXpN",
      "execution_count": null,
      "outputs": []
    },
    {
      "cell_type": "code",
      "execution_count": null,
      "metadata": {
        "id": "LViBzQXxAHAd"
      },
      "outputs": [],
      "source": [
        ""
      ],
      "id": "LViBzQXxAHAd"
    },
    {
      "cell_type": "code",
      "execution_count": null,
      "metadata": {
        "id": "Yzuo8n97AHAn"
      },
      "outputs": [],
      "source": [
        ""
      ],
      "id": "Yzuo8n97AHAn"
    },
    {
      "cell_type": "code",
      "execution_count": null,
      "metadata": {
        "id": "SI5qeC_YAHAn"
      },
      "outputs": [],
      "source": [
        ""
      ],
      "id": "SI5qeC_YAHAn"
    }
  ],
  "metadata": {
    "kernelspec": {
      "display_name": "dev",
      "language": "python",
      "name": "dev"
    },
    "language_info": {
      "codemirror_mode": {
        "name": "ipython",
        "version": 3
      },
      "file_extension": ".py",
      "mimetype": "text/x-python",
      "name": "python",
      "nbconvert_exporter": "python",
      "pygments_lexer": "ipython3",
      "version": "3.9.12"
    },
    "colab": {
      "name": "FanaticFi_machine_learning_top15.ipynb",
      "provenance": [],
      "collapsed_sections": [],
      "include_colab_link": true
    }
  },
  "nbformat": 4,
  "nbformat_minor": 5
}