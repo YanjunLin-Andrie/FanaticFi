{
 "cells": [
  {
   "cell_type": "code",
   "execution_count": 610,
   "id": "ebeda3f2-62bf-4113-91c7-f724be40f8cc",
   "metadata": {},
   "outputs": [],
   "source": [
    "# Import necessary libraries and dependencies\n",
    "import pandas as pd\n",
    "from pathlib import Path\n",
    "import hvplot.pandas\n",
    "import seaborn as sns\n",
    "import plotly.express as px\n",
    "from re import search\n",
    "import plotly.graph_objects as go\n",
    "import numpy"
   ]
  },
  {
   "cell_type": "code",
   "execution_count": 611,
   "id": "a352665c-8bc7-42fe-b776-6e73cfa2b977",
   "metadata": {},
   "outputs": [],
   "source": [
    "# # Using the read_csv function and Path module, create a DataFrame by importing the draft-data-20-years.csv file\n",
    "draft_df = pd.read_csv(Path('./draft-data-20-years-pos.csv'),\n",
    "                       skiprows=1,\n",
    "                       index_col = 'DraftYear', \n",
    "                       parse_dates=False, \n",
    "                       infer_datetime_format=True\n",
    ")\n",
    "\n",
    "\n",
    "\n",
    "\n",
    "#-------------------------------------------------------------------------------- \n",
    "\n",
    "#Imported old csv to merge into new csv \n",
    "\n",
    "\n",
    "CW = pd.read_csv(Path('./contractWorth.csv'),\n",
    "                     \n",
    "               \n",
    "                       parse_dates=False, \n",
    "                       infer_datetime_format=True)\n",
    "\n",
    "#-------------------------------------------------------------------------------- \n",
    "#Filtering through draft year for last 5 years\n",
    "\n",
    "CW_Df = CW.loc[CW['DraftYr'] >= 2017]\n",
    "\n",
    "#Filtering through Rank for only 1 round pick\n",
    "\n",
    "CW_Df = CW_Df.loc[CW_Df['Rk']< 31]\n",
    "\n",
    "#-------------------------------------------------------------------------------- \n",
    "\n",
    "\n",
    "# Dataframe of the specific row we wanted \n",
    "\n",
    "_CW_ = CW_Df[['Contract Worth','Player']]\n",
    "\n",
    " \n",
    "    \n",
    "    \n",
    "\n",
    "    \n",
    "    \n",
    "    \n",
    "    \n",
    "#-------------------------------------------------------------------------------- \n",
    "\n",
    "\n"
   ]
  },
  {
   "cell_type": "code",
   "execution_count": 612,
   "id": "29a49eaa-4e1d-4e41-a314-437263d8208a",
   "metadata": {},
   "outputs": [
    {
     "data": {
      "text/html": [
       "<div>\n",
       "<style scoped>\n",
       "    .dataframe tbody tr th:only-of-type {\n",
       "        vertical-align: middle;\n",
       "    }\n",
       "\n",
       "    .dataframe tbody tr th {\n",
       "        vertical-align: top;\n",
       "    }\n",
       "\n",
       "    .dataframe thead th {\n",
       "        text-align: right;\n",
       "    }\n",
       "</style>\n",
       "<table border=\"1\" class=\"dataframe\">\n",
       "  <thead>\n",
       "    <tr style=\"text-align: right;\">\n",
       "      <th></th>\n",
       "      <th>Unnamed: 0</th>\n",
       "      <th>Rk</th>\n",
       "      <th>Pk</th>\n",
       "      <th>Tm</th>\n",
       "      <th>Pos</th>\n",
       "      <th>College</th>\n",
       "      <th>Yrs</th>\n",
       "      <th>G</th>\n",
       "      <th>TOTMP</th>\n",
       "      <th>TOTPTS</th>\n",
       "      <th>...</th>\n",
       "      <th>WS/48</th>\n",
       "      <th>BPM</th>\n",
       "      <th>VORP</th>\n",
       "      <th>DraftYr</th>\n",
       "      <th>MPG</th>\n",
       "      <th>PPG</th>\n",
       "      <th>RPG</th>\n",
       "      <th>APG</th>\n",
       "      <th>playerurl</th>\n",
       "      <th>Contract Worth</th>\n",
       "    </tr>\n",
       "    <tr>\n",
       "      <th>Player</th>\n",
       "      <th></th>\n",
       "      <th></th>\n",
       "      <th></th>\n",
       "      <th></th>\n",
       "      <th></th>\n",
       "      <th></th>\n",
       "      <th></th>\n",
       "      <th></th>\n",
       "      <th></th>\n",
       "      <th></th>\n",
       "      <th></th>\n",
       "      <th></th>\n",
       "      <th></th>\n",
       "      <th></th>\n",
       "      <th></th>\n",
       "      <th></th>\n",
       "      <th></th>\n",
       "      <th></th>\n",
       "      <th></th>\n",
       "      <th></th>\n",
       "      <th></th>\n",
       "    </tr>\n",
       "  </thead>\n",
       "  <tbody>\n",
       "    <tr>\n",
       "      <th>A.J. Bramlett</th>\n",
       "      <td>540</td>\n",
       "      <td>39</td>\n",
       "      <td>39</td>\n",
       "      <td>CLE</td>\n",
       "      <td>NaN</td>\n",
       "      <td>Arizona</td>\n",
       "      <td>1.0000</td>\n",
       "      <td>8.0000</td>\n",
       "      <td>61.0000</td>\n",
       "      <td>8.0000</td>\n",
       "      <td>...</td>\n",
       "      <td>-0.1290</td>\n",
       "      <td>-15.9000</td>\n",
       "      <td>-0.2000</td>\n",
       "      <td>1999</td>\n",
       "      <td>7.6000</td>\n",
       "      <td>1.0000</td>\n",
       "      <td>2.8000</td>\n",
       "      <td>0.0000</td>\n",
       "      <td>https://www.sports-reference.com/cbb/players/a...</td>\n",
       "      <td>NaN</td>\n",
       "    </tr>\n",
       "    <tr>\n",
       "      <th>A.J. English</th>\n",
       "      <td>37</td>\n",
       "      <td>37</td>\n",
       "      <td>37</td>\n",
       "      <td>WAS</td>\n",
       "      <td>NaN</td>\n",
       "      <td>Virginia Union University</td>\n",
       "      <td>2.0000</td>\n",
       "      <td>151.0000</td>\n",
       "      <td>3108.0000</td>\n",
       "      <td>1502.0000</td>\n",
       "      <td>...</td>\n",
       "      <td>0.0170</td>\n",
       "      <td>-3.9000</td>\n",
       "      <td>-1.5000</td>\n",
       "      <td>1990</td>\n",
       "      <td>20.6000</td>\n",
       "      <td>9.9000</td>\n",
       "      <td>2.1000</td>\n",
       "      <td>2.1000</td>\n",
       "      <td>https://www.sports-reference.com/cbb/players/a...</td>\n",
       "      <td>NaN</td>\n",
       "    </tr>\n",
       "    <tr>\n",
       "      <th>A.J. Guyton</th>\n",
       "      <td>591</td>\n",
       "      <td>32</td>\n",
       "      <td>32</td>\n",
       "      <td>CHI</td>\n",
       "      <td>NaN</td>\n",
       "      <td>Indiana</td>\n",
       "      <td>3.0000</td>\n",
       "      <td>80.0000</td>\n",
       "      <td>1246.0000</td>\n",
       "      <td>442.0000</td>\n",
       "      <td>...</td>\n",
       "      <td>0.0100</td>\n",
       "      <td>-2.9000</td>\n",
       "      <td>-0.3000</td>\n",
       "      <td>2000</td>\n",
       "      <td>15.6000</td>\n",
       "      <td>5.5000</td>\n",
       "      <td>1.0000</td>\n",
       "      <td>1.8000</td>\n",
       "      <td>https://www.sports-reference.com/cbb/players/a...</td>\n",
       "      <td>NaN</td>\n",
       "    </tr>\n",
       "    <tr>\n",
       "      <th>A.J. Hammons</th>\n",
       "      <td>1554</td>\n",
       "      <td>46</td>\n",
       "      <td>46</td>\n",
       "      <td>DAL</td>\n",
       "      <td>NaN</td>\n",
       "      <td>Purdue</td>\n",
       "      <td>1.0000</td>\n",
       "      <td>22.0000</td>\n",
       "      <td>163.0000</td>\n",
       "      <td>48.0000</td>\n",
       "      <td>...</td>\n",
       "      <td>-0.0010</td>\n",
       "      <td>-6.6000</td>\n",
       "      <td>-0.2000</td>\n",
       "      <td>2016</td>\n",
       "      <td>7.4000</td>\n",
       "      <td>2.2000</td>\n",
       "      <td>1.6000</td>\n",
       "      <td>0.2000</td>\n",
       "      <td>https://www.sports-reference.com/cbb/players/a...</td>\n",
       "      <td>NaN</td>\n",
       "    </tr>\n",
       "    <tr>\n",
       "      <th>A.J. Price</th>\n",
       "      <td>1140</td>\n",
       "      <td>52</td>\n",
       "      <td>52</td>\n",
       "      <td>IND</td>\n",
       "      <td>NaN</td>\n",
       "      <td>UConn</td>\n",
       "      <td>6.0000</td>\n",
       "      <td>261.0000</td>\n",
       "      <td>3929.0000</td>\n",
       "      <td>1523.0000</td>\n",
       "      <td>...</td>\n",
       "      <td>0.0580</td>\n",
       "      <td>-1.3000</td>\n",
       "      <td>0.7000</td>\n",
       "      <td>2009</td>\n",
       "      <td>15.1000</td>\n",
       "      <td>5.8000</td>\n",
       "      <td>1.4000</td>\n",
       "      <td>2.2000</td>\n",
       "      <td>https://www.sports-reference.com/cbb/players/a...</td>\n",
       "      <td>NaN</td>\n",
       "    </tr>\n",
       "    <tr>\n",
       "      <th>...</th>\n",
       "      <td>...</td>\n",
       "      <td>...</td>\n",
       "      <td>...</td>\n",
       "      <td>...</td>\n",
       "      <td>...</td>\n",
       "      <td>...</td>\n",
       "      <td>...</td>\n",
       "      <td>...</td>\n",
       "      <td>...</td>\n",
       "      <td>...</td>\n",
       "      <td>...</td>\n",
       "      <td>...</td>\n",
       "      <td>...</td>\n",
       "      <td>...</td>\n",
       "      <td>...</td>\n",
       "      <td>...</td>\n",
       "      <td>...</td>\n",
       "      <td>...</td>\n",
       "      <td>...</td>\n",
       "      <td>...</td>\n",
       "      <td>...</td>\n",
       "    </tr>\n",
       "    <tr>\n",
       "      <th>İlkan Karaman</th>\n",
       "      <td>1325</td>\n",
       "      <td>57</td>\n",
       "      <td>57</td>\n",
       "      <td>BRK</td>\n",
       "      <td>NaN</td>\n",
       "      <td>NaN</td>\n",
       "      <td>NaN</td>\n",
       "      <td>NaN</td>\n",
       "      <td>NaN</td>\n",
       "      <td>NaN</td>\n",
       "      <td>...</td>\n",
       "      <td>NaN</td>\n",
       "      <td>NaN</td>\n",
       "      <td>NaN</td>\n",
       "      <td>2012</td>\n",
       "      <td>NaN</td>\n",
       "      <td>NaN</td>\n",
       "      <td>NaN</td>\n",
       "      <td>NaN</td>\n",
       "      <td>NaN</td>\n",
       "      <td>NaN</td>\n",
       "    </tr>\n",
       "    <tr>\n",
       "      <th>İzzet Türkyılmaz</th>\n",
       "      <td>1318</td>\n",
       "      <td>50</td>\n",
       "      <td>50</td>\n",
       "      <td>DEN</td>\n",
       "      <td>NaN</td>\n",
       "      <td>NaN</td>\n",
       "      <td>NaN</td>\n",
       "      <td>NaN</td>\n",
       "      <td>NaN</td>\n",
       "      <td>NaN</td>\n",
       "      <td>...</td>\n",
       "      <td>NaN</td>\n",
       "      <td>NaN</td>\n",
       "      <td>NaN</td>\n",
       "      <td>2012</td>\n",
       "      <td>NaN</td>\n",
       "      <td>NaN</td>\n",
       "      <td>NaN</td>\n",
       "      <td>NaN</td>\n",
       "      <td>NaN</td>\n",
       "      <td>NaN</td>\n",
       "    </tr>\n",
       "    <tr>\n",
       "      <th>Žan Tabak</th>\n",
       "      <td>105</td>\n",
       "      <td>51</td>\n",
       "      <td>51</td>\n",
       "      <td>HOU</td>\n",
       "      <td>NaN</td>\n",
       "      <td>NaN</td>\n",
       "      <td>6.0000</td>\n",
       "      <td>247.0000</td>\n",
       "      <td>3607.0000</td>\n",
       "      <td>1233.0000</td>\n",
       "      <td>...</td>\n",
       "      <td>0.0320</td>\n",
       "      <td>-4.9000</td>\n",
       "      <td>-2.7000</td>\n",
       "      <td>1991</td>\n",
       "      <td>14.6000</td>\n",
       "      <td>5.0000</td>\n",
       "      <td>3.6000</td>\n",
       "      <td>0.7000</td>\n",
       "      <td>NaN</td>\n",
       "      <td>NaN</td>\n",
       "    </tr>\n",
       "    <tr>\n",
       "      <th>Žarko Čabarkapa</th>\n",
       "      <td>748</td>\n",
       "      <td>17</td>\n",
       "      <td>17</td>\n",
       "      <td>PHO</td>\n",
       "      <td>NaN</td>\n",
       "      <td>NaN</td>\n",
       "      <td>3.0000</td>\n",
       "      <td>150.0000</td>\n",
       "      <td>1550.0000</td>\n",
       "      <td>640.0000</td>\n",
       "      <td>...</td>\n",
       "      <td>0.0350</td>\n",
       "      <td>-3.9000</td>\n",
       "      <td>-0.7000</td>\n",
       "      <td>2003</td>\n",
       "      <td>10.3000</td>\n",
       "      <td>4.3000</td>\n",
       "      <td>2.1000</td>\n",
       "      <td>0.6000</td>\n",
       "      <td>NaN</td>\n",
       "      <td>NaN</td>\n",
       "    </tr>\n",
       "    <tr>\n",
       "      <th>Željko Rebrača</th>\n",
       "      <td>270</td>\n",
       "      <td>54</td>\n",
       "      <td>54</td>\n",
       "      <td>OKC</td>\n",
       "      <td>NaN</td>\n",
       "      <td>NaN</td>\n",
       "      <td>5.0000</td>\n",
       "      <td>215.0000</td>\n",
       "      <td>3280.0000</td>\n",
       "      <td>1276.0000</td>\n",
       "      <td>...</td>\n",
       "      <td>0.1210</td>\n",
       "      <td>-2.2000</td>\n",
       "      <td>-0.2000</td>\n",
       "      <td>1994</td>\n",
       "      <td>15.3000</td>\n",
       "      <td>5.9000</td>\n",
       "      <td>3.2000</td>\n",
       "      <td>0.4000</td>\n",
       "      <td>NaN</td>\n",
       "      <td>NaN</td>\n",
       "    </tr>\n",
       "  </tbody>\n",
       "</table>\n",
       "<p>1868 rows × 26 columns</p>\n",
       "</div>"
      ],
      "text/plain": [
       "                  Unnamed: 0  Rk  Pk   Tm  Pos                    College  \\\n",
       "Player                                                                      \n",
       "A.J. Bramlett            540  39  39  CLE  NaN                    Arizona   \n",
       "A.J. English              37  37  37  WAS  NaN  Virginia Union University   \n",
       "A.J. Guyton              591  32  32  CHI  NaN                    Indiana   \n",
       "A.J. Hammons            1554  46  46  DAL  NaN                     Purdue   \n",
       "A.J. Price              1140  52  52  IND  NaN                      UConn   \n",
       "...                      ...  ..  ..  ...  ...                        ...   \n",
       "İlkan Karaman           1325  57  57  BRK  NaN                        NaN   \n",
       "İzzet Türkyılmaz        1318  50  50  DEN  NaN                        NaN   \n",
       "Žan Tabak                105  51  51  HOU  NaN                        NaN   \n",
       "Žarko Čabarkapa          748  17  17  PHO  NaN                        NaN   \n",
       "Željko Rebrača           270  54  54  OKC  NaN                        NaN   \n",
       "\n",
       "                    Yrs        G     TOTMP    TOTPTS  ...   WS/48      BPM  \\\n",
       "Player                                                ...                    \n",
       "A.J. Bramlett    1.0000   8.0000   61.0000    8.0000  ... -0.1290 -15.9000   \n",
       "A.J. English     2.0000 151.0000 3108.0000 1502.0000  ...  0.0170  -3.9000   \n",
       "A.J. Guyton      3.0000  80.0000 1246.0000  442.0000  ...  0.0100  -2.9000   \n",
       "A.J. Hammons     1.0000  22.0000  163.0000   48.0000  ... -0.0010  -6.6000   \n",
       "A.J. Price       6.0000 261.0000 3929.0000 1523.0000  ...  0.0580  -1.3000   \n",
       "...                 ...      ...       ...       ...  ...     ...      ...   \n",
       "İlkan Karaman       NaN      NaN       NaN       NaN  ...     NaN      NaN   \n",
       "İzzet Türkyılmaz    NaN      NaN       NaN       NaN  ...     NaN      NaN   \n",
       "Žan Tabak        6.0000 247.0000 3607.0000 1233.0000  ...  0.0320  -4.9000   \n",
       "Žarko Čabarkapa  3.0000 150.0000 1550.0000  640.0000  ...  0.0350  -3.9000   \n",
       "Željko Rebrača   5.0000 215.0000 3280.0000 1276.0000  ...  0.1210  -2.2000   \n",
       "\n",
       "                    VORP  DraftYr     MPG    PPG    RPG    APG  \\\n",
       "Player                                                           \n",
       "A.J. Bramlett    -0.2000     1999  7.6000 1.0000 2.8000 0.0000   \n",
       "A.J. English     -1.5000     1990 20.6000 9.9000 2.1000 2.1000   \n",
       "A.J. Guyton      -0.3000     2000 15.6000 5.5000 1.0000 1.8000   \n",
       "A.J. Hammons     -0.2000     2016  7.4000 2.2000 1.6000 0.2000   \n",
       "A.J. Price        0.7000     2009 15.1000 5.8000 1.4000 2.2000   \n",
       "...                  ...      ...     ...    ...    ...    ...   \n",
       "İlkan Karaman        NaN     2012     NaN    NaN    NaN    NaN   \n",
       "İzzet Türkyılmaz     NaN     2012     NaN    NaN    NaN    NaN   \n",
       "Žan Tabak        -2.7000     1991 14.6000 5.0000 3.6000 0.7000   \n",
       "Žarko Čabarkapa  -0.7000     2003 10.3000 4.3000 2.1000 0.6000   \n",
       "Željko Rebrača   -0.2000     1994 15.3000 5.9000 3.2000 0.4000   \n",
       "\n",
       "                                                          playerurl  \\\n",
       "Player                                                                \n",
       "A.J. Bramlett     https://www.sports-reference.com/cbb/players/a...   \n",
       "A.J. English      https://www.sports-reference.com/cbb/players/a...   \n",
       "A.J. Guyton       https://www.sports-reference.com/cbb/players/a...   \n",
       "A.J. Hammons      https://www.sports-reference.com/cbb/players/a...   \n",
       "A.J. Price        https://www.sports-reference.com/cbb/players/a...   \n",
       "...                                                             ...   \n",
       "İlkan Karaman                                                   NaN   \n",
       "İzzet Türkyılmaz                                                NaN   \n",
       "Žan Tabak                                                       NaN   \n",
       "Žarko Čabarkapa                                                 NaN   \n",
       "Željko Rebrača                                                  NaN   \n",
       "\n",
       "                  Contract Worth  \n",
       "Player                            \n",
       "A.J. Bramlett                NaN  \n",
       "A.J. English                 NaN  \n",
       "A.J. Guyton                  NaN  \n",
       "A.J. Hammons                 NaN  \n",
       "A.J. Price                   NaN  \n",
       "...                          ...  \n",
       "İlkan Karaman                NaN  \n",
       "İzzet Türkyılmaz             NaN  \n",
       "Žan Tabak                    NaN  \n",
       "Žarko Čabarkapa              NaN  \n",
       "Željko Rebrača               NaN  \n",
       "\n",
       "[1868 rows x 26 columns]"
      ]
     },
     "metadata": {},
     "output_type": "display_data"
    },
    {
     "data": {
      "text/html": [
       "<div>\n",
       "<style scoped>\n",
       "    .dataframe tbody tr th:only-of-type {\n",
       "        vertical-align: middle;\n",
       "    }\n",
       "\n",
       "    .dataframe tbody tr th {\n",
       "        vertical-align: top;\n",
       "    }\n",
       "\n",
       "    .dataframe thead th {\n",
       "        text-align: right;\n",
       "    }\n",
       "</style>\n",
       "<table border=\"1\" class=\"dataframe\">\n",
       "  <thead>\n",
       "    <tr style=\"text-align: right;\">\n",
       "      <th></th>\n",
       "      <th>Player</th>\n",
       "      <th>Unnamed: 0</th>\n",
       "      <th>Rk</th>\n",
       "      <th>Pk</th>\n",
       "      <th>Tm</th>\n",
       "      <th>Pos</th>\n",
       "      <th>College</th>\n",
       "      <th>Yrs</th>\n",
       "      <th>G</th>\n",
       "      <th>TOTMP</th>\n",
       "      <th>...</th>\n",
       "      <th>WS</th>\n",
       "      <th>WS/48</th>\n",
       "      <th>BPM</th>\n",
       "      <th>VORP</th>\n",
       "      <th>MPG</th>\n",
       "      <th>PPG</th>\n",
       "      <th>RPG</th>\n",
       "      <th>APG</th>\n",
       "      <th>playerurl</th>\n",
       "      <th>Contract Worth</th>\n",
       "    </tr>\n",
       "    <tr>\n",
       "      <th>DraftYr</th>\n",
       "      <th></th>\n",
       "      <th></th>\n",
       "      <th></th>\n",
       "      <th></th>\n",
       "      <th></th>\n",
       "      <th></th>\n",
       "      <th></th>\n",
       "      <th></th>\n",
       "      <th></th>\n",
       "      <th></th>\n",
       "      <th></th>\n",
       "      <th></th>\n",
       "      <th></th>\n",
       "      <th></th>\n",
       "      <th></th>\n",
       "      <th></th>\n",
       "      <th></th>\n",
       "      <th></th>\n",
       "      <th></th>\n",
       "      <th></th>\n",
       "      <th></th>\n",
       "    </tr>\n",
       "  </thead>\n",
       "  <tbody>\n",
       "    <tr>\n",
       "      <th>2018</th>\n",
       "      <td>Aaron Holiday</td>\n",
       "      <td>1651</td>\n",
       "      <td>23</td>\n",
       "      <td>23</td>\n",
       "      <td>IND</td>\n",
       "      <td>PG</td>\n",
       "      <td>UCLA</td>\n",
       "      <td>4.0000</td>\n",
       "      <td>226.0000</td>\n",
       "      <td>4142.0000</td>\n",
       "      <td>...</td>\n",
       "      <td>4.1000</td>\n",
       "      <td>0.0470</td>\n",
       "      <td>-2.4000</td>\n",
       "      <td>-0.4000</td>\n",
       "      <td>18.3000</td>\n",
       "      <td>7.4000</td>\n",
       "      <td>1.7000</td>\n",
       "      <td>2.3000</td>\n",
       "      <td>https://www.sports-reference.com/cbb/players/a...</td>\n",
       "      <td>10477351.0000</td>\n",
       "    </tr>\n",
       "    <tr>\n",
       "      <th>2020</th>\n",
       "      <td>Aaron Nesmith</td>\n",
       "      <td>1762</td>\n",
       "      <td>14</td>\n",
       "      <td>14</td>\n",
       "      <td>BOS</td>\n",
       "      <td>SF</td>\n",
       "      <td>Vanderbilt</td>\n",
       "      <td>2.0000</td>\n",
       "      <td>87.0000</td>\n",
       "      <td>1112.0000</td>\n",
       "      <td>...</td>\n",
       "      <td>1.2000</td>\n",
       "      <td>0.0510</td>\n",
       "      <td>-4.2000</td>\n",
       "      <td>-0.6000</td>\n",
       "      <td>12.8000</td>\n",
       "      <td>4.2000</td>\n",
       "      <td>2.3000</td>\n",
       "      <td>0.4000</td>\n",
       "      <td>https://www.sports-reference.com/cbb/players/a...</td>\n",
       "      <td>16528217.0000</td>\n",
       "    </tr>\n",
       "    <tr>\n",
       "      <th>2021</th>\n",
       "      <td>Aaron Wiggins</td>\n",
       "      <td>1863</td>\n",
       "      <td>55</td>\n",
       "      <td>55</td>\n",
       "      <td>OKC</td>\n",
       "      <td>SG</td>\n",
       "      <td>Maryland</td>\n",
       "      <td>1.0000</td>\n",
       "      <td>34.0000</td>\n",
       "      <td>762.0000</td>\n",
       "      <td>...</td>\n",
       "      <td>1.2000</td>\n",
       "      <td>0.0770</td>\n",
       "      <td>-2.9000</td>\n",
       "      <td>-0.2000</td>\n",
       "      <td>22.4000</td>\n",
       "      <td>7.1000</td>\n",
       "      <td>3.4000</td>\n",
       "      <td>1.1000</td>\n",
       "      <td>https://www.sports-reference.com/cbb/players/a...</td>\n",
       "      <td>NaN</td>\n",
       "    </tr>\n",
       "    <tr>\n",
       "      <th>2019</th>\n",
       "      <td>Admiral Schofield</td>\n",
       "      <td>1730</td>\n",
       "      <td>42</td>\n",
       "      <td>42</td>\n",
       "      <td>PHI</td>\n",
       "      <td>SF</td>\n",
       "      <td>Tennessee</td>\n",
       "      <td>2.0000</td>\n",
       "      <td>57.0000</td>\n",
       "      <td>639.0000</td>\n",
       "      <td>...</td>\n",
       "      <td>0.4000</td>\n",
       "      <td>0.0270</td>\n",
       "      <td>-5.1000</td>\n",
       "      <td>-0.5000</td>\n",
       "      <td>11.2000</td>\n",
       "      <td>3.2000</td>\n",
       "      <td>1.7000</td>\n",
       "      <td>0.5000</td>\n",
       "      <td>https://www.sports-reference.com/cbb/players/a...</td>\n",
       "      <td>NaN</td>\n",
       "    </tr>\n",
       "    <tr>\n",
       "      <th>2017</th>\n",
       "      <td>Alec Peters</td>\n",
       "      <td>1622</td>\n",
       "      <td>54</td>\n",
       "      <td>54</td>\n",
       "      <td>PHO</td>\n",
       "      <td>SF</td>\n",
       "      <td>Valparaiso</td>\n",
       "      <td>1.0000</td>\n",
       "      <td>20.0000</td>\n",
       "      <td>225.0000</td>\n",
       "      <td>...</td>\n",
       "      <td>0.3000</td>\n",
       "      <td>0.0550</td>\n",
       "      <td>-2.8000</td>\n",
       "      <td>0.0000</td>\n",
       "      <td>11.3000</td>\n",
       "      <td>4.1000</td>\n",
       "      <td>1.9000</td>\n",
       "      <td>0.6000</td>\n",
       "      <td>https://www.sports-reference.com/cbb/players/a...</td>\n",
       "      <td>NaN</td>\n",
       "    </tr>\n",
       "    <tr>\n",
       "      <th>...</th>\n",
       "      <td>...</td>\n",
       "      <td>...</td>\n",
       "      <td>...</td>\n",
       "      <td>...</td>\n",
       "      <td>...</td>\n",
       "      <td>...</td>\n",
       "      <td>...</td>\n",
       "      <td>...</td>\n",
       "      <td>...</td>\n",
       "      <td>...</td>\n",
       "      <td>...</td>\n",
       "      <td>...</td>\n",
       "      <td>...</td>\n",
       "      <td>...</td>\n",
       "      <td>...</td>\n",
       "      <td>...</td>\n",
       "      <td>...</td>\n",
       "      <td>...</td>\n",
       "      <td>...</td>\n",
       "      <td>...</td>\n",
       "      <td>...</td>\n",
       "    </tr>\n",
       "    <tr>\n",
       "      <th>2017</th>\n",
       "      <td>Zach Collins</td>\n",
       "      <td>1578</td>\n",
       "      <td>10</td>\n",
       "      <td>10</td>\n",
       "      <td>SAC</td>\n",
       "      <td>C</td>\n",
       "      <td>Gonzaga</td>\n",
       "      <td>4.0000</td>\n",
       "      <td>159.0000</td>\n",
       "      <td>2773.0000</td>\n",
       "      <td>...</td>\n",
       "      <td>4.0000</td>\n",
       "      <td>0.0690</td>\n",
       "      <td>-2.6000</td>\n",
       "      <td>-0.4000</td>\n",
       "      <td>17.4000</td>\n",
       "      <td>5.7000</td>\n",
       "      <td>4.0000</td>\n",
       "      <td>0.9000</td>\n",
       "      <td>https://www.sports-reference.com/cbb/players/z...</td>\n",
       "      <td>14724873.0000</td>\n",
       "    </tr>\n",
       "    <tr>\n",
       "      <th>2020</th>\n",
       "      <td>Zeke Nnaji</td>\n",
       "      <td>1770</td>\n",
       "      <td>22</td>\n",
       "      <td>22</td>\n",
       "      <td>DEN</td>\n",
       "      <td>F/C</td>\n",
       "      <td>Arizona</td>\n",
       "      <td>2.0000</td>\n",
       "      <td>81.0000</td>\n",
       "      <td>1048.0000</td>\n",
       "      <td>...</td>\n",
       "      <td>2.8000</td>\n",
       "      <td>0.1290</td>\n",
       "      <td>-1.8000</td>\n",
       "      <td>0.1000</td>\n",
       "      <td>12.9000</td>\n",
       "      <td>5.0000</td>\n",
       "      <td>2.6000</td>\n",
       "      <td>0.3000</td>\n",
       "      <td>https://www.sports-reference.com/cbb/players/z...</td>\n",
       "      <td>11802681.0000</td>\n",
       "    </tr>\n",
       "    <tr>\n",
       "      <th>2018</th>\n",
       "      <td>Zhaire Smith</td>\n",
       "      <td>1644</td>\n",
       "      <td>16</td>\n",
       "      <td>16</td>\n",
       "      <td>PHO</td>\n",
       "      <td>SG</td>\n",
       "      <td>Texas Tech</td>\n",
       "      <td>2.0000</td>\n",
       "      <td>13.0000</td>\n",
       "      <td>143.0000</td>\n",
       "      <td>...</td>\n",
       "      <td>0.0000</td>\n",
       "      <td>0.0110</td>\n",
       "      <td>-6.1000</td>\n",
       "      <td>-0.1000</td>\n",
       "      <td>11.0000</td>\n",
       "      <td>3.7000</td>\n",
       "      <td>1.2000</td>\n",
       "      <td>0.9000</td>\n",
       "      <td>https://www.sports-reference.com/cbb/players/z...</td>\n",
       "      <td>13791056.0000</td>\n",
       "    </tr>\n",
       "    <tr>\n",
       "      <th>2021</th>\n",
       "      <td>Ziaire Williams</td>\n",
       "      <td>1818</td>\n",
       "      <td>10</td>\n",
       "      <td>10</td>\n",
       "      <td>NOP</td>\n",
       "      <td>SF</td>\n",
       "      <td>Stanford</td>\n",
       "      <td>1.0000</td>\n",
       "      <td>40.0000</td>\n",
       "      <td>861.0000</td>\n",
       "      <td>...</td>\n",
       "      <td>1.0000</td>\n",
       "      <td>0.0570</td>\n",
       "      <td>-4.2000</td>\n",
       "      <td>-0.5000</td>\n",
       "      <td>21.5000</td>\n",
       "      <td>7.3000</td>\n",
       "      <td>1.8000</td>\n",
       "      <td>0.9000</td>\n",
       "      <td>https://www.sports-reference.com/cbb/players/z...</td>\n",
       "      <td>19908285.0000</td>\n",
       "    </tr>\n",
       "    <tr>\n",
       "      <th>2019</th>\n",
       "      <td>Zion Williamson</td>\n",
       "      <td>1689</td>\n",
       "      <td>1</td>\n",
       "      <td>1</td>\n",
       "      <td>NOP</td>\n",
       "      <td>PF</td>\n",
       "      <td>Duke</td>\n",
       "      <td>2.0000</td>\n",
       "      <td>85.0000</td>\n",
       "      <td>2694.0000</td>\n",
       "      <td>...</td>\n",
       "      <td>10.6000</td>\n",
       "      <td>0.1890</td>\n",
       "      <td>4.9000</td>\n",
       "      <td>4.7000</td>\n",
       "      <td>31.7000</td>\n",
       "      <td>25.7000</td>\n",
       "      <td>7.0000</td>\n",
       "      <td>3.2000</td>\n",
       "      <td>https://www.sports-reference.com/cbb/players/z...</td>\n",
       "      <td>44271137.0000</td>\n",
       "    </tr>\n",
       "  </tbody>\n",
       "</table>\n",
       "<p>300 rows × 26 columns</p>\n",
       "</div>"
      ],
      "text/plain": [
       "                    Player  Unnamed: 0  Rk  Pk   Tm  Pos     College    Yrs  \\\n",
       "DraftYr                                                                       \n",
       "2018         Aaron Holiday        1651  23  23  IND   PG        UCLA 4.0000   \n",
       "2020         Aaron Nesmith        1762  14  14  BOS   SF  Vanderbilt 2.0000   \n",
       "2021         Aaron Wiggins        1863  55  55  OKC   SG    Maryland 1.0000   \n",
       "2019     Admiral Schofield        1730  42  42  PHI   SF   Tennessee 2.0000   \n",
       "2017           Alec Peters        1622  54  54  PHO   SF  Valparaiso 1.0000   \n",
       "...                    ...         ...  ..  ..  ...  ...         ...    ...   \n",
       "2017          Zach Collins        1578  10  10  SAC    C     Gonzaga 4.0000   \n",
       "2020            Zeke Nnaji        1770  22  22  DEN  F/C     Arizona 2.0000   \n",
       "2018          Zhaire Smith        1644  16  16  PHO   SG  Texas Tech 2.0000   \n",
       "2021       Ziaire Williams        1818  10  10  NOP   SF    Stanford 1.0000   \n",
       "2019       Zion Williamson        1689   1   1  NOP   PF        Duke 2.0000   \n",
       "\n",
       "               G     TOTMP  ...      WS  WS/48     BPM    VORP     MPG  \\\n",
       "DraftYr                     ...                                          \n",
       "2018    226.0000 4142.0000  ...  4.1000 0.0470 -2.4000 -0.4000 18.3000   \n",
       "2020     87.0000 1112.0000  ...  1.2000 0.0510 -4.2000 -0.6000 12.8000   \n",
       "2021     34.0000  762.0000  ...  1.2000 0.0770 -2.9000 -0.2000 22.4000   \n",
       "2019     57.0000  639.0000  ...  0.4000 0.0270 -5.1000 -0.5000 11.2000   \n",
       "2017     20.0000  225.0000  ...  0.3000 0.0550 -2.8000  0.0000 11.3000   \n",
       "...          ...       ...  ...     ...    ...     ...     ...     ...   \n",
       "2017    159.0000 2773.0000  ...  4.0000 0.0690 -2.6000 -0.4000 17.4000   \n",
       "2020     81.0000 1048.0000  ...  2.8000 0.1290 -1.8000  0.1000 12.9000   \n",
       "2018     13.0000  143.0000  ...  0.0000 0.0110 -6.1000 -0.1000 11.0000   \n",
       "2021     40.0000  861.0000  ...  1.0000 0.0570 -4.2000 -0.5000 21.5000   \n",
       "2019     85.0000 2694.0000  ... 10.6000 0.1890  4.9000  4.7000 31.7000   \n",
       "\n",
       "            PPG    RPG    APG  \\\n",
       "DraftYr                         \n",
       "2018     7.4000 1.7000 2.3000   \n",
       "2020     4.2000 2.3000 0.4000   \n",
       "2021     7.1000 3.4000 1.1000   \n",
       "2019     3.2000 1.7000 0.5000   \n",
       "2017     4.1000 1.9000 0.6000   \n",
       "...         ...    ...    ...   \n",
       "2017     5.7000 4.0000 0.9000   \n",
       "2020     5.0000 2.6000 0.3000   \n",
       "2018     3.7000 1.2000 0.9000   \n",
       "2021     7.3000 1.8000 0.9000   \n",
       "2019    25.7000 7.0000 3.2000   \n",
       "\n",
       "                                                 playerurl  Contract Worth  \n",
       "DraftYr                                                                     \n",
       "2018     https://www.sports-reference.com/cbb/players/a...   10477351.0000  \n",
       "2020     https://www.sports-reference.com/cbb/players/a...   16528217.0000  \n",
       "2021     https://www.sports-reference.com/cbb/players/a...             NaN  \n",
       "2019     https://www.sports-reference.com/cbb/players/a...             NaN  \n",
       "2017     https://www.sports-reference.com/cbb/players/a...             NaN  \n",
       "...                                                    ...             ...  \n",
       "2017     https://www.sports-reference.com/cbb/players/z...   14724873.0000  \n",
       "2020     https://www.sports-reference.com/cbb/players/z...   11802681.0000  \n",
       "2018     https://www.sports-reference.com/cbb/players/z...   13791056.0000  \n",
       "2021     https://www.sports-reference.com/cbb/players/z...   19908285.0000  \n",
       "2019     https://www.sports-reference.com/cbb/players/z...   44271137.0000  \n",
       "\n",
       "[300 rows x 26 columns]"
      ]
     },
     "metadata": {},
     "output_type": "display_data"
    }
   ],
   "source": [
    "\n",
    "\n",
    "#-------------------------------------------------------------------------------- \n",
    "\n",
    "\n",
    "# seting idex to player and joining the old df to new df that match index player \n",
    "\n",
    "# old df also contains contract worth which we merge matching contract wortH TO PLAYER\n",
    "\n",
    "\n",
    "newd = draft_df.set_index('Player').join(_CW_.set_index('Player'))\n",
    "  \n",
    "\n",
    "    \n",
    "    \n",
    "    #Filtering through draft year for last 5 years\n",
    "newd__ = newd.loc[newd['DraftYr'] >= 2017]\n",
    "\n",
    "\n",
    "\n",
    "#-------------------------------------------------------------------------------- \n",
    "\n",
    "\n",
    "draft_df= newd__ .reset_index()\n",
    "\n",
    "# .set_index('DraftYr')\n",
    "\n",
    "draft_df =  draft_df.set_index('DraftYr')\n",
    "\n",
    "\n",
    "\n",
    "\n",
    "display(newd)\n",
    "\n",
    "display(draft_df)"
   ]
  },
  {
   "cell_type": "code",
   "execution_count": 613,
   "id": "49fe472d-08ef-4d8c-95a7-74e6ae93471f",
   "metadata": {},
   "outputs": [
    {
     "data": {
      "text/html": [
       "<div>\n",
       "<style scoped>\n",
       "    .dataframe tbody tr th:only-of-type {\n",
       "        vertical-align: middle;\n",
       "    }\n",
       "\n",
       "    .dataframe tbody tr th {\n",
       "        vertical-align: top;\n",
       "    }\n",
       "\n",
       "    .dataframe thead th {\n",
       "        text-align: right;\n",
       "    }\n",
       "</style>\n",
       "<table border=\"1\" class=\"dataframe\">\n",
       "  <thead>\n",
       "    <tr style=\"text-align: right;\">\n",
       "      <th></th>\n",
       "      <th>Player</th>\n",
       "      <th>Unnamed: 0</th>\n",
       "      <th>Rk</th>\n",
       "      <th>Pk</th>\n",
       "      <th>Tm</th>\n",
       "      <th>Pos</th>\n",
       "      <th>College</th>\n",
       "      <th>Yrs</th>\n",
       "      <th>G</th>\n",
       "      <th>TOTMP</th>\n",
       "      <th>...</th>\n",
       "      <th>WS</th>\n",
       "      <th>WS/48</th>\n",
       "      <th>BPM</th>\n",
       "      <th>VORP</th>\n",
       "      <th>MPG</th>\n",
       "      <th>PPG</th>\n",
       "      <th>RPG</th>\n",
       "      <th>APG</th>\n",
       "      <th>playerurl</th>\n",
       "      <th>Contract Worth</th>\n",
       "    </tr>\n",
       "    <tr>\n",
       "      <th>DraftYr</th>\n",
       "      <th></th>\n",
       "      <th></th>\n",
       "      <th></th>\n",
       "      <th></th>\n",
       "      <th></th>\n",
       "      <th></th>\n",
       "      <th></th>\n",
       "      <th></th>\n",
       "      <th></th>\n",
       "      <th></th>\n",
       "      <th></th>\n",
       "      <th></th>\n",
       "      <th></th>\n",
       "      <th></th>\n",
       "      <th></th>\n",
       "      <th></th>\n",
       "      <th></th>\n",
       "      <th></th>\n",
       "      <th></th>\n",
       "      <th></th>\n",
       "      <th></th>\n",
       "    </tr>\n",
       "  </thead>\n",
       "  <tbody>\n",
       "    <tr>\n",
       "      <th>2018</th>\n",
       "      <td>Aaron Holiday</td>\n",
       "      <td>1651</td>\n",
       "      <td>23</td>\n",
       "      <td>23</td>\n",
       "      <td>IND</td>\n",
       "      <td>PG</td>\n",
       "      <td>UCLA</td>\n",
       "      <td>4.0000</td>\n",
       "      <td>226.0000</td>\n",
       "      <td>4142.0000</td>\n",
       "      <td>...</td>\n",
       "      <td>4.1000</td>\n",
       "      <td>0.0470</td>\n",
       "      <td>-2.4000</td>\n",
       "      <td>-0.4000</td>\n",
       "      <td>18.3000</td>\n",
       "      <td>7.4000</td>\n",
       "      <td>1.7000</td>\n",
       "      <td>2.3000</td>\n",
       "      <td>https://www.sports-reference.com/cbb/players/a...</td>\n",
       "      <td>10477351.0000</td>\n",
       "    </tr>\n",
       "    <tr>\n",
       "      <th>2020</th>\n",
       "      <td>Aaron Nesmith</td>\n",
       "      <td>1762</td>\n",
       "      <td>14</td>\n",
       "      <td>14</td>\n",
       "      <td>BOS</td>\n",
       "      <td>SF</td>\n",
       "      <td>Vanderbilt</td>\n",
       "      <td>2.0000</td>\n",
       "      <td>87.0000</td>\n",
       "      <td>1112.0000</td>\n",
       "      <td>...</td>\n",
       "      <td>1.2000</td>\n",
       "      <td>0.0510</td>\n",
       "      <td>-4.2000</td>\n",
       "      <td>-0.6000</td>\n",
       "      <td>12.8000</td>\n",
       "      <td>4.2000</td>\n",
       "      <td>2.3000</td>\n",
       "      <td>0.4000</td>\n",
       "      <td>https://www.sports-reference.com/cbb/players/a...</td>\n",
       "      <td>16528217.0000</td>\n",
       "    </tr>\n",
       "    <tr>\n",
       "      <th>2021</th>\n",
       "      <td>Aaron Wiggins</td>\n",
       "      <td>1863</td>\n",
       "      <td>55</td>\n",
       "      <td>55</td>\n",
       "      <td>OKC</td>\n",
       "      <td>SG</td>\n",
       "      <td>Maryland</td>\n",
       "      <td>1.0000</td>\n",
       "      <td>34.0000</td>\n",
       "      <td>762.0000</td>\n",
       "      <td>...</td>\n",
       "      <td>1.2000</td>\n",
       "      <td>0.0770</td>\n",
       "      <td>-2.9000</td>\n",
       "      <td>-0.2000</td>\n",
       "      <td>22.4000</td>\n",
       "      <td>7.1000</td>\n",
       "      <td>3.4000</td>\n",
       "      <td>1.1000</td>\n",
       "      <td>https://www.sports-reference.com/cbb/players/a...</td>\n",
       "      <td>NaN</td>\n",
       "    </tr>\n",
       "    <tr>\n",
       "      <th>2019</th>\n",
       "      <td>Admiral Schofield</td>\n",
       "      <td>1730</td>\n",
       "      <td>42</td>\n",
       "      <td>42</td>\n",
       "      <td>PHI</td>\n",
       "      <td>SF</td>\n",
       "      <td>Tennessee</td>\n",
       "      <td>2.0000</td>\n",
       "      <td>57.0000</td>\n",
       "      <td>639.0000</td>\n",
       "      <td>...</td>\n",
       "      <td>0.4000</td>\n",
       "      <td>0.0270</td>\n",
       "      <td>-5.1000</td>\n",
       "      <td>-0.5000</td>\n",
       "      <td>11.2000</td>\n",
       "      <td>3.2000</td>\n",
       "      <td>1.7000</td>\n",
       "      <td>0.5000</td>\n",
       "      <td>https://www.sports-reference.com/cbb/players/a...</td>\n",
       "      <td>NaN</td>\n",
       "    </tr>\n",
       "    <tr>\n",
       "      <th>2017</th>\n",
       "      <td>Alec Peters</td>\n",
       "      <td>1622</td>\n",
       "      <td>54</td>\n",
       "      <td>54</td>\n",
       "      <td>PHO</td>\n",
       "      <td>SF</td>\n",
       "      <td>Valparaiso</td>\n",
       "      <td>1.0000</td>\n",
       "      <td>20.0000</td>\n",
       "      <td>225.0000</td>\n",
       "      <td>...</td>\n",
       "      <td>0.3000</td>\n",
       "      <td>0.0550</td>\n",
       "      <td>-2.8000</td>\n",
       "      <td>0.0000</td>\n",
       "      <td>11.3000</td>\n",
       "      <td>4.1000</td>\n",
       "      <td>1.9000</td>\n",
       "      <td>0.6000</td>\n",
       "      <td>https://www.sports-reference.com/cbb/players/a...</td>\n",
       "      <td>NaN</td>\n",
       "    </tr>\n",
       "  </tbody>\n",
       "</table>\n",
       "<p>5 rows × 26 columns</p>\n",
       "</div>"
      ],
      "text/plain": [
       "                    Player  Unnamed: 0  Rk  Pk   Tm Pos     College    Yrs  \\\n",
       "DraftYr                                                                      \n",
       "2018         Aaron Holiday        1651  23  23  IND  PG        UCLA 4.0000   \n",
       "2020         Aaron Nesmith        1762  14  14  BOS  SF  Vanderbilt 2.0000   \n",
       "2021         Aaron Wiggins        1863  55  55  OKC  SG    Maryland 1.0000   \n",
       "2019     Admiral Schofield        1730  42  42  PHI  SF   Tennessee 2.0000   \n",
       "2017           Alec Peters        1622  54  54  PHO  SF  Valparaiso 1.0000   \n",
       "\n",
       "               G     TOTMP  ...     WS  WS/48     BPM    VORP     MPG    PPG  \\\n",
       "DraftYr                     ...                                                \n",
       "2018    226.0000 4142.0000  ... 4.1000 0.0470 -2.4000 -0.4000 18.3000 7.4000   \n",
       "2020     87.0000 1112.0000  ... 1.2000 0.0510 -4.2000 -0.6000 12.8000 4.2000   \n",
       "2021     34.0000  762.0000  ... 1.2000 0.0770 -2.9000 -0.2000 22.4000 7.1000   \n",
       "2019     57.0000  639.0000  ... 0.4000 0.0270 -5.1000 -0.5000 11.2000 3.2000   \n",
       "2017     20.0000  225.0000  ... 0.3000 0.0550 -2.8000  0.0000 11.3000 4.1000   \n",
       "\n",
       "           RPG    APG                                          playerurl  \\\n",
       "DraftYr                                                                    \n",
       "2018    1.7000 2.3000  https://www.sports-reference.com/cbb/players/a...   \n",
       "2020    2.3000 0.4000  https://www.sports-reference.com/cbb/players/a...   \n",
       "2021    3.4000 1.1000  https://www.sports-reference.com/cbb/players/a...   \n",
       "2019    1.7000 0.5000  https://www.sports-reference.com/cbb/players/a...   \n",
       "2017    1.9000 0.6000  https://www.sports-reference.com/cbb/players/a...   \n",
       "\n",
       "         Contract Worth  \n",
       "DraftYr                  \n",
       "2018      10477351.0000  \n",
       "2020      16528217.0000  \n",
       "2021                NaN  \n",
       "2019                NaN  \n",
       "2017                NaN  \n",
       "\n",
       "[5 rows x 26 columns]"
      ]
     },
     "execution_count": 613,
     "metadata": {},
     "output_type": "execute_result"
    }
   ],
   "source": [
    "# Review the dataframe\n",
    "draft_df.head()"
   ]
  },
  {
   "cell_type": "code",
   "execution_count": null,
   "id": "fdf86815-bdb7-4f33-a9da-f7742e239f19",
   "metadata": {},
   "outputs": [],
   "source": []
  },
  {
   "cell_type": "code",
   "execution_count": 614,
   "id": "0cc0be4c-c561-4246-8535-f810215c2224",
   "metadata": {},
   "outputs": [],
   "source": [
    "# Selecting columns from the dataframe for analysis\n",
    "draft_df = draft_df[['Pk','Tm','Player','College','MPG','PPG', 'RPG', 'APG','FG%', '3P%','FT%','Pos','Rk','Contract Worth']]"
   ]
  },
  {
   "cell_type": "code",
   "execution_count": 615,
   "id": "7a16617d-0883-4757-90de-6434dd78db6a",
   "metadata": {},
   "outputs": [],
   "source": [
    "# Filter dataframe to get most recent 5 years data\n",
    "last_5_yrs_draft_df = draft_df\n",
    "\n",
    "last_5_yrs_draft_df =last_5_yrs_draft_df.sort_index()"
   ]
  },
  {
   "cell_type": "code",
   "execution_count": 619,
   "id": "96ea12aa-e2ba-4898-81c0-5b6679780b0f",
   "metadata": {},
   "outputs": [
    {
     "ename": "AttributeError",
     "evalue": "'NoneType' object has no attribute 'describe'",
     "output_type": "error",
     "traceback": [
      "\u001b[0;31m---------------------------------------------------------------------------\u001b[0m",
      "\u001b[0;31mAttributeError\u001b[0m                            Traceback (most recent call last)",
      "\u001b[0;32m/var/folders/_q/l8svdn411t546yg3hmyn6vyw0000gp/T/ipykernel_5749/4036156711.py\u001b[0m in \u001b[0;36m<module>\u001b[0;34m\u001b[0m\n\u001b[1;32m     80\u001b[0m \u001b[0;34m\u001b[0m\u001b[0m\n\u001b[1;32m     81\u001b[0m \u001b[0;34m\u001b[0m\u001b[0m\n\u001b[0;32m---> 82\u001b[0;31m \u001b[0mRANGE_PG_25\u001b[0m\u001b[0;34m.\u001b[0m\u001b[0mdescribe\u001b[0m\u001b[0;34m(\u001b[0m\u001b[0;34m)\u001b[0m\u001b[0;34m\u001b[0m\u001b[0;34m\u001b[0m\u001b[0m\n\u001b[0m",
      "\u001b[0;31mAttributeError\u001b[0m: 'NoneType' object has no attribute 'describe'"
     ]
    }
   ],
   "source": [
    "\n",
    "\n",
    "\n",
    "# Limit data on 1st round picks last 5 years\n",
    "last_5_yrs_1_rnd_draft_df = last_5_yrs_draft_df.loc[last_5_yrs_draft_df['Pk'] <=30]\n",
    "\n",
    "\n",
    "\n",
    "\n",
    "\n",
    "\n",
    "\n",
    "# weight PPG,APG,FT heaviest\n",
    "PG_STATS_df = last_5_yrs_1_rnd_draft_df[['FG%','FT%','3P%','Pos','APG', 'PPG','Player','Rk','College','Contract Worth']]\n",
    "\n",
    "# ------------------------------------------------------------------------------------------------------------------- \n",
    "\n",
    "\n",
    "searchfor = ['PG']\n",
    "# s[s.str.contains('|'.join(searchfor))]\n",
    "\n",
    "\n",
    "\n",
    "PG_heavy_df = PG_STATS_df.loc[PG_STATS_df['Pos'].str.contains('|'.join(searchfor))]\n",
    "\n",
    "\n",
    "\n",
    "# ------------------------------------------------------------------------------------------------------------------- \n",
    "\n",
    "PG_25_df = PG_heavy_df.loc[PG_heavy_df['Rk'] <=8]\n",
    "\n",
    "#Filtering out data \n",
    "PG_50 = PG_heavy_df.loc[PG_heavy_df['Rk'] >8]\n",
    "\n",
    "PG_50_df = PG_50 .loc[PG_50 ['Rk'] <16]\n",
    "\n",
    "PG_75_df = PG_50 .loc[PG_50 ['Rk'] >16]\n",
    "# ------------------------------------------------------------------------------------------------------------------- \n",
    "\n",
    "# All STATS that are going to be used \n",
    "\n",
    "\n",
    "# PPG,APG,FT heaviest \n",
    "SG_STATS_df = last_5_yrs_1_rnd_draft_df[['FG%','FT%','3P%','Pos','APG', 'PPG','Player','Rk']]\n",
    "\n",
    "\n",
    "# PPG,RPG%,ASP%,\n",
    "SF_STATS_df = last_5_yrs_1_rnd_draft_df[['FG%','FT%','RPG','Pos','APG', 'PPG','Player','Rk']]\n",
    "\n",
    "\n",
    "# PPG,RPG%,ASP%,\n",
    "PF_STATS_df = last_5_yrs_1_rnd_draft_df[['FG%','FT%','RPG','Pos','APG', 'PPG','Player','Rk']]\n",
    "\n",
    "\n",
    "#PPG,RPG%,ASP%,\n",
    "C_STATS_df = last_5_yrs_1_rnd_draft_df[['FG%','FT%','RPG','Pos','APG','PPG','Player','Rk']]\n",
    "\n",
    "# ------------------------------------------------------------------------------------------------------------------- \n",
    "\n",
    "\n",
    "# Visual \n",
    "\n",
    "\n",
    "\n",
    "_PG_ = PG_25_df[['Rk','Player','Contract Worth']],PG_50_df[['Rk','Player','Contract Worth']],PG_75_df[['Rk','Player','Contract Worth']].copy()\n",
    " \n",
    "\n",
    "\n",
    "\n",
    "\n",
    "    \n",
    "    \n",
    "# display(_PG_[0:2])\n",
    "\n",
    "\n",
    "RANGE_PG_25 = PG_25_df[['Player','Contract Worth']]\n",
    "\n",
    "\n",
    "\n",
    "\n",
    "\n",
    "RANGE_PG_25 = numpy.set_printoptions(precision=8, suppress=True)\n",
    "\n",
    "\n"
   ]
  },
  {
   "cell_type": "code",
   "execution_count": 617,
   "id": "408aea66-d97c-436f-9233-0e69875199bd",
   "metadata": {},
   "outputs": [
    {
     "data": {
      "text/plain": [
       "(         Rk           Player\n",
       " DraftYr                     \n",
       " 2017      1   Markelle Fultz\n",
       " 2019      3       RJ Barrett\n",
       " 2019      6   Jarrett Culver\n",
       " 2020      1  Anthony Edwards\n",
       " 2021      6      Josh Giddey\n",
       " 2021      2      Jalen Green,\n",
       "          Rk                   Player\n",
       " DraftYr                             \n",
       " 2017     13         Donovan Mitchell\n",
       " 2017     11               Malik Monk\n",
       " 2017     12             Luke Kennard\n",
       " 2018     13          Jerome Robinson\n",
       " 2018     11  Shai Gilgeous-Alexander\n",
       " 2019     14           Romeo Langford\n",
       " 2019     13              Tyler Herro\n",
       " 2020     11            Devin Vassell\n",
       " 2021     11          James Bouknight\n",
       " 2021     12             Joshua Primo\n",
       " 2021     14              Moses Moody\n",
       " 2021     13             Chris Duarte,\n",
       "          Rk                    Player\n",
       " DraftYr                              \n",
       " 2017     30                 Josh Hart\n",
       " 2017     21         Terrance Ferguson\n",
       " 2018     18          Lonnie Walker IV\n",
       " 2018     28               Jacob Evans\n",
       " 2018     26             Landry Shamet\n",
       " 2018     19             Kevin Huerter\n",
       " 2018     20               Josh Okogie\n",
       " 2018     24           Anfernee Simons\n",
       " 2018     21             Grayson Allen\n",
       " 2018     17          Donte DiVincenzo\n",
       " 2019     28              Jordan Poole\n",
       " 2019     17  Nickeil Alexander-Walker\n",
       " 2019     30          Kevin Porter Jr.\n",
       " 2020     24              R.J. Hampton\n",
       " 2020     26          Payton Pritchard\n",
       " 2020     30              Desmond Bane\n",
       " 2020     18                Josh Green\n",
       " 2020     25         Immanuel Quickley\n",
       " 2021     24          Josh Christopher\n",
       " 2021     21              Keon Johnson\n",
       " 2021     28            Jaden Springer\n",
       " 2021     25            Quentin Grimes\n",
       " 2021     27                Cam Thomas)"
      ]
     },
     "execution_count": 617,
     "metadata": {},
     "output_type": "execute_result"
    },
    {
     "data": {
      "image/png": "[encoded data removed]",
      "text/plain": [
       "<Figure size 1440x720 with 1 Axes>"
      ]
     },
     "metadata": {
      "needs_background": "light"
     },
     "output_type": "display_data"
    }
   ],
   "source": [
    "\n",
    "\n",
    "searchfor = ['SG']\n",
    "\n",
    "# PPG,APG,FT heaviest \n",
    "SG_STATS_df = last_5_yrs_1_rnd_draft_df[['FG%','FT%','3P%','Pos','APG', 'PPG','Player','Rk']]\n",
    "\n",
    "SG_heavy_df = SG_STATS_df.loc[SG_STATS_df['Pos'].str.contains('|'.join(searchfor))]\n",
    "\n",
    "SG_heavy_df.plot.bar(figsize=(20,10))\n",
    "\n",
    "# ------------------------------------------------------------------------------------------------------------------- \n",
    "#Filtering out data \n",
    "\n",
    "SG_25_df = SG_heavy_df.loc[SG_heavy_df['Rk'] <=8]\n",
    "\n",
    "SG_50 = SG_heavy_df.loc[SG_heavy_df['Rk'] >8]\n",
    "\n",
    "SG_50_df = SG_50 .loc[SG_50 ['Rk'] <16]\n",
    "\n",
    "SG_75_df = SG_50 .loc[SG_50 ['Rk'] >16]\n",
    "# ------------------------------------------------------------------------------------------------------------------- \n",
    "\n",
    "\n",
    "\n",
    "_SG_= SG_25_df[['Rk','Player']],SG_50_df[['Rk','Player']],SG_75_df[['Rk','Player']].copy()\n",
    " \n",
    "\n",
    "_SG_[0:3]\n",
    "\n",
    "\n",
    "# ------------------------------------------------------------------------------------------------------------------- \n",
    "\n"
   ]
  },
  {
   "cell_type": "code",
   "execution_count": 557,
   "id": "39434be6-5c74-43fe-b827-74eb514ceb78",
   "metadata": {},
   "outputs": [],
   "source": [
    "# Creating a 'school' dataframe by selecting 'Pk' and 'College' columns\n",
    "\n",
    "school = last_5_yrs_1_rnd_draft_df[['Pk','College']]"
   ]
  },
  {
   "cell_type": "code",
   "execution_count": 495,
   "id": "70eaf8b3-2662-45fd-a248-d3e7c8128bba",
   "metadata": {},
   "outputs": [
    {
     "data": {
      "text/plain": [
       "(           Rk            Player\n",
       " DraftYear                      \n",
       " 2017        3      Jayson Tatum\n",
       " 2017        4      Josh Jackson\n",
       " 2017        6    Jonathan Isaac\n",
       " 2019        4   De'Andre Hunter\n",
       " 2020        4  Patrick Williams\n",
       " 2020        5       Isaac Okoro\n",
       " 2021        4    Scottie Barnes\n",
       " 2021        7  Jonathan Kuminga\n",
       " 2021        8      Franz Wagner,\n",
       "            Rk              Player\n",
       " DraftYear                        \n",
       " 2017       15      Justin Jackson\n",
       " 2018        9          Kevin Knox\n",
       " 2018       10       Mikal Bridges\n",
       " 2018       12       Miles Bridges\n",
       " 2018       14  Michael Porter Jr.\n",
       " 2018       15      Troy Brown Jr.\n",
       " 2019       10         Cam Reddish\n",
       " 2019       11     Cameron Johnson\n",
       " 2019       15     Sekou Doumbouya\n",
       " 2020        9         Deni Avdija\n",
       " 2020       14       Aaron Nesmith\n",
       " 2021       10     Ziaire Williams\n",
       " 2021       15       Corey Kispert,\n",
       "            Rk              Player\n",
       " DraftYear                        \n",
       " 2017       23          OG Anunoby\n",
       " 2018       22  Chandler Hutchison\n",
       " 2018       29         Džanan Musa\n",
       " 2019       20    Matisse Thybulle\n",
       " 2019       23       Darius Bazley\n",
       " 2019       25       Nassir Little\n",
       " 2019       26       Dylan Windler\n",
       " 2019       29      Keldon Johnson\n",
       " 2020       17  Aleksej Pokusevski\n",
       " 2020       19          Saddiq Bey\n",
       " 2020       23     Leandro Bolmaro\n",
       " 2020       28     Jaden McDaniels\n",
       " 2021       17     Trey Murphy III\n",
       " 2021       20       Jalen Johnson)"
      ]
     },
     "execution_count": 495,
     "metadata": {},
     "output_type": "execute_result"
    },
    {
     "data": {
      "image/png": "[encoded data removed]",
      "text/plain": [
       "<Figure size 1440x720 with 1 Axes>"
      ]
     },
     "metadata": {
      "needs_background": "light"
     },
     "output_type": "display_data"
    }
   ],
   "source": [
    "\n",
    "searchfor = ['SF']\n",
    "\n",
    "\n",
    "# PPG,RPG%,ASP%,\n",
    "SF_STATS_df = last_5_yrs_1_rnd_draft_df[['FG%','FT%','RPG','Pos','APG', 'PPG','Player','Rk']]\n",
    "\n",
    "SF_heavy_df = SF_STATS_df.loc[SF_STATS_df['Pos'].str.contains('|'.join(searchfor))]\n",
    "\n",
    "SF_heavy_df.plot.bar(figsize=(20,10))\n",
    "# ---------------------------------------------------------------------------------------------\n",
    "\n",
    "\n",
    "\n",
    "SF_25_df = SF_heavy_df.loc[SF_heavy_df['Rk'] <=8]\n",
    "\n",
    "SF_50 = SF_heavy_df.loc[SF_heavy_df['Rk'] >8]\n",
    "\n",
    "SF_50_df = SF_50 .loc[SF_50 ['Rk'] <16]\n",
    "\n",
    "SF_75_df = SF_50 .loc[SF_50 ['Rk'] >16]\n",
    "\n",
    "# ---------------------------------------------------------------------------------------------\n",
    "\n",
    "# Visual \n",
    "\n",
    "\n",
    "\n",
    "\n",
    "\n",
    "\n",
    "\n",
    "_SF_= SF_25_df[['Rk','Player']],SF_50_df[['Rk','Player']],SF_75_df[['Rk','Player']].copy()\n",
    " \n",
    "\n",
    "_SF_[0:3]\n",
    "\n",
    "\n",
    "# ------------------------------------------------------------------------------------------------------------------- \n",
    "\n",
    "\n",
    "\n",
    "\n",
    "\n",
    "\n",
    "\n"
   ]
  },
  {
   "cell_type": "code",
   "execution_count": 496,
   "id": "75f247fe-9546-450f-86be-e299d4e773c4",
   "metadata": {},
   "outputs": [
    {
     "data": {
      "text/plain": [
       "(           Rk             Player\n",
       " DraftYear                       \n",
       " 2017        7    Lauri Markkanen\n",
       " 2018        2  Marvin Bagley III\n",
       " 2018        4  Jaren Jackson Jr.\n",
       " 2019        1    Zion Williamson\n",
       " 2020        6     Onyeka Okongwu\n",
       " 2020        8         Obi Toppin,\n",
       "            Rk           Player\n",
       " DraftYear                     \n",
       " 2017       14      Bam Adebayo\n",
       " 2019        9    Rui Hachimura\n",
       " 2019       12  P.J. Washington,\n",
       "            Rk            Player\n",
       " DraftYear                      \n",
       " 2017       17       D.J. Wilson\n",
       " 2017       18         T.J. Leaf\n",
       " 2017       19      John Collins\n",
       " 2017       20       Harry Giles\n",
       " 2017       24       Tyler Lydon\n",
       " 2017       26    Caleb Swanigan\n",
       " 2017       27        Kyle Kuzma\n",
       " 2017       28      Tony Bradley\n",
       " 2018       25     Moritz Wagner\n",
       " 2018       27   Robert Williams\n",
       " 2018       30    Omari Spellman\n",
       " 2019       19      Luka Šamanić\n",
       " 2019       21    Brandon Clarke\n",
       " 2019       22    Grant Williams\n",
       " 2020       20  Precious Achiuwa)"
      ]
     },
     "execution_count": 496,
     "metadata": {},
     "output_type": "execute_result"
    },
    {
     "data": {
      "image/png": "[encoded data removed]",
      "text/plain": [
       "<Figure size 1440x720 with 1 Axes>"
      ]
     },
     "metadata": {
      "needs_background": "light"
     },
     "output_type": "display_data"
    }
   ],
   "source": [
    "searchfor = ['PF']\n",
    "\n",
    "\n",
    "\n",
    "# PPG,RPG%,ASP%,\n",
    "PF_STATS_df = last_5_yrs_1_rnd_draft_df[['FG%','FT%','RPG','Pos','APG', 'PPG','Player','Rk']]\n",
    "\n",
    "PF_heavy_df = PF_STATS_df.loc[PF_STATS_df['Pos'].str.contains('|'.join(searchfor))]\n",
    "\n",
    "PF_heavy_df.plot.bar(figsize=(20,10))\n",
    "\n",
    "\n",
    "# ---------------------------------------------------------------------------------------------\n",
    "\n",
    "\n",
    "\n",
    "PF_25_df = PF_heavy_df.loc[PF_heavy_df['Rk'] <=8]\n",
    "\n",
    "PF_50 = PF_heavy_df.loc[PF_heavy_df['Rk'] >8]\n",
    "\n",
    "PF_50_df = PF_50 .loc[PF_50 ['Rk'] <16]\n",
    "\n",
    "PF_75_df = PF_50 .loc[PF_50 ['Rk'] >16]\n",
    "\n",
    "# ---------------------------------------------------------------------------------------------\n",
    "\n",
    "# Visual \n",
    "\n",
    "\n",
    "\n",
    "\n",
    "\n",
    "_PF_= PF_25_df[['Rk','Player']],PF_50_df[['Rk','Player']],PF_75_df[['Rk','Player']].copy()\n",
    " \n",
    "\n",
    "_PF_[0:3]\n",
    "\n",
    "\n",
    "# ------------------------------------------------------------------------------------------------------------------- \n",
    "\n"
   ]
  },
  {
   "cell_type": "code",
   "execution_count": 330,
   "id": "e7615b79-5bb0-4d81-9d5e-293e3832a3bb",
   "metadata": {},
   "outputs": [
    {
     "data": {
      "text/plain": [
       "(            Rk              Player\n",
       " DraftYear                         \n",
       " 2018       1.0       Deandre Ayton\n",
       " 2018       6.0            Mo Bamba\n",
       " 2018       7.0  Wendell Carter Jr.\n",
       " 2019       8.0        Jaxson Hayes\n",
       " 2020       2.0       James Wiseman\n",
       " 2021       3.0         Evan Mobley,\n",
       "              Rk        Player\n",
       " DraftYear                    \n",
       " 2017       10.0  Zach Collins\n",
       " 2020       10.0   Jalen Smith,\n",
       "              Rk             Player\n",
       " DraftYear                         \n",
       " 2017       22.0      Jarrett Allen\n",
       " 2017       25.0   Anžejs Pasečņiks\n",
       " 2019       18.0       Goga Bitadze\n",
       " 2019       27.0  Mfiondu Kabengele\n",
       " 2020       22.0         Zeke Nnaji\n",
       " 2020       27.0     Udoka Azubuike\n",
       " 2021       19.0          Kai Jones\n",
       " 2021       22.0     Isaiah Jackson\n",
       " 2021       23.0       Usman Garuba\n",
       " 2021       29.0     Day'Ron Sharpe\n",
       " 2021       30.0       Santi Aldama)"
      ]
     },
     "execution_count": 330,
     "metadata": {},
     "output_type": "execute_result"
    },
    {
     "data": {
      "image/png": "[encoded data removed]",
      "text/plain": [
       "<Figure size 1440x720 with 1 Axes>"
      ]
     },
     "metadata": {
      "needs_background": "light"
     },
     "output_type": "display_data"
    }
   ],
   "source": [
    "searchfor = ['C']\n",
    "\n",
    "\n",
    "\n",
    "#PPG,RPG%,ASP%,\n",
    "C_STATS_df = last_5_yrs_1_rnd_draft_df[['FG%','FT%','RPG','Pos','APG','PPG','Player','Rk']]\n",
    "\n",
    "C_heavy_df= C_STATS_df.loc[C_STATS_df['Pos'].str.contains('|'.join(searchfor))]\n",
    "\n",
    "C_heavy_df.plot.bar(figsize=(20,10))\n",
    "\n",
    "\n",
    "\n",
    "# ---------------------------------------------------------------------------------------------\n",
    "\n",
    "\n",
    "\n",
    "C_25_df = C_heavy_df.loc[C_heavy_df['Rk'] <=8]\n",
    "\n",
    "C_50 = C_heavy_df.loc[C_heavy_df['Rk'] >8]\n",
    "\n",
    "C_50_df = C_50 .loc[C_50 ['Rk'] <16]\n",
    "\n",
    "C_75_df = C_50 .loc[C_50 ['Rk'] >16]\n",
    "\n",
    "# ---------------------------------------------------------------------------------------------\n",
    "\n",
    "# Visual \n",
    "\n",
    "\n",
    "\n",
    "\n",
    "\n",
    "\n",
    "\n",
    "_C_= C_25_df[['Rk','Player']],C_50_df[['Rk','Player']],C_75_df[['Rk','Player']].copy()\n",
    " \n",
    "\n",
    "_C_[0:3]\n",
    "\n",
    "\n",
    "# ------------------------------------------------------------------------------------------------------------------- \n",
    "\n",
    "\n"
   ]
  },
  {
   "cell_type": "code",
   "execution_count": 331,
   "id": "e9831bee-07f8-49a6-98cf-d93168be543f",
   "metadata": {},
   "outputs": [
    {
     "data": {
      "text/plain": [
       "FG%     0.5125\n",
       "FT%     0.6760\n",
       "RPG     3.9500\n",
       "APG     0.7000\n",
       "PPG     5.7500\n",
       "Rk     17.0000\n",
       "Name: 0.5, dtype: float64"
      ]
     },
     "execution_count": 331,
     "metadata": {},
     "output_type": "execute_result"
    }
   ],
   "source": [
    "# Confirming visual from bar chart\n",
    "C_heavy_df.quantile()"
   ]
  },
  {
   "cell_type": "code",
   "execution_count": 332,
   "id": "472d8a76-e5ef-4976-94eb-419227fa1fe6",
   "metadata": {},
   "outputs": [
    {
     "data": {
      "text/html": [
       "<div>\n",
       "<style scoped>\n",
       "    .dataframe tbody tr th:only-of-type {\n",
       "        vertical-align: middle;\n",
       "    }\n",
       "\n",
       "    .dataframe tbody tr th {\n",
       "        vertical-align: top;\n",
       "    }\n",
       "\n",
       "    .dataframe thead th {\n",
       "        text-align: right;\n",
       "    }\n",
       "</style>\n",
       "<table border=\"1\" class=\"dataframe\">\n",
       "  <thead>\n",
       "    <tr style=\"text-align: right;\">\n",
       "      <th></th>\n",
       "      <th>Pk</th>\n",
       "      <th>College</th>\n",
       "    </tr>\n",
       "    <tr>\n",
       "      <th>DraftYear</th>\n",
       "      <th></th>\n",
       "      <th></th>\n",
       "    </tr>\n",
       "  </thead>\n",
       "  <tbody>\n",
       "    <tr>\n",
       "      <th>2017</th>\n",
       "      <td>1.0</td>\n",
       "      <td>Washington</td>\n",
       "    </tr>\n",
       "    <tr>\n",
       "      <th>2017</th>\n",
       "      <td>2.0</td>\n",
       "      <td>UCLA</td>\n",
       "    </tr>\n",
       "    <tr>\n",
       "      <th>2017</th>\n",
       "      <td>3.0</td>\n",
       "      <td>Duke</td>\n",
       "    </tr>\n",
       "    <tr>\n",
       "      <th>2017</th>\n",
       "      <td>4.0</td>\n",
       "      <td>Kansas</td>\n",
       "    </tr>\n",
       "    <tr>\n",
       "      <th>2017</th>\n",
       "      <td>5.0</td>\n",
       "      <td>Kentucky</td>\n",
       "    </tr>\n",
       "  </tbody>\n",
       "</table>\n",
       "</div>"
      ],
      "text/plain": [
       "            Pk     College\n",
       "DraftYear                 \n",
       "2017       1.0  Washington\n",
       "2017       2.0        UCLA\n",
       "2017       3.0        Duke\n",
       "2017       4.0      Kansas\n",
       "2017       5.0    Kentucky"
      ]
     },
     "execution_count": 332,
     "metadata": {},
     "output_type": "execute_result"
    }
   ],
   "source": [
    "# Review school dataframe\n",
    "school.head()"
   ]
  },
  {
   "cell_type": "code",
   "execution_count": 333,
   "id": "1ed053ca-78cf-41d2-b205-26bf3e160ba6",
   "metadata": {},
   "outputs": [
    {
     "data": {
      "text/html": [
       "<div>\n",
       "<style scoped>\n",
       "    .dataframe tbody tr th:only-of-type {\n",
       "        vertical-align: middle;\n",
       "    }\n",
       "\n",
       "    .dataframe tbody tr th {\n",
       "        vertical-align: top;\n",
       "    }\n",
       "\n",
       "    .dataframe thead th {\n",
       "        text-align: right;\n",
       "    }\n",
       "</style>\n",
       "<table border=\"1\" class=\"dataframe\">\n",
       "  <thead>\n",
       "    <tr style=\"text-align: right;\">\n",
       "      <th></th>\n",
       "      <th>Picks</th>\n",
       "    </tr>\n",
       "    <tr>\n",
       "      <th>College</th>\n",
       "      <th></th>\n",
       "    </tr>\n",
       "  </thead>\n",
       "  <tbody>\n",
       "    <tr>\n",
       "      <th>Kentucky</th>\n",
       "      <td>11</td>\n",
       "    </tr>\n",
       "    <tr>\n",
       "      <th>Duke</th>\n",
       "      <td>10</td>\n",
       "    </tr>\n",
       "    <tr>\n",
       "      <th>UNC</th>\n",
       "      <td>7</td>\n",
       "    </tr>\n",
       "    <tr>\n",
       "      <th>Florida State</th>\n",
       "      <td>5</td>\n",
       "    </tr>\n",
       "    <tr>\n",
       "      <th>Villanova</th>\n",
       "      <td>5</td>\n",
       "    </tr>\n",
       "  </tbody>\n",
       "</table>\n",
       "</div>"
      ],
      "text/plain": [
       "               Picks\n",
       "College             \n",
       "Kentucky          11\n",
       "Duke              10\n",
       "UNC                7\n",
       "Florida State      5\n",
       "Villanova          5"
      ]
     },
     "execution_count": 333,
     "metadata": {},
     "output_type": "execute_result"
    }
   ],
   "source": [
    "# Create a school_rookie_count series by selecting the 'College' column and counting how many times each school has appeared in the school dataframe\n",
    "school_rookie_count = school[['College']].value_counts(sort=True, ascending=False)\n",
    "# Change the series to dataframe and name the values 'Picks'(how many picks came from each school during 2017-2021)\n",
    "school_rookie_count_df = school_rookie_count.to_frame(name='Picks')\n",
    "# Review the school_rookie_count_df dataframe\n",
    "school_rookie_count_df.head()"
   ]
  },
  {
   "cell_type": "code",
   "execution_count": 334,
   "id": "50af2507-aed0-47db-9d77-2fb6efbc6a34",
   "metadata": {},
   "outputs": [
    {
     "data": {},
     "metadata": {},
     "output_type": "display_data"
    },
    {
     "data": {
      "application/vnd.holoviews_exec.v0+json": "",
      "text/html": [
       "<div id='4135'>\n",
       "\n",
       "\n",
       "\n",
       "\n",
       "\n",
       "  <div class=\"bk-root\" id=\"4c5fee7d-a9fd-45ac-b422-750a8ec412da\" data-root-id=\"4135\"></div>\n",
       "</div>\n",
       "<script type=\"application/javascript\">(function(root) {\n",
       "  function embed_document(root) {\n",
       "    var docs_json = {\"6298c094-5711-4724-b335-56ecc44a0e83\":{\"defs\":[{\"extends\":null,\"module\":null,\"name\":\"ReactiveHTML1\",\"overrides\":[],\"properties\":[]},{\"extends\":null,\"module\":null,\"name\":\"FlexBox1\",\"overrides\":[],\"properties\":[{\"default\":\"flex-start\",\"kind\":null,\"name\":\"align_content\"},{\"default\":\"flex-start\",\"kind\":null,\"name\":\"align_items\"},{\"default\":\"row\",\"kind\":null,\"name\":\"flex_direction\"},{\"default\":\"wrap\",\"kind\":null,\"name\":\"flex_wrap\"},{\"default\":\"flex-start\",\"kind\":null,\"name\":\"justify_content\"}]},{\"extends\":null,\"module\":null,\"name\":\"GridStack1\",\"overrides\":[],\"properties\":[{\"default\":\"warn\",\"kind\":null,\"name\":\"mode\"},{\"default\":null,\"kind\":null,\"name\":\"ncols\"},{\"default\":null,\"kind\":null,\"name\":\"nrows\"},{\"default\":true,\"kind\":null,\"name\":\"allow_resize\"},{\"default\":true,\"kind\":null,\"name\":\"allow_drag\"},{\"default\":[],\"kind\":null,\"name\":\"state\"}]},{\"extends\":null,\"module\":null,\"name\":\"click1\",\"overrides\":[],\"properties\":[{\"default\":\"\",\"kind\":null,\"name\":\"terminal_output\"},{\"default\":\"\",\"kind\":null,\"name\":\"debug_name\"},{\"default\":0,\"kind\":null,\"name\":\"clears\"}]},{\"extends\":null,\"module\":null,\"name\":\"TemplateActions1\",\"overrides\":[],\"properties\":[{\"default\":0,\"kind\":null,\"name\":\"open_modal\"},{\"default\":0,\"kind\":null,\"name\":\"close_modal\"}]},{\"extends\":null,\"module\":null,\"name\":\"MaterialTemplateActions1\",\"overrides\":[],\"properties\":[{\"default\":0,\"kind\":null,\"name\":\"open_modal\"},{\"default\":0,\"kind\":null,\"name\":\"close_modal\"}]}],\"roots\":{\"references\":[{\"attributes\":{\"axis\":{\"id\":\"4152\"},\"coordinates\":null,\"dimension\":1,\"grid_line_color\":null,\"group\":null,\"ticker\":null},\"id\":\"4155\",\"type\":\"Grid\"},{\"attributes\":{},\"id\":\"4157\",\"type\":\"PanTool\"},{\"attributes\":{\"axis_label\":\"College\",\"coordinates\":null,\"formatter\":{\"id\":\"4180\"},\"group\":null,\"major_label_orientation\":1.5707963267948966,\"major_label_policy\":{\"id\":\"4181\"},\"ticker\":{\"id\":\"4150\"}},\"id\":\"4149\",\"type\":\"CategoricalAxis\"},{\"attributes\":{\"callback\":null,\"renderers\":[{\"id\":\"4176\"}],\"tags\":[\"hv_created\"],\"tooltips\":[[\"College\",\"@{College}\"],[\"Picks\",\"@{Picks}\"]]},\"id\":\"4139\",\"type\":\"HoverTool\"},{\"attributes\":{\"factors\":[\"Kentucky\",\"Duke\",\"UNC\",\"Florida State\",\"Villanova\",\"Gonzaga\",\"Michigan\",\"Washington\",\"Texas\",\"Arizona\",\"Virginia\",\"USC\",\"UCLA\",\"Tennessee\",\"Oregon\",\"Alabama\",\"Memphis\",\"Michigan State\",\"Indiana\",\"Kansas\",\"Texas Tech\",\"Auburn\",\"Vanderbilt\",\"Maryland\",\"Cincinnati\",\"Boston College\",\"Texas A&M\",\"Boise State\",\"UConn\",\"Belmont\",\"Georgia\",\"Baylor\",\"Utah\",\"Syracuse\",\"VCU\",\"Arkansas\",\"Virginia Tech\",\"Wake Forest\",\"Arizona State\",\"TCU\",\"Purdue\",\"Stanford\",\"Miami (FL)\",\"Florida\",\"Houston\",\"Iowa State\",\"Dayton\",\"LSU\",\"Louisville\",\"Loyola (MD)\",\"Creighton\",\"San Diego State\",\"Missouri\",\"Murray State\",\"NC State\",\"Oklahoma\",\"Oklahoma State\",\"Colorado\",\"Georgia Tech\",\"Wichita State\"],\"tags\":[[[\"College\",\"College\",null]]]},\"id\":\"4137\",\"type\":\"FactorRange\"},{\"attributes\":{\"axis_label\":\"Number of Picks\",\"coordinates\":null,\"formatter\":{\"id\":\"4183\"},\"group\":null,\"major_label_policy\":{\"id\":\"4184\"},\"ticker\":{\"id\":\"4153\"}},\"id\":\"4152\",\"type\":\"LinearAxis\"},{\"attributes\":{\"coordinates\":null,\"group\":null,\"text\":\"Number Of NBA Picks From Each College 2017-2021\",\"text_color\":\"black\",\"text_font_size\":\"12pt\"},\"id\":\"4141\",\"type\":\"Title\"},{\"attributes\":{},\"id\":\"4160\",\"type\":\"ResetTool\"},{\"attributes\":{\"overlay\":{\"id\":\"4161\"}},\"id\":\"4159\",\"type\":\"BoxZoomTool\"},{\"attributes\":{},\"id\":\"4153\",\"type\":\"BasicTicker\"},{\"attributes\":{},\"id\":\"4156\",\"type\":\"SaveTool\"},{\"attributes\":{\"end\":12.0,\"reset_end\":12.0,\"reset_start\":0.0,\"tags\":[[[\"Picks\",\"Picks\",null]]]},\"id\":\"4138\",\"type\":\"Range1d\"},{\"attributes\":{},\"id\":\"4181\",\"type\":\"AllLabels\"},{\"attributes\":{},\"id\":\"4145\",\"type\":\"CategoricalScale\"},{\"attributes\":{},\"id\":\"4158\",\"type\":\"WheelZoomTool\"},{\"attributes\":{\"bottom_units\":\"screen\",\"coordinates\":null,\"fill_alpha\":0.5,\"fill_color\":\"lightgrey\",\"group\":null,\"left_units\":\"screen\",\"level\":\"overlay\",\"line_alpha\":1.0,\"line_color\":\"black\",\"line_dash\":[4,4],\"line_width\":2,\"right_units\":\"screen\",\"syncable\":false,\"top_units\":\"screen\"},\"id\":\"4161\",\"type\":\"BoxAnnotation\"},{\"attributes\":{\"below\":[{\"id\":\"4149\"}],\"center\":[{\"id\":\"4151\"},{\"id\":\"4155\"}],\"height\":300,\"left\":[{\"id\":\"4152\"}],\"margin\":[5,5,5,5],\"min_border_bottom\":10,\"min_border_left\":10,\"min_border_right\":10,\"min_border_top\":10,\"renderers\":[{\"id\":\"4176\"}],\"sizing_mode\":\"fixed\",\"title\":{\"id\":\"4141\"},\"toolbar\":{\"id\":\"4162\"},\"width\":700,\"x_range\":{\"id\":\"4137\"},\"x_scale\":{\"id\":\"4145\"},\"y_range\":{\"id\":\"4138\"},\"y_scale\":{\"id\":\"4147\"}},\"id\":\"4140\",\"subtype\":\"Figure\",\"type\":\"Plot\"},{\"attributes\":{},\"id\":\"4150\",\"type\":\"CategoricalTicker\"},{\"attributes\":{},\"id\":\"4183\",\"type\":\"BasicTickFormatter\"},{\"attributes\":{\"bottom\":{\"value\":0},\"fill_alpha\":{\"value\":1.0},\"fill_color\":{\"value\":\"#30a2da\"},\"hatch_alpha\":{\"value\":1.0},\"hatch_color\":{\"value\":\"#30a2da\"},\"hatch_scale\":{\"value\":12.0},\"hatch_weight\":{\"value\":1.0},\"line_alpha\":{\"value\":1.0},\"line_cap\":{\"value\":\"butt\"},\"line_color\":{\"value\":\"black\"},\"line_dash\":{\"value\":[]},\"line_dash_offset\":{\"value\":0},\"line_join\":{\"value\":\"bevel\"},\"line_width\":{\"value\":1},\"top\":{\"field\":\"Picks\"},\"width\":{\"value\":0.8},\"x\":{\"field\":\"College\"}},\"id\":\"4178\",\"type\":\"VBar\"},{\"attributes\":{\"coordinates\":null,\"data_source\":{\"id\":\"4169\"},\"glyph\":{\"id\":\"4172\"},\"group\":null,\"hover_glyph\":{\"id\":\"4174\"},\"muted_glyph\":{\"id\":\"4175\"},\"nonselection_glyph\":{\"id\":\"4173\"},\"selection_glyph\":{\"id\":\"4178\"},\"view\":{\"id\":\"4177\"}},\"id\":\"4176\",\"type\":\"GlyphRenderer\"},{\"attributes\":{\"margin\":[5,5,5,5],\"name\":\"HSpacer09437\",\"sizing_mode\":\"stretch_width\"},\"id\":\"4136\",\"type\":\"Spacer\"},{\"attributes\":{\"fill_alpha\":{\"value\":0.1},\"fill_color\":{\"value\":\"#30a2da\"},\"hatch_alpha\":{\"value\":0.1},\"hatch_color\":{\"value\":\"#30a2da\"},\"line_alpha\":{\"value\":0.1},\"top\":{\"field\":\"Picks\"},\"width\":{\"value\":0.8},\"x\":{\"field\":\"College\"}},\"id\":\"4173\",\"type\":\"VBar\"},{\"attributes\":{\"fill_color\":{\"value\":\"orange\"},\"hatch_color\":{\"value\":\"orange\"},\"line_color\":{\"value\":\"orange\"},\"top\":{\"field\":\"Picks\"},\"width\":{\"value\":0.8},\"x\":{\"field\":\"College\"}},\"id\":\"4174\",\"type\":\"VBar\"},{\"attributes\":{\"margin\":[5,5,5,5],\"name\":\"HSpacer09438\",\"sizing_mode\":\"stretch_width\"},\"id\":\"4205\",\"type\":\"Spacer\"},{\"attributes\":{},\"id\":\"4184\",\"type\":\"AllLabels\"},{\"attributes\":{\"source\":{\"id\":\"4169\"}},\"id\":\"4177\",\"type\":\"CDSView\"},{\"attributes\":{},\"id\":\"4180\",\"type\":\"CategoricalTickFormatter\"},{\"attributes\":{},\"id\":\"4170\",\"type\":\"Selection\"},{\"attributes\":{},\"id\":\"4147\",\"type\":\"LinearScale\"},{\"attributes\":{\"axis\":{\"id\":\"4149\"},\"coordinates\":null,\"grid_line_color\":null,\"group\":null,\"ticker\":null},\"id\":\"4151\",\"type\":\"Grid\"},{\"attributes\":{\"tools\":[{\"id\":\"4139\"},{\"id\":\"4156\"},{\"id\":\"4157\"},{\"id\":\"4158\"},{\"id\":\"4159\"},{\"id\":\"4160\"}]},\"id\":\"4162\",\"type\":\"Toolbar\"},{\"attributes\":{\"children\":[{\"id\":\"4136\"},{\"id\":\"4140\"},{\"id\":\"4205\"}],\"margin\":[0,0,0,0],\"name\":\"Row09433\",\"tags\":[\"embedded\"]},\"id\":\"4135\",\"type\":\"Row\"},{\"attributes\":{},\"id\":\"4192\",\"type\":\"UnionRenderers\"},{\"attributes\":{\"data\":{\"College\":[\"Kentucky\",\"Duke\",\"UNC\",\"Florida State\",\"Villanova\",\"Gonzaga\",\"Michigan\",\"Washington\",\"Texas\",\"Arizona\",\"Virginia\",\"USC\",\"UCLA\",\"Tennessee\",\"Oregon\",\"Alabama\",\"Memphis\",\"Michigan State\",\"Indiana\",\"Kansas\",\"Texas Tech\",\"Auburn\",\"Vanderbilt\",\"Maryland\",\"Cincinnati\",\"Boston College\",\"Texas A&M\",\"Boise State\",\"UConn\",\"Belmont\",\"Georgia\",\"Baylor\",\"Utah\",\"Syracuse\",\"VCU\",\"Arkansas\",\"Virginia Tech\",\"Wake Forest\",\"Arizona State\",\"TCU\",\"Purdue\",\"Stanford\",\"Miami (FL)\",\"Florida\",\"Houston\",\"Iowa State\",\"Dayton\",\"LSU\",\"Louisville\",\"Loyola (MD)\",\"Creighton\",\"San Diego State\",\"Missouri\",\"Murray State\",\"NC State\",\"Oklahoma\",\"Oklahoma State\",\"Colorado\",\"Georgia Tech\",\"Wichita State\"],\"Picks\":[11,10,7,5,5,5,4,4,4,4,3,3,3,3,3,3,2,2,2,2,2,2,2,2,1,1,1,1,1,1,1,1,1,1,1,1,1,1,1,1,1,1,1,1,1,1,1,1,1,1,1,1,1,1,1,1,1,1,1,1]},\"selected\":{\"id\":\"4170\"},\"selection_policy\":{\"id\":\"4192\"}},\"id\":\"4169\",\"type\":\"ColumnDataSource\"},{\"attributes\":{\"fill_alpha\":{\"value\":0.2},\"fill_color\":{\"value\":\"#30a2da\"},\"hatch_alpha\":{\"value\":0.2},\"hatch_color\":{\"value\":\"#30a2da\"},\"line_alpha\":{\"value\":0.2},\"top\":{\"field\":\"Picks\"},\"width\":{\"value\":0.8},\"x\":{\"field\":\"College\"}},\"id\":\"4175\",\"type\":\"VBar\"},{\"attributes\":{\"fill_color\":{\"value\":\"#30a2da\"},\"hatch_color\":{\"value\":\"#30a2da\"},\"top\":{\"field\":\"Picks\"},\"width\":{\"value\":0.8},\"x\":{\"field\":\"College\"}},\"id\":\"4172\",\"type\":\"VBar\"}],\"root_ids\":[\"4135\"]},\"title\":\"Bokeh Application\",\"version\":\"2.4.1\"}};\n",
       "    var render_items = [{\"docid\":\"6298c094-5711-4724-b335-56ecc44a0e83\",\"root_ids\":[\"4135\"],\"roots\":{\"4135\":\"4c5fee7d-a9fd-45ac-b422-750a8ec412da\"}}];\n",
       "    root.Bokeh.embed.embed_items_notebook(docs_json, render_items);\n",
       "  }\n",
       "  if (root.Bokeh !== undefined && root.Bokeh.Panel !== undefined) {\n",
       "    embed_document(root);\n",
       "  } else {\n",
       "    var attempts = 0;\n",
       "    var timer = setInterval(function(root) {\n",
       "      if (root.Bokeh !== undefined && root.Bokeh.Panel !== undefined) {\n",
       "        clearInterval(timer);\n",
       "        embed_document(root);\n",
       "      } else if (document.readyState == \"complete\") {\n",
       "        attempts++;\n",
       "        if (attempts > 200) {\n",
       "          clearInterval(timer);\n",
       "          console.log(\"Bokeh: ERROR: Unable to run BokehJS code because BokehJS library is missing\");\n",
       "        }\n",
       "      }\n",
       "    }, 25, root)\n",
       "  }\n",
       "})(window);</script>"
      ],
      "text/plain": [
       ":Bars   [College]   (Picks)"
      ]
     },
     "execution_count": 334,
     "metadata": {
      "application/vnd.holoviews_exec.v0+json": {
       "id": "4135"
      }
     },
     "output_type": "execute_result"
    }
   ],
   "source": [
    "# Use hvplot to create bar visualization of school_rookie_count_df dataframe\n",
    "school_rookie_count_df.hvplot.bar(\n",
    "        title = 'Number Of NBA Picks From Each College 2017-2021',\n",
    "        ylabel = 'Number of Picks',\n",
    "        rot = 90,\n",
    "        hover_color = 'orange'\n",
    ")"
   ]
  },
  {
   "cell_type": "code",
   "execution_count": 335,
   "id": "898678c7-852f-4c4e-9c70-fd9729345496",
   "metadata": {},
   "outputs": [
    {
     "data": {},
     "metadata": {},
     "output_type": "display_data"
    },
    {
     "data": {
      "application/vnd.holoviews_exec.v0+json": "",
      "text/html": [
       "<div id='4257'>\n",
       "\n",
       "\n",
       "\n",
       "\n",
       "\n",
       "  <div class=\"bk-root\" id=\"74e569c4-81d0-44cc-985b-ad394af63243\" data-root-id=\"4257\"></div>\n",
       "</div>\n",
       "<script type=\"application/javascript\">(function(root) {\n",
       "  function embed_document(root) {\n",
       "    var docs_json = {\"94bad9d4-96f0-40bb-aa87-22419a9b0ebe\":{\"defs\":[{\"extends\":null,\"module\":null,\"name\":\"ReactiveHTML1\",\"overrides\":[],\"properties\":[]},{\"extends\":null,\"module\":null,\"name\":\"FlexBox1\",\"overrides\":[],\"properties\":[{\"default\":\"flex-start\",\"kind\":null,\"name\":\"align_content\"},{\"default\":\"flex-start\",\"kind\":null,\"name\":\"align_items\"},{\"default\":\"row\",\"kind\":null,\"name\":\"flex_direction\"},{\"default\":\"wrap\",\"kind\":null,\"name\":\"flex_wrap\"},{\"default\":\"flex-start\",\"kind\":null,\"name\":\"justify_content\"}]},{\"extends\":null,\"module\":null,\"name\":\"GridStack1\",\"overrides\":[],\"properties\":[{\"default\":\"warn\",\"kind\":null,\"name\":\"mode\"},{\"default\":null,\"kind\":null,\"name\":\"ncols\"},{\"default\":null,\"kind\":null,\"name\":\"nrows\"},{\"default\":true,\"kind\":null,\"name\":\"allow_resize\"},{\"default\":true,\"kind\":null,\"name\":\"allow_drag\"},{\"default\":[],\"kind\":null,\"name\":\"state\"}]},{\"extends\":null,\"module\":null,\"name\":\"click1\",\"overrides\":[],\"properties\":[{\"default\":\"\",\"kind\":null,\"name\":\"terminal_output\"},{\"default\":\"\",\"kind\":null,\"name\":\"debug_name\"},{\"default\":0,\"kind\":null,\"name\":\"clears\"}]},{\"extends\":null,\"module\":null,\"name\":\"TemplateActions1\",\"overrides\":[],\"properties\":[{\"default\":0,\"kind\":null,\"name\":\"open_modal\"},{\"default\":0,\"kind\":null,\"name\":\"close_modal\"}]},{\"extends\":null,\"module\":null,\"name\":\"MaterialTemplateActions1\",\"overrides\":[],\"properties\":[{\"default\":0,\"kind\":null,\"name\":\"open_modal\"},{\"default\":0,\"kind\":null,\"name\":\"close_modal\"}]}],\"roots\":{\"references\":[{\"attributes\":{},\"id\":\"4305\",\"type\":\"BasicTickFormatter\"},{\"attributes\":{\"client_comm_id\":\"d4577a7568dd46999ad8d2547f596f3e\",\"comm_id\":\"622b48ce145a4f45900a263ae3faefb4\",\"plot_id\":\"4257\"},\"id\":\"4369\",\"type\":\"panel.models.comm_manager.CommManager\"},{\"attributes\":{},\"id\":\"4269\",\"type\":\"LinearScale\"},{\"attributes\":{\"fill_color\":{\"value\":\"#30a2da\"},\"hatch_color\":{\"value\":\"#30a2da\"},\"line_color\":{\"value\":\"#30a2da\"},\"size\":{\"value\":5.477225575051661},\"x\":{\"field\":\"DraftYear\"},\"y\":{\"field\":\"Pk\"}},\"id\":\"4295\",\"type\":\"Scatter\"},{\"attributes\":{},\"id\":\"4272\",\"type\":\"BasicTicker\"},{\"attributes\":{\"margin\":[20,20,20,20],\"min_width\":250,\"options\":[\"Washington\",\"UCLA\",\"Duke\",\"Kansas\",\"Kentucky\",\"Florida State\",\"Arizona\",\"nan\",\"NC State\",\"Gonzaga\",\"Louisville\",\"UNC\",\"Creighton\",\"Michigan\",\"Wake Forest\",\"Texas\",\"Indiana\",\"Syracuse\",\"Purdue\",\"Utah\",\"Colorado\",\"Villanova\",\"Michigan State\",\"Oklahoma\",\"Alabama\",\"Boston College\",\"Missouri\",\"Oregon\",\"Texas Tech\",\"Miami (FL)\",\"Maryland\",\"Georgia Tech\",\"Boise State\",\"Wichita State\",\"Texas A&M\",\"Cincinnati\",\"Murray State\",\"Virginia\",\"Vanderbilt\",\"Auburn\",\"Virginia Tech\",\"Tennessee\",\"Belmont\",\"USC\",\"Georgia\",\"Memphis\",\"Dayton\",\"Iowa State\",\"San Diego State\",\"TCU\",\"Oklahoma State\",\"Baylor\",\"Stanford\",\"UConn\",\"Arkansas\",\"Florida\",\"Arizona State\",\"Houston\",\"VCU\",\"LSU\",\"Loyola (MD)\"],\"title\":\"College\",\"value\":\"Washington\",\"width\":250},\"id\":\"4337\",\"type\":\"panel.models.widgets.CustomSelect\"},{\"attributes\":{\"coordinates\":null,\"group\":null,\"text\":\"Drafted NBA Players Pick Number and Their Colleges 2017-2021\",\"text_color\":\"black\",\"text_font_size\":\"12pt\"},\"id\":\"4263\",\"type\":\"Title\"},{\"attributes\":{\"end\":2020.1285714285714,\"reset_end\":2020.1285714285714,\"reset_start\":2016.8714285714286,\"start\":2016.8714285714286,\"tags\":[[[\"DraftYear\",\"DraftYear\",null]]]},\"id\":\"4259\",\"type\":\"Range1d\"},{\"attributes\":{},\"id\":\"4303\",\"type\":\"AllLabels\"},{\"attributes\":{\"margin\":[5,5,5,5],\"name\":\"VSpacer09537\",\"sizing_mode\":\"stretch_height\"},\"id\":\"4338\",\"type\":\"Spacer\"},{\"attributes\":{},\"id\":\"4267\",\"type\":\"LinearScale\"},{\"attributes\":{\"margin\":[5,5,5,5],\"name\":\"HSpacer09540\",\"sizing_mode\":\"stretch_width\"},\"id\":\"4333\",\"type\":\"Spacer\"},{\"attributes\":{\"overlay\":{\"id\":\"4284\"}},\"id\":\"4282\",\"type\":\"BoxZoomTool\"},{\"attributes\":{\"angle\":{\"value\":0.0},\"fill_alpha\":{\"value\":1.0},\"fill_color\":{\"value\":\"#30a2da\"},\"hatch_alpha\":{\"value\":1.0},\"hatch_color\":{\"value\":\"#30a2da\"},\"hatch_scale\":{\"value\":12.0},\"hatch_weight\":{\"value\":1.0},\"line_alpha\":{\"value\":1.0},\"line_cap\":{\"value\":\"butt\"},\"line_color\":{\"value\":\"#30a2da\"},\"line_dash\":{\"value\":[]},\"line_dash_offset\":{\"value\":0},\"line_join\":{\"value\":\"bevel\"},\"line_width\":{\"value\":1},\"marker\":{\"value\":\"circle\"},\"size\":{\"value\":5.477225575051661},\"x\":{\"field\":\"DraftYear\"},\"y\":{\"field\":\"Pk\"}},\"id\":\"4300\",\"type\":\"Scatter\"},{\"attributes\":{\"below\":[{\"id\":\"4271\"}],\"center\":[{\"id\":\"4274\"},{\"id\":\"4278\"}],\"height\":300,\"left\":[{\"id\":\"4275\"}],\"margin\":[5,5,5,5],\"min_border_bottom\":10,\"min_border_left\":10,\"min_border_right\":10,\"min_border_top\":10,\"renderers\":[{\"id\":\"4298\"}],\"sizing_mode\":\"fixed\",\"title\":{\"id\":\"4263\"},\"toolbar\":{\"id\":\"4285\"},\"width\":700,\"x_range\":{\"id\":\"4259\"},\"x_scale\":{\"id\":\"4267\"},\"y_range\":{\"id\":\"4260\"},\"y_scale\":{\"id\":\"4269\"}},\"id\":\"4262\",\"subtype\":\"Figure\",\"type\":\"Plot\"},{\"attributes\":{\"coordinates\":null,\"data_source\":{\"id\":\"4292\"},\"glyph\":{\"id\":\"4295\"},\"group\":null,\"hover_glyph\":null,\"muted_glyph\":{\"id\":\"4297\"},\"nonselection_glyph\":{\"id\":\"4296\"},\"selection_glyph\":{\"id\":\"4300\"},\"view\":{\"id\":\"4299\"}},\"id\":\"4298\",\"type\":\"GlyphRenderer\"},{\"attributes\":{\"bottom_units\":\"screen\",\"coordinates\":null,\"fill_alpha\":0.5,\"fill_color\":\"lightgrey\",\"group\":null,\"left_units\":\"screen\",\"level\":\"overlay\",\"line_alpha\":1.0,\"line_color\":\"black\",\"line_dash\":[4,4],\"line_width\":2,\"right_units\":\"screen\",\"syncable\":false,\"top_units\":\"screen\"},\"id\":\"4284\",\"type\":\"BoxAnnotation\"},{\"attributes\":{\"source\":{\"id\":\"4292\"}},\"id\":\"4299\",\"type\":\"CDSView\"},{\"attributes\":{\"fill_alpha\":{\"value\":0.2},\"fill_color\":{\"value\":\"#30a2da\"},\"hatch_alpha\":{\"value\":0.2},\"hatch_color\":{\"value\":\"#30a2da\"},\"line_alpha\":{\"value\":0.2},\"line_color\":{\"value\":\"#30a2da\"},\"size\":{\"value\":5.477225575051661},\"x\":{\"field\":\"DraftYear\"},\"y\":{\"field\":\"Pk\"}},\"id\":\"4297\",\"type\":\"Scatter\"},{\"attributes\":{},\"id\":\"4279\",\"type\":\"SaveTool\"},{\"attributes\":{},\"id\":\"4302\",\"type\":\"BasicTickFormatter\"},{\"attributes\":{},\"id\":\"4320\",\"type\":\"UnionRenderers\"},{\"attributes\":{\"children\":[{\"id\":\"4337\"}],\"css_classes\":[\"panel-widget-box\"],\"margin\":[5,5,5,5],\"name\":\"WidgetBox09531\"},\"id\":\"4336\",\"type\":\"Column\"},{\"attributes\":{\"children\":[{\"id\":\"4335\"},{\"id\":\"4336\"},{\"id\":\"4338\"}],\"margin\":[0,0,0,0],\"name\":\"Column09538\"},\"id\":\"4334\",\"type\":\"Column\"},{\"attributes\":{},\"id\":\"4276\",\"type\":\"BasicTicker\"},{\"attributes\":{},\"id\":\"4281\",\"type\":\"WheelZoomTool\"},{\"attributes\":{\"children\":[{\"id\":\"4258\"},{\"id\":\"4262\"},{\"id\":\"4333\"},{\"id\":\"4334\"}],\"margin\":[0,0,0,0],\"name\":\"Row09530\"},\"id\":\"4257\",\"type\":\"Row\"},{\"attributes\":{},\"id\":\"4306\",\"type\":\"AllLabels\"},{\"attributes\":{\"callback\":null,\"renderers\":[{\"id\":\"4298\"}],\"tags\":[\"hv_created\"],\"tooltips\":[[\"DraftYear\",\"@{DraftYear}\"],[\"Pk\",\"@{Pk}\"]]},\"id\":\"4261\",\"type\":\"HoverTool\"},{\"attributes\":{},\"id\":\"4283\",\"type\":\"ResetTool\"},{\"attributes\":{\"fill_alpha\":{\"value\":0.1},\"fill_color\":{\"value\":\"#30a2da\"},\"hatch_alpha\":{\"value\":0.1},\"hatch_color\":{\"value\":\"#30a2da\"},\"line_alpha\":{\"value\":0.1},\"line_color\":{\"value\":\"#30a2da\"},\"size\":{\"value\":5.477225575051661},\"x\":{\"field\":\"DraftYear\"},\"y\":{\"field\":\"Pk\"}},\"id\":\"4296\",\"type\":\"Scatter\"},{\"attributes\":{\"end\":30.7,\"reset_end\":30.7,\"reset_start\":-1.7000000000000002,\"start\":-1.7000000000000002,\"tags\":[[[\"Pk\",\"Pk\",null]]]},\"id\":\"4260\",\"type\":\"Range1d\"},{\"attributes\":{\"margin\":[5,5,5,5],\"name\":\"HSpacer09539\",\"sizing_mode\":\"stretch_width\"},\"id\":\"4258\",\"type\":\"Spacer\"},{\"attributes\":{\"axis_label\":\"Draft Year\",\"coordinates\":null,\"formatter\":{\"id\":\"4302\"},\"group\":null,\"major_label_policy\":{\"id\":\"4303\"},\"ticker\":{\"id\":\"4272\"}},\"id\":\"4271\",\"type\":\"LinearAxis\"},{\"attributes\":{\"axis_label\":\"Pick number\",\"coordinates\":null,\"formatter\":{\"id\":\"4305\"},\"group\":null,\"major_label_policy\":{\"id\":\"4306\"},\"ticker\":{\"id\":\"4276\"}},\"id\":\"4275\",\"type\":\"LinearAxis\"},{\"attributes\":{\"data\":{\"DraftYear\":[2017,2019,2020,2020],\"Pk\":{\"__ndarray__\":\"AAAAAAAA8D8AAAAAAAA0QAAAAAAAADBAAAAAAAAAPEA=\",\"dtype\":\"float64\",\"order\":\"little\",\"shape\":[4]}},\"selected\":{\"id\":\"4293\"},\"selection_policy\":{\"id\":\"4320\"}},\"id\":\"4292\",\"type\":\"ColumnDataSource\"},{\"attributes\":{},\"id\":\"4280\",\"type\":\"PanTool\"},{\"attributes\":{},\"id\":\"4293\",\"type\":\"Selection\"},{\"attributes\":{\"axis\":{\"id\":\"4275\"},\"coordinates\":null,\"dimension\":1,\"grid_line_color\":null,\"group\":null,\"ticker\":null},\"id\":\"4278\",\"type\":\"Grid\"},{\"attributes\":{\"tools\":[{\"id\":\"4261\"},{\"id\":\"4279\"},{\"id\":\"4280\"},{\"id\":\"4281\"},{\"id\":\"4282\"},{\"id\":\"4283\"}]},\"id\":\"4285\",\"type\":\"Toolbar\"},{\"attributes\":{\"axis\":{\"id\":\"4271\"},\"coordinates\":null,\"grid_line_color\":null,\"group\":null,\"ticker\":null},\"id\":\"4274\",\"type\":\"Grid\"},{\"attributes\":{\"margin\":[5,5,5,5],\"name\":\"VSpacer09536\",\"sizing_mode\":\"stretch_height\"},\"id\":\"4335\",\"type\":\"Spacer\"}],\"root_ids\":[\"4257\",\"4369\"]},\"title\":\"Bokeh Application\",\"version\":\"2.4.1\"}};\n",
       "    var render_items = [{\"docid\":\"94bad9d4-96f0-40bb-aa87-22419a9b0ebe\",\"root_ids\":[\"4257\"],\"roots\":{\"4257\":\"74e569c4-81d0-44cc-985b-ad394af63243\"}}];\n",
       "    root.Bokeh.embed.embed_items_notebook(docs_json, render_items);\n",
       "  }\n",
       "  if (root.Bokeh !== undefined && root.Bokeh.Panel !== undefined) {\n",
       "    embed_document(root);\n",
       "  } else {\n",
       "    var attempts = 0;\n",
       "    var timer = setInterval(function(root) {\n",
       "      if (root.Bokeh !== undefined && root.Bokeh.Panel !== undefined) {\n",
       "        clearInterval(timer);\n",
       "        embed_document(root);\n",
       "      } else if (document.readyState == \"complete\") {\n",
       "        attempts++;\n",
       "        if (attempts > 200) {\n",
       "          clearInterval(timer);\n",
       "          console.log(\"Bokeh: ERROR: Unable to run BokehJS code because BokehJS library is missing\");\n",
       "        }\n",
       "      }\n",
       "    }, 25, root)\n",
       "  }\n",
       "})(window);</script>"
      ],
      "text/plain": [
       ":DynamicMap   [College]\n",
       "   :Scatter   [DraftYear]   (Pk)"
      ]
     },
     "execution_count": 335,
     "metadata": {
      "application/vnd.holoviews_exec.v0+json": {
       "id": "4257"
      }
     },
     "output_type": "execute_result"
    }
   ],
   "source": [
    "# Use hvplot to create scatter visualization of school dataframe, which shows the pick rank, number of picks from each college 2017-2021\n",
    "school.hvplot.scatter(\n",
    "    title='Drafted NBA Players Pick Number and Their Colleges 2017-2021',\n",
    "    x='DraftYear',\n",
    "    xlabel='Draft Year',\n",
    "    ylabel='Pick number',\n",
    "    groupby='College'\n",
    ")"
   ]
  },
  {
   "cell_type": "code",
   "execution_count": null,
   "id": "626f7f54-1fbc-46e0-97cb-e42f6e60ba2c",
   "metadata": {},
   "outputs": [],
   "source": []
  },
  {
   "cell_type": "code",
   "execution_count": 336,
   "id": "2e467fae-ec38-44bf-bf01-adc2df116d26",
   "metadata": {},
   "outputs": [
    {
     "data": {
      "text/html": [
       "<div>\n",
       "<style scoped>\n",
       "    .dataframe tbody tr th:only-of-type {\n",
       "        vertical-align: middle;\n",
       "    }\n",
       "\n",
       "    .dataframe tbody tr th {\n",
       "        vertical-align: top;\n",
       "    }\n",
       "\n",
       "    .dataframe thead th {\n",
       "        text-align: right;\n",
       "    }\n",
       "</style>\n",
       "<table border=\"1\" class=\"dataframe\">\n",
       "  <thead>\n",
       "    <tr style=\"text-align: right;\">\n",
       "      <th></th>\n",
       "      <th>Pk</th>\n",
       "      <th>Tm</th>\n",
       "      <th>Player</th>\n",
       "      <th>College</th>\n",
       "      <th>DraftYr</th>\n",
       "      <th>MPG</th>\n",
       "      <th>PPG</th>\n",
       "      <th>RPG</th>\n",
       "      <th>APG</th>\n",
       "      <th>FG%</th>\n",
       "      <th>3P%</th>\n",
       "      <th>FT%</th>\n",
       "      <th>Pos</th>\n",
       "      <th>Rk</th>\n",
       "    </tr>\n",
       "    <tr>\n",
       "      <th>DraftYear</th>\n",
       "      <th></th>\n",
       "      <th></th>\n",
       "      <th></th>\n",
       "      <th></th>\n",
       "      <th></th>\n",
       "      <th></th>\n",
       "      <th></th>\n",
       "      <th></th>\n",
       "      <th></th>\n",
       "      <th></th>\n",
       "      <th></th>\n",
       "      <th></th>\n",
       "      <th></th>\n",
       "      <th></th>\n",
       "    </tr>\n",
       "  </thead>\n",
       "  <tbody>\n",
       "    <tr>\n",
       "      <th>2017</th>\n",
       "      <td>1.0</td>\n",
       "      <td>PHI</td>\n",
       "      <td>Markelle Fultz</td>\n",
       "      <td>Washington</td>\n",
       "      <td>2017.0</td>\n",
       "      <td>25.6</td>\n",
       "      <td>10.9</td>\n",
       "      <td>3.3</td>\n",
       "      <td>4.6</td>\n",
       "      <td>0.447</td>\n",
       "      <td>0.265</td>\n",
       "      <td>0.695</td>\n",
       "      <td>SG</td>\n",
       "      <td>1.0</td>\n",
       "    </tr>\n",
       "    <tr>\n",
       "      <th>2017</th>\n",
       "      <td>2.0</td>\n",
       "      <td>LAL</td>\n",
       "      <td>Lonzo Ball</td>\n",
       "      <td>UCLA</td>\n",
       "      <td>2017.0</td>\n",
       "      <td>32.5</td>\n",
       "      <td>11.9</td>\n",
       "      <td>5.7</td>\n",
       "      <td>6.2</td>\n",
       "      <td>0.400</td>\n",
       "      <td>0.364</td>\n",
       "      <td>0.578</td>\n",
       "      <td>PG</td>\n",
       "      <td>2.0</td>\n",
       "    </tr>\n",
       "    <tr>\n",
       "      <th>2017</th>\n",
       "      <td>3.0</td>\n",
       "      <td>BOS</td>\n",
       "      <td>Jayson Tatum</td>\n",
       "      <td>Duke</td>\n",
       "      <td>2017.0</td>\n",
       "      <td>33.3</td>\n",
       "      <td>20.4</td>\n",
       "      <td>6.6</td>\n",
       "      <td>2.9</td>\n",
       "      <td>0.453</td>\n",
       "      <td>0.380</td>\n",
       "      <td>0.842</td>\n",
       "      <td>SF</td>\n",
       "      <td>3.0</td>\n",
       "    </tr>\n",
       "    <tr>\n",
       "      <th>2017</th>\n",
       "      <td>4.0</td>\n",
       "      <td>PHO</td>\n",
       "      <td>Josh Jackson</td>\n",
       "      <td>Kansas</td>\n",
       "      <td>2017.0</td>\n",
       "      <td>23.6</td>\n",
       "      <td>11.5</td>\n",
       "      <td>4.1</td>\n",
       "      <td>1.9</td>\n",
       "      <td>0.417</td>\n",
       "      <td>0.293</td>\n",
       "      <td>0.679</td>\n",
       "      <td>SF</td>\n",
       "      <td>4.0</td>\n",
       "    </tr>\n",
       "    <tr>\n",
       "      <th>2017</th>\n",
       "      <td>5.0</td>\n",
       "      <td>SAC</td>\n",
       "      <td>De'Aaron Fox</td>\n",
       "      <td>Kentucky</td>\n",
       "      <td>2017.0</td>\n",
       "      <td>31.8</td>\n",
       "      <td>18.7</td>\n",
       "      <td>3.5</td>\n",
       "      <td>6.2</td>\n",
       "      <td>0.459</td>\n",
       "      <td>0.317</td>\n",
       "      <td>0.725</td>\n",
       "      <td>PG</td>\n",
       "      <td>5.0</td>\n",
       "    </tr>\n",
       "    <tr>\n",
       "      <th>...</th>\n",
       "      <td>...</td>\n",
       "      <td>...</td>\n",
       "      <td>...</td>\n",
       "      <td>...</td>\n",
       "      <td>...</td>\n",
       "      <td>...</td>\n",
       "      <td>...</td>\n",
       "      <td>...</td>\n",
       "      <td>...</td>\n",
       "      <td>...</td>\n",
       "      <td>...</td>\n",
       "      <td>...</td>\n",
       "      <td>...</td>\n",
       "      <td>...</td>\n",
       "    </tr>\n",
       "    <tr>\n",
       "      <th>2021</th>\n",
       "      <td>26.0</td>\n",
       "      <td>DEN</td>\n",
       "      <td>Bones Hyland</td>\n",
       "      <td>VCU</td>\n",
       "      <td>2021.0</td>\n",
       "      <td>18.0</td>\n",
       "      <td>8.8</td>\n",
       "      <td>2.7</td>\n",
       "      <td>2.0</td>\n",
       "      <td>0.369</td>\n",
       "      <td>0.346</td>\n",
       "      <td>0.881</td>\n",
       "      <td>PG</td>\n",
       "      <td>26.0</td>\n",
       "    </tr>\n",
       "    <tr>\n",
       "      <th>2021</th>\n",
       "      <td>27.0</td>\n",
       "      <td>BRK</td>\n",
       "      <td>Cam Thomas</td>\n",
       "      <td>LSU</td>\n",
       "      <td>2021.0</td>\n",
       "      <td>19.6</td>\n",
       "      <td>9.8</td>\n",
       "      <td>2.6</td>\n",
       "      <td>1.3</td>\n",
       "      <td>0.445</td>\n",
       "      <td>0.273</td>\n",
       "      <td>0.808</td>\n",
       "      <td>SG</td>\n",
       "      <td>27.0</td>\n",
       "    </tr>\n",
       "    <tr>\n",
       "      <th>2021</th>\n",
       "      <td>28.0</td>\n",
       "      <td>PHI</td>\n",
       "      <td>Jaden Springer</td>\n",
       "      <td>Tennessee</td>\n",
       "      <td>2021.0</td>\n",
       "      <td>3.0</td>\n",
       "      <td>1.0</td>\n",
       "      <td>1.0</td>\n",
       "      <td>0.0</td>\n",
       "      <td>1.000</td>\n",
       "      <td>NaN</td>\n",
       "      <td>NaN</td>\n",
       "      <td>SG</td>\n",
       "      <td>28.0</td>\n",
       "    </tr>\n",
       "    <tr>\n",
       "      <th>2021</th>\n",
       "      <td>29.0</td>\n",
       "      <td>PHO</td>\n",
       "      <td>Day'Ron Sharpe</td>\n",
       "      <td>UNC</td>\n",
       "      <td>2021.0</td>\n",
       "      <td>12.4</td>\n",
       "      <td>6.1</td>\n",
       "      <td>5.1</td>\n",
       "      <td>0.5</td>\n",
       "      <td>0.571</td>\n",
       "      <td>0.250</td>\n",
       "      <td>0.568</td>\n",
       "      <td>C</td>\n",
       "      <td>29.0</td>\n",
       "    </tr>\n",
       "    <tr>\n",
       "      <th>2021</th>\n",
       "      <td>30.0</td>\n",
       "      <td>UTA</td>\n",
       "      <td>Santi Aldama</td>\n",
       "      <td>Loyola (MD)</td>\n",
       "      <td>2021.0</td>\n",
       "      <td>10.3</td>\n",
       "      <td>3.3</td>\n",
       "      <td>2.4</td>\n",
       "      <td>0.5</td>\n",
       "      <td>0.381</td>\n",
       "      <td>0.103</td>\n",
       "      <td>0.600</td>\n",
       "      <td>F/C</td>\n",
       "      <td>30.0</td>\n",
       "    </tr>\n",
       "  </tbody>\n",
       "</table>\n",
       "<p>150 rows × 14 columns</p>\n",
       "</div>"
      ],
      "text/plain": [
       "             Pk   Tm          Player      College  DraftYr   MPG   PPG  RPG  \\\n",
       "DraftYear                                                                     \n",
       "2017        1.0  PHI  Markelle Fultz   Washington   2017.0  25.6  10.9  3.3   \n",
       "2017        2.0  LAL      Lonzo Ball         UCLA   2017.0  32.5  11.9  5.7   \n",
       "2017        3.0  BOS    Jayson Tatum         Duke   2017.0  33.3  20.4  6.6   \n",
       "2017        4.0  PHO    Josh Jackson       Kansas   2017.0  23.6  11.5  4.1   \n",
       "2017        5.0  SAC    De'Aaron Fox     Kentucky   2017.0  31.8  18.7  3.5   \n",
       "...         ...  ...             ...          ...      ...   ...   ...  ...   \n",
       "2021       26.0  DEN    Bones Hyland          VCU   2021.0  18.0   8.8  2.7   \n",
       "2021       27.0  BRK      Cam Thomas          LSU   2021.0  19.6   9.8  2.6   \n",
       "2021       28.0  PHI  Jaden Springer    Tennessee   2021.0   3.0   1.0  1.0   \n",
       "2021       29.0  PHO  Day'Ron Sharpe          UNC   2021.0  12.4   6.1  5.1   \n",
       "2021       30.0  UTA    Santi Aldama  Loyola (MD)   2021.0  10.3   3.3  2.4   \n",
       "\n",
       "           APG    FG%    3P%    FT%  Pos    Rk  \n",
       "DraftYear                                       \n",
       "2017       4.6  0.447  0.265  0.695   SG   1.0  \n",
       "2017       6.2  0.400  0.364  0.578   PG   2.0  \n",
       "2017       2.9  0.453  0.380  0.842   SF   3.0  \n",
       "2017       1.9  0.417  0.293  0.679   SF   4.0  \n",
       "2017       6.2  0.459  0.317  0.725   PG   5.0  \n",
       "...        ...    ...    ...    ...  ...   ...  \n",
       "2021       2.0  0.369  0.346  0.881   PG  26.0  \n",
       "2021       1.3  0.445  0.273  0.808   SG  27.0  \n",
       "2021       0.0  1.000    NaN    NaN   SG  28.0  \n",
       "2021       0.5  0.571  0.250  0.568    C  29.0  \n",
       "2021       0.5  0.381  0.103  0.600  F/C  30.0  \n",
       "\n",
       "[150 rows x 14 columns]"
      ]
     },
     "execution_count": 336,
     "metadata": {},
     "output_type": "execute_result"
    }
   ],
   "source": [
    "# Display selected data in the dataframe\n",
    "last_5_yrs_1_rnd_draft_df"
   ]
  },
  {
   "cell_type": "code",
   "execution_count": null,
   "id": "e018cda5-8c4c-40a4-8aca-de23edb226e8",
   "metadata": {},
   "outputs": [],
   "source": []
  },
  {
   "cell_type": "code",
   "execution_count": 337,
   "id": "a01b1edc-bc3b-49ca-89cf-a4310172cf18",
   "metadata": {},
   "outputs": [],
   "source": [
    "# Select evaluation parameters for correlation datafram and convert it to correlation dataframe\n",
    "corr_df = last_5_yrs_1_rnd_draft_df[['MPG','PPG', 'RPG', 'APG','FG%', '3P%','FT%']].corr()\n",
    "# Review the correlation dataframe\n"
   ]
  },
  {
   "cell_type": "code",
   "execution_count": 338,
   "id": "609e3bfa-6aaa-4a01-ab7c-7c69ae739f67",
   "metadata": {},
   "outputs": [
    {
     "data": {
      "text/plain": [
       "<AxesSubplot:>"
      ]
     },
     "execution_count": 338,
     "metadata": {},
     "output_type": "execute_result"
    },
    {
     "data": {
      "image/png": "[encoded data removed]",
      "text/plain": [
       "<Figure size 432x288 with 2 Axes>"
      ]
     },
     "metadata": {
      "needs_background": "light"
     },
     "output_type": "display_data"
    }
   ],
   "source": [
    "# Use Seaborn heatmap to visualize the correlations of each parameter with Contract Worth\n",
    "sns.heatmap(corr_df, vmin = -1, vmax=1, cmap='inferno')"
   ]
  },
  {
   "cell_type": "markdown",
   "id": "2a71149c-bae8-4bbd-ab90-460cd7d33a4d",
   "metadata": {},
   "source": [
    "### Discover that FG%, 3P%, and FT% are more correlated to players contract worth than other parameters. Also proves, in reality, the more points a player can score for a team the better."
   ]
  },
  {
   "cell_type": "code",
   "execution_count": null,
   "id": "4161108d-84b0-40ec-8098-8212db845332",
   "metadata": {},
   "outputs": [],
   "source": []
  },
  {
   "cell_type": "code",
   "execution_count": 339,
   "id": "661b90ec-e86c-41f9-bed9-3232a4b11dd0",
   "metadata": {},
   "outputs": [
    {
     "data": {
      "text/html": [
       "<div>\n",
       "<style scoped>\n",
       "    .dataframe tbody tr th:only-of-type {\n",
       "        vertical-align: middle;\n",
       "    }\n",
       "\n",
       "    .dataframe tbody tr th {\n",
       "        vertical-align: top;\n",
       "    }\n",
       "\n",
       "    .dataframe thead th {\n",
       "        text-align: right;\n",
       "    }\n",
       "</style>\n",
       "<table border=\"1\" class=\"dataframe\">\n",
       "  <thead>\n",
       "    <tr style=\"text-align: right;\">\n",
       "      <th></th>\n",
       "      <th>Pk</th>\n",
       "      <th>Tm</th>\n",
       "      <th>Player</th>\n",
       "      <th>College</th>\n",
       "      <th>DraftYr</th>\n",
       "      <th>MPG</th>\n",
       "      <th>PPG</th>\n",
       "      <th>RPG</th>\n",
       "      <th>APG</th>\n",
       "      <th>FG%</th>\n",
       "      <th>3P%</th>\n",
       "      <th>FT%</th>\n",
       "      <th>Pos</th>\n",
       "      <th>Rk</th>\n",
       "    </tr>\n",
       "    <tr>\n",
       "      <th>DraftYear</th>\n",
       "      <th></th>\n",
       "      <th></th>\n",
       "      <th></th>\n",
       "      <th></th>\n",
       "      <th></th>\n",
       "      <th></th>\n",
       "      <th></th>\n",
       "      <th></th>\n",
       "      <th></th>\n",
       "      <th></th>\n",
       "      <th></th>\n",
       "      <th></th>\n",
       "      <th></th>\n",
       "      <th></th>\n",
       "    </tr>\n",
       "  </thead>\n",
       "  <tbody>\n",
       "    <tr>\n",
       "      <th>2017</th>\n",
       "      <td>1.0</td>\n",
       "      <td>PHI</td>\n",
       "      <td>Markelle Fultz</td>\n",
       "      <td>Washington</td>\n",
       "      <td>2017.0</td>\n",
       "      <td>25.6</td>\n",
       "      <td>10.9</td>\n",
       "      <td>3.3</td>\n",
       "      <td>4.6</td>\n",
       "      <td>0.447</td>\n",
       "      <td>0.265</td>\n",
       "      <td>0.695</td>\n",
       "      <td>SG</td>\n",
       "      <td>1.0</td>\n",
       "    </tr>\n",
       "    <tr>\n",
       "      <th>2017</th>\n",
       "      <td>2.0</td>\n",
       "      <td>LAL</td>\n",
       "      <td>Lonzo Ball</td>\n",
       "      <td>UCLA</td>\n",
       "      <td>2017.0</td>\n",
       "      <td>32.5</td>\n",
       "      <td>11.9</td>\n",
       "      <td>5.7</td>\n",
       "      <td>6.2</td>\n",
       "      <td>0.400</td>\n",
       "      <td>0.364</td>\n",
       "      <td>0.578</td>\n",
       "      <td>PG</td>\n",
       "      <td>2.0</td>\n",
       "    </tr>\n",
       "    <tr>\n",
       "      <th>2017</th>\n",
       "      <td>3.0</td>\n",
       "      <td>BOS</td>\n",
       "      <td>Jayson Tatum</td>\n",
       "      <td>Duke</td>\n",
       "      <td>2017.0</td>\n",
       "      <td>33.3</td>\n",
       "      <td>20.4</td>\n",
       "      <td>6.6</td>\n",
       "      <td>2.9</td>\n",
       "      <td>0.453</td>\n",
       "      <td>0.380</td>\n",
       "      <td>0.842</td>\n",
       "      <td>SF</td>\n",
       "      <td>3.0</td>\n",
       "    </tr>\n",
       "    <tr>\n",
       "      <th>2017</th>\n",
       "      <td>4.0</td>\n",
       "      <td>PHO</td>\n",
       "      <td>Josh Jackson</td>\n",
       "      <td>Kansas</td>\n",
       "      <td>2017.0</td>\n",
       "      <td>23.6</td>\n",
       "      <td>11.5</td>\n",
       "      <td>4.1</td>\n",
       "      <td>1.9</td>\n",
       "      <td>0.417</td>\n",
       "      <td>0.293</td>\n",
       "      <td>0.679</td>\n",
       "      <td>SF</td>\n",
       "      <td>4.0</td>\n",
       "    </tr>\n",
       "    <tr>\n",
       "      <th>2017</th>\n",
       "      <td>5.0</td>\n",
       "      <td>SAC</td>\n",
       "      <td>De'Aaron Fox</td>\n",
       "      <td>Kentucky</td>\n",
       "      <td>2017.0</td>\n",
       "      <td>31.8</td>\n",
       "      <td>18.7</td>\n",
       "      <td>3.5</td>\n",
       "      <td>6.2</td>\n",
       "      <td>0.459</td>\n",
       "      <td>0.317</td>\n",
       "      <td>0.725</td>\n",
       "      <td>PG</td>\n",
       "      <td>5.0</td>\n",
       "    </tr>\n",
       "  </tbody>\n",
       "</table>\n",
       "</div>"
      ],
      "text/plain": [
       "            Pk   Tm          Player     College  DraftYr   MPG   PPG  RPG  \\\n",
       "DraftYear                                                                   \n",
       "2017       1.0  PHI  Markelle Fultz  Washington   2017.0  25.6  10.9  3.3   \n",
       "2017       2.0  LAL      Lonzo Ball        UCLA   2017.0  32.5  11.9  5.7   \n",
       "2017       3.0  BOS    Jayson Tatum        Duke   2017.0  33.3  20.4  6.6   \n",
       "2017       4.0  PHO    Josh Jackson      Kansas   2017.0  23.6  11.5  4.1   \n",
       "2017       5.0  SAC    De'Aaron Fox    Kentucky   2017.0  31.8  18.7  3.5   \n",
       "\n",
       "           APG    FG%    3P%    FT% Pos   Rk  \n",
       "DraftYear                                     \n",
       "2017       4.6  0.447  0.265  0.695  SG  1.0  \n",
       "2017       6.2  0.400  0.364  0.578  PG  2.0  \n",
       "2017       2.9  0.453  0.380  0.842  SF  3.0  \n",
       "2017       1.9  0.417  0.293  0.679  SF  4.0  \n",
       "2017       6.2  0.459  0.317  0.725  PG  5.0  "
      ]
     },
     "execution_count": 339,
     "metadata": {},
     "output_type": "execute_result"
    }
   ],
   "source": [
    "# Filter the last_5_yrs_1_rnd_draft_df dataframe to get top 5 picks (Pick number 1-5) data of each year (2017-2021) and save as group_a_df\n",
    "group_a_df = last_5_yrs_1_rnd_draft_df.loc[last_5_yrs_1_rnd_draft_df['Pk'] <=5]\n",
    "# Review group A dataframe\n",
    "group_a_df.head()"
   ]
  },
  {
   "cell_type": "code",
   "execution_count": 340,
   "id": "76ddeee4-17fd-43f5-89f0-26a45920a3f5",
   "metadata": {},
   "outputs": [],
   "source": [
    "# Filter the last_5_yrs_1_rnd_draft_df dataframe to get middle 5 picks (Pick number 13-17) data of each year (2017-2021) and save as group_b_df\n",
    "group_b_df = last_5_yrs_1_rnd_draft_df.loc[(last_5_yrs_1_rnd_draft_df['Pk'] >=13) & (last_5_yrs_1_rnd_draft_df['Pk'] <=17)]"
   ]
  },
  {
   "cell_type": "code",
   "execution_count": 341,
   "id": "a7cc22ca-c613-45b0-bb32-448cf7b7be49",
   "metadata": {},
   "outputs": [],
   "source": [
    "# Filter the last_5_yrs_1_rnd_draft_df dataframe to get last 5 picks (Pick number 26-30) data of each year (2017-2021) and save as group_c_df\n",
    "group_c_df = last_5_yrs_1_rnd_draft_df.loc[last_5_yrs_1_rnd_draft_df['Pk'] >=26]"
   ]
  },
  {
   "cell_type": "code",
   "execution_count": null,
   "id": "f69de540-bb06-4010-b64a-f7c8b3aaf29e",
   "metadata": {},
   "outputs": [],
   "source": []
  },
  {
   "cell_type": "code",
   "execution_count": null,
   "id": "86a6b15a-83bf-4de6-ab05-ea93649ccb6d",
   "metadata": {},
   "outputs": [],
   "source": []
  },
  {
   "cell_type": "code",
   "execution_count": null,
   "id": "e4cc4deb-f1ac-4a7d-8fce-304cbf6f37cd",
   "metadata": {},
   "outputs": [],
   "source": []
  },
  {
   "cell_type": "code",
   "execution_count": 206,
   "id": "720caab3-dc10-4fd7-9243-48282c6d3282",
   "metadata": {},
   "outputs": [
    {
     "data": {
      "text/html": [
       "<div>\n",
       "<style scoped>\n",
       "    .dataframe tbody tr th:only-of-type {\n",
       "        vertical-align: middle;\n",
       "    }\n",
       "\n",
       "    .dataframe tbody tr th {\n",
       "        vertical-align: top;\n",
       "    }\n",
       "\n",
       "    .dataframe thead th {\n",
       "        text-align: right;\n",
       "    }\n",
       "</style>\n",
       "<table border=\"1\" class=\"dataframe\">\n",
       "  <thead>\n",
       "    <tr style=\"text-align: right;\">\n",
       "      <th></th>\n",
       "      <th>Group A MPG</th>\n",
       "    </tr>\n",
       "    <tr>\n",
       "      <th>DraftYear</th>\n",
       "      <th></th>\n",
       "    </tr>\n",
       "  </thead>\n",
       "  <tbody>\n",
       "    <tr>\n",
       "      <th>2017</th>\n",
       "      <td>25.6</td>\n",
       "    </tr>\n",
       "    <tr>\n",
       "      <th>2017</th>\n",
       "      <td>32.5</td>\n",
       "    </tr>\n",
       "    <tr>\n",
       "      <th>2017</th>\n",
       "      <td>33.3</td>\n",
       "    </tr>\n",
       "    <tr>\n",
       "      <th>2017</th>\n",
       "      <td>23.6</td>\n",
       "    </tr>\n",
       "    <tr>\n",
       "      <th>2017</th>\n",
       "      <td>31.8</td>\n",
       "    </tr>\n",
       "  </tbody>\n",
       "</table>\n",
       "</div>"
      ],
      "text/plain": [
       "           Group A MPG\n",
       "DraftYear             \n",
       "2017              25.6\n",
       "2017              32.5\n",
       "2017              33.3\n",
       "2017              23.6\n",
       "2017              31.8"
      ]
     },
     "execution_count": 206,
     "metadata": {},
     "output_type": "execute_result"
    }
   ],
   "source": [
    "# Select group A MPG data: rename the column and save it into a new dataframe\n",
    "group_a_mpg = pd.DataFrame(group_a_df[['MPG']])\n",
    "group_a_mpg.rename(columns = {'MPG': 'Group A MPG'}, inplace = True)\n",
    "# Review group A MPG dataframe\n",
    "group_a_mpg.head()"
   ]
  },
  {
   "cell_type": "code",
   "execution_count": 207,
   "id": "db33ee16-1bca-40f6-8fe8-f5a3c5a500e0",
   "metadata": {},
   "outputs": [],
   "source": [
    "# Select group B MPG data: rename the column and save it into a new dataframe\n",
    "group_b_mpg = pd.DataFrame(group_b_df[['MPG']])\n",
    "group_b_mpg.rename(columns = {'MPG': 'Group B MPG'}, inplace = True)\n",
    "\n",
    "# # Select group C MPG data: rename the column and save it into a new dataframe\n",
    "group_c_mpg = pd.DataFrame(group_c_df[['MPG']])\n",
    "group_c_mpg.rename(columns = {'MPG': 'Group C MPG'}, inplace = True)"
   ]
  },
  {
   "cell_type": "code",
   "execution_count": 208,
   "id": "f8072650-6dcc-49ca-a089-f90409abbbcc",
   "metadata": {},
   "outputs": [
    {
     "data": {
      "text/html": [
       "<div>\n",
       "<style scoped>\n",
       "    .dataframe tbody tr th:only-of-type {\n",
       "        vertical-align: middle;\n",
       "    }\n",
       "\n",
       "    .dataframe tbody tr th {\n",
       "        vertical-align: top;\n",
       "    }\n",
       "\n",
       "    .dataframe thead th {\n",
       "        text-align: right;\n",
       "    }\n",
       "</style>\n",
       "<table border=\"1\" class=\"dataframe\">\n",
       "  <thead>\n",
       "    <tr style=\"text-align: right;\">\n",
       "      <th></th>\n",
       "      <th>Group A MPG</th>\n",
       "      <th>Group B MPG</th>\n",
       "      <th>Group C MPG</th>\n",
       "    </tr>\n",
       "    <tr>\n",
       "      <th>DraftYear</th>\n",
       "      <th></th>\n",
       "      <th></th>\n",
       "      <th></th>\n",
       "    </tr>\n",
       "  </thead>\n",
       "  <tbody>\n",
       "    <tr>\n",
       "      <th>2017</th>\n",
       "      <td>25.6</td>\n",
       "      <td>33.7</td>\n",
       "      <td>8.7</td>\n",
       "    </tr>\n",
       "    <tr>\n",
       "      <th>2017</th>\n",
       "      <td>32.5</td>\n",
       "      <td>28.0</td>\n",
       "      <td>30.3</td>\n",
       "    </tr>\n",
       "    <tr>\n",
       "      <th>2017</th>\n",
       "      <td>33.3</td>\n",
       "      <td>18.7</td>\n",
       "      <td>12.2</td>\n",
       "    </tr>\n",
       "    <tr>\n",
       "      <th>2017</th>\n",
       "      <td>23.6</td>\n",
       "      <td>13.5</td>\n",
       "      <td>25.8</td>\n",
       "    </tr>\n",
       "    <tr>\n",
       "      <th>2017</th>\n",
       "      <td>31.8</td>\n",
       "      <td>12.4</td>\n",
       "      <td>27.1</td>\n",
       "    </tr>\n",
       "  </tbody>\n",
       "</table>\n",
       "</div>"
      ],
      "text/plain": [
       "           Group A MPG  Group B MPG  Group C MPG\n",
       "DraftYear                                       \n",
       "2017              25.6         33.7          8.7\n",
       "2017              32.5         28.0         30.3\n",
       "2017              33.3         18.7         12.2\n",
       "2017              23.6         13.5         25.8\n",
       "2017              31.8         12.4         27.1"
      ]
     },
     "execution_count": 208,
     "metadata": {},
     "output_type": "execute_result"
    }
   ],
   "source": [
    "# Concat 3 groups MPG dataframes and save it as all_goup_mpg_df\n",
    "all_groups_mpg = [group_a_mpg, group_b_mpg, group_c_mpg]\n",
    "all_group_mpg_df = pd.concat(all_groups_mpg, axis = 1)\n",
    "# Review the dataframe\n",
    "all_group_mpg_df.head()"
   ]
  },
  {
   "cell_type": "code",
   "execution_count": 209,
   "id": "1460719e-899f-4fdc-8007-9b6031ddfc11",
   "metadata": {},
   "outputs": [
    {
     "data": {
      "text/html": [
       "<div>\n",
       "<style scoped>\n",
       "    .dataframe tbody tr th:only-of-type {\n",
       "        vertical-align: middle;\n",
       "    }\n",
       "\n",
       "    .dataframe tbody tr th {\n",
       "        vertical-align: top;\n",
       "    }\n",
       "\n",
       "    .dataframe thead th {\n",
       "        text-align: right;\n",
       "    }\n",
       "</style>\n",
       "<table border=\"1\" class=\"dataframe\">\n",
       "  <thead>\n",
       "    <tr style=\"text-align: right;\">\n",
       "      <th></th>\n",
       "      <th>Group A MPG</th>\n",
       "      <th>Group B MPG</th>\n",
       "      <th>Group C MPG</th>\n",
       "    </tr>\n",
       "  </thead>\n",
       "  <tbody>\n",
       "    <tr>\n",
       "      <th>count</th>\n",
       "      <td>25.000000</td>\n",
       "      <td>25.000000</td>\n",
       "      <td>25.000000</td>\n",
       "    </tr>\n",
       "    <tr>\n",
       "      <th>mean</th>\n",
       "      <td>30.440000</td>\n",
       "      <td>19.876000</td>\n",
       "      <td>17.516000</td>\n",
       "    </tr>\n",
       "    <tr>\n",
       "      <th>std</th>\n",
       "      <td>3.564875</td>\n",
       "      <td>6.696969</td>\n",
       "      <td>7.851416</td>\n",
       "    </tr>\n",
       "    <tr>\n",
       "      <th>min</th>\n",
       "      <td>21.400000</td>\n",
       "      <td>9.500000</td>\n",
       "      <td>3.000000</td>\n",
       "    </tr>\n",
       "    <tr>\n",
       "      <th>25%</th>\n",
       "      <td>28.200000</td>\n",
       "      <td>14.200000</td>\n",
       "      <td>10.700000</td>\n",
       "    </tr>\n",
       "    <tr>\n",
       "      <th>50%</th>\n",
       "      <td>31.700000</td>\n",
       "      <td>19.200000</td>\n",
       "      <td>17.800000</td>\n",
       "    </tr>\n",
       "    <tr>\n",
       "      <th>75%</th>\n",
       "      <td>33.000000</td>\n",
       "      <td>24.500000</td>\n",
       "      <td>25.100000</td>\n",
       "    </tr>\n",
       "    <tr>\n",
       "      <th>max</th>\n",
       "      <td>35.400000</td>\n",
       "      <td>33.700000</td>\n",
       "      <td>30.300000</td>\n",
       "    </tr>\n",
       "  </tbody>\n",
       "</table>\n",
       "</div>"
      ],
      "text/plain": [
       "       Group A MPG  Group B MPG  Group C MPG\n",
       "count    25.000000    25.000000    25.000000\n",
       "mean     30.440000    19.876000    17.516000\n",
       "std       3.564875     6.696969     7.851416\n",
       "min      21.400000     9.500000     3.000000\n",
       "25%      28.200000    14.200000    10.700000\n",
       "50%      31.700000    19.200000    17.800000\n",
       "75%      33.000000    24.500000    25.100000\n",
       "max      35.400000    33.700000    30.300000"
      ]
     },
     "execution_count": 209,
     "metadata": {},
     "output_type": "execute_result"
    }
   ],
   "source": [
    "# Get a summary of all groups MPG data\n",
    "all_group_mpg_df.describe()"
   ]
  },
  {
   "cell_type": "code",
   "execution_count": 210,
   "id": "6ad7901a-f461-4216-bed5-dea30b373a8c",
   "metadata": {},
   "outputs": [
    {
     "data": {
      "text/plain": [
       "<AxesSubplot:>"
      ]
     },
     "execution_count": 210,
     "metadata": {},
     "output_type": "execute_result"
    },
    {
     "data": {
      "image/png": "[encoded data removed]",
      "text/plain": [
       "<Figure size 432x288 with 1 Axes>"
      ]
     },
     "metadata": {
      "needs_background": "light"
     },
     "output_type": "display_data"
    }
   ],
   "source": [
    "# Visualize all groups MPG data using box plot\n",
    "all_group_mpg_df.plot.box()"
   ]
  },
  {
   "cell_type": "code",
   "execution_count": null,
   "id": "3d3f8b39-8e0c-4fb2-8c5e-7c80f80e3db4",
   "metadata": {},
   "outputs": [],
   "source": []
  },
  {
   "cell_type": "code",
   "execution_count": 211,
   "id": "43aac3c7-b6c8-49cf-b8c5-3b6d141e4c2e",
   "metadata": {},
   "outputs": [],
   "source": [
    "# Select group A PPG data: rename the column and save it into a new dataframe\n",
    "group_a_ppg = pd.DataFrame(group_a_df[['PPG']])\n",
    "group_a_ppg.rename(columns = {'PPG': 'Group A PPG'}, inplace = True)\n",
    "# Select group B PPG data: rename the column and save it into a new dataframe\n",
    "group_b_ppg = pd.DataFrame(group_b_df[['PPG']])\n",
    "group_b_ppg.rename(columns = {'PPG': 'Group B PPG'}, inplace = True)\n",
    "# Select group C PPG data: rename the column and save it into a new dataframe\n",
    "group_c_ppg = pd.DataFrame(group_c_df[['PPG']])\n",
    "group_c_ppg.rename(columns = {'PPG': 'Group C PPG'}, inplace = True)"
   ]
  },
  {
   "cell_type": "code",
   "execution_count": 212,
   "id": "0622e15a-9376-46a9-83b8-5ac92f7f9f5c",
   "metadata": {},
   "outputs": [
    {
     "data": {
      "text/html": [
       "<div>\n",
       "<style scoped>\n",
       "    .dataframe tbody tr th:only-of-type {\n",
       "        vertical-align: middle;\n",
       "    }\n",
       "\n",
       "    .dataframe tbody tr th {\n",
       "        vertical-align: top;\n",
       "    }\n",
       "\n",
       "    .dataframe thead th {\n",
       "        text-align: right;\n",
       "    }\n",
       "</style>\n",
       "<table border=\"1\" class=\"dataframe\">\n",
       "  <thead>\n",
       "    <tr style=\"text-align: right;\">\n",
       "      <th></th>\n",
       "      <th>Group A PPG</th>\n",
       "      <th>Group B PPG</th>\n",
       "      <th>Group C PPG</th>\n",
       "    </tr>\n",
       "    <tr>\n",
       "      <th>DraftYear</th>\n",
       "      <th></th>\n",
       "      <th></th>\n",
       "      <th></th>\n",
       "    </tr>\n",
       "  </thead>\n",
       "  <tbody>\n",
       "    <tr>\n",
       "      <th>2017</th>\n",
       "      <td>10.9</td>\n",
       "      <td>23.7</td>\n",
       "      <td>2.3</td>\n",
       "    </tr>\n",
       "    <tr>\n",
       "      <th>2017</th>\n",
       "      <td>11.9</td>\n",
       "      <td>13.0</td>\n",
       "      <td>15.4</td>\n",
       "    </tr>\n",
       "    <tr>\n",
       "      <th>2017</th>\n",
       "      <td>20.4</td>\n",
       "      <td>6.5</td>\n",
       "      <td>4.8</td>\n",
       "    </tr>\n",
       "    <tr>\n",
       "      <th>2017</th>\n",
       "      <td>11.5</td>\n",
       "      <td>3.9</td>\n",
       "      <td>11.6</td>\n",
       "    </tr>\n",
       "    <tr>\n",
       "      <th>2017</th>\n",
       "      <td>18.7</td>\n",
       "      <td>4.4</td>\n",
       "      <td>9.5</td>\n",
       "    </tr>\n",
       "  </tbody>\n",
       "</table>\n",
       "</div>"
      ],
      "text/plain": [
       "           Group A PPG  Group B PPG  Group C PPG\n",
       "DraftYear                                       \n",
       "2017              10.9         23.7          2.3\n",
       "2017              11.9         13.0         15.4\n",
       "2017              20.4          6.5          4.8\n",
       "2017              11.5          3.9         11.6\n",
       "2017              18.7          4.4          9.5"
      ]
     },
     "execution_count": 212,
     "metadata": {},
     "output_type": "execute_result"
    }
   ],
   "source": [
    "# Concat 3 groups PPG dataframes and save it as all_goup_ppg_df\n",
    "all_groups_ppg = [group_a_ppg, group_b_ppg, group_c_ppg]\n",
    "all_group_ppg_df = pd.concat(all_groups_ppg, axis = 1)\n",
    "# Review the dataframe\n",
    "all_group_ppg_df.head()"
   ]
  },
  {
   "cell_type": "code",
   "execution_count": 213,
   "id": "503224cb-9a55-430b-9e36-76dd5fd0b6bb",
   "metadata": {},
   "outputs": [
    {
     "data": {
      "text/html": [
       "<div>\n",
       "<style scoped>\n",
       "    .dataframe tbody tr th:only-of-type {\n",
       "        vertical-align: middle;\n",
       "    }\n",
       "\n",
       "    .dataframe tbody tr th {\n",
       "        vertical-align: top;\n",
       "    }\n",
       "\n",
       "    .dataframe thead th {\n",
       "        text-align: right;\n",
       "    }\n",
       "</style>\n",
       "<table border=\"1\" class=\"dataframe\">\n",
       "  <thead>\n",
       "    <tr style=\"text-align: right;\">\n",
       "      <th></th>\n",
       "      <th>Group A PPG</th>\n",
       "      <th>Group B PPG</th>\n",
       "      <th>Group C PPG</th>\n",
       "    </tr>\n",
       "  </thead>\n",
       "  <tbody>\n",
       "    <tr>\n",
       "      <th>count</th>\n",
       "      <td>25.000000</td>\n",
       "      <td>25.00000</td>\n",
       "      <td>25.000000</td>\n",
       "    </tr>\n",
       "    <tr>\n",
       "      <th>mean</th>\n",
       "      <td>16.096000</td>\n",
       "      <td>8.35600</td>\n",
       "      <td>7.328000</td>\n",
       "    </tr>\n",
       "    <tr>\n",
       "      <th>std</th>\n",
       "      <td>4.796047</td>\n",
       "      <td>5.02652</td>\n",
       "      <td>4.087126</td>\n",
       "    </tr>\n",
       "    <tr>\n",
       "      <th>min</th>\n",
       "      <td>9.100000</td>\n",
       "      <td>3.20000</td>\n",
       "      <td>1.000000</td>\n",
       "    </tr>\n",
       "    <tr>\n",
       "      <th>25%</th>\n",
       "      <td>12.600000</td>\n",
       "      <td>4.40000</td>\n",
       "      <td>3.800000</td>\n",
       "    </tr>\n",
       "    <tr>\n",
       "      <th>50%</th>\n",
       "      <td>15.700000</td>\n",
       "      <td>6.80000</td>\n",
       "      <td>6.800000</td>\n",
       "    </tr>\n",
       "    <tr>\n",
       "      <th>75%</th>\n",
       "      <td>18.700000</td>\n",
       "      <td>9.80000</td>\n",
       "      <td>9.800000</td>\n",
       "    </tr>\n",
       "    <tr>\n",
       "      <th>max</th>\n",
       "      <td>26.000000</td>\n",
       "      <td>23.70000</td>\n",
       "      <td>15.400000</td>\n",
       "    </tr>\n",
       "  </tbody>\n",
       "</table>\n",
       "</div>"
      ],
      "text/plain": [
       "       Group A PPG  Group B PPG  Group C PPG\n",
       "count    25.000000     25.00000    25.000000\n",
       "mean     16.096000      8.35600     7.328000\n",
       "std       4.796047      5.02652     4.087126\n",
       "min       9.100000      3.20000     1.000000\n",
       "25%      12.600000      4.40000     3.800000\n",
       "50%      15.700000      6.80000     6.800000\n",
       "75%      18.700000      9.80000     9.800000\n",
       "max      26.000000     23.70000    15.400000"
      ]
     },
     "execution_count": 213,
     "metadata": {},
     "output_type": "execute_result"
    }
   ],
   "source": [
    "# Get a summary of all groups PPG data\n",
    "all_group_ppg_df.describe()"
   ]
  },
  {
   "cell_type": "code",
   "execution_count": 214,
   "id": "29c61b9e-25c2-4cf2-b05a-3eaf7299f87a",
   "metadata": {},
   "outputs": [
    {
     "data": {
      "text/plain": [
       "<AxesSubplot:>"
      ]
     },
     "execution_count": 214,
     "metadata": {},
     "output_type": "execute_result"
    },
    {
     "data": {
      "image/png": "[encoded data removed]",
      "text/plain": [
       "<Figure size 432x288 with 1 Axes>"
      ]
     },
     "metadata": {
      "needs_background": "light"
     },
     "output_type": "display_data"
    }
   ],
   "source": [
    "# Visualize all groups PPG data using box plot\n",
    "all_group_ppg_df.plot.box()"
   ]
  },
  {
   "cell_type": "code",
   "execution_count": null,
   "id": "9a0d88af-a05e-48ff-8144-c030b4ed2696",
   "metadata": {},
   "outputs": [],
   "source": []
  },
  {
   "cell_type": "code",
   "execution_count": 215,
   "id": "b6324d02-dc71-4fcc-b295-8cf9db22d8be",
   "metadata": {},
   "outputs": [],
   "source": [
    "# Select group A RPG data: rename the column and save it into a new dataframe\n",
    "group_a_rpg = pd.DataFrame(group_a_df[['RPG']])\n",
    "group_a_rpg.rename(columns = {'RPG': 'Group A RPG'}, inplace = True)\n",
    "# Select group B RPG data: rename the column and save it into a new dataframe\n",
    "group_b_rpg = pd.DataFrame(group_b_df[['RPG']])\n",
    "group_b_rpg.rename(columns = {'RPG': 'Group B RPG'}, inplace = True)\n",
    "# Select group C RPG data: rename the column and save it into a new dataframe\n",
    "group_c_rpg = pd.DataFrame(group_c_df[['RPG']])\n",
    "group_c_rpg.rename(columns = {'RPG': 'Group C RPG'}, inplace = True)"
   ]
  },
  {
   "cell_type": "code",
   "execution_count": 216,
   "id": "4e203ad9-d3c5-414d-a91b-4f6f8236b4c1",
   "metadata": {},
   "outputs": [
    {
     "data": {
      "text/html": [
       "<div>\n",
       "<style scoped>\n",
       "    .dataframe tbody tr th:only-of-type {\n",
       "        vertical-align: middle;\n",
       "    }\n",
       "\n",
       "    .dataframe tbody tr th {\n",
       "        vertical-align: top;\n",
       "    }\n",
       "\n",
       "    .dataframe thead th {\n",
       "        text-align: right;\n",
       "    }\n",
       "</style>\n",
       "<table border=\"1\" class=\"dataframe\">\n",
       "  <thead>\n",
       "    <tr style=\"text-align: right;\">\n",
       "      <th></th>\n",
       "      <th>Group A RPG</th>\n",
       "      <th>Group B RPG</th>\n",
       "      <th>Group C RPG</th>\n",
       "    </tr>\n",
       "    <tr>\n",
       "      <th>DraftYear</th>\n",
       "      <th></th>\n",
       "      <th></th>\n",
       "      <th></th>\n",
       "    </tr>\n",
       "  </thead>\n",
       "  <tbody>\n",
       "    <tr>\n",
       "      <th>2017</th>\n",
       "      <td>3.3</td>\n",
       "      <td>4.2</td>\n",
       "      <td>2.9</td>\n",
       "    </tr>\n",
       "    <tr>\n",
       "      <th>2017</th>\n",
       "      <td>5.7</td>\n",
       "      <td>8.2</td>\n",
       "      <td>6.2</td>\n",
       "    </tr>\n",
       "    <tr>\n",
       "      <th>2017</th>\n",
       "      <td>6.6</td>\n",
       "      <td>2.5</td>\n",
       "      <td>4.5</td>\n",
       "    </tr>\n",
       "    <tr>\n",
       "      <th>2017</th>\n",
       "      <td>4.1</td>\n",
       "      <td>2.7</td>\n",
       "      <td>3.3</td>\n",
       "    </tr>\n",
       "    <tr>\n",
       "      <th>2017</th>\n",
       "      <td>3.5</td>\n",
       "      <td>3.1</td>\n",
       "      <td>5.8</td>\n",
       "    </tr>\n",
       "  </tbody>\n",
       "</table>\n",
       "</div>"
      ],
      "text/plain": [
       "           Group A RPG  Group B RPG  Group C RPG\n",
       "DraftYear                                       \n",
       "2017               3.3          4.2          2.9\n",
       "2017               5.7          8.2          6.2\n",
       "2017               6.6          2.5          4.5\n",
       "2017               4.1          2.7          3.3\n",
       "2017               3.5          3.1          5.8"
      ]
     },
     "execution_count": 216,
     "metadata": {},
     "output_type": "execute_result"
    }
   ],
   "source": [
    "# Concat 3 groups RPG dataframes and save it as all_goup_rpg_df\n",
    "all_groups_rpg = [group_a_rpg, group_b_rpg, group_c_rpg]\n",
    "all_group_rpg_df = pd.concat(all_groups_rpg, axis = 1)\n",
    "# Review the dataframe\n",
    "all_group_rpg_df.head()"
   ]
  },
  {
   "cell_type": "code",
   "execution_count": 217,
   "id": "ffbd03f0-0410-49f6-a338-229f13e6b4b1",
   "metadata": {},
   "outputs": [
    {
     "data": {
      "text/html": [
       "<div>\n",
       "<style scoped>\n",
       "    .dataframe tbody tr th:only-of-type {\n",
       "        vertical-align: middle;\n",
       "    }\n",
       "\n",
       "    .dataframe tbody tr th {\n",
       "        vertical-align: top;\n",
       "    }\n",
       "\n",
       "    .dataframe thead th {\n",
       "        text-align: right;\n",
       "    }\n",
       "</style>\n",
       "<table border=\"1\" class=\"dataframe\">\n",
       "  <thead>\n",
       "    <tr style=\"text-align: right;\">\n",
       "      <th></th>\n",
       "      <th>Group A RPG</th>\n",
       "      <th>Group B RPG</th>\n",
       "      <th>Group C RPG</th>\n",
       "    </tr>\n",
       "  </thead>\n",
       "  <tbody>\n",
       "    <tr>\n",
       "      <th>count</th>\n",
       "      <td>25.000000</td>\n",
       "      <td>25.000000</td>\n",
       "      <td>25.000000</td>\n",
       "    </tr>\n",
       "    <tr>\n",
       "      <th>mean</th>\n",
       "      <td>5.388000</td>\n",
       "      <td>3.624000</td>\n",
       "      <td>3.264000</td>\n",
       "    </tr>\n",
       "    <tr>\n",
       "      <th>std</th>\n",
       "      <td>1.990042</td>\n",
       "      <td>1.833776</td>\n",
       "      <td>1.608799</td>\n",
       "    </tr>\n",
       "    <tr>\n",
       "      <th>min</th>\n",
       "      <td>2.500000</td>\n",
       "      <td>1.200000</td>\n",
       "      <td>1.000000</td>\n",
       "    </tr>\n",
       "    <tr>\n",
       "      <th>25%</th>\n",
       "      <td>3.900000</td>\n",
       "      <td>2.300000</td>\n",
       "      <td>2.000000</td>\n",
       "    </tr>\n",
       "    <tr>\n",
       "      <th>50%</th>\n",
       "      <td>5.100000</td>\n",
       "      <td>3.100000</td>\n",
       "      <td>2.700000</td>\n",
       "    </tr>\n",
       "    <tr>\n",
       "      <th>75%</th>\n",
       "      <td>6.600000</td>\n",
       "      <td>4.600000</td>\n",
       "      <td>4.300000</td>\n",
       "    </tr>\n",
       "    <tr>\n",
       "      <th>max</th>\n",
       "      <td>10.600000</td>\n",
       "      <td>8.200000</td>\n",
       "      <td>6.400000</td>\n",
       "    </tr>\n",
       "  </tbody>\n",
       "</table>\n",
       "</div>"
      ],
      "text/plain": [
       "       Group A RPG  Group B RPG  Group C RPG\n",
       "count    25.000000    25.000000    25.000000\n",
       "mean      5.388000     3.624000     3.264000\n",
       "std       1.990042     1.833776     1.608799\n",
       "min       2.500000     1.200000     1.000000\n",
       "25%       3.900000     2.300000     2.000000\n",
       "50%       5.100000     3.100000     2.700000\n",
       "75%       6.600000     4.600000     4.300000\n",
       "max      10.600000     8.200000     6.400000"
      ]
     },
     "execution_count": 217,
     "metadata": {},
     "output_type": "execute_result"
    }
   ],
   "source": [
    "# Get a summary of all groups RPG data\n",
    "all_group_rpg_df.describe()"
   ]
  },
  {
   "cell_type": "code",
   "execution_count": 218,
   "id": "18ab785a-1296-4da3-8c5a-15fb48564c64",
   "metadata": {},
   "outputs": [
    {
     "data": {
      "text/plain": [
       "<AxesSubplot:>"
      ]
     },
     "execution_count": 218,
     "metadata": {},
     "output_type": "execute_result"
    },
    {
     "data": {
      "image/png": "[encoded data removed]",
      "text/plain": [
       "<Figure size 432x288 with 1 Axes>"
      ]
     },
     "metadata": {
      "needs_background": "light"
     },
     "output_type": "display_data"
    }
   ],
   "source": [
    "# Visualize all groups RPG data using box plot\n",
    "all_group_rpg_df.plot.box()"
   ]
  },
  {
   "cell_type": "code",
   "execution_count": null,
   "id": "c6f8b31a-fc55-4f86-a043-0bb273686ce2",
   "metadata": {},
   "outputs": [],
   "source": []
  },
  {
   "cell_type": "code",
   "execution_count": 219,
   "id": "9fa0c3ba-b9de-468f-ba18-7ab19d6c09ae",
   "metadata": {},
   "outputs": [],
   "source": [
    "# Select group A APG data: rename the column and save it into a new dataframe\n",
    "group_a_apg = pd.DataFrame(group_a_df[['APG']])\n",
    "group_a_apg.rename(columns = {'APG': 'Group A APG'}, inplace = True)\n",
    "# Select group B APG data: rename the column and save it into a new dataframe\n",
    "group_b_apg = pd.DataFrame(group_b_df[['APG']])\n",
    "group_b_apg.rename(columns = {'APG': 'Group B APG'}, inplace = True)\n",
    "# Select group C APG data: rename the column and save it into a new dataframe\n",
    "group_c_apg = pd.DataFrame(group_c_df[['APG']])\n",
    "group_c_apg.rename(columns = {'APG': 'Group C APG'}, inplace = True)"
   ]
  },
  {
   "cell_type": "code",
   "execution_count": 220,
   "id": "63125410-335b-4e6f-aa64-699846eb1324",
   "metadata": {},
   "outputs": [
    {
     "data": {
      "text/html": [
       "<div>\n",
       "<style scoped>\n",
       "    .dataframe tbody tr th:only-of-type {\n",
       "        vertical-align: middle;\n",
       "    }\n",
       "\n",
       "    .dataframe tbody tr th {\n",
       "        vertical-align: top;\n",
       "    }\n",
       "\n",
       "    .dataframe thead th {\n",
       "        text-align: right;\n",
       "    }\n",
       "</style>\n",
       "<table border=\"1\" class=\"dataframe\">\n",
       "  <thead>\n",
       "    <tr style=\"text-align: right;\">\n",
       "      <th></th>\n",
       "      <th>Group A APG</th>\n",
       "      <th>Group B APG</th>\n",
       "      <th>Group C APG</th>\n",
       "    </tr>\n",
       "    <tr>\n",
       "      <th>DraftYear</th>\n",
       "      <th></th>\n",
       "      <th></th>\n",
       "      <th></th>\n",
       "    </tr>\n",
       "  </thead>\n",
       "  <tbody>\n",
       "    <tr>\n",
       "      <th>2017</th>\n",
       "      <td>4.6</td>\n",
       "      <td>4.4</td>\n",
       "      <td>0.7</td>\n",
       "    </tr>\n",
       "    <tr>\n",
       "      <th>2017</th>\n",
       "      <td>6.2</td>\n",
       "      <td>3.5</td>\n",
       "      <td>2.1</td>\n",
       "    </tr>\n",
       "    <tr>\n",
       "      <th>2017</th>\n",
       "      <td>2.9</td>\n",
       "      <td>1.1</td>\n",
       "      <td>0.5</td>\n",
       "    </tr>\n",
       "    <tr>\n",
       "      <th>2017</th>\n",
       "      <td>1.9</td>\n",
       "      <td>0.9</td>\n",
       "      <td>3.9</td>\n",
       "    </tr>\n",
       "    <tr>\n",
       "      <th>2017</th>\n",
       "      <td>6.2</td>\n",
       "      <td>0.7</td>\n",
       "      <td>2.0</td>\n",
       "    </tr>\n",
       "  </tbody>\n",
       "</table>\n",
       "</div>"
      ],
      "text/plain": [
       "           Group A APG  Group B APG  Group C APG\n",
       "DraftYear                                       \n",
       "2017               4.6          4.4          0.7\n",
       "2017               6.2          3.5          2.1\n",
       "2017               2.9          1.1          0.5\n",
       "2017               1.9          0.9          3.9\n",
       "2017               6.2          0.7          2.0"
      ]
     },
     "execution_count": 220,
     "metadata": {},
     "output_type": "execute_result"
    }
   ],
   "source": [
    "# Concat 3 groups APG dataframes and save it as all_goup_apg_df\n",
    "all_groups_apg = [group_a_apg, group_b_apg, group_c_apg]\n",
    "all_group_apg_df = pd.concat(all_groups_apg, axis = 1)\n",
    "# Review the dataframe\n",
    "all_group_apg_df.head()"
   ]
  },
  {
   "cell_type": "code",
   "execution_count": 221,
   "id": "92f7dd6e-21b6-4c62-860b-dc2517fb6f6c",
   "metadata": {},
   "outputs": [
    {
     "data": {
      "text/html": [
       "<div>\n",
       "<style scoped>\n",
       "    .dataframe tbody tr th:only-of-type {\n",
       "        vertical-align: middle;\n",
       "    }\n",
       "\n",
       "    .dataframe tbody tr th {\n",
       "        vertical-align: top;\n",
       "    }\n",
       "\n",
       "    .dataframe thead th {\n",
       "        text-align: right;\n",
       "    }\n",
       "</style>\n",
       "<table border=\"1\" class=\"dataframe\">\n",
       "  <thead>\n",
       "    <tr style=\"text-align: right;\">\n",
       "      <th></th>\n",
       "      <th>Group A APG</th>\n",
       "      <th>Group B APG</th>\n",
       "      <th>Group C APG</th>\n",
       "    </tr>\n",
       "  </thead>\n",
       "  <tbody>\n",
       "    <tr>\n",
       "      <th>count</th>\n",
       "      <td>25.00000</td>\n",
       "      <td>25.000000</td>\n",
       "      <td>25.000000</td>\n",
       "    </tr>\n",
       "    <tr>\n",
       "      <th>mean</th>\n",
       "      <td>3.79200</td>\n",
       "      <td>1.724000</td>\n",
       "      <td>1.464000</td>\n",
       "    </tr>\n",
       "    <tr>\n",
       "      <th>std</th>\n",
       "      <td>2.38431</td>\n",
       "      <td>1.246756</td>\n",
       "      <td>1.089296</td>\n",
       "    </tr>\n",
       "    <tr>\n",
       "      <th>min</th>\n",
       "      <td>0.70000</td>\n",
       "      <td>0.300000</td>\n",
       "      <td>0.000000</td>\n",
       "    </tr>\n",
       "    <tr>\n",
       "      <th>25%</th>\n",
       "      <td>1.90000</td>\n",
       "      <td>0.900000</td>\n",
       "      <td>0.700000</td>\n",
       "    </tr>\n",
       "    <tr>\n",
       "      <th>50%</th>\n",
       "      <td>3.20000</td>\n",
       "      <td>1.200000</td>\n",
       "      <td>1.300000</td>\n",
       "    </tr>\n",
       "    <tr>\n",
       "      <th>75%</th>\n",
       "      <td>5.80000</td>\n",
       "      <td>2.300000</td>\n",
       "      <td>2.000000</td>\n",
       "    </tr>\n",
       "    <tr>\n",
       "      <th>max</th>\n",
       "      <td>8.90000</td>\n",
       "      <td>5.000000</td>\n",
       "      <td>4.500000</td>\n",
       "    </tr>\n",
       "  </tbody>\n",
       "</table>\n",
       "</div>"
      ],
      "text/plain": [
       "       Group A APG  Group B APG  Group C APG\n",
       "count     25.00000    25.000000    25.000000\n",
       "mean       3.79200     1.724000     1.464000\n",
       "std        2.38431     1.246756     1.089296\n",
       "min        0.70000     0.300000     0.000000\n",
       "25%        1.90000     0.900000     0.700000\n",
       "50%        3.20000     1.200000     1.300000\n",
       "75%        5.80000     2.300000     2.000000\n",
       "max        8.90000     5.000000     4.500000"
      ]
     },
     "execution_count": 221,
     "metadata": {},
     "output_type": "execute_result"
    }
   ],
   "source": [
    "# Get a summary of all groups APG data\n",
    "all_group_apg_df.describe()"
   ]
  },
  {
   "cell_type": "code",
   "execution_count": 222,
   "id": "5425f6b0-6ed7-4166-8469-534aebcb6d04",
   "metadata": {},
   "outputs": [
    {
     "data": {
      "text/plain": [
       "<AxesSubplot:>"
      ]
     },
     "execution_count": 222,
     "metadata": {},
     "output_type": "execute_result"
    },
    {
     "data": {
      "image/png": "[encoded data removed]",
      "text/plain": [
       "<Figure size 432x288 with 1 Axes>"
      ]
     },
     "metadata": {
      "needs_background": "light"
     },
     "output_type": "display_data"
    }
   ],
   "source": [
    "# Visualize all groups APG data using box plot\n",
    "all_group_apg_df.plot.box()"
   ]
  },
  {
   "cell_type": "code",
   "execution_count": null,
   "id": "516a282e-1d6b-43e1-a33b-1b4ca6f4eba2",
   "metadata": {},
   "outputs": [],
   "source": []
  },
  {
   "cell_type": "code",
   "execution_count": 223,
   "id": "ce4c9c52-c0cd-4df4-8af3-f6eef803bfe4",
   "metadata": {},
   "outputs": [
    {
     "ename": "KeyError",
     "evalue": "\"None of [Index(['Contract Worth'], dtype='object')] are in the [columns]\"",
     "output_type": "error",
     "traceback": [
      "\u001b[0;31m---------------------------------------------------------------------------\u001b[0m",
      "\u001b[0;31mKeyError\u001b[0m                                  Traceback (most recent call last)",
      "\u001b[0;32m/var/folders/_q/l8svdn411t546yg3hmyn6vyw0000gp/T/ipykernel_5749/3250720948.py\u001b[0m in \u001b[0;36m<module>\u001b[0;34m\u001b[0m\n\u001b[1;32m      1\u001b[0m \u001b[0;31m# Select group A contract worth data: rename the column and save it into a new dataframe\u001b[0m\u001b[0;34m\u001b[0m\u001b[0;34m\u001b[0m\u001b[0m\n\u001b[0;32m----> 2\u001b[0;31m \u001b[0mgroup_a_contract\u001b[0m \u001b[0;34m=\u001b[0m \u001b[0mpd\u001b[0m\u001b[0;34m.\u001b[0m\u001b[0mDataFrame\u001b[0m\u001b[0;34m(\u001b[0m\u001b[0mgroup_a_df\u001b[0m\u001b[0;34m[\u001b[0m\u001b[0;34m[\u001b[0m\u001b[0;34m'Contract Worth'\u001b[0m\u001b[0;34m]\u001b[0m\u001b[0;34m]\u001b[0m\u001b[0;34m)\u001b[0m\u001b[0;34m\u001b[0m\u001b[0;34m\u001b[0m\u001b[0m\n\u001b[0m\u001b[1;32m      3\u001b[0m \u001b[0mgroup_a_contract\u001b[0m\u001b[0;34m.\u001b[0m\u001b[0mrename\u001b[0m\u001b[0;34m(\u001b[0m\u001b[0mcolumns\u001b[0m \u001b[0;34m=\u001b[0m \u001b[0;34m{\u001b[0m\u001b[0;34m'Contract Worth'\u001b[0m\u001b[0;34m:\u001b[0m \u001b[0;34m'Group A Contract Worth'\u001b[0m\u001b[0;34m}\u001b[0m\u001b[0;34m,\u001b[0m \u001b[0minplace\u001b[0m \u001b[0;34m=\u001b[0m \u001b[0;32mTrue\u001b[0m\u001b[0;34m)\u001b[0m\u001b[0;34m\u001b[0m\u001b[0;34m\u001b[0m\u001b[0m\n\u001b[1;32m      4\u001b[0m \u001b[0;31m# Select group B contract worth data: rename the column and save it into a new dataframe\u001b[0m\u001b[0;34m\u001b[0m\u001b[0;34m\u001b[0m\u001b[0m\n\u001b[1;32m      5\u001b[0m \u001b[0mgroup_b_contract\u001b[0m \u001b[0;34m=\u001b[0m \u001b[0mpd\u001b[0m\u001b[0;34m.\u001b[0m\u001b[0mDataFrame\u001b[0m\u001b[0;34m(\u001b[0m\u001b[0mgroup_b_df\u001b[0m\u001b[0;34m[\u001b[0m\u001b[0;34m[\u001b[0m\u001b[0;34m'Contract Worth'\u001b[0m\u001b[0;34m]\u001b[0m\u001b[0;34m]\u001b[0m\u001b[0;34m)\u001b[0m\u001b[0;34m\u001b[0m\u001b[0;34m\u001b[0m\u001b[0m\n",
      "\u001b[0;32m/opt/anaconda3/envs/dev/lib/python3.9/site-packages/pandas/core/frame.py\u001b[0m in \u001b[0;36m__getitem__\u001b[0;34m(self, key)\u001b[0m\n\u001b[1;32m   3462\u001b[0m             \u001b[0;32mif\u001b[0m \u001b[0mis_iterator\u001b[0m\u001b[0;34m(\u001b[0m\u001b[0mkey\u001b[0m\u001b[0;34m)\u001b[0m\u001b[0;34m:\u001b[0m\u001b[0;34m\u001b[0m\u001b[0;34m\u001b[0m\u001b[0m\n\u001b[1;32m   3463\u001b[0m                 \u001b[0mkey\u001b[0m \u001b[0;34m=\u001b[0m \u001b[0mlist\u001b[0m\u001b[0;34m(\u001b[0m\u001b[0mkey\u001b[0m\u001b[0;34m)\u001b[0m\u001b[0;34m\u001b[0m\u001b[0;34m\u001b[0m\u001b[0m\n\u001b[0;32m-> 3464\u001b[0;31m             \u001b[0mindexer\u001b[0m \u001b[0;34m=\u001b[0m \u001b[0mself\u001b[0m\u001b[0;34m.\u001b[0m\u001b[0mloc\u001b[0m\u001b[0;34m.\u001b[0m\u001b[0m_get_listlike_indexer\u001b[0m\u001b[0;34m(\u001b[0m\u001b[0mkey\u001b[0m\u001b[0;34m,\u001b[0m \u001b[0maxis\u001b[0m\u001b[0;34m=\u001b[0m\u001b[0;36m1\u001b[0m\u001b[0;34m)\u001b[0m\u001b[0;34m[\u001b[0m\u001b[0;36m1\u001b[0m\u001b[0;34m]\u001b[0m\u001b[0;34m\u001b[0m\u001b[0;34m\u001b[0m\u001b[0m\n\u001b[0m\u001b[1;32m   3465\u001b[0m \u001b[0;34m\u001b[0m\u001b[0m\n\u001b[1;32m   3466\u001b[0m         \u001b[0;31m# take() does not accept boolean indexers\u001b[0m\u001b[0;34m\u001b[0m\u001b[0;34m\u001b[0m\u001b[0m\n",
      "\u001b[0;32m/opt/anaconda3/envs/dev/lib/python3.9/site-packages/pandas/core/indexing.py\u001b[0m in \u001b[0;36m_get_listlike_indexer\u001b[0;34m(self, key, axis)\u001b[0m\n\u001b[1;32m   1312\u001b[0m             \u001b[0mkeyarr\u001b[0m\u001b[0;34m,\u001b[0m \u001b[0mindexer\u001b[0m\u001b[0;34m,\u001b[0m \u001b[0mnew_indexer\u001b[0m \u001b[0;34m=\u001b[0m \u001b[0max\u001b[0m\u001b[0;34m.\u001b[0m\u001b[0m_reindex_non_unique\u001b[0m\u001b[0;34m(\u001b[0m\u001b[0mkeyarr\u001b[0m\u001b[0;34m)\u001b[0m\u001b[0;34m\u001b[0m\u001b[0;34m\u001b[0m\u001b[0m\n\u001b[1;32m   1313\u001b[0m \u001b[0;34m\u001b[0m\u001b[0m\n\u001b[0;32m-> 1314\u001b[0;31m         \u001b[0mself\u001b[0m\u001b[0;34m.\u001b[0m\u001b[0m_validate_read_indexer\u001b[0m\u001b[0;34m(\u001b[0m\u001b[0mkeyarr\u001b[0m\u001b[0;34m,\u001b[0m \u001b[0mindexer\u001b[0m\u001b[0;34m,\u001b[0m \u001b[0maxis\u001b[0m\u001b[0;34m)\u001b[0m\u001b[0;34m\u001b[0m\u001b[0;34m\u001b[0m\u001b[0m\n\u001b[0m\u001b[1;32m   1315\u001b[0m \u001b[0;34m\u001b[0m\u001b[0m\n\u001b[1;32m   1316\u001b[0m         if needs_i8_conversion(ax.dtype) or isinstance(\n",
      "\u001b[0;32m/opt/anaconda3/envs/dev/lib/python3.9/site-packages/pandas/core/indexing.py\u001b[0m in \u001b[0;36m_validate_read_indexer\u001b[0;34m(self, key, indexer, axis)\u001b[0m\n\u001b[1;32m   1372\u001b[0m                 \u001b[0;32mif\u001b[0m \u001b[0muse_interval_msg\u001b[0m\u001b[0;34m:\u001b[0m\u001b[0;34m\u001b[0m\u001b[0;34m\u001b[0m\u001b[0m\n\u001b[1;32m   1373\u001b[0m                     \u001b[0mkey\u001b[0m \u001b[0;34m=\u001b[0m \u001b[0mlist\u001b[0m\u001b[0;34m(\u001b[0m\u001b[0mkey\u001b[0m\u001b[0;34m)\u001b[0m\u001b[0;34m\u001b[0m\u001b[0;34m\u001b[0m\u001b[0m\n\u001b[0;32m-> 1374\u001b[0;31m                 \u001b[0;32mraise\u001b[0m \u001b[0mKeyError\u001b[0m\u001b[0;34m(\u001b[0m\u001b[0;34mf\"None of [{key}] are in the [{axis_name}]\"\u001b[0m\u001b[0;34m)\u001b[0m\u001b[0;34m\u001b[0m\u001b[0;34m\u001b[0m\u001b[0m\n\u001b[0m\u001b[1;32m   1375\u001b[0m \u001b[0;34m\u001b[0m\u001b[0m\n\u001b[1;32m   1376\u001b[0m             \u001b[0mnot_found\u001b[0m \u001b[0;34m=\u001b[0m \u001b[0mlist\u001b[0m\u001b[0;34m(\u001b[0m\u001b[0mensure_index\u001b[0m\u001b[0;34m(\u001b[0m\u001b[0mkey\u001b[0m\u001b[0;34m)\u001b[0m\u001b[0;34m[\u001b[0m\u001b[0mmissing_mask\u001b[0m\u001b[0;34m.\u001b[0m\u001b[0mnonzero\u001b[0m\u001b[0;34m(\u001b[0m\u001b[0;34m)\u001b[0m\u001b[0;34m[\u001b[0m\u001b[0;36m0\u001b[0m\u001b[0;34m]\u001b[0m\u001b[0;34m]\u001b[0m\u001b[0;34m.\u001b[0m\u001b[0munique\u001b[0m\u001b[0;34m(\u001b[0m\u001b[0;34m)\u001b[0m\u001b[0;34m)\u001b[0m\u001b[0;34m\u001b[0m\u001b[0;34m\u001b[0m\u001b[0m\n",
      "\u001b[0;31mKeyError\u001b[0m: \"None of [Index(['Contract Worth'], dtype='object')] are in the [columns]\""
     ]
    }
   ],
   "source": [
    "# Select group A contract worth data: rename the column and save it into a new dataframe\n",
    "group_a_contract = pd.DataFrame(group_a_df[['Contract Worth']])\n",
    "group_a_contract.rename(columns = {'Contract Worth': 'Group A Contract Worth'}, inplace = True)\n",
    "# Select group B contract worth data: rename the column and save it into a new dataframe\n",
    "group_b_contract = pd.DataFrame(group_b_df[['Contract Worth']])\n",
    "group_b_contract.rename(columns = {'Contract Worth': 'Group B Contract Worth'}, inplace = True)\n",
    "# Select group C contract worth data: rename the column and save it into a new dataframe\n",
    "group_c_contract = pd.DataFrame(group_c_df[['Contract Worth']])\n",
    "group_c_contract.rename(columns = {'Contract Worth': 'Group C Contract Worth'}, inplace = True)"
   ]
  },
  {
   "cell_type": "code",
   "execution_count": 224,
   "id": "7b15f598-ba7f-4da4-9c48-28f056325b8b",
   "metadata": {},
   "outputs": [
    {
     "ename": "NameError",
     "evalue": "name 'group_a_contract' is not defined",
     "output_type": "error",
     "traceback": [
      "\u001b[0;31m---------------------------------------------------------------------------\u001b[0m",
      "\u001b[0;31mNameError\u001b[0m                                 Traceback (most recent call last)",
      "\u001b[0;32m/var/folders/_q/l8svdn411t546yg3hmyn6vyw0000gp/T/ipykernel_5749/4122898831.py\u001b[0m in \u001b[0;36m<module>\u001b[0;34m\u001b[0m\n\u001b[1;32m      1\u001b[0m \u001b[0;31m# Concat 3 groups contract worth dataframes and save it as all_goup_contract_df\u001b[0m\u001b[0;34m\u001b[0m\u001b[0;34m\u001b[0m\u001b[0m\n\u001b[0;32m----> 2\u001b[0;31m \u001b[0mall_groups_contract\u001b[0m \u001b[0;34m=\u001b[0m \u001b[0;34m[\u001b[0m\u001b[0mgroup_a_contract\u001b[0m\u001b[0;34m,\u001b[0m \u001b[0mgroup_b_contract\u001b[0m\u001b[0;34m,\u001b[0m \u001b[0mgroup_c_contract\u001b[0m\u001b[0;34m]\u001b[0m\u001b[0;34m\u001b[0m\u001b[0;34m\u001b[0m\u001b[0m\n\u001b[0m\u001b[1;32m      3\u001b[0m \u001b[0mall_group_contract_df\u001b[0m \u001b[0;34m=\u001b[0m \u001b[0mpd\u001b[0m\u001b[0;34m.\u001b[0m\u001b[0mconcat\u001b[0m\u001b[0;34m(\u001b[0m\u001b[0mall_groups_contract\u001b[0m\u001b[0;34m,\u001b[0m \u001b[0maxis\u001b[0m \u001b[0;34m=\u001b[0m \u001b[0;36m1\u001b[0m\u001b[0;34m)\u001b[0m\u001b[0;34m\u001b[0m\u001b[0;34m\u001b[0m\u001b[0m\n\u001b[1;32m      4\u001b[0m \u001b[0;31m# Review the dataframe\u001b[0m\u001b[0;34m\u001b[0m\u001b[0;34m\u001b[0m\u001b[0m\n\u001b[1;32m      5\u001b[0m \u001b[0mall_group_contract_df\u001b[0m\u001b[0;34m.\u001b[0m\u001b[0mhead\u001b[0m\u001b[0;34m(\u001b[0m\u001b[0;34m)\u001b[0m\u001b[0;34m\u001b[0m\u001b[0;34m\u001b[0m\u001b[0m\n",
      "\u001b[0;31mNameError\u001b[0m: name 'group_a_contract' is not defined"
     ]
    }
   ],
   "source": [
    "# Concat 3 groups contract worth dataframes and save it as all_goup_contract_df\n",
    "all_groups_contract = [group_a_contract, group_b_contract, group_c_contract]\n",
    "all_group_contract_df = pd.concat(all_groups_contract, axis = 1)\n",
    "# Review the dataframe\n",
    "all_group_contract_df.head()"
   ]
  },
  {
   "cell_type": "code",
   "execution_count": 225,
   "id": "f57abb30-d312-4422-a349-d8d3fc79d6a8",
   "metadata": {},
   "outputs": [
    {
     "ename": "NameError",
     "evalue": "name 'all_group_contract_df' is not defined",
     "output_type": "error",
     "traceback": [
      "\u001b[0;31m---------------------------------------------------------------------------\u001b[0m",
      "\u001b[0;31mNameError\u001b[0m                                 Traceback (most recent call last)",
      "\u001b[0;32m/var/folders/_q/l8svdn411t546yg3hmyn6vyw0000gp/T/ipykernel_5749/1443353292.py\u001b[0m in \u001b[0;36m<module>\u001b[0;34m\u001b[0m\n\u001b[1;32m      1\u001b[0m \u001b[0;31m# Get a summary of all groups contract worth data\u001b[0m\u001b[0;34m\u001b[0m\u001b[0;34m\u001b[0m\u001b[0m\n\u001b[0;32m----> 2\u001b[0;31m \u001b[0mall_group_contract_df\u001b[0m\u001b[0;34m.\u001b[0m\u001b[0mdescribe\u001b[0m\u001b[0;34m(\u001b[0m\u001b[0;34m)\u001b[0m\u001b[0;34m\u001b[0m\u001b[0;34m\u001b[0m\u001b[0m\n\u001b[0m",
      "\u001b[0;31mNameError\u001b[0m: name 'all_group_contract_df' is not defined"
     ]
    }
   ],
   "source": [
    "# Get a summary of all groups contract worth data\n",
    "all_group_contract_df.describe()"
   ]
  },
  {
   "cell_type": "code",
   "execution_count": 226,
   "id": "d8d8243d-5664-4b33-9ce1-01071f8cf779",
   "metadata": {},
   "outputs": [
    {
     "ename": "NameError",
     "evalue": "name 'all_group_contract_df' is not defined",
     "output_type": "error",
     "traceback": [
      "\u001b[0;31m---------------------------------------------------------------------------\u001b[0m",
      "\u001b[0;31mNameError\u001b[0m                                 Traceback (most recent call last)",
      "\u001b[0;32m/var/folders/_q/l8svdn411t546yg3hmyn6vyw0000gp/T/ipykernel_5749/1240232351.py\u001b[0m in \u001b[0;36m<module>\u001b[0;34m\u001b[0m\n\u001b[1;32m      1\u001b[0m \u001b[0;31m# Visualize all groups contract worth data using box plot\u001b[0m\u001b[0;34m\u001b[0m\u001b[0;34m\u001b[0m\u001b[0m\n\u001b[0;32m----> 2\u001b[0;31m \u001b[0mall_group_contract_df\u001b[0m\u001b[0;34m.\u001b[0m\u001b[0mplot\u001b[0m\u001b[0;34m.\u001b[0m\u001b[0mbox\u001b[0m\u001b[0;34m(\u001b[0m\u001b[0;34m)\u001b[0m\u001b[0;34m\u001b[0m\u001b[0;34m\u001b[0m\u001b[0m\n\u001b[0m",
      "\u001b[0;31mNameError\u001b[0m: name 'all_group_contract_df' is not defined"
     ]
    }
   ],
   "source": [
    "# Visualize all groups contract worth data using box plot\n",
    "all_group_contract_df.plot.box()"
   ]
  },
  {
   "cell_type": "code",
   "execution_count": null,
   "id": "2cee2d45-23ce-4b7d-abb6-480e37d9e7a7",
   "metadata": {},
   "outputs": [],
   "source": []
  },
  {
   "cell_type": "code",
   "execution_count": 227,
   "id": "cace5c06-7410-4813-811b-07ae17160b82",
   "metadata": {},
   "outputs": [
    {
     "data": {
      "text/html": [
       "<div>\n",
       "<style scoped>\n",
       "    .dataframe tbody tr th:only-of-type {\n",
       "        vertical-align: middle;\n",
       "    }\n",
       "\n",
       "    .dataframe tbody tr th {\n",
       "        vertical-align: top;\n",
       "    }\n",
       "\n",
       "    .dataframe thead th {\n",
       "        text-align: right;\n",
       "    }\n",
       "</style>\n",
       "<table border=\"1\" class=\"dataframe\">\n",
       "  <thead>\n",
       "    <tr style=\"text-align: right;\">\n",
       "      <th></th>\n",
       "      <th>Pk</th>\n",
       "      <th>DraftYr</th>\n",
       "      <th>MPG</th>\n",
       "      <th>PPG</th>\n",
       "      <th>RPG</th>\n",
       "      <th>APG</th>\n",
       "      <th>FG%</th>\n",
       "      <th>3P%</th>\n",
       "      <th>FT%</th>\n",
       "      <th>Rk</th>\n",
       "    </tr>\n",
       "    <tr>\n",
       "      <th>DraftYear</th>\n",
       "      <th></th>\n",
       "      <th></th>\n",
       "      <th></th>\n",
       "      <th></th>\n",
       "      <th></th>\n",
       "      <th></th>\n",
       "      <th></th>\n",
       "      <th></th>\n",
       "      <th></th>\n",
       "      <th></th>\n",
       "    </tr>\n",
       "  </thead>\n",
       "  <tbody>\n",
       "    <tr>\n",
       "      <th>2017</th>\n",
       "      <td>3.0</td>\n",
       "      <td>2017.0</td>\n",
       "      <td>29.36</td>\n",
       "      <td>14.68</td>\n",
       "      <td>4.64</td>\n",
       "      <td>4.36</td>\n",
       "      <td>0.4352</td>\n",
       "      <td>0.3238</td>\n",
       "      <td>0.7038</td>\n",
       "      <td>3.0</td>\n",
       "    </tr>\n",
       "    <tr>\n",
       "      <th>2018</th>\n",
       "      <td>3.0</td>\n",
       "      <td>2018.0</td>\n",
       "      <td>29.96</td>\n",
       "      <td>19.24</td>\n",
       "      <td>7.10</td>\n",
       "      <td>4.10</td>\n",
       "      <td>0.4876</td>\n",
       "      <td>0.3062</td>\n",
       "      <td>0.7594</td>\n",
       "      <td>3.0</td>\n",
       "    </tr>\n",
       "    <tr>\n",
       "      <th>2019</th>\n",
       "      <td>3.0</td>\n",
       "      <td>2019.0</td>\n",
       "      <td>32.08</td>\n",
       "      <td>18.46</td>\n",
       "      <td>4.74</td>\n",
       "      <td>4.14</td>\n",
       "      <td>0.4752</td>\n",
       "      <td>0.3498</td>\n",
       "      <td>0.7554</td>\n",
       "      <td>3.0</td>\n",
       "    </tr>\n",
       "    <tr>\n",
       "      <th>2020</th>\n",
       "      <td>3.0</td>\n",
       "      <td>2020.0</td>\n",
       "      <td>28.82</td>\n",
       "      <td>13.66</td>\n",
       "      <td>4.90</td>\n",
       "      <td>2.80</td>\n",
       "      <td>0.4588</td>\n",
       "      <td>0.3426</td>\n",
       "      <td>0.7394</td>\n",
       "      <td>3.0</td>\n",
       "    </tr>\n",
       "    <tr>\n",
       "      <th>2021</th>\n",
       "      <td>3.0</td>\n",
       "      <td>2021.0</td>\n",
       "      <td>31.98</td>\n",
       "      <td>14.44</td>\n",
       "      <td>5.56</td>\n",
       "      <td>3.56</td>\n",
       "      <td>0.4242</td>\n",
       "      <td>0.2888</td>\n",
       "      <td>0.7710</td>\n",
       "      <td>3.0</td>\n",
       "    </tr>\n",
       "  </tbody>\n",
       "</table>\n",
       "</div>"
      ],
      "text/plain": [
       "            Pk  DraftYr    MPG    PPG   RPG   APG     FG%     3P%     FT%   Rk\n",
       "DraftYear                                                                     \n",
       "2017       3.0   2017.0  29.36  14.68  4.64  4.36  0.4352  0.3238  0.7038  3.0\n",
       "2018       3.0   2018.0  29.96  19.24  7.10  4.10  0.4876  0.3062  0.7594  3.0\n",
       "2019       3.0   2019.0  32.08  18.46  4.74  4.14  0.4752  0.3498  0.7554  3.0\n",
       "2020       3.0   2020.0  28.82  13.66  4.90  2.80  0.4588  0.3426  0.7394  3.0\n",
       "2021       3.0   2021.0  31.98  14.44  5.56  3.56  0.4242  0.2888  0.7710  3.0"
      ]
     },
     "execution_count": 227,
     "metadata": {},
     "output_type": "execute_result"
    }
   ],
   "source": [
    "# Calculate averages of each category for top 5 picks of each year and save to group_a_ave dataframe\n",
    "group_a_ave=group_a_df.groupby('DraftYear').mean().sort_values('DraftYear')\n",
    "# Review group_a_ave dataframe\n",
    "group_a_ave"
   ]
  },
  {
   "cell_type": "code",
   "execution_count": 228,
   "id": "7d32a880-a762-45e9-8fb7-2a3d3b5c9b3a",
   "metadata": {},
   "outputs": [
    {
     "data": {
      "text/plain": [
       "MPG    30.44000\n",
       "PPG    16.09600\n",
       "RPG     5.38800\n",
       "APG     3.79200\n",
       "FG%     0.45620\n",
       "3P%     0.32224\n",
       "FT%     0.74580\n",
       "dtype: float64"
      ]
     },
     "execution_count": 228,
     "metadata": {},
     "output_type": "execute_result"
    }
   ],
   "source": [
    "mean = group_a_ave[['MPG','PPG', 'RPG', 'APG','FG%', '3P%','FT%']].mean()\n",
    "mean"
   ]
  },
  {
   "cell_type": "code",
   "execution_count": 229,
   "id": "3271480a-405b-49f7-aecb-2428300ed2b3",
   "metadata": {},
   "outputs": [],
   "source": [
    "mean_df = mean.to_frame(name='mean')"
   ]
  },
  {
   "cell_type": "code",
   "execution_count": 230,
   "id": "35eef6b2-6c06-4959-89da-96fce354b410",
   "metadata": {},
   "outputs": [
    {
     "data": {
      "application/vnd.plotly.v1+json": {
       "config": {
        "plotlyServerURL": "https://plot.ly"
       },
       "data": [
        {
         "hovertemplate": "mean=%{theta}<extra></extra>",
         "legendgroup": "",
         "line": {
          "color": "#636efa",
          "dash": "solid"
         },
         "marker": {
          "symbol": "circle"
         },
         "mode": "lines",
         "name": "",
         "r": [
          30.439999999999998,
          16.096,
          5.388,
          3.7920000000000003,
          0.45620000000000005,
          0.32223999999999997,
          0.7458,
          30.439999999999998
         ],
         "showlegend": false,
         "subplot": "polar",
         "theta": [
          30.439999999999998,
          16.096,
          5.388,
          3.7920000000000003,
          0.45620000000000005,
          0.32223999999999997,
          0.7458,
          30.439999999999998
         ],
         "type": "scatterpolar"
        }
       ],
       "layout": {
        "autosize": true,
        "legend": {
         "tracegroupgap": 0
        },
        "margin": {
         "t": 60
        },
        "polar": {
         "angularaxis": {
          "direction": "clockwise",
          "rotation": 90,
          "type": "linear"
         },
         "domain": {
          "x": [
           0,
           1
          ],
          "y": [
           0,
           1
          ]
         },
         "radialaxis": {
          "autorange": true,
          "range": [
           0,
           30.439999999999998
          ],
          "type": "linear"
         }
        },
        "template": {
         "data": {
          "bar": [
           {
            "error_x": {
             "color": "#2a3f5f"
            },
            "error_y": {
             "color": "#2a3f5f"
            },
            "marker": {
             "line": {
              "color": "#E5ECF6",
              "width": 0.5
             },
             "pattern": {
              "fillmode": "overlay",
              "size": 10,
              "solidity": 0.2
             }
            },
            "type": "bar"
           }
          ],
          "barpolar": [
           {
            "marker": {
             "line": {
              "color": "#E5ECF6",
              "width": 0.5
             },
             "pattern": {
              "fillmode": "overlay",
              "size": 10,
              "solidity": 0.2
             }
            },
            "type": "barpolar"
           }
          ],
          "carpet": [
           {
            "aaxis": {
             "endlinecolor": "#2a3f5f",
             "gridcolor": "white",
             "linecolor": "white",
             "minorgridcolor": "white",
             "startlinecolor": "#2a3f5f"
            },
            "baxis": {
             "endlinecolor": "#2a3f5f",
             "gridcolor": "white",
             "linecolor": "white",
             "minorgridcolor": "white",
             "startlinecolor": "#2a3f5f"
            },
            "type": "carpet"
           }
          ],
          "choropleth": [
           {
            "colorbar": {
             "outlinewidth": 0,
             "ticks": ""
            },
            "type": "choropleth"
           }
          ],
          "contour": [
           {
            "colorbar": {
             "outlinewidth": 0,
             "ticks": ""
            },
            "colorscale": [
             [
              0,
              "#0d0887"
             ],
             [
              0.1111111111111111,
              "#46039f"
             ],
             [
              0.2222222222222222,
              "#7201a8"
             ],
             [
              0.3333333333333333,
              "#9c179e"
             ],
             [
              0.4444444444444444,
              "#bd3786"
             ],
             [
              0.5555555555555556,
              "#d8576b"
             ],
             [
              0.6666666666666666,
              "#ed7953"
             ],
             [
              0.7777777777777778,
              "#fb9f3a"
             ],
             [
              0.8888888888888888,
              "#fdca26"
             ],
             [
              1,
              "#f0f921"
             ]
            ],
            "type": "contour"
           }
          ],
          "contourcarpet": [
           {
            "colorbar": {
             "outlinewidth": 0,
             "ticks": ""
            },
            "type": "contourcarpet"
           }
          ],
          "heatmap": [
           {
            "colorbar": {
             "outlinewidth": 0,
             "ticks": ""
            },
            "colorscale": [
             [
              0,
              "#0d0887"
             ],
             [
              0.1111111111111111,
              "#46039f"
             ],
             [
              0.2222222222222222,
              "#7201a8"
             ],
             [
              0.3333333333333333,
              "#9c179e"
             ],
             [
              0.4444444444444444,
              "#bd3786"
             ],
             [
              0.5555555555555556,
              "#d8576b"
             ],
             [
              0.6666666666666666,
              "#ed7953"
             ],
             [
              0.7777777777777778,
              "#fb9f3a"
             ],
             [
              0.8888888888888888,
              "#fdca26"
             ],
             [
              1,
              "#f0f921"
             ]
            ],
            "type": "heatmap"
           }
          ],
          "heatmapgl": [
           {
            "colorbar": {
             "outlinewidth": 0,
             "ticks": ""
            },
            "colorscale": [
             [
              0,
              "#0d0887"
             ],
             [
              0.1111111111111111,
              "#46039f"
             ],
             [
              0.2222222222222222,
              "#7201a8"
             ],
             [
              0.3333333333333333,
              "#9c179e"
             ],
             [
              0.4444444444444444,
              "#bd3786"
             ],
             [
              0.5555555555555556,
              "#d8576b"
             ],
             [
              0.6666666666666666,
              "#ed7953"
             ],
             [
              0.7777777777777778,
              "#fb9f3a"
             ],
             [
              0.8888888888888888,
              "#fdca26"
             ],
             [
              1,
              "#f0f921"
             ]
            ],
            "type": "heatmapgl"
           }
          ],
          "histogram": [
           {
            "marker": {
             "pattern": {
              "fillmode": "overlay",
              "size": 10,
              "solidity": 0.2
             }
            },
            "type": "histogram"
           }
          ],
          "histogram2d": [
           {
            "colorbar": {
             "outlinewidth": 0,
             "ticks": ""
            },
            "colorscale": [
             [
              0,
              "#0d0887"
             ],
             [
              0.1111111111111111,
              "#46039f"
             ],
             [
              0.2222222222222222,
              "#7201a8"
             ],
             [
              0.3333333333333333,
              "#9c179e"
             ],
             [
              0.4444444444444444,
              "#bd3786"
             ],
             [
              0.5555555555555556,
              "#d8576b"
             ],
             [
              0.6666666666666666,
              "#ed7953"
             ],
             [
              0.7777777777777778,
              "#fb9f3a"
             ],
             [
              0.8888888888888888,
              "#fdca26"
             ],
             [
              1,
              "#f0f921"
             ]
            ],
            "type": "histogram2d"
           }
          ],
          "histogram2dcontour": [
           {
            "colorbar": {
             "outlinewidth": 0,
             "ticks": ""
            },
            "colorscale": [
             [
              0,
              "#0d0887"
             ],
             [
              0.1111111111111111,
              "#46039f"
             ],
             [
              0.2222222222222222,
              "#7201a8"
             ],
             [
              0.3333333333333333,
              "#9c179e"
             ],
             [
              0.4444444444444444,
              "#bd3786"
             ],
             [
              0.5555555555555556,
              "#d8576b"
             ],
             [
              0.6666666666666666,
              "#ed7953"
             ],
             [
              0.7777777777777778,
              "#fb9f3a"
             ],
             [
              0.8888888888888888,
              "#fdca26"
             ],
             [
              1,
              "#f0f921"
             ]
            ],
            "type": "histogram2dcontour"
           }
          ],
          "mesh3d": [
           {
            "colorbar": {
             "outlinewidth": 0,
             "ticks": ""
            },
            "type": "mesh3d"
           }
          ],
          "parcoords": [
           {
            "line": {
             "colorbar": {
              "outlinewidth": 0,
              "ticks": ""
             }
            },
            "type": "parcoords"
           }
          ],
          "pie": [
           {
            "automargin": true,
            "type": "pie"
           }
          ],
          "scatter": [
           {
            "fillpattern": {
             "fillmode": "overlay",
             "size": 10,
             "solidity": 0.2
            },
            "type": "scatter"
           }
          ],
          "scatter3d": [
           {
            "line": {
             "colorbar": {
              "outlinewidth": 0,
              "ticks": ""
             }
            },
            "marker": {
             "colorbar": {
              "outlinewidth": 0,
              "ticks": ""
             }
            },
            "type": "scatter3d"
           }
          ],
          "scattercarpet": [
           {
            "marker": {
             "colorbar": {
              "outlinewidth": 0,
              "ticks": ""
             }
            },
            "type": "scattercarpet"
           }
          ],
          "scattergeo": [
           {
            "marker": {
             "colorbar": {
              "outlinewidth": 0,
              "ticks": ""
             }
            },
            "type": "scattergeo"
           }
          ],
          "scattergl": [
           {
            "marker": {
             "colorbar": {
              "outlinewidth": 0,
              "ticks": ""
             }
            },
            "type": "scattergl"
           }
          ],
          "scattermapbox": [
           {
            "marker": {
             "colorbar": {
              "outlinewidth": 0,
              "ticks": ""
             }
            },
            "type": "scattermapbox"
           }
          ],
          "scatterpolar": [
           {
            "marker": {
             "colorbar": {
              "outlinewidth": 0,
              "ticks": ""
             }
            },
            "type": "scatterpolar"
           }
          ],
          "scatterpolargl": [
           {
            "marker": {
             "colorbar": {
              "outlinewidth": 0,
              "ticks": ""
             }
            },
            "type": "scatterpolargl"
           }
          ],
          "scatterternary": [
           {
            "marker": {
             "colorbar": {
              "outlinewidth": 0,
              "ticks": ""
             }
            },
            "type": "scatterternary"
           }
          ],
          "surface": [
           {
            "colorbar": {
             "outlinewidth": 0,
             "ticks": ""
            },
            "colorscale": [
             [
              0,
              "#0d0887"
             ],
             [
              0.1111111111111111,
              "#46039f"
             ],
             [
              0.2222222222222222,
              "#7201a8"
             ],
             [
              0.3333333333333333,
              "#9c179e"
             ],
             [
              0.4444444444444444,
              "#bd3786"
             ],
             [
              0.5555555555555556,
              "#d8576b"
             ],
             [
              0.6666666666666666,
              "#ed7953"
             ],
             [
              0.7777777777777778,
              "#fb9f3a"
             ],
             [
              0.8888888888888888,
              "#fdca26"
             ],
             [
              1,
              "#f0f921"
             ]
            ],
            "type": "surface"
           }
          ],
          "table": [
           {
            "cells": {
             "fill": {
              "color": "#EBF0F8"
             },
             "line": {
              "color": "white"
             }
            },
            "header": {
             "fill": {
              "color": "#C8D4E3"
             },
             "line": {
              "color": "white"
             }
            },
            "type": "table"
           }
          ]
         },
         "layout": {
          "annotationdefaults": {
           "arrowcolor": "#2a3f5f",
           "arrowhead": 0,
           "arrowwidth": 1
          },
          "autotypenumbers": "strict",
          "coloraxis": {
           "colorbar": {
            "outlinewidth": 0,
            "ticks": ""
           }
          },
          "colorscale": {
           "diverging": [
            [
             0,
             "#8e0152"
            ],
            [
             0.1,
             "#c51b7d"
            ],
            [
             0.2,
             "#de77ae"
            ],
            [
             0.3,
             "#f1b6da"
            ],
            [
             0.4,
             "#fde0ef"
            ],
            [
             0.5,
             "#f7f7f7"
            ],
            [
             0.6,
             "#e6f5d0"
            ],
            [
             0.7,
             "#b8e186"
            ],
            [
             0.8,
             "#7fbc41"
            ],
            [
             0.9,
             "#4d9221"
            ],
            [
             1,
             "#276419"
            ]
           ],
           "sequential": [
            [
             0,
             "#0d0887"
            ],
            [
             0.1111111111111111,
             "#46039f"
            ],
            [
             0.2222222222222222,
             "#7201a8"
            ],
            [
             0.3333333333333333,
             "#9c179e"
            ],
            [
             0.4444444444444444,
             "#bd3786"
            ],
            [
             0.5555555555555556,
             "#d8576b"
            ],
            [
             0.6666666666666666,
             "#ed7953"
            ],
            [
             0.7777777777777778,
             "#fb9f3a"
            ],
            [
             0.8888888888888888,
             "#fdca26"
            ],
            [
             1,
             "#f0f921"
            ]
           ],
           "sequentialminus": [
            [
             0,
             "#0d0887"
            ],
            [
             0.1111111111111111,
             "#46039f"
            ],
            [
             0.2222222222222222,
             "#7201a8"
            ],
            [
             0.3333333333333333,
             "#9c179e"
            ],
            [
             0.4444444444444444,
             "#bd3786"
            ],
            [
             0.5555555555555556,
             "#d8576b"
            ],
            [
             0.6666666666666666,
             "#ed7953"
            ],
            [
             0.7777777777777778,
             "#fb9f3a"
            ],
            [
             0.8888888888888888,
             "#fdca26"
            ],
            [
             1,
             "#f0f921"
            ]
           ]
          },
          "colorway": [
           "#636efa",
           "#EF553B",
           "#00cc96",
           "#ab63fa",
           "#FFA15A",
           "#19d3f3",
           "#FF6692",
           "#B6E880",
           "#FF97FF",
           "#FECB52"
          ],
          "font": {
           "color": "#2a3f5f"
          },
          "geo": {
           "bgcolor": "white",
           "lakecolor": "white",
           "landcolor": "#E5ECF6",
           "showlakes": true,
           "showland": true,
           "subunitcolor": "white"
          },
          "hoverlabel": {
           "align": "left"
          },
          "hovermode": "closest",
          "mapbox": {
           "style": "light"
          },
          "paper_bgcolor": "white",
          "plot_bgcolor": "#E5ECF6",
          "polar": {
           "angularaxis": {
            "gridcolor": "white",
            "linecolor": "white",
            "ticks": ""
           },
           "bgcolor": "#E5ECF6",
           "radialaxis": {
            "gridcolor": "white",
            "linecolor": "white",
            "ticks": ""
           }
          },
          "scene": {
           "xaxis": {
            "backgroundcolor": "#E5ECF6",
            "gridcolor": "white",
            "gridwidth": 2,
            "linecolor": "white",
            "showbackground": true,
            "ticks": "",
            "zerolinecolor": "white"
           },
           "yaxis": {
            "backgroundcolor": "#E5ECF6",
            "gridcolor": "white",
            "gridwidth": 2,
            "linecolor": "white",
            "showbackground": true,
            "ticks": "",
            "zerolinecolor": "white"
           },
           "zaxis": {
            "backgroundcolor": "#E5ECF6",
            "gridcolor": "white",
            "gridwidth": 2,
            "linecolor": "white",
            "showbackground": true,
            "ticks": "",
            "zerolinecolor": "white"
           }
          },
          "shapedefaults": {
           "line": {
            "color": "#2a3f5f"
           }
          },
          "ternary": {
           "aaxis": {
            "gridcolor": "white",
            "linecolor": "white",
            "ticks": ""
           },
           "baxis": {
            "gridcolor": "white",
            "linecolor": "white",
            "ticks": ""
           },
           "bgcolor": "#E5ECF6",
           "caxis": {
            "gridcolor": "white",
            "linecolor": "white",
            "ticks": ""
           }
          },
          "title": {
           "x": 0.05
          },
          "xaxis": {
           "automargin": true,
           "gridcolor": "white",
           "linecolor": "white",
           "ticks": "",
           "title": {
            "standoff": 15
           },
           "zerolinecolor": "white",
           "zerolinewidth": 2
          },
          "yaxis": {
           "automargin": true,
           "gridcolor": "white",
           "linecolor": "white",
           "ticks": "",
           "title": {
            "standoff": 15
           },
           "zerolinecolor": "white",
           "zerolinewidth": 2
          }
         }
        }
       }
      },
      "image/png": "[encoded data removed]",
      "text/html": [
       "<div>                            <div id=\"a797f3c4-e6ae-421c-b6e8-a3fc9087bb18\" class=\"plotly-graph-div\" style=\"height:525px; width:100%;\"></div>            <script type=\"text/javascript\">                require([\"plotly\"], function(Plotly) {                    window.PLOTLYENV=window.PLOTLYENV || {};                                    if (document.getElementById(\"a797f3c4-e6ae-421c-b6e8-a3fc9087bb18\")) {                    Plotly.newPlot(                        \"a797f3c4-e6ae-421c-b6e8-a3fc9087bb18\",                        [{\"hovertemplate\":\"mean=%{theta}<extra></extra>\",\"legendgroup\":\"\",\"line\":{\"color\":\"#636efa\",\"dash\":\"solid\"},\"marker\":{\"symbol\":\"circle\"},\"mode\":\"lines\",\"name\":\"\",\"r\":[30.439999999999998,16.096,5.388,3.7920000000000003,0.45620000000000005,0.32223999999999997,0.7458,30.439999999999998],\"showlegend\":false,\"subplot\":\"polar\",\"theta\":[30.439999999999998,16.096,5.388,3.7920000000000003,0.45620000000000005,0.32223999999999997,0.7458,30.439999999999998],\"type\":\"scatterpolar\"}],                        {\"template\":{\"data\":{\"histogram2dcontour\":[{\"type\":\"histogram2dcontour\",\"colorbar\":{\"outlinewidth\":0,\"ticks\":\"\"},\"colorscale\":[[0.0,\"#0d0887\"],[0.1111111111111111,\"#46039f\"],[0.2222222222222222,\"#7201a8\"],[0.3333333333333333,\"#9c179e\"],[0.4444444444444444,\"#bd3786\"],[0.5555555555555556,\"#d8576b\"],[0.6666666666666666,\"#ed7953\"],[0.7777777777777778,\"#fb9f3a\"],[0.8888888888888888,\"#fdca26\"],[1.0,\"#f0f921\"]]}],\"choropleth\":[{\"type\":\"choropleth\",\"colorbar\":{\"outlinewidth\":0,\"ticks\":\"\"}}],\"histogram2d\":[{\"type\":\"histogram2d\",\"colorbar\":{\"outlinewidth\":0,\"ticks\":\"\"},\"colorscale\":[[0.0,\"#0d0887\"],[0.1111111111111111,\"#46039f\"],[0.2222222222222222,\"#7201a8\"],[0.3333333333333333,\"#9c179e\"],[0.4444444444444444,\"#bd3786\"],[0.5555555555555556,\"#d8576b\"],[0.6666666666666666,\"#ed7953\"],[0.7777777777777778,\"#fb9f3a\"],[0.8888888888888888,\"#fdca26\"],[1.0,\"#f0f921\"]]}],\"heatmap\":[{\"type\":\"heatmap\",\"colorbar\":{\"outlinewidth\":0,\"ticks\":\"\"},\"colorscale\":[[0.0,\"#0d0887\"],[0.1111111111111111,\"#46039f\"],[0.2222222222222222,\"#7201a8\"],[0.3333333333333333,\"#9c179e\"],[0.4444444444444444,\"#bd3786\"],[0.5555555555555556,\"#d8576b\"],[0.6666666666666666,\"#ed7953\"],[0.7777777777777778,\"#fb9f3a\"],[0.8888888888888888,\"#fdca26\"],[1.0,\"#f0f921\"]]}],\"heatmapgl\":[{\"type\":\"heatmapgl\",\"colorbar\":{\"outlinewidth\":0,\"ticks\":\"\"},\"colorscale\":[[0.0,\"#0d0887\"],[0.1111111111111111,\"#46039f\"],[0.2222222222222222,\"#7201a8\"],[0.3333333333333333,\"#9c179e\"],[0.4444444444444444,\"#bd3786\"],[0.5555555555555556,\"#d8576b\"],[0.6666666666666666,\"#ed7953\"],[0.7777777777777778,\"#fb9f3a\"],[0.8888888888888888,\"#fdca26\"],[1.0,\"#f0f921\"]]}],\"contourcarpet\":[{\"type\":\"contourcarpet\",\"colorbar\":{\"outlinewidth\":0,\"ticks\":\"\"}}],\"contour\":[{\"type\":\"contour\",\"colorbar\":{\"outlinewidth\":0,\"ticks\":\"\"},\"colorscale\":[[0.0,\"#0d0887\"],[0.1111111111111111,\"#46039f\"],[0.2222222222222222,\"#7201a8\"],[0.3333333333333333,\"#9c179e\"],[0.4444444444444444,\"#bd3786\"],[0.5555555555555556,\"#d8576b\"],[0.6666666666666666,\"#ed7953\"],[0.7777777777777778,\"#fb9f3a\"],[0.8888888888888888,\"#fdca26\"],[1.0,\"#f0f921\"]]}],\"surface\":[{\"type\":\"surface\",\"colorbar\":{\"outlinewidth\":0,\"ticks\":\"\"},\"colorscale\":[[0.0,\"#0d0887\"],[0.1111111111111111,\"#46039f\"],[0.2222222222222222,\"#7201a8\"],[0.3333333333333333,\"#9c179e\"],[0.4444444444444444,\"#bd3786\"],[0.5555555555555556,\"#d8576b\"],[0.6666666666666666,\"#ed7953\"],[0.7777777777777778,\"#fb9f3a\"],[0.8888888888888888,\"#fdca26\"],[1.0,\"#f0f921\"]]}],\"mesh3d\":[{\"type\":\"mesh3d\",\"colorbar\":{\"outlinewidth\":0,\"ticks\":\"\"}}],\"scatter\":[{\"fillpattern\":{\"fillmode\":\"overlay\",\"size\":10,\"solidity\":0.2},\"type\":\"scatter\"}],\"parcoords\":[{\"type\":\"parcoords\",\"line\":{\"colorbar\":{\"outlinewidth\":0,\"ticks\":\"\"}}}],\"scatterpolargl\":[{\"type\":\"scatterpolargl\",\"marker\":{\"colorbar\":{\"outlinewidth\":0,\"ticks\":\"\"}}}],\"bar\":[{\"error_x\":{\"color\":\"#2a3f5f\"},\"error_y\":{\"color\":\"#2a3f5f\"},\"marker\":{\"line\":{\"color\":\"#E5ECF6\",\"width\":0.5},\"pattern\":{\"fillmode\":\"overlay\",\"size\":10,\"solidity\":0.2}},\"type\":\"bar\"}],\"scattergeo\":[{\"type\":\"scattergeo\",\"marker\":{\"colorbar\":{\"outlinewidth\":0,\"ticks\":\"\"}}}],\"scatterpolar\":[{\"type\":\"scatterpolar\",\"marker\":{\"colorbar\":{\"outlinewidth\":0,\"ticks\":\"\"}}}],\"histogram\":[{\"marker\":{\"pattern\":{\"fillmode\":\"overlay\",\"size\":10,\"solidity\":0.2}},\"type\":\"histogram\"}],\"scattergl\":[{\"type\":\"scattergl\",\"marker\":{\"colorbar\":{\"outlinewidth\":0,\"ticks\":\"\"}}}],\"scatter3d\":[{\"type\":\"scatter3d\",\"line\":{\"colorbar\":{\"outlinewidth\":0,\"ticks\":\"\"}},\"marker\":{\"colorbar\":{\"outlinewidth\":0,\"ticks\":\"\"}}}],\"scattermapbox\":[{\"type\":\"scattermapbox\",\"marker\":{\"colorbar\":{\"outlinewidth\":0,\"ticks\":\"\"}}}],\"scatterternary\":[{\"type\":\"scatterternary\",\"marker\":{\"colorbar\":{\"outlinewidth\":0,\"ticks\":\"\"}}}],\"scattercarpet\":[{\"type\":\"scattercarpet\",\"marker\":{\"colorbar\":{\"outlinewidth\":0,\"ticks\":\"\"}}}],\"carpet\":[{\"aaxis\":{\"endlinecolor\":\"#2a3f5f\",\"gridcolor\":\"white\",\"linecolor\":\"white\",\"minorgridcolor\":\"white\",\"startlinecolor\":\"#2a3f5f\"},\"baxis\":{\"endlinecolor\":\"#2a3f5f\",\"gridcolor\":\"white\",\"linecolor\":\"white\",\"minorgridcolor\":\"white\",\"startlinecolor\":\"#2a3f5f\"},\"type\":\"carpet\"}],\"table\":[{\"cells\":{\"fill\":{\"color\":\"#EBF0F8\"},\"line\":{\"color\":\"white\"}},\"header\":{\"fill\":{\"color\":\"#C8D4E3\"},\"line\":{\"color\":\"white\"}},\"type\":\"table\"}],\"barpolar\":[{\"marker\":{\"line\":{\"color\":\"#E5ECF6\",\"width\":0.5},\"pattern\":{\"fillmode\":\"overlay\",\"size\":10,\"solidity\":0.2}},\"type\":\"barpolar\"}],\"pie\":[{\"automargin\":true,\"type\":\"pie\"}]},\"layout\":{\"autotypenumbers\":\"strict\",\"colorway\":[\"#636efa\",\"#EF553B\",\"#00cc96\",\"#ab63fa\",\"#FFA15A\",\"#19d3f3\",\"#FF6692\",\"#B6E880\",\"#FF97FF\",\"#FECB52\"],\"font\":{\"color\":\"#2a3f5f\"},\"hovermode\":\"closest\",\"hoverlabel\":{\"align\":\"left\"},\"paper_bgcolor\":\"white\",\"plot_bgcolor\":\"#E5ECF6\",\"polar\":{\"bgcolor\":\"#E5ECF6\",\"angularaxis\":{\"gridcolor\":\"white\",\"linecolor\":\"white\",\"ticks\":\"\"},\"radialaxis\":{\"gridcolor\":\"white\",\"linecolor\":\"white\",\"ticks\":\"\"}},\"ternary\":{\"bgcolor\":\"#E5ECF6\",\"aaxis\":{\"gridcolor\":\"white\",\"linecolor\":\"white\",\"ticks\":\"\"},\"baxis\":{\"gridcolor\":\"white\",\"linecolor\":\"white\",\"ticks\":\"\"},\"caxis\":{\"gridcolor\":\"white\",\"linecolor\":\"white\",\"ticks\":\"\"}},\"coloraxis\":{\"colorbar\":{\"outlinewidth\":0,\"ticks\":\"\"}},\"colorscale\":{\"sequential\":[[0.0,\"#0d0887\"],[0.1111111111111111,\"#46039f\"],[0.2222222222222222,\"#7201a8\"],[0.3333333333333333,\"#9c179e\"],[0.4444444444444444,\"#bd3786\"],[0.5555555555555556,\"#d8576b\"],[0.6666666666666666,\"#ed7953\"],[0.7777777777777778,\"#fb9f3a\"],[0.8888888888888888,\"#fdca26\"],[1.0,\"#f0f921\"]],\"sequentialminus\":[[0.0,\"#0d0887\"],[0.1111111111111111,\"#46039f\"],[0.2222222222222222,\"#7201a8\"],[0.3333333333333333,\"#9c179e\"],[0.4444444444444444,\"#bd3786\"],[0.5555555555555556,\"#d8576b\"],[0.6666666666666666,\"#ed7953\"],[0.7777777777777778,\"#fb9f3a\"],[0.8888888888888888,\"#fdca26\"],[1.0,\"#f0f921\"]],\"diverging\":[[0,\"#8e0152\"],[0.1,\"#c51b7d\"],[0.2,\"#de77ae\"],[0.3,\"#f1b6da\"],[0.4,\"#fde0ef\"],[0.5,\"#f7f7f7\"],[0.6,\"#e6f5d0\"],[0.7,\"#b8e186\"],[0.8,\"#7fbc41\"],[0.9,\"#4d9221\"],[1,\"#276419\"]]},\"xaxis\":{\"gridcolor\":\"white\",\"linecolor\":\"white\",\"ticks\":\"\",\"title\":{\"standoff\":15},\"zerolinecolor\":\"white\",\"automargin\":true,\"zerolinewidth\":2},\"yaxis\":{\"gridcolor\":\"white\",\"linecolor\":\"white\",\"ticks\":\"\",\"title\":{\"standoff\":15},\"zerolinecolor\":\"white\",\"automargin\":true,\"zerolinewidth\":2},\"scene\":{\"xaxis\":{\"backgroundcolor\":\"#E5ECF6\",\"gridcolor\":\"white\",\"linecolor\":\"white\",\"showbackground\":true,\"ticks\":\"\",\"zerolinecolor\":\"white\",\"gridwidth\":2},\"yaxis\":{\"backgroundcolor\":\"#E5ECF6\",\"gridcolor\":\"white\",\"linecolor\":\"white\",\"showbackground\":true,\"ticks\":\"\",\"zerolinecolor\":\"white\",\"gridwidth\":2},\"zaxis\":{\"backgroundcolor\":\"#E5ECF6\",\"gridcolor\":\"white\",\"linecolor\":\"white\",\"showbackground\":true,\"ticks\":\"\",\"zerolinecolor\":\"white\",\"gridwidth\":2}},\"shapedefaults\":{\"line\":{\"color\":\"#2a3f5f\"}},\"annotationdefaults\":{\"arrowcolor\":\"#2a3f5f\",\"arrowhead\":0,\"arrowwidth\":1},\"geo\":{\"bgcolor\":\"white\",\"landcolor\":\"#E5ECF6\",\"subunitcolor\":\"white\",\"showland\":true,\"showlakes\":true,\"lakecolor\":\"white\"},\"title\":{\"x\":0.05},\"mapbox\":{\"style\":\"light\"}}},\"polar\":{\"domain\":{\"x\":[0.0,1.0],\"y\":[0.0,1.0]},\"angularaxis\":{\"direction\":\"clockwise\",\"rotation\":90}},\"legend\":{\"tracegroupgap\":0},\"margin\":{\"t\":60}},                        {\"responsive\": true}                    ).then(function(){\n",
       "                            \n",
       "var gd = document.getElementById('a797f3c4-e6ae-421c-b6e8-a3fc9087bb18');\n",
       "var x = new MutationObserver(function (mutations, observer) {{\n",
       "        var display = window.getComputedStyle(gd).display;\n",
       "        if (!display || display === 'none') {{\n",
       "            console.log([gd, 'removed!']);\n",
       "            Plotly.purge(gd);\n",
       "            observer.disconnect();\n",
       "        }}\n",
       "}});\n",
       "\n",
       "// Listen for the removal of the full notebook cells\n",
       "var notebookContainer = gd.closest('#notebook-container');\n",
       "if (notebookContainer) {{\n",
       "    x.observe(notebookContainer, {childList: true});\n",
       "}}\n",
       "\n",
       "// Listen for the clearing of the current output cell\n",
       "var outputEl = gd.closest('.output');\n",
       "if (outputEl) {{\n",
       "    x.observe(outputEl, {childList: true});\n",
       "}}\n",
       "\n",
       "                        })                };                });            </script>        </div>"
      ]
     },
     "metadata": {},
     "output_type": "display_data"
    }
   ],
   "source": [
    "df = pd.DataFrame(dict(\n",
    "    r=[30.44, 16.10, 5.39, 3.80, 0.46,0.32,0.75],\n",
    "    theta=['MPG','PPG', 'RPG', 'APG','FG%', '3P%','FT%']))\n",
    "fig = px.line_polar(mean_df, r='mean', theta='mean', line_close=True)\n",
    "fig.show()"
   ]
  },
  {
   "cell_type": "code",
   "execution_count": 231,
   "id": "6eb37393-a98b-469d-8f64-73c05dd58aa4",
   "metadata": {},
   "outputs": [],
   "source": [
    "# Calculate averages of each category for middle 5 picks of each year and save to group_b_ave dataframe\n",
    "group_b_ave=group_b_df.groupby('DraftYear').mean().sort_values('DraftYear')"
   ]
  },
  {
   "cell_type": "code",
   "execution_count": 232,
   "id": "80133ad6-a3ea-416a-8358-06701b73fe37",
   "metadata": {},
   "outputs": [],
   "source": [
    "# Calculate averages of each category for last 5 picks of each year and save to group_c_ave dataframe\n",
    "group_c_ave=group_c_df.groupby('DraftYear').mean().sort_values('DraftYear')"
   ]
  },
  {
   "cell_type": "code",
   "execution_count": 233,
   "id": "8e211b03-cc3d-41bf-9ddb-6ea1a674697c",
   "metadata": {},
   "outputs": [
    {
     "data": {
      "application/vnd.plotly.v1+json": {
       "config": {
        "plotlyServerURL": "https://plot.ly"
       },
       "data": [
        {
         "fill": "toself",
         "name": "Group A",
         "r": [
          30.44,
          16.1,
          5.39,
          3.8,
          0.46,
          0.32,
          0.75
         ],
         "theta": [
          "MPG",
          "PPG",
          "RPG",
          "APG",
          "FG%",
          "3P%",
          "FT%"
         ],
         "type": "scatterpolar"
        },
        {
         "fill": "toself",
         "name": "Group B",
         "r": [
          19.88,
          8.36,
          3.62,
          1.72,
          0.42,
          0.31,
          0.76
         ],
         "theta": [
          "MPG",
          "PPG",
          "RPG",
          "APG",
          "FG%",
          "3P%",
          "FT%"
         ],
         "type": "scatterpolar"
        },
        {
         "fill": "toself",
         "name": "Group C",
         "r": [
          17.52,
          7.33,
          3.26,
          1.46,
          0.48,
          0.3,
          0.75
         ],
         "theta": [
          "MPG",
          "PPG",
          "RPG",
          "APG",
          "FG%",
          "3P%",
          "FT%"
         ],
         "type": "scatterpolar"
        }
       ],
       "layout": {
        "height": 500,
        "polar": {
         "angularaxis": {
          "type": "category"
         },
         "radialaxis": {
          "autorange": false,
          "range": [
           0,
           35
          ],
          "type": "linear",
          "visible": true
         }
        },
        "showlegend": true,
        "template": {
         "data": {
          "bar": [
           {
            "error_x": {
             "color": "#2a3f5f"
            },
            "error_y": {
             "color": "#2a3f5f"
            },
            "marker": {
             "line": {
              "color": "#E5ECF6",
              "width": 0.5
             },
             "pattern": {
              "fillmode": "overlay",
              "size": 10,
              "solidity": 0.2
             }
            },
            "type": "bar"
           }
          ],
          "barpolar": [
           {
            "marker": {
             "line": {
              "color": "#E5ECF6",
              "width": 0.5
             },
             "pattern": {
              "fillmode": "overlay",
              "size": 10,
              "solidity": 0.2
             }
            },
            "type": "barpolar"
           }
          ],
          "carpet": [
           {
            "aaxis": {
             "endlinecolor": "#2a3f5f",
             "gridcolor": "white",
             "linecolor": "white",
             "minorgridcolor": "white",
             "startlinecolor": "#2a3f5f"
            },
            "baxis": {
             "endlinecolor": "#2a3f5f",
             "gridcolor": "white",
             "linecolor": "white",
             "minorgridcolor": "white",
             "startlinecolor": "#2a3f5f"
            },
            "type": "carpet"
           }
          ],
          "choropleth": [
           {
            "colorbar": {
             "outlinewidth": 0,
             "ticks": ""
            },
            "type": "choropleth"
           }
          ],
          "contour": [
           {
            "colorbar": {
             "outlinewidth": 0,
             "ticks": ""
            },
            "colorscale": [
             [
              0,
              "#0d0887"
             ],
             [
              0.1111111111111111,
              "#46039f"
             ],
             [
              0.2222222222222222,
              "#7201a8"
             ],
             [
              0.3333333333333333,
              "#9c179e"
             ],
             [
              0.4444444444444444,
              "#bd3786"
             ],
             [
              0.5555555555555556,
              "#d8576b"
             ],
             [
              0.6666666666666666,
              "#ed7953"
             ],
             [
              0.7777777777777778,
              "#fb9f3a"
             ],
             [
              0.8888888888888888,
              "#fdca26"
             ],
             [
              1,
              "#f0f921"
             ]
            ],
            "type": "contour"
           }
          ],
          "contourcarpet": [
           {
            "colorbar": {
             "outlinewidth": 0,
             "ticks": ""
            },
            "type": "contourcarpet"
           }
          ],
          "heatmap": [
           {
            "colorbar": {
             "outlinewidth": 0,
             "ticks": ""
            },
            "colorscale": [
             [
              0,
              "#0d0887"
             ],
             [
              0.1111111111111111,
              "#46039f"
             ],
             [
              0.2222222222222222,
              "#7201a8"
             ],
             [
              0.3333333333333333,
              "#9c179e"
             ],
             [
              0.4444444444444444,
              "#bd3786"
             ],
             [
              0.5555555555555556,
              "#d8576b"
             ],
             [
              0.6666666666666666,
              "#ed7953"
             ],
             [
              0.7777777777777778,
              "#fb9f3a"
             ],
             [
              0.8888888888888888,
              "#fdca26"
             ],
             [
              1,
              "#f0f921"
             ]
            ],
            "type": "heatmap"
           }
          ],
          "heatmapgl": [
           {
            "colorbar": {
             "outlinewidth": 0,
             "ticks": ""
            },
            "colorscale": [
             [
              0,
              "#0d0887"
             ],
             [
              0.1111111111111111,
              "#46039f"
             ],
             [
              0.2222222222222222,
              "#7201a8"
             ],
             [
              0.3333333333333333,
              "#9c179e"
             ],
             [
              0.4444444444444444,
              "#bd3786"
             ],
             [
              0.5555555555555556,
              "#d8576b"
             ],
             [
              0.6666666666666666,
              "#ed7953"
             ],
             [
              0.7777777777777778,
              "#fb9f3a"
             ],
             [
              0.8888888888888888,
              "#fdca26"
             ],
             [
              1,
              "#f0f921"
             ]
            ],
            "type": "heatmapgl"
           }
          ],
          "histogram": [
           {
            "marker": {
             "pattern": {
              "fillmode": "overlay",
              "size": 10,
              "solidity": 0.2
             }
            },
            "type": "histogram"
           }
          ],
          "histogram2d": [
           {
            "colorbar": {
             "outlinewidth": 0,
             "ticks": ""
            },
            "colorscale": [
             [
              0,
              "#0d0887"
             ],
             [
              0.1111111111111111,
              "#46039f"
             ],
             [
              0.2222222222222222,
              "#7201a8"
             ],
             [
              0.3333333333333333,
              "#9c179e"
             ],
             [
              0.4444444444444444,
              "#bd3786"
             ],
             [
              0.5555555555555556,
              "#d8576b"
             ],
             [
              0.6666666666666666,
              "#ed7953"
             ],
             [
              0.7777777777777778,
              "#fb9f3a"
             ],
             [
              0.8888888888888888,
              "#fdca26"
             ],
             [
              1,
              "#f0f921"
             ]
            ],
            "type": "histogram2d"
           }
          ],
          "histogram2dcontour": [
           {
            "colorbar": {
             "outlinewidth": 0,
             "ticks": ""
            },
            "colorscale": [
             [
              0,
              "#0d0887"
             ],
             [
              0.1111111111111111,
              "#46039f"
             ],
             [
              0.2222222222222222,
              "#7201a8"
             ],
             [
              0.3333333333333333,
              "#9c179e"
             ],
             [
              0.4444444444444444,
              "#bd3786"
             ],
             [
              0.5555555555555556,
              "#d8576b"
             ],
             [
              0.6666666666666666,
              "#ed7953"
             ],
             [
              0.7777777777777778,
              "#fb9f3a"
             ],
             [
              0.8888888888888888,
              "#fdca26"
             ],
             [
              1,
              "#f0f921"
             ]
            ],
            "type": "histogram2dcontour"
           }
          ],
          "mesh3d": [
           {
            "colorbar": {
             "outlinewidth": 0,
             "ticks": ""
            },
            "type": "mesh3d"
           }
          ],
          "parcoords": [
           {
            "line": {
             "colorbar": {
              "outlinewidth": 0,
              "ticks": ""
             }
            },
            "type": "parcoords"
           }
          ],
          "pie": [
           {
            "automargin": true,
            "type": "pie"
           }
          ],
          "scatter": [
           {
            "fillpattern": {
             "fillmode": "overlay",
             "size": 10,
             "solidity": 0.2
            },
            "type": "scatter"
           }
          ],
          "scatter3d": [
           {
            "line": {
             "colorbar": {
              "outlinewidth": 0,
              "ticks": ""
             }
            },
            "marker": {
             "colorbar": {
              "outlinewidth": 0,
              "ticks": ""
             }
            },
            "type": "scatter3d"
           }
          ],
          "scattercarpet": [
           {
            "marker": {
             "colorbar": {
              "outlinewidth": 0,
              "ticks": ""
             }
            },
            "type": "scattercarpet"
           }
          ],
          "scattergeo": [
           {
            "marker": {
             "colorbar": {
              "outlinewidth": 0,
              "ticks": ""
             }
            },
            "type": "scattergeo"
           }
          ],
          "scattergl": [
           {
            "marker": {
             "colorbar": {
              "outlinewidth": 0,
              "ticks": ""
             }
            },
            "type": "scattergl"
           }
          ],
          "scattermapbox": [
           {
            "marker": {
             "colorbar": {
              "outlinewidth": 0,
              "ticks": ""
             }
            },
            "type": "scattermapbox"
           }
          ],
          "scatterpolar": [
           {
            "marker": {
             "colorbar": {
              "outlinewidth": 0,
              "ticks": ""
             }
            },
            "type": "scatterpolar"
           }
          ],
          "scatterpolargl": [
           {
            "marker": {
             "colorbar": {
              "outlinewidth": 0,
              "ticks": ""
             }
            },
            "type": "scatterpolargl"
           }
          ],
          "scatterternary": [
           {
            "marker": {
             "colorbar": {
              "outlinewidth": 0,
              "ticks": ""
             }
            },
            "type": "scatterternary"
           }
          ],
          "surface": [
           {
            "colorbar": {
             "outlinewidth": 0,
             "ticks": ""
            },
            "colorscale": [
             [
              0,
              "#0d0887"
             ],
             [
              0.1111111111111111,
              "#46039f"
             ],
             [
              0.2222222222222222,
              "#7201a8"
             ],
             [
              0.3333333333333333,
              "#9c179e"
             ],
             [
              0.4444444444444444,
              "#bd3786"
             ],
             [
              0.5555555555555556,
              "#d8576b"
             ],
             [
              0.6666666666666666,
              "#ed7953"
             ],
             [
              0.7777777777777778,
              "#fb9f3a"
             ],
             [
              0.8888888888888888,
              "#fdca26"
             ],
             [
              1,
              "#f0f921"
             ]
            ],
            "type": "surface"
           }
          ],
          "table": [
           {
            "cells": {
             "fill": {
              "color": "#EBF0F8"
             },
             "line": {
              "color": "white"
             }
            },
            "header": {
             "fill": {
              "color": "#C8D4E3"
             },
             "line": {
              "color": "white"
             }
            },
            "type": "table"
           }
          ]
         },
         "layout": {
          "annotationdefaults": {
           "arrowcolor": "#2a3f5f",
           "arrowhead": 0,
           "arrowwidth": 1
          },
          "autotypenumbers": "strict",
          "coloraxis": {
           "colorbar": {
            "outlinewidth": 0,
            "ticks": ""
           }
          },
          "colorscale": {
           "diverging": [
            [
             0,
             "#8e0152"
            ],
            [
             0.1,
             "#c51b7d"
            ],
            [
             0.2,
             "#de77ae"
            ],
            [
             0.3,
             "#f1b6da"
            ],
            [
             0.4,
             "#fde0ef"
            ],
            [
             0.5,
             "#f7f7f7"
            ],
            [
             0.6,
             "#e6f5d0"
            ],
            [
             0.7,
             "#b8e186"
            ],
            [
             0.8,
             "#7fbc41"
            ],
            [
             0.9,
             "#4d9221"
            ],
            [
             1,
             "#276419"
            ]
           ],
           "sequential": [
            [
             0,
             "#0d0887"
            ],
            [
             0.1111111111111111,
             "#46039f"
            ],
            [
             0.2222222222222222,
             "#7201a8"
            ],
            [
             0.3333333333333333,
             "#9c179e"
            ],
            [
             0.4444444444444444,
             "#bd3786"
            ],
            [
             0.5555555555555556,
             "#d8576b"
            ],
            [
             0.6666666666666666,
             "#ed7953"
            ],
            [
             0.7777777777777778,
             "#fb9f3a"
            ],
            [
             0.8888888888888888,
             "#fdca26"
            ],
            [
             1,
             "#f0f921"
            ]
           ],
           "sequentialminus": [
            [
             0,
             "#0d0887"
            ],
            [
             0.1111111111111111,
             "#46039f"
            ],
            [
             0.2222222222222222,
             "#7201a8"
            ],
            [
             0.3333333333333333,
             "#9c179e"
            ],
            [
             0.4444444444444444,
             "#bd3786"
            ],
            [
             0.5555555555555556,
             "#d8576b"
            ],
            [
             0.6666666666666666,
             "#ed7953"
            ],
            [
             0.7777777777777778,
             "#fb9f3a"
            ],
            [
             0.8888888888888888,
             "#fdca26"
            ],
            [
             1,
             "#f0f921"
            ]
           ]
          },
          "colorway": [
           "#636efa",
           "#EF553B",
           "#00cc96",
           "#ab63fa",
           "#FFA15A",
           "#19d3f3",
           "#FF6692",
           "#B6E880",
           "#FF97FF",
           "#FECB52"
          ],
          "font": {
           "color": "#2a3f5f"
          },
          "geo": {
           "bgcolor": "white",
           "lakecolor": "white",
           "landcolor": "#E5ECF6",
           "showlakes": true,
           "showland": true,
           "subunitcolor": "white"
          },
          "hoverlabel": {
           "align": "left"
          },
          "hovermode": "closest",
          "mapbox": {
           "style": "light"
          },
          "paper_bgcolor": "white",
          "plot_bgcolor": "#E5ECF6",
          "polar": {
           "angularaxis": {
            "gridcolor": "white",
            "linecolor": "white",
            "ticks": ""
           },
           "bgcolor": "#E5ECF6",
           "radialaxis": {
            "gridcolor": "white",
            "linecolor": "white",
            "ticks": ""
           }
          },
          "scene": {
           "xaxis": {
            "backgroundcolor": "#E5ECF6",
            "gridcolor": "white",
            "gridwidth": 2,
            "linecolor": "white",
            "showbackground": true,
            "ticks": "",
            "zerolinecolor": "white"
           },
           "yaxis": {
            "backgroundcolor": "#E5ECF6",
            "gridcolor": "white",
            "gridwidth": 2,
            "linecolor": "white",
            "showbackground": true,
            "ticks": "",
            "zerolinecolor": "white"
           },
           "zaxis": {
            "backgroundcolor": "#E5ECF6",
            "gridcolor": "white",
            "gridwidth": 2,
            "linecolor": "white",
            "showbackground": true,
            "ticks": "",
            "zerolinecolor": "white"
           }
          },
          "shapedefaults": {
           "line": {
            "color": "#2a3f5f"
           }
          },
          "ternary": {
           "aaxis": {
            "gridcolor": "white",
            "linecolor": "white",
            "ticks": ""
           },
           "baxis": {
            "gridcolor": "white",
            "linecolor": "white",
            "ticks": ""
           },
           "bgcolor": "#E5ECF6",
           "caxis": {
            "gridcolor": "white",
            "linecolor": "white",
            "ticks": ""
           }
          },
          "title": {
           "x": 0.05
          },
          "xaxis": {
           "automargin": true,
           "gridcolor": "white",
           "linecolor": "white",
           "ticks": "",
           "title": {
            "standoff": 15
           },
           "zerolinecolor": "white",
           "zerolinewidth": 2
          },
          "yaxis": {
           "automargin": true,
           "gridcolor": "white",
           "linecolor": "white",
           "ticks": "",
           "title": {
            "standoff": 15
           },
           "zerolinecolor": "white",
           "zerolinewidth": 2
          }
         }
        },
        "width": 500
       }
      },
      "image/png": "[encoded data removed]",
      "text/html": [
       "<div>                            <div id=\"cdc1cfd0-35d5-493c-b6ed-da9d13848a82\" class=\"plotly-graph-div\" style=\"height:500px; width:500px;\"></div>            <script type=\"text/javascript\">                require([\"plotly\"], function(Plotly) {                    window.PLOTLYENV=window.PLOTLYENV || {};                                    if (document.getElementById(\"cdc1cfd0-35d5-493c-b6ed-da9d13848a82\")) {                    Plotly.newPlot(                        \"cdc1cfd0-35d5-493c-b6ed-da9d13848a82\",                        [{\"fill\":\"toself\",\"name\":\"Group A\",\"r\":[30.44,16.1,5.39,3.8,0.46,0.32,0.75],\"theta\":[\"MPG\",\"PPG\",\"RPG\",\"APG\",\"FG%\",\"3P%\",\"FT%\"],\"type\":\"scatterpolar\"},{\"fill\":\"toself\",\"name\":\"Group B\",\"r\":[19.88,8.36,3.62,1.72,0.42,0.31,0.76],\"theta\":[\"MPG\",\"PPG\",\"RPG\",\"APG\",\"FG%\",\"3P%\",\"FT%\"],\"type\":\"scatterpolar\"},{\"fill\":\"toself\",\"name\":\"Group C\",\"r\":[17.52,7.33,3.26,1.46,0.48,0.3,0.75],\"theta\":[\"MPG\",\"PPG\",\"RPG\",\"APG\",\"FG%\",\"3P%\",\"FT%\"],\"type\":\"scatterpolar\"}],                        {\"template\":{\"data\":{\"histogram2dcontour\":[{\"type\":\"histogram2dcontour\",\"colorbar\":{\"outlinewidth\":0,\"ticks\":\"\"},\"colorscale\":[[0.0,\"#0d0887\"],[0.1111111111111111,\"#46039f\"],[0.2222222222222222,\"#7201a8\"],[0.3333333333333333,\"#9c179e\"],[0.4444444444444444,\"#bd3786\"],[0.5555555555555556,\"#d8576b\"],[0.6666666666666666,\"#ed7953\"],[0.7777777777777778,\"#fb9f3a\"],[0.8888888888888888,\"#fdca26\"],[1.0,\"#f0f921\"]]}],\"choropleth\":[{\"type\":\"choropleth\",\"colorbar\":{\"outlinewidth\":0,\"ticks\":\"\"}}],\"histogram2d\":[{\"type\":\"histogram2d\",\"colorbar\":{\"outlinewidth\":0,\"ticks\":\"\"},\"colorscale\":[[0.0,\"#0d0887\"],[0.1111111111111111,\"#46039f\"],[0.2222222222222222,\"#7201a8\"],[0.3333333333333333,\"#9c179e\"],[0.4444444444444444,\"#bd3786\"],[0.5555555555555556,\"#d8576b\"],[0.6666666666666666,\"#ed7953\"],[0.7777777777777778,\"#fb9f3a\"],[0.8888888888888888,\"#fdca26\"],[1.0,\"#f0f921\"]]}],\"heatmap\":[{\"type\":\"heatmap\",\"colorbar\":{\"outlinewidth\":0,\"ticks\":\"\"},\"colorscale\":[[0.0,\"#0d0887\"],[0.1111111111111111,\"#46039f\"],[0.2222222222222222,\"#7201a8\"],[0.3333333333333333,\"#9c179e\"],[0.4444444444444444,\"#bd3786\"],[0.5555555555555556,\"#d8576b\"],[0.6666666666666666,\"#ed7953\"],[0.7777777777777778,\"#fb9f3a\"],[0.8888888888888888,\"#fdca26\"],[1.0,\"#f0f921\"]]}],\"heatmapgl\":[{\"type\":\"heatmapgl\",\"colorbar\":{\"outlinewidth\":0,\"ticks\":\"\"},\"colorscale\":[[0.0,\"#0d0887\"],[0.1111111111111111,\"#46039f\"],[0.2222222222222222,\"#7201a8\"],[0.3333333333333333,\"#9c179e\"],[0.4444444444444444,\"#bd3786\"],[0.5555555555555556,\"#d8576b\"],[0.6666666666666666,\"#ed7953\"],[0.7777777777777778,\"#fb9f3a\"],[0.8888888888888888,\"#fdca26\"],[1.0,\"#f0f921\"]]}],\"contourcarpet\":[{\"type\":\"contourcarpet\",\"colorbar\":{\"outlinewidth\":0,\"ticks\":\"\"}}],\"contour\":[{\"type\":\"contour\",\"colorbar\":{\"outlinewidth\":0,\"ticks\":\"\"},\"colorscale\":[[0.0,\"#0d0887\"],[0.1111111111111111,\"#46039f\"],[0.2222222222222222,\"#7201a8\"],[0.3333333333333333,\"#9c179e\"],[0.4444444444444444,\"#bd3786\"],[0.5555555555555556,\"#d8576b\"],[0.6666666666666666,\"#ed7953\"],[0.7777777777777778,\"#fb9f3a\"],[0.8888888888888888,\"#fdca26\"],[1.0,\"#f0f921\"]]}],\"surface\":[{\"type\":\"surface\",\"colorbar\":{\"outlinewidth\":0,\"ticks\":\"\"},\"colorscale\":[[0.0,\"#0d0887\"],[0.1111111111111111,\"#46039f\"],[0.2222222222222222,\"#7201a8\"],[0.3333333333333333,\"#9c179e\"],[0.4444444444444444,\"#bd3786\"],[0.5555555555555556,\"#d8576b\"],[0.6666666666666666,\"#ed7953\"],[0.7777777777777778,\"#fb9f3a\"],[0.8888888888888888,\"#fdca26\"],[1.0,\"#f0f921\"]]}],\"mesh3d\":[{\"type\":\"mesh3d\",\"colorbar\":{\"outlinewidth\":0,\"ticks\":\"\"}}],\"scatter\":[{\"fillpattern\":{\"fillmode\":\"overlay\",\"size\":10,\"solidity\":0.2},\"type\":\"scatter\"}],\"parcoords\":[{\"type\":\"parcoords\",\"line\":{\"colorbar\":{\"outlinewidth\":0,\"ticks\":\"\"}}}],\"scatterpolargl\":[{\"type\":\"scatterpolargl\",\"marker\":{\"colorbar\":{\"outlinewidth\":0,\"ticks\":\"\"}}}],\"bar\":[{\"error_x\":{\"color\":\"#2a3f5f\"},\"error_y\":{\"color\":\"#2a3f5f\"},\"marker\":{\"line\":{\"color\":\"#E5ECF6\",\"width\":0.5},\"pattern\":{\"fillmode\":\"overlay\",\"size\":10,\"solidity\":0.2}},\"type\":\"bar\"}],\"scattergeo\":[{\"type\":\"scattergeo\",\"marker\":{\"colorbar\":{\"outlinewidth\":0,\"ticks\":\"\"}}}],\"scatterpolar\":[{\"type\":\"scatterpolar\",\"marker\":{\"colorbar\":{\"outlinewidth\":0,\"ticks\":\"\"}}}],\"histogram\":[{\"marker\":{\"pattern\":{\"fillmode\":\"overlay\",\"size\":10,\"solidity\":0.2}},\"type\":\"histogram\"}],\"scattergl\":[{\"type\":\"scattergl\",\"marker\":{\"colorbar\":{\"outlinewidth\":0,\"ticks\":\"\"}}}],\"scatter3d\":[{\"type\":\"scatter3d\",\"line\":{\"colorbar\":{\"outlinewidth\":0,\"ticks\":\"\"}},\"marker\":{\"colorbar\":{\"outlinewidth\":0,\"ticks\":\"\"}}}],\"scattermapbox\":[{\"type\":\"scattermapbox\",\"marker\":{\"colorbar\":{\"outlinewidth\":0,\"ticks\":\"\"}}}],\"scatterternary\":[{\"type\":\"scatterternary\",\"marker\":{\"colorbar\":{\"outlinewidth\":0,\"ticks\":\"\"}}}],\"scattercarpet\":[{\"type\":\"scattercarpet\",\"marker\":{\"colorbar\":{\"outlinewidth\":0,\"ticks\":\"\"}}}],\"carpet\":[{\"aaxis\":{\"endlinecolor\":\"#2a3f5f\",\"gridcolor\":\"white\",\"linecolor\":\"white\",\"minorgridcolor\":\"white\",\"startlinecolor\":\"#2a3f5f\"},\"baxis\":{\"endlinecolor\":\"#2a3f5f\",\"gridcolor\":\"white\",\"linecolor\":\"white\",\"minorgridcolor\":\"white\",\"startlinecolor\":\"#2a3f5f\"},\"type\":\"carpet\"}],\"table\":[{\"cells\":{\"fill\":{\"color\":\"#EBF0F8\"},\"line\":{\"color\":\"white\"}},\"header\":{\"fill\":{\"color\":\"#C8D4E3\"},\"line\":{\"color\":\"white\"}},\"type\":\"table\"}],\"barpolar\":[{\"marker\":{\"line\":{\"color\":\"#E5ECF6\",\"width\":0.5},\"pattern\":{\"fillmode\":\"overlay\",\"size\":10,\"solidity\":0.2}},\"type\":\"barpolar\"}],\"pie\":[{\"automargin\":true,\"type\":\"pie\"}]},\"layout\":{\"autotypenumbers\":\"strict\",\"colorway\":[\"#636efa\",\"#EF553B\",\"#00cc96\",\"#ab63fa\",\"#FFA15A\",\"#19d3f3\",\"#FF6692\",\"#B6E880\",\"#FF97FF\",\"#FECB52\"],\"font\":{\"color\":\"#2a3f5f\"},\"hovermode\":\"closest\",\"hoverlabel\":{\"align\":\"left\"},\"paper_bgcolor\":\"white\",\"plot_bgcolor\":\"#E5ECF6\",\"polar\":{\"bgcolor\":\"#E5ECF6\",\"angularaxis\":{\"gridcolor\":\"white\",\"linecolor\":\"white\",\"ticks\":\"\"},\"radialaxis\":{\"gridcolor\":\"white\",\"linecolor\":\"white\",\"ticks\":\"\"}},\"ternary\":{\"bgcolor\":\"#E5ECF6\",\"aaxis\":{\"gridcolor\":\"white\",\"linecolor\":\"white\",\"ticks\":\"\"},\"baxis\":{\"gridcolor\":\"white\",\"linecolor\":\"white\",\"ticks\":\"\"},\"caxis\":{\"gridcolor\":\"white\",\"linecolor\":\"white\",\"ticks\":\"\"}},\"coloraxis\":{\"colorbar\":{\"outlinewidth\":0,\"ticks\":\"\"}},\"colorscale\":{\"sequential\":[[0.0,\"#0d0887\"],[0.1111111111111111,\"#46039f\"],[0.2222222222222222,\"#7201a8\"],[0.3333333333333333,\"#9c179e\"],[0.4444444444444444,\"#bd3786\"],[0.5555555555555556,\"#d8576b\"],[0.6666666666666666,\"#ed7953\"],[0.7777777777777778,\"#fb9f3a\"],[0.8888888888888888,\"#fdca26\"],[1.0,\"#f0f921\"]],\"sequentialminus\":[[0.0,\"#0d0887\"],[0.1111111111111111,\"#46039f\"],[0.2222222222222222,\"#7201a8\"],[0.3333333333333333,\"#9c179e\"],[0.4444444444444444,\"#bd3786\"],[0.5555555555555556,\"#d8576b\"],[0.6666666666666666,\"#ed7953\"],[0.7777777777777778,\"#fb9f3a\"],[0.8888888888888888,\"#fdca26\"],[1.0,\"#f0f921\"]],\"diverging\":[[0,\"#8e0152\"],[0.1,\"#c51b7d\"],[0.2,\"#de77ae\"],[0.3,\"#f1b6da\"],[0.4,\"#fde0ef\"],[0.5,\"#f7f7f7\"],[0.6,\"#e6f5d0\"],[0.7,\"#b8e186\"],[0.8,\"#7fbc41\"],[0.9,\"#4d9221\"],[1,\"#276419\"]]},\"xaxis\":{\"gridcolor\":\"white\",\"linecolor\":\"white\",\"ticks\":\"\",\"title\":{\"standoff\":15},\"zerolinecolor\":\"white\",\"automargin\":true,\"zerolinewidth\":2},\"yaxis\":{\"gridcolor\":\"white\",\"linecolor\":\"white\",\"ticks\":\"\",\"title\":{\"standoff\":15},\"zerolinecolor\":\"white\",\"automargin\":true,\"zerolinewidth\":2},\"scene\":{\"xaxis\":{\"backgroundcolor\":\"#E5ECF6\",\"gridcolor\":\"white\",\"linecolor\":\"white\",\"showbackground\":true,\"ticks\":\"\",\"zerolinecolor\":\"white\",\"gridwidth\":2},\"yaxis\":{\"backgroundcolor\":\"#E5ECF6\",\"gridcolor\":\"white\",\"linecolor\":\"white\",\"showbackground\":true,\"ticks\":\"\",\"zerolinecolor\":\"white\",\"gridwidth\":2},\"zaxis\":{\"backgroundcolor\":\"#E5ECF6\",\"gridcolor\":\"white\",\"linecolor\":\"white\",\"showbackground\":true,\"ticks\":\"\",\"zerolinecolor\":\"white\",\"gridwidth\":2}},\"shapedefaults\":{\"line\":{\"color\":\"#2a3f5f\"}},\"annotationdefaults\":{\"arrowcolor\":\"#2a3f5f\",\"arrowhead\":0,\"arrowwidth\":1},\"geo\":{\"bgcolor\":\"white\",\"landcolor\":\"#E5ECF6\",\"subunitcolor\":\"white\",\"showland\":true,\"showlakes\":true,\"lakecolor\":\"white\"},\"title\":{\"x\":0.05},\"mapbox\":{\"style\":\"light\"}}},\"polar\":{\"radialaxis\":{\"visible\":true,\"range\":[0,35]}},\"showlegend\":true,\"width\":500,\"height\":500},                        {\"responsive\": true}                    ).then(function(){\n",
       "                            \n",
       "var gd = document.getElementById('cdc1cfd0-35d5-493c-b6ed-da9d13848a82');\n",
       "var x = new MutationObserver(function (mutations, observer) {{\n",
       "        var display = window.getComputedStyle(gd).display;\n",
       "        if (!display || display === 'none') {{\n",
       "            console.log([gd, 'removed!']);\n",
       "            Plotly.purge(gd);\n",
       "            observer.disconnect();\n",
       "        }}\n",
       "}});\n",
       "\n",
       "// Listen for the removal of the full notebook cells\n",
       "var notebookContainer = gd.closest('#notebook-container');\n",
       "if (notebookContainer) {{\n",
       "    x.observe(notebookContainer, {childList: true});\n",
       "}}\n",
       "\n",
       "// Listen for the clearing of the current output cell\n",
       "var outputEl = gd.closest('.output');\n",
       "if (outputEl) {{\n",
       "    x.observe(outputEl, {childList: true});\n",
       "}}\n",
       "\n",
       "                        })                };                });            </script>        </div>"
      ]
     },
     "metadata": {},
     "output_type": "display_data"
    }
   ],
   "source": [
    "categories = ['MPG','PPG', 'RPG', 'APG','FG%', '3P%','FT%']\n",
    "fig = go.Figure()\n",
    "fig.add_trace(go.Scatterpolar(\n",
    "    r = [30.44, 16.10, 5.39, 3.80,0.46,0.32,0.75],\n",
    "    theta = categories,\n",
    "    fill='toself',\n",
    "    name= 'Group A'\n",
    "))\n",
    "\n",
    "fig.add_trace(go.Scatterpolar(\n",
    "    r = [19.88,8.36,3.62,1.72,0.42,0.31,0.76],\n",
    "    theta = categories,\n",
    "    fill='toself',\n",
    "    name= 'Group B'\n",
    "))\n",
    "\n",
    "fig.add_trace(go.Scatterpolar(\n",
    "    r = [17.52,7.33,3.26,1.46,0.48,0.30,0.75],\n",
    "    theta = categories,\n",
    "    fill='toself',\n",
    "    name= 'Group C'\n",
    "))\n",
    "\n",
    "fig.update_layout(\n",
    "    polar=dict(\n",
    "        radialaxis=dict(\n",
    "          visible=True,\n",
    "          range=[0,35]\n",
    "        )),\n",
    "    showlegend=True,\n",
    "    width = 500,\n",
    "    height = 500\n",
    ")\n",
    "    \n",
    "fig.show()"
   ]
  },
  {
   "cell_type": "code",
   "execution_count": 234,
   "id": "b821ab3f-76d4-4601-b17f-10575dac2b04",
   "metadata": {},
   "outputs": [
    {
     "data": {
      "application/vnd.plotly.v1+json": {
       "config": {
        "plotlyServerURL": "https://plot.ly"
       },
       "data": [
        {
         "fill": "toself",
         "name": "Group A",
         "r": [
          30.44,
          16.1,
          5.39,
          3.8
         ],
         "theta": [
          "MPG",
          "PPG",
          "RPG",
          "APG"
         ],
         "type": "scatterpolar"
        },
        {
         "fill": "toself",
         "name": "Group B",
         "r": [
          19.88,
          8.36,
          3.62,
          1.72
         ],
         "theta": [
          "MPG",
          "PPG",
          "RPG",
          "APG"
         ],
         "type": "scatterpolar"
        },
        {
         "fill": "toself",
         "name": "Group C",
         "r": [
          17.52,
          7.33,
          3.26,
          1.46
         ],
         "theta": [
          "MPG",
          "PPG",
          "RPG",
          "APG"
         ],
         "type": "scatterpolar"
        }
       ],
       "layout": {
        "height": 500,
        "polar": {
         "angularaxis": {
          "type": "category"
         },
         "radialaxis": {
          "autorange": false,
          "range": [
           0,
           35
          ],
          "type": "linear",
          "visible": true
         }
        },
        "showlegend": true,
        "template": {
         "data": {
          "bar": [
           {
            "error_x": {
             "color": "#2a3f5f"
            },
            "error_y": {
             "color": "#2a3f5f"
            },
            "marker": {
             "line": {
              "color": "#E5ECF6",
              "width": 0.5
             },
             "pattern": {
              "fillmode": "overlay",
              "size": 10,
              "solidity": 0.2
             }
            },
            "type": "bar"
           }
          ],
          "barpolar": [
           {
            "marker": {
             "line": {
              "color": "#E5ECF6",
              "width": 0.5
             },
             "pattern": {
              "fillmode": "overlay",
              "size": 10,
              "solidity": 0.2
             }
            },
            "type": "barpolar"
           }
          ],
          "carpet": [
           {
            "aaxis": {
             "endlinecolor": "#2a3f5f",
             "gridcolor": "white",
             "linecolor": "white",
             "minorgridcolor": "white",
             "startlinecolor": "#2a3f5f"
            },
            "baxis": {
             "endlinecolor": "#2a3f5f",
             "gridcolor": "white",
             "linecolor": "white",
             "minorgridcolor": "white",
             "startlinecolor": "#2a3f5f"
            },
            "type": "carpet"
           }
          ],
          "choropleth": [
           {
            "colorbar": {
             "outlinewidth": 0,
             "ticks": ""
            },
            "type": "choropleth"
           }
          ],
          "contour": [
           {
            "colorbar": {
             "outlinewidth": 0,
             "ticks": ""
            },
            "colorscale": [
             [
              0,
              "#0d0887"
             ],
             [
              0.1111111111111111,
              "#46039f"
             ],
             [
              0.2222222222222222,
              "#7201a8"
             ],
             [
              0.3333333333333333,
              "#9c179e"
             ],
             [
              0.4444444444444444,
              "#bd3786"
             ],
             [
              0.5555555555555556,
              "#d8576b"
             ],
             [
              0.6666666666666666,
              "#ed7953"
             ],
             [
              0.7777777777777778,
              "#fb9f3a"
             ],
             [
              0.8888888888888888,
              "#fdca26"
             ],
             [
              1,
              "#f0f921"
             ]
            ],
            "type": "contour"
           }
          ],
          "contourcarpet": [
           {
            "colorbar": {
             "outlinewidth": 0,
             "ticks": ""
            },
            "type": "contourcarpet"
           }
          ],
          "heatmap": [
           {
            "colorbar": {
             "outlinewidth": 0,
             "ticks": ""
            },
            "colorscale": [
             [
              0,
              "#0d0887"
             ],
             [
              0.1111111111111111,
              "#46039f"
             ],
             [
              0.2222222222222222,
              "#7201a8"
             ],
             [
              0.3333333333333333,
              "#9c179e"
             ],
             [
              0.4444444444444444,
              "#bd3786"
             ],
             [
              0.5555555555555556,
              "#d8576b"
             ],
             [
              0.6666666666666666,
              "#ed7953"
             ],
             [
              0.7777777777777778,
              "#fb9f3a"
             ],
             [
              0.8888888888888888,
              "#fdca26"
             ],
             [
              1,
              "#f0f921"
             ]
            ],
            "type": "heatmap"
           }
          ],
          "heatmapgl": [
           {
            "colorbar": {
             "outlinewidth": 0,
             "ticks": ""
            },
            "colorscale": [
             [
              0,
              "#0d0887"
             ],
             [
              0.1111111111111111,
              "#46039f"
             ],
             [
              0.2222222222222222,
              "#7201a8"
             ],
             [
              0.3333333333333333,
              "#9c179e"
             ],
             [
              0.4444444444444444,
              "#bd3786"
             ],
             [
              0.5555555555555556,
              "#d8576b"
             ],
             [
              0.6666666666666666,
              "#ed7953"
             ],
             [
              0.7777777777777778,
              "#fb9f3a"
             ],
             [
              0.8888888888888888,
              "#fdca26"
             ],
             [
              1,
              "#f0f921"
             ]
            ],
            "type": "heatmapgl"
           }
          ],
          "histogram": [
           {
            "marker": {
             "pattern": {
              "fillmode": "overlay",
              "size": 10,
              "solidity": 0.2
             }
            },
            "type": "histogram"
           }
          ],
          "histogram2d": [
           {
            "colorbar": {
             "outlinewidth": 0,
             "ticks": ""
            },
            "colorscale": [
             [
              0,
              "#0d0887"
             ],
             [
              0.1111111111111111,
              "#46039f"
             ],
             [
              0.2222222222222222,
              "#7201a8"
             ],
             [
              0.3333333333333333,
              "#9c179e"
             ],
             [
              0.4444444444444444,
              "#bd3786"
             ],
             [
              0.5555555555555556,
              "#d8576b"
             ],
             [
              0.6666666666666666,
              "#ed7953"
             ],
             [
              0.7777777777777778,
              "#fb9f3a"
             ],
             [
              0.8888888888888888,
              "#fdca26"
             ],
             [
              1,
              "#f0f921"
             ]
            ],
            "type": "histogram2d"
           }
          ],
          "histogram2dcontour": [
           {
            "colorbar": {
             "outlinewidth": 0,
             "ticks": ""
            },
            "colorscale": [
             [
              0,
              "#0d0887"
             ],
             [
              0.1111111111111111,
              "#46039f"
             ],
             [
              0.2222222222222222,
              "#7201a8"
             ],
             [
              0.3333333333333333,
              "#9c179e"
             ],
             [
              0.4444444444444444,
              "#bd3786"
             ],
             [
              0.5555555555555556,
              "#d8576b"
             ],
             [
              0.6666666666666666,
              "#ed7953"
             ],
             [
              0.7777777777777778,
              "#fb9f3a"
             ],
             [
              0.8888888888888888,
              "#fdca26"
             ],
             [
              1,
              "#f0f921"
             ]
            ],
            "type": "histogram2dcontour"
           }
          ],
          "mesh3d": [
           {
            "colorbar": {
             "outlinewidth": 0,
             "ticks": ""
            },
            "type": "mesh3d"
           }
          ],
          "parcoords": [
           {
            "line": {
             "colorbar": {
              "outlinewidth": 0,
              "ticks": ""
             }
            },
            "type": "parcoords"
           }
          ],
          "pie": [
           {
            "automargin": true,
            "type": "pie"
           }
          ],
          "scatter": [
           {
            "fillpattern": {
             "fillmode": "overlay",
             "size": 10,
             "solidity": 0.2
            },
            "type": "scatter"
           }
          ],
          "scatter3d": [
           {
            "line": {
             "colorbar": {
              "outlinewidth": 0,
              "ticks": ""
             }
            },
            "marker": {
             "colorbar": {
              "outlinewidth": 0,
              "ticks": ""
             }
            },
            "type": "scatter3d"
           }
          ],
          "scattercarpet": [
           {
            "marker": {
             "colorbar": {
              "outlinewidth": 0,
              "ticks": ""
             }
            },
            "type": "scattercarpet"
           }
          ],
          "scattergeo": [
           {
            "marker": {
             "colorbar": {
              "outlinewidth": 0,
              "ticks": ""
             }
            },
            "type": "scattergeo"
           }
          ],
          "scattergl": [
           {
            "marker": {
             "colorbar": {
              "outlinewidth": 0,
              "ticks": ""
             }
            },
            "type": "scattergl"
           }
          ],
          "scattermapbox": [
           {
            "marker": {
             "colorbar": {
              "outlinewidth": 0,
              "ticks": ""
             }
            },
            "type": "scattermapbox"
           }
          ],
          "scatterpolar": [
           {
            "marker": {
             "colorbar": {
              "outlinewidth": 0,
              "ticks": ""
             }
            },
            "type": "scatterpolar"
           }
          ],
          "scatterpolargl": [
           {
            "marker": {
             "colorbar": {
              "outlinewidth": 0,
              "ticks": ""
             }
            },
            "type": "scatterpolargl"
           }
          ],
          "scatterternary": [
           {
            "marker": {
             "colorbar": {
              "outlinewidth": 0,
              "ticks": ""
             }
            },
            "type": "scatterternary"
           }
          ],
          "surface": [
           {
            "colorbar": {
             "outlinewidth": 0,
             "ticks": ""
            },
            "colorscale": [
             [
              0,
              "#0d0887"
             ],
             [
              0.1111111111111111,
              "#46039f"
             ],
             [
              0.2222222222222222,
              "#7201a8"
             ],
             [
              0.3333333333333333,
              "#9c179e"
             ],
             [
              0.4444444444444444,
              "#bd3786"
             ],
             [
              0.5555555555555556,
              "#d8576b"
             ],
             [
              0.6666666666666666,
              "#ed7953"
             ],
             [
              0.7777777777777778,
              "#fb9f3a"
             ],
             [
              0.8888888888888888,
              "#fdca26"
             ],
             [
              1,
              "#f0f921"
             ]
            ],
            "type": "surface"
           }
          ],
          "table": [
           {
            "cells": {
             "fill": {
              "color": "#EBF0F8"
             },
             "line": {
              "color": "white"
             }
            },
            "header": {
             "fill": {
              "color": "#C8D4E3"
             },
             "line": {
              "color": "white"
             }
            },
            "type": "table"
           }
          ]
         },
         "layout": {
          "annotationdefaults": {
           "arrowcolor": "#2a3f5f",
           "arrowhead": 0,
           "arrowwidth": 1
          },
          "autotypenumbers": "strict",
          "coloraxis": {
           "colorbar": {
            "outlinewidth": 0,
            "ticks": ""
           }
          },
          "colorscale": {
           "diverging": [
            [
             0,
             "#8e0152"
            ],
            [
             0.1,
             "#c51b7d"
            ],
            [
             0.2,
             "#de77ae"
            ],
            [
             0.3,
             "#f1b6da"
            ],
            [
             0.4,
             "#fde0ef"
            ],
            [
             0.5,
             "#f7f7f7"
            ],
            [
             0.6,
             "#e6f5d0"
            ],
            [
             0.7,
             "#b8e186"
            ],
            [
             0.8,
             "#7fbc41"
            ],
            [
             0.9,
             "#4d9221"
            ],
            [
             1,
             "#276419"
            ]
           ],
           "sequential": [
            [
             0,
             "#0d0887"
            ],
            [
             0.1111111111111111,
             "#46039f"
            ],
            [
             0.2222222222222222,
             "#7201a8"
            ],
            [
             0.3333333333333333,
             "#9c179e"
            ],
            [
             0.4444444444444444,
             "#bd3786"
            ],
            [
             0.5555555555555556,
             "#d8576b"
            ],
            [
             0.6666666666666666,
             "#ed7953"
            ],
            [
             0.7777777777777778,
             "#fb9f3a"
            ],
            [
             0.8888888888888888,
             "#fdca26"
            ],
            [
             1,
             "#f0f921"
            ]
           ],
           "sequentialminus": [
            [
             0,
             "#0d0887"
            ],
            [
             0.1111111111111111,
             "#46039f"
            ],
            [
             0.2222222222222222,
             "#7201a8"
            ],
            [
             0.3333333333333333,
             "#9c179e"
            ],
            [
             0.4444444444444444,
             "#bd3786"
            ],
            [
             0.5555555555555556,
             "#d8576b"
            ],
            [
             0.6666666666666666,
             "#ed7953"
            ],
            [
             0.7777777777777778,
             "#fb9f3a"
            ],
            [
             0.8888888888888888,
             "#fdca26"
            ],
            [
             1,
             "#f0f921"
            ]
           ]
          },
          "colorway": [
           "#636efa",
           "#EF553B",
           "#00cc96",
           "#ab63fa",
           "#FFA15A",
           "#19d3f3",
           "#FF6692",
           "#B6E880",
           "#FF97FF",
           "#FECB52"
          ],
          "font": {
           "color": "#2a3f5f"
          },
          "geo": {
           "bgcolor": "white",
           "lakecolor": "white",
           "landcolor": "#E5ECF6",
           "showlakes": true,
           "showland": true,
           "subunitcolor": "white"
          },
          "hoverlabel": {
           "align": "left"
          },
          "hovermode": "closest",
          "mapbox": {
           "style": "light"
          },
          "paper_bgcolor": "white",
          "plot_bgcolor": "#E5ECF6",
          "polar": {
           "angularaxis": {
            "gridcolor": "white",
            "linecolor": "white",
            "ticks": ""
           },
           "bgcolor": "#E5ECF6",
           "radialaxis": {
            "gridcolor": "white",
            "linecolor": "white",
            "ticks": ""
           }
          },
          "scene": {
           "xaxis": {
            "backgroundcolor": "#E5ECF6",
            "gridcolor": "white",
            "gridwidth": 2,
            "linecolor": "white",
            "showbackground": true,
            "ticks": "",
            "zerolinecolor": "white"
           },
           "yaxis": {
            "backgroundcolor": "#E5ECF6",
            "gridcolor": "white",
            "gridwidth": 2,
            "linecolor": "white",
            "showbackground": true,
            "ticks": "",
            "zerolinecolor": "white"
           },
           "zaxis": {
            "backgroundcolor": "#E5ECF6",
            "gridcolor": "white",
            "gridwidth": 2,
            "linecolor": "white",
            "showbackground": true,
            "ticks": "",
            "zerolinecolor": "white"
           }
          },
          "shapedefaults": {
           "line": {
            "color": "#2a3f5f"
           }
          },
          "ternary": {
           "aaxis": {
            "gridcolor": "white",
            "linecolor": "white",
            "ticks": ""
           },
           "baxis": {
            "gridcolor": "white",
            "linecolor": "white",
            "ticks": ""
           },
           "bgcolor": "#E5ECF6",
           "caxis": {
            "gridcolor": "white",
            "linecolor": "white",
            "ticks": ""
           }
          },
          "title": {
           "x": 0.05
          },
          "xaxis": {
           "automargin": true,
           "gridcolor": "white",
           "linecolor": "white",
           "ticks": "",
           "title": {
            "standoff": 15
           },
           "zerolinecolor": "white",
           "zerolinewidth": 2
          },
          "yaxis": {
           "automargin": true,
           "gridcolor": "white",
           "linecolor": "white",
           "ticks": "",
           "title": {
            "standoff": 15
           },
           "zerolinecolor": "white",
           "zerolinewidth": 2
          }
         }
        },
        "width": 500
       }
      },
      "image/png": "[encoded data removed]",
      "text/html": [
       "<div>                            <div id=\"c81155e8-5340-40b3-b1d4-8124d57937e9\" class=\"plotly-graph-div\" style=\"height:500px; width:500px;\"></div>            <script type=\"text/javascript\">                require([\"plotly\"], function(Plotly) {                    window.PLOTLYENV=window.PLOTLYENV || {};                                    if (document.getElementById(\"c81155e8-5340-40b3-b1d4-8124d57937e9\")) {                    Plotly.newPlot(                        \"c81155e8-5340-40b3-b1d4-8124d57937e9\",                        [{\"fill\":\"toself\",\"name\":\"Group A\",\"r\":[30.44,16.1,5.39,3.8],\"theta\":[\"MPG\",\"PPG\",\"RPG\",\"APG\"],\"type\":\"scatterpolar\"},{\"fill\":\"toself\",\"name\":\"Group B\",\"r\":[19.88,8.36,3.62,1.72],\"theta\":[\"MPG\",\"PPG\",\"RPG\",\"APG\"],\"type\":\"scatterpolar\"},{\"fill\":\"toself\",\"name\":\"Group C\",\"r\":[17.52,7.33,3.26,1.46],\"theta\":[\"MPG\",\"PPG\",\"RPG\",\"APG\"],\"type\":\"scatterpolar\"}],                        {\"template\":{\"data\":{\"histogram2dcontour\":[{\"type\":\"histogram2dcontour\",\"colorbar\":{\"outlinewidth\":0,\"ticks\":\"\"},\"colorscale\":[[0.0,\"#0d0887\"],[0.1111111111111111,\"#46039f\"],[0.2222222222222222,\"#7201a8\"],[0.3333333333333333,\"#9c179e\"],[0.4444444444444444,\"#bd3786\"],[0.5555555555555556,\"#d8576b\"],[0.6666666666666666,\"#ed7953\"],[0.7777777777777778,\"#fb9f3a\"],[0.8888888888888888,\"#fdca26\"],[1.0,\"#f0f921\"]]}],\"choropleth\":[{\"type\":\"choropleth\",\"colorbar\":{\"outlinewidth\":0,\"ticks\":\"\"}}],\"histogram2d\":[{\"type\":\"histogram2d\",\"colorbar\":{\"outlinewidth\":0,\"ticks\":\"\"},\"colorscale\":[[0.0,\"#0d0887\"],[0.1111111111111111,\"#46039f\"],[0.2222222222222222,\"#7201a8\"],[0.3333333333333333,\"#9c179e\"],[0.4444444444444444,\"#bd3786\"],[0.5555555555555556,\"#d8576b\"],[0.6666666666666666,\"#ed7953\"],[0.7777777777777778,\"#fb9f3a\"],[0.8888888888888888,\"#fdca26\"],[1.0,\"#f0f921\"]]}],\"heatmap\":[{\"type\":\"heatmap\",\"colorbar\":{\"outlinewidth\":0,\"ticks\":\"\"},\"colorscale\":[[0.0,\"#0d0887\"],[0.1111111111111111,\"#46039f\"],[0.2222222222222222,\"#7201a8\"],[0.3333333333333333,\"#9c179e\"],[0.4444444444444444,\"#bd3786\"],[0.5555555555555556,\"#d8576b\"],[0.6666666666666666,\"#ed7953\"],[0.7777777777777778,\"#fb9f3a\"],[0.8888888888888888,\"#fdca26\"],[1.0,\"#f0f921\"]]}],\"heatmapgl\":[{\"type\":\"heatmapgl\",\"colorbar\":{\"outlinewidth\":0,\"ticks\":\"\"},\"colorscale\":[[0.0,\"#0d0887\"],[0.1111111111111111,\"#46039f\"],[0.2222222222222222,\"#7201a8\"],[0.3333333333333333,\"#9c179e\"],[0.4444444444444444,\"#bd3786\"],[0.5555555555555556,\"#d8576b\"],[0.6666666666666666,\"#ed7953\"],[0.7777777777777778,\"#fb9f3a\"],[0.8888888888888888,\"#fdca26\"],[1.0,\"#f0f921\"]]}],\"contourcarpet\":[{\"type\":\"contourcarpet\",\"colorbar\":{\"outlinewidth\":0,\"ticks\":\"\"}}],\"contour\":[{\"type\":\"contour\",\"colorbar\":{\"outlinewidth\":0,\"ticks\":\"\"},\"colorscale\":[[0.0,\"#0d0887\"],[0.1111111111111111,\"#46039f\"],[0.2222222222222222,\"#7201a8\"],[0.3333333333333333,\"#9c179e\"],[0.4444444444444444,\"#bd3786\"],[0.5555555555555556,\"#d8576b\"],[0.6666666666666666,\"#ed7953\"],[0.7777777777777778,\"#fb9f3a\"],[0.8888888888888888,\"#fdca26\"],[1.0,\"#f0f921\"]]}],\"surface\":[{\"type\":\"surface\",\"colorbar\":{\"outlinewidth\":0,\"ticks\":\"\"},\"colorscale\":[[0.0,\"#0d0887\"],[0.1111111111111111,\"#46039f\"],[0.2222222222222222,\"#7201a8\"],[0.3333333333333333,\"#9c179e\"],[0.4444444444444444,\"#bd3786\"],[0.5555555555555556,\"#d8576b\"],[0.6666666666666666,\"#ed7953\"],[0.7777777777777778,\"#fb9f3a\"],[0.8888888888888888,\"#fdca26\"],[1.0,\"#f0f921\"]]}],\"mesh3d\":[{\"type\":\"mesh3d\",\"colorbar\":{\"outlinewidth\":0,\"ticks\":\"\"}}],\"scatter\":[{\"fillpattern\":{\"fillmode\":\"overlay\",\"size\":10,\"solidity\":0.2},\"type\":\"scatter\"}],\"parcoords\":[{\"type\":\"parcoords\",\"line\":{\"colorbar\":{\"outlinewidth\":0,\"ticks\":\"\"}}}],\"scatterpolargl\":[{\"type\":\"scatterpolargl\",\"marker\":{\"colorbar\":{\"outlinewidth\":0,\"ticks\":\"\"}}}],\"bar\":[{\"error_x\":{\"color\":\"#2a3f5f\"},\"error_y\":{\"color\":\"#2a3f5f\"},\"marker\":{\"line\":{\"color\":\"#E5ECF6\",\"width\":0.5},\"pattern\":{\"fillmode\":\"overlay\",\"size\":10,\"solidity\":0.2}},\"type\":\"bar\"}],\"scattergeo\":[{\"type\":\"scattergeo\",\"marker\":{\"colorbar\":{\"outlinewidth\":0,\"ticks\":\"\"}}}],\"scatterpolar\":[{\"type\":\"scatterpolar\",\"marker\":{\"colorbar\":{\"outlinewidth\":0,\"ticks\":\"\"}}}],\"histogram\":[{\"marker\":{\"pattern\":{\"fillmode\":\"overlay\",\"size\":10,\"solidity\":0.2}},\"type\":\"histogram\"}],\"scattergl\":[{\"type\":\"scattergl\",\"marker\":{\"colorbar\":{\"outlinewidth\":0,\"ticks\":\"\"}}}],\"scatter3d\":[{\"type\":\"scatter3d\",\"line\":{\"colorbar\":{\"outlinewidth\":0,\"ticks\":\"\"}},\"marker\":{\"colorbar\":{\"outlinewidth\":0,\"ticks\":\"\"}}}],\"scattermapbox\":[{\"type\":\"scattermapbox\",\"marker\":{\"colorbar\":{\"outlinewidth\":0,\"ticks\":\"\"}}}],\"scatterternary\":[{\"type\":\"scatterternary\",\"marker\":{\"colorbar\":{\"outlinewidth\":0,\"ticks\":\"\"}}}],\"scattercarpet\":[{\"type\":\"scattercarpet\",\"marker\":{\"colorbar\":{\"outlinewidth\":0,\"ticks\":\"\"}}}],\"carpet\":[{\"aaxis\":{\"endlinecolor\":\"#2a3f5f\",\"gridcolor\":\"white\",\"linecolor\":\"white\",\"minorgridcolor\":\"white\",\"startlinecolor\":\"#2a3f5f\"},\"baxis\":{\"endlinecolor\":\"#2a3f5f\",\"gridcolor\":\"white\",\"linecolor\":\"white\",\"minorgridcolor\":\"white\",\"startlinecolor\":\"#2a3f5f\"},\"type\":\"carpet\"}],\"table\":[{\"cells\":{\"fill\":{\"color\":\"#EBF0F8\"},\"line\":{\"color\":\"white\"}},\"header\":{\"fill\":{\"color\":\"#C8D4E3\"},\"line\":{\"color\":\"white\"}},\"type\":\"table\"}],\"barpolar\":[{\"marker\":{\"line\":{\"color\":\"#E5ECF6\",\"width\":0.5},\"pattern\":{\"fillmode\":\"overlay\",\"size\":10,\"solidity\":0.2}},\"type\":\"barpolar\"}],\"pie\":[{\"automargin\":true,\"type\":\"pie\"}]},\"layout\":{\"autotypenumbers\":\"strict\",\"colorway\":[\"#636efa\",\"#EF553B\",\"#00cc96\",\"#ab63fa\",\"#FFA15A\",\"#19d3f3\",\"#FF6692\",\"#B6E880\",\"#FF97FF\",\"#FECB52\"],\"font\":{\"color\":\"#2a3f5f\"},\"hovermode\":\"closest\",\"hoverlabel\":{\"align\":\"left\"},\"paper_bgcolor\":\"white\",\"plot_bgcolor\":\"#E5ECF6\",\"polar\":{\"bgcolor\":\"#E5ECF6\",\"angularaxis\":{\"gridcolor\":\"white\",\"linecolor\":\"white\",\"ticks\":\"\"},\"radialaxis\":{\"gridcolor\":\"white\",\"linecolor\":\"white\",\"ticks\":\"\"}},\"ternary\":{\"bgcolor\":\"#E5ECF6\",\"aaxis\":{\"gridcolor\":\"white\",\"linecolor\":\"white\",\"ticks\":\"\"},\"baxis\":{\"gridcolor\":\"white\",\"linecolor\":\"white\",\"ticks\":\"\"},\"caxis\":{\"gridcolor\":\"white\",\"linecolor\":\"white\",\"ticks\":\"\"}},\"coloraxis\":{\"colorbar\":{\"outlinewidth\":0,\"ticks\":\"\"}},\"colorscale\":{\"sequential\":[[0.0,\"#0d0887\"],[0.1111111111111111,\"#46039f\"],[0.2222222222222222,\"#7201a8\"],[0.3333333333333333,\"#9c179e\"],[0.4444444444444444,\"#bd3786\"],[0.5555555555555556,\"#d8576b\"],[0.6666666666666666,\"#ed7953\"],[0.7777777777777778,\"#fb9f3a\"],[0.8888888888888888,\"#fdca26\"],[1.0,\"#f0f921\"]],\"sequentialminus\":[[0.0,\"#0d0887\"],[0.1111111111111111,\"#46039f\"],[0.2222222222222222,\"#7201a8\"],[0.3333333333333333,\"#9c179e\"],[0.4444444444444444,\"#bd3786\"],[0.5555555555555556,\"#d8576b\"],[0.6666666666666666,\"#ed7953\"],[0.7777777777777778,\"#fb9f3a\"],[0.8888888888888888,\"#fdca26\"],[1.0,\"#f0f921\"]],\"diverging\":[[0,\"#8e0152\"],[0.1,\"#c51b7d\"],[0.2,\"#de77ae\"],[0.3,\"#f1b6da\"],[0.4,\"#fde0ef\"],[0.5,\"#f7f7f7\"],[0.6,\"#e6f5d0\"],[0.7,\"#b8e186\"],[0.8,\"#7fbc41\"],[0.9,\"#4d9221\"],[1,\"#276419\"]]},\"xaxis\":{\"gridcolor\":\"white\",\"linecolor\":\"white\",\"ticks\":\"\",\"title\":{\"standoff\":15},\"zerolinecolor\":\"white\",\"automargin\":true,\"zerolinewidth\":2},\"yaxis\":{\"gridcolor\":\"white\",\"linecolor\":\"white\",\"ticks\":\"\",\"title\":{\"standoff\":15},\"zerolinecolor\":\"white\",\"automargin\":true,\"zerolinewidth\":2},\"scene\":{\"xaxis\":{\"backgroundcolor\":\"#E5ECF6\",\"gridcolor\":\"white\",\"linecolor\":\"white\",\"showbackground\":true,\"ticks\":\"\",\"zerolinecolor\":\"white\",\"gridwidth\":2},\"yaxis\":{\"backgroundcolor\":\"#E5ECF6\",\"gridcolor\":\"white\",\"linecolor\":\"white\",\"showbackground\":true,\"ticks\":\"\",\"zerolinecolor\":\"white\",\"gridwidth\":2},\"zaxis\":{\"backgroundcolor\":\"#E5ECF6\",\"gridcolor\":\"white\",\"linecolor\":\"white\",\"showbackground\":true,\"ticks\":\"\",\"zerolinecolor\":\"white\",\"gridwidth\":2}},\"shapedefaults\":{\"line\":{\"color\":\"#2a3f5f\"}},\"annotationdefaults\":{\"arrowcolor\":\"#2a3f5f\",\"arrowhead\":0,\"arrowwidth\":1},\"geo\":{\"bgcolor\":\"white\",\"landcolor\":\"#E5ECF6\",\"subunitcolor\":\"white\",\"showland\":true,\"showlakes\":true,\"lakecolor\":\"white\"},\"title\":{\"x\":0.05},\"mapbox\":{\"style\":\"light\"}}},\"polar\":{\"radialaxis\":{\"visible\":true,\"range\":[0,35]}},\"showlegend\":true,\"width\":500,\"height\":500},                        {\"responsive\": true}                    ).then(function(){\n",
       "                            \n",
       "var gd = document.getElementById('c81155e8-5340-40b3-b1d4-8124d57937e9');\n",
       "var x = new MutationObserver(function (mutations, observer) {{\n",
       "        var display = window.getComputedStyle(gd).display;\n",
       "        if (!display || display === 'none') {{\n",
       "            console.log([gd, 'removed!']);\n",
       "            Plotly.purge(gd);\n",
       "            observer.disconnect();\n",
       "        }}\n",
       "}});\n",
       "\n",
       "// Listen for the removal of the full notebook cells\n",
       "var notebookContainer = gd.closest('#notebook-container');\n",
       "if (notebookContainer) {{\n",
       "    x.observe(notebookContainer, {childList: true});\n",
       "}}\n",
       "\n",
       "// Listen for the clearing of the current output cell\n",
       "var outputEl = gd.closest('.output');\n",
       "if (outputEl) {{\n",
       "    x.observe(outputEl, {childList: true});\n",
       "}}\n",
       "\n",
       "                        })                };                });            </script>        </div>"
      ]
     },
     "metadata": {},
     "output_type": "display_data"
    }
   ],
   "source": [
    "pg_categories = ['MPG','PPG', 'RPG', 'APG']\n",
    "pg_fig = go.Figure()\n",
    "pg_fig.add_trace(go.Scatterpolar(\n",
    "    r = [30.44, 16.10, 5.39, 3.80],\n",
    "    theta = pg_categories,\n",
    "    fill='toself',\n",
    "    name= 'Group A'\n",
    "))\n",
    "\n",
    "pg_fig.add_trace(go.Scatterpolar(\n",
    "    r = [19.88,8.36,3.62,1.72],\n",
    "    theta = pg_categories,\n",
    "    fill='toself',\n",
    "    name= 'Group B'\n",
    "))\n",
    "\n",
    "pg_fig.add_trace(go.Scatterpolar(\n",
    "    r = [17.52,7.33,3.26,1.46],\n",
    "    theta = pg_categories,\n",
    "    fill='toself',\n",
    "    name= 'Group C'\n",
    "))\n",
    "\n",
    "pg_fig.update_layout(\n",
    "    polar=dict(\n",
    "        radialaxis=dict(\n",
    "          visible=True,\n",
    "          range=[0,35]\n",
    "        )),\n",
    "    showlegend=True,\n",
    "    width = 500,\n",
    "    height = 500\n",
    ")\n",
    "    \n",
    "pg_fig.show()"
   ]
  },
  {
   "cell_type": "code",
   "execution_count": 235,
   "id": "de82e459-4f64-4001-9442-2b43f8f627b2",
   "metadata": {},
   "outputs": [
    {
     "data": {
      "application/vnd.plotly.v1+json": {
       "config": {
        "plotlyServerURL": "https://plot.ly"
       },
       "data": [
        {
         "fill": "toself",
         "name": "Group A",
         "r": [
          0.46,
          0.32,
          0.75
         ],
         "theta": [
          "FG%",
          "3P%",
          "FT%"
         ],
         "type": "scatterpolar"
        },
        {
         "fill": "toself",
         "name": "Group B",
         "r": [
          0.42,
          0.31,
          0.76
         ],
         "theta": [
          "FG%",
          "3P%",
          "FT%"
         ],
         "type": "scatterpolar"
        },
        {
         "fill": "toself",
         "name": "Group C",
         "r": [
          0.48,
          0.3,
          0.75
         ],
         "theta": [
          "FG%",
          "3P%",
          "FT%"
         ],
         "type": "scatterpolar"
        }
       ],
       "layout": {
        "height": 500,
        "polar": {
         "angularaxis": {
          "type": "category"
         },
         "radialaxis": {
          "autorange": false,
          "range": [
           0,
           1
          ],
          "type": "linear",
          "visible": true
         }
        },
        "showlegend": true,
        "template": {
         "data": {
          "bar": [
           {
            "error_x": {
             "color": "#2a3f5f"
            },
            "error_y": {
             "color": "#2a3f5f"
            },
            "marker": {
             "line": {
              "color": "#E5ECF6",
              "width": 0.5
             },
             "pattern": {
              "fillmode": "overlay",
              "size": 10,
              "solidity": 0.2
             }
            },
            "type": "bar"
           }
          ],
          "barpolar": [
           {
            "marker": {
             "line": {
              "color": "#E5ECF6",
              "width": 0.5
             },
             "pattern": {
              "fillmode": "overlay",
              "size": 10,
              "solidity": 0.2
             }
            },
            "type": "barpolar"
           }
          ],
          "carpet": [
           {
            "aaxis": {
             "endlinecolor": "#2a3f5f",
             "gridcolor": "white",
             "linecolor": "white",
             "minorgridcolor": "white",
             "startlinecolor": "#2a3f5f"
            },
            "baxis": {
             "endlinecolor": "#2a3f5f",
             "gridcolor": "white",
             "linecolor": "white",
             "minorgridcolor": "white",
             "startlinecolor": "#2a3f5f"
            },
            "type": "carpet"
           }
          ],
          "choropleth": [
           {
            "colorbar": {
             "outlinewidth": 0,
             "ticks": ""
            },
            "type": "choropleth"
           }
          ],
          "contour": [
           {
            "colorbar": {
             "outlinewidth": 0,
             "ticks": ""
            },
            "colorscale": [
             [
              0,
              "#0d0887"
             ],
             [
              0.1111111111111111,
              "#46039f"
             ],
             [
              0.2222222222222222,
              "#7201a8"
             ],
             [
              0.3333333333333333,
              "#9c179e"
             ],
             [
              0.4444444444444444,
              "#bd3786"
             ],
             [
              0.5555555555555556,
              "#d8576b"
             ],
             [
              0.6666666666666666,
              "#ed7953"
             ],
             [
              0.7777777777777778,
              "#fb9f3a"
             ],
             [
              0.8888888888888888,
              "#fdca26"
             ],
             [
              1,
              "#f0f921"
             ]
            ],
            "type": "contour"
           }
          ],
          "contourcarpet": [
           {
            "colorbar": {
             "outlinewidth": 0,
             "ticks": ""
            },
            "type": "contourcarpet"
           }
          ],
          "heatmap": [
           {
            "colorbar": {
             "outlinewidth": 0,
             "ticks": ""
            },
            "colorscale": [
             [
              0,
              "#0d0887"
             ],
             [
              0.1111111111111111,
              "#46039f"
             ],
             [
              0.2222222222222222,
              "#7201a8"
             ],
             [
              0.3333333333333333,
              "#9c179e"
             ],
             [
              0.4444444444444444,
              "#bd3786"
             ],
             [
              0.5555555555555556,
              "#d8576b"
             ],
             [
              0.6666666666666666,
              "#ed7953"
             ],
             [
              0.7777777777777778,
              "#fb9f3a"
             ],
             [
              0.8888888888888888,
              "#fdca26"
             ],
             [
              1,
              "#f0f921"
             ]
            ],
            "type": "heatmap"
           }
          ],
          "heatmapgl": [
           {
            "colorbar": {
             "outlinewidth": 0,
             "ticks": ""
            },
            "colorscale": [
             [
              0,
              "#0d0887"
             ],
             [
              0.1111111111111111,
              "#46039f"
             ],
             [
              0.2222222222222222,
              "#7201a8"
             ],
             [
              0.3333333333333333,
              "#9c179e"
             ],
             [
              0.4444444444444444,
              "#bd3786"
             ],
             [
              0.5555555555555556,
              "#d8576b"
             ],
             [
              0.6666666666666666,
              "#ed7953"
             ],
             [
              0.7777777777777778,
              "#fb9f3a"
             ],
             [
              0.8888888888888888,
              "#fdca26"
             ],
             [
              1,
              "#f0f921"
             ]
            ],
            "type": "heatmapgl"
           }
          ],
          "histogram": [
           {
            "marker": {
             "pattern": {
              "fillmode": "overlay",
              "size": 10,
              "solidity": 0.2
             }
            },
            "type": "histogram"
           }
          ],
          "histogram2d": [
           {
            "colorbar": {
             "outlinewidth": 0,
             "ticks": ""
            },
            "colorscale": [
             [
              0,
              "#0d0887"
             ],
             [
              0.1111111111111111,
              "#46039f"
             ],
             [
              0.2222222222222222,
              "#7201a8"
             ],
             [
              0.3333333333333333,
              "#9c179e"
             ],
             [
              0.4444444444444444,
              "#bd3786"
             ],
             [
              0.5555555555555556,
              "#d8576b"
             ],
             [
              0.6666666666666666,
              "#ed7953"
             ],
             [
              0.7777777777777778,
              "#fb9f3a"
             ],
             [
              0.8888888888888888,
              "#fdca26"
             ],
             [
              1,
              "#f0f921"
             ]
            ],
            "type": "histogram2d"
           }
          ],
          "histogram2dcontour": [
           {
            "colorbar": {
             "outlinewidth": 0,
             "ticks": ""
            },
            "colorscale": [
             [
              0,
              "#0d0887"
             ],
             [
              0.1111111111111111,
              "#46039f"
             ],
             [
              0.2222222222222222,
              "#7201a8"
             ],
             [
              0.3333333333333333,
              "#9c179e"
             ],
             [
              0.4444444444444444,
              "#bd3786"
             ],
             [
              0.5555555555555556,
              "#d8576b"
             ],
             [
              0.6666666666666666,
              "#ed7953"
             ],
             [
              0.7777777777777778,
              "#fb9f3a"
             ],
             [
              0.8888888888888888,
              "#fdca26"
             ],
             [
              1,
              "#f0f921"
             ]
            ],
            "type": "histogram2dcontour"
           }
          ],
          "mesh3d": [
           {
            "colorbar": {
             "outlinewidth": 0,
             "ticks": ""
            },
            "type": "mesh3d"
           }
          ],
          "parcoords": [
           {
            "line": {
             "colorbar": {
              "outlinewidth": 0,
              "ticks": ""
             }
            },
            "type": "parcoords"
           }
          ],
          "pie": [
           {
            "automargin": true,
            "type": "pie"
           }
          ],
          "scatter": [
           {
            "fillpattern": {
             "fillmode": "overlay",
             "size": 10,
             "solidity": 0.2
            },
            "type": "scatter"
           }
          ],
          "scatter3d": [
           {
            "line": {
             "colorbar": {
              "outlinewidth": 0,
              "ticks": ""
             }
            },
            "marker": {
             "colorbar": {
              "outlinewidth": 0,
              "ticks": ""
             }
            },
            "type": "scatter3d"
           }
          ],
          "scattercarpet": [
           {
            "marker": {
             "colorbar": {
              "outlinewidth": 0,
              "ticks": ""
             }
            },
            "type": "scattercarpet"
           }
          ],
          "scattergeo": [
           {
            "marker": {
             "colorbar": {
              "outlinewidth": 0,
              "ticks": ""
             }
            },
            "type": "scattergeo"
           }
          ],
          "scattergl": [
           {
            "marker": {
             "colorbar": {
              "outlinewidth": 0,
              "ticks": ""
             }
            },
            "type": "scattergl"
           }
          ],
          "scattermapbox": [
           {
            "marker": {
             "colorbar": {
              "outlinewidth": 0,
              "ticks": ""
             }
            },
            "type": "scattermapbox"
           }
          ],
          "scatterpolar": [
           {
            "marker": {
             "colorbar": {
              "outlinewidth": 0,
              "ticks": ""
             }
            },
            "type": "scatterpolar"
           }
          ],
          "scatterpolargl": [
           {
            "marker": {
             "colorbar": {
              "outlinewidth": 0,
              "ticks": ""
             }
            },
            "type": "scatterpolargl"
           }
          ],
          "scatterternary": [
           {
            "marker": {
             "colorbar": {
              "outlinewidth": 0,
              "ticks": ""
             }
            },
            "type": "scatterternary"
           }
          ],
          "surface": [
           {
            "colorbar": {
             "outlinewidth": 0,
             "ticks": ""
            },
            "colorscale": [
             [
              0,
              "#0d0887"
             ],
             [
              0.1111111111111111,
              "#46039f"
             ],
             [
              0.2222222222222222,
              "#7201a8"
             ],
             [
              0.3333333333333333,
              "#9c179e"
             ],
             [
              0.4444444444444444,
              "#bd3786"
             ],
             [
              0.5555555555555556,
              "#d8576b"
             ],
             [
              0.6666666666666666,
              "#ed7953"
             ],
             [
              0.7777777777777778,
              "#fb9f3a"
             ],
             [
              0.8888888888888888,
              "#fdca26"
             ],
             [
              1,
              "#f0f921"
             ]
            ],
            "type": "surface"
           }
          ],
          "table": [
           {
            "cells": {
             "fill": {
              "color": "#EBF0F8"
             },
             "line": {
              "color": "white"
             }
            },
            "header": {
             "fill": {
              "color": "#C8D4E3"
             },
             "line": {
              "color": "white"
             }
            },
            "type": "table"
           }
          ]
         },
         "layout": {
          "annotationdefaults": {
           "arrowcolor": "#2a3f5f",
           "arrowhead": 0,
           "arrowwidth": 1
          },
          "autotypenumbers": "strict",
          "coloraxis": {
           "colorbar": {
            "outlinewidth": 0,
            "ticks": ""
           }
          },
          "colorscale": {
           "diverging": [
            [
             0,
             "#8e0152"
            ],
            [
             0.1,
             "#c51b7d"
            ],
            [
             0.2,
             "#de77ae"
            ],
            [
             0.3,
             "#f1b6da"
            ],
            [
             0.4,
             "#fde0ef"
            ],
            [
             0.5,
             "#f7f7f7"
            ],
            [
             0.6,
             "#e6f5d0"
            ],
            [
             0.7,
             "#b8e186"
            ],
            [
             0.8,
             "#7fbc41"
            ],
            [
             0.9,
             "#4d9221"
            ],
            [
             1,
             "#276419"
            ]
           ],
           "sequential": [
            [
             0,
             "#0d0887"
            ],
            [
             0.1111111111111111,
             "#46039f"
            ],
            [
             0.2222222222222222,
             "#7201a8"
            ],
            [
             0.3333333333333333,
             "#9c179e"
            ],
            [
             0.4444444444444444,
             "#bd3786"
            ],
            [
             0.5555555555555556,
             "#d8576b"
            ],
            [
             0.6666666666666666,
             "#ed7953"
            ],
            [
             0.7777777777777778,
             "#fb9f3a"
            ],
            [
             0.8888888888888888,
             "#fdca26"
            ],
            [
             1,
             "#f0f921"
            ]
           ],
           "sequentialminus": [
            [
             0,
             "#0d0887"
            ],
            [
             0.1111111111111111,
             "#46039f"
            ],
            [
             0.2222222222222222,
             "#7201a8"
            ],
            [
             0.3333333333333333,
             "#9c179e"
            ],
            [
             0.4444444444444444,
             "#bd3786"
            ],
            [
             0.5555555555555556,
             "#d8576b"
            ],
            [
             0.6666666666666666,
             "#ed7953"
            ],
            [
             0.7777777777777778,
             "#fb9f3a"
            ],
            [
             0.8888888888888888,
             "#fdca26"
            ],
            [
             1,
             "#f0f921"
            ]
           ]
          },
          "colorway": [
           "#636efa",
           "#EF553B",
           "#00cc96",
           "#ab63fa",
           "#FFA15A",
           "#19d3f3",
           "#FF6692",
           "#B6E880",
           "#FF97FF",
           "#FECB52"
          ],
          "font": {
           "color": "#2a3f5f"
          },
          "geo": {
           "bgcolor": "white",
           "lakecolor": "white",
           "landcolor": "#E5ECF6",
           "showlakes": true,
           "showland": true,
           "subunitcolor": "white"
          },
          "hoverlabel": {
           "align": "left"
          },
          "hovermode": "closest",
          "mapbox": {
           "style": "light"
          },
          "paper_bgcolor": "white",
          "plot_bgcolor": "#E5ECF6",
          "polar": {
           "angularaxis": {
            "gridcolor": "white",
            "linecolor": "white",
            "ticks": ""
           },
           "bgcolor": "#E5ECF6",
           "radialaxis": {
            "gridcolor": "white",
            "linecolor": "white",
            "ticks": ""
           }
          },
          "scene": {
           "xaxis": {
            "backgroundcolor": "#E5ECF6",
            "gridcolor": "white",
            "gridwidth": 2,
            "linecolor": "white",
            "showbackground": true,
            "ticks": "",
            "zerolinecolor": "white"
           },
           "yaxis": {
            "backgroundcolor": "#E5ECF6",
            "gridcolor": "white",
            "gridwidth": 2,
            "linecolor": "white",
            "showbackground": true,
            "ticks": "",
            "zerolinecolor": "white"
           },
           "zaxis": {
            "backgroundcolor": "#E5ECF6",
            "gridcolor": "white",
            "gridwidth": 2,
            "linecolor": "white",
            "showbackground": true,
            "ticks": "",
            "zerolinecolor": "white"
           }
          },
          "shapedefaults": {
           "line": {
            "color": "#2a3f5f"
           }
          },
          "ternary": {
           "aaxis": {
            "gridcolor": "white",
            "linecolor": "white",
            "ticks": ""
           },
           "baxis": {
            "gridcolor": "white",
            "linecolor": "white",
            "ticks": ""
           },
           "bgcolor": "#E5ECF6",
           "caxis": {
            "gridcolor": "white",
            "linecolor": "white",
            "ticks": ""
           }
          },
          "title": {
           "x": 0.05
          },
          "xaxis": {
           "automargin": true,
           "gridcolor": "white",
           "linecolor": "white",
           "ticks": "",
           "title": {
            "standoff": 15
           },
           "zerolinecolor": "white",
           "zerolinewidth": 2
          },
          "yaxis": {
           "automargin": true,
           "gridcolor": "white",
           "linecolor": "white",
           "ticks": "",
           "title": {
            "standoff": 15
           },
           "zerolinecolor": "white",
           "zerolinewidth": 2
          }
         }
        },
        "width": 500
       }
      },
      "image/png": "[encoded data removed]",
      "text/html": [
       "<div>                            <div id=\"467caac7-5ddc-475a-a99a-96a40f67010d\" class=\"plotly-graph-div\" style=\"height:500px; width:500px;\"></div>            <script type=\"text/javascript\">                require([\"plotly\"], function(Plotly) {                    window.PLOTLYENV=window.PLOTLYENV || {};                                    if (document.getElementById(\"467caac7-5ddc-475a-a99a-96a40f67010d\")) {                    Plotly.newPlot(                        \"467caac7-5ddc-475a-a99a-96a40f67010d\",                        [{\"fill\":\"toself\",\"name\":\"Group A\",\"r\":[0.46,0.32,0.75],\"theta\":[\"FG%\",\"3P%\",\"FT%\"],\"type\":\"scatterpolar\"},{\"fill\":\"toself\",\"name\":\"Group B\",\"r\":[0.42,0.31,0.76],\"theta\":[\"FG%\",\"3P%\",\"FT%\"],\"type\":\"scatterpolar\"},{\"fill\":\"toself\",\"name\":\"Group C\",\"r\":[0.48,0.3,0.75],\"theta\":[\"FG%\",\"3P%\",\"FT%\"],\"type\":\"scatterpolar\"}],                        {\"template\":{\"data\":{\"histogram2dcontour\":[{\"type\":\"histogram2dcontour\",\"colorbar\":{\"outlinewidth\":0,\"ticks\":\"\"},\"colorscale\":[[0.0,\"#0d0887\"],[0.1111111111111111,\"#46039f\"],[0.2222222222222222,\"#7201a8\"],[0.3333333333333333,\"#9c179e\"],[0.4444444444444444,\"#bd3786\"],[0.5555555555555556,\"#d8576b\"],[0.6666666666666666,\"#ed7953\"],[0.7777777777777778,\"#fb9f3a\"],[0.8888888888888888,\"#fdca26\"],[1.0,\"#f0f921\"]]}],\"choropleth\":[{\"type\":\"choropleth\",\"colorbar\":{\"outlinewidth\":0,\"ticks\":\"\"}}],\"histogram2d\":[{\"type\":\"histogram2d\",\"colorbar\":{\"outlinewidth\":0,\"ticks\":\"\"},\"colorscale\":[[0.0,\"#0d0887\"],[0.1111111111111111,\"#46039f\"],[0.2222222222222222,\"#7201a8\"],[0.3333333333333333,\"#9c179e\"],[0.4444444444444444,\"#bd3786\"],[0.5555555555555556,\"#d8576b\"],[0.6666666666666666,\"#ed7953\"],[0.7777777777777778,\"#fb9f3a\"],[0.8888888888888888,\"#fdca26\"],[1.0,\"#f0f921\"]]}],\"heatmap\":[{\"type\":\"heatmap\",\"colorbar\":{\"outlinewidth\":0,\"ticks\":\"\"},\"colorscale\":[[0.0,\"#0d0887\"],[0.1111111111111111,\"#46039f\"],[0.2222222222222222,\"#7201a8\"],[0.3333333333333333,\"#9c179e\"],[0.4444444444444444,\"#bd3786\"],[0.5555555555555556,\"#d8576b\"],[0.6666666666666666,\"#ed7953\"],[0.7777777777777778,\"#fb9f3a\"],[0.8888888888888888,\"#fdca26\"],[1.0,\"#f0f921\"]]}],\"heatmapgl\":[{\"type\":\"heatmapgl\",\"colorbar\":{\"outlinewidth\":0,\"ticks\":\"\"},\"colorscale\":[[0.0,\"#0d0887\"],[0.1111111111111111,\"#46039f\"],[0.2222222222222222,\"#7201a8\"],[0.3333333333333333,\"#9c179e\"],[0.4444444444444444,\"#bd3786\"],[0.5555555555555556,\"#d8576b\"],[0.6666666666666666,\"#ed7953\"],[0.7777777777777778,\"#fb9f3a\"],[0.8888888888888888,\"#fdca26\"],[1.0,\"#f0f921\"]]}],\"contourcarpet\":[{\"type\":\"contourcarpet\",\"colorbar\":{\"outlinewidth\":0,\"ticks\":\"\"}}],\"contour\":[{\"type\":\"contour\",\"colorbar\":{\"outlinewidth\":0,\"ticks\":\"\"},\"colorscale\":[[0.0,\"#0d0887\"],[0.1111111111111111,\"#46039f\"],[0.2222222222222222,\"#7201a8\"],[0.3333333333333333,\"#9c179e\"],[0.4444444444444444,\"#bd3786\"],[0.5555555555555556,\"#d8576b\"],[0.6666666666666666,\"#ed7953\"],[0.7777777777777778,\"#fb9f3a\"],[0.8888888888888888,\"#fdca26\"],[1.0,\"#f0f921\"]]}],\"surface\":[{\"type\":\"surface\",\"colorbar\":{\"outlinewidth\":0,\"ticks\":\"\"},\"colorscale\":[[0.0,\"#0d0887\"],[0.1111111111111111,\"#46039f\"],[0.2222222222222222,\"#7201a8\"],[0.3333333333333333,\"#9c179e\"],[0.4444444444444444,\"#bd3786\"],[0.5555555555555556,\"#d8576b\"],[0.6666666666666666,\"#ed7953\"],[0.7777777777777778,\"#fb9f3a\"],[0.8888888888888888,\"#fdca26\"],[1.0,\"#f0f921\"]]}],\"mesh3d\":[{\"type\":\"mesh3d\",\"colorbar\":{\"outlinewidth\":0,\"ticks\":\"\"}}],\"scatter\":[{\"fillpattern\":{\"fillmode\":\"overlay\",\"size\":10,\"solidity\":0.2},\"type\":\"scatter\"}],\"parcoords\":[{\"type\":\"parcoords\",\"line\":{\"colorbar\":{\"outlinewidth\":0,\"ticks\":\"\"}}}],\"scatterpolargl\":[{\"type\":\"scatterpolargl\",\"marker\":{\"colorbar\":{\"outlinewidth\":0,\"ticks\":\"\"}}}],\"bar\":[{\"error_x\":{\"color\":\"#2a3f5f\"},\"error_y\":{\"color\":\"#2a3f5f\"},\"marker\":{\"line\":{\"color\":\"#E5ECF6\",\"width\":0.5},\"pattern\":{\"fillmode\":\"overlay\",\"size\":10,\"solidity\":0.2}},\"type\":\"bar\"}],\"scattergeo\":[{\"type\":\"scattergeo\",\"marker\":{\"colorbar\":{\"outlinewidth\":0,\"ticks\":\"\"}}}],\"scatterpolar\":[{\"type\":\"scatterpolar\",\"marker\":{\"colorbar\":{\"outlinewidth\":0,\"ticks\":\"\"}}}],\"histogram\":[{\"marker\":{\"pattern\":{\"fillmode\":\"overlay\",\"size\":10,\"solidity\":0.2}},\"type\":\"histogram\"}],\"scattergl\":[{\"type\":\"scattergl\",\"marker\":{\"colorbar\":{\"outlinewidth\":0,\"ticks\":\"\"}}}],\"scatter3d\":[{\"type\":\"scatter3d\",\"line\":{\"colorbar\":{\"outlinewidth\":0,\"ticks\":\"\"}},\"marker\":{\"colorbar\":{\"outlinewidth\":0,\"ticks\":\"\"}}}],\"scattermapbox\":[{\"type\":\"scattermapbox\",\"marker\":{\"colorbar\":{\"outlinewidth\":0,\"ticks\":\"\"}}}],\"scatterternary\":[{\"type\":\"scatterternary\",\"marker\":{\"colorbar\":{\"outlinewidth\":0,\"ticks\":\"\"}}}],\"scattercarpet\":[{\"type\":\"scattercarpet\",\"marker\":{\"colorbar\":{\"outlinewidth\":0,\"ticks\":\"\"}}}],\"carpet\":[{\"aaxis\":{\"endlinecolor\":\"#2a3f5f\",\"gridcolor\":\"white\",\"linecolor\":\"white\",\"minorgridcolor\":\"white\",\"startlinecolor\":\"#2a3f5f\"},\"baxis\":{\"endlinecolor\":\"#2a3f5f\",\"gridcolor\":\"white\",\"linecolor\":\"white\",\"minorgridcolor\":\"white\",\"startlinecolor\":\"#2a3f5f\"},\"type\":\"carpet\"}],\"table\":[{\"cells\":{\"fill\":{\"color\":\"#EBF0F8\"},\"line\":{\"color\":\"white\"}},\"header\":{\"fill\":{\"color\":\"#C8D4E3\"},\"line\":{\"color\":\"white\"}},\"type\":\"table\"}],\"barpolar\":[{\"marker\":{\"line\":{\"color\":\"#E5ECF6\",\"width\":0.5},\"pattern\":{\"fillmode\":\"overlay\",\"size\":10,\"solidity\":0.2}},\"type\":\"barpolar\"}],\"pie\":[{\"automargin\":true,\"type\":\"pie\"}]},\"layout\":{\"autotypenumbers\":\"strict\",\"colorway\":[\"#636efa\",\"#EF553B\",\"#00cc96\",\"#ab63fa\",\"#FFA15A\",\"#19d3f3\",\"#FF6692\",\"#B6E880\",\"#FF97FF\",\"#FECB52\"],\"font\":{\"color\":\"#2a3f5f\"},\"hovermode\":\"closest\",\"hoverlabel\":{\"align\":\"left\"},\"paper_bgcolor\":\"white\",\"plot_bgcolor\":\"#E5ECF6\",\"polar\":{\"bgcolor\":\"#E5ECF6\",\"angularaxis\":{\"gridcolor\":\"white\",\"linecolor\":\"white\",\"ticks\":\"\"},\"radialaxis\":{\"gridcolor\":\"white\",\"linecolor\":\"white\",\"ticks\":\"\"}},\"ternary\":{\"bgcolor\":\"#E5ECF6\",\"aaxis\":{\"gridcolor\":\"white\",\"linecolor\":\"white\",\"ticks\":\"\"},\"baxis\":{\"gridcolor\":\"white\",\"linecolor\":\"white\",\"ticks\":\"\"},\"caxis\":{\"gridcolor\":\"white\",\"linecolor\":\"white\",\"ticks\":\"\"}},\"coloraxis\":{\"colorbar\":{\"outlinewidth\":0,\"ticks\":\"\"}},\"colorscale\":{\"sequential\":[[0.0,\"#0d0887\"],[0.1111111111111111,\"#46039f\"],[0.2222222222222222,\"#7201a8\"],[0.3333333333333333,\"#9c179e\"],[0.4444444444444444,\"#bd3786\"],[0.5555555555555556,\"#d8576b\"],[0.6666666666666666,\"#ed7953\"],[0.7777777777777778,\"#fb9f3a\"],[0.8888888888888888,\"#fdca26\"],[1.0,\"#f0f921\"]],\"sequentialminus\":[[0.0,\"#0d0887\"],[0.1111111111111111,\"#46039f\"],[0.2222222222222222,\"#7201a8\"],[0.3333333333333333,\"#9c179e\"],[0.4444444444444444,\"#bd3786\"],[0.5555555555555556,\"#d8576b\"],[0.6666666666666666,\"#ed7953\"],[0.7777777777777778,\"#fb9f3a\"],[0.8888888888888888,\"#fdca26\"],[1.0,\"#f0f921\"]],\"diverging\":[[0,\"#8e0152\"],[0.1,\"#c51b7d\"],[0.2,\"#de77ae\"],[0.3,\"#f1b6da\"],[0.4,\"#fde0ef\"],[0.5,\"#f7f7f7\"],[0.6,\"#e6f5d0\"],[0.7,\"#b8e186\"],[0.8,\"#7fbc41\"],[0.9,\"#4d9221\"],[1,\"#276419\"]]},\"xaxis\":{\"gridcolor\":\"white\",\"linecolor\":\"white\",\"ticks\":\"\",\"title\":{\"standoff\":15},\"zerolinecolor\":\"white\",\"automargin\":true,\"zerolinewidth\":2},\"yaxis\":{\"gridcolor\":\"white\",\"linecolor\":\"white\",\"ticks\":\"\",\"title\":{\"standoff\":15},\"zerolinecolor\":\"white\",\"automargin\":true,\"zerolinewidth\":2},\"scene\":{\"xaxis\":{\"backgroundcolor\":\"#E5ECF6\",\"gridcolor\":\"white\",\"linecolor\":\"white\",\"showbackground\":true,\"ticks\":\"\",\"zerolinecolor\":\"white\",\"gridwidth\":2},\"yaxis\":{\"backgroundcolor\":\"#E5ECF6\",\"gridcolor\":\"white\",\"linecolor\":\"white\",\"showbackground\":true,\"ticks\":\"\",\"zerolinecolor\":\"white\",\"gridwidth\":2},\"zaxis\":{\"backgroundcolor\":\"#E5ECF6\",\"gridcolor\":\"white\",\"linecolor\":\"white\",\"showbackground\":true,\"ticks\":\"\",\"zerolinecolor\":\"white\",\"gridwidth\":2}},\"shapedefaults\":{\"line\":{\"color\":\"#2a3f5f\"}},\"annotationdefaults\":{\"arrowcolor\":\"#2a3f5f\",\"arrowhead\":0,\"arrowwidth\":1},\"geo\":{\"bgcolor\":\"white\",\"landcolor\":\"#E5ECF6\",\"subunitcolor\":\"white\",\"showland\":true,\"showlakes\":true,\"lakecolor\":\"white\"},\"title\":{\"x\":0.05},\"mapbox\":{\"style\":\"light\"}}},\"polar\":{\"radialaxis\":{\"visible\":true,\"range\":[0,1]}},\"showlegend\":true,\"width\":500,\"height\":500},                        {\"responsive\": true}                    ).then(function(){\n",
       "                            \n",
       "var gd = document.getElementById('467caac7-5ddc-475a-a99a-96a40f67010d');\n",
       "var x = new MutationObserver(function (mutations, observer) {{\n",
       "        var display = window.getComputedStyle(gd).display;\n",
       "        if (!display || display === 'none') {{\n",
       "            console.log([gd, 'removed!']);\n",
       "            Plotly.purge(gd);\n",
       "            observer.disconnect();\n",
       "        }}\n",
       "}});\n",
       "\n",
       "// Listen for the removal of the full notebook cells\n",
       "var notebookContainer = gd.closest('#notebook-container');\n",
       "if (notebookContainer) {{\n",
       "    x.observe(notebookContainer, {childList: true});\n",
       "}}\n",
       "\n",
       "// Listen for the clearing of the current output cell\n",
       "var outputEl = gd.closest('.output');\n",
       "if (outputEl) {{\n",
       "    x.observe(outputEl, {childList: true});\n",
       "}}\n",
       "\n",
       "                        })                };                });            </script>        </div>"
      ]
     },
     "metadata": {},
     "output_type": "display_data"
    }
   ],
   "source": [
    "shooting_categories = ['FG%', '3P%','FT%']\n",
    "shooting_fig = go.Figure()\n",
    "shooting_fig.add_trace(go.Scatterpolar(\n",
    "    r = [0.46,0.32,0.75],\n",
    "    theta = shooting_categories,\n",
    "    fill='toself',\n",
    "    name= 'Group A'\n",
    "))\n",
    "\n",
    "shooting_fig.add_trace(go.Scatterpolar(\n",
    "    r = [0.42,0.31,0.76],\n",
    "    theta = shooting_categories,\n",
    "    fill='toself',\n",
    "    name= 'Group B'\n",
    "))\n",
    "\n",
    "shooting_fig.add_trace(go.Scatterpolar(\n",
    "    r = [0.48,0.30,0.75],\n",
    "    theta = shooting_categories,\n",
    "    fill='toself',\n",
    "    name= 'Group C'\n",
    "))\n",
    "\n",
    "shooting_fig.update_layout(\n",
    "    polar=dict(\n",
    "        radialaxis=dict(\n",
    "          visible=True,\n",
    "          range=[0,1]\n",
    "        )),\n",
    "    showlegend=True,\n",
    "    width = 500,\n",
    "    height = 500\n",
    ")\n",
    "    \n",
    "shooting_fig.show()\n"
   ]
  },
  {
   "cell_type": "code",
   "execution_count": 236,
   "id": "cf1aaeb4-ef81-4ff7-9b11-be35cd40bbec",
   "metadata": {},
   "outputs": [],
   "source": [
    "# Use hvplot to visualize group A's minutes per game played 2017-2021\n",
    "group_a_mpg_plot = group_a_ave['MPG'].hvplot(\n",
    "    title='Average 1st Round Picks Minutes Per Game Played 2017-2021',\n",
    "    x='DraftYear',\n",
    "    y='MPG',\n",
    "    xlabel='Draft Year',\n",
    "    ylabel='Munites Per Game',\n",
    "    label='Group-A'\n",
    ")"
   ]
  },
  {
   "cell_type": "code",
   "execution_count": 237,
   "id": "cc6489f8-c817-46aa-9d05-fd6eb09e89c1",
   "metadata": {},
   "outputs": [],
   "source": [
    "# Use hvplot to visualize group B's minutes per game played 2017-2021\n",
    "group_b_mpg_plot = group_b_ave['MPG'].hvplot(\n",
    "    title='Average 1st Round Picks Minutes Per Game Played 2017-2021',\n",
    "    x='DraftYear',\n",
    "    y='MPG',\n",
    "    xlabel='Draft Year',\n",
    "    ylabel='Munites Per Game',\n",
    "    label='Group-B'\n",
    ")"
   ]
  },
  {
   "cell_type": "code",
   "execution_count": 238,
   "id": "5988ad24-16fd-45aa-8948-06917b69f249",
   "metadata": {},
   "outputs": [],
   "source": [
    "# Use hvplot to visualize group C's minutes per game played 2017-2021\n",
    "group_c_mpg_plot = group_c_ave['MPG'].hvplot(\n",
    "    title='Average 1st Round Picks Minutes Per Game Played 2017-2021',\n",
    "    x='DraftYear',\n",
    "    y='MPG',\n",
    "    xlabel='Draft Year',\n",
    "    ylabel='Munites Per Game',\n",
    "    label='Group-C'\n",
    ")"
   ]
  },
  {
   "cell_type": "code",
   "execution_count": 239,
   "id": "45643643-d019-4d5e-b046-210390d3866f",
   "metadata": {},
   "outputs": [
    {
     "data": {},
     "metadata": {},
     "output_type": "display_data"
    },
    {
     "data": {
      "application/vnd.holoviews_exec.v0+json": "",
      "text/html": [
       "<div id='1857'>\n",
       "\n",
       "\n",
       "\n",
       "\n",
       "\n",
       "  <div class=\"bk-root\" id=\"3ac5cdc1-1e4a-4240-af53-d9357f16843b\" data-root-id=\"1857\"></div>\n",
       "</div>\n",
       "<script type=\"application/javascript\">(function(root) {\n",
       "  function embed_document(root) {\n",
       "    var docs_json = {\"3bb88576-fcb6-4439-ae3d-a8a6327b6835\":{\"defs\":[{\"extends\":null,\"module\":null,\"name\":\"ReactiveHTML1\",\"overrides\":[],\"properties\":[]},{\"extends\":null,\"module\":null,\"name\":\"FlexBox1\",\"overrides\":[],\"properties\":[{\"default\":\"flex-start\",\"kind\":null,\"name\":\"align_content\"},{\"default\":\"flex-start\",\"kind\":null,\"name\":\"align_items\"},{\"default\":\"row\",\"kind\":null,\"name\":\"flex_direction\"},{\"default\":\"wrap\",\"kind\":null,\"name\":\"flex_wrap\"},{\"default\":\"flex-start\",\"kind\":null,\"name\":\"justify_content\"}]},{\"extends\":null,\"module\":null,\"name\":\"GridStack1\",\"overrides\":[],\"properties\":[{\"default\":\"warn\",\"kind\":null,\"name\":\"mode\"},{\"default\":null,\"kind\":null,\"name\":\"ncols\"},{\"default\":null,\"kind\":null,\"name\":\"nrows\"},{\"default\":true,\"kind\":null,\"name\":\"allow_resize\"},{\"default\":true,\"kind\":null,\"name\":\"allow_drag\"},{\"default\":[],\"kind\":null,\"name\":\"state\"}]},{\"extends\":null,\"module\":null,\"name\":\"click1\",\"overrides\":[],\"properties\":[{\"default\":\"\",\"kind\":null,\"name\":\"terminal_output\"},{\"default\":\"\",\"kind\":null,\"name\":\"debug_name\"},{\"default\":0,\"kind\":null,\"name\":\"clears\"}]},{\"extends\":null,\"module\":null,\"name\":\"TemplateActions1\",\"overrides\":[],\"properties\":[{\"default\":0,\"kind\":null,\"name\":\"open_modal\"},{\"default\":0,\"kind\":null,\"name\":\"close_modal\"}]},{\"extends\":null,\"module\":null,\"name\":\"MaterialTemplateActions1\",\"overrides\":[],\"properties\":[{\"default\":0,\"kind\":null,\"name\":\"open_modal\"},{\"default\":0,\"kind\":null,\"name\":\"close_modal\"}]}],\"roots\":{\"references\":[{\"attributes\":{},\"id\":\"1869\",\"type\":\"LinearScale\"},{\"attributes\":{\"line_color\":\"#fc4f30\",\"line_width\":2,\"x\":{\"field\":\"DraftYear\"},\"y\":{\"field\":\"MPG\"}},\"id\":\"1942\",\"type\":\"Line\"},{\"attributes\":{\"axis\":{\"id\":\"1873\"},\"coordinates\":null,\"grid_line_color\":null,\"group\":null,\"ticker\":null},\"id\":\"1876\",\"type\":\"Grid\"},{\"attributes\":{\"data\":{\"DraftYear\":[2017,2018,2019,2020,2021],\"MPG\":{\"__ndarray__\":\"XY/C9ShcPUD2KFyPwvU9QArXo3A9CkBAUrgehevRPEB7FK5H4fo/QA==\",\"dtype\":\"float64\",\"order\":\"little\",\"shape\":[5]}},\"selected\":{\"id\":\"1901\"},\"selection_policy\":{\"id\":\"1915\"}},\"id\":\"1900\",\"type\":\"ColumnDataSource\"},{\"attributes\":{\"source\":{\"id\":\"1943\"}},\"id\":\"1950\",\"type\":\"CDSView\"},{\"attributes\":{\"below\":[{\"id\":\"1873\"}],\"center\":[{\"id\":\"1876\"},{\"id\":\"1880\"},{\"id\":\"1918\"}],\"height\":300,\"left\":[{\"id\":\"1877\"}],\"margin\":[5,5,5,5],\"min_border_bottom\":10,\"min_border_left\":10,\"min_border_right\":10,\"min_border_top\":10,\"renderers\":[{\"id\":\"1906\"},{\"id\":\"1927\"},{\"id\":\"1949\"}],\"sizing_mode\":\"fixed\",\"title\":{\"id\":\"1865\"},\"toolbar\":{\"id\":\"1887\"},\"width\":700,\"x_range\":{\"id\":\"1859\"},\"x_scale\":{\"id\":\"1869\"},\"y_range\":{\"id\":\"1860\"},\"y_scale\":{\"id\":\"1871\"}},\"id\":\"1864\",\"subtype\":\"Figure\",\"type\":\"Plot\"},{\"attributes\":{\"line_alpha\":0.1,\"line_color\":\"#30a2da\",\"line_width\":2,\"x\":{\"field\":\"DraftYear\"},\"y\":{\"field\":\"MPG\"}},\"id\":\"1904\",\"type\":\"Line\"},{\"attributes\":{},\"id\":\"1871\",\"type\":\"LinearScale\"},{\"attributes\":{\"line_alpha\":0.1,\"line_color\":\"#e5ae38\",\"line_width\":2,\"x\":{\"field\":\"DraftYear\"},\"y\":{\"field\":\"MPG\"}},\"id\":\"1947\",\"type\":\"Line\"},{\"attributes\":{\"coordinates\":null,\"data_source\":{\"id\":\"1943\"},\"glyph\":{\"id\":\"1946\"},\"group\":null,\"hover_glyph\":null,\"muted_glyph\":{\"id\":\"1948\"},\"nonselection_glyph\":{\"id\":\"1947\"},\"selection_glyph\":{\"id\":\"1966\"},\"view\":{\"id\":\"1950\"}},\"id\":\"1949\",\"type\":\"GlyphRenderer\"},{\"attributes\":{\"line_alpha\":0.1,\"line_color\":\"#fc4f30\",\"line_width\":2,\"x\":{\"field\":\"DraftYear\"},\"y\":{\"field\":\"MPG\"}},\"id\":\"1925\",\"type\":\"Line\"},{\"attributes\":{\"source\":{\"id\":\"1921\"}},\"id\":\"1928\",\"type\":\"CDSView\"},{\"attributes\":{\"label\":{\"value\":\"Group-A\"},\"renderers\":[{\"id\":\"1906\"}]},\"id\":\"1919\",\"type\":\"LegendItem\"},{\"attributes\":{\"line_color\":\"#30a2da\",\"line_width\":2,\"x\":{\"field\":\"DraftYear\"},\"y\":{\"field\":\"MPG\"}},\"id\":\"1903\",\"type\":\"Line\"},{\"attributes\":{\"axis_label\":\"Draft Year\",\"coordinates\":null,\"formatter\":{\"id\":\"1895\"},\"group\":null,\"major_label_policy\":{\"id\":\"1896\"},\"ticker\":{\"id\":\"1874\"}},\"id\":\"1873\",\"type\":\"LinearAxis\"},{\"attributes\":{\"line_alpha\":0.2,\"line_color\":\"#fc4f30\",\"line_width\":2,\"x\":{\"field\":\"DraftYear\"},\"y\":{\"field\":\"MPG\"}},\"id\":\"1926\",\"type\":\"Line\"},{\"attributes\":{\"line_color\":\"#e5ae38\",\"line_width\":2,\"x\":{\"field\":\"DraftYear\"},\"y\":{\"field\":\"MPG\"}},\"id\":\"1966\",\"type\":\"Line\"},{\"attributes\":{\"line_color\":\"#fc4f30\",\"line_width\":2,\"x\":{\"field\":\"DraftYear\"},\"y\":{\"field\":\"MPG\"}},\"id\":\"1924\",\"type\":\"Line\"},{\"attributes\":{\"line_color\":\"#e5ae38\",\"line_width\":2,\"x\":{\"field\":\"DraftYear\"},\"y\":{\"field\":\"MPG\"}},\"id\":\"1946\",\"type\":\"Line\"},{\"attributes\":{\"coordinates\":null,\"group\":null,\"text\":\"Average 1st Round Picks Minutes Per Game Played 2017-2021\",\"text_color\":\"black\",\"text_font_size\":\"12pt\"},\"id\":\"1865\",\"type\":\"Title\"},{\"attributes\":{},\"id\":\"1898\",\"type\":\"BasicTickFormatter\"},{\"attributes\":{\"label\":{\"value\":\"Group-B\"},\"renderers\":[{\"id\":\"1927\"}]},\"id\":\"1941\",\"type\":\"LegendItem\"},{\"attributes\":{\"children\":[{\"id\":\"1858\"},{\"id\":\"1864\"},{\"id\":\"2093\"}],\"margin\":[0,0,0,0],\"name\":\"Row03489\",\"tags\":[\"embedded\"]},\"id\":\"1857\",\"type\":\"Row\"},{\"attributes\":{},\"id\":\"1874\",\"type\":\"BasicTicker\"},{\"attributes\":{},\"id\":\"1944\",\"type\":\"Selection\"},{\"attributes\":{},\"id\":\"1883\",\"type\":\"WheelZoomTool\"},{\"attributes\":{\"data\":{\"DraftYear\":[2017,2018,2019,2020,2021],\"MPG\":{\"__ndarray__\":\"UrgehevRNEDNzMzMzEwwQD4K16NwvTNAj8L1KFwPMkBSuB6F61EpQA==\",\"dtype\":\"float64\",\"order\":\"little\",\"shape\":[5]}},\"selected\":{\"id\":\"1944\"},\"selection_policy\":{\"id\":\"1962\"}},\"id\":\"1943\",\"type\":\"ColumnDataSource\"},{\"attributes\":{\"axis\":{\"id\":\"1877\"},\"coordinates\":null,\"dimension\":1,\"grid_line_color\":null,\"group\":null,\"ticker\":null},\"id\":\"1880\",\"type\":\"Grid\"},{\"attributes\":{},\"id\":\"1922\",\"type\":\"Selection\"},{\"attributes\":{},\"id\":\"1938\",\"type\":\"UnionRenderers\"},{\"attributes\":{},\"id\":\"1878\",\"type\":\"BasicTicker\"},{\"attributes\":{\"line_alpha\":0.2,\"line_color\":\"#e5ae38\",\"line_width\":2,\"x\":{\"field\":\"DraftYear\"},\"y\":{\"field\":\"MPG\"}},\"id\":\"1948\",\"type\":\"Line\"},{\"attributes\":{},\"id\":\"1882\",\"type\":\"PanTool\"},{\"attributes\":{},\"id\":\"1915\",\"type\":\"UnionRenderers\"},{\"attributes\":{\"margin\":[5,5,5,5],\"name\":\"HSpacer03494\",\"sizing_mode\":\"stretch_width\"},\"id\":\"2093\",\"type\":\"Spacer\"},{\"attributes\":{\"axis_label\":\"Munites Per Game\",\"coordinates\":null,\"formatter\":{\"id\":\"1898\"},\"group\":null,\"major_label_policy\":{\"id\":\"1899\"},\"ticker\":{\"id\":\"1878\"}},\"id\":\"1877\",\"type\":\"LinearAxis\"},{\"attributes\":{\"line_alpha\":0.2,\"line_color\":\"#30a2da\",\"line_width\":2,\"x\":{\"field\":\"DraftYear\"},\"y\":{\"field\":\"MPG\"}},\"id\":\"1905\",\"type\":\"Line\"},{\"attributes\":{},\"id\":\"1881\",\"type\":\"SaveTool\"},{\"attributes\":{\"label\":{\"value\":\"Group-C\"},\"renderers\":[{\"id\":\"1949\"}]},\"id\":\"1965\",\"type\":\"LegendItem\"},{\"attributes\":{\"coordinates\":null,\"data_source\":{\"id\":\"1900\"},\"glyph\":{\"id\":\"1903\"},\"group\":null,\"hover_glyph\":null,\"muted_glyph\":{\"id\":\"1905\"},\"nonselection_glyph\":{\"id\":\"1904\"},\"selection_glyph\":{\"id\":\"1920\"},\"view\":{\"id\":\"1907\"}},\"id\":\"1906\",\"type\":\"GlyphRenderer\"},{\"attributes\":{\"source\":{\"id\":\"1900\"}},\"id\":\"1907\",\"type\":\"CDSView\"},{\"attributes\":{\"click_policy\":\"mute\",\"coordinates\":null,\"group\":null,\"items\":[{\"id\":\"1919\"},{\"id\":\"1941\"},{\"id\":\"1965\"}]},\"id\":\"1918\",\"type\":\"Legend\"},{\"attributes\":{\"callback\":null,\"renderers\":[{\"id\":\"1906\"},{\"id\":\"1927\"},{\"id\":\"1949\"}],\"tags\":[\"hv_created\"],\"tooltips\":[[\"DraftYear\",\"@{DraftYear}\"],[\"MPG\",\"@{MPG}\"]]},\"id\":\"1861\",\"type\":\"HoverTool\"},{\"attributes\":{\"overlay\":{\"id\":\"1886\"}},\"id\":\"1884\",\"type\":\"BoxZoomTool\"},{\"attributes\":{},\"id\":\"1962\",\"type\":\"UnionRenderers\"},{\"attributes\":{},\"id\":\"1885\",\"type\":\"ResetTool\"},{\"attributes\":{\"bottom_units\":\"screen\",\"coordinates\":null,\"fill_alpha\":0.5,\"fill_color\":\"lightgrey\",\"group\":null,\"left_units\":\"screen\",\"level\":\"overlay\",\"line_alpha\":1.0,\"line_color\":\"black\",\"line_dash\":[4,4],\"line_width\":2,\"right_units\":\"screen\",\"syncable\":false,\"top_units\":\"screen\"},\"id\":\"1886\",\"type\":\"BoxAnnotation\"},{\"attributes\":{\"tools\":[{\"id\":\"1861\"},{\"id\":\"1881\"},{\"id\":\"1882\"},{\"id\":\"1883\"},{\"id\":\"1884\"},{\"id\":\"1885\"}]},\"id\":\"1887\",\"type\":\"Toolbar\"},{\"attributes\":{\"end\":34.022,\"reset_end\":34.022,\"reset_start\":10.718,\"start\":10.718,\"tags\":[[[\"MPG\",\"MPG\",null]]]},\"id\":\"1860\",\"type\":\"Range1d\"},{\"attributes\":{\"margin\":[5,5,5,5],\"name\":\"HSpacer03493\",\"sizing_mode\":\"stretch_width\"},\"id\":\"1858\",\"type\":\"Spacer\"},{\"attributes\":{},\"id\":\"1895\",\"type\":\"BasicTickFormatter\"},{\"attributes\":{\"data\":{\"DraftYear\":[2017,2018,2019,2020,2021],\"MPG\":{\"__ndarray__\":\"wvUoXI9CNUBxPQrXo3AyQEjhehSuRzVAhetRuB6FNEDiehSuR+ExQA==\",\"dtype\":\"float64\",\"order\":\"little\",\"shape\":[5]}},\"selected\":{\"id\":\"1922\"},\"selection_policy\":{\"id\":\"1938\"}},\"id\":\"1921\",\"type\":\"ColumnDataSource\"},{\"attributes\":{},\"id\":\"1896\",\"type\":\"AllLabels\"},{\"attributes\":{},\"id\":\"1899\",\"type\":\"AllLabels\"},{\"attributes\":{\"line_color\":\"#30a2da\",\"line_width\":2,\"x\":{\"field\":\"DraftYear\"},\"y\":{\"field\":\"MPG\"}},\"id\":\"1920\",\"type\":\"Line\"},{\"attributes\":{\"end\":2021.0,\"reset_end\":2021.0,\"reset_start\":2017.0,\"start\":2017.0,\"tags\":[[[\"DraftYear\",\"DraftYear\",null]]]},\"id\":\"1859\",\"type\":\"Range1d\"},{\"attributes\":{},\"id\":\"1901\",\"type\":\"Selection\"},{\"attributes\":{\"coordinates\":null,\"data_source\":{\"id\":\"1921\"},\"glyph\":{\"id\":\"1924\"},\"group\":null,\"hover_glyph\":null,\"muted_glyph\":{\"id\":\"1926\"},\"nonselection_glyph\":{\"id\":\"1925\"},\"selection_glyph\":{\"id\":\"1942\"},\"view\":{\"id\":\"1928\"}},\"id\":\"1927\",\"type\":\"GlyphRenderer\"}],\"root_ids\":[\"1857\"]},\"title\":\"Bokeh Application\",\"version\":\"2.4.1\"}};\n",
       "    var render_items = [{\"docid\":\"3bb88576-fcb6-4439-ae3d-a8a6327b6835\",\"root_ids\":[\"1857\"],\"roots\":{\"1857\":\"3ac5cdc1-1e4a-4240-af53-d9357f16843b\"}}];\n",
       "    root.Bokeh.embed.embed_items_notebook(docs_json, render_items);\n",
       "  }\n",
       "  if (root.Bokeh !== undefined && root.Bokeh.Panel !== undefined) {\n",
       "    embed_document(root);\n",
       "  } else {\n",
       "    var attempts = 0;\n",
       "    var timer = setInterval(function(root) {\n",
       "      if (root.Bokeh !== undefined && root.Bokeh.Panel !== undefined) {\n",
       "        clearInterval(timer);\n",
       "        embed_document(root);\n",
       "      } else if (document.readyState == \"complete\") {\n",
       "        attempts++;\n",
       "        if (attempts > 200) {\n",
       "          clearInterval(timer);\n",
       "          console.log(\"Bokeh: ERROR: Unable to run BokehJS code because BokehJS library is missing\");\n",
       "        }\n",
       "      }\n",
       "    }, 25, root)\n",
       "  }\n",
       "})(window);</script>"
      ],
      "text/plain": [
       ":Overlay\n",
       "   .Curve.Group_hyphen_minus_A :Curve   [DraftYear]   (MPG)\n",
       "   .Curve.Group_hyphen_minus_B :Curve   [DraftYear]   (MPG)\n",
       "   .Curve.Group_hyphen_minus_C :Curve   [DraftYear]   (MPG)"
      ]
     },
     "execution_count": 239,
     "metadata": {
      "application/vnd.holoviews_exec.v0+json": {
       "id": "1857"
      }
     },
     "output_type": "execute_result"
    }
   ],
   "source": [
    "# Overlay all groups minutes per game played 2017-2021\n",
    "all_groups_mpg_plot = group_a_mpg_plot *group_b_mpg_plot * group_c_mpg_plot \n",
    "all_groups_mpg_plot"
   ]
  },
  {
   "cell_type": "code",
   "execution_count": null,
   "id": "47706f13-cc8e-4866-9110-400cfedaca3d",
   "metadata": {},
   "outputs": [],
   "source": []
  },
  {
   "cell_type": "code",
   "execution_count": 240,
   "id": "3ed8fedb-01c4-4289-b7a7-fd8f70404c12",
   "metadata": {},
   "outputs": [],
   "source": [
    "# Use hvplot to visualize group A's points per game 2017-2021\n",
    "group_a_ppg_plot = group_a_ave['PPG'].hvplot(\n",
    "    title='Average 1st Round Picks Points Per Game 2017-2021',\n",
    "    x='DraftYear',\n",
    "    y='PPG',\n",
    "    xlabel='Draft Year',\n",
    "    ylabel='Points Per Game',\n",
    "    label='Group-A'\n",
    ")"
   ]
  },
  {
   "cell_type": "code",
   "execution_count": 241,
   "id": "7ef51caa-04c7-45e1-888b-97da6a65fca5",
   "metadata": {},
   "outputs": [],
   "source": [
    "# Use hvplot to visualize group B's points per game 2017-2021\n",
    "group_b_ppg_plot = group_b_ave['PPG'].hvplot(\n",
    "    title='Average 1st Round Picks Points Per Game 2017-2021',\n",
    "    x='DraftYear',\n",
    "    y='PPG',\n",
    "    xlabel='Draft Year',\n",
    "    ylabel='Points Per Game',\n",
    "    label='Group-B'\n",
    ")"
   ]
  },
  {
   "cell_type": "code",
   "execution_count": 242,
   "id": "40f76e87-3858-406e-93ed-ffad6963f067",
   "metadata": {},
   "outputs": [],
   "source": [
    "# Use hvplot to visualize group C's points per game 2017-2021\n",
    "group_c_ppg_plot = group_c_ave['PPG'].hvplot(\n",
    "    title='Average 1st Round Picks Points Per Game 2017-2021',\n",
    "    x='DraftYear',\n",
    "    y='PPG',\n",
    "    xlabel='Draft Year',\n",
    "    ylabel='Points Per Game',\n",
    "    label='Group-C'\n",
    ")"
   ]
  },
  {
   "cell_type": "code",
   "execution_count": 243,
   "id": "729d7959-ad44-4991-8b5e-7cd446799dc0",
   "metadata": {},
   "outputs": [
    {
     "data": {},
     "metadata": {},
     "output_type": "display_data"
    },
    {
     "data": {
      "application/vnd.holoviews_exec.v0+json": "",
      "text/html": [
       "<div id='2165'>\n",
       "\n",
       "\n",
       "\n",
       "\n",
       "\n",
       "  <div class=\"bk-root\" id=\"c1d27f90-7bb7-47e8-9039-eacdb89d6130\" data-root-id=\"2165\"></div>\n",
       "</div>\n",
       "<script type=\"application/javascript\">(function(root) {\n",
       "  function embed_document(root) {\n",
       "    var docs_json = {\"9a5d1a02-7ae2-4bce-b01b-b7fc2742f035\":{\"defs\":[{\"extends\":null,\"module\":null,\"name\":\"ReactiveHTML1\",\"overrides\":[],\"properties\":[]},{\"extends\":null,\"module\":null,\"name\":\"FlexBox1\",\"overrides\":[],\"properties\":[{\"default\":\"flex-start\",\"kind\":null,\"name\":\"align_content\"},{\"default\":\"flex-start\",\"kind\":null,\"name\":\"align_items\"},{\"default\":\"row\",\"kind\":null,\"name\":\"flex_direction\"},{\"default\":\"wrap\",\"kind\":null,\"name\":\"flex_wrap\"},{\"default\":\"flex-start\",\"kind\":null,\"name\":\"justify_content\"}]},{\"extends\":null,\"module\":null,\"name\":\"GridStack1\",\"overrides\":[],\"properties\":[{\"default\":\"warn\",\"kind\":null,\"name\":\"mode\"},{\"default\":null,\"kind\":null,\"name\":\"ncols\"},{\"default\":null,\"kind\":null,\"name\":\"nrows\"},{\"default\":true,\"kind\":null,\"name\":\"allow_resize\"},{\"default\":true,\"kind\":null,\"name\":\"allow_drag\"},{\"default\":[],\"kind\":null,\"name\":\"state\"}]},{\"extends\":null,\"module\":null,\"name\":\"click1\",\"overrides\":[],\"properties\":[{\"default\":\"\",\"kind\":null,\"name\":\"terminal_output\"},{\"default\":\"\",\"kind\":null,\"name\":\"debug_name\"},{\"default\":0,\"kind\":null,\"name\":\"clears\"}]},{\"extends\":null,\"module\":null,\"name\":\"TemplateActions1\",\"overrides\":[],\"properties\":[{\"default\":0,\"kind\":null,\"name\":\"open_modal\"},{\"default\":0,\"kind\":null,\"name\":\"close_modal\"}]},{\"extends\":null,\"module\":null,\"name\":\"MaterialTemplateActions1\",\"overrides\":[],\"properties\":[{\"default\":0,\"kind\":null,\"name\":\"open_modal\"},{\"default\":0,\"kind\":null,\"name\":\"close_modal\"}]}],\"roots\":{\"references\":[{\"attributes\":{\"line_alpha\":0.2,\"line_color\":\"#e5ae38\",\"line_width\":2,\"x\":{\"field\":\"DraftYear\"},\"y\":{\"field\":\"PPG\"}},\"id\":\"2256\",\"type\":\"Line\"},{\"attributes\":{\"label\":{\"value\":\"Group-C\"},\"renderers\":[{\"id\":\"2257\"}]},\"id\":\"2273\",\"type\":\"LegendItem\"},{\"attributes\":{\"margin\":[5,5,5,5],\"name\":\"HSpacer04350\",\"sizing_mode\":\"stretch_width\"},\"id\":\"2401\",\"type\":\"Spacer\"},{\"attributes\":{\"bottom_units\":\"screen\",\"coordinates\":null,\"fill_alpha\":0.5,\"fill_color\":\"lightgrey\",\"group\":null,\"left_units\":\"screen\",\"level\":\"overlay\",\"line_alpha\":1.0,\"line_color\":\"black\",\"line_dash\":[4,4],\"line_width\":2,\"right_units\":\"screen\",\"syncable\":false,\"top_units\":\"screen\"},\"id\":\"2194\",\"type\":\"BoxAnnotation\"},{\"attributes\":{},\"id\":\"2223\",\"type\":\"UnionRenderers\"},{\"attributes\":{\"below\":[{\"id\":\"2181\"}],\"center\":[{\"id\":\"2184\"},{\"id\":\"2188\"},{\"id\":\"2226\"}],\"height\":300,\"left\":[{\"id\":\"2185\"}],\"margin\":[5,5,5,5],\"min_border_bottom\":10,\"min_border_left\":10,\"min_border_right\":10,\"min_border_top\":10,\"renderers\":[{\"id\":\"2214\"},{\"id\":\"2235\"},{\"id\":\"2257\"}],\"sizing_mode\":\"fixed\",\"title\":{\"id\":\"2173\"},\"toolbar\":{\"id\":\"2195\"},\"width\":700,\"x_range\":{\"id\":\"2167\"},\"x_scale\":{\"id\":\"2177\"},\"y_range\":{\"id\":\"2168\"},\"y_scale\":{\"id\":\"2179\"}},\"id\":\"2172\",\"subtype\":\"Figure\",\"type\":\"Plot\"},{\"attributes\":{\"coordinates\":null,\"data_source\":{\"id\":\"2208\"},\"glyph\":{\"id\":\"2211\"},\"group\":null,\"hover_glyph\":null,\"muted_glyph\":{\"id\":\"2213\"},\"nonselection_glyph\":{\"id\":\"2212\"},\"selection_glyph\":{\"id\":\"2228\"},\"view\":{\"id\":\"2215\"}},\"id\":\"2214\",\"type\":\"GlyphRenderer\"},{\"attributes\":{\"line_alpha\":0.1,\"line_color\":\"#fc4f30\",\"line_width\":2,\"x\":{\"field\":\"DraftYear\"},\"y\":{\"field\":\"PPG\"}},\"id\":\"2233\",\"type\":\"Line\"},{\"attributes\":{},\"id\":\"2186\",\"type\":\"BasicTicker\"},{\"attributes\":{\"line_color\":\"#30a2da\",\"line_width\":2,\"x\":{\"field\":\"DraftYear\"},\"y\":{\"field\":\"PPG\"}},\"id\":\"2228\",\"type\":\"Line\"},{\"attributes\":{},\"id\":\"2182\",\"type\":\"BasicTicker\"},{\"attributes\":{\"line_alpha\":0.2,\"line_color\":\"#30a2da\",\"line_width\":2,\"x\":{\"field\":\"DraftYear\"},\"y\":{\"field\":\"PPG\"}},\"id\":\"2213\",\"type\":\"Line\"},{\"attributes\":{\"data\":{\"DraftYear\":[2017,2018,2019,2020,2021],\"PPG\":{\"__ndarray__\":\"XY/C9ShcLUA+CtejcD0zQPYoXI/CdTJAUrgehetRK0DiehSuR+EsQA==\",\"dtype\":\"float64\",\"order\":\"little\",\"shape\":[5]}},\"selected\":{\"id\":\"2209\"},\"selection_policy\":{\"id\":\"2223\"}},\"id\":\"2208\",\"type\":\"ColumnDataSource\"},{\"attributes\":{\"data\":{\"DraftYear\":[2017,2018,2019,2020,2021],\"PPG\":{\"__ndarray__\":\"cT0K16NwIUDXo3A9CtcXQAAAAAAAACJAo3A9CtejHEAzMzMzMzMXQA==\",\"dtype\":\"float64\",\"order\":\"little\",\"shape\":[5]}},\"selected\":{\"id\":\"2252\"},\"selection_policy\":{\"id\":\"2270\"}},\"id\":\"2251\",\"type\":\"ColumnDataSource\"},{\"attributes\":{\"label\":{\"value\":\"Group-A\"},\"renderers\":[{\"id\":\"2214\"}]},\"id\":\"2227\",\"type\":\"LegendItem\"},{\"attributes\":{},\"id\":\"2190\",\"type\":\"PanTool\"},{\"attributes\":{\"source\":{\"id\":\"2251\"}},\"id\":\"2258\",\"type\":\"CDSView\"},{\"attributes\":{\"coordinates\":null,\"data_source\":{\"id\":\"2229\"},\"glyph\":{\"id\":\"2232\"},\"group\":null,\"hover_glyph\":null,\"muted_glyph\":{\"id\":\"2234\"},\"nonselection_glyph\":{\"id\":\"2233\"},\"selection_glyph\":{\"id\":\"2250\"},\"view\":{\"id\":\"2236\"}},\"id\":\"2235\",\"type\":\"GlyphRenderer\"},{\"attributes\":{\"axis\":{\"id\":\"2181\"},\"coordinates\":null,\"grid_line_color\":null,\"group\":null,\"ticker\":null},\"id\":\"2184\",\"type\":\"Grid\"},{\"attributes\":{\"source\":{\"id\":\"2208\"}},\"id\":\"2215\",\"type\":\"CDSView\"},{\"attributes\":{\"line_color\":\"#fc4f30\",\"line_width\":2,\"x\":{\"field\":\"DraftYear\"},\"y\":{\"field\":\"PPG\"}},\"id\":\"2232\",\"type\":\"Line\"},{\"attributes\":{},\"id\":\"2204\",\"type\":\"AllLabels\"},{\"attributes\":{},\"id\":\"2207\",\"type\":\"AllLabels\"},{\"attributes\":{\"callback\":null,\"renderers\":[{\"id\":\"2214\"},{\"id\":\"2235\"},{\"id\":\"2257\"}],\"tags\":[\"hv_created\"],\"tooltips\":[[\"DraftYear\",\"@{DraftYear}\"],[\"PPG\",\"@{PPG}\"]]},\"id\":\"2169\",\"type\":\"HoverTool\"},{\"attributes\":{},\"id\":\"2189\",\"type\":\"SaveTool\"},{\"attributes\":{\"axis_label\":\"Draft Year\",\"coordinates\":null,\"formatter\":{\"id\":\"2203\"},\"group\":null,\"major_label_policy\":{\"id\":\"2204\"},\"ticker\":{\"id\":\"2182\"}},\"id\":\"2181\",\"type\":\"LinearAxis\"},{\"attributes\":{},\"id\":\"2230\",\"type\":\"Selection\"},{\"attributes\":{\"line_color\":\"#fc4f30\",\"line_width\":2,\"x\":{\"field\":\"DraftYear\"},\"y\":{\"field\":\"PPG\"}},\"id\":\"2250\",\"type\":\"Line\"},{\"attributes\":{},\"id\":\"2270\",\"type\":\"UnionRenderers\"},{\"attributes\":{\"line_alpha\":0.1,\"line_color\":\"#e5ae38\",\"line_width\":2,\"x\":{\"field\":\"DraftYear\"},\"y\":{\"field\":\"PPG\"}},\"id\":\"2255\",\"type\":\"Line\"},{\"attributes\":{\"end\":20.584000000000003,\"reset_end\":20.584000000000003,\"reset_start\":4.4559999999999995,\"start\":4.4559999999999995,\"tags\":[[[\"PPG\",\"PPG\",null]]]},\"id\":\"2168\",\"type\":\"Range1d\"},{\"attributes\":{\"line_color\":\"#e5ae38\",\"line_width\":2,\"x\":{\"field\":\"DraftYear\"},\"y\":{\"field\":\"PPG\"}},\"id\":\"2274\",\"type\":\"Line\"},{\"attributes\":{},\"id\":\"2191\",\"type\":\"WheelZoomTool\"},{\"attributes\":{\"margin\":[5,5,5,5],\"name\":\"HSpacer04349\",\"sizing_mode\":\"stretch_width\"},\"id\":\"2166\",\"type\":\"Spacer\"},{\"attributes\":{\"source\":{\"id\":\"2229\"}},\"id\":\"2236\",\"type\":\"CDSView\"},{\"attributes\":{\"line_alpha\":0.1,\"line_color\":\"#30a2da\",\"line_width\":2,\"x\":{\"field\":\"DraftYear\"},\"y\":{\"field\":\"PPG\"}},\"id\":\"2212\",\"type\":\"Line\"},{\"attributes\":{\"line_alpha\":0.2,\"line_color\":\"#fc4f30\",\"line_width\":2,\"x\":{\"field\":\"DraftYear\"},\"y\":{\"field\":\"PPG\"}},\"id\":\"2234\",\"type\":\"Line\"},{\"attributes\":{\"coordinates\":null,\"data_source\":{\"id\":\"2251\"},\"glyph\":{\"id\":\"2254\"},\"group\":null,\"hover_glyph\":null,\"muted_glyph\":{\"id\":\"2256\"},\"nonselection_glyph\":{\"id\":\"2255\"},\"selection_glyph\":{\"id\":\"2274\"},\"view\":{\"id\":\"2258\"}},\"id\":\"2257\",\"type\":\"GlyphRenderer\"},{\"attributes\":{},\"id\":\"2193\",\"type\":\"ResetTool\"},{\"attributes\":{},\"id\":\"2179\",\"type\":\"LinearScale\"},{\"attributes\":{\"label\":{\"value\":\"Group-B\"},\"renderers\":[{\"id\":\"2235\"}]},\"id\":\"2249\",\"type\":\"LegendItem\"},{\"attributes\":{\"line_color\":\"#30a2da\",\"line_width\":2,\"x\":{\"field\":\"DraftYear\"},\"y\":{\"field\":\"PPG\"}},\"id\":\"2211\",\"type\":\"Line\"},{\"attributes\":{\"coordinates\":null,\"group\":null,\"text\":\"Average 1st Round Picks Points Per Game 2017-2021\",\"text_color\":\"black\",\"text_font_size\":\"12pt\"},\"id\":\"2173\",\"type\":\"Title\"},{\"attributes\":{},\"id\":\"2177\",\"type\":\"LinearScale\"},{\"attributes\":{\"end\":2021.0,\"reset_end\":2021.0,\"reset_start\":2017.0,\"start\":2017.0,\"tags\":[[[\"DraftYear\",\"DraftYear\",null]]]},\"id\":\"2167\",\"type\":\"Range1d\"},{\"attributes\":{\"tools\":[{\"id\":\"2169\"},{\"id\":\"2189\"},{\"id\":\"2190\"},{\"id\":\"2191\"},{\"id\":\"2192\"},{\"id\":\"2193\"}]},\"id\":\"2195\",\"type\":\"Toolbar\"},{\"attributes\":{\"axis\":{\"id\":\"2185\"},\"coordinates\":null,\"dimension\":1,\"grid_line_color\":null,\"group\":null,\"ticker\":null},\"id\":\"2188\",\"type\":\"Grid\"},{\"attributes\":{\"children\":[{\"id\":\"2166\"},{\"id\":\"2172\"},{\"id\":\"2401\"}],\"margin\":[0,0,0,0],\"name\":\"Row04345\",\"tags\":[\"embedded\"]},\"id\":\"2165\",\"type\":\"Row\"},{\"attributes\":{\"line_color\":\"#e5ae38\",\"line_width\":2,\"x\":{\"field\":\"DraftYear\"},\"y\":{\"field\":\"PPG\"}},\"id\":\"2254\",\"type\":\"Line\"},{\"attributes\":{\"overlay\":{\"id\":\"2194\"}},\"id\":\"2192\",\"type\":\"BoxZoomTool\"},{\"attributes\":{},\"id\":\"2206\",\"type\":\"BasicTickFormatter\"},{\"attributes\":{},\"id\":\"2203\",\"type\":\"BasicTickFormatter\"},{\"attributes\":{},\"id\":\"2209\",\"type\":\"Selection\"},{\"attributes\":{},\"id\":\"2246\",\"type\":\"UnionRenderers\"},{\"attributes\":{},\"id\":\"2252\",\"type\":\"Selection\"},{\"attributes\":{\"click_policy\":\"mute\",\"coordinates\":null,\"group\":null,\"items\":[{\"id\":\"2227\"},{\"id\":\"2249\"},{\"id\":\"2273\"}]},\"id\":\"2226\",\"type\":\"Legend\"},{\"attributes\":{\"data\":{\"DraftYear\":[2017,2018,2019,2020,2021],\"PPG\":{\"__ndarray__\":\"mpmZmZmZJEAqXI/C9SgeQDMzMzMzMyFASOF6FK5HIEDNzMzMzMwcQA==\",\"dtype\":\"float64\",\"order\":\"little\",\"shape\":[5]}},\"selected\":{\"id\":\"2230\"},\"selection_policy\":{\"id\":\"2246\"}},\"id\":\"2229\",\"type\":\"ColumnDataSource\"},{\"attributes\":{\"axis_label\":\"Points Per Game\",\"coordinates\":null,\"formatter\":{\"id\":\"2206\"},\"group\":null,\"major_label_policy\":{\"id\":\"2207\"},\"ticker\":{\"id\":\"2186\"}},\"id\":\"2185\",\"type\":\"LinearAxis\"}],\"root_ids\":[\"2165\"]},\"title\":\"Bokeh Application\",\"version\":\"2.4.1\"}};\n",
       "    var render_items = [{\"docid\":\"9a5d1a02-7ae2-4bce-b01b-b7fc2742f035\",\"root_ids\":[\"2165\"],\"roots\":{\"2165\":\"c1d27f90-7bb7-47e8-9039-eacdb89d6130\"}}];\n",
       "    root.Bokeh.embed.embed_items_notebook(docs_json, render_items);\n",
       "  }\n",
       "  if (root.Bokeh !== undefined && root.Bokeh.Panel !== undefined) {\n",
       "    embed_document(root);\n",
       "  } else {\n",
       "    var attempts = 0;\n",
       "    var timer = setInterval(function(root) {\n",
       "      if (root.Bokeh !== undefined && root.Bokeh.Panel !== undefined) {\n",
       "        clearInterval(timer);\n",
       "        embed_document(root);\n",
       "      } else if (document.readyState == \"complete\") {\n",
       "        attempts++;\n",
       "        if (attempts > 200) {\n",
       "          clearInterval(timer);\n",
       "          console.log(\"Bokeh: ERROR: Unable to run BokehJS code because BokehJS library is missing\");\n",
       "        }\n",
       "      }\n",
       "    }, 25, root)\n",
       "  }\n",
       "})(window);</script>"
      ],
      "text/plain": [
       ":Overlay\n",
       "   .Curve.Group_hyphen_minus_A :Curve   [DraftYear]   (PPG)\n",
       "   .Curve.Group_hyphen_minus_B :Curve   [DraftYear]   (PPG)\n",
       "   .Curve.Group_hyphen_minus_C :Curve   [DraftYear]   (PPG)"
      ]
     },
     "execution_count": 243,
     "metadata": {
      "application/vnd.holoviews_exec.v0+json": {
       "id": "2165"
      }
     },
     "output_type": "execute_result"
    }
   ],
   "source": [
    "# Overlay all groups points per game 2017-2021\n",
    "all_group_ppg_plot = group_a_ppg_plot * group_b_ppg_plot * group_c_ppg_plot\n",
    "all_group_ppg_plot"
   ]
  },
  {
   "cell_type": "code",
   "execution_count": null,
   "id": "1126610d-3850-491e-ae7b-02ce4f9e32ac",
   "metadata": {},
   "outputs": [],
   "source": []
  },
  {
   "cell_type": "code",
   "execution_count": 244,
   "id": "c75eae7a-a928-4a3c-b7f3-a75c4ad183df",
   "metadata": {},
   "outputs": [],
   "source": [
    "# Use hvplot to visualize group A's rebounds per game 2017-2021\n",
    "group_a_rpg_plot = group_a_ave['RPG'].hvplot(\n",
    "    title='Average 1st Round Picks Rebounds Per Game 2017-2021',\n",
    "    x='DraftYear',\n",
    "    y='RPG',\n",
    "    xlabel='Draft Year',\n",
    "    ylabel='Rebounds Per Game',\n",
    "    label='Group-A'\n",
    ")"
   ]
  },
  {
   "cell_type": "code",
   "execution_count": 245,
   "id": "378112f1-1dc9-4a8b-8ff0-ebe9b04fa0eb",
   "metadata": {},
   "outputs": [],
   "source": [
    "# Use hvplot to visualize group B's rebounds per game 2017-2021\n",
    "group_b_rpg_plot = group_b_ave['RPG'].hvplot(\n",
    "    title='Average 1st Round Picks Rebounds Per Game 2017-2021',\n",
    "    x='DraftYear',\n",
    "    y='RPG',\n",
    "    xlabel='Draft Year',\n",
    "    ylabel='Rebounds Per Game',\n",
    "    label='Group-B'\n",
    ")"
   ]
  },
  {
   "cell_type": "code",
   "execution_count": 246,
   "id": "7a46ce70-cf37-49b2-873d-4cd3c5b4f77d",
   "metadata": {},
   "outputs": [],
   "source": [
    "# Use hvplot to visualize group C's rebounds per game 2017-2021\n",
    "group_c_rpg_plot = group_c_ave['RPG'].hvplot(\n",
    "    title='Average 1st Round Picks Rebounds Per Game 2017-2021',\n",
    "    x='DraftYear',\n",
    "    y='RPG',\n",
    "    xlabel='Draft Year',\n",
    "    ylabel='Rebounds Per Game',\n",
    "    label='Group-C'\n",
    ")"
   ]
  },
  {
   "cell_type": "code",
   "execution_count": 247,
   "id": "d5863a3c-999b-4eae-97b1-51f9c1b5c63b",
   "metadata": {},
   "outputs": [
    {
     "data": {},
     "metadata": {},
     "output_type": "display_data"
    },
    {
     "data": {
      "application/vnd.holoviews_exec.v0+json": "",
      "text/html": [
       "<div id='2473'>\n",
       "\n",
       "\n",
       "\n",
       "\n",
       "\n",
       "  <div class=\"bk-root\" id=\"933cbcae-c026-4160-8ceb-dbb7a4ddf040\" data-root-id=\"2473\"></div>\n",
       "</div>\n",
       "<script type=\"application/javascript\">(function(root) {\n",
       "  function embed_document(root) {\n",
       "    var docs_json = {\"1ce41ee4-1251-4c5c-a568-a4bde43e58e4\":{\"defs\":[{\"extends\":null,\"module\":null,\"name\":\"ReactiveHTML1\",\"overrides\":[],\"properties\":[]},{\"extends\":null,\"module\":null,\"name\":\"FlexBox1\",\"overrides\":[],\"properties\":[{\"default\":\"flex-start\",\"kind\":null,\"name\":\"align_content\"},{\"default\":\"flex-start\",\"kind\":null,\"name\":\"align_items\"},{\"default\":\"row\",\"kind\":null,\"name\":\"flex_direction\"},{\"default\":\"wrap\",\"kind\":null,\"name\":\"flex_wrap\"},{\"default\":\"flex-start\",\"kind\":null,\"name\":\"justify_content\"}]},{\"extends\":null,\"module\":null,\"name\":\"GridStack1\",\"overrides\":[],\"properties\":[{\"default\":\"warn\",\"kind\":null,\"name\":\"mode\"},{\"default\":null,\"kind\":null,\"name\":\"ncols\"},{\"default\":null,\"kind\":null,\"name\":\"nrows\"},{\"default\":true,\"kind\":null,\"name\":\"allow_resize\"},{\"default\":true,\"kind\":null,\"name\":\"allow_drag\"},{\"default\":[],\"kind\":null,\"name\":\"state\"}]},{\"extends\":null,\"module\":null,\"name\":\"click1\",\"overrides\":[],\"properties\":[{\"default\":\"\",\"kind\":null,\"name\":\"terminal_output\"},{\"default\":\"\",\"kind\":null,\"name\":\"debug_name\"},{\"default\":0,\"kind\":null,\"name\":\"clears\"}]},{\"extends\":null,\"module\":null,\"name\":\"TemplateActions1\",\"overrides\":[],\"properties\":[{\"default\":0,\"kind\":null,\"name\":\"open_modal\"},{\"default\":0,\"kind\":null,\"name\":\"close_modal\"}]},{\"extends\":null,\"module\":null,\"name\":\"MaterialTemplateActions1\",\"overrides\":[],\"properties\":[{\"default\":0,\"kind\":null,\"name\":\"open_modal\"},{\"default\":0,\"kind\":null,\"name\":\"close_modal\"}]}],\"roots\":{\"references\":[{\"attributes\":{\"line_color\":\"#30a2da\",\"line_width\":2,\"x\":{\"field\":\"DraftYear\"},\"y\":{\"field\":\"RPG\"}},\"id\":\"2536\",\"type\":\"Line\"},{\"attributes\":{\"data\":{\"DraftYear\":[2017,2018,2019,2020,2021],\"RPG\":{\"__ndarray__\":\"KVyPwvUoEkDNzMzMzMwIQM3MzMzMzAhAj8L1KFyPBkAVrkfhehQGQA==\",\"dtype\":\"float64\",\"order\":\"little\",\"shape\":[5]}},\"selected\":{\"id\":\"2560\"},\"selection_policy\":{\"id\":\"2578\"}},\"id\":\"2559\",\"type\":\"ColumnDataSource\"},{\"attributes\":{\"line_alpha\":0.2,\"line_color\":\"#30a2da\",\"line_width\":2,\"x\":{\"field\":\"DraftYear\"},\"y\":{\"field\":\"RPG\"}},\"id\":\"2521\",\"type\":\"Line\"},{\"attributes\":{\"end\":7.534,\"reset_end\":7.534,\"reset_start\":2.326,\"start\":2.326,\"tags\":[[[\"RPG\",\"RPG\",null]]]},\"id\":\"2476\",\"type\":\"Range1d\"},{\"attributes\":{\"children\":[{\"id\":\"2474\"},{\"id\":\"2480\"},{\"id\":\"2709\"}],\"margin\":[0,0,0,0],\"name\":\"Row05201\",\"tags\":[\"embedded\"]},\"id\":\"2473\",\"type\":\"Row\"},{\"attributes\":{\"label\":{\"value\":\"Group-A\"},\"renderers\":[{\"id\":\"2522\"}]},\"id\":\"2535\",\"type\":\"LegendItem\"},{\"attributes\":{},\"id\":\"2531\",\"type\":\"UnionRenderers\"},{\"attributes\":{},\"id\":\"2517\",\"type\":\"Selection\"},{\"attributes\":{\"source\":{\"id\":\"2516\"}},\"id\":\"2523\",\"type\":\"CDSView\"},{\"attributes\":{\"callback\":null,\"renderers\":[{\"id\":\"2522\"},{\"id\":\"2543\"},{\"id\":\"2565\"}],\"tags\":[\"hv_created\"],\"tooltips\":[[\"DraftYear\",\"@{DraftYear}\"],[\"RPG\",\"@{RPG}\"]]},\"id\":\"2477\",\"type\":\"HoverTool\"},{\"attributes\":{\"end\":2021.0,\"reset_end\":2021.0,\"reset_start\":2017.0,\"start\":2017.0,\"tags\":[[[\"DraftYear\",\"DraftYear\",null]]]},\"id\":\"2475\",\"type\":\"Range1d\"},{\"attributes\":{\"line_alpha\":0.1,\"line_color\":\"#fc4f30\",\"line_width\":2,\"x\":{\"field\":\"DraftYear\"},\"y\":{\"field\":\"RPG\"}},\"id\":\"2541\",\"type\":\"Line\"},{\"attributes\":{},\"id\":\"2485\",\"type\":\"LinearScale\"},{\"attributes\":{},\"id\":\"2560\",\"type\":\"Selection\"},{\"attributes\":{\"axis\":{\"id\":\"2489\"},\"coordinates\":null,\"grid_line_color\":null,\"group\":null,\"ticker\":null},\"id\":\"2492\",\"type\":\"Grid\"},{\"attributes\":{\"below\":[{\"id\":\"2489\"}],\"center\":[{\"id\":\"2492\"},{\"id\":\"2496\"},{\"id\":\"2534\"}],\"height\":300,\"left\":[{\"id\":\"2493\"}],\"margin\":[5,5,5,5],\"min_border_bottom\":10,\"min_border_left\":10,\"min_border_right\":10,\"min_border_top\":10,\"renderers\":[{\"id\":\"2522\"},{\"id\":\"2543\"},{\"id\":\"2565\"}],\"sizing_mode\":\"fixed\",\"title\":{\"id\":\"2481\"},\"toolbar\":{\"id\":\"2503\"},\"width\":700,\"x_range\":{\"id\":\"2475\"},\"x_scale\":{\"id\":\"2485\"},\"y_range\":{\"id\":\"2476\"},\"y_scale\":{\"id\":\"2487\"}},\"id\":\"2480\",\"subtype\":\"Figure\",\"type\":\"Plot\"},{\"attributes\":{},\"id\":\"2512\",\"type\":\"AllLabels\"},{\"attributes\":{},\"id\":\"2487\",\"type\":\"LinearScale\"},{\"attributes\":{\"line_color\":\"#fc4f30\",\"line_width\":2,\"x\":{\"field\":\"DraftYear\"},\"y\":{\"field\":\"RPG\"}},\"id\":\"2540\",\"type\":\"Line\"},{\"attributes\":{},\"id\":\"2515\",\"type\":\"AllLabels\"},{\"attributes\":{\"line_alpha\":0.2,\"line_color\":\"#fc4f30\",\"line_width\":2,\"x\":{\"field\":\"DraftYear\"},\"y\":{\"field\":\"RPG\"}},\"id\":\"2542\",\"type\":\"Line\"},{\"attributes\":{\"line_color\":\"#fc4f30\",\"line_width\":2,\"x\":{\"field\":\"DraftYear\"},\"y\":{\"field\":\"RPG\"}},\"id\":\"2558\",\"type\":\"Line\"},{\"attributes\":{\"coordinates\":null,\"data_source\":{\"id\":\"2537\"},\"glyph\":{\"id\":\"2540\"},\"group\":null,\"hover_glyph\":null,\"muted_glyph\":{\"id\":\"2542\"},\"nonselection_glyph\":{\"id\":\"2541\"},\"selection_glyph\":{\"id\":\"2558\"},\"view\":{\"id\":\"2544\"}},\"id\":\"2543\",\"type\":\"GlyphRenderer\"},{\"attributes\":{\"axis_label\":\"Draft Year\",\"coordinates\":null,\"formatter\":{\"id\":\"2511\"},\"group\":null,\"major_label_policy\":{\"id\":\"2512\"},\"ticker\":{\"id\":\"2490\"}},\"id\":\"2489\",\"type\":\"LinearAxis\"},{\"attributes\":{\"data\":{\"DraftYear\":[2017,2018,2019,2020,2021],\"RPG\":{\"__ndarray__\":\"j8L1KFyPEEB7FK5H4XoMQD0K16NwPQpApHA9CtejEEDWo3A9CtcHQA==\",\"dtype\":\"float64\",\"order\":\"little\",\"shape\":[5]}},\"selected\":{\"id\":\"2538\"},\"selection_policy\":{\"id\":\"2554\"}},\"id\":\"2537\",\"type\":\"ColumnDataSource\"},{\"attributes\":{\"margin\":[5,5,5,5],\"name\":\"HSpacer05205\",\"sizing_mode\":\"stretch_width\"},\"id\":\"2474\",\"type\":\"Spacer\"},{\"attributes\":{\"coordinates\":null,\"group\":null,\"text\":\"Average 1st Round Picks Rebounds Per Game 2017-2021\",\"text_color\":\"black\",\"text_font_size\":\"12pt\"},\"id\":\"2481\",\"type\":\"Title\"},{\"attributes\":{\"data\":{\"DraftYear\":[2017,2018,2019,2020,2021],\"RPG\":{\"__ndarray__\":\"j8L1KFyPEkBmZmZmZmYcQPYoXI/C9RJAmpmZmZmZE0A+CtejcD0WQA==\",\"dtype\":\"float64\",\"order\":\"little\",\"shape\":[5]}},\"selected\":{\"id\":\"2517\"},\"selection_policy\":{\"id\":\"2531\"}},\"id\":\"2516\",\"type\":\"ColumnDataSource\"},{\"attributes\":{\"source\":{\"id\":\"2537\"}},\"id\":\"2544\",\"type\":\"CDSView\"},{\"attributes\":{\"source\":{\"id\":\"2559\"}},\"id\":\"2566\",\"type\":\"CDSView\"},{\"attributes\":{\"line_color\":\"#e5ae38\",\"line_width\":2,\"x\":{\"field\":\"DraftYear\"},\"y\":{\"field\":\"RPG\"}},\"id\":\"2582\",\"type\":\"Line\"},{\"attributes\":{\"line_color\":\"#e5ae38\",\"line_width\":2,\"x\":{\"field\":\"DraftYear\"},\"y\":{\"field\":\"RPG\"}},\"id\":\"2562\",\"type\":\"Line\"},{\"attributes\":{},\"id\":\"2490\",\"type\":\"BasicTicker\"},{\"attributes\":{},\"id\":\"2499\",\"type\":\"WheelZoomTool\"},{\"attributes\":{},\"id\":\"2538\",\"type\":\"Selection\"},{\"attributes\":{\"line_alpha\":0.2,\"line_color\":\"#e5ae38\",\"line_width\":2,\"x\":{\"field\":\"DraftYear\"},\"y\":{\"field\":\"RPG\"}},\"id\":\"2564\",\"type\":\"Line\"},{\"attributes\":{\"axis\":{\"id\":\"2493\"},\"coordinates\":null,\"dimension\":1,\"grid_line_color\":null,\"group\":null,\"ticker\":null},\"id\":\"2496\",\"type\":\"Grid\"},{\"attributes\":{\"line_alpha\":0.1,\"line_color\":\"#30a2da\",\"line_width\":2,\"x\":{\"field\":\"DraftYear\"},\"y\":{\"field\":\"RPG\"}},\"id\":\"2520\",\"type\":\"Line\"},{\"attributes\":{\"coordinates\":null,\"data_source\":{\"id\":\"2516\"},\"glyph\":{\"id\":\"2519\"},\"group\":null,\"hover_glyph\":null,\"muted_glyph\":{\"id\":\"2521\"},\"nonselection_glyph\":{\"id\":\"2520\"},\"selection_glyph\":{\"id\":\"2536\"},\"view\":{\"id\":\"2523\"}},\"id\":\"2522\",\"type\":\"GlyphRenderer\"},{\"attributes\":{\"margin\":[5,5,5,5],\"name\":\"HSpacer05206\",\"sizing_mode\":\"stretch_width\"},\"id\":\"2709\",\"type\":\"Spacer\"},{\"attributes\":{\"line_alpha\":0.1,\"line_color\":\"#e5ae38\",\"line_width\":2,\"x\":{\"field\":\"DraftYear\"},\"y\":{\"field\":\"RPG\"}},\"id\":\"2563\",\"type\":\"Line\"},{\"attributes\":{},\"id\":\"2494\",\"type\":\"BasicTicker\"},{\"attributes\":{},\"id\":\"2514\",\"type\":\"BasicTickFormatter\"},{\"attributes\":{},\"id\":\"2578\",\"type\":\"UnionRenderers\"},{\"attributes\":{},\"id\":\"2498\",\"type\":\"PanTool\"},{\"attributes\":{\"label\":{\"value\":\"Group-B\"},\"renderers\":[{\"id\":\"2543\"}]},\"id\":\"2557\",\"type\":\"LegendItem\"},{\"attributes\":{\"line_color\":\"#30a2da\",\"line_width\":2,\"x\":{\"field\":\"DraftYear\"},\"y\":{\"field\":\"RPG\"}},\"id\":\"2519\",\"type\":\"Line\"},{\"attributes\":{\"axis_label\":\"Rebounds Per Game\",\"coordinates\":null,\"formatter\":{\"id\":\"2514\"},\"group\":null,\"major_label_policy\":{\"id\":\"2515\"},\"ticker\":{\"id\":\"2494\"}},\"id\":\"2493\",\"type\":\"LinearAxis\"},{\"attributes\":{},\"id\":\"2511\",\"type\":\"BasicTickFormatter\"},{\"attributes\":{\"click_policy\":\"mute\",\"coordinates\":null,\"group\":null,\"items\":[{\"id\":\"2535\"},{\"id\":\"2557\"},{\"id\":\"2581\"}]},\"id\":\"2534\",\"type\":\"Legend\"},{\"attributes\":{\"bottom_units\":\"screen\",\"coordinates\":null,\"fill_alpha\":0.5,\"fill_color\":\"lightgrey\",\"group\":null,\"left_units\":\"screen\",\"level\":\"overlay\",\"line_alpha\":1.0,\"line_color\":\"black\",\"line_dash\":[4,4],\"line_width\":2,\"right_units\":\"screen\",\"syncable\":false,\"top_units\":\"screen\"},\"id\":\"2502\",\"type\":\"BoxAnnotation\"},{\"attributes\":{\"coordinates\":null,\"data_source\":{\"id\":\"2559\"},\"glyph\":{\"id\":\"2562\"},\"group\":null,\"hover_glyph\":null,\"muted_glyph\":{\"id\":\"2564\"},\"nonselection_glyph\":{\"id\":\"2563\"},\"selection_glyph\":{\"id\":\"2582\"},\"view\":{\"id\":\"2566\"}},\"id\":\"2565\",\"type\":\"GlyphRenderer\"},{\"attributes\":{},\"id\":\"2497\",\"type\":\"SaveTool\"},{\"attributes\":{\"label\":{\"value\":\"Group-C\"},\"renderers\":[{\"id\":\"2565\"}]},\"id\":\"2581\",\"type\":\"LegendItem\"},{\"attributes\":{\"overlay\":{\"id\":\"2502\"}},\"id\":\"2500\",\"type\":\"BoxZoomTool\"},{\"attributes\":{},\"id\":\"2501\",\"type\":\"ResetTool\"},{\"attributes\":{},\"id\":\"2554\",\"type\":\"UnionRenderers\"},{\"attributes\":{\"tools\":[{\"id\":\"2477\"},{\"id\":\"2497\"},{\"id\":\"2498\"},{\"id\":\"2499\"},{\"id\":\"2500\"},{\"id\":\"2501\"}]},\"id\":\"2503\",\"type\":\"Toolbar\"}],\"root_ids\":[\"2473\"]},\"title\":\"Bokeh Application\",\"version\":\"2.4.1\"}};\n",
       "    var render_items = [{\"docid\":\"1ce41ee4-1251-4c5c-a568-a4bde43e58e4\",\"root_ids\":[\"2473\"],\"roots\":{\"2473\":\"933cbcae-c026-4160-8ceb-dbb7a4ddf040\"}}];\n",
       "    root.Bokeh.embed.embed_items_notebook(docs_json, render_items);\n",
       "  }\n",
       "  if (root.Bokeh !== undefined && root.Bokeh.Panel !== undefined) {\n",
       "    embed_document(root);\n",
       "  } else {\n",
       "    var attempts = 0;\n",
       "    var timer = setInterval(function(root) {\n",
       "      if (root.Bokeh !== undefined && root.Bokeh.Panel !== undefined) {\n",
       "        clearInterval(timer);\n",
       "        embed_document(root);\n",
       "      } else if (document.readyState == \"complete\") {\n",
       "        attempts++;\n",
       "        if (attempts > 200) {\n",
       "          clearInterval(timer);\n",
       "          console.log(\"Bokeh: ERROR: Unable to run BokehJS code because BokehJS library is missing\");\n",
       "        }\n",
       "      }\n",
       "    }, 25, root)\n",
       "  }\n",
       "})(window);</script>"
      ],
      "text/plain": [
       ":Overlay\n",
       "   .Curve.Group_hyphen_minus_A :Curve   [DraftYear]   (RPG)\n",
       "   .Curve.Group_hyphen_minus_B :Curve   [DraftYear]   (RPG)\n",
       "   .Curve.Group_hyphen_minus_C :Curve   [DraftYear]   (RPG)"
      ]
     },
     "execution_count": 247,
     "metadata": {
      "application/vnd.holoviews_exec.v0+json": {
       "id": "2473"
      }
     },
     "output_type": "execute_result"
    }
   ],
   "source": [
    "# Overlay all groups rebounds per game 2017-2021\n",
    "group_a_rpg_plot * group_b_rpg_plot * group_c_rpg_plot"
   ]
  },
  {
   "cell_type": "code",
   "execution_count": null,
   "id": "20b99e7e-b683-447f-98d3-32791d61dc6c",
   "metadata": {},
   "outputs": [],
   "source": []
  },
  {
   "cell_type": "code",
   "execution_count": 248,
   "id": "d7c9282d-30b2-4346-99b0-1300c1efa2dd",
   "metadata": {},
   "outputs": [],
   "source": [
    "# Use hvplot to visualize group A's assists per game 2017-2021\n",
    "group_a_apg_plot = group_a_ave['APG'].hvplot(\n",
    "    title='Average 1st Round Picks Assists Per Game 2017-2021',\n",
    "    x='DraftYear',\n",
    "    y='APG',\n",
    "    xlabel='Draft Year',\n",
    "    ylabel='Assists Per Game',\n",
    "    label='Group-A'\n",
    ")"
   ]
  },
  {
   "cell_type": "code",
   "execution_count": 249,
   "id": "48e66f05-01f2-4d0a-9644-10cf34b7f668",
   "metadata": {},
   "outputs": [],
   "source": [
    "# Use hvplot to visualize group B's assists per game 2017-2021\n",
    "group_b_apg_plot = group_b_ave['APG'].hvplot(\n",
    "    title='Average 1st Round Picks Assists Per Game 2017-2021',\n",
    "    x='DraftYear',\n",
    "    y='APG',\n",
    "    xlabel='Draft Year',\n",
    "    ylabel='Assists Per Game',\n",
    "    label='Group-B'\n",
    ")"
   ]
  },
  {
   "cell_type": "code",
   "execution_count": 250,
   "id": "ac702d2e-20c4-4a46-bb32-4f8a9817098f",
   "metadata": {},
   "outputs": [],
   "source": [
    "# Use hvplot to visualize group C's assists per game 2017-2021\n",
    "group_c_apg_plot = group_c_ave['APG'].hvplot(\n",
    "    title='Average 1st Round Picks Assists Per Game 2017-2021',\n",
    "    x='DraftYear',\n",
    "    y='APG',\n",
    "    xlabel='Draft Year',\n",
    "    ylabel='Assists Per Game',\n",
    "    label='Group-C'\n",
    ")"
   ]
  },
  {
   "cell_type": "code",
   "execution_count": 251,
   "id": "133f7f55-a53b-46b9-bd96-5239114a43cf",
   "metadata": {},
   "outputs": [
    {
     "data": {},
     "metadata": {},
     "output_type": "display_data"
    },
    {
     "data": {
      "application/vnd.holoviews_exec.v0+json": "",
      "text/html": [
       "<div id='2781'>\n",
       "\n",
       "\n",
       "\n",
       "\n",
       "\n",
       "  <div class=\"bk-root\" id=\"455c0a9d-5f50-4afe-8843-f78fc50f00c6\" data-root-id=\"2781\"></div>\n",
       "</div>\n",
       "<script type=\"application/javascript\">(function(root) {\n",
       "  function embed_document(root) {\n",
       "    var docs_json = {\"139fe303-1b76-4966-8cd2-4d7742a860f4\":{\"defs\":[{\"extends\":null,\"module\":null,\"name\":\"ReactiveHTML1\",\"overrides\":[],\"properties\":[]},{\"extends\":null,\"module\":null,\"name\":\"FlexBox1\",\"overrides\":[],\"properties\":[{\"default\":\"flex-start\",\"kind\":null,\"name\":\"align_content\"},{\"default\":\"flex-start\",\"kind\":null,\"name\":\"align_items\"},{\"default\":\"row\",\"kind\":null,\"name\":\"flex_direction\"},{\"default\":\"wrap\",\"kind\":null,\"name\":\"flex_wrap\"},{\"default\":\"flex-start\",\"kind\":null,\"name\":\"justify_content\"}]},{\"extends\":null,\"module\":null,\"name\":\"GridStack1\",\"overrides\":[],\"properties\":[{\"default\":\"warn\",\"kind\":null,\"name\":\"mode\"},{\"default\":null,\"kind\":null,\"name\":\"ncols\"},{\"default\":null,\"kind\":null,\"name\":\"nrows\"},{\"default\":true,\"kind\":null,\"name\":\"allow_resize\"},{\"default\":true,\"kind\":null,\"name\":\"allow_drag\"},{\"default\":[],\"kind\":null,\"name\":\"state\"}]},{\"extends\":null,\"module\":null,\"name\":\"click1\",\"overrides\":[],\"properties\":[{\"default\":\"\",\"kind\":null,\"name\":\"terminal_output\"},{\"default\":\"\",\"kind\":null,\"name\":\"debug_name\"},{\"default\":0,\"kind\":null,\"name\":\"clears\"}]},{\"extends\":null,\"module\":null,\"name\":\"TemplateActions1\",\"overrides\":[],\"properties\":[{\"default\":0,\"kind\":null,\"name\":\"open_modal\"},{\"default\":0,\"kind\":null,\"name\":\"close_modal\"}]},{\"extends\":null,\"module\":null,\"name\":\"MaterialTemplateActions1\",\"overrides\":[],\"properties\":[{\"default\":0,\"kind\":null,\"name\":\"open_modal\"},{\"default\":0,\"kind\":null,\"name\":\"close_modal\"}]}],\"roots\":{\"references\":[{\"attributes\":{\"callback\":null,\"renderers\":[{\"id\":\"2830\"},{\"id\":\"2851\"},{\"id\":\"2873\"}],\"tags\":[\"hv_created\"],\"tooltips\":[[\"DraftYear\",\"@{DraftYear}\"],[\"APG\",\"@{APG}\"]]},\"id\":\"2785\",\"type\":\"HoverTool\"},{\"attributes\":{\"coordinates\":null,\"data_source\":{\"id\":\"2845\"},\"glyph\":{\"id\":\"2848\"},\"group\":null,\"hover_glyph\":null,\"muted_glyph\":{\"id\":\"2850\"},\"nonselection_glyph\":{\"id\":\"2849\"},\"selection_glyph\":{\"id\":\"2866\"},\"view\":{\"id\":\"2852\"}},\"id\":\"2851\",\"type\":\"GlyphRenderer\"},{\"attributes\":{\"axis\":{\"id\":\"2797\"},\"coordinates\":null,\"grid_line_color\":null,\"group\":null,\"ticker\":null},\"id\":\"2800\",\"type\":\"Grid\"},{\"attributes\":{\"line_color\":\"#fc4f30\",\"line_width\":2,\"x\":{\"field\":\"DraftYear\"},\"y\":{\"field\":\"APG\"}},\"id\":\"2848\",\"type\":\"Line\"},{\"attributes\":{},\"id\":\"2795\",\"type\":\"LinearScale\"},{\"attributes\":{\"line_alpha\":0.2,\"line_color\":\"#30a2da\",\"line_width\":2,\"x\":{\"field\":\"DraftYear\"},\"y\":{\"field\":\"APG\"}},\"id\":\"2829\",\"type\":\"Line\"},{\"attributes\":{\"line_color\":\"#fc4f30\",\"line_width\":2,\"x\":{\"field\":\"DraftYear\"},\"y\":{\"field\":\"APG\"}},\"id\":\"2866\",\"type\":\"Line\"},{\"attributes\":{},\"id\":\"2846\",\"type\":\"Selection\"},{\"attributes\":{\"data\":{\"APG\":{\"__ndarray__\":\"cD0K16Nw/T+PwvUoXI/yPylcj8L1KABACtejcD0K9z+F61G4HoXrPw==\",\"dtype\":\"float64\",\"order\":\"little\",\"shape\":[5]},\"DraftYear\":[2017,2018,2019,2020,2021]},\"selected\":{\"id\":\"2868\"},\"selection_policy\":{\"id\":\"2886\"}},\"id\":\"2867\",\"type\":\"ColumnDataSource\"},{\"attributes\":{\"line_color\":\"#e5ae38\",\"line_width\":2,\"x\":{\"field\":\"DraftYear\"},\"y\":{\"field\":\"APG\"}},\"id\":\"2870\",\"type\":\"Line\"},{\"attributes\":{\"axis_label\":\"Draft Year\",\"coordinates\":null,\"formatter\":{\"id\":\"2819\"},\"group\":null,\"major_label_policy\":{\"id\":\"2820\"},\"ticker\":{\"id\":\"2798\"}},\"id\":\"2797\",\"type\":\"LinearAxis\"},{\"attributes\":{\"line_color\":\"#e5ae38\",\"line_width\":2,\"x\":{\"field\":\"DraftYear\"},\"y\":{\"field\":\"APG\"}},\"id\":\"2890\",\"type\":\"Line\"},{\"attributes\":{\"source\":{\"id\":\"2867\"}},\"id\":\"2874\",\"type\":\"CDSView\"},{\"attributes\":{\"source\":{\"id\":\"2845\"}},\"id\":\"2852\",\"type\":\"CDSView\"},{\"attributes\":{\"label\":{\"value\":\"Group-A\"},\"renderers\":[{\"id\":\"2830\"}]},\"id\":\"2843\",\"type\":\"LegendItem\"},{\"attributes\":{\"coordinates\":null,\"group\":null,\"text\":\"Average 1st Round Picks Assists Per Game 2017-2021\",\"text_color\":\"black\",\"text_font_size\":\"12pt\"},\"id\":\"2789\",\"type\":\"Title\"},{\"attributes\":{\"data\":{\"APG\":{\"__ndarray__\":\"cT0K16NwEUBmZmZmZmYQQI/C9ShcjxBAZmZmZmZmBkB7FK5H4XoMQA==\",\"dtype\":\"float64\",\"order\":\"little\",\"shape\":[5]},\"DraftYear\":[2017,2018,2019,2020,2021]},\"selected\":{\"id\":\"2825\"},\"selection_policy\":{\"id\":\"2839\"}},\"id\":\"2824\",\"type\":\"ColumnDataSource\"},{\"attributes\":{\"line_alpha\":0.2,\"line_color\":\"#fc4f30\",\"line_width\":2,\"x\":{\"field\":\"DraftYear\"},\"y\":{\"field\":\"APG\"}},\"id\":\"2850\",\"type\":\"Line\"},{\"attributes\":{\"line_color\":\"#30a2da\",\"line_width\":2,\"x\":{\"field\":\"DraftYear\"},\"y\":{\"field\":\"APG\"}},\"id\":\"2827\",\"type\":\"Line\"},{\"attributes\":{},\"id\":\"2798\",\"type\":\"BasicTicker\"},{\"attributes\":{\"line_alpha\":0.2,\"line_color\":\"#e5ae38\",\"line_width\":2,\"x\":{\"field\":\"DraftYear\"},\"y\":{\"field\":\"APG\"}},\"id\":\"2872\",\"type\":\"Line\"},{\"attributes\":{},\"id\":\"2807\",\"type\":\"WheelZoomTool\"},{\"attributes\":{},\"id\":\"2822\",\"type\":\"BasicTickFormatter\"},{\"attributes\":{\"click_policy\":\"mute\",\"coordinates\":null,\"group\":null,\"items\":[{\"id\":\"2843\"},{\"id\":\"2865\"},{\"id\":\"2889\"}]},\"id\":\"2842\",\"type\":\"Legend\"},{\"attributes\":{\"axis\":{\"id\":\"2801\"},\"coordinates\":null,\"dimension\":1,\"grid_line_color\":null,\"group\":null,\"ticker\":null},\"id\":\"2804\",\"type\":\"Grid\"},{\"attributes\":{\"line_alpha\":0.1,\"line_color\":\"#e5ae38\",\"line_width\":2,\"x\":{\"field\":\"DraftYear\"},\"y\":{\"field\":\"APG\"}},\"id\":\"2871\",\"type\":\"Line\"},{\"attributes\":{\"label\":{\"value\":\"Group-B\"},\"renderers\":[{\"id\":\"2851\"}]},\"id\":\"2865\",\"type\":\"LegendItem\"},{\"attributes\":{},\"id\":\"2862\",\"type\":\"UnionRenderers\"},{\"attributes\":{},\"id\":\"2886\",\"type\":\"UnionRenderers\"},{\"attributes\":{},\"id\":\"2802\",\"type\":\"BasicTicker\"},{\"attributes\":{},\"id\":\"2806\",\"type\":\"PanTool\"},{\"attributes\":{\"axis_label\":\"Assists Per Game\",\"coordinates\":null,\"formatter\":{\"id\":\"2822\"},\"group\":null,\"major_label_policy\":{\"id\":\"2823\"},\"ticker\":{\"id\":\"2802\"}},\"id\":\"2801\",\"type\":\"LinearAxis\"},{\"attributes\":{\"coordinates\":null,\"data_source\":{\"id\":\"2867\"},\"glyph\":{\"id\":\"2870\"},\"group\":null,\"hover_glyph\":null,\"muted_glyph\":{\"id\":\"2872\"},\"nonselection_glyph\":{\"id\":\"2871\"},\"selection_glyph\":{\"id\":\"2890\"},\"view\":{\"id\":\"2874\"}},\"id\":\"2873\",\"type\":\"GlyphRenderer\"},{\"attributes\":{\"coordinates\":null,\"data_source\":{\"id\":\"2824\"},\"glyph\":{\"id\":\"2827\"},\"group\":null,\"hover_glyph\":null,\"muted_glyph\":{\"id\":\"2829\"},\"nonselection_glyph\":{\"id\":\"2828\"},\"selection_glyph\":{\"id\":\"2844\"},\"view\":{\"id\":\"2831\"}},\"id\":\"2830\",\"type\":\"GlyphRenderer\"},{\"attributes\":{},\"id\":\"2805\",\"type\":\"SaveTool\"},{\"attributes\":{},\"id\":\"2839\",\"type\":\"UnionRenderers\"},{\"attributes\":{\"source\":{\"id\":\"2824\"}},\"id\":\"2831\",\"type\":\"CDSView\"},{\"attributes\":{\"label\":{\"value\":\"Group-C\"},\"renderers\":[{\"id\":\"2873\"}]},\"id\":\"2889\",\"type\":\"LegendItem\"},{\"attributes\":{\"overlay\":{\"id\":\"2810\"}},\"id\":\"2808\",\"type\":\"BoxZoomTool\"},{\"attributes\":{\"end\":2021.0,\"reset_end\":2021.0,\"reset_start\":2017.0,\"start\":2017.0,\"tags\":[[[\"DraftYear\",\"DraftYear\",null]]]},\"id\":\"2783\",\"type\":\"Range1d\"},{\"attributes\":{},\"id\":\"2809\",\"type\":\"ResetTool\"},{\"attributes\":{\"margin\":[5,5,5,5],\"name\":\"HSpacer06061\",\"sizing_mode\":\"stretch_width\"},\"id\":\"2782\",\"type\":\"Spacer\"},{\"attributes\":{\"line_alpha\":0.1,\"line_color\":\"#30a2da\",\"line_width\":2,\"x\":{\"field\":\"DraftYear\"},\"y\":{\"field\":\"APG\"}},\"id\":\"2828\",\"type\":\"Line\"},{\"attributes\":{},\"id\":\"2819\",\"type\":\"BasicTickFormatter\"},{\"attributes\":{\"bottom_units\":\"screen\",\"coordinates\":null,\"fill_alpha\":0.5,\"fill_color\":\"lightgrey\",\"group\":null,\"left_units\":\"screen\",\"level\":\"overlay\",\"line_alpha\":1.0,\"line_color\":\"black\",\"line_dash\":[4,4],\"line_width\":2,\"right_units\":\"screen\",\"syncable\":false,\"top_units\":\"screen\"},\"id\":\"2810\",\"type\":\"BoxAnnotation\"},{\"attributes\":{\"children\":[{\"id\":\"2782\"},{\"id\":\"2788\"},{\"id\":\"3017\"}],\"margin\":[0,0,0,0],\"name\":\"Row06057\",\"tags\":[\"embedded\"]},\"id\":\"2781\",\"type\":\"Row\"},{\"attributes\":{\"tools\":[{\"id\":\"2785\"},{\"id\":\"2805\"},{\"id\":\"2806\"},{\"id\":\"2807\"},{\"id\":\"2808\"},{\"id\":\"2809\"}]},\"id\":\"2811\",\"type\":\"Toolbar\"},{\"attributes\":{},\"id\":\"2823\",\"type\":\"AllLabels\"},{\"attributes\":{},\"id\":\"2793\",\"type\":\"LinearScale\"},{\"attributes\":{\"data\":{\"APG\":{\"__ndarray__\":\"9ihcj8L1AEBcj8L1KFz3PzMzMzMzM/s/ehSuR+F6AEB7FK5H4Xr0Pw==\",\"dtype\":\"float64\",\"order\":\"little\",\"shape\":[5]},\"DraftYear\":[2017,2018,2019,2020,2021]},\"selected\":{\"id\":\"2846\"},\"selection_policy\":{\"id\":\"2862\"}},\"id\":\"2845\",\"type\":\"ColumnDataSource\"},{\"attributes\":{\"line_alpha\":0.1,\"line_color\":\"#fc4f30\",\"line_width\":2,\"x\":{\"field\":\"DraftYear\"},\"y\":{\"field\":\"APG\"}},\"id\":\"2849\",\"type\":\"Line\"},{\"attributes\":{\"line_color\":\"#30a2da\",\"line_width\":2,\"x\":{\"field\":\"DraftYear\"},\"y\":{\"field\":\"APG\"}},\"id\":\"2844\",\"type\":\"Line\"},{\"attributes\":{},\"id\":\"2820\",\"type\":\"AllLabels\"},{\"attributes\":{\"margin\":[5,5,5,5],\"name\":\"HSpacer06062\",\"sizing_mode\":\"stretch_width\"},\"id\":\"3017\",\"type\":\"Spacer\"},{\"attributes\":{\"end\":4.710000000000001,\"reset_end\":4.710000000000001,\"reset_start\":0.5099999999999999,\"start\":0.5099999999999999,\"tags\":[[[\"APG\",\"APG\",null]]]},\"id\":\"2784\",\"type\":\"Range1d\"},{\"attributes\":{\"below\":[{\"id\":\"2797\"}],\"center\":[{\"id\":\"2800\"},{\"id\":\"2804\"},{\"id\":\"2842\"}],\"height\":300,\"left\":[{\"id\":\"2801\"}],\"margin\":[5,5,5,5],\"min_border_bottom\":10,\"min_border_left\":10,\"min_border_right\":10,\"min_border_top\":10,\"renderers\":[{\"id\":\"2830\"},{\"id\":\"2851\"},{\"id\":\"2873\"}],\"sizing_mode\":\"fixed\",\"title\":{\"id\":\"2789\"},\"toolbar\":{\"id\":\"2811\"},\"width\":700,\"x_range\":{\"id\":\"2783\"},\"x_scale\":{\"id\":\"2793\"},\"y_range\":{\"id\":\"2784\"},\"y_scale\":{\"id\":\"2795\"}},\"id\":\"2788\",\"subtype\":\"Figure\",\"type\":\"Plot\"},{\"attributes\":{},\"id\":\"2825\",\"type\":\"Selection\"},{\"attributes\":{},\"id\":\"2868\",\"type\":\"Selection\"}],\"root_ids\":[\"2781\"]},\"title\":\"Bokeh Application\",\"version\":\"2.4.1\"}};\n",
       "    var render_items = [{\"docid\":\"139fe303-1b76-4966-8cd2-4d7742a860f4\",\"root_ids\":[\"2781\"],\"roots\":{\"2781\":\"455c0a9d-5f50-4afe-8843-f78fc50f00c6\"}}];\n",
       "    root.Bokeh.embed.embed_items_notebook(docs_json, render_items);\n",
       "  }\n",
       "  if (root.Bokeh !== undefined && root.Bokeh.Panel !== undefined) {\n",
       "    embed_document(root);\n",
       "  } else {\n",
       "    var attempts = 0;\n",
       "    var timer = setInterval(function(root) {\n",
       "      if (root.Bokeh !== undefined && root.Bokeh.Panel !== undefined) {\n",
       "        clearInterval(timer);\n",
       "        embed_document(root);\n",
       "      } else if (document.readyState == \"complete\") {\n",
       "        attempts++;\n",
       "        if (attempts > 200) {\n",
       "          clearInterval(timer);\n",
       "          console.log(\"Bokeh: ERROR: Unable to run BokehJS code because BokehJS library is missing\");\n",
       "        }\n",
       "      }\n",
       "    }, 25, root)\n",
       "  }\n",
       "})(window);</script>"
      ],
      "text/plain": [
       ":Overlay\n",
       "   .Curve.Group_hyphen_minus_A :Curve   [DraftYear]   (APG)\n",
       "   .Curve.Group_hyphen_minus_B :Curve   [DraftYear]   (APG)\n",
       "   .Curve.Group_hyphen_minus_C :Curve   [DraftYear]   (APG)"
      ]
     },
     "execution_count": 251,
     "metadata": {
      "application/vnd.holoviews_exec.v0+json": {
       "id": "2781"
      }
     },
     "output_type": "execute_result"
    }
   ],
   "source": [
    "# Overlay all groups assists per game 2017-2021\n",
    "group_a_apg_plot * group_b_apg_plot * group_c_apg_plot"
   ]
  },
  {
   "cell_type": "code",
   "execution_count": null,
   "id": "f6c26c5f-0c8b-4e1c-ae65-bfbc82f6117c",
   "metadata": {},
   "outputs": [],
   "source": []
  },
  {
   "cell_type": "code",
   "execution_count": 252,
   "id": "c1ce7016-9a8c-4e4f-aa9d-acc6465df406",
   "metadata": {},
   "outputs": [],
   "source": [
    "# Use hvplot to visualize group A's field goal percentage 2017-2021\n",
    "group_a_fg_plot = group_a_ave['FG%'].hvplot(\n",
    "    title='Average 1st Round Picks Field Goal Percentage 2017-2021',\n",
    "    x='DraftYear',\n",
    "    y='FG%',\n",
    "    xlabel='Draft Year',\n",
    "    ylabel='Field Goal Percentage',\n",
    "    label='Group-A'\n",
    ")"
   ]
  },
  {
   "cell_type": "code",
   "execution_count": 253,
   "id": "39dce3f1-2200-4f65-929e-8a1f37a6793b",
   "metadata": {},
   "outputs": [],
   "source": [
    "# Use hvplot to visualize group B's field goal percentage 2017-2021\n",
    "group_b_fg_plot = group_b_ave['FG%'].hvplot(\n",
    "    title='Average 1st Round Picks Field Goal Percentage 2017-2021',\n",
    "    x='DraftYear',\n",
    "    y='FG%',\n",
    "    xlabel='Draft Year',\n",
    "    ylabel='Field Goal Percentage',\n",
    "    label='Group-B'\n",
    ")"
   ]
  },
  {
   "cell_type": "code",
   "execution_count": 254,
   "id": "bab49765-0d2f-4fd3-860e-0cfe403b791c",
   "metadata": {},
   "outputs": [],
   "source": [
    "# Use hvplot to visualize group C's field goal percentage 2017-2021\n",
    "group_c_fg_plot = group_c_ave['FG%'].hvplot(\n",
    "    title='Average 1st Round Picks Field Goal Percentage 2017-2021',\n",
    "    x='DraftYear',\n",
    "    y='FG%',\n",
    "    xlabel='Draft Year',\n",
    "    ylabel='Field Goal Percentage',\n",
    "    label='Group-C'\n",
    ")"
   ]
  },
  {
   "cell_type": "code",
   "execution_count": 255,
   "id": "95b7ef07-e55f-4ca8-9bf3-62e67d60cafb",
   "metadata": {},
   "outputs": [
    {
     "data": {},
     "metadata": {},
     "output_type": "display_data"
    },
    {
     "data": {
      "application/vnd.holoviews_exec.v0+json": "",
      "text/html": [
       "<div id='3089'>\n",
       "\n",
       "\n",
       "\n",
       "\n",
       "\n",
       "  <div class=\"bk-root\" id=\"99e14f79-f256-4fc0-8f91-918f6da8e5c4\" data-root-id=\"3089\"></div>\n",
       "</div>\n",
       "<script type=\"application/javascript\">(function(root) {\n",
       "  function embed_document(root) {\n",
       "    var docs_json = {\"60b969ca-4fc5-47be-8d38-c0900a278e55\":{\"defs\":[{\"extends\":null,\"module\":null,\"name\":\"ReactiveHTML1\",\"overrides\":[],\"properties\":[]},{\"extends\":null,\"module\":null,\"name\":\"FlexBox1\",\"overrides\":[],\"properties\":[{\"default\":\"flex-start\",\"kind\":null,\"name\":\"align_content\"},{\"default\":\"flex-start\",\"kind\":null,\"name\":\"align_items\"},{\"default\":\"row\",\"kind\":null,\"name\":\"flex_direction\"},{\"default\":\"wrap\",\"kind\":null,\"name\":\"flex_wrap\"},{\"default\":\"flex-start\",\"kind\":null,\"name\":\"justify_content\"}]},{\"extends\":null,\"module\":null,\"name\":\"GridStack1\",\"overrides\":[],\"properties\":[{\"default\":\"warn\",\"kind\":null,\"name\":\"mode\"},{\"default\":null,\"kind\":null,\"name\":\"ncols\"},{\"default\":null,\"kind\":null,\"name\":\"nrows\"},{\"default\":true,\"kind\":null,\"name\":\"allow_resize\"},{\"default\":true,\"kind\":null,\"name\":\"allow_drag\"},{\"default\":[],\"kind\":null,\"name\":\"state\"}]},{\"extends\":null,\"module\":null,\"name\":\"click1\",\"overrides\":[],\"properties\":[{\"default\":\"\",\"kind\":null,\"name\":\"terminal_output\"},{\"default\":\"\",\"kind\":null,\"name\":\"debug_name\"},{\"default\":0,\"kind\":null,\"name\":\"clears\"}]},{\"extends\":null,\"module\":null,\"name\":\"TemplateActions1\",\"overrides\":[],\"properties\":[{\"default\":0,\"kind\":null,\"name\":\"open_modal\"},{\"default\":0,\"kind\":null,\"name\":\"close_modal\"}]},{\"extends\":null,\"module\":null,\"name\":\"MaterialTemplateActions1\",\"overrides\":[],\"properties\":[{\"default\":0,\"kind\":null,\"name\":\"open_modal\"},{\"default\":0,\"kind\":null,\"name\":\"close_modal\"}]}],\"roots\":{\"references\":[{\"attributes\":{\"line_color\":\"#e5ae38\",\"line_width\":2,\"x\":{\"field\":\"DraftYear\"},\"y\":{\"field\":\"FG%\"}},\"id\":\"3178\",\"type\":\"Line\"},{\"attributes\":{},\"id\":\"3106\",\"type\":\"BasicTicker\"},{\"attributes\":{},\"id\":\"3114\",\"type\":\"PanTool\"},{\"attributes\":{\"coordinates\":null,\"data_source\":{\"id\":\"3175\"},\"glyph\":{\"id\":\"3178\"},\"group\":null,\"hover_glyph\":null,\"muted_glyph\":{\"id\":\"3180\"},\"nonselection_glyph\":{\"id\":\"3179\"},\"selection_glyph\":{\"id\":\"3198\"},\"view\":{\"id\":\"3182\"}},\"id\":\"3181\",\"type\":\"GlyphRenderer\"},{\"attributes\":{\"axis\":{\"id\":\"3109\"},\"coordinates\":null,\"dimension\":1,\"grid_line_color\":null,\"group\":null,\"ticker\":null},\"id\":\"3112\",\"type\":\"Grid\"},{\"attributes\":{\"label\":{\"value\":\"Group-B\"},\"renderers\":[{\"id\":\"3159\"}]},\"id\":\"3173\",\"type\":\"LegendItem\"},{\"attributes\":{},\"id\":\"3110\",\"type\":\"BasicTicker\"},{\"attributes\":{\"line_alpha\":0.2,\"line_color\":\"#e5ae38\",\"line_width\":2,\"x\":{\"field\":\"DraftYear\"},\"y\":{\"field\":\"FG%\"}},\"id\":\"3180\",\"type\":\"Line\"},{\"attributes\":{},\"id\":\"3127\",\"type\":\"BasicTickFormatter\"},{\"attributes\":{\"margin\":[5,5,5,5],\"name\":\"HSpacer06918\",\"sizing_mode\":\"stretch_width\"},\"id\":\"3325\",\"type\":\"Spacer\"},{\"attributes\":{\"axis_label\":\"Field Goal Percentage\",\"coordinates\":null,\"formatter\":{\"id\":\"3130\"},\"group\":null,\"major_label_policy\":{\"id\":\"3131\"},\"ticker\":{\"id\":\"3110\"}},\"id\":\"3109\",\"type\":\"LinearAxis\"},{\"attributes\":{},\"id\":\"3170\",\"type\":\"UnionRenderers\"},{\"attributes\":{},\"id\":\"3128\",\"type\":\"AllLabels\"},{\"attributes\":{\"line_alpha\":0.1,\"line_color\":\"#e5ae38\",\"line_width\":2,\"x\":{\"field\":\"DraftYear\"},\"y\":{\"field\":\"FG%\"}},\"id\":\"3179\",\"type\":\"Line\"},{\"attributes\":{},\"id\":\"3113\",\"type\":\"SaveTool\"},{\"attributes\":{},\"id\":\"3131\",\"type\":\"AllLabels\"},{\"attributes\":{\"source\":{\"id\":\"3175\"}},\"id\":\"3182\",\"type\":\"CDSView\"},{\"attributes\":{\"label\":{\"value\":\"Group-C\"},\"renderers\":[{\"id\":\"3181\"}]},\"id\":\"3197\",\"type\":\"LegendItem\"},{\"attributes\":{\"overlay\":{\"id\":\"3118\"}},\"id\":\"3116\",\"type\":\"BoxZoomTool\"},{\"attributes\":{},\"id\":\"3117\",\"type\":\"ResetTool\"},{\"attributes\":{\"bottom_units\":\"screen\",\"coordinates\":null,\"fill_alpha\":0.5,\"fill_color\":\"lightgrey\",\"group\":null,\"left_units\":\"screen\",\"level\":\"overlay\",\"line_alpha\":1.0,\"line_color\":\"black\",\"line_dash\":[4,4],\"line_width\":2,\"right_units\":\"screen\",\"syncable\":false,\"top_units\":\"screen\"},\"id\":\"3118\",\"type\":\"BoxAnnotation\"},{\"attributes\":{},\"id\":\"3154\",\"type\":\"Selection\"},{\"attributes\":{},\"id\":\"3147\",\"type\":\"UnionRenderers\"},{\"attributes\":{\"coordinates\":null,\"data_source\":{\"id\":\"3132\"},\"glyph\":{\"id\":\"3135\"},\"group\":null,\"hover_glyph\":null,\"muted_glyph\":{\"id\":\"3137\"},\"nonselection_glyph\":{\"id\":\"3136\"},\"selection_glyph\":{\"id\":\"3152\"},\"view\":{\"id\":\"3139\"}},\"id\":\"3138\",\"type\":\"GlyphRenderer\"},{\"attributes\":{},\"id\":\"3115\",\"type\":\"WheelZoomTool\"},{\"attributes\":{},\"id\":\"3130\",\"type\":\"BasicTickFormatter\"},{\"attributes\":{\"tools\":[{\"id\":\"3093\"},{\"id\":\"3113\"},{\"id\":\"3114\"},{\"id\":\"3115\"},{\"id\":\"3116\"},{\"id\":\"3117\"}]},\"id\":\"3119\",\"type\":\"Toolbar\"},{\"attributes\":{\"end\":2021.0,\"reset_end\":2021.0,\"reset_start\":2017.0,\"start\":2017.0,\"tags\":[[[\"DraftYear\",\"DraftYear\",null]]]},\"id\":\"3091\",\"type\":\"Range1d\"},{\"attributes\":{\"margin\":[5,5,5,5],\"name\":\"HSpacer06917\",\"sizing_mode\":\"stretch_width\"},\"id\":\"3090\",\"type\":\"Spacer\"},{\"attributes\":{\"data\":{\"DraftYear\":[2017,2018,2019,2020,2021],\"FG%\":{\"__ndarray__\":\"pixDHOvi3j+62or9ZffcP1XBqKROQNs/lpAPejar3j/dtYR80LPhPw==\",\"dtype\":\"float64\",\"order\":\"little\",\"shape\":[5]},\"FG_percent\":{\"__ndarray__\":\"pixDHOvi3j+62or9ZffcP1XBqKROQNs/lpAPejar3j/dtYR80LPhPw==\",\"dtype\":\"float64\",\"order\":\"little\",\"shape\":[5]}},\"selected\":{\"id\":\"3176\"},\"selection_policy\":{\"id\":\"3194\"}},\"id\":\"3175\",\"type\":\"ColumnDataSource\"},{\"attributes\":{\"end\":0.56852,\"reset_end\":0.56852,\"reset_start\":0.38468,\"start\":0.38468,\"tags\":[[[\"FG%\",\"FG%\",null]]]},\"id\":\"3092\",\"type\":\"Range1d\"},{\"attributes\":{\"line_alpha\":0.1,\"line_color\":\"#fc4f30\",\"line_width\":2,\"x\":{\"field\":\"DraftYear\"},\"y\":{\"field\":\"FG%\"}},\"id\":\"3157\",\"type\":\"Line\"},{\"attributes\":{\"click_policy\":\"mute\",\"coordinates\":null,\"group\":null,\"items\":[{\"id\":\"3151\"},{\"id\":\"3173\"},{\"id\":\"3197\"}]},\"id\":\"3150\",\"type\":\"Legend\"},{\"attributes\":{\"line_color\":\"#30a2da\",\"line_width\":2,\"x\":{\"field\":\"DraftYear\"},\"y\":{\"field\":\"FG%\"}},\"id\":\"3152\",\"type\":\"Line\"},{\"attributes\":{\"line_alpha\":0.1,\"line_color\":\"#30a2da\",\"line_width\":2,\"x\":{\"field\":\"DraftYear\"},\"y\":{\"field\":\"FG%\"}},\"id\":\"3136\",\"type\":\"Line\"},{\"attributes\":{\"callback\":null,\"renderers\":[{\"id\":\"3138\"},{\"id\":\"3159\"},{\"id\":\"3181\"}],\"tags\":[\"hv_created\"],\"tooltips\":[[\"DraftYear\",\"@{DraftYear}\"],[\"FG%\",\"@{FG_percent}\"]]},\"id\":\"3093\",\"type\":\"HoverTool\"},{\"attributes\":{\"label\":{\"value\":\"Group-A\"},\"renderers\":[{\"id\":\"3138\"}]},\"id\":\"3151\",\"type\":\"LegendItem\"},{\"attributes\":{\"line_alpha\":0.2,\"line_color\":\"#30a2da\",\"line_width\":2,\"x\":{\"field\":\"DraftYear\"},\"y\":{\"field\":\"FG%\"}},\"id\":\"3137\",\"type\":\"Line\"},{\"attributes\":{},\"id\":\"3101\",\"type\":\"LinearScale\"},{\"attributes\":{\"source\":{\"id\":\"3132\"}},\"id\":\"3139\",\"type\":\"CDSView\"},{\"attributes\":{},\"id\":\"3176\",\"type\":\"Selection\"},{\"attributes\":{\"data\":{\"DraftYear\":[2017,2018,2019,2020,2021],\"FG%\":{\"__ndarray__\":\"Ak2EDU+v3D8T0ETY8PTaP5qZmZmZmdk/wOyePCzU2j+S7Xw/NV7aPw==\",\"dtype\":\"float64\",\"order\":\"little\",\"shape\":[5]},\"FG_percent\":{\"__ndarray__\":\"Ak2EDU+v3D8T0ETY8PTaP5qZmZmZmdk/wOyePCzU2j+S7Xw/NV7aPw==\",\"dtype\":\"float64\",\"order\":\"little\",\"shape\":[5]}},\"selected\":{\"id\":\"3154\"},\"selection_policy\":{\"id\":\"3170\"}},\"id\":\"3153\",\"type\":\"ColumnDataSource\"},{\"attributes\":{\"children\":[{\"id\":\"3090\"},{\"id\":\"3096\"},{\"id\":\"3325\"}],\"margin\":[0,0,0,0],\"name\":\"Row06913\",\"tags\":[\"embedded\"]},\"id\":\"3089\",\"type\":\"Row\"},{\"attributes\":{\"line_color\":\"#30a2da\",\"line_width\":2,\"x\":{\"field\":\"DraftYear\"},\"y\":{\"field\":\"FG%\"}},\"id\":\"3135\",\"type\":\"Line\"},{\"attributes\":{\"axis\":{\"id\":\"3105\"},\"coordinates\":null,\"grid_line_color\":null,\"group\":null,\"ticker\":null},\"id\":\"3108\",\"type\":\"Grid\"},{\"attributes\":{},\"id\":\"3194\",\"type\":\"UnionRenderers\"},{\"attributes\":{},\"id\":\"3133\",\"type\":\"Selection\"},{\"attributes\":{\"below\":[{\"id\":\"3105\"}],\"center\":[{\"id\":\"3108\"},{\"id\":\"3112\"},{\"id\":\"3150\"}],\"height\":300,\"left\":[{\"id\":\"3109\"}],\"margin\":[5,5,5,5],\"min_border_bottom\":10,\"min_border_left\":10,\"min_border_right\":10,\"min_border_top\":10,\"renderers\":[{\"id\":\"3138\"},{\"id\":\"3159\"},{\"id\":\"3181\"}],\"sizing_mode\":\"fixed\",\"title\":{\"id\":\"3097\"},\"toolbar\":{\"id\":\"3119\"},\"width\":700,\"x_range\":{\"id\":\"3091\"},\"x_scale\":{\"id\":\"3101\"},\"y_range\":{\"id\":\"3092\"},\"y_scale\":{\"id\":\"3103\"}},\"id\":\"3096\",\"subtype\":\"Figure\",\"type\":\"Plot\"},{\"attributes\":{},\"id\":\"3103\",\"type\":\"LinearScale\"},{\"attributes\":{\"line_color\":\"#fc4f30\",\"line_width\":2,\"x\":{\"field\":\"DraftYear\"},\"y\":{\"field\":\"FG%\"}},\"id\":\"3174\",\"type\":\"Line\"},{\"attributes\":{\"line_alpha\":0.2,\"line_color\":\"#fc4f30\",\"line_width\":2,\"x\":{\"field\":\"DraftYear\"},\"y\":{\"field\":\"FG%\"}},\"id\":\"3158\",\"type\":\"Line\"},{\"attributes\":{\"coordinates\":null,\"data_source\":{\"id\":\"3153\"},\"glyph\":{\"id\":\"3156\"},\"group\":null,\"hover_glyph\":null,\"muted_glyph\":{\"id\":\"3158\"},\"nonselection_glyph\":{\"id\":\"3157\"},\"selection_glyph\":{\"id\":\"3174\"},\"view\":{\"id\":\"3160\"}},\"id\":\"3159\",\"type\":\"GlyphRenderer\"},{\"attributes\":{\"axis_label\":\"Draft Year\",\"coordinates\":null,\"formatter\":{\"id\":\"3127\"},\"group\":null,\"major_label_policy\":{\"id\":\"3128\"},\"ticker\":{\"id\":\"3106\"}},\"id\":\"3105\",\"type\":\"LinearAxis\"},{\"attributes\":{\"data\":{\"DraftYear\":[2017,2018,2019,2020,2021],\"FG%\":{\"__ndarray__\":\"YAfOGVHa2z/45GGh1jTfP+7Jw0Ktad4/PujZrPpc3T8Spb3BFybbPw==\",\"dtype\":\"float64\",\"order\":\"little\",\"shape\":[5]},\"FG_percent\":{\"__ndarray__\":\"YAfOGVHa2z/45GGh1jTfP+7Jw0Ktad4/PujZrPpc3T8Spb3BFybbPw==\",\"dtype\":\"float64\",\"order\":\"little\",\"shape\":[5]}},\"selected\":{\"id\":\"3133\"},\"selection_policy\":{\"id\":\"3147\"}},\"id\":\"3132\",\"type\":\"ColumnDataSource\"},{\"attributes\":{\"line_color\":\"#e5ae38\",\"line_width\":2,\"x\":{\"field\":\"DraftYear\"},\"y\":{\"field\":\"FG%\"}},\"id\":\"3198\",\"type\":\"Line\"},{\"attributes\":{\"line_color\":\"#fc4f30\",\"line_width\":2,\"x\":{\"field\":\"DraftYear\"},\"y\":{\"field\":\"FG%\"}},\"id\":\"3156\",\"type\":\"Line\"},{\"attributes\":{\"coordinates\":null,\"group\":null,\"text\":\"Average 1st Round Picks Field Goal Percentage 2017-2021\",\"text_color\":\"black\",\"text_font_size\":\"12pt\"},\"id\":\"3097\",\"type\":\"Title\"},{\"attributes\":{\"source\":{\"id\":\"3153\"}},\"id\":\"3160\",\"type\":\"CDSView\"}],\"root_ids\":[\"3089\"]},\"title\":\"Bokeh Application\",\"version\":\"2.4.1\"}};\n",
       "    var render_items = [{\"docid\":\"60b969ca-4fc5-47be-8d38-c0900a278e55\",\"root_ids\":[\"3089\"],\"roots\":{\"3089\":\"99e14f79-f256-4fc0-8f91-918f6da8e5c4\"}}];\n",
       "    root.Bokeh.embed.embed_items_notebook(docs_json, render_items);\n",
       "  }\n",
       "  if (root.Bokeh !== undefined && root.Bokeh.Panel !== undefined) {\n",
       "    embed_document(root);\n",
       "  } else {\n",
       "    var attempts = 0;\n",
       "    var timer = setInterval(function(root) {\n",
       "      if (root.Bokeh !== undefined && root.Bokeh.Panel !== undefined) {\n",
       "        clearInterval(timer);\n",
       "        embed_document(root);\n",
       "      } else if (document.readyState == \"complete\") {\n",
       "        attempts++;\n",
       "        if (attempts > 200) {\n",
       "          clearInterval(timer);\n",
       "          console.log(\"Bokeh: ERROR: Unable to run BokehJS code because BokehJS library is missing\");\n",
       "        }\n",
       "      }\n",
       "    }, 25, root)\n",
       "  }\n",
       "})(window);</script>"
      ],
      "text/plain": [
       ":Overlay\n",
       "   .Curve.Group_hyphen_minus_A :Curve   [DraftYear]   (FG%)\n",
       "   .Curve.Group_hyphen_minus_B :Curve   [DraftYear]   (FG%)\n",
       "   .Curve.Group_hyphen_minus_C :Curve   [DraftYear]   (FG%)"
      ]
     },
     "execution_count": 255,
     "metadata": {
      "application/vnd.holoviews_exec.v0+json": {
       "id": "3089"
      }
     },
     "output_type": "execute_result"
    }
   ],
   "source": [
    "# Overlay all groups field goal percentage 2017-2021\n",
    "group_a_fg_plot*group_b_fg_plot*group_c_fg_plot"
   ]
  },
  {
   "cell_type": "code",
   "execution_count": null,
   "id": "eb4c2ceb-6054-4c80-b2a2-faaa422211a1",
   "metadata": {},
   "outputs": [],
   "source": []
  },
  {
   "cell_type": "code",
   "execution_count": 256,
   "id": "61b37fbc-132a-453e-b1d2-59c2209f9118",
   "metadata": {},
   "outputs": [],
   "source": [
    "# Use hvplot to visualize group A's 3-pointer percentage 2017-2021\n",
    "group_a_3p_plot = group_a_ave['3P%'].hvplot(\n",
    "    title='Average 1st Round Picks 3-Pointer Percentage 2017-2021',\n",
    "    x='DraftYear',\n",
    "    y='3P%',\n",
    "    xlabel='Draft Year',\n",
    "    ylabel='3_Pointer Percentage',\n",
    "    label='Group-A'\n",
    ")"
   ]
  },
  {
   "cell_type": "code",
   "execution_count": 257,
   "id": "2b30f3bd-1a11-417a-8fae-2465d55c4b87",
   "metadata": {},
   "outputs": [],
   "source": [
    "# Use hvplot to visualize group B's 3-pointer percentage 2017-2021\n",
    "group_b_3p_plot = group_b_ave['3P%'].hvplot(\n",
    "    title='Average 1st Round Picks 3-Pointer Percentage 2017-2021',\n",
    "    x='DraftYear',\n",
    "    y='3P%',\n",
    "    xlabel='Draft Year',\n",
    "    ylabel='3_Pointer Percentage',\n",
    "    label='Group-B'\n",
    ")"
   ]
  },
  {
   "cell_type": "code",
   "execution_count": 258,
   "id": "e0765a9b-b0b7-403a-9350-81995c61baa6",
   "metadata": {},
   "outputs": [],
   "source": [
    "# Use hvplot to visualize group C's 3-pointer percentage 2017-2021\n",
    "group_c_3p_plot = group_c_ave['3P%'].hvplot(\n",
    "    title='Average 1st Round Picks 3-Pointer Percentage 2017-2021',\n",
    "    x='DraftYear',\n",
    "    y='3P%',\n",
    "    xlabel='Draft Year',\n",
    "    ylabel='3_Pointer Percentage',\n",
    "    label='Group-C'\n",
    ")"
   ]
  },
  {
   "cell_type": "code",
   "execution_count": 259,
   "id": "31907517-c42f-4cec-bdf8-e36d5773f323",
   "metadata": {},
   "outputs": [
    {
     "data": {},
     "metadata": {},
     "output_type": "display_data"
    },
    {
     "data": {
      "application/vnd.holoviews_exec.v0+json": "",
      "text/html": [
       "<div id='3397'>\n",
       "\n",
       "\n",
       "\n",
       "\n",
       "\n",
       "  <div class=\"bk-root\" id=\"e49c0711-f26c-4cd8-90fa-4dc3fadfc401\" data-root-id=\"3397\"></div>\n",
       "</div>\n",
       "<script type=\"application/javascript\">(function(root) {\n",
       "  function embed_document(root) {\n",
       "    var docs_json = {\"d6f13a9c-1a10-4359-b2e7-b215dec63a82\":{\"defs\":[{\"extends\":null,\"module\":null,\"name\":\"ReactiveHTML1\",\"overrides\":[],\"properties\":[]},{\"extends\":null,\"module\":null,\"name\":\"FlexBox1\",\"overrides\":[],\"properties\":[{\"default\":\"flex-start\",\"kind\":null,\"name\":\"align_content\"},{\"default\":\"flex-start\",\"kind\":null,\"name\":\"align_items\"},{\"default\":\"row\",\"kind\":null,\"name\":\"flex_direction\"},{\"default\":\"wrap\",\"kind\":null,\"name\":\"flex_wrap\"},{\"default\":\"flex-start\",\"kind\":null,\"name\":\"justify_content\"}]},{\"extends\":null,\"module\":null,\"name\":\"GridStack1\",\"overrides\":[],\"properties\":[{\"default\":\"warn\",\"kind\":null,\"name\":\"mode\"},{\"default\":null,\"kind\":null,\"name\":\"ncols\"},{\"default\":null,\"kind\":null,\"name\":\"nrows\"},{\"default\":true,\"kind\":null,\"name\":\"allow_resize\"},{\"default\":true,\"kind\":null,\"name\":\"allow_drag\"},{\"default\":[],\"kind\":null,\"name\":\"state\"}]},{\"extends\":null,\"module\":null,\"name\":\"click1\",\"overrides\":[],\"properties\":[{\"default\":\"\",\"kind\":null,\"name\":\"terminal_output\"},{\"default\":\"\",\"kind\":null,\"name\":\"debug_name\"},{\"default\":0,\"kind\":null,\"name\":\"clears\"}]},{\"extends\":null,\"module\":null,\"name\":\"TemplateActions1\",\"overrides\":[],\"properties\":[{\"default\":0,\"kind\":null,\"name\":\"open_modal\"},{\"default\":0,\"kind\":null,\"name\":\"close_modal\"}]},{\"extends\":null,\"module\":null,\"name\":\"MaterialTemplateActions1\",\"overrides\":[],\"properties\":[{\"default\":0,\"kind\":null,\"name\":\"open_modal\"},{\"default\":0,\"kind\":null,\"name\":\"close_modal\"}]}],\"roots\":{\"references\":[{\"attributes\":{},\"id\":\"3435\",\"type\":\"BasicTickFormatter\"},{\"attributes\":{},\"id\":\"3455\",\"type\":\"UnionRenderers\"},{\"attributes\":{\"line_alpha\":0.1,\"line_color\":\"#30a2da\",\"line_width\":2,\"x\":{\"field\":\"DraftYear\"},\"y\":{\"field\":\"3P%\"}},\"id\":\"3444\",\"type\":\"Line\"},{\"attributes\":{\"line_alpha\":0.2,\"line_color\":\"#30a2da\",\"line_width\":2,\"x\":{\"field\":\"DraftYear\"},\"y\":{\"field\":\"3P%\"}},\"id\":\"3445\",\"type\":\"Line\"},{\"attributes\":{\"margin\":[5,5,5,5],\"name\":\"HSpacer07776\",\"sizing_mode\":\"stretch_width\"},\"id\":\"3398\",\"type\":\"Spacer\"},{\"attributes\":{\"source\":{\"id\":\"3440\"}},\"id\":\"3447\",\"type\":\"CDSView\"},{\"attributes\":{},\"id\":\"3409\",\"type\":\"LinearScale\"},{\"attributes\":{\"coordinates\":null,\"data_source\":{\"id\":\"3440\"},\"glyph\":{\"id\":\"3443\"},\"group\":null,\"hover_glyph\":null,\"muted_glyph\":{\"id\":\"3445\"},\"nonselection_glyph\":{\"id\":\"3444\"},\"selection_glyph\":{\"id\":\"3460\"},\"view\":{\"id\":\"3447\"}},\"id\":\"3446\",\"type\":\"GlyphRenderer\"},{\"attributes\":{\"label\":{\"value\":\"Group-C\"},\"renderers\":[{\"id\":\"3489\"}]},\"id\":\"3505\",\"type\":\"LegendItem\"},{\"attributes\":{},\"id\":\"3439\",\"type\":\"AllLabels\"},{\"attributes\":{\"line_alpha\":0.1,\"line_color\":\"#fc4f30\",\"line_width\":2,\"x\":{\"field\":\"DraftYear\"},\"y\":{\"field\":\"3P%\"}},\"id\":\"3465\",\"type\":\"Line\"},{\"attributes\":{\"click_policy\":\"mute\",\"coordinates\":null,\"group\":null,\"items\":[{\"id\":\"3459\"},{\"id\":\"3481\"},{\"id\":\"3505\"}]},\"id\":\"3458\",\"type\":\"Legend\"},{\"attributes\":{\"line_color\":\"#30a2da\",\"line_width\":2,\"x\":{\"field\":\"DraftYear\"},\"y\":{\"field\":\"3P%\"}},\"id\":\"3443\",\"type\":\"Line\"},{\"attributes\":{\"line_color\":\"#30a2da\",\"line_width\":2,\"x\":{\"field\":\"DraftYear\"},\"y\":{\"field\":\"3P%\"}},\"id\":\"3460\",\"type\":\"Line\"},{\"attributes\":{},\"id\":\"3438\",\"type\":\"BasicTickFormatter\"},{\"attributes\":{\"children\":[{\"id\":\"3398\"},{\"id\":\"3404\"},{\"id\":\"3633\"}],\"margin\":[0,0,0,0],\"name\":\"Row07772\",\"tags\":[\"embedded\"]},\"id\":\"3397\",\"type\":\"Row\"},{\"attributes\":{\"end\":2021.0,\"reset_end\":2021.0,\"reset_start\":2017.0,\"start\":2017.0,\"tags\":[[[\"DraftYear\",\"DraftYear\",null]]]},\"id\":\"3399\",\"type\":\"Range1d\"},{\"attributes\":{\"label\":{\"value\":\"Group-A\"},\"renderers\":[{\"id\":\"3446\"}]},\"id\":\"3459\",\"type\":\"LegendItem\"},{\"attributes\":{\"end\":0.37775,\"reset_end\":0.37775,\"reset_start\":0.23074999999999998,\"start\":0.23074999999999998,\"tags\":[[[\"3P%\",\"3P%\",null]]]},\"id\":\"3400\",\"type\":\"Range1d\"},{\"attributes\":{\"data\":{\"3P%\":{\"__ndarray__\":\"DeAtkKD40T/ByqFFtvPVP57Nqs/VVtQ/q8/VVuwv0z8lBoGVQ4vUPw==\",\"dtype\":\"float64\",\"order\":\"little\",\"shape\":[5]},\"A_3P_percent\":{\"__ndarray__\":\"DeAtkKD40T/ByqFFtvPVP57Nqs/VVtQ/q8/VVuwv0z8lBoGVQ4vUPw==\",\"dtype\":\"float64\",\"order\":\"little\",\"shape\":[5]},\"DraftYear\":[2017,2018,2019,2020,2021]},\"selected\":{\"id\":\"3462\"},\"selection_policy\":{\"id\":\"3478\"}},\"id\":\"3461\",\"type\":\"ColumnDataSource\"},{\"attributes\":{},\"id\":\"3441\",\"type\":\"Selection\"},{\"attributes\":{\"axis\":{\"id\":\"3413\"},\"coordinates\":null,\"grid_line_color\":null,\"group\":null,\"ticker\":null},\"id\":\"3416\",\"type\":\"Grid\"},{\"attributes\":{\"callback\":null,\"renderers\":[{\"id\":\"3446\"},{\"id\":\"3467\"},{\"id\":\"3489\"}],\"tags\":[\"hv_created\"],\"tooltips\":[[\"DraftYear\",\"@{DraftYear}\"],[\"3P%\",\"@{A_3P_percent}\"]]},\"id\":\"3401\",\"type\":\"HoverTool\"},{\"attributes\":{\"tools\":[{\"id\":\"3401\"},{\"id\":\"3421\"},{\"id\":\"3422\"},{\"id\":\"3423\"},{\"id\":\"3424\"},{\"id\":\"3425\"}]},\"id\":\"3427\",\"type\":\"Toolbar\"},{\"attributes\":{\"below\":[{\"id\":\"3413\"}],\"center\":[{\"id\":\"3416\"},{\"id\":\"3420\"},{\"id\":\"3458\"}],\"height\":300,\"left\":[{\"id\":\"3417\"}],\"margin\":[5,5,5,5],\"min_border_bottom\":10,\"min_border_left\":10,\"min_border_right\":10,\"min_border_top\":10,\"renderers\":[{\"id\":\"3446\"},{\"id\":\"3467\"},{\"id\":\"3489\"}],\"sizing_mode\":\"fixed\",\"title\":{\"id\":\"3405\"},\"toolbar\":{\"id\":\"3427\"},\"width\":700,\"x_range\":{\"id\":\"3399\"},\"x_scale\":{\"id\":\"3409\"},\"y_range\":{\"id\":\"3400\"},\"y_scale\":{\"id\":\"3411\"}},\"id\":\"3404\",\"subtype\":\"Figure\",\"type\":\"Plot\"},{\"attributes\":{\"line_alpha\":0.2,\"line_color\":\"#fc4f30\",\"line_width\":2,\"x\":{\"field\":\"DraftYear\"},\"y\":{\"field\":\"3P%\"}},\"id\":\"3466\",\"type\":\"Line\"},{\"attributes\":{\"coordinates\":null,\"data_source\":{\"id\":\"3461\"},\"glyph\":{\"id\":\"3464\"},\"group\":null,\"hover_glyph\":null,\"muted_glyph\":{\"id\":\"3466\"},\"nonselection_glyph\":{\"id\":\"3465\"},\"selection_glyph\":{\"id\":\"3482\"},\"view\":{\"id\":\"3468\"}},\"id\":\"3467\",\"type\":\"GlyphRenderer\"},{\"attributes\":{},\"id\":\"3411\",\"type\":\"LinearScale\"},{\"attributes\":{\"margin\":[5,5,5,5],\"name\":\"HSpacer07777\",\"sizing_mode\":\"stretch_width\"},\"id\":\"3633\",\"type\":\"Spacer\"},{\"attributes\":{\"line_color\":\"#fc4f30\",\"line_width\":2,\"x\":{\"field\":\"DraftYear\"},\"y\":{\"field\":\"3P%\"}},\"id\":\"3482\",\"type\":\"Line\"},{\"attributes\":{\"axis_label\":\"Draft Year\",\"coordinates\":null,\"formatter\":{\"id\":\"3435\"},\"group\":null,\"major_label_policy\":{\"id\":\"3436\"},\"ticker\":{\"id\":\"3414\"}},\"id\":\"3413\",\"type\":\"LinearAxis\"},{\"attributes\":{\"line_color\":\"#fc4f30\",\"line_width\":2,\"x\":{\"field\":\"DraftYear\"},\"y\":{\"field\":\"3P%\"}},\"id\":\"3464\",\"type\":\"Line\"},{\"attributes\":{},\"id\":\"3462\",\"type\":\"Selection\"},{\"attributes\":{\"coordinates\":null,\"group\":null,\"text\":\"Average 1st Round Picks 3-Pointer Percentage 2017-2021\",\"text_color\":\"black\",\"text_font_size\":\"12pt\"},\"id\":\"3405\",\"type\":\"Title\"},{\"attributes\":{\"source\":{\"id\":\"3461\"}},\"id\":\"3468\",\"type\":\"CDSView\"},{\"attributes\":{\"line_color\":\"#e5ae38\",\"line_width\":2,\"x\":{\"field\":\"DraftYear\"},\"y\":{\"field\":\"3P%\"}},\"id\":\"3506\",\"type\":\"Line\"},{\"attributes\":{\"line_alpha\":0.2,\"line_color\":\"#e5ae38\",\"line_width\":2,\"x\":{\"field\":\"DraftYear\"},\"y\":{\"field\":\"3P%\"}},\"id\":\"3488\",\"type\":\"Line\"},{\"attributes\":{},\"id\":\"3414\",\"type\":\"BasicTicker\"},{\"attributes\":{},\"id\":\"3423\",\"type\":\"WheelZoomTool\"},{\"attributes\":{\"axis\":{\"id\":\"3417\"},\"coordinates\":null,\"dimension\":1,\"grid_line_color\":null,\"group\":null,\"ticker\":null},\"id\":\"3420\",\"type\":\"Grid\"},{\"attributes\":{\"label\":{\"value\":\"Group-B\"},\"renderers\":[{\"id\":\"3467\"}]},\"id\":\"3481\",\"type\":\"LegendItem\"},{\"attributes\":{},\"id\":\"3436\",\"type\":\"AllLabels\"},{\"attributes\":{},\"id\":\"3484\",\"type\":\"Selection\"},{\"attributes\":{},\"id\":\"3418\",\"type\":\"BasicTicker\"},{\"attributes\":{},\"id\":\"3422\",\"type\":\"PanTool\"},{\"attributes\":{\"data\":{\"3P%\":{\"__ndarray__\":\"ofgx5q4l1D+TqYJRSZ3QP5vmHafoSNY/MQisHFpk1z+0yHa+nxrPPw==\",\"dtype\":\"float64\",\"order\":\"little\",\"shape\":[5]},\"A_3P_percent\":{\"__ndarray__\":\"ofgx5q4l1D+TqYJRSZ3QP5vmHafoSNY/MQisHFpk1z+0yHa+nxrPPw==\",\"dtype\":\"float64\",\"order\":\"little\",\"shape\":[5]},\"DraftYear\":[2017,2018,2019,2020,2021]},\"selected\":{\"id\":\"3484\"},\"selection_policy\":{\"id\":\"3502\"}},\"id\":\"3483\",\"type\":\"ColumnDataSource\"},{\"attributes\":{\"axis_label\":\"3_Pointer Percentage\",\"coordinates\":null,\"formatter\":{\"id\":\"3438\"},\"group\":null,\"major_label_policy\":{\"id\":\"3439\"},\"ticker\":{\"id\":\"3418\"}},\"id\":\"3417\",\"type\":\"LinearAxis\"},{\"attributes\":{\"line_color\":\"#e5ae38\",\"line_width\":2,\"x\":{\"field\":\"DraftYear\"},\"y\":{\"field\":\"3P%\"}},\"id\":\"3486\",\"type\":\"Line\"},{\"attributes\":{},\"id\":\"3478\",\"type\":\"UnionRenderers\"},{\"attributes\":{},\"id\":\"3421\",\"type\":\"SaveTool\"},{\"attributes\":{\"line_alpha\":0.1,\"line_color\":\"#e5ae38\",\"line_width\":2,\"x\":{\"field\":\"DraftYear\"},\"y\":{\"field\":\"3P%\"}},\"id\":\"3487\",\"type\":\"Line\"},{\"attributes\":{\"coordinates\":null,\"data_source\":{\"id\":\"3483\"},\"glyph\":{\"id\":\"3486\"},\"group\":null,\"hover_glyph\":null,\"muted_glyph\":{\"id\":\"3488\"},\"nonselection_glyph\":{\"id\":\"3487\"},\"selection_glyph\":{\"id\":\"3506\"},\"view\":{\"id\":\"3490\"}},\"id\":\"3489\",\"type\":\"GlyphRenderer\"},{\"attributes\":{\"data\":{\"3P%\":{\"__ndarray__\":\"mnecoiO51D+3QILix5jTP94CCYofY9Y/sAPnjCjt1T9dbcX+snvSPw==\",\"dtype\":\"float64\",\"order\":\"little\",\"shape\":[5]},\"A_3P_percent\":{\"__ndarray__\":\"mnecoiO51D+3QILix5jTP94CCYofY9Y/sAPnjCjt1T9dbcX+snvSPw==\",\"dtype\":\"float64\",\"order\":\"little\",\"shape\":[5]},\"DraftYear\":[2017,2018,2019,2020,2021]},\"selected\":{\"id\":\"3441\"},\"selection_policy\":{\"id\":\"3455\"}},\"id\":\"3440\",\"type\":\"ColumnDataSource\"},{\"attributes\":{\"overlay\":{\"id\":\"3426\"}},\"id\":\"3424\",\"type\":\"BoxZoomTool\"},{\"attributes\":{\"source\":{\"id\":\"3483\"}},\"id\":\"3490\",\"type\":\"CDSView\"},{\"attributes\":{},\"id\":\"3425\",\"type\":\"ResetTool\"},{\"attributes\":{\"bottom_units\":\"screen\",\"coordinates\":null,\"fill_alpha\":0.5,\"fill_color\":\"lightgrey\",\"group\":null,\"left_units\":\"screen\",\"level\":\"overlay\",\"line_alpha\":1.0,\"line_color\":\"black\",\"line_dash\":[4,4],\"line_width\":2,\"right_units\":\"screen\",\"syncable\":false,\"top_units\":\"screen\"},\"id\":\"3426\",\"type\":\"BoxAnnotation\"},{\"attributes\":{},\"id\":\"3502\",\"type\":\"UnionRenderers\"}],\"root_ids\":[\"3397\"]},\"title\":\"Bokeh Application\",\"version\":\"2.4.1\"}};\n",
       "    var render_items = [{\"docid\":\"d6f13a9c-1a10-4359-b2e7-b215dec63a82\",\"root_ids\":[\"3397\"],\"roots\":{\"3397\":\"e49c0711-f26c-4cd8-90fa-4dc3fadfc401\"}}];\n",
       "    root.Bokeh.embed.embed_items_notebook(docs_json, render_items);\n",
       "  }\n",
       "  if (root.Bokeh !== undefined && root.Bokeh.Panel !== undefined) {\n",
       "    embed_document(root);\n",
       "  } else {\n",
       "    var attempts = 0;\n",
       "    var timer = setInterval(function(root) {\n",
       "      if (root.Bokeh !== undefined && root.Bokeh.Panel !== undefined) {\n",
       "        clearInterval(timer);\n",
       "        embed_document(root);\n",
       "      } else if (document.readyState == \"complete\") {\n",
       "        attempts++;\n",
       "        if (attempts > 200) {\n",
       "          clearInterval(timer);\n",
       "          console.log(\"Bokeh: ERROR: Unable to run BokehJS code because BokehJS library is missing\");\n",
       "        }\n",
       "      }\n",
       "    }, 25, root)\n",
       "  }\n",
       "})(window);</script>"
      ],
      "text/plain": [
       ":Overlay\n",
       "   .Curve.Group_hyphen_minus_A :Curve   [DraftYear]   (3P%)\n",
       "   .Curve.Group_hyphen_minus_B :Curve   [DraftYear]   (3P%)\n",
       "   .Curve.Group_hyphen_minus_C :Curve   [DraftYear]   (3P%)"
      ]
     },
     "execution_count": 259,
     "metadata": {
      "application/vnd.holoviews_exec.v0+json": {
       "id": "3397"
      }
     },
     "output_type": "execute_result"
    }
   ],
   "source": [
    "# Overlay all groups 3-pinter percentage 2017-2021\n",
    "group_a_3p_plot*group_b_3p_plot*group_c_3p_plot"
   ]
  },
  {
   "cell_type": "code",
   "execution_count": null,
   "id": "0168f46e-2798-49c3-95f7-17e321c5c5e1",
   "metadata": {},
   "outputs": [],
   "source": []
  },
  {
   "cell_type": "code",
   "execution_count": 260,
   "id": "85891422-1926-4e75-8be2-0e8526b47840",
   "metadata": {},
   "outputs": [],
   "source": [
    "# Use hvplot to visualize group A's free throws percentage 2017-2021\n",
    "group_a_ft_plot = group_a_ave['FT%'].hvplot(\n",
    "    title='Average 1st Round Picks Free Throws Percentage 2017-2021',\n",
    "    x='DraftYear',\n",
    "    y='FT%',\n",
    "    xlabel='Draft Year',\n",
    "    ylabel='Free Throws Percentage',\n",
    "    label='Group-A'\n",
    ")"
   ]
  },
  {
   "cell_type": "code",
   "execution_count": 261,
   "id": "30c4812c-39c2-4956-856f-c8327ead2f19",
   "metadata": {},
   "outputs": [],
   "source": [
    "# Use hvplot to visualize group B's free throws percentage 2017-2021\n",
    "group_b_ft_plot = group_b_ave['FT%'].hvplot(\n",
    "    title='Average 1st Round Picks Free Throws Percentage 2017-2021',\n",
    "    x='DraftYear',\n",
    "    y='FT%',\n",
    "    xlabel='Draft Year',\n",
    "    ylabel='Free Throws Percentage',\n",
    "    label='Group-B'\n",
    ")"
   ]
  },
  {
   "cell_type": "code",
   "execution_count": 262,
   "id": "ac7724b4-0fc6-4b7b-8a86-101c0c63579e",
   "metadata": {},
   "outputs": [],
   "source": [
    "# Use hvplot to visualize group C's free throws percentage 2017-2021\n",
    "group_c_ft_plot = group_c_ave['FT%'].hvplot(\n",
    "    title='Average 1st Round Picks Free Throws Percentage 2017-2021',\n",
    "    x='DraftYear',\n",
    "    y='FT%',\n",
    "    xlabel='Draft Year',\n",
    "    ylabel='Free Throws Percentage',\n",
    "    label='Group-C'\n",
    ")"
   ]
  },
  {
   "cell_type": "code",
   "execution_count": 263,
   "id": "e8528558-2573-49a8-a286-a00e8f1d3bd2",
   "metadata": {},
   "outputs": [
    {
     "data": {},
     "metadata": {},
     "output_type": "display_data"
    },
    {
     "data": {
      "application/vnd.holoviews_exec.v0+json": "",
      "text/html": [
       "<div id='3705'>\n",
       "\n",
       "\n",
       "\n",
       "\n",
       "\n",
       "  <div class=\"bk-root\" id=\"0bec891b-061f-49f9-9344-b5f7dbb8bb43\" data-root-id=\"3705\"></div>\n",
       "</div>\n",
       "<script type=\"application/javascript\">(function(root) {\n",
       "  function embed_document(root) {\n",
       "    var docs_json = {\"b4dac098-4e03-4dde-9bd8-dd21c1ee03cf\":{\"defs\":[{\"extends\":null,\"module\":null,\"name\":\"ReactiveHTML1\",\"overrides\":[],\"properties\":[]},{\"extends\":null,\"module\":null,\"name\":\"FlexBox1\",\"overrides\":[],\"properties\":[{\"default\":\"flex-start\",\"kind\":null,\"name\":\"align_content\"},{\"default\":\"flex-start\",\"kind\":null,\"name\":\"align_items\"},{\"default\":\"row\",\"kind\":null,\"name\":\"flex_direction\"},{\"default\":\"wrap\",\"kind\":null,\"name\":\"flex_wrap\"},{\"default\":\"flex-start\",\"kind\":null,\"name\":\"justify_content\"}]},{\"extends\":null,\"module\":null,\"name\":\"GridStack1\",\"overrides\":[],\"properties\":[{\"default\":\"warn\",\"kind\":null,\"name\":\"mode\"},{\"default\":null,\"kind\":null,\"name\":\"ncols\"},{\"default\":null,\"kind\":null,\"name\":\"nrows\"},{\"default\":true,\"kind\":null,\"name\":\"allow_resize\"},{\"default\":true,\"kind\":null,\"name\":\"allow_drag\"},{\"default\":[],\"kind\":null,\"name\":\"state\"}]},{\"extends\":null,\"module\":null,\"name\":\"click1\",\"overrides\":[],\"properties\":[{\"default\":\"\",\"kind\":null,\"name\":\"terminal_output\"},{\"default\":\"\",\"kind\":null,\"name\":\"debug_name\"},{\"default\":0,\"kind\":null,\"name\":\"clears\"}]},{\"extends\":null,\"module\":null,\"name\":\"TemplateActions1\",\"overrides\":[],\"properties\":[{\"default\":0,\"kind\":null,\"name\":\"open_modal\"},{\"default\":0,\"kind\":null,\"name\":\"close_modal\"}]},{\"extends\":null,\"module\":null,\"name\":\"MaterialTemplateActions1\",\"overrides\":[],\"properties\":[{\"default\":0,\"kind\":null,\"name\":\"open_modal\"},{\"default\":0,\"kind\":null,\"name\":\"close_modal\"}]}],\"roots\":{\"references\":[{\"attributes\":{\"line_alpha\":0.1,\"line_color\":\"#30a2da\",\"line_width\":2,\"x\":{\"field\":\"DraftYear\"},\"y\":{\"field\":\"FT%\"}},\"id\":\"3752\",\"type\":\"Line\"},{\"attributes\":{\"coordinates\":null,\"group\":null,\"text\":\"Average 1st Round Picks Free Throws Percentage 2017-2021\",\"text_color\":\"black\",\"text_font_size\":\"12pt\"},\"id\":\"3713\",\"type\":\"Title\"},{\"attributes\":{},\"id\":\"3810\",\"type\":\"UnionRenderers\"},{\"attributes\":{\"line_color\":\"#fc4f30\",\"line_width\":2,\"x\":{\"field\":\"DraftYear\"},\"y\":{\"field\":\"FT%\"}},\"id\":\"3790\",\"type\":\"Line\"},{\"attributes\":{\"axis_label\":\"Draft Year\",\"coordinates\":null,\"formatter\":{\"id\":\"3743\"},\"group\":null,\"major_label_policy\":{\"id\":\"3744\"},\"ticker\":{\"id\":\"3722\"}},\"id\":\"3721\",\"type\":\"LinearAxis\"},{\"attributes\":{\"source\":{\"id\":\"3769\"}},\"id\":\"3776\",\"type\":\"CDSView\"},{\"attributes\":{\"line_color\":\"#fc4f30\",\"line_width\":2,\"x\":{\"field\":\"DraftYear\"},\"y\":{\"field\":\"FT%\"}},\"id\":\"3772\",\"type\":\"Line\"},{\"attributes\":{},\"id\":\"3730\",\"type\":\"PanTool\"},{\"attributes\":{\"coordinates\":null,\"data_source\":{\"id\":\"3769\"},\"glyph\":{\"id\":\"3772\"},\"group\":null,\"hover_glyph\":null,\"muted_glyph\":{\"id\":\"3774\"},\"nonselection_glyph\":{\"id\":\"3773\"},\"selection_glyph\":{\"id\":\"3790\"},\"view\":{\"id\":\"3776\"}},\"id\":\"3775\",\"type\":\"GlyphRenderer\"},{\"attributes\":{\"axis\":{\"id\":\"3721\"},\"coordinates\":null,\"grid_line_color\":null,\"group\":null,\"ticker\":null},\"id\":\"3724\",\"type\":\"Grid\"},{\"attributes\":{\"line_alpha\":0.2,\"line_color\":\"#fc4f30\",\"line_width\":2,\"x\":{\"field\":\"DraftYear\"},\"y\":{\"field\":\"FT%\"}},\"id\":\"3774\",\"type\":\"Line\"},{\"attributes\":{\"line_alpha\":0.1,\"line_color\":\"#fc4f30\",\"line_width\":2,\"x\":{\"field\":\"DraftYear\"},\"y\":{\"field\":\"FT%\"}},\"id\":\"3773\",\"type\":\"Line\"},{\"attributes\":{\"line_color\":\"#e5ae38\",\"line_width\":2,\"x\":{\"field\":\"DraftYear\"},\"y\":{\"field\":\"FT%\"}},\"id\":\"3814\",\"type\":\"Line\"},{\"attributes\":{},\"id\":\"3722\",\"type\":\"BasicTicker\"},{\"attributes\":{},\"id\":\"3744\",\"type\":\"AllLabels\"},{\"attributes\":{\"axis_label\":\"Free Throws Percentage\",\"coordinates\":null,\"formatter\":{\"id\":\"3746\"},\"group\":null,\"major_label_policy\":{\"id\":\"3747\"},\"ticker\":{\"id\":\"3726\"}},\"id\":\"3725\",\"type\":\"LinearAxis\"},{\"attributes\":{\"line_alpha\":0.1,\"line_color\":\"#e5ae38\",\"line_width\":2,\"x\":{\"field\":\"DraftYear\"},\"y\":{\"field\":\"FT%\"}},\"id\":\"3795\",\"type\":\"Line\"},{\"attributes\":{\"axis\":{\"id\":\"3725\"},\"coordinates\":null,\"dimension\":1,\"grid_line_color\":null,\"group\":null,\"ticker\":null},\"id\":\"3728\",\"type\":\"Grid\"},{\"attributes\":{},\"id\":\"3726\",\"type\":\"BasicTicker\"},{\"attributes\":{\"label\":{\"value\":\"Group-B\"},\"renderers\":[{\"id\":\"3775\"}]},\"id\":\"3789\",\"type\":\"LegendItem\"},{\"attributes\":{},\"id\":\"3731\",\"type\":\"WheelZoomTool\"},{\"attributes\":{\"line_color\":\"#30a2da\",\"line_width\":2,\"x\":{\"field\":\"DraftYear\"},\"y\":{\"field\":\"FT%\"}},\"id\":\"3751\",\"type\":\"Line\"},{\"attributes\":{\"source\":{\"id\":\"3748\"}},\"id\":\"3755\",\"type\":\"CDSView\"},{\"attributes\":{\"label\":{\"value\":\"Group-C\"},\"renderers\":[{\"id\":\"3797\"}]},\"id\":\"3813\",\"type\":\"LegendItem\"},{\"attributes\":{},\"id\":\"3729\",\"type\":\"SaveTool\"},{\"attributes\":{\"click_policy\":\"mute\",\"coordinates\":null,\"group\":null,\"items\":[{\"id\":\"3767\"},{\"id\":\"3789\"},{\"id\":\"3813\"}]},\"id\":\"3766\",\"type\":\"Legend\"},{\"attributes\":{},\"id\":\"3786\",\"type\":\"UnionRenderers\"},{\"attributes\":{\"line_color\":\"#e5ae38\",\"line_width\":2,\"x\":{\"field\":\"DraftYear\"},\"y\":{\"field\":\"FT%\"}},\"id\":\"3794\",\"type\":\"Line\"},{\"attributes\":{\"overlay\":{\"id\":\"3734\"}},\"id\":\"3732\",\"type\":\"BoxZoomTool\"},{\"attributes\":{},\"id\":\"3792\",\"type\":\"Selection\"},{\"attributes\":{},\"id\":\"3733\",\"type\":\"ResetTool\"},{\"attributes\":{\"bottom_units\":\"screen\",\"coordinates\":null,\"fill_alpha\":0.5,\"fill_color\":\"lightgrey\",\"group\":null,\"left_units\":\"screen\",\"level\":\"overlay\",\"line_alpha\":1.0,\"line_color\":\"black\",\"line_dash\":[4,4],\"line_width\":2,\"right_units\":\"screen\",\"syncable\":false,\"top_units\":\"screen\"},\"id\":\"3734\",\"type\":\"BoxAnnotation\"},{\"attributes\":{\"data\":{\"DraftYear\":[2017,2018,2019,2020,2021],\"FT%\":{\"__ndarray__\":\"9pfdk4eF5j8Go5I6AU3oP7K/7J48LOg/YjJVMCqp5z956SYxCKzoPw==\",\"dtype\":\"float64\",\"order\":\"little\",\"shape\":[5]},\"FT_percent\":{\"__ndarray__\":\"9pfdk4eF5j8Go5I6AU3oP7K/7J48LOg/YjJVMCqp5z956SYxCKzoPw==\",\"dtype\":\"float64\",\"order\":\"little\",\"shape\":[5]}},\"selected\":{\"id\":\"3749\"},\"selection_policy\":{\"id\":\"3763\"}},\"id\":\"3748\",\"type\":\"ColumnDataSource\"},{\"attributes\":{\"end\":2021.0,\"reset_end\":2021.0,\"reset_start\":2017.0,\"start\":2017.0,\"tags\":[[[\"DraftYear\",\"DraftYear\",null]]]},\"id\":\"3707\",\"type\":\"Range1d\"},{\"attributes\":{},\"id\":\"3743\",\"type\":\"BasicTickFormatter\"},{\"attributes\":{\"margin\":[5,5,5,5],\"name\":\"HSpacer08636\",\"sizing_mode\":\"stretch_width\"},\"id\":\"3941\",\"type\":\"Spacer\"},{\"attributes\":{},\"id\":\"3747\",\"type\":\"AllLabels\"},{\"attributes\":{},\"id\":\"3763\",\"type\":\"UnionRenderers\"},{\"attributes\":{},\"id\":\"3749\",\"type\":\"Selection\"},{\"attributes\":{\"data\":{\"DraftYear\":[2017,2018,2019,2020,2021],\"FT%\":{\"__ndarray__\":\"Qs9m1edq5z+NuWsJ+aDnP7YV+8vuyec/b/CFyVTB6D/AyqFFtvPpPw==\",\"dtype\":\"float64\",\"order\":\"little\",\"shape\":[5]},\"FT_percent\":{\"__ndarray__\":\"Qs9m1edq5z+NuWsJ+aDnP7YV+8vuyec/b/CFyVTB6D/AyqFFtvPpPw==\",\"dtype\":\"float64\",\"order\":\"little\",\"shape\":[5]}},\"selected\":{\"id\":\"3770\"},\"selection_policy\":{\"id\":\"3786\"}},\"id\":\"3769\",\"type\":\"ColumnDataSource\"},{\"attributes\":{\"coordinates\":null,\"data_source\":{\"id\":\"3791\"},\"glyph\":{\"id\":\"3794\"},\"group\":null,\"hover_glyph\":null,\"muted_glyph\":{\"id\":\"3796\"},\"nonselection_glyph\":{\"id\":\"3795\"},\"selection_glyph\":{\"id\":\"3814\"},\"view\":{\"id\":\"3798\"}},\"id\":\"3797\",\"type\":\"GlyphRenderer\"},{\"attributes\":{\"coordinates\":null,\"data_source\":{\"id\":\"3748\"},\"glyph\":{\"id\":\"3751\"},\"group\":null,\"hover_glyph\":null,\"muted_glyph\":{\"id\":\"3753\"},\"nonselection_glyph\":{\"id\":\"3752\"},\"selection_glyph\":{\"id\":\"3768\"},\"view\":{\"id\":\"3755\"}},\"id\":\"3754\",\"type\":\"GlyphRenderer\"},{\"attributes\":{},\"id\":\"3746\",\"type\":\"BasicTickFormatter\"},{\"attributes\":{},\"id\":\"3770\",\"type\":\"Selection\"},{\"attributes\":{\"end\":0.8217199999999999,\"reset_end\":0.8217199999999999,\"reset_start\":0.69308,\"start\":0.69308,\"tags\":[[[\"FT%\",\"FT%\",null]]]},\"id\":\"3708\",\"type\":\"Range1d\"},{\"attributes\":{},\"id\":\"3719\",\"type\":\"LinearScale\"},{\"attributes\":{\"line_color\":\"#30a2da\",\"line_width\":2,\"x\":{\"field\":\"DraftYear\"},\"y\":{\"field\":\"FT%\"}},\"id\":\"3768\",\"type\":\"Line\"},{\"attributes\":{},\"id\":\"3717\",\"type\":\"LinearScale\"},{\"attributes\":{\"line_alpha\":0.2,\"line_color\":\"#30a2da\",\"line_width\":2,\"x\":{\"field\":\"DraftYear\"},\"y\":{\"field\":\"FT%\"}},\"id\":\"3753\",\"type\":\"Line\"},{\"attributes\":{\"children\":[{\"id\":\"3706\"},{\"id\":\"3712\"},{\"id\":\"3941\"}],\"margin\":[0,0,0,0],\"name\":\"Row08631\",\"tags\":[\"embedded\"]},\"id\":\"3705\",\"type\":\"Row\"},{\"attributes\":{\"data\":{\"DraftYear\":[2017,2018,2019,2020,2021],\"FT%\":{\"__ndarray__\":\"eqUsQxzr5j+EDU+vlGXoPw6+MJkqGOk/0ETY8PRK6T9CYOXQItvmPw==\",\"dtype\":\"float64\",\"order\":\"little\",\"shape\":[5]},\"FT_percent\":{\"__ndarray__\":\"eqUsQxzr5j+EDU+vlGXoPw6+MJkqGOk/0ETY8PRK6T9CYOXQItvmPw==\",\"dtype\":\"float64\",\"order\":\"little\",\"shape\":[5]}},\"selected\":{\"id\":\"3792\"},\"selection_policy\":{\"id\":\"3810\"}},\"id\":\"3791\",\"type\":\"ColumnDataSource\"},{\"attributes\":{\"callback\":null,\"renderers\":[{\"id\":\"3754\"},{\"id\":\"3775\"},{\"id\":\"3797\"}],\"tags\":[\"hv_created\"],\"tooltips\":[[\"DraftYear\",\"@{DraftYear}\"],[\"FT%\",\"@{FT_percent}\"]]},\"id\":\"3709\",\"type\":\"HoverTool\"},{\"attributes\":{\"margin\":[5,5,5,5],\"name\":\"HSpacer08635\",\"sizing_mode\":\"stretch_width\"},\"id\":\"3706\",\"type\":\"Spacer\"},{\"attributes\":{\"label\":{\"value\":\"Group-A\"},\"renderers\":[{\"id\":\"3754\"}]},\"id\":\"3767\",\"type\":\"LegendItem\"},{\"attributes\":{\"tools\":[{\"id\":\"3709\"},{\"id\":\"3729\"},{\"id\":\"3730\"},{\"id\":\"3731\"},{\"id\":\"3732\"},{\"id\":\"3733\"}]},\"id\":\"3735\",\"type\":\"Toolbar\"},{\"attributes\":{\"below\":[{\"id\":\"3721\"}],\"center\":[{\"id\":\"3724\"},{\"id\":\"3728\"},{\"id\":\"3766\"}],\"height\":300,\"left\":[{\"id\":\"3725\"}],\"margin\":[5,5,5,5],\"min_border_bottom\":10,\"min_border_left\":10,\"min_border_right\":10,\"min_border_top\":10,\"renderers\":[{\"id\":\"3754\"},{\"id\":\"3775\"},{\"id\":\"3797\"}],\"sizing_mode\":\"fixed\",\"title\":{\"id\":\"3713\"},\"toolbar\":{\"id\":\"3735\"},\"width\":700,\"x_range\":{\"id\":\"3707\"},\"x_scale\":{\"id\":\"3717\"},\"y_range\":{\"id\":\"3708\"},\"y_scale\":{\"id\":\"3719\"}},\"id\":\"3712\",\"subtype\":\"Figure\",\"type\":\"Plot\"},{\"attributes\":{\"source\":{\"id\":\"3791\"}},\"id\":\"3798\",\"type\":\"CDSView\"},{\"attributes\":{\"line_alpha\":0.2,\"line_color\":\"#e5ae38\",\"line_width\":2,\"x\":{\"field\":\"DraftYear\"},\"y\":{\"field\":\"FT%\"}},\"id\":\"3796\",\"type\":\"Line\"}],\"root_ids\":[\"3705\"]},\"title\":\"Bokeh Application\",\"version\":\"2.4.1\"}};\n",
       "    var render_items = [{\"docid\":\"b4dac098-4e03-4dde-9bd8-dd21c1ee03cf\",\"root_ids\":[\"3705\"],\"roots\":{\"3705\":\"0bec891b-061f-49f9-9344-b5f7dbb8bb43\"}}];\n",
       "    root.Bokeh.embed.embed_items_notebook(docs_json, render_items);\n",
       "  }\n",
       "  if (root.Bokeh !== undefined && root.Bokeh.Panel !== undefined) {\n",
       "    embed_document(root);\n",
       "  } else {\n",
       "    var attempts = 0;\n",
       "    var timer = setInterval(function(root) {\n",
       "      if (root.Bokeh !== undefined && root.Bokeh.Panel !== undefined) {\n",
       "        clearInterval(timer);\n",
       "        embed_document(root);\n",
       "      } else if (document.readyState == \"complete\") {\n",
       "        attempts++;\n",
       "        if (attempts > 200) {\n",
       "          clearInterval(timer);\n",
       "          console.log(\"Bokeh: ERROR: Unable to run BokehJS code because BokehJS library is missing\");\n",
       "        }\n",
       "      }\n",
       "    }, 25, root)\n",
       "  }\n",
       "})(window);</script>"
      ],
      "text/plain": [
       ":Overlay\n",
       "   .Curve.Group_hyphen_minus_A :Curve   [DraftYear]   (FT%)\n",
       "   .Curve.Group_hyphen_minus_B :Curve   [DraftYear]   (FT%)\n",
       "   .Curve.Group_hyphen_minus_C :Curve   [DraftYear]   (FT%)"
      ]
     },
     "execution_count": 263,
     "metadata": {
      "application/vnd.holoviews_exec.v0+json": {
       "id": "3705"
      }
     },
     "output_type": "execute_result"
    }
   ],
   "source": [
    "# Overlay all groups free throws percentage 2017-2021\n",
    "group_a_ft_plot*group_b_ft_plot*group_c_ft_plot"
   ]
  },
  {
   "cell_type": "markdown",
   "id": "ac5ee4ba-64d4-43dc-8872-a0858c8983fd",
   "metadata": {},
   "source": [
    "### When looking at MPG, PPG, RPG, and APG graphs, Group A has the best numbers followed by Group B and C, which implies an easy trend to follow; while when it comes to FG%, 3P%, and FT%, Group B and C seems have better numbers, which is hard to discover any trend."
   ]
  },
  {
   "cell_type": "markdown",
   "id": "d9c2bfb3-9de5-4170-b191-9727c08626f9",
   "metadata": {},
   "source": [
    "### Kentucky, Duke, and UNC have highest number of athletes got drafted. However, picks came from these schools are ranking lower each year in the draft"
   ]
  },
  {
   "cell_type": "code",
   "execution_count": null,
   "id": "69be85bd-6624-46b4-a0b2-ed5abc570146",
   "metadata": {},
   "outputs": [],
   "source": []
  },
  {
   "cell_type": "code",
   "execution_count": null,
   "id": "65e78662-78c6-4d4e-b80b-bffac0058f09",
   "metadata": {},
   "outputs": [],
   "source": []
  },
  {
   "cell_type": "code",
   "execution_count": null,
   "id": "2dfa9a8f-1801-49e2-84ce-a6a5948dd5aa",
   "metadata": {},
   "outputs": [],
   "source": []
  },
  {
   "cell_type": "code",
   "execution_count": null,
   "id": "7c524c8b-d1cc-4501-abf6-e99e92f0a5d5",
   "metadata": {},
   "outputs": [],
   "source": []
  },
  {
   "cell_type": "code",
   "execution_count": null,
   "id": "8403f175-eca6-49e0-90dc-27911ad9e301",
   "metadata": {},
   "outputs": [],
   "source": []
  },
  {
   "cell_type": "code",
   "execution_count": null,
   "id": "542f90f6-d8ac-4499-804a-369ca1b091f1",
   "metadata": {},
   "outputs": [],
   "source": []
  },
  {
   "cell_type": "code",
   "execution_count": null,
   "id": "7beb965d-5fdf-4ce7-896e-97c05386e222",
   "metadata": {},
   "outputs": [],
   "source": []
  },
  {
   "cell_type": "code",
   "execution_count": null,
   "id": "fa868cf7-543c-4955-a3d2-dc498c530ea8",
   "metadata": {},
   "outputs": [],
   "source": []
  },
  {
   "cell_type": "code",
   "execution_count": null,
   "id": "03b1f642-50c2-47b7-bf91-d795ef533576",
   "metadata": {},
   "outputs": [],
   "source": []
  },
  {
   "cell_type": "code",
   "execution_count": null,
   "id": "0aebaf86-b7f8-4108-a31a-7c13591ed622",
   "metadata": {},
   "outputs": [],
   "source": []
  },
  {
   "cell_type": "code",
   "execution_count": null,
   "id": "32ae5570-ae95-4fed-92a7-d44894680d68",
   "metadata": {},
   "outputs": [],
   "source": []
  },
  {
   "cell_type": "code",
   "execution_count": null,
   "id": "a34bf146-f18f-4739-9dbb-f4e3d8eb7b55",
   "metadata": {},
   "outputs": [],
   "source": []
  },
  {
   "cell_type": "code",
   "execution_count": null,
   "id": "67e73c97-52ab-45cb-a070-8b891bfc4df9",
   "metadata": {},
   "outputs": [],
   "source": []
  },
  {
   "cell_type": "code",
   "execution_count": null,
   "id": "fea0973a-e567-4579-b114-49131b4a78fd",
   "metadata": {},
   "outputs": [],
   "source": []
  },
  {
   "cell_type": "code",
   "execution_count": null,
   "id": "69983f8a-520c-4699-ac6b-c05575d573fb",
   "metadata": {},
   "outputs": [],
   "source": []
  },
  {
   "cell_type": "code",
   "execution_count": null,
   "id": "50ad30d9-2f46-4941-b44a-cfbc137307c2",
   "metadata": {},
   "outputs": [],
   "source": []
  },
  {
   "cell_type": "code",
   "execution_count": null,
   "id": "5c4c2d62-abc3-4a88-a2d4-706e68a7b46b",
   "metadata": {},
   "outputs": [],
   "source": []
  },
  {
   "cell_type": "code",
   "execution_count": null,
   "id": "f9545708-ed1f-4fb0-9455-ccaecdd938cc",
   "metadata": {},
   "outputs": [],
   "source": []
  },
  {
   "cell_type": "code",
   "execution_count": null,
   "id": "2c451c92-30e7-420d-9d93-ab7b6a282faa",
   "metadata": {},
   "outputs": [],
   "source": []
  },
  {
   "cell_type": "code",
   "execution_count": null,
   "id": "0b8a669c-c320-4d1f-9d51-f19a4710f64d",
   "metadata": {},
   "outputs": [],
   "source": []
  }
 ],
 "metadata": {
  "kernelspec": {
   "display_name": "Python 3 (ipykernel)",
   "language": "python",
   "name": "python3"
  },
  "language_info": {
   "codemirror_mode": {
    "name": "ipython",
    "version": 3
   },
   "file_extension": ".py",
   "mimetype": "text/x-python",
   "name": "python",
   "nbconvert_exporter": "python",
   "pygments_lexer": "ipython3",
   "version": "3.9.7"
  }
 },
 "nbformat": 4,
 "nbformat_minor": 5
}
