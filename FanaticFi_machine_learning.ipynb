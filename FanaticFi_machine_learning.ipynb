{
  "cells": [
    {
      "cell_type": "markdown",
      "metadata": {
        "id": "view-in-github",
        "colab_type": "text"
      },
      "source": [
        "<a href=\"https://colab.research.google.com/github/YanjunLin-Andrie/FanaticFi/blob/main/FanaticFi_machine_learning.ipynb\" target=\"_parent\"><img src=\"https://colab.research.google.com/assets/colab-badge.svg\" alt=\"Open In Colab\"/></a>"
      ]
    },
    {
      "cell_type": "code",
      "execution_count": 2,
      "id": "88acc28f-848d-4881-b818-3e1afc45797a",
      "metadata": {
        "tags": [],
        "id": "88acc28f-848d-4881-b818-3e1afc45797a"
      },
      "outputs": [],
      "source": [
        "# Imports\n",
        "import pandas as pd\n",
        "from pathlib import Path\n",
        "import tensorflow as tf\n",
        "from sklearn import svm\n",
        "import matplotlib.pyplot as plt\n",
        "from tensorflow.keras.layers import Dense\n",
        "from tensorflow.keras.models import Sequential\n",
        "from sklearn.preprocessing import StandardScaler\n",
        "from sklearn.metrics import classification_report\n",
        "from sklearn.model_selection import train_test_split"
      ]
    },
    {
      "cell_type": "code",
      "source": [
        "# Upload cc_default.csv to Colab\n",
        "from google.colab import files\n",
        "\n",
        "csv_file = files.upload()\n",
        "\n",
        "# Load data\n",
        "df = pd.read_csv(Path('2017-2021_Historical_Players_Data.csv'))\n",
        "df.head()"
      ],
      "metadata": {
        "colab": {
          "resources": {
            "http://localhost:8080/nbextensions/google.colab/files.js": {
              "data": "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",
              "ok": true,
              "headers": [
                [
                  "content-type",
                  "application/javascript"
                ]
              ],
              "status": 200,
              "status_text": ""
            }
          },
          "base_uri": "https://localhost:8080/",
          "height": 478
        },
        "id": "AVcgSIC_Aw77",
        "outputId": "311d190a-db5a-4f98-90dc-9c40b1aeefe6"
      },
      "id": "AVcgSIC_Aw77",
      "execution_count": 3,
      "outputs": [
        {
          "output_type": "display_data",
          "data": {
            "text/plain": [
              "<IPython.core.display.HTML object>"
            ],
            "text/html": [
              "\n",
              "     <input type=\"file\" id=\"files-2fc6e02b-88ba-455b-975e-ddededfdad7a\" name=\"files[]\" multiple disabled\n",
              "        style=\"border:none\" />\n",
              "     <output id=\"result-2fc6e02b-88ba-455b-975e-ddededfdad7a\">\n",
              "      Upload widget is only available when the cell has been executed in the\n",
              "      current browser session. Please rerun this cell to enable.\n",
              "      </output>\n",
              "      <script src=\"/nbextensions/google.colab/files.js\"></script> "
            ]
          },
          "metadata": {}
        },
        {
          "output_type": "stream",
          "name": "stdout",
          "text": [
            "Saving 2017-2021_Historical_Players_Data.csv to 2017-2021_Historical_Players_Data.csv\n"
          ]
        },
        {
          "output_type": "execute_result",
          "data": {
            "text/plain": [
              "   DraftYr  Rk  Pk   Tm  Pos              Player       College  \\\n",
              "0     1990   1   1  BRK  NaN     Derrick Coleman      Syracuse   \n",
              "1     1990   2   2  OKC  NaN         Gary Payton  Oregon State   \n",
              "2     1990   3   3  DEN  NaN  Mahmoud Abdul-Rauf           LSU   \n",
              "3     1990   4   4  ORL  NaN        Dennis Scott  Georgia Tech   \n",
              "4     1990   5   5  CHA  NaN        Kendall Gill      Illinois   \n",
              "\n",
              "   Contract Worth   Yrs       G  ...     WS  WS/48  BPM  VORP   MPG   PPG  \\\n",
              "0             NaN  15.0   781.0  ...   64.3  0.119  1.4  22.3  33.2  16.5   \n",
              "1             NaN  17.0  1335.0  ...  145.5  0.148  3.3  62.5  35.3  16.3   \n",
              "2             NaN   9.0   586.0  ...   25.2  0.077 -0.8   4.5  26.7  14.6   \n",
              "3             NaN  10.0   629.0  ...   33.4  0.089  0.2   9.9  28.6  12.9   \n",
              "4             NaN  15.0   966.0  ...   47.8  0.078  0.1  15.8  30.5  13.4   \n",
              "\n",
              "   RPG  APG                                          playerurl  DraftYear  \n",
              "0  9.3  2.5  https://www.sports-reference.com/cbb/players/d...       1990  \n",
              "1  3.9  6.7  https://www.sports-reference.com/cbb/players/g...       1990  \n",
              "2  1.9  3.5  https://www.sports-reference.com/cbb/players/m...       1990  \n",
              "3  2.8  2.1  https://www.sports-reference.com/cbb/players/d...       1990  \n",
              "4  4.1  3.0  https://www.sports-reference.com/cbb/players/k...       1990  \n",
              "\n",
              "[5 rows x 27 columns]"
            ],
            "text/html": [
              "\n",
              "  <div id=\"df-9a0e8a2f-876e-4e2d-b976-a4ae0b3c0dc9\">\n",
              "    <div class=\"colab-df-container\">\n",
              "      <div>\n",
              "<style scoped>\n",
              "    .dataframe tbody tr th:only-of-type {\n",
              "        vertical-align: middle;\n",
              "    }\n",
              "\n",
              "    .dataframe tbody tr th {\n",
              "        vertical-align: top;\n",
              "    }\n",
              "\n",
              "    .dataframe thead th {\n",
              "        text-align: right;\n",
              "    }\n",
              "</style>\n",
              "<table border=\"1\" class=\"dataframe\">\n",
              "  <thead>\n",
              "    <tr style=\"text-align: right;\">\n",
              "      <th></th>\n",
              "      <th>DraftYr</th>\n",
              "      <th>Rk</th>\n",
              "      <th>Pk</th>\n",
              "      <th>Tm</th>\n",
              "      <th>Pos</th>\n",
              "      <th>Player</th>\n",
              "      <th>College</th>\n",
              "      <th>Contract Worth</th>\n",
              "      <th>Yrs</th>\n",
              "      <th>G</th>\n",
              "      <th>...</th>\n",
              "      <th>WS</th>\n",
              "      <th>WS/48</th>\n",
              "      <th>BPM</th>\n",
              "      <th>VORP</th>\n",
              "      <th>MPG</th>\n",
              "      <th>PPG</th>\n",
              "      <th>RPG</th>\n",
              "      <th>APG</th>\n",
              "      <th>playerurl</th>\n",
              "      <th>DraftYear</th>\n",
              "    </tr>\n",
              "  </thead>\n",
              "  <tbody>\n",
              "    <tr>\n",
              "      <th>0</th>\n",
              "      <td>1990</td>\n",
              "      <td>1</td>\n",
              "      <td>1</td>\n",
              "      <td>BRK</td>\n",
              "      <td>NaN</td>\n",
              "      <td>Derrick Coleman</td>\n",
              "      <td>Syracuse</td>\n",
              "      <td>NaN</td>\n",
              "      <td>15.0</td>\n",
              "      <td>781.0</td>\n",
              "      <td>...</td>\n",
              "      <td>64.3</td>\n",
              "      <td>0.119</td>\n",
              "      <td>1.4</td>\n",
              "      <td>22.3</td>\n",
              "      <td>33.2</td>\n",
              "      <td>16.5</td>\n",
              "      <td>9.3</td>\n",
              "      <td>2.5</td>\n",
              "      <td>https://www.sports-reference.com/cbb/players/d...</td>\n",
              "      <td>1990</td>\n",
              "    </tr>\n",
              "    <tr>\n",
              "      <th>1</th>\n",
              "      <td>1990</td>\n",
              "      <td>2</td>\n",
              "      <td>2</td>\n",
              "      <td>OKC</td>\n",
              "      <td>NaN</td>\n",
              "      <td>Gary Payton</td>\n",
              "      <td>Oregon State</td>\n",
              "      <td>NaN</td>\n",
              "      <td>17.0</td>\n",
              "      <td>1335.0</td>\n",
              "      <td>...</td>\n",
              "      <td>145.5</td>\n",
              "      <td>0.148</td>\n",
              "      <td>3.3</td>\n",
              "      <td>62.5</td>\n",
              "      <td>35.3</td>\n",
              "      <td>16.3</td>\n",
              "      <td>3.9</td>\n",
              "      <td>6.7</td>\n",
              "      <td>https://www.sports-reference.com/cbb/players/g...</td>\n",
              "      <td>1990</td>\n",
              "    </tr>\n",
              "    <tr>\n",
              "      <th>2</th>\n",
              "      <td>1990</td>\n",
              "      <td>3</td>\n",
              "      <td>3</td>\n",
              "      <td>DEN</td>\n",
              "      <td>NaN</td>\n",
              "      <td>Mahmoud Abdul-Rauf</td>\n",
              "      <td>LSU</td>\n",
              "      <td>NaN</td>\n",
              "      <td>9.0</td>\n",
              "      <td>586.0</td>\n",
              "      <td>...</td>\n",
              "      <td>25.2</td>\n",
              "      <td>0.077</td>\n",
              "      <td>-0.8</td>\n",
              "      <td>4.5</td>\n",
              "      <td>26.7</td>\n",
              "      <td>14.6</td>\n",
              "      <td>1.9</td>\n",
              "      <td>3.5</td>\n",
              "      <td>https://www.sports-reference.com/cbb/players/m...</td>\n",
              "      <td>1990</td>\n",
              "    </tr>\n",
              "    <tr>\n",
              "      <th>3</th>\n",
              "      <td>1990</td>\n",
              "      <td>4</td>\n",
              "      <td>4</td>\n",
              "      <td>ORL</td>\n",
              "      <td>NaN</td>\n",
              "      <td>Dennis Scott</td>\n",
              "      <td>Georgia Tech</td>\n",
              "      <td>NaN</td>\n",
              "      <td>10.0</td>\n",
              "      <td>629.0</td>\n",
              "      <td>...</td>\n",
              "      <td>33.4</td>\n",
              "      <td>0.089</td>\n",
              "      <td>0.2</td>\n",
              "      <td>9.9</td>\n",
              "      <td>28.6</td>\n",
              "      <td>12.9</td>\n",
              "      <td>2.8</td>\n",
              "      <td>2.1</td>\n",
              "      <td>https://www.sports-reference.com/cbb/players/d...</td>\n",
              "      <td>1990</td>\n",
              "    </tr>\n",
              "    <tr>\n",
              "      <th>4</th>\n",
              "      <td>1990</td>\n",
              "      <td>5</td>\n",
              "      <td>5</td>\n",
              "      <td>CHA</td>\n",
              "      <td>NaN</td>\n",
              "      <td>Kendall Gill</td>\n",
              "      <td>Illinois</td>\n",
              "      <td>NaN</td>\n",
              "      <td>15.0</td>\n",
              "      <td>966.0</td>\n",
              "      <td>...</td>\n",
              "      <td>47.8</td>\n",
              "      <td>0.078</td>\n",
              "      <td>0.1</td>\n",
              "      <td>15.8</td>\n",
              "      <td>30.5</td>\n",
              "      <td>13.4</td>\n",
              "      <td>4.1</td>\n",
              "      <td>3.0</td>\n",
              "      <td>https://www.sports-reference.com/cbb/players/k...</td>\n",
              "      <td>1990</td>\n",
              "    </tr>\n",
              "  </tbody>\n",
              "</table>\n",
              "<p>5 rows × 27 columns</p>\n",
              "</div>\n",
              "      <button class=\"colab-df-convert\" onclick=\"convertToInteractive('df-9a0e8a2f-876e-4e2d-b976-a4ae0b3c0dc9')\"\n",
              "              title=\"Convert this dataframe to an interactive table.\"\n",
              "              style=\"display:none;\">\n",
              "        \n",
              "  <svg xmlns=\"http://www.w3.org/2000/svg\" height=\"24px\"viewBox=\"0 0 24 24\"\n",
              "       width=\"24px\">\n",
              "    <path d=\"M0 0h24v24H0V0z\" fill=\"none\"/>\n",
              "    <path d=\"M18.56 5.44l.94 2.06.94-2.06 2.06-.94-2.06-.94-.94-2.06-.94 2.06-2.06.94zm-11 1L8.5 8.5l.94-2.06 2.06-.94-2.06-.94L8.5 2.5l-.94 2.06-2.06.94zm10 10l.94 2.06.94-2.06 2.06-.94-2.06-.94-.94-2.06-.94 2.06-2.06.94z\"/><path d=\"M17.41 7.96l-1.37-1.37c-.4-.4-.92-.59-1.43-.59-.52 0-1.04.2-1.43.59L10.3 9.45l-7.72 7.72c-.78.78-.78 2.05 0 2.83L4 21.41c.39.39.9.59 1.41.59.51 0 1.02-.2 1.41-.59l7.78-7.78 2.81-2.81c.8-.78.8-2.07 0-2.86zM5.41 20L4 18.59l7.72-7.72 1.47 1.35L5.41 20z\"/>\n",
              "  </svg>\n",
              "      </button>\n",
              "      \n",
              "  <style>\n",
              "    .colab-df-container {\n",
              "      display:flex;\n",
              "      flex-wrap:wrap;\n",
              "      gap: 12px;\n",
              "    }\n",
              "\n",
              "    .colab-df-convert {\n",
              "      background-color: #E8F0FE;\n",
              "      border: none;\n",
              "      border-radius: 50%;\n",
              "      cursor: pointer;\n",
              "      display: none;\n",
              "      fill: #1967D2;\n",
              "      height: 32px;\n",
              "      padding: 0 0 0 0;\n",
              "      width: 32px;\n",
              "    }\n",
              "\n",
              "    .colab-df-convert:hover {\n",
              "      background-color: #E2EBFA;\n",
              "      box-shadow: 0px 1px 2px rgba(60, 64, 67, 0.3), 0px 1px 3px 1px rgba(60, 64, 67, 0.15);\n",
              "      fill: #174EA6;\n",
              "    }\n",
              "\n",
              "    [theme=dark] .colab-df-convert {\n",
              "      background-color: #3B4455;\n",
              "      fill: #D2E3FC;\n",
              "    }\n",
              "\n",
              "    [theme=dark] .colab-df-convert:hover {\n",
              "      background-color: #434B5C;\n",
              "      box-shadow: 0px 1px 3px 1px rgba(0, 0, 0, 0.15);\n",
              "      filter: drop-shadow(0px 1px 2px rgba(0, 0, 0, 0.3));\n",
              "      fill: #FFFFFF;\n",
              "    }\n",
              "  </style>\n",
              "\n",
              "      <script>\n",
              "        const buttonEl =\n",
              "          document.querySelector('#df-9a0e8a2f-876e-4e2d-b976-a4ae0b3c0dc9 button.colab-df-convert');\n",
              "        buttonEl.style.display =\n",
              "          google.colab.kernel.accessAllowed ? 'block' : 'none';\n",
              "\n",
              "        async function convertToInteractive(key) {\n",
              "          const element = document.querySelector('#df-9a0e8a2f-876e-4e2d-b976-a4ae0b3c0dc9');\n",
              "          const dataTable =\n",
              "            await google.colab.kernel.invokeFunction('convertToInteractive',\n",
              "                                                     [key], {});\n",
              "          if (!dataTable) return;\n",
              "\n",
              "          const docLinkHtml = 'Like what you see? Visit the ' +\n",
              "            '<a target=\"_blank\" href=https://colab.research.google.com/notebooks/data_table.ipynb>data table notebook</a>'\n",
              "            + ' to learn more about interactive tables.';\n",
              "          element.innerHTML = '';\n",
              "          dataTable['output_type'] = 'display_data';\n",
              "          await google.colab.output.renderOutput(dataTable, element);\n",
              "          const docLink = document.createElement('div');\n",
              "          docLink.innerHTML = docLinkHtml;\n",
              "          element.appendChild(docLink);\n",
              "        }\n",
              "      </script>\n",
              "    </div>\n",
              "  </div>\n",
              "  "
            ]
          },
          "metadata": {},
          "execution_count": 3
        }
      ]
    },
    {
      "cell_type": "code",
      "execution_count": 4,
      "id": "095c33a2-0be4-44a3-b6b5-2d5daf25365e",
      "metadata": {
        "colab": {
          "base_uri": "https://localhost:8080/",
          "height": 424
        },
        "id": "095c33a2-0be4-44a3-b6b5-2d5daf25365e",
        "outputId": "bf19fff6-1b46-45b8-b382-dad81f426cdd"
      },
      "outputs": [
        {
          "output_type": "execute_result",
          "data": {
            "text/plain": [
              "      Rk       G    TOTMP   TOTPTS  TOTTRB  TOTAST    FG%    3P%    FT%  \\\n",
              "0      1   781.0  25903.0  12884.0  7232.0  1985.0  0.447  0.295  0.769   \n",
              "1      2  1335.0  47117.0  21813.0  5269.0  8966.0  0.466  0.317  0.729   \n",
              "2      3   586.0  15628.0   8553.0  1087.0  2079.0  0.442  0.354  0.905   \n",
              "3      4   629.0  17983.0   8094.0  1774.0  1296.0  0.417  0.397  0.793   \n",
              "4      5   966.0  29481.0  12914.0  4002.0  2945.0  0.434  0.300  0.754   \n",
              "...   ..     ...      ...      ...     ...     ...    ...    ...    ...   \n",
              "1863  56     2.0      7.0      1.0     0.0     1.0  0.000  0.000  0.500   \n",
              "1864  57     0.0      0.0      0.0     0.0     0.0  0.000  0.000  0.000   \n",
              "1865  58    18.0    117.0     19.0    27.0     1.0  0.727  0.000  0.750   \n",
              "1866  59     0.0      0.0      0.0     0.0     0.0  0.000  0.000  0.000   \n",
              "1867  60     9.0     48.0     16.0     8.0     0.0  0.455  0.500  0.444   \n",
              "\n",
              "         WS  WS/48  BPM  VORP   MPG   PPG  RPG  APG  \n",
              "0      64.3  0.119  1.4  22.3  33.2  16.5  9.3  2.5  \n",
              "1     145.5  0.148  3.3  62.5  35.3  16.3  3.9  6.7  \n",
              "2      25.2  0.077 -0.8   4.5  26.7  14.6  1.9  3.5  \n",
              "3      33.4  0.089  0.2   9.9  28.6  12.9  2.8  2.1  \n",
              "4      47.8  0.078  0.1  15.8  30.5  13.4  4.1  3.0  \n",
              "...     ...    ...  ...   ...   ...   ...  ...  ...  \n",
              "1863    0.0  0.164  6.1   0.0   3.5   0.5  0.0  0.5  \n",
              "1864    0.0  0.000  0.0   0.0   0.0   0.0  0.0  0.0  \n",
              "1865    0.4  0.145 -0.6   0.0   6.5   1.1  1.5  0.1  \n",
              "1866    0.0  0.000  0.0   0.0   0.0   0.0  0.0  0.0  \n",
              "1867    0.0 -0.005 -8.0  -0.1   5.3   1.8  0.9  0.0  \n",
              "\n",
              "[1868 rows x 17 columns]"
            ],
            "text/html": [
              "\n",
              "  <div id=\"df-0b3bfb0b-fcfd-4189-b15e-f8689452390e\">\n",
              "    <div class=\"colab-df-container\">\n",
              "      <div>\n",
              "<style scoped>\n",
              "    .dataframe tbody tr th:only-of-type {\n",
              "        vertical-align: middle;\n",
              "    }\n",
              "\n",
              "    .dataframe tbody tr th {\n",
              "        vertical-align: top;\n",
              "    }\n",
              "\n",
              "    .dataframe thead th {\n",
              "        text-align: right;\n",
              "    }\n",
              "</style>\n",
              "<table border=\"1\" class=\"dataframe\">\n",
              "  <thead>\n",
              "    <tr style=\"text-align: right;\">\n",
              "      <th></th>\n",
              "      <th>Rk</th>\n",
              "      <th>G</th>\n",
              "      <th>TOTMP</th>\n",
              "      <th>TOTPTS</th>\n",
              "      <th>TOTTRB</th>\n",
              "      <th>TOTAST</th>\n",
              "      <th>FG%</th>\n",
              "      <th>3P%</th>\n",
              "      <th>FT%</th>\n",
              "      <th>WS</th>\n",
              "      <th>WS/48</th>\n",
              "      <th>BPM</th>\n",
              "      <th>VORP</th>\n",
              "      <th>MPG</th>\n",
              "      <th>PPG</th>\n",
              "      <th>RPG</th>\n",
              "      <th>APG</th>\n",
              "    </tr>\n",
              "  </thead>\n",
              "  <tbody>\n",
              "    <tr>\n",
              "      <th>0</th>\n",
              "      <td>1</td>\n",
              "      <td>781.0</td>\n",
              "      <td>25903.0</td>\n",
              "      <td>12884.0</td>\n",
              "      <td>7232.0</td>\n",
              "      <td>1985.0</td>\n",
              "      <td>0.447</td>\n",
              "      <td>0.295</td>\n",
              "      <td>0.769</td>\n",
              "      <td>64.3</td>\n",
              "      <td>0.119</td>\n",
              "      <td>1.4</td>\n",
              "      <td>22.3</td>\n",
              "      <td>33.2</td>\n",
              "      <td>16.5</td>\n",
              "      <td>9.3</td>\n",
              "      <td>2.5</td>\n",
              "    </tr>\n",
              "    <tr>\n",
              "      <th>1</th>\n",
              "      <td>2</td>\n",
              "      <td>1335.0</td>\n",
              "      <td>47117.0</td>\n",
              "      <td>21813.0</td>\n",
              "      <td>5269.0</td>\n",
              "      <td>8966.0</td>\n",
              "      <td>0.466</td>\n",
              "      <td>0.317</td>\n",
              "      <td>0.729</td>\n",
              "      <td>145.5</td>\n",
              "      <td>0.148</td>\n",
              "      <td>3.3</td>\n",
              "      <td>62.5</td>\n",
              "      <td>35.3</td>\n",
              "      <td>16.3</td>\n",
              "      <td>3.9</td>\n",
              "      <td>6.7</td>\n",
              "    </tr>\n",
              "    <tr>\n",
              "      <th>2</th>\n",
              "      <td>3</td>\n",
              "      <td>586.0</td>\n",
              "      <td>15628.0</td>\n",
              "      <td>8553.0</td>\n",
              "      <td>1087.0</td>\n",
              "      <td>2079.0</td>\n",
              "      <td>0.442</td>\n",
              "      <td>0.354</td>\n",
              "      <td>0.905</td>\n",
              "      <td>25.2</td>\n",
              "      <td>0.077</td>\n",
              "      <td>-0.8</td>\n",
              "      <td>4.5</td>\n",
              "      <td>26.7</td>\n",
              "      <td>14.6</td>\n",
              "      <td>1.9</td>\n",
              "      <td>3.5</td>\n",
              "    </tr>\n",
              "    <tr>\n",
              "      <th>3</th>\n",
              "      <td>4</td>\n",
              "      <td>629.0</td>\n",
              "      <td>17983.0</td>\n",
              "      <td>8094.0</td>\n",
              "      <td>1774.0</td>\n",
              "      <td>1296.0</td>\n",
              "      <td>0.417</td>\n",
              "      <td>0.397</td>\n",
              "      <td>0.793</td>\n",
              "      <td>33.4</td>\n",
              "      <td>0.089</td>\n",
              "      <td>0.2</td>\n",
              "      <td>9.9</td>\n",
              "      <td>28.6</td>\n",
              "      <td>12.9</td>\n",
              "      <td>2.8</td>\n",
              "      <td>2.1</td>\n",
              "    </tr>\n",
              "    <tr>\n",
              "      <th>4</th>\n",
              "      <td>5</td>\n",
              "      <td>966.0</td>\n",
              "      <td>29481.0</td>\n",
              "      <td>12914.0</td>\n",
              "      <td>4002.0</td>\n",
              "      <td>2945.0</td>\n",
              "      <td>0.434</td>\n",
              "      <td>0.300</td>\n",
              "      <td>0.754</td>\n",
              "      <td>47.8</td>\n",
              "      <td>0.078</td>\n",
              "      <td>0.1</td>\n",
              "      <td>15.8</td>\n",
              "      <td>30.5</td>\n",
              "      <td>13.4</td>\n",
              "      <td>4.1</td>\n",
              "      <td>3.0</td>\n",
              "    </tr>\n",
              "    <tr>\n",
              "      <th>...</th>\n",
              "      <td>...</td>\n",
              "      <td>...</td>\n",
              "      <td>...</td>\n",
              "      <td>...</td>\n",
              "      <td>...</td>\n",
              "      <td>...</td>\n",
              "      <td>...</td>\n",
              "      <td>...</td>\n",
              "      <td>...</td>\n",
              "      <td>...</td>\n",
              "      <td>...</td>\n",
              "      <td>...</td>\n",
              "      <td>...</td>\n",
              "      <td>...</td>\n",
              "      <td>...</td>\n",
              "      <td>...</td>\n",
              "      <td>...</td>\n",
              "    </tr>\n",
              "    <tr>\n",
              "      <th>1863</th>\n",
              "      <td>56</td>\n",
              "      <td>2.0</td>\n",
              "      <td>7.0</td>\n",
              "      <td>1.0</td>\n",
              "      <td>0.0</td>\n",
              "      <td>1.0</td>\n",
              "      <td>0.000</td>\n",
              "      <td>0.000</td>\n",
              "      <td>0.500</td>\n",
              "      <td>0.0</td>\n",
              "      <td>0.164</td>\n",
              "      <td>6.1</td>\n",
              "      <td>0.0</td>\n",
              "      <td>3.5</td>\n",
              "      <td>0.5</td>\n",
              "      <td>0.0</td>\n",
              "      <td>0.5</td>\n",
              "    </tr>\n",
              "    <tr>\n",
              "      <th>1864</th>\n",
              "      <td>57</td>\n",
              "      <td>0.0</td>\n",
              "      <td>0.0</td>\n",
              "      <td>0.0</td>\n",
              "      <td>0.0</td>\n",
              "      <td>0.0</td>\n",
              "      <td>0.000</td>\n",
              "      <td>0.000</td>\n",
              "      <td>0.000</td>\n",
              "      <td>0.0</td>\n",
              "      <td>0.000</td>\n",
              "      <td>0.0</td>\n",
              "      <td>0.0</td>\n",
              "      <td>0.0</td>\n",
              "      <td>0.0</td>\n",
              "      <td>0.0</td>\n",
              "      <td>0.0</td>\n",
              "    </tr>\n",
              "    <tr>\n",
              "      <th>1865</th>\n",
              "      <td>58</td>\n",
              "      <td>18.0</td>\n",
              "      <td>117.0</td>\n",
              "      <td>19.0</td>\n",
              "      <td>27.0</td>\n",
              "      <td>1.0</td>\n",
              "      <td>0.727</td>\n",
              "      <td>0.000</td>\n",
              "      <td>0.750</td>\n",
              "      <td>0.4</td>\n",
              "      <td>0.145</td>\n",
              "      <td>-0.6</td>\n",
              "      <td>0.0</td>\n",
              "      <td>6.5</td>\n",
              "      <td>1.1</td>\n",
              "      <td>1.5</td>\n",
              "      <td>0.1</td>\n",
              "    </tr>\n",
              "    <tr>\n",
              "      <th>1866</th>\n",
              "      <td>59</td>\n",
              "      <td>0.0</td>\n",
              "      <td>0.0</td>\n",
              "      <td>0.0</td>\n",
              "      <td>0.0</td>\n",
              "      <td>0.0</td>\n",
              "      <td>0.000</td>\n",
              "      <td>0.000</td>\n",
              "      <td>0.000</td>\n",
              "      <td>0.0</td>\n",
              "      <td>0.000</td>\n",
              "      <td>0.0</td>\n",
              "      <td>0.0</td>\n",
              "      <td>0.0</td>\n",
              "      <td>0.0</td>\n",
              "      <td>0.0</td>\n",
              "      <td>0.0</td>\n",
              "    </tr>\n",
              "    <tr>\n",
              "      <th>1867</th>\n",
              "      <td>60</td>\n",
              "      <td>9.0</td>\n",
              "      <td>48.0</td>\n",
              "      <td>16.0</td>\n",
              "      <td>8.0</td>\n",
              "      <td>0.0</td>\n",
              "      <td>0.455</td>\n",
              "      <td>0.500</td>\n",
              "      <td>0.444</td>\n",
              "      <td>0.0</td>\n",
              "      <td>-0.005</td>\n",
              "      <td>-8.0</td>\n",
              "      <td>-0.1</td>\n",
              "      <td>5.3</td>\n",
              "      <td>1.8</td>\n",
              "      <td>0.9</td>\n",
              "      <td>0.0</td>\n",
              "    </tr>\n",
              "  </tbody>\n",
              "</table>\n",
              "<p>1868 rows × 17 columns</p>\n",
              "</div>\n",
              "      <button class=\"colab-df-convert\" onclick=\"convertToInteractive('df-0b3bfb0b-fcfd-4189-b15e-f8689452390e')\"\n",
              "              title=\"Convert this dataframe to an interactive table.\"\n",
              "              style=\"display:none;\">\n",
              "        \n",
              "  <svg xmlns=\"http://www.w3.org/2000/svg\" height=\"24px\"viewBox=\"0 0 24 24\"\n",
              "       width=\"24px\">\n",
              "    <path d=\"M0 0h24v24H0V0z\" fill=\"none\"/>\n",
              "    <path d=\"M18.56 5.44l.94 2.06.94-2.06 2.06-.94-2.06-.94-.94-2.06-.94 2.06-2.06.94zm-11 1L8.5 8.5l.94-2.06 2.06-.94-2.06-.94L8.5 2.5l-.94 2.06-2.06.94zm10 10l.94 2.06.94-2.06 2.06-.94-2.06-.94-.94-2.06-.94 2.06-2.06.94z\"/><path d=\"M17.41 7.96l-1.37-1.37c-.4-.4-.92-.59-1.43-.59-.52 0-1.04.2-1.43.59L10.3 9.45l-7.72 7.72c-.78.78-.78 2.05 0 2.83L4 21.41c.39.39.9.59 1.41.59.51 0 1.02-.2 1.41-.59l7.78-7.78 2.81-2.81c.8-.78.8-2.07 0-2.86zM5.41 20L4 18.59l7.72-7.72 1.47 1.35L5.41 20z\"/>\n",
              "  </svg>\n",
              "      </button>\n",
              "      \n",
              "  <style>\n",
              "    .colab-df-container {\n",
              "      display:flex;\n",
              "      flex-wrap:wrap;\n",
              "      gap: 12px;\n",
              "    }\n",
              "\n",
              "    .colab-df-convert {\n",
              "      background-color: #E8F0FE;\n",
              "      border: none;\n",
              "      border-radius: 50%;\n",
              "      cursor: pointer;\n",
              "      display: none;\n",
              "      fill: #1967D2;\n",
              "      height: 32px;\n",
              "      padding: 0 0 0 0;\n",
              "      width: 32px;\n",
              "    }\n",
              "\n",
              "    .colab-df-convert:hover {\n",
              "      background-color: #E2EBFA;\n",
              "      box-shadow: 0px 1px 2px rgba(60, 64, 67, 0.3), 0px 1px 3px 1px rgba(60, 64, 67, 0.15);\n",
              "      fill: #174EA6;\n",
              "    }\n",
              "\n",
              "    [theme=dark] .colab-df-convert {\n",
              "      background-color: #3B4455;\n",
              "      fill: #D2E3FC;\n",
              "    }\n",
              "\n",
              "    [theme=dark] .colab-df-convert:hover {\n",
              "      background-color: #434B5C;\n",
              "      box-shadow: 0px 1px 3px 1px rgba(0, 0, 0, 0.15);\n",
              "      filter: drop-shadow(0px 1px 2px rgba(0, 0, 0, 0.3));\n",
              "      fill: #FFFFFF;\n",
              "    }\n",
              "  </style>\n",
              "\n",
              "      <script>\n",
              "        const buttonEl =\n",
              "          document.querySelector('#df-0b3bfb0b-fcfd-4189-b15e-f8689452390e button.colab-df-convert');\n",
              "        buttonEl.style.display =\n",
              "          google.colab.kernel.accessAllowed ? 'block' : 'none';\n",
              "\n",
              "        async function convertToInteractive(key) {\n",
              "          const element = document.querySelector('#df-0b3bfb0b-fcfd-4189-b15e-f8689452390e');\n",
              "          const dataTable =\n",
              "            await google.colab.kernel.invokeFunction('convertToInteractive',\n",
              "                                                     [key], {});\n",
              "          if (!dataTable) return;\n",
              "\n",
              "          const docLinkHtml = 'Like what you see? Visit the ' +\n",
              "            '<a target=\"_blank\" href=https://colab.research.google.com/notebooks/data_table.ipynb>data table notebook</a>'\n",
              "            + ' to learn more about interactive tables.';\n",
              "          element.innerHTML = '';\n",
              "          dataTable['output_type'] = 'display_data';\n",
              "          await google.colab.output.renderOutput(dataTable, element);\n",
              "          const docLink = document.createElement('div');\n",
              "          docLink.innerHTML = docLinkHtml;\n",
              "          element.appendChild(docLink);\n",
              "        }\n",
              "      </script>\n",
              "    </div>\n",
              "  </div>\n",
              "  "
            ]
          },
          "metadata": {},
          "execution_count": 4
        }
      ],
      "source": [
        "# Drop irrelevant columns\n",
        "\n",
        "df = df.drop(columns = ['DraftYr','Pk','Tm','Player','College','Contract Worth','Yrs','playerurl','DraftYear','Pos']).fillna(0)\n",
        "df"
      ]
    },
    {
      "cell_type": "code",
      "execution_count": 5,
      "id": "0657910b-08bd-4709-9d8d-4d99871f9779",
      "metadata": {
        "colab": {
          "base_uri": "https://localhost:8080/",
          "height": 656
        },
        "id": "0657910b-08bd-4709-9d8d-4d99871f9779",
        "outputId": "b10150db-8dbe-474c-d627-f587899be99e"
      },
      "outputs": [
        {
          "output_type": "execute_result",
          "data": {
            "text/plain": [
              "array([[<matplotlib.axes._subplots.AxesSubplot object at 0x7fdc02373710>,\n",
              "        <matplotlib.axes._subplots.AxesSubplot object at 0x7fdc02356d90>,\n",
              "        <matplotlib.axes._subplots.AxesSubplot object at 0x7fdc0231e3d0>,\n",
              "        <matplotlib.axes._subplots.AxesSubplot object at 0x7fdc022d69d0>],\n",
              "       [<matplotlib.axes._subplots.AxesSubplot object at 0x7fdc02281b10>,\n",
              "        <matplotlib.axes._subplots.AxesSubplot object at 0x7fdc0224e610>,\n",
              "        <matplotlib.axes._subplots.AxesSubplot object at 0x7fdc02206c90>,\n",
              "        <matplotlib.axes._subplots.AxesSubplot object at 0x7fdc021c91d0>],\n",
              "       [<matplotlib.axes._subplots.AxesSubplot object at 0x7fdc021c9210>,\n",
              "        <matplotlib.axes._subplots.AxesSubplot object at 0x7fdc0217d910>,\n",
              "        <matplotlib.axes._subplots.AxesSubplot object at 0x7fdc020f8450>,\n",
              "        <matplotlib.axes._subplots.AxesSubplot object at 0x7fdc020ada50>],\n",
              "       [<matplotlib.axes._subplots.AxesSubplot object at 0x7fdc020dab90>,\n",
              "        <matplotlib.axes._subplots.AxesSubplot object at 0x7fdc0202a890>,\n",
              "        <matplotlib.axes._subplots.AxesSubplot object at 0x7fdc0205ee90>,\n",
              "        <matplotlib.axes._subplots.AxesSubplot object at 0x7fdc020204d0>],\n",
              "       [<matplotlib.axes._subplots.AxesSubplot object at 0x7fdc01fd7ad0>,\n",
              "        <matplotlib.axes._subplots.AxesSubplot object at 0x7fdc01f9a110>,\n",
              "        <matplotlib.axes._subplots.AxesSubplot object at 0x7fdc01f52710>,\n",
              "        <matplotlib.axes._subplots.AxesSubplot object at 0x7fdc01f09d10>]],\n",
              "      dtype=object)"
            ]
          },
          "metadata": {},
          "execution_count": 5
        },
        {
          "output_type": "display_data",
          "data": {
            "text/plain": [
              "<Figure size 432x288 with 20 Axes>"
            ],
            "image/png": "[encoded data removed]"
          },
          "metadata": {
            "needs_background": "light"
          }
        }
      ],
      "source": [
        "# Check data distribution of all aspects\n",
        "df.hist()"
      ]
    },
    {
      "cell_type": "code",
      "execution_count": 6,
      "id": "698f8f37-4223-4770-baf0-a4e6b9b782d9",
      "metadata": {
        "colab": {
          "base_uri": "https://localhost:8080/",
          "height": 206
        },
        "id": "698f8f37-4223-4770-baf0-a4e6b9b782d9",
        "outputId": "86de7c14-5657-4555-bca2-382fa1fd8e5c"
      },
      "outputs": [
        {
          "output_type": "execute_result",
          "data": {
            "text/plain": [
              "   Rk       G    TOTMP   TOTPTS  TOTTRB  TOTAST    FG%    3P%    FT%     WS  \\\n",
              "0   1   781.0  25903.0  12884.0  7232.0  1985.0  0.447  0.295  0.769   64.3   \n",
              "1   2  1335.0  47117.0  21813.0  5269.0  8966.0  0.466  0.317  0.729  145.5   \n",
              "2   3   586.0  15628.0   8553.0  1087.0  2079.0  0.442  0.354  0.905   25.2   \n",
              "3   4   629.0  17983.0   8094.0  1774.0  1296.0  0.417  0.397  0.793   33.4   \n",
              "4   5   966.0  29481.0  12914.0  4002.0  2945.0  0.434  0.300  0.754   47.8   \n",
              "\n",
              "   WS/48  BPM  VORP   MPG   PPG  RPG  APG  Group  \n",
              "0  0.119  1.4  22.3  33.2  16.5  9.3  2.5      0  \n",
              "1  0.148  3.3  62.5  35.3  16.3  3.9  6.7      0  \n",
              "2  0.077 -0.8   4.5  26.7  14.6  1.9  3.5      0  \n",
              "3  0.089  0.2   9.9  28.6  12.9  2.8  2.1      0  \n",
              "4  0.078  0.1  15.8  30.5  13.4  4.1  3.0      0  "
            ],
            "text/html": [
              "\n",
              "  <div id=\"df-8f9d3972-ca97-4201-acb7-55dbc6547220\">\n",
              "    <div class=\"colab-df-container\">\n",
              "      <div>\n",
              "<style scoped>\n",
              "    .dataframe tbody tr th:only-of-type {\n",
              "        vertical-align: middle;\n",
              "    }\n",
              "\n",
              "    .dataframe tbody tr th {\n",
              "        vertical-align: top;\n",
              "    }\n",
              "\n",
              "    .dataframe thead th {\n",
              "        text-align: right;\n",
              "    }\n",
              "</style>\n",
              "<table border=\"1\" class=\"dataframe\">\n",
              "  <thead>\n",
              "    <tr style=\"text-align: right;\">\n",
              "      <th></th>\n",
              "      <th>Rk</th>\n",
              "      <th>G</th>\n",
              "      <th>TOTMP</th>\n",
              "      <th>TOTPTS</th>\n",
              "      <th>TOTTRB</th>\n",
              "      <th>TOTAST</th>\n",
              "      <th>FG%</th>\n",
              "      <th>3P%</th>\n",
              "      <th>FT%</th>\n",
              "      <th>WS</th>\n",
              "      <th>WS/48</th>\n",
              "      <th>BPM</th>\n",
              "      <th>VORP</th>\n",
              "      <th>MPG</th>\n",
              "      <th>PPG</th>\n",
              "      <th>RPG</th>\n",
              "      <th>APG</th>\n",
              "      <th>Group</th>\n",
              "    </tr>\n",
              "  </thead>\n",
              "  <tbody>\n",
              "    <tr>\n",
              "      <th>0</th>\n",
              "      <td>1</td>\n",
              "      <td>781.0</td>\n",
              "      <td>25903.0</td>\n",
              "      <td>12884.0</td>\n",
              "      <td>7232.0</td>\n",
              "      <td>1985.0</td>\n",
              "      <td>0.447</td>\n",
              "      <td>0.295</td>\n",
              "      <td>0.769</td>\n",
              "      <td>64.3</td>\n",
              "      <td>0.119</td>\n",
              "      <td>1.4</td>\n",
              "      <td>22.3</td>\n",
              "      <td>33.2</td>\n",
              "      <td>16.5</td>\n",
              "      <td>9.3</td>\n",
              "      <td>2.5</td>\n",
              "      <td>0</td>\n",
              "    </tr>\n",
              "    <tr>\n",
              "      <th>1</th>\n",
              "      <td>2</td>\n",
              "      <td>1335.0</td>\n",
              "      <td>47117.0</td>\n",
              "      <td>21813.0</td>\n",
              "      <td>5269.0</td>\n",
              "      <td>8966.0</td>\n",
              "      <td>0.466</td>\n",
              "      <td>0.317</td>\n",
              "      <td>0.729</td>\n",
              "      <td>145.5</td>\n",
              "      <td>0.148</td>\n",
              "      <td>3.3</td>\n",
              "      <td>62.5</td>\n",
              "      <td>35.3</td>\n",
              "      <td>16.3</td>\n",
              "      <td>3.9</td>\n",
              "      <td>6.7</td>\n",
              "      <td>0</td>\n",
              "    </tr>\n",
              "    <tr>\n",
              "      <th>2</th>\n",
              "      <td>3</td>\n",
              "      <td>586.0</td>\n",
              "      <td>15628.0</td>\n",
              "      <td>8553.0</td>\n",
              "      <td>1087.0</td>\n",
              "      <td>2079.0</td>\n",
              "      <td>0.442</td>\n",
              "      <td>0.354</td>\n",
              "      <td>0.905</td>\n",
              "      <td>25.2</td>\n",
              "      <td>0.077</td>\n",
              "      <td>-0.8</td>\n",
              "      <td>4.5</td>\n",
              "      <td>26.7</td>\n",
              "      <td>14.6</td>\n",
              "      <td>1.9</td>\n",
              "      <td>3.5</td>\n",
              "      <td>0</td>\n",
              "    </tr>\n",
              "    <tr>\n",
              "      <th>3</th>\n",
              "      <td>4</td>\n",
              "      <td>629.0</td>\n",
              "      <td>17983.0</td>\n",
              "      <td>8094.0</td>\n",
              "      <td>1774.0</td>\n",
              "      <td>1296.0</td>\n",
              "      <td>0.417</td>\n",
              "      <td>0.397</td>\n",
              "      <td>0.793</td>\n",
              "      <td>33.4</td>\n",
              "      <td>0.089</td>\n",
              "      <td>0.2</td>\n",
              "      <td>9.9</td>\n",
              "      <td>28.6</td>\n",
              "      <td>12.9</td>\n",
              "      <td>2.8</td>\n",
              "      <td>2.1</td>\n",
              "      <td>0</td>\n",
              "    </tr>\n",
              "    <tr>\n",
              "      <th>4</th>\n",
              "      <td>5</td>\n",
              "      <td>966.0</td>\n",
              "      <td>29481.0</td>\n",
              "      <td>12914.0</td>\n",
              "      <td>4002.0</td>\n",
              "      <td>2945.0</td>\n",
              "      <td>0.434</td>\n",
              "      <td>0.300</td>\n",
              "      <td>0.754</td>\n",
              "      <td>47.8</td>\n",
              "      <td>0.078</td>\n",
              "      <td>0.1</td>\n",
              "      <td>15.8</td>\n",
              "      <td>30.5</td>\n",
              "      <td>13.4</td>\n",
              "      <td>4.1</td>\n",
              "      <td>3.0</td>\n",
              "      <td>0</td>\n",
              "    </tr>\n",
              "  </tbody>\n",
              "</table>\n",
              "</div>\n",
              "      <button class=\"colab-df-convert\" onclick=\"convertToInteractive('df-8f9d3972-ca97-4201-acb7-55dbc6547220')\"\n",
              "              title=\"Convert this dataframe to an interactive table.\"\n",
              "              style=\"display:none;\">\n",
              "        \n",
              "  <svg xmlns=\"http://www.w3.org/2000/svg\" height=\"24px\"viewBox=\"0 0 24 24\"\n",
              "       width=\"24px\">\n",
              "    <path d=\"M0 0h24v24H0V0z\" fill=\"none\"/>\n",
              "    <path d=\"M18.56 5.44l.94 2.06.94-2.06 2.06-.94-2.06-.94-.94-2.06-.94 2.06-2.06.94zm-11 1L8.5 8.5l.94-2.06 2.06-.94-2.06-.94L8.5 2.5l-.94 2.06-2.06.94zm10 10l.94 2.06.94-2.06 2.06-.94-2.06-.94-.94-2.06-.94 2.06-2.06.94z\"/><path d=\"M17.41 7.96l-1.37-1.37c-.4-.4-.92-.59-1.43-.59-.52 0-1.04.2-1.43.59L10.3 9.45l-7.72 7.72c-.78.78-.78 2.05 0 2.83L4 21.41c.39.39.9.59 1.41.59.51 0 1.02-.2 1.41-.59l7.78-7.78 2.81-2.81c.8-.78.8-2.07 0-2.86zM5.41 20L4 18.59l7.72-7.72 1.47 1.35L5.41 20z\"/>\n",
              "  </svg>\n",
              "      </button>\n",
              "      \n",
              "  <style>\n",
              "    .colab-df-container {\n",
              "      display:flex;\n",
              "      flex-wrap:wrap;\n",
              "      gap: 12px;\n",
              "    }\n",
              "\n",
              "    .colab-df-convert {\n",
              "      background-color: #E8F0FE;\n",
              "      border: none;\n",
              "      border-radius: 50%;\n",
              "      cursor: pointer;\n",
              "      display: none;\n",
              "      fill: #1967D2;\n",
              "      height: 32px;\n",
              "      padding: 0 0 0 0;\n",
              "      width: 32px;\n",
              "    }\n",
              "\n",
              "    .colab-df-convert:hover {\n",
              "      background-color: #E2EBFA;\n",
              "      box-shadow: 0px 1px 2px rgba(60, 64, 67, 0.3), 0px 1px 3px 1px rgba(60, 64, 67, 0.15);\n",
              "      fill: #174EA6;\n",
              "    }\n",
              "\n",
              "    [theme=dark] .colab-df-convert {\n",
              "      background-color: #3B4455;\n",
              "      fill: #D2E3FC;\n",
              "    }\n",
              "\n",
              "    [theme=dark] .colab-df-convert:hover {\n",
              "      background-color: #434B5C;\n",
              "      box-shadow: 0px 1px 3px 1px rgba(0, 0, 0, 0.15);\n",
              "      filter: drop-shadow(0px 1px 2px rgba(0, 0, 0, 0.3));\n",
              "      fill: #FFFFFF;\n",
              "    }\n",
              "  </style>\n",
              "\n",
              "      <script>\n",
              "        const buttonEl =\n",
              "          document.querySelector('#df-8f9d3972-ca97-4201-acb7-55dbc6547220 button.colab-df-convert');\n",
              "        buttonEl.style.display =\n",
              "          google.colab.kernel.accessAllowed ? 'block' : 'none';\n",
              "\n",
              "        async function convertToInteractive(key) {\n",
              "          const element = document.querySelector('#df-8f9d3972-ca97-4201-acb7-55dbc6547220');\n",
              "          const dataTable =\n",
              "            await google.colab.kernel.invokeFunction('convertToInteractive',\n",
              "                                                     [key], {});\n",
              "          if (!dataTable) return;\n",
              "\n",
              "          const docLinkHtml = 'Like what you see? Visit the ' +\n",
              "            '<a target=\"_blank\" href=https://colab.research.google.com/notebooks/data_table.ipynb>data table notebook</a>'\n",
              "            + ' to learn more about interactive tables.';\n",
              "          element.innerHTML = '';\n",
              "          dataTable['output_type'] = 'display_data';\n",
              "          await google.colab.output.renderOutput(dataTable, element);\n",
              "          const docLink = document.createElement('div');\n",
              "          docLink.innerHTML = docLinkHtml;\n",
              "          element.appendChild(docLink);\n",
              "        }\n",
              "      </script>\n",
              "    </div>\n",
              "  </div>\n",
              "  "
            ]
          },
          "metadata": {},
          "execution_count": 6
        }
      ],
      "source": [
        "# Create a column to hold Group data\n",
        "df.loc[:,'Group'] = 0\n",
        "df.head()"
      ]
    },
    {
      "cell_type": "markdown",
      "id": "5f7b85bc-b2ff-4939-9e9e-a5cbd168c1d1",
      "metadata": {
        "id": "5f7b85bc-b2ff-4939-9e9e-a5cbd168c1d1"
      },
      "source": [
        "---\n",
        "## Find top 15\n",
        "### Binary Classification"
      ]
    },
    {
      "cell_type": "code",
      "execution_count": 7,
      "id": "518b1441-c425-4483-98b6-2c8dd9bdcf69",
      "metadata": {
        "tags": [],
        "colab": {
          "base_uri": "https://localhost:8080/",
          "height": 424
        },
        "id": "518b1441-c425-4483-98b6-2c8dd9bdcf69",
        "outputId": "d22f6a3b-d521-4bbd-917d-2a6fde98b968"
      },
      "outputs": [
        {
          "output_type": "execute_result",
          "data": {
            "text/plain": [
              "      Rk       G    TOTMP   TOTPTS  TOTTRB  TOTAST    FG%    3P%    FT%  \\\n",
              "0      1   781.0  25903.0  12884.0  7232.0  1985.0  0.447  0.295  0.769   \n",
              "1      2  1335.0  47117.0  21813.0  5269.0  8966.0  0.466  0.317  0.729   \n",
              "2      3   586.0  15628.0   8553.0  1087.0  2079.0  0.442  0.354  0.905   \n",
              "3      4   629.0  17983.0   8094.0  1774.0  1296.0  0.417  0.397  0.793   \n",
              "4      5   966.0  29481.0  12914.0  4002.0  2945.0  0.434  0.300  0.754   \n",
              "...   ..     ...      ...      ...     ...     ...    ...    ...    ...   \n",
              "1863  56     2.0      7.0      1.0     0.0     1.0  0.000  0.000  0.500   \n",
              "1864  57     0.0      0.0      0.0     0.0     0.0  0.000  0.000  0.000   \n",
              "1865  58    18.0    117.0     19.0    27.0     1.0  0.727  0.000  0.750   \n",
              "1866  59     0.0      0.0      0.0     0.0     0.0  0.000  0.000  0.000   \n",
              "1867  60     9.0     48.0     16.0     8.0     0.0  0.455  0.500  0.444   \n",
              "\n",
              "         WS  WS/48  BPM  VORP   MPG   PPG  RPG  APG  Group  \n",
              "0      64.3  0.119  1.4  22.3  33.2  16.5  9.3  2.5      1  \n",
              "1     145.5  0.148  3.3  62.5  35.3  16.3  3.9  6.7      1  \n",
              "2      25.2  0.077 -0.8   4.5  26.7  14.6  1.9  3.5      1  \n",
              "3      33.4  0.089  0.2   9.9  28.6  12.9  2.8  2.1      1  \n",
              "4      47.8  0.078  0.1  15.8  30.5  13.4  4.1  3.0      1  \n",
              "...     ...    ...  ...   ...   ...   ...  ...  ...    ...  \n",
              "1863    0.0  0.164  6.1   0.0   3.5   0.5  0.0  0.5      0  \n",
              "1864    0.0  0.000  0.0   0.0   0.0   0.0  0.0  0.0      0  \n",
              "1865    0.4  0.145 -0.6   0.0   6.5   1.1  1.5  0.1      0  \n",
              "1866    0.0  0.000  0.0   0.0   0.0   0.0  0.0  0.0      0  \n",
              "1867    0.0 -0.005 -8.0  -0.1   5.3   1.8  0.9  0.0      0  \n",
              "\n",
              "[1868 rows x 18 columns]"
            ],
            "text/html": [
              "\n",
              "  <div id=\"df-0a02b9a1-5f69-4951-9106-884cfd1219a3\">\n",
              "    <div class=\"colab-df-container\">\n",
              "      <div>\n",
              "<style scoped>\n",
              "    .dataframe tbody tr th:only-of-type {\n",
              "        vertical-align: middle;\n",
              "    }\n",
              "\n",
              "    .dataframe tbody tr th {\n",
              "        vertical-align: top;\n",
              "    }\n",
              "\n",
              "    .dataframe thead th {\n",
              "        text-align: right;\n",
              "    }\n",
              "</style>\n",
              "<table border=\"1\" class=\"dataframe\">\n",
              "  <thead>\n",
              "    <tr style=\"text-align: right;\">\n",
              "      <th></th>\n",
              "      <th>Rk</th>\n",
              "      <th>G</th>\n",
              "      <th>TOTMP</th>\n",
              "      <th>TOTPTS</th>\n",
              "      <th>TOTTRB</th>\n",
              "      <th>TOTAST</th>\n",
              "      <th>FG%</th>\n",
              "      <th>3P%</th>\n",
              "      <th>FT%</th>\n",
              "      <th>WS</th>\n",
              "      <th>WS/48</th>\n",
              "      <th>BPM</th>\n",
              "      <th>VORP</th>\n",
              "      <th>MPG</th>\n",
              "      <th>PPG</th>\n",
              "      <th>RPG</th>\n",
              "      <th>APG</th>\n",
              "      <th>Group</th>\n",
              "    </tr>\n",
              "  </thead>\n",
              "  <tbody>\n",
              "    <tr>\n",
              "      <th>0</th>\n",
              "      <td>1</td>\n",
              "      <td>781.0</td>\n",
              "      <td>25903.0</td>\n",
              "      <td>12884.0</td>\n",
              "      <td>7232.0</td>\n",
              "      <td>1985.0</td>\n",
              "      <td>0.447</td>\n",
              "      <td>0.295</td>\n",
              "      <td>0.769</td>\n",
              "      <td>64.3</td>\n",
              "      <td>0.119</td>\n",
              "      <td>1.4</td>\n",
              "      <td>22.3</td>\n",
              "      <td>33.2</td>\n",
              "      <td>16.5</td>\n",
              "      <td>9.3</td>\n",
              "      <td>2.5</td>\n",
              "      <td>1</td>\n",
              "    </tr>\n",
              "    <tr>\n",
              "      <th>1</th>\n",
              "      <td>2</td>\n",
              "      <td>1335.0</td>\n",
              "      <td>47117.0</td>\n",
              "      <td>21813.0</td>\n",
              "      <td>5269.0</td>\n",
              "      <td>8966.0</td>\n",
              "      <td>0.466</td>\n",
              "      <td>0.317</td>\n",
              "      <td>0.729</td>\n",
              "      <td>145.5</td>\n",
              "      <td>0.148</td>\n",
              "      <td>3.3</td>\n",
              "      <td>62.5</td>\n",
              "      <td>35.3</td>\n",
              "      <td>16.3</td>\n",
              "      <td>3.9</td>\n",
              "      <td>6.7</td>\n",
              "      <td>1</td>\n",
              "    </tr>\n",
              "    <tr>\n",
              "      <th>2</th>\n",
              "      <td>3</td>\n",
              "      <td>586.0</td>\n",
              "      <td>15628.0</td>\n",
              "      <td>8553.0</td>\n",
              "      <td>1087.0</td>\n",
              "      <td>2079.0</td>\n",
              "      <td>0.442</td>\n",
              "      <td>0.354</td>\n",
              "      <td>0.905</td>\n",
              "      <td>25.2</td>\n",
              "      <td>0.077</td>\n",
              "      <td>-0.8</td>\n",
              "      <td>4.5</td>\n",
              "      <td>26.7</td>\n",
              "      <td>14.6</td>\n",
              "      <td>1.9</td>\n",
              "      <td>3.5</td>\n",
              "      <td>1</td>\n",
              "    </tr>\n",
              "    <tr>\n",
              "      <th>3</th>\n",
              "      <td>4</td>\n",
              "      <td>629.0</td>\n",
              "      <td>17983.0</td>\n",
              "      <td>8094.0</td>\n",
              "      <td>1774.0</td>\n",
              "      <td>1296.0</td>\n",
              "      <td>0.417</td>\n",
              "      <td>0.397</td>\n",
              "      <td>0.793</td>\n",
              "      <td>33.4</td>\n",
              "      <td>0.089</td>\n",
              "      <td>0.2</td>\n",
              "      <td>9.9</td>\n",
              "      <td>28.6</td>\n",
              "      <td>12.9</td>\n",
              "      <td>2.8</td>\n",
              "      <td>2.1</td>\n",
              "      <td>1</td>\n",
              "    </tr>\n",
              "    <tr>\n",
              "      <th>4</th>\n",
              "      <td>5</td>\n",
              "      <td>966.0</td>\n",
              "      <td>29481.0</td>\n",
              "      <td>12914.0</td>\n",
              "      <td>4002.0</td>\n",
              "      <td>2945.0</td>\n",
              "      <td>0.434</td>\n",
              "      <td>0.300</td>\n",
              "      <td>0.754</td>\n",
              "      <td>47.8</td>\n",
              "      <td>0.078</td>\n",
              "      <td>0.1</td>\n",
              "      <td>15.8</td>\n",
              "      <td>30.5</td>\n",
              "      <td>13.4</td>\n",
              "      <td>4.1</td>\n",
              "      <td>3.0</td>\n",
              "      <td>1</td>\n",
              "    </tr>\n",
              "    <tr>\n",
              "      <th>...</th>\n",
              "      <td>...</td>\n",
              "      <td>...</td>\n",
              "      <td>...</td>\n",
              "      <td>...</td>\n",
              "      <td>...</td>\n",
              "      <td>...</td>\n",
              "      <td>...</td>\n",
              "      <td>...</td>\n",
              "      <td>...</td>\n",
              "      <td>...</td>\n",
              "      <td>...</td>\n",
              "      <td>...</td>\n",
              "      <td>...</td>\n",
              "      <td>...</td>\n",
              "      <td>...</td>\n",
              "      <td>...</td>\n",
              "      <td>...</td>\n",
              "      <td>...</td>\n",
              "    </tr>\n",
              "    <tr>\n",
              "      <th>1863</th>\n",
              "      <td>56</td>\n",
              "      <td>2.0</td>\n",
              "      <td>7.0</td>\n",
              "      <td>1.0</td>\n",
              "      <td>0.0</td>\n",
              "      <td>1.0</td>\n",
              "      <td>0.000</td>\n",
              "      <td>0.000</td>\n",
              "      <td>0.500</td>\n",
              "      <td>0.0</td>\n",
              "      <td>0.164</td>\n",
              "      <td>6.1</td>\n",
              "      <td>0.0</td>\n",
              "      <td>3.5</td>\n",
              "      <td>0.5</td>\n",
              "      <td>0.0</td>\n",
              "      <td>0.5</td>\n",
              "      <td>0</td>\n",
              "    </tr>\n",
              "    <tr>\n",
              "      <th>1864</th>\n",
              "      <td>57</td>\n",
              "      <td>0.0</td>\n",
              "      <td>0.0</td>\n",
              "      <td>0.0</td>\n",
              "      <td>0.0</td>\n",
              "      <td>0.0</td>\n",
              "      <td>0.000</td>\n",
              "      <td>0.000</td>\n",
              "      <td>0.000</td>\n",
              "      <td>0.0</td>\n",
              "      <td>0.000</td>\n",
              "      <td>0.0</td>\n",
              "      <td>0.0</td>\n",
              "      <td>0.0</td>\n",
              "      <td>0.0</td>\n",
              "      <td>0.0</td>\n",
              "      <td>0.0</td>\n",
              "      <td>0</td>\n",
              "    </tr>\n",
              "    <tr>\n",
              "      <th>1865</th>\n",
              "      <td>58</td>\n",
              "      <td>18.0</td>\n",
              "      <td>117.0</td>\n",
              "      <td>19.0</td>\n",
              "      <td>27.0</td>\n",
              "      <td>1.0</td>\n",
              "      <td>0.727</td>\n",
              "      <td>0.000</td>\n",
              "      <td>0.750</td>\n",
              "      <td>0.4</td>\n",
              "      <td>0.145</td>\n",
              "      <td>-0.6</td>\n",
              "      <td>0.0</td>\n",
              "      <td>6.5</td>\n",
              "      <td>1.1</td>\n",
              "      <td>1.5</td>\n",
              "      <td>0.1</td>\n",
              "      <td>0</td>\n",
              "    </tr>\n",
              "    <tr>\n",
              "      <th>1866</th>\n",
              "      <td>59</td>\n",
              "      <td>0.0</td>\n",
              "      <td>0.0</td>\n",
              "      <td>0.0</td>\n",
              "      <td>0.0</td>\n",
              "      <td>0.0</td>\n",
              "      <td>0.000</td>\n",
              "      <td>0.000</td>\n",
              "      <td>0.000</td>\n",
              "      <td>0.0</td>\n",
              "      <td>0.000</td>\n",
              "      <td>0.0</td>\n",
              "      <td>0.0</td>\n",
              "      <td>0.0</td>\n",
              "      <td>0.0</td>\n",
              "      <td>0.0</td>\n",
              "      <td>0.0</td>\n",
              "      <td>0</td>\n",
              "    </tr>\n",
              "    <tr>\n",
              "      <th>1867</th>\n",
              "      <td>60</td>\n",
              "      <td>9.0</td>\n",
              "      <td>48.0</td>\n",
              "      <td>16.0</td>\n",
              "      <td>8.0</td>\n",
              "      <td>0.0</td>\n",
              "      <td>0.455</td>\n",
              "      <td>0.500</td>\n",
              "      <td>0.444</td>\n",
              "      <td>0.0</td>\n",
              "      <td>-0.005</td>\n",
              "      <td>-8.0</td>\n",
              "      <td>-0.1</td>\n",
              "      <td>5.3</td>\n",
              "      <td>1.8</td>\n",
              "      <td>0.9</td>\n",
              "      <td>0.0</td>\n",
              "      <td>0</td>\n",
              "    </tr>\n",
              "  </tbody>\n",
              "</table>\n",
              "<p>1868 rows × 18 columns</p>\n",
              "</div>\n",
              "      <button class=\"colab-df-convert\" onclick=\"convertToInteractive('df-0a02b9a1-5f69-4951-9106-884cfd1219a3')\"\n",
              "              title=\"Convert this dataframe to an interactive table.\"\n",
              "              style=\"display:none;\">\n",
              "        \n",
              "  <svg xmlns=\"http://www.w3.org/2000/svg\" height=\"24px\"viewBox=\"0 0 24 24\"\n",
              "       width=\"24px\">\n",
              "    <path d=\"M0 0h24v24H0V0z\" fill=\"none\"/>\n",
              "    <path d=\"M18.56 5.44l.94 2.06.94-2.06 2.06-.94-2.06-.94-.94-2.06-.94 2.06-2.06.94zm-11 1L8.5 8.5l.94-2.06 2.06-.94-2.06-.94L8.5 2.5l-.94 2.06-2.06.94zm10 10l.94 2.06.94-2.06 2.06-.94-2.06-.94-.94-2.06-.94 2.06-2.06.94z\"/><path d=\"M17.41 7.96l-1.37-1.37c-.4-.4-.92-.59-1.43-.59-.52 0-1.04.2-1.43.59L10.3 9.45l-7.72 7.72c-.78.78-.78 2.05 0 2.83L4 21.41c.39.39.9.59 1.41.59.51 0 1.02-.2 1.41-.59l7.78-7.78 2.81-2.81c.8-.78.8-2.07 0-2.86zM5.41 20L4 18.59l7.72-7.72 1.47 1.35L5.41 20z\"/>\n",
              "  </svg>\n",
              "      </button>\n",
              "      \n",
              "  <style>\n",
              "    .colab-df-container {\n",
              "      display:flex;\n",
              "      flex-wrap:wrap;\n",
              "      gap: 12px;\n",
              "    }\n",
              "\n",
              "    .colab-df-convert {\n",
              "      background-color: #E8F0FE;\n",
              "      border: none;\n",
              "      border-radius: 50%;\n",
              "      cursor: pointer;\n",
              "      display: none;\n",
              "      fill: #1967D2;\n",
              "      height: 32px;\n",
              "      padding: 0 0 0 0;\n",
              "      width: 32px;\n",
              "    }\n",
              "\n",
              "    .colab-df-convert:hover {\n",
              "      background-color: #E2EBFA;\n",
              "      box-shadow: 0px 1px 2px rgba(60, 64, 67, 0.3), 0px 1px 3px 1px rgba(60, 64, 67, 0.15);\n",
              "      fill: #174EA6;\n",
              "    }\n",
              "\n",
              "    [theme=dark] .colab-df-convert {\n",
              "      background-color: #3B4455;\n",
              "      fill: #D2E3FC;\n",
              "    }\n",
              "\n",
              "    [theme=dark] .colab-df-convert:hover {\n",
              "      background-color: #434B5C;\n",
              "      box-shadow: 0px 1px 3px 1px rgba(0, 0, 0, 0.15);\n",
              "      filter: drop-shadow(0px 1px 2px rgba(0, 0, 0, 0.3));\n",
              "      fill: #FFFFFF;\n",
              "    }\n",
              "  </style>\n",
              "\n",
              "      <script>\n",
              "        const buttonEl =\n",
              "          document.querySelector('#df-0a02b9a1-5f69-4951-9106-884cfd1219a3 button.colab-df-convert');\n",
              "        buttonEl.style.display =\n",
              "          google.colab.kernel.accessAllowed ? 'block' : 'none';\n",
              "\n",
              "        async function convertToInteractive(key) {\n",
              "          const element = document.querySelector('#df-0a02b9a1-5f69-4951-9106-884cfd1219a3');\n",
              "          const dataTable =\n",
              "            await google.colab.kernel.invokeFunction('convertToInteractive',\n",
              "                                                     [key], {});\n",
              "          if (!dataTable) return;\n",
              "\n",
              "          const docLinkHtml = 'Like what you see? Visit the ' +\n",
              "            '<a target=\"_blank\" href=https://colab.research.google.com/notebooks/data_table.ipynb>data table notebook</a>'\n",
              "            + ' to learn more about interactive tables.';\n",
              "          element.innerHTML = '';\n",
              "          dataTable['output_type'] = 'display_data';\n",
              "          await google.colab.output.renderOutput(dataTable, element);\n",
              "          const docLink = document.createElement('div');\n",
              "          docLink.innerHTML = docLinkHtml;\n",
              "          element.appendChild(docLink);\n",
              "        }\n",
              "      </script>\n",
              "    </div>\n",
              "  </div>\n",
              "  "
            ]
          },
          "metadata": {},
          "execution_count": 7
        }
      ],
      "source": [
        "# Create groups based on ranks\n",
        "for index, row in df.iterrows():\n",
        "    if row['Rk'] <= 15:\n",
        "        df.at[index,'Group'] = 1\n",
        "    else:\n",
        "        df.at[index,'Group'] = 0\n",
        "    \n",
        "df"
      ]
    },
    {
      "cell_type": "code",
      "execution_count": 8,
      "id": "290bdb37-91f8-4004-b652-c9a51b99794d",
      "metadata": {
        "id": "290bdb37-91f8-4004-b652-c9a51b99794d"
      },
      "outputs": [],
      "source": [
        "# Set Feature and Target\n",
        "X = df.drop(columns=['Rk','Group'])\n",
        "y = df['Group']"
      ]
    },
    {
      "cell_type": "code",
      "execution_count": 9,
      "id": "32d8f00e-86c9-45a5-81c5-16c7f16d41cd",
      "metadata": {
        "colab": {
          "base_uri": "https://localhost:8080/"
        },
        "id": "32d8f00e-86c9-45a5-81c5-16c7f16d41cd",
        "outputId": "1b4c2702-6a41-4a59-df1f-473aba1b610e"
      },
      "outputs": [
        {
          "output_type": "execute_result",
          "data": {
            "text/plain": [
              "0    1388\n",
              "1     480\n",
              "Name: Group, dtype: int64"
            ]
          },
          "metadata": {},
          "execution_count": 9
        }
      ],
      "source": [
        "y.value_counts()"
      ]
    },
    {
      "cell_type": "code",
      "execution_count": 10,
      "id": "1dfa9601-e2a8-4a42-8e76-7f9db33aaae6",
      "metadata": {
        "id": "1dfa9601-e2a8-4a42-8e76-7f9db33aaae6"
      },
      "outputs": [],
      "source": [
        "# Split dataset into train, test datasets\n",
        "X_train, X_test, y_train, y_test = train_test_split(X,y,random_state = 1)"
      ]
    },
    {
      "cell_type": "code",
      "execution_count": 11,
      "id": "fceb7a30-3bbb-45ce-8848-18fa75800428",
      "metadata": {
        "id": "fceb7a30-3bbb-45ce-8848-18fa75800428"
      },
      "outputs": [],
      "source": [
        "# Initiate the scaler\n",
        "X_scaler = StandardScaler()\n",
        "\n",
        "# Fit the scaler to the features dataset\n",
        "X_scaler = X_scaler.fit(X)"
      ]
    },
    {
      "cell_type": "code",
      "execution_count": 12,
      "id": "11cf9937-03d2-403c-ac43-ee64335a4193",
      "metadata": {
        "id": "11cf9937-03d2-403c-ac43-ee64335a4193"
      },
      "outputs": [],
      "source": [
        "# Scale train, test datasets\n",
        "X_train_scaled = X_scaler.transform(X_train)\n",
        "X_test_scaled = X_scaler.transform(X_test)"
      ]
    },
    {
      "cell_type": "markdown",
      "id": "7ac5e6e0-7e69-472c-99e1-0c72efe4bdae",
      "metadata": {
        "id": "7ac5e6e0-7e69-472c-99e1-0c72efe4bdae"
      },
      "source": [
        "---\n",
        "## Use the SVC classifier model"
      ]
    },
    {
      "cell_type": "code",
      "execution_count": 13,
      "id": "74dae2d5-f930-4def-9173-8829c2343955",
      "metadata": {
        "colab": {
          "base_uri": "https://localhost:8080/"
        },
        "id": "74dae2d5-f930-4def-9173-8829c2343955",
        "outputId": "d6d778e2-92a3-4c90-a196-f48c545d6f42"
      },
      "outputs": [
        {
          "output_type": "execute_result",
          "data": {
            "text/plain": [
              "array([0, 0, 0, 0, 1, 0, 0, 0, 0, 0, 0, 0, 0, 1, 0, 0, 0, 0, 1, 0, 0, 0,\n",
              "       0, 0, 0, 0, 0, 1, 0, 0, 1, 0, 0, 0, 0, 0, 0, 1, 0, 1, 0, 0, 1, 0,\n",
              "       0, 0, 1, 0, 0, 0, 0, 0, 0, 0, 0, 0, 1, 0, 0, 0, 0, 1, 0, 0, 1, 1,\n",
              "       0, 0, 0, 0, 0, 0, 1, 0, 0, 0, 1, 0, 0, 0, 1, 0, 0, 0, 0, 0, 1, 0,\n",
              "       0, 0, 0, 0, 0, 0, 0, 0, 0, 0, 0, 0, 0, 0, 0, 0, 0, 1, 0, 0, 0, 0,\n",
              "       0, 0, 1, 0, 0, 0, 0, 0, 0, 1, 0, 0, 0, 0, 0, 1, 0, 1, 0, 1, 0, 0,\n",
              "       0, 0, 0, 0, 0, 0, 1, 1, 0, 0, 0, 0, 0, 1, 0, 0, 0, 0, 0, 0, 0, 1,\n",
              "       0, 0, 0, 1, 0, 0, 0, 0, 0, 0, 0, 0, 0, 0, 1, 0, 0, 1, 0, 0, 0, 0,\n",
              "       0, 0, 0, 0, 0, 0, 0, 0, 0, 0, 0, 0, 0, 0, 0, 0, 0, 0, 0, 0, 0, 1,\n",
              "       0, 1, 0, 0, 0, 0, 0, 0, 0, 1, 0, 0, 0, 0, 0, 0, 0, 0, 0, 0, 0, 1,\n",
              "       0, 1, 0, 0, 0, 0, 0, 1, 0, 0, 0, 0, 0, 1, 0, 1, 0, 0, 0, 1, 0, 1,\n",
              "       0, 0, 0, 0, 0, 0, 0, 0, 0, 1, 0, 0, 0, 0, 0, 0, 1, 0, 0, 0, 0, 1,\n",
              "       0, 0, 0, 0, 0, 0, 0, 0, 1, 0, 1, 0, 1, 0, 0, 0, 0, 0, 0, 0, 0, 0,\n",
              "       0, 0, 0, 0, 0, 0, 1, 0, 0, 0, 0, 0, 0, 1, 0, 1, 0, 0, 0, 0, 1, 0,\n",
              "       1, 0, 0, 0, 0, 0, 0, 0, 1, 0, 0, 1, 0, 0, 0, 0, 0, 0, 0, 0, 0, 0,\n",
              "       0, 0, 1, 0, 0, 0, 0, 0, 0, 0, 0, 0, 0, 0, 0, 1, 1, 0, 0, 0, 0, 0,\n",
              "       0, 0, 0, 0, 0, 1, 1, 0, 0, 0, 1, 0, 0, 0, 0, 0, 0, 0, 0, 1, 0, 0,\n",
              "       1, 0, 0, 0, 0, 1, 0, 0, 0, 0, 0, 0, 1, 0, 0, 0, 0, 0, 0, 0, 0, 1,\n",
              "       0, 0, 1, 0, 0, 0, 0, 0, 0, 1, 0, 0, 0, 0, 1, 1, 0, 0, 0, 0, 0, 0,\n",
              "       0, 0, 0, 0, 0, 0, 0, 0, 0, 1, 0, 0, 0, 0, 0, 0, 1, 0, 0, 0, 0, 0,\n",
              "       0, 0, 0, 0, 0, 0, 0, 0, 0, 0, 0, 0, 0, 0, 0, 0, 0, 0, 0, 0, 0, 0,\n",
              "       0, 0, 0, 0, 0])"
            ]
          },
          "metadata": {},
          "execution_count": 13
        }
      ],
      "source": [
        "# From SVM, instantiate SVC classifier model instance\n",
        "svm_model = svm.SVC()\n",
        " \n",
        "# Fit the model to the data using the training data\n",
        "svm_model = svm_model.fit(X_train_scaled, y_train)\n",
        " \n",
        "# Use the testing data to make the model predictions\n",
        "svm_pred = svm_model.predict(X_test_scaled)\n",
        "\n",
        "# Review the model's predicted values\n",
        "svm_pred"
      ]
    },
    {
      "cell_type": "code",
      "execution_count": 14,
      "id": "62305acf-eb66-4814-8c2f-c05b77e4a39b",
      "metadata": {
        "colab": {
          "base_uri": "https://localhost:8080/"
        },
        "id": "62305acf-eb66-4814-8c2f-c05b77e4a39b",
        "outputId": "710af5e5-f915-46a5-a063-47cd0d19f4d3"
      },
      "outputs": [
        {
          "output_type": "stream",
          "name": "stdout",
          "text": [
            "              precision    recall  f1-score   support\n",
            "\n",
            "           0       0.84      0.93      0.88       357\n",
            "           1       0.64      0.41      0.50       110\n",
            "\n",
            "    accuracy                           0.81       467\n",
            "   macro avg       0.74      0.67      0.69       467\n",
            "weighted avg       0.79      0.81      0.79       467\n",
            "\n"
          ]
        }
      ],
      "source": [
        "# Use a classification report to evaluate the model using the predictions and testing data\n",
        "svm_testing_report = classification_report(y_test, svm_pred)\n",
        "\n",
        "# Print the classification report\n",
        "print(svm_testing_report)"
      ]
    },
    {
      "cell_type": "markdown",
      "id": "66fa601b-44b8-402c-af74-c9ca5bb0beb1",
      "metadata": {
        "id": "66fa601b-44b8-402c-af74-c9ca5bb0beb1"
      },
      "source": [
        "### Over sampling"
      ]
    },
    {
      "cell_type": "code",
      "execution_count": 15,
      "id": "7a2f6364-353a-4bfb-b6d5-0c0ef679dd88",
      "metadata": {
        "id": "7a2f6364-353a-4bfb-b6d5-0c0ef679dd88"
      },
      "outputs": [],
      "source": [
        "# Import RandomOverSampler\n",
        "from imblearn.over_sampling import RandomOverSampler"
      ]
    },
    {
      "cell_type": "code",
      "execution_count": 16,
      "id": "1701b5ee-f106-472f-baa0-4e8fe7ea0b16",
      "metadata": {
        "id": "1701b5ee-f106-472f-baa0-4e8fe7ea0b16"
      },
      "outputs": [],
      "source": [
        "# Resample features and target\n",
        "random_oversampler = RandomOverSampler(random_state = 1)\n",
        "X_resampled, y_resampled = random_oversampler.fit_resample(X_train, y_train)\n"
      ]
    },
    {
      "cell_type": "code",
      "execution_count": 17,
      "id": "24f18887-4cca-4ac4-9ac8-869643b5da4c",
      "metadata": {
        "colab": {
          "base_uri": "https://localhost:8080/"
        },
        "id": "24f18887-4cca-4ac4-9ac8-869643b5da4c",
        "outputId": "fe276d6d-3b3c-4c42-e964-dfd812af0b50"
      },
      "outputs": [
        {
          "output_type": "execute_result",
          "data": {
            "text/plain": [
              "0    1031\n",
              "1    1031\n",
              "Name: Group, dtype: int64"
            ]
          },
          "metadata": {},
          "execution_count": 17
        }
      ],
      "source": [
        "# Check resampled size\n",
        "y_resampled.value_counts()"
      ]
    },
    {
      "cell_type": "code",
      "execution_count": 18,
      "id": "75f93abd-1ee5-493d-93f0-5826c1ef7927",
      "metadata": {
        "colab": {
          "base_uri": "https://localhost:8080/"
        },
        "id": "75f93abd-1ee5-493d-93f0-5826c1ef7927",
        "outputId": "504d3e2a-7cdf-4924-b21a-daf7e7e55df4"
      },
      "outputs": [
        {
          "output_type": "stream",
          "name": "stdout",
          "text": [
            "              precision    recall  f1-score   support\n",
            "\n",
            "           0       0.76      1.00      0.87       357\n",
            "           1       0.00      0.00      0.00       110\n",
            "\n",
            "    accuracy                           0.76       467\n",
            "   macro avg       0.38      0.50      0.43       467\n",
            "weighted avg       0.58      0.76      0.66       467\n",
            "\n"
          ]
        },
        {
          "output_type": "stream",
          "name": "stderr",
          "text": [
            "/usr/local/lib/python3.7/dist-packages/sklearn/base.py:451: UserWarning: X does not have valid feature names, but SVC was fitted with feature names\n",
            "  \"X does not have valid feature names, but\"\n",
            "/usr/local/lib/python3.7/dist-packages/sklearn/metrics/_classification.py:1318: UndefinedMetricWarning: Precision and F-score are ill-defined and being set to 0.0 in labels with no predicted samples. Use `zero_division` parameter to control this behavior.\n",
            "  _warn_prf(average, modifier, msg_start, len(result))\n",
            "/usr/local/lib/python3.7/dist-packages/sklearn/metrics/_classification.py:1318: UndefinedMetricWarning: Precision and F-score are ill-defined and being set to 0.0 in labels with no predicted samples. Use `zero_division` parameter to control this behavior.\n",
            "  _warn_prf(average, modifier, msg_start, len(result))\n",
            "/usr/local/lib/python3.7/dist-packages/sklearn/metrics/_classification.py:1318: UndefinedMetricWarning: Precision and F-score are ill-defined and being set to 0.0 in labels with no predicted samples. Use `zero_division` parameter to control this behavior.\n",
            "  _warn_prf(average, modifier, msg_start, len(result))\n"
          ]
        }
      ],
      "source": [
        "# From SVM, instantiate SVC classifier model instance\n",
        "svm_resampled_model = svm.SVC()\n",
        " \n",
        "# Fit the model to the data using the training data\n",
        "svm_resampled_model = svm_resampled_model.fit(X_resampled, y_resampled)\n",
        " \n",
        "# Use the testing data to make the model predictions\n",
        "svm_resampled_pred = svm_resampled_model.predict(X_test_scaled)\n",
        "\n",
        "# Use a classification report to evaluate the model using the predictions and testing data\n",
        "svm_resampled_testing_report = classification_report(y_test, svm_resampled_pred)\n",
        "\n",
        "# Print the classification report\n",
        "print(svm_resampled_testing_report)"
      ]
    },
    {
      "cell_type": "markdown",
      "id": "19d7d476-a38b-4cb3-835b-2aedfd66a8ac",
      "metadata": {
        "id": "19d7d476-a38b-4cb3-835b-2aedfd66a8ac"
      },
      "source": [
        "---\n",
        "## Use Ddceision Tree"
      ]
    },
    {
      "cell_type": "code",
      "execution_count": 19,
      "id": "5e42b48b-4046-470c-8db3-4a7635c5b0b2",
      "metadata": {
        "colab": {
          "base_uri": "https://localhost:8080/"
        },
        "id": "5e42b48b-4046-470c-8db3-4a7635c5b0b2",
        "outputId": "f3c5e3af-0714-4c03-a9f5-001d5c23e730"
      },
      "outputs": [
        {
          "output_type": "stream",
          "name": "stdout",
          "text": [
            "              precision    recall  f1-score   support\n",
            "\n",
            "           0       0.82      0.83      0.83       357\n",
            "           1       0.43      0.41      0.42       110\n",
            "\n",
            "    accuracy                           0.73       467\n",
            "   macro avg       0.62      0.62      0.62       467\n",
            "weighted avg       0.73      0.73      0.73       467\n",
            "\n"
          ]
        }
      ],
      "source": [
        "# Import decision tree classifier from SKLearn\n",
        "from sklearn import tree\n",
        "\n",
        "# Initiate the model instance\n",
        "dtc = tree.DecisionTreeClassifier()\n",
        "\n",
        "# Fit the model using the training data\n",
        "dtc_model = dtc.fit(X_train_scaled, y_train)\n",
        "\n",
        "# Use the testing dataset to generate the predictions for the new model\n",
        "dtc_pred = dtc_model.predict(X_test_scaled)\n",
        "\n",
        "# Use a classification report to evaluate the model using the predictions and testing data\n",
        "dtc_testing_report = classification_report(y_test, dtc_pred)\n",
        "\n",
        "# Print the classification report\n",
        "print(dtc_testing_report)"
      ]
    },
    {
      "cell_type": "markdown",
      "id": "30def59d-50d5-4b2f-b42c-6c5fa83150b5",
      "metadata": {
        "id": "30def59d-50d5-4b2f-b42c-6c5fa83150b5"
      },
      "source": [
        "---\n",
        "## Use Logistic Regression"
      ]
    },
    {
      "cell_type": "code",
      "execution_count": 20,
      "id": "26442ccc-f665-467b-aa37-3d60155408bc",
      "metadata": {
        "colab": {
          "base_uri": "https://localhost:8080/"
        },
        "id": "26442ccc-f665-467b-aa37-3d60155408bc",
        "outputId": "fd78db05-339a-40bc-d9e9-22c76e8971d4"
      },
      "outputs": [
        {
          "output_type": "stream",
          "name": "stdout",
          "text": [
            "              precision    recall  f1-score   support\n",
            "\n",
            "           0       0.82      0.83      0.83       357\n",
            "           1       0.43      0.41      0.42       110\n",
            "\n",
            "    accuracy                           0.73       467\n",
            "   macro avg       0.62      0.62      0.62       467\n",
            "weighted avg       0.73      0.73      0.73       467\n",
            "\n"
          ]
        }
      ],
      "source": [
        "# Import LogisticRegression from sklearn\n",
        "from sklearn.linear_model import LogisticRegression\n",
        "\n",
        "# Create an instance of the LogisticRegression model\n",
        "lr = LogisticRegression()\n",
        "\n",
        "# Fit the model using the training data\n",
        "lr_model = lr.fit(X_train_scaled, y_train)\n",
        "\n",
        "# Use the testing dataset to generate the predictions for the new model\n",
        "lr_pred = lr_model.predict(X_test_scaled)\n",
        "\n",
        "# Use a classification report to evaluate the model using the predictions and testing data\n",
        "lr_testing_report = classification_report(y_test, dtc_pred)\n",
        "\n",
        "# Print the classification report\n",
        "print(lr_testing_report)"
      ]
    },
    {
      "cell_type": "markdown",
      "id": "d783c501-bd67-45ab-9901-97d5ea280255",
      "metadata": {
        "id": "d783c501-bd67-45ab-9901-97d5ea280255"
      },
      "source": [
        "---\n",
        "## Use AdaBoost"
      ]
    },
    {
      "cell_type": "code",
      "execution_count": 36,
      "id": "03b8efe7-bbb4-4bec-aae4-8467afb68e3a",
      "metadata": {
        "colab": {
          "base_uri": "https://localhost:8080/"
        },
        "id": "03b8efe7-bbb4-4bec-aae4-8467afb68e3a",
        "outputId": "e662a9af-3ff9-4f8b-c024-97bec42a4146"
      },
      "outputs": [
        {
          "output_type": "stream",
          "name": "stdout",
          "text": [
            "              precision    recall  f1-score   support\n",
            "\n",
            "           0       0.84      0.91      0.87       357\n",
            "           1       0.60      0.45      0.51       110\n",
            "\n",
            "    accuracy                           0.80       467\n",
            "   macro avg       0.72      0.68      0.69       467\n",
            "weighted avg       0.78      0.80      0.79       467\n",
            "\n"
          ]
        }
      ],
      "source": [
        "# Import AdaBoost classifier from SKLearn\n",
        "from sklearn.ensemble import AdaBoostClassifier\n",
        "\n",
        "# Initiate the model instance\n",
        "abc = AdaBoostClassifier()\n",
        "\n",
        "# Fit the model using the training data\n",
        "abc_model = abc.fit(X_train_scaled, y_train)\n",
        "\n",
        "# Use the testing dataset to generate the predictions for the new model\n",
        "abc_pred = abc_model.predict(X_test_scaled)\n",
        "\n",
        "# Use a classification report to evaluate the model using the predictions and testing data\n",
        "abc_testing_report = classification_report(y_test, abc_pred)\n",
        "\n",
        "# Print the classification report\n",
        "print(abc_testing_report)"
      ]
    },
    {
      "cell_type": "markdown",
      "id": "1e7fdf67-00f7-401d-963c-e63ff3cd1aa7",
      "metadata": {
        "id": "1e7fdf67-00f7-401d-963c-e63ff3cd1aa7"
      },
      "source": [
        "---\n",
        "## Use Deep Neural Network"
      ]
    },
    {
      "cell_type": "markdown",
      "id": "472ad365-4423-40bb-b831-485b7aa1e094",
      "metadata": {
        "id": "472ad365-4423-40bb-b831-485b7aa1e094"
      },
      "source": [
        "### Use train test split method"
      ]
    },
    {
      "cell_type": "code",
      "execution_count": 22,
      "id": "d6fd94d9-3346-4e86-9c1d-d6fc4123bea7",
      "metadata": {
        "id": "d6fd94d9-3346-4e86-9c1d-d6fc4123bea7"
      },
      "outputs": [],
      "source": [
        "# Define number of nodes on each layer\n",
        "input_features = 16\n",
        "layer1 = 40\n",
        "layer2 = 30\n",
        "layer3 = 10\n",
        "\n",
        "# Initiate the model\n",
        "nn = Sequential()"
      ]
    },
    {
      "cell_type": "code",
      "execution_count": 23,
      "id": "32054a9c-7ce8-43d2-a158-737091d230e9",
      "metadata": {
        "id": "32054a9c-7ce8-43d2-a158-737091d230e9"
      },
      "outputs": [],
      "source": [
        "# Add all layers to the model\n",
        "nn.add(Dense(\n",
        "    units = layer1, \n",
        "    input_dim = input_features, \n",
        "    activation = 'relu'\n",
        "))\n",
        "\n",
        "nn.add(Dense(\n",
        "    units = layer2, \n",
        "    activation = 'relu'\n",
        "))\n",
        "\n",
        "nn.add(Dense(\n",
        "    units = layer3, \n",
        "    activation = 'relu'\n",
        "))\n",
        "\n",
        "# Add output layer\n",
        "nn.add(Dense(units=1, activation = 'linear'))"
      ]
    },
    {
      "cell_type": "code",
      "execution_count": 24,
      "id": "c5730bb3-d26e-41a2-b7ec-51f00e761098",
      "metadata": {
        "id": "c5730bb3-d26e-41a2-b7ec-51f00e761098"
      },
      "outputs": [],
      "source": [
        "# Compile the model\n",
        "nn.compile(loss=\"mean_squared_error\", optimizer=\"adam\", metrics=[\"accuracy\"])"
      ]
    },
    {
      "cell_type": "code",
      "execution_count": 25,
      "id": "0e58ad14-878a-47b6-a798-5741d20be446",
      "metadata": {
        "tags": [],
        "colab": {
          "base_uri": "https://localhost:8080/"
        },
        "id": "0e58ad14-878a-47b6-a798-5741d20be446",
        "outputId": "d936890f-694f-49f1-ed3b-a9c6c3abb5c1"
      },
      "outputs": [
        {
          "output_type": "stream",
          "name": "stdout",
          "text": [
            "Epoch 1/100\n",
            "44/44 [==============================] - 1s 2ms/step - loss: 0.2530 - accuracy: 0.7802\n",
            "Epoch 2/100\n",
            "44/44 [==============================] - 0s 2ms/step - loss: 0.1404 - accuracy: 0.7909\n",
            "Epoch 3/100\n",
            "44/44 [==============================] - 0s 2ms/step - loss: 0.1323 - accuracy: 0.8044\n",
            "Epoch 4/100\n",
            "44/44 [==============================] - 0s 2ms/step - loss: 0.1296 - accuracy: 0.8130\n",
            "Epoch 5/100\n",
            "44/44 [==============================] - 0s 2ms/step - loss: 0.1269 - accuracy: 0.8158\n",
            "Epoch 6/100\n",
            "44/44 [==============================] - 0s 3ms/step - loss: 0.1253 - accuracy: 0.8237\n",
            "Epoch 7/100\n",
            "44/44 [==============================] - 0s 3ms/step - loss: 0.1233 - accuracy: 0.8201\n",
            "Epoch 8/100\n",
            "44/44 [==============================] - 0s 2ms/step - loss: 0.1227 - accuracy: 0.8251\n",
            "Epoch 9/100\n",
            "44/44 [==============================] - 0s 2ms/step - loss: 0.1227 - accuracy: 0.8194\n",
            "Epoch 10/100\n",
            "44/44 [==============================] - 0s 2ms/step - loss: 0.1198 - accuracy: 0.8308\n",
            "Epoch 11/100\n",
            "44/44 [==============================] - 0s 2ms/step - loss: 0.1204 - accuracy: 0.8266\n",
            "Epoch 12/100\n",
            "44/44 [==============================] - 0s 2ms/step - loss: 0.1197 - accuracy: 0.8301\n",
            "Epoch 13/100\n",
            "44/44 [==============================] - 0s 2ms/step - loss: 0.1185 - accuracy: 0.8308\n",
            "Epoch 14/100\n",
            "44/44 [==============================] - 0s 2ms/step - loss: 0.1174 - accuracy: 0.8365\n",
            "Epoch 15/100\n",
            "44/44 [==============================] - 0s 2ms/step - loss: 0.1178 - accuracy: 0.8330\n",
            "Epoch 16/100\n",
            "44/44 [==============================] - 0s 2ms/step - loss: 0.1174 - accuracy: 0.8308\n",
            "Epoch 17/100\n",
            "44/44 [==============================] - 0s 2ms/step - loss: 0.1164 - accuracy: 0.8351\n",
            "Epoch 18/100\n",
            "44/44 [==============================] - 0s 2ms/step - loss: 0.1174 - accuracy: 0.8344\n",
            "Epoch 19/100\n",
            "44/44 [==============================] - 0s 2ms/step - loss: 0.1140 - accuracy: 0.8344\n",
            "Epoch 20/100\n",
            "44/44 [==============================] - 0s 2ms/step - loss: 0.1140 - accuracy: 0.8387\n",
            "Epoch 21/100\n",
            "44/44 [==============================] - 0s 2ms/step - loss: 0.1123 - accuracy: 0.8351\n",
            "Epoch 22/100\n",
            "44/44 [==============================] - 0s 2ms/step - loss: 0.1124 - accuracy: 0.8380\n",
            "Epoch 23/100\n",
            "44/44 [==============================] - 0s 2ms/step - loss: 0.1122 - accuracy: 0.8394\n",
            "Epoch 24/100\n",
            "44/44 [==============================] - 0s 2ms/step - loss: 0.1120 - accuracy: 0.8387\n",
            "Epoch 25/100\n",
            "44/44 [==============================] - 0s 3ms/step - loss: 0.1106 - accuracy: 0.8437\n",
            "Epoch 26/100\n",
            "44/44 [==============================] - 0s 2ms/step - loss: 0.1123 - accuracy: 0.8430\n",
            "Epoch 27/100\n",
            "44/44 [==============================] - 0s 2ms/step - loss: 0.1111 - accuracy: 0.8444\n",
            "Epoch 28/100\n",
            "44/44 [==============================] - 0s 3ms/step - loss: 0.1101 - accuracy: 0.8437\n",
            "Epoch 29/100\n",
            "44/44 [==============================] - 0s 2ms/step - loss: 0.1077 - accuracy: 0.8501\n",
            "Epoch 30/100\n",
            "44/44 [==============================] - 0s 2ms/step - loss: 0.1096 - accuracy: 0.8401\n",
            "Epoch 31/100\n",
            "44/44 [==============================] - 0s 2ms/step - loss: 0.1075 - accuracy: 0.8444\n",
            "Epoch 32/100\n",
            "44/44 [==============================] - 0s 2ms/step - loss: 0.1074 - accuracy: 0.8494\n",
            "Epoch 33/100\n",
            "44/44 [==============================] - 0s 2ms/step - loss: 0.1060 - accuracy: 0.8515\n",
            "Epoch 34/100\n",
            "44/44 [==============================] - 0s 3ms/step - loss: 0.1062 - accuracy: 0.8465\n",
            "Epoch 35/100\n",
            "44/44 [==============================] - 0s 2ms/step - loss: 0.1083 - accuracy: 0.8487\n",
            "Epoch 36/100\n",
            "44/44 [==============================] - 0s 2ms/step - loss: 0.1054 - accuracy: 0.8508\n",
            "Epoch 37/100\n",
            "44/44 [==============================] - 0s 2ms/step - loss: 0.1086 - accuracy: 0.8401\n",
            "Epoch 38/100\n",
            "44/44 [==============================] - 0s 2ms/step - loss: 0.1052 - accuracy: 0.8501\n",
            "Epoch 39/100\n",
            "44/44 [==============================] - 0s 2ms/step - loss: 0.1072 - accuracy: 0.8451\n",
            "Epoch 40/100\n",
            "44/44 [==============================] - 0s 2ms/step - loss: 0.1089 - accuracy: 0.8515\n",
            "Epoch 41/100\n",
            "44/44 [==============================] - 0s 2ms/step - loss: 0.1030 - accuracy: 0.8480\n",
            "Epoch 42/100\n",
            "44/44 [==============================] - 0s 2ms/step - loss: 0.1039 - accuracy: 0.8494\n",
            "Epoch 43/100\n",
            "44/44 [==============================] - 0s 2ms/step - loss: 0.1020 - accuracy: 0.8508\n",
            "Epoch 44/100\n",
            "44/44 [==============================] - 0s 2ms/step - loss: 0.1039 - accuracy: 0.8508\n",
            "Epoch 45/100\n",
            "44/44 [==============================] - 0s 3ms/step - loss: 0.1017 - accuracy: 0.8530\n",
            "Epoch 46/100\n",
            "44/44 [==============================] - 0s 3ms/step - loss: 0.1027 - accuracy: 0.8508\n",
            "Epoch 47/100\n",
            "44/44 [==============================] - 0s 2ms/step - loss: 0.1008 - accuracy: 0.8558\n",
            "Epoch 48/100\n",
            "44/44 [==============================] - 0s 2ms/step - loss: 0.0985 - accuracy: 0.8580\n",
            "Epoch 49/100\n",
            "44/44 [==============================] - 0s 2ms/step - loss: 0.0998 - accuracy: 0.8572\n",
            "Epoch 50/100\n",
            "44/44 [==============================] - 0s 2ms/step - loss: 0.0986 - accuracy: 0.8594\n",
            "Epoch 51/100\n",
            "44/44 [==============================] - 0s 2ms/step - loss: 0.0986 - accuracy: 0.8644\n",
            "Epoch 52/100\n",
            "44/44 [==============================] - 0s 3ms/step - loss: 0.0973 - accuracy: 0.8644\n",
            "Epoch 53/100\n",
            "44/44 [==============================] - 0s 2ms/step - loss: 0.0966 - accuracy: 0.8637\n",
            "Epoch 54/100\n",
            "44/44 [==============================] - 0s 2ms/step - loss: 0.0987 - accuracy: 0.8580\n",
            "Epoch 55/100\n",
            "44/44 [==============================] - 0s 2ms/step - loss: 0.0973 - accuracy: 0.8622\n",
            "Epoch 56/100\n",
            "44/44 [==============================] - 0s 2ms/step - loss: 0.0968 - accuracy: 0.8644\n",
            "Epoch 57/100\n",
            "44/44 [==============================] - 0s 2ms/step - loss: 0.0951 - accuracy: 0.8765\n",
            "Epoch 58/100\n",
            "44/44 [==============================] - 0s 2ms/step - loss: 0.0952 - accuracy: 0.8637\n",
            "Epoch 59/100\n",
            "44/44 [==============================] - 0s 2ms/step - loss: 0.0955 - accuracy: 0.8729\n",
            "Epoch 60/100\n",
            "44/44 [==============================] - 0s 2ms/step - loss: 0.0963 - accuracy: 0.8630\n",
            "Epoch 61/100\n",
            "44/44 [==============================] - 0s 2ms/step - loss: 0.0969 - accuracy: 0.8658\n",
            "Epoch 62/100\n",
            "44/44 [==============================] - 0s 2ms/step - loss: 0.0940 - accuracy: 0.8680\n",
            "Epoch 63/100\n",
            "44/44 [==============================] - 0s 2ms/step - loss: 0.0921 - accuracy: 0.8744\n",
            "Epoch 64/100\n",
            "44/44 [==============================] - 0s 3ms/step - loss: 0.0926 - accuracy: 0.8779\n",
            "Epoch 65/100\n",
            "44/44 [==============================] - 0s 2ms/step - loss: 0.0918 - accuracy: 0.8829\n",
            "Epoch 66/100\n",
            "44/44 [==============================] - 0s 2ms/step - loss: 0.0934 - accuracy: 0.8715\n",
            "Epoch 67/100\n",
            "44/44 [==============================] - 0s 2ms/step - loss: 0.0911 - accuracy: 0.8751\n",
            "Epoch 68/100\n",
            "44/44 [==============================] - 0s 2ms/step - loss: 0.0895 - accuracy: 0.8822\n",
            "Epoch 69/100\n",
            "44/44 [==============================] - 0s 2ms/step - loss: 0.0908 - accuracy: 0.8680\n",
            "Epoch 70/100\n",
            "44/44 [==============================] - 0s 2ms/step - loss: 0.0905 - accuracy: 0.8779\n",
            "Epoch 71/100\n",
            "44/44 [==============================] - 0s 2ms/step - loss: 0.0916 - accuracy: 0.8772\n",
            "Epoch 72/100\n",
            "44/44 [==============================] - 0s 2ms/step - loss: 0.0888 - accuracy: 0.8851\n",
            "Epoch 73/100\n",
            "44/44 [==============================] - 0s 2ms/step - loss: 0.0917 - accuracy: 0.8808\n",
            "Epoch 74/100\n",
            "44/44 [==============================] - 0s 2ms/step - loss: 0.0869 - accuracy: 0.8787\n",
            "Epoch 75/100\n",
            "44/44 [==============================] - 0s 2ms/step - loss: 0.0886 - accuracy: 0.8801\n",
            "Epoch 76/100\n",
            "44/44 [==============================] - 0s 3ms/step - loss: 0.0883 - accuracy: 0.8758\n",
            "Epoch 77/100\n",
            "44/44 [==============================] - 0s 2ms/step - loss: 0.0869 - accuracy: 0.8837\n",
            "Epoch 78/100\n",
            "44/44 [==============================] - 0s 2ms/step - loss: 0.0868 - accuracy: 0.8887\n",
            "Epoch 79/100\n",
            "44/44 [==============================] - 0s 2ms/step - loss: 0.0873 - accuracy: 0.8787\n",
            "Epoch 80/100\n",
            "44/44 [==============================] - 0s 2ms/step - loss: 0.0869 - accuracy: 0.8808\n",
            "Epoch 81/100\n",
            "44/44 [==============================] - 0s 2ms/step - loss: 0.0844 - accuracy: 0.8879\n",
            "Epoch 82/100\n",
            "44/44 [==============================] - 0s 2ms/step - loss: 0.0854 - accuracy: 0.8879\n",
            "Epoch 83/100\n",
            "44/44 [==============================] - 0s 2ms/step - loss: 0.0861 - accuracy: 0.8858\n",
            "Epoch 84/100\n",
            "44/44 [==============================] - 0s 2ms/step - loss: 0.0836 - accuracy: 0.8879\n",
            "Epoch 85/100\n",
            "44/44 [==============================] - 0s 2ms/step - loss: 0.0828 - accuracy: 0.8901\n",
            "Epoch 86/100\n",
            "44/44 [==============================] - 0s 2ms/step - loss: 0.0843 - accuracy: 0.8915\n",
            "Epoch 87/100\n",
            "44/44 [==============================] - 0s 2ms/step - loss: 0.0845 - accuracy: 0.8865\n",
            "Epoch 88/100\n",
            "44/44 [==============================] - 0s 2ms/step - loss: 0.0833 - accuracy: 0.8901\n",
            "Epoch 89/100\n",
            "44/44 [==============================] - 0s 2ms/step - loss: 0.0818 - accuracy: 0.8965\n",
            "Epoch 90/100\n",
            "44/44 [==============================] - 0s 2ms/step - loss: 0.0806 - accuracy: 0.8929\n",
            "Epoch 91/100\n",
            "44/44 [==============================] - 0s 2ms/step - loss: 0.0815 - accuracy: 0.8944\n",
            "Epoch 92/100\n",
            "44/44 [==============================] - 0s 2ms/step - loss: 0.0817 - accuracy: 0.8936\n",
            "Epoch 93/100\n",
            "44/44 [==============================] - 0s 3ms/step - loss: 0.0799 - accuracy: 0.8965\n",
            "Epoch 94/100\n",
            "44/44 [==============================] - 0s 2ms/step - loss: 0.0811 - accuracy: 0.8965\n",
            "Epoch 95/100\n",
            "44/44 [==============================] - 0s 2ms/step - loss: 0.0799 - accuracy: 0.8965\n",
            "Epoch 96/100\n",
            "44/44 [==============================] - 0s 2ms/step - loss: 0.0797 - accuracy: 0.8958\n",
            "Epoch 97/100\n",
            "44/44 [==============================] - 0s 2ms/step - loss: 0.0771 - accuracy: 0.9029\n",
            "Epoch 98/100\n",
            "44/44 [==============================] - 0s 2ms/step - loss: 0.0784 - accuracy: 0.8979\n",
            "Epoch 99/100\n",
            "44/44 [==============================] - 0s 2ms/step - loss: 0.0783 - accuracy: 0.8972\n",
            "Epoch 100/100\n",
            "44/44 [==============================] - 0s 2ms/step - loss: 0.0760 - accuracy: 0.9015\n"
          ]
        }
      ],
      "source": [
        "# Fit the model\n",
        "deep_net_model = nn.fit(X_train_scaled, y_train, epochs=100)"
      ]
    },
    {
      "cell_type": "code",
      "execution_count": 26,
      "id": "59f91c8e-be1b-40cf-80f8-8045d90d11f7",
      "metadata": {
        "colab": {
          "base_uri": "https://localhost:8080/"
        },
        "id": "59f91c8e-be1b-40cf-80f8-8045d90d11f7",
        "outputId": "1f5517f9-4faa-47dc-c8cb-fcbc4024d937"
      },
      "outputs": [
        {
          "output_type": "stream",
          "name": "stdout",
          "text": [
            "44/44 - 0s - loss: 0.0722 - accuracy: 0.9051 - 202ms/epoch - 5ms/step\n"
          ]
        }
      ],
      "source": [
        "# Print loss and accuracy score of training set\n",
        "loss, accuracy = nn.evaluate(X_train_scaled, y_train, verbose=2)"
      ]
    },
    {
      "cell_type": "code",
      "execution_count": 27,
      "id": "dcd64a11-3551-4aab-8de8-ce9bb532fdb8",
      "metadata": {
        "colab": {
          "base_uri": "https://localhost:8080/"
        },
        "id": "dcd64a11-3551-4aab-8de8-ce9bb532fdb8",
        "outputId": "e3c9be9c-2097-4ec1-e387-24c324cfc1a7"
      },
      "outputs": [
        {
          "output_type": "stream",
          "name": "stdout",
          "text": [
            "15/15 - 0s - loss: 0.1523 - accuracy: 0.8030 - 33ms/epoch - 2ms/step\n"
          ]
        }
      ],
      "source": [
        "# Print loss and accuracy score of testing set\n",
        "val_loss, val_accuracy = nn.evaluate(X_test_scaled, y_test, verbose=2)"
      ]
    },
    {
      "cell_type": "code",
      "source": [
        "X_test_scaled"
      ],
      "metadata": {
        "colab": {
          "base_uri": "https://localhost:8080/"
        },
        "id": "2EtRVEdT-XW2",
        "outputId": "98d82243-7857-4b36-cd09-bd05b0cad7f7"
      },
      "id": "2EtRVEdT-XW2",
      "execution_count": 43,
      "outputs": [
        {
          "output_type": "execute_result",
          "data": {
            "text/plain": [
              "array([[-0.34184622, -0.3250309 , -0.29412499, ...,  0.52259442,\n",
              "        -0.25369002, -0.0878169 ],\n",
              "       [-0.40389138, -0.55669932, -0.52832678, ..., -0.50891217,\n",
              "        -0.79256196,  0.38964415],\n",
              "       [-0.85371876, -0.7309762 , -0.64206956, ..., -0.47070823,\n",
              "        -0.61293798, -0.63348668],\n",
              "       ...,\n",
              "       [ 0.94559076,  0.67753415,  0.71309436, ...,  0.80912403,\n",
              "         0.28518191,  0.45785287],\n",
              "       [-0.73893522, -0.60736365, -0.57230732, ...,  0.12145297,\n",
              "        -0.02916005,  0.59427032],\n",
              "       [ 1.33647525,  0.81922609,  0.56967014, ...,  0.29337074,\n",
              "         0.3749939 ,  0.5260616 ]])"
            ]
          },
          "metadata": {},
          "execution_count": 43
        }
      ]
    },
    {
      "cell_type": "code",
      "source": [
        "deep_net_pred = nn.predict(X_test_scaled)\n",
        "deep_net_pred[:10]"
      ],
      "metadata": {
        "colab": {
          "base_uri": "https://localhost:8080/"
        },
        "id": "xOEqBDpm-aM8",
        "outputId": "b20491d6-14d6-4a6c-ce71-089647f5d8c0"
      },
      "id": "xOEqBDpm-aM8",
      "execution_count": 46,
      "outputs": [
        {
          "output_type": "execute_result",
          "data": {
            "text/plain": [
              "array([[ 0.40592533],\n",
              "       [ 0.47383285],\n",
              "       [ 0.02556934],\n",
              "       [ 0.05323738],\n",
              "       [ 1.118205  ],\n",
              "       [ 0.0731591 ],\n",
              "       [ 0.34186894],\n",
              "       [ 0.14779271],\n",
              "       [ 0.11086909],\n",
              "       [-0.01226139]], dtype=float32)"
            ]
          },
          "metadata": {},
          "execution_count": 46
        }
      ]
    },
    {
      "cell_type": "code",
      "source": [
        "deep_net_pred = nn.predict(X_test_scaled)\n",
        "from itertools import chain\n",
        "pred = list(chain(*deep_net_pred))\n",
        "import numpy as np\n",
        "array = np.asarray(pred)\n",
        "array"
      ],
      "metadata": {
        "id": "BPUWBpOjrD7m"
      },
      "id": "BPUWBpOjrD7m",
      "execution_count": 37,
      "outputs": []
    },
    {
      "cell_type": "code",
      "execution_count": 38,
      "id": "3c4a42d7-3724-44a6-87d2-b027e94acb94",
      "metadata": {
        "id": "3c4a42d7-3724-44a6-87d2-b027e94acb94",
        "colab": {
          "base_uri": "https://localhost:8080/",
          "height": 283
        },
        "outputId": "d24e9517-adf4-4877-c168-acacbfbda0a9"
      },
      "outputs": [
        {
          "output_type": "execute_result",
          "data": {
            "text/plain": [
              "<matplotlib.axes._subplots.AxesSubplot at 0x7fdbf69947d0>"
            ]
          },
          "metadata": {},
          "execution_count": 38
        },
        {
          "output_type": "display_data",
          "data": {
            "text/plain": [
              "<Figure size 432x288 with 1 Axes>"
            ],
            "image/png": "[encoded data removed]"
          },
          "metadata": {
            "needs_background": "light"
          }
        }
      ],
      "source": [
        "# Plot the loss rate\n",
        "loss_df = pd.DataFrame(deep_net_model.history['loss'])\n",
        "loss_df.plot()"
      ]
    },
    {
      "cell_type": "code",
      "execution_count": 39,
      "id": "76ff9ba1-63fa-4cc4-9f60-8226f72bb761",
      "metadata": {
        "id": "76ff9ba1-63fa-4cc4-9f60-8226f72bb761",
        "colab": {
          "base_uri": "https://localhost:8080/",
          "height": 283
        },
        "outputId": "0d4e7265-8dcf-47b1-ddf0-e75f10fac3b0"
      },
      "outputs": [
        {
          "output_type": "execute_result",
          "data": {
            "text/plain": [
              "<matplotlib.axes._subplots.AxesSubplot at 0x7fdbf9f58210>"
            ]
          },
          "metadata": {},
          "execution_count": 39
        },
        {
          "output_type": "display_data",
          "data": {
            "text/plain": [
              "<Figure size 432x288 with 1 Axes>"
            ],
            "image/png": "[encoded data removed]"
          },
          "metadata": {
            "needs_background": "light"
          }
        }
      ],
      "source": [
        "# Plot the accuracy score\n",
        "accuracy_df = pd.DataFrame(deep_net_model.history['accuracy'])\n",
        "accuracy_df.plot()"
      ]
    },
    {
      "cell_type": "markdown",
      "id": "e80e54ca-0872-4132-864d-707292ca63b4",
      "metadata": {
        "id": "e80e54ca-0872-4132-864d-707292ca63b4"
      },
      "source": [
        "---\n",
        "## Using validation split method\n"
      ]
    },
    {
      "cell_type": "code",
      "execution_count": null,
      "id": "008dc2bf-2274-462a-8ae8-beac69953753",
      "metadata": {
        "id": "008dc2bf-2274-462a-8ae8-beac69953753"
      },
      "outputs": [],
      "source": [
        "# Initiate the scaler\n",
        "X_scaler = StandardScaler()\n",
        "\n",
        "# Fit the scaler to the features dataset\n",
        "X_scaler = X_scaler.fit(X)\n",
        "X_scaled = X_scaler.transform(X)"
      ]
    },
    {
      "cell_type": "code",
      "execution_count": null,
      "id": "9c4cef61-c9c4-4470-82dd-3c96daecb3e8",
      "metadata": {
        "tags": [],
        "id": "9c4cef61-c9c4-4470-82dd-3c96daecb3e8"
      },
      "outputs": [],
      "source": [
        "# Initiate the model\n",
        "nn = Sequential()\n",
        "# Compile the model\n",
        "nn.compile(loss=\"mean_squared_error\", optimizer=\"adam\", metrics=[\"accuracy\"])\n",
        "# Fit the model\n",
        "history = nn.fit(X, y, validation_split=0.33, epochs=150, batch_size=30, verbose=0)\n",
        "# list all data in history\n",
        "print(history.history.keys())\n",
        "[loss, accuracy] = nn.evaluate(X, y)\n",
        "print(\"Train Data : Loss = {}, accuracy = {}\".format(loss, accuracy))\n",
        "[val_loss, val_accuracy] = nn.evaluate(X, y)\n",
        "print(\"Test Data : Loss = {}, accuracy = {}\".format(val_loss, val_accuracy))\n",
        "# summarize history for accuracy\n",
        "plt.plot(history.history['accuracy'])\n",
        "plt.plot(history.history['val_accuracy'])\n",
        "plt.title('model accuracy')\n",
        "plt.ylabel('accuracy')\n",
        "plt.xlabel('epoch')\n",
        "plt.legend(['train', 'test'], loc='upper left')\n",
        "plt.show()\n",
        "# summarize history for loss\n",
        "plt.plot(history.history['loss'])\n",
        "plt.plot(history.history['val_loss'])\n",
        "plt.title('model loss')\n",
        "plt.ylabel('loss')\n",
        "plt.xlabel('epoch')\n",
        "plt.legend(['train', 'test'], loc='upper left')\n",
        "plt.show()"
      ]
    },
    {
      "cell_type": "markdown",
      "metadata": {
        "id": "kGuq4xwJF3t6"
      },
      "source": [
        "---\n",
        "## Using LazyPredict\n"
      ],
      "id": "kGuq4xwJF3t6"
    },
    {
      "cell_type": "code",
      "source": [
        "# Install LazyPRedict\n",
        "!pip install lazypredict"
      ],
      "metadata": {
        "id": "JPHj8XLyF8La"
      },
      "id": "JPHj8XLyF8La",
      "execution_count": null,
      "outputs": []
    },
    {
      "cell_type": "markdown",
      "source": [
        "# After installation, restart Runtime and proceed to the next cell"
      ],
      "metadata": {
        "id": "POADaCC2B1Y_"
      },
      "id": "POADaCC2B1Y_"
    },
    {
      "cell_type": "code",
      "source": [
        "import lazypredict\n",
        "from lazypredict.Supervised import LazyClassifier"
      ],
      "metadata": {
        "id": "C6aLq2BEGCm3",
        "colab": {
          "base_uri": "https://localhost:8080/"
        },
        "outputId": "cdb38284-1e68-4892-e85f-44af5997f7b6"
      },
      "id": "C6aLq2BEGCm3",
      "execution_count": 1,
      "outputs": [
        {
          "output_type": "stream",
          "name": "stderr",
          "text": [
            "/usr/local/lib/python3.7/dist-packages/sklearn/utils/deprecation.py:143: FutureWarning: The sklearn.utils.testing module is  deprecated in version 0.22 and will be removed in version 0.24. The corresponding classes / functions should instead be imported from sklearn.utils. Anything that cannot be imported from sklearn.utils is now part of the private API.\n",
            "  warnings.warn(message, FutureWarning)\n"
          ]
        }
      ]
    },
    {
      "cell_type": "code",
      "source": [
        "import pandas as pd\n",
        "from pathlib import Path\n",
        "from sklearn.preprocessing import StandardScaler\n",
        "from sklearn.model_selection import train_test_split\n",
        "\n",
        "# Upload cc_default.csv to Colab\n",
        "from google.colab import files\n",
        "csv_file = files.upload()\n",
        "# Load data\n",
        "df = pd.read_csv(Path('2017-2021_Historical_Players_Data.csv'))\n",
        "# Drop irrelevant columns\n",
        "df = df.drop(columns = ['DraftYr','Pk','Tm','Player','College','Contract Worth','Yrs','playerurl','DraftYear','Pos']).fillna(0)\n",
        "# Create a column to hold Group data\n",
        "df.loc[:,'Group'] = 0\n",
        "# Create groups based on ranks\n",
        "for index, row in df.iterrows():\n",
        "    if row['Rk'] <= 15:\n",
        "        df.at[index,'Group'] = 1\n",
        "    else:\n",
        "        df.at[index,'Group'] = 0\n",
        "\n",
        "\n",
        "# Set Feature and Target\n",
        "X = df.drop(columns=['Rk','Group'])\n",
        "y = df['Group']\n",
        "# Re-split the train, test dataset\n",
        "X_train, X_test, y_train, y_test = train_test_split(X, y,test_size=.5,random_state =123)\n",
        "# Initiate the scaler\n",
        "X_scaler = StandardScaler()\n",
        "# Fit the scaler to the features dataset\n",
        "X_scaler = X_scaler.fit(X)\n",
        "# Scale train, test datasets\n",
        "X_train_scaled = X_scaler.transform(X_train)\n",
        "X_test_scaled = X_scaler.transform(X_test)\n",
        "\n",
        "\n",
        "# Train the new datasets\n",
        "lc = LazyClassifier(verbose=0,ignore_warnings=True, custom_metric=None)\n",
        "lc_predictions = lc.fit(X_train_scaled, X_test_scaled, y_train, y_test)\n",
        "\n",
        "# Print the model\n",
        "print(lc_predictions)"
      ],
      "metadata": {
        "id": "ysahCx3eGG20",
        "colab": {
          "resources": {
            "http://localhost:8080/nbextensions/google.colab/files.js": {
              "data": "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",
              "ok": true,
              "headers": [
                [
                  "content-type",
                  "application/javascript"
                ]
              ],
              "status": 200,
              "status_text": ""
            }
          },
          "base_uri": "https://localhost:8080/",
          "height": 1000
        },
        "outputId": "4877ecbb-f90e-4cc7-f783-8602f3c10f77"
      },
      "id": "ysahCx3eGG20",
      "execution_count": 5,
      "outputs": [
        {
          "output_type": "display_data",
          "data": {
            "text/plain": [
              "<IPython.core.display.HTML object>"
            ],
            "text/html": [
              "\n",
              "     <input type=\"file\" id=\"files-e596d075-0d69-4eaf-a721-b0a30cd42d68\" name=\"files[]\" multiple disabled\n",
              "        style=\"border:none\" />\n",
              "     <output id=\"result-e596d075-0d69-4eaf-a721-b0a30cd42d68\">\n",
              "      Upload widget is only available when the cell has been executed in the\n",
              "      current browser session. Please rerun this cell to enable.\n",
              "      </output>\n",
              "      <script src=\"/nbextensions/google.colab/files.js\"></script> "
            ]
          },
          "metadata": {}
        },
        {
          "output_type": "stream",
          "name": "stdout",
          "text": [
            "Saving 2017-2021_Historical_Players_Data.csv to 2017-2021_Historical_Players_Data (3).csv\n"
          ]
        },
        {
          "output_type": "stream",
          "name": "stderr",
          "text": [
            "100%|██████████| 29/29 [00:02<00:00, 10.36it/s]"
          ]
        },
        {
          "output_type": "stream",
          "name": "stdout",
          "text": [
            "(                               Accuracy  Balanced Accuracy  ROC AUC  F1 Score  \\\n",
            "Model                                                                           \n",
            "PassiveAggressiveClassifier        0.78               0.75     0.75      0.79   \n",
            "LinearDiscriminantAnalysis         0.82               0.74     0.74      0.82   \n",
            "QuadraticDiscriminantAnalysis      0.79               0.74     0.74      0.79   \n",
            "LogisticRegression                 0.82               0.73     0.73      0.81   \n",
            "LinearSVC                          0.82               0.73     0.73      0.81   \n",
            "RidgeClassifierCV                  0.82               0.73     0.73      0.81   \n",
            "GaussianNB                         0.78               0.73     0.73      0.79   \n",
            "RidgeClassifier                    0.82               0.73     0.73      0.81   \n",
            "LGBMClassifier                     0.81               0.72     0.72      0.80   \n",
            "NearestCentroid                    0.76               0.72     0.72      0.77   \n",
            "CalibratedClassifierCV             0.82               0.72     0.72      0.81   \n",
            "XGBClassifier                      0.80               0.71     0.71      0.80   \n",
            "RandomForestClassifier             0.81               0.71     0.71      0.80   \n",
            "Perceptron                         0.75               0.71     0.71      0.76   \n",
            "ExtraTreesClassifier               0.80               0.70     0.70      0.79   \n",
            "BernoulliNB                        0.74               0.70     0.70      0.75   \n",
            "SGDClassifier                      0.79               0.70     0.70      0.78   \n",
            "SVC                                0.81               0.70     0.70      0.80   \n",
            "BaggingClassifier                  0.80               0.69     0.69      0.79   \n",
            "DecisionTreeClassifier             0.76               0.69     0.69      0.76   \n",
            "AdaBoostClassifier                 0.80               0.69     0.69      0.79   \n",
            "KNeighborsClassifier               0.78               0.68     0.68      0.77   \n",
            "NuSVC                              0.80               0.67     0.67      0.78   \n",
            "ExtraTreeClassifier                0.73               0.66     0.66      0.73   \n",
            "LabelSpreading                     0.74               0.66     0.66      0.74   \n",
            "LabelPropagation                   0.74               0.66     0.66      0.74   \n",
            "DummyClassifier                    0.62               0.50     0.50      0.62   \n",
            "\n",
            "                               Time Taken  \n",
            "Model                                      \n",
            "PassiveAggressiveClassifier          0.02  \n",
            "LinearDiscriminantAnalysis           0.04  \n",
            "QuadraticDiscriminantAnalysis        0.02  \n",
            "LogisticRegression                   0.07  \n",
            "LinearSVC                            0.13  \n",
            "RidgeClassifierCV                    0.03  \n",
            "GaussianNB                           0.02  \n",
            "RidgeClassifier                      0.03  \n",
            "LGBMClassifier                       0.21  \n",
            "NearestCentroid                      0.03  \n",
            "CalibratedClassifierCV               0.30  \n",
            "XGBClassifier                        0.24  \n",
            "RandomForestClassifier               0.40  \n",
            "Perceptron                           0.02  \n",
            "ExtraTreesClassifier                 0.25  \n",
            "BernoulliNB                          0.02  \n",
            "SGDClassifier                        0.03  \n",
            "SVC                                  0.09  \n",
            "BaggingClassifier                    0.10  \n",
            "DecisionTreeClassifier               0.04  \n",
            "AdaBoostClassifier                   0.19  \n",
            "KNeighborsClassifier                 0.06  \n",
            "NuSVC                                0.09  \n",
            "ExtraTreeClassifier                  0.03  \n",
            "LabelSpreading                       0.14  \n",
            "LabelPropagation                     0.11  \n",
            "DummyClassifier                      0.02  ,                                Accuracy  Balanced Accuracy  ROC AUC  F1 Score  \\\n",
            "Model                                                                           \n",
            "PassiveAggressiveClassifier        0.78               0.75     0.75      0.79   \n",
            "LinearDiscriminantAnalysis         0.82               0.74     0.74      0.82   \n",
            "QuadraticDiscriminantAnalysis      0.79               0.74     0.74      0.79   \n",
            "LogisticRegression                 0.82               0.73     0.73      0.81   \n",
            "LinearSVC                          0.82               0.73     0.73      0.81   \n",
            "RidgeClassifierCV                  0.82               0.73     0.73      0.81   \n",
            "GaussianNB                         0.78               0.73     0.73      0.79   \n",
            "RidgeClassifier                    0.82               0.73     0.73      0.81   \n",
            "LGBMClassifier                     0.81               0.72     0.72      0.80   \n",
            "NearestCentroid                    0.76               0.72     0.72      0.77   \n",
            "CalibratedClassifierCV             0.82               0.72     0.72      0.81   \n",
            "XGBClassifier                      0.80               0.71     0.71      0.80   \n",
            "RandomForestClassifier             0.81               0.71     0.71      0.80   \n",
            "Perceptron                         0.75               0.71     0.71      0.76   \n",
            "ExtraTreesClassifier               0.80               0.70     0.70      0.79   \n",
            "BernoulliNB                        0.74               0.70     0.70      0.75   \n",
            "SGDClassifier                      0.79               0.70     0.70      0.78   \n",
            "SVC                                0.81               0.70     0.70      0.80   \n",
            "BaggingClassifier                  0.80               0.69     0.69      0.79   \n",
            "DecisionTreeClassifier             0.76               0.69     0.69      0.76   \n",
            "AdaBoostClassifier                 0.80               0.69     0.69      0.79   \n",
            "KNeighborsClassifier               0.78               0.68     0.68      0.77   \n",
            "NuSVC                              0.80               0.67     0.67      0.78   \n",
            "ExtraTreeClassifier                0.73               0.66     0.66      0.73   \n",
            "LabelSpreading                     0.74               0.66     0.66      0.74   \n",
            "LabelPropagation                   0.74               0.66     0.66      0.74   \n",
            "DummyClassifier                    0.62               0.50     0.50      0.62   \n",
            "\n",
            "                               Time Taken  \n",
            "Model                                      \n",
            "PassiveAggressiveClassifier          0.02  \n",
            "LinearDiscriminantAnalysis           0.04  \n",
            "QuadraticDiscriminantAnalysis        0.02  \n",
            "LogisticRegression                   0.07  \n",
            "LinearSVC                            0.13  \n",
            "RidgeClassifierCV                    0.03  \n",
            "GaussianNB                           0.02  \n",
            "RidgeClassifier                      0.03  \n",
            "LGBMClassifier                       0.21  \n",
            "NearestCentroid                      0.03  \n",
            "CalibratedClassifierCV               0.30  \n",
            "XGBClassifier                        0.24  \n",
            "RandomForestClassifier               0.40  \n",
            "Perceptron                           0.02  \n",
            "ExtraTreesClassifier                 0.25  \n",
            "BernoulliNB                          0.02  \n",
            "SGDClassifier                        0.03  \n",
            "SVC                                  0.09  \n",
            "BaggingClassifier                    0.10  \n",
            "DecisionTreeClassifier               0.04  \n",
            "AdaBoostClassifier                   0.19  \n",
            "KNeighborsClassifier                 0.06  \n",
            "NuSVC                                0.09  \n",
            "ExtraTreeClassifier                  0.03  \n",
            "LabelSpreading                       0.14  \n",
            "LabelPropagation                     0.11  \n",
            "DummyClassifier                      0.02  )\n"
          ]
        },
        {
          "output_type": "stream",
          "name": "stderr",
          "text": [
            "\n"
          ]
        }
      ]
    },
    {
      "cell_type": "code",
      "source": [
        ""
      ],
      "metadata": {
        "id": "dBIYJEc1dXpN"
      },
      "id": "dBIYJEc1dXpN",
      "execution_count": null,
      "outputs": []
    },
    {
      "cell_type": "code",
      "execution_count": null,
      "metadata": {
        "id": "LViBzQXxAHAd"
      },
      "outputs": [],
      "source": [
        ""
      ],
      "id": "LViBzQXxAHAd"
    },
    {
      "cell_type": "code",
      "execution_count": null,
      "metadata": {
        "colab": {
          "base_uri": "https://localhost:8080/"
        },
        "outputId": "1b4c2702-6a41-4a59-df1f-473aba1b610e",
        "id": "vML2cjDVAHAm"
      },
      "outputs": [
        {
          "output_type": "execute_result",
          "data": {
            "text/plain": [
              "0    1388\n",
              "1     480\n",
              "Name: Group, dtype: int64"
            ]
          },
          "metadata": {},
          "execution_count": 9
        }
      ],
      "source": [
        "y.value_counts()"
      ],
      "id": "vML2cjDVAHAm"
    },
    {
      "cell_type": "code",
      "execution_count": null,
      "metadata": {
        "id": "a7KsWIIgAHAn"
      },
      "outputs": [],
      "source": [
        "# Split dataset into train, test datasets\n",
        "X_train, X_test, y_train, y_test = train_test_split(X,y,random_state = 1)"
      ],
      "id": "a7KsWIIgAHAn"
    },
    {
      "cell_type": "code",
      "execution_count": null,
      "metadata": {
        "id": "Yzuo8n97AHAn"
      },
      "outputs": [],
      "source": [
        ""
      ],
      "id": "Yzuo8n97AHAn"
    },
    {
      "cell_type": "code",
      "execution_count": null,
      "metadata": {
        "id": "SI5qeC_YAHAn"
      },
      "outputs": [],
      "source": [
        ""
      ],
      "id": "SI5qeC_YAHAn"
    }
  ],
  "metadata": {
    "kernelspec": {
      "display_name": "dev",
      "language": "python",
      "name": "dev"
    },
    "language_info": {
      "codemirror_mode": {
        "name": "ipython",
        "version": 3
      },
      "file_extension": ".py",
      "mimetype": "text/x-python",
      "name": "python",
      "nbconvert_exporter": "python",
      "pygments_lexer": "ipython3",
      "version": "3.9.12"
    },
    "colab": {
      "name": "FanaticFi_machine_learning.ipynb",
      "provenance": [],
      "collapsed_sections": [],
      "include_colab_link": true
    }
  },
  "nbformat": 4,
  "nbformat_minor": 5
}